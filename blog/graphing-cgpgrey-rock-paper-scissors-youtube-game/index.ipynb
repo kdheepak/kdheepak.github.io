{
  "cells": [
    {
      "cell_type": "raw",
      "metadata": {},
      "source": [
        "---\n",
        "title: Graphing CGP Grey's Rock-Paper-Scissors YouTube Game\n",
        "categories:\n",
        "  - analysis\n",
        "  - python\n",
        "  - julia\n",
        "keywords: 'python, julia, cgpgrey rock paper scissors youtube game'\n",
        "date: '2023-10-22T22:21:19-0400'\n",
        "---"
      ]
    },
    {
      "cell_type": "code",
      "metadata": {},
      "source": [
        "#| include: false\n",
        "using Pkg\n",
        "Pkg.activate(@__DIR__)\n",
        "Pkg.instantiate()\n",
        "cd(@__DIR__)\n",
        "# Pkg.add(\"PyCall\")\n",
        "# Pkg.add(\"Conda\")\n",
        "# Pkg.add(\"Graphs\")\n",
        "# Pkg.add(\"CairoMakie\")\n",
        "# Pkg.add(\"GraphMakie\")\n",
        "# Pkg.add(\"JSON3\")\n",
        "# Pkg.add(\"ColorSchemes\")\n",
        "# Conda.pip(\"install\", \"google-api-python-client\")"
      ],
      "execution_count": null,
      "outputs": []
    },
    {
      "cell_type": "markdown",
      "metadata": {},
      "source": [
        "If you haven't already checked it out, go watch CGPGrey's Rock-Paper-Scissors YouTube Game.\n",
        "\n",
        "{{< video https://www.youtube.com/watch?v=PmWQmZXYd74 >}}\n",
        "\n",
        "In this post, I'm going to explore what all the possible paths available are.\n",
        "Let's import some packages first."
      ]
    },
    {
      "cell_type": "code",
      "metadata": {},
      "source": [
        "#| output: false\n",
        "using PyCall\n",
        "using Conda\n",
        "using Graphs\n",
        "using WGLMakie\n",
        "using CairoMakie\n",
        "using GraphMakie\n",
        "using GraphMakie.NetworkLayout\n",
        "using JSON3\n",
        "using JSServe, Markdown\n",
        "using ColorSchemes\n",
        "Page(exportable=true, offline=true)\n",
        "WGLMakie.activate!()\n",
        "Makie.inline!(true)"
      ],
      "execution_count": null,
      "outputs": []
    },
    {
      "cell_type": "markdown",
      "metadata": {},
      "source": [
        "Fortunately for us, CGPGrey was kind enough to put links to the choices in the\n",
        "description of (_almost_) every video.\n",
        "We can use Google's YouTube API to get the video descriptions and get all the YouTube\n",
        "links in the description.\n",
        "\n",
        "We are going to use the `google-api-python-client` in Python from Julia."
      ]
    },
    {
      "cell_type": "code",
      "metadata": {},
      "source": [
        "#| code-fold: true\n",
        "#| output: false\n",
        "API_KEY = ENV[\"YOUTUBE_API_KEY\"]; # Get API_KEY from google console\n",
        "build = pyimport(\"googleapiclient.discovery\").build # from googleapiclient.discovery import build\n",
        "youtube = build(\"youtube\", \"v3\", developerKey=API_KEY) # call build function in Python"
      ],
      "execution_count": null,
      "outputs": []
    },
    {
      "cell_type": "markdown",
      "metadata": {},
      "source": [
        "Now we can get the description of every video, extract the metadata from it into a `Dict` of `Dict`s, build a graph:"
      ]
    },
    {
      "cell_type": "code",
      "metadata": {},
      "source": [
        "#| code-fold: true\n",
        "#| output: false\n",
        "youtubeid(url) = string(first(split(replace(url, \"https://www.youtube.com/watch?v=\" => \"\"), \"&t\")))\n",
        "\n",
        "function metadata(url)\n",
        "  id = youtubeid(url)\n",
        "  request = youtube.videos().list(part=[\"snippet\", \"statistics\"], id=id)\n",
        "  response = request.execute()\n",
        "  description = response[\"items\"][1][\"snippet\"][\"description\"]\n",
        "  title = response[\"items\"][1][\"snippet\"][\"title\"]\n",
        "  views = parse(Int, response[\"items\"][1][\"statistics\"][\"viewCount\"])\n",
        "  if url == \"https://www.youtube.com/watch?v=CPb168NUwGc\"\n",
        "    # Special case for https://www.youtube.com/watch?v=CPb168NUwGc (description for this is not standard)\n",
        "    return (; description=\"\"\"\n",
        "WIN: https://www.youtube.com/watch?v=RVLUX6BUEJI\n",
        "LOSE / DRAW: https://www.youtube.com/watch?v=jDQqv3zkbIQ\n",
        "\n",
        "🌐 Website: https://www.cgpgrey.com\n",
        "💖 Patreon: https://www.patreon.com/cgpgrey\n",
        "📒 Cortex: http://www.cortexbrand.com\n",
        "\n",
        "⛔️ Ah01F ✅\n",
        "\"\"\", title=\"🔴\", views)\n",
        "  end\n",
        "  (; description, title, views)\n",
        "end\n",
        "\n",
        "function links(url; visited=Dict(), duplicate_links=false)\n",
        "  m = metadata(url)\n",
        "  r = Dict(\n",
        "    :id => youtubeid(url),\n",
        "    :code => last(split(strip(m.description), \"\\n\")), # last line is a special code\n",
        "    :url => url,\n",
        "    :links => [],\n",
        "    :children => [],\n",
        "    :title => m.title,\n",
        "    :views => m.views,\n",
        "  )\n",
        "  for line in split(m.description, \"\\n\")\n",
        "    if occursin(\"https://www.youtube.com/watch?v=\", line)\n",
        "      _status, video = split(line, \":\", limit=2)\n",
        "      video = strip(video)\n",
        "      push!(r[:links], Dict(:status => string(_status), :url => string(video)))\n",
        "    end\n",
        "  end\n",
        "\n",
        "  for link in r[:links]\n",
        "    url = link[:url]\n",
        "    if !(url in keys(visited))\n",
        "      visited[url] = Dict()\n",
        "      s = links(url; visited, duplicate_links)\n",
        "      push!(r[:children], s)\n",
        "      visited[url] = s\n",
        "    else\n",
        "      duplicate_links && push!(r[:children], visited[url])\n",
        "    end\n",
        "  end\n",
        "  return r\n",
        "end\n",
        "\n",
        "function cached_links(url; duplicate_links)\n",
        "  bfile = \"\"\"$(youtubeid(url))-$(duplicate_links ? \"dup-links\" : \"no-dup-links\").json\"\"\"\n",
        "  if isfile(bfile)\n",
        "    return JSON3.read(bfile)\n",
        "  end\n",
        "  r = links(url; duplicate_links)\n",
        "  open(bfile, \"w\") do f\n",
        "    JSON3.write(f, r)\n",
        "  end\n",
        "  r\n",
        "end\n",
        "\n",
        "function _clean_titles(str)\n",
        "  t = join([c for c in str if isascii(c)])\n",
        "  t = strip(t)\n",
        "  if occursin(\"Cortex\", t)\n",
        "    return \"\"\n",
        "  end\n",
        "  string(t)\n",
        "end\n",
        "\n",
        "\n",
        "function _node_builder(nodes, d)\n",
        "  for c in d[:children]\n",
        "    push!(nodes, (; id=c[:id], title=_clean_titles(c[:code]), url=c[:url], views=c[:views]))\n",
        "    _node_builder(nodes, c)\n",
        "  end\n",
        "end\n",
        "\n",
        "function _graph_builder(G, d, ids)\n",
        "  from = d[:id]\n",
        "  for c in d[:children]\n",
        "    to = c[:id]\n",
        "    add_edge!(G, findfirst(isequal(from), ids), findfirst(isequal(to), ids))\n",
        "    _graph_builder(G, c, ids)\n",
        "  end\n",
        "end\n",
        "\n",
        "function get_nodes(data)\n",
        "  nodes = [(; id=data[:id], title=_clean_titles(data[:title]), url=data[:url], views=data[:views])]\n",
        "  _node_builder(nodes, data)\n",
        "  nodes = unique(nodes)\n",
        "  ids = [n.id for n in nodes]\n",
        "  titles = [n.title for n in nodes]\n",
        "  urls = [n.url for n in nodes]\n",
        "  (; ids, titles, urls, nodes)\n",
        "end\n",
        "\n",
        "function grapher(data, ids)\n",
        "  G = SimpleDiGraph(length(ids))\n",
        "  _graph_builder(G, data, ids)\n",
        "  G\n",
        "end"
      ],
      "execution_count": null,
      "outputs": []
    },
    {
      "cell_type": "code",
      "metadata": {},
      "source": [
        "#| code-fold: false\n",
        "data = cached_links(\"https://www.youtube.com/watch?v=PmWQmZXYd74\", duplicate_links=true)\n",
        "(; ids, titles, urls, nodes) = get_nodes(data)\n",
        "G = grapher(data, ids)"
      ],
      "execution_count": null,
      "outputs": []
    },
    {
      "cell_type": "code",
      "metadata": {},
      "source": [
        "#| echo: false\n",
        "using Markdown\n",
        "display(md\"There's **$(nv(G))** videos in this graph with **$(ne(G))** connections between the videos.\")"
      ],
      "execution_count": null,
      "outputs": []
    },
    {
      "cell_type": "markdown",
      "metadata": {},
      "source": [
        "Here's what that graph visualized looks like:"
      ]
    },
    {
      "cell_type": "code",
      "metadata": {},
      "source": [
        "#| code-fold: true\n",
        "WGLMakie.activate!()\n",
        "set_theme!(; resolution=(1600, 900), fonts=(; title=\"CMU Serif\"))\n",
        "views = [node[:views] for node in nodes]\n",
        "min_val, max_val = extrema(views[2:end])\n",
        "normed_views = (views .- min_val) ./ (max_val - min_val)\n",
        "colors = cgrad(:viridis, scale=log)\n",
        "node_colors = ColorSchemes.get.(Ref(colors), normed_views)\n",
        "\n",
        "f, ax, p = graphplot(G;\n",
        "  nlabels=titles,\n",
        "  nlabels_fontsize=10,\n",
        "  node_color=node_colors,\n",
        "  node_size=20,\n",
        "  arrow_size=8,\n",
        "  layout=Stress(dim=3)\n",
        ")\n",
        "Colorbar(f[1, 2], limits=extrema(views), colormap=colors, label=\"YouTube Views\")\n",
        "# hidedecorations!(ax); hidespines!(ax);\n",
        "# offsets = [Point2f(0.1, -0.5) for _ in p[:node_pos][]]\n",
        "# offsets[1] = Point2f(0.1, 0.5)\n",
        "# p.nlabels_offset[] = offsets\n",
        "# autolimits!(ax)\n",
        "# ax.title = \"CGP Grey's Rock-Paper-Scissors YouTube Game\"\n",
        "f"
      ],
      "execution_count": null,
      "outputs": []
    },
    {
      "cell_type": "markdown",
      "metadata": {},
      "source": [
        "You can click and drag to rotate and use the mouse wheel to zoom in the above plot.\n",
        "\n",
        "This graph contains a lot of duplicate links to the same video.\n",
        "For example when losing after different number of wins, you might end up at the same video.\n",
        "Let's remove those connections so we can visualize it as a tree."
      ]
    },
    {
      "cell_type": "code",
      "metadata": {},
      "source": [
        "#| code-fold: true\n",
        "data = cached_links(\"https://www.youtube.com/watch?v=PmWQmZXYd74\", duplicate_links=false)\n",
        "(; ids, titles, urls, nodes) = get_nodes(data)\n",
        "G = grapher(data, ids)"
      ],
      "execution_count": null,
      "outputs": []
    },
    {
      "cell_type": "code",
      "metadata": {},
      "source": [
        "#| echo: false\n",
        "using Markdown\n",
        "display(md\"There's **$(nv(G))** videos in this graph with **$(ne(G))** connections between the videos.\")"
      ],
      "execution_count": null,
      "outputs": []
    },
    {
      "cell_type": "markdown",
      "metadata": {},
      "source": [
        "Here's what the graph now visualized looks like:"
      ]
    },
    {
      "cell_type": "code",
      "metadata": {},
      "source": [
        "#| code-fold: true\n",
        "CairoMakie.activate!()\n",
        "set_theme!(; resolution=(1600, 900), fonts=(; title=\"CMU Serif\"))\n",
        "\n",
        "views = [node[:views] for node in nodes]\n",
        "min_val, max_val = extrema(views[2:end])\n",
        "normed_views = (views .- min_val) ./ (max_val - min_val)\n",
        "colors = cgrad(:viridis, scale=log)\n",
        "node_colors = ColorSchemes.get.(Ref(colors), normed_views)\n",
        "\n",
        "# If there's a space it is probably a unique name\n",
        "node_size = [length(split(strip(t))) > 1 ? 25 : 15 for t in titles]\n",
        "\n",
        "f, ax, p = graphplot(G;\n",
        "  nlabels=titles,\n",
        "  nlabels_fontsize=15,\n",
        "  node_color=node_colors,\n",
        "  node_size,\n",
        "  arrow_size=8,\n",
        "  arrow_shift=:end,\n",
        "  layout=Buchheim()\n",
        ")\n",
        "hidedecorations!(ax);\n",
        "hidespines!(ax);\n",
        "offsets = [Point2f(0.1, -1.5) for _ in p[:node_pos][]]\n",
        "offsets[1] = Point2f(0.1, 0.5)\n",
        "p.nlabels_offset[] = offsets\n",
        "autolimits!(ax)\n",
        "ax.title = \"CGP Grey's Rock-Paper-Scissors YouTube Game\"\n",
        "Colorbar(f[1, 2], limits=extrema(views), colormap=colors, label=\"YouTube Views\")\n",
        "f"
      ],
      "execution_count": null,
      "outputs": []
    },
    {
      "cell_type": "markdown",
      "metadata": {},
      "source": [
        "There we have it; a flowchart of the Rock-Paper-Scissors game.\n",
        "\n",
        "Here's a table that contains the sorted view count as of Oct 25th, 2023."
      ]
    },
    {
      "cell_type": "code",
      "metadata": {},
      "source": [
        "#| code-fold: true\n",
        "import DataFrames as DF\n",
        "\n",
        "# Create an empty DataFrame\n",
        "df = DF.DataFrame(Title=String[], Views=Int[])\n",
        "\n",
        "for idx in sortperm(views, rev=true)\n",
        "  push!(df, (; Title=titles[idx], Views=views[idx]))\n",
        "end\n",
        "\n",
        "# Display the DataFrame\n",
        "display(df)"
      ],
      "execution_count": null,
      "outputs": []
    },
    {
      "cell_type": "markdown",
      "metadata": {},
      "source": [
        "If you liked this blog post, consider subscribing to\n",
        "[CGP Grey's Patreon](https://www.patreon.com/cgpgrey)\n",
        "so that they can make more awesome content like this.\n",
        "\n",
        "If you are interested in viewing all the videos, you can check them out below:"
      ]
    },
    {
      "cell_type": "code",
      "metadata": {},
      "source": [
        "#| code-fold: true\n",
        "using IJulia\n",
        "\n",
        "function display_youtube_video(node)\n",
        "  video_id = split(node.url, \"=\")[end]\n",
        "  title = node.title\n",
        "  if isempty(title)\n",
        "    title = \"---no special code---\"\n",
        "  end\n",
        "  html_code = \"\"\"\n",
        "<details>\n",
        "  <summary>$(title)</summary>\n",
        "  <iframe width=\"560\" height=\"315\" src=\"https://www.youtube.com/embed/$video_id\" frameborder=\"0\" allowfullscreen></iframe>\n",
        "</details>\n",
        "  \"\"\"\n",
        "  display(\"text/html\", HTML(html_code))\n",
        "end\n",
        "\n",
        "@assert unique(nodes) == nodes\n",
        "\n",
        "display_youtube_video.(nodes);"
      ],
      "execution_count": null,
      "outputs": []
    }
  ],
  "metadata": {
    "kernelspec": {
      "display_name": "Julia 1.9.2",
      "language": "julia",
      "name": "julia-1.9"
    },
    "jupytext": {
      "text_representation": {
        "extension": ".qmd",
        "format_name": "quarto",
        "format_version": "1.0",
        "jupytext_version": "1.15.2"
      }
    }
  },
  "nbformat": 4,
  "nbformat_minor": 4
}