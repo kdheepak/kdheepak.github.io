{
  "cells": [
    {
      "cell_type": "raw",
      "metadata": {},
      "source": [
        "---\n",
        "title: Using MermaidJS with Pandoc\n",
        "date: 2022-02-17T22:03:31-06:00\n",
        "categories: [pandoc]\n",
        "keywords: mermaid, js, pandoc, lua, filter\n",
        "summary: Showcase of using integrating MermaidJS\n",
        "---"
      ]
    },
    {
      "cell_type": "markdown",
      "metadata": {},
      "source": [
        "::: callout-note\n",
        "Quarto supports native MermaidJS integration, so I've decided to use that instead. You can use the filter from here: <https://github.com/kdheepak/blog/blob/61d1186313f3eb73ac51968a4bd5d051d822da37/pandoc/render.lua>.\n",
        ":::\n",
        "\n",
        "GitHub recently announced [support for MermaidJS](https://github.blog/2022-02-14-include-diagrams-markdown-files-mermaid/).\n",
        "I thought it would be nice to integrate it as part of my blog using Pandoc lua filters.\n",
        "So the following:\n",
        "\n",
        "````\n",
        "```mermaid\n",
        "sequenceDiagram\n",
        "    participant Alice\n",
        "    participant Bob\n",
        "    Alice->>John: Hello John, how are you?\n",
        "    Note right of John: Rational thoughts <br/>prevail!\n",
        "    John-->>Alice: Great!\n",
        "    John->>Bob: How about you?\n",
        "    Bob-->>John: Jolly good!\n",
        "```\n",
        "````\n",
        "\n",
        "would be rendered as:\n",
        "\n",
        "```{mermaid}\n",
        "%%| echo: false\n",
        "sequenceDiagram\n",
        "    participant Alice\n",
        "    participant Bob\n",
        "    Alice->>John: Hello John, how are you?\n",
        "    Note right of John: Rational thoughts <br/>prevail!\n",
        "    John-->>Alice: Great!\n",
        "    John->>Bob: How about you?\n",
        "    Bob-->>John: Jolly good!\n",
        "```"
      ]
    }
  ],
  "metadata": {
    "kernelspec": {
      "name": "python3",
      "language": "python",
      "display_name": "Python 3 (ipykernel)",
      "path": "/Users/kd/gitrepos/kdheepak.github.io/.pixi/envs/default/share/jupyter/kernels/python3"
    }
  },
  "nbformat": 4,
  "nbformat_minor": 4
}