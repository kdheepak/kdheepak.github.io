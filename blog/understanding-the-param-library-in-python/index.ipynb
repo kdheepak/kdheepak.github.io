{
 "cells": [
  {
   "cell_type": "raw",
   "id": "e58e94f4-0607-4e54-ac3e-4fff7159a9f7",
   "metadata": {},
   "source": [
    "---\n",
    "title: \"Understanding the param library in python\"\n",
    "date: 2025-01-11T21:03:04-0500\n",
    "categories: [python]\n",
    "keywords: python, param, panel, jupyter, holoviews, holoviz\n",
    "summary: This post will build a tiny param library to understand how it works.\n",
    "draft: true\n",
    "---"
   ]
  },
  {
   "cell_type": "code",
   "execution_count": 1,
   "id": "ab6da15d-b96e-4bd6-84c9-2a7e89fa8b4e",
   "metadata": {
    "execution": {
     "iopub.execute_input": "2025-01-09T00:19:05.709169Z",
     "iopub.status.busy": "2025-01-09T00:19:05.708891Z",
     "iopub.status.idle": "2025-01-09T00:19:05.724367Z",
     "shell.execute_reply": "2025-01-09T00:19:05.723948Z",
     "shell.execute_reply.started": "2025-01-09T00:19:05.709145Z"
    }
   },
   "outputs": [],
   "source": [
    "#| code-fold: true\n",
    "################################################################################\n",
    "\n",
    "# autoreload all modules every time before executing the Python code\n",
    "%reload_ext autoreload\n",
    "%autoreload 2\n",
    "\n",
    "################################################################################\n",
    "\n",
    "from IPython.core.interactiveshell import InteractiveShell\n",
    "\n",
    "# `ast_node_interactivity` is a setting that determines how the return value of the last line in a cell is displayed\n",
    "# with `last_expr_or_assign`, the return value of the last expression is displayed unless it is assigned to a variable\n",
    "InteractiveShell.ast_node_interactivity = \"last_expr_or_assign\""
   ]
  },
  {
   "cell_type": "markdown",
   "id": "fae227a6-f743-4304-8336-a0762392fbda",
   "metadata": {},
   "source": [
    "The `holoviz` ecosystem is a powerful set of libraries that can help build interactive dashboards and UIs. The `param` library is a core piece of the `holoviz` ecosystem. Understanding how this library underneath it all works can help you build more interactive, flexible, and reusable code. In this post, we will build a tiny param library to understand how things works."
   ]
  },
  {
   "cell_type": "markdown",
   "id": "29422efa-f814-490a-b3cb-783123ba1124",
   "metadata": {},
   "source": [
    "## Background"
   ]
  },
  {
   "cell_type": "markdown",
   "id": "042945d6-79bd-4f8d-901d-d470643150c7",
   "metadata": {},
   "source": [
    "You may have already heard that in Python, pretty much _everything_ is an object. What this means in practice is that in Python, there exists an allocated piece of memory which represents some data that has an address and a label that points to that address."
   ]
  },
  {
   "cell_type": "code",
   "execution_count": 33,
   "id": "714695b8-3326-431c-808d-9d15196aa0c4",
   "metadata": {
    "execution": {
     "iopub.execute_input": "2025-01-09T00:38:36.915820Z",
     "iopub.status.busy": "2025-01-09T00:38:36.914960Z",
     "iopub.status.idle": "2025-01-09T00:38:36.935916Z",
     "shell.execute_reply": "2025-01-09T00:38:36.935482Z",
     "shell.execute_reply.started": "2025-01-09T00:38:36.915769Z"
    }
   },
   "outputs": [
    {
     "data": {
      "text/plain": [
       "123456789"
      ]
     },
     "execution_count": 33,
     "metadata": {},
     "output_type": "execute_result"
    }
   ],
   "source": [
    "x = 123456789"
   ]
  },
  {
   "cell_type": "code",
   "execution_count": 34,
   "id": "ce5b88bc-3c97-4670-bfd5-6afd451dcf77",
   "metadata": {
    "execution": {
     "iopub.execute_input": "2025-01-09T00:38:37.105044Z",
     "iopub.status.busy": "2025-01-09T00:38:37.104678Z",
     "iopub.status.idle": "2025-01-09T00:38:37.123660Z",
     "shell.execute_reply": "2025-01-09T00:38:37.122987Z",
     "shell.execute_reply.started": "2025-01-09T00:38:37.105020Z"
    }
   },
   "outputs": [
    {
     "data": {
      "text/plain": [
       "int"
      ]
     },
     "execution_count": 34,
     "metadata": {},
     "output_type": "execute_result"
    }
   ],
   "source": [
    "type(x)"
   ]
  },
  {
   "cell_type": "markdown",
   "id": "c646d092-cd1a-45eb-9ae5-393e09433e1c",
   "metadata": {},
   "source": [
    "In this statement above, `x` is a \"label\" that points to the \"memory address of an object\" that contains the value `123456789` and the object that `x` points to is of type `int`. "
   ]
  },
  {
   "cell_type": "markdown",
   "id": "00dd2f4d-6075-4b64-a2d0-4c23d71d2213",
   "metadata": {},
   "source": [
    "```mermaid\n",
    "graph TD\n",
    "    subgraph CPython_Object[\"CPython Object\"]\n",
    "        typePointer[\"Type Pointer\"]\n",
    "        refCount[\"Reference Count\"]\n",
    "        value[\"Value: 123456789\"]\n",
    "    end\n",
    "\n",
    "    x[\"x (Label)\"] --> CPython_Object\n",
    "    CPython_Object --> typePointer\n",
    "    CPython_Object --> refCount\n",
    "    CPython_Object --> value\n",
    "\n",
    "```"
   ]
  },
  {
   "cell_type": "markdown",
   "id": "1554fa12-07e7-41bc-9687-55b8bb307432",
   "metadata": {},
   "source": [
    "In this post you'll see language like \"`x` is a \"label\" to the value `123456789`\", but most commonly, people refer to `x` as a **variable**."
   ]
  },
  {
   "cell_type": "markdown",
   "id": "18d76d3e-a70c-4048-9c9a-86a32c1a5a91",
   "metadata": {},
   "source": [
    "The **address** of a \"label\" or \"variable\" can be found using the `id()` function."
   ]
  },
  {
   "cell_type": "code",
   "execution_count": 35,
   "id": "189a3c26-baf0-4f04-9123-86d0f5b80429",
   "metadata": {
    "execution": {
     "iopub.execute_input": "2025-01-09T00:38:38.132830Z",
     "iopub.status.busy": "2025-01-09T00:38:38.132512Z",
     "iopub.status.idle": "2025-01-09T00:38:38.149022Z",
     "shell.execute_reply": "2025-01-09T00:38:38.148487Z",
     "shell.execute_reply.started": "2025-01-09T00:38:38.132810Z"
    }
   },
   "outputs": [
    {
     "data": {
      "text/plain": [
       "'0x111c50dd0'"
      ]
     },
     "execution_count": 35,
     "metadata": {},
     "output_type": "execute_result"
    }
   ],
   "source": [
    "hex(id(x))"
   ]
  },
  {
   "cell_type": "markdown",
   "id": "bb0de7bd-1c75-420c-a7d0-ab3e59d1873a",
   "metadata": {},
   "source": [
    "Notice that if we create overwrite the `x` label with an assignment to a _new_ object with the same value, the `id()` function will return a different address."
   ]
  },
  {
   "cell_type": "code",
   "execution_count": 36,
   "id": "1e4b2e4e-b301-42e2-9ce4-a43981ca3cda",
   "metadata": {
    "execution": {
     "iopub.execute_input": "2025-01-09T00:38:38.735335Z",
     "iopub.status.busy": "2025-01-09T00:38:38.735016Z",
     "iopub.status.idle": "2025-01-09T00:38:38.757198Z",
     "shell.execute_reply": "2025-01-09T00:38:38.756379Z",
     "shell.execute_reply.started": "2025-01-09T00:38:38.735315Z"
    }
   },
   "outputs": [
    {
     "data": {
      "text/plain": [
       "123456789"
      ]
     },
     "execution_count": 36,
     "metadata": {},
     "output_type": "execute_result"
    }
   ],
   "source": [
    "x = 123456789"
   ]
  },
  {
   "cell_type": "code",
   "execution_count": 37,
   "id": "fe9d9186-36ef-4ff6-8a4e-b65101a6a111",
   "metadata": {
    "execution": {
     "iopub.execute_input": "2025-01-09T00:38:38.982479Z",
     "iopub.status.busy": "2025-01-09T00:38:38.981797Z",
     "iopub.status.idle": "2025-01-09T00:38:39.021390Z",
     "shell.execute_reply": "2025-01-09T00:38:39.020951Z",
     "shell.execute_reply.started": "2025-01-09T00:38:38.982448Z"
    }
   },
   "outputs": [
    {
     "data": {
      "text/plain": [
       "'0x111c50f90'"
      ]
     },
     "execution_count": 37,
     "metadata": {},
     "output_type": "execute_result"
    }
   ],
   "source": [
    "hex(id(x))"
   ]
  },
  {
   "cell_type": "markdown",
   "id": "5a48b667-0f42-4ff9-b177-6672983fc0ca",
   "metadata": {},
   "source": [
    "```mermaid\n",
    "graph TD\n",
    "    subgraph CPython_Object1[\"CPython Object\"]\n",
    "        typePointer1[\"Type Pointer\"]\n",
    "        refCount1[\"Reference Count\"]\n",
    "        value1[\"Value: 123456789\"]\n",
    "    end\n",
    "\n",
    "    subgraph CPython_Object2[\"CPython Object\"]\n",
    "        typePointer2[\"Type Pointer\"]\n",
    "        refCount2[\"Reference Count\"]\n",
    "        value2[\"Value: 123456789\"]\n",
    "    end\n",
    "\n",
    "    x1[\"x (Label)\"] --> CPython_Object1\n",
    "    CPython_Object1 --> typePointer1\n",
    "    CPython_Object1 --> refCount1\n",
    "    CPython_Object1 --> value1\n",
    "\n",
    "    x2[\"x (Label)\"] --> CPython_Object2\n",
    "    CPython_Object2 --> typePointer2\n",
    "    CPython_Object2 --> refCount2\n",
    "    CPython_Object2 --> value2\n",
    "\n",
    "```"
   ]
  },
  {
   "cell_type": "markdown",
   "id": "f66d3ab3-fb5e-4a0d-8695-3612a54d33e2",
   "metadata": {},
   "source": [
    "But if we create a _new_ `y` binding to the _same_ object, the `id()` function will return the same address."
   ]
  },
  {
   "cell_type": "code",
   "execution_count": 38,
   "id": "ec3c52ba-a349-4603-891d-4da2e57e36fb",
   "metadata": {
    "execution": {
     "iopub.execute_input": "2025-01-09T00:38:43.655969Z",
     "iopub.status.busy": "2025-01-09T00:38:43.655654Z",
     "iopub.status.idle": "2025-01-09T00:38:43.673725Z",
     "shell.execute_reply": "2025-01-09T00:38:43.673163Z",
     "shell.execute_reply.started": "2025-01-09T00:38:43.655949Z"
    }
   },
   "outputs": [
    {
     "data": {
      "text/plain": [
       "123456789"
      ]
     },
     "execution_count": 38,
     "metadata": {},
     "output_type": "execute_result"
    }
   ],
   "source": [
    "y = x"
   ]
  },
  {
   "cell_type": "code",
   "execution_count": 39,
   "id": "56197d2e-3363-4b17-b072-d6fd9ad73f11",
   "metadata": {
    "execution": {
     "iopub.execute_input": "2025-01-09T00:38:47.755680Z",
     "iopub.status.busy": "2025-01-09T00:38:47.754979Z",
     "iopub.status.idle": "2025-01-09T00:38:47.776675Z",
     "shell.execute_reply": "2025-01-09T00:38:47.776214Z",
     "shell.execute_reply.started": "2025-01-09T00:38:47.755479Z"
    }
   },
   "outputs": [
    {
     "data": {
      "text/plain": [
       "'0x111c50f90'"
      ]
     },
     "execution_count": 39,
     "metadata": {},
     "output_type": "execute_result"
    }
   ],
   "source": [
    "hex(id(y))"
   ]
  },
  {
   "cell_type": "code",
   "execution_count": 40,
   "id": "83f5a2fe-e923-4a7d-9693-d57bab649c23",
   "metadata": {
    "execution": {
     "iopub.execute_input": "2025-01-09T00:38:56.450879Z",
     "iopub.status.busy": "2025-01-09T00:38:56.450434Z",
     "iopub.status.idle": "2025-01-09T00:38:56.470647Z",
     "shell.execute_reply": "2025-01-09T00:38:56.469946Z",
     "shell.execute_reply.started": "2025-01-09T00:38:56.450848Z"
    }
   },
   "outputs": [
    {
     "data": {
      "text/plain": [
       "True"
      ]
     },
     "execution_count": 40,
     "metadata": {},
     "output_type": "execute_result"
    }
   ],
   "source": [
    "hex(id(x)) == hex(id(y))"
   ]
  },
  {
   "cell_type": "markdown",
   "id": "56e99eb4-8271-499d-b94f-648895a4553f",
   "metadata": {},
   "source": [
    "```mermaid\n",
    "graph TD\n",
    "    subgraph CPython_Object[\"CPython Object\"]\n",
    "        typePointer[\"Type Pointer\"]\n",
    "        refCount[\"Reference Count\"]\n",
    "        value[\"Value: 123456789\"]\n",
    "    end\n",
    "\n",
    "    x[\"x (Label)\"] --> CPython_Object\n",
    "    CPython_Object --> typePointer\n",
    "    CPython_Object --> refCount\n",
    "    CPython_Object --> value\n",
    "\n",
    "    y[\"y (Label)\"] --> CPython_Object\n",
    "\n",
    "```"
   ]
  },
  {
   "cell_type": "markdown",
   "id": "1d957df6-85c3-416f-93bd-3418f3ed5291",
   "metadata": {},
   "source": [
    "::: callout-note\n",
    "\n",
    "Interestingly, Python caches small integers and strings, so the `id()` function will return the same address for small integers and strings.\n"
   ]
  },
  {
   "cell_type": "code",
   "execution_count": 42,
   "id": "af13fe6b-3ce9-4845-9f02-fe0da0352889",
   "metadata": {
    "execution": {
     "iopub.execute_input": "2025-01-09T00:39:08.262046Z",
     "iopub.status.busy": "2025-01-09T00:39:08.261351Z",
     "iopub.status.idle": "2025-01-09T00:39:08.284825Z",
     "shell.execute_reply": "2025-01-09T00:39:08.284481Z",
     "shell.execute_reply.started": "2025-01-09T00:39:08.262008Z"
    }
   },
   "outputs": [
    {
     "data": {
      "text/plain": [
       "True"
      ]
     },
     "execution_count": 42,
     "metadata": {},
     "output_type": "execute_result"
    }
   ],
   "source": [
    "x = 42\n",
    "y = 42\n",
    "hex(id(x)) == hex(id(x))"
   ]
  },
  {
   "cell_type": "code",
   "execution_count": 43,
   "id": "9fc1fbcd-d02d-4cd1-841e-d883b0ff7b02",
   "metadata": {
    "execution": {
     "iopub.execute_input": "2025-01-09T00:39:17.690814Z",
     "iopub.status.busy": "2025-01-09T00:39:17.689729Z",
     "iopub.status.idle": "2025-01-09T00:39:17.705109Z",
     "shell.execute_reply": "2025-01-09T00:39:17.704767Z",
     "shell.execute_reply.started": "2025-01-09T00:39:17.690776Z"
    }
   },
   "outputs": [
    {
     "data": {
      "text/plain": [
       "False"
      ]
     },
     "execution_count": 43,
     "metadata": {},
     "output_type": "execute_result"
    }
   ],
   "source": [
    "x = 123456789\n",
    "y = 123456789\n",
    "hex(id(x)) == hex(id(y))"
   ]
  },
  {
   "cell_type": "markdown",
   "id": "3bc3cbd6-554d-4dad-8654-417164038945",
   "metadata": {},
   "source": [
    "\n",
    ":::"
   ]
  },
  {
   "cell_type": "markdown",
   "id": "66c48c45-559e-4e85-b81d-fe023d3e758a",
   "metadata": {},
   "source": [
    "This example shows integers, because even though they are immutable and even though they are built-in types and one of most basic units of data, they are still \"objects\" in Python. Pretty much everything in python is an \"object\"."
   ]
  },
  {
   "cell_type": "markdown",
   "id": "a81b3a71-9268-401b-ac84-0be02aac2092",
   "metadata": {},
   "source": [
    "Most commonly, when people say \"object\" in Python, they are referring to \"instances of a class\". "
   ]
  },
  {
   "cell_type": "code",
   "execution_count": 44,
   "id": "e49d357e-df88-4268-b2ed-e8e5d7c9714f",
   "metadata": {
    "execution": {
     "iopub.execute_input": "2025-01-09T00:39:21.392881Z",
     "iopub.status.busy": "2025-01-09T00:39:21.391399Z",
     "iopub.status.idle": "2025-01-09T00:39:21.416683Z",
     "shell.execute_reply": "2025-01-09T00:39:21.416178Z",
     "shell.execute_reply.started": "2025-01-09T00:39:21.392827Z"
    }
   },
   "outputs": [
    {
     "data": {
      "text/plain": [
       "<__main__.Foo at 0x111c3ba40>"
      ]
     },
     "execution_count": 44,
     "metadata": {},
     "output_type": "execute_result"
    }
   ],
   "source": [
    "class Foo:\n",
    "    ...\n",
    "\n",
    "f = Foo()"
   ]
  },
  {
   "cell_type": "markdown",
   "id": "c471385f-1f23-4e08-95e0-36f1d5e3c9d7",
   "metadata": {},
   "source": [
    "Python prints the address of the object when you print an instance of a class."
   ]
  },
  {
   "cell_type": "code",
   "execution_count": 45,
   "id": "6e30a289-fdd3-425b-a178-3aba2d26f617",
   "metadata": {
    "execution": {
     "iopub.execute_input": "2025-01-09T00:39:22.481406Z",
     "iopub.status.busy": "2025-01-09T00:39:22.481085Z",
     "iopub.status.idle": "2025-01-09T00:39:22.499771Z",
     "shell.execute_reply": "2025-01-09T00:39:22.498922Z",
     "shell.execute_reply.started": "2025-01-09T00:39:22.481386Z"
    }
   },
   "outputs": [
    {
     "data": {
      "text/plain": [
       "'0x111c3ba40'"
      ]
     },
     "execution_count": 45,
     "metadata": {},
     "output_type": "execute_result"
    }
   ],
   "source": [
    "hex(id(f))"
   ]
  },
  {
   "cell_type": "markdown",
   "id": "1fa1d767-f555-48ac-86a3-1572b7e6073d",
   "metadata": {},
   "source": [
    "In Python, classes, modules, functions, and methods are all objects. They all are \"labels\" or \"variables\" that point to an address in memory."
   ]
  },
  {
   "cell_type": "code",
   "execution_count": 48,
   "id": "2ccfde3f-9e12-4fd7-bd85-ed2b316bd5f1",
   "metadata": {
    "execution": {
     "iopub.execute_input": "2025-01-09T00:39:53.012309Z",
     "iopub.status.busy": "2025-01-09T00:39:53.010584Z",
     "iopub.status.idle": "2025-01-09T00:39:53.032417Z",
     "shell.execute_reply": "2025-01-09T00:39:53.032016Z",
     "shell.execute_reply.started": "2025-01-09T00:39:53.012242Z"
    }
   },
   "outputs": [],
   "source": [
    "def my_func():\n",
    "    print(\"hello world\")"
   ]
  },
  {
   "cell_type": "code",
   "execution_count": 49,
   "id": "5137266b-7646-438c-83a4-8d809516241f",
   "metadata": {
    "execution": {
     "iopub.execute_input": "2025-01-09T00:39:54.785173Z",
     "iopub.status.busy": "2025-01-09T00:39:54.784462Z",
     "iopub.status.idle": "2025-01-09T00:39:54.800695Z",
     "shell.execute_reply": "2025-01-09T00:39:54.800069Z",
     "shell.execute_reply.started": "2025-01-09T00:39:54.785138Z"
    }
   },
   "outputs": [
    {
     "data": {
      "text/plain": [
       "'0x111c33560'"
      ]
     },
     "execution_count": 49,
     "metadata": {},
     "output_type": "execute_result"
    }
   ],
   "source": [
    "hex(id(my_func))"
   ]
  },
  {
   "cell_type": "markdown",
   "id": "25dde920-3021-4649-b8e1-668c293ace63",
   "metadata": {},
   "source": [
    "And in Python, we can assign a new \"label\" or a new \"variable\" to the same function object."
   ]
  },
  {
   "cell_type": "code",
   "execution_count": 50,
   "id": "f89ce01f-b284-4397-83b9-cbdfc0384c5c",
   "metadata": {
    "execution": {
     "iopub.execute_input": "2025-01-09T00:40:58.311518Z",
     "iopub.status.busy": "2025-01-09T00:40:58.310216Z",
     "iopub.status.idle": "2025-01-09T00:40:58.331470Z",
     "shell.execute_reply": "2025-01-09T00:40:58.330893Z",
     "shell.execute_reply.started": "2025-01-09T00:40:58.311475Z"
    }
   },
   "outputs": [
    {
     "data": {
      "text/plain": [
       "<function __main__.my_func()>"
      ]
     },
     "execution_count": 50,
     "metadata": {},
     "output_type": "execute_result"
    }
   ],
   "source": [
    "x = my_func"
   ]
  },
  {
   "cell_type": "code",
   "execution_count": 51,
   "id": "27f71c1a-fa26-48a3-b0c1-231e1a43776f",
   "metadata": {
    "execution": {
     "iopub.execute_input": "2025-01-09T00:41:02.418756Z",
     "iopub.status.busy": "2025-01-09T00:41:02.417959Z",
     "iopub.status.idle": "2025-01-09T00:41:02.437247Z",
     "shell.execute_reply": "2025-01-09T00:41:02.436778Z",
     "shell.execute_reply.started": "2025-01-09T00:41:02.418710Z"
    }
   },
   "outputs": [
    {
     "name": "stdout",
     "output_type": "stream",
     "text": [
      "hello world\n"
     ]
    }
   ],
   "source": [
    "x()"
   ]
  },
  {
   "cell_type": "markdown",
   "id": "0d37d0c1-5d41-42ef-83b5-e2478bba3ba0",
   "metadata": {},
   "source": [
    "The other key piece of background information is that in Python, when calling a function, the arguments are \"passed by reference\" and assigned to the variables in the arguments of function. This means that when you pass an argument to a function, you are passing the address of the object that the argument points to. "
   ]
  },
  {
   "cell_type": "code",
   "execution_count": 52,
   "id": "860e9d7b-2dbe-4012-96ed-de96a076c88b",
   "metadata": {
    "execution": {
     "iopub.execute_input": "2025-01-09T00:42:34.280223Z",
     "iopub.status.busy": "2025-01-09T00:42:34.279604Z",
     "iopub.status.idle": "2025-01-09T00:42:34.298381Z",
     "shell.execute_reply": "2025-01-09T00:42:34.297367Z",
     "shell.execute_reply.started": "2025-01-09T00:42:34.280182Z"
    }
   },
   "outputs": [],
   "source": [
    "def print_id_of_arg(arg):\n",
    "    print(hex(id(arg)))"
   ]
  },
  {
   "cell_type": "code",
   "execution_count": 53,
   "id": "b2280eed-6622-4f18-b38b-e4821038320f",
   "metadata": {
    "execution": {
     "iopub.execute_input": "2025-01-09T00:42:46.430175Z",
     "iopub.status.busy": "2025-01-09T00:42:46.429831Z",
     "iopub.status.idle": "2025-01-09T00:42:46.447966Z",
     "shell.execute_reply": "2025-01-09T00:42:46.447171Z",
     "shell.execute_reply.started": "2025-01-09T00:42:46.430153Z"
    }
   },
   "outputs": [
    {
     "name": "stdout",
     "output_type": "stream",
     "text": [
      "0x111c33560\n"
     ]
    }
   ],
   "source": [
    "print_id_of_arg(my_func)"
   ]
  },
  {
   "cell_type": "markdown",
   "id": "2aeb309d-b485-44ce-a677-7bb7085f1d9a",
   "metadata": {},
   "source": [
    "This is equivalent to executing the following code:\n",
    "\n"
   ]
  },
  {
   "cell_type": "code",
   "execution_count": 56,
   "id": "425684aa-6917-419e-8e0c-3d5e15a02675",
   "metadata": {
    "execution": {
     "iopub.execute_input": "2025-01-09T00:45:01.749482Z",
     "iopub.status.busy": "2025-01-09T00:45:01.748919Z",
     "iopub.status.idle": "2025-01-09T00:45:01.769733Z",
     "shell.execute_reply": "2025-01-09T00:45:01.769020Z",
     "shell.execute_reply.started": "2025-01-09T00:45:01.749450Z"
    }
   },
   "outputs": [
    {
     "name": "stdout",
     "output_type": "stream",
     "text": [
      "0x111c33560\n"
     ]
    }
   ],
   "source": [
    "arg = my_func\n",
    "print(hex(id(arg)))"
   ]
  },
  {
   "cell_type": "markdown",
   "id": "9a1f5a73-1ad7-4723-ac4e-3ea15549a2cd",
   "metadata": {},
   "source": [
    "And it doesn't matter what the name of the label is, only the address of the object that the label points to, and the object and type of the object at that address is important."
   ]
  },
  {
   "cell_type": "code",
   "execution_count": 57,
   "id": "6d9ef6ae-827e-4456-ab46-f943439e9782",
   "metadata": {
    "execution": {
     "iopub.execute_input": "2025-01-09T00:46:06.168246Z",
     "iopub.status.busy": "2025-01-09T00:46:06.167929Z",
     "iopub.status.idle": "2025-01-09T00:46:06.181956Z",
     "shell.execute_reply": "2025-01-09T00:46:06.181274Z",
     "shell.execute_reply.started": "2025-01-09T00:46:06.168224Z"
    }
   },
   "outputs": [
    {
     "name": "stdout",
     "output_type": "stream",
     "text": [
      "0x111c33560\n"
     ]
    }
   ],
   "source": [
    "print_id_of_arg(x)"
   ]
  },
  {
   "cell_type": "markdown",
   "id": "3b622597-e26b-4cba-b871-55cf7b54547a",
   "metadata": {},
   "source": [
    "With that background, let's build a tiny param library to understand how it works."
   ]
  },
  {
   "cell_type": "markdown",
   "id": "8079ebf5-1a03-4cba-b682-0c915f50682c",
   "metadata": {},
   "source": [
    "## Callbacks"
   ]
  },
  {
   "cell_type": "code",
   "execution_count": null,
   "id": "62933a0c-90ad-43c9-89a4-e0cf4c1eb910",
   "metadata": {},
   "outputs": [],
   "source": []
  },
  {
   "cell_type": "code",
   "execution_count": null,
   "id": "cd483abb-de36-4145-8ee9-2fca6ef82098",
   "metadata": {},
   "outputs": [],
   "source": []
  },
  {
   "cell_type": "code",
   "execution_count": null,
   "id": "5585af5e-e7d3-42cd-a44e-5056d98c84c3",
   "metadata": {},
   "outputs": [],
   "source": []
  },
  {
   "cell_type": "markdown",
   "id": "59be4abc-6206-4367-92a1-c29f9149cc70",
   "metadata": {},
   "source": []
  }
 ],
 "metadata": {
  "kernelspec": {
   "display_name": "Python (local .venv)",
   "language": "python",
   "name": "python-localvenv"
  },
  "language_info": {
   "codemirror_mode": {
    "name": "ipython",
    "version": 3
   },
   "file_extension": ".py",
   "mimetype": "text/x-python",
   "name": "python",
   "nbconvert_exporter": "python",
   "pygments_lexer": "ipython3",
   "version": "3.12.5"
  },
  "widgets": {
   "application/vnd.jupyter.widget-state+json": {
    "state": {},
    "version_major": 2,
    "version_minor": 0
   }
  }
 },
 "nbformat": 4,
 "nbformat_minor": 5
}
