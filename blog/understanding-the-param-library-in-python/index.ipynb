{
 "cells": [
  {
   "cell_type": "raw",
   "id": "e58e94f4-0607-4e54-ac3e-4fff7159a9f7",
   "metadata": {},
   "source": [
    "---\n",
    "title: \"Understanding the param library in python\"\n",
    "date: 2025-01-11T21:03:04-0500\n",
    "categories: [python]\n",
    "keywords: python, param, panel, jupyter, holoviews, holoviz\n",
    "summary: This post will build a tiny param library to understand how it works.\n",
    "draft: true\n",
    "---"
   ]
  },
  {
   "cell_type": "code",
   "execution_count": 1,
   "id": "ab6da15d-b96e-4bd6-84c9-2a7e89fa8b4e",
   "metadata": {
    "execution": {
     "iopub.execute_input": "2025-01-09T00:19:05.709169Z",
     "iopub.status.busy": "2025-01-09T00:19:05.708891Z",
     "iopub.status.idle": "2025-01-09T00:19:05.724367Z",
     "shell.execute_reply": "2025-01-09T00:19:05.723948Z",
     "shell.execute_reply.started": "2025-01-09T00:19:05.709145Z"
    }
   },
   "outputs": [],
   "source": [
    "#| code-fold: true\n",
    "################################################################################\n",
    "\n",
    "# autoreload all modules every time before executing the Python code\n",
    "%reload_ext autoreload\n",
    "%autoreload 2\n",
    "\n",
    "################################################################################\n",
    "\n",
    "from IPython.core.interactiveshell import InteractiveShell\n",
    "\n",
    "# `ast_node_interactivity` is a setting that determines how the return value of the last line in a cell is displayed\n",
    "# with `last_expr_or_assign`, the return value of the last expression is displayed unless it is assigned to a variable\n",
    "InteractiveShell.ast_node_interactivity = \"last_expr_or_assign\""
   ]
  },
  {
   "cell_type": "markdown",
   "id": "fae227a6-f743-4304-8336-a0762392fbda",
   "metadata": {},
   "source": [
    "The `holoviz` ecosystem is a powerful set of libraries that can help build interactive dashboards and UIs. The `param` library is a core piece of the `holoviz` ecosystem. Understanding how this library underneath it all works can help you build more interactive, flexible, and reusable code. In this post, we will build a tiny param library to understand how things works."
   ]
  },
  {
   "cell_type": "markdown",
   "id": "29422efa-f814-490a-b3cb-783123ba1124",
   "metadata": {},
   "source": [
    "## Background"
   ]
  },
  {
   "cell_type": "markdown",
   "id": "042945d6-79bd-4f8d-901d-d470643150c7",
   "metadata": {},
   "source": [
    "You may have already heard that in Python, pretty much _everything_ is an object. What this means in practice is that in Python, there exists an allocated piece of memory which represents some data that has an address and a label that points to that address."
   ]
  },
  {
   "cell_type": "code",
   "execution_count": 2,
   "id": "714695b8-3326-431c-808d-9d15196aa0c4",
   "metadata": {
    "execution": {
     "iopub.execute_input": "2025-01-09T00:38:36.915820Z",
     "iopub.status.busy": "2025-01-09T00:38:36.914960Z",
     "iopub.status.idle": "2025-01-09T00:38:36.935916Z",
     "shell.execute_reply": "2025-01-09T00:38:36.935482Z",
     "shell.execute_reply.started": "2025-01-09T00:38:36.915769Z"
    }
   },
   "outputs": [
    {
     "data": {
      "text/plain": [
       "123456789"
      ]
     },
     "execution_count": 2,
     "metadata": {},
     "output_type": "execute_result"
    }
   ],
   "source": [
    "x = 123456789"
   ]
  },
  {
   "cell_type": "code",
   "execution_count": 3,
   "id": "ce5b88bc-3c97-4670-bfd5-6afd451dcf77",
   "metadata": {
    "execution": {
     "iopub.execute_input": "2025-01-09T00:38:37.105044Z",
     "iopub.status.busy": "2025-01-09T00:38:37.104678Z",
     "iopub.status.idle": "2025-01-09T00:38:37.123660Z",
     "shell.execute_reply": "2025-01-09T00:38:37.122987Z",
     "shell.execute_reply.started": "2025-01-09T00:38:37.105020Z"
    }
   },
   "outputs": [
    {
     "data": {
      "text/plain": [
       "int"
      ]
     },
     "execution_count": 3,
     "metadata": {},
     "output_type": "execute_result"
    }
   ],
   "source": [
    "type(x)"
   ]
  },
  {
   "cell_type": "markdown",
   "id": "c646d092-cd1a-45eb-9ae5-393e09433e1c",
   "metadata": {},
   "source": [
    "In this statement above, `x` is a \"label\" that points to the \"memory address of an object\" that contains the value `123456789` and the object that `x` points to is of type `int`. "
   ]
  },
  {
   "cell_type": "markdown",
   "id": "00dd2f4d-6075-4b64-a2d0-4c23d71d2213",
   "metadata": {},
   "source": [
    "```mermaid\n",
    "graph TD\n",
    "    subgraph CPython_Object[\"CPython Object\"]\n",
    "        typePointer[\"Type Pointer\"]\n",
    "        refCount[\"Reference Count\"]\n",
    "        value[\"Value: 123456789\"]\n",
    "    end\n",
    "\n",
    "    x[\"x (Label)\"] --> CPython_Object\n",
    "    CPython_Object --> typePointer\n",
    "    CPython_Object --> refCount\n",
    "    CPython_Object --> value\n",
    "\n",
    "```"
   ]
  },
  {
   "cell_type": "markdown",
   "id": "1554fa12-07e7-41bc-9687-55b8bb307432",
   "metadata": {},
   "source": [
    "In this post you'll see language like \"`x` is a \"label\" to the value `123456789`\", but most commonly, people refer to `x` as a **variable**."
   ]
  },
  {
   "cell_type": "markdown",
   "id": "18d76d3e-a70c-4048-9c9a-86a32c1a5a91",
   "metadata": {},
   "source": [
    "The **address** of a \"label\" or \"variable\" can be found using the `id()` function."
   ]
  },
  {
   "cell_type": "code",
   "execution_count": 4,
   "id": "189a3c26-baf0-4f04-9123-86d0f5b80429",
   "metadata": {
    "execution": {
     "iopub.execute_input": "2025-01-09T00:38:38.132830Z",
     "iopub.status.busy": "2025-01-09T00:38:38.132512Z",
     "iopub.status.idle": "2025-01-09T00:38:38.149022Z",
     "shell.execute_reply": "2025-01-09T00:38:38.148487Z",
     "shell.execute_reply.started": "2025-01-09T00:38:38.132810Z"
    }
   },
   "outputs": [
    {
     "data": {
      "text/plain": [
       "'0x105860b90'"
      ]
     },
     "execution_count": 4,
     "metadata": {},
     "output_type": "execute_result"
    }
   ],
   "source": [
    "hex(id(x))"
   ]
  },
  {
   "cell_type": "markdown",
   "id": "bb0de7bd-1c75-420c-a7d0-ab3e59d1873a",
   "metadata": {},
   "source": [
    "Notice that if we create overwrite the `x` label with an assignment to a _new_ object with the same value, the `id()` function will return a different address."
   ]
  },
  {
   "cell_type": "code",
   "execution_count": 5,
   "id": "1e4b2e4e-b301-42e2-9ce4-a43981ca3cda",
   "metadata": {
    "execution": {
     "iopub.execute_input": "2025-01-09T00:38:38.735335Z",
     "iopub.status.busy": "2025-01-09T00:38:38.735016Z",
     "iopub.status.idle": "2025-01-09T00:38:38.757198Z",
     "shell.execute_reply": "2025-01-09T00:38:38.756379Z",
     "shell.execute_reply.started": "2025-01-09T00:38:38.735315Z"
    }
   },
   "outputs": [
    {
     "data": {
      "text/plain": [
       "123456789"
      ]
     },
     "execution_count": 5,
     "metadata": {},
     "output_type": "execute_result"
    }
   ],
   "source": [
    "x = 123456789"
   ]
  },
  {
   "cell_type": "code",
   "execution_count": 6,
   "id": "fe9d9186-36ef-4ff6-8a4e-b65101a6a111",
   "metadata": {
    "execution": {
     "iopub.execute_input": "2025-01-09T00:38:38.982479Z",
     "iopub.status.busy": "2025-01-09T00:38:38.981797Z",
     "iopub.status.idle": "2025-01-09T00:38:39.021390Z",
     "shell.execute_reply": "2025-01-09T00:38:39.020951Z",
     "shell.execute_reply.started": "2025-01-09T00:38:38.982448Z"
    }
   },
   "outputs": [
    {
     "data": {
      "text/plain": [
       "'0x105860cb0'"
      ]
     },
     "execution_count": 6,
     "metadata": {},
     "output_type": "execute_result"
    }
   ],
   "source": [
    "hex(id(x))"
   ]
  },
  {
   "cell_type": "markdown",
   "id": "5a48b667-0f42-4ff9-b177-6672983fc0ca",
   "metadata": {},
   "source": [
    "```mermaid\n",
    "graph TD\n",
    "    subgraph CPython_Object1[\"CPython Object\"]\n",
    "        typePointer1[\"Type Pointer\"]\n",
    "        refCount1[\"Reference Count\"]\n",
    "        value1[\"Value: 123456789\"]\n",
    "    end\n",
    "\n",
    "    subgraph CPython_Object2[\"CPython Object\"]\n",
    "        typePointer2[\"Type Pointer\"]\n",
    "        refCount2[\"Reference Count\"]\n",
    "        value2[\"Value: 123456789\"]\n",
    "    end\n",
    "\n",
    "    x1[\"x (Label)\"] --> CPython_Object1\n",
    "    CPython_Object1 --> typePointer1\n",
    "    CPython_Object1 --> refCount1\n",
    "    CPython_Object1 --> value1\n",
    "\n",
    "    x2[\"x (Label)\"] --> CPython_Object2\n",
    "    CPython_Object2 --> typePointer2\n",
    "    CPython_Object2 --> refCount2\n",
    "    CPython_Object2 --> value2\n",
    "\n",
    "```"
   ]
  },
  {
   "cell_type": "markdown",
   "id": "f66d3ab3-fb5e-4a0d-8695-3612a54d33e2",
   "metadata": {},
   "source": [
    "But if we create a _new_ `y` binding to the _same_ object, the `id()` function will return the same address."
   ]
  },
  {
   "cell_type": "code",
   "execution_count": 7,
   "id": "ec3c52ba-a349-4603-891d-4da2e57e36fb",
   "metadata": {
    "execution": {
     "iopub.execute_input": "2025-01-09T00:38:43.655969Z",
     "iopub.status.busy": "2025-01-09T00:38:43.655654Z",
     "iopub.status.idle": "2025-01-09T00:38:43.673725Z",
     "shell.execute_reply": "2025-01-09T00:38:43.673163Z",
     "shell.execute_reply.started": "2025-01-09T00:38:43.655949Z"
    }
   },
   "outputs": [
    {
     "data": {
      "text/plain": [
       "123456789"
      ]
     },
     "execution_count": 7,
     "metadata": {},
     "output_type": "execute_result"
    }
   ],
   "source": [
    "y = x"
   ]
  },
  {
   "cell_type": "code",
   "execution_count": 8,
   "id": "56197d2e-3363-4b17-b072-d6fd9ad73f11",
   "metadata": {
    "execution": {
     "iopub.execute_input": "2025-01-09T00:38:47.755680Z",
     "iopub.status.busy": "2025-01-09T00:38:47.754979Z",
     "iopub.status.idle": "2025-01-09T00:38:47.776675Z",
     "shell.execute_reply": "2025-01-09T00:38:47.776214Z",
     "shell.execute_reply.started": "2025-01-09T00:38:47.755479Z"
    }
   },
   "outputs": [
    {
     "data": {
      "text/plain": [
       "'0x105860cb0'"
      ]
     },
     "execution_count": 8,
     "metadata": {},
     "output_type": "execute_result"
    }
   ],
   "source": [
    "hex(id(y))"
   ]
  },
  {
   "cell_type": "code",
   "execution_count": 9,
   "id": "83f5a2fe-e923-4a7d-9693-d57bab649c23",
   "metadata": {
    "execution": {
     "iopub.execute_input": "2025-01-09T00:38:56.450879Z",
     "iopub.status.busy": "2025-01-09T00:38:56.450434Z",
     "iopub.status.idle": "2025-01-09T00:38:56.470647Z",
     "shell.execute_reply": "2025-01-09T00:38:56.469946Z",
     "shell.execute_reply.started": "2025-01-09T00:38:56.450848Z"
    }
   },
   "outputs": [
    {
     "data": {
      "text/plain": [
       "True"
      ]
     },
     "execution_count": 9,
     "metadata": {},
     "output_type": "execute_result"
    }
   ],
   "source": [
    "hex(id(x)) == hex(id(y))"
   ]
  },
  {
   "cell_type": "markdown",
   "id": "56e99eb4-8271-499d-b94f-648895a4553f",
   "metadata": {},
   "source": [
    "```mermaid\n",
    "graph TD\n",
    "    subgraph CPython_Object[\"CPython Object\"]\n",
    "        typePointer[\"Type Pointer\"]\n",
    "        refCount[\"Reference Count\"]\n",
    "        value[\"Value: 123456789\"]\n",
    "    end\n",
    "\n",
    "    x[\"x (Label)\"] --> CPython_Object\n",
    "    CPython_Object --> typePointer\n",
    "    CPython_Object --> refCount\n",
    "    CPython_Object --> value\n",
    "\n",
    "    y[\"y (Label)\"] --> CPython_Object\n",
    "\n",
    "```"
   ]
  },
  {
   "cell_type": "markdown",
   "id": "1d957df6-85c3-416f-93bd-3418f3ed5291",
   "metadata": {},
   "source": [
    "::: callout-note\n",
    "\n",
    "Interestingly, Python caches small integers and strings, so the `id()` function will return the same address for small integers and strings.\n",
    "\n"
   ]
  },
  {
   "cell_type": "code",
   "execution_count": 10,
   "id": "af13fe6b-3ce9-4845-9f02-fe0da0352889",
   "metadata": {
    "execution": {
     "iopub.execute_input": "2025-01-09T00:39:08.262046Z",
     "iopub.status.busy": "2025-01-09T00:39:08.261351Z",
     "iopub.status.idle": "2025-01-09T00:39:08.284825Z",
     "shell.execute_reply": "2025-01-09T00:39:08.284481Z",
     "shell.execute_reply.started": "2025-01-09T00:39:08.262008Z"
    }
   },
   "outputs": [
    {
     "data": {
      "text/plain": [
       "True"
      ]
     },
     "execution_count": 10,
     "metadata": {},
     "output_type": "execute_result"
    }
   ],
   "source": [
    "x = 42\n",
    "y = 42\n",
    "hex(id(x)) == hex(id(x))"
   ]
  },
  {
   "cell_type": "code",
   "execution_count": 11,
   "id": "9fc1fbcd-d02d-4cd1-841e-d883b0ff7b02",
   "metadata": {
    "execution": {
     "iopub.execute_input": "2025-01-09T00:39:17.690814Z",
     "iopub.status.busy": "2025-01-09T00:39:17.689729Z",
     "iopub.status.idle": "2025-01-09T00:39:17.705109Z",
     "shell.execute_reply": "2025-01-09T00:39:17.704767Z",
     "shell.execute_reply.started": "2025-01-09T00:39:17.690776Z"
    }
   },
   "outputs": [
    {
     "data": {
      "text/plain": [
       "False"
      ]
     },
     "execution_count": 11,
     "metadata": {},
     "output_type": "execute_result"
    }
   ],
   "source": [
    "x = 123456789\n",
    "y = 123456789\n",
    "hex(id(x)) == hex(id(y))"
   ]
  },
  {
   "cell_type": "markdown",
   "id": "f183c384",
   "metadata": {},
   "source": [
    ":::\n",
    "\n"
   ]
  },
  {
   "cell_type": "markdown",
   "id": "66c48c45-559e-4e85-b81d-fe023d3e758a",
   "metadata": {},
   "source": [
    "This example shows integers, because even though they are immutable and even though they are built-in types and one of most basic units of data, they are still \"objects\" in Python. Pretty much everything in python is an \"object\"."
   ]
  },
  {
   "cell_type": "markdown",
   "id": "a81b3a71-9268-401b-ac84-0be02aac2092",
   "metadata": {},
   "source": [
    "Most commonly, when people say \"object\" in Python, they are referring to \"instances of a class\". "
   ]
  },
  {
   "cell_type": "code",
   "execution_count": 12,
   "id": "e49d357e-df88-4268-b2ed-e8e5d7c9714f",
   "metadata": {
    "execution": {
     "iopub.execute_input": "2025-01-09T00:39:21.392881Z",
     "iopub.status.busy": "2025-01-09T00:39:21.391399Z",
     "iopub.status.idle": "2025-01-09T00:39:21.416683Z",
     "shell.execute_reply": "2025-01-09T00:39:21.416178Z",
     "shell.execute_reply.started": "2025-01-09T00:39:21.392827Z"
    }
   },
   "outputs": [
    {
     "data": {
      "text/plain": [
       "<__main__.Foo at 0x1058654f0>"
      ]
     },
     "execution_count": 12,
     "metadata": {},
     "output_type": "execute_result"
    }
   ],
   "source": [
    "class Foo:\n",
    "    ...\n",
    "\n",
    "f = Foo()"
   ]
  },
  {
   "cell_type": "markdown",
   "id": "c471385f-1f23-4e08-95e0-36f1d5e3c9d7",
   "metadata": {},
   "source": [
    "Python prints the address of the object when you print an instance of a class."
   ]
  },
  {
   "cell_type": "code",
   "execution_count": 13,
   "id": "6e30a289-fdd3-425b-a178-3aba2d26f617",
   "metadata": {
    "execution": {
     "iopub.execute_input": "2025-01-09T00:39:22.481406Z",
     "iopub.status.busy": "2025-01-09T00:39:22.481085Z",
     "iopub.status.idle": "2025-01-09T00:39:22.499771Z",
     "shell.execute_reply": "2025-01-09T00:39:22.498922Z",
     "shell.execute_reply.started": "2025-01-09T00:39:22.481386Z"
    }
   },
   "outputs": [
    {
     "data": {
      "text/plain": [
       "'0x1058654f0'"
      ]
     },
     "execution_count": 13,
     "metadata": {},
     "output_type": "execute_result"
    }
   ],
   "source": [
    "hex(id(f))"
   ]
  },
  {
   "cell_type": "markdown",
   "id": "1fa1d767-f555-48ac-86a3-1572b7e6073d",
   "metadata": {},
   "source": [
    "In Python, classes, modules, functions, and methods are all objects. They all are \"labels\" or \"variables\" that point to an address in memory."
   ]
  },
  {
   "cell_type": "code",
   "execution_count": 14,
   "id": "2ccfde3f-9e12-4fd7-bd85-ed2b316bd5f1",
   "metadata": {
    "execution": {
     "iopub.execute_input": "2025-01-09T00:39:53.012309Z",
     "iopub.status.busy": "2025-01-09T00:39:53.010584Z",
     "iopub.status.idle": "2025-01-09T00:39:53.032417Z",
     "shell.execute_reply": "2025-01-09T00:39:53.032016Z",
     "shell.execute_reply.started": "2025-01-09T00:39:53.012242Z"
    }
   },
   "outputs": [],
   "source": [
    "def my_func():\n",
    "    print(\"hello world\")"
   ]
  },
  {
   "cell_type": "code",
   "execution_count": 15,
   "id": "5137266b-7646-438c-83a4-8d809516241f",
   "metadata": {
    "execution": {
     "iopub.execute_input": "2025-01-09T00:39:54.785173Z",
     "iopub.status.busy": "2025-01-09T00:39:54.784462Z",
     "iopub.status.idle": "2025-01-09T00:39:54.800695Z",
     "shell.execute_reply": "2025-01-09T00:39:54.800069Z",
     "shell.execute_reply.started": "2025-01-09T00:39:54.785138Z"
    }
   },
   "outputs": [
    {
     "data": {
      "text/plain": [
       "'0x105833420'"
      ]
     },
     "execution_count": 15,
     "metadata": {},
     "output_type": "execute_result"
    }
   ],
   "source": [
    "hex(id(my_func))"
   ]
  },
  {
   "cell_type": "markdown",
   "id": "25dde920-3021-4649-b8e1-668c293ace63",
   "metadata": {},
   "source": [
    "And in Python, we can assign a new \"label\" or a new \"variable\" to the same function object."
   ]
  },
  {
   "cell_type": "code",
   "execution_count": 16,
   "id": "f89ce01f-b284-4397-83b9-cbdfc0384c5c",
   "metadata": {
    "execution": {
     "iopub.execute_input": "2025-01-09T00:40:58.311518Z",
     "iopub.status.busy": "2025-01-09T00:40:58.310216Z",
     "iopub.status.idle": "2025-01-09T00:40:58.331470Z",
     "shell.execute_reply": "2025-01-09T00:40:58.330893Z",
     "shell.execute_reply.started": "2025-01-09T00:40:58.311475Z"
    }
   },
   "outputs": [
    {
     "data": {
      "text/plain": [
       "<function __main__.my_func()>"
      ]
     },
     "execution_count": 16,
     "metadata": {},
     "output_type": "execute_result"
    }
   ],
   "source": [
    "x = my_func"
   ]
  },
  {
   "cell_type": "code",
   "execution_count": 17,
   "id": "27f71c1a-fa26-48a3-b0c1-231e1a43776f",
   "metadata": {
    "execution": {
     "iopub.execute_input": "2025-01-09T00:41:02.418756Z",
     "iopub.status.busy": "2025-01-09T00:41:02.417959Z",
     "iopub.status.idle": "2025-01-09T00:41:02.437247Z",
     "shell.execute_reply": "2025-01-09T00:41:02.436778Z",
     "shell.execute_reply.started": "2025-01-09T00:41:02.418710Z"
    }
   },
   "outputs": [
    {
     "name": "stdout",
     "output_type": "stream",
     "text": [
      "hello world\n"
     ]
    }
   ],
   "source": [
    "x()"
   ]
  },
  {
   "cell_type": "markdown",
   "id": "0d37d0c1-5d41-42ef-83b5-e2478bba3ba0",
   "metadata": {},
   "source": [
    "The other key piece of background information is that in Python, when calling a function, the arguments are \"passed by reference\" and assigned to the variables in the arguments of function. This means that when you pass an argument to a function, you are passing the address of the object that the argument points to. "
   ]
  },
  {
   "cell_type": "code",
   "execution_count": 18,
   "id": "860e9d7b-2dbe-4012-96ed-de96a076c88b",
   "metadata": {
    "execution": {
     "iopub.execute_input": "2025-01-09T00:42:34.280223Z",
     "iopub.status.busy": "2025-01-09T00:42:34.279604Z",
     "iopub.status.idle": "2025-01-09T00:42:34.298381Z",
     "shell.execute_reply": "2025-01-09T00:42:34.297367Z",
     "shell.execute_reply.started": "2025-01-09T00:42:34.280182Z"
    }
   },
   "outputs": [],
   "source": [
    "def print_id_of_arg(arg):\n",
    "    print(hex(id(arg)))"
   ]
  },
  {
   "cell_type": "code",
   "execution_count": 19,
   "id": "b2280eed-6622-4f18-b38b-e4821038320f",
   "metadata": {
    "execution": {
     "iopub.execute_input": "2025-01-09T00:42:46.430175Z",
     "iopub.status.busy": "2025-01-09T00:42:46.429831Z",
     "iopub.status.idle": "2025-01-09T00:42:46.447966Z",
     "shell.execute_reply": "2025-01-09T00:42:46.447171Z",
     "shell.execute_reply.started": "2025-01-09T00:42:46.430153Z"
    }
   },
   "outputs": [
    {
     "name": "stdout",
     "output_type": "stream",
     "text": [
      "0x105833420\n"
     ]
    }
   ],
   "source": [
    "print_id_of_arg(my_func)"
   ]
  },
  {
   "cell_type": "markdown",
   "id": "2aeb309d-b485-44ce-a677-7bb7085f1d9a",
   "metadata": {},
   "source": [
    "This is equivalent to executing the following code:\n",
    "\n"
   ]
  },
  {
   "cell_type": "code",
   "execution_count": 20,
   "id": "425684aa-6917-419e-8e0c-3d5e15a02675",
   "metadata": {
    "execution": {
     "iopub.execute_input": "2025-01-09T00:45:01.749482Z",
     "iopub.status.busy": "2025-01-09T00:45:01.748919Z",
     "iopub.status.idle": "2025-01-09T00:45:01.769733Z",
     "shell.execute_reply": "2025-01-09T00:45:01.769020Z",
     "shell.execute_reply.started": "2025-01-09T00:45:01.749450Z"
    }
   },
   "outputs": [
    {
     "name": "stdout",
     "output_type": "stream",
     "text": [
      "0x105833420\n"
     ]
    }
   ],
   "source": [
    "arg = my_func\n",
    "print(hex(id(arg)))"
   ]
  },
  {
   "cell_type": "markdown",
   "id": "9a1f5a73-1ad7-4723-ac4e-3ea15549a2cd",
   "metadata": {},
   "source": [
    "And it doesn't matter what the name of the label is, only the address of the object that the label points to, and the object and type of the object at that address is important."
   ]
  },
  {
   "cell_type": "code",
   "execution_count": 21,
   "id": "6d9ef6ae-827e-4456-ab46-f943439e9782",
   "metadata": {
    "execution": {
     "iopub.execute_input": "2025-01-09T00:46:06.168246Z",
     "iopub.status.busy": "2025-01-09T00:46:06.167929Z",
     "iopub.status.idle": "2025-01-09T00:46:06.181956Z",
     "shell.execute_reply": "2025-01-09T00:46:06.181274Z",
     "shell.execute_reply.started": "2025-01-09T00:46:06.168224Z"
    }
   },
   "outputs": [
    {
     "name": "stdout",
     "output_type": "stream",
     "text": [
      "0x105833420\n"
     ]
    }
   ],
   "source": [
    "print_id_of_arg(x)"
   ]
  },
  {
   "cell_type": "markdown",
   "id": "3b622597-e26b-4cba-b871-55cf7b54547a",
   "metadata": {},
   "source": [
    "With that background, let's build a tiny param library to understand how it works."
   ]
  },
  {
   "cell_type": "markdown",
   "id": "437a954e",
   "metadata": {},
   "source": [
    "## Understanding properties and descriptors in Python\n",
    "\n",
    "In Python, a property is a special kind of attribute that allows you to define custom behavior when getting or setting the value of an attribute. Properties are defined using the `property()` function or by using the `@property` decorator.\n",
    "The `property()` function takes four arguments: `fget`, `fset`, `fdel`, and `doc`. The first three arguments are functions that define the behavior of the property when getting, setting, or deleting the attribute. The fourth argument is a string that provides documentation for the property.\n",
    "\n",
    "Let's say you wanted to build a person class:"
   ]
  },
  {
   "cell_type": "code",
   "execution_count": 31,
   "id": "9b09b91f",
   "metadata": {},
   "outputs": [
    {
     "data": {
      "text/plain": [
       "Person(name=Alice, age=31)"
      ]
     },
     "execution_count": 31,
     "metadata": {},
     "output_type": "execute_result"
    }
   ],
   "source": [
    "class Person:\n",
    "    def __init__(self, name, age):\n",
    "        self.name = name\n",
    "        self.age = age\n",
    "\n",
    "    def __repr__(self):\n",
    "        return f\"Person(name={self.name}, age={self.age})\"\n",
    "\n",
    "person = Person(\"Alice\", 30)\n",
    "\n",
    "person.age += 1\n",
    "\n",
    "person"
   ]
  },
  {
   "cell_type": "markdown",
   "id": "0579aa99",
   "metadata": {},
   "source": [
    "But you want to make sure that the `age` attribute is always a positive integer. You can use a property to enforce this constraint.\n"
   ]
  },
  {
   "cell_type": "code",
   "execution_count": null,
   "id": "cc470504",
   "metadata": {},
   "outputs": [
    {
     "data": {
      "text/plain": [
       "Person(name=Alice, age=30)"
      ]
     },
     "execution_count": 37,
     "metadata": {},
     "output_type": "execute_result"
    }
   ],
   "source": [
    "\n",
    "class Person:\n",
    "    def __init__(self, name, age):\n",
    "        self.name = name\n",
    "        self._age = None\n",
    "        self.age = age  # Use the setter to set the initial value\n",
    "\n",
    "    @property\n",
    "    def age(self):\n",
    "        return self._age\n",
    "\n",
    "    @age.setter\n",
    "    def age(self, value):\n",
    "        if not isinstance(value, int) or value < 0:\n",
    "            raise ValueError(\"Age must be a positive integer\")\n",
    "        self._age = value\n",
    "\n",
    "    @age.deleter\n",
    "    def age(self):\n",
    "        del self._age\n",
    "        self._age = None\n",
    "\n",
    "    def __repr__(self):\n",
    "        return f\"Person(name={self.name}, age={self.age})\"\n",
    "p = Person(\"Alice\", 30)\n",
    "\n"
   ]
  },
  {
   "cell_type": "code",
   "execution_count": 39,
   "id": "87455a77",
   "metadata": {},
   "outputs": [
    {
     "data": {
      "text/plain": [
       "Person(name=Alice, age=35)"
      ]
     },
     "execution_count": 39,
     "metadata": {},
     "output_type": "execute_result"
    }
   ],
   "source": [
    "p.age = 35\n",
    "p"
   ]
  },
  {
   "cell_type": "code",
   "execution_count": null,
   "id": "438df4c6",
   "metadata": {},
   "outputs": [
    {
     "ename": "ValueError",
     "evalue": "Age must be a positive integer",
     "output_type": "error",
     "traceback": [
      "\u001b[0;31m---------------------------------------------------------------------------\u001b[0m",
      "\u001b[0;31mValueError\u001b[0m                                Traceback (most recent call last)",
      "Cell \u001b[0;32mIn[36], line 1\u001b[0m\n\u001b[0;32m----> 1\u001b[0m \u001b[43mp\u001b[49m\u001b[38;5;241;43m.\u001b[39;49m\u001b[43mage\u001b[49m \u001b[38;5;241m=\u001b[39m \u001b[38;5;241m-\u001b[39m\u001b[38;5;241m5\u001b[39m  \u001b[38;5;66;03m# Raises ValueError: Age must be a positive integer\u001b[39;00m\n",
      "Cell \u001b[0;32mIn[35], line 14\u001b[0m, in \u001b[0;36mPerson.age\u001b[0;34m(self, value)\u001b[0m\n\u001b[1;32m     11\u001b[0m \u001b[38;5;129m@age\u001b[39m\u001b[38;5;241m.\u001b[39msetter\n\u001b[1;32m     12\u001b[0m \u001b[38;5;28;01mdef\u001b[39;00m\u001b[38;5;250m \u001b[39m\u001b[38;5;21mage\u001b[39m(\u001b[38;5;28mself\u001b[39m, value):\n\u001b[1;32m     13\u001b[0m     \u001b[38;5;28;01mif\u001b[39;00m \u001b[38;5;129;01mnot\u001b[39;00m \u001b[38;5;28misinstance\u001b[39m(value, \u001b[38;5;28mint\u001b[39m) \u001b[38;5;129;01mor\u001b[39;00m value \u001b[38;5;241m<\u001b[39m \u001b[38;5;241m0\u001b[39m:\n\u001b[0;32m---> 14\u001b[0m         \u001b[38;5;28;01mraise\u001b[39;00m \u001b[38;5;167;01mValueError\u001b[39;00m(\u001b[38;5;124m\"\u001b[39m\u001b[38;5;124mAge must be a positive integer\u001b[39m\u001b[38;5;124m\"\u001b[39m)\n\u001b[1;32m     15\u001b[0m     \u001b[38;5;28mself\u001b[39m\u001b[38;5;241m.\u001b[39m_age \u001b[38;5;241m=\u001b[39m value\n",
      "\u001b[0;31mValueError\u001b[0m: Age must be a positive integer"
     ]
    }
   ],
   "source": [
    "p.age = -5\n"
   ]
  },
  {
   "cell_type": "markdown",
   "id": "6c13ee50",
   "metadata": {},
   "source": [
    "This can also be done using a descriptor. A descriptor is an object that defines the behavior of an attribute when it is accessed or modified. Descriptors are defined by creating a class that implements the `__set_name__`, `__get__`, `__set__`, and `__delete__` methods.\n",
    "\n",
    "In this case, we can create a `PositiveInteger` descriptor that enforces the constraint that the value is always a positive integer. The `__get__` method is called when the attribute is accessed, and the `__set__` method is called when the attribute is modified. The `__delete__` method is called when the attribute is deleted. The `__set_name__` method is called when the descriptor is created, and it allows us to set the name of the attribute in the class.\n",
    "\n"
   ]
  },
  {
   "cell_type": "code",
   "execution_count": 49,
   "id": "2040a78a",
   "metadata": {},
   "outputs": [
    {
     "data": {
      "text/plain": [
       "Person(name=Alice, age=35)"
      ]
     },
     "execution_count": 49,
     "metadata": {},
     "output_type": "execute_result"
    }
   ],
   "source": [
    "class PositiveInteger:\n",
    "    def __set_name__(self, owner, name):\n",
    "        self.name = name\n",
    "\n",
    "    def __get__(self, instance, owner):\n",
    "        return instance.__dict__[self.name]\n",
    "\n",
    "    def __set__(self, instance, value):\n",
    "        if not isinstance(value, int) or value < 0:\n",
    "            raise ValueError(f\"{self.name} must be a positive integer\")\n",
    "        instance.__dict__[self.name] = value\n",
    "\n",
    "    def __delete__(self, instance):\n",
    "        del instance.__dict__[self.name]\n",
    "\n",
    "class Person:\n",
    "    age = PositiveInteger()\n",
    "\n",
    "    def __init__(self, name, age):\n",
    "        self.name = name\n",
    "        self.age = age\n",
    "\n",
    "    def __repr__(self):\n",
    "        return f\"Person(name={self.name}, age={self.age})\"\n",
    "\n",
    "\n",
    "p = Person(\"Alice\", 30)\n",
    "\n",
    "p.age = 35\n",
    "\n",
    "p"
   ]
  },
  {
   "cell_type": "code",
   "execution_count": 47,
   "id": "661b965e",
   "metadata": {},
   "outputs": [
    {
     "ename": "ValueError",
     "evalue": "age must be a positive integer",
     "output_type": "error",
     "traceback": [
      "\u001b[0;31m---------------------------------------------------------------------------\u001b[0m",
      "\u001b[0;31mValueError\u001b[0m                                Traceback (most recent call last)",
      "Cell \u001b[0;32mIn[47], line 1\u001b[0m\n\u001b[0;32m----> 1\u001b[0m \u001b[43mp\u001b[49m\u001b[38;5;241;43m.\u001b[39;49m\u001b[43mage\u001b[49m \u001b[38;5;241m=\u001b[39m \u001b[38;5;241m-\u001b[39m\u001b[38;5;241m5\u001b[39m\n",
      "Cell \u001b[0;32mIn[46], line 10\u001b[0m, in \u001b[0;36mPositiveInteger.__set__\u001b[0;34m(self, instance, value)\u001b[0m\n\u001b[1;32m      8\u001b[0m \u001b[38;5;28;01mdef\u001b[39;00m\u001b[38;5;250m \u001b[39m\u001b[38;5;21m__set__\u001b[39m(\u001b[38;5;28mself\u001b[39m, instance, value):\n\u001b[1;32m      9\u001b[0m     \u001b[38;5;28;01mif\u001b[39;00m \u001b[38;5;129;01mnot\u001b[39;00m \u001b[38;5;28misinstance\u001b[39m(value, \u001b[38;5;28mint\u001b[39m) \u001b[38;5;129;01mor\u001b[39;00m value \u001b[38;5;241m<\u001b[39m \u001b[38;5;241m0\u001b[39m:\n\u001b[0;32m---> 10\u001b[0m         \u001b[38;5;28;01mraise\u001b[39;00m \u001b[38;5;167;01mValueError\u001b[39;00m(\u001b[38;5;124mf\u001b[39m\u001b[38;5;124m\"\u001b[39m\u001b[38;5;132;01m{\u001b[39;00m\u001b[38;5;28mself\u001b[39m\u001b[38;5;241m.\u001b[39mname\u001b[38;5;132;01m}\u001b[39;00m\u001b[38;5;124m must be a positive integer\u001b[39m\u001b[38;5;124m\"\u001b[39m)\n\u001b[1;32m     11\u001b[0m     instance\u001b[38;5;241m.\u001b[39m\u001b[38;5;18m__dict__\u001b[39m[\u001b[38;5;28mself\u001b[39m\u001b[38;5;241m.\u001b[39mname] \u001b[38;5;241m=\u001b[39m value\n",
      "\u001b[0;31mValueError\u001b[0m: age must be a positive integer"
     ]
    }
   ],
   "source": [
    "\n",
    "p.age = -5"
   ]
  },
  {
   "cell_type": "markdown",
   "id": "d628fb4d",
   "metadata": {},
   "source": [
    "Descriptors are a powerful feature of Python that allows you to define custom behavior for attributes. They are used in many built-in types and libraries, including the `param` library."
   ]
  },
  {
   "cell_type": "markdown",
   "id": "8079ebf5-1a03-4cba-b682-0c915f50682c",
   "metadata": {},
   "source": [
    "## Callbacks"
   ]
  },
  {
   "cell_type": "code",
   "execution_count": null,
   "id": "81375d15",
   "metadata": {},
   "outputs": [],
   "source": []
  },
  {
   "cell_type": "code",
   "execution_count": null,
   "id": "62933a0c-90ad-43c9-89a4-e0cf4c1eb910",
   "metadata": {},
   "outputs": [
    {
     "ename": "ValueError",
     "evalue": "Parameter 'name' is readonly",
     "output_type": "error",
     "traceback": [
      "\u001b[0;31m---------------------------------------------------------------------------\u001b[0m",
      "\u001b[0;31mValueError\u001b[0m                                Traceback (most recent call last)",
      "Cell \u001b[0;32mIn[27], line 94\u001b[0m\n\u001b[1;32m     91\u001b[0m     \u001b[38;5;28;01mreturn\u001b[39;00m \u001b[38;5;124mf\u001b[39m\u001b[38;5;124m\"\u001b[39m\u001b[38;5;124mPerson(name=\u001b[39m\u001b[38;5;132;01m{\u001b[39;00m\u001b[38;5;28mself\u001b[39m\u001b[38;5;241m.\u001b[39mname\u001b[38;5;132;01m}\u001b[39;00m\u001b[38;5;124m, age=\u001b[39m\u001b[38;5;132;01m{\u001b[39;00m\u001b[38;5;28mself\u001b[39m\u001b[38;5;241m.\u001b[39mage\u001b[38;5;132;01m}\u001b[39;00m\u001b[38;5;124m)\u001b[39m\u001b[38;5;124m\"\u001b[39m\n\u001b[1;32m     93\u001b[0m \u001b[38;5;66;03m# Demonstrate the library\u001b[39;00m\n\u001b[0;32m---> 94\u001b[0m person \u001b[38;5;241m=\u001b[39m \u001b[43mPerson\u001b[49m\u001b[43m(\u001b[49m\u001b[43mname\u001b[49m\u001b[38;5;241;43m=\u001b[39;49m\u001b[38;5;124;43m\"\u001b[39;49m\u001b[38;5;124;43mAlice\u001b[39;49m\u001b[38;5;124;43m\"\u001b[39;49m\u001b[43m,\u001b[49m\u001b[43m \u001b[49m\u001b[43mage\u001b[49m\u001b[38;5;241;43m=\u001b[39;49m\u001b[38;5;241;43m25\u001b[39;49m\u001b[43m)\u001b[49m\n\u001b[1;32m     95\u001b[0m \u001b[38;5;28mprint\u001b[39m(person)\n\u001b[1;32m     97\u001b[0m \u001b[38;5;66;03m# Change the age\u001b[39;00m\n",
      "Cell \u001b[0;32mIn[27], line 74\u001b[0m, in \u001b[0;36mParameterized.__init__\u001b[0;34m(self, **kwargs)\u001b[0m\n\u001b[1;32m     72\u001b[0m \u001b[38;5;66;03m# Set parameters from kwargs\u001b[39;00m\n\u001b[1;32m     73\u001b[0m \u001b[38;5;28;01mfor\u001b[39;00m name, value \u001b[38;5;129;01min\u001b[39;00m kwargs\u001b[38;5;241m.\u001b[39mitems():\n\u001b[0;32m---> 74\u001b[0m   \u001b[38;5;28;43msetattr\u001b[39;49m\u001b[43m(\u001b[49m\u001b[38;5;28;43mself\u001b[39;49m\u001b[43m,\u001b[49m\u001b[43m \u001b[49m\u001b[43mname\u001b[49m\u001b[43m,\u001b[49m\u001b[43m \u001b[49m\u001b[43mvalue\u001b[49m\u001b[43m)\u001b[49m\n",
      "Cell \u001b[0;32mIn[27], line 23\u001b[0m, in \u001b[0;36mParameter.__set__\u001b[0;34m(self, instance, value)\u001b[0m\n\u001b[1;32m     21\u001b[0m \u001b[38;5;250m\u001b[39m\u001b[38;5;124;03m\"\"\"Set the parameter value on the instance.\"\"\"\u001b[39;00m\n\u001b[1;32m     22\u001b[0m \u001b[38;5;28;01mif\u001b[39;00m \u001b[38;5;28mself\u001b[39m\u001b[38;5;241m.\u001b[39mreadonly:\n\u001b[0;32m---> 23\u001b[0m   \u001b[38;5;28;01mraise\u001b[39;00m \u001b[38;5;167;01mValueError\u001b[39;00m(\u001b[38;5;124mf\u001b[39m\u001b[38;5;124m\"\u001b[39m\u001b[38;5;124mParameter \u001b[39m\u001b[38;5;124m'\u001b[39m\u001b[38;5;132;01m{\u001b[39;00m\u001b[38;5;28mself\u001b[39m\u001b[38;5;241m.\u001b[39mname\u001b[38;5;132;01m}\u001b[39;00m\u001b[38;5;124m'\u001b[39m\u001b[38;5;124m is readonly\u001b[39m\u001b[38;5;124m\"\u001b[39m)\n\u001b[1;32m     25\u001b[0m \u001b[38;5;66;03m# Store the old value for callbacks\u001b[39;00m\n\u001b[1;32m     26\u001b[0m old_value \u001b[38;5;241m=\u001b[39m instance\u001b[38;5;241m.\u001b[39m_param_values\u001b[38;5;241m.\u001b[39mget(\u001b[38;5;28mself\u001b[39m\u001b[38;5;241m.\u001b[39mname, \u001b[38;5;28mself\u001b[39m\u001b[38;5;241m.\u001b[39mdefault)\n",
      "\u001b[0;31mValueError\u001b[0m: Parameter 'name' is readonly"
     ]
    }
   ],
   "source": [
    "class Parameter:\n",
    "  \"\"\"Base class for all parameters in our tiny param library.\"\"\"\n",
    "\n",
    "  def __init__(self, default=None, doc=None, bounds=None, readonly=False):\n",
    "    self.default = default\n",
    "    self.name = None  # Will be set when the parameter is added to a parameterized class\n",
    "    self._callbacks = []\n",
    "\n",
    "  def __set_name__(self, owner, name):\n",
    "    \"\"\"Called when the parameter is defined in a class.\"\"\"\n",
    "    self.name = name\n",
    "\n",
    "  def __get__(self, instance, owner):\n",
    "    \"\"\"Get the parameter value from the instance.\"\"\"\n",
    "    return instance._param_values.get(self.name, self.default)\n",
    "\n",
    "  def __set__(self, instance, value):\n",
    "    \"\"\"Set the parameter value on the instance.\"\"\"\n",
    "    if self.readonly:\n",
    "      raise ValueError(f\"Parameter '{self.name}' is readonly\")\n",
    "\n",
    "    # Store the old value for callbacks\n",
    "    old_value = instance._param_values.get(self.name, self.default)\n",
    "\n",
    "    # Set the value\n",
    "    instance._param_values[self.name] = value\n",
    "\n",
    "    # Trigger callbacks if value changed\n",
    "    if old_value != value:\n",
    "      for callback in self._callbacks:\n",
    "        callback(instance, self.name, old=old_value, new=value)\n",
    "\n",
    "  def watch(self, callback):\n",
    "    \"\"\"Add a callback to be called when this parameter changes.\"\"\"\n",
    "    self._callbacks.append(callback)\n",
    "    return callback\n",
    "\n",
    "class Number(Parameter):\n",
    "  \"\"\"A numeric parameter with optional bounds.\"\"\"\n",
    "\n",
    "  def validate(self, value):\n",
    "    \"\"\"Ensure the value is a number and within bounds.\"\"\"\n",
    "    if not isinstance(value, (int, float)):\n",
    "      raise ValueError(f\"Parameter '{self.name}' must be a number\")\n",
    "\n",
    "    if self.bounds is not None:\n",
    "      min_val, max_val = self.bounds\n",
    "      if value < min_val or value > max_val:\n",
    "        raise ValueError(f\"Parameter '{self.name}' must be between {min_val} and {max_val}\")\n",
    "\n",
    "    return value\n",
    "\n",
    "class String(Parameter):\n",
    "  \"\"\"A string parameter.\"\"\"\n",
    "\n",
    "  def validate(self, value):\n",
    "    \"\"\"Ensure the value is a string.\"\"\"\n",
    "    if not isinstance(value, str):\n",
    "      raise ValueError(f\"Parameter '{self.name}' must be a string\")\n",
    "    return value\n",
    "\n",
    "class Parameterized:\n",
    "  \"\"\"Base class for objects with parameters.\"\"\"\n",
    "\n",
    "  def __init__(self, **kwargs):\n",
    "    # Store parameter values\n",
    "    self._param_values = {}\n",
    "\n",
    "    # Set parameters from kwargs\n",
    "    for name, value in kwargs.items():\n",
    "      setattr(self, name, value)\n",
    "\n",
    "  @classmethod\n",
    "  def param(cls):\n",
    "    \"\"\"Get a dict of all parameters defined on this class.\"\"\"\n",
    "    params = {}\n",
    "    for name, value in cls.__dict__.items():\n",
    "      if isinstance(value, Parameter):\n",
    "        params[name] = value\n",
    "    return params\n",
    "\n",
    "# Example usage\n",
    "class Person(Parameterized):\n",
    "  name = String(default=\"John\", doc=\"Person's name\")\n",
    "  age = Number(default=30, bounds=(0, 120), doc=\"Person's age\")\n",
    "\n",
    "  def __repr__(self):\n",
    "    return f\"Person(name={self.name}, age={self.age})\"\n",
    "\n",
    "# Demonstrate the library\n",
    "person = Person(name=\"Alice\", age=25)\n",
    "print(person)\n",
    "\n",
    "# Change the age\n",
    "person.age = 26\n",
    "\n"
   ]
  },
  {
   "cell_type": "code",
   "execution_count": null,
   "id": "cd483abb-de36-4145-8ee9-2fca6ef82098",
   "metadata": {},
   "outputs": [],
   "source": []
  },
  {
   "cell_type": "code",
   "execution_count": null,
   "id": "5585af5e-e7d3-42cd-a44e-5056d98c84c3",
   "metadata": {},
   "outputs": [],
   "source": []
  }
 ],
 "metadata": {
  "kernelspec": {
   "display_name": ".venv",
   "language": "python",
   "name": "python3"
  },
  "language_info": {
   "codemirror_mode": {
    "name": "ipython",
    "version": 3
   },
   "file_extension": ".py",
   "mimetype": "text/x-python",
   "name": "python",
   "nbconvert_exporter": "python",
   "pygments_lexer": "ipython3",
   "version": "3.12.5"
  },
  "widgets": {
   "application/vnd.jupyter.widget-state+json": {
    "state": {},
    "version_major": 2,
    "version_minor": 0
   }
  }
 },
 "nbformat": 4,
 "nbformat_minor": 5
}
