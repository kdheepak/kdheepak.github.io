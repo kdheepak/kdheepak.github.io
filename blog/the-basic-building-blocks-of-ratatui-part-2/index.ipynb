{
 "cells": [
  {
   "cell_type": "raw",
   "id": "bf830a38-e568-4150-97b9-de5dc6172a32",
   "metadata": {
    "execution": {
     "iopub.execute_input": "2024-05-15T02:03:24.769199+00:00",
     "iopub.status.busy": "2024-05-15T02:03:24.768989+00:00",
     "iopub.status.idle": "2024-05-15T02:03:24.769163+00:00",
     "shell.execute_reply": "2024-05-15T02:03:24.910732+00:00"
    }
   },
   "source": [
    "---\n",
    "title: The Basic Building blocks of Ratatui - Part 2\n",
    "date: 2024-05-14T22:03:04-0400\n",
    "categories: [rust]\n",
    "keywords: rust, ratatui\n",
    "summary: Showcase of using layout\n",
    "draft: true\n",
    "---"
   ]
  },
  {
   "cell_type": "markdown",
   "id": "7e98f2e5-d4f5-4fc0-84e3-c9920e267bed",
   "metadata": {},
   "source": [
    "Ratatui is a crate for building terminal user interfaces in Rust."
   ]
  },
  {
   "cell_type": "code",
   "execution_count": 2,
   "id": "73c1a207-8f25-467a-b3ed-2a5d6ac25461",
   "metadata": {
    "execution": {
     "iopub.execute_input": "2024-05-16T13:35:27.458081+00:00",
     "iopub.status.busy": "2024-05-16T13:35:27.457935+00:00",
     "iopub.status.idle": "2024-05-16T13:35:27.458058+00:00",
     "shell.execute_reply": "2024-05-16T13:35:27.699670+00:00"
    }
   },
   "outputs": [],
   "source": [
    "//| code-fold: true\n",
    "\n",
    "fn show_html<D>(content: D) where D: std::fmt::Display {\n",
    "    println!(r#\"EVCXR_BEGIN_CONTENT text/html\n",
    "<div style=\"display: flex; justify-content:start; gap: 1em; margin: 1em\">\n",
    "{}\n",
    "</div>\n",
    "EVCXR_END_CONTENT\"#, content);\n",
    "}\n"
   ]
  },
  {
   "cell_type": "code",
   "execution_count": 4,
   "id": "7864dad5-68b0-41c7-a5a1-3127e70776fe",
   "metadata": {
    "execution": {
     "iopub.execute_input": "2024-05-16T13:36:17.352058+00:00",
     "iopub.status.busy": "2024-05-16T13:36:17.351908+00:00",
     "iopub.status.idle": "2024-05-16T13:36:17.352027+00:00",
     "shell.execute_reply": "2024-05-16T13:36:26.951926+00:00"
    }
   },
   "outputs": [],
   "source": [
    "//| code-fold: true\n",
    ":dep ratatui = \"0.26.2\"\n",
    ":dep ratatui-macros = \"0.4.0\""
   ]
  },
  {
   "cell_type": "markdown",
   "id": "20505bc4-d398-4e9a-b5ae-d223490d4d79",
   "metadata": {},
   "source": [
    "## Layout primitives"
   ]
  },
  {
   "cell_type": "markdown",
   "id": "3dfa65ae-348e-49c8-bce9-752d8e36d20b",
   "metadata": {},
   "source": [
    "We already saw that `Rect` is one of the primitives for rendering a widget.\n",
    "\n",
    "We can create a `Rect` using `Rect::new(x, y, width, height)`:"
   ]
  },
  {
   "cell_type": "code",
   "execution_count": 7,
   "id": "a8c2eb81-3cef-45ac-b256-ffe606b39054",
   "metadata": {
    "execution": {
     "iopub.execute_input": "2024-05-16T13:37:01.147675+00:00",
     "iopub.status.busy": "2024-05-16T13:37:01.147553+00:00",
     "iopub.status.idle": "2024-05-16T13:37:01.147657+00:00",
     "shell.execute_reply": "2024-05-16T13:37:03.760976+00:00"
    }
   },
   "outputs": [
    {
     "data": {
      "text/plain": [
       "Buffer {\n",
       "    area: Rect { x: 0, y: 0, width: 50, height: 5 },\n",
       "    content: [\n",
       "        \"┌────────────────────────────────────────────────┐\",\n",
       "        \"│                                                │\",\n",
       "        \"│                                                │\",\n",
       "        \"│                                                │\",\n",
       "        \"└────────────────────────────────────────────────┘\",\n",
       "    ],\n",
       "    styles: [\n",
       "        x: 0, y: 0, fg: Reset, bg: Reset, underline: Reset, modifier: NONE,\n",
       "    ]\n",
       "}"
      ]
     },
     "execution_count": 7,
     "metadata": {},
     "output_type": "execute_result"
    }
   ],
   "source": [
    "use ratatui::widgets::Widget;\n",
    "\n",
    "let (x, y, width, height) = (0, 0, 50, 5); \n",
    "let area = ratatui::layout::Rect::new(x, y, width, height);\n",
    "let mut buf = ratatui::buffer::Buffer::empty(area);\n",
    "ratatui::widgets::Block::bordered().render(area, &mut buf);\n",
    "buf"
   ]
  },
  {
   "cell_type": "markdown",
   "id": "8ac6f062-aeda-4780-90d3-fbc59f765e31",
   "metadata": {},
   "source": [
    "You can create inner `Rect`s by using the `Rect::inner` method:"
   ]
  },
  {
   "cell_type": "code",
   "execution_count": 10,
   "id": "8c86072e-9f59-4224-9d6a-c3bc929543a2",
   "metadata": {
    "execution": {
     "iopub.execute_input": "2024-05-16T13:37:29.774271+00:00",
     "iopub.status.busy": "2024-05-16T13:37:29.774176+00:00",
     "iopub.status.idle": "2024-05-16T13:37:29.774256+00:00",
     "shell.execute_reply": "2024-05-16T13:37:30.359521+00:00"
    }
   },
   "outputs": [
    {
     "data": {
      "text/plain": [
       "Buffer {\n",
       "    area: Rect { x: 0, y: 0, width: 50, height: 5 },\n",
       "    content: [\n",
       "        \"                                                  \",\n",
       "        \"     ┌──────────────────────────────────────┐     \",\n",
       "        \"     │                                      │     \",\n",
       "        \"     └──────────────────────────────────────┘     \",\n",
       "        \"                                                  \",\n",
       "    ],\n",
       "    styles: [\n",
       "        x: 0, y: 0, fg: Reset, bg: Reset, underline: Reset, modifier: NONE,\n",
       "    ]\n",
       "}"
      ]
     },
     "execution_count": 10,
     "metadata": {},
     "output_type": "execute_result"
    }
   ],
   "source": [
    "let mut buf = ratatui::buffer::Buffer::empty(area);\n",
    "\n",
    "let (horizontal, vertical) = (5, 1);\n",
    "let inner_area = area.inner(&ratatui::layout::Margin::new(horizontal, vertical));\n",
    "\n",
    "ratatui::widgets::Block::bordered().render(inner_area, &mut buf);\n",
    "buf"
   ]
  },
  {
   "cell_type": "markdown",
   "id": "9b3e6a2a-03fb-478e-9715-1af0810150c5",
   "metadata": {},
   "source": [
    "Ratatui also has a layout solver using [the cassowary algorithm](https://en.wikipedia.org/wiki/Cassowary_(software)?useskin=vector).\n",
    "\n"
   ]
  },
  {
   "cell_type": "code",
   "execution_count": 11,
   "id": "b8981456-0f54-4aa3-bba1-f16903c32f17",
   "metadata": {
    "execution": {
     "iopub.execute_input": "2024-05-16T13:37:50.730338+00:00",
     "iopub.status.busy": "2024-05-16T13:37:50.730139+00:00",
     "iopub.status.idle": "2024-05-16T13:37:50.730296+00:00",
     "shell.execute_reply": "2024-05-16T13:37:51.407018+00:00"
    }
   },
   "outputs": [
    {
     "data": {
      "text/plain": [
       "Buffer {\n",
       "    area: Rect { x: 0, y: 0, width: 50, height: 5 },\n",
       "    content: [\n",
       "        \"┌first───┐┌second──┐                              \",\n",
       "        \"│        ││        │                              \",\n",
       "        \"│        ││        │                              \",\n",
       "        \"│        ││        │                              \",\n",
       "        \"└────────┘└────────┘                              \",\n",
       "    ],\n",
       "    styles: [\n",
       "        x: 0, y: 0, fg: Reset, bg: Reset, underline: Reset, modifier: NONE,\n",
       "    ]\n",
       "}"
      ]
     },
     "execution_count": 11,
     "metadata": {},
     "output_type": "execute_result"
    }
   ],
   "source": [
    "use ratatui::layout::{Layout, Constraint};\n",
    "\n",
    "let [first, second] = ratatui::layout::Layout::horizontal([Constraint::Length(10), Constraint::Length(10)]).areas(area);\n",
    "\n",
    "let mut buf = ratatui::buffer::Buffer::empty(area);\n",
    "ratatui::widgets::Block::bordered().title(\"first\").render(first, &mut buf);\n",
    "ratatui::widgets::Block::bordered().title(\"second\").render(second, &mut buf);\n",
    "buf"
   ]
  },
  {
   "cell_type": "markdown",
   "id": "a60b7371-faf3-459b-ad5c-2e82d4c28cb9",
   "metadata": {},
   "source": [
    "`ratatui-macros` has a macro to make some of this boilerplate simpler."
   ]
  },
  {
   "cell_type": "code",
   "execution_count": 13,
   "id": "f62b8bd3-04e8-4c35-ae93-6d627f2594b3",
   "metadata": {
    "execution": {
     "iopub.execute_input": "2024-05-16T13:38:26.981121+00:00",
     "iopub.status.busy": "2024-05-16T13:38:26.981038+00:00",
     "iopub.status.idle": "2024-05-16T13:38:26.981102+00:00",
     "shell.execute_reply": "2024-05-16T13:38:27.772992+00:00"
    }
   },
   "outputs": [
    {
     "data": {
      "text/plain": [
       "Buffer {\n",
       "    area: Rect { x: 0, y: 0, width: 50, height: 6 },\n",
       "    content: [\n",
       "        \"┌first───┐┌second──┐                              \",\n",
       "        \"└────────┘└────────┘                              \",\n",
       "        \"               ┌first───┐┌second──┐               \",\n",
       "        \"               └────────┘└────────┘               \",\n",
       "        \"                              ┌first───┐┌second──┐\",\n",
       "        \"                              └────────┘└────────┘\",\n",
       "    ],\n",
       "    styles: [\n",
       "        x: 0, y: 0, fg: Reset, bg: Reset, underline: Reset, modifier: NONE,\n",
       "    ]\n",
       "}"
      ]
     },
     "execution_count": 13,
     "metadata": {},
     "output_type": "execute_result"
    }
   ],
   "source": [
    "use ratatui_macros::{horizontal, vertical};\n",
    "\n",
    "let (x, y, width, height) = (0, 0, 50, 6); \n",
    "let area = ratatui::layout::Rect::new(x, y, width, height);\n",
    "\n",
    "let mut buf = ratatui::buffer::Buffer::empty(area);\n",
    "\n",
    "let [top, middle, bottom] = vertical![*=1, *=1, *=1].areas(area);\n",
    "\n",
    "let [first, second] = horizontal![==10, ==10].areas(top);\n",
    "ratatui::widgets::Block::bordered().title(\"first\").render(first, &mut buf);\n",
    "ratatui::widgets::Block::bordered().title(\"second\").render(second, &mut buf);\n",
    "\n",
    "let [first, second] = horizontal![==10, ==10].flex(ratatui::layout::Flex::Center).areas(middle);\n",
    "ratatui::widgets::Block::bordered().title(\"first\").render(first, &mut buf);\n",
    "ratatui::widgets::Block::bordered().title(\"second\").render(second, &mut buf);\n",
    "\n",
    "let [first, second] = horizontal![==10, ==10].flex(ratatui::layout::Flex::End).areas(bottom);\n",
    "ratatui::widgets::Block::bordered().title(\"first\").render(first, &mut buf);\n",
    "ratatui::widgets::Block::bordered().title(\"second\").render(second, &mut buf);\n",
    "\n",
    "buf"
   ]
  },
  {
   "cell_type": "markdown",
   "id": "4b43025a-6998-403b-bfc4-795bf68f4450",
   "metadata": {},
   "source": [
    "In Ratatui, there are 3 fundamental text primitives that you should be aware of."
   ]
  },
  {
   "cell_type": "markdown",
   "id": "d00ffded-9ab5-4846-8d08-c3f3b11e9fa0",
   "metadata": {},
   "source": [
    "### Span"
   ]
  },
  {
   "cell_type": "markdown",
   "id": "713601e9-7f89-443f-871c-5534bfc2f9b5",
   "metadata": {},
   "source": [
    "The first is a `Span`."
   ]
  },
  {
   "cell_type": "code",
   "execution_count": 43,
   "id": "4352a49f-2b40-4bd8-a37c-7f020879a4a6",
   "metadata": {
    "execution": {
     "iopub.execute_input": "2024-05-15T20:59:11.590355+00:00",
     "iopub.status.busy": "2024-05-15T20:59:11.590283+00:00",
     "iopub.status.idle": "2024-05-15T20:59:11.590339+00:00",
     "shell.execute_reply": "2024-05-15T20:59:12.298698+00:00"
    }
   },
   "outputs": [
    {
     "data": {
      "text/plain": [
       "Span { content: \"hello world\", style: Style { fg: None, bg: None, underline_color: None, add_modifier: NONE, sub_modifier: NONE } }"
      ]
     },
     "execution_count": 43,
     "metadata": {},
     "output_type": "execute_result"
    }
   ],
   "source": [
    "use ratatui::text::Span;\n",
    "\n",
    "let span = Span::raw(\"hello world\");\n",
    "span"
   ]
  },
  {
   "cell_type": "markdown",
   "id": "d10fc3ea-4044-4140-8dce-8f08ab15f7ff",
   "metadata": {},
   "source": [
    "A `Span` contains two fields. "
   ]
  },
  {
   "cell_type": "code",
   "execution_count": 44,
   "id": "e244e525-83f6-4319-9c26-e12bf745084f",
   "metadata": {
    "execution": {
     "iopub.execute_input": "2024-05-15T20:59:12.298908+00:00",
     "iopub.status.busy": "2024-05-15T20:59:12.298862+00:00",
     "iopub.status.idle": "2024-05-15T20:59:12.298896+00:00",
     "shell.execute_reply": "2024-05-15T20:59:12.858469+00:00"
    }
   },
   "outputs": [
    {
     "data": {
      "text/plain": [
       "\"hello world\""
      ]
     },
     "execution_count": 44,
     "metadata": {},
     "output_type": "execute_result"
    }
   ],
   "source": [
    "span.content"
   ]
  },
  {
   "cell_type": "code",
   "execution_count": 45,
   "id": "32bc98a5-da0c-425d-8d7b-fde5530a2edf",
   "metadata": {
    "execution": {
     "iopub.execute_input": "2024-05-15T20:59:12.858542+00:00",
     "iopub.status.busy": "2024-05-15T20:59:12.858519+00:00",
     "iopub.status.idle": "2024-05-15T20:59:12.858538+00:00",
     "shell.execute_reply": "2024-05-15T20:59:13.370042+00:00"
    }
   },
   "outputs": [
    {
     "data": {
      "text/plain": [
       "Style { fg: None, bg: None, underline_color: None, add_modifier: NONE, sub_modifier: NONE }"
      ]
     },
     "execution_count": 45,
     "metadata": {},
     "output_type": "execute_result"
    }
   ],
   "source": [
    "span.style"
   ]
  },
  {
   "cell_type": "markdown",
   "id": "e4ebc9b0-fd77-45ac-9edb-9a0d865a8c8c",
   "metadata": {},
   "source": [
    "A `Style` object contains foreground color, background color, and modifiers for whether the style being applied is **bold**, _italics_, etc"
   ]
  },
  {
   "cell_type": "markdown",
   "id": "c7b7bce3-76a3-491c-bf70-c064c2bb3e89",
   "metadata": {},
   "source": [
    "There are a number of constructors for `Span` that you may use, but `ratatui` exposes a `Stylize` trait that makes it easy to style content which I find very useful."
   ]
  },
  {
   "cell_type": "code",
   "execution_count": 46,
   "id": "e6a3b553-6720-4fd7-8954-65ebbb49a04f",
   "metadata": {
    "execution": {
     "iopub.execute_input": "2024-05-15T20:59:13.370116+00:00",
     "iopub.status.busy": "2024-05-15T20:59:13.370095+00:00",
     "iopub.status.idle": "2024-05-15T20:59:13.370112+00:00",
     "shell.execute_reply": "2024-05-15T20:59:13.931198+00:00"
    }
   },
   "outputs": [
    {
     "data": {
      "text/plain": [
       "Span { content: \"hello world\", style: Style { fg: None, bg: None, underline_color: None, add_modifier: BOLD, sub_modifier: NONE } }"
      ]
     },
     "execution_count": 46,
     "metadata": {},
     "output_type": "execute_result"
    }
   ],
   "source": [
    "use ratatui::style::Stylize; // required trait to use style methods\n",
    "\n",
    "\"hello world\".bold()"
   ]
  },
  {
   "cell_type": "markdown",
   "id": "cd786269-de20-4338-9f98-7bb468c5fc26",
   "metadata": {},
   "source": [
    "You can even chain these trait methods to add more styles:"
   ]
  },
  {
   "cell_type": "code",
   "execution_count": 47,
   "id": "c00050c6-fa55-4a82-817a-5c563e8708fe",
   "metadata": {
    "execution": {
     "iopub.execute_input": "2024-05-15T20:59:13.931269+00:00",
     "iopub.status.busy": "2024-05-15T20:59:13.931250+00:00",
     "iopub.status.idle": "2024-05-15T20:59:13.931266+00:00",
     "shell.execute_reply": "2024-05-15T20:59:14.457097+00:00"
    }
   },
   "outputs": [
    {
     "data": {
      "text/plain": [
       "Span { content: \"hello world\", style: Style { fg: Some(Yellow), bg: Some(Black), underline_color: None, add_modifier: BOLD, sub_modifier: NONE } }"
      ]
     },
     "execution_count": 47,
     "metadata": {},
     "output_type": "execute_result"
    }
   ],
   "source": [
    "\"hello world\".bold().yellow().on_black()"
   ]
  },
  {
   "cell_type": "code",
   "execution_count": 48,
   "id": "7a538856-9b07-4e9d-83be-f2780c74ac17",
   "metadata": {
    "execution": {
     "iopub.execute_input": "2024-05-15T20:59:14.457179+00:00",
     "iopub.status.busy": "2024-05-15T20:59:14.457156+00:00",
     "iopub.status.idle": "2024-05-15T20:59:14.457174+00:00",
     "shell.execute_reply": "2024-05-15T20:59:14.749470+00:00"
    }
   },
   "outputs": [],
   "source": [
    "//| code-fold: true\n",
    "fn show_span(s: Span) {\n",
    "    let mut html = String::new();\n",
    "    html.push_str(\"<span style=\\\"\");\n",
    "\n",
    "    // Set foreground color\n",
    "    if let Some(color) = &s.style.fg {\n",
    "        html.push_str(&format!(\"color: {};\", color));\n",
    "    }\n",
    "\n",
    "    // Set background color\n",
    "    if let Some(color) = &s.style.bg {\n",
    "        html.push_str(&format!(\"background-color: {};\", color));\n",
    "    }\n",
    "\n",
    "    // Add modifiers\n",
    "    match s.style.add_modifier {\n",
    "        ratatui::style::Modifier::BOLD => html.push_str(\"font-weight: bold;\"),\n",
    "        ratatui::style::Modifier::UNDERLINED => html.push_str(\"text-decoration: underline;\"),\n",
    "        _ => {}\n",
    "    }\n",
    "    html.push_str(\"\\\">\");\n",
    "    html.push_str(&s.content);\n",
    "    html.push_str(\"</span>\");\n",
    "    show_html(html)\n",
    "}"
   ]
  },
  {
   "cell_type": "code",
   "execution_count": 49,
   "id": "253de6ed-ea89-4d11-be95-0fae4c33914a",
   "metadata": {
    "execution": {
     "iopub.execute_input": "2024-05-15T20:59:14.749604+00:00",
     "iopub.status.busy": "2024-05-15T20:59:14.749581+00:00",
     "iopub.status.idle": "2024-05-15T20:59:14.749599+00:00",
     "shell.execute_reply": "2024-05-15T20:59:15.617213+00:00"
    }
   },
   "outputs": [
    {
     "data": {
      "text/html": [
       "<div style=\"display: flex; justify-content:start; gap: 1em; margin: 1em\">\n",
       "<span style=\"font-weight: bold;\">hello world</span>\n",
       "</div>"
      ],
      "text/plain": [
       "()"
      ]
     },
     "execution_count": 49,
     "metadata": {},
     "output_type": "execute_result"
    }
   ],
   "source": [
    "show_span(\"hello world\".bold())"
   ]
  },
  {
   "cell_type": "code",
   "execution_count": 50,
   "id": "1438f4a8-3e43-43a2-bbb9-0ac34351762c",
   "metadata": {
    "execution": {
     "iopub.execute_input": "2024-05-15T20:59:15.617497+00:00",
     "iopub.status.busy": "2024-05-15T20:59:15.617427+00:00",
     "iopub.status.idle": "2024-05-15T20:59:15.617480+00:00",
     "shell.execute_reply": "2024-05-15T20:59:16.188929+00:00"
    }
   },
   "outputs": [
    {
     "data": {
      "text/html": [
       "<div style=\"display: flex; justify-content:start; gap: 1em; margin: 1em\">\n",
       "<span style=\"color: Yellow;background-color: Black;font-weight: bold;\">hello world</span>\n",
       "</div>"
      ],
      "text/plain": [
       "()"
      ]
     },
     "execution_count": 50,
     "metadata": {},
     "output_type": "execute_result"
    }
   ],
   "source": [
    "show_span(\"hello world\".yellow().bold().on_black())"
   ]
  },
  {
   "cell_type": "markdown",
   "id": "6721a2a4-9d1b-49b1-9c4f-cd7412a1f6a6",
   "metadata": {},
   "source": [
    "With `ratatui-macros`, you can even use a `format!` style macro to create a `Span`"
   ]
  },
  {
   "cell_type": "code",
   "execution_count": 51,
   "id": "572ceda9-2651-4b89-9d1d-425117e3f656",
   "metadata": {
    "execution": {
     "iopub.execute_input": "2024-05-15T20:59:16.189006+00:00",
     "iopub.status.busy": "2024-05-15T20:59:16.188981+00:00",
     "iopub.status.idle": "2024-05-15T20:59:16.189002+00:00",
     "shell.execute_reply": "2024-05-15T20:59:16.917794+00:00"
    }
   },
   "outputs": [
    {
     "data": {
      "text/plain": [
       "Span { content: \"hello world\", style: Style { fg: None, bg: None, underline_color: None, add_modifier: NONE, sub_modifier: NONE } }"
      ]
     },
     "execution_count": 51,
     "metadata": {},
     "output_type": "execute_result"
    }
   ],
   "source": [
    "use ratatui_macros::span;\n",
    "\n",
    "let world = \"world\";\n",
    "span!(\"hello {}\", world)"
   ]
  },
  {
   "cell_type": "markdown",
   "id": "0222fe5c-7de6-4ce1-9669-07e5d2cf0eab",
   "metadata": {},
   "source": [
    "### Line"
   ]
  },
  {
   "cell_type": "markdown",
   "id": "aae046dc-231f-44d2-bff7-1cf4a37816a7",
   "metadata": {
    "execution": {
     "iopub.execute_input": "2024-05-15T03:45:01.964531+00:00",
     "iopub.status.busy": "2024-05-15T03:45:01.964351+00:00",
     "iopub.status.idle": "2024-05-15T03:45:01.964490+00:00",
     "shell.execute_reply": "2024-05-15T03:45:02.334822+00:00"
    }
   },
   "source": [
    "The second primitive to be aware of is a `Line`."
   ]
  },
  {
   "cell_type": "markdown",
   "id": "3ae53fc4-c64e-4d35-9c53-d8d1342b2771",
   "metadata": {
    "execution": {
     "iopub.execute_input": "2024-05-15T03:45:29.832076+00:00",
     "iopub.status.busy": "2024-05-15T03:45:29.831942+00:00",
     "iopub.status.idle": "2024-05-15T03:45:29.832049+00:00",
     "shell.execute_reply": "2024-05-15T03:45:30.360267+00:00"
    }
   },
   "source": [
    "A line consists of one or more spans."
   ]
  },
  {
   "cell_type": "code",
   "execution_count": 52,
   "id": "e70835fd-f437-49b9-9837-754ef710310a",
   "metadata": {
    "execution": {
     "iopub.execute_input": "2024-05-15T20:59:16.917956+00:00",
     "iopub.status.busy": "2024-05-15T20:59:16.917912+00:00",
     "iopub.status.idle": "2024-05-15T20:59:16.917949+00:00",
     "shell.execute_reply": "2024-05-15T20:59:17.595517+00:00"
    }
   },
   "outputs": [
    {
     "data": {
      "text/plain": [
       "Line { spans: [Span { content: \"hello world\", style: Style { fg: None, bg: None, underline_color: None, add_modifier: NONE, sub_modifier: NONE } }], style: Style { fg: None, bg: None, underline_color: None, add_modifier: NONE, sub_modifier: NONE }, alignment: None }"
      ]
     },
     "execution_count": 52,
     "metadata": {},
     "output_type": "execute_result"
    }
   ],
   "source": [
    "use ratatui::text::Line;\n",
    "\n",
    "let line = Line::raw(\"hello world\");\n",
    "line"
   ]
  },
  {
   "cell_type": "code",
   "execution_count": 53,
   "id": "4bd65ed0-d0d7-4486-82b0-da22e72aecdd",
   "metadata": {
    "execution": {
     "iopub.execute_input": "2024-05-15T20:59:17.595589+00:00",
     "iopub.status.busy": "2024-05-15T20:59:17.595569+00:00",
     "iopub.status.idle": "2024-05-15T20:59:17.595586+00:00",
     "shell.execute_reply": "2024-05-15T20:59:18.377455+00:00"
    }
   },
   "outputs": [
    {
     "data": {
      "text/plain": [
       "[Span { content: \"hello world\", style: Style { fg: None, bg: None, underline_color: None, add_modifier: NONE, sub_modifier: NONE } }]"
      ]
     },
     "execution_count": 53,
     "metadata": {},
     "output_type": "execute_result"
    }
   ],
   "source": [
    "line.spans"
   ]
  },
  {
   "cell_type": "code",
   "execution_count": 54,
   "id": "6390f239-e2c4-4c6e-901d-c5b660dc388c",
   "metadata": {
    "execution": {
     "iopub.execute_input": "2024-05-15T20:59:18.377897+00:00",
     "iopub.status.busy": "2024-05-15T20:59:18.377725+00:00",
     "iopub.status.idle": "2024-05-15T20:59:18.377878+00:00",
     "shell.execute_reply": "2024-05-15T20:59:18.977921+00:00"
    }
   },
   "outputs": [
    {
     "data": {
      "text/plain": [
       "1"
      ]
     },
     "execution_count": 54,
     "metadata": {},
     "output_type": "execute_result"
    }
   ],
   "source": [
    "line.spans.len()"
   ]
  },
  {
   "cell_type": "markdown",
   "id": "eab56eba-76e7-494a-a8fa-213e4037745e",
   "metadata": {},
   "source": [
    "A unique feature of lines is that new lines are removed but the content is split into multiple spans. "
   ]
  },
  {
   "cell_type": "code",
   "execution_count": 55,
   "id": "ef6d2a85-b97b-40a6-b543-f8092d585906",
   "metadata": {
    "execution": {
     "iopub.execute_input": "2024-05-15T20:59:18.978005+00:00",
     "iopub.status.busy": "2024-05-15T20:59:18.977982+00:00",
     "iopub.status.idle": "2024-05-15T20:59:18.978+00:00",
     "shell.execute_reply": "2024-05-15T20:59:19.467549+00:00"
    }
   },
   "outputs": [],
   "source": [
    "let line = Line::raw(\"hello world\\ngoodbye world\");"
   ]
  },
  {
   "cell_type": "code",
   "execution_count": 56,
   "id": "7046bc44-1ad3-4484-b1ce-f0391b6fd747",
   "metadata": {
    "execution": {
     "iopub.execute_input": "2024-05-15T20:59:19.467678+00:00",
     "iopub.status.busy": "2024-05-15T20:59:19.467653+00:00",
     "iopub.status.idle": "2024-05-15T20:59:19.467673+00:00",
     "shell.execute_reply": "2024-05-15T20:59:20.050317+00:00"
    }
   },
   "outputs": [
    {
     "data": {
      "text/plain": [
       "Span { content: \"hello world\", style: Style { fg: None, bg: None, underline_color: None, add_modifier: NONE, sub_modifier: NONE } }"
      ]
     },
     "execution_count": 56,
     "metadata": {},
     "output_type": "execute_result"
    }
   ],
   "source": [
    "line.spans[0]"
   ]
  },
  {
   "cell_type": "code",
   "execution_count": 57,
   "id": "7cd65ce3-c807-42a4-84be-e5886647fed9",
   "metadata": {
    "execution": {
     "iopub.execute_input": "2024-05-15T20:59:20.050385+00:00",
     "iopub.status.busy": "2024-05-15T20:59:20.050364+00:00",
     "iopub.status.idle": "2024-05-15T20:59:20.050381+00:00",
     "shell.execute_reply": "2024-05-15T20:59:20.584442+00:00"
    }
   },
   "outputs": [
    {
     "data": {
      "text/plain": [
       "Span { content: \"goodbye world\", style: Style { fg: None, bg: None, underline_color: None, add_modifier: NONE, sub_modifier: NONE } }"
      ]
     },
     "execution_count": 57,
     "metadata": {},
     "output_type": "execute_result"
    }
   ],
   "source": [
    "line.spans[1]"
   ]
  },
  {
   "cell_type": "markdown",
   "id": "8044bddd-19ac-40d9-9219-269108519ba2",
   "metadata": {},
   "source": [
    "A line can also be styled with methods from the `Stylize` trait:"
   ]
  },
  {
   "cell_type": "code",
   "execution_count": 58,
   "id": "606d46e5-ba7e-4829-89cc-8b15c0a234d3",
   "metadata": {
    "execution": {
     "iopub.execute_input": "2024-05-15T20:59:20.584526+00:00",
     "iopub.status.busy": "2024-05-15T20:59:20.584505+00:00",
     "iopub.status.idle": "2024-05-15T20:59:20.584520+00:00",
     "shell.execute_reply": "2024-05-15T20:59:21.191337+00:00"
    }
   },
   "outputs": [
    {
     "data": {
      "text/plain": [
       "Line { spans: [Span { content: \"hello world\", style: Style { fg: None, bg: None, underline_color: None, add_modifier: NONE, sub_modifier: NONE } }], style: Style { fg: None, bg: None, underline_color: None, add_modifier: BOLD, sub_modifier: NONE }, alignment: None }"
      ]
     },
     "execution_count": 58,
     "metadata": {},
     "output_type": "execute_result"
    }
   ],
   "source": [
    "Line::raw(\"hello world\").bold()"
   ]
  },
  {
   "cell_type": "markdown",
   "id": "4c8972cf-33e4-4fa6-9301-62b675572fbe",
   "metadata": {},
   "source": [
    "In this case, the individual span's styles are left untouched but the `Line`'s style is updated."
   ]
  },
  {
   "cell_type": "markdown",
   "id": "96e11288-5835-42c2-b916-8bede2580339",
   "metadata": {},
   "source": [
    "Another unique feature about `Line` is that they can be aligned."
   ]
  },
  {
   "cell_type": "code",
   "execution_count": 59,
   "id": "e1567286-4f47-412e-b118-cfbd3e4d2ee9",
   "metadata": {
    "execution": {
     "iopub.execute_input": "2024-05-15T20:59:21.191410+00:00",
     "iopub.status.busy": "2024-05-15T20:59:21.191389+00:00",
     "iopub.status.idle": "2024-05-15T20:59:21.191406+00:00",
     "shell.execute_reply": "2024-05-15T20:59:22.120553+00:00"
    }
   },
   "outputs": [
    {
     "data": {
      "text/plain": [
       "Line { spans: [Span { content: \"hello world\", style: Style { fg: None, bg: None, underline_color: None, add_modifier: NONE, sub_modifier: NONE } }, Span { content: \"goodbye world\", style: Style { fg: None, bg: None, underline_color: None, add_modifier: NONE, sub_modifier: NONE } }], style: Style { fg: None, bg: None, underline_color: None, add_modifier: NONE, sub_modifier: NONE }, alignment: Some(Center) }"
      ]
     },
     "execution_count": 59,
     "metadata": {},
     "output_type": "execute_result"
    }
   ],
   "source": [
    "let centered_line = line.centered();\n",
    "centered_line"
   ]
  },
  {
   "cell_type": "markdown",
   "id": "ec02bbb6-ad86-4fbc-a2f8-648600f0d80b",
   "metadata": {
    "execution": {
     "iopub.execute_input": "2024-05-15T03:53:56.877256+00:00",
     "iopub.status.busy": "2024-05-15T03:53:56.877087+00:00",
     "iopub.status.idle": "2024-05-15T03:53:56.877224+00:00",
     "shell.execute_reply": "2024-05-15T03:53:57.051205+00:00"
    }
   },
   "source": [
    "With `ratatui-macros`, you can create a `Line` using the `line!` macro using a `vec!`-like syntax."
   ]
  },
  {
   "cell_type": "code",
   "execution_count": 60,
   "id": "e938287b-10f9-4bf2-b96c-c2f35b4fb1e3",
   "metadata": {
    "execution": {
     "iopub.execute_input": "2024-05-15T20:59:22.120698+00:00",
     "iopub.status.busy": "2024-05-15T20:59:22.120654+00:00",
     "iopub.status.idle": "2024-05-15T20:59:22.120689+00:00",
     "shell.execute_reply": "2024-05-15T20:59:22.610771+00:00"
    }
   },
   "outputs": [],
   "source": [
    "use ratatui_macros::line;\n",
    "\n",
    "line![\"hello\", \" \", \"world\"].yellow().bold().centered();"
   ]
  },
  {
   "cell_type": "markdown",
   "id": "3c9d0fec-749e-438a-814f-d4eb9dfdbe14",
   "metadata": {},
   "source": [
    "Every element in the `line!` macro is converted to a `Span`."
   ]
  },
  {
   "cell_type": "markdown",
   "id": "d9c0ee6b-95a8-40f3-81ae-cc2081168cbe",
   "metadata": {},
   "source": [
    "### Text"
   ]
  },
  {
   "cell_type": "markdown",
   "id": "5cf02327-bcdf-40cb-a176-043838d9af59",
   "metadata": {
    "execution": {
     "iopub.execute_input": "2024-05-15T03:55:11.381331+00:00",
     "iopub.status.busy": "2024-05-15T03:55:11.381126+00:00",
     "iopub.status.idle": "2024-05-15T03:55:11.381301+00:00",
     "shell.execute_reply": "2024-05-15T03:55:11.958123+00:00"
    }
   },
   "source": [
    "Finally there is `Text`, which is a collection of `Line`s."
   ]
  },
  {
   "cell_type": "code",
   "execution_count": 61,
   "id": "d5419388-ff32-4f24-9f90-da167c726761",
   "metadata": {
    "execution": {
     "iopub.execute_input": "2024-05-15T20:59:22.610911+00:00",
     "iopub.status.busy": "2024-05-15T20:59:22.610887+00:00",
     "iopub.status.idle": "2024-05-15T20:59:22.610906+00:00",
     "shell.execute_reply": "2024-05-15T20:59:23.137538+00:00"
    }
   },
   "outputs": [],
   "source": [
    "use ratatui::text::Text;\n",
    "\n",
    "Text::from(vec![Line::raw(\"hello world\"), Line::raw(\"goodbye world\")]);"
   ]
  },
  {
   "cell_type": "markdown",
   "id": "81a5dc53-6579-4220-a56f-350a6004e34e",
   "metadata": {},
   "source": [
    "With ratatui-macros, you can create a `Text` using `text!` macro using a `vec!`-like syntax."
   ]
  },
  {
   "cell_type": "code",
   "execution_count": 62,
   "id": "8d530c4e-6bfd-4623-9cac-f50291a4cfce",
   "metadata": {
    "execution": {
     "iopub.execute_input": "2024-05-15T20:59:23.137751+00:00",
     "iopub.status.busy": "2024-05-15T20:59:23.137716+00:00",
     "iopub.status.idle": "2024-05-15T20:59:23.137743+00:00",
     "shell.execute_reply": "2024-05-15T20:59:23.662856+00:00"
    }
   },
   "outputs": [],
   "source": [
    "use ratatui_macros::text;\n",
    "\n",
    "text![\"hello world\", \"goodbye world\"];"
   ]
  },
  {
   "cell_type": "markdown",
   "id": "bcc530d3-6577-40c3-ad03-f559f624fd11",
   "metadata": {},
   "source": [
    "Here, every element in the `text!` macro is converted to a `Line`."
   ]
  },
  {
   "cell_type": "markdown",
   "id": "dda2f60f-6637-4263-8161-fb2f31877a12",
   "metadata": {},
   "source": [
    "Like `Line`, `Text` can also be aligned. In this case, the alignment occurs on every `Line` inside the `Text`."
   ]
  },
  {
   "cell_type": "code",
   "execution_count": 63,
   "id": "ea805003-1ea1-4e48-ba5e-d4e62950aa0d",
   "metadata": {
    "execution": {
     "iopub.execute_input": "2024-05-15T20:59:23.662995+00:00",
     "iopub.status.busy": "2024-05-15T20:59:23.662968+00:00",
     "iopub.status.idle": "2024-05-15T20:59:23.662989+00:00",
     "shell.execute_reply": "2024-05-15T20:59:24.330304+00:00"
    }
   },
   "outputs": [
    {
     "data": {
      "text/plain": [
       "Some(Right)"
      ]
     },
     "execution_count": 63,
     "metadata": {},
     "output_type": "execute_result"
    }
   ],
   "source": [
    "let t = text![\"hello world\", \"goodbye world\"].right_aligned();\n",
    "t.alignment"
   ]
  },
  {
   "cell_type": "markdown",
   "id": "1bb11dbf-859f-4016-883f-2a7fed96c0fa",
   "metadata": {},
   "source": [
    "### Block"
   ]
  },
  {
   "cell_type": "markdown",
   "id": "8d31bb39-dc3a-4ae9-9e6f-80f95bd15a93",
   "metadata": {},
   "source": [
    "The simplest widget is the `Block` widget, which is essentially just borders."
   ]
  },
  {
   "cell_type": "code",
   "execution_count": 64,
   "id": "2a0837b2-dd94-4a10-b9a2-52a0fd431cc3",
   "metadata": {
    "execution": {
     "iopub.execute_input": "2024-05-15T20:59:24.330436+00:00",
     "iopub.status.busy": "2024-05-15T20:59:24.330406+00:00",
     "iopub.status.idle": "2024-05-15T20:59:24.330428+00:00",
     "shell.execute_reply": "2024-05-15T20:59:25.201017+00:00"
    }
   },
   "outputs": [
    {
     "data": {
      "text/plain": [
       "Buffer {\n",
       "    area: Rect { x: 0, y: 0, width: 50, height: 5 },\n",
       "    content: [\n",
       "        \"┌────────────────────────────────────────────────┐\",\n",
       "        \"│                                                │\",\n",
       "        \"│                                                │\",\n",
       "        \"│                                                │\",\n",
       "        \"└────────────────────────────────────────────────┘\",\n",
       "    ],\n",
       "    styles: [\n",
       "        x: 0, y: 0, fg: Reset, bg: Reset, underline: Reset, modifier: NONE,\n",
       "    ]\n",
       "}"
      ]
     },
     "execution_count": 64,
     "metadata": {},
     "output_type": "execute_result"
    }
   ],
   "source": [
    "let (x, y, width, height) = (0, 0, 50, 5); \n",
    "let area = Rect::new(x, y, width, height);\n",
    "let mut buf = Buffer::empty(area);\n",
    "Block::bordered().render(area, &mut buf);\n",
    "buf"
   ]
  },
  {
   "cell_type": "markdown",
   "id": "d9dfa632-a2ff-4432-8ac3-f6450115d033",
   "metadata": {},
   "source": [
    "Most widgets accept a `Block` as a fluent setter. We saw from earlier that the `Paragraph` has a `.block()` method that accepts a `Block`."
   ]
  },
  {
   "cell_type": "markdown",
   "id": "0d4ecb04-59b6-475e-a773-1f5fdc1d97e7",
   "metadata": {
    "execution": {
     "iopub.execute_input": "2024-05-15T04:20:07.111508+00:00",
     "iopub.status.busy": "2024-05-15T04:20:07.111316+00:00",
     "iopub.status.idle": "2024-05-15T04:20:07.111463+00:00",
     "shell.execute_reply": "2024-05-15T04:20:08.244484+00:00"
    }
   },
   "source": [
    "```rust\n",
    "let paragraph = Paragraph::new(text).block(block).centered();\n",
    "```"
   ]
  },
  {
   "cell_type": "markdown",
   "id": "5c117708-beb3-46b8-ab38-fce61d95c5ec",
   "metadata": {},
   "source": [
    "Blocks can have different kinds of borders:"
   ]
  },
  {
   "cell_type": "code",
   "execution_count": 65,
   "id": "1d8cdc0e-9f43-41f3-aab7-d94bcc3946da",
   "metadata": {
    "execution": {
     "iopub.execute_input": "2024-05-15T20:59:25.201324+00:00",
     "iopub.status.busy": "2024-05-15T20:59:25.201258+00:00",
     "iopub.status.idle": "2024-05-15T20:59:25.201310+00:00",
     "shell.execute_reply": "2024-05-15T20:59:25.913145+00:00"
    }
   },
   "outputs": [
    {
     "data": {
      "text/plain": [
       "Buffer {\n",
       "    area: Rect { x: 0, y: 0, width: 50, height: 5 },\n",
       "    content: [\n",
       "        \"──────────────────────────────────────────────────\",\n",
       "        \"  ╔════════════════════════════════════════════╗  \",\n",
       "        \"  ║                                            ║  \",\n",
       "        \"  ╚════════════════════════════════════════════╝  \",\n",
       "        \"──────────────────────────────────────────────────\",\n",
       "    ],\n",
       "    styles: [\n",
       "        x: 0, y: 0, fg: Reset, bg: Reset, underline: Reset, modifier: NONE,\n",
       "    ]\n",
       "}"
      ]
     },
     "execution_count": 65,
     "metadata": {},
     "output_type": "execute_result"
    }
   ],
   "source": [
    "\n",
    "\n",
    "let (x, y, width, height) = (0, 0, 50, 5); \n",
    "let area = Rect::new(x, y, width, height);\n",
    "let mut buf = Buffer::empty(area);\n",
    "\n",
    "Block::bordered().border_type(ratatui::widgets::BorderType::Double).render(area.inner(&ratatui::layout::Margin::new(2, 1)), &mut buf);\n",
    "Block::bordered().borders(ratatui::widgets::Borders::TOP | ratatui::widgets::Borders::BOTTOM).render(area, &mut buf);\n",
    "\n",
    "buf"
   ]
  },
  {
   "cell_type": "markdown",
   "id": "5bb94495-9187-468d-9a41-6c9eb1cb42ab",
   "metadata": {},
   "source": [
    "And `Block` can have multiple titles in different locations:"
   ]
  },
  {
   "cell_type": "code",
   "execution_count": 66,
   "id": "d0218e8c-2034-4df1-8b17-7166ca8487f6",
   "metadata": {
    "execution": {
     "iopub.execute_input": "2024-05-15T20:59:25.913224+00:00",
     "iopub.status.busy": "2024-05-15T20:59:25.913202+00:00",
     "iopub.status.idle": "2024-05-15T20:59:25.913220+00:00",
     "shell.execute_reply": "2024-05-15T20:59:26.814907+00:00"
    }
   },
   "outputs": [
    {
     "data": {
      "text/plain": [
       "Buffer {\n",
       "    area: Rect { x: 0, y: 0, width: 50, height: 5 },\n",
       "    content: [\n",
       "        \"┌Top Left───────────Top Center──────────Top Right┐\",\n",
       "        \"│                                                │\",\n",
       "        \"│                                                │\",\n",
       "        \"│                                                │\",\n",
       "        \"└Bottom Left──────Bottom Center──────Bottom Right┘\",\n",
       "    ],\n",
       "    styles: [\n",
       "        x: 0, y: 0, fg: Reset, bg: Reset, underline: Reset, modifier: NONE,\n",
       "    ]\n",
       "}"
      ]
     },
     "execution_count": 66,
     "metadata": {},
     "output_type": "execute_result"
    }
   ],
   "source": [
    "let (x, y, width, height) = (0, 0, 50, 5); \n",
    "let area = Rect::new(x, y, width, height);\n",
    "let mut buf = Buffer::empty(area);\n",
    "\n",
    "let block = Block::bordered()\n",
    "                .title(\"Top Left\") // accepts anything that can be converted to a `Title` or a `Line`\n",
    "                .title(Line::from(\"Top Center\").centered()) // explicitly need to use `Line` if you want alignment\n",
    "                .title(line![\"Top Right\"].right_aligned()) // you can use the `line!` macro to make it shorter\n",
    "                .title(ratatui::widgets::block::Title::from(\"Bottom Right\") // explicitly using `Title` gives you most control\n",
    "                       .alignment(ratatui::layout::Alignment::Right)\n",
    "                       .position(ratatui::widgets::block::title::Position::Bottom)\n",
    "                )\n",
    "                .title_bottom(Line::from(\"Bottom Center\").centered()) // shorthand functions for bottom position\n",
    "                .title_bottom(\"Bottom Left\"); // aligned to the left by default\n",
    "\n",
    "block.render(area, &mut buf);\n",
    "\n",
    "buf"
   ]
  },
  {
   "cell_type": "markdown",
   "id": "4670d851-89f6-41b5-8ab1-934da1ba1a95",
   "metadata": {},
   "source": [
    "## Conclusion"
   ]
  },
  {
   "cell_type": "markdown",
   "id": "4983556c-34e6-4ebf-93f1-29d09f881aaf",
   "metadata": {},
   "source": [
    "In the next post, we'll examine how text primitives work."
   ]
  },
  {
   "cell_type": "code",
   "execution_count": null,
   "id": "b6011123-57ba-444c-ad7b-d21f554a9739",
   "metadata": {},
   "outputs": [],
   "source": []
  },
  {
   "cell_type": "code",
   "execution_count": null,
   "id": "b3a7ccbc-e90a-459f-ba40-62977bb7648d",
   "metadata": {},
   "outputs": [],
   "source": []
  },
  {
   "cell_type": "code",
   "execution_count": null,
   "id": "3ddda790-b913-4641-9180-8bd1cc38734e",
   "metadata": {},
   "outputs": [],
   "source": []
  },
  {
   "cell_type": "code",
   "execution_count": null,
   "id": "b1965eb0-43a1-4701-b3ae-757ff66ab8fa",
   "metadata": {},
   "outputs": [],
   "source": []
  },
  {
   "cell_type": "code",
   "execution_count": null,
   "id": "ca4a46f6-013f-4ed7-9dd1-6f1b54ab4f74",
   "metadata": {},
   "outputs": [],
   "source": []
  }
 ],
 "metadata": {
  "kernelspec": {
   "display_name": "Rust",
   "language": "rust",
   "name": "rust"
  },
  "language_info": {
   "codemirror_mode": "rust",
   "file_extension": ".rs",
   "mimetype": "text/rust",
   "name": "Rust",
   "pygment_lexer": "rust",
   "version": ""
  },
  "widgets": {
   "application/vnd.jupyter.widget-state+json": {
    "state": {},
    "version_major": 2,
    "version_minor": 0
   }
  }
 },
 "nbformat": 4,
 "nbformat_minor": 5
}
