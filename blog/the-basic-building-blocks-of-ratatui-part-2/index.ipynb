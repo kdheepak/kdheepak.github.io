{
 "cells": [
  {
   "cell_type": "raw",
   "id": "bf830a38-e568-4150-97b9-de5dc6172a32",
   "metadata": {
    "execution": {
     "iopub.execute_input": "2024-05-15T02:03:24.769199+00:00",
     "iopub.status.busy": "2024-05-15T02:03:24.768989+00:00",
     "iopub.status.idle": "2024-05-15T02:03:24.769163+00:00",
     "shell.execute_reply": "2024-05-15T02:03:24.910732+00:00"
    }
   },
   "source": [
    "---\n",
    "title: The Basic Building blocks of Ratatui - Part 2\n",
    "date: 2024-05-15T22:03:04-0400\n",
    "categories: [rust]\n",
    "keywords: rust, ratatui\n",
    "summary: Showcase of using layout\n",
    "---"
   ]
  },
  {
   "cell_type": "markdown",
   "id": "7e98f2e5-d4f5-4fc0-84e3-c9920e267bed",
   "metadata": {},
   "source": [
    "Ratatui is a crate for building terminal user interfaces in Rust.\n",
    "\n",
    "In this post, we'll discuss the `Rect` and `Layout` primitives of `ratatui`."
   ]
  },
  {
   "cell_type": "code",
   "execution_count": 25,
   "id": "73c1a207-8f25-467a-b3ed-2a5d6ac25461",
   "metadata": {
    "execution": {
     "iopub.execute_input": "2024-05-17T16:19:04.203723+00:00",
     "iopub.status.busy": "2024-05-17T16:19:04.203543+00:00",
     "iopub.status.idle": "2024-05-17T16:19:04.203690+00:00",
     "shell.execute_reply": "2024-05-17T16:19:04.516092+00:00"
    }
   },
   "outputs": [],
   "source": [
    "//| code-fold: true\n",
    ":dep ratatui = \"0.26.2\"\n",
    ":dep ratatui-macros = \"0.4.0\"\n",
    "\n",
    "fn span_to_html(s: ratatui::text::Span) -> String{\n",
    "    let mut html = String::new();\n",
    "    html.push_str(\"<span style=\\\"\");\n",
    "\n",
    "    // Set foreground color\n",
    "    if let Some(color) = &s.style.fg {\n",
    "        html.push_str(&format!(\"color: {};\", color));\n",
    "    }\n",
    "\n",
    "    // Set background color\n",
    "    if let Some(color) = &s.style.bg {\n",
    "        html.push_str(&format!(\"background-color: {};\", color));\n",
    "    }\n",
    "\n",
    "    // Add modifiers\n",
    "    match s.style.add_modifier {\n",
    "        ratatui::style::Modifier::BOLD => html.push_str(\"font-weight: bold;\"),\n",
    "        ratatui::style::Modifier::ITALIC => html.push_str(\"font-style: italic;\"),\n",
    "        ratatui::style::Modifier::UNDERLINED => html.push_str(\"text-decoration: underline;\"),\n",
    "        _ => {}\n",
    "    }\n",
    "    html.push_str(\"\\\">\");\n",
    "    html.push_str(&s.content);\n",
    "    html.push_str(\"</span>\");\n",
    "    html\n",
    "}\n",
    "\n",
    "fn buffer_to_html(buf: &ratatui::buffer::Buffer) -> String {\n",
    "    fn escape_special_html_characters(text: &str) -> String {\n",
    "        text.replace(\"&\", \"&amp;\")\n",
    "            .replace(\"<\", \"&lt;\")\n",
    "            .replace(\">\", \"&gt;\")\n",
    "            .replace(\"\\\"\", \"&quot;\")\n",
    "            .replace(\"'\", \"&#39;\")\n",
    "    }\n",
    "\n",
    "    let mut html = String::from(\"<pre><code>\");\n",
    "\n",
    "    let w = buf.area.width;\n",
    "    let h = buf.area.height;\n",
    "\n",
    "    for y in 0..h {\n",
    "        for x in 0..w {\n",
    "            let s = buf.get(x, y).symbol();\n",
    "            \n",
    "            let escaped = escape_special_html_characters(s); \n",
    "\n",
    "            let style = buf.get(x, y).style();\n",
    "\n",
    "            let span = ratatui::text::Span::styled(s, style);\n",
    "            \n",
    "            html.push_str(&span_to_html(span));\n",
    "        }\n",
    "        html.push('\\n');\n",
    "    }\n",
    "\n",
    "    html.push_str(\"</code></pre>\");\n",
    "\n",
    "    html \n",
    "}\n",
    "    \n",
    "fn show_html<D>(content: D) where D: std::fmt::Display {\n",
    "    println!(r#\"EVCXR_BEGIN_CONTENT text/html\n",
    "<div style=\"display: flex; justify-content:start; gap: 1em; margin: 1em\">\n",
    "{}\n",
    "</div>\n",
    "EVCXR_END_CONTENT\"#, content);\n",
    "}\n"
   ]
  },
  {
   "cell_type": "markdown",
   "id": "20505bc4-d398-4e9a-b5ae-d223490d4d79",
   "metadata": {},
   "source": [
    "## Layout primitives"
   ]
  },
  {
   "cell_type": "markdown",
   "id": "3dfa65ae-348e-49c8-bce9-752d8e36d20b",
   "metadata": {},
   "source": [
    "We already saw that `Rect` is one of the primitives for rendering a widget.\n",
    "\n",
    "We can create a `Rect` using `Rect::new(x, y, width, height)`:"
   ]
  },
  {
   "cell_type": "code",
   "execution_count": 26,
   "id": "a8c2eb81-3cef-45ac-b256-ffe606b39054",
   "metadata": {
    "execution": {
     "iopub.execute_input": "2024-05-17T16:19:05.140874+00:00",
     "iopub.status.busy": "2024-05-17T16:19:05.140754+00:00",
     "iopub.status.idle": "2024-05-17T16:19:05.140851+00:00",
     "shell.execute_reply": "2024-05-17T16:19:05.825890+00:00"
    }
   },
   "outputs": [
    {
     "data": {
      "text/html": [
       "<div style=\"display: flex; justify-content:start; gap: 1em; margin: 1em\">\n",
       "<pre><code><span style=\"color: Reset;background-color: Reset;\">┌</span><span style=\"color: Reset;background-color: Reset;\">─</span><span style=\"color: Reset;background-color: Reset;\">─</span><span style=\"color: Reset;background-color: Reset;\">─</span><span style=\"color: Reset;background-color: Reset;\">─</span><span style=\"color: Reset;background-color: Reset;\">─</span><span style=\"color: Reset;background-color: Reset;\">─</span><span style=\"color: Reset;background-color: Reset;\">─</span><span style=\"color: Reset;background-color: Reset;\">─</span><span style=\"color: Reset;background-color: Reset;\">─</span><span style=\"color: Reset;background-color: Reset;\">─</span><span style=\"color: Reset;background-color: Reset;\">─</span><span style=\"color: Reset;background-color: Reset;\">─</span><span style=\"color: Reset;background-color: Reset;\">─</span><span style=\"color: Reset;background-color: Reset;\">─</span><span style=\"color: Reset;background-color: Reset;\">─</span><span style=\"color: Reset;background-color: Reset;\">─</span><span style=\"color: Reset;background-color: Reset;\">─</span><span style=\"color: Reset;background-color: Reset;\">─</span><span style=\"color: Reset;background-color: Reset;\">─</span><span style=\"color: Reset;background-color: Reset;\">─</span><span style=\"color: Reset;background-color: Reset;\">─</span><span style=\"color: Reset;background-color: Reset;\">─</span><span style=\"color: Reset;background-color: Reset;\">─</span><span style=\"color: Reset;background-color: Reset;\">─</span><span style=\"color: Reset;background-color: Reset;\">─</span><span style=\"color: Reset;background-color: Reset;\">─</span><span style=\"color: Reset;background-color: Reset;\">─</span><span style=\"color: Reset;background-color: Reset;\">─</span><span style=\"color: Reset;background-color: Reset;\">─</span><span style=\"color: Reset;background-color: Reset;\">─</span><span style=\"color: Reset;background-color: Reset;\">─</span><span style=\"color: Reset;background-color: Reset;\">─</span><span style=\"color: Reset;background-color: Reset;\">─</span><span style=\"color: Reset;background-color: Reset;\">─</span><span style=\"color: Reset;background-color: Reset;\">─</span><span style=\"color: Reset;background-color: Reset;\">─</span><span style=\"color: Reset;background-color: Reset;\">─</span><span style=\"color: Reset;background-color: Reset;\">─</span><span style=\"color: Reset;background-color: Reset;\">─</span><span style=\"color: Reset;background-color: Reset;\">─</span><span style=\"color: Reset;background-color: Reset;\">─</span><span style=\"color: Reset;background-color: Reset;\">─</span><span style=\"color: Reset;background-color: Reset;\">─</span><span style=\"color: Reset;background-color: Reset;\">─</span><span style=\"color: Reset;background-color: Reset;\">─</span><span style=\"color: Reset;background-color: Reset;\">─</span><span style=\"color: Reset;background-color: Reset;\">─</span><span style=\"color: Reset;background-color: Reset;\">─</span><span style=\"color: Reset;background-color: Reset;\">┐</span>\n",
       "<span style=\"color: Reset;background-color: Reset;\">│</span><span style=\"color: Reset;background-color: Reset;\"> </span><span style=\"color: Reset;background-color: Reset;\"> </span><span style=\"color: Reset;background-color: Reset;\"> </span><span style=\"color: Reset;background-color: Reset;\"> </span><span style=\"color: Reset;background-color: Reset;\"> </span><span style=\"color: Reset;background-color: Reset;\"> </span><span style=\"color: Reset;background-color: Reset;\"> </span><span style=\"color: Reset;background-color: Reset;\"> </span><span style=\"color: Reset;background-color: Reset;\"> </span><span style=\"color: Reset;background-color: Reset;\"> </span><span style=\"color: Reset;background-color: Reset;\"> </span><span style=\"color: Reset;background-color: Reset;\"> </span><span style=\"color: Reset;background-color: Reset;\"> </span><span style=\"color: Reset;background-color: Reset;\"> </span><span style=\"color: Reset;background-color: Reset;\"> </span><span style=\"color: Reset;background-color: Reset;\"> </span><span style=\"color: Reset;background-color: Reset;\"> </span><span style=\"color: Reset;background-color: Reset;\"> </span><span style=\"color: Reset;background-color: Reset;\"> </span><span style=\"color: Reset;background-color: Reset;\"> </span><span style=\"color: Reset;background-color: Reset;\"> </span><span style=\"color: Reset;background-color: Reset;\"> </span><span style=\"color: Reset;background-color: Reset;\"> </span><span style=\"color: Reset;background-color: Reset;\"> </span><span style=\"color: Reset;background-color: Reset;\"> </span><span style=\"color: Reset;background-color: Reset;\"> </span><span style=\"color: Reset;background-color: Reset;\"> </span><span style=\"color: Reset;background-color: Reset;\"> </span><span style=\"color: Reset;background-color: Reset;\"> </span><span style=\"color: Reset;background-color: Reset;\"> </span><span style=\"color: Reset;background-color: Reset;\"> </span><span style=\"color: Reset;background-color: Reset;\"> </span><span style=\"color: Reset;background-color: Reset;\"> </span><span style=\"color: Reset;background-color: Reset;\"> </span><span style=\"color: Reset;background-color: Reset;\"> </span><span style=\"color: Reset;background-color: Reset;\"> </span><span style=\"color: Reset;background-color: Reset;\"> </span><span style=\"color: Reset;background-color: Reset;\"> </span><span style=\"color: Reset;background-color: Reset;\"> </span><span style=\"color: Reset;background-color: Reset;\"> </span><span style=\"color: Reset;background-color: Reset;\"> </span><span style=\"color: Reset;background-color: Reset;\"> </span><span style=\"color: Reset;background-color: Reset;\"> </span><span style=\"color: Reset;background-color: Reset;\"> </span><span style=\"color: Reset;background-color: Reset;\"> </span><span style=\"color: Reset;background-color: Reset;\"> </span><span style=\"color: Reset;background-color: Reset;\"> </span><span style=\"color: Reset;background-color: Reset;\"> </span><span style=\"color: Reset;background-color: Reset;\">│</span>\n",
       "<span style=\"color: Reset;background-color: Reset;\">│</span><span style=\"color: Reset;background-color: Reset;\"> </span><span style=\"color: Reset;background-color: Reset;\"> </span><span style=\"color: Reset;background-color: Reset;\"> </span><span style=\"color: Reset;background-color: Reset;\"> </span><span style=\"color: Reset;background-color: Reset;\"> </span><span style=\"color: Reset;background-color: Reset;\"> </span><span style=\"color: Reset;background-color: Reset;\"> </span><span style=\"color: Reset;background-color: Reset;\"> </span><span style=\"color: Reset;background-color: Reset;\"> </span><span style=\"color: Reset;background-color: Reset;\"> </span><span style=\"color: Reset;background-color: Reset;\"> </span><span style=\"color: Reset;background-color: Reset;\"> </span><span style=\"color: Reset;background-color: Reset;\"> </span><span style=\"color: Reset;background-color: Reset;\"> </span><span style=\"color: Reset;background-color: Reset;\"> </span><span style=\"color: Reset;background-color: Reset;\"> </span><span style=\"color: Reset;background-color: Reset;\"> </span><span style=\"color: Reset;background-color: Reset;\"> </span><span style=\"color: Reset;background-color: Reset;\"> </span><span style=\"color: Reset;background-color: Reset;\"> </span><span style=\"color: Reset;background-color: Reset;\"> </span><span style=\"color: Reset;background-color: Reset;\"> </span><span style=\"color: Reset;background-color: Reset;\"> </span><span style=\"color: Reset;background-color: Reset;\"> </span><span style=\"color: Reset;background-color: Reset;\"> </span><span style=\"color: Reset;background-color: Reset;\"> </span><span style=\"color: Reset;background-color: Reset;\"> </span><span style=\"color: Reset;background-color: Reset;\"> </span><span style=\"color: Reset;background-color: Reset;\"> </span><span style=\"color: Reset;background-color: Reset;\"> </span><span style=\"color: Reset;background-color: Reset;\"> </span><span style=\"color: Reset;background-color: Reset;\"> </span><span style=\"color: Reset;background-color: Reset;\"> </span><span style=\"color: Reset;background-color: Reset;\"> </span><span style=\"color: Reset;background-color: Reset;\"> </span><span style=\"color: Reset;background-color: Reset;\"> </span><span style=\"color: Reset;background-color: Reset;\"> </span><span style=\"color: Reset;background-color: Reset;\"> </span><span style=\"color: Reset;background-color: Reset;\"> </span><span style=\"color: Reset;background-color: Reset;\"> </span><span style=\"color: Reset;background-color: Reset;\"> </span><span style=\"color: Reset;background-color: Reset;\"> </span><span style=\"color: Reset;background-color: Reset;\"> </span><span style=\"color: Reset;background-color: Reset;\"> </span><span style=\"color: Reset;background-color: Reset;\"> </span><span style=\"color: Reset;background-color: Reset;\"> </span><span style=\"color: Reset;background-color: Reset;\"> </span><span style=\"color: Reset;background-color: Reset;\"> </span><span style=\"color: Reset;background-color: Reset;\">│</span>\n",
       "<span style=\"color: Reset;background-color: Reset;\">│</span><span style=\"color: Reset;background-color: Reset;\"> </span><span style=\"color: Reset;background-color: Reset;\"> </span><span style=\"color: Reset;background-color: Reset;\"> </span><span style=\"color: Reset;background-color: Reset;\"> </span><span style=\"color: Reset;background-color: Reset;\"> </span><span style=\"color: Reset;background-color: Reset;\"> </span><span style=\"color: Reset;background-color: Reset;\"> </span><span style=\"color: Reset;background-color: Reset;\"> </span><span style=\"color: Reset;background-color: Reset;\"> </span><span style=\"color: Reset;background-color: Reset;\"> </span><span style=\"color: Reset;background-color: Reset;\"> </span><span style=\"color: Reset;background-color: Reset;\"> </span><span style=\"color: Reset;background-color: Reset;\"> </span><span style=\"color: Reset;background-color: Reset;\"> </span><span style=\"color: Reset;background-color: Reset;\"> </span><span style=\"color: Reset;background-color: Reset;\"> </span><span style=\"color: Reset;background-color: Reset;\"> </span><span style=\"color: Reset;background-color: Reset;\"> </span><span style=\"color: Reset;background-color: Reset;\"> </span><span style=\"color: Reset;background-color: Reset;\"> </span><span style=\"color: Reset;background-color: Reset;\"> </span><span style=\"color: Reset;background-color: Reset;\"> </span><span style=\"color: Reset;background-color: Reset;\"> </span><span style=\"color: Reset;background-color: Reset;\"> </span><span style=\"color: Reset;background-color: Reset;\"> </span><span style=\"color: Reset;background-color: Reset;\"> </span><span style=\"color: Reset;background-color: Reset;\"> </span><span style=\"color: Reset;background-color: Reset;\"> </span><span style=\"color: Reset;background-color: Reset;\"> </span><span style=\"color: Reset;background-color: Reset;\"> </span><span style=\"color: Reset;background-color: Reset;\"> </span><span style=\"color: Reset;background-color: Reset;\"> </span><span style=\"color: Reset;background-color: Reset;\"> </span><span style=\"color: Reset;background-color: Reset;\"> </span><span style=\"color: Reset;background-color: Reset;\"> </span><span style=\"color: Reset;background-color: Reset;\"> </span><span style=\"color: Reset;background-color: Reset;\"> </span><span style=\"color: Reset;background-color: Reset;\"> </span><span style=\"color: Reset;background-color: Reset;\"> </span><span style=\"color: Reset;background-color: Reset;\"> </span><span style=\"color: Reset;background-color: Reset;\"> </span><span style=\"color: Reset;background-color: Reset;\"> </span><span style=\"color: Reset;background-color: Reset;\"> </span><span style=\"color: Reset;background-color: Reset;\"> </span><span style=\"color: Reset;background-color: Reset;\"> </span><span style=\"color: Reset;background-color: Reset;\"> </span><span style=\"color: Reset;background-color: Reset;\"> </span><span style=\"color: Reset;background-color: Reset;\"> </span><span style=\"color: Reset;background-color: Reset;\">│</span>\n",
       "<span style=\"color: Reset;background-color: Reset;\">└</span><span style=\"color: Reset;background-color: Reset;\">─</span><span style=\"color: Reset;background-color: Reset;\">─</span><span style=\"color: Reset;background-color: Reset;\">─</span><span style=\"color: Reset;background-color: Reset;\">─</span><span style=\"color: Reset;background-color: Reset;\">─</span><span style=\"color: Reset;background-color: Reset;\">─</span><span style=\"color: Reset;background-color: Reset;\">─</span><span style=\"color: Reset;background-color: Reset;\">─</span><span style=\"color: Reset;background-color: Reset;\">─</span><span style=\"color: Reset;background-color: Reset;\">─</span><span style=\"color: Reset;background-color: Reset;\">─</span><span style=\"color: Reset;background-color: Reset;\">─</span><span style=\"color: Reset;background-color: Reset;\">─</span><span style=\"color: Reset;background-color: Reset;\">─</span><span style=\"color: Reset;background-color: Reset;\">─</span><span style=\"color: Reset;background-color: Reset;\">─</span><span style=\"color: Reset;background-color: Reset;\">─</span><span style=\"color: Reset;background-color: Reset;\">─</span><span style=\"color: Reset;background-color: Reset;\">─</span><span style=\"color: Reset;background-color: Reset;\">─</span><span style=\"color: Reset;background-color: Reset;\">─</span><span style=\"color: Reset;background-color: Reset;\">─</span><span style=\"color: Reset;background-color: Reset;\">─</span><span style=\"color: Reset;background-color: Reset;\">─</span><span style=\"color: Reset;background-color: Reset;\">─</span><span style=\"color: Reset;background-color: Reset;\">─</span><span style=\"color: Reset;background-color: Reset;\">─</span><span style=\"color: Reset;background-color: Reset;\">─</span><span style=\"color: Reset;background-color: Reset;\">─</span><span style=\"color: Reset;background-color: Reset;\">─</span><span style=\"color: Reset;background-color: Reset;\">─</span><span style=\"color: Reset;background-color: Reset;\">─</span><span style=\"color: Reset;background-color: Reset;\">─</span><span style=\"color: Reset;background-color: Reset;\">─</span><span style=\"color: Reset;background-color: Reset;\">─</span><span style=\"color: Reset;background-color: Reset;\">─</span><span style=\"color: Reset;background-color: Reset;\">─</span><span style=\"color: Reset;background-color: Reset;\">─</span><span style=\"color: Reset;background-color: Reset;\">─</span><span style=\"color: Reset;background-color: Reset;\">─</span><span style=\"color: Reset;background-color: Reset;\">─</span><span style=\"color: Reset;background-color: Reset;\">─</span><span style=\"color: Reset;background-color: Reset;\">─</span><span style=\"color: Reset;background-color: Reset;\">─</span><span style=\"color: Reset;background-color: Reset;\">─</span><span style=\"color: Reset;background-color: Reset;\">─</span><span style=\"color: Reset;background-color: Reset;\">─</span><span style=\"color: Reset;background-color: Reset;\">─</span><span style=\"color: Reset;background-color: Reset;\">┘</span>\n",
       "</code></pre>\n",
       "</div>"
      ],
      "text/plain": [
       "()"
      ]
     },
     "execution_count": 26,
     "metadata": {},
     "output_type": "execute_result"
    }
   ],
   "source": [
    "use ratatui::widgets::Widget;\n",
    "\n",
    "let (x, y, width, height) = (0, 0, 50, 5); \n",
    "let area = ratatui::layout::Rect::new(x, y, width, height);\n",
    "let mut buf = ratatui::buffer::Buffer::empty(area);\n",
    "ratatui::widgets::Block::bordered().render(area, &mut buf);\n",
    "\n",
    "show_html(buffer_to_html(&buf))"
   ]
  },
  {
   "cell_type": "markdown",
   "id": "8ac6f062-aeda-4780-90d3-fbc59f765e31",
   "metadata": {},
   "source": [
    "You can create inner `Rect`s by using the `Rect::inner` method:"
   ]
  },
  {
   "cell_type": "code",
   "execution_count": 27,
   "id": "8c86072e-9f59-4224-9d6a-c3bc929543a2",
   "metadata": {
    "execution": {
     "iopub.execute_input": "2024-05-17T16:19:05.826003+00:00",
     "iopub.status.busy": "2024-05-17T16:19:05.825975+00:00",
     "iopub.status.idle": "2024-05-17T16:19:05.825997+00:00",
     "shell.execute_reply": "2024-05-17T16:19:06.413274+00:00"
    }
   },
   "outputs": [
    {
     "data": {
      "text/html": [
       "<div style=\"display: flex; justify-content:start; gap: 1em; margin: 1em\">\n",
       "<pre><code><span style=\"color: Reset;background-color: Reset;\"> </span><span style=\"color: Reset;background-color: Reset;\"> </span><span style=\"color: Reset;background-color: Reset;\"> </span><span style=\"color: Reset;background-color: Reset;\"> </span><span style=\"color: Reset;background-color: Reset;\"> </span><span style=\"color: Reset;background-color: Reset;\"> </span><span style=\"color: Reset;background-color: Reset;\"> </span><span style=\"color: Reset;background-color: Reset;\"> </span><span style=\"color: Reset;background-color: Reset;\"> </span><span style=\"color: Reset;background-color: Reset;\"> </span><span style=\"color: Reset;background-color: Reset;\"> </span><span style=\"color: Reset;background-color: Reset;\"> </span><span style=\"color: Reset;background-color: Reset;\"> </span><span style=\"color: Reset;background-color: Reset;\"> </span><span style=\"color: Reset;background-color: Reset;\"> </span><span style=\"color: Reset;background-color: Reset;\"> </span><span style=\"color: Reset;background-color: Reset;\"> </span><span style=\"color: Reset;background-color: Reset;\"> </span><span style=\"color: Reset;background-color: Reset;\"> </span><span style=\"color: Reset;background-color: Reset;\"> </span><span style=\"color: Reset;background-color: Reset;\"> </span><span style=\"color: Reset;background-color: Reset;\"> </span><span style=\"color: Reset;background-color: Reset;\"> </span><span style=\"color: Reset;background-color: Reset;\"> </span><span style=\"color: Reset;background-color: Reset;\"> </span><span style=\"color: Reset;background-color: Reset;\"> </span><span style=\"color: Reset;background-color: Reset;\"> </span><span style=\"color: Reset;background-color: Reset;\"> </span><span style=\"color: Reset;background-color: Reset;\"> </span><span style=\"color: Reset;background-color: Reset;\"> </span><span style=\"color: Reset;background-color: Reset;\"> </span><span style=\"color: Reset;background-color: Reset;\"> </span><span style=\"color: Reset;background-color: Reset;\"> </span><span style=\"color: Reset;background-color: Reset;\"> </span><span style=\"color: Reset;background-color: Reset;\"> </span><span style=\"color: Reset;background-color: Reset;\"> </span><span style=\"color: Reset;background-color: Reset;\"> </span><span style=\"color: Reset;background-color: Reset;\"> </span><span style=\"color: Reset;background-color: Reset;\"> </span><span style=\"color: Reset;background-color: Reset;\"> </span><span style=\"color: Reset;background-color: Reset;\"> </span><span style=\"color: Reset;background-color: Reset;\"> </span><span style=\"color: Reset;background-color: Reset;\"> </span><span style=\"color: Reset;background-color: Reset;\"> </span><span style=\"color: Reset;background-color: Reset;\"> </span><span style=\"color: Reset;background-color: Reset;\"> </span><span style=\"color: Reset;background-color: Reset;\"> </span><span style=\"color: Reset;background-color: Reset;\"> </span><span style=\"color: Reset;background-color: Reset;\"> </span><span style=\"color: Reset;background-color: Reset;\"> </span>\n",
       "<span style=\"color: Reset;background-color: Reset;\"> </span><span style=\"color: Reset;background-color: Reset;\"> </span><span style=\"color: Reset;background-color: Reset;\"> </span><span style=\"color: Reset;background-color: Reset;\"> </span><span style=\"color: Reset;background-color: Reset;\"> </span><span style=\"color: Reset;background-color: Reset;\">┌</span><span style=\"color: Reset;background-color: Reset;\">─</span><span style=\"color: Reset;background-color: Reset;\">─</span><span style=\"color: Reset;background-color: Reset;\">─</span><span style=\"color: Reset;background-color: Reset;\">─</span><span style=\"color: Reset;background-color: Reset;\">─</span><span style=\"color: Reset;background-color: Reset;\">─</span><span style=\"color: Reset;background-color: Reset;\">─</span><span style=\"color: Reset;background-color: Reset;\">─</span><span style=\"color: Reset;background-color: Reset;\">─</span><span style=\"color: Reset;background-color: Reset;\">─</span><span style=\"color: Reset;background-color: Reset;\">─</span><span style=\"color: Reset;background-color: Reset;\">─</span><span style=\"color: Reset;background-color: Reset;\">─</span><span style=\"color: Reset;background-color: Reset;\">─</span><span style=\"color: Reset;background-color: Reset;\">─</span><span style=\"color: Reset;background-color: Reset;\">─</span><span style=\"color: Reset;background-color: Reset;\">─</span><span style=\"color: Reset;background-color: Reset;\">─</span><span style=\"color: Reset;background-color: Reset;\">─</span><span style=\"color: Reset;background-color: Reset;\">─</span><span style=\"color: Reset;background-color: Reset;\">─</span><span style=\"color: Reset;background-color: Reset;\">─</span><span style=\"color: Reset;background-color: Reset;\">─</span><span style=\"color: Reset;background-color: Reset;\">─</span><span style=\"color: Reset;background-color: Reset;\">─</span><span style=\"color: Reset;background-color: Reset;\">─</span><span style=\"color: Reset;background-color: Reset;\">─</span><span style=\"color: Reset;background-color: Reset;\">─</span><span style=\"color: Reset;background-color: Reset;\">─</span><span style=\"color: Reset;background-color: Reset;\">─</span><span style=\"color: Reset;background-color: Reset;\">─</span><span style=\"color: Reset;background-color: Reset;\">─</span><span style=\"color: Reset;background-color: Reset;\">─</span><span style=\"color: Reset;background-color: Reset;\">─</span><span style=\"color: Reset;background-color: Reset;\">─</span><span style=\"color: Reset;background-color: Reset;\">─</span><span style=\"color: Reset;background-color: Reset;\">─</span><span style=\"color: Reset;background-color: Reset;\">─</span><span style=\"color: Reset;background-color: Reset;\">┐</span><span style=\"color: Reset;background-color: Reset;\"> </span><span style=\"color: Reset;background-color: Reset;\"> </span><span style=\"color: Reset;background-color: Reset;\"> </span><span style=\"color: Reset;background-color: Reset;\"> </span><span style=\"color: Reset;background-color: Reset;\"> </span>\n",
       "<span style=\"color: Reset;background-color: Reset;\"> </span><span style=\"color: Reset;background-color: Reset;\"> </span><span style=\"color: Reset;background-color: Reset;\"> </span><span style=\"color: Reset;background-color: Reset;\"> </span><span style=\"color: Reset;background-color: Reset;\"> </span><span style=\"color: Reset;background-color: Reset;\">│</span><span style=\"color: Reset;background-color: Reset;\"> </span><span style=\"color: Reset;background-color: Reset;\"> </span><span style=\"color: Reset;background-color: Reset;\"> </span><span style=\"color: Reset;background-color: Reset;\"> </span><span style=\"color: Reset;background-color: Reset;\"> </span><span style=\"color: Reset;background-color: Reset;\"> </span><span style=\"color: Reset;background-color: Reset;\"> </span><span style=\"color: Reset;background-color: Reset;\"> </span><span style=\"color: Reset;background-color: Reset;\"> </span><span style=\"color: Reset;background-color: Reset;\"> </span><span style=\"color: Reset;background-color: Reset;\"> </span><span style=\"color: Reset;background-color: Reset;\"> </span><span style=\"color: Reset;background-color: Reset;\"> </span><span style=\"color: Reset;background-color: Reset;\"> </span><span style=\"color: Reset;background-color: Reset;\"> </span><span style=\"color: Reset;background-color: Reset;\"> </span><span style=\"color: Reset;background-color: Reset;\"> </span><span style=\"color: Reset;background-color: Reset;\"> </span><span style=\"color: Reset;background-color: Reset;\"> </span><span style=\"color: Reset;background-color: Reset;\"> </span><span style=\"color: Reset;background-color: Reset;\"> </span><span style=\"color: Reset;background-color: Reset;\"> </span><span style=\"color: Reset;background-color: Reset;\"> </span><span style=\"color: Reset;background-color: Reset;\"> </span><span style=\"color: Reset;background-color: Reset;\"> </span><span style=\"color: Reset;background-color: Reset;\"> </span><span style=\"color: Reset;background-color: Reset;\"> </span><span style=\"color: Reset;background-color: Reset;\"> </span><span style=\"color: Reset;background-color: Reset;\"> </span><span style=\"color: Reset;background-color: Reset;\"> </span><span style=\"color: Reset;background-color: Reset;\"> </span><span style=\"color: Reset;background-color: Reset;\"> </span><span style=\"color: Reset;background-color: Reset;\"> </span><span style=\"color: Reset;background-color: Reset;\"> </span><span style=\"color: Reset;background-color: Reset;\"> </span><span style=\"color: Reset;background-color: Reset;\"> </span><span style=\"color: Reset;background-color: Reset;\"> </span><span style=\"color: Reset;background-color: Reset;\"> </span><span style=\"color: Reset;background-color: Reset;\">│</span><span style=\"color: Reset;background-color: Reset;\"> </span><span style=\"color: Reset;background-color: Reset;\"> </span><span style=\"color: Reset;background-color: Reset;\"> </span><span style=\"color: Reset;background-color: Reset;\"> </span><span style=\"color: Reset;background-color: Reset;\"> </span>\n",
       "<span style=\"color: Reset;background-color: Reset;\"> </span><span style=\"color: Reset;background-color: Reset;\"> </span><span style=\"color: Reset;background-color: Reset;\"> </span><span style=\"color: Reset;background-color: Reset;\"> </span><span style=\"color: Reset;background-color: Reset;\"> </span><span style=\"color: Reset;background-color: Reset;\">└</span><span style=\"color: Reset;background-color: Reset;\">─</span><span style=\"color: Reset;background-color: Reset;\">─</span><span style=\"color: Reset;background-color: Reset;\">─</span><span style=\"color: Reset;background-color: Reset;\">─</span><span style=\"color: Reset;background-color: Reset;\">─</span><span style=\"color: Reset;background-color: Reset;\">─</span><span style=\"color: Reset;background-color: Reset;\">─</span><span style=\"color: Reset;background-color: Reset;\">─</span><span style=\"color: Reset;background-color: Reset;\">─</span><span style=\"color: Reset;background-color: Reset;\">─</span><span style=\"color: Reset;background-color: Reset;\">─</span><span style=\"color: Reset;background-color: Reset;\">─</span><span style=\"color: Reset;background-color: Reset;\">─</span><span style=\"color: Reset;background-color: Reset;\">─</span><span style=\"color: Reset;background-color: Reset;\">─</span><span style=\"color: Reset;background-color: Reset;\">─</span><span style=\"color: Reset;background-color: Reset;\">─</span><span style=\"color: Reset;background-color: Reset;\">─</span><span style=\"color: Reset;background-color: Reset;\">─</span><span style=\"color: Reset;background-color: Reset;\">─</span><span style=\"color: Reset;background-color: Reset;\">─</span><span style=\"color: Reset;background-color: Reset;\">─</span><span style=\"color: Reset;background-color: Reset;\">─</span><span style=\"color: Reset;background-color: Reset;\">─</span><span style=\"color: Reset;background-color: Reset;\">─</span><span style=\"color: Reset;background-color: Reset;\">─</span><span style=\"color: Reset;background-color: Reset;\">─</span><span style=\"color: Reset;background-color: Reset;\">─</span><span style=\"color: Reset;background-color: Reset;\">─</span><span style=\"color: Reset;background-color: Reset;\">─</span><span style=\"color: Reset;background-color: Reset;\">─</span><span style=\"color: Reset;background-color: Reset;\">─</span><span style=\"color: Reset;background-color: Reset;\">─</span><span style=\"color: Reset;background-color: Reset;\">─</span><span style=\"color: Reset;background-color: Reset;\">─</span><span style=\"color: Reset;background-color: Reset;\">─</span><span style=\"color: Reset;background-color: Reset;\">─</span><span style=\"color: Reset;background-color: Reset;\">─</span><span style=\"color: Reset;background-color: Reset;\">┘</span><span style=\"color: Reset;background-color: Reset;\"> </span><span style=\"color: Reset;background-color: Reset;\"> </span><span style=\"color: Reset;background-color: Reset;\"> </span><span style=\"color: Reset;background-color: Reset;\"> </span><span style=\"color: Reset;background-color: Reset;\"> </span>\n",
       "<span style=\"color: Reset;background-color: Reset;\"> </span><span style=\"color: Reset;background-color: Reset;\"> </span><span style=\"color: Reset;background-color: Reset;\"> </span><span style=\"color: Reset;background-color: Reset;\"> </span><span style=\"color: Reset;background-color: Reset;\"> </span><span style=\"color: Reset;background-color: Reset;\"> </span><span style=\"color: Reset;background-color: Reset;\"> </span><span style=\"color: Reset;background-color: Reset;\"> </span><span style=\"color: Reset;background-color: Reset;\"> </span><span style=\"color: Reset;background-color: Reset;\"> </span><span style=\"color: Reset;background-color: Reset;\"> </span><span style=\"color: Reset;background-color: Reset;\"> </span><span style=\"color: Reset;background-color: Reset;\"> </span><span style=\"color: Reset;background-color: Reset;\"> </span><span style=\"color: Reset;background-color: Reset;\"> </span><span style=\"color: Reset;background-color: Reset;\"> </span><span style=\"color: Reset;background-color: Reset;\"> </span><span style=\"color: Reset;background-color: Reset;\"> </span><span style=\"color: Reset;background-color: Reset;\"> </span><span style=\"color: Reset;background-color: Reset;\"> </span><span style=\"color: Reset;background-color: Reset;\"> </span><span style=\"color: Reset;background-color: Reset;\"> </span><span style=\"color: Reset;background-color: Reset;\"> </span><span style=\"color: Reset;background-color: Reset;\"> </span><span style=\"color: Reset;background-color: Reset;\"> </span><span style=\"color: Reset;background-color: Reset;\"> </span><span style=\"color: Reset;background-color: Reset;\"> </span><span style=\"color: Reset;background-color: Reset;\"> </span><span style=\"color: Reset;background-color: Reset;\"> </span><span style=\"color: Reset;background-color: Reset;\"> </span><span style=\"color: Reset;background-color: Reset;\"> </span><span style=\"color: Reset;background-color: Reset;\"> </span><span style=\"color: Reset;background-color: Reset;\"> </span><span style=\"color: Reset;background-color: Reset;\"> </span><span style=\"color: Reset;background-color: Reset;\"> </span><span style=\"color: Reset;background-color: Reset;\"> </span><span style=\"color: Reset;background-color: Reset;\"> </span><span style=\"color: Reset;background-color: Reset;\"> </span><span style=\"color: Reset;background-color: Reset;\"> </span><span style=\"color: Reset;background-color: Reset;\"> </span><span style=\"color: Reset;background-color: Reset;\"> </span><span style=\"color: Reset;background-color: Reset;\"> </span><span style=\"color: Reset;background-color: Reset;\"> </span><span style=\"color: Reset;background-color: Reset;\"> </span><span style=\"color: Reset;background-color: Reset;\"> </span><span style=\"color: Reset;background-color: Reset;\"> </span><span style=\"color: Reset;background-color: Reset;\"> </span><span style=\"color: Reset;background-color: Reset;\"> </span><span style=\"color: Reset;background-color: Reset;\"> </span><span style=\"color: Reset;background-color: Reset;\"> </span>\n",
       "</code></pre>\n",
       "</div>"
      ],
      "text/plain": [
       "()"
      ]
     },
     "execution_count": 27,
     "metadata": {},
     "output_type": "execute_result"
    }
   ],
   "source": [
    "let mut buf = ratatui::buffer::Buffer::empty(area);\n",
    "\n",
    "let (horizontal, vertical) = (5, 1);\n",
    "let inner_area = area.inner(&ratatui::layout::Margin::new(horizontal, vertical));\n",
    "\n",
    "ratatui::widgets::Block::bordered().render(inner_area, &mut buf);\n",
    "\n",
    "show_html(buffer_to_html(&buf))"
   ]
  },
  {
   "cell_type": "markdown",
   "id": "9b3e6a2a-03fb-478e-9715-1af0810150c5",
   "metadata": {},
   "source": [
    "Ratatui also has a layout solver using [the cassowary algorithm](https://en.wikipedia.org/wiki/Cassowary_(software)?useskin=vector).\n",
    "\n"
   ]
  },
  {
   "cell_type": "code",
   "execution_count": 28,
   "id": "b8981456-0f54-4aa3-bba1-f16903c32f17",
   "metadata": {
    "execution": {
     "iopub.execute_input": "2024-05-17T16:19:07.031189+00:00",
     "iopub.status.busy": "2024-05-17T16:19:07.031116+00:00",
     "iopub.status.idle": "2024-05-17T16:19:07.031175+00:00",
     "shell.execute_reply": "2024-05-17T16:19:07.642089+00:00"
    }
   },
   "outputs": [
    {
     "data": {
      "text/html": [
       "<div style=\"display: flex; justify-content:start; gap: 1em; margin: 1em\">\n",
       "<pre><code><span style=\"color: Reset;background-color: Reset;\">┌</span><span style=\"color: Reset;background-color: Reset;\">f</span><span style=\"color: Reset;background-color: Reset;\">i</span><span style=\"color: Reset;background-color: Reset;\">r</span><span style=\"color: Reset;background-color: Reset;\">s</span><span style=\"color: Reset;background-color: Reset;\">t</span><span style=\"color: Reset;background-color: Reset;\">─</span><span style=\"color: Reset;background-color: Reset;\">─</span><span style=\"color: Reset;background-color: Reset;\">─</span><span style=\"color: Reset;background-color: Reset;\">┐</span><span style=\"color: Reset;background-color: Reset;\">┌</span><span style=\"color: Reset;background-color: Reset;\">s</span><span style=\"color: Reset;background-color: Reset;\">e</span><span style=\"color: Reset;background-color: Reset;\">c</span><span style=\"color: Reset;background-color: Reset;\">o</span><span style=\"color: Reset;background-color: Reset;\">n</span><span style=\"color: Reset;background-color: Reset;\">d</span><span style=\"color: Reset;background-color: Reset;\">─</span><span style=\"color: Reset;background-color: Reset;\">─</span><span style=\"color: Reset;background-color: Reset;\">┐</span><span style=\"color: Reset;background-color: Reset;\"> </span><span style=\"color: Reset;background-color: Reset;\"> </span><span style=\"color: Reset;background-color: Reset;\"> </span><span style=\"color: Reset;background-color: Reset;\"> </span><span style=\"color: Reset;background-color: Reset;\"> </span><span style=\"color: Reset;background-color: Reset;\"> </span><span style=\"color: Reset;background-color: Reset;\"> </span><span style=\"color: Reset;background-color: Reset;\"> </span><span style=\"color: Reset;background-color: Reset;\"> </span><span style=\"color: Reset;background-color: Reset;\"> </span><span style=\"color: Reset;background-color: Reset;\"> </span><span style=\"color: Reset;background-color: Reset;\"> </span><span style=\"color: Reset;background-color: Reset;\"> </span><span style=\"color: Reset;background-color: Reset;\"> </span><span style=\"color: Reset;background-color: Reset;\"> </span><span style=\"color: Reset;background-color: Reset;\"> </span><span style=\"color: Reset;background-color: Reset;\"> </span><span style=\"color: Reset;background-color: Reset;\"> </span><span style=\"color: Reset;background-color: Reset;\"> </span><span style=\"color: Reset;background-color: Reset;\"> </span><span style=\"color: Reset;background-color: Reset;\"> </span><span style=\"color: Reset;background-color: Reset;\"> </span><span style=\"color: Reset;background-color: Reset;\"> </span><span style=\"color: Reset;background-color: Reset;\"> </span><span style=\"color: Reset;background-color: Reset;\"> </span><span style=\"color: Reset;background-color: Reset;\"> </span><span style=\"color: Reset;background-color: Reset;\"> </span><span style=\"color: Reset;background-color: Reset;\"> </span><span style=\"color: Reset;background-color: Reset;\"> </span><span style=\"color: Reset;background-color: Reset;\"> </span>\n",
       "<span style=\"color: Reset;background-color: Reset;\">│</span><span style=\"color: Reset;background-color: Reset;\"> </span><span style=\"color: Reset;background-color: Reset;\"> </span><span style=\"color: Reset;background-color: Reset;\"> </span><span style=\"color: Reset;background-color: Reset;\"> </span><span style=\"color: Reset;background-color: Reset;\"> </span><span style=\"color: Reset;background-color: Reset;\"> </span><span style=\"color: Reset;background-color: Reset;\"> </span><span style=\"color: Reset;background-color: Reset;\"> </span><span style=\"color: Reset;background-color: Reset;\">│</span><span style=\"color: Reset;background-color: Reset;\">│</span><span style=\"color: Reset;background-color: Reset;\"> </span><span style=\"color: Reset;background-color: Reset;\"> </span><span style=\"color: Reset;background-color: Reset;\"> </span><span style=\"color: Reset;background-color: Reset;\"> </span><span style=\"color: Reset;background-color: Reset;\"> </span><span style=\"color: Reset;background-color: Reset;\"> </span><span style=\"color: Reset;background-color: Reset;\"> </span><span style=\"color: Reset;background-color: Reset;\"> </span><span style=\"color: Reset;background-color: Reset;\">│</span><span style=\"color: Reset;background-color: Reset;\"> </span><span style=\"color: Reset;background-color: Reset;\"> </span><span style=\"color: Reset;background-color: Reset;\"> </span><span style=\"color: Reset;background-color: Reset;\"> </span><span style=\"color: Reset;background-color: Reset;\"> </span><span style=\"color: Reset;background-color: Reset;\"> </span><span style=\"color: Reset;background-color: Reset;\"> </span><span style=\"color: Reset;background-color: Reset;\"> </span><span style=\"color: Reset;background-color: Reset;\"> </span><span style=\"color: Reset;background-color: Reset;\"> </span><span style=\"color: Reset;background-color: Reset;\"> </span><span style=\"color: Reset;background-color: Reset;\"> </span><span style=\"color: Reset;background-color: Reset;\"> </span><span style=\"color: Reset;background-color: Reset;\"> </span><span style=\"color: Reset;background-color: Reset;\"> </span><span style=\"color: Reset;background-color: Reset;\"> </span><span style=\"color: Reset;background-color: Reset;\"> </span><span style=\"color: Reset;background-color: Reset;\"> </span><span style=\"color: Reset;background-color: Reset;\"> </span><span style=\"color: Reset;background-color: Reset;\"> </span><span style=\"color: Reset;background-color: Reset;\"> </span><span style=\"color: Reset;background-color: Reset;\"> </span><span style=\"color: Reset;background-color: Reset;\"> </span><span style=\"color: Reset;background-color: Reset;\"> </span><span style=\"color: Reset;background-color: Reset;\"> </span><span style=\"color: Reset;background-color: Reset;\"> </span><span style=\"color: Reset;background-color: Reset;\"> </span><span style=\"color: Reset;background-color: Reset;\"> </span><span style=\"color: Reset;background-color: Reset;\"> </span><span style=\"color: Reset;background-color: Reset;\"> </span>\n",
       "<span style=\"color: Reset;background-color: Reset;\">│</span><span style=\"color: Reset;background-color: Reset;\"> </span><span style=\"color: Reset;background-color: Reset;\"> </span><span style=\"color: Reset;background-color: Reset;\"> </span><span style=\"color: Reset;background-color: Reset;\"> </span><span style=\"color: Reset;background-color: Reset;\"> </span><span style=\"color: Reset;background-color: Reset;\"> </span><span style=\"color: Reset;background-color: Reset;\"> </span><span style=\"color: Reset;background-color: Reset;\"> </span><span style=\"color: Reset;background-color: Reset;\">│</span><span style=\"color: Reset;background-color: Reset;\">│</span><span style=\"color: Reset;background-color: Reset;\"> </span><span style=\"color: Reset;background-color: Reset;\"> </span><span style=\"color: Reset;background-color: Reset;\"> </span><span style=\"color: Reset;background-color: Reset;\"> </span><span style=\"color: Reset;background-color: Reset;\"> </span><span style=\"color: Reset;background-color: Reset;\"> </span><span style=\"color: Reset;background-color: Reset;\"> </span><span style=\"color: Reset;background-color: Reset;\"> </span><span style=\"color: Reset;background-color: Reset;\">│</span><span style=\"color: Reset;background-color: Reset;\"> </span><span style=\"color: Reset;background-color: Reset;\"> </span><span style=\"color: Reset;background-color: Reset;\"> </span><span style=\"color: Reset;background-color: Reset;\"> </span><span style=\"color: Reset;background-color: Reset;\"> </span><span style=\"color: Reset;background-color: Reset;\"> </span><span style=\"color: Reset;background-color: Reset;\"> </span><span style=\"color: Reset;background-color: Reset;\"> </span><span style=\"color: Reset;background-color: Reset;\"> </span><span style=\"color: Reset;background-color: Reset;\"> </span><span style=\"color: Reset;background-color: Reset;\"> </span><span style=\"color: Reset;background-color: Reset;\"> </span><span style=\"color: Reset;background-color: Reset;\"> </span><span style=\"color: Reset;background-color: Reset;\"> </span><span style=\"color: Reset;background-color: Reset;\"> </span><span style=\"color: Reset;background-color: Reset;\"> </span><span style=\"color: Reset;background-color: Reset;\"> </span><span style=\"color: Reset;background-color: Reset;\"> </span><span style=\"color: Reset;background-color: Reset;\"> </span><span style=\"color: Reset;background-color: Reset;\"> </span><span style=\"color: Reset;background-color: Reset;\"> </span><span style=\"color: Reset;background-color: Reset;\"> </span><span style=\"color: Reset;background-color: Reset;\"> </span><span style=\"color: Reset;background-color: Reset;\"> </span><span style=\"color: Reset;background-color: Reset;\"> </span><span style=\"color: Reset;background-color: Reset;\"> </span><span style=\"color: Reset;background-color: Reset;\"> </span><span style=\"color: Reset;background-color: Reset;\"> </span><span style=\"color: Reset;background-color: Reset;\"> </span><span style=\"color: Reset;background-color: Reset;\"> </span>\n",
       "<span style=\"color: Reset;background-color: Reset;\">│</span><span style=\"color: Reset;background-color: Reset;\"> </span><span style=\"color: Reset;background-color: Reset;\"> </span><span style=\"color: Reset;background-color: Reset;\"> </span><span style=\"color: Reset;background-color: Reset;\"> </span><span style=\"color: Reset;background-color: Reset;\"> </span><span style=\"color: Reset;background-color: Reset;\"> </span><span style=\"color: Reset;background-color: Reset;\"> </span><span style=\"color: Reset;background-color: Reset;\"> </span><span style=\"color: Reset;background-color: Reset;\">│</span><span style=\"color: Reset;background-color: Reset;\">│</span><span style=\"color: Reset;background-color: Reset;\"> </span><span style=\"color: Reset;background-color: Reset;\"> </span><span style=\"color: Reset;background-color: Reset;\"> </span><span style=\"color: Reset;background-color: Reset;\"> </span><span style=\"color: Reset;background-color: Reset;\"> </span><span style=\"color: Reset;background-color: Reset;\"> </span><span style=\"color: Reset;background-color: Reset;\"> </span><span style=\"color: Reset;background-color: Reset;\"> </span><span style=\"color: Reset;background-color: Reset;\">│</span><span style=\"color: Reset;background-color: Reset;\"> </span><span style=\"color: Reset;background-color: Reset;\"> </span><span style=\"color: Reset;background-color: Reset;\"> </span><span style=\"color: Reset;background-color: Reset;\"> </span><span style=\"color: Reset;background-color: Reset;\"> </span><span style=\"color: Reset;background-color: Reset;\"> </span><span style=\"color: Reset;background-color: Reset;\"> </span><span style=\"color: Reset;background-color: Reset;\"> </span><span style=\"color: Reset;background-color: Reset;\"> </span><span style=\"color: Reset;background-color: Reset;\"> </span><span style=\"color: Reset;background-color: Reset;\"> </span><span style=\"color: Reset;background-color: Reset;\"> </span><span style=\"color: Reset;background-color: Reset;\"> </span><span style=\"color: Reset;background-color: Reset;\"> </span><span style=\"color: Reset;background-color: Reset;\"> </span><span style=\"color: Reset;background-color: Reset;\"> </span><span style=\"color: Reset;background-color: Reset;\"> </span><span style=\"color: Reset;background-color: Reset;\"> </span><span style=\"color: Reset;background-color: Reset;\"> </span><span style=\"color: Reset;background-color: Reset;\"> </span><span style=\"color: Reset;background-color: Reset;\"> </span><span style=\"color: Reset;background-color: Reset;\"> </span><span style=\"color: Reset;background-color: Reset;\"> </span><span style=\"color: Reset;background-color: Reset;\"> </span><span style=\"color: Reset;background-color: Reset;\"> </span><span style=\"color: Reset;background-color: Reset;\"> </span><span style=\"color: Reset;background-color: Reset;\"> </span><span style=\"color: Reset;background-color: Reset;\"> </span><span style=\"color: Reset;background-color: Reset;\"> </span><span style=\"color: Reset;background-color: Reset;\"> </span>\n",
       "<span style=\"color: Reset;background-color: Reset;\">└</span><span style=\"color: Reset;background-color: Reset;\">─</span><span style=\"color: Reset;background-color: Reset;\">─</span><span style=\"color: Reset;background-color: Reset;\">─</span><span style=\"color: Reset;background-color: Reset;\">─</span><span style=\"color: Reset;background-color: Reset;\">─</span><span style=\"color: Reset;background-color: Reset;\">─</span><span style=\"color: Reset;background-color: Reset;\">─</span><span style=\"color: Reset;background-color: Reset;\">─</span><span style=\"color: Reset;background-color: Reset;\">┘</span><span style=\"color: Reset;background-color: Reset;\">└</span><span style=\"color: Reset;background-color: Reset;\">─</span><span style=\"color: Reset;background-color: Reset;\">─</span><span style=\"color: Reset;background-color: Reset;\">─</span><span style=\"color: Reset;background-color: Reset;\">─</span><span style=\"color: Reset;background-color: Reset;\">─</span><span style=\"color: Reset;background-color: Reset;\">─</span><span style=\"color: Reset;background-color: Reset;\">─</span><span style=\"color: Reset;background-color: Reset;\">─</span><span style=\"color: Reset;background-color: Reset;\">┘</span><span style=\"color: Reset;background-color: Reset;\"> </span><span style=\"color: Reset;background-color: Reset;\"> </span><span style=\"color: Reset;background-color: Reset;\"> </span><span style=\"color: Reset;background-color: Reset;\"> </span><span style=\"color: Reset;background-color: Reset;\"> </span><span style=\"color: Reset;background-color: Reset;\"> </span><span style=\"color: Reset;background-color: Reset;\"> </span><span style=\"color: Reset;background-color: Reset;\"> </span><span style=\"color: Reset;background-color: Reset;\"> </span><span style=\"color: Reset;background-color: Reset;\"> </span><span style=\"color: Reset;background-color: Reset;\"> </span><span style=\"color: Reset;background-color: Reset;\"> </span><span style=\"color: Reset;background-color: Reset;\"> </span><span style=\"color: Reset;background-color: Reset;\"> </span><span style=\"color: Reset;background-color: Reset;\"> </span><span style=\"color: Reset;background-color: Reset;\"> </span><span style=\"color: Reset;background-color: Reset;\"> </span><span style=\"color: Reset;background-color: Reset;\"> </span><span style=\"color: Reset;background-color: Reset;\"> </span><span style=\"color: Reset;background-color: Reset;\"> </span><span style=\"color: Reset;background-color: Reset;\"> </span><span style=\"color: Reset;background-color: Reset;\"> </span><span style=\"color: Reset;background-color: Reset;\"> </span><span style=\"color: Reset;background-color: Reset;\"> </span><span style=\"color: Reset;background-color: Reset;\"> </span><span style=\"color: Reset;background-color: Reset;\"> </span><span style=\"color: Reset;background-color: Reset;\"> </span><span style=\"color: Reset;background-color: Reset;\"> </span><span style=\"color: Reset;background-color: Reset;\"> </span><span style=\"color: Reset;background-color: Reset;\"> </span>\n",
       "</code></pre>\n",
       "</div>"
      ],
      "text/plain": [
       "()"
      ]
     },
     "execution_count": 28,
     "metadata": {},
     "output_type": "execute_result"
    }
   ],
   "source": [
    "use ratatui::layout::{Layout, Constraint};\n",
    "\n",
    "let [first, second] = ratatui::layout::Layout::horizontal([Constraint::Length(10), Constraint::Length(10)]).areas(area);\n",
    "\n",
    "let mut buf = ratatui::buffer::Buffer::empty(area);\n",
    "ratatui::widgets::Block::bordered().title(\"first\").render(first, &mut buf);\n",
    "ratatui::widgets::Block::bordered().title(\"second\").render(second, &mut buf);\n",
    "\n",
    "show_html(buffer_to_html(&buf))"
   ]
  },
  {
   "cell_type": "markdown",
   "id": "a60b7371-faf3-459b-ad5c-2e82d4c28cb9",
   "metadata": {},
   "source": [
    "`ratatui-macros` has a couple of macros to make some of this boilerplate simpler."
   ]
  },
  {
   "cell_type": "code",
   "execution_count": 29,
   "id": "cd606f9d-508c-40e0-9403-da9c77236bde",
   "metadata": {
    "execution": {
     "iopub.execute_input": "2024-05-17T16:19:12.220506+00:00",
     "iopub.status.busy": "2024-05-17T16:19:12.220311+00:00",
     "iopub.status.idle": "2024-05-17T16:19:12.220471+00:00",
     "shell.execute_reply": "2024-05-17T16:19:12.645129+00:00"
    }
   },
   "outputs": [],
   "source": [
    "let [first, second] = ratatui::layout::Layout::horizontal([Constraint::Length(10), Constraint::Length(10)]).areas(area);\n",
    "// OR\n",
    "let [first, second] = ratatui_macros::horizontal![==10, ==10].areas(area);"
   ]
  },
  {
   "cell_type": "markdown",
   "id": "e06b702c-949d-48e4-a6ee-e9ae5f989e43",
   "metadata": {},
   "source": [
    "Here's an example of combining a vertical and horizontal layout:"
   ]
  },
  {
   "cell_type": "code",
   "execution_count": 32,
   "id": "f62b8bd3-04e8-4c35-ae93-6d627f2594b3",
   "metadata": {
    "execution": {
     "iopub.execute_input": "2024-05-17T16:20:33.405374+00:00",
     "iopub.status.busy": "2024-05-17T16:20:33.405162+00:00",
     "iopub.status.idle": "2024-05-17T16:20:33.405329+00:00",
     "shell.execute_reply": "2024-05-17T16:20:34.053625+00:00"
    }
   },
   "outputs": [
    {
     "data": {
      "text/html": [
       "<div style=\"display: flex; justify-content:start; gap: 1em; margin: 1em\">\n",
       "<pre><code><span style=\"color: Reset;background-color: Reset;\">┌</span><span style=\"color: Reset;background-color: Reset;\">f</span><span style=\"color: Reset;background-color: Reset;\">i</span><span style=\"color: Reset;background-color: Reset;\">r</span><span style=\"color: Reset;background-color: Reset;\">s</span><span style=\"color: Reset;background-color: Reset;\">t</span><span style=\"color: Reset;background-color: Reset;\">─</span><span style=\"color: Reset;background-color: Reset;\">─</span><span style=\"color: Reset;background-color: Reset;\">─</span><span style=\"color: Reset;background-color: Reset;\">┐</span><span style=\"color: Reset;background-color: Reset;\">┌</span><span style=\"color: Reset;background-color: Reset;\">s</span><span style=\"color: Reset;background-color: Reset;\">e</span><span style=\"color: Reset;background-color: Reset;\">c</span><span style=\"color: Reset;background-color: Reset;\">o</span><span style=\"color: Reset;background-color: Reset;\">n</span><span style=\"color: Reset;background-color: Reset;\">d</span><span style=\"color: Reset;background-color: Reset;\">─</span><span style=\"color: Reset;background-color: Reset;\">─</span><span style=\"color: Reset;background-color: Reset;\">┐</span><span style=\"color: Reset;background-color: Reset;\"> </span><span style=\"color: Reset;background-color: Reset;\"> </span><span style=\"color: Reset;background-color: Reset;\"> </span><span style=\"color: Reset;background-color: Reset;\"> </span><span style=\"color: Reset;background-color: Reset;\"> </span><span style=\"color: Reset;background-color: Reset;\"> </span><span style=\"color: Reset;background-color: Reset;\"> </span><span style=\"color: Reset;background-color: Reset;\"> </span><span style=\"color: Reset;background-color: Reset;\"> </span><span style=\"color: Reset;background-color: Reset;\"> </span><span style=\"color: Reset;background-color: Reset;\"> </span><span style=\"color: Reset;background-color: Reset;\"> </span><span style=\"color: Reset;background-color: Reset;\"> </span><span style=\"color: Reset;background-color: Reset;\"> </span><span style=\"color: Reset;background-color: Reset;\"> </span><span style=\"color: Reset;background-color: Reset;\"> </span><span style=\"color: Reset;background-color: Reset;\"> </span><span style=\"color: Reset;background-color: Reset;\"> </span><span style=\"color: Reset;background-color: Reset;\"> </span><span style=\"color: Reset;background-color: Reset;\"> </span><span style=\"color: Reset;background-color: Reset;\"> </span><span style=\"color: Reset;background-color: Reset;\"> </span><span style=\"color: Reset;background-color: Reset;\"> </span><span style=\"color: Reset;background-color: Reset;\"> </span><span style=\"color: Reset;background-color: Reset;\"> </span><span style=\"color: Reset;background-color: Reset;\"> </span><span style=\"color: Reset;background-color: Reset;\"> </span><span style=\"color: Reset;background-color: Reset;\"> </span><span style=\"color: Reset;background-color: Reset;\"> </span><span style=\"color: Reset;background-color: Reset;\"> </span>\n",
       "<span style=\"color: Reset;background-color: Reset;\">└</span><span style=\"color: Reset;background-color: Reset;\">─</span><span style=\"color: Reset;background-color: Reset;\">─</span><span style=\"color: Reset;background-color: Reset;\">─</span><span style=\"color: Reset;background-color: Reset;\">─</span><span style=\"color: Reset;background-color: Reset;\">─</span><span style=\"color: Reset;background-color: Reset;\">─</span><span style=\"color: Reset;background-color: Reset;\">─</span><span style=\"color: Reset;background-color: Reset;\">─</span><span style=\"color: Reset;background-color: Reset;\">┘</span><span style=\"color: Reset;background-color: Reset;\">└</span><span style=\"color: Reset;background-color: Reset;\">─</span><span style=\"color: Reset;background-color: Reset;\">─</span><span style=\"color: Reset;background-color: Reset;\">─</span><span style=\"color: Reset;background-color: Reset;\">─</span><span style=\"color: Reset;background-color: Reset;\">─</span><span style=\"color: Reset;background-color: Reset;\">─</span><span style=\"color: Reset;background-color: Reset;\">─</span><span style=\"color: Reset;background-color: Reset;\">─</span><span style=\"color: Reset;background-color: Reset;\">┘</span><span style=\"color: Reset;background-color: Reset;\"> </span><span style=\"color: Reset;background-color: Reset;\"> </span><span style=\"color: Reset;background-color: Reset;\"> </span><span style=\"color: Reset;background-color: Reset;\"> </span><span style=\"color: Reset;background-color: Reset;\"> </span><span style=\"color: Reset;background-color: Reset;\"> </span><span style=\"color: Reset;background-color: Reset;\"> </span><span style=\"color: Reset;background-color: Reset;\"> </span><span style=\"color: Reset;background-color: Reset;\"> </span><span style=\"color: Reset;background-color: Reset;\"> </span><span style=\"color: Reset;background-color: Reset;\"> </span><span style=\"color: Reset;background-color: Reset;\"> </span><span style=\"color: Reset;background-color: Reset;\"> </span><span style=\"color: Reset;background-color: Reset;\"> </span><span style=\"color: Reset;background-color: Reset;\"> </span><span style=\"color: Reset;background-color: Reset;\"> </span><span style=\"color: Reset;background-color: Reset;\"> </span><span style=\"color: Reset;background-color: Reset;\"> </span><span style=\"color: Reset;background-color: Reset;\"> </span><span style=\"color: Reset;background-color: Reset;\"> </span><span style=\"color: Reset;background-color: Reset;\"> </span><span style=\"color: Reset;background-color: Reset;\"> </span><span style=\"color: Reset;background-color: Reset;\"> </span><span style=\"color: Reset;background-color: Reset;\"> </span><span style=\"color: Reset;background-color: Reset;\"> </span><span style=\"color: Reset;background-color: Reset;\"> </span><span style=\"color: Reset;background-color: Reset;\"> </span><span style=\"color: Reset;background-color: Reset;\"> </span><span style=\"color: Reset;background-color: Reset;\"> </span><span style=\"color: Reset;background-color: Reset;\"> </span>\n",
       "<span style=\"color: Reset;background-color: Reset;\"> </span><span style=\"color: Reset;background-color: Reset;\"> </span><span style=\"color: Reset;background-color: Reset;\"> </span><span style=\"color: Reset;background-color: Reset;\"> </span><span style=\"color: Reset;background-color: Reset;\"> </span><span style=\"color: Reset;background-color: Reset;\"> </span><span style=\"color: Reset;background-color: Reset;\"> </span><span style=\"color: Reset;background-color: Reset;\"> </span><span style=\"color: Reset;background-color: Reset;\"> </span><span style=\"color: Reset;background-color: Reset;\"> </span><span style=\"color: Reset;background-color: Reset;\"> </span><span style=\"color: Reset;background-color: Reset;\"> </span><span style=\"color: Reset;background-color: Reset;\"> </span><span style=\"color: Reset;background-color: Reset;\"> </span><span style=\"color: Reset;background-color: Reset;\"> </span><span style=\"color: Reset;background-color: Reset;\">┌</span><span style=\"color: Reset;background-color: Reset;\">f</span><span style=\"color: Reset;background-color: Reset;\">i</span><span style=\"color: Reset;background-color: Reset;\">r</span><span style=\"color: Reset;background-color: Reset;\">s</span><span style=\"color: Reset;background-color: Reset;\">t</span><span style=\"color: Reset;background-color: Reset;\">─</span><span style=\"color: Reset;background-color: Reset;\">─</span><span style=\"color: Reset;background-color: Reset;\">─</span><span style=\"color: Reset;background-color: Reset;\">┐</span><span style=\"color: Reset;background-color: Reset;\">┌</span><span style=\"color: Reset;background-color: Reset;\">s</span><span style=\"color: Reset;background-color: Reset;\">e</span><span style=\"color: Reset;background-color: Reset;\">c</span><span style=\"color: Reset;background-color: Reset;\">o</span><span style=\"color: Reset;background-color: Reset;\">n</span><span style=\"color: Reset;background-color: Reset;\">d</span><span style=\"color: Reset;background-color: Reset;\">─</span><span style=\"color: Reset;background-color: Reset;\">─</span><span style=\"color: Reset;background-color: Reset;\">┐</span><span style=\"color: Reset;background-color: Reset;\"> </span><span style=\"color: Reset;background-color: Reset;\"> </span><span style=\"color: Reset;background-color: Reset;\"> </span><span style=\"color: Reset;background-color: Reset;\"> </span><span style=\"color: Reset;background-color: Reset;\"> </span><span style=\"color: Reset;background-color: Reset;\"> </span><span style=\"color: Reset;background-color: Reset;\"> </span><span style=\"color: Reset;background-color: Reset;\"> </span><span style=\"color: Reset;background-color: Reset;\"> </span><span style=\"color: Reset;background-color: Reset;\"> </span><span style=\"color: Reset;background-color: Reset;\"> </span><span style=\"color: Reset;background-color: Reset;\"> </span><span style=\"color: Reset;background-color: Reset;\"> </span><span style=\"color: Reset;background-color: Reset;\"> </span><span style=\"color: Reset;background-color: Reset;\"> </span>\n",
       "<span style=\"color: Reset;background-color: Reset;\"> </span><span style=\"color: Reset;background-color: Reset;\"> </span><span style=\"color: Reset;background-color: Reset;\"> </span><span style=\"color: Reset;background-color: Reset;\"> </span><span style=\"color: Reset;background-color: Reset;\"> </span><span style=\"color: Reset;background-color: Reset;\"> </span><span style=\"color: Reset;background-color: Reset;\"> </span><span style=\"color: Reset;background-color: Reset;\"> </span><span style=\"color: Reset;background-color: Reset;\"> </span><span style=\"color: Reset;background-color: Reset;\"> </span><span style=\"color: Reset;background-color: Reset;\"> </span><span style=\"color: Reset;background-color: Reset;\"> </span><span style=\"color: Reset;background-color: Reset;\"> </span><span style=\"color: Reset;background-color: Reset;\"> </span><span style=\"color: Reset;background-color: Reset;\"> </span><span style=\"color: Reset;background-color: Reset;\">└</span><span style=\"color: Reset;background-color: Reset;\">─</span><span style=\"color: Reset;background-color: Reset;\">─</span><span style=\"color: Reset;background-color: Reset;\">─</span><span style=\"color: Reset;background-color: Reset;\">─</span><span style=\"color: Reset;background-color: Reset;\">─</span><span style=\"color: Reset;background-color: Reset;\">─</span><span style=\"color: Reset;background-color: Reset;\">─</span><span style=\"color: Reset;background-color: Reset;\">─</span><span style=\"color: Reset;background-color: Reset;\">┘</span><span style=\"color: Reset;background-color: Reset;\">└</span><span style=\"color: Reset;background-color: Reset;\">─</span><span style=\"color: Reset;background-color: Reset;\">─</span><span style=\"color: Reset;background-color: Reset;\">─</span><span style=\"color: Reset;background-color: Reset;\">─</span><span style=\"color: Reset;background-color: Reset;\">─</span><span style=\"color: Reset;background-color: Reset;\">─</span><span style=\"color: Reset;background-color: Reset;\">─</span><span style=\"color: Reset;background-color: Reset;\">─</span><span style=\"color: Reset;background-color: Reset;\">┘</span><span style=\"color: Reset;background-color: Reset;\"> </span><span style=\"color: Reset;background-color: Reset;\"> </span><span style=\"color: Reset;background-color: Reset;\"> </span><span style=\"color: Reset;background-color: Reset;\"> </span><span style=\"color: Reset;background-color: Reset;\"> </span><span style=\"color: Reset;background-color: Reset;\"> </span><span style=\"color: Reset;background-color: Reset;\"> </span><span style=\"color: Reset;background-color: Reset;\"> </span><span style=\"color: Reset;background-color: Reset;\"> </span><span style=\"color: Reset;background-color: Reset;\"> </span><span style=\"color: Reset;background-color: Reset;\"> </span><span style=\"color: Reset;background-color: Reset;\"> </span><span style=\"color: Reset;background-color: Reset;\"> </span><span style=\"color: Reset;background-color: Reset;\"> </span><span style=\"color: Reset;background-color: Reset;\"> </span>\n",
       "<span style=\"color: Reset;background-color: Reset;\"> </span><span style=\"color: Reset;background-color: Reset;\"> </span><span style=\"color: Reset;background-color: Reset;\"> </span><span style=\"color: Reset;background-color: Reset;\"> </span><span style=\"color: Reset;background-color: Reset;\"> </span><span style=\"color: Reset;background-color: Reset;\"> </span><span style=\"color: Reset;background-color: Reset;\"> </span><span style=\"color: Reset;background-color: Reset;\"> </span><span style=\"color: Reset;background-color: Reset;\"> </span><span style=\"color: Reset;background-color: Reset;\"> </span><span style=\"color: Reset;background-color: Reset;\"> </span><span style=\"color: Reset;background-color: Reset;\"> </span><span style=\"color: Reset;background-color: Reset;\"> </span><span style=\"color: Reset;background-color: Reset;\"> </span><span style=\"color: Reset;background-color: Reset;\"> </span><span style=\"color: Reset;background-color: Reset;\"> </span><span style=\"color: Reset;background-color: Reset;\"> </span><span style=\"color: Reset;background-color: Reset;\"> </span><span style=\"color: Reset;background-color: Reset;\"> </span><span style=\"color: Reset;background-color: Reset;\"> </span><span style=\"color: Reset;background-color: Reset;\"> </span><span style=\"color: Reset;background-color: Reset;\"> </span><span style=\"color: Reset;background-color: Reset;\"> </span><span style=\"color: Reset;background-color: Reset;\"> </span><span style=\"color: Reset;background-color: Reset;\"> </span><span style=\"color: Reset;background-color: Reset;\"> </span><span style=\"color: Reset;background-color: Reset;\"> </span><span style=\"color: Reset;background-color: Reset;\"> </span><span style=\"color: Reset;background-color: Reset;\"> </span><span style=\"color: Reset;background-color: Reset;\"> </span><span style=\"color: Reset;background-color: Reset;\">┌</span><span style=\"color: Reset;background-color: Reset;\">f</span><span style=\"color: Reset;background-color: Reset;\">i</span><span style=\"color: Reset;background-color: Reset;\">r</span><span style=\"color: Reset;background-color: Reset;\">s</span><span style=\"color: Reset;background-color: Reset;\">t</span><span style=\"color: Reset;background-color: Reset;\">─</span><span style=\"color: Reset;background-color: Reset;\">─</span><span style=\"color: Reset;background-color: Reset;\">─</span><span style=\"color: Reset;background-color: Reset;\">┐</span><span style=\"color: Reset;background-color: Reset;\">┌</span><span style=\"color: Reset;background-color: Reset;\">s</span><span style=\"color: Reset;background-color: Reset;\">e</span><span style=\"color: Reset;background-color: Reset;\">c</span><span style=\"color: Reset;background-color: Reset;\">o</span><span style=\"color: Reset;background-color: Reset;\">n</span><span style=\"color: Reset;background-color: Reset;\">d</span><span style=\"color: Reset;background-color: Reset;\">─</span><span style=\"color: Reset;background-color: Reset;\">─</span><span style=\"color: Reset;background-color: Reset;\">┐</span>\n",
       "<span style=\"color: Reset;background-color: Reset;\"> </span><span style=\"color: Reset;background-color: Reset;\"> </span><span style=\"color: Reset;background-color: Reset;\"> </span><span style=\"color: Reset;background-color: Reset;\"> </span><span style=\"color: Reset;background-color: Reset;\"> </span><span style=\"color: Reset;background-color: Reset;\"> </span><span style=\"color: Reset;background-color: Reset;\"> </span><span style=\"color: Reset;background-color: Reset;\"> </span><span style=\"color: Reset;background-color: Reset;\"> </span><span style=\"color: Reset;background-color: Reset;\"> </span><span style=\"color: Reset;background-color: Reset;\"> </span><span style=\"color: Reset;background-color: Reset;\"> </span><span style=\"color: Reset;background-color: Reset;\"> </span><span style=\"color: Reset;background-color: Reset;\"> </span><span style=\"color: Reset;background-color: Reset;\"> </span><span style=\"color: Reset;background-color: Reset;\"> </span><span style=\"color: Reset;background-color: Reset;\"> </span><span style=\"color: Reset;background-color: Reset;\"> </span><span style=\"color: Reset;background-color: Reset;\"> </span><span style=\"color: Reset;background-color: Reset;\"> </span><span style=\"color: Reset;background-color: Reset;\"> </span><span style=\"color: Reset;background-color: Reset;\"> </span><span style=\"color: Reset;background-color: Reset;\"> </span><span style=\"color: Reset;background-color: Reset;\"> </span><span style=\"color: Reset;background-color: Reset;\"> </span><span style=\"color: Reset;background-color: Reset;\"> </span><span style=\"color: Reset;background-color: Reset;\"> </span><span style=\"color: Reset;background-color: Reset;\"> </span><span style=\"color: Reset;background-color: Reset;\"> </span><span style=\"color: Reset;background-color: Reset;\"> </span><span style=\"color: Reset;background-color: Reset;\">└</span><span style=\"color: Reset;background-color: Reset;\">─</span><span style=\"color: Reset;background-color: Reset;\">─</span><span style=\"color: Reset;background-color: Reset;\">─</span><span style=\"color: Reset;background-color: Reset;\">─</span><span style=\"color: Reset;background-color: Reset;\">─</span><span style=\"color: Reset;background-color: Reset;\">─</span><span style=\"color: Reset;background-color: Reset;\">─</span><span style=\"color: Reset;background-color: Reset;\">─</span><span style=\"color: Reset;background-color: Reset;\">┘</span><span style=\"color: Reset;background-color: Reset;\">└</span><span style=\"color: Reset;background-color: Reset;\">─</span><span style=\"color: Reset;background-color: Reset;\">─</span><span style=\"color: Reset;background-color: Reset;\">─</span><span style=\"color: Reset;background-color: Reset;\">─</span><span style=\"color: Reset;background-color: Reset;\">─</span><span style=\"color: Reset;background-color: Reset;\">─</span><span style=\"color: Reset;background-color: Reset;\">─</span><span style=\"color: Reset;background-color: Reset;\">─</span><span style=\"color: Reset;background-color: Reset;\">┘</span>\n",
       "</code></pre>\n",
       "</div>"
      ],
      "text/plain": [
       "()"
      ]
     },
     "execution_count": 32,
     "metadata": {},
     "output_type": "execute_result"
    }
   ],
   "source": [
    "use ratatui_macros::{horizontal, vertical};\n",
    "\n",
    "let (x, y, width, height) = (0, 0, 50, 6); \n",
    "let area = ratatui::layout::Rect::new(x, y, width, height);\n",
    "\n",
    "let mut buf = ratatui::buffer::Buffer::empty(area);\n",
    "\n",
    "let [top, middle, bottom] = vertical![*=1, *=1, *=1].areas(area);\n",
    "\n",
    "let [first, second] = horizontal![==10, ==10].areas(top);\n",
    "ratatui::widgets::Block::bordered().title(\"first\").render(first, &mut buf);\n",
    "ratatui::widgets::Block::bordered().title(\"second\").render(second, &mut buf);\n",
    "\n",
    "let [first, second] = horizontal![==10, ==10].flex(ratatui::layout::Flex::Center).areas(middle);\n",
    "ratatui::widgets::Block::bordered().title(\"first\").render(first, &mut buf);\n",
    "ratatui::widgets::Block::bordered().title(\"second\").render(second, &mut buf);\n",
    "\n",
    "let [first, second] = horizontal![==10, ==10].flex(ratatui::layout::Flex::End).areas(bottom);\n",
    "ratatui::widgets::Block::bordered().title(\"first\").render(first, &mut buf);\n",
    "ratatui::widgets::Block::bordered().title(\"second\").render(second, &mut buf);\n",
    "\n",
    "show_html(buffer_to_html(&buf))"
   ]
  },
  {
   "cell_type": "markdown",
   "id": "4670d851-89f6-41b5-8ab1-934da1ba1a95",
   "metadata": {},
   "source": [
    "## Conclusion"
   ]
  },
  {
   "cell_type": "markdown",
   "id": "4983556c-34e6-4ebf-93f1-29d09f881aaf",
   "metadata": {},
   "source": [
    "In the next post, we'll examine how text primitives work."
   ]
  },
  {
   "cell_type": "code",
   "execution_count": null,
   "id": "b6011123-57ba-444c-ad7b-d21f554a9739",
   "metadata": {},
   "outputs": [],
   "source": []
  },
  {
   "cell_type": "code",
   "execution_count": null,
   "id": "b3a7ccbc-e90a-459f-ba40-62977bb7648d",
   "metadata": {},
   "outputs": [],
   "source": []
  },
  {
   "cell_type": "code",
   "execution_count": null,
   "id": "3ddda790-b913-4641-9180-8bd1cc38734e",
   "metadata": {},
   "outputs": [],
   "source": []
  },
  {
   "cell_type": "code",
   "execution_count": null,
   "id": "b1965eb0-43a1-4701-b3ae-757ff66ab8fa",
   "metadata": {},
   "outputs": [],
   "source": []
  },
  {
   "cell_type": "code",
   "execution_count": null,
   "id": "ca4a46f6-013f-4ed7-9dd1-6f1b54ab4f74",
   "metadata": {},
   "outputs": [],
   "source": []
  }
 ],
 "metadata": {
  "kernelspec": {
   "display_name": "Rust",
   "language": "rust",
   "name": "rust"
  },
  "language_info": {
   "codemirror_mode": "rust",
   "file_extension": ".rs",
   "mimetype": "text/rust",
   "name": "Rust",
   "pygment_lexer": "rust",
   "version": ""
  },
  "widgets": {
   "application/vnd.jupyter.widget-state+json": {
    "state": {},
    "version_major": 2,
    "version_minor": 0
   }
  }
 },
 "nbformat": 4,
 "nbformat_minor": 5
}
