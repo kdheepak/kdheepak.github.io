{
 "cells": [
  {
   "cell_type": "raw",
   "id": "bf830a38-e568-4150-97b9-de5dc6172a32",
   "metadata": {
    "execution": {
     "iopub.execute_input": "2024-05-15T02:03:24.769199+00:00",
     "iopub.status.busy": "2024-05-15T02:03:24.768989+00:00",
     "iopub.status.idle": "2024-05-15T02:03:24.769163+00:00",
     "shell.execute_reply": "2024-05-15T02:03:24.910732+00:00"
    }
   },
   "source": [
    "---\n",
    "title: The Basic Building blocks of Ratatui - Part 2\n",
    "date: 2024-05-15T22:03:04-0400\n",
    "categories: [rust]\n",
    "keywords: rust, ratatui\n",
    "summary: Showcase of using layout\n",
    "---"
   ]
  },
  {
   "cell_type": "markdown",
   "id": "7e98f2e5-d4f5-4fc0-84e3-c9920e267bed",
   "metadata": {},
   "source": [
    "Ratatui is a crate for building terminal user interfaces in Rust.\n",
    "\n",
    "In this post, we'll discuss the `Rect` and `Layout` primitives of `ratatui`."
   ]
  },
  {
   "cell_type": "code",
   "execution_count": 14,
   "id": "73c1a207-8f25-467a-b3ed-2a5d6ac25461",
   "metadata": {
    "execution": {
     "iopub.execute_input": "2024-05-17T12:30:29.108513+00:00",
     "iopub.status.busy": "2024-05-17T12:30:29.108351+00:00",
     "iopub.status.idle": "2024-05-17T12:30:29.108463+00:00",
     "shell.execute_reply": "2024-05-17T12:30:29.929814+00:00"
    }
   },
   "outputs": [],
   "source": [
    "//| code-fold: true\n",
    ":dep ratatui = \"0.26.2\"\n",
    ":dep ratatui-macros = \"0.4.0\"\n",
    "    \n",
    "fn show_html<D>(content: D) where D: std::fmt::Display {\n",
    "    println!(r#\"EVCXR_BEGIN_CONTENT text/html\n",
    "<div style=\"display: flex; justify-content:start; gap: 1em; margin: 1em\">\n",
    "{}\n",
    "</div>\n",
    "EVCXR_END_CONTENT\"#, content);\n",
    "}\n"
   ]
  },
  {
   "cell_type": "markdown",
   "id": "20505bc4-d398-4e9a-b5ae-d223490d4d79",
   "metadata": {},
   "source": [
    "## Layout primitives"
   ]
  },
  {
   "cell_type": "markdown",
   "id": "3dfa65ae-348e-49c8-bce9-752d8e36d20b",
   "metadata": {},
   "source": [
    "We already saw that `Rect` is one of the primitives for rendering a widget.\n",
    "\n",
    "We can create a `Rect` using `Rect::new(x, y, width, height)`:"
   ]
  },
  {
   "cell_type": "code",
   "execution_count": 7,
   "id": "a8c2eb81-3cef-45ac-b256-ffe606b39054",
   "metadata": {
    "execution": {
     "iopub.execute_input": "2024-05-16T13:37:01.147675+00:00",
     "iopub.status.busy": "2024-05-16T13:37:01.147553+00:00",
     "iopub.status.idle": "2024-05-16T13:37:01.147657+00:00",
     "shell.execute_reply": "2024-05-16T13:37:03.760976+00:00"
    }
   },
   "outputs": [
    {
     "data": {
      "text/plain": [
       "Buffer {\n",
       "    area: Rect { x: 0, y: 0, width: 50, height: 5 },\n",
       "    content: [\n",
       "        \"┌────────────────────────────────────────────────┐\",\n",
       "        \"│                                                │\",\n",
       "        \"│                                                │\",\n",
       "        \"│                                                │\",\n",
       "        \"└────────────────────────────────────────────────┘\",\n",
       "    ],\n",
       "    styles: [\n",
       "        x: 0, y: 0, fg: Reset, bg: Reset, underline: Reset, modifier: NONE,\n",
       "    ]\n",
       "}"
      ]
     },
     "execution_count": 7,
     "metadata": {},
     "output_type": "execute_result"
    }
   ],
   "source": [
    "use ratatui::widgets::Widget;\n",
    "\n",
    "let (x, y, width, height) = (0, 0, 50, 5); \n",
    "let area = ratatui::layout::Rect::new(x, y, width, height);\n",
    "let mut buf = ratatui::buffer::Buffer::empty(area);\n",
    "ratatui::widgets::Block::bordered().render(area, &mut buf);\n",
    "buf"
   ]
  },
  {
   "cell_type": "markdown",
   "id": "8ac6f062-aeda-4780-90d3-fbc59f765e31",
   "metadata": {},
   "source": [
    "You can create inner `Rect`s by using the `Rect::inner` method:"
   ]
  },
  {
   "cell_type": "code",
   "execution_count": 10,
   "id": "8c86072e-9f59-4224-9d6a-c3bc929543a2",
   "metadata": {
    "execution": {
     "iopub.execute_input": "2024-05-16T13:37:29.774271+00:00",
     "iopub.status.busy": "2024-05-16T13:37:29.774176+00:00",
     "iopub.status.idle": "2024-05-16T13:37:29.774256+00:00",
     "shell.execute_reply": "2024-05-16T13:37:30.359521+00:00"
    }
   },
   "outputs": [
    {
     "data": {
      "text/plain": [
       "Buffer {\n",
       "    area: Rect { x: 0, y: 0, width: 50, height: 5 },\n",
       "    content: [\n",
       "        \"                                                  \",\n",
       "        \"     ┌──────────────────────────────────────┐     \",\n",
       "        \"     │                                      │     \",\n",
       "        \"     └──────────────────────────────────────┘     \",\n",
       "        \"                                                  \",\n",
       "    ],\n",
       "    styles: [\n",
       "        x: 0, y: 0, fg: Reset, bg: Reset, underline: Reset, modifier: NONE,\n",
       "    ]\n",
       "}"
      ]
     },
     "execution_count": 10,
     "metadata": {},
     "output_type": "execute_result"
    }
   ],
   "source": [
    "let mut buf = ratatui::buffer::Buffer::empty(area);\n",
    "\n",
    "let (horizontal, vertical) = (5, 1);\n",
    "let inner_area = area.inner(&ratatui::layout::Margin::new(horizontal, vertical));\n",
    "\n",
    "ratatui::widgets::Block::bordered().render(inner_area, &mut buf);\n",
    "buf"
   ]
  },
  {
   "cell_type": "markdown",
   "id": "9b3e6a2a-03fb-478e-9715-1af0810150c5",
   "metadata": {},
   "source": [
    "Ratatui also has a layout solver using [the cassowary algorithm](https://en.wikipedia.org/wiki/Cassowary_(software)?useskin=vector).\n",
    "\n"
   ]
  },
  {
   "cell_type": "code",
   "execution_count": 11,
   "id": "b8981456-0f54-4aa3-bba1-f16903c32f17",
   "metadata": {
    "execution": {
     "iopub.execute_input": "2024-05-16T13:37:50.730338+00:00",
     "iopub.status.busy": "2024-05-16T13:37:50.730139+00:00",
     "iopub.status.idle": "2024-05-16T13:37:50.730296+00:00",
     "shell.execute_reply": "2024-05-16T13:37:51.407018+00:00"
    }
   },
   "outputs": [
    {
     "data": {
      "text/plain": [
       "Buffer {\n",
       "    area: Rect { x: 0, y: 0, width: 50, height: 5 },\n",
       "    content: [\n",
       "        \"┌first───┐┌second──┐                              \",\n",
       "        \"│        ││        │                              \",\n",
       "        \"│        ││        │                              \",\n",
       "        \"│        ││        │                              \",\n",
       "        \"└────────┘└────────┘                              \",\n",
       "    ],\n",
       "    styles: [\n",
       "        x: 0, y: 0, fg: Reset, bg: Reset, underline: Reset, modifier: NONE,\n",
       "    ]\n",
       "}"
      ]
     },
     "execution_count": 11,
     "metadata": {},
     "output_type": "execute_result"
    }
   ],
   "source": [
    "use ratatui::layout::{Layout, Constraint};\n",
    "\n",
    "let [first, second] = ratatui::layout::Layout::horizontal([Constraint::Length(10), Constraint::Length(10)]).areas(area);\n",
    "\n",
    "let mut buf = ratatui::buffer::Buffer::empty(area);\n",
    "ratatui::widgets::Block::bordered().title(\"first\").render(first, &mut buf);\n",
    "ratatui::widgets::Block::bordered().title(\"second\").render(second, &mut buf);\n",
    "buf"
   ]
  },
  {
   "cell_type": "markdown",
   "id": "a60b7371-faf3-459b-ad5c-2e82d4c28cb9",
   "metadata": {},
   "source": [
    "`ratatui-macros` has a couple of macros to make some of this boilerplate simpler."
   ]
  },
  {
   "cell_type": "code",
   "execution_count": 15,
   "id": "cd606f9d-508c-40e0-9403-da9c77236bde",
   "metadata": {
    "execution": {
     "iopub.execute_input": "2024-05-17T12:33:26.805595+00:00",
     "iopub.status.busy": "2024-05-17T12:33:26.805284+00:00",
     "iopub.status.idle": "2024-05-17T12:33:26.805517+00:00",
     "shell.execute_reply": "2024-05-17T12:33:27.478534+00:00"
    }
   },
   "outputs": [],
   "source": [
    "let [first, second] = ratatui::layout::Layout::horizontal([Constraint::Length(10), Constraint::Length(10)]).areas(area);\n",
    "// OR\n",
    "let [first, second] = ratatui_macros::horizontal![==10, ==10].areas(area);"
   ]
  },
  {
   "cell_type": "code",
   "execution_count": 13,
   "id": "f62b8bd3-04e8-4c35-ae93-6d627f2594b3",
   "metadata": {
    "execution": {
     "iopub.execute_input": "2024-05-16T13:38:26.981121+00:00",
     "iopub.status.busy": "2024-05-16T13:38:26.981038+00:00",
     "iopub.status.idle": "2024-05-16T13:38:26.981102+00:00",
     "shell.execute_reply": "2024-05-16T13:38:27.772992+00:00"
    }
   },
   "outputs": [
    {
     "data": {
      "text/plain": [
       "Buffer {\n",
       "    area: Rect { x: 0, y: 0, width: 50, height: 6 },\n",
       "    content: [\n",
       "        \"┌first───┐┌second──┐                              \",\n",
       "        \"└────────┘└────────┘                              \",\n",
       "        \"               ┌first───┐┌second──┐               \",\n",
       "        \"               └────────┘└────────┘               \",\n",
       "        \"                              ┌first───┐┌second──┐\",\n",
       "        \"                              └────────┘└────────┘\",\n",
       "    ],\n",
       "    styles: [\n",
       "        x: 0, y: 0, fg: Reset, bg: Reset, underline: Reset, modifier: NONE,\n",
       "    ]\n",
       "}"
      ]
     },
     "execution_count": 13,
     "metadata": {},
     "output_type": "execute_result"
    }
   ],
   "source": [
    "use ratatui_macros::{horizontal, vertical};\n",
    "\n",
    "let (x, y, width, height) = (0, 0, 50, 6); \n",
    "let area = ratatui::layout::Rect::new(x, y, width, height);\n",
    "\n",
    "let mut buf = ratatui::buffer::Buffer::empty(area);\n",
    "\n",
    "let [top, middle, bottom] = vertical![*=1, *=1, *=1].areas(area);\n",
    "\n",
    "let [first, second] = horizontal![==10, ==10].areas(top);\n",
    "ratatui::widgets::Block::bordered().title(\"first\").render(first, &mut buf);\n",
    "ratatui::widgets::Block::bordered().title(\"second\").render(second, &mut buf);\n",
    "\n",
    "let [first, second] = horizontal![==10, ==10].flex(ratatui::layout::Flex::Center).areas(middle);\n",
    "ratatui::widgets::Block::bordered().title(\"first\").render(first, &mut buf);\n",
    "ratatui::widgets::Block::bordered().title(\"second\").render(second, &mut buf);\n",
    "\n",
    "let [first, second] = horizontal![==10, ==10].flex(ratatui::layout::Flex::End).areas(bottom);\n",
    "ratatui::widgets::Block::bordered().title(\"first\").render(first, &mut buf);\n",
    "ratatui::widgets::Block::bordered().title(\"second\").render(second, &mut buf);\n",
    "\n",
    "buf"
   ]
  },
  {
   "cell_type": "markdown",
   "id": "4670d851-89f6-41b5-8ab1-934da1ba1a95",
   "metadata": {},
   "source": [
    "## Conclusion"
   ]
  },
  {
   "cell_type": "markdown",
   "id": "4983556c-34e6-4ebf-93f1-29d09f881aaf",
   "metadata": {},
   "source": [
    "In the next post, we'll examine how text primitives work."
   ]
  },
  {
   "cell_type": "code",
   "execution_count": null,
   "id": "b6011123-57ba-444c-ad7b-d21f554a9739",
   "metadata": {},
   "outputs": [],
   "source": []
  },
  {
   "cell_type": "code",
   "execution_count": null,
   "id": "b3a7ccbc-e90a-459f-ba40-62977bb7648d",
   "metadata": {},
   "outputs": [],
   "source": []
  },
  {
   "cell_type": "code",
   "execution_count": null,
   "id": "3ddda790-b913-4641-9180-8bd1cc38734e",
   "metadata": {},
   "outputs": [],
   "source": []
  },
  {
   "cell_type": "code",
   "execution_count": null,
   "id": "b1965eb0-43a1-4701-b3ae-757ff66ab8fa",
   "metadata": {},
   "outputs": [],
   "source": []
  },
  {
   "cell_type": "code",
   "execution_count": null,
   "id": "ca4a46f6-013f-4ed7-9dd1-6f1b54ab4f74",
   "metadata": {},
   "outputs": [],
   "source": []
  }
 ],
 "metadata": {
  "kernelspec": {
   "display_name": "Rust",
   "language": "rust",
   "name": "rust"
  },
  "language_info": {
   "codemirror_mode": "rust",
   "file_extension": ".rs",
   "mimetype": "text/rust",
   "name": "Rust",
   "pygment_lexer": "rust",
   "version": ""
  },
  "widgets": {
   "application/vnd.jupyter.widget-state+json": {
    "state": {},
    "version_major": 2,
    "version_minor": 0
   }
  }
 },
 "nbformat": 4,
 "nbformat_minor": 5
}
