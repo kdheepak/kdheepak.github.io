{
 "cells": [
  {
   "cell_type": "raw",
   "id": "bf830a38-e568-4150-97b9-de5dc6172a32",
   "metadata": {
    "execution": {
     "iopub.execute_input": "2024-05-15T02:03:24.769199+00:00",
     "iopub.status.busy": "2024-05-15T02:03:24.768989+00:00",
     "iopub.status.idle": "2024-05-15T02:03:24.769163+00:00",
     "shell.execute_reply": "2024-05-15T02:03:24.910732+00:00"
    }
   },
   "source": [
    "---\n",
    "title: The Basic Building blocks of Ratatui - Part 2\n",
    "date: 2024-05-15T22:03:04-0400\n",
    "categories: [rust]\n",
    "keywords: rust, ratatui\n",
    "summary: Showcase of using layout\n",
    "---"
   ]
  },
  {
   "cell_type": "markdown",
   "id": "7e98f2e5-d4f5-4fc0-84e3-c9920e267bed",
   "metadata": {},
   "source": [
    "Ratatui is a crate for building terminal user interfaces in Rust.\n",
    "\n",
    "In this post, we'll discuss the `Rect` and `Layout` primitives of `ratatui`."
   ]
  },
  {
   "cell_type": "code",
   "execution_count": 2,
   "id": "73c1a207-8f25-467a-b3ed-2a5d6ac25461",
   "metadata": {
    "execution": {
     "iopub.execute_input": "2024-06-01T08:45:19.450603+00:00",
     "iopub.status.busy": "2024-06-01T08:45:19.450474+00:00",
     "iopub.status.idle": "2024-06-01T08:45:19.450576+00:00",
     "shell.execute_reply": "2024-06-01T08:45:33.047432+00:00"
    }
   },
   "outputs": [],
   "source": [
    "//| code-fold: true\n",
    ":dep ratatui = \"0.26.2\"\n",
    ":dep ratatui-macros = \"0.4.0\"\n",
    "\n",
    "fn span_to_html(s: ratatui::text::Span) -> String{\n",
    "    let mut html = String::new();\n",
    "    html.push_str(\"<span style=\\\"\");\n",
    "\n",
    "    // Set foreground color\n",
    "    if let Some(color) = &s.style.fg {\n",
    "        html.push_str(&format!(\"color: {};\", color));\n",
    "    }\n",
    "\n",
    "    // Set background color\n",
    "    if let Some(color) = &s.style.bg {\n",
    "        html.push_str(&format!(\"background-color: {};\", color));\n",
    "    }\n",
    "\n",
    "    // Add modifiers\n",
    "    match s.style.add_modifier {\n",
    "        ratatui::style::Modifier::BOLD => html.push_str(\"font-weight: bold;\"),\n",
    "        ratatui::style::Modifier::ITALIC => html.push_str(\"font-style: italic;\"),\n",
    "        ratatui::style::Modifier::UNDERLINED => html.push_str(\"text-decoration: underline;\"),\n",
    "        _ => {}\n",
    "    }\n",
    "    html.push_str(\"\\\">\");\n",
    "    html.push_str(&s.content);\n",
    "    html.push_str(\"</span>\");\n",
    "    html\n",
    "}\n",
    "\n",
    "fn buffer_to_html(buf: &ratatui::buffer::Buffer) -> String {\n",
    "    fn escape_special_html_characters(text: &str) -> String {\n",
    "        text.replace(\"&\", \"&amp;\")\n",
    "            .replace(\"<\", \"&lt;\")\n",
    "            .replace(\">\", \"&gt;\")\n",
    "            .replace(\"\\\"\", \"&quot;\")\n",
    "            .replace(\"'\", \"&#39;\")\n",
    "    }\n",
    "\n",
    "    let mut html = String::from(\"<pre><code>\");\n",
    "\n",
    "    let w = buf.area.width;\n",
    "    let h = buf.area.height;\n",
    "\n",
    "    for y in 0..h {\n",
    "        for x in 0..w {\n",
    "            let s = buf.get(x, y).symbol();\n",
    "            \n",
    "            let escaped = escape_special_html_characters(s); \n",
    "\n",
    "            let style = buf.get(x, y).style();\n",
    "\n",
    "            let span = ratatui::text::Span::styled(s, style);\n",
    "            \n",
    "            html.push_str(&span_to_html(span));\n",
    "        }\n",
    "        html.push('\\n');\n",
    "    }\n",
    "\n",
    "    html.push_str(\"</code></pre>\");\n",
    "\n",
    "    html \n",
    "}\n",
    "    \n",
    "fn show_html<D>(content: D) where D: std::fmt::Display {\n",
    "    println!(r#\"EVCXR_BEGIN_CONTENT text/html\n",
    "<div style=\"display: flex; justify-content:start; gap: 1em; margin: 1em\">\n",
    "{}\n",
    "</div>\n",
    "EVCXR_END_CONTENT\"#, content);\n",
    "}\n"
   ]
  },
  {
   "cell_type": "markdown",
   "id": "20505bc4-d398-4e9a-b5ae-d223490d4d79",
   "metadata": {},
   "source": [
    "## Layout primitives"
   ]
  },
  {
   "cell_type": "markdown",
   "id": "3dfa65ae-348e-49c8-bce9-752d8e36d20b",
   "metadata": {},
   "source": [
    "We already saw that `Rect` is one of the primitives for rendering a widget.\n",
    "\n",
    "We can create a `Rect` using `Rect::new(x, y, width, height)`:"
   ]
  },
  {
   "cell_type": "code",
   "execution_count": 3,
   "id": "a8c2eb81-3cef-45ac-b256-ffe606b39054",
   "metadata": {
    "execution": {
     "iopub.execute_input": "2024-06-01T08:45:33.047702+00:00",
     "iopub.status.busy": "2024-06-01T08:45:33.047643+00:00",
     "iopub.status.idle": "2024-06-01T08:45:33.047691+00:00",
     "shell.execute_reply": "2024-06-01T08:45:34.710504+00:00"
    }
   },
   "outputs": [
    {
     "data": {
      "text/html": [
       "<div style=\"display: flex; justify-content:start; gap: 1em; margin: 1em\">\n",
       "<pre><code><span style=\"color: Reset;background-color: Reset;\">┌</span><span style=\"color: Reset;background-color: Reset;\">─</span><span style=\"color: Reset;background-color: Reset;\">─</span><span style=\"color: Reset;background-color: Reset;\">─</span><span style=\"color: Reset;background-color: Reset;\">─</span><span style=\"color: Reset;background-color: Reset;\">─</span><span style=\"color: Reset;background-color: Reset;\">─</span><span style=\"color: Reset;background-color: Reset;\">─</span><span style=\"color: Reset;background-color: Reset;\">─</span><span style=\"color: Reset;background-color: Reset;\">─</span><span style=\"color: Reset;background-color: Reset;\">─</span><span style=\"color: Reset;background-color: Reset;\">─</span><span style=\"color: Reset;background-color: Reset;\">─</span><span style=\"color: Reset;background-color: Reset;\">─</span><span style=\"color: Reset;background-color: Reset;\">─</span><span style=\"color: Reset;background-color: Reset;\">─</span><span style=\"color: Reset;background-color: Reset;\">─</span><span style=\"color: Reset;background-color: Reset;\">─</span><span style=\"color: Reset;background-color: Reset;\">─</span><span style=\"color: Reset;background-color: Reset;\">─</span><span style=\"color: Reset;background-color: Reset;\">─</span><span style=\"color: Reset;background-color: Reset;\">─</span><span style=\"color: Reset;background-color: Reset;\">─</span><span style=\"color: Reset;background-color: Reset;\">─</span><span style=\"color: Reset;background-color: Reset;\">─</span><span style=\"color: Reset;background-color: Reset;\">─</span><span style=\"color: Reset;background-color: Reset;\">─</span><span style=\"color: Reset;background-color: Reset;\">─</span><span style=\"color: Reset;background-color: Reset;\">─</span><span style=\"color: Reset;background-color: Reset;\">─</span><span style=\"color: Reset;background-color: Reset;\">─</span><span style=\"color: Reset;background-color: Reset;\">─</span><span style=\"color: Reset;background-color: Reset;\">─</span><span style=\"color: Reset;background-color: Reset;\">─</span><span style=\"color: Reset;background-color: Reset;\">─</span><span style=\"color: Reset;background-color: Reset;\">─</span><span style=\"color: Reset;background-color: Reset;\">─</span><span style=\"color: Reset;background-color: Reset;\">─</span><span style=\"color: Reset;background-color: Reset;\">─</span><span style=\"color: Reset;background-color: Reset;\">─</span><span style=\"color: Reset;background-color: Reset;\">─</span><span style=\"color: Reset;background-color: Reset;\">─</span><span style=\"color: Reset;background-color: Reset;\">─</span><span style=\"color: Reset;background-color: Reset;\">─</span><span style=\"color: Reset;background-color: Reset;\">─</span><span style=\"color: Reset;background-color: Reset;\">─</span><span style=\"color: Reset;background-color: Reset;\">─</span><span style=\"color: Reset;background-color: Reset;\">─</span><span style=\"color: Reset;background-color: Reset;\">─</span><span style=\"color: Reset;background-color: Reset;\">┐</span>\n",
       "<span style=\"color: Reset;background-color: Reset;\">│</span><span style=\"color: Reset;background-color: Reset;\"> </span><span style=\"color: Reset;background-color: Reset;\"> </span><span style=\"color: Reset;background-color: Reset;\"> </span><span style=\"color: Reset;background-color: Reset;\"> </span><span style=\"color: Reset;background-color: Reset;\"> </span><span style=\"color: Reset;background-color: Reset;\"> </span><span style=\"color: Reset;background-color: Reset;\"> </span><span style=\"color: Reset;background-color: Reset;\"> </span><span style=\"color: Reset;background-color: Reset;\"> </span><span style=\"color: Reset;background-color: Reset;\"> </span><span style=\"color: Reset;background-color: Reset;\"> </span><span style=\"color: Reset;background-color: Reset;\"> </span><span style=\"color: Reset;background-color: Reset;\"> </span><span style=\"color: Reset;background-color: Reset;\"> </span><span style=\"color: Reset;background-color: Reset;\"> </span><span style=\"color: Reset;background-color: Reset;\"> </span><span style=\"color: Reset;background-color: Reset;\"> </span><span style=\"color: Reset;background-color: Reset;\"> </span><span style=\"color: Reset;background-color: Reset;\"> </span><span style=\"color: Reset;background-color: Reset;\"> </span><span style=\"color: Reset;background-color: Reset;\"> </span><span style=\"color: Reset;background-color: Reset;\"> </span><span style=\"color: Reset;background-color: Reset;\"> </span><span style=\"color: Reset;background-color: Reset;\"> </span><span style=\"color: Reset;background-color: Reset;\"> </span><span style=\"color: Reset;background-color: Reset;\"> </span><span style=\"color: Reset;background-color: Reset;\"> </span><span style=\"color: Reset;background-color: Reset;\"> </span><span style=\"color: Reset;background-color: Reset;\"> </span><span style=\"color: Reset;background-color: Reset;\"> </span><span style=\"color: Reset;background-color: Reset;\"> </span><span style=\"color: Reset;background-color: Reset;\"> </span><span style=\"color: Reset;background-color: Reset;\"> </span><span style=\"color: Reset;background-color: Reset;\"> </span><span style=\"color: Reset;background-color: Reset;\"> </span><span style=\"color: Reset;background-color: Reset;\"> </span><span style=\"color: Reset;background-color: Reset;\"> </span><span style=\"color: Reset;background-color: Reset;\"> </span><span style=\"color: Reset;background-color: Reset;\"> </span><span style=\"color: Reset;background-color: Reset;\"> </span><span style=\"color: Reset;background-color: Reset;\"> </span><span style=\"color: Reset;background-color: Reset;\"> </span><span style=\"color: Reset;background-color: Reset;\"> </span><span style=\"color: Reset;background-color: Reset;\"> </span><span style=\"color: Reset;background-color: Reset;\"> </span><span style=\"color: Reset;background-color: Reset;\"> </span><span style=\"color: Reset;background-color: Reset;\"> </span><span style=\"color: Reset;background-color: Reset;\"> </span><span style=\"color: Reset;background-color: Reset;\">│</span>\n",
       "<span style=\"color: Reset;background-color: Reset;\">│</span><span style=\"color: Reset;background-color: Reset;\"> </span><span style=\"color: Reset;background-color: Reset;\"> </span><span style=\"color: Reset;background-color: Reset;\"> </span><span style=\"color: Reset;background-color: Reset;\"> </span><span style=\"color: Reset;background-color: Reset;\"> </span><span style=\"color: Reset;background-color: Reset;\"> </span><span style=\"color: Reset;background-color: Reset;\"> </span><span style=\"color: Reset;background-color: Reset;\"> </span><span style=\"color: Reset;background-color: Reset;\"> </span><span style=\"color: Reset;background-color: Reset;\"> </span><span style=\"color: Reset;background-color: Reset;\"> </span><span style=\"color: Reset;background-color: Reset;\"> </span><span style=\"color: Reset;background-color: Reset;\"> </span><span style=\"color: Reset;background-color: Reset;\"> </span><span style=\"color: Reset;background-color: Reset;\"> </span><span style=\"color: Reset;background-color: Reset;\"> </span><span style=\"color: Reset;background-color: Reset;\"> </span><span style=\"color: Reset;background-color: Reset;\"> </span><span style=\"color: Reset;background-color: Reset;\"> </span><span style=\"color: Reset;background-color: Reset;\"> </span><span style=\"color: Reset;background-color: Reset;\"> </span><span style=\"color: Reset;background-color: Reset;\"> </span><span style=\"color: Reset;background-color: Reset;\"> </span><span style=\"color: Reset;background-color: Reset;\"> </span><span style=\"color: Reset;background-color: Reset;\"> </span><span style=\"color: Reset;background-color: Reset;\"> </span><span style=\"color: Reset;background-color: Reset;\"> </span><span style=\"color: Reset;background-color: Reset;\"> </span><span style=\"color: Reset;background-color: Reset;\"> </span><span style=\"color: Reset;background-color: Reset;\"> </span><span style=\"color: Reset;background-color: Reset;\"> </span><span style=\"color: Reset;background-color: Reset;\"> </span><span style=\"color: Reset;background-color: Reset;\"> </span><span style=\"color: Reset;background-color: Reset;\"> </span><span style=\"color: Reset;background-color: Reset;\"> </span><span style=\"color: Reset;background-color: Reset;\"> </span><span style=\"color: Reset;background-color: Reset;\"> </span><span style=\"color: Reset;background-color: Reset;\"> </span><span style=\"color: Reset;background-color: Reset;\"> </span><span style=\"color: Reset;background-color: Reset;\"> </span><span style=\"color: Reset;background-color: Reset;\"> </span><span style=\"color: Reset;background-color: Reset;\"> </span><span style=\"color: Reset;background-color: Reset;\"> </span><span style=\"color: Reset;background-color: Reset;\"> </span><span style=\"color: Reset;background-color: Reset;\"> </span><span style=\"color: Reset;background-color: Reset;\"> </span><span style=\"color: Reset;background-color: Reset;\"> </span><span style=\"color: Reset;background-color: Reset;\"> </span><span style=\"color: Reset;background-color: Reset;\">│</span>\n",
       "<span style=\"color: Reset;background-color: Reset;\">│</span><span style=\"color: Reset;background-color: Reset;\"> </span><span style=\"color: Reset;background-color: Reset;\"> </span><span style=\"color: Reset;background-color: Reset;\"> </span><span style=\"color: Reset;background-color: Reset;\"> </span><span style=\"color: Reset;background-color: Reset;\"> </span><span style=\"color: Reset;background-color: Reset;\"> </span><span style=\"color: Reset;background-color: Reset;\"> </span><span style=\"color: Reset;background-color: Reset;\"> </span><span style=\"color: Reset;background-color: Reset;\"> </span><span style=\"color: Reset;background-color: Reset;\"> </span><span style=\"color: Reset;background-color: Reset;\"> </span><span style=\"color: Reset;background-color: Reset;\"> </span><span style=\"color: Reset;background-color: Reset;\"> </span><span style=\"color: Reset;background-color: Reset;\"> </span><span style=\"color: Reset;background-color: Reset;\"> </span><span style=\"color: Reset;background-color: Reset;\"> </span><span style=\"color: Reset;background-color: Reset;\"> </span><span style=\"color: Reset;background-color: Reset;\"> </span><span style=\"color: Reset;background-color: Reset;\"> </span><span style=\"color: Reset;background-color: Reset;\"> </span><span style=\"color: Reset;background-color: Reset;\"> </span><span style=\"color: Reset;background-color: Reset;\"> </span><span style=\"color: Reset;background-color: Reset;\"> </span><span style=\"color: Reset;background-color: Reset;\"> </span><span style=\"color: Reset;background-color: Reset;\"> </span><span style=\"color: Reset;background-color: Reset;\"> </span><span style=\"color: Reset;background-color: Reset;\"> </span><span style=\"color: Reset;background-color: Reset;\"> </span><span style=\"color: Reset;background-color: Reset;\"> </span><span style=\"color: Reset;background-color: Reset;\"> </span><span style=\"color: Reset;background-color: Reset;\"> </span><span style=\"color: Reset;background-color: Reset;\"> </span><span style=\"color: Reset;background-color: Reset;\"> </span><span style=\"color: Reset;background-color: Reset;\"> </span><span style=\"color: Reset;background-color: Reset;\"> </span><span style=\"color: Reset;background-color: Reset;\"> </span><span style=\"color: Reset;background-color: Reset;\"> </span><span style=\"color: Reset;background-color: Reset;\"> </span><span style=\"color: Reset;background-color: Reset;\"> </span><span style=\"color: Reset;background-color: Reset;\"> </span><span style=\"color: Reset;background-color: Reset;\"> </span><span style=\"color: Reset;background-color: Reset;\"> </span><span style=\"color: Reset;background-color: Reset;\"> </span><span style=\"color: Reset;background-color: Reset;\"> </span><span style=\"color: Reset;background-color: Reset;\"> </span><span style=\"color: Reset;background-color: Reset;\"> </span><span style=\"color: Reset;background-color: Reset;\"> </span><span style=\"color: Reset;background-color: Reset;\"> </span><span style=\"color: Reset;background-color: Reset;\">│</span>\n",
       "<span style=\"color: Reset;background-color: Reset;\">└</span><span style=\"color: Reset;background-color: Reset;\">─</span><span style=\"color: Reset;background-color: Reset;\">─</span><span style=\"color: Reset;background-color: Reset;\">─</span><span style=\"color: Reset;background-color: Reset;\">─</span><span style=\"color: Reset;background-color: Reset;\">─</span><span style=\"color: Reset;background-color: Reset;\">─</span><span style=\"color: Reset;background-color: Reset;\">─</span><span style=\"color: Reset;background-color: Reset;\">─</span><span style=\"color: Reset;background-color: Reset;\">─</span><span style=\"color: Reset;background-color: Reset;\">─</span><span style=\"color: Reset;background-color: Reset;\">─</span><span style=\"color: Reset;background-color: Reset;\">─</span><span style=\"color: Reset;background-color: Reset;\">─</span><span style=\"color: Reset;background-color: Reset;\">─</span><span style=\"color: Reset;background-color: Reset;\">─</span><span style=\"color: Reset;background-color: Reset;\">─</span><span style=\"color: Reset;background-color: Reset;\">─</span><span style=\"color: Reset;background-color: Reset;\">─</span><span style=\"color: Reset;background-color: Reset;\">─</span><span style=\"color: Reset;background-color: Reset;\">─</span><span style=\"color: Reset;background-color: Reset;\">─</span><span style=\"color: Reset;background-color: Reset;\">─</span><span style=\"color: Reset;background-color: Reset;\">─</span><span style=\"color: Reset;background-color: Reset;\">─</span><span style=\"color: Reset;background-color: Reset;\">─</span><span style=\"color: Reset;background-color: Reset;\">─</span><span style=\"color: Reset;background-color: Reset;\">─</span><span style=\"color: Reset;background-color: Reset;\">─</span><span style=\"color: Reset;background-color: Reset;\">─</span><span style=\"color: Reset;background-color: Reset;\">─</span><span style=\"color: Reset;background-color: Reset;\">─</span><span style=\"color: Reset;background-color: Reset;\">─</span><span style=\"color: Reset;background-color: Reset;\">─</span><span style=\"color: Reset;background-color: Reset;\">─</span><span style=\"color: Reset;background-color: Reset;\">─</span><span style=\"color: Reset;background-color: Reset;\">─</span><span style=\"color: Reset;background-color: Reset;\">─</span><span style=\"color: Reset;background-color: Reset;\">─</span><span style=\"color: Reset;background-color: Reset;\">─</span><span style=\"color: Reset;background-color: Reset;\">─</span><span style=\"color: Reset;background-color: Reset;\">─</span><span style=\"color: Reset;background-color: Reset;\">─</span><span style=\"color: Reset;background-color: Reset;\">─</span><span style=\"color: Reset;background-color: Reset;\">─</span><span style=\"color: Reset;background-color: Reset;\">─</span><span style=\"color: Reset;background-color: Reset;\">─</span><span style=\"color: Reset;background-color: Reset;\">─</span><span style=\"color: Reset;background-color: Reset;\">─</span><span style=\"color: Reset;background-color: Reset;\">┘</span>\n",
       "</code></pre>\n",
       "</div>"
      ],
      "text/plain": [
       "()"
      ]
     },
     "execution_count": 3,
     "metadata": {},
     "output_type": "execute_result"
    }
   ],
   "source": [
    "use ratatui::widgets::Widget;\n",
    "\n",
    "let (x, y, width, height) = (0, 0, 50, 5); \n",
    "let area = ratatui::layout::Rect::new(x, y, width, height);\n",
    "let mut buf = ratatui::buffer::Buffer::empty(area);\n",
    "ratatui::widgets::Block::bordered().render(area, &mut buf);\n",
    "\n",
    "show_html(buffer_to_html(&buf))"
   ]
  },
  {
   "cell_type": "markdown",
   "id": "8ac6f062-aeda-4780-90d3-fbc59f765e31",
   "metadata": {},
   "source": [
    "You can create inner `Rect`s by using the `Rect::inner` method:"
   ]
  },
  {
   "cell_type": "code",
   "execution_count": 4,
   "id": "8c86072e-9f59-4224-9d6a-c3bc929543a2",
   "metadata": {
    "execution": {
     "iopub.execute_input": "2024-06-01T08:45:34.710594+00:00",
     "iopub.status.busy": "2024-06-01T08:45:34.710562+00:00",
     "iopub.status.idle": "2024-06-01T08:45:34.710587+00:00",
     "shell.execute_reply": "2024-06-01T08:45:35.282712+00:00"
    }
   },
   "outputs": [
    {
     "data": {
      "text/html": [
       "<div style=\"display: flex; justify-content:start; gap: 1em; margin: 1em\">\n",
       "<pre><code><span style=\"color: Reset;background-color: Reset;\"> </span><span style=\"color: Reset;background-color: Reset;\"> </span><span style=\"color: Reset;background-color: Reset;\"> </span><span style=\"color: Reset;background-color: Reset;\"> </span><span style=\"color: Reset;background-color: Reset;\"> </span><span style=\"color: Reset;background-color: Reset;\"> </span><span style=\"color: Reset;background-color: Reset;\"> </span><span style=\"color: Reset;background-color: Reset;\"> </span><span style=\"color: Reset;background-color: Reset;\"> </span><span style=\"color: Reset;background-color: Reset;\"> </span><span style=\"color: Reset;background-color: Reset;\"> </span><span style=\"color: Reset;background-color: Reset;\"> </span><span style=\"color: Reset;background-color: Reset;\"> </span><span style=\"color: Reset;background-color: Reset;\"> </span><span style=\"color: Reset;background-color: Reset;\"> </span><span style=\"color: Reset;background-color: Reset;\"> </span><span style=\"color: Reset;background-color: Reset;\"> </span><span style=\"color: Reset;background-color: Reset;\"> </span><span style=\"color: Reset;background-color: Reset;\"> </span><span style=\"color: Reset;background-color: Reset;\"> </span><span style=\"color: Reset;background-color: Reset;\"> </span><span style=\"color: Reset;background-color: Reset;\"> </span><span style=\"color: Reset;background-color: Reset;\"> </span><span style=\"color: Reset;background-color: Reset;\"> </span><span style=\"color: Reset;background-color: Reset;\"> </span><span style=\"color: Reset;background-color: Reset;\"> </span><span style=\"color: Reset;background-color: Reset;\"> </span><span style=\"color: Reset;background-color: Reset;\"> </span><span style=\"color: Reset;background-color: Reset;\"> </span><span style=\"color: Reset;background-color: Reset;\"> </span><span style=\"color: Reset;background-color: Reset;\"> </span><span style=\"color: Reset;background-color: Reset;\"> </span><span style=\"color: Reset;background-color: Reset;\"> </span><span style=\"color: Reset;background-color: Reset;\"> </span><span style=\"color: Reset;background-color: Reset;\"> </span><span style=\"color: Reset;background-color: Reset;\"> </span><span style=\"color: Reset;background-color: Reset;\"> </span><span style=\"color: Reset;background-color: Reset;\"> </span><span style=\"color: Reset;background-color: Reset;\"> </span><span style=\"color: Reset;background-color: Reset;\"> </span><span style=\"color: Reset;background-color: Reset;\"> </span><span style=\"color: Reset;background-color: Reset;\"> </span><span style=\"color: Reset;background-color: Reset;\"> </span><span style=\"color: Reset;background-color: Reset;\"> </span><span style=\"color: Reset;background-color: Reset;\"> </span><span style=\"color: Reset;background-color: Reset;\"> </span><span style=\"color: Reset;background-color: Reset;\"> </span><span style=\"color: Reset;background-color: Reset;\"> </span><span style=\"color: Reset;background-color: Reset;\"> </span><span style=\"color: Reset;background-color: Reset;\"> </span>\n",
       "<span style=\"color: Reset;background-color: Reset;\"> </span><span style=\"color: Reset;background-color: Reset;\"> </span><span style=\"color: Reset;background-color: Reset;\"> </span><span style=\"color: Reset;background-color: Reset;\"> </span><span style=\"color: Reset;background-color: Reset;\"> </span><span style=\"color: Reset;background-color: Reset;\">┌</span><span style=\"color: Reset;background-color: Reset;\">─</span><span style=\"color: Reset;background-color: Reset;\">─</span><span style=\"color: Reset;background-color: Reset;\">─</span><span style=\"color: Reset;background-color: Reset;\">─</span><span style=\"color: Reset;background-color: Reset;\">─</span><span style=\"color: Reset;background-color: Reset;\">─</span><span style=\"color: Reset;background-color: Reset;\">─</span><span style=\"color: Reset;background-color: Reset;\">─</span><span style=\"color: Reset;background-color: Reset;\">─</span><span style=\"color: Reset;background-color: Reset;\">─</span><span style=\"color: Reset;background-color: Reset;\">─</span><span style=\"color: Reset;background-color: Reset;\">─</span><span style=\"color: Reset;background-color: Reset;\">─</span><span style=\"color: Reset;background-color: Reset;\">─</span><span style=\"color: Reset;background-color: Reset;\">─</span><span style=\"color: Reset;background-color: Reset;\">─</span><span style=\"color: Reset;background-color: Reset;\">─</span><span style=\"color: Reset;background-color: Reset;\">─</span><span style=\"color: Reset;background-color: Reset;\">─</span><span style=\"color: Reset;background-color: Reset;\">─</span><span style=\"color: Reset;background-color: Reset;\">─</span><span style=\"color: Reset;background-color: Reset;\">─</span><span style=\"color: Reset;background-color: Reset;\">─</span><span style=\"color: Reset;background-color: Reset;\">─</span><span style=\"color: Reset;background-color: Reset;\">─</span><span style=\"color: Reset;background-color: Reset;\">─</span><span style=\"color: Reset;background-color: Reset;\">─</span><span style=\"color: Reset;background-color: Reset;\">─</span><span style=\"color: Reset;background-color: Reset;\">─</span><span style=\"color: Reset;background-color: Reset;\">─</span><span style=\"color: Reset;background-color: Reset;\">─</span><span style=\"color: Reset;background-color: Reset;\">─</span><span style=\"color: Reset;background-color: Reset;\">─</span><span style=\"color: Reset;background-color: Reset;\">─</span><span style=\"color: Reset;background-color: Reset;\">─</span><span style=\"color: Reset;background-color: Reset;\">─</span><span style=\"color: Reset;background-color: Reset;\">─</span><span style=\"color: Reset;background-color: Reset;\">─</span><span style=\"color: Reset;background-color: Reset;\">┐</span><span style=\"color: Reset;background-color: Reset;\"> </span><span style=\"color: Reset;background-color: Reset;\"> </span><span style=\"color: Reset;background-color: Reset;\"> </span><span style=\"color: Reset;background-color: Reset;\"> </span><span style=\"color: Reset;background-color: Reset;\"> </span>\n",
       "<span style=\"color: Reset;background-color: Reset;\"> </span><span style=\"color: Reset;background-color: Reset;\"> </span><span style=\"color: Reset;background-color: Reset;\"> </span><span style=\"color: Reset;background-color: Reset;\"> </span><span style=\"color: Reset;background-color: Reset;\"> </span><span style=\"color: Reset;background-color: Reset;\">│</span><span style=\"color: Reset;background-color: Reset;\"> </span><span style=\"color: Reset;background-color: Reset;\"> </span><span style=\"color: Reset;background-color: Reset;\"> </span><span style=\"color: Reset;background-color: Reset;\"> </span><span style=\"color: Reset;background-color: Reset;\"> </span><span style=\"color: Reset;background-color: Reset;\"> </span><span style=\"color: Reset;background-color: Reset;\"> </span><span style=\"color: Reset;background-color: Reset;\"> </span><span style=\"color: Reset;background-color: Reset;\"> </span><span style=\"color: Reset;background-color: Reset;\"> </span><span style=\"color: Reset;background-color: Reset;\"> </span><span style=\"color: Reset;background-color: Reset;\"> </span><span style=\"color: Reset;background-color: Reset;\"> </span><span style=\"color: Reset;background-color: Reset;\"> </span><span style=\"color: Reset;background-color: Reset;\"> </span><span style=\"color: Reset;background-color: Reset;\"> </span><span style=\"color: Reset;background-color: Reset;\"> </span><span style=\"color: Reset;background-color: Reset;\"> </span><span style=\"color: Reset;background-color: Reset;\"> </span><span style=\"color: Reset;background-color: Reset;\"> </span><span style=\"color: Reset;background-color: Reset;\"> </span><span style=\"color: Reset;background-color: Reset;\"> </span><span style=\"color: Reset;background-color: Reset;\"> </span><span style=\"color: Reset;background-color: Reset;\"> </span><span style=\"color: Reset;background-color: Reset;\"> </span><span style=\"color: Reset;background-color: Reset;\"> </span><span style=\"color: Reset;background-color: Reset;\"> </span><span style=\"color: Reset;background-color: Reset;\"> </span><span style=\"color: Reset;background-color: Reset;\"> </span><span style=\"color: Reset;background-color: Reset;\"> </span><span style=\"color: Reset;background-color: Reset;\"> </span><span style=\"color: Reset;background-color: Reset;\"> </span><span style=\"color: Reset;background-color: Reset;\"> </span><span style=\"color: Reset;background-color: Reset;\"> </span><span style=\"color: Reset;background-color: Reset;\"> </span><span style=\"color: Reset;background-color: Reset;\"> </span><span style=\"color: Reset;background-color: Reset;\"> </span><span style=\"color: Reset;background-color: Reset;\"> </span><span style=\"color: Reset;background-color: Reset;\">│</span><span style=\"color: Reset;background-color: Reset;\"> </span><span style=\"color: Reset;background-color: Reset;\"> </span><span style=\"color: Reset;background-color: Reset;\"> </span><span style=\"color: Reset;background-color: Reset;\"> </span><span style=\"color: Reset;background-color: Reset;\"> </span>\n",
       "<span style=\"color: Reset;background-color: Reset;\"> </span><span style=\"color: Reset;background-color: Reset;\"> </span><span style=\"color: Reset;background-color: Reset;\"> </span><span style=\"color: Reset;background-color: Reset;\"> </span><span style=\"color: Reset;background-color: Reset;\"> </span><span style=\"color: Reset;background-color: Reset;\">└</span><span style=\"color: Reset;background-color: Reset;\">─</span><span style=\"color: Reset;background-color: Reset;\">─</span><span style=\"color: Reset;background-color: Reset;\">─</span><span style=\"color: Reset;background-color: Reset;\">─</span><span style=\"color: Reset;background-color: Reset;\">─</span><span style=\"color: Reset;background-color: Reset;\">─</span><span style=\"color: Reset;background-color: Reset;\">─</span><span style=\"color: Reset;background-color: Reset;\">─</span><span style=\"color: Reset;background-color: Reset;\">─</span><span style=\"color: Reset;background-color: Reset;\">─</span><span style=\"color: Reset;background-color: Reset;\">─</span><span style=\"color: Reset;background-color: Reset;\">─</span><span style=\"color: Reset;background-color: Reset;\">─</span><span style=\"color: Reset;background-color: Reset;\">─</span><span style=\"color: Reset;background-color: Reset;\">─</span><span style=\"color: Reset;background-color: Reset;\">─</span><span style=\"color: Reset;background-color: Reset;\">─</span><span style=\"color: Reset;background-color: Reset;\">─</span><span style=\"color: Reset;background-color: Reset;\">─</span><span style=\"color: Reset;background-color: Reset;\">─</span><span style=\"color: Reset;background-color: Reset;\">─</span><span style=\"color: Reset;background-color: Reset;\">─</span><span style=\"color: Reset;background-color: Reset;\">─</span><span style=\"color: Reset;background-color: Reset;\">─</span><span style=\"color: Reset;background-color: Reset;\">─</span><span style=\"color: Reset;background-color: Reset;\">─</span><span style=\"color: Reset;background-color: Reset;\">─</span><span style=\"color: Reset;background-color: Reset;\">─</span><span style=\"color: Reset;background-color: Reset;\">─</span><span style=\"color: Reset;background-color: Reset;\">─</span><span style=\"color: Reset;background-color: Reset;\">─</span><span style=\"color: Reset;background-color: Reset;\">─</span><span style=\"color: Reset;background-color: Reset;\">─</span><span style=\"color: Reset;background-color: Reset;\">─</span><span style=\"color: Reset;background-color: Reset;\">─</span><span style=\"color: Reset;background-color: Reset;\">─</span><span style=\"color: Reset;background-color: Reset;\">─</span><span style=\"color: Reset;background-color: Reset;\">─</span><span style=\"color: Reset;background-color: Reset;\">┘</span><span style=\"color: Reset;background-color: Reset;\"> </span><span style=\"color: Reset;background-color: Reset;\"> </span><span style=\"color: Reset;background-color: Reset;\"> </span><span style=\"color: Reset;background-color: Reset;\"> </span><span style=\"color: Reset;background-color: Reset;\"> </span>\n",
       "<span style=\"color: Reset;background-color: Reset;\"> </span><span style=\"color: Reset;background-color: Reset;\"> </span><span style=\"color: Reset;background-color: Reset;\"> </span><span style=\"color: Reset;background-color: Reset;\"> </span><span style=\"color: Reset;background-color: Reset;\"> </span><span style=\"color: Reset;background-color: Reset;\"> </span><span style=\"color: Reset;background-color: Reset;\"> </span><span style=\"color: Reset;background-color: Reset;\"> </span><span style=\"color: Reset;background-color: Reset;\"> </span><span style=\"color: Reset;background-color: Reset;\"> </span><span style=\"color: Reset;background-color: Reset;\"> </span><span style=\"color: Reset;background-color: Reset;\"> </span><span style=\"color: Reset;background-color: Reset;\"> </span><span style=\"color: Reset;background-color: Reset;\"> </span><span style=\"color: Reset;background-color: Reset;\"> </span><span style=\"color: Reset;background-color: Reset;\"> </span><span style=\"color: Reset;background-color: Reset;\"> </span><span style=\"color: Reset;background-color: Reset;\"> </span><span style=\"color: Reset;background-color: Reset;\"> </span><span style=\"color: Reset;background-color: Reset;\"> </span><span style=\"color: Reset;background-color: Reset;\"> </span><span style=\"color: Reset;background-color: Reset;\"> </span><span style=\"color: Reset;background-color: Reset;\"> </span><span style=\"color: Reset;background-color: Reset;\"> </span><span style=\"color: Reset;background-color: Reset;\"> </span><span style=\"color: Reset;background-color: Reset;\"> </span><span style=\"color: Reset;background-color: Reset;\"> </span><span style=\"color: Reset;background-color: Reset;\"> </span><span style=\"color: Reset;background-color: Reset;\"> </span><span style=\"color: Reset;background-color: Reset;\"> </span><span style=\"color: Reset;background-color: Reset;\"> </span><span style=\"color: Reset;background-color: Reset;\"> </span><span style=\"color: Reset;background-color: Reset;\"> </span><span style=\"color: Reset;background-color: Reset;\"> </span><span style=\"color: Reset;background-color: Reset;\"> </span><span style=\"color: Reset;background-color: Reset;\"> </span><span style=\"color: Reset;background-color: Reset;\"> </span><span style=\"color: Reset;background-color: Reset;\"> </span><span style=\"color: Reset;background-color: Reset;\"> </span><span style=\"color: Reset;background-color: Reset;\"> </span><span style=\"color: Reset;background-color: Reset;\"> </span><span style=\"color: Reset;background-color: Reset;\"> </span><span style=\"color: Reset;background-color: Reset;\"> </span><span style=\"color: Reset;background-color: Reset;\"> </span><span style=\"color: Reset;background-color: Reset;\"> </span><span style=\"color: Reset;background-color: Reset;\"> </span><span style=\"color: Reset;background-color: Reset;\"> </span><span style=\"color: Reset;background-color: Reset;\"> </span><span style=\"color: Reset;background-color: Reset;\"> </span><span style=\"color: Reset;background-color: Reset;\"> </span>\n",
       "</code></pre>\n",
       "</div>"
      ],
      "text/plain": [
       "()"
      ]
     },
     "execution_count": 4,
     "metadata": {},
     "output_type": "execute_result"
    }
   ],
   "source": [
    "let mut buf = ratatui::buffer::Buffer::empty(area);\n",
    "\n",
    "let (horizontal, vertical) = (5, 1);\n",
    "let inner_area = area.inner(&ratatui::layout::Margin::new(horizontal, vertical));\n",
    "\n",
    "ratatui::widgets::Block::bordered().render(inner_area, &mut buf);\n",
    "\n",
    "show_html(buffer_to_html(&buf))"
   ]
  },
  {
   "cell_type": "markdown",
   "id": "9b3e6a2a-03fb-478e-9715-1af0810150c5",
   "metadata": {},
   "source": [
    "Ratatui also has a layout solver using [the cassowary algorithm](https://en.wikipedia.org/wiki/Cassowary_(software)?useskin=vector).\n",
    "\n"
   ]
  },
  {
   "cell_type": "code",
   "execution_count": 5,
   "id": "b8981456-0f54-4aa3-bba1-f16903c32f17",
   "metadata": {
    "execution": {
     "iopub.execute_input": "2024-06-01T08:45:35.282780+00:00",
     "iopub.status.busy": "2024-06-01T08:45:35.282761+00:00",
     "iopub.status.idle": "2024-06-01T08:45:35.282776+00:00",
     "shell.execute_reply": "2024-06-01T08:45:35.927370+00:00"
    }
   },
   "outputs": [
    {
     "data": {
      "text/html": [
       "<div style=\"display: flex; justify-content:start; gap: 1em; margin: 1em\">\n",
       "<pre><code><span style=\"color: Reset;background-color: Reset;\">┌</span><span style=\"color: Reset;background-color: Reset;\">f</span><span style=\"color: Reset;background-color: Reset;\">i</span><span style=\"color: Reset;background-color: Reset;\">r</span><span style=\"color: Reset;background-color: Reset;\">s</span><span style=\"color: Reset;background-color: Reset;\">t</span><span style=\"color: Reset;background-color: Reset;\">─</span><span style=\"color: Reset;background-color: Reset;\">─</span><span style=\"color: Reset;background-color: Reset;\">─</span><span style=\"color: Reset;background-color: Reset;\">┐</span><span style=\"color: Reset;background-color: Reset;\">┌</span><span style=\"color: Reset;background-color: Reset;\">s</span><span style=\"color: Reset;background-color: Reset;\">e</span><span style=\"color: Reset;background-color: Reset;\">c</span><span style=\"color: Reset;background-color: Reset;\">o</span><span style=\"color: Reset;background-color: Reset;\">n</span><span style=\"color: Reset;background-color: Reset;\">d</span><span style=\"color: Reset;background-color: Reset;\">─</span><span style=\"color: Reset;background-color: Reset;\">─</span><span style=\"color: Reset;background-color: Reset;\">┐</span><span style=\"color: Reset;background-color: Reset;\"> </span><span style=\"color: Reset;background-color: Reset;\"> </span><span style=\"color: Reset;background-color: Reset;\"> </span><span style=\"color: Reset;background-color: Reset;\"> </span><span style=\"color: Reset;background-color: Reset;\"> </span><span style=\"color: Reset;background-color: Reset;\"> </span><span style=\"color: Reset;background-color: Reset;\"> </span><span style=\"color: Reset;background-color: Reset;\"> </span><span style=\"color: Reset;background-color: Reset;\"> </span><span style=\"color: Reset;background-color: Reset;\"> </span><span style=\"color: Reset;background-color: Reset;\"> </span><span style=\"color: Reset;background-color: Reset;\"> </span><span style=\"color: Reset;background-color: Reset;\"> </span><span style=\"color: Reset;background-color: Reset;\"> </span><span style=\"color: Reset;background-color: Reset;\"> </span><span style=\"color: Reset;background-color: Reset;\"> </span><span style=\"color: Reset;background-color: Reset;\"> </span><span style=\"color: Reset;background-color: Reset;\"> </span><span style=\"color: Reset;background-color: Reset;\"> </span><span style=\"color: Reset;background-color: Reset;\"> </span><span style=\"color: Reset;background-color: Reset;\"> </span><span style=\"color: Reset;background-color: Reset;\"> </span><span style=\"color: Reset;background-color: Reset;\"> </span><span style=\"color: Reset;background-color: Reset;\"> </span><span style=\"color: Reset;background-color: Reset;\"> </span><span style=\"color: Reset;background-color: Reset;\"> </span><span style=\"color: Reset;background-color: Reset;\"> </span><span style=\"color: Reset;background-color: Reset;\"> </span><span style=\"color: Reset;background-color: Reset;\"> </span><span style=\"color: Reset;background-color: Reset;\"> </span>\n",
       "<span style=\"color: Reset;background-color: Reset;\">│</span><span style=\"color: Reset;background-color: Reset;\"> </span><span style=\"color: Reset;background-color: Reset;\"> </span><span style=\"color: Reset;background-color: Reset;\"> </span><span style=\"color: Reset;background-color: Reset;\"> </span><span style=\"color: Reset;background-color: Reset;\"> </span><span style=\"color: Reset;background-color: Reset;\"> </span><span style=\"color: Reset;background-color: Reset;\"> </span><span style=\"color: Reset;background-color: Reset;\"> </span><span style=\"color: Reset;background-color: Reset;\">│</span><span style=\"color: Reset;background-color: Reset;\">│</span><span style=\"color: Reset;background-color: Reset;\"> </span><span style=\"color: Reset;background-color: Reset;\"> </span><span style=\"color: Reset;background-color: Reset;\"> </span><span style=\"color: Reset;background-color: Reset;\"> </span><span style=\"color: Reset;background-color: Reset;\"> </span><span style=\"color: Reset;background-color: Reset;\"> </span><span style=\"color: Reset;background-color: Reset;\"> </span><span style=\"color: Reset;background-color: Reset;\"> </span><span style=\"color: Reset;background-color: Reset;\">│</span><span style=\"color: Reset;background-color: Reset;\"> </span><span style=\"color: Reset;background-color: Reset;\"> </span><span style=\"color: Reset;background-color: Reset;\"> </span><span style=\"color: Reset;background-color: Reset;\"> </span><span style=\"color: Reset;background-color: Reset;\"> </span><span style=\"color: Reset;background-color: Reset;\"> </span><span style=\"color: Reset;background-color: Reset;\"> </span><span style=\"color: Reset;background-color: Reset;\"> </span><span style=\"color: Reset;background-color: Reset;\"> </span><span style=\"color: Reset;background-color: Reset;\"> </span><span style=\"color: Reset;background-color: Reset;\"> </span><span style=\"color: Reset;background-color: Reset;\"> </span><span style=\"color: Reset;background-color: Reset;\"> </span><span style=\"color: Reset;background-color: Reset;\"> </span><span style=\"color: Reset;background-color: Reset;\"> </span><span style=\"color: Reset;background-color: Reset;\"> </span><span style=\"color: Reset;background-color: Reset;\"> </span><span style=\"color: Reset;background-color: Reset;\"> </span><span style=\"color: Reset;background-color: Reset;\"> </span><span style=\"color: Reset;background-color: Reset;\"> </span><span style=\"color: Reset;background-color: Reset;\"> </span><span style=\"color: Reset;background-color: Reset;\"> </span><span style=\"color: Reset;background-color: Reset;\"> </span><span style=\"color: Reset;background-color: Reset;\"> </span><span style=\"color: Reset;background-color: Reset;\"> </span><span style=\"color: Reset;background-color: Reset;\"> </span><span style=\"color: Reset;background-color: Reset;\"> </span><span style=\"color: Reset;background-color: Reset;\"> </span><span style=\"color: Reset;background-color: Reset;\"> </span><span style=\"color: Reset;background-color: Reset;\"> </span>\n",
       "<span style=\"color: Reset;background-color: Reset;\">│</span><span style=\"color: Reset;background-color: Reset;\"> </span><span style=\"color: Reset;background-color: Reset;\"> </span><span style=\"color: Reset;background-color: Reset;\"> </span><span style=\"color: Reset;background-color: Reset;\"> </span><span style=\"color: Reset;background-color: Reset;\"> </span><span style=\"color: Reset;background-color: Reset;\"> </span><span style=\"color: Reset;background-color: Reset;\"> </span><span style=\"color: Reset;background-color: Reset;\"> </span><span style=\"color: Reset;background-color: Reset;\">│</span><span style=\"color: Reset;background-color: Reset;\">│</span><span style=\"color: Reset;background-color: Reset;\"> </span><span style=\"color: Reset;background-color: Reset;\"> </span><span style=\"color: Reset;background-color: Reset;\"> </span><span style=\"color: Reset;background-color: Reset;\"> </span><span style=\"color: Reset;background-color: Reset;\"> </span><span style=\"color: Reset;background-color: Reset;\"> </span><span style=\"color: Reset;background-color: Reset;\"> </span><span style=\"color: Reset;background-color: Reset;\"> </span><span style=\"color: Reset;background-color: Reset;\">│</span><span style=\"color: Reset;background-color: Reset;\"> </span><span style=\"color: Reset;background-color: Reset;\"> </span><span style=\"color: Reset;background-color: Reset;\"> </span><span style=\"color: Reset;background-color: Reset;\"> </span><span style=\"color: Reset;background-color: Reset;\"> </span><span style=\"color: Reset;background-color: Reset;\"> </span><span style=\"color: Reset;background-color: Reset;\"> </span><span style=\"color: Reset;background-color: Reset;\"> </span><span style=\"color: Reset;background-color: Reset;\"> </span><span style=\"color: Reset;background-color: Reset;\"> </span><span style=\"color: Reset;background-color: Reset;\"> </span><span style=\"color: Reset;background-color: Reset;\"> </span><span style=\"color: Reset;background-color: Reset;\"> </span><span style=\"color: Reset;background-color: Reset;\"> </span><span style=\"color: Reset;background-color: Reset;\"> </span><span style=\"color: Reset;background-color: Reset;\"> </span><span style=\"color: Reset;background-color: Reset;\"> </span><span style=\"color: Reset;background-color: Reset;\"> </span><span style=\"color: Reset;background-color: Reset;\"> </span><span style=\"color: Reset;background-color: Reset;\"> </span><span style=\"color: Reset;background-color: Reset;\"> </span><span style=\"color: Reset;background-color: Reset;\"> </span><span style=\"color: Reset;background-color: Reset;\"> </span><span style=\"color: Reset;background-color: Reset;\"> </span><span style=\"color: Reset;background-color: Reset;\"> </span><span style=\"color: Reset;background-color: Reset;\"> </span><span style=\"color: Reset;background-color: Reset;\"> </span><span style=\"color: Reset;background-color: Reset;\"> </span><span style=\"color: Reset;background-color: Reset;\"> </span><span style=\"color: Reset;background-color: Reset;\"> </span>\n",
       "<span style=\"color: Reset;background-color: Reset;\">│</span><span style=\"color: Reset;background-color: Reset;\"> </span><span style=\"color: Reset;background-color: Reset;\"> </span><span style=\"color: Reset;background-color: Reset;\"> </span><span style=\"color: Reset;background-color: Reset;\"> </span><span style=\"color: Reset;background-color: Reset;\"> </span><span style=\"color: Reset;background-color: Reset;\"> </span><span style=\"color: Reset;background-color: Reset;\"> </span><span style=\"color: Reset;background-color: Reset;\"> </span><span style=\"color: Reset;background-color: Reset;\">│</span><span style=\"color: Reset;background-color: Reset;\">│</span><span style=\"color: Reset;background-color: Reset;\"> </span><span style=\"color: Reset;background-color: Reset;\"> </span><span style=\"color: Reset;background-color: Reset;\"> </span><span style=\"color: Reset;background-color: Reset;\"> </span><span style=\"color: Reset;background-color: Reset;\"> </span><span style=\"color: Reset;background-color: Reset;\"> </span><span style=\"color: Reset;background-color: Reset;\"> </span><span style=\"color: Reset;background-color: Reset;\"> </span><span style=\"color: Reset;background-color: Reset;\">│</span><span style=\"color: Reset;background-color: Reset;\"> </span><span style=\"color: Reset;background-color: Reset;\"> </span><span style=\"color: Reset;background-color: Reset;\"> </span><span style=\"color: Reset;background-color: Reset;\"> </span><span style=\"color: Reset;background-color: Reset;\"> </span><span style=\"color: Reset;background-color: Reset;\"> </span><span style=\"color: Reset;background-color: Reset;\"> </span><span style=\"color: Reset;background-color: Reset;\"> </span><span style=\"color: Reset;background-color: Reset;\"> </span><span style=\"color: Reset;background-color: Reset;\"> </span><span style=\"color: Reset;background-color: Reset;\"> </span><span style=\"color: Reset;background-color: Reset;\"> </span><span style=\"color: Reset;background-color: Reset;\"> </span><span style=\"color: Reset;background-color: Reset;\"> </span><span style=\"color: Reset;background-color: Reset;\"> </span><span style=\"color: Reset;background-color: Reset;\"> </span><span style=\"color: Reset;background-color: Reset;\"> </span><span style=\"color: Reset;background-color: Reset;\"> </span><span style=\"color: Reset;background-color: Reset;\"> </span><span style=\"color: Reset;background-color: Reset;\"> </span><span style=\"color: Reset;background-color: Reset;\"> </span><span style=\"color: Reset;background-color: Reset;\"> </span><span style=\"color: Reset;background-color: Reset;\"> </span><span style=\"color: Reset;background-color: Reset;\"> </span><span style=\"color: Reset;background-color: Reset;\"> </span><span style=\"color: Reset;background-color: Reset;\"> </span><span style=\"color: Reset;background-color: Reset;\"> </span><span style=\"color: Reset;background-color: Reset;\"> </span><span style=\"color: Reset;background-color: Reset;\"> </span><span style=\"color: Reset;background-color: Reset;\"> </span>\n",
       "<span style=\"color: Reset;background-color: Reset;\">└</span><span style=\"color: Reset;background-color: Reset;\">─</span><span style=\"color: Reset;background-color: Reset;\">─</span><span style=\"color: Reset;background-color: Reset;\">─</span><span style=\"color: Reset;background-color: Reset;\">─</span><span style=\"color: Reset;background-color: Reset;\">─</span><span style=\"color: Reset;background-color: Reset;\">─</span><span style=\"color: Reset;background-color: Reset;\">─</span><span style=\"color: Reset;background-color: Reset;\">─</span><span style=\"color: Reset;background-color: Reset;\">┘</span><span style=\"color: Reset;background-color: Reset;\">└</span><span style=\"color: Reset;background-color: Reset;\">─</span><span style=\"color: Reset;background-color: Reset;\">─</span><span style=\"color: Reset;background-color: Reset;\">─</span><span style=\"color: Reset;background-color: Reset;\">─</span><span style=\"color: Reset;background-color: Reset;\">─</span><span style=\"color: Reset;background-color: Reset;\">─</span><span style=\"color: Reset;background-color: Reset;\">─</span><span style=\"color: Reset;background-color: Reset;\">─</span><span style=\"color: Reset;background-color: Reset;\">┘</span><span style=\"color: Reset;background-color: Reset;\"> </span><span style=\"color: Reset;background-color: Reset;\"> </span><span style=\"color: Reset;background-color: Reset;\"> </span><span style=\"color: Reset;background-color: Reset;\"> </span><span style=\"color: Reset;background-color: Reset;\"> </span><span style=\"color: Reset;background-color: Reset;\"> </span><span style=\"color: Reset;background-color: Reset;\"> </span><span style=\"color: Reset;background-color: Reset;\"> </span><span style=\"color: Reset;background-color: Reset;\"> </span><span style=\"color: Reset;background-color: Reset;\"> </span><span style=\"color: Reset;background-color: Reset;\"> </span><span style=\"color: Reset;background-color: Reset;\"> </span><span style=\"color: Reset;background-color: Reset;\"> </span><span style=\"color: Reset;background-color: Reset;\"> </span><span style=\"color: Reset;background-color: Reset;\"> </span><span style=\"color: Reset;background-color: Reset;\"> </span><span style=\"color: Reset;background-color: Reset;\"> </span><span style=\"color: Reset;background-color: Reset;\"> </span><span style=\"color: Reset;background-color: Reset;\"> </span><span style=\"color: Reset;background-color: Reset;\"> </span><span style=\"color: Reset;background-color: Reset;\"> </span><span style=\"color: Reset;background-color: Reset;\"> </span><span style=\"color: Reset;background-color: Reset;\"> </span><span style=\"color: Reset;background-color: Reset;\"> </span><span style=\"color: Reset;background-color: Reset;\"> </span><span style=\"color: Reset;background-color: Reset;\"> </span><span style=\"color: Reset;background-color: Reset;\"> </span><span style=\"color: Reset;background-color: Reset;\"> </span><span style=\"color: Reset;background-color: Reset;\"> </span><span style=\"color: Reset;background-color: Reset;\"> </span>\n",
       "</code></pre>\n",
       "</div>"
      ],
      "text/plain": [
       "()"
      ]
     },
     "execution_count": 5,
     "metadata": {},
     "output_type": "execute_result"
    }
   ],
   "source": [
    "use ratatui::layout::{Layout, Constraint};\n",
    "\n",
    "let [first, second] = ratatui::layout::Layout::horizontal([Constraint::Length(10), Constraint::Length(10)]).areas(area);\n",
    "\n",
    "let mut buf = ratatui::buffer::Buffer::empty(area);\n",
    "ratatui::widgets::Block::bordered().title(\"first\").render(first, &mut buf);\n",
    "ratatui::widgets::Block::bordered().title(\"second\").render(second, &mut buf);\n",
    "\n",
    "show_html(buffer_to_html(&buf))"
   ]
  },
  {
   "cell_type": "markdown",
   "id": "a60b7371-faf3-459b-ad5c-2e82d4c28cb9",
   "metadata": {},
   "source": [
    "`ratatui-macros` has a couple of macros to make some of this boilerplate simpler."
   ]
  },
  {
   "cell_type": "code",
   "execution_count": 6,
   "id": "cd606f9d-508c-40e0-9403-da9c77236bde",
   "metadata": {
    "execution": {
     "iopub.execute_input": "2024-06-01T08:45:35.927480+00:00",
     "iopub.status.busy": "2024-06-01T08:45:35.927448+00:00",
     "iopub.status.idle": "2024-06-01T08:45:35.927475+00:00",
     "shell.execute_reply": "2024-06-01T08:45:36.447929+00:00"
    }
   },
   "outputs": [],
   "source": [
    "let [first, second] = ratatui::layout::Layout::horizontal([Constraint::Length(10), Constraint::Length(10)]).areas(area);\n",
    "// OR\n",
    "let [first, second] = ratatui_macros::horizontal![==10, ==10].areas(area);"
   ]
  },
  {
   "cell_type": "markdown",
   "id": "e06b702c-949d-48e4-a6ee-e9ae5f989e43",
   "metadata": {},
   "source": [
    "Here's an example of combining a vertical and horizontal layout:"
   ]
  },
  {
   "cell_type": "code",
   "execution_count": 7,
   "id": "f62b8bd3-04e8-4c35-ae93-6d627f2594b3",
   "metadata": {
    "execution": {
     "iopub.execute_input": "2024-06-01T08:45:36.448280+00:00",
     "iopub.status.busy": "2024-06-01T08:45:36.448185+00:00",
     "iopub.status.idle": "2024-06-01T08:45:36.448254+00:00",
     "shell.execute_reply": "2024-06-01T08:45:37.077096+00:00"
    }
   },
   "outputs": [
    {
     "data": {
      "text/html": [
       "<div style=\"display: flex; justify-content:start; gap: 1em; margin: 1em\">\n",
       "<pre><code><span style=\"color: Reset;background-color: Reset;\">┌</span><span style=\"color: Reset;background-color: Reset;\">f</span><span style=\"color: Reset;background-color: Reset;\">i</span><span style=\"color: Reset;background-color: Reset;\">r</span><span style=\"color: Reset;background-color: Reset;\">s</span><span style=\"color: Reset;background-color: Reset;\">t</span><span style=\"color: Reset;background-color: Reset;\">─</span><span style=\"color: Reset;background-color: Reset;\">─</span><span style=\"color: Reset;background-color: Reset;\">─</span><span style=\"color: Reset;background-color: Reset;\">┐</span><span style=\"color: Reset;background-color: Reset;\">┌</span><span style=\"color: Reset;background-color: Reset;\">s</span><span style=\"color: Reset;background-color: Reset;\">e</span><span style=\"color: Reset;background-color: Reset;\">c</span><span style=\"color: Reset;background-color: Reset;\">o</span><span style=\"color: Reset;background-color: Reset;\">n</span><span style=\"color: Reset;background-color: Reset;\">d</span><span style=\"color: Reset;background-color: Reset;\">─</span><span style=\"color: Reset;background-color: Reset;\">─</span><span style=\"color: Reset;background-color: Reset;\">┐</span><span style=\"color: Reset;background-color: Reset;\"> </span><span style=\"color: Reset;background-color: Reset;\"> </span><span style=\"color: Reset;background-color: Reset;\"> </span><span style=\"color: Reset;background-color: Reset;\"> </span><span style=\"color: Reset;background-color: Reset;\"> </span><span style=\"color: Reset;background-color: Reset;\"> </span><span style=\"color: Reset;background-color: Reset;\"> </span><span style=\"color: Reset;background-color: Reset;\"> </span><span style=\"color: Reset;background-color: Reset;\"> </span><span style=\"color: Reset;background-color: Reset;\"> </span><span style=\"color: Reset;background-color: Reset;\"> </span><span style=\"color: Reset;background-color: Reset;\"> </span><span style=\"color: Reset;background-color: Reset;\"> </span><span style=\"color: Reset;background-color: Reset;\"> </span><span style=\"color: Reset;background-color: Reset;\"> </span><span style=\"color: Reset;background-color: Reset;\"> </span><span style=\"color: Reset;background-color: Reset;\"> </span><span style=\"color: Reset;background-color: Reset;\"> </span><span style=\"color: Reset;background-color: Reset;\"> </span><span style=\"color: Reset;background-color: Reset;\"> </span><span style=\"color: Reset;background-color: Reset;\"> </span><span style=\"color: Reset;background-color: Reset;\"> </span><span style=\"color: Reset;background-color: Reset;\"> </span><span style=\"color: Reset;background-color: Reset;\"> </span><span style=\"color: Reset;background-color: Reset;\"> </span><span style=\"color: Reset;background-color: Reset;\"> </span><span style=\"color: Reset;background-color: Reset;\"> </span><span style=\"color: Reset;background-color: Reset;\"> </span><span style=\"color: Reset;background-color: Reset;\"> </span><span style=\"color: Reset;background-color: Reset;\"> </span>\n",
       "<span style=\"color: Reset;background-color: Reset;\">└</span><span style=\"color: Reset;background-color: Reset;\">─</span><span style=\"color: Reset;background-color: Reset;\">─</span><span style=\"color: Reset;background-color: Reset;\">─</span><span style=\"color: Reset;background-color: Reset;\">─</span><span style=\"color: Reset;background-color: Reset;\">─</span><span style=\"color: Reset;background-color: Reset;\">─</span><span style=\"color: Reset;background-color: Reset;\">─</span><span style=\"color: Reset;background-color: Reset;\">─</span><span style=\"color: Reset;background-color: Reset;\">┘</span><span style=\"color: Reset;background-color: Reset;\">└</span><span style=\"color: Reset;background-color: Reset;\">─</span><span style=\"color: Reset;background-color: Reset;\">─</span><span style=\"color: Reset;background-color: Reset;\">─</span><span style=\"color: Reset;background-color: Reset;\">─</span><span style=\"color: Reset;background-color: Reset;\">─</span><span style=\"color: Reset;background-color: Reset;\">─</span><span style=\"color: Reset;background-color: Reset;\">─</span><span style=\"color: Reset;background-color: Reset;\">─</span><span style=\"color: Reset;background-color: Reset;\">┘</span><span style=\"color: Reset;background-color: Reset;\"> </span><span style=\"color: Reset;background-color: Reset;\"> </span><span style=\"color: Reset;background-color: Reset;\"> </span><span style=\"color: Reset;background-color: Reset;\"> </span><span style=\"color: Reset;background-color: Reset;\"> </span><span style=\"color: Reset;background-color: Reset;\"> </span><span style=\"color: Reset;background-color: Reset;\"> </span><span style=\"color: Reset;background-color: Reset;\"> </span><span style=\"color: Reset;background-color: Reset;\"> </span><span style=\"color: Reset;background-color: Reset;\"> </span><span style=\"color: Reset;background-color: Reset;\"> </span><span style=\"color: Reset;background-color: Reset;\"> </span><span style=\"color: Reset;background-color: Reset;\"> </span><span style=\"color: Reset;background-color: Reset;\"> </span><span style=\"color: Reset;background-color: Reset;\"> </span><span style=\"color: Reset;background-color: Reset;\"> </span><span style=\"color: Reset;background-color: Reset;\"> </span><span style=\"color: Reset;background-color: Reset;\"> </span><span style=\"color: Reset;background-color: Reset;\"> </span><span style=\"color: Reset;background-color: Reset;\"> </span><span style=\"color: Reset;background-color: Reset;\"> </span><span style=\"color: Reset;background-color: Reset;\"> </span><span style=\"color: Reset;background-color: Reset;\"> </span><span style=\"color: Reset;background-color: Reset;\"> </span><span style=\"color: Reset;background-color: Reset;\"> </span><span style=\"color: Reset;background-color: Reset;\"> </span><span style=\"color: Reset;background-color: Reset;\"> </span><span style=\"color: Reset;background-color: Reset;\"> </span><span style=\"color: Reset;background-color: Reset;\"> </span><span style=\"color: Reset;background-color: Reset;\"> </span>\n",
       "<span style=\"color: Reset;background-color: Reset;\"> </span><span style=\"color: Reset;background-color: Reset;\"> </span><span style=\"color: Reset;background-color: Reset;\"> </span><span style=\"color: Reset;background-color: Reset;\"> </span><span style=\"color: Reset;background-color: Reset;\"> </span><span style=\"color: Reset;background-color: Reset;\"> </span><span style=\"color: Reset;background-color: Reset;\"> </span><span style=\"color: Reset;background-color: Reset;\"> </span><span style=\"color: Reset;background-color: Reset;\"> </span><span style=\"color: Reset;background-color: Reset;\"> </span><span style=\"color: Reset;background-color: Reset;\"> </span><span style=\"color: Reset;background-color: Reset;\"> </span><span style=\"color: Reset;background-color: Reset;\"> </span><span style=\"color: Reset;background-color: Reset;\"> </span><span style=\"color: Reset;background-color: Reset;\"> </span><span style=\"color: Reset;background-color: Reset;\">┌</span><span style=\"color: Reset;background-color: Reset;\">f</span><span style=\"color: Reset;background-color: Reset;\">i</span><span style=\"color: Reset;background-color: Reset;\">r</span><span style=\"color: Reset;background-color: Reset;\">s</span><span style=\"color: Reset;background-color: Reset;\">t</span><span style=\"color: Reset;background-color: Reset;\">─</span><span style=\"color: Reset;background-color: Reset;\">─</span><span style=\"color: Reset;background-color: Reset;\">─</span><span style=\"color: Reset;background-color: Reset;\">┐</span><span style=\"color: Reset;background-color: Reset;\">┌</span><span style=\"color: Reset;background-color: Reset;\">s</span><span style=\"color: Reset;background-color: Reset;\">e</span><span style=\"color: Reset;background-color: Reset;\">c</span><span style=\"color: Reset;background-color: Reset;\">o</span><span style=\"color: Reset;background-color: Reset;\">n</span><span style=\"color: Reset;background-color: Reset;\">d</span><span style=\"color: Reset;background-color: Reset;\">─</span><span style=\"color: Reset;background-color: Reset;\">─</span><span style=\"color: Reset;background-color: Reset;\">┐</span><span style=\"color: Reset;background-color: Reset;\"> </span><span style=\"color: Reset;background-color: Reset;\"> </span><span style=\"color: Reset;background-color: Reset;\"> </span><span style=\"color: Reset;background-color: Reset;\"> </span><span style=\"color: Reset;background-color: Reset;\"> </span><span style=\"color: Reset;background-color: Reset;\"> </span><span style=\"color: Reset;background-color: Reset;\"> </span><span style=\"color: Reset;background-color: Reset;\"> </span><span style=\"color: Reset;background-color: Reset;\"> </span><span style=\"color: Reset;background-color: Reset;\"> </span><span style=\"color: Reset;background-color: Reset;\"> </span><span style=\"color: Reset;background-color: Reset;\"> </span><span style=\"color: Reset;background-color: Reset;\"> </span><span style=\"color: Reset;background-color: Reset;\"> </span><span style=\"color: Reset;background-color: Reset;\"> </span>\n",
       "<span style=\"color: Reset;background-color: Reset;\"> </span><span style=\"color: Reset;background-color: Reset;\"> </span><span style=\"color: Reset;background-color: Reset;\"> </span><span style=\"color: Reset;background-color: Reset;\"> </span><span style=\"color: Reset;background-color: Reset;\"> </span><span style=\"color: Reset;background-color: Reset;\"> </span><span style=\"color: Reset;background-color: Reset;\"> </span><span style=\"color: Reset;background-color: Reset;\"> </span><span style=\"color: Reset;background-color: Reset;\"> </span><span style=\"color: Reset;background-color: Reset;\"> </span><span style=\"color: Reset;background-color: Reset;\"> </span><span style=\"color: Reset;background-color: Reset;\"> </span><span style=\"color: Reset;background-color: Reset;\"> </span><span style=\"color: Reset;background-color: Reset;\"> </span><span style=\"color: Reset;background-color: Reset;\"> </span><span style=\"color: Reset;background-color: Reset;\">└</span><span style=\"color: Reset;background-color: Reset;\">─</span><span style=\"color: Reset;background-color: Reset;\">─</span><span style=\"color: Reset;background-color: Reset;\">─</span><span style=\"color: Reset;background-color: Reset;\">─</span><span style=\"color: Reset;background-color: Reset;\">─</span><span style=\"color: Reset;background-color: Reset;\">─</span><span style=\"color: Reset;background-color: Reset;\">─</span><span style=\"color: Reset;background-color: Reset;\">─</span><span style=\"color: Reset;background-color: Reset;\">┘</span><span style=\"color: Reset;background-color: Reset;\">└</span><span style=\"color: Reset;background-color: Reset;\">─</span><span style=\"color: Reset;background-color: Reset;\">─</span><span style=\"color: Reset;background-color: Reset;\">─</span><span style=\"color: Reset;background-color: Reset;\">─</span><span style=\"color: Reset;background-color: Reset;\">─</span><span style=\"color: Reset;background-color: Reset;\">─</span><span style=\"color: Reset;background-color: Reset;\">─</span><span style=\"color: Reset;background-color: Reset;\">─</span><span style=\"color: Reset;background-color: Reset;\">┘</span><span style=\"color: Reset;background-color: Reset;\"> </span><span style=\"color: Reset;background-color: Reset;\"> </span><span style=\"color: Reset;background-color: Reset;\"> </span><span style=\"color: Reset;background-color: Reset;\"> </span><span style=\"color: Reset;background-color: Reset;\"> </span><span style=\"color: Reset;background-color: Reset;\"> </span><span style=\"color: Reset;background-color: Reset;\"> </span><span style=\"color: Reset;background-color: Reset;\"> </span><span style=\"color: Reset;background-color: Reset;\"> </span><span style=\"color: Reset;background-color: Reset;\"> </span><span style=\"color: Reset;background-color: Reset;\"> </span><span style=\"color: Reset;background-color: Reset;\"> </span><span style=\"color: Reset;background-color: Reset;\"> </span><span style=\"color: Reset;background-color: Reset;\"> </span><span style=\"color: Reset;background-color: Reset;\"> </span>\n",
       "<span style=\"color: Reset;background-color: Reset;\"> </span><span style=\"color: Reset;background-color: Reset;\"> </span><span style=\"color: Reset;background-color: Reset;\"> </span><span style=\"color: Reset;background-color: Reset;\"> </span><span style=\"color: Reset;background-color: Reset;\"> </span><span style=\"color: Reset;background-color: Reset;\"> </span><span style=\"color: Reset;background-color: Reset;\"> </span><span style=\"color: Reset;background-color: Reset;\"> </span><span style=\"color: Reset;background-color: Reset;\"> </span><span style=\"color: Reset;background-color: Reset;\"> </span><span style=\"color: Reset;background-color: Reset;\"> </span><span style=\"color: Reset;background-color: Reset;\"> </span><span style=\"color: Reset;background-color: Reset;\"> </span><span style=\"color: Reset;background-color: Reset;\"> </span><span style=\"color: Reset;background-color: Reset;\"> </span><span style=\"color: Reset;background-color: Reset;\"> </span><span style=\"color: Reset;background-color: Reset;\"> </span><span style=\"color: Reset;background-color: Reset;\"> </span><span style=\"color: Reset;background-color: Reset;\"> </span><span style=\"color: Reset;background-color: Reset;\"> </span><span style=\"color: Reset;background-color: Reset;\"> </span><span style=\"color: Reset;background-color: Reset;\"> </span><span style=\"color: Reset;background-color: Reset;\"> </span><span style=\"color: Reset;background-color: Reset;\"> </span><span style=\"color: Reset;background-color: Reset;\"> </span><span style=\"color: Reset;background-color: Reset;\"> </span><span style=\"color: Reset;background-color: Reset;\"> </span><span style=\"color: Reset;background-color: Reset;\"> </span><span style=\"color: Reset;background-color: Reset;\"> </span><span style=\"color: Reset;background-color: Reset;\"> </span><span style=\"color: Reset;background-color: Reset;\">┌</span><span style=\"color: Reset;background-color: Reset;\">f</span><span style=\"color: Reset;background-color: Reset;\">i</span><span style=\"color: Reset;background-color: Reset;\">r</span><span style=\"color: Reset;background-color: Reset;\">s</span><span style=\"color: Reset;background-color: Reset;\">t</span><span style=\"color: Reset;background-color: Reset;\">─</span><span style=\"color: Reset;background-color: Reset;\">─</span><span style=\"color: Reset;background-color: Reset;\">─</span><span style=\"color: Reset;background-color: Reset;\">┐</span><span style=\"color: Reset;background-color: Reset;\">┌</span><span style=\"color: Reset;background-color: Reset;\">s</span><span style=\"color: Reset;background-color: Reset;\">e</span><span style=\"color: Reset;background-color: Reset;\">c</span><span style=\"color: Reset;background-color: Reset;\">o</span><span style=\"color: Reset;background-color: Reset;\">n</span><span style=\"color: Reset;background-color: Reset;\">d</span><span style=\"color: Reset;background-color: Reset;\">─</span><span style=\"color: Reset;background-color: Reset;\">─</span><span style=\"color: Reset;background-color: Reset;\">┐</span>\n",
       "<span style=\"color: Reset;background-color: Reset;\"> </span><span style=\"color: Reset;background-color: Reset;\"> </span><span style=\"color: Reset;background-color: Reset;\"> </span><span style=\"color: Reset;background-color: Reset;\"> </span><span style=\"color: Reset;background-color: Reset;\"> </span><span style=\"color: Reset;background-color: Reset;\"> </span><span style=\"color: Reset;background-color: Reset;\"> </span><span style=\"color: Reset;background-color: Reset;\"> </span><span style=\"color: Reset;background-color: Reset;\"> </span><span style=\"color: Reset;background-color: Reset;\"> </span><span style=\"color: Reset;background-color: Reset;\"> </span><span style=\"color: Reset;background-color: Reset;\"> </span><span style=\"color: Reset;background-color: Reset;\"> </span><span style=\"color: Reset;background-color: Reset;\"> </span><span style=\"color: Reset;background-color: Reset;\"> </span><span style=\"color: Reset;background-color: Reset;\"> </span><span style=\"color: Reset;background-color: Reset;\"> </span><span style=\"color: Reset;background-color: Reset;\"> </span><span style=\"color: Reset;background-color: Reset;\"> </span><span style=\"color: Reset;background-color: Reset;\"> </span><span style=\"color: Reset;background-color: Reset;\"> </span><span style=\"color: Reset;background-color: Reset;\"> </span><span style=\"color: Reset;background-color: Reset;\"> </span><span style=\"color: Reset;background-color: Reset;\"> </span><span style=\"color: Reset;background-color: Reset;\"> </span><span style=\"color: Reset;background-color: Reset;\"> </span><span style=\"color: Reset;background-color: Reset;\"> </span><span style=\"color: Reset;background-color: Reset;\"> </span><span style=\"color: Reset;background-color: Reset;\"> </span><span style=\"color: Reset;background-color: Reset;\"> </span><span style=\"color: Reset;background-color: Reset;\">└</span><span style=\"color: Reset;background-color: Reset;\">─</span><span style=\"color: Reset;background-color: Reset;\">─</span><span style=\"color: Reset;background-color: Reset;\">─</span><span style=\"color: Reset;background-color: Reset;\">─</span><span style=\"color: Reset;background-color: Reset;\">─</span><span style=\"color: Reset;background-color: Reset;\">─</span><span style=\"color: Reset;background-color: Reset;\">─</span><span style=\"color: Reset;background-color: Reset;\">─</span><span style=\"color: Reset;background-color: Reset;\">┘</span><span style=\"color: Reset;background-color: Reset;\">└</span><span style=\"color: Reset;background-color: Reset;\">─</span><span style=\"color: Reset;background-color: Reset;\">─</span><span style=\"color: Reset;background-color: Reset;\">─</span><span style=\"color: Reset;background-color: Reset;\">─</span><span style=\"color: Reset;background-color: Reset;\">─</span><span style=\"color: Reset;background-color: Reset;\">─</span><span style=\"color: Reset;background-color: Reset;\">─</span><span style=\"color: Reset;background-color: Reset;\">─</span><span style=\"color: Reset;background-color: Reset;\">┘</span>\n",
       "</code></pre>\n",
       "</div>"
      ],
      "text/plain": [
       "()"
      ]
     },
     "execution_count": 7,
     "metadata": {},
     "output_type": "execute_result"
    }
   ],
   "source": [
    "use ratatui_macros::{horizontal, vertical};\n",
    "\n",
    "let (x, y, width, height) = (0, 0, 50, 6); \n",
    "let area = ratatui::layout::Rect::new(x, y, width, height);\n",
    "\n",
    "let mut buf = ratatui::buffer::Buffer::empty(area);\n",
    "\n",
    "let [top, middle, bottom] = vertical![*=1, *=1, *=1].areas(area);\n",
    "\n",
    "let [first, second] = horizontal![==10, ==10].areas(top);\n",
    "ratatui::widgets::Block::bordered().title(\"first\").render(first, &mut buf);\n",
    "ratatui::widgets::Block::bordered().title(\"second\").render(second, &mut buf);\n",
    "\n",
    "let [first, second] = horizontal![==10, ==10].flex(ratatui::layout::Flex::Center).areas(middle);\n",
    "ratatui::widgets::Block::bordered().title(\"first\").render(first, &mut buf);\n",
    "ratatui::widgets::Block::bordered().title(\"second\").render(second, &mut buf);\n",
    "\n",
    "let [first, second] = horizontal![==10, ==10].flex(ratatui::layout::Flex::End).areas(bottom);\n",
    "ratatui::widgets::Block::bordered().title(\"first\").render(first, &mut buf);\n",
    "ratatui::widgets::Block::bordered().title(\"second\").render(second, &mut buf);\n",
    "\n",
    "show_html(buffer_to_html(&buf))"
   ]
  },
  {
   "cell_type": "markdown",
   "id": "60ba3215-93b3-4002-a1ec-7fd4ee4583f0",
   "metadata": {},
   "source": [
    "## Popular layouts"
   ]
  },
  {
   "cell_type": "markdown",
   "id": "9a9fec48-5a7f-4afe-b56e-e82330542ff7",
   "metadata": {},
   "source": [
    "### Center a block"
   ]
  },
  {
   "cell_type": "markdown",
   "id": "2d5cb31a-9ec6-44c1-8196-dc4c83c2c63e",
   "metadata": {},
   "source": [
    "**10 px wide**"
   ]
  },
  {
   "cell_type": "code",
   "execution_count": 9,
   "id": "8046127f-4c72-43a3-8889-c21c88a5ec12",
   "metadata": {
    "execution": {
     "iopub.execute_input": "2024-06-01T08:48:59.215546+00:00",
     "iopub.status.busy": "2024-06-01T08:48:59.215290+00:00",
     "iopub.status.idle": "2024-06-01T08:48:59.215498+00:00",
     "shell.execute_reply": "2024-06-01T08:48:59.826613+00:00"
    }
   },
   "outputs": [
    {
     "data": {
      "text/html": [
       "<div style=\"display: flex; justify-content:start; gap: 1em; margin: 1em\">\n",
       "<pre><code><span style=\"color: Reset;background-color: Reset;\"> </span><span style=\"color: Reset;background-color: Reset;\"> </span><span style=\"color: Reset;background-color: Reset;\"> </span><span style=\"color: Reset;background-color: Reset;\"> </span><span style=\"color: Reset;background-color: Reset;\"> </span><span style=\"color: Reset;background-color: Reset;\"> </span><span style=\"color: Reset;background-color: Reset;\"> </span><span style=\"color: Reset;background-color: Reset;\"> </span><span style=\"color: Reset;background-color: Reset;\"> </span><span style=\"color: Reset;background-color: Reset;\"> </span><span style=\"color: Reset;background-color: Reset;\"> </span><span style=\"color: Reset;background-color: Reset;\"> </span><span style=\"color: Reset;background-color: Reset;\"> </span><span style=\"color: Reset;background-color: Reset;\"> </span><span style=\"color: Reset;background-color: Reset;\"> </span><span style=\"color: Reset;background-color: Reset;\"> </span><span style=\"color: Reset;background-color: Reset;\"> </span><span style=\"color: Reset;background-color: Reset;\"> </span><span style=\"color: Reset;background-color: Reset;\"> </span><span style=\"color: Reset;background-color: Reset;\"> </span><span style=\"color: Reset;background-color: Reset;\">┌</span><span style=\"color: Reset;background-color: Reset;\">c</span><span style=\"color: Reset;background-color: Reset;\">e</span><span style=\"color: Reset;background-color: Reset;\">n</span><span style=\"color: Reset;background-color: Reset;\">t</span><span style=\"color: Reset;background-color: Reset;\">e</span><span style=\"color: Reset;background-color: Reset;\">r</span><span style=\"color: Reset;background-color: Reset;\">─</span><span style=\"color: Reset;background-color: Reset;\">─</span><span style=\"color: Reset;background-color: Reset;\">┐</span><span style=\"color: Reset;background-color: Reset;\"> </span><span style=\"color: Reset;background-color: Reset;\"> </span><span style=\"color: Reset;background-color: Reset;\"> </span><span style=\"color: Reset;background-color: Reset;\"> </span><span style=\"color: Reset;background-color: Reset;\"> </span><span style=\"color: Reset;background-color: Reset;\"> </span><span style=\"color: Reset;background-color: Reset;\"> </span><span style=\"color: Reset;background-color: Reset;\"> </span><span style=\"color: Reset;background-color: Reset;\"> </span><span style=\"color: Reset;background-color: Reset;\"> </span><span style=\"color: Reset;background-color: Reset;\"> </span><span style=\"color: Reset;background-color: Reset;\"> </span><span style=\"color: Reset;background-color: Reset;\"> </span><span style=\"color: Reset;background-color: Reset;\"> </span><span style=\"color: Reset;background-color: Reset;\"> </span><span style=\"color: Reset;background-color: Reset;\"> </span><span style=\"color: Reset;background-color: Reset;\"> </span><span style=\"color: Reset;background-color: Reset;\"> </span><span style=\"color: Reset;background-color: Reset;\"> </span><span style=\"color: Reset;background-color: Reset;\"> </span>\n",
       "<span style=\"color: Reset;background-color: Reset;\"> </span><span style=\"color: Reset;background-color: Reset;\"> </span><span style=\"color: Reset;background-color: Reset;\"> </span><span style=\"color: Reset;background-color: Reset;\"> </span><span style=\"color: Reset;background-color: Reset;\"> </span><span style=\"color: Reset;background-color: Reset;\"> </span><span style=\"color: Reset;background-color: Reset;\"> </span><span style=\"color: Reset;background-color: Reset;\"> </span><span style=\"color: Reset;background-color: Reset;\"> </span><span style=\"color: Reset;background-color: Reset;\"> </span><span style=\"color: Reset;background-color: Reset;\"> </span><span style=\"color: Reset;background-color: Reset;\"> </span><span style=\"color: Reset;background-color: Reset;\"> </span><span style=\"color: Reset;background-color: Reset;\"> </span><span style=\"color: Reset;background-color: Reset;\"> </span><span style=\"color: Reset;background-color: Reset;\"> </span><span style=\"color: Reset;background-color: Reset;\"> </span><span style=\"color: Reset;background-color: Reset;\"> </span><span style=\"color: Reset;background-color: Reset;\"> </span><span style=\"color: Reset;background-color: Reset;\"> </span><span style=\"color: Reset;background-color: Reset;\">│</span><span style=\"color: Reset;background-color: Reset;\"> </span><span style=\"color: Reset;background-color: Reset;\"> </span><span style=\"color: Reset;background-color: Reset;\"> </span><span style=\"color: Reset;background-color: Reset;\"> </span><span style=\"color: Reset;background-color: Reset;\"> </span><span style=\"color: Reset;background-color: Reset;\"> </span><span style=\"color: Reset;background-color: Reset;\"> </span><span style=\"color: Reset;background-color: Reset;\"> </span><span style=\"color: Reset;background-color: Reset;\">│</span><span style=\"color: Reset;background-color: Reset;\"> </span><span style=\"color: Reset;background-color: Reset;\"> </span><span style=\"color: Reset;background-color: Reset;\"> </span><span style=\"color: Reset;background-color: Reset;\"> </span><span style=\"color: Reset;background-color: Reset;\"> </span><span style=\"color: Reset;background-color: Reset;\"> </span><span style=\"color: Reset;background-color: Reset;\"> </span><span style=\"color: Reset;background-color: Reset;\"> </span><span style=\"color: Reset;background-color: Reset;\"> </span><span style=\"color: Reset;background-color: Reset;\"> </span><span style=\"color: Reset;background-color: Reset;\"> </span><span style=\"color: Reset;background-color: Reset;\"> </span><span style=\"color: Reset;background-color: Reset;\"> </span><span style=\"color: Reset;background-color: Reset;\"> </span><span style=\"color: Reset;background-color: Reset;\"> </span><span style=\"color: Reset;background-color: Reset;\"> </span><span style=\"color: Reset;background-color: Reset;\"> </span><span style=\"color: Reset;background-color: Reset;\"> </span><span style=\"color: Reset;background-color: Reset;\"> </span><span style=\"color: Reset;background-color: Reset;\"> </span>\n",
       "<span style=\"color: Reset;background-color: Reset;\"> </span><span style=\"color: Reset;background-color: Reset;\"> </span><span style=\"color: Reset;background-color: Reset;\"> </span><span style=\"color: Reset;background-color: Reset;\"> </span><span style=\"color: Reset;background-color: Reset;\"> </span><span style=\"color: Reset;background-color: Reset;\"> </span><span style=\"color: Reset;background-color: Reset;\"> </span><span style=\"color: Reset;background-color: Reset;\"> </span><span style=\"color: Reset;background-color: Reset;\"> </span><span style=\"color: Reset;background-color: Reset;\"> </span><span style=\"color: Reset;background-color: Reset;\"> </span><span style=\"color: Reset;background-color: Reset;\"> </span><span style=\"color: Reset;background-color: Reset;\"> </span><span style=\"color: Reset;background-color: Reset;\"> </span><span style=\"color: Reset;background-color: Reset;\"> </span><span style=\"color: Reset;background-color: Reset;\"> </span><span style=\"color: Reset;background-color: Reset;\"> </span><span style=\"color: Reset;background-color: Reset;\"> </span><span style=\"color: Reset;background-color: Reset;\"> </span><span style=\"color: Reset;background-color: Reset;\"> </span><span style=\"color: Reset;background-color: Reset;\">│</span><span style=\"color: Reset;background-color: Reset;\"> </span><span style=\"color: Reset;background-color: Reset;\"> </span><span style=\"color: Reset;background-color: Reset;\"> </span><span style=\"color: Reset;background-color: Reset;\"> </span><span style=\"color: Reset;background-color: Reset;\"> </span><span style=\"color: Reset;background-color: Reset;\"> </span><span style=\"color: Reset;background-color: Reset;\"> </span><span style=\"color: Reset;background-color: Reset;\"> </span><span style=\"color: Reset;background-color: Reset;\">│</span><span style=\"color: Reset;background-color: Reset;\"> </span><span style=\"color: Reset;background-color: Reset;\"> </span><span style=\"color: Reset;background-color: Reset;\"> </span><span style=\"color: Reset;background-color: Reset;\"> </span><span style=\"color: Reset;background-color: Reset;\"> </span><span style=\"color: Reset;background-color: Reset;\"> </span><span style=\"color: Reset;background-color: Reset;\"> </span><span style=\"color: Reset;background-color: Reset;\"> </span><span style=\"color: Reset;background-color: Reset;\"> </span><span style=\"color: Reset;background-color: Reset;\"> </span><span style=\"color: Reset;background-color: Reset;\"> </span><span style=\"color: Reset;background-color: Reset;\"> </span><span style=\"color: Reset;background-color: Reset;\"> </span><span style=\"color: Reset;background-color: Reset;\"> </span><span style=\"color: Reset;background-color: Reset;\"> </span><span style=\"color: Reset;background-color: Reset;\"> </span><span style=\"color: Reset;background-color: Reset;\"> </span><span style=\"color: Reset;background-color: Reset;\"> </span><span style=\"color: Reset;background-color: Reset;\"> </span><span style=\"color: Reset;background-color: Reset;\"> </span>\n",
       "<span style=\"color: Reset;background-color: Reset;\"> </span><span style=\"color: Reset;background-color: Reset;\"> </span><span style=\"color: Reset;background-color: Reset;\"> </span><span style=\"color: Reset;background-color: Reset;\"> </span><span style=\"color: Reset;background-color: Reset;\"> </span><span style=\"color: Reset;background-color: Reset;\"> </span><span style=\"color: Reset;background-color: Reset;\"> </span><span style=\"color: Reset;background-color: Reset;\"> </span><span style=\"color: Reset;background-color: Reset;\"> </span><span style=\"color: Reset;background-color: Reset;\"> </span><span style=\"color: Reset;background-color: Reset;\"> </span><span style=\"color: Reset;background-color: Reset;\"> </span><span style=\"color: Reset;background-color: Reset;\"> </span><span style=\"color: Reset;background-color: Reset;\"> </span><span style=\"color: Reset;background-color: Reset;\"> </span><span style=\"color: Reset;background-color: Reset;\"> </span><span style=\"color: Reset;background-color: Reset;\"> </span><span style=\"color: Reset;background-color: Reset;\"> </span><span style=\"color: Reset;background-color: Reset;\"> </span><span style=\"color: Reset;background-color: Reset;\"> </span><span style=\"color: Reset;background-color: Reset;\">│</span><span style=\"color: Reset;background-color: Reset;\"> </span><span style=\"color: Reset;background-color: Reset;\"> </span><span style=\"color: Reset;background-color: Reset;\"> </span><span style=\"color: Reset;background-color: Reset;\"> </span><span style=\"color: Reset;background-color: Reset;\"> </span><span style=\"color: Reset;background-color: Reset;\"> </span><span style=\"color: Reset;background-color: Reset;\"> </span><span style=\"color: Reset;background-color: Reset;\"> </span><span style=\"color: Reset;background-color: Reset;\">│</span><span style=\"color: Reset;background-color: Reset;\"> </span><span style=\"color: Reset;background-color: Reset;\"> </span><span style=\"color: Reset;background-color: Reset;\"> </span><span style=\"color: Reset;background-color: Reset;\"> </span><span style=\"color: Reset;background-color: Reset;\"> </span><span style=\"color: Reset;background-color: Reset;\"> </span><span style=\"color: Reset;background-color: Reset;\"> </span><span style=\"color: Reset;background-color: Reset;\"> </span><span style=\"color: Reset;background-color: Reset;\"> </span><span style=\"color: Reset;background-color: Reset;\"> </span><span style=\"color: Reset;background-color: Reset;\"> </span><span style=\"color: Reset;background-color: Reset;\"> </span><span style=\"color: Reset;background-color: Reset;\"> </span><span style=\"color: Reset;background-color: Reset;\"> </span><span style=\"color: Reset;background-color: Reset;\"> </span><span style=\"color: Reset;background-color: Reset;\"> </span><span style=\"color: Reset;background-color: Reset;\"> </span><span style=\"color: Reset;background-color: Reset;\"> </span><span style=\"color: Reset;background-color: Reset;\"> </span><span style=\"color: Reset;background-color: Reset;\"> </span>\n",
       "<span style=\"color: Reset;background-color: Reset;\"> </span><span style=\"color: Reset;background-color: Reset;\"> </span><span style=\"color: Reset;background-color: Reset;\"> </span><span style=\"color: Reset;background-color: Reset;\"> </span><span style=\"color: Reset;background-color: Reset;\"> </span><span style=\"color: Reset;background-color: Reset;\"> </span><span style=\"color: Reset;background-color: Reset;\"> </span><span style=\"color: Reset;background-color: Reset;\"> </span><span style=\"color: Reset;background-color: Reset;\"> </span><span style=\"color: Reset;background-color: Reset;\"> </span><span style=\"color: Reset;background-color: Reset;\"> </span><span style=\"color: Reset;background-color: Reset;\"> </span><span style=\"color: Reset;background-color: Reset;\"> </span><span style=\"color: Reset;background-color: Reset;\"> </span><span style=\"color: Reset;background-color: Reset;\"> </span><span style=\"color: Reset;background-color: Reset;\"> </span><span style=\"color: Reset;background-color: Reset;\"> </span><span style=\"color: Reset;background-color: Reset;\"> </span><span style=\"color: Reset;background-color: Reset;\"> </span><span style=\"color: Reset;background-color: Reset;\"> </span><span style=\"color: Reset;background-color: Reset;\">│</span><span style=\"color: Reset;background-color: Reset;\"> </span><span style=\"color: Reset;background-color: Reset;\"> </span><span style=\"color: Reset;background-color: Reset;\"> </span><span style=\"color: Reset;background-color: Reset;\"> </span><span style=\"color: Reset;background-color: Reset;\"> </span><span style=\"color: Reset;background-color: Reset;\"> </span><span style=\"color: Reset;background-color: Reset;\"> </span><span style=\"color: Reset;background-color: Reset;\"> </span><span style=\"color: Reset;background-color: Reset;\">│</span><span style=\"color: Reset;background-color: Reset;\"> </span><span style=\"color: Reset;background-color: Reset;\"> </span><span style=\"color: Reset;background-color: Reset;\"> </span><span style=\"color: Reset;background-color: Reset;\"> </span><span style=\"color: Reset;background-color: Reset;\"> </span><span style=\"color: Reset;background-color: Reset;\"> </span><span style=\"color: Reset;background-color: Reset;\"> </span><span style=\"color: Reset;background-color: Reset;\"> </span><span style=\"color: Reset;background-color: Reset;\"> </span><span style=\"color: Reset;background-color: Reset;\"> </span><span style=\"color: Reset;background-color: Reset;\"> </span><span style=\"color: Reset;background-color: Reset;\"> </span><span style=\"color: Reset;background-color: Reset;\"> </span><span style=\"color: Reset;background-color: Reset;\"> </span><span style=\"color: Reset;background-color: Reset;\"> </span><span style=\"color: Reset;background-color: Reset;\"> </span><span style=\"color: Reset;background-color: Reset;\"> </span><span style=\"color: Reset;background-color: Reset;\"> </span><span style=\"color: Reset;background-color: Reset;\"> </span><span style=\"color: Reset;background-color: Reset;\"> </span>\n",
       "<span style=\"color: Reset;background-color: Reset;\"> </span><span style=\"color: Reset;background-color: Reset;\"> </span><span style=\"color: Reset;background-color: Reset;\"> </span><span style=\"color: Reset;background-color: Reset;\"> </span><span style=\"color: Reset;background-color: Reset;\"> </span><span style=\"color: Reset;background-color: Reset;\"> </span><span style=\"color: Reset;background-color: Reset;\"> </span><span style=\"color: Reset;background-color: Reset;\"> </span><span style=\"color: Reset;background-color: Reset;\"> </span><span style=\"color: Reset;background-color: Reset;\"> </span><span style=\"color: Reset;background-color: Reset;\"> </span><span style=\"color: Reset;background-color: Reset;\"> </span><span style=\"color: Reset;background-color: Reset;\"> </span><span style=\"color: Reset;background-color: Reset;\"> </span><span style=\"color: Reset;background-color: Reset;\"> </span><span style=\"color: Reset;background-color: Reset;\"> </span><span style=\"color: Reset;background-color: Reset;\"> </span><span style=\"color: Reset;background-color: Reset;\"> </span><span style=\"color: Reset;background-color: Reset;\"> </span><span style=\"color: Reset;background-color: Reset;\"> </span><span style=\"color: Reset;background-color: Reset;\">└</span><span style=\"color: Reset;background-color: Reset;\">─</span><span style=\"color: Reset;background-color: Reset;\">─</span><span style=\"color: Reset;background-color: Reset;\">─</span><span style=\"color: Reset;background-color: Reset;\">─</span><span style=\"color: Reset;background-color: Reset;\">─</span><span style=\"color: Reset;background-color: Reset;\">─</span><span style=\"color: Reset;background-color: Reset;\">─</span><span style=\"color: Reset;background-color: Reset;\">─</span><span style=\"color: Reset;background-color: Reset;\">┘</span><span style=\"color: Reset;background-color: Reset;\"> </span><span style=\"color: Reset;background-color: Reset;\"> </span><span style=\"color: Reset;background-color: Reset;\"> </span><span style=\"color: Reset;background-color: Reset;\"> </span><span style=\"color: Reset;background-color: Reset;\"> </span><span style=\"color: Reset;background-color: Reset;\"> </span><span style=\"color: Reset;background-color: Reset;\"> </span><span style=\"color: Reset;background-color: Reset;\"> </span><span style=\"color: Reset;background-color: Reset;\"> </span><span style=\"color: Reset;background-color: Reset;\"> </span><span style=\"color: Reset;background-color: Reset;\"> </span><span style=\"color: Reset;background-color: Reset;\"> </span><span style=\"color: Reset;background-color: Reset;\"> </span><span style=\"color: Reset;background-color: Reset;\"> </span><span style=\"color: Reset;background-color: Reset;\"> </span><span style=\"color: Reset;background-color: Reset;\"> </span><span style=\"color: Reset;background-color: Reset;\"> </span><span style=\"color: Reset;background-color: Reset;\"> </span><span style=\"color: Reset;background-color: Reset;\"> </span><span style=\"color: Reset;background-color: Reset;\"> </span>\n",
       "</code></pre>\n",
       "</div>"
      ],
      "text/plain": [
       "()"
      ]
     },
     "execution_count": 9,
     "metadata": {},
     "output_type": "execute_result"
    }
   ],
   "source": [
    "use ratatui_macros::{horizontal, vertical};\n",
    "\n",
    "let (x, y, width, height) = (0, 0, 50, 6); \n",
    "let area = ratatui::layout::Rect::new(x, y, width, height);\n",
    "\n",
    "let mut buf = ratatui::buffer::Buffer::empty(area);\n",
    "\n",
    "let [middle] = horizontal![==10].flex(ratatui::layout::Flex::Center).areas(area);\n",
    "ratatui::widgets::Block::bordered().title(\"center\").render(middle, &mut buf);\n",
    "\n",
    "show_html(buffer_to_html(&buf))"
   ]
  },
  {
   "cell_type": "markdown",
   "id": "da14ca95-31e1-4c7b-acc6-5dce84e565a9",
   "metadata": {},
   "source": [
    "**50% wide**"
   ]
  },
  {
   "cell_type": "code",
   "execution_count": 11,
   "id": "af2564ac-e288-40ad-85ed-44eaefff185b",
   "metadata": {
    "execution": {
     "iopub.execute_input": "2024-06-01T08:49:34.081409+00:00",
     "iopub.status.busy": "2024-06-01T08:49:34.081227+00:00",
     "iopub.status.idle": "2024-06-01T08:49:34.081378+00:00",
     "shell.execute_reply": "2024-06-01T08:49:34.706659+00:00"
    }
   },
   "outputs": [
    {
     "data": {
      "text/html": [
       "<div style=\"display: flex; justify-content:start; gap: 1em; margin: 1em\">\n",
       "<pre><code><span style=\"color: Reset;background-color: Reset;\"> </span><span style=\"color: Reset;background-color: Reset;\"> </span><span style=\"color: Reset;background-color: Reset;\"> </span><span style=\"color: Reset;background-color: Reset;\"> </span><span style=\"color: Reset;background-color: Reset;\"> </span><span style=\"color: Reset;background-color: Reset;\"> </span><span style=\"color: Reset;background-color: Reset;\"> </span><span style=\"color: Reset;background-color: Reset;\"> </span><span style=\"color: Reset;background-color: Reset;\"> </span><span style=\"color: Reset;background-color: Reset;\"> </span><span style=\"color: Reset;background-color: Reset;\"> </span><span style=\"color: Reset;background-color: Reset;\"> </span><span style=\"color: Reset;background-color: Reset;\"> </span><span style=\"color: Reset;background-color: Reset;\">┌</span><span style=\"color: Reset;background-color: Reset;\">c</span><span style=\"color: Reset;background-color: Reset;\">e</span><span style=\"color: Reset;background-color: Reset;\">n</span><span style=\"color: Reset;background-color: Reset;\">t</span><span style=\"color: Reset;background-color: Reset;\">e</span><span style=\"color: Reset;background-color: Reset;\">r</span><span style=\"color: Reset;background-color: Reset;\">─</span><span style=\"color: Reset;background-color: Reset;\">─</span><span style=\"color: Reset;background-color: Reset;\">─</span><span style=\"color: Reset;background-color: Reset;\">─</span><span style=\"color: Reset;background-color: Reset;\">─</span><span style=\"color: Reset;background-color: Reset;\">─</span><span style=\"color: Reset;background-color: Reset;\">─</span><span style=\"color: Reset;background-color: Reset;\">─</span><span style=\"color: Reset;background-color: Reset;\">─</span><span style=\"color: Reset;background-color: Reset;\">─</span><span style=\"color: Reset;background-color: Reset;\">─</span><span style=\"color: Reset;background-color: Reset;\">─</span><span style=\"color: Reset;background-color: Reset;\">─</span><span style=\"color: Reset;background-color: Reset;\">─</span><span style=\"color: Reset;background-color: Reset;\">─</span><span style=\"color: Reset;background-color: Reset;\">─</span><span style=\"color: Reset;background-color: Reset;\">─</span><span style=\"color: Reset;background-color: Reset;\">┐</span><span style=\"color: Reset;background-color: Reset;\"> </span><span style=\"color: Reset;background-color: Reset;\"> </span><span style=\"color: Reset;background-color: Reset;\"> </span><span style=\"color: Reset;background-color: Reset;\"> </span><span style=\"color: Reset;background-color: Reset;\"> </span><span style=\"color: Reset;background-color: Reset;\"> </span><span style=\"color: Reset;background-color: Reset;\"> </span><span style=\"color: Reset;background-color: Reset;\"> </span><span style=\"color: Reset;background-color: Reset;\"> </span><span style=\"color: Reset;background-color: Reset;\"> </span><span style=\"color: Reset;background-color: Reset;\"> </span><span style=\"color: Reset;background-color: Reset;\"> </span>\n",
       "<span style=\"color: Reset;background-color: Reset;\"> </span><span style=\"color: Reset;background-color: Reset;\"> </span><span style=\"color: Reset;background-color: Reset;\"> </span><span style=\"color: Reset;background-color: Reset;\"> </span><span style=\"color: Reset;background-color: Reset;\"> </span><span style=\"color: Reset;background-color: Reset;\"> </span><span style=\"color: Reset;background-color: Reset;\"> </span><span style=\"color: Reset;background-color: Reset;\"> </span><span style=\"color: Reset;background-color: Reset;\"> </span><span style=\"color: Reset;background-color: Reset;\"> </span><span style=\"color: Reset;background-color: Reset;\"> </span><span style=\"color: Reset;background-color: Reset;\"> </span><span style=\"color: Reset;background-color: Reset;\"> </span><span style=\"color: Reset;background-color: Reset;\">│</span><span style=\"color: Reset;background-color: Reset;\"> </span><span style=\"color: Reset;background-color: Reset;\"> </span><span style=\"color: Reset;background-color: Reset;\"> </span><span style=\"color: Reset;background-color: Reset;\"> </span><span style=\"color: Reset;background-color: Reset;\"> </span><span style=\"color: Reset;background-color: Reset;\"> </span><span style=\"color: Reset;background-color: Reset;\"> </span><span style=\"color: Reset;background-color: Reset;\"> </span><span style=\"color: Reset;background-color: Reset;\"> </span><span style=\"color: Reset;background-color: Reset;\"> </span><span style=\"color: Reset;background-color: Reset;\"> </span><span style=\"color: Reset;background-color: Reset;\"> </span><span style=\"color: Reset;background-color: Reset;\"> </span><span style=\"color: Reset;background-color: Reset;\"> </span><span style=\"color: Reset;background-color: Reset;\"> </span><span style=\"color: Reset;background-color: Reset;\"> </span><span style=\"color: Reset;background-color: Reset;\"> </span><span style=\"color: Reset;background-color: Reset;\"> </span><span style=\"color: Reset;background-color: Reset;\"> </span><span style=\"color: Reset;background-color: Reset;\"> </span><span style=\"color: Reset;background-color: Reset;\"> </span><span style=\"color: Reset;background-color: Reset;\"> </span><span style=\"color: Reset;background-color: Reset;\"> </span><span style=\"color: Reset;background-color: Reset;\">│</span><span style=\"color: Reset;background-color: Reset;\"> </span><span style=\"color: Reset;background-color: Reset;\"> </span><span style=\"color: Reset;background-color: Reset;\"> </span><span style=\"color: Reset;background-color: Reset;\"> </span><span style=\"color: Reset;background-color: Reset;\"> </span><span style=\"color: Reset;background-color: Reset;\"> </span><span style=\"color: Reset;background-color: Reset;\"> </span><span style=\"color: Reset;background-color: Reset;\"> </span><span style=\"color: Reset;background-color: Reset;\"> </span><span style=\"color: Reset;background-color: Reset;\"> </span><span style=\"color: Reset;background-color: Reset;\"> </span><span style=\"color: Reset;background-color: Reset;\"> </span>\n",
       "<span style=\"color: Reset;background-color: Reset;\"> </span><span style=\"color: Reset;background-color: Reset;\"> </span><span style=\"color: Reset;background-color: Reset;\"> </span><span style=\"color: Reset;background-color: Reset;\"> </span><span style=\"color: Reset;background-color: Reset;\"> </span><span style=\"color: Reset;background-color: Reset;\"> </span><span style=\"color: Reset;background-color: Reset;\"> </span><span style=\"color: Reset;background-color: Reset;\"> </span><span style=\"color: Reset;background-color: Reset;\"> </span><span style=\"color: Reset;background-color: Reset;\"> </span><span style=\"color: Reset;background-color: Reset;\"> </span><span style=\"color: Reset;background-color: Reset;\"> </span><span style=\"color: Reset;background-color: Reset;\"> </span><span style=\"color: Reset;background-color: Reset;\">│</span><span style=\"color: Reset;background-color: Reset;\"> </span><span style=\"color: Reset;background-color: Reset;\"> </span><span style=\"color: Reset;background-color: Reset;\"> </span><span style=\"color: Reset;background-color: Reset;\"> </span><span style=\"color: Reset;background-color: Reset;\"> </span><span style=\"color: Reset;background-color: Reset;\"> </span><span style=\"color: Reset;background-color: Reset;\"> </span><span style=\"color: Reset;background-color: Reset;\"> </span><span style=\"color: Reset;background-color: Reset;\"> </span><span style=\"color: Reset;background-color: Reset;\"> </span><span style=\"color: Reset;background-color: Reset;\"> </span><span style=\"color: Reset;background-color: Reset;\"> </span><span style=\"color: Reset;background-color: Reset;\"> </span><span style=\"color: Reset;background-color: Reset;\"> </span><span style=\"color: Reset;background-color: Reset;\"> </span><span style=\"color: Reset;background-color: Reset;\"> </span><span style=\"color: Reset;background-color: Reset;\"> </span><span style=\"color: Reset;background-color: Reset;\"> </span><span style=\"color: Reset;background-color: Reset;\"> </span><span style=\"color: Reset;background-color: Reset;\"> </span><span style=\"color: Reset;background-color: Reset;\"> </span><span style=\"color: Reset;background-color: Reset;\"> </span><span style=\"color: Reset;background-color: Reset;\"> </span><span style=\"color: Reset;background-color: Reset;\">│</span><span style=\"color: Reset;background-color: Reset;\"> </span><span style=\"color: Reset;background-color: Reset;\"> </span><span style=\"color: Reset;background-color: Reset;\"> </span><span style=\"color: Reset;background-color: Reset;\"> </span><span style=\"color: Reset;background-color: Reset;\"> </span><span style=\"color: Reset;background-color: Reset;\"> </span><span style=\"color: Reset;background-color: Reset;\"> </span><span style=\"color: Reset;background-color: Reset;\"> </span><span style=\"color: Reset;background-color: Reset;\"> </span><span style=\"color: Reset;background-color: Reset;\"> </span><span style=\"color: Reset;background-color: Reset;\"> </span><span style=\"color: Reset;background-color: Reset;\"> </span>\n",
       "<span style=\"color: Reset;background-color: Reset;\"> </span><span style=\"color: Reset;background-color: Reset;\"> </span><span style=\"color: Reset;background-color: Reset;\"> </span><span style=\"color: Reset;background-color: Reset;\"> </span><span style=\"color: Reset;background-color: Reset;\"> </span><span style=\"color: Reset;background-color: Reset;\"> </span><span style=\"color: Reset;background-color: Reset;\"> </span><span style=\"color: Reset;background-color: Reset;\"> </span><span style=\"color: Reset;background-color: Reset;\"> </span><span style=\"color: Reset;background-color: Reset;\"> </span><span style=\"color: Reset;background-color: Reset;\"> </span><span style=\"color: Reset;background-color: Reset;\"> </span><span style=\"color: Reset;background-color: Reset;\"> </span><span style=\"color: Reset;background-color: Reset;\">│</span><span style=\"color: Reset;background-color: Reset;\"> </span><span style=\"color: Reset;background-color: Reset;\"> </span><span style=\"color: Reset;background-color: Reset;\"> </span><span style=\"color: Reset;background-color: Reset;\"> </span><span style=\"color: Reset;background-color: Reset;\"> </span><span style=\"color: Reset;background-color: Reset;\"> </span><span style=\"color: Reset;background-color: Reset;\"> </span><span style=\"color: Reset;background-color: Reset;\"> </span><span style=\"color: Reset;background-color: Reset;\"> </span><span style=\"color: Reset;background-color: Reset;\"> </span><span style=\"color: Reset;background-color: Reset;\"> </span><span style=\"color: Reset;background-color: Reset;\"> </span><span style=\"color: Reset;background-color: Reset;\"> </span><span style=\"color: Reset;background-color: Reset;\"> </span><span style=\"color: Reset;background-color: Reset;\"> </span><span style=\"color: Reset;background-color: Reset;\"> </span><span style=\"color: Reset;background-color: Reset;\"> </span><span style=\"color: Reset;background-color: Reset;\"> </span><span style=\"color: Reset;background-color: Reset;\"> </span><span style=\"color: Reset;background-color: Reset;\"> </span><span style=\"color: Reset;background-color: Reset;\"> </span><span style=\"color: Reset;background-color: Reset;\"> </span><span style=\"color: Reset;background-color: Reset;\"> </span><span style=\"color: Reset;background-color: Reset;\">│</span><span style=\"color: Reset;background-color: Reset;\"> </span><span style=\"color: Reset;background-color: Reset;\"> </span><span style=\"color: Reset;background-color: Reset;\"> </span><span style=\"color: Reset;background-color: Reset;\"> </span><span style=\"color: Reset;background-color: Reset;\"> </span><span style=\"color: Reset;background-color: Reset;\"> </span><span style=\"color: Reset;background-color: Reset;\"> </span><span style=\"color: Reset;background-color: Reset;\"> </span><span style=\"color: Reset;background-color: Reset;\"> </span><span style=\"color: Reset;background-color: Reset;\"> </span><span style=\"color: Reset;background-color: Reset;\"> </span><span style=\"color: Reset;background-color: Reset;\"> </span>\n",
       "<span style=\"color: Reset;background-color: Reset;\"> </span><span style=\"color: Reset;background-color: Reset;\"> </span><span style=\"color: Reset;background-color: Reset;\"> </span><span style=\"color: Reset;background-color: Reset;\"> </span><span style=\"color: Reset;background-color: Reset;\"> </span><span style=\"color: Reset;background-color: Reset;\"> </span><span style=\"color: Reset;background-color: Reset;\"> </span><span style=\"color: Reset;background-color: Reset;\"> </span><span style=\"color: Reset;background-color: Reset;\"> </span><span style=\"color: Reset;background-color: Reset;\"> </span><span style=\"color: Reset;background-color: Reset;\"> </span><span style=\"color: Reset;background-color: Reset;\"> </span><span style=\"color: Reset;background-color: Reset;\"> </span><span style=\"color: Reset;background-color: Reset;\">│</span><span style=\"color: Reset;background-color: Reset;\"> </span><span style=\"color: Reset;background-color: Reset;\"> </span><span style=\"color: Reset;background-color: Reset;\"> </span><span style=\"color: Reset;background-color: Reset;\"> </span><span style=\"color: Reset;background-color: Reset;\"> </span><span style=\"color: Reset;background-color: Reset;\"> </span><span style=\"color: Reset;background-color: Reset;\"> </span><span style=\"color: Reset;background-color: Reset;\"> </span><span style=\"color: Reset;background-color: Reset;\"> </span><span style=\"color: Reset;background-color: Reset;\"> </span><span style=\"color: Reset;background-color: Reset;\"> </span><span style=\"color: Reset;background-color: Reset;\"> </span><span style=\"color: Reset;background-color: Reset;\"> </span><span style=\"color: Reset;background-color: Reset;\"> </span><span style=\"color: Reset;background-color: Reset;\"> </span><span style=\"color: Reset;background-color: Reset;\"> </span><span style=\"color: Reset;background-color: Reset;\"> </span><span style=\"color: Reset;background-color: Reset;\"> </span><span style=\"color: Reset;background-color: Reset;\"> </span><span style=\"color: Reset;background-color: Reset;\"> </span><span style=\"color: Reset;background-color: Reset;\"> </span><span style=\"color: Reset;background-color: Reset;\"> </span><span style=\"color: Reset;background-color: Reset;\"> </span><span style=\"color: Reset;background-color: Reset;\">│</span><span style=\"color: Reset;background-color: Reset;\"> </span><span style=\"color: Reset;background-color: Reset;\"> </span><span style=\"color: Reset;background-color: Reset;\"> </span><span style=\"color: Reset;background-color: Reset;\"> </span><span style=\"color: Reset;background-color: Reset;\"> </span><span style=\"color: Reset;background-color: Reset;\"> </span><span style=\"color: Reset;background-color: Reset;\"> </span><span style=\"color: Reset;background-color: Reset;\"> </span><span style=\"color: Reset;background-color: Reset;\"> </span><span style=\"color: Reset;background-color: Reset;\"> </span><span style=\"color: Reset;background-color: Reset;\"> </span><span style=\"color: Reset;background-color: Reset;\"> </span>\n",
       "<span style=\"color: Reset;background-color: Reset;\"> </span><span style=\"color: Reset;background-color: Reset;\"> </span><span style=\"color: Reset;background-color: Reset;\"> </span><span style=\"color: Reset;background-color: Reset;\"> </span><span style=\"color: Reset;background-color: Reset;\"> </span><span style=\"color: Reset;background-color: Reset;\"> </span><span style=\"color: Reset;background-color: Reset;\"> </span><span style=\"color: Reset;background-color: Reset;\"> </span><span style=\"color: Reset;background-color: Reset;\"> </span><span style=\"color: Reset;background-color: Reset;\"> </span><span style=\"color: Reset;background-color: Reset;\"> </span><span style=\"color: Reset;background-color: Reset;\"> </span><span style=\"color: Reset;background-color: Reset;\"> </span><span style=\"color: Reset;background-color: Reset;\">└</span><span style=\"color: Reset;background-color: Reset;\">─</span><span style=\"color: Reset;background-color: Reset;\">─</span><span style=\"color: Reset;background-color: Reset;\">─</span><span style=\"color: Reset;background-color: Reset;\">─</span><span style=\"color: Reset;background-color: Reset;\">─</span><span style=\"color: Reset;background-color: Reset;\">─</span><span style=\"color: Reset;background-color: Reset;\">─</span><span style=\"color: Reset;background-color: Reset;\">─</span><span style=\"color: Reset;background-color: Reset;\">─</span><span style=\"color: Reset;background-color: Reset;\">─</span><span style=\"color: Reset;background-color: Reset;\">─</span><span style=\"color: Reset;background-color: Reset;\">─</span><span style=\"color: Reset;background-color: Reset;\">─</span><span style=\"color: Reset;background-color: Reset;\">─</span><span style=\"color: Reset;background-color: Reset;\">─</span><span style=\"color: Reset;background-color: Reset;\">─</span><span style=\"color: Reset;background-color: Reset;\">─</span><span style=\"color: Reset;background-color: Reset;\">─</span><span style=\"color: Reset;background-color: Reset;\">─</span><span style=\"color: Reset;background-color: Reset;\">─</span><span style=\"color: Reset;background-color: Reset;\">─</span><span style=\"color: Reset;background-color: Reset;\">─</span><span style=\"color: Reset;background-color: Reset;\">─</span><span style=\"color: Reset;background-color: Reset;\">┘</span><span style=\"color: Reset;background-color: Reset;\"> </span><span style=\"color: Reset;background-color: Reset;\"> </span><span style=\"color: Reset;background-color: Reset;\"> </span><span style=\"color: Reset;background-color: Reset;\"> </span><span style=\"color: Reset;background-color: Reset;\"> </span><span style=\"color: Reset;background-color: Reset;\"> </span><span style=\"color: Reset;background-color: Reset;\"> </span><span style=\"color: Reset;background-color: Reset;\"> </span><span style=\"color: Reset;background-color: Reset;\"> </span><span style=\"color: Reset;background-color: Reset;\"> </span><span style=\"color: Reset;background-color: Reset;\"> </span><span style=\"color: Reset;background-color: Reset;\"> </span>\n",
       "</code></pre>\n",
       "</div>"
      ],
      "text/plain": [
       "()"
      ]
     },
     "execution_count": 11,
     "metadata": {},
     "output_type": "execute_result"
    }
   ],
   "source": [
    "use ratatui_macros::{horizontal, vertical};\n",
    "\n",
    "let (x, y, width, height) = (0, 0, 50, 6); \n",
    "let area = ratatui::layout::Rect::new(x, y, width, height);\n",
    "\n",
    "let mut buf = ratatui::buffer::Buffer::empty(area);\n",
    "\n",
    "let [middle] = horizontal![==50%].flex(ratatui::layout::Flex::Center).areas(area);\n",
    "ratatui::widgets::Block::bordered().title(\"center\").render(middle, &mut buf);\n",
    "\n",
    "show_html(buffer_to_html(&buf))"
   ]
  },
  {
   "cell_type": "markdown",
   "id": "a44a094a-c934-4805-b7fb-185a419f0e1a",
   "metadata": {},
   "source": [
    "### Sidebar"
   ]
  },
  {
   "cell_type": "markdown",
   "id": "a3daf18d-4bdf-4107-bd28-906fef2e93bc",
   "metadata": {},
   "source": [
    "**MinMax(20px, 50%)**"
   ]
  },
  {
   "cell_type": "code",
   "execution_count": 18,
   "id": "98bc09dc-b915-41c9-8bef-37891330fcf2",
   "metadata": {
    "execution": {
     "iopub.execute_input": "2024-06-01T08:55:50.262024+00:00",
     "iopub.status.busy": "2024-06-01T08:55:50.261788+00:00",
     "iopub.status.idle": "2024-06-01T08:55:50.261984+00:00",
     "shell.execute_reply": "2024-06-01T08:55:51.109236+00:00"
    }
   },
   "outputs": [
    {
     "data": {
      "text/html": [
       "<div style=\"display: flex; justify-content:start; gap: 1em; margin: 1em\">\n",
       "<pre><code><span style=\"color: Reset;background-color: Reset;\">┌</span><span style=\"color: Reset;background-color: Reset;\">s</span><span style=\"color: Reset;background-color: Reset;\">i</span><span style=\"color: Reset;background-color: Reset;\">d</span><span style=\"color: Reset;background-color: Reset;\">e</span><span style=\"color: Reset;background-color: Reset;\">b</span><span style=\"color: Reset;background-color: Reset;\">a</span><span style=\"color: Reset;background-color: Reset;\">r</span><span style=\"color: Reset;background-color: Reset;\">─</span><span style=\"color: Reset;background-color: Reset;\">─</span><span style=\"color: Reset;background-color: Reset;\">─</span><span style=\"color: Reset;background-color: Reset;\">─</span><span style=\"color: Reset;background-color: Reset;\">─</span><span style=\"color: Reset;background-color: Reset;\">─</span><span style=\"color: Reset;background-color: Reset;\">─</span><span style=\"color: Reset;background-color: Reset;\">─</span><span style=\"color: Reset;background-color: Reset;\">─</span><span style=\"color: Reset;background-color: Reset;\">─</span><span style=\"color: Reset;background-color: Reset;\">─</span><span style=\"color: Reset;background-color: Reset;\">─</span><span style=\"color: Reset;background-color: Reset;\">─</span><span style=\"color: Reset;background-color: Reset;\">─</span><span style=\"color: Reset;background-color: Reset;\">─</span><span style=\"color: Reset;background-color: Reset;\">─</span><span style=\"color: Reset;background-color: Reset;\">┐</span><span style=\"color: Reset;background-color: Reset;\">┌</span><span style=\"color: Reset;background-color: Reset;\">m</span><span style=\"color: Reset;background-color: Reset;\">a</span><span style=\"color: Reset;background-color: Reset;\">i</span><span style=\"color: Reset;background-color: Reset;\">n</span><span style=\"color: Reset;background-color: Reset;\">─</span><span style=\"color: Reset;background-color: Reset;\">─</span><span style=\"color: Reset;background-color: Reset;\">─</span><span style=\"color: Reset;background-color: Reset;\">─</span><span style=\"color: Reset;background-color: Reset;\">─</span><span style=\"color: Reset;background-color: Reset;\">─</span><span style=\"color: Reset;background-color: Reset;\">─</span><span style=\"color: Reset;background-color: Reset;\">─</span><span style=\"color: Reset;background-color: Reset;\">─</span><span style=\"color: Reset;background-color: Reset;\">─</span><span style=\"color: Reset;background-color: Reset;\">─</span><span style=\"color: Reset;background-color: Reset;\">─</span><span style=\"color: Reset;background-color: Reset;\">─</span><span style=\"color: Reset;background-color: Reset;\">─</span><span style=\"color: Reset;background-color: Reset;\">─</span><span style=\"color: Reset;background-color: Reset;\">─</span><span style=\"color: Reset;background-color: Reset;\">─</span><span style=\"color: Reset;background-color: Reset;\">─</span><span style=\"color: Reset;background-color: Reset;\">─</span><span style=\"color: Reset;background-color: Reset;\">┐</span>\n",
       "<span style=\"color: Reset;background-color: Reset;\">│</span><span style=\"color: Reset;background-color: Reset;\"> </span><span style=\"color: Reset;background-color: Reset;\"> </span><span style=\"color: Reset;background-color: Reset;\"> </span><span style=\"color: Reset;background-color: Reset;\"> </span><span style=\"color: Reset;background-color: Reset;\"> </span><span style=\"color: Reset;background-color: Reset;\"> </span><span style=\"color: Reset;background-color: Reset;\"> </span><span style=\"color: Reset;background-color: Reset;\"> </span><span style=\"color: Reset;background-color: Reset;\"> </span><span style=\"color: Reset;background-color: Reset;\"> </span><span style=\"color: Reset;background-color: Reset;\"> </span><span style=\"color: Reset;background-color: Reset;\"> </span><span style=\"color: Reset;background-color: Reset;\"> </span><span style=\"color: Reset;background-color: Reset;\"> </span><span style=\"color: Reset;background-color: Reset;\"> </span><span style=\"color: Reset;background-color: Reset;\"> </span><span style=\"color: Reset;background-color: Reset;\"> </span><span style=\"color: Reset;background-color: Reset;\"> </span><span style=\"color: Reset;background-color: Reset;\"> </span><span style=\"color: Reset;background-color: Reset;\"> </span><span style=\"color: Reset;background-color: Reset;\"> </span><span style=\"color: Reset;background-color: Reset;\"> </span><span style=\"color: Reset;background-color: Reset;\"> </span><span style=\"color: Reset;background-color: Reset;\">│</span><span style=\"color: Reset;background-color: Reset;\">│</span><span style=\"color: Reset;background-color: Reset;\"> </span><span style=\"color: Reset;background-color: Reset;\"> </span><span style=\"color: Reset;background-color: Reset;\"> </span><span style=\"color: Reset;background-color: Reset;\"> </span><span style=\"color: Reset;background-color: Reset;\"> </span><span style=\"color: Reset;background-color: Reset;\"> </span><span style=\"color: Reset;background-color: Reset;\"> </span><span style=\"color: Reset;background-color: Reset;\"> </span><span style=\"color: Reset;background-color: Reset;\"> </span><span style=\"color: Reset;background-color: Reset;\"> </span><span style=\"color: Reset;background-color: Reset;\"> </span><span style=\"color: Reset;background-color: Reset;\"> </span><span style=\"color: Reset;background-color: Reset;\"> </span><span style=\"color: Reset;background-color: Reset;\"> </span><span style=\"color: Reset;background-color: Reset;\"> </span><span style=\"color: Reset;background-color: Reset;\"> </span><span style=\"color: Reset;background-color: Reset;\"> </span><span style=\"color: Reset;background-color: Reset;\"> </span><span style=\"color: Reset;background-color: Reset;\"> </span><span style=\"color: Reset;background-color: Reset;\"> </span><span style=\"color: Reset;background-color: Reset;\"> </span><span style=\"color: Reset;background-color: Reset;\"> </span><span style=\"color: Reset;background-color: Reset;\"> </span><span style=\"color: Reset;background-color: Reset;\">│</span>\n",
       "<span style=\"color: Reset;background-color: Reset;\">│</span><span style=\"color: Reset;background-color: Reset;\"> </span><span style=\"color: Reset;background-color: Reset;\"> </span><span style=\"color: Reset;background-color: Reset;\"> </span><span style=\"color: Reset;background-color: Reset;\"> </span><span style=\"color: Reset;background-color: Reset;\"> </span><span style=\"color: Reset;background-color: Reset;\"> </span><span style=\"color: Reset;background-color: Reset;\"> </span><span style=\"color: Reset;background-color: Reset;\"> </span><span style=\"color: Reset;background-color: Reset;\"> </span><span style=\"color: Reset;background-color: Reset;\"> </span><span style=\"color: Reset;background-color: Reset;\"> </span><span style=\"color: Reset;background-color: Reset;\"> </span><span style=\"color: Reset;background-color: Reset;\"> </span><span style=\"color: Reset;background-color: Reset;\"> </span><span style=\"color: Reset;background-color: Reset;\"> </span><span style=\"color: Reset;background-color: Reset;\"> </span><span style=\"color: Reset;background-color: Reset;\"> </span><span style=\"color: Reset;background-color: Reset;\"> </span><span style=\"color: Reset;background-color: Reset;\"> </span><span style=\"color: Reset;background-color: Reset;\"> </span><span style=\"color: Reset;background-color: Reset;\"> </span><span style=\"color: Reset;background-color: Reset;\"> </span><span style=\"color: Reset;background-color: Reset;\"> </span><span style=\"color: Reset;background-color: Reset;\">│</span><span style=\"color: Reset;background-color: Reset;\">│</span><span style=\"color: Reset;background-color: Reset;\"> </span><span style=\"color: Reset;background-color: Reset;\"> </span><span style=\"color: Reset;background-color: Reset;\"> </span><span style=\"color: Reset;background-color: Reset;\"> </span><span style=\"color: Reset;background-color: Reset;\"> </span><span style=\"color: Reset;background-color: Reset;\"> </span><span style=\"color: Reset;background-color: Reset;\"> </span><span style=\"color: Reset;background-color: Reset;\"> </span><span style=\"color: Reset;background-color: Reset;\"> </span><span style=\"color: Reset;background-color: Reset;\"> </span><span style=\"color: Reset;background-color: Reset;\"> </span><span style=\"color: Reset;background-color: Reset;\"> </span><span style=\"color: Reset;background-color: Reset;\"> </span><span style=\"color: Reset;background-color: Reset;\"> </span><span style=\"color: Reset;background-color: Reset;\"> </span><span style=\"color: Reset;background-color: Reset;\"> </span><span style=\"color: Reset;background-color: Reset;\"> </span><span style=\"color: Reset;background-color: Reset;\"> </span><span style=\"color: Reset;background-color: Reset;\"> </span><span style=\"color: Reset;background-color: Reset;\"> </span><span style=\"color: Reset;background-color: Reset;\"> </span><span style=\"color: Reset;background-color: Reset;\"> </span><span style=\"color: Reset;background-color: Reset;\"> </span><span style=\"color: Reset;background-color: Reset;\">│</span>\n",
       "<span style=\"color: Reset;background-color: Reset;\">│</span><span style=\"color: Reset;background-color: Reset;\"> </span><span style=\"color: Reset;background-color: Reset;\"> </span><span style=\"color: Reset;background-color: Reset;\"> </span><span style=\"color: Reset;background-color: Reset;\"> </span><span style=\"color: Reset;background-color: Reset;\"> </span><span style=\"color: Reset;background-color: Reset;\"> </span><span style=\"color: Reset;background-color: Reset;\"> </span><span style=\"color: Reset;background-color: Reset;\"> </span><span style=\"color: Reset;background-color: Reset;\"> </span><span style=\"color: Reset;background-color: Reset;\"> </span><span style=\"color: Reset;background-color: Reset;\"> </span><span style=\"color: Reset;background-color: Reset;\"> </span><span style=\"color: Reset;background-color: Reset;\"> </span><span style=\"color: Reset;background-color: Reset;\"> </span><span style=\"color: Reset;background-color: Reset;\"> </span><span style=\"color: Reset;background-color: Reset;\"> </span><span style=\"color: Reset;background-color: Reset;\"> </span><span style=\"color: Reset;background-color: Reset;\"> </span><span style=\"color: Reset;background-color: Reset;\"> </span><span style=\"color: Reset;background-color: Reset;\"> </span><span style=\"color: Reset;background-color: Reset;\"> </span><span style=\"color: Reset;background-color: Reset;\"> </span><span style=\"color: Reset;background-color: Reset;\"> </span><span style=\"color: Reset;background-color: Reset;\">│</span><span style=\"color: Reset;background-color: Reset;\">│</span><span style=\"color: Reset;background-color: Reset;\"> </span><span style=\"color: Reset;background-color: Reset;\"> </span><span style=\"color: Reset;background-color: Reset;\"> </span><span style=\"color: Reset;background-color: Reset;\"> </span><span style=\"color: Reset;background-color: Reset;\"> </span><span style=\"color: Reset;background-color: Reset;\"> </span><span style=\"color: Reset;background-color: Reset;\"> </span><span style=\"color: Reset;background-color: Reset;\"> </span><span style=\"color: Reset;background-color: Reset;\"> </span><span style=\"color: Reset;background-color: Reset;\"> </span><span style=\"color: Reset;background-color: Reset;\"> </span><span style=\"color: Reset;background-color: Reset;\"> </span><span style=\"color: Reset;background-color: Reset;\"> </span><span style=\"color: Reset;background-color: Reset;\"> </span><span style=\"color: Reset;background-color: Reset;\"> </span><span style=\"color: Reset;background-color: Reset;\"> </span><span style=\"color: Reset;background-color: Reset;\"> </span><span style=\"color: Reset;background-color: Reset;\"> </span><span style=\"color: Reset;background-color: Reset;\"> </span><span style=\"color: Reset;background-color: Reset;\"> </span><span style=\"color: Reset;background-color: Reset;\"> </span><span style=\"color: Reset;background-color: Reset;\"> </span><span style=\"color: Reset;background-color: Reset;\"> </span><span style=\"color: Reset;background-color: Reset;\">│</span>\n",
       "<span style=\"color: Reset;background-color: Reset;\">│</span><span style=\"color: Reset;background-color: Reset;\"> </span><span style=\"color: Reset;background-color: Reset;\"> </span><span style=\"color: Reset;background-color: Reset;\"> </span><span style=\"color: Reset;background-color: Reset;\"> </span><span style=\"color: Reset;background-color: Reset;\"> </span><span style=\"color: Reset;background-color: Reset;\"> </span><span style=\"color: Reset;background-color: Reset;\"> </span><span style=\"color: Reset;background-color: Reset;\"> </span><span style=\"color: Reset;background-color: Reset;\"> </span><span style=\"color: Reset;background-color: Reset;\"> </span><span style=\"color: Reset;background-color: Reset;\"> </span><span style=\"color: Reset;background-color: Reset;\"> </span><span style=\"color: Reset;background-color: Reset;\"> </span><span style=\"color: Reset;background-color: Reset;\"> </span><span style=\"color: Reset;background-color: Reset;\"> </span><span style=\"color: Reset;background-color: Reset;\"> </span><span style=\"color: Reset;background-color: Reset;\"> </span><span style=\"color: Reset;background-color: Reset;\"> </span><span style=\"color: Reset;background-color: Reset;\"> </span><span style=\"color: Reset;background-color: Reset;\"> </span><span style=\"color: Reset;background-color: Reset;\"> </span><span style=\"color: Reset;background-color: Reset;\"> </span><span style=\"color: Reset;background-color: Reset;\"> </span><span style=\"color: Reset;background-color: Reset;\">│</span><span style=\"color: Reset;background-color: Reset;\">│</span><span style=\"color: Reset;background-color: Reset;\"> </span><span style=\"color: Reset;background-color: Reset;\"> </span><span style=\"color: Reset;background-color: Reset;\"> </span><span style=\"color: Reset;background-color: Reset;\"> </span><span style=\"color: Reset;background-color: Reset;\"> </span><span style=\"color: Reset;background-color: Reset;\"> </span><span style=\"color: Reset;background-color: Reset;\"> </span><span style=\"color: Reset;background-color: Reset;\"> </span><span style=\"color: Reset;background-color: Reset;\"> </span><span style=\"color: Reset;background-color: Reset;\"> </span><span style=\"color: Reset;background-color: Reset;\"> </span><span style=\"color: Reset;background-color: Reset;\"> </span><span style=\"color: Reset;background-color: Reset;\"> </span><span style=\"color: Reset;background-color: Reset;\"> </span><span style=\"color: Reset;background-color: Reset;\"> </span><span style=\"color: Reset;background-color: Reset;\"> </span><span style=\"color: Reset;background-color: Reset;\"> </span><span style=\"color: Reset;background-color: Reset;\"> </span><span style=\"color: Reset;background-color: Reset;\"> </span><span style=\"color: Reset;background-color: Reset;\"> </span><span style=\"color: Reset;background-color: Reset;\"> </span><span style=\"color: Reset;background-color: Reset;\"> </span><span style=\"color: Reset;background-color: Reset;\"> </span><span style=\"color: Reset;background-color: Reset;\">│</span>\n",
       "<span style=\"color: Reset;background-color: Reset;\">└</span><span style=\"color: Reset;background-color: Reset;\">─</span><span style=\"color: Reset;background-color: Reset;\">─</span><span style=\"color: Reset;background-color: Reset;\">─</span><span style=\"color: Reset;background-color: Reset;\">─</span><span style=\"color: Reset;background-color: Reset;\">─</span><span style=\"color: Reset;background-color: Reset;\">─</span><span style=\"color: Reset;background-color: Reset;\">─</span><span style=\"color: Reset;background-color: Reset;\">─</span><span style=\"color: Reset;background-color: Reset;\">─</span><span style=\"color: Reset;background-color: Reset;\">─</span><span style=\"color: Reset;background-color: Reset;\">─</span><span style=\"color: Reset;background-color: Reset;\">─</span><span style=\"color: Reset;background-color: Reset;\">─</span><span style=\"color: Reset;background-color: Reset;\">─</span><span style=\"color: Reset;background-color: Reset;\">─</span><span style=\"color: Reset;background-color: Reset;\">─</span><span style=\"color: Reset;background-color: Reset;\">─</span><span style=\"color: Reset;background-color: Reset;\">─</span><span style=\"color: Reset;background-color: Reset;\">─</span><span style=\"color: Reset;background-color: Reset;\">─</span><span style=\"color: Reset;background-color: Reset;\">─</span><span style=\"color: Reset;background-color: Reset;\">─</span><span style=\"color: Reset;background-color: Reset;\">─</span><span style=\"color: Reset;background-color: Reset;\">┘</span><span style=\"color: Reset;background-color: Reset;\">└</span><span style=\"color: Reset;background-color: Reset;\">─</span><span style=\"color: Reset;background-color: Reset;\">─</span><span style=\"color: Reset;background-color: Reset;\">─</span><span style=\"color: Reset;background-color: Reset;\">─</span><span style=\"color: Reset;background-color: Reset;\">─</span><span style=\"color: Reset;background-color: Reset;\">─</span><span style=\"color: Reset;background-color: Reset;\">─</span><span style=\"color: Reset;background-color: Reset;\">─</span><span style=\"color: Reset;background-color: Reset;\">─</span><span style=\"color: Reset;background-color: Reset;\">─</span><span style=\"color: Reset;background-color: Reset;\">─</span><span style=\"color: Reset;background-color: Reset;\">─</span><span style=\"color: Reset;background-color: Reset;\">─</span><span style=\"color: Reset;background-color: Reset;\">─</span><span style=\"color: Reset;background-color: Reset;\">─</span><span style=\"color: Reset;background-color: Reset;\">─</span><span style=\"color: Reset;background-color: Reset;\">─</span><span style=\"color: Reset;background-color: Reset;\">─</span><span style=\"color: Reset;background-color: Reset;\">─</span><span style=\"color: Reset;background-color: Reset;\">─</span><span style=\"color: Reset;background-color: Reset;\">─</span><span style=\"color: Reset;background-color: Reset;\">─</span><span style=\"color: Reset;background-color: Reset;\">─</span><span style=\"color: Reset;background-color: Reset;\">┘</span>\n",
       "</code></pre>\n",
       "</div>"
      ],
      "text/plain": [
       "()"
      ]
     },
     "execution_count": 18,
     "metadata": {},
     "output_type": "execute_result"
    }
   ],
   "source": [
    "use ratatui_macros::{horizontal, vertical};\n",
    "\n",
    "let (x, y, width, height) = (0, 0, 50, 6); \n",
    "let area = ratatui::layout::Rect::new(x, y, width, height);\n",
    "\n",
    "let mut buf = ratatui::buffer::Buffer::empty(area);\n",
    "\n",
    "let [sidebar, main] = horizontal![<= (area.width / 2), *=1].areas(area);\n",
    "\n",
    "ratatui::widgets::Block::bordered().title(\"sidebar\").render(sidebar, &mut buf);\n",
    "ratatui::widgets::Block::bordered().title(\"main\").render(main, &mut buf);\n",
    "\n",
    "show_html(buffer_to_html(&buf))"
   ]
  },
  {
   "cell_type": "code",
   "execution_count": 19,
   "id": "1f5a85db-fee7-4cae-8794-1ed0e5bcfba1",
   "metadata": {
    "execution": {
     "iopub.execute_input": "2024-06-01T08:56:34.253894+00:00",
     "iopub.status.busy": "2024-06-01T08:56:34.253800+00:00",
     "iopub.status.idle": "2024-06-01T08:56:34.253856+00:00",
     "shell.execute_reply": "2024-06-01T08:56:34.939410+00:00"
    }
   },
   "outputs": [
    {
     "data": {
      "text/html": [
       "<div style=\"display: flex; justify-content:start; gap: 1em; margin: 1em\">\n",
       "<pre><code><span style=\"color: Reset;background-color: Reset;\">┌</span><span style=\"color: Reset;background-color: Reset;\">s</span><span style=\"color: Reset;background-color: Reset;\">i</span><span style=\"color: Reset;background-color: Reset;\">d</span><span style=\"color: Reset;background-color: Reset;\">e</span><span style=\"color: Reset;background-color: Reset;\">b</span><span style=\"color: Reset;background-color: Reset;\">a</span><span style=\"color: Reset;background-color: Reset;\">r</span><span style=\"color: Reset;background-color: Reset;\">─</span><span style=\"color: Reset;background-color: Reset;\">─</span><span style=\"color: Reset;background-color: Reset;\">─</span><span style=\"color: Reset;background-color: Reset;\">─</span><span style=\"color: Reset;background-color: Reset;\">─</span><span style=\"color: Reset;background-color: Reset;\">─</span><span style=\"color: Reset;background-color: Reset;\">─</span><span style=\"color: Reset;background-color: Reset;\">─</span><span style=\"color: Reset;background-color: Reset;\">─</span><span style=\"color: Reset;background-color: Reset;\">─</span><span style=\"color: Reset;background-color: Reset;\">─</span><span style=\"color: Reset;background-color: Reset;\">┐</span><span style=\"color: Reset;background-color: Reset;\">┌</span><span style=\"color: Reset;background-color: Reset;\">m</span><span style=\"color: Reset;background-color: Reset;\">a</span><span style=\"color: Reset;background-color: Reset;\">i</span><span style=\"color: Reset;background-color: Reset;\">n</span><span style=\"color: Reset;background-color: Reset;\">─</span><span style=\"color: Reset;background-color: Reset;\">─</span><span style=\"color: Reset;background-color: Reset;\">─</span><span style=\"color: Reset;background-color: Reset;\">─</span><span style=\"color: Reset;background-color: Reset;\">┐</span>\n",
       "<span style=\"color: Reset;background-color: Reset;\">│</span><span style=\"color: Reset;background-color: Reset;\"> </span><span style=\"color: Reset;background-color: Reset;\"> </span><span style=\"color: Reset;background-color: Reset;\"> </span><span style=\"color: Reset;background-color: Reset;\"> </span><span style=\"color: Reset;background-color: Reset;\"> </span><span style=\"color: Reset;background-color: Reset;\"> </span><span style=\"color: Reset;background-color: Reset;\"> </span><span style=\"color: Reset;background-color: Reset;\"> </span><span style=\"color: Reset;background-color: Reset;\"> </span><span style=\"color: Reset;background-color: Reset;\"> </span><span style=\"color: Reset;background-color: Reset;\"> </span><span style=\"color: Reset;background-color: Reset;\"> </span><span style=\"color: Reset;background-color: Reset;\"> </span><span style=\"color: Reset;background-color: Reset;\"> </span><span style=\"color: Reset;background-color: Reset;\"> </span><span style=\"color: Reset;background-color: Reset;\"> </span><span style=\"color: Reset;background-color: Reset;\"> </span><span style=\"color: Reset;background-color: Reset;\"> </span><span style=\"color: Reset;background-color: Reset;\">│</span><span style=\"color: Reset;background-color: Reset;\">│</span><span style=\"color: Reset;background-color: Reset;\"> </span><span style=\"color: Reset;background-color: Reset;\"> </span><span style=\"color: Reset;background-color: Reset;\"> </span><span style=\"color: Reset;background-color: Reset;\"> </span><span style=\"color: Reset;background-color: Reset;\"> </span><span style=\"color: Reset;background-color: Reset;\"> </span><span style=\"color: Reset;background-color: Reset;\"> </span><span style=\"color: Reset;background-color: Reset;\"> </span><span style=\"color: Reset;background-color: Reset;\">│</span>\n",
       "<span style=\"color: Reset;background-color: Reset;\">│</span><span style=\"color: Reset;background-color: Reset;\"> </span><span style=\"color: Reset;background-color: Reset;\"> </span><span style=\"color: Reset;background-color: Reset;\"> </span><span style=\"color: Reset;background-color: Reset;\"> </span><span style=\"color: Reset;background-color: Reset;\"> </span><span style=\"color: Reset;background-color: Reset;\"> </span><span style=\"color: Reset;background-color: Reset;\"> </span><span style=\"color: Reset;background-color: Reset;\"> </span><span style=\"color: Reset;background-color: Reset;\"> </span><span style=\"color: Reset;background-color: Reset;\"> </span><span style=\"color: Reset;background-color: Reset;\"> </span><span style=\"color: Reset;background-color: Reset;\"> </span><span style=\"color: Reset;background-color: Reset;\"> </span><span style=\"color: Reset;background-color: Reset;\"> </span><span style=\"color: Reset;background-color: Reset;\"> </span><span style=\"color: Reset;background-color: Reset;\"> </span><span style=\"color: Reset;background-color: Reset;\"> </span><span style=\"color: Reset;background-color: Reset;\"> </span><span style=\"color: Reset;background-color: Reset;\">│</span><span style=\"color: Reset;background-color: Reset;\">│</span><span style=\"color: Reset;background-color: Reset;\"> </span><span style=\"color: Reset;background-color: Reset;\"> </span><span style=\"color: Reset;background-color: Reset;\"> </span><span style=\"color: Reset;background-color: Reset;\"> </span><span style=\"color: Reset;background-color: Reset;\"> </span><span style=\"color: Reset;background-color: Reset;\"> </span><span style=\"color: Reset;background-color: Reset;\"> </span><span style=\"color: Reset;background-color: Reset;\"> </span><span style=\"color: Reset;background-color: Reset;\">│</span>\n",
       "<span style=\"color: Reset;background-color: Reset;\">│</span><span style=\"color: Reset;background-color: Reset;\"> </span><span style=\"color: Reset;background-color: Reset;\"> </span><span style=\"color: Reset;background-color: Reset;\"> </span><span style=\"color: Reset;background-color: Reset;\"> </span><span style=\"color: Reset;background-color: Reset;\"> </span><span style=\"color: Reset;background-color: Reset;\"> </span><span style=\"color: Reset;background-color: Reset;\"> </span><span style=\"color: Reset;background-color: Reset;\"> </span><span style=\"color: Reset;background-color: Reset;\"> </span><span style=\"color: Reset;background-color: Reset;\"> </span><span style=\"color: Reset;background-color: Reset;\"> </span><span style=\"color: Reset;background-color: Reset;\"> </span><span style=\"color: Reset;background-color: Reset;\"> </span><span style=\"color: Reset;background-color: Reset;\"> </span><span style=\"color: Reset;background-color: Reset;\"> </span><span style=\"color: Reset;background-color: Reset;\"> </span><span style=\"color: Reset;background-color: Reset;\"> </span><span style=\"color: Reset;background-color: Reset;\"> </span><span style=\"color: Reset;background-color: Reset;\">│</span><span style=\"color: Reset;background-color: Reset;\">│</span><span style=\"color: Reset;background-color: Reset;\"> </span><span style=\"color: Reset;background-color: Reset;\"> </span><span style=\"color: Reset;background-color: Reset;\"> </span><span style=\"color: Reset;background-color: Reset;\"> </span><span style=\"color: Reset;background-color: Reset;\"> </span><span style=\"color: Reset;background-color: Reset;\"> </span><span style=\"color: Reset;background-color: Reset;\"> </span><span style=\"color: Reset;background-color: Reset;\"> </span><span style=\"color: Reset;background-color: Reset;\">│</span>\n",
       "<span style=\"color: Reset;background-color: Reset;\">│</span><span style=\"color: Reset;background-color: Reset;\"> </span><span style=\"color: Reset;background-color: Reset;\"> </span><span style=\"color: Reset;background-color: Reset;\"> </span><span style=\"color: Reset;background-color: Reset;\"> </span><span style=\"color: Reset;background-color: Reset;\"> </span><span style=\"color: Reset;background-color: Reset;\"> </span><span style=\"color: Reset;background-color: Reset;\"> </span><span style=\"color: Reset;background-color: Reset;\"> </span><span style=\"color: Reset;background-color: Reset;\"> </span><span style=\"color: Reset;background-color: Reset;\"> </span><span style=\"color: Reset;background-color: Reset;\"> </span><span style=\"color: Reset;background-color: Reset;\"> </span><span style=\"color: Reset;background-color: Reset;\"> </span><span style=\"color: Reset;background-color: Reset;\"> </span><span style=\"color: Reset;background-color: Reset;\"> </span><span style=\"color: Reset;background-color: Reset;\"> </span><span style=\"color: Reset;background-color: Reset;\"> </span><span style=\"color: Reset;background-color: Reset;\"> </span><span style=\"color: Reset;background-color: Reset;\">│</span><span style=\"color: Reset;background-color: Reset;\">│</span><span style=\"color: Reset;background-color: Reset;\"> </span><span style=\"color: Reset;background-color: Reset;\"> </span><span style=\"color: Reset;background-color: Reset;\"> </span><span style=\"color: Reset;background-color: Reset;\"> </span><span style=\"color: Reset;background-color: Reset;\"> </span><span style=\"color: Reset;background-color: Reset;\"> </span><span style=\"color: Reset;background-color: Reset;\"> </span><span style=\"color: Reset;background-color: Reset;\"> </span><span style=\"color: Reset;background-color: Reset;\">│</span>\n",
       "<span style=\"color: Reset;background-color: Reset;\">└</span><span style=\"color: Reset;background-color: Reset;\">─</span><span style=\"color: Reset;background-color: Reset;\">─</span><span style=\"color: Reset;background-color: Reset;\">─</span><span style=\"color: Reset;background-color: Reset;\">─</span><span style=\"color: Reset;background-color: Reset;\">─</span><span style=\"color: Reset;background-color: Reset;\">─</span><span style=\"color: Reset;background-color: Reset;\">─</span><span style=\"color: Reset;background-color: Reset;\">─</span><span style=\"color: Reset;background-color: Reset;\">─</span><span style=\"color: Reset;background-color: Reset;\">─</span><span style=\"color: Reset;background-color: Reset;\">─</span><span style=\"color: Reset;background-color: Reset;\">─</span><span style=\"color: Reset;background-color: Reset;\">─</span><span style=\"color: Reset;background-color: Reset;\">─</span><span style=\"color: Reset;background-color: Reset;\">─</span><span style=\"color: Reset;background-color: Reset;\">─</span><span style=\"color: Reset;background-color: Reset;\">─</span><span style=\"color: Reset;background-color: Reset;\">─</span><span style=\"color: Reset;background-color: Reset;\">┘</span><span style=\"color: Reset;background-color: Reset;\">└</span><span style=\"color: Reset;background-color: Reset;\">─</span><span style=\"color: Reset;background-color: Reset;\">─</span><span style=\"color: Reset;background-color: Reset;\">─</span><span style=\"color: Reset;background-color: Reset;\">─</span><span style=\"color: Reset;background-color: Reset;\">─</span><span style=\"color: Reset;background-color: Reset;\">─</span><span style=\"color: Reset;background-color: Reset;\">─</span><span style=\"color: Reset;background-color: Reset;\">─</span><span style=\"color: Reset;background-color: Reset;\">┘</span>\n",
       "</code></pre>\n",
       "</div>"
      ],
      "text/plain": [
       "()"
      ]
     },
     "execution_count": 19,
     "metadata": {},
     "output_type": "execute_result"
    }
   ],
   "source": [
    "use ratatui_macros::{horizontal, vertical};\n",
    "\n",
    "let (x, y, width, height) = (0, 0, 30, 6); \n",
    "let area = ratatui::layout::Rect::new(x, y, width, height);\n",
    "\n",
    "let mut buf = ratatui::buffer::Buffer::empty(area);\n",
    "\n",
    "let [sidebar, main] = horizontal![>=20, *=1].areas(area);\n",
    "\n",
    "ratatui::widgets::Block::bordered().title(\"sidebar\").render(sidebar, &mut buf);\n",
    "ratatui::widgets::Block::bordered().title(\"main\").render(main, &mut buf);\n",
    "\n",
    "show_html(buffer_to_html(&buf))"
   ]
  },
  {
   "cell_type": "markdown",
   "id": "405894c8-695d-44b1-8ce2-e9ea7d49552e",
   "metadata": {},
   "source": [
    "You can combine this behavior to make dynamic layouts:"
   ]
  },
  {
   "cell_type": "code",
   "execution_count": 23,
   "id": "7003ea5a-368f-4b22-abe5-19ad0de57272",
   "metadata": {
    "execution": {
     "iopub.execute_input": "2024-06-01T08:59:35.211342+00:00",
     "iopub.status.busy": "2024-06-01T08:59:35.211216+00:00",
     "iopub.status.idle": "2024-06-01T08:59:35.211311+00:00",
     "shell.execute_reply": "2024-06-01T08:59:35.744462+00:00"
    }
   },
   "outputs": [],
   "source": [
    "let [sidebar, main] = if area.width > 30 {\n",
    "    horizontal![<= (area.width / 2), *=1].areas(area)\n",
    "} else {\n",
    "    horizontal![>=20, *=1].areas(area)\n",
    "};"
   ]
  },
  {
   "cell_type": "markdown",
   "id": "0b63dad5-b620-423d-84bd-c88c605ce9f0",
   "metadata": {},
   "source": [
    "Or even:"
   ]
  },
  {
   "cell_type": "code",
   "execution_count": 25,
   "id": "9529caa0-6f98-4b79-b227-82ed7f7c4f67",
   "metadata": {
    "execution": {
     "iopub.execute_input": "2024-06-01T09:01:17.424424+00:00",
     "iopub.status.busy": "2024-06-01T09:01:17.424286+00:00",
     "iopub.status.idle": "2024-06-01T09:01:17.424391+00:00",
     "shell.execute_reply": "2024-06-01T09:01:17.965705+00:00"
    }
   },
   "outputs": [],
   "source": [
    "let [sidebar, main] = horizontal![<= (area.width / 2), *=1].areas(area);\n",
    "\n",
    "let [sidebar, main] = if sidebar.width < 20 {\n",
    "    horizontal![>=20, *=1].areas(area)    \n",
    "} else {\n",
    "    [sidebar, main]\n",
    "};"
   ]
  },
  {
   "cell_type": "markdown",
   "id": "4670d851-89f6-41b5-8ab1-934da1ba1a95",
   "metadata": {},
   "source": [
    "## Conclusion"
   ]
  },
  {
   "cell_type": "markdown",
   "id": "4983556c-34e6-4ebf-93f1-29d09f881aaf",
   "metadata": {},
   "source": [
    "In the next post, we'll examine how text primitives work."
   ]
  },
  {
   "cell_type": "code",
   "execution_count": null,
   "id": "b6011123-57ba-444c-ad7b-d21f554a9739",
   "metadata": {},
   "outputs": [],
   "source": []
  },
  {
   "cell_type": "code",
   "execution_count": null,
   "id": "b3a7ccbc-e90a-459f-ba40-62977bb7648d",
   "metadata": {},
   "outputs": [],
   "source": []
  },
  {
   "cell_type": "code",
   "execution_count": null,
   "id": "3ddda790-b913-4641-9180-8bd1cc38734e",
   "metadata": {},
   "outputs": [],
   "source": []
  },
  {
   "cell_type": "code",
   "execution_count": null,
   "id": "b1965eb0-43a1-4701-b3ae-757ff66ab8fa",
   "metadata": {},
   "outputs": [],
   "source": []
  },
  {
   "cell_type": "code",
   "execution_count": null,
   "id": "ca4a46f6-013f-4ed7-9dd1-6f1b54ab4f74",
   "metadata": {},
   "outputs": [],
   "source": []
  }
 ],
 "metadata": {
  "kernelspec": {
   "display_name": "Rust",
   "language": "rust",
   "name": "rust"
  },
  "language_info": {
   "codemirror_mode": "rust",
   "file_extension": ".rs",
   "mimetype": "text/rust",
   "name": "Rust",
   "pygment_lexer": "rust",
   "version": ""
  },
  "widgets": {
   "application/vnd.jupyter.widget-state+json": {
    "state": {},
    "version_major": 2,
    "version_minor": 0
   }
  }
 },
 "nbformat": 4,
 "nbformat_minor": 5
}
