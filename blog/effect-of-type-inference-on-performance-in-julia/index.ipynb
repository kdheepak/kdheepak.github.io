{
 "cells": [
  {
   "cell_type": "raw",
   "id": "aaa69d60-433e-4721-82be-bc648b59dc95",
   "metadata": {},
   "source": [
    "---\n",
    "title: Effect of type inference on performance in Julia\n",
    "categories:\n",
    "  - julia\n",
    "keywords: julia\n",
    "date: '2024-04-21T00:27:32-0400'\n",
    "---"
   ]
  },
  {
   "cell_type": "code",
   "execution_count": 21,
   "id": "5f4bcdc1-37f3-4724-bd36-64d6b1517e66",
   "metadata": {
    "execution": {
     "iopub.execute_input": "2024-04-21T11:13:37.991",
     "iopub.status.busy": "2024-04-21T11:13:37.991",
     "iopub.status.idle": "2024-04-21T11:13:38.045",
     "shell.execute_reply": "2024-04-21T11:13:38.045"
    }
   },
   "outputs": [
    {
     "name": "stderr",
     "output_type": "stream",
     "text": [
      "\u001b[32m\u001b[1m  Activating\u001b[22m\u001b[39m project at `~/gitrepos/kdheepak.github.io/blog/effect-of-type-inference-on-performance-in-julia`\n"
     ]
    }
   ],
   "source": [
    "#| include: false\n",
    "using Pkg\n",
    "Pkg.activate(@__DIR__)\n",
    "Pkg.instantiate()\n",
    "cd(@__DIR__)"
   ]
  },
  {
   "cell_type": "markdown",
   "id": "80cdadec-fadf-4a6b-a2d5-1cf5a387da24",
   "metadata": {},
   "source": [
    "To ensure that the code you write in Julia executes fast and efficiently, there's a number of general tips and guidelines that you can follow. You can find a full list of useful tips the [Performance Tips] section in the official manual.\n",
    "\n",
    "[Performance Tips]: https://docs.julialang.org/en/v1/manual/performance-tips/\n",
    "\n",
    "In this blog post, I want to touch on one specific performance tip: using containers with concrete type parameters and how type inference can affect that."
   ]
  },
  {
   "cell_type": "markdown",
   "id": "c1f887ee-d274-4e01-a73b-451dae67f060",
   "metadata": {},
   "source": [
    "# Toy problem"
   ]
  },
  {
   "cell_type": "markdown",
   "id": "7ed2a55d-365a-4a1f-ab96-59cc14bd4fdd",
   "metadata": {},
   "source": [
    "Let's define a toy problem to work with."
   ]
  },
  {
   "cell_type": "code",
   "execution_count": 22,
   "id": "b1e5ad21-3024-4076-9b16-f5d4c4ca4663",
   "metadata": {
    "execution": {
     "iopub.execute_input": "2024-04-21T11:13:38.635",
     "iopub.status.busy": "2024-04-21T11:13:38.635",
     "iopub.status.idle": "2024-04-21T11:13:38.659",
     "shell.execute_reply": "2024-04-21T11:13:38.659"
    }
   },
   "outputs": [],
   "source": [
    "abstract type Shape end\n",
    "area(::Shape) = 0.0\n",
    "\n",
    "@kwdef struct Square <: Shape\n",
    "    side::Float64 = rand()\n",
    "end\n",
    "area(s::Square) = s.side * s.side\n",
    "    \n",
    "@kwdef struct Rectangle <: Shape\n",
    "    width::Float64 = rand()\n",
    "    height::Float64 = rand()\n",
    "end\n",
    "area(r::Rectangle) = r.width * r.height\n",
    "    \n",
    "@kwdef struct Triangle <: Shape\n",
    "    base::Float64 = rand()\n",
    "    height::Float64 = rand()\n",
    "end\n",
    "area(t::Triangle) = 1.0/2.0 * t.base * t.height\n",
    "\n",
    "@kwdef struct Circle <: Shape\n",
    "    radius::Float64 = rand()\n",
    "end\n",
    "area(c::Circle) = π * c.radius^2\n",
    "\n",
    "nothing #| hide_line"
   ]
  },
  {
   "cell_type": "markdown",
   "id": "f80657bd-d1f4-48d5-bd4e-e82fd4841fff",
   "metadata": {},
   "source": [
    "We can use the builtin `Test` module to check that the code we wrote is correct."
   ]
  },
  {
   "cell_type": "code",
   "execution_count": 23,
   "id": "31a5cc81-a7e4-401c-ad44-c91ab139d0f9",
   "metadata": {
    "execution": {
     "iopub.execute_input": "2024-04-21T11:13:38.952",
     "iopub.status.busy": "2024-04-21T11:13:38.952",
     "iopub.status.idle": "2024-04-21T11:13:39.228",
     "shell.execute_reply": "2024-04-21T11:13:39.228"
    }
   },
   "outputs": [
    {
     "name": "stdout",
     "output_type": "stream",
     "text": [
      "\u001b[0m\u001b[1mTest Summary: | \u001b[22m\u001b[32m\u001b[1mPass  \u001b[22m\u001b[39m\u001b[36m\u001b[1mTotal  \u001b[22m\u001b[39m\u001b[0m\u001b[1mTime\u001b[22m\n",
      "Areas         | \u001b[32m   4  \u001b[39m\u001b[36m    4  \u001b[39m\u001b[0m0.1s\n"
     ]
    }
   ],
   "source": [
    "using Test\n",
    "@testset \"Areas\" begin\n",
    "    @test area(Square(2)) == 4\n",
    "    @test area(Rectangle(2,3)) == 6\n",
    "    @test area(Triangle(2,3)) == 3\n",
    "    @test area(Circle(2)) ≈ 4π\n",
    "end\n",
    "nothing #| hide_line"
   ]
  },
  {
   "cell_type": "markdown",
   "id": "c815898b-d374-4ee0-9419-abac85631b7a",
   "metadata": {},
   "source": [
    "Let's build 1 million random shapes."
   ]
  },
  {
   "cell_type": "code",
   "execution_count": 24,
   "id": "89712b98-7612-43da-bc3e-f667abd7e2ee",
   "metadata": {
    "execution": {
     "iopub.execute_input": "2024-04-21T11:13:39.274",
     "iopub.status.busy": "2024-04-21T11:13:39.274",
     "iopub.status.idle": "2024-04-21T11:13:39.416",
     "shell.execute_reply": "2024-04-21T11:13:39.415"
    }
   },
   "outputs": [],
   "source": [
    "using Random\n",
    "Random.seed!(42)\n",
    "\n",
    "COUNT = 1_000_000\n",
    "shapes = [rand((Square,Rectangle,Triangle,Circle))() for _ in 1:COUNT]\n",
    "\n",
    "nothing #| hide_line"
   ]
  },
  {
   "cell_type": "code",
   "execution_count": 25,
   "id": "6cb04f19-d92e-401a-a475-746266921ac0",
   "metadata": {
    "execution": {
     "iopub.execute_input": "2024-04-21T11:13:39.437",
     "iopub.status.busy": "2024-04-21T11:13:39.437",
     "iopub.status.idle": "2024-04-21T11:13:39.502",
     "shell.execute_reply": "2024-04-21T11:13:39.502"
    }
   },
   "outputs": [
    {
     "data": {
      "text/latex": [
       "The total number of shapes we have in the array is 1,000,000.\n",
       "\n"
      ],
      "text/markdown": [
       "The total number of shapes we have in the array is 1,000,000.\n"
      ],
      "text/plain": [
       "  The total number of shapes we have in the array is 1,000,000."
      ]
     },
     "metadata": {},
     "output_type": "display_data"
    },
    {
     "data": {
      "text/latex": [
       "In the array, there's 249,740 squares, 249,980 rectangles,  249,831 triangles, and 250,449 circles.\n",
       "\n"
      ],
      "text/markdown": [
       "In the array, there's 249,740 squares, 249,980 rectangles,  249,831 triangles, and 250,449 circles.\n"
      ],
      "text/plain": [
       "  In the array, there's 249,740 squares, 249,980 rectangles, 249,831\n",
       "  triangles, and 250,449 circles."
      ]
     },
     "metadata": {},
     "output_type": "display_data"
    }
   ],
   "source": [
    "#| code-fold: true\n",
    "using Format\n",
    "using Markdown\n",
    "len = cfmt(\"%'d\", length(shapes))\n",
    "number_of(T) = cfmt(\"%'d\", count(s->isa(s, T), shapes))\n",
    "\n",
    "display(Markdown.md\"The total number of shapes we have in the array is $len.\")\n",
    "\n",
    "display(Markdown.md\"In the array, there's $(number_of(Square)) squares, $(number_of(Rectangle)) rectangles, \n",
    "$(number_of(Triangle)) triangles, and $(number_of(Circle)) circles.\")"
   ]
  },
  {
   "cell_type": "markdown",
   "id": "2437f582-6ab3-455b-8497-d675ecc6f855",
   "metadata": {},
   "source": [
    "# Type inference"
   ]
  },
  {
   "cell_type": "markdown",
   "id": "7cd0d9c6-d233-4615-8731-1fef61c5ffff",
   "metadata": {},
   "source": [
    "Here's the type trees for the `Shape`:"
   ]
  },
  {
   "cell_type": "code",
   "execution_count": 28,
   "id": "eff7f503-59de-4eb6-9a3e-30a764b3cf4d",
   "metadata": {
    "execution": {
     "iopub.execute_input": "2024-04-21T11:13:40.584",
     "iopub.status.busy": "2024-04-21T11:13:40.583",
     "iopub.status.idle": "2024-04-21T11:13:40.812",
     "shell.execute_reply": "2024-04-21T11:13:40.812"
    }
   },
   "outputs": [
    {
     "name": "stdout",
     "output_type": "stream",
     "text": [
      "Circle <: Shape <: Any\n",
      "Rectangle <: Shape <: Any\n",
      "Square <: Shape <: Any\n",
      "Triangle <: Shape <: Any\n"
     ]
    }
   ],
   "source": [
    "#| code-fold: true\n",
    "for s in subtypes(Shape)\n",
    "    println(join(string.(supertypes(s)), \" <: \"))\n",
    "end"
   ]
  },
  {
   "cell_type": "markdown",
   "id": "035f680d-702f-46ed-91fb-4ec63cdff7f4",
   "metadata": {},
   "source": [
    "By default, Julia will infer the generic type for a container as close to the bottom of the tree that fits all the data in that container.\n",
    "\n",
    "For example, if we just built a vector with the just `Square`s, Julia will infer the container to be `Vector{Square}`. But if there are different elements Julia will infer the generic type parameter as a `Shape`."
   ]
  },
  {
   "cell_type": "code",
   "execution_count": 53,
   "id": "2af0824b-d7f2-4903-be70-6566c54b1221",
   "metadata": {
    "execution": {
     "iopub.execute_input": "2024-04-22T00:10:10.251",
     "iopub.status.busy": "2024-04-22T00:10:10.251",
     "iopub.status.idle": "2024-04-22T00:10:10.481",
     "shell.execute_reply": "2024-04-22T00:10:10.481"
    }
   },
   "outputs": [
    {
     "name": "stdout",
     "output_type": "stream",
     "text": [
      "typeof([Square() for _ = 1:COUNT]) = Vector{Square}\n",
      "typeof([(rand((Square, Rectangle)))() for _ = 1:COUNT]) = Vector{Shape}\n"
     ]
    }
   ],
   "source": [
    "@show typeof([Square() for _ in 1:COUNT])\n",
    "@show typeof([rand((Square,Rectangle))() for _ in 1:COUNT])\n",
    "nothing #| hide_line"
   ]
  },
  {
   "cell_type": "markdown",
   "id": "73ecf46b-cf7f-4f44-8823-2106014792dc",
   "metadata": {},
   "source": [
    "Let's filter out shapes of a specific kind so that each array contains data of the same type. \n",
    "You might think to write this function like so:"
   ]
  },
  {
   "cell_type": "code",
   "execution_count": 30,
   "id": "c5ef2915-b4f5-4722-aef6-203bc056c28d",
   "metadata": {
    "execution": {
     "iopub.execute_input": "2024-04-21T11:13:41.235",
     "iopub.status.busy": "2024-04-21T11:13:41.234",
     "iopub.status.idle": "2024-04-21T11:13:41.241",
     "shell.execute_reply": "2024-04-21T11:13:41.239"
    }
   },
   "outputs": [],
   "source": [
    "bad_shapes_by_type(::Type{T}, shapes) where T = filter(s -> isa(s, T), shapes);"
   ]
  },
  {
   "cell_type": "markdown",
   "id": "17344f66-94de-4c16-96c2-ca556fe433fa",
   "metadata": {},
   "source": [
    "Julia is a dynamic language. And it can be easy to accidentally construct a container with an abstract type for the type parameter of a generic type, even if there is only one type in container.\n",
    "\n",
    "For example, this `bad_shapes_by_type` returns a `Vector{Shape}`."
   ]
  },
  {
   "cell_type": "code",
   "execution_count": 31,
   "id": "663e79c1-c9b6-4685-b8c7-1c5599351040",
   "metadata": {
    "execution": {
     "iopub.execute_input": "2024-04-21T11:13:41.591",
     "iopub.status.busy": "2024-04-21T11:13:41.591",
     "iopub.status.idle": "2024-04-21T11:13:41.668",
     "shell.execute_reply": "2024-04-21T11:13:41.668"
    }
   },
   "outputs": [
    {
     "name": "stdout",
     "output_type": "stream",
     "text": [
      "typeof(shape_arr1) = Vector{Shape}\n",
      "typeof(shape_arr2) = Vector{Shape}\n",
      "typeof(shape_arr3) = Vector{Shape}\n",
      "typeof(shape_arr4) = Vector{Shape}\n"
     ]
    }
   ],
   "source": [
    "shape_arr1 = bad_shapes_by_type(Square, shapes)\n",
    "shape_arr2 = bad_shapes_by_type(Rectangle, shapes)\n",
    "shape_arr3 = bad_shapes_by_type(Triangle, shapes)\n",
    "shape_arr4 = bad_shapes_by_type(Circle, shapes)\n",
    "\n",
    "@show typeof(shape_arr1)\n",
    "@show typeof(shape_arr2)\n",
    "@show typeof(shape_arr3)\n",
    "@show typeof(shape_arr4)\n",
    "\n",
    "nothing #| hide_line"
   ]
  },
  {
   "cell_type": "markdown",
   "id": "5c330d87-4493-48de-b11c-f8a48655b552",
   "metadata": {},
   "source": [
    "This can happen if the Julia compiler cannot infer the types at the \"compile time\" of the function.\n",
    "\n",
    "Here, `Shape` is an abstract type, even if `Vector{Shape}` is concrete."
   ]
  },
  {
   "cell_type": "code",
   "execution_count": 32,
   "id": "19f5214a-8321-4a40-965a-87f972acd061",
   "metadata": {
    "execution": {
     "iopub.execute_input": "2024-04-21T11:13:41.929",
     "iopub.status.busy": "2024-04-21T11:13:41.928",
     "iopub.status.idle": "2024-04-21T11:13:41.934",
     "shell.execute_reply": "2024-04-21T11:13:41.934"
    }
   },
   "outputs": [
    {
     "name": "stdout",
     "output_type": "stream",
     "text": [
      "isconcretetype(Shape) = false\n",
      "isconcretetype(Vector{Shape}) = true\n"
     ]
    }
   ],
   "source": [
    "@show isconcretetype(Shape)\n",
    "@show isconcretetype(Vector{Shape})\n",
    "nothing #| hide_line"
   ]
  },
  {
   "attachments": {},
   "cell_type": "markdown",
   "id": "ae16910a-a6c9-4558-a8a7-f1388567cec3",
   "metadata": {},
   "source": [
    "For better performance in Julia, it helps to have concrete types in the generic parameters for a container. \n",
    "We can do this by helping the compiler by in this case explicitly listing the generic type parameter before the brackets for constructing the array, i.e. `T[...]`."
   ]
  },
  {
   "cell_type": "code",
   "execution_count": 33,
   "id": "a49e7bce-6944-4982-9788-63af0b6908ae",
   "metadata": {
    "execution": {
     "iopub.execute_input": "2024-04-21T11:13:42.312",
     "iopub.status.busy": "2024-04-21T11:13:42.312",
     "iopub.status.idle": "2024-04-21T11:13:42.320",
     "shell.execute_reply": "2024-04-21T11:13:42.319"
    }
   },
   "outputs": [],
   "source": [
    "good_shapes_by_type(::Type{T}, shapes) where T = T[shape for shape in filter(s -> isa(s, T), shapes)];"
   ]
  },
  {
   "cell_type": "markdown",
   "id": "13c4af59-085f-438e-914d-9d4d1eb2332d",
   "metadata": {},
   "source": [
    "With this function, we get `Vector{Square}` for an array with only squares in it."
   ]
  },
  {
   "cell_type": "code",
   "execution_count": 34,
   "id": "db373b50-b4fe-4392-bf9b-3124e9a722a6",
   "metadata": {
    "execution": {
     "iopub.execute_input": "2024-04-21T11:13:42.482",
     "iopub.status.busy": "2024-04-21T11:13:42.482",
     "iopub.status.idle": "2024-04-21T11:13:42.609",
     "shell.execute_reply": "2024-04-21T11:13:42.609"
    }
   },
   "outputs": [
    {
     "name": "stdout",
     "output_type": "stream",
     "text": [
      "typeof(square_arr) = Vector{Square}\n",
      "typeof(rectangle_arr) = Vector{Rectangle}\n",
      "typeof(triangle_arr) = Vector{Triangle}\n",
      "typeof(circle_arr) = Vector{Circle}\n"
     ]
    }
   ],
   "source": [
    "square_arr = good_shapes_by_type(Square, shapes)\n",
    "rectangle_arr = good_shapes_by_type(Rectangle, shapes)\n",
    "triangle_arr = good_shapes_by_type(Triangle, shapes)\n",
    "circle_arr = good_shapes_by_type(Circle, shapes)\n",
    "\n",
    "@show typeof(square_arr)\n",
    "@show typeof(rectangle_arr)\n",
    "@show typeof(triangle_arr)\n",
    "@show typeof(circle_arr)\n",
    "\n",
    "nothing #| hide_line"
   ]
  },
  {
   "cell_type": "markdown",
   "id": "1110f0e2-101d-4c61-879b-cfb9a5deb39f",
   "metadata": {},
   "source": [
    "As we'll see in the next section, this can have drastic effects on performance."
   ]
  },
  {
   "cell_type": "markdown",
   "id": "98914115-997f-4d4b-a0a2-daf90b713dff",
   "metadata": {},
   "source": [
    "# Benchmarks"
   ]
  },
  {
   "cell_type": "markdown",
   "id": "16b64cb3-c53a-4cad-8dcd-91801e0a348c",
   "metadata": {},
   "source": [
    "Let's combine these arrays back into different vectors that have different type parameters for illustration purposes:"
   ]
  },
  {
   "cell_type": "code",
   "execution_count": 35,
   "id": "88bed1fb-5da1-4c41-97cf-328baa5c8a52",
   "metadata": {
    "execution": {
     "iopub.execute_input": "2024-04-21T11:13:43.050",
     "iopub.status.busy": "2024-04-21T11:13:43.049",
     "iopub.status.idle": "2024-04-21T11:13:43.406",
     "shell.execute_reply": "2024-04-21T11:13:43.406"
    }
   },
   "outputs": [
    {
     "name": "stdout",
     "output_type": "stream",
     "text": [
      "typeof(sorted_shapes_shape) = Vector{Shape}\n",
      "typeof(sorted_shapes_any) = Vector{Any}\n",
      "typeof(sorted_shapes_union) = Vector{Union{Circle, Rectangle, Square, Triangle}}\n"
     ]
    }
   ],
   "source": [
    "sorted_shapes_shape = vcat(square_arr, rectangle_arr, triangle_arr, circle_arr);\n",
    "sorted_shapes_any = Any[s for s in sorted_shapes_shape];\n",
    "sorted_shapes_union = Union{Square, Rectangle, Triangle, Circle}[s for s in sorted_shapes_shape];\n",
    "\n",
    "@show typeof(sorted_shapes_shape)\n",
    "@show typeof(sorted_shapes_any)\n",
    "@show typeof(sorted_shapes_union)\n",
    "\n",
    "nothing #| hide_line"
   ]
  },
  {
   "cell_type": "markdown",
   "id": "6e29d7cf-ece6-4c36-b361-bd676ad80d88",
   "metadata": {},
   "source": [
    "We can benchmark the performance of these different types using `BenchmarkTools`:"
   ]
  },
  {
   "cell_type": "code",
   "execution_count": 36,
   "id": "cb11a309-14c8-454d-b2e9-bc9ce4bab4ff",
   "metadata": {
    "execution": {
     "iopub.execute_input": "2024-04-21T11:13:43.406",
     "iopub.status.busy": "2024-04-21T11:13:43.406",
     "iopub.status.idle": "2024-04-21T11:13:43.407",
     "shell.execute_reply": "2024-04-21T11:13:43.407"
    }
   },
   "outputs": [],
   "source": [
    "using BenchmarkTools"
   ]
  },
  {
   "cell_type": "markdown",
   "id": "61b6d956-f1c7-48bf-b084-94e2d322bad7",
   "metadata": {},
   "source": [
    "Let's define a `main1` function that calculates the sum over all the `area`s of every element in an array."
   ]
  },
  {
   "cell_type": "code",
   "execution_count": 58,
   "id": "6a4a81e2-0de1-4b4a-a573-6c8dc1a41665",
   "metadata": {
    "execution": {
     "iopub.execute_input": "2024-04-22T00:20:08.050",
     "iopub.status.busy": "2024-04-22T00:20:08.050",
     "iopub.status.idle": "2024-04-22T00:20:08.071",
     "shell.execute_reply": "2024-04-22T00:20:08.071"
    }
   },
   "outputs": [
    {
     "data": {
      "text/plain": [
       "main1 (generic function with 1 method)"
      ]
     },
     "execution_count": 58,
     "metadata": {},
     "output_type": "execute_result"
    }
   ],
   "source": [
    "main1(arr) = sum(area, arr)"
   ]
  },
  {
   "cell_type": "markdown",
   "id": "0eedf0b7-213c-47fb-9d7e-50cfe93d6402",
   "metadata": {},
   "source": [
    "And let's run a benchmark for `sorted_shapes_shape` and `sorted_shapes_any`."
   ]
  },
  {
   "cell_type": "code",
   "execution_count": 37,
   "id": "6608a0dd-158d-45c0-9cf0-e15203e81afb",
   "metadata": {
    "execution": {
     "iopub.execute_input": "2024-04-21T11:13:43.771",
     "iopub.status.busy": "2024-04-21T11:13:43.771",
     "iopub.status.idle": "2024-04-21T11:13:55.557",
     "shell.execute_reply": "2024-04-21T11:13:55.557"
    }
   },
   "outputs": [
    {
     "name": "stdout",
     "output_type": "stream",
     "text": [
      "typeof(sorted_shapes_shape) = Vector{Shape}\n"
     ]
    },
    {
     "data": {
      "text/plain": [
       "BenchmarkTools.Trial: 149 samples with 1 evaluation.\n",
       " Range \u001b[90m(\u001b[39m\u001b[36m\u001b[1mmin\u001b[22m\u001b[39m … \u001b[35mmax\u001b[39m\u001b[90m):  \u001b[39m\u001b[36m\u001b[1m30.965 ms\u001b[22m\u001b[39m … \u001b[35m39.555 ms\u001b[39m  \u001b[90m┊\u001b[39m GC \u001b[90m(\u001b[39mmin … max\u001b[90m): \u001b[39m0.00% … 15.18%\n",
       " Time  \u001b[90m(\u001b[39m\u001b[34m\u001b[1mmedian\u001b[22m\u001b[39m\u001b[90m):     \u001b[39m\u001b[34m\u001b[1m31.960 ms              \u001b[22m\u001b[39m\u001b[90m┊\u001b[39m GC \u001b[90m(\u001b[39mmedian\u001b[90m):    \u001b[39m0.00%\n",
       " Time  \u001b[90m(\u001b[39m\u001b[32m\u001b[1mmean\u001b[22m\u001b[39m ± \u001b[32mσ\u001b[39m\u001b[90m):   \u001b[39m\u001b[32m\u001b[1m33.628 ms\u001b[22m\u001b[39m ± \u001b[32m 3.074 ms\u001b[39m  \u001b[90m┊\u001b[39m GC \u001b[90m(\u001b[39mmean ± σ\u001b[90m):  \u001b[39m5.43% ±  7.30%\n",
       "\n",
       "  \u001b[39m█\u001b[39m▇\u001b[39m \u001b[39m▁\u001b[39m \u001b[39m▁\u001b[39m \u001b[34m \u001b[39m\u001b[39m \u001b[39m \u001b[39m \u001b[39m \u001b[39m \u001b[39m \u001b[39m \u001b[39m \u001b[39m \u001b[39m \u001b[32m \u001b[39m\u001b[39m \u001b[39m \u001b[39m \u001b[39m \u001b[39m \u001b[39m \u001b[39m \u001b[39m \u001b[39m \u001b[39m \u001b[39m \u001b[39m \u001b[39m \u001b[39m \u001b[39m \u001b[39m \u001b[39m \u001b[39m \u001b[39m \u001b[39m \u001b[39m \u001b[39m \u001b[39m \u001b[39m \u001b[39m \u001b[39m \u001b[39m \u001b[39m \u001b[39m \u001b[39m \u001b[39m \u001b[39m \u001b[39m \u001b[39m \u001b[39m \u001b[39m \u001b[39m \u001b[39m \u001b[39m \u001b[39m \u001b[39m \u001b[39m \n",
       "  \u001b[39m█\u001b[39m█\u001b[39m▆\u001b[39m█\u001b[39m█\u001b[39m█\u001b[39m▆\u001b[34m▆\u001b[39m\u001b[39m▆\u001b[39m▄\u001b[39m▇\u001b[39m▃\u001b[39m▃\u001b[39m▃\u001b[39m▁\u001b[39m▁\u001b[39m▃\u001b[39m▁\u001b[32m▁\u001b[39m\u001b[39m▁\u001b[39m▁\u001b[39m▁\u001b[39m▁\u001b[39m▁\u001b[39m▁\u001b[39m▁\u001b[39m▁\u001b[39m▁\u001b[39m▁\u001b[39m▁\u001b[39m▁\u001b[39m▁\u001b[39m▁\u001b[39m▁\u001b[39m▁\u001b[39m▁\u001b[39m▁\u001b[39m▁\u001b[39m▁\u001b[39m▁\u001b[39m▁\u001b[39m▃\u001b[39m▁\u001b[39m▃\u001b[39m▃\u001b[39m▁\u001b[39m▅\u001b[39m▆\u001b[39m▅\u001b[39m▆\u001b[39m▄\u001b[39m█\u001b[39m▄\u001b[39m▃\u001b[39m▃\u001b[39m▁\u001b[39m▃\u001b[39m▁\u001b[39m▃\u001b[39m \u001b[39m▃\n",
       "  31 ms\u001b[90m           Histogram: frequency by time\u001b[39m        39.5 ms \u001b[0m\u001b[1m<\u001b[22m\n",
       "\n",
       " Memory estimate\u001b[90m: \u001b[39m\u001b[33m30.52 MiB\u001b[39m, allocs estimate\u001b[90m: \u001b[39m\u001b[33m1999999\u001b[39m."
      ]
     },
     "execution_count": 37,
     "metadata": {},
     "output_type": "execute_result"
    }
   ],
   "source": [
    "#| code-fold: true\n",
    "\n",
    "@show typeof(sorted_shapes_shape)\n",
    "@benchmark main1($sorted_shapes_shape)"
   ]
  },
  {
   "cell_type": "code",
   "execution_count": 38,
   "id": "87d39970-fb7e-4951-a2ba-e2564c72f183",
   "metadata": {
    "execution": {
     "iopub.execute_input": "2024-04-21T11:13:55.557",
     "iopub.status.busy": "2024-04-21T11:13:55.557",
     "iopub.status.idle": "2024-04-21T11:14:06.483",
     "shell.execute_reply": "2024-04-21T11:14:06.483"
    }
   },
   "outputs": [
    {
     "name": "stdout",
     "output_type": "stream",
     "text": [
      "typeof(sorted_shapes_any) = Vector{Any}\n"
     ]
    },
    {
     "data": {
      "text/plain": [
       "BenchmarkTools.Trial: 145 samples with 1 evaluation.\n",
       " Range \u001b[90m(\u001b[39m\u001b[36m\u001b[1mmin\u001b[22m\u001b[39m … \u001b[35mmax\u001b[39m\u001b[90m):  \u001b[39m\u001b[36m\u001b[1m31.421 ms\u001b[22m\u001b[39m … \u001b[35m41.560 ms\u001b[39m  \u001b[90m┊\u001b[39m GC \u001b[90m(\u001b[39mmin … max\u001b[90m): \u001b[39m0.00% … 15.62%\n",
       " Time  \u001b[90m(\u001b[39m\u001b[34m\u001b[1mmedian\u001b[22m\u001b[39m\u001b[90m):     \u001b[39m\u001b[34m\u001b[1m32.909 ms              \u001b[22m\u001b[39m\u001b[90m┊\u001b[39m GC \u001b[90m(\u001b[39mmedian\u001b[90m):    \u001b[39m0.00%\n",
       " Time  \u001b[90m(\u001b[39m\u001b[32m\u001b[1mmean\u001b[22m\u001b[39m ± \u001b[32mσ\u001b[39m\u001b[90m):   \u001b[39m\u001b[32m\u001b[1m34.479 ms\u001b[22m\u001b[39m ± \u001b[32m 3.233 ms\u001b[39m  \u001b[90m┊\u001b[39m GC \u001b[90m(\u001b[39mmean ± σ\u001b[90m):  \u001b[39m5.20% ±  7.07%\n",
       "\n",
       "  \u001b[39m▇\u001b[39m█\u001b[39m█\u001b[39m \u001b[39m▂\u001b[39m▃\u001b[39m \u001b[39m▂\u001b[39m▄\u001b[34m \u001b[39m\u001b[39m▃\u001b[39m \u001b[39m \u001b[39m \u001b[39m \u001b[39m \u001b[39m \u001b[39m \u001b[32m \u001b[39m\u001b[39m \u001b[39m \u001b[39m \u001b[39m \u001b[39m \u001b[39m \u001b[39m \u001b[39m \u001b[39m \u001b[39m \u001b[39m \u001b[39m \u001b[39m \u001b[39m \u001b[39m \u001b[39m \u001b[39m \u001b[39m \u001b[39m \u001b[39m \u001b[39m \u001b[39m \u001b[39m \u001b[39m \u001b[39m \u001b[39m \u001b[39m \u001b[39m \u001b[39m \u001b[39m \u001b[39m \u001b[39m \u001b[39m \u001b[39m \u001b[39m \u001b[39m \u001b[39m \u001b[39m \u001b[39m \u001b[39m \u001b[39m \u001b[39m \n",
       "  \u001b[39m█\u001b[39m█\u001b[39m█\u001b[39m▅\u001b[39m█\u001b[39m█\u001b[39m▄\u001b[39m█\u001b[39m█\u001b[34m▆\u001b[39m\u001b[39m█\u001b[39m▆\u001b[39m▅\u001b[39m▅\u001b[39m▃\u001b[39m▁\u001b[39m▃\u001b[39m▁\u001b[32m▃\u001b[39m\u001b[39m▄\u001b[39m▃\u001b[39m▁\u001b[39m▁\u001b[39m▁\u001b[39m▁\u001b[39m▁\u001b[39m▁\u001b[39m▁\u001b[39m▁\u001b[39m▁\u001b[39m▁\u001b[39m▁\u001b[39m▁\u001b[39m▁\u001b[39m▁\u001b[39m▁\u001b[39m▁\u001b[39m▄\u001b[39m▇\u001b[39m▁\u001b[39m▄\u001b[39m▅\u001b[39m▄\u001b[39m▇\u001b[39m▇\u001b[39m▃\u001b[39m▁\u001b[39m▃\u001b[39m▅\u001b[39m▃\u001b[39m▃\u001b[39m▁\u001b[39m▅\u001b[39m▄\u001b[39m▄\u001b[39m▁\u001b[39m▄\u001b[39m▁\u001b[39m▄\u001b[39m \u001b[39m▃\n",
       "  31.4 ms\u001b[90m         Histogram: frequency by time\u001b[39m        41.3 ms \u001b[0m\u001b[1m<\u001b[22m\n",
       "\n",
       " Memory estimate\u001b[90m: \u001b[39m\u001b[33m30.52 MiB\u001b[39m, allocs estimate\u001b[90m: \u001b[39m\u001b[33m1999999\u001b[39m."
      ]
     },
     "execution_count": 38,
     "metadata": {},
     "output_type": "execute_result"
    }
   ],
   "source": [
    "#| code-fold: true\n",
    "\n",
    "@show typeof(sorted_shapes_any)\n",
    "@benchmark main1($sorted_shapes_any)"
   ]
  },
  {
   "cell_type": "markdown",
   "id": "ef2310e2-781d-4bc2-a1c3-8d121edebdf2",
   "metadata": {},
   "source": [
    "Both benchmarks for `Vector{Shape}` and `Vector{Any}` are similar in performance to each other. \n",
    "\n",
    "The Julia manual has the following to say:\n",
    "\n",
    "> If you cannot avoid containers with abstract value types, it is sometimes better to parametrize with `Any` to avoid runtime type checking. E.g. `IdDict{Any, Any}` performs better than `IdDict{Type, Vector}`"
   ]
  },
  {
   "cell_type": "markdown",
   "id": "e8239ce2-0caa-41aa-9754-952ed54543f1",
   "metadata": {},
   "source": [
    "What is interesting is that `Union{Circle, Rectangle, Square, Triangle}` can perform better than `Shape` or `Any` when used as a concrete type parameter."
   ]
  },
  {
   "cell_type": "markdown",
   "id": "d9f57c52-af5c-4550-a5ec-fae93cb39b5e",
   "metadata": {},
   "source": [
    "You can see difference show up clearly in the performance benchmark:"
   ]
  },
  {
   "cell_type": "code",
   "execution_count": 39,
   "id": "9fb14edb-9ea2-4de3-ac7e-784476f220c0",
   "metadata": {
    "execution": {
     "iopub.execute_input": "2024-04-21T11:14:06.483",
     "iopub.status.busy": "2024-04-21T11:14:06.483",
     "iopub.status.idle": "2024-04-21T11:14:17.112",
     "shell.execute_reply": "2024-04-21T11:14:17.112"
    }
   },
   "outputs": [
    {
     "name": "stdout",
     "output_type": "stream",
     "text": [
      "typeof(sorted_shapes_union) = Vector{Union{Circle, Rectangle, Square, Triangle}}\n"
     ]
    },
    {
     "data": {
      "text/plain": [
       "BenchmarkTools.Trial: 5289 samples with 1 evaluation.\n",
       " Range \u001b[90m(\u001b[39m\u001b[36m\u001b[1mmin\u001b[22m\u001b[39m … \u001b[35mmax\u001b[39m\u001b[90m):  \u001b[39m\u001b[36m\u001b[1m928.875 μs\u001b[22m\u001b[39m … \u001b[35m 1.078 ms\u001b[39m  \u001b[90m┊\u001b[39m GC \u001b[90m(\u001b[39mmin … max\u001b[90m): \u001b[39m0.00% … 0.00%\n",
       " Time  \u001b[90m(\u001b[39m\u001b[34m\u001b[1mmedian\u001b[22m\u001b[39m\u001b[90m):     \u001b[39m\u001b[34m\u001b[1m940.084 μs              \u001b[22m\u001b[39m\u001b[90m┊\u001b[39m GC \u001b[90m(\u001b[39mmedian\u001b[90m):    \u001b[39m0.00%\n",
       " Time  \u001b[90m(\u001b[39m\u001b[32m\u001b[1mmean\u001b[22m\u001b[39m ± \u001b[32mσ\u001b[39m\u001b[90m):   \u001b[39m\u001b[32m\u001b[1m942.846 μs\u001b[22m\u001b[39m ± \u001b[32m10.779 μs\u001b[39m  \u001b[90m┊\u001b[39m GC \u001b[90m(\u001b[39mmean ± σ\u001b[90m):  \u001b[39m0.00% ± 0.00%\n",
       "\n",
       "  \u001b[39m \u001b[39m \u001b[39m \u001b[39m \u001b[39m \u001b[39m▂\u001b[39m▄\u001b[39m▆\u001b[39m█\u001b[39m█\u001b[34m▇\u001b[39m\u001b[39m█\u001b[39m▆\u001b[32m▃\u001b[39m\u001b[39m▃\u001b[39m▂\u001b[39m \u001b[39m▁\u001b[39m \u001b[39m \u001b[39m \u001b[39m \u001b[39m \u001b[39m \u001b[39m \u001b[39m \u001b[39m \u001b[39m \u001b[39m \u001b[39m \u001b[39m \u001b[39m \u001b[39m \u001b[39m \u001b[39m \u001b[39m \u001b[39m \u001b[39m \u001b[39m \u001b[39m \u001b[39m \u001b[39m \u001b[39m \u001b[39m \u001b[39m \u001b[39m \u001b[39m \u001b[39m \u001b[39m \u001b[39m \u001b[39m \u001b[39m \u001b[39m \u001b[39m \u001b[39m \u001b[39m \u001b[39m \u001b[39m \u001b[39m \u001b[39m \u001b[39m \u001b[39m▂\n",
       "  \u001b[39m▅\u001b[39m▅\u001b[39m▆\u001b[39m▇\u001b[39m█\u001b[39m█\u001b[39m█\u001b[39m█\u001b[39m█\u001b[39m█\u001b[34m█\u001b[39m\u001b[39m█\u001b[39m█\u001b[32m█\u001b[39m\u001b[39m█\u001b[39m█\u001b[39m█\u001b[39m█\u001b[39m█\u001b[39m█\u001b[39m█\u001b[39m█\u001b[39m█\u001b[39m█\u001b[39m▇\u001b[39m█\u001b[39m▇\u001b[39m▇\u001b[39m▇\u001b[39m▆\u001b[39m▆\u001b[39m▇\u001b[39m▆\u001b[39m▅\u001b[39m▆\u001b[39m▆\u001b[39m▅\u001b[39m▅\u001b[39m▅\u001b[39m▅\u001b[39m▆\u001b[39m▆\u001b[39m▆\u001b[39m▅\u001b[39m▃\u001b[39m▅\u001b[39m▆\u001b[39m▅\u001b[39m▆\u001b[39m▅\u001b[39m▅\u001b[39m▇\u001b[39m▇\u001b[39m▆\u001b[39m▃\u001b[39m▅\u001b[39m▅\u001b[39m▄\u001b[39m▅\u001b[39m▄\u001b[39m \u001b[39m█\n",
       "  929 μs\u001b[90m        \u001b[39m\u001b[90mHistogram: \u001b[39m\u001b[90m\u001b[1mlog(\u001b[22m\u001b[39m\u001b[90mfrequency\u001b[39m\u001b[90m\u001b[1m)\u001b[22m\u001b[39m\u001b[90m by time\u001b[39m       995 μs \u001b[0m\u001b[1m<\u001b[22m\n",
       "\n",
       " Memory estimate\u001b[90m: \u001b[39m\u001b[33m0 bytes\u001b[39m, allocs estimate\u001b[90m: \u001b[39m\u001b[33m0\u001b[39m."
      ]
     },
     "execution_count": 39,
     "metadata": {},
     "output_type": "execute_result"
    }
   ],
   "source": [
    "#| code-fold: true\n",
    "\n",
    "@show typeof(sorted_shapes_union)\n",
    "@benchmark main1($sorted_shapes_union)"
   ]
  },
  {
   "cell_type": "code",
   "execution_count": 40,
   "id": "b7258cd1-da7a-4c03-ae1b-9b433d877b0c",
   "metadata": {
    "execution": {
     "iopub.execute_input": "2024-04-21T11:14:17.112",
     "iopub.status.busy": "2024-04-21T11:14:17.112",
     "iopub.status.idle": "2024-04-21T11:14:17.177",
     "shell.execute_reply": "2024-04-21T11:14:17.177"
    }
   },
   "outputs": [
    {
     "data": {
      "text/latex": [
       "\\texttt{Vector\\{Union\\{Circle, Rectangle, Square, Triangle\\}\\}} is faster than \\texttt{Vector\\{Shape\\}} by roughly a factor of 36 times.\n",
       "\n"
      ],
      "text/markdown": [
       "`Vector{Union{Circle, Rectangle, Square, Triangle}}` is faster than `Vector{Shape}` by roughly a factor of 36 times.\n"
      ],
      "text/plain": [
       "  \u001b[36mVector{Union{Circle, Rectangle, Square, Triangle}}\u001b[39m is faster than\n",
       "  \u001b[36mVector{Shape}\u001b[39m by roughly a factor of 36 times."
      ]
     },
     "execution_count": 40,
     "metadata": {},
     "output_type": "execute_result"
    }
   ],
   "source": [
    "#| echo: false\n",
    "using Format\n",
    "f = cfmt(\"%'d\", 33.877 * 1e3 / 939)\n",
    "Markdown.md\"`Vector{Union{Circle, Rectangle, Square, Triangle}}` is faster than `Vector{Shape}` by roughly a factor of $f times.\""
   ]
  },
  {
   "cell_type": "markdown",
   "id": "6f828e8e-a6c5-4d45-9c22-e3795a622978",
   "metadata": {},
   "source": [
    "It's possible to get even better performance by calculating the `sum`s for the individual arrays and summing them up at the end."
   ]
  },
  {
   "cell_type": "code",
   "execution_count": 41,
   "id": "40b0f8dc-93a5-49b3-b6a1-24267ee21b6c",
   "metadata": {
    "execution": {
     "iopub.execute_input": "2024-04-21T11:14:17.177",
     "iopub.status.busy": "2024-04-21T11:14:17.177",
     "iopub.status.idle": "2024-04-21T11:14:25.693",
     "shell.execute_reply": "2024-04-21T11:14:25.693"
    }
   },
   "outputs": [
    {
     "data": {
      "text/plain": [
       "BenchmarkTools.Trial: 10000 samples with 1 evaluation.\n",
       " Range \u001b[90m(\u001b[39m\u001b[36m\u001b[1mmin\u001b[22m\u001b[39m … \u001b[35mmax\u001b[39m\u001b[90m):  \u001b[39m\u001b[36m\u001b[1m273.625 μs\u001b[22m\u001b[39m … \u001b[35m357.208 μs\u001b[39m  \u001b[90m┊\u001b[39m GC \u001b[90m(\u001b[39mmin … max\u001b[90m): \u001b[39m0.00% … 0.00%\n",
       " Time  \u001b[90m(\u001b[39m\u001b[34m\u001b[1mmedian\u001b[22m\u001b[39m\u001b[90m):     \u001b[39m\u001b[34m\u001b[1m279.583 μs               \u001b[22m\u001b[39m\u001b[90m┊\u001b[39m GC \u001b[90m(\u001b[39mmedian\u001b[90m):    \u001b[39m0.00%\n",
       " Time  \u001b[90m(\u001b[39m\u001b[32m\u001b[1mmean\u001b[22m\u001b[39m ± \u001b[32mσ\u001b[39m\u001b[90m):   \u001b[39m\u001b[32m\u001b[1m281.245 μs\u001b[22m\u001b[39m ± \u001b[32m  5.297 μs\u001b[39m  \u001b[90m┊\u001b[39m GC \u001b[90m(\u001b[39mmean ± σ\u001b[90m):  \u001b[39m0.00% ± 0.00%\n",
       "\n",
       "  \u001b[39m \u001b[39m \u001b[39m \u001b[39m \u001b[39m \u001b[39m \u001b[39m \u001b[39m \u001b[39m▂\u001b[39m▇\u001b[39m█\u001b[34m▇\u001b[39m\u001b[39m▄\u001b[39m▂\u001b[32m▄\u001b[39m\u001b[39m▅\u001b[39m▄\u001b[39m▂\u001b[39m \u001b[39m▁\u001b[39m▁\u001b[39m \u001b[39m \u001b[39m \u001b[39m \u001b[39m \u001b[39m \u001b[39m \u001b[39m \u001b[39m \u001b[39m \u001b[39m \u001b[39m \u001b[39m \u001b[39m \u001b[39m \u001b[39m \u001b[39m \u001b[39m \u001b[39m \u001b[39m \u001b[39m \u001b[39m \u001b[39m \u001b[39m \u001b[39m \u001b[39m \u001b[39m \u001b[39m \u001b[39m \u001b[39m \u001b[39m \u001b[39m \u001b[39m \u001b[39m \u001b[39m \u001b[39m \u001b[39m \u001b[39m \u001b[39m \u001b[39m \u001b[39m \u001b[39m▂\n",
       "  \u001b[39m▂\u001b[39m▂\u001b[39m▂\u001b[39m▂\u001b[39m▄\u001b[39m▄\u001b[39m▆\u001b[39m▆\u001b[39m█\u001b[39m█\u001b[39m█\u001b[34m█\u001b[39m\u001b[39m█\u001b[39m█\u001b[32m█\u001b[39m\u001b[39m█\u001b[39m█\u001b[39m█\u001b[39m█\u001b[39m█\u001b[39m█\u001b[39m▇\u001b[39m▇\u001b[39m▇\u001b[39m█\u001b[39m▇\u001b[39m▇\u001b[39m▆\u001b[39m▆\u001b[39m▆\u001b[39m▆\u001b[39m▆\u001b[39m▇\u001b[39m▇\u001b[39m▆\u001b[39m▆\u001b[39m▆\u001b[39m▇\u001b[39m▇\u001b[39m▆\u001b[39m▇\u001b[39m▇\u001b[39m▇\u001b[39m▆\u001b[39m▆\u001b[39m▆\u001b[39m▆\u001b[39m▆\u001b[39m▆\u001b[39m▅\u001b[39m▄\u001b[39m▆\u001b[39m▇\u001b[39m▅\u001b[39m▆\u001b[39m▆\u001b[39m▄\u001b[39m▅\u001b[39m▅\u001b[39m▅\u001b[39m▄\u001b[39m \u001b[39m█\n",
       "  274 μs\u001b[90m        \u001b[39m\u001b[90mHistogram: \u001b[39m\u001b[90m\u001b[1mlog(\u001b[22m\u001b[39m\u001b[90mfrequency\u001b[39m\u001b[90m\u001b[1m)\u001b[22m\u001b[39m\u001b[90m by time\u001b[39m        307 μs \u001b[0m\u001b[1m<\u001b[22m\n",
       "\n",
       " Memory estimate\u001b[90m: \u001b[39m\u001b[33m0 bytes\u001b[39m, allocs estimate\u001b[90m: \u001b[39m\u001b[33m0\u001b[39m."
      ]
     },
     "execution_count": 41,
     "metadata": {},
     "output_type": "execute_result"
    }
   ],
   "source": [
    "main2(arrs...) = sum(main1, arrs)\n",
    "\n",
    "@benchmark main2($square_arr, $rectangle_arr, $triangle_arr, $circle_arr)"
   ]
  },
  {
   "cell_type": "markdown",
   "id": "e2ec0343-c1a6-4f69-8952-52ff3d150c2a",
   "metadata": {},
   "source": [
    "This performance is almost equivalent to having a uniform type (e.g. just `Square`s)."
   ]
  },
  {
   "cell_type": "code",
   "execution_count": 42,
   "id": "913b0b44-d4a9-4c4f-9b4b-a83d56fcbe23",
   "metadata": {
    "execution": {
     "iopub.execute_input": "2024-04-21T11:14:25.693",
     "iopub.status.busy": "2024-04-21T11:14:25.693",
     "iopub.status.idle": "2024-04-21T11:14:33.708",
     "shell.execute_reply": "2024-04-21T11:14:33.708"
    }
   },
   "outputs": [
    {
     "data": {
      "text/plain": [
       "BenchmarkTools.Trial: 10000 samples with 1 evaluation.\n",
       " Range \u001b[90m(\u001b[39m\u001b[36m\u001b[1mmin\u001b[22m\u001b[39m … \u001b[35mmax\u001b[39m\u001b[90m):  \u001b[39m\u001b[36m\u001b[1m236.958 μs\u001b[22m\u001b[39m … \u001b[35m342.708 μs\u001b[39m  \u001b[90m┊\u001b[39m GC \u001b[90m(\u001b[39mmin … max\u001b[90m): \u001b[39m0.00% … 0.00%\n",
       " Time  \u001b[90m(\u001b[39m\u001b[34m\u001b[1mmedian\u001b[22m\u001b[39m\u001b[90m):     \u001b[39m\u001b[34m\u001b[1m237.542 μs               \u001b[22m\u001b[39m\u001b[90m┊\u001b[39m GC \u001b[90m(\u001b[39mmedian\u001b[90m):    \u001b[39m0.00%\n",
       " Time  \u001b[90m(\u001b[39m\u001b[32m\u001b[1mmean\u001b[22m\u001b[39m ± \u001b[32mσ\u001b[39m\u001b[90m):   \u001b[39m\u001b[32m\u001b[1m239.297 μs\u001b[22m\u001b[39m ± \u001b[32m  4.834 μs\u001b[39m  \u001b[90m┊\u001b[39m GC \u001b[90m(\u001b[39mmean ± σ\u001b[90m):  \u001b[39m0.00% ± 0.00%\n",
       "\n",
       "  \u001b[39m▆\u001b[34m█\u001b[39m\u001b[39m▅\u001b[39m▃\u001b[39m▂\u001b[39m▁\u001b[32m▁\u001b[39m\u001b[39m▅\u001b[39m▄\u001b[39m▂\u001b[39m \u001b[39m \u001b[39m \u001b[39m▁\u001b[39m \u001b[39m \u001b[39m \u001b[39m \u001b[39m \u001b[39m \u001b[39m \u001b[39m \u001b[39m \u001b[39m \u001b[39m \u001b[39m \u001b[39m \u001b[39m \u001b[39m \u001b[39m \u001b[39m \u001b[39m \u001b[39m \u001b[39m \u001b[39m \u001b[39m \u001b[39m \u001b[39m \u001b[39m \u001b[39m \u001b[39m \u001b[39m \u001b[39m \u001b[39m \u001b[39m \u001b[39m \u001b[39m \u001b[39m \u001b[39m \u001b[39m \u001b[39m \u001b[39m \u001b[39m \u001b[39m \u001b[39m \u001b[39m \u001b[39m \u001b[39m \u001b[39m \u001b[39m \u001b[39m \u001b[39m \u001b[39m▁\n",
       "  \u001b[39m█\u001b[34m█\u001b[39m\u001b[39m█\u001b[39m█\u001b[39m█\u001b[39m█\u001b[32m█\u001b[39m\u001b[39m█\u001b[39m█\u001b[39m█\u001b[39m█\u001b[39m▇\u001b[39m▇\u001b[39m█\u001b[39m█\u001b[39m▆\u001b[39m▆\u001b[39m▆\u001b[39m▆\u001b[39m▇\u001b[39m█\u001b[39m▇\u001b[39m▇\u001b[39m▅\u001b[39m▆\u001b[39m▆\u001b[39m▆\u001b[39m▆\u001b[39m▆\u001b[39m▅\u001b[39m▅\u001b[39m▅\u001b[39m▅\u001b[39m▄\u001b[39m▄\u001b[39m▆\u001b[39m▇\u001b[39m█\u001b[39m█\u001b[39m▇\u001b[39m▇\u001b[39m▆\u001b[39m▇\u001b[39m▆\u001b[39m▆\u001b[39m▅\u001b[39m▆\u001b[39m▅\u001b[39m▅\u001b[39m▅\u001b[39m▄\u001b[39m▅\u001b[39m▄\u001b[39m▄\u001b[39m▅\u001b[39m▃\u001b[39m▄\u001b[39m▅\u001b[39m▄\u001b[39m▄\u001b[39m▅\u001b[39m \u001b[39m█\n",
       "  237 μs\u001b[90m        \u001b[39m\u001b[90mHistogram: \u001b[39m\u001b[90m\u001b[1mlog(\u001b[22m\u001b[39m\u001b[90mfrequency\u001b[39m\u001b[90m\u001b[1m)\u001b[22m\u001b[39m\u001b[90m by time\u001b[39m        262 μs \u001b[0m\u001b[1m<\u001b[22m\n",
       "\n",
       " Memory estimate\u001b[90m: \u001b[39m\u001b[33m0 bytes\u001b[39m, allocs estimate\u001b[90m: \u001b[39m\u001b[33m0\u001b[39m."
      ]
     },
     "execution_count": 42,
     "metadata": {},
     "output_type": "execute_result"
    }
   ],
   "source": [
    "squares = [Square() for _ in 1:COUNT]\n",
    "\n",
    "@benchmark main1($squares)"
   ]
  },
  {
   "cell_type": "markdown",
   "id": "c5c608ed-7120-4831-9c67-f95b37a95b5d",
   "metadata": {},
   "source": [
    "Keep in mind that we would only get this kind of performance if the type parameter is concrete. If we used `Vector{Shape}` instead, we get poor results."
   ]
  },
  {
   "cell_type": "code",
   "execution_count": 59,
   "id": "6ca87f48-2d46-4f3d-8c1d-aea971f439e6",
   "metadata": {
    "execution": {
     "iopub.execute_input": "2024-04-22T00:24:08.072",
     "iopub.status.busy": "2024-04-22T00:24:08.071",
     "iopub.status.idle": "2024-04-22T00:24:19.272",
     "shell.execute_reply": "2024-04-22T00:24:19.272"
    }
   },
   "outputs": [
    {
     "data": {
      "text/plain": [
       "BenchmarkTools.Trial: 111 samples with 1 evaluation.\n",
       " Range \u001b[90m(\u001b[39m\u001b[36m\u001b[1mmin\u001b[22m\u001b[39m … \u001b[35mmax\u001b[39m\u001b[90m):  \u001b[39m\u001b[36m\u001b[1m41.965 ms\u001b[22m\u001b[39m … \u001b[35m54.020 ms\u001b[39m  \u001b[90m┊\u001b[39m GC \u001b[90m(\u001b[39mmin … max\u001b[90m): \u001b[39m0.00% … 15.22%\n",
       " Time  \u001b[90m(\u001b[39m\u001b[34m\u001b[1mmedian\u001b[22m\u001b[39m\u001b[90m):     \u001b[39m\u001b[34m\u001b[1m43.359 ms              \u001b[22m\u001b[39m\u001b[90m┊\u001b[39m GC \u001b[90m(\u001b[39mmedian\u001b[90m):    \u001b[39m0.00%\n",
       " Time  \u001b[90m(\u001b[39m\u001b[32m\u001b[1mmean\u001b[22m\u001b[39m ± \u001b[32mσ\u001b[39m\u001b[90m):   \u001b[39m\u001b[32m\u001b[1m45.287 ms\u001b[22m\u001b[39m ± \u001b[32m 3.798 ms\u001b[39m  \u001b[90m┊\u001b[39m GC \u001b[90m(\u001b[39mmean ± σ\u001b[90m):  \u001b[39m4.51% ±  6.46%\n",
       "\n",
       "  \u001b[39m█\u001b[39m▄\u001b[39m \u001b[39m \u001b[39m▁\u001b[39m▅\u001b[39m \u001b[34m \u001b[39m\u001b[39m▁\u001b[39m \u001b[39m \u001b[39m \u001b[39m \u001b[39m \u001b[39m \u001b[39m \u001b[39m \u001b[32m \u001b[39m\u001b[39m \u001b[39m \u001b[39m \u001b[39m \u001b[39m \u001b[39m \u001b[39m \u001b[39m \u001b[39m \u001b[39m \u001b[39m \u001b[39m \u001b[39m \u001b[39m \u001b[39m \u001b[39m \u001b[39m \u001b[39m \u001b[39m \u001b[39m \u001b[39m \u001b[39m \u001b[39m \u001b[39m \u001b[39m \u001b[39m \u001b[39m \u001b[39m \u001b[39m \u001b[39m \u001b[39m \u001b[39m \u001b[39m \u001b[39m \u001b[39m \u001b[39m \u001b[39m \u001b[39m \u001b[39m \u001b[39m \u001b[39m \u001b[39m \u001b[39m \n",
       "  \u001b[39m█\u001b[39m█\u001b[39m▆\u001b[39m▅\u001b[39m█\u001b[39m█\u001b[39m█\u001b[34m▇\u001b[39m\u001b[39m█\u001b[39m▃\u001b[39m▅\u001b[39m▁\u001b[39m▃\u001b[39m▅\u001b[39m▄\u001b[39m▃\u001b[39m▃\u001b[32m▃\u001b[39m\u001b[39m▁\u001b[39m▁\u001b[39m▁\u001b[39m▁\u001b[39m▁\u001b[39m▁\u001b[39m▁\u001b[39m▁\u001b[39m▁\u001b[39m▁\u001b[39m▁\u001b[39m▁\u001b[39m▁\u001b[39m▁\u001b[39m▁\u001b[39m▁\u001b[39m▁\u001b[39m▁\u001b[39m▃\u001b[39m▁\u001b[39m▄\u001b[39m▃\u001b[39m▄\u001b[39m▁\u001b[39m▅\u001b[39m▁\u001b[39m▅\u001b[39m▄\u001b[39m▄\u001b[39m▃\u001b[39m▁\u001b[39m▁\u001b[39m▃\u001b[39m▄\u001b[39m▅\u001b[39m▁\u001b[39m▄\u001b[39m▄\u001b[39m▄\u001b[39m▁\u001b[39m▃\u001b[39m \u001b[39m▃\n",
       "  42 ms\u001b[90m           Histogram: frequency by time\u001b[39m        53.2 ms \u001b[0m\u001b[1m<\u001b[22m\n",
       "\n",
       " Memory estimate\u001b[90m: \u001b[39m\u001b[33m30.52 MiB\u001b[39m, allocs estimate\u001b[90m: \u001b[39m\u001b[33m2000002\u001b[39m."
      ]
     },
     "execution_count": 59,
     "metadata": {},
     "output_type": "execute_result"
    }
   ],
   "source": [
    "@benchmark main2($shape_arr1, $shape_arr2, $shape_arr3, $shape_arr4)"
   ]
  },
  {
   "cell_type": "markdown",
   "id": "faa21b34-75a8-4d25-b739-071bbd8b8d77",
   "metadata": {},
   "source": [
    "# Struct with type parameters"
   ]
  },
  {
   "cell_type": "markdown",
   "id": "deba0615-c1ca-49a7-a366-16173244e214",
   "metadata": {},
   "source": [
    "In Julia, structs can have untyped fields."
   ]
  },
  {
   "cell_type": "code",
   "execution_count": 43,
   "id": "9c242846-1de6-4734-8ac8-39299d62f33e",
   "metadata": {
    "execution": {
     "iopub.execute_input": "2024-04-21T11:14:33.709",
     "iopub.status.busy": "2024-04-21T11:14:33.709",
     "iopub.status.idle": "2024-04-21T11:14:33.710",
     "shell.execute_reply": "2024-04-21T11:14:33.710"
    }
   },
   "outputs": [],
   "source": [
    "struct Foo\n",
    "    a\n",
    "end\n",
    "\n",
    "# is equivalent to this\n",
    "\n",
    "struct Foo\n",
    "    a::Any\n",
    "end"
   ]
  },
  {
   "cell_type": "markdown",
   "id": "f1a3f3b2-feb3-44a4-9c78-a0cea9e09fd6",
   "metadata": {},
   "source": [
    "If you want performant code, you have to ensure fields are specified with concrete types, like so:"
   ]
  },
  {
   "cell_type": "code",
   "execution_count": 47,
   "id": "860903e9-f651-489d-bb0f-fe7dfef78a47",
   "metadata": {
    "execution": {
     "iopub.execute_input": "2024-04-21T11:15:54.243",
     "iopub.status.busy": "2024-04-21T11:15:54.243",
     "iopub.status.idle": "2024-04-21T11:15:54.247",
     "shell.execute_reply": "2024-04-21T11:15:54.247"
    }
   },
   "outputs": [],
   "source": [
    "struct FooSpecialized\n",
    "    a::Float64\n",
    "end"
   ]
  },
  {
   "cell_type": "markdown",
   "id": "8dbb958a-1c93-4e73-a6b1-4cb4dca0bb47",
   "metadata": {},
   "source": [
    "structs can also have generic type parameters"
   ]
  },
  {
   "cell_type": "code",
   "execution_count": 48,
   "id": "a61fd965-3505-4886-b933-49142bbd2c33",
   "metadata": {
    "execution": {
     "iopub.execute_input": "2024-04-21T11:15:56.173",
     "iopub.status.busy": "2024-04-21T11:15:56.172",
     "iopub.status.idle": "2024-04-21T11:15:56.181",
     "shell.execute_reply": "2024-04-21T11:15:56.181"
    }
   },
   "outputs": [],
   "source": [
    "struct Bar{T}\n",
    "    a::T\n",
    "end"
   ]
  },
  {
   "cell_type": "markdown",
   "id": "28da6628-5a8f-4206-998d-f9b240103c8b",
   "metadata": {
    "execution": {
     "iopub.execute_input": "2024-04-21T11:00:40.745",
     "iopub.status.busy": "2024-04-21T11:00:40.745",
     "iopub.status.idle": "2024-04-21T11:00:40.843",
     "shell.execute_reply": "2024-04-21T11:00:40.843"
    }
   },
   "source": [
    "In this case, when constructing the type, you want to ensure that concrete types are used to instantiate the type.\n",
    "e.g. `Bar{AbstractFloat}(1.0)` is going to perform less efficiently compared to `Bar{Float64}(1.0)`.\n",
    "\n",
    "`Bar(x)` will use type inference to decide what the value of the type parameter should be."
   ]
  },
  {
   "cell_type": "code",
   "execution_count": 49,
   "id": "978eeceb-2722-42ea-8629-c3898e5407d0",
   "metadata": {
    "execution": {
     "iopub.execute_input": "2024-04-21T11:15:56.697",
     "iopub.status.busy": "2024-04-21T11:15:56.696",
     "iopub.status.idle": "2024-04-21T11:15:56.724",
     "shell.execute_reply": "2024-04-21T11:15:56.724"
    }
   },
   "outputs": [
    {
     "name": "stdout",
     "output_type": "stream",
     "text": [
      "typeof(Bar(sorted_shapes_shape)) = Bar{Vector{Shape}}\n",
      "typeof(Bar(sorted_shapes_any)) = Bar{Vector{Any}}\n",
      "typeof(Bar(sorted_shapes_union)) = Bar{Vector{Union{Circle, Rectangle, Square, Triangle}}}\n"
     ]
    }
   ],
   "source": [
    "@show typeof(Bar(sorted_shapes_shape))\n",
    "@show typeof(Bar(sorted_shapes_any))\n",
    "@show typeof(Bar(sorted_shapes_union))\n",
    "\n",
    "nothing #| hide_line"
   ]
  },
  {
   "cell_type": "markdown",
   "id": "b7b67cc5-68f9-4fa6-b6a6-1286e35a6b2e",
   "metadata": {},
   "source": [
    "For large structs with multiple type parameters, this can make the type signature while printing unwieldy however it will result be better performance if you can ensure they are all concrete types."
   ]
  },
  {
   "cell_type": "markdown",
   "id": "849cd211-7456-4280-a8ab-82272d6aca3b",
   "metadata": {
    "execution": {
     "iopub.execute_input": "2024-04-21T11:00:40.745",
     "iopub.status.busy": "2024-04-21T11:00:40.745",
     "iopub.status.idle": "2024-04-21T11:00:40.843",
     "shell.execute_reply": "2024-04-21T11:00:40.843"
    }
   },
   "source": [
    "There's a lot more useful information in [Type Declarations] section of the performance tips.\n",
    "\n",
    "[Type Declarations]: https://docs.julialang.org/en/v1/manual/performance-tips/#Type-declarations"
   ]
  },
  {
   "cell_type": "markdown",
   "id": "7c8051b8-fbec-4230-aa45-15508e8e8ddc",
   "metadata": {},
   "source": [
    "# Conclusion"
   ]
  },
  {
   "cell_type": "markdown",
   "id": "a9153da0-3d99-40dd-bd38-9a1d6411896c",
   "metadata": {},
   "source": [
    "The key takeaway is that if you care about performance in Julia, you have to be mindful of types and type inference! Keeping types as concrete as possible is important because when type inference fails, it can propogate through your program. Even small changes to your code can improve performance significantly."
   ]
  },
  {
   "cell_type": "markdown",
   "id": "978cf738-3fbf-48e5-b1bb-729da7075173",
   "metadata": {},
   "source": [
    "Many thanks to the helpful [Julia community on Discourse](https://discourse.julialang.org/t/unusual-non-deterministic-benchmark-results/113273/) for always offering insightful comments and advice."
   ]
  }
 ],
 "metadata": {
  "kernelspec": {
   "display_name": "Julia 1.10.2",
   "language": "julia",
   "name": "julia-1.10"
  },
  "language_info": {
   "file_extension": ".jl",
   "mimetype": "application/julia",
   "name": "julia",
   "version": "1.10.2"
  },
  "widgets": {
   "application/vnd.jupyter.widget-state+json": {
    "state": {},
    "version_major": 2,
    "version_minor": 0
   }
  }
 },
 "nbformat": 4,
 "nbformat_minor": 5
}
