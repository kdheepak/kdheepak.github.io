{
 "cells": [
  {
   "cell_type": "raw",
   "id": "aaa69d60-433e-4721-82be-bc648b59dc95",
   "metadata": {},
   "source": [
    "---\n",
    "title: Compile time versus run time in Julia\n",
    "categories:\n",
    "  - julia\n",
    "  - visualization\n",
    "keywords: julia\n",
    "date: '2023-04-29T12:38:41-0400'\n",
    "draft: true\n",
    "---"
   ]
  },
  {
   "cell_type": "code",
   "execution_count": 1,
   "id": "5f4bcdc1-37f3-4724-bd36-64d6b1517e66",
   "metadata": {
    "execution": {
     "iopub.execute_input": "2024-04-20T09:48:20.790",
     "iopub.status.busy": "2024-04-20T09:48:20.523",
     "iopub.status.idle": "2024-04-20T09:48:23.661",
     "shell.execute_reply": "2024-04-20T09:48:23.636"
    }
   },
   "outputs": [
    {
     "name": "stderr",
     "output_type": "stream",
     "text": [
      "\u001b[32m\u001b[1m  Activating\u001b[22m\u001b[39m project at `~/gitrepos/kdheepak.github.io/blog/compile-time-vs-run-time-in-julia`\n"
     ]
    }
   ],
   "source": [
    "#| include: false\n",
    "using Pkg\n",
    "Pkg.activate(@__DIR__)\n",
    "Pkg.instantiate()\n",
    "cd(@__DIR__)"
   ]
  },
  {
   "cell_type": "code",
   "execution_count": 2,
   "id": "b1e5ad21-3024-4076-9b16-f5d4c4ca4663",
   "metadata": {
    "execution": {
     "iopub.execute_input": "2024-04-20T09:48:23.661",
     "iopub.status.busy": "2024-04-20T09:48:23.661",
     "iopub.status.idle": "2024-04-20T09:48:23.835",
     "shell.execute_reply": "2024-04-20T09:48:23.835"
    }
   },
   "outputs": [
    {
     "data": {
      "text/plain": [
       "area (generic function with 5 methods)"
      ]
     },
     "execution_count": 2,
     "metadata": {},
     "output_type": "execute_result"
    }
   ],
   "source": [
    "abstract type Shape end\n",
    "area(::Shape) = 0.0\n",
    "\n",
    "struct Square <: Shape\n",
    "    side::Float64\n",
    "end\n",
    "area(s::Square) = s.side * s.side\n",
    "    \n",
    "struct Rectangle <: Shape\n",
    "    width::Float64\n",
    "    height::Float64\n",
    "end\n",
    "area(r::Rectangle) = r.width * r.height\n",
    "    \n",
    "struct Triangle <: Shape\n",
    "    base::Float64\n",
    "    height::Float64\n",
    "end\n",
    "area(t::Triangle) = 1.0/2.0 * t.base * t.height\n",
    "\n",
    "struct Circle <: Shape\n",
    "    radius::Float64\n",
    "end\n",
    "area(c::Circle) = π * c.radius^2"
   ]
  },
  {
   "cell_type": "code",
   "execution_count": 3,
   "id": "31a5cc81-a7e4-401c-ad44-c91ab139d0f9",
   "metadata": {
    "execution": {
     "iopub.execute_input": "2024-04-20T09:48:23.835",
     "iopub.status.busy": "2024-04-20T09:48:23.835",
     "iopub.status.idle": "2024-04-20T09:48:24.080",
     "shell.execute_reply": "2024-04-20T09:48:24.079"
    }
   },
   "outputs": [
    {
     "name": "stdout",
     "output_type": "stream",
     "text": [
      "\u001b[0m\u001b[1mTest Summary: | \u001b[22m\u001b[32m\u001b[1mPass  \u001b[22m\u001b[39m\u001b[36m\u001b[1mTotal  \u001b[22m\u001b[39m\u001b[0m\u001b[1mTime\u001b[22m\n",
      "Areas         | \u001b[32m   4  \u001b[39m\u001b[36m    4  \u001b[39m\u001b[0m0.1s\n"
     ]
    }
   ],
   "source": [
    "using Test\n",
    "@testset \"Areas\" begin\n",
    "    @test area(Square(2)) == 4\n",
    "    @test area(Rectangle(2,3)) == 6\n",
    "    @test area(Triangle(2,3)) == 3\n",
    "    @test area(Circle(2)) ≈ 4π\n",
    "end;"
   ]
  },
  {
   "cell_type": "code",
   "execution_count": 4,
   "id": "89712b98-7612-43da-bc3e-f667abd7e2ee",
   "metadata": {
    "execution": {
     "iopub.execute_input": "2024-04-20T09:48:24.080",
     "iopub.status.busy": "2024-04-20T09:48:24.080",
     "iopub.status.idle": "2024-04-20T09:48:24.216",
     "shell.execute_reply": "2024-04-20T09:48:24.216"
    }
   },
   "outputs": [],
   "source": [
    "using Random\n",
    "\n",
    "Random.seed!(42)\n",
    "\n",
    "function shape_builder(choice::Integer)\n",
    "    if choice == 1\n",
    "        Square(rand())\n",
    "    elseif choice == 2\n",
    "        Rectangle(rand(), rand())\n",
    "    elseif choice == 3\n",
    "        Triangle(rand(), rand())\n",
    "    elseif choice == 4\n",
    "        Circle(rand())\n",
    "    end\n",
    "end\n",
    "\n",
    "count = 1_000_000\n",
    "shapes = [shape_builder(rand((1,2,3,4))) for _ in 1:count];"
   ]
  },
  {
   "cell_type": "code",
   "execution_count": 5,
   "id": "6cb04f19-d92e-401a-a475-746266921ac0",
   "metadata": {
    "execution": {
     "iopub.execute_input": "2024-04-20T09:48:24.323",
     "iopub.status.busy": "2024-04-20T09:48:24.323",
     "iopub.status.idle": "2024-04-20T09:48:24.588",
     "shell.execute_reply": "2024-04-20T09:48:24.587"
    }
   },
   "outputs": [
    {
     "data": {
      "text/latex": [
       "The total number of shapes we have is 1,000,000.\n",
       "\n"
      ],
      "text/markdown": [
       "The total number of shapes we have is 1,000,000.\n"
      ],
      "text/plain": [
       "  The total number of shapes we have is 1,000,000."
      ]
     },
     "execution_count": 5,
     "metadata": {},
     "output_type": "execute_result"
    }
   ],
   "source": [
    "#| echo: false\n",
    "using Format\n",
    "using Markdown\n",
    "l = cfmt(\"%'d\", length(shapes))\n",
    "Markdown.md\"The total number of shapes we have is $l.\""
   ]
  },
  {
   "cell_type": "code",
   "execution_count": 6,
   "id": "98c07e22-d931-4e91-92c4-3844100c72f0",
   "metadata": {
    "execution": {
     "iopub.execute_input": "2024-04-20T09:48:25.240",
     "iopub.status.busy": "2024-04-20T09:48:25.240",
     "iopub.status.idle": "2024-04-20T09:48:25.425",
     "shell.execute_reply": "2024-04-20T09:48:25.425"
    }
   },
   "outputs": [
    {
     "data": {
      "text/plain": [
       "Vector{Shape}\u001b[90m (alias for \u001b[39m\u001b[90mArray{Shape, 1}\u001b[39m\u001b[90m)\u001b[39m"
      ]
     },
     "execution_count": 6,
     "metadata": {},
     "output_type": "execute_result"
    }
   ],
   "source": [
    "typeof(shapes)"
   ]
  },
  {
   "cell_type": "code",
   "execution_count": 7,
   "id": "c91b5a9d-ca77-4cf8-893b-f64a9feaea1f",
   "metadata": {
    "execution": {
     "iopub.execute_input": "2024-04-20T09:48:26.213",
     "iopub.status.busy": "2024-04-20T09:48:26.212",
     "iopub.status.idle": "2024-04-20T09:48:26.234",
     "shell.execute_reply": "2024-04-20T09:48:26.233"
    }
   },
   "outputs": [
    {
     "data": {
      "text/plain": [
       "main1 (generic function with 1 method)"
      ]
     },
     "execution_count": 7,
     "metadata": {},
     "output_type": "execute_result"
    }
   ],
   "source": [
    "main1(shapes) = sum(area.(shapes))"
   ]
  },
  {
   "cell_type": "code",
   "execution_count": 8,
   "id": "add2506f-2afb-4cb0-831c-11d5ee223341",
   "metadata": {
    "execution": {
     "iopub.execute_input": "2024-04-20T09:48:26.733",
     "iopub.status.busy": "2024-04-20T09:48:26.733",
     "iopub.status.idle": "2024-04-20T09:48:26.920",
     "shell.execute_reply": "2024-04-20T09:48:26.920"
    }
   },
   "outputs": [
    {
     "name": "stdout",
     "output_type": "stream",
     "text": [
      "  0.130660 seconds (2.11 M allocations: 45.631 MiB, 44.62% gc time, 63.33% compilation time)\n"
     ]
    }
   ],
   "source": [
    "@time main1(shapes);"
   ]
  },
  {
   "cell_type": "code",
   "execution_count": 9,
   "id": "f7396454-84a3-49dc-b959-e562bbfe3260",
   "metadata": {
    "execution": {
     "iopub.execute_input": "2024-04-20T09:48:27.482",
     "iopub.status.busy": "2024-04-20T09:48:27.481",
     "iopub.status.idle": "2024-04-20T09:48:27.698",
     "shell.execute_reply": "2024-04-20T09:48:27.698"
    }
   },
   "outputs": [],
   "source": [
    "using BenchmarkTools"
   ]
  },
  {
   "cell_type": "code",
   "execution_count": 10,
   "id": "e66b8854-d3d9-4fae-b777-98e0d3266f49",
   "metadata": {
    "execution": {
     "iopub.execute_input": "2024-04-20T09:48:28.143",
     "iopub.status.busy": "2024-04-20T09:48:28.068",
     "iopub.status.idle": "2024-04-20T09:48:40.126",
     "shell.execute_reply": "2024-04-20T09:48:40.126"
    }
   },
   "outputs": [
    {
     "data": {
      "text/plain": [
       "BenchmarkTools.Trial: 119 samples with 1 evaluation.\n",
       " Range \u001b[90m(\u001b[39m\u001b[36m\u001b[1mmin\u001b[22m\u001b[39m … \u001b[35mmax\u001b[39m\u001b[90m):  \u001b[39m\u001b[36m\u001b[1m41.434 ms\u001b[22m\u001b[39m … \u001b[35m 44.154 ms\u001b[39m  \u001b[90m┊\u001b[39m GC \u001b[90m(\u001b[39mmin … max\u001b[90m): \u001b[39m0.00% … 1.43%\n",
       " Time  \u001b[90m(\u001b[39m\u001b[34m\u001b[1mmedian\u001b[22m\u001b[39m\u001b[90m):     \u001b[39m\u001b[34m\u001b[1m42.195 ms               \u001b[22m\u001b[39m\u001b[90m┊\u001b[39m GC \u001b[90m(\u001b[39mmedian\u001b[90m):    \u001b[39m1.17%\n",
       " Time  \u001b[90m(\u001b[39m\u001b[32m\u001b[1mmean\u001b[22m\u001b[39m ± \u001b[32mσ\u001b[39m\u001b[90m):   \u001b[39m\u001b[32m\u001b[1m42.231 ms\u001b[22m\u001b[39m ± \u001b[32m457.435 μs\u001b[39m  \u001b[90m┊\u001b[39m GC \u001b[90m(\u001b[39mmean ± σ\u001b[90m):  \u001b[39m1.13% ± 0.54%\n",
       "\n",
       "  \u001b[39m \u001b[39m \u001b[39m \u001b[39m \u001b[39m \u001b[39m \u001b[39m \u001b[39m \u001b[39m \u001b[39m \u001b[39m \u001b[39m \u001b[39m \u001b[39m \u001b[39m \u001b[39m▅\u001b[39m▅\u001b[39m▆\u001b[39m▆\u001b[34m▆\u001b[39m\u001b[32m▅\u001b[39m\u001b[39m█\u001b[39m▂\u001b[39m \u001b[39m▃\u001b[39m \u001b[39m \u001b[39m \u001b[39m▃\u001b[39m \u001b[39m \u001b[39m \u001b[39m \u001b[39m \u001b[39m \u001b[39m \u001b[39m \u001b[39m \u001b[39m \u001b[39m \u001b[39m \u001b[39m \u001b[39m \u001b[39m \u001b[39m \u001b[39m \u001b[39m \u001b[39m \u001b[39m \u001b[39m \u001b[39m \u001b[39m \u001b[39m \u001b[39m \u001b[39m \u001b[39m \u001b[39m \u001b[39m \u001b[39m \u001b[39m \u001b[39m \u001b[39m \n",
       "  \u001b[39m▅\u001b[39m▄\u001b[39m▇\u001b[39m▇\u001b[39m▄\u001b[39m▅\u001b[39m▄\u001b[39m▁\u001b[39m▅\u001b[39m▇\u001b[39m▁\u001b[39m▇\u001b[39m█\u001b[39m▇\u001b[39m▄\u001b[39m█\u001b[39m█\u001b[39m█\u001b[39m█\u001b[34m█\u001b[39m\u001b[32m█\u001b[39m\u001b[39m█\u001b[39m█\u001b[39m█\u001b[39m█\u001b[39m▅\u001b[39m▁\u001b[39m▄\u001b[39m█\u001b[39m▄\u001b[39m▁\u001b[39m▁\u001b[39m▅\u001b[39m▁\u001b[39m▁\u001b[39m▁\u001b[39m▁\u001b[39m▁\u001b[39m▄\u001b[39m▁\u001b[39m▁\u001b[39m▅\u001b[39m▁\u001b[39m▁\u001b[39m▁\u001b[39m▁\u001b[39m▄\u001b[39m▁\u001b[39m▄\u001b[39m▁\u001b[39m▁\u001b[39m▄\u001b[39m▁\u001b[39m▁\u001b[39m▁\u001b[39m▁\u001b[39m▁\u001b[39m▁\u001b[39m▁\u001b[39m▅\u001b[39m \u001b[39m▄\n",
       "  41.4 ms\u001b[90m         Histogram: frequency by time\u001b[39m         43.8 ms \u001b[0m\u001b[1m<\u001b[22m\n",
       "\n",
       " Memory estimate\u001b[90m: \u001b[39m\u001b[33m38.14 MiB\u001b[39m, allocs estimate\u001b[90m: \u001b[39m\u001b[33m1999492\u001b[39m."
      ]
     },
     "execution_count": 10,
     "metadata": {},
     "output_type": "execute_result"
    }
   ],
   "source": [
    "@benchmark main1(shapes)"
   ]
  },
  {
   "cell_type": "code",
   "execution_count": 11,
   "id": "a38a033a-8caa-43a3-b965-0374cc6438c0",
   "metadata": {
    "execution": {
     "iopub.execute_input": "2024-04-20T09:48:40.126",
     "iopub.status.busy": "2024-04-20T09:48:40.126",
     "iopub.status.idle": "2024-04-20T09:48:40.273",
     "shell.execute_reply": "2024-04-20T09:48:40.273"
    }
   },
   "outputs": [],
   "source": [
    "shapes_by_type(::Type{T}, shapes) where T = [shape for shape in shapes if isa(shape, T)]\n",
    "\n",
    "square_arr = shapes_by_type(Square, shapes)\n",
    "rectangle_arr = shapes_by_type(Rectangle, shapes)\n",
    "triangle_arr = shapes_by_type(Triangle, shapes)\n",
    "circle_arr = shapes_by_type(Circle, shapes)\n",
    "\n",
    "nothing"
   ]
  },
  {
   "cell_type": "code",
   "execution_count": 12,
   "id": "66c963f9-61ed-4afb-aacd-2395788f3699",
   "metadata": {
    "execution": {
     "iopub.execute_input": "2024-04-20T09:48:40.273",
     "iopub.status.busy": "2024-04-20T09:48:40.273",
     "iopub.status.idle": "2024-04-20T09:48:40.293",
     "shell.execute_reply": "2024-04-20T09:48:40.292"
    }
   },
   "outputs": [
    {
     "data": {
      "text/plain": [
       "Vector{Square}\u001b[90m (alias for \u001b[39m\u001b[90mArray{Square, 1}\u001b[39m\u001b[90m)\u001b[39m"
      ]
     },
     "execution_count": 12,
     "metadata": {},
     "output_type": "execute_result"
    }
   ],
   "source": [
    "typeof(square_arr)"
   ]
  },
  {
   "cell_type": "code",
   "execution_count": 13,
   "id": "8822d87a-f1d2-488d-b754-9817f244e031",
   "metadata": {
    "execution": {
     "iopub.execute_input": "2024-04-20T09:48:44.517",
     "iopub.status.busy": "2024-04-20T09:48:44.516",
     "iopub.status.idle": "2024-04-20T09:48:44.542",
     "shell.execute_reply": "2024-04-20T09:48:44.542"
    }
   },
   "outputs": [
    {
     "data": {
      "text/plain": [
       "Vector{Rectangle}\u001b[90m (alias for \u001b[39m\u001b[90mArray{Rectangle, 1}\u001b[39m\u001b[90m)\u001b[39m"
      ]
     },
     "execution_count": 13,
     "metadata": {},
     "output_type": "execute_result"
    }
   ],
   "source": [
    "typeof(rectangle_arr)"
   ]
  },
  {
   "cell_type": "code",
   "execution_count": 14,
   "id": "df34eda2-b783-44d5-8113-dda335e5790f",
   "metadata": {
    "execution": {
     "iopub.execute_input": "2024-04-20T09:48:45.223",
     "iopub.status.busy": "2024-04-20T09:48:45.223",
     "iopub.status.idle": "2024-04-20T09:48:45.246",
     "shell.execute_reply": "2024-04-20T09:48:45.244"
    }
   },
   "outputs": [
    {
     "data": {
      "text/plain": [
       "Vector{Triangle}\u001b[90m (alias for \u001b[39m\u001b[90mArray{Triangle, 1}\u001b[39m\u001b[90m)\u001b[39m"
      ]
     },
     "execution_count": 14,
     "metadata": {},
     "output_type": "execute_result"
    }
   ],
   "source": [
    "typeof(triangle_arr)"
   ]
  },
  {
   "cell_type": "code",
   "execution_count": 15,
   "id": "866d6426-dc4d-4aa7-9847-7bece7790dd3",
   "metadata": {
    "execution": {
     "iopub.execute_input": "2024-04-20T09:48:45.775",
     "iopub.status.busy": "2024-04-20T09:48:45.774",
     "iopub.status.idle": "2024-04-20T09:48:45.797",
     "shell.execute_reply": "2024-04-20T09:48:45.796"
    }
   },
   "outputs": [
    {
     "data": {
      "text/plain": [
       "Vector{Circle}\u001b[90m (alias for \u001b[39m\u001b[90mArray{Circle, 1}\u001b[39m\u001b[90m)\u001b[39m"
      ]
     },
     "execution_count": 15,
     "metadata": {},
     "output_type": "execute_result"
    }
   ],
   "source": [
    "typeof(circle_arr)"
   ]
  },
  {
   "cell_type": "code",
   "execution_count": 16,
   "id": "663e79c1-c9b6-4685-b8c7-1c5599351040",
   "metadata": {
    "execution": {
     "iopub.execute_input": "2024-04-20T09:48:50.952",
     "iopub.status.busy": "2024-04-20T09:48:50.952",
     "iopub.status.idle": "2024-04-20T09:48:51.035",
     "shell.execute_reply": "2024-04-20T09:48:51.034"
    }
   },
   "outputs": [],
   "source": [
    "filter_shapes_by_type(::Type{T}, shapes) where T = filter(shapes) do s; isa(s, T); end\n",
    "\n",
    "shape_arr1 = filter_shapes_by_type(Square, shapes)\n",
    "shape_arr2 = filter_shapes_by_type(Rectangle, shapes)\n",
    "shape_arr3 = filter_shapes_by_type(Triangle, shapes)\n",
    "shape_arr4 = filter_shapes_by_type(Circle, shapes)\n",
    "\n",
    "nothing"
   ]
  },
  {
   "cell_type": "code",
   "execution_count": 17,
   "id": "07b3b675-e048-4508-8d04-9c5c31f74334",
   "metadata": {
    "execution": {
     "iopub.execute_input": "2024-04-20T09:48:51.513",
     "iopub.status.busy": "2024-04-20T09:48:51.513",
     "iopub.status.idle": "2024-04-20T09:48:51.520",
     "shell.execute_reply": "2024-04-20T09:48:51.520"
    }
   },
   "outputs": [
    {
     "data": {
      "text/plain": [
       "Vector{Shape}\u001b[90m (alias for \u001b[39m\u001b[90mArray{Shape, 1}\u001b[39m\u001b[90m)\u001b[39m"
      ]
     },
     "execution_count": 17,
     "metadata": {},
     "output_type": "execute_result"
    }
   ],
   "source": [
    "typeof(shape_arr1)"
   ]
  },
  {
   "cell_type": "code",
   "execution_count": 18,
   "id": "88d400ab-fd23-4fef-93ba-54c1ee4119c9",
   "metadata": {
    "execution": {
     "iopub.execute_input": "2024-04-20T09:48:52.209",
     "iopub.status.busy": "2024-04-20T09:48:52.209",
     "iopub.status.idle": "2024-04-20T09:48:52.215",
     "shell.execute_reply": "2024-04-20T09:48:52.215"
    }
   },
   "outputs": [
    {
     "data": {
      "text/plain": [
       "Vector{Shape}\u001b[90m (alias for \u001b[39m\u001b[90mArray{Shape, 1}\u001b[39m\u001b[90m)\u001b[39m"
      ]
     },
     "execution_count": 18,
     "metadata": {},
     "output_type": "execute_result"
    }
   ],
   "source": [
    "typeof(shape_arr2)"
   ]
  },
  {
   "cell_type": "code",
   "execution_count": 19,
   "id": "a251571a-142a-472c-81ce-95f90c4235c4",
   "metadata": {
    "execution": {
     "iopub.execute_input": "2024-04-20T09:48:52.564",
     "iopub.status.busy": "2024-04-20T09:48:52.564",
     "iopub.status.idle": "2024-04-20T09:48:52.569",
     "shell.execute_reply": "2024-04-20T09:48:52.568"
    }
   },
   "outputs": [
    {
     "data": {
      "text/plain": [
       "Vector{Shape}\u001b[90m (alias for \u001b[39m\u001b[90mArray{Shape, 1}\u001b[39m\u001b[90m)\u001b[39m"
      ]
     },
     "execution_count": 19,
     "metadata": {},
     "output_type": "execute_result"
    }
   ],
   "source": [
    "typeof(shape_arr3)"
   ]
  },
  {
   "cell_type": "code",
   "execution_count": 20,
   "id": "0ebb4f42-61c6-49be-8178-98ad4da528e9",
   "metadata": {
    "execution": {
     "iopub.execute_input": "2024-04-20T09:48:52.990",
     "iopub.status.busy": "2024-04-20T09:48:52.989",
     "iopub.status.idle": "2024-04-20T09:48:53.002",
     "shell.execute_reply": "2024-04-20T09:48:53"
    }
   },
   "outputs": [
    {
     "data": {
      "text/plain": [
       "Vector{Shape}\u001b[90m (alias for \u001b[39m\u001b[90mArray{Shape, 1}\u001b[39m\u001b[90m)\u001b[39m"
      ]
     },
     "execution_count": 20,
     "metadata": {},
     "output_type": "execute_result"
    }
   ],
   "source": [
    "typeof(shape_arr4)"
   ]
  },
  {
   "cell_type": "code",
   "execution_count": 22,
   "id": "88bed1fb-5da1-4c41-97cf-328baa5c8a52",
   "metadata": {
    "execution": {
     "iopub.execute_input": "2024-04-20T09:49:30.054",
     "iopub.status.busy": "2024-04-20T09:49:30.054",
     "iopub.status.idle": "2024-04-20T09:49:30.433",
     "shell.execute_reply": "2024-04-20T09:49:30.432"
    }
   },
   "outputs": [],
   "source": [
    "sorted_shapes_shape = vcat(square_arr, rectangle_arr, triangle_arr, circle_arr);\n",
    "sorted_shapes_any = Any[s for s in sorted_shapes_shape];"
   ]
  },
  {
   "cell_type": "code",
   "execution_count": 23,
   "id": "79d993a9-556c-45d7-9010-3c0313b0b478",
   "metadata": {
    "execution": {
     "iopub.execute_input": "2024-04-20T09:49:32.020",
     "iopub.status.busy": "2024-04-20T09:49:32.020",
     "iopub.status.idle": "2024-04-20T09:49:32.030",
     "shell.execute_reply": "2024-04-20T09:49:32.029"
    }
   },
   "outputs": [
    {
     "data": {
      "text/plain": [
       "Vector{Shape}\u001b[90m (alias for \u001b[39m\u001b[90mArray{Shape, 1}\u001b[39m\u001b[90m)\u001b[39m"
      ]
     },
     "execution_count": 23,
     "metadata": {},
     "output_type": "execute_result"
    }
   ],
   "source": [
    "typeof(sorted_shapes_shape)"
   ]
  },
  {
   "cell_type": "code",
   "execution_count": 24,
   "id": "6608a0dd-158d-45c0-9cf0-e15203e81afb",
   "metadata": {
    "execution": {
     "iopub.execute_input": "2024-04-20T09:49:33.603",
     "iopub.status.busy": "2024-04-20T09:49:33.603",
     "iopub.status.idle": "2024-04-20T09:49:44.607",
     "shell.execute_reply": "2024-04-20T09:49:44.606"
    }
   },
   "outputs": [
    {
     "data": {
      "text/plain": [
       "BenchmarkTools.Trial: 141 samples with 1 evaluation.\n",
       " Range \u001b[90m(\u001b[39m\u001b[36m\u001b[1mmin\u001b[22m\u001b[39m … \u001b[35mmax\u001b[39m\u001b[90m):  \u001b[39m\u001b[36m\u001b[1m33.594 ms\u001b[22m\u001b[39m … \u001b[35m38.594 ms\u001b[39m  \u001b[90m┊\u001b[39m GC \u001b[90m(\u001b[39mmin … max\u001b[90m): \u001b[39m0.00% … 7.15%\n",
       " Time  \u001b[90m(\u001b[39m\u001b[34m\u001b[1mmedian\u001b[22m\u001b[39m\u001b[90m):     \u001b[39m\u001b[34m\u001b[1m34.695 ms              \u001b[22m\u001b[39m\u001b[90m┊\u001b[39m GC \u001b[90m(\u001b[39mmedian\u001b[90m):    \u001b[39m0.00%\n",
       " Time  \u001b[90m(\u001b[39m\u001b[32m\u001b[1mmean\u001b[22m\u001b[39m ± \u001b[32mσ\u001b[39m\u001b[90m):   \u001b[39m\u001b[32m\u001b[1m35.533 ms\u001b[22m\u001b[39m ± \u001b[32m 1.442 ms\u001b[39m  \u001b[90m┊\u001b[39m GC \u001b[90m(\u001b[39mmean ± σ\u001b[90m):  \u001b[39m3.24% ± 3.38%\n",
       "\n",
       "  \u001b[39m \u001b[39m \u001b[39m \u001b[39m \u001b[39m \u001b[39m▆\u001b[39m█\u001b[39m \u001b[39m▁\u001b[39m \u001b[39m \u001b[39m \u001b[39m \u001b[34m \u001b[39m\u001b[39m \u001b[39m \u001b[39m \u001b[39m \u001b[39m \u001b[39m \u001b[39m \u001b[39m \u001b[39m \u001b[39m \u001b[32m \u001b[39m\u001b[39m \u001b[39m \u001b[39m \u001b[39m \u001b[39m \u001b[39m \u001b[39m \u001b[39m \u001b[39m \u001b[39m \u001b[39m \u001b[39m \u001b[39m \u001b[39m \u001b[39m \u001b[39m \u001b[39m \u001b[39m \u001b[39m \u001b[39m \u001b[39m \u001b[39m \u001b[39m \u001b[39m \u001b[39m \u001b[39m \u001b[39m \u001b[39m \u001b[39m \u001b[39m \u001b[39m \u001b[39m \u001b[39m \u001b[39m \u001b[39m \u001b[39m \n",
       "  \u001b[39m▄\u001b[39m▁\u001b[39m▁\u001b[39m▃\u001b[39m▄\u001b[39m█\u001b[39m█\u001b[39m▇\u001b[39m█\u001b[39m▅\u001b[39m▄\u001b[39m▃\u001b[39m▄\u001b[34m▃\u001b[39m\u001b[39m▃\u001b[39m▁\u001b[39m▁\u001b[39m▁\u001b[39m▃\u001b[39m▁\u001b[39m▃\u001b[39m▃\u001b[39m▁\u001b[39m▁\u001b[32m▃\u001b[39m\u001b[39m▁\u001b[39m▁\u001b[39m▁\u001b[39m▃\u001b[39m▁\u001b[39m▁\u001b[39m▁\u001b[39m▃\u001b[39m▃\u001b[39m▁\u001b[39m▃\u001b[39m▁\u001b[39m▆\u001b[39m█\u001b[39m█\u001b[39m▆\u001b[39m▆\u001b[39m▆\u001b[39m▄\u001b[39m▆\u001b[39m▄\u001b[39m▅\u001b[39m▁\u001b[39m▄\u001b[39m▃\u001b[39m▁\u001b[39m▁\u001b[39m▁\u001b[39m▁\u001b[39m▁\u001b[39m▁\u001b[39m▁\u001b[39m▁\u001b[39m▃\u001b[39m \u001b[39m▃\n",
       "  33.6 ms\u001b[90m         Histogram: frequency by time\u001b[39m        38.4 ms \u001b[0m\u001b[1m<\u001b[22m\n",
       "\n",
       " Memory estimate\u001b[90m: \u001b[39m\u001b[33m38.14 MiB\u001b[39m, allocs estimate\u001b[90m: \u001b[39m\u001b[33m1999492\u001b[39m."
      ]
     },
     "execution_count": 24,
     "metadata": {},
     "output_type": "execute_result"
    }
   ],
   "source": [
    "@benchmark main1(sorted_shapes_shape)"
   ]
  },
  {
   "cell_type": "code",
   "execution_count": 25,
   "id": "2f22474c-0bfe-4c71-baa5-a0cfd165158a",
   "metadata": {
    "execution": {
     "iopub.execute_input": "2024-04-20T09:49:45.830",
     "iopub.status.busy": "2024-04-20T09:49:45.829",
     "iopub.status.idle": "2024-04-20T09:49:45.861",
     "shell.execute_reply": "2024-04-20T09:49:45.861"
    }
   },
   "outputs": [
    {
     "data": {
      "text/plain": [
       "Vector{Any}\u001b[90m (alias for \u001b[39m\u001b[90mArray{Any, 1}\u001b[39m\u001b[90m)\u001b[39m"
      ]
     },
     "execution_count": 25,
     "metadata": {},
     "output_type": "execute_result"
    }
   ],
   "source": [
    "typeof(sorted_shapes_any)"
   ]
  },
  {
   "cell_type": "code",
   "execution_count": 26,
   "id": "87d39970-fb7e-4951-a2ba-e2564c72f183",
   "metadata": {
    "execution": {
     "iopub.execute_input": "2024-04-20T09:49:46.656",
     "iopub.status.busy": "2024-04-20T09:49:46.656",
     "iopub.status.idle": "2024-04-20T09:49:57.714",
     "shell.execute_reply": "2024-04-20T09:49:57.714"
    }
   },
   "outputs": [
    {
     "data": {
      "text/plain": [
       "BenchmarkTools.Trial: 138 samples with 1 evaluation.\n",
       " Range \u001b[90m(\u001b[39m\u001b[36m\u001b[1mmin\u001b[22m\u001b[39m … \u001b[35mmax\u001b[39m\u001b[90m):  \u001b[39m\u001b[36m\u001b[1m33.935 ms\u001b[22m\u001b[39m … \u001b[35m39.610 ms\u001b[39m  \u001b[90m┊\u001b[39m GC \u001b[90m(\u001b[39mmin … max\u001b[90m): \u001b[39m0.00% … 7.34%\n",
       " Time  \u001b[90m(\u001b[39m\u001b[34m\u001b[1mmedian\u001b[22m\u001b[39m\u001b[90m):     \u001b[39m\u001b[34m\u001b[1m35.934 ms              \u001b[22m\u001b[39m\u001b[90m┊\u001b[39m GC \u001b[90m(\u001b[39mmedian\u001b[90m):    \u001b[39m0.00%\n",
       " Time  \u001b[90m(\u001b[39m\u001b[32m\u001b[1mmean\u001b[22m\u001b[39m ± \u001b[32mσ\u001b[39m\u001b[90m):   \u001b[39m\u001b[32m\u001b[1m36.247 ms\u001b[22m\u001b[39m ± \u001b[32m 1.563 ms\u001b[39m  \u001b[90m┊\u001b[39m GC \u001b[90m(\u001b[39mmean ± σ\u001b[90m):  \u001b[39m3.19% ± 3.36%\n",
       "\n",
       "  \u001b[39m▄\u001b[39m \u001b[39m \u001b[39m \u001b[39m▂\u001b[39m▄\u001b[39m▆\u001b[39m \u001b[39m▄\u001b[39m▄\u001b[39m█\u001b[39m \u001b[39m \u001b[39m \u001b[39m \u001b[39m \u001b[39m \u001b[39m▂\u001b[39m▂\u001b[39m \u001b[39m \u001b[39m \u001b[39m \u001b[34m▄\u001b[39m\u001b[39m \u001b[39m \u001b[39m \u001b[32m \u001b[39m\u001b[39m \u001b[39m \u001b[39m \u001b[39m \u001b[39m \u001b[39m \u001b[39m▂\u001b[39m \u001b[39m \u001b[39m▂\u001b[39m▂\u001b[39m▆\u001b[39m▆\u001b[39m▂\u001b[39m \u001b[39m \u001b[39m \u001b[39m \u001b[39m \u001b[39m \u001b[39m \u001b[39m▆\u001b[39m \u001b[39m▄\u001b[39m \u001b[39m \u001b[39m \u001b[39m \u001b[39m \u001b[39m \u001b[39m \u001b[39m \u001b[39m \n",
       "  \u001b[39m█\u001b[39m▁\u001b[39m▆\u001b[39m▆\u001b[39m█\u001b[39m█\u001b[39m█\u001b[39m▆\u001b[39m█\u001b[39m█\u001b[39m█\u001b[39m█\u001b[39m▄\u001b[39m▁\u001b[39m█\u001b[39m█\u001b[39m▆\u001b[39m█\u001b[39m█\u001b[39m▄\u001b[39m▄\u001b[39m▁\u001b[39m▆\u001b[34m█\u001b[39m\u001b[39m▁\u001b[39m▁\u001b[39m▆\u001b[32m▁\u001b[39m\u001b[39m▁\u001b[39m▁\u001b[39m▁\u001b[39m▁\u001b[39m▆\u001b[39m▆\u001b[39m█\u001b[39m▆\u001b[39m▁\u001b[39m█\u001b[39m█\u001b[39m█\u001b[39m█\u001b[39m█\u001b[39m▄\u001b[39m▄\u001b[39m▄\u001b[39m▄\u001b[39m▄\u001b[39m▁\u001b[39m▁\u001b[39m█\u001b[39m▆\u001b[39m█\u001b[39m▄\u001b[39m▆\u001b[39m█\u001b[39m▄\u001b[39m▄\u001b[39m▄\u001b[39m▆\u001b[39m \u001b[39m▄\n",
       "  33.9 ms\u001b[90m         Histogram: frequency by time\u001b[39m          39 ms \u001b[0m\u001b[1m<\u001b[22m\n",
       "\n",
       " Memory estimate\u001b[90m: \u001b[39m\u001b[33m38.14 MiB\u001b[39m, allocs estimate\u001b[90m: \u001b[39m\u001b[33m1999492\u001b[39m."
      ]
     },
     "execution_count": 26,
     "metadata": {},
     "output_type": "execute_result"
    }
   ],
   "source": [
    "@benchmark main1(sorted_shapes_any)"
   ]
  },
  {
   "cell_type": "code",
   "execution_count": 50,
   "id": "2c459da3-4b81-4e2f-ae5a-75a53e50f71b",
   "metadata": {
    "execution": {
     "iopub.execute_input": "2024-04-20T09:56:44.634",
     "iopub.status.busy": "2024-04-20T09:56:44.633",
     "iopub.status.idle": "2024-04-20T09:56:44.639",
     "shell.execute_reply": "2024-04-20T09:56:44.639"
    }
   },
   "outputs": [
    {
     "data": {
      "text/plain": [
       "area (generic function with 8 methods)"
      ]
     },
     "execution_count": 50,
     "metadata": {},
     "output_type": "execute_result"
    }
   ],
   "source": [
    "struct ShapeContainerSpecialized{T <: Shape}\n",
    "    shape::T\n",
    "end\n",
    "area(s::ShapeContainerSpecialized) = area(s.shape)"
   ]
  },
  {
   "cell_type": "code",
   "execution_count": 51,
   "id": "f9525e8b-068d-460b-8068-ddc390c472d1",
   "metadata": {
    "execution": {
     "iopub.execute_input": "2024-04-20T09:56:44.904",
     "iopub.status.busy": "2024-04-20T09:56:44.903",
     "iopub.status.idle": "2024-04-20T09:56:44.996",
     "shell.execute_reply": "2024-04-20T09:56:44.995"
    }
   },
   "outputs": [],
   "source": [
    "sorted_shapes_shapecontainer_specialized = [ShapeContainerSpecialized(s) for s in sorted_shapes_any];"
   ]
  },
  {
   "cell_type": "code",
   "execution_count": 52,
   "id": "085db2d9-dc93-449d-a5c2-37867bd90544",
   "metadata": {
    "execution": {
     "iopub.execute_input": "2024-04-20T09:56:45.117",
     "iopub.status.busy": "2024-04-20T09:56:45.117",
     "iopub.status.idle": "2024-04-20T09:56:45.119",
     "shell.execute_reply": "2024-04-20T09:56:45.119"
    },
    "scrolled": true
   },
   "outputs": [
    {
     "data": {
      "text/plain": [
       "Vector{ShapeContainerSpecialized}\u001b[90m (alias for \u001b[39m\u001b[90mArray{ShapeContainerSpecialized, 1}\u001b[39m\u001b[90m)\u001b[39m"
      ]
     },
     "execution_count": 52,
     "metadata": {},
     "output_type": "execute_result"
    }
   ],
   "source": [
    "typeof(sorted_shapes_shapecontainer_specialized)"
   ]
  },
  {
   "cell_type": "code",
   "execution_count": 53,
   "id": "ecb2bb04-3959-4304-9045-ea6e4c325ce6",
   "metadata": {
    "execution": {
     "iopub.execute_input": "2024-04-20T09:56:45.374",
     "iopub.status.busy": "2024-04-20T09:56:45.374",
     "iopub.status.idle": "2024-04-20T09:56:45.458",
     "shell.execute_reply": "2024-04-20T09:56:45.458"
    }
   },
   "outputs": [
    {
     "name": "stdout",
     "output_type": "stream",
     "text": [
      "  0.056874 seconds (1.00 M allocations: 23.077 MiB, 20.00% compilation time)\n"
     ]
    }
   ],
   "source": [
    "@time main1(sorted_shapes_shapecontainer_specialized);"
   ]
  },
  {
   "cell_type": "code",
   "execution_count": 54,
   "id": "d9378f75-1e68-4098-a30d-9eff513d13fb",
   "metadata": {
    "execution": {
     "iopub.execute_input": "2024-04-20T09:56:45.830",
     "iopub.status.busy": "2024-04-20T09:56:45.830",
     "iopub.status.idle": "2024-04-20T09:56:56.961",
     "shell.execute_reply": "2024-04-20T09:56:56.960"
    }
   },
   "outputs": [
    {
     "data": {
      "text/plain": [
       "BenchmarkTools.Trial: 131 samples with 1 evaluation.\n",
       " Range \u001b[90m(\u001b[39m\u001b[36m\u001b[1mmin\u001b[22m\u001b[39m … \u001b[35mmax\u001b[39m\u001b[90m):  \u001b[39m\u001b[36m\u001b[1m36.206 ms\u001b[22m\u001b[39m … \u001b[35m46.573 ms\u001b[39m  \u001b[90m┊\u001b[39m GC \u001b[90m(\u001b[39mmin … max\u001b[90m): \u001b[39m0.00% … 17.88%\n",
       " Time  \u001b[90m(\u001b[39m\u001b[34m\u001b[1mmedian\u001b[22m\u001b[39m\u001b[90m):     \u001b[39m\u001b[34m\u001b[1m37.124 ms              \u001b[22m\u001b[39m\u001b[90m┊\u001b[39m GC \u001b[90m(\u001b[39mmedian\u001b[90m):    \u001b[39m0.00%\n",
       " Time  \u001b[90m(\u001b[39m\u001b[32m\u001b[1mmean\u001b[22m\u001b[39m ± \u001b[32mσ\u001b[39m\u001b[90m):   \u001b[39m\u001b[32m\u001b[1m38.268 ms\u001b[22m\u001b[39m ± \u001b[32m 2.771 ms\u001b[39m  \u001b[90m┊\u001b[39m GC \u001b[90m(\u001b[39mmean ± σ\u001b[90m):  \u001b[39m2.95% ±  5.87%\n",
       "\n",
       "  \u001b[39m \u001b[39m█\u001b[39m▆\u001b[39m▁\u001b[39m \u001b[34m \u001b[39m\u001b[39m \u001b[39m▃\u001b[39m \u001b[39m \u001b[39m \u001b[39m \u001b[32m \u001b[39m\u001b[39m \u001b[39m \u001b[39m \u001b[39m \u001b[39m \u001b[39m \u001b[39m \u001b[39m \u001b[39m \u001b[39m \u001b[39m \u001b[39m \u001b[39m \u001b[39m \u001b[39m \u001b[39m \u001b[39m \u001b[39m \u001b[39m \u001b[39m \u001b[39m \u001b[39m \u001b[39m \u001b[39m \u001b[39m \u001b[39m \u001b[39m \u001b[39m \u001b[39m \u001b[39m \u001b[39m \u001b[39m \u001b[39m \u001b[39m \u001b[39m \u001b[39m \u001b[39m \u001b[39m \u001b[39m \u001b[39m \u001b[39m \u001b[39m \u001b[39m \u001b[39m \u001b[39m \u001b[39m \u001b[39m \u001b[39m \n",
       "  \u001b[39m█\u001b[39m█\u001b[39m█\u001b[39m█\u001b[39m▅\u001b[34m▆\u001b[39m\u001b[39m▅\u001b[39m█\u001b[39m▃\u001b[39m▃\u001b[39m▅\u001b[39m▁\u001b[32m▅\u001b[39m\u001b[39m▃\u001b[39m▄\u001b[39m▃\u001b[39m▄\u001b[39m▁\u001b[39m▃\u001b[39m▁\u001b[39m▁\u001b[39m▁\u001b[39m▁\u001b[39m▁\u001b[39m▁\u001b[39m▁\u001b[39m▁\u001b[39m▁\u001b[39m▁\u001b[39m▁\u001b[39m▁\u001b[39m▁\u001b[39m▁\u001b[39m▁\u001b[39m▁\u001b[39m▁\u001b[39m▁\u001b[39m▁\u001b[39m▁\u001b[39m▁\u001b[39m▃\u001b[39m▃\u001b[39m▃\u001b[39m▃\u001b[39m▅\u001b[39m▃\u001b[39m▁\u001b[39m▁\u001b[39m▁\u001b[39m▃\u001b[39m▃\u001b[39m▃\u001b[39m▁\u001b[39m▃\u001b[39m▃\u001b[39m▁\u001b[39m▁\u001b[39m▁\u001b[39m▃\u001b[39m \u001b[39m▃\n",
       "  36.2 ms\u001b[90m         Histogram: frequency by time\u001b[39m        46.3 ms \u001b[0m\u001b[1m<\u001b[22m\n",
       "\n",
       " Memory estimate\u001b[90m: \u001b[39m\u001b[33m22.89 MiB\u001b[39m, allocs estimate\u001b[90m: \u001b[39m\u001b[33m1000010\u001b[39m."
      ]
     },
     "execution_count": 54,
     "metadata": {},
     "output_type": "execute_result"
    }
   ],
   "source": [
    "@benchmark main1(sorted_shapes_shapecontainer_specialized)"
   ]
  },
  {
   "cell_type": "code",
   "execution_count": 32,
   "id": "a7d841dd-d8fd-4923-9a97-5be4abfe462a",
   "metadata": {
    "execution": {
     "iopub.execute_input": "2024-04-20T09:54:03.381",
     "iopub.status.busy": "2024-04-20T09:54:03.381",
     "iopub.status.idle": "2024-04-20T09:54:03.385",
     "shell.execute_reply": "2024-04-20T09:54:03.384"
    }
   },
   "outputs": [
    {
     "data": {
      "text/plain": [
       "area (generic function with 7 methods)"
      ]
     },
     "execution_count": 32,
     "metadata": {},
     "output_type": "execute_result"
    }
   ],
   "source": [
    "struct ShapeContainerUntyped\n",
    "    shape\n",
    "end\n",
    "area(s::ShapeContainerUntyped) = area(s.shape)"
   ]
  },
  {
   "cell_type": "code",
   "execution_count": 33,
   "id": "b8cef4b1-1e66-4f6a-b374-4437682f8641",
   "metadata": {
    "execution": {
     "iopub.execute_input": "2024-04-20T09:54:04.157",
     "iopub.status.busy": "2024-04-20T09:54:04.157",
     "iopub.status.idle": "2024-04-20T09:54:04.535",
     "shell.execute_reply": "2024-04-20T09:54:04.534"
    }
   },
   "outputs": [],
   "source": [
    "sorted_shapes_shapecontainer_untyped = Any[ShapeContainerUntyped(s) for s in sorted_shapes_any];"
   ]
  },
  {
   "cell_type": "code",
   "execution_count": 34,
   "id": "015ce31a-9e2a-4d25-b13f-16cf1a17c20a",
   "metadata": {
    "execution": {
     "iopub.execute_input": "2024-04-20T09:54:04.709",
     "iopub.status.busy": "2024-04-20T09:54:04.709",
     "iopub.status.idle": "2024-04-20T09:54:04.813",
     "shell.execute_reply": "2024-04-20T09:54:04.813"
    }
   },
   "outputs": [
    {
     "name": "stdout",
     "output_type": "stream",
     "text": [
      "  0.085696 seconds (1.06 M allocations: 27.042 MiB, 36.33% compilation time: 45% of which was recompilation)\n"
     ]
    }
   ],
   "source": [
    "@time main1(sorted_shapes_shapecontainer_untyped);"
   ]
  },
  {
   "cell_type": "code",
   "execution_count": 35,
   "id": "290e14b0-f694-4056-8fb9-5ad45519a1ee",
   "metadata": {
    "execution": {
     "iopub.execute_input": "2024-04-20T09:54:05.283",
     "iopub.status.busy": "2024-04-20T09:54:05.283",
     "iopub.status.idle": "2024-04-20T09:54:16.481",
     "shell.execute_reply": "2024-04-20T09:54:16.481"
    }
   },
   "outputs": [
    {
     "data": {
      "text/plain": [
       "BenchmarkTools.Trial: 100 samples with 1 evaluation.\n",
       " Range \u001b[90m(\u001b[39m\u001b[36m\u001b[1mmin\u001b[22m\u001b[39m … \u001b[35mmax\u001b[39m\u001b[90m):  \u001b[39m\u001b[36m\u001b[1m48.312 ms\u001b[22m\u001b[39m … \u001b[35m56.302 ms\u001b[39m  \u001b[90m┊\u001b[39m GC \u001b[90m(\u001b[39mmin … max\u001b[90m): \u001b[39m0.00% … 10.56%\n",
       " Time  \u001b[90m(\u001b[39m\u001b[34m\u001b[1mmedian\u001b[22m\u001b[39m\u001b[90m):     \u001b[39m\u001b[34m\u001b[1m48.980 ms              \u001b[22m\u001b[39m\u001b[90m┊\u001b[39m GC \u001b[90m(\u001b[39mmedian\u001b[90m):    \u001b[39m0.00%\n",
       " Time  \u001b[90m(\u001b[39m\u001b[32m\u001b[1mmean\u001b[22m\u001b[39m ± \u001b[32mσ\u001b[39m\u001b[90m):   \u001b[39m\u001b[32m\u001b[1m50.076 ms\u001b[22m\u001b[39m ± \u001b[32m 2.344 ms\u001b[39m  \u001b[90m┊\u001b[39m GC \u001b[90m(\u001b[39mmean ± σ\u001b[90m):  \u001b[39m2.00% ±  3.90%\n",
       "\n",
       "  \u001b[39m \u001b[39m \u001b[39m▁\u001b[39m█\u001b[39m▄\u001b[34m▂\u001b[39m\u001b[39m \u001b[39m▁\u001b[39m \u001b[39m \u001b[39m \u001b[39m \u001b[39m \u001b[39m \u001b[32m \u001b[39m\u001b[39m \u001b[39m \u001b[39m \u001b[39m \u001b[39m \u001b[39m \u001b[39m \u001b[39m \u001b[39m \u001b[39m \u001b[39m \u001b[39m \u001b[39m \u001b[39m \u001b[39m \u001b[39m \u001b[39m \u001b[39m \u001b[39m \u001b[39m \u001b[39m \u001b[39m \u001b[39m \u001b[39m \u001b[39m \u001b[39m \u001b[39m \u001b[39m \u001b[39m \u001b[39m \u001b[39m \u001b[39m \u001b[39m \u001b[39m \u001b[39m \u001b[39m \u001b[39m \u001b[39m \u001b[39m \u001b[39m \u001b[39m \u001b[39m \u001b[39m \u001b[39m \u001b[39m \u001b[39m \n",
       "  \u001b[39m▃\u001b[39m▃\u001b[39m█\u001b[39m█\u001b[39m█\u001b[34m█\u001b[39m\u001b[39m▄\u001b[39m█\u001b[39m▇\u001b[39m▃\u001b[39m▁\u001b[39m▃\u001b[39m▄\u001b[39m▃\u001b[32m▁\u001b[39m\u001b[39m▁\u001b[39m▁\u001b[39m▁\u001b[39m▃\u001b[39m▁\u001b[39m▁\u001b[39m▁\u001b[39m▁\u001b[39m▁\u001b[39m▁\u001b[39m▁\u001b[39m▁\u001b[39m▁\u001b[39m▁\u001b[39m▁\u001b[39m▁\u001b[39m▁\u001b[39m▁\u001b[39m▁\u001b[39m▁\u001b[39m▁\u001b[39m▁\u001b[39m▁\u001b[39m▁\u001b[39m▁\u001b[39m▁\u001b[39m▁\u001b[39m▁\u001b[39m▁\u001b[39m▁\u001b[39m▃\u001b[39m▁\u001b[39m▃\u001b[39m▃\u001b[39m▃\u001b[39m▁\u001b[39m▃\u001b[39m▆\u001b[39m▃\u001b[39m▁\u001b[39m▃\u001b[39m▁\u001b[39m▁\u001b[39m▃\u001b[39m \u001b[39m▃\n",
       "  48.3 ms\u001b[90m         Histogram: frequency by time\u001b[39m        55.7 ms \u001b[0m\u001b[1m<\u001b[22m\n",
       "\n",
       " Memory estimate\u001b[90m: \u001b[39m\u001b[33m22.89 MiB\u001b[39m, allocs estimate\u001b[90m: \u001b[39m\u001b[33m1000010\u001b[39m."
      ]
     },
     "execution_count": 35,
     "metadata": {},
     "output_type": "execute_result"
    }
   ],
   "source": [
    "@benchmark main1(sorted_shapes_shapecontainer_untyped)"
   ]
  },
  {
   "cell_type": "code",
   "execution_count": null,
   "id": "ec4b210e-10fb-48ac-a670-ccddb10a13b5",
   "metadata": {},
   "outputs": [],
   "source": []
  },
  {
   "cell_type": "code",
   "execution_count": 29,
   "id": "852e4dc2-fb51-4727-9f3b-1330c3972631",
   "metadata": {
    "execution": {
     "iopub.execute_input": "2024-04-20T09:21:20.940",
     "iopub.status.busy": "2024-04-20T09:21:20.940",
     "iopub.status.idle": "2024-04-20T09:21:20.954",
     "shell.execute_reply": "2024-04-20T09:21:20.954"
    }
   },
   "outputs": [
    {
     "data": {
      "text/plain": [
       "main2 (generic function with 1 method)"
      ]
     },
     "execution_count": 29,
     "metadata": {},
     "output_type": "execute_result"
    }
   ],
   "source": [
    "main2(arrs...) = sum(main1.(arrs))"
   ]
  },
  {
   "cell_type": "code",
   "execution_count": 48,
   "id": "f2f78446-5522-42f1-a254-8dbe18eb07db",
   "metadata": {
    "execution": {
     "iopub.execute_input": "2024-04-20T09:29:38.032",
     "iopub.status.busy": "2024-04-20T09:29:38.031",
     "iopub.status.idle": "2024-04-20T09:29:38.144",
     "shell.execute_reply": "2024-04-20T09:29:38.144"
    }
   },
   "outputs": [
    {
     "name": "stdout",
     "output_type": "stream",
     "text": [
      "  0.013918 seconds (1.00 M allocations: 22.890 MiB)\n"
     ]
    }
   ],
   "source": [
    "any_arr1 = filter_shapes_by_type(Any, Square, shapes)\n",
    "any_arr2 = filter_shapes_by_type(Any, Rectangle, shapes)\n",
    "any_arr3 = filter_shapes_by_type(Any, Triangle, shapes)\n",
    "any_arr4 = filter_shapes_by_type(Any, Circle, shapes)\n",
    "\n",
    "@time main2(any_arr1, any_arr2, any_arr3, any_arr4);"
   ]
  },
  {
   "cell_type": "code",
   "execution_count": 49,
   "id": "b2f5e136-872b-4149-ac66-cb64a8553fa5",
   "metadata": {
    "execution": {
     "iopub.execute_input": "2024-04-20T09:29:39.181",
     "iopub.status.busy": "2024-04-20T09:29:39.181",
     "iopub.status.idle": "2024-04-20T09:29:50.225",
     "shell.execute_reply": "2024-04-20T09:29:50.225"
    }
   },
   "outputs": [
    {
     "data": {
      "text/plain": [
       "BenchmarkTools.Trial: 355 samples with 1 evaluation.\n",
       " Range \u001b[90m(\u001b[39m\u001b[36m\u001b[1mmin\u001b[22m\u001b[39m … \u001b[35mmax\u001b[39m\u001b[90m):  \u001b[39m\u001b[36m\u001b[1m12.783 ms\u001b[22m\u001b[39m … \u001b[35m19.025 ms\u001b[39m  \u001b[90m┊\u001b[39m GC \u001b[90m(\u001b[39mmin … max\u001b[90m): \u001b[39m0.00% … 30.33%\n",
       " Time  \u001b[90m(\u001b[39m\u001b[34m\u001b[1mmedian\u001b[22m\u001b[39m\u001b[90m):     \u001b[39m\u001b[34m\u001b[1m13.233 ms              \u001b[22m\u001b[39m\u001b[90m┊\u001b[39m GC \u001b[90m(\u001b[39mmedian\u001b[90m):    \u001b[39m0.00%\n",
       " Time  \u001b[90m(\u001b[39m\u001b[32m\u001b[1mmean\u001b[22m\u001b[39m ± \u001b[32mσ\u001b[39m\u001b[90m):   \u001b[39m\u001b[32m\u001b[1m14.113 ms\u001b[22m\u001b[39m ± \u001b[32m 1.724 ms\u001b[39m  \u001b[90m┊\u001b[39m GC \u001b[90m(\u001b[39mmean ± σ\u001b[90m):  \u001b[39m6.31% ±  9.74%\n",
       "\n",
       "  \u001b[39m \u001b[39m \u001b[39m▄\u001b[39m█\u001b[39m▇\u001b[34m▆\u001b[39m\u001b[39m▄\u001b[39m \u001b[39m \u001b[39m \u001b[39m \u001b[39m \u001b[39m \u001b[39m \u001b[32m \u001b[39m\u001b[39m \u001b[39m \u001b[39m \u001b[39m \u001b[39m \u001b[39m \u001b[39m \u001b[39m \u001b[39m \u001b[39m \u001b[39m \u001b[39m \u001b[39m \u001b[39m \u001b[39m \u001b[39m \u001b[39m \u001b[39m \u001b[39m \u001b[39m \u001b[39m \u001b[39m \u001b[39m \u001b[39m \u001b[39m \u001b[39m \u001b[39m \u001b[39m \u001b[39m▁\u001b[39m \u001b[39m \u001b[39m \u001b[39m \u001b[39m \u001b[39m \u001b[39m \u001b[39m \u001b[39m \u001b[39m \u001b[39m \u001b[39m \u001b[39m \u001b[39m \u001b[39m \u001b[39m \u001b[39m \n",
       "  \u001b[39m▅\u001b[39m▇\u001b[39m█\u001b[39m█\u001b[39m█\u001b[34m█\u001b[39m\u001b[39m█\u001b[39m█\u001b[39m▆\u001b[39m▁\u001b[39m▄\u001b[39m▄\u001b[39m▁\u001b[39m▁\u001b[32m▁\u001b[39m\u001b[39m▁\u001b[39m▁\u001b[39m▁\u001b[39m▁\u001b[39m▁\u001b[39m▁\u001b[39m▁\u001b[39m▁\u001b[39m▁\u001b[39m▁\u001b[39m▁\u001b[39m▁\u001b[39m▁\u001b[39m▁\u001b[39m▁\u001b[39m▁\u001b[39m▁\u001b[39m▁\u001b[39m▁\u001b[39m▁\u001b[39m▄\u001b[39m▇\u001b[39m▄\u001b[39m▄\u001b[39m▄\u001b[39m█\u001b[39m▅\u001b[39m▇\u001b[39m█\u001b[39m█\u001b[39m█\u001b[39m█\u001b[39m█\u001b[39m▇\u001b[39m▇\u001b[39m▆\u001b[39m▁\u001b[39m▆\u001b[39m▆\u001b[39m▁\u001b[39m▁\u001b[39m▁\u001b[39m▁\u001b[39m▄\u001b[39m \u001b[39m▆\n",
       "  12.8 ms\u001b[90m      \u001b[39m\u001b[90mHistogram: \u001b[39m\u001b[90m\u001b[1mlog(\u001b[22m\u001b[39m\u001b[90mfrequency\u001b[39m\u001b[90m\u001b[1m)\u001b[22m\u001b[39m\u001b[90m by time\u001b[39m      18.6 ms \u001b[0m\u001b[1m<\u001b[22m\n",
       "\n",
       " Memory estimate\u001b[90m: \u001b[39m\u001b[33m22.89 MiB\u001b[39m, allocs estimate\u001b[90m: \u001b[39m\u001b[33m1000050\u001b[39m."
      ]
     },
     "execution_count": 49,
     "metadata": {},
     "output_type": "execute_result"
    }
   ],
   "source": [
    "@benchmark main2(any_arr1, any_arr2, any_arr3, any_arr4)"
   ]
  },
  {
   "cell_type": "code",
   "execution_count": 33,
   "id": "8d9fb3ea-498b-4b24-8ee7-f9300a0071c4",
   "metadata": {
    "execution": {
     "iopub.execute_input": "2024-04-20T09:22:01.032",
     "iopub.status.busy": "2024-04-20T09:22:01.032",
     "iopub.status.idle": "2024-04-20T09:22:01.192",
     "shell.execute_reply": "2024-04-20T09:22:01.191"
    }
   },
   "outputs": [
    {
     "name": "stdout",
     "output_type": "stream",
     "text": [
      "  0.096021 seconds (466.29 k allocations: 38.885 MiB, 98.77% compilation time)\n"
     ]
    }
   ],
   "source": [
    "@time main2(arr1, arr2, arr3, arr4);"
   ]
  },
  {
   "cell_type": "code",
   "execution_count": 34,
   "id": "5c46b62f-f3ee-420f-b925-1d32a6b79fdf",
   "metadata": {
    "execution": {
     "iopub.execute_input": "2024-04-20T09:22:01.192",
     "iopub.status.busy": "2024-04-20T09:22:01.192",
     "iopub.status.idle": "2024-04-20T09:22:11.803",
     "shell.execute_reply": "2024-04-20T09:22:11.803"
    }
   },
   "outputs": [
    {
     "data": {
      "text/plain": [
       "BenchmarkTools.Trial: 4769 samples with 1 evaluation.\n",
       " Range \u001b[90m(\u001b[39m\u001b[36m\u001b[1mmin\u001b[22m\u001b[39m … \u001b[35mmax\u001b[39m\u001b[90m):  \u001b[39m\u001b[36m\u001b[1m484.958 μs\u001b[22m\u001b[39m … \u001b[35m  8.573 ms\u001b[39m  \u001b[90m┊\u001b[39m GC \u001b[90m(\u001b[39mmin … max\u001b[90m): \u001b[39m 0.00% … 88.61%\n",
       " Time  \u001b[90m(\u001b[39m\u001b[34m\u001b[1mmedian\u001b[22m\u001b[39m\u001b[90m):     \u001b[39m\u001b[34m\u001b[1m856.042 μs               \u001b[22m\u001b[39m\u001b[90m┊\u001b[39m GC \u001b[90m(\u001b[39mmedian\u001b[90m):    \u001b[39m 0.00%\n",
       " Time  \u001b[90m(\u001b[39m\u001b[32m\u001b[1mmean\u001b[22m\u001b[39m ± \u001b[32mσ\u001b[39m\u001b[90m):   \u001b[39m\u001b[32m\u001b[1m  1.044 ms\u001b[22m\u001b[39m ± \u001b[32m724.541 μs\u001b[39m  \u001b[90m┊\u001b[39m GC \u001b[90m(\u001b[39mmean ± σ\u001b[90m):  \u001b[39m19.70% ± 20.74%\n",
       "\n",
       "  \u001b[39m▃\u001b[39m▃\u001b[39m▃\u001b[39m▃\u001b[39m▄\u001b[39m█\u001b[34m▇\u001b[39m\u001b[39m▅\u001b[39m▂\u001b[32m▁\u001b[39m\u001b[39m \u001b[39m \u001b[39m \u001b[39m \u001b[39m \u001b[39m \u001b[39m \u001b[39m \u001b[39m \u001b[39m \u001b[39m \u001b[39m \u001b[39m \u001b[39m \u001b[39m \u001b[39m \u001b[39m \u001b[39m \u001b[39m \u001b[39m \u001b[39m \u001b[39m \u001b[39m \u001b[39m \u001b[39m \u001b[39m \u001b[39m \u001b[39m \u001b[39m \u001b[39m \u001b[39m \u001b[39m \u001b[39m \u001b[39m \u001b[39m \u001b[39m \u001b[39m \u001b[39m \u001b[39m \u001b[39m \u001b[39m \u001b[39m \u001b[39m \u001b[39m \u001b[39m \u001b[39m \u001b[39m \u001b[39m \u001b[39m \u001b[39m \u001b[39m \u001b[39m \u001b[39m▁\n",
       "  \u001b[39m█\u001b[39m█\u001b[39m█\u001b[39m█\u001b[39m█\u001b[39m█\u001b[34m█\u001b[39m\u001b[39m█\u001b[39m█\u001b[32m█\u001b[39m\u001b[39m▇\u001b[39m▅\u001b[39m▁\u001b[39m▁\u001b[39m▁\u001b[39m▁\u001b[39m▁\u001b[39m▁\u001b[39m▁\u001b[39m▁\u001b[39m▁\u001b[39m▅\u001b[39m▅\u001b[39m▄\u001b[39m▅\u001b[39m█\u001b[39m▇\u001b[39m█\u001b[39m▇\u001b[39m▅\u001b[39m█\u001b[39m█\u001b[39m▇\u001b[39m▄\u001b[39m▅\u001b[39m▅\u001b[39m▅\u001b[39m▆\u001b[39m▆\u001b[39m▇\u001b[39m▆\u001b[39m▆\u001b[39m▆\u001b[39m▆\u001b[39m▆\u001b[39m▇\u001b[39m▅\u001b[39m▇\u001b[39m▇\u001b[39m▇\u001b[39m▇\u001b[39m▆\u001b[39m▆\u001b[39m▆\u001b[39m▆\u001b[39m▄\u001b[39m▆\u001b[39m▄\u001b[39m▅\u001b[39m▅\u001b[39m▄\u001b[39m \u001b[39m█\n",
       "  485 μs\u001b[90m        \u001b[39m\u001b[90mHistogram: \u001b[39m\u001b[90m\u001b[1mlog(\u001b[22m\u001b[39m\u001b[90mfrequency\u001b[39m\u001b[90m\u001b[1m)\u001b[22m\u001b[39m\u001b[90m by time\u001b[39m       4.41 ms \u001b[0m\u001b[1m<\u001b[22m\n",
       "\n",
       " Memory estimate\u001b[90m: \u001b[39m\u001b[33m7.63 MiB\u001b[39m, allocs estimate\u001b[90m: \u001b[39m\u001b[33m20\u001b[39m."
      ]
     },
     "execution_count": 34,
     "metadata": {},
     "output_type": "execute_result"
    }
   ],
   "source": [
    "@benchmark main2(arr1, arr2, arr3, arr4)"
   ]
  },
  {
   "cell_type": "code",
   "execution_count": null,
   "id": "1e0f816a-0e02-40e1-8d21-282a7189e092",
   "metadata": {},
   "outputs": [],
   "source": []
  },
  {
   "cell_type": "code",
   "execution_count": null,
   "id": "aeda52cc-627b-4d2a-a2d3-c47147870dcf",
   "metadata": {},
   "outputs": [],
   "source": []
  }
 ],
 "metadata": {
  "kernelspec": {
   "display_name": "Julia 1.10.2",
   "language": "julia",
   "name": "julia-1.10"
  },
  "language_info": {
   "file_extension": ".jl",
   "mimetype": "application/julia",
   "name": "julia",
   "version": "1.10.2"
  },
  "widgets": {
   "application/vnd.jupyter.widget-state+json": {
    "state": {},
    "version_major": 2,
    "version_minor": 0
   }
  }
 },
 "nbformat": 4,
 "nbformat_minor": 5
}
