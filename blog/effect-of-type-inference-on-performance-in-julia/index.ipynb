{
 "cells": [
  {
   "cell_type": "raw",
   "id": "aaa69d60-433e-4721-82be-bc648b59dc95",
   "metadata": {},
   "source": [
    "---\n",
    "title: Effect of type inference on performance in Julia\n",
    "categories:\n",
    "  - julia\n",
    "  - visualization\n",
    "keywords: julia\n",
    "date: '2023-04-29T12:38:41-0400'\n",
    "draft: true\n",
    "---"
   ]
  },
  {
   "cell_type": "code",
   "execution_count": 1,
   "id": "5f4bcdc1-37f3-4724-bd36-64d6b1517e66",
   "metadata": {
    "execution": {
     "iopub.execute_input": "2024-04-20T10:00:23.499",
     "iopub.status.busy": "2024-04-20T10:00:23.246",
     "iopub.status.idle": "2024-04-20T10:00:26.258",
     "shell.execute_reply": "2024-04-20T10:00:26.235"
    }
   },
   "outputs": [
    {
     "name": "stderr",
     "output_type": "stream",
     "text": [
      "\u001b[32m\u001b[1m  Activating\u001b[22m\u001b[39m project at `~/gitrepos/kdheepak.github.io/blog/effect-of-type-inference-on-performance-in-julia`\n"
     ]
    }
   ],
   "source": [
    "#| include: false\n",
    "using Pkg\n",
    "Pkg.activate(@__DIR__)\n",
    "Pkg.instantiate()\n",
    "cd(@__DIR__)"
   ]
  },
  {
   "cell_type": "code",
   "execution_count": 2,
   "id": "b1e5ad21-3024-4076-9b16-f5d4c4ca4663",
   "metadata": {
    "execution": {
     "iopub.execute_input": "2024-04-20T10:00:27.378",
     "iopub.status.busy": "2024-04-20T10:00:27.378",
     "iopub.status.idle": "2024-04-20T10:00:27.613",
     "shell.execute_reply": "2024-04-20T10:00:27.612"
    }
   },
   "outputs": [
    {
     "data": {
      "text/plain": [
       "area (generic function with 5 methods)"
      ]
     },
     "execution_count": 2,
     "metadata": {},
     "output_type": "execute_result"
    }
   ],
   "source": [
    "abstract type Shape end\n",
    "area(::Shape) = 0.0\n",
    "\n",
    "struct Square <: Shape\n",
    "    side::Float64\n",
    "end\n",
    "area(s::Square) = s.side * s.side\n",
    "    \n",
    "struct Rectangle <: Shape\n",
    "    width::Float64\n",
    "    height::Float64\n",
    "end\n",
    "area(r::Rectangle) = r.width * r.height\n",
    "    \n",
    "struct Triangle <: Shape\n",
    "    base::Float64\n",
    "    height::Float64\n",
    "end\n",
    "area(t::Triangle) = 1.0/2.0 * t.base * t.height\n",
    "\n",
    "struct Circle <: Shape\n",
    "    radius::Float64\n",
    "end\n",
    "area(c::Circle) = π * c.radius^2"
   ]
  },
  {
   "cell_type": "code",
   "execution_count": 3,
   "id": "31a5cc81-a7e4-401c-ad44-c91ab139d0f9",
   "metadata": {
    "execution": {
     "iopub.execute_input": "2024-04-20T10:00:30.677",
     "iopub.status.busy": "2024-04-20T10:00:30.676",
     "iopub.status.idle": "2024-04-20T10:00:31.013",
     "shell.execute_reply": "2024-04-20T10:00:31.013"
    }
   },
   "outputs": [
    {
     "name": "stdout",
     "output_type": "stream",
     "text": [
      "\u001b[0m\u001b[1mTest Summary: | \u001b[22m\u001b[32m\u001b[1mPass  \u001b[22m\u001b[39m\u001b[36m\u001b[1mTotal  \u001b[22m\u001b[39m\u001b[0m\u001b[1mTime\u001b[22m\n",
      "Areas         | \u001b[32m   4  \u001b[39m\u001b[36m    4  \u001b[39m\u001b[0m0.2s\n"
     ]
    }
   ],
   "source": [
    "using Test\n",
    "@testset \"Areas\" begin\n",
    "    @test area(Square(2)) == 4\n",
    "    @test area(Rectangle(2,3)) == 6\n",
    "    @test area(Triangle(2,3)) == 3\n",
    "    @test area(Circle(2)) ≈ 4π\n",
    "end;"
   ]
  },
  {
   "cell_type": "code",
   "execution_count": 4,
   "id": "89712b98-7612-43da-bc3e-f667abd7e2ee",
   "metadata": {
    "execution": {
     "iopub.execute_input": "2024-04-20T10:00:31.512",
     "iopub.status.busy": "2024-04-20T10:00:31.512",
     "iopub.status.idle": "2024-04-20T10:00:31.717",
     "shell.execute_reply": "2024-04-20T10:00:31.716"
    }
   },
   "outputs": [],
   "source": [
    "using Random\n",
    "\n",
    "Random.seed!(42)\n",
    "\n",
    "function shape_builder(choice::Integer)\n",
    "    if choice == 1\n",
    "        Square(rand())\n",
    "    elseif choice == 2\n",
    "        Rectangle(rand(), rand())\n",
    "    elseif choice == 3\n",
    "        Triangle(rand(), rand())\n",
    "    elseif choice == 4\n",
    "        Circle(rand())\n",
    "    end\n",
    "end\n",
    "\n",
    "count = 1_000_000\n",
    "shapes = [shape_builder(rand((1,2,3,4))) for _ in 1:count];"
   ]
  },
  {
   "cell_type": "code",
   "execution_count": 5,
   "id": "6cb04f19-d92e-401a-a475-746266921ac0",
   "metadata": {
    "execution": {
     "iopub.execute_input": "2024-04-20T10:00:32.415",
     "iopub.status.busy": "2024-04-20T10:00:32.415",
     "iopub.status.idle": "2024-04-20T10:00:32.727",
     "shell.execute_reply": "2024-04-20T10:00:32.726"
    }
   },
   "outputs": [
    {
     "data": {
      "text/latex": [
       "The total number of shapes we have is 1,000,000.\n",
       "\n"
      ],
      "text/markdown": [
       "The total number of shapes we have is 1,000,000.\n"
      ],
      "text/plain": [
       "  The total number of shapes we have is 1,000,000."
      ]
     },
     "execution_count": 5,
     "metadata": {},
     "output_type": "execute_result"
    }
   ],
   "source": [
    "#| echo: false\n",
    "using Format\n",
    "using Markdown\n",
    "l = cfmt(\"%'d\", length(shapes))\n",
    "Markdown.md\"The total number of shapes we have is $l.\""
   ]
  },
  {
   "cell_type": "code",
   "execution_count": 6,
   "id": "98c07e22-d931-4e91-92c4-3844100c72f0",
   "metadata": {
    "execution": {
     "iopub.execute_input": "2024-04-20T10:00:33.648",
     "iopub.status.busy": "2024-04-20T10:00:33.647",
     "iopub.status.idle": "2024-04-20T10:00:33.873",
     "shell.execute_reply": "2024-04-20T10:00:33.873"
    }
   },
   "outputs": [
    {
     "data": {
      "text/plain": [
       "Vector{Shape}\u001b[90m (alias for \u001b[39m\u001b[90mArray{Shape, 1}\u001b[39m\u001b[90m)\u001b[39m"
      ]
     },
     "execution_count": 6,
     "metadata": {},
     "output_type": "execute_result"
    }
   ],
   "source": [
    "typeof(shapes)"
   ]
  },
  {
   "cell_type": "code",
   "execution_count": 7,
   "id": "c91b5a9d-ca77-4cf8-893b-f64a9feaea1f",
   "metadata": {
    "execution": {
     "iopub.execute_input": "2024-04-20T10:00:34.285",
     "iopub.status.busy": "2024-04-20T10:00:34.285",
     "iopub.status.idle": "2024-04-20T10:00:34.308",
     "shell.execute_reply": "2024-04-20T10:00:34.308"
    }
   },
   "outputs": [
    {
     "data": {
      "text/plain": [
       "main1 (generic function with 1 method)"
      ]
     },
     "execution_count": 7,
     "metadata": {},
     "output_type": "execute_result"
    }
   ],
   "source": [
    "main1(shapes) = sum(area.(shapes))"
   ]
  },
  {
   "cell_type": "code",
   "execution_count": 8,
   "id": "add2506f-2afb-4cb0-831c-11d5ee223341",
   "metadata": {
    "execution": {
     "iopub.execute_input": "2024-04-20T10:00:34.687",
     "iopub.status.busy": "2024-04-20T10:00:34.687",
     "iopub.status.idle": "2024-04-20T10:00:34.825",
     "shell.execute_reply": "2024-04-20T10:00:34.824"
    }
   },
   "outputs": [
    {
     "name": "stdout",
     "output_type": "stream",
     "text": [
      "  0.088708 seconds (2.11 M allocations: 45.631 MiB, 11.45% gc time, 34.32% compilation time)\n"
     ]
    }
   ],
   "source": [
    "@time main1(shapes);"
   ]
  },
  {
   "cell_type": "code",
   "execution_count": 9,
   "id": "f7396454-84a3-49dc-b959-e562bbfe3260",
   "metadata": {
    "execution": {
     "iopub.execute_input": "2024-04-20T10:00:35.052",
     "iopub.status.busy": "2024-04-20T10:00:35.052",
     "iopub.status.idle": "2024-04-20T10:00:35.241",
     "shell.execute_reply": "2024-04-20T10:00:35.240"
    }
   },
   "outputs": [],
   "source": [
    "using BenchmarkTools"
   ]
  },
  {
   "cell_type": "code",
   "execution_count": 10,
   "id": "e66b8854-d3d9-4fae-b777-98e0d3266f49",
   "metadata": {
    "execution": {
     "iopub.execute_input": "2024-04-20T10:00:35.558",
     "iopub.status.busy": "2024-04-20T10:00:35.494",
     "iopub.status.idle": "2024-04-20T10:00:47.491",
     "shell.execute_reply": "2024-04-20T10:00:47.491"
    }
   },
   "outputs": [
    {
     "data": {
      "text/plain": [
       "BenchmarkTools.Trial: 113 samples with 1 evaluation.\n",
       " Range \u001b[90m(\u001b[39m\u001b[36m\u001b[1mmin\u001b[22m\u001b[39m … \u001b[35mmax\u001b[39m\u001b[90m):  \u001b[39m\u001b[36m\u001b[1m43.498 ms\u001b[22m\u001b[39m … \u001b[35m 46.192 ms\u001b[39m  \u001b[90m┊\u001b[39m GC \u001b[90m(\u001b[39mmin … max\u001b[90m): \u001b[39m0.80% … 0.85%\n",
       " Time  \u001b[90m(\u001b[39m\u001b[34m\u001b[1mmedian\u001b[22m\u001b[39m\u001b[90m):     \u001b[39m\u001b[34m\u001b[1m44.254 ms               \u001b[22m\u001b[39m\u001b[90m┊\u001b[39m GC \u001b[90m(\u001b[39mmedian\u001b[90m):    \u001b[39m0.82%\n",
       " Time  \u001b[90m(\u001b[39m\u001b[32m\u001b[1mmean\u001b[22m\u001b[39m ± \u001b[32mσ\u001b[39m\u001b[90m):   \u001b[39m\u001b[32m\u001b[1m44.346 ms\u001b[22m\u001b[39m ± \u001b[32m506.041 μs\u001b[39m  \u001b[90m┊\u001b[39m GC \u001b[90m(\u001b[39mmean ± σ\u001b[90m):  \u001b[39m0.83% ± 0.45%\n",
       "\n",
       "  \u001b[39m \u001b[39m \u001b[39m \u001b[39m \u001b[39m \u001b[39m \u001b[39m \u001b[39m \u001b[39m \u001b[39m \u001b[39m▃\u001b[39m▃\u001b[39m█\u001b[39m \u001b[39m▃\u001b[39m \u001b[39m▃\u001b[39m▅\u001b[34m \u001b[39m\u001b[39m▃\u001b[32m \u001b[39m\u001b[39m \u001b[39m▂\u001b[39m \u001b[39m \u001b[39m \u001b[39m \u001b[39m \u001b[39m \u001b[39m \u001b[39m \u001b[39m \u001b[39m \u001b[39m \u001b[39m \u001b[39m \u001b[39m \u001b[39m \u001b[39m \u001b[39m \u001b[39m \u001b[39m \u001b[39m \u001b[39m \u001b[39m \u001b[39m \u001b[39m \u001b[39m \u001b[39m \u001b[39m \u001b[39m \u001b[39m \u001b[39m \u001b[39m \u001b[39m \u001b[39m \u001b[39m \u001b[39m \u001b[39m \u001b[39m \u001b[39m \u001b[39m \n",
       "  \u001b[39m▅\u001b[39m▅\u001b[39m▇\u001b[39m▁\u001b[39m▁\u001b[39m▄\u001b[39m▁\u001b[39m▄\u001b[39m█\u001b[39m▁\u001b[39m█\u001b[39m█\u001b[39m█\u001b[39m▅\u001b[39m█\u001b[39m█\u001b[39m█\u001b[39m█\u001b[34m█\u001b[39m\u001b[39m█\u001b[32m█\u001b[39m\u001b[39m█\u001b[39m█\u001b[39m▅\u001b[39m▇\u001b[39m▅\u001b[39m▄\u001b[39m▇\u001b[39m▅\u001b[39m▅\u001b[39m▄\u001b[39m▄\u001b[39m▁\u001b[39m▄\u001b[39m▇\u001b[39m▁\u001b[39m▁\u001b[39m▁\u001b[39m▁\u001b[39m▄\u001b[39m▁\u001b[39m▁\u001b[39m▄\u001b[39m▅\u001b[39m▁\u001b[39m▄\u001b[39m▄\u001b[39m▄\u001b[39m▁\u001b[39m▁\u001b[39m▁\u001b[39m▁\u001b[39m▁\u001b[39m▁\u001b[39m▁\u001b[39m▄\u001b[39m▁\u001b[39m▁\u001b[39m▁\u001b[39m▄\u001b[39m \u001b[39m▄\n",
       "  43.5 ms\u001b[90m         Histogram: frequency by time\u001b[39m           46 ms \u001b[0m\u001b[1m<\u001b[22m\n",
       "\n",
       " Memory estimate\u001b[90m: \u001b[39m\u001b[33m38.14 MiB\u001b[39m, allocs estimate\u001b[90m: \u001b[39m\u001b[33m1999492\u001b[39m."
      ]
     },
     "execution_count": 10,
     "metadata": {},
     "output_type": "execute_result"
    }
   ],
   "source": [
    "@benchmark main1(shapes)"
   ]
  },
  {
   "cell_type": "code",
   "execution_count": 11,
   "id": "a38a033a-8caa-43a3-b965-0374cc6438c0",
   "metadata": {
    "execution": {
     "iopub.execute_input": "2024-04-20T10:00:47.491",
     "iopub.status.busy": "2024-04-20T10:00:47.491",
     "iopub.status.idle": "2024-04-20T10:00:47.629",
     "shell.execute_reply": "2024-04-20T10:00:47.629"
    }
   },
   "outputs": [],
   "source": [
    "shapes_by_type(::Type{T}, shapes) where T = [shape for shape in shapes if isa(shape, T)]\n",
    "\n",
    "square_arr = shapes_by_type(Square, shapes)\n",
    "rectangle_arr = shapes_by_type(Rectangle, shapes)\n",
    "triangle_arr = shapes_by_type(Triangle, shapes)\n",
    "circle_arr = shapes_by_type(Circle, shapes)\n",
    "\n",
    "nothing"
   ]
  },
  {
   "cell_type": "code",
   "execution_count": 12,
   "id": "66c963f9-61ed-4afb-aacd-2395788f3699",
   "metadata": {
    "execution": {
     "iopub.execute_input": "2024-04-20T10:00:47.629",
     "iopub.status.busy": "2024-04-20T10:00:47.629",
     "iopub.status.idle": "2024-04-20T10:00:47.648",
     "shell.execute_reply": "2024-04-20T10:00:47.648"
    }
   },
   "outputs": [
    {
     "data": {
      "text/plain": [
       "Vector{Square}\u001b[90m (alias for \u001b[39m\u001b[90mArray{Square, 1}\u001b[39m\u001b[90m)\u001b[39m"
      ]
     },
     "execution_count": 12,
     "metadata": {},
     "output_type": "execute_result"
    }
   ],
   "source": [
    "typeof(square_arr)"
   ]
  },
  {
   "cell_type": "code",
   "execution_count": 13,
   "id": "8822d87a-f1d2-488d-b754-9817f244e031",
   "metadata": {
    "execution": {
     "iopub.execute_input": "2024-04-20T10:00:47.648",
     "iopub.status.busy": "2024-04-20T10:00:47.648",
     "iopub.status.idle": "2024-04-20T10:00:47.655",
     "shell.execute_reply": "2024-04-20T10:00:47.655"
    }
   },
   "outputs": [
    {
     "data": {
      "text/plain": [
       "Vector{Rectangle}\u001b[90m (alias for \u001b[39m\u001b[90mArray{Rectangle, 1}\u001b[39m\u001b[90m)\u001b[39m"
      ]
     },
     "execution_count": 13,
     "metadata": {},
     "output_type": "execute_result"
    }
   ],
   "source": [
    "typeof(rectangle_arr)"
   ]
  },
  {
   "cell_type": "code",
   "execution_count": 14,
   "id": "df34eda2-b783-44d5-8113-dda335e5790f",
   "metadata": {
    "execution": {
     "iopub.execute_input": "2024-04-20T10:00:47.655",
     "iopub.status.busy": "2024-04-20T10:00:47.655",
     "iopub.status.idle": "2024-04-20T10:00:47.662",
     "shell.execute_reply": "2024-04-20T10:00:47.662"
    }
   },
   "outputs": [
    {
     "data": {
      "text/plain": [
       "Vector{Triangle}\u001b[90m (alias for \u001b[39m\u001b[90mArray{Triangle, 1}\u001b[39m\u001b[90m)\u001b[39m"
      ]
     },
     "execution_count": 14,
     "metadata": {},
     "output_type": "execute_result"
    }
   ],
   "source": [
    "typeof(triangle_arr)"
   ]
  },
  {
   "cell_type": "code",
   "execution_count": 15,
   "id": "866d6426-dc4d-4aa7-9847-7bece7790dd3",
   "metadata": {
    "execution": {
     "iopub.execute_input": "2024-04-20T10:00:47.662",
     "iopub.status.busy": "2024-04-20T10:00:47.662",
     "iopub.status.idle": "2024-04-20T10:00:47.669",
     "shell.execute_reply": "2024-04-20T10:00:47.669"
    }
   },
   "outputs": [
    {
     "data": {
      "text/plain": [
       "Vector{Circle}\u001b[90m (alias for \u001b[39m\u001b[90mArray{Circle, 1}\u001b[39m\u001b[90m)\u001b[39m"
      ]
     },
     "execution_count": 15,
     "metadata": {},
     "output_type": "execute_result"
    }
   ],
   "source": [
    "typeof(circle_arr)"
   ]
  },
  {
   "cell_type": "code",
   "execution_count": 43,
   "id": "663e79c1-c9b6-4685-b8c7-1c5599351040",
   "metadata": {
    "execution": {
     "iopub.execute_input": "2024-04-20T10:05:13.006",
     "iopub.status.busy": "2024-04-20T10:05:13.005",
     "iopub.status.idle": "2024-04-20T10:05:13.089",
     "shell.execute_reply": "2024-04-20T10:05:13.088"
    }
   },
   "outputs": [],
   "source": [
    "filter_shapes_by_type(::Type{T}, shapes) where T = filter(s -> isa(s, T), shapes)\n",
    "\n",
    "shape_arr1 = filter_shapes_by_type(Square, shapes)\n",
    "shape_arr2 = filter_shapes_by_type(Rectangle, shapes)\n",
    "shape_arr3 = filter_shapes_by_type(Triangle, shapes)\n",
    "shape_arr4 = filter_shapes_by_type(Circle, shapes)\n",
    "\n",
    "nothing"
   ]
  },
  {
   "cell_type": "code",
   "execution_count": 44,
   "id": "07b3b675-e048-4508-8d04-9c5c31f74334",
   "metadata": {
    "execution": {
     "iopub.execute_input": "2024-04-20T10:05:13.709",
     "iopub.status.busy": "2024-04-20T10:05:13.709",
     "iopub.status.idle": "2024-04-20T10:05:13.716",
     "shell.execute_reply": "2024-04-20T10:05:13.714"
    }
   },
   "outputs": [
    {
     "data": {
      "text/plain": [
       "Vector{Shape}\u001b[90m (alias for \u001b[39m\u001b[90mArray{Shape, 1}\u001b[39m\u001b[90m)\u001b[39m"
      ]
     },
     "execution_count": 44,
     "metadata": {},
     "output_type": "execute_result"
    }
   ],
   "source": [
    "typeof(shape_arr1)"
   ]
  },
  {
   "cell_type": "code",
   "execution_count": 45,
   "id": "88d400ab-fd23-4fef-93ba-54c1ee4119c9",
   "metadata": {
    "execution": {
     "iopub.execute_input": "2024-04-20T10:05:14.330",
     "iopub.status.busy": "2024-04-20T10:05:14.329",
     "iopub.status.idle": "2024-04-20T10:05:14.337",
     "shell.execute_reply": "2024-04-20T10:05:14.336"
    }
   },
   "outputs": [
    {
     "data": {
      "text/plain": [
       "Vector{Shape}\u001b[90m (alias for \u001b[39m\u001b[90mArray{Shape, 1}\u001b[39m\u001b[90m)\u001b[39m"
      ]
     },
     "execution_count": 45,
     "metadata": {},
     "output_type": "execute_result"
    }
   ],
   "source": [
    "typeof(shape_arr2)"
   ]
  },
  {
   "cell_type": "code",
   "execution_count": 46,
   "id": "a251571a-142a-472c-81ce-95f90c4235c4",
   "metadata": {
    "execution": {
     "iopub.execute_input": "2024-04-20T10:05:14.806",
     "iopub.status.busy": "2024-04-20T10:05:14.805",
     "iopub.status.idle": "2024-04-20T10:05:14.813",
     "shell.execute_reply": "2024-04-20T10:05:14.812"
    }
   },
   "outputs": [
    {
     "data": {
      "text/plain": [
       "Vector{Shape}\u001b[90m (alias for \u001b[39m\u001b[90mArray{Shape, 1}\u001b[39m\u001b[90m)\u001b[39m"
      ]
     },
     "execution_count": 46,
     "metadata": {},
     "output_type": "execute_result"
    }
   ],
   "source": [
    "typeof(shape_arr3)"
   ]
  },
  {
   "cell_type": "code",
   "execution_count": 47,
   "id": "0ebb4f42-61c6-49be-8178-98ad4da528e9",
   "metadata": {
    "execution": {
     "iopub.execute_input": "2024-04-20T10:05:15.059",
     "iopub.status.busy": "2024-04-20T10:05:15.058",
     "iopub.status.idle": "2024-04-20T10:05:15.067",
     "shell.execute_reply": "2024-04-20T10:05:15.066"
    }
   },
   "outputs": [
    {
     "data": {
      "text/plain": [
       "Vector{Shape}\u001b[90m (alias for \u001b[39m\u001b[90mArray{Shape, 1}\u001b[39m\u001b[90m)\u001b[39m"
      ]
     },
     "execution_count": 47,
     "metadata": {},
     "output_type": "execute_result"
    }
   ],
   "source": [
    "typeof(shape_arr4)"
   ]
  },
  {
   "cell_type": "code",
   "execution_count": 48,
   "id": "88bed1fb-5da1-4c41-97cf-328baa5c8a52",
   "metadata": {
    "execution": {
     "iopub.execute_input": "2024-04-20T10:05:15.827",
     "iopub.status.busy": "2024-04-20T10:05:15.827",
     "iopub.status.idle": "2024-04-20T10:05:16.070",
     "shell.execute_reply": "2024-04-20T10:05:16.069"
    }
   },
   "outputs": [],
   "source": [
    "sorted_shapes_shape = vcat(square_arr, rectangle_arr, triangle_arr, circle_arr);\n",
    "sorted_shapes_any = Any[s for s in sorted_shapes_shape];"
   ]
  },
  {
   "cell_type": "code",
   "execution_count": 49,
   "id": "79d993a9-556c-45d7-9010-3c0313b0b478",
   "metadata": {
    "execution": {
     "iopub.execute_input": "2024-04-20T10:05:17.077",
     "iopub.status.busy": "2024-04-20T10:05:17.077",
     "iopub.status.idle": "2024-04-20T10:05:17.084",
     "shell.execute_reply": "2024-04-20T10:05:17.084"
    }
   },
   "outputs": [
    {
     "data": {
      "text/plain": [
       "Vector{Shape}\u001b[90m (alias for \u001b[39m\u001b[90mArray{Shape, 1}\u001b[39m\u001b[90m)\u001b[39m"
      ]
     },
     "execution_count": 49,
     "metadata": {},
     "output_type": "execute_result"
    }
   ],
   "source": [
    "typeof(sorted_shapes_shape)"
   ]
  },
  {
   "cell_type": "code",
   "execution_count": 50,
   "id": "6608a0dd-158d-45c0-9cf0-e15203e81afb",
   "metadata": {
    "execution": {
     "iopub.execute_input": "2024-04-20T10:05:17.638",
     "iopub.status.busy": "2024-04-20T10:05:17.637",
     "iopub.status.idle": "2024-04-20T10:05:28.850",
     "shell.execute_reply": "2024-04-20T10:05:28.850"
    }
   },
   "outputs": [
    {
     "data": {
      "text/plain": [
       "BenchmarkTools.Trial: 139 samples with 1 evaluation.\n",
       " Range \u001b[90m(\u001b[39m\u001b[36m\u001b[1mmin\u001b[22m\u001b[39m … \u001b[35mmax\u001b[39m\u001b[90m):  \u001b[39m\u001b[36m\u001b[1m33.861 ms\u001b[22m\u001b[39m … \u001b[35m40.148 ms\u001b[39m  \u001b[90m┊\u001b[39m GC \u001b[90m(\u001b[39mmin … max\u001b[90m): \u001b[39m0.00% … 13.83%\n",
       " Time  \u001b[90m(\u001b[39m\u001b[34m\u001b[1mmedian\u001b[22m\u001b[39m\u001b[90m):     \u001b[39m\u001b[34m\u001b[1m34.456 ms              \u001b[22m\u001b[39m\u001b[90m┊\u001b[39m GC \u001b[90m(\u001b[39mmedian\u001b[90m):    \u001b[39m0.00%\n",
       " Time  \u001b[90m(\u001b[39m\u001b[32m\u001b[1mmean\u001b[22m\u001b[39m ± \u001b[32mσ\u001b[39m\u001b[90m):   \u001b[39m\u001b[32m\u001b[1m36.007 ms\u001b[22m\u001b[39m ± \u001b[32m 2.299 ms\u001b[39m  \u001b[90m┊\u001b[39m GC \u001b[90m(\u001b[39mmean ± σ\u001b[90m):  \u001b[39m4.60% ±  5.54%\n",
       "\n",
       "  \u001b[39m \u001b[39m▇\u001b[39m▄\u001b[39m \u001b[39m█\u001b[39m \u001b[34m \u001b[39m\u001b[39m \u001b[39m \u001b[39m \u001b[39m \u001b[39m \u001b[39m \u001b[39m \u001b[39m \u001b[39m \u001b[39m \u001b[39m \u001b[39m \u001b[39m \u001b[39m \u001b[39m \u001b[32m \u001b[39m\u001b[39m \u001b[39m \u001b[39m \u001b[39m \u001b[39m \u001b[39m \u001b[39m \u001b[39m \u001b[39m \u001b[39m \u001b[39m \u001b[39m \u001b[39m \u001b[39m \u001b[39m \u001b[39m \u001b[39m \u001b[39m \u001b[39m \u001b[39m \u001b[39m \u001b[39m \u001b[39m \u001b[39m \u001b[39m \u001b[39m \u001b[39m \u001b[39m \u001b[39m \u001b[39m \u001b[39m \u001b[39m \u001b[39m \u001b[39m \u001b[39m \u001b[39m \u001b[39m \u001b[39m \n",
       "  \u001b[39m▄\u001b[39m█\u001b[39m█\u001b[39m▇\u001b[39m█\u001b[39m▆\u001b[34m█\u001b[39m\u001b[39m▅\u001b[39m▄\u001b[39m▃\u001b[39m▃\u001b[39m▁\u001b[39m▁\u001b[39m▁\u001b[39m▁\u001b[39m▁\u001b[39m▁\u001b[39m▁\u001b[39m▁\u001b[39m▁\u001b[39m▁\u001b[39m▁\u001b[32m▁\u001b[39m\u001b[39m▁\u001b[39m▁\u001b[39m▁\u001b[39m▁\u001b[39m▁\u001b[39m▁\u001b[39m▁\u001b[39m▁\u001b[39m▁\u001b[39m▁\u001b[39m▁\u001b[39m▁\u001b[39m▁\u001b[39m▁\u001b[39m▁\u001b[39m▁\u001b[39m▁\u001b[39m▁\u001b[39m▁\u001b[39m▃\u001b[39m▁\u001b[39m▁\u001b[39m▃\u001b[39m▃\u001b[39m▃\u001b[39m▅\u001b[39m▆\u001b[39m▆\u001b[39m▆\u001b[39m▆\u001b[39m▆\u001b[39m▆\u001b[39m▃\u001b[39m▃\u001b[39m▃\u001b[39m▄\u001b[39m \u001b[39m▃\n",
       "  33.9 ms\u001b[90m         Histogram: frequency by time\u001b[39m        39.6 ms \u001b[0m\u001b[1m<\u001b[22m\n",
       "\n",
       " Memory estimate\u001b[90m: \u001b[39m\u001b[33m38.14 MiB\u001b[39m, allocs estimate\u001b[90m: \u001b[39m\u001b[33m1999492\u001b[39m."
      ]
     },
     "execution_count": 50,
     "metadata": {},
     "output_type": "execute_result"
    }
   ],
   "source": [
    "@benchmark main1(sorted_shapes_shape)"
   ]
  },
  {
   "cell_type": "code",
   "execution_count": 51,
   "id": "2f22474c-0bfe-4c71-baa5-a0cfd165158a",
   "metadata": {
    "execution": {
     "iopub.execute_input": "2024-04-20T10:05:28.850",
     "iopub.status.busy": "2024-04-20T10:05:28.850",
     "iopub.status.idle": "2024-04-20T10:05:28.852",
     "shell.execute_reply": "2024-04-20T10:05:28.851"
    }
   },
   "outputs": [
    {
     "data": {
      "text/plain": [
       "Vector{Any}\u001b[90m (alias for \u001b[39m\u001b[90mArray{Any, 1}\u001b[39m\u001b[90m)\u001b[39m"
      ]
     },
     "execution_count": 51,
     "metadata": {},
     "output_type": "execute_result"
    }
   ],
   "source": [
    "typeof(sorted_shapes_any)"
   ]
  },
  {
   "cell_type": "code",
   "execution_count": 52,
   "id": "87d39970-fb7e-4951-a2ba-e2564c72f183",
   "metadata": {
    "execution": {
     "iopub.execute_input": "2024-04-20T10:05:28.852",
     "iopub.status.busy": "2024-04-20T10:05:28.852",
     "iopub.status.idle": "2024-04-20T10:05:39.746",
     "shell.execute_reply": "2024-04-20T10:05:39.746"
    }
   },
   "outputs": [
    {
     "data": {
      "text/plain": [
       "BenchmarkTools.Trial: 340 samples with 1 evaluation.\n",
       " Range \u001b[90m(\u001b[39m\u001b[36m\u001b[1mmin\u001b[22m\u001b[39m … \u001b[35mmax\u001b[39m\u001b[90m):  \u001b[39m\u001b[36m\u001b[1m13.443 ms\u001b[22m\u001b[39m … \u001b[35m20.388 ms\u001b[39m  \u001b[90m┊\u001b[39m GC \u001b[90m(\u001b[39mmin … max\u001b[90m): \u001b[39m0.00% … 29.57%\n",
       " Time  \u001b[90m(\u001b[39m\u001b[34m\u001b[1mmedian\u001b[22m\u001b[39m\u001b[90m):     \u001b[39m\u001b[34m\u001b[1m13.767 ms              \u001b[22m\u001b[39m\u001b[90m┊\u001b[39m GC \u001b[90m(\u001b[39mmedian\u001b[90m):    \u001b[39m0.00%\n",
       " Time  \u001b[90m(\u001b[39m\u001b[32m\u001b[1mmean\u001b[22m\u001b[39m ± \u001b[32mσ\u001b[39m\u001b[90m):   \u001b[39m\u001b[32m\u001b[1m14.730 ms\u001b[22m\u001b[39m ± \u001b[32m 1.847 ms\u001b[39m  \u001b[90m┊\u001b[39m GC \u001b[90m(\u001b[39mmean ± σ\u001b[90m):  \u001b[39m6.59% ± 10.09%\n",
       "\n",
       "  \u001b[39m▂\u001b[39m█\u001b[39m▂\u001b[34m \u001b[39m\u001b[39m \u001b[39m \u001b[39m \u001b[39m \u001b[39m \u001b[39m \u001b[39m \u001b[39m \u001b[39m \u001b[32m \u001b[39m\u001b[39m \u001b[39m \u001b[39m \u001b[39m \u001b[39m \u001b[39m \u001b[39m \u001b[39m \u001b[39m \u001b[39m \u001b[39m \u001b[39m \u001b[39m \u001b[39m \u001b[39m \u001b[39m \u001b[39m \u001b[39m \u001b[39m \u001b[39m \u001b[39m \u001b[39m \u001b[39m \u001b[39m \u001b[39m \u001b[39m \u001b[39m \u001b[39m \u001b[39m \u001b[39m \u001b[39m \u001b[39m \u001b[39m \u001b[39m \u001b[39m \u001b[39m \u001b[39m \u001b[39m \u001b[39m \u001b[39m \u001b[39m \u001b[39m \u001b[39m \u001b[39m \u001b[39m \u001b[39m \u001b[39m \n",
       "  \u001b[39m█\u001b[39m█\u001b[39m█\u001b[34m█\u001b[39m\u001b[39m▅\u001b[39m▄\u001b[39m▃\u001b[39m▃\u001b[39m▃\u001b[39m▃\u001b[39m▃\u001b[39m▃\u001b[39m▃\u001b[32m▁\u001b[39m\u001b[39m▁\u001b[39m▁\u001b[39m▁\u001b[39m▁\u001b[39m▁\u001b[39m▁\u001b[39m▁\u001b[39m▁\u001b[39m▁\u001b[39m▁\u001b[39m▁\u001b[39m▁\u001b[39m▁\u001b[39m▁\u001b[39m▁\u001b[39m▁\u001b[39m▁\u001b[39m▁\u001b[39m▁\u001b[39m▁\u001b[39m▁\u001b[39m▁\u001b[39m▂\u001b[39m▁\u001b[39m▂\u001b[39m▃\u001b[39m▂\u001b[39m▃\u001b[39m▃\u001b[39m▃\u001b[39m▃\u001b[39m▃\u001b[39m▂\u001b[39m▃\u001b[39m▃\u001b[39m▂\u001b[39m▃\u001b[39m▂\u001b[39m▃\u001b[39m▂\u001b[39m▃\u001b[39m▂\u001b[39m▁\u001b[39m▃\u001b[39m▂\u001b[39m \u001b[39m▃\n",
       "  13.4 ms\u001b[90m         Histogram: frequency by time\u001b[39m        19.3 ms \u001b[0m\u001b[1m<\u001b[22m\n",
       "\n",
       " Memory estimate\u001b[90m: \u001b[39m\u001b[33m22.89 MiB\u001b[39m, allocs estimate\u001b[90m: \u001b[39m\u001b[33m1000010\u001b[39m."
      ]
     },
     "execution_count": 52,
     "metadata": {},
     "output_type": "execute_result"
    }
   ],
   "source": [
    "@benchmark main1(sorted_shapes_any)"
   ]
  },
  {
   "cell_type": "code",
   "execution_count": null,
   "id": "ec4b210e-10fb-48ac-a670-ccddb10a13b5",
   "metadata": {},
   "outputs": [],
   "source": []
  },
  {
   "cell_type": "code",
   "execution_count": 53,
   "id": "852e4dc2-fb51-4727-9f3b-1330c3972631",
   "metadata": {
    "execution": {
     "iopub.execute_input": "2024-04-20T10:05:39.746",
     "iopub.status.busy": "2024-04-20T10:05:39.746",
     "iopub.status.idle": "2024-04-20T10:05:39.747",
     "shell.execute_reply": "2024-04-20T10:05:39.747"
    }
   },
   "outputs": [
    {
     "data": {
      "text/plain": [
       "main2 (generic function with 1 method)"
      ]
     },
     "execution_count": 53,
     "metadata": {},
     "output_type": "execute_result"
    }
   ],
   "source": [
    "main2(arrs...) = sum(main1.(arrs))"
   ]
  },
  {
   "cell_type": "code",
   "execution_count": 54,
   "id": "8d9fb3ea-498b-4b24-8ee7-f9300a0071c4",
   "metadata": {
    "execution": {
     "iopub.execute_input": "2024-04-20T10:05:39.747",
     "iopub.status.busy": "2024-04-20T10:05:39.747",
     "iopub.status.idle": "2024-04-20T10:05:39.802",
     "shell.execute_reply": "2024-04-20T10:05:39.802"
    }
   },
   "outputs": [
    {
     "name": "stdout",
     "output_type": "stream",
     "text": [
      "  0.044200 seconds (2.00 M allocations: 38.185 MiB, 11.74% gc time, 7.98% compilation time)\n"
     ]
    }
   ],
   "source": [
    "@time main2(shape_arr1, shape_arr2, shape_arr3, shape_arr4);"
   ]
  },
  {
   "cell_type": "code",
   "execution_count": 55,
   "id": "5c46b62f-f3ee-420f-b925-1d32a6b79fdf",
   "metadata": {
    "execution": {
     "iopub.execute_input": "2024-04-20T10:05:43.129",
     "iopub.status.busy": "2024-04-20T10:05:43.128",
     "iopub.status.idle": "2024-04-20T10:05:53.835",
     "shell.execute_reply": "2024-04-20T10:05:53.834"
    }
   },
   "outputs": [
    {
     "data": {
      "text/plain": [
       "BenchmarkTools.Trial: 138 samples with 1 evaluation.\n",
       " Range \u001b[90m(\u001b[39m\u001b[36m\u001b[1mmin\u001b[22m\u001b[39m … \u001b[35mmax\u001b[39m\u001b[90m):  \u001b[39m\u001b[36m\u001b[1m34.069 ms\u001b[22m\u001b[39m … \u001b[35m44.136 ms\u001b[39m  \u001b[90m┊\u001b[39m GC \u001b[90m(\u001b[39mmin … max\u001b[90m): \u001b[39m0.00% … 19.20%\n",
       " Time  \u001b[90m(\u001b[39m\u001b[34m\u001b[1mmedian\u001b[22m\u001b[39m\u001b[90m):     \u001b[39m\u001b[34m\u001b[1m34.815 ms              \u001b[22m\u001b[39m\u001b[90m┊\u001b[39m GC \u001b[90m(\u001b[39mmedian\u001b[90m):    \u001b[39m0.00%\n",
       " Time  \u001b[90m(\u001b[39m\u001b[32m\u001b[1mmean\u001b[22m\u001b[39m ± \u001b[32mσ\u001b[39m\u001b[90m):   \u001b[39m\u001b[32m\u001b[1m36.328 ms\u001b[22m\u001b[39m ± \u001b[32m 2.249 ms\u001b[39m  \u001b[90m┊\u001b[39m GC \u001b[90m(\u001b[39mmean ± σ\u001b[90m):  \u001b[39m4.59% ±  5.44%\n",
       "\n",
       "  \u001b[39m \u001b[39m \u001b[39m█\u001b[39m▆\u001b[39m▅\u001b[34m \u001b[39m\u001b[39m \u001b[39m \u001b[39m \u001b[39m \u001b[39m \u001b[39m \u001b[39m \u001b[39m \u001b[39m \u001b[39m \u001b[32m \u001b[39m\u001b[39m \u001b[39m \u001b[39m \u001b[39m \u001b[39m \u001b[39m \u001b[39m \u001b[39m \u001b[39m \u001b[39m \u001b[39m \u001b[39m \u001b[39m \u001b[39m \u001b[39m \u001b[39m \u001b[39m \u001b[39m \u001b[39m \u001b[39m \u001b[39m \u001b[39m \u001b[39m \u001b[39m \u001b[39m \u001b[39m \u001b[39m \u001b[39m \u001b[39m \u001b[39m \u001b[39m \u001b[39m \u001b[39m \u001b[39m \u001b[39m \u001b[39m \u001b[39m \u001b[39m \u001b[39m \u001b[39m \u001b[39m \u001b[39m \u001b[39m \u001b[39m \n",
       "  \u001b[39m▃\u001b[39m▇\u001b[39m█\u001b[39m█\u001b[39m█\u001b[34m▆\u001b[39m\u001b[39m▅\u001b[39m▃\u001b[39m▁\u001b[39m▃\u001b[39m▁\u001b[39m▁\u001b[39m▃\u001b[39m▁\u001b[39m▁\u001b[39m▁\u001b[32m▁\u001b[39m\u001b[39m▁\u001b[39m▁\u001b[39m▁\u001b[39m▁\u001b[39m▁\u001b[39m▁\u001b[39m▁\u001b[39m▁\u001b[39m▁\u001b[39m▁\u001b[39m▁\u001b[39m▆\u001b[39m▇\u001b[39m▇\u001b[39m▅\u001b[39m▄\u001b[39m▃\u001b[39m▃\u001b[39m▇\u001b[39m▃\u001b[39m▃\u001b[39m▃\u001b[39m▁\u001b[39m▅\u001b[39m▃\u001b[39m▃\u001b[39m▁\u001b[39m▁\u001b[39m▁\u001b[39m▁\u001b[39m▃\u001b[39m▁\u001b[39m▁\u001b[39m▁\u001b[39m▁\u001b[39m▁\u001b[39m▁\u001b[39m▁\u001b[39m▁\u001b[39m▁\u001b[39m▁\u001b[39m▃\u001b[39m \u001b[39m▃\n",
       "  34.1 ms\u001b[90m         Histogram: frequency by time\u001b[39m        42.5 ms \u001b[0m\u001b[1m<\u001b[22m\n",
       "\n",
       " Memory estimate\u001b[90m: \u001b[39m\u001b[33m38.12 MiB\u001b[39m, allocs estimate\u001b[90m: \u001b[39m\u001b[33m1997974\u001b[39m."
      ]
     },
     "execution_count": 55,
     "metadata": {},
     "output_type": "execute_result"
    }
   ],
   "source": [
    "@benchmark main2(shape_arr1, shape_arr2, shape_arr3, shape_arr4)"
   ]
  },
  {
   "cell_type": "code",
   "execution_count": 56,
   "id": "f2f78446-5522-42f1-a254-8dbe18eb07db",
   "metadata": {
    "execution": {
     "iopub.execute_input": "2024-04-20T10:05:53.835",
     "iopub.status.busy": "2024-04-20T10:05:53.835",
     "iopub.status.idle": "2024-04-20T10:05:53.851",
     "shell.execute_reply": "2024-04-20T10:05:53.851"
    }
   },
   "outputs": [
    {
     "name": "stdout",
     "output_type": "stream",
     "text": [
      "  0.005050 seconds (953 allocations: 7.678 MiB, 76.24% compilation time)\n"
     ]
    }
   ],
   "source": [
    "@time main2(square_arr, rectangle_arr, triangle_arr, circle_arr);"
   ]
  },
  {
   "cell_type": "code",
   "execution_count": 57,
   "id": "b2f5e136-872b-4149-ac66-cb64a8553fa5",
   "metadata": {
    "execution": {
     "iopub.execute_input": "2024-04-20T10:05:53.851",
     "iopub.status.busy": "2024-04-20T10:05:53.851",
     "iopub.status.idle": "2024-04-20T10:06:04.549",
     "shell.execute_reply": "2024-04-20T10:06:04.549"
    }
   },
   "outputs": [
    {
     "data": {
      "text/plain": [
       "BenchmarkTools.Trial: 4267 samples with 1 evaluation.\n",
       " Range \u001b[90m(\u001b[39m\u001b[36m\u001b[1mmin\u001b[22m\u001b[39m … \u001b[35mmax\u001b[39m\u001b[90m):  \u001b[39m\u001b[36m\u001b[1m491.542 μs\u001b[22m\u001b[39m … \u001b[35m11.094 ms\u001b[39m  \u001b[90m┊\u001b[39m GC \u001b[90m(\u001b[39mmin … max\u001b[90m): \u001b[39m 0.00% … 89.12%\n",
       " Time  \u001b[90m(\u001b[39m\u001b[34m\u001b[1mmedian\u001b[22m\u001b[39m\u001b[90m):     \u001b[39m\u001b[34m\u001b[1m884.583 μs              \u001b[22m\u001b[39m\u001b[90m┊\u001b[39m GC \u001b[90m(\u001b[39mmedian\u001b[90m):    \u001b[39m 0.00%\n",
       " Time  \u001b[90m(\u001b[39m\u001b[32m\u001b[1mmean\u001b[22m\u001b[39m ± \u001b[32mσ\u001b[39m\u001b[90m):   \u001b[39m\u001b[32m\u001b[1m  1.167 ms\u001b[22m\u001b[39m ± \u001b[32m 1.023 ms\u001b[39m  \u001b[90m┊\u001b[39m GC \u001b[90m(\u001b[39mmean ± σ\u001b[90m):  \u001b[39m23.41% ± 21.20%\n",
       "\n",
       "  \u001b[39m \u001b[39m▁\u001b[39m▃\u001b[39m▇\u001b[34m█\u001b[39m\u001b[39m▆\u001b[39m▄\u001b[39m▃\u001b[32m▁\u001b[39m\u001b[39m \u001b[39m \u001b[39m \u001b[39m \u001b[39m \u001b[39m \u001b[39m \u001b[39m \u001b[39m \u001b[39m \u001b[39m \u001b[39m \u001b[39m \u001b[39m \u001b[39m \u001b[39m \u001b[39m \u001b[39m \u001b[39m \u001b[39m \u001b[39m \u001b[39m \u001b[39m \u001b[39m \u001b[39m \u001b[39m \u001b[39m \u001b[39m \u001b[39m \u001b[39m \u001b[39m \u001b[39m \u001b[39m \u001b[39m \u001b[39m \u001b[39m \u001b[39m \u001b[39m \u001b[39m \u001b[39m \u001b[39m \u001b[39m \u001b[39m \u001b[39m \u001b[39m \u001b[39m \u001b[39m \u001b[39m \u001b[39m \u001b[39m \u001b[39m \u001b[39m \u001b[39m▁\n",
       "  \u001b[39m▇\u001b[39m█\u001b[39m█\u001b[39m█\u001b[34m█\u001b[39m\u001b[39m█\u001b[39m█\u001b[39m█\u001b[32m█\u001b[39m\u001b[39m▇\u001b[39m▁\u001b[39m▁\u001b[39m▁\u001b[39m▁\u001b[39m▁\u001b[39m▁\u001b[39m▁\u001b[39m▁\u001b[39m▁\u001b[39m▁\u001b[39m▁\u001b[39m▁\u001b[39m▁\u001b[39m▁\u001b[39m▁\u001b[39m▃\u001b[39m▃\u001b[39m▅\u001b[39m▆\u001b[39m▆\u001b[39m▇\u001b[39m▇\u001b[39m▇\u001b[39m▇\u001b[39m█\u001b[39m▇\u001b[39m█\u001b[39m▇\u001b[39m▇\u001b[39m▇\u001b[39m▆\u001b[39m▇\u001b[39m▆\u001b[39m▇\u001b[39m▆\u001b[39m▅\u001b[39m▅\u001b[39m▅\u001b[39m▆\u001b[39m▄\u001b[39m▅\u001b[39m▅\u001b[39m▅\u001b[39m▃\u001b[39m▅\u001b[39m▅\u001b[39m▃\u001b[39m▄\u001b[39m▅\u001b[39m▃\u001b[39m \u001b[39m█\n",
       "  492 μs\u001b[90m        \u001b[39m\u001b[90mHistogram: \u001b[39m\u001b[90m\u001b[1mlog(\u001b[22m\u001b[39m\u001b[90mfrequency\u001b[39m\u001b[90m\u001b[1m)\u001b[22m\u001b[39m\u001b[90m by time\u001b[39m       5.8 ms \u001b[0m\u001b[1m<\u001b[22m\n",
       "\n",
       " Memory estimate\u001b[90m: \u001b[39m\u001b[33m7.63 MiB\u001b[39m, allocs estimate\u001b[90m: \u001b[39m\u001b[33m20\u001b[39m."
      ]
     },
     "execution_count": 57,
     "metadata": {},
     "output_type": "execute_result"
    }
   ],
   "source": [
    "@benchmark main2(square_arr, rectangle_arr, triangle_arr, circle_arr)"
   ]
  },
  {
   "cell_type": "code",
   "execution_count": null,
   "id": "1e0f816a-0e02-40e1-8d21-282a7189e092",
   "metadata": {},
   "outputs": [],
   "source": []
  },
  {
   "cell_type": "code",
   "execution_count": null,
   "id": "aeda52cc-627b-4d2a-a2d3-c47147870dcf",
   "metadata": {},
   "outputs": [],
   "source": []
  }
 ],
 "metadata": {
  "kernelspec": {
   "display_name": "Julia 1.10.2",
   "language": "julia",
   "name": "julia-1.10"
  },
  "language_info": {
   "file_extension": ".jl",
   "mimetype": "application/julia",
   "name": "julia",
   "version": "1.10.2"
  },
  "widgets": {
   "application/vnd.jupyter.widget-state+json": {
    "state": {},
    "version_major": 2,
    "version_minor": 0
   }
  }
 },
 "nbformat": 4,
 "nbformat_minor": 5
}
