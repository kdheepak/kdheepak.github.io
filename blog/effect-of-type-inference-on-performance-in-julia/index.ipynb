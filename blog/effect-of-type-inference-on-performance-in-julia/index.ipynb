{
 "cells": [
  {
   "cell_type": "raw",
   "id": "aaa69d60-433e-4721-82be-bc648b59dc95",
   "metadata": {},
   "source": [
    "---\n",
    "title: Effect of type inference on performance in Julia\n",
    "categories:\n",
    "  - julia\n",
    "keywords: julia\n",
    "date: '2024-04-21T00:27:32-0400'\n",
    "---"
   ]
  },
  {
   "cell_type": "code",
   "execution_count": 1,
   "id": "5f4bcdc1-37f3-4724-bd36-64d6b1517e66",
   "metadata": {
    "execution": {
     "iopub.execute_input": "2024-04-20T23:06:53.490",
     "iopub.status.busy": "2024-04-20T23:06:53.195",
     "iopub.status.idle": "2024-04-20T23:06:56.397",
     "shell.execute_reply": "2024-04-20T23:06:56.374"
    }
   },
   "outputs": [
    {
     "name": "stderr",
     "output_type": "stream",
     "text": [
      "\u001b[32m\u001b[1m  Activating\u001b[22m\u001b[39m project at `~/gitrepos/kdheepak.github.io/blog/effect-of-type-inference-on-performance-in-julia`\n"
     ]
    }
   ],
   "source": [
    "#| include: false\n",
    "using Pkg\n",
    "Pkg.activate(@__DIR__)\n",
    "Pkg.instantiate()\n",
    "cd(@__DIR__)"
   ]
  },
  {
   "cell_type": "code",
   "execution_count": 6,
   "id": "b3a8fbdd-6b28-4a20-a055-bb95ac990072",
   "metadata": {
    "execution": {
     "iopub.execute_input": "2024-04-20T23:07:45.351",
     "iopub.status.busy": "2024-04-20T23:07:45.350",
     "iopub.status.idle": "2024-04-20T23:07:45.356",
     "shell.execute_reply": "2024-04-20T23:07:45.356"
    }
   },
   "outputs": [
    {
     "name": "stdout",
     "output_type": "stream",
     "text": [
      "Julia Version 1.10.2\n",
      "Commit bd47eca2c8a (2024-03-01 10:14 UTC)\n",
      "Build Info:\n",
      "  Official https://julialang.org/ release\n",
      "Platform Info:\n",
      "  OS: macOS (arm64-apple-darwin22.4.0)\n",
      "  CPU: 10 × Apple M1 Pro\n",
      "  WORD_SIZE: 64\n",
      "  LIBM: libopenlibm\n",
      "  LLVM: libLLVM-15.0.7 (ORCJIT, apple-m1)\n",
      "Threads: 1 default, 0 interactive, 1 GC (on 8 virtual cores)\n",
      "Environment:\n",
      "  JULIA_PROJECT = @.\n"
     ]
    }
   ],
   "source": [
    "versioninfo(verbose=false)"
   ]
  },
  {
   "cell_type": "markdown",
   "id": "80cdadec-fadf-4a6b-a2d5-1cf5a387da24",
   "metadata": {},
   "source": [
    "In Julia, to ensure that the code you write executes fast and efficiently, it is important to benchmark frequently. There's lots of really useful tips in the [Performance Tips] section in the official documentation.\n",
    "\n",
    "[Performance Tips](https://docs.julialang.org/en/v1/manual/performance-tips/)\n",
    "\n",
    "In this blog post, I want to touch on one specific performance tip: containers with abstract types and type inference."
   ]
  },
  {
   "cell_type": "markdown",
   "id": "c1f887ee-d274-4e01-a73b-451dae67f060",
   "metadata": {},
   "source": [
    "# Toy problem"
   ]
  },
  {
   "cell_type": "markdown",
   "id": "7ed2a55d-365a-4a1f-ab96-59cc14bd4fdd",
   "metadata": {},
   "source": [
    "Let's define a toy problem to work with."
   ]
  },
  {
   "cell_type": "code",
   "execution_count": 9,
   "id": "b1e5ad21-3024-4076-9b16-f5d4c4ca4663",
   "metadata": {
    "execution": {
     "iopub.execute_input": "2024-04-20T23:18:42.105",
     "iopub.status.busy": "2024-04-20T23:18:42.104",
     "iopub.status.idle": "2024-04-20T23:18:42.130",
     "shell.execute_reply": "2024-04-20T23:18:42.130"
    }
   },
   "outputs": [
    {
     "data": {
      "text/plain": [
       "area (generic function with 5 methods)"
      ]
     },
     "execution_count": 9,
     "metadata": {},
     "output_type": "execute_result"
    }
   ],
   "source": [
    "abstract type Shape end\n",
    "area(::Shape) = 0.0\n",
    "\n",
    "@kwdef struct Square <: Shape\n",
    "    side::Float64 = rand()\n",
    "end\n",
    "area(s::Square) = s.side * s.side\n",
    "    \n",
    "@kwdef struct Rectangle <: Shape\n",
    "    width::Float64 = rand()\n",
    "    height::Float64 = rand()\n",
    "end\n",
    "area(r::Rectangle) = r.width * r.height\n",
    "    \n",
    "@kwdef struct Triangle <: Shape\n",
    "    base::Float64 = rand()\n",
    "    height::Float64 = rand()\n",
    "end\n",
    "area(t::Triangle) = 1.0/2.0 * t.base * t.height\n",
    "\n",
    "@kwdef struct Circle <: Shape\n",
    "    radius::Float64 = rand()\n",
    "end\n",
    "area(c::Circle) = π * c.radius^2"
   ]
  },
  {
   "cell_type": "markdown",
   "id": "f80657bd-d1f4-48d5-bd4e-e82fd4841fff",
   "metadata": {},
   "source": [
    "We can use the builtin `Test` module to check that the code we wrote is correct."
   ]
  },
  {
   "cell_type": "code",
   "execution_count": 10,
   "id": "31a5cc81-a7e4-401c-ad44-c91ab139d0f9",
   "metadata": {
    "execution": {
     "iopub.execute_input": "2024-04-20T23:18:45.088",
     "iopub.status.busy": "2024-04-20T23:18:45.087",
     "iopub.status.idle": "2024-04-20T23:18:45.361",
     "shell.execute_reply": "2024-04-20T23:18:45.360"
    }
   },
   "outputs": [
    {
     "name": "stdout",
     "output_type": "stream",
     "text": [
      "\u001b[0m\u001b[1mTest Summary: | \u001b[22m\u001b[32m\u001b[1mPass  \u001b[22m\u001b[39m\u001b[36m\u001b[1mTotal  \u001b[22m\u001b[39m\u001b[0m\u001b[1mTime\u001b[22m\n",
      "Areas         | \u001b[32m   4  \u001b[39m\u001b[36m    4  \u001b[39m\u001b[0m0.1s\n"
     ]
    }
   ],
   "source": [
    "using Test\n",
    "@testset \"Areas\" begin\n",
    "    @test area(Square(2)) == 4\n",
    "    @test area(Rectangle(2,3)) == 6\n",
    "    @test area(Triangle(2,3)) == 3\n",
    "    @test area(Circle(2)) ≈ 4π\n",
    "end;"
   ]
  },
  {
   "cell_type": "markdown",
   "id": "c815898b-d374-4ee0-9419-abac85631b7a",
   "metadata": {},
   "source": [
    "Let's also build 1 million random shapes."
   ]
  },
  {
   "cell_type": "code",
   "execution_count": 11,
   "id": "89712b98-7612-43da-bc3e-f667abd7e2ee",
   "metadata": {
    "execution": {
     "iopub.execute_input": "2024-04-20T23:18:45.900",
     "iopub.status.busy": "2024-04-20T23:18:45.900",
     "iopub.status.idle": "2024-04-20T23:18:46.081",
     "shell.execute_reply": "2024-04-20T23:18:46.080"
    }
   },
   "outputs": [],
   "source": [
    "using Random\n",
    "\n",
    "Random.seed!(42)\n",
    "\n",
    "function shape_builder(choice::Integer)\n",
    "    if choice == 1\n",
    "        Square(rand())\n",
    "    elseif choice == 2\n",
    "        Rectangle(rand(), rand())\n",
    "    elseif choice == 3\n",
    "        Triangle(rand(), rand())\n",
    "    elseif choice == 4\n",
    "        Circle(rand())\n",
    "    end\n",
    "end\n",
    "\n",
    "count = 1_000_000\n",
    "shapes = [shape_builder(rand((1,2,3,4))) for _ in 1:count];"
   ]
  },
  {
   "cell_type": "code",
   "execution_count": 12,
   "id": "6cb04f19-d92e-401a-a475-746266921ac0",
   "metadata": {
    "execution": {
     "iopub.execute_input": "2024-04-20T23:18:58.776",
     "iopub.status.busy": "2024-04-20T23:18:58.775",
     "iopub.status.idle": "2024-04-20T23:18:58.955",
     "shell.execute_reply": "2024-04-20T23:18:58.955"
    }
   },
   "outputs": [
    {
     "data": {
      "text/latex": [
       "The total number of shapes we have is 1,000,000.\n",
       "\n"
      ],
      "text/markdown": [
       "The total number of shapes we have is 1,000,000.\n"
      ],
      "text/plain": [
       "  The total number of shapes we have is 1,000,000."
      ]
     },
     "execution_count": 12,
     "metadata": {},
     "output_type": "execute_result"
    }
   ],
   "source": [
    "#| echo: false\n",
    "using Format\n",
    "using Markdown\n",
    "l = cfmt(\"%'d\", length(shapes))\n",
    "Markdown.md\"The total number of shapes we have is $l.\""
   ]
  },
  {
   "cell_type": "markdown",
   "id": "2437f582-6ab3-455b-8497-d675ecc6f855",
   "metadata": {},
   "source": [
    "# Type inference"
   ]
  },
  {
   "cell_type": "markdown",
   "id": "c25cc134-25d3-440b-83c9-211e2df7ccb3",
   "metadata": {},
   "source": [
    "We can use the `typeof` function to see what the type of the data in the `shapes` variable is:"
   ]
  },
  {
   "cell_type": "code",
   "execution_count": 23,
   "id": "c8ef2b3a-734b-4697-9696-91e3d3221842",
   "metadata": {
    "execution": {
     "iopub.execute_input": "2024-04-20T23:22:20.314",
     "iopub.status.busy": "2024-04-20T23:22:20.314",
     "iopub.status.idle": "2024-04-20T23:22:20.319",
     "shell.execute_reply": "2024-04-20T23:22:20.318"
    }
   },
   "outputs": [
    {
     "data": {
      "text/plain": [
       "Vector{Shape}\u001b[90m (alias for \u001b[39m\u001b[90mArray{Shape, 1}\u001b[39m\u001b[90m)\u001b[39m"
      ]
     },
     "execution_count": 23,
     "metadata": {},
     "output_type": "execute_result"
    }
   ],
   "source": [
    "typeof(shapes)"
   ]
  },
  {
   "cell_type": "markdown",
   "id": "035f680d-702f-46ed-91fb-4ec63cdff7f4",
   "metadata": {},
   "source": [
    "By default, Julia will infer the type at the bottom of the tree that fits all the data in the container.\n",
    "For example, if we just built a vector with the same elements (e.g. `Square`), Julia will infer the container to be `Vector{Square}`."
   ]
  },
  {
   "cell_type": "code",
   "execution_count": 27,
   "id": "2af0824b-d7f2-4903-be70-6566c54b1221",
   "metadata": {
    "execution": {
     "iopub.execute_input": "2024-04-20T23:24:06.523",
     "iopub.status.busy": "2024-04-20T23:24:06.523",
     "iopub.status.idle": "2024-04-20T23:24:06.549",
     "shell.execute_reply": "2024-04-20T23:24:06.549"
    }
   },
   "outputs": [
    {
     "data": {
      "text/plain": [
       "Vector{Square}\u001b[90m (alias for \u001b[39m\u001b[90mArray{Square, 1}\u001b[39m\u001b[90m)\u001b[39m"
      ]
     },
     "execution_count": 27,
     "metadata": {},
     "output_type": "execute_result"
    }
   ],
   "source": [
    "typeof([shape_builder(rand((1,))) for _ in 1:10])"
   ]
  },
  {
   "cell_type": "code",
   "execution_count": 28,
   "id": "eff7f503-59de-4eb6-9a3e-30a764b3cf4d",
   "metadata": {
    "execution": {
     "iopub.execute_input": "2024-04-20T23:24:10.305",
     "iopub.status.busy": "2024-04-20T23:24:10.304",
     "iopub.status.idle": "2024-04-20T23:24:10.344",
     "shell.execute_reply": "2024-04-20T23:24:10.344"
    }
   },
   "outputs": [
    {
     "name": "stdout",
     "output_type": "stream",
     "text": [
      "Square <: Shape <: Any\n"
     ]
    }
   ],
   "source": [
    "println(join(string.(supertypes(Square)), \" <: \"))"
   ]
  },
  {
   "cell_type": "markdown",
   "id": "406d60a6-06e8-4ed7-85f5-c3cb4a67127a",
   "metadata": {},
   "source": [
    "Let's define a function that calculates the `area` for all the shapes and adds them all up"
   ]
  },
  {
   "cell_type": "code",
   "execution_count": 29,
   "id": "c91b5a9d-ca77-4cf8-893b-f64a9feaea1f",
   "metadata": {
    "execution": {
     "iopub.execute_input": "2024-04-20T23:24:34.307",
     "iopub.status.busy": "2024-04-20T23:24:34.307",
     "iopub.status.idle": "2024-04-20T23:24:34.312",
     "shell.execute_reply": "2024-04-20T23:24:34.311"
    }
   },
   "outputs": [
    {
     "data": {
      "text/plain": [
       "main1 (generic function with 1 method)"
      ]
     },
     "execution_count": 29,
     "metadata": {},
     "output_type": "execute_result"
    }
   ],
   "source": [
    "main1(shapes) = sum(area, shapes)"
   ]
  },
  {
   "cell_type": "markdown",
   "id": "915a9bb7-bda8-48c5-ada5-1488ddd361b6",
   "metadata": {},
   "source": [
    "We can test this function and precompile it by running it once."
   ]
  },
  {
   "cell_type": "code",
   "execution_count": 30,
   "id": "add2506f-2afb-4cb0-831c-11d5ee223341",
   "metadata": {
    "execution": {
     "iopub.execute_input": "2024-04-20T23:24:35.822",
     "iopub.status.busy": "2024-04-20T23:24:35.821",
     "iopub.status.idle": "2024-04-20T23:24:35.968",
     "shell.execute_reply": "2024-04-20T23:24:35.968"
    }
   },
   "outputs": [
    {
     "name": "stdout",
     "output_type": "stream",
     "text": [
      "  0.119760 seconds (2.00 M allocations: 30.552 MiB, 49.17% gc time, 1.84% compilation time)\n"
     ]
    },
    {
     "data": {
      "text/plain": [
       "439078.977716569"
      ]
     },
     "execution_count": 30,
     "metadata": {},
     "output_type": "execute_result"
    }
   ],
   "source": [
    "@time main1(shapes)"
   ]
  },
  {
   "cell_type": "markdown",
   "id": "439846a1-f3ea-4d4f-b04d-c4f71e88da45",
   "metadata": {},
   "source": [
    "## Example of type inference failing"
   ]
  },
  {
   "cell_type": "markdown",
   "id": "1be65a06-8bdb-4aee-a326-8522585665d6",
   "metadata": {},
   "source": [
    "Unfortunately, it can be easy to accidentally construct a container with an abstract type for the type parameter of a generic type."
   ]
  },
  {
   "cell_type": "code",
   "execution_count": 42,
   "id": "663e79c1-c9b6-4685-b8c7-1c5599351040",
   "metadata": {
    "execution": {
     "iopub.execute_input": "2024-04-21T00:00:46.433",
     "iopub.status.busy": "2024-04-21T00:00:46.433",
     "iopub.status.idle": "2024-04-21T00:00:46.518",
     "shell.execute_reply": "2024-04-21T00:00:46.518"
    }
   },
   "outputs": [
    {
     "name": "stdout",
     "output_type": "stream",
     "text": [
      "typeof(shape_arr1) = Vector{Shape}\n",
      "typeof(shape_arr2) = Vector{Shape}\n",
      "typeof(shape_arr3) = Vector{Shape}\n",
      "typeof(shape_arr4) = Vector{Shape}\n"
     ]
    }
   ],
   "source": [
    "bad_shapes_by_type(::Type{T}, shapes) where T = filter(s -> isa(s, T), shapes)\n",
    "\n",
    "shape_arr1 = bad_shapes_by_type(Square, shapes)\n",
    "shape_arr2 = bad_shapes_by_type(Rectangle, shapes)\n",
    "shape_arr3 = bad_shapes_by_type(Triangle, shapes)\n",
    "shape_arr4 = bad_shapes_by_type(Circle, shapes)\n",
    "\n",
    "@show typeof(shape_arr1)\n",
    "@show typeof(shape_arr2)\n",
    "@show typeof(shape_arr3)\n",
    "@show typeof(shape_arr4)\n",
    "nothing"
   ]
  },
  {
   "cell_type": "markdown",
   "id": "27959808-34af-4fc6-8099-8547a7203e49",
   "metadata": {},
   "source": [
    "For better performance, it helps to have concrete types in the generic parameters for a container."
   ]
  },
  {
   "cell_type": "code",
   "execution_count": 40,
   "id": "db373b50-b4fe-4392-bf9b-3124e9a722a6",
   "metadata": {
    "execution": {
     "iopub.execute_input": "2024-04-20T23:59:00.275",
     "iopub.status.busy": "2024-04-20T23:59:00.274",
     "iopub.status.idle": "2024-04-20T23:59:00.398",
     "shell.execute_reply": "2024-04-20T23:59:00.398"
    }
   },
   "outputs": [
    {
     "name": "stdout",
     "output_type": "stream",
     "text": [
      "typeof(square_arr) = Vector{Square}\n",
      "typeof(rectangle_arr) = Vector{Rectangle}\n",
      "typeof(triangle_arr) = Vector{Triangle}\n",
      "typeof(circle_arr) = Vector{Circle}\n"
     ]
    }
   ],
   "source": [
    "good_shapes_by_type(::Type{T}, shapes) where T = [shape for shape in shapes if isa(shape, T)]\n",
    "\n",
    "square_arr = good_shapes_by_type(Square, shapes)\n",
    "rectangle_arr = good_shapes_by_type(Rectangle, shapes)\n",
    "triangle_arr = good_shapes_by_type(Triangle, shapes)\n",
    "circle_arr = good_shapes_by_type(Circle, shapes)\n",
    "\n",
    "@show typeof(square_arr)\n",
    "@show typeof(rectangle_arr)\n",
    "@show typeof(triangle_arr)\n",
    "@show typeof(circle_arr)\n",
    "nothing"
   ]
  },
  {
   "cell_type": "code",
   "execution_count": 60,
   "id": "88bed1fb-5da1-4c41-97cf-328baa5c8a52",
   "metadata": {
    "execution": {
     "iopub.execute_input": "2024-04-21T00:06:18.072",
     "iopub.status.busy": "2024-04-21T00:06:18.071",
     "iopub.status.idle": "2024-04-21T00:06:18.542",
     "shell.execute_reply": "2024-04-21T00:06:18.542"
    }
   },
   "outputs": [
    {
     "name": "stdout",
     "output_type": "stream",
     "text": [
      "typeof(sorted_shapes_shape) = Vector{Shape}\n",
      "typeof(sorted_shapes_any) = Vector{Any}\n",
      "typeof(sorted_shapes_union) = Vector{Union{Circle, Rectangle, Square, Triangle}}\n"
     ]
    }
   ],
   "source": [
    "sorted_shapes_shape = vcat(square_arr, rectangle_arr, triangle_arr, circle_arr);\n",
    "sorted_shapes_any = Any[s for s in sorted_shapes_shape];\n",
    "sorted_shapes_union = Union{Square, Rectangle, Triangle, Circle}[s for s in sorted_shapes_shape];\n",
    "\n",
    "@show typeof(sorted_shapes_shape)\n",
    "@show typeof(sorted_shapes_any)\n",
    "@show typeof(sorted_shapes_union);"
   ]
  },
  {
   "cell_type": "markdown",
   "id": "98914115-997f-4d4b-a0a2-daf90b713dff",
   "metadata": {},
   "source": [
    "# Benchmarks"
   ]
  },
  {
   "cell_type": "markdown",
   "id": "6e29d7cf-ece6-4c36-b361-bd676ad80d88",
   "metadata": {},
   "source": [
    "We can benchmark the performance of these different types using `BenchmarkTools`:"
   ]
  },
  {
   "cell_type": "code",
   "execution_count": 33,
   "id": "cb11a309-14c8-454d-b2e9-bc9ce4bab4ff",
   "metadata": {
    "execution": {
     "iopub.execute_input": "2024-04-20T23:25:29.255",
     "iopub.status.busy": "2024-04-20T23:25:29.254",
     "iopub.status.idle": "2024-04-20T23:25:40.083",
     "shell.execute_reply": "2024-04-20T23:25:40.082"
    }
   },
   "outputs": [
    {
     "data": {
      "text/plain": [
       "BenchmarkTools.Trial: 127 samples with 1 evaluation.\n",
       " Range \u001b[90m(\u001b[39m\u001b[36m\u001b[1mmin\u001b[22m\u001b[39m … \u001b[35mmax\u001b[39m\u001b[90m):  \u001b[39m\u001b[36m\u001b[1m38.655 ms\u001b[22m\u001b[39m … \u001b[35m 40.566 ms\u001b[39m  \u001b[90m┊\u001b[39m GC \u001b[90m(\u001b[39mmin … max\u001b[90m): \u001b[39m0.00% … 0.75%\n",
       " Time  \u001b[90m(\u001b[39m\u001b[34m\u001b[1mmedian\u001b[22m\u001b[39m\u001b[90m):     \u001b[39m\u001b[34m\u001b[1m39.363 ms               \u001b[22m\u001b[39m\u001b[90m┊\u001b[39m GC \u001b[90m(\u001b[39mmedian\u001b[90m):    \u001b[39m0.70%\n",
       " Time  \u001b[90m(\u001b[39m\u001b[32m\u001b[1mmean\u001b[22m\u001b[39m ± \u001b[32mσ\u001b[39m\u001b[90m):   \u001b[39m\u001b[32m\u001b[1m39.403 ms\u001b[22m\u001b[39m ± \u001b[32m404.816 μs\u001b[39m  \u001b[90m┊\u001b[39m GC \u001b[90m(\u001b[39mmean ± σ\u001b[90m):  \u001b[39m0.50% ± 0.34%\n",
       "\n",
       "  \u001b[39m \u001b[39m \u001b[39m \u001b[39m \u001b[39m \u001b[39m \u001b[39m \u001b[39m \u001b[39m \u001b[39m \u001b[39m \u001b[39m▂\u001b[39m█\u001b[39m \u001b[39m▂\u001b[39m▄\u001b[39m▂\u001b[39m▄\u001b[39m \u001b[39m \u001b[39m \u001b[39m \u001b[39m▂\u001b[39m \u001b[34m▆\u001b[39m\u001b[39m \u001b[32m▄\u001b[39m\u001b[39m \u001b[39m▂\u001b[39m \u001b[39m \u001b[39m \u001b[39m \u001b[39m \u001b[39m \u001b[39m \u001b[39m▄\u001b[39m \u001b[39m \u001b[39m \u001b[39m \u001b[39m▂\u001b[39m \u001b[39m \u001b[39m \u001b[39m \u001b[39m \u001b[39m \u001b[39m \u001b[39m \u001b[39m \u001b[39m \u001b[39m \u001b[39m \u001b[39m \u001b[39m \u001b[39m \u001b[39m \u001b[39m \u001b[39m \u001b[39m \u001b[39m \n",
       "  \u001b[39m▄\u001b[39m▆\u001b[39m▆\u001b[39m▆\u001b[39m▄\u001b[39m▁\u001b[39m▄\u001b[39m█\u001b[39m▆\u001b[39m▁\u001b[39m▁\u001b[39m█\u001b[39m█\u001b[39m▆\u001b[39m█\u001b[39m█\u001b[39m█\u001b[39m█\u001b[39m▆\u001b[39m▆\u001b[39m█\u001b[39m▁\u001b[39m█\u001b[39m█\u001b[34m█\u001b[39m\u001b[39m█\u001b[32m█\u001b[39m\u001b[39m█\u001b[39m█\u001b[39m▄\u001b[39m▁\u001b[39m█\u001b[39m█\u001b[39m█\u001b[39m█\u001b[39m▆\u001b[39m█\u001b[39m█\u001b[39m▄\u001b[39m▄\u001b[39m▄\u001b[39m█\u001b[39m█\u001b[39m▁\u001b[39m▆\u001b[39m▆\u001b[39m▄\u001b[39m▁\u001b[39m▁\u001b[39m▄\u001b[39m▄\u001b[39m▄\u001b[39m▄\u001b[39m▁\u001b[39m▆\u001b[39m▁\u001b[39m▄\u001b[39m▁\u001b[39m▁\u001b[39m▄\u001b[39m \u001b[39m▄\n",
       "  38.7 ms\u001b[90m         Histogram: frequency by time\u001b[39m         40.4 ms \u001b[0m\u001b[1m<\u001b[22m\n",
       "\n",
       " Memory estimate\u001b[90m: \u001b[39m\u001b[33m30.52 MiB\u001b[39m, allocs estimate\u001b[90m: \u001b[39m\u001b[33m1999999\u001b[39m."
      ]
     },
     "execution_count": 33,
     "metadata": {},
     "output_type": "execute_result"
    }
   ],
   "source": [
    "using BenchmarkTools\n",
    "\n",
    "@benchmark main1(shapes)"
   ]
  },
  {
   "cell_type": "markdown",
   "id": "ef2310e2-781d-4bc2-a1c3-8d121edebdf2",
   "metadata": {},
   "source": [
    "Both benchmarks for `Vector{Shape}` and `Vector{Any}` can be inefficient. \n",
    "\n",
    "The Julia manual has the following to say:\n",
    "\n",
    "> If you cannot avoid containers with abstract value types, it is sometimes better to parametrize with `Any` to avoid runtime type checking. E.g. IdDict{Any, Any} performs better than IdDict{Type, Vector}"
   ]
  },
  {
   "cell_type": "code",
   "execution_count": 61,
   "id": "6608a0dd-158d-45c0-9cf0-e15203e81afb",
   "metadata": {
    "execution": {
     "iopub.execute_input": "2024-04-21T00:06:20.195",
     "iopub.status.busy": "2024-04-21T00:06:20.194",
     "iopub.status.idle": "2024-04-21T00:06:30.859",
     "shell.execute_reply": "2024-04-21T00:06:30.859"
    }
   },
   "outputs": [
    {
     "data": {
      "text/plain": [
       "BenchmarkTools.Trial: 150 samples with 1 evaluation.\n",
       " Range \u001b[90m(\u001b[39m\u001b[36m\u001b[1mmin\u001b[22m\u001b[39m … \u001b[35mmax\u001b[39m\u001b[90m):  \u001b[39m\u001b[36m\u001b[1m30.877 ms\u001b[22m\u001b[39m … \u001b[35m38.375 ms\u001b[39m  \u001b[90m┊\u001b[39m GC \u001b[90m(\u001b[39mmin … max\u001b[90m): \u001b[39m0.00% … 12.04%\n",
       " Time  \u001b[90m(\u001b[39m\u001b[34m\u001b[1mmedian\u001b[22m\u001b[39m\u001b[90m):     \u001b[39m\u001b[34m\u001b[1m31.742 ms              \u001b[22m\u001b[39m\u001b[90m┊\u001b[39m GC \u001b[90m(\u001b[39mmedian\u001b[90m):    \u001b[39m0.00%\n",
       " Time  \u001b[90m(\u001b[39m\u001b[32m\u001b[1mmean\u001b[22m\u001b[39m ± \u001b[32mσ\u001b[39m\u001b[90m):   \u001b[39m\u001b[32m\u001b[1m33.335 ms\u001b[22m\u001b[39m ± \u001b[32m 2.679 ms\u001b[39m  \u001b[90m┊\u001b[39m GC \u001b[90m(\u001b[39mmean ± σ\u001b[90m):  \u001b[39m4.81% ±  5.99%\n",
       "\n",
       "  \u001b[39m█\u001b[39m▆\u001b[39m▂\u001b[39m \u001b[39m▁\u001b[39m▁\u001b[39m \u001b[34m \u001b[39m\u001b[39m \u001b[39m \u001b[39m \u001b[39m \u001b[39m \u001b[39m \u001b[39m \u001b[39m \u001b[39m \u001b[39m \u001b[39m \u001b[39m \u001b[39m \u001b[32m \u001b[39m\u001b[39m \u001b[39m \u001b[39m \u001b[39m \u001b[39m \u001b[39m \u001b[39m \u001b[39m \u001b[39m \u001b[39m \u001b[39m \u001b[39m \u001b[39m \u001b[39m \u001b[39m \u001b[39m \u001b[39m \u001b[39m \u001b[39m \u001b[39m \u001b[39m \u001b[39m \u001b[39m \u001b[39m \u001b[39m \u001b[39m \u001b[39m \u001b[39m▁\u001b[39m \u001b[39m \u001b[39m \u001b[39m \u001b[39m \u001b[39m \u001b[39m \u001b[39m \u001b[39m \u001b[39m \u001b[39m \n",
       "  \u001b[39m█\u001b[39m█\u001b[39m█\u001b[39m▆\u001b[39m█\u001b[39m█\u001b[39m▃\u001b[34m▆\u001b[39m\u001b[39m▇\u001b[39m▅\u001b[39m▃\u001b[39m▄\u001b[39m▃\u001b[39m▃\u001b[39m▃\u001b[39m▃\u001b[39m▁\u001b[39m▁\u001b[39m▁\u001b[39m▁\u001b[39m▃\u001b[32m▁\u001b[39m\u001b[39m▁\u001b[39m▁\u001b[39m▁\u001b[39m▁\u001b[39m▁\u001b[39m▁\u001b[39m▁\u001b[39m▁\u001b[39m▁\u001b[39m▁\u001b[39m▁\u001b[39m▁\u001b[39m▁\u001b[39m▁\u001b[39m▁\u001b[39m▁\u001b[39m▁\u001b[39m▁\u001b[39m▁\u001b[39m▁\u001b[39m▁\u001b[39m▄\u001b[39m▁\u001b[39m▃\u001b[39m▄\u001b[39m▆\u001b[39m▆\u001b[39m█\u001b[39m▅\u001b[39m▇\u001b[39m▃\u001b[39m▃\u001b[39m▄\u001b[39m▄\u001b[39m▁\u001b[39m▃\u001b[39m▃\u001b[39m \u001b[39m▃\n",
       "  30.9 ms\u001b[90m         Histogram: frequency by time\u001b[39m        37.9 ms \u001b[0m\u001b[1m<\u001b[22m\n",
       "\n",
       " Memory estimate\u001b[90m: \u001b[39m\u001b[33m30.52 MiB\u001b[39m, allocs estimate\u001b[90m: \u001b[39m\u001b[33m1999999\u001b[39m."
      ]
     },
     "execution_count": 61,
     "metadata": {},
     "output_type": "execute_result"
    }
   ],
   "source": [
    "@benchmark main1(sorted_shapes_shape)"
   ]
  },
  {
   "cell_type": "code",
   "execution_count": 64,
   "id": "87d39970-fb7e-4951-a2ba-e2564c72f183",
   "metadata": {
    "execution": {
     "iopub.execute_input": "2024-04-21T00:08:12.701",
     "iopub.status.busy": "2024-04-21T00:08:12.701",
     "iopub.status.idle": "2024-04-21T00:08:23.468",
     "shell.execute_reply": "2024-04-21T00:08:23.468"
    }
   },
   "outputs": [
    {
     "data": {
      "text/plain": [
       "BenchmarkTools.Trial: 148 samples with 1 evaluation.\n",
       " Range \u001b[90m(\u001b[39m\u001b[36m\u001b[1mmin\u001b[22m\u001b[39m … \u001b[35mmax\u001b[39m\u001b[90m):  \u001b[39m\u001b[36m\u001b[1m31.392 ms\u001b[22m\u001b[39m … \u001b[35m39.047 ms\u001b[39m  \u001b[90m┊\u001b[39m GC \u001b[90m(\u001b[39mmin … max\u001b[90m): \u001b[39m0.00% … 13.01%\n",
       " Time  \u001b[90m(\u001b[39m\u001b[34m\u001b[1mmedian\u001b[22m\u001b[39m\u001b[90m):     \u001b[39m\u001b[34m\u001b[1m32.419 ms              \u001b[22m\u001b[39m\u001b[90m┊\u001b[39m GC \u001b[90m(\u001b[39mmedian\u001b[90m):    \u001b[39m0.00%\n",
       " Time  \u001b[90m(\u001b[39m\u001b[32m\u001b[1mmean\u001b[22m\u001b[39m ± \u001b[32mσ\u001b[39m\u001b[90m):   \u001b[39m\u001b[32m\u001b[1m33.877 ms\u001b[22m\u001b[39m ± \u001b[32m 2.629 ms\u001b[39m  \u001b[90m┊\u001b[39m GC \u001b[90m(\u001b[39mmean ± σ\u001b[90m):  \u001b[39m4.55% ±  5.71%\n",
       "\n",
       "  \u001b[39m█\u001b[39m▄\u001b[39m▃\u001b[39m▃\u001b[39m▃\u001b[39m \u001b[39m \u001b[39m \u001b[34m \u001b[39m\u001b[39m▁\u001b[39m \u001b[39m \u001b[39m \u001b[39m \u001b[39m \u001b[39m \u001b[39m \u001b[39m \u001b[39m \u001b[39m \u001b[39m \u001b[32m \u001b[39m\u001b[39m \u001b[39m \u001b[39m \u001b[39m \u001b[39m \u001b[39m \u001b[39m \u001b[39m \u001b[39m \u001b[39m \u001b[39m \u001b[39m \u001b[39m \u001b[39m \u001b[39m \u001b[39m \u001b[39m \u001b[39m \u001b[39m \u001b[39m \u001b[39m \u001b[39m \u001b[39m \u001b[39m \u001b[39m \u001b[39m \u001b[39m \u001b[39m \u001b[39m \u001b[39m \u001b[39m \u001b[39m \u001b[39m \u001b[39m \u001b[39m \u001b[39m \u001b[39m \u001b[39m \u001b[39m \n",
       "  \u001b[39m█\u001b[39m█\u001b[39m█\u001b[39m█\u001b[39m█\u001b[39m█\u001b[39m▆\u001b[39m▃\u001b[34m▆\u001b[39m\u001b[39m█\u001b[39m▄\u001b[39m█\u001b[39m▁\u001b[39m▁\u001b[39m▃\u001b[39m▄\u001b[39m▃\u001b[39m▃\u001b[39m▃\u001b[39m▁\u001b[39m▁\u001b[32m▁\u001b[39m\u001b[39m▁\u001b[39m▁\u001b[39m▁\u001b[39m▁\u001b[39m▁\u001b[39m▁\u001b[39m▁\u001b[39m▁\u001b[39m▁\u001b[39m▁\u001b[39m▁\u001b[39m▁\u001b[39m▁\u001b[39m▁\u001b[39m▁\u001b[39m▁\u001b[39m▁\u001b[39m▁\u001b[39m▁\u001b[39m▃\u001b[39m▃\u001b[39m▄\u001b[39m▁\u001b[39m▅\u001b[39m▆\u001b[39m▆\u001b[39m▆\u001b[39m▄\u001b[39m▆\u001b[39m▆\u001b[39m▄\u001b[39m▆\u001b[39m▆\u001b[39m▄\u001b[39m▅\u001b[39m▁\u001b[39m▄\u001b[39m \u001b[39m▃\n",
       "  31.4 ms\u001b[90m         Histogram: frequency by time\u001b[39m        38.4 ms \u001b[0m\u001b[1m<\u001b[22m\n",
       "\n",
       " Memory estimate\u001b[90m: \u001b[39m\u001b[33m30.52 MiB\u001b[39m, allocs estimate\u001b[90m: \u001b[39m\u001b[33m1999999\u001b[39m."
      ]
     },
     "execution_count": 64,
     "metadata": {},
     "output_type": "execute_result"
    }
   ],
   "source": [
    "@benchmark main1(sorted_shapes_any)"
   ]
  },
  {
   "cell_type": "markdown",
   "id": "e8239ce2-0caa-41aa-9754-952ed54543f1",
   "metadata": {},
   "source": [
    "However, what is interesting is that `Vector{Union{Circle, Rectangle, Square, Triangle}}` has a concrete type parameter for the `Vector` container."
   ]
  },
  {
   "cell_type": "code",
   "execution_count": 67,
   "id": "599e0c2d-80b1-4823-8294-6d7939c1f66d",
   "metadata": {
    "execution": {
     "iopub.execute_input": "2024-04-21T00:09:47.474",
     "iopub.status.busy": "2024-04-21T00:09:47.474",
     "iopub.status.idle": "2024-04-21T00:09:47.479",
     "shell.execute_reply": "2024-04-21T00:09:47.478"
    }
   },
   "outputs": [
    {
     "name": "stdout",
     "output_type": "stream",
     "text": [
      "isconcretetype(Shape) = false\n",
      "isconcretetype(Union{Circle, Rectangle, Square, Triangle}) = false\n"
     ]
    }
   ],
   "source": [
    "@show isconcretetype(Shape)\n",
    "@show isconcretetype(Union{Circle, Rectangle, Square, Triangle});"
   ]
  },
  {
   "cell_type": "markdown",
   "id": "d9f57c52-af5c-4550-a5ec-fae93cb39b5e",
   "metadata": {},
   "source": [
    "You can see difference show up clearly in the performance benchmarks."
   ]
  },
  {
   "cell_type": "code",
   "execution_count": 77,
   "id": "b7258cd1-da7a-4c03-ae1b-9b433d877b0c",
   "metadata": {
    "execution": {
     "iopub.execute_input": "2024-04-21T00:14:26.736",
     "iopub.status.busy": "2024-04-21T00:14:26.736",
     "iopub.status.idle": "2024-04-21T00:14:26.741",
     "shell.execute_reply": "2024-04-21T00:14:26.740"
    }
   },
   "outputs": [
    {
     "data": {
      "text/latex": [
       "\\texttt{Union\\{Circle, Rectangle, Square, Triangle\\}} is faster than \\texttt{Shape} by a factor of roughly 36 times.\n",
       "\n"
      ],
      "text/markdown": [
       "`Union{Circle, Rectangle, Square, Triangle}` is faster than `Shape` by a factor of roughly 36 times.\n"
      ],
      "text/plain": [
       "  \u001b[36mUnion{Circle, Rectangle, Square, Triangle}\u001b[39m is faster than \u001b[36mShape\u001b[39m by a factor\n",
       "  of roughly 36 times."
      ]
     },
     "execution_count": 77,
     "metadata": {},
     "output_type": "execute_result"
    }
   ],
   "source": [
    "#| echo: false\n",
    "using Format\n",
    "f = cfmt(\"%'d\", 33.877 * 1e3 / 939)\n",
    "Markdown.md\"`Union{Circle, Rectangle, Square, Triangle}` is faster than `Shape` by a factor of roughly $f times.\""
   ]
  },
  {
   "cell_type": "code",
   "execution_count": 72,
   "id": "9fb14edb-9ea2-4de3-ac7e-784476f220c0",
   "metadata": {
    "execution": {
     "iopub.execute_input": "2024-04-21T00:13:27.525",
     "iopub.status.busy": "2024-04-21T00:13:27.525",
     "iopub.status.idle": "2024-04-21T00:13:38.085",
     "shell.execute_reply": "2024-04-21T00:13:38.084"
    }
   },
   "outputs": [
    {
     "data": {
      "text/plain": [
       "BenchmarkTools.Trial: 5319 samples with 1 evaluation.\n",
       " Range \u001b[90m(\u001b[39m\u001b[36m\u001b[1mmin\u001b[22m\u001b[39m … \u001b[35mmax\u001b[39m\u001b[90m):  \u001b[39m\u001b[36m\u001b[1m927.708 μs\u001b[22m\u001b[39m … \u001b[35m 1.203 ms\u001b[39m  \u001b[90m┊\u001b[39m GC \u001b[90m(\u001b[39mmin … max\u001b[90m): \u001b[39m0.00% … 0.00%\n",
       " Time  \u001b[90m(\u001b[39m\u001b[34m\u001b[1mmedian\u001b[22m\u001b[39m\u001b[90m):     \u001b[39m\u001b[34m\u001b[1m934.917 μs              \u001b[22m\u001b[39m\u001b[90m┊\u001b[39m GC \u001b[90m(\u001b[39mmedian\u001b[90m):    \u001b[39m0.00%\n",
       " Time  \u001b[90m(\u001b[39m\u001b[32m\u001b[1mmean\u001b[22m\u001b[39m ± \u001b[32mσ\u001b[39m\u001b[90m):   \u001b[39m\u001b[32m\u001b[1m938.103 μs\u001b[22m\u001b[39m ± \u001b[32m11.475 μs\u001b[39m  \u001b[90m┊\u001b[39m GC \u001b[90m(\u001b[39mmean ± σ\u001b[90m):  \u001b[39m0.00% ± 0.00%\n",
       "\n",
       "  \u001b[39m \u001b[39m \u001b[39m \u001b[39m \u001b[39m▅\u001b[39m█\u001b[39m▅\u001b[34m▆\u001b[39m\u001b[39m▆\u001b[39m▂\u001b[32m▃\u001b[39m\u001b[39m▁\u001b[39m▂\u001b[39m▁\u001b[39m \u001b[39m \u001b[39m \u001b[39m \u001b[39m \u001b[39m \u001b[39m \u001b[39m \u001b[39m \u001b[39m \u001b[39m \u001b[39m \u001b[39m \u001b[39m \u001b[39m \u001b[39m \u001b[39m \u001b[39m \u001b[39m \u001b[39m \u001b[39m \u001b[39m \u001b[39m \u001b[39m \u001b[39m \u001b[39m \u001b[39m \u001b[39m \u001b[39m \u001b[39m \u001b[39m \u001b[39m \u001b[39m \u001b[39m \u001b[39m \u001b[39m \u001b[39m \u001b[39m \u001b[39m \u001b[39m \u001b[39m \u001b[39m \u001b[39m \u001b[39m \u001b[39m \u001b[39m \u001b[39m \u001b[39m▁\n",
       "  \u001b[39m▅\u001b[39m▆\u001b[39m▇\u001b[39m█\u001b[39m█\u001b[39m█\u001b[39m█\u001b[34m█\u001b[39m\u001b[39m█\u001b[39m█\u001b[32m█\u001b[39m\u001b[39m█\u001b[39m█\u001b[39m█\u001b[39m█\u001b[39m█\u001b[39m█\u001b[39m▇\u001b[39m█\u001b[39m█\u001b[39m█\u001b[39m█\u001b[39m▇\u001b[39m█\u001b[39m▇\u001b[39m▇\u001b[39m▇\u001b[39m▇\u001b[39m▆\u001b[39m▇\u001b[39m▇\u001b[39m▅\u001b[39m▆\u001b[39m▆\u001b[39m▅\u001b[39m▅\u001b[39m▅\u001b[39m▄\u001b[39m▆\u001b[39m▅\u001b[39m▂\u001b[39m▃\u001b[39m▄\u001b[39m▅\u001b[39m▅\u001b[39m▅\u001b[39m▅\u001b[39m▆\u001b[39m▄\u001b[39m▅\u001b[39m▅\u001b[39m▂\u001b[39m▅\u001b[39m▄\u001b[39m▄\u001b[39m▅\u001b[39m▅\u001b[39m▅\u001b[39m▅\u001b[39m▄\u001b[39m \u001b[39m█\n",
       "  928 μs\u001b[90m        \u001b[39m\u001b[90mHistogram: \u001b[39m\u001b[90m\u001b[1mlog(\u001b[22m\u001b[39m\u001b[90mfrequency\u001b[39m\u001b[90m\u001b[1m)\u001b[22m\u001b[39m\u001b[90m by time\u001b[39m       991 μs \u001b[0m\u001b[1m<\u001b[22m\n",
       "\n",
       " Memory estimate\u001b[90m: \u001b[39m\u001b[33m16 bytes\u001b[39m, allocs estimate\u001b[90m: \u001b[39m\u001b[33m1\u001b[39m."
      ]
     },
     "execution_count": 72,
     "metadata": {},
     "output_type": "execute_result"
    }
   ],
   "source": [
    "@benchmark main1(sorted_shapes_union)"
   ]
  },
  {
   "cell_type": "markdown",
   "id": "6f828e8e-a6c5-4d45-9c22-e3795a622978",
   "metadata": {},
   "source": [
    "It's possible to get even better performance by calculating the `sum`s for the individual arrays and summing them up together"
   ]
  },
  {
   "cell_type": "code",
   "execution_count": 79,
   "id": "852e4dc2-fb51-4727-9f3b-1330c3972631",
   "metadata": {
    "execution": {
     "iopub.execute_input": "2024-04-21T00:15:50.234",
     "iopub.status.busy": "2024-04-21T00:15:50.233",
     "iopub.status.idle": "2024-04-21T00:15:50.237",
     "shell.execute_reply": "2024-04-21T00:15:50.236"
    }
   },
   "outputs": [
    {
     "data": {
      "text/plain": [
       "main2 (generic function with 1 method)"
      ]
     },
     "execution_count": 79,
     "metadata": {},
     "output_type": "execute_result"
    }
   ],
   "source": [
    "main2(arrs...) = sum(main1, arrs)"
   ]
  },
  {
   "cell_type": "code",
   "execution_count": 80,
   "id": "f2f78446-5522-42f1-a254-8dbe18eb07db",
   "metadata": {
    "execution": {
     "iopub.execute_input": "2024-04-21T00:15:50.687",
     "iopub.status.busy": "2024-04-21T00:15:50.686",
     "iopub.status.idle": "2024-04-21T00:15:50.801",
     "shell.execute_reply": "2024-04-21T00:15:50.801"
    }
   },
   "outputs": [
    {
     "name": "stdout",
     "output_type": "stream",
     "text": [
      "  0.087025 seconds (271.86 k allocations: 18.823 MiB, 99.55% compilation time)\n"
     ]
    }
   ],
   "source": [
    "@time main2(square_arr, rectangle_arr, triangle_arr, circle_arr);"
   ]
  },
  {
   "cell_type": "code",
   "execution_count": 81,
   "id": "b2f5e136-872b-4149-ac66-cb64a8553fa5",
   "metadata": {
    "execution": {
     "iopub.execute_input": "2024-04-21T00:15:51.270",
     "iopub.status.busy": "2024-04-21T00:15:51.269",
     "iopub.status.idle": "2024-04-21T00:15:59.665",
     "shell.execute_reply": "2024-04-21T00:15:59.665"
    }
   },
   "outputs": [
    {
     "data": {
      "text/plain": [
       "BenchmarkTools.Trial: 10000 samples with 1 evaluation.\n",
       " Range \u001b[90m(\u001b[39m\u001b[36m\u001b[1mmin\u001b[22m\u001b[39m … \u001b[35mmax\u001b[39m\u001b[90m):  \u001b[39m\u001b[36m\u001b[1m276.000 μs\u001b[22m\u001b[39m … \u001b[35m383.500 μs\u001b[39m  \u001b[90m┊\u001b[39m GC \u001b[90m(\u001b[39mmin … max\u001b[90m): \u001b[39m0.00% … 0.00%\n",
       " Time  \u001b[90m(\u001b[39m\u001b[34m\u001b[1mmedian\u001b[22m\u001b[39m\u001b[90m):     \u001b[39m\u001b[34m\u001b[1m278.959 μs               \u001b[22m\u001b[39m\u001b[90m┊\u001b[39m GC \u001b[90m(\u001b[39mmedian\u001b[90m):    \u001b[39m0.00%\n",
       " Time  \u001b[90m(\u001b[39m\u001b[32m\u001b[1mmean\u001b[22m\u001b[39m ± \u001b[32mσ\u001b[39m\u001b[90m):   \u001b[39m\u001b[32m\u001b[1m281.081 μs\u001b[22m\u001b[39m ± \u001b[32m  6.649 μs\u001b[39m  \u001b[90m┊\u001b[39m GC \u001b[90m(\u001b[39mmean ± σ\u001b[90m):  \u001b[39m0.00% ± 0.00%\n",
       "\n",
       "  \u001b[39m \u001b[39m \u001b[39m \u001b[39m▃\u001b[39m▇\u001b[34m█\u001b[39m\u001b[39m▅\u001b[39m▁\u001b[39m▂\u001b[32m▅\u001b[39m\u001b[39m▅\u001b[39m▂\u001b[39m \u001b[39m▁\u001b[39m▁\u001b[39m \u001b[39m \u001b[39m \u001b[39m \u001b[39m \u001b[39m \u001b[39m \u001b[39m \u001b[39m \u001b[39m \u001b[39m \u001b[39m \u001b[39m \u001b[39m \u001b[39m \u001b[39m \u001b[39m \u001b[39m \u001b[39m \u001b[39m \u001b[39m \u001b[39m \u001b[39m \u001b[39m \u001b[39m \u001b[39m \u001b[39m \u001b[39m \u001b[39m \u001b[39m \u001b[39m \u001b[39m \u001b[39m \u001b[39m \u001b[39m \u001b[39m \u001b[39m \u001b[39m \u001b[39m \u001b[39m \u001b[39m \u001b[39m \u001b[39m \u001b[39m \u001b[39m \u001b[39m \u001b[39m \u001b[39m▁\n",
       "  \u001b[39m▂\u001b[39m▆\u001b[39m█\u001b[39m█\u001b[39m█\u001b[34m█\u001b[39m\u001b[39m█\u001b[39m█\u001b[39m█\u001b[32m█\u001b[39m\u001b[39m█\u001b[39m█\u001b[39m█\u001b[39m█\u001b[39m█\u001b[39m█\u001b[39m▇\u001b[39m▇\u001b[39m█\u001b[39m▇\u001b[39m▇\u001b[39m▆\u001b[39m▆\u001b[39m▆\u001b[39m▇\u001b[39m▆\u001b[39m▆\u001b[39m▇\u001b[39m▆\u001b[39m▇\u001b[39m▇\u001b[39m▇\u001b[39m▇\u001b[39m▇\u001b[39m▇\u001b[39m▇\u001b[39m▇\u001b[39m▇\u001b[39m▇\u001b[39m▇\u001b[39m▆\u001b[39m▆\u001b[39m▇\u001b[39m▆\u001b[39m▅\u001b[39m▆\u001b[39m▆\u001b[39m▆\u001b[39m▅\u001b[39m▅\u001b[39m▇\u001b[39m▆\u001b[39m▆\u001b[39m▄\u001b[39m▆\u001b[39m▆\u001b[39m▅\u001b[39m▅\u001b[39m▅\u001b[39m▅\u001b[39m▆\u001b[39m \u001b[39m█\n",
       "  276 μs\u001b[90m        \u001b[39m\u001b[90mHistogram: \u001b[39m\u001b[90m\u001b[1mlog(\u001b[22m\u001b[39m\u001b[90mfrequency\u001b[39m\u001b[90m\u001b[1m)\u001b[22m\u001b[39m\u001b[90m by time\u001b[39m        309 μs \u001b[0m\u001b[1m<\u001b[22m\n",
       "\n",
       " Memory estimate\u001b[90m: \u001b[39m\u001b[33m160 bytes\u001b[39m, allocs estimate\u001b[90m: \u001b[39m\u001b[33m4\u001b[39m."
      ]
     },
     "execution_count": 81,
     "metadata": {},
     "output_type": "execute_result"
    }
   ],
   "source": [
    "@benchmark main2(square_arr, rectangle_arr, triangle_arr, circle_arr)"
   ]
  },
  {
   "cell_type": "markdown",
   "id": "7c8051b8-fbec-4230-aa45-15508e8e8ddc",
   "metadata": {},
   "source": [
    "# Conclusion"
   ]
  },
  {
   "cell_type": "markdown",
   "id": "a9153da0-3d99-40dd-bd38-9a1d6411896c",
   "metadata": {},
   "source": [
    "The key takeaway is that if you care about performance in Julia, you have to be mindful of types! Keeping types as concrete as possible is important because when type inference fails, it can propogate through your program. Even small changes to your code can improve performance significantly."
   ]
  },
  {
   "cell_type": "markdown",
   "id": "978cf738-3fbf-48e5-b1bb-729da7075173",
   "metadata": {},
   "source": [
    "Many thanks to the helpful [Julia community on Discourse](https://discourse.julialang.org/t/unusual-non-deterministic-benchmark-results/113273/) for always offering insightful comments and advise."
   ]
  }
 ],
 "metadata": {
  "kernelspec": {
   "display_name": "Julia 1.10.2",
   "language": "julia",
   "name": "julia-1.10"
  },
  "language_info": {
   "file_extension": ".jl",
   "mimetype": "application/julia",
   "name": "julia",
   "version": "1.10.2"
  },
  "widgets": {
   "application/vnd.jupyter.widget-state+json": {
    "state": {},
    "version_major": 2,
    "version_minor": 0
   }
  }
 },
 "nbformat": 4,
 "nbformat_minor": 5
}
