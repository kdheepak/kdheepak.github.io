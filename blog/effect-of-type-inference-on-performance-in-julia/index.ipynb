{
 "cells": [
  {
   "cell_type": "raw",
   "id": "aaa69d60-433e-4721-82be-bc648b59dc95",
   "metadata": {},
   "source": [
    "---\n",
    "title: Effect of type inference on performance in Julia\n",
    "categories:\n",
    "  - julia\n",
    "keywords: julia\n",
    "date: '2024-04-21T00:27:32-0400'\n",
    "---"
   ]
  },
  {
   "cell_type": "code",
   "execution_count": 1,
   "id": "5f4bcdc1-37f3-4724-bd36-64d6b1517e66",
   "metadata": {
    "execution": {
     "iopub.execute_input": "2024-04-21T03:38:41.246",
     "iopub.status.busy": "2024-04-21T03:38:41.018",
     "iopub.status.idle": "2024-04-21T03:38:44.123",
     "shell.execute_reply": "2024-04-21T03:38:44.099"
    }
   },
   "outputs": [
    {
     "name": "stderr",
     "output_type": "stream",
     "text": [
      "\u001b[32m\u001b[1m  Activating\u001b[22m\u001b[39m project at `~/gitrepos/kdheepak.github.io/blog/effect-of-type-inference-on-performance-in-julia`\n"
     ]
    }
   ],
   "source": [
    "#| include: false\n",
    "using Pkg\n",
    "Pkg.activate(@__DIR__)\n",
    "Pkg.instantiate()\n",
    "cd(@__DIR__)"
   ]
  },
  {
   "cell_type": "markdown",
   "id": "80cdadec-fadf-4a6b-a2d5-1cf5a387da24",
   "metadata": {},
   "source": [
    "In Julia, to ensure that the code you write executes fast and efficiently, it is important to benchmark frequently. There's lots of really useful tips in the [Performance Tips] section in the official documentation.\n",
    "\n",
    "[Performance Tips]: https://docs.julialang.org/en/v1/manual/performance-tips/\n",
    "\n",
    "In this blog post, I want to touch on one specific performance tip: containers with abstract types and type inference."
   ]
  },
  {
   "cell_type": "markdown",
   "id": "c1f887ee-d274-4e01-a73b-451dae67f060",
   "metadata": {},
   "source": [
    "# Toy problem"
   ]
  },
  {
   "cell_type": "markdown",
   "id": "7ed2a55d-365a-4a1f-ab96-59cc14bd4fdd",
   "metadata": {},
   "source": [
    "Let's define a toy problem to work with."
   ]
  },
  {
   "cell_type": "code",
   "execution_count": 2,
   "id": "b1e5ad21-3024-4076-9b16-f5d4c4ca4663",
   "metadata": {
    "execution": {
     "iopub.execute_input": "2024-04-21T03:38:44.230",
     "iopub.status.busy": "2024-04-21T03:38:44.230",
     "iopub.status.idle": "2024-04-21T03:38:44.253",
     "shell.execute_reply": "2024-04-21T03:38:44.253"
    }
   },
   "outputs": [],
   "source": [
    "abstract type Shape end\n",
    "area(::Shape) = 0.0\n",
    "\n",
    "@kwdef struct Square <: Shape\n",
    "    side::Float64 = rand()\n",
    "end\n",
    "area(s::Square) = s.side * s.side\n",
    "    \n",
    "@kwdef struct Rectangle <: Shape\n",
    "    width::Float64 = rand()\n",
    "    height::Float64 = rand()\n",
    "end\n",
    "area(r::Rectangle) = r.width * r.height\n",
    "    \n",
    "@kwdef struct Triangle <: Shape\n",
    "    base::Float64 = rand()\n",
    "    height::Float64 = rand()\n",
    "end\n",
    "area(t::Triangle) = 1.0/2.0 * t.base * t.height\n",
    "\n",
    "@kwdef struct Circle <: Shape\n",
    "    radius::Float64 = rand()\n",
    "end\n",
    "area(c::Circle) = π * c.radius^2\n",
    "\n",
    "nothing #| hide_line"
   ]
  },
  {
   "cell_type": "markdown",
   "id": "f80657bd-d1f4-48d5-bd4e-e82fd4841fff",
   "metadata": {},
   "source": [
    "We can use the builtin `Test` module to check that the code we wrote is correct."
   ]
  },
  {
   "cell_type": "code",
   "execution_count": 3,
   "id": "31a5cc81-a7e4-401c-ad44-c91ab139d0f9",
   "metadata": {
    "execution": {
     "iopub.execute_input": "2024-04-21T03:38:44.291",
     "iopub.status.busy": "2024-04-21T03:38:44.290",
     "iopub.status.idle": "2024-04-21T03:38:44.563",
     "shell.execute_reply": "2024-04-21T03:38:44.563"
    }
   },
   "outputs": [
    {
     "name": "stdout",
     "output_type": "stream",
     "text": [
      "\u001b[0m\u001b[1mTest Summary: | \u001b[22m\u001b[32m\u001b[1mPass  \u001b[22m\u001b[39m\u001b[36m\u001b[1mTotal  \u001b[22m\u001b[39m\u001b[0m\u001b[1mTime\u001b[22m\n",
      "Areas         | \u001b[32m   4  \u001b[39m\u001b[36m    4  \u001b[39m\u001b[0m0.2s\n"
     ]
    }
   ],
   "source": [
    "using Test\n",
    "@testset \"Areas\" begin\n",
    "    @test area(Square(2)) == 4\n",
    "    @test area(Rectangle(2,3)) == 6\n",
    "    @test area(Triangle(2,3)) == 3\n",
    "    @test area(Circle(2)) ≈ 4π\n",
    "end\n",
    "nothing #| hide_line"
   ]
  },
  {
   "cell_type": "markdown",
   "id": "c815898b-d374-4ee0-9419-abac85631b7a",
   "metadata": {},
   "source": [
    "Let's also build 1 million random shapes."
   ]
  },
  {
   "cell_type": "code",
   "execution_count": 5,
   "id": "89712b98-7612-43da-bc3e-f667abd7e2ee",
   "metadata": {
    "execution": {
     "iopub.execute_input": "2024-04-21T03:39:00.995",
     "iopub.status.busy": "2024-04-21T03:39:00.994",
     "iopub.status.idle": "2024-04-21T03:39:01.250",
     "shell.execute_reply": "2024-04-21T03:39:01.250"
    }
   },
   "outputs": [],
   "source": [
    "using Random\n",
    "Random.seed!(42)\n",
    "\n",
    "COUNT = 1_000_000\n",
    "shapes = [rand((Square,Rectangle,Triangle,Circle))() for _ in 1:COUNT]\n",
    "\n",
    "nothing #| hide_line"
   ]
  },
  {
   "cell_type": "code",
   "execution_count": 17,
   "id": "6cb04f19-d92e-401a-a475-746266921ac0",
   "metadata": {
    "execution": {
     "iopub.execute_input": "2024-04-21T03:44:14.827",
     "iopub.status.busy": "2024-04-21T03:44:14.826",
     "iopub.status.idle": "2024-04-21T03:44:14.886",
     "shell.execute_reply": "2024-04-21T03:44:14.885"
    }
   },
   "outputs": [
    {
     "data": {
      "text/latex": [
       "The total number of shapes we have in the array is 1,000,000.\n",
       "\n"
      ],
      "text/markdown": [
       "The total number of shapes we have in the array is 1,000,000.\n"
      ],
      "text/plain": [
       "  The total number of shapes we have in the array is 1,000,000."
      ]
     },
     "metadata": {},
     "output_type": "display_data"
    },
    {
     "data": {
      "text/latex": [
       "In the array, there's 249,740 squares, 249,980 rectangles,  249,831 triangles, and 250,449 circles.\n",
       "\n"
      ],
      "text/markdown": [
       "In the array, there's 249,740 squares, 249,980 rectangles,  249,831 triangles, and 250,449 circles.\n"
      ],
      "text/plain": [
       "  In the array, there's 249,740 squares, 249,980 rectangles, 249,831\n",
       "  triangles, and 250,449 circles."
      ]
     },
     "metadata": {},
     "output_type": "display_data"
    }
   ],
   "source": [
    "#| code-fold: true\n",
    "using Format\n",
    "using Markdown\n",
    "len = cfmt(\"%'d\", length(shapes))\n",
    "number_of(T) = cfmt(\"%'d\", count(s->isa(s, T), shapes))\n",
    "\n",
    "display(Markdown.md\"The total number of shapes we have in the array is $len.\")\n",
    "\n",
    "display(Markdown.md\"In the array, there's $(number_of(Square)) squares, $(number_of(Rectangle)) rectangles, \n",
    "$(number_of(Triangle)) triangles, and $(number_of(Circle)) circles.\")"
   ]
  },
  {
   "cell_type": "markdown",
   "id": "2437f582-6ab3-455b-8497-d675ecc6f855",
   "metadata": {},
   "source": [
    "# Type inference"
   ]
  },
  {
   "cell_type": "markdown",
   "id": "c25cc134-25d3-440b-83c9-211e2df7ccb3",
   "metadata": {},
   "source": [
    "We can use the `typeof` function to see what the type of the data in the `shapes` variable is:"
   ]
  },
  {
   "cell_type": "code",
   "execution_count": 8,
   "id": "c8ef2b3a-734b-4697-9696-91e3d3221842",
   "metadata": {
    "execution": {
     "iopub.execute_input": "2024-04-21T00:35:13.980",
     "iopub.status.busy": "2024-04-21T00:35:13.980",
     "iopub.status.idle": "2024-04-21T00:35:14.130",
     "shell.execute_reply": "2024-04-21T00:35:14.129"
    }
   },
   "outputs": [
    {
     "data": {
      "text/plain": [
       "Vector{Shape}\u001b[90m (alias for \u001b[39m\u001b[90mArray{Shape, 1}\u001b[39m\u001b[90m)\u001b[39m"
      ]
     },
     "execution_count": 8,
     "metadata": {},
     "output_type": "execute_result"
    }
   ],
   "source": [
    "typeof(shapes)"
   ]
  },
  {
   "cell_type": "markdown",
   "id": "035f680d-702f-46ed-91fb-4ec63cdff7f4",
   "metadata": {},
   "source": [
    "By default, Julia will infer the type as close to the bottom of the tree that fits all the data in the container.\n",
    "\n",
    "For example, if we just built a vector with the same elements (e.g. `Square`), Julia will infer the container to be `Vector{Square}`."
   ]
  },
  {
   "cell_type": "code",
   "execution_count": 58,
   "id": "2af0824b-d7f2-4903-be70-6566c54b1221",
   "metadata": {
    "execution": {
     "iopub.execute_input": "2024-04-21T02:07:11.940",
     "iopub.status.busy": "2024-04-21T02:07:11.939",
     "iopub.status.idle": "2024-04-21T02:07:11.976",
     "shell.execute_reply": "2024-04-21T02:07:11.976"
    }
   },
   "outputs": [
    {
     "data": {
      "text/plain": [
       "Vector{Square}\u001b[90m (alias for \u001b[39m\u001b[90mArray{Square, 1}\u001b[39m\u001b[90m)\u001b[39m"
      ]
     },
     "execution_count": 58,
     "metadata": {},
     "output_type": "execute_result"
    }
   ],
   "source": [
    "typeof([Square() for _ in 1:count])"
   ]
  },
  {
   "cell_type": "markdown",
   "id": "7cd0d9c6-d233-4615-8731-1fef61c5ffff",
   "metadata": {},
   "source": [
    "Here's the type trees for the shapes:"
   ]
  },
  {
   "cell_type": "code",
   "execution_count": 62,
   "id": "eff7f503-59de-4eb6-9a3e-30a764b3cf4d",
   "metadata": {
    "execution": {
     "iopub.execute_input": "2024-04-21T02:08:24.006",
     "iopub.status.busy": "2024-04-21T02:08:24.005",
     "iopub.status.idle": "2024-04-21T02:08:24.043",
     "shell.execute_reply": "2024-04-21T02:08:24.043"
    }
   },
   "outputs": [
    {
     "name": "stdout",
     "output_type": "stream",
     "text": [
      "Circle <: Shape <: Any\n",
      "Rectangle <: Shape <: Any\n",
      "Square <: Shape <: Any\n",
      "Triangle <: Shape <: Any\n"
     ]
    }
   ],
   "source": [
    "#| code-fold: true\n",
    "for s in subtypes(Shape)\n",
    "    println(join(string.(supertypes(s)), \" <: \"))\n",
    "end"
   ]
  },
  {
   "cell_type": "markdown",
   "id": "406d60a6-06e8-4ed7-85f5-c3cb4a67127a",
   "metadata": {},
   "source": [
    "Let's define a function that calculates the `area` for all the shapes and adds them all up"
   ]
  },
  {
   "cell_type": "code",
   "execution_count": 11,
   "id": "c91b5a9d-ca77-4cf8-893b-f64a9feaea1f",
   "metadata": {
    "execution": {
     "iopub.execute_input": "2024-04-21T00:35:14.177",
     "iopub.status.busy": "2024-04-21T00:35:14.177",
     "iopub.status.idle": "2024-04-21T00:35:14.183",
     "shell.execute_reply": "2024-04-21T00:35:14.183"
    }
   },
   "outputs": [
    {
     "data": {
      "text/plain": [
       "main1 (generic function with 1 method)"
      ]
     },
     "execution_count": 11,
     "metadata": {},
     "output_type": "execute_result"
    }
   ],
   "source": [
    "main1(shapes) = sum(area, shapes)"
   ]
  },
  {
   "cell_type": "markdown",
   "id": "915a9bb7-bda8-48c5-ada5-1488ddd361b6",
   "metadata": {},
   "source": [
    "We can test this function and precompile it by running it once."
   ]
  },
  {
   "cell_type": "code",
   "execution_count": 12,
   "id": "add2506f-2afb-4cb0-831c-11d5ee223341",
   "metadata": {
    "execution": {
     "iopub.execute_input": "2024-04-21T00:35:14.396",
     "iopub.status.busy": "2024-04-21T00:35:14.396",
     "iopub.status.idle": "2024-04-21T00:35:14.585",
     "shell.execute_reply": "2024-04-21T00:35:14.585"
    }
   },
   "outputs": [
    {
     "name": "stdout",
     "output_type": "stream",
     "text": [
      "  0.081926 seconds (2.03 M allocations: 32.311 MiB, 11.31% gc time, 31.45% compilation time)\n"
     ]
    },
    {
     "data": {
      "text/plain": [
       "439078.977716569"
      ]
     },
     "execution_count": 12,
     "metadata": {},
     "output_type": "execute_result"
    }
   ],
   "source": [
    "@time main1(shapes)"
   ]
  },
  {
   "cell_type": "markdown",
   "id": "73ecf46b-cf7f-4f44-8823-2106014792dc",
   "metadata": {},
   "source": [
    "Let's filter out shapes of a specific kind so that each array contains data of the same type. \n",
    "You might think to write this function like so:"
   ]
  },
  {
   "cell_type": "code",
   "execution_count": 46,
   "id": "c5ef2915-b4f5-4722-aef6-203bc056c28d",
   "metadata": {
    "execution": {
     "iopub.execute_input": "2024-04-21T01:41:16.577",
     "iopub.status.busy": "2024-04-21T01:41:16.577",
     "iopub.status.idle": "2024-04-21T01:41:16.599",
     "shell.execute_reply": "2024-04-21T01:41:16.599"
    }
   },
   "outputs": [
    {
     "data": {
      "text/plain": [
       "bad_shapes_by_type (generic function with 1 method)"
      ]
     },
     "execution_count": 46,
     "metadata": {},
     "output_type": "execute_result"
    }
   ],
   "source": [
    "bad_shapes_by_type(::Type{T}, shapes) where T = filter(s -> isa(s, T), shapes)"
   ]
  },
  {
   "cell_type": "markdown",
   "id": "17344f66-94de-4c16-96c2-ca556fe433fa",
   "metadata": {},
   "source": [
    "Julia is a dynamic language. And it can be easy to accidentally construct a container with an abstract type for the type parameter of a generic type."
   ]
  },
  {
   "cell_type": "code",
   "execution_count": 47,
   "id": "663e79c1-c9b6-4685-b8c7-1c5599351040",
   "metadata": {
    "execution": {
     "iopub.execute_input": "2024-04-21T01:41:32.941",
     "iopub.status.busy": "2024-04-21T01:41:32.940",
     "iopub.status.idle": "2024-04-21T01:41:33.023",
     "shell.execute_reply": "2024-04-21T01:41:33.023"
    }
   },
   "outputs": [
    {
     "name": "stdout",
     "output_type": "stream",
     "text": [
      "typeof(shape_arr1) = Vector{Shape}\n",
      "typeof(shape_arr2) = Vector{Shape}\n",
      "typeof(shape_arr3) = Vector{Shape}\n",
      "typeof(shape_arr4) = Vector{Shape}\n"
     ]
    }
   ],
   "source": [
    "shape_arr1 = bad_shapes_by_type(Square, shapes)\n",
    "shape_arr2 = bad_shapes_by_type(Rectangle, shapes)\n",
    "shape_arr3 = bad_shapes_by_type(Triangle, shapes)\n",
    "shape_arr4 = bad_shapes_by_type(Circle, shapes)\n",
    "\n",
    "@show typeof(shape_arr1)\n",
    "@show typeof(shape_arr2)\n",
    "@show typeof(shape_arr3)\n",
    "@show typeof(shape_arr4)\n",
    "\n",
    "nothing #| hide_line"
   ]
  },
  {
   "cell_type": "markdown",
   "id": "5c330d87-4493-48de-b11c-f8a48655b552",
   "metadata": {},
   "source": [
    "This can happen if the Julia compiler cannot infer the types at the \"compile time\" of the function.\n",
    "\n",
    "Here, `Shape` is an abstract type, even if `Vector{Shape}` is concrete."
   ]
  },
  {
   "cell_type": "code",
   "execution_count": 50,
   "id": "19f5214a-8321-4a40-965a-87f972acd061",
   "metadata": {
    "execution": {
     "iopub.execute_input": "2024-04-21T01:43:17.429",
     "iopub.status.busy": "2024-04-21T01:43:17.428",
     "iopub.status.idle": "2024-04-21T01:43:17.436",
     "shell.execute_reply": "2024-04-21T01:43:17.435"
    }
   },
   "outputs": [
    {
     "name": "stdout",
     "output_type": "stream",
     "text": [
      "isconcretetype(Shape) = false\n",
      "isconcretetype(Vector{Shape}) = true\n"
     ]
    }
   ],
   "source": [
    "@show isconcretetype(Shape)\n",
    "@show isconcretetype(Vector{Shape})\n",
    "nothing #| hide_line"
   ]
  },
  {
   "attachments": {},
   "cell_type": "markdown",
   "id": "ae16910a-a6c9-4558-a8a7-f1388567cec3",
   "metadata": {},
   "source": [
    "For better performance in Julia, it helps to have concrete types in the generic parameters for a container. \n",
    "We can do this by helping the compiler figure out the correct concrete type parameter by explicitly listing it before the brackets for constructing the array, i.e. `T[...]`."
   ]
  },
  {
   "cell_type": "code",
   "execution_count": 51,
   "id": "a49e7bce-6944-4982-9788-63af0b6908ae",
   "metadata": {
    "execution": {
     "iopub.execute_input": "2024-04-21T01:43:25.911",
     "iopub.status.busy": "2024-04-21T01:43:25.911",
     "iopub.status.idle": "2024-04-21T01:43:25.920",
     "shell.execute_reply": "2024-04-21T01:43:25.920"
    }
   },
   "outputs": [
    {
     "data": {
      "text/plain": [
       "good_shapes_by_type (generic function with 1 method)"
      ]
     },
     "execution_count": 51,
     "metadata": {},
     "output_type": "execute_result"
    }
   ],
   "source": [
    "good_shapes_by_type(::Type{T}, shapes) where T = T[shape for shape in filter(s -> isa(s, T), shapes)]"
   ]
  },
  {
   "cell_type": "code",
   "execution_count": 52,
   "id": "db373b50-b4fe-4392-bf9b-3124e9a722a6",
   "metadata": {
    "execution": {
     "iopub.execute_input": "2024-04-21T01:43:27.342",
     "iopub.status.busy": "2024-04-21T01:43:27.341",
     "iopub.status.idle": "2024-04-21T01:43:27.454",
     "shell.execute_reply": "2024-04-21T01:43:27.454"
    }
   },
   "outputs": [
    {
     "name": "stdout",
     "output_type": "stream",
     "text": [
      "typeof(square_arr) = Vector{Square}\n",
      "typeof(rectangle_arr) = Vector{Rectangle}\n",
      "typeof(triangle_arr) = Vector{Triangle}\n",
      "typeof(circle_arr) = Vector{Circle}\n"
     ]
    }
   ],
   "source": [
    "square_arr = good_shapes_by_type(Square, shapes)\n",
    "rectangle_arr = good_shapes_by_type(Rectangle, shapes)\n",
    "triangle_arr = good_shapes_by_type(Triangle, shapes)\n",
    "circle_arr = good_shapes_by_type(Circle, shapes)\n",
    "\n",
    "@show typeof(square_arr)\n",
    "@show typeof(rectangle_arr)\n",
    "@show typeof(triangle_arr)\n",
    "@show typeof(circle_arr)\n",
    "\n",
    "nothing #| hide_line"
   ]
  },
  {
   "cell_type": "markdown",
   "id": "98914115-997f-4d4b-a0a2-daf90b713dff",
   "metadata": {},
   "source": [
    "# Benchmarks"
   ]
  },
  {
   "cell_type": "markdown",
   "id": "16b64cb3-c53a-4cad-8dcd-91801e0a348c",
   "metadata": {},
   "source": [
    "Let's combine these arrays back into three different vectors that have different type parameters for illustration purposes:"
   ]
  },
  {
   "cell_type": "code",
   "execution_count": 53,
   "id": "88bed1fb-5da1-4c41-97cf-328baa5c8a52",
   "metadata": {
    "execution": {
     "iopub.execute_input": "2024-04-21T01:44:09.452",
     "iopub.status.busy": "2024-04-21T01:44:09.452",
     "iopub.status.idle": "2024-04-21T01:44:09.870",
     "shell.execute_reply": "2024-04-21T01:44:09.870"
    }
   },
   "outputs": [
    {
     "name": "stdout",
     "output_type": "stream",
     "text": [
      "typeof(sorted_shapes_shape) = Vector{Shape}\n",
      "typeof(sorted_shapes_any) = Vector{Any}\n",
      "typeof(sorted_shapes_union) = Vector{Union{Circle, Rectangle, Square, Triangle}}\n"
     ]
    }
   ],
   "source": [
    "sorted_shapes_shape = vcat(square_arr, rectangle_arr, triangle_arr, circle_arr);\n",
    "sorted_shapes_any = Any[s for s in sorted_shapes_shape];\n",
    "sorted_shapes_union = Union{Square, Rectangle, Triangle, Circle}[s for s in sorted_shapes_shape];\n",
    "\n",
    "@show typeof(sorted_shapes_shape)\n",
    "@show typeof(sorted_shapes_any)\n",
    "@show typeof(sorted_shapes_union)\n",
    "\n",
    "nothing #| hide_line"
   ]
  },
  {
   "cell_type": "markdown",
   "id": "6e29d7cf-ece6-4c36-b361-bd676ad80d88",
   "metadata": {},
   "source": [
    "We can benchmark the performance of these different types using `BenchmarkTools`:"
   ]
  },
  {
   "cell_type": "code",
   "execution_count": 33,
   "id": "cb11a309-14c8-454d-b2e9-bc9ce4bab4ff",
   "metadata": {
    "execution": {
     "iopub.execute_input": "2024-04-21T00:38:46.576",
     "iopub.status.busy": "2024-04-21T00:38:46.575",
     "iopub.status.idle": "2024-04-21T00:38:57.195",
     "shell.execute_reply": "2024-04-21T00:38:57.195"
    }
   },
   "outputs": [
    {
     "name": "stdout",
     "output_type": "stream",
     "text": [
      "typeof(shapes) = Vector{Shape}\n"
     ]
    },
    {
     "data": {
      "text/plain": [
       "BenchmarkTools.Trial: 121 samples with 1 evaluation.\n",
       " Range \u001b[90m(\u001b[39m\u001b[36m\u001b[1mmin\u001b[22m\u001b[39m … \u001b[35mmax\u001b[39m\u001b[90m):  \u001b[39m\u001b[36m\u001b[1m39.196 ms\u001b[22m\u001b[39m … \u001b[35m48.168 ms\u001b[39m  \u001b[90m┊\u001b[39m GC \u001b[90m(\u001b[39mmin … max\u001b[90m): \u001b[39m0.00% … 8.63%\n",
       " Time  \u001b[90m(\u001b[39m\u001b[34m\u001b[1mmedian\u001b[22m\u001b[39m\u001b[90m):     \u001b[39m\u001b[34m\u001b[1m40.279 ms              \u001b[22m\u001b[39m\u001b[90m┊\u001b[39m GC \u001b[90m(\u001b[39mmedian\u001b[90m):    \u001b[39m0.00%\n",
       " Time  \u001b[90m(\u001b[39m\u001b[32m\u001b[1mmean\u001b[22m\u001b[39m ± \u001b[32mσ\u001b[39m\u001b[90m):   \u001b[39m\u001b[32m\u001b[1m41.548 ms\u001b[22m\u001b[39m ± \u001b[32m 2.268 ms\u001b[39m  \u001b[90m┊\u001b[39m GC \u001b[90m(\u001b[39mmean ± σ\u001b[90m):  \u001b[39m3.35% ± 4.24%\n",
       "\n",
       "  \u001b[39m▁\u001b[39m \u001b[39m█\u001b[39m▂\u001b[39m \u001b[39m \u001b[39m \u001b[39m \u001b[39m \u001b[34m \u001b[39m\u001b[39m \u001b[39m \u001b[39m \u001b[39m \u001b[39m \u001b[39m \u001b[39m \u001b[39m \u001b[39m \u001b[39m \u001b[32m \u001b[39m\u001b[39m \u001b[39m \u001b[39m \u001b[39m \u001b[39m \u001b[39m \u001b[39m \u001b[39m \u001b[39m \u001b[39m \u001b[39m \u001b[39m \u001b[39m \u001b[39m \u001b[39m \u001b[39m \u001b[39m \u001b[39m \u001b[39m \u001b[39m \u001b[39m \u001b[39m \u001b[39m \u001b[39m \u001b[39m \u001b[39m \u001b[39m \u001b[39m \u001b[39m \u001b[39m \u001b[39m \u001b[39m \u001b[39m \u001b[39m \u001b[39m \u001b[39m \u001b[39m \u001b[39m \u001b[39m \u001b[39m \n",
       "  \u001b[39m█\u001b[39m▆\u001b[39m█\u001b[39m█\u001b[39m█\u001b[39m▇\u001b[39m█\u001b[39m█\u001b[39m▆\u001b[34m▃\u001b[39m\u001b[39m▄\u001b[39m▄\u001b[39m▄\u001b[39m▅\u001b[39m▆\u001b[39m▁\u001b[39m▄\u001b[39m▁\u001b[39m▃\u001b[39m▁\u001b[32m▁\u001b[39m\u001b[39m▃\u001b[39m▁\u001b[39m▁\u001b[39m▁\u001b[39m▁\u001b[39m▁\u001b[39m▁\u001b[39m▁\u001b[39m▁\u001b[39m▁\u001b[39m▁\u001b[39m▁\u001b[39m▁\u001b[39m▅\u001b[39m▅\u001b[39m▃\u001b[39m▅\u001b[39m▄\u001b[39m▅\u001b[39m▅\u001b[39m▅\u001b[39m▅\u001b[39m▃\u001b[39m▅\u001b[39m▄\u001b[39m▅\u001b[39m▁\u001b[39m▄\u001b[39m▄\u001b[39m▅\u001b[39m▁\u001b[39m▁\u001b[39m▃\u001b[39m▁\u001b[39m▁\u001b[39m▁\u001b[39m▁\u001b[39m▃\u001b[39m \u001b[39m▃\n",
       "  39.2 ms\u001b[90m         Histogram: frequency by time\u001b[39m        46.3 ms \u001b[0m\u001b[1m<\u001b[22m\n",
       "\n",
       " Memory estimate\u001b[90m: \u001b[39m\u001b[33m30.52 MiB\u001b[39m, allocs estimate\u001b[90m: \u001b[39m\u001b[33m1999999\u001b[39m."
      ]
     },
     "execution_count": 33,
     "metadata": {},
     "output_type": "execute_result"
    }
   ],
   "source": [
    "using BenchmarkTools\n",
    "\n",
    "@show typeof(shapes)\n",
    "@benchmark main1($shapes)"
   ]
  },
  {
   "cell_type": "markdown",
   "id": "0eedf0b7-213c-47fb-9d7e-50cfe93d6402",
   "metadata": {},
   "source": [
    "Let's run the benchmark for `sorted_shapes_shape` and `sorted_shapes_any`."
   ]
  },
  {
   "cell_type": "code",
   "execution_count": 35,
   "id": "6608a0dd-158d-45c0-9cf0-e15203e81afb",
   "metadata": {
    "execution": {
     "iopub.execute_input": "2024-04-21T00:39:10.624",
     "iopub.status.busy": "2024-04-21T00:39:10.624",
     "iopub.status.idle": "2024-04-21T00:39:21.242",
     "shell.execute_reply": "2024-04-21T00:39:21.242"
    }
   },
   "outputs": [
    {
     "name": "stdout",
     "output_type": "stream",
     "text": [
      "typeof(sorted_shapes_shape) = Vector{Shape}\n"
     ]
    },
    {
     "data": {
      "text/plain": [
       "BenchmarkTools.Trial: 151 samples with 1 evaluation.\n",
       " Range \u001b[90m(\u001b[39m\u001b[36m\u001b[1mmin\u001b[22m\u001b[39m … \u001b[35mmax\u001b[39m\u001b[90m):  \u001b[39m\u001b[36m\u001b[1m31.052 ms\u001b[22m\u001b[39m … \u001b[35m37.758 ms\u001b[39m  \u001b[90m┊\u001b[39m GC \u001b[90m(\u001b[39mmin … max\u001b[90m): \u001b[39m0.00% … 10.25%\n",
       " Time  \u001b[90m(\u001b[39m\u001b[34m\u001b[1mmedian\u001b[22m\u001b[39m\u001b[90m):     \u001b[39m\u001b[34m\u001b[1m31.946 ms              \u001b[22m\u001b[39m\u001b[90m┊\u001b[39m GC \u001b[90m(\u001b[39mmedian\u001b[90m):    \u001b[39m0.00%\n",
       " Time  \u001b[90m(\u001b[39m\u001b[32m\u001b[1mmean\u001b[22m\u001b[39m ± \u001b[32mσ\u001b[39m\u001b[90m):   \u001b[39m\u001b[32m\u001b[1m33.165 ms\u001b[22m\u001b[39m ± \u001b[32m 2.176 ms\u001b[39m  \u001b[90m┊\u001b[39m GC \u001b[90m(\u001b[39mmean ± σ\u001b[90m):  \u001b[39m4.09% ±  5.15%\n",
       "\n",
       "  \u001b[39m█\u001b[39m▄\u001b[39m \u001b[39m \u001b[39m \u001b[39m \u001b[39m \u001b[39m \u001b[34m \u001b[39m\u001b[39m \u001b[39m \u001b[39m \u001b[39m \u001b[39m \u001b[39m \u001b[39m \u001b[39m \u001b[39m \u001b[39m \u001b[39m \u001b[32m \u001b[39m\u001b[39m \u001b[39m \u001b[39m \u001b[39m \u001b[39m \u001b[39m \u001b[39m \u001b[39m \u001b[39m \u001b[39m \u001b[39m \u001b[39m \u001b[39m \u001b[39m \u001b[39m \u001b[39m \u001b[39m \u001b[39m \u001b[39m \u001b[39m \u001b[39m \u001b[39m \u001b[39m \u001b[39m \u001b[39m \u001b[39m \u001b[39m \u001b[39m \u001b[39m \u001b[39m \u001b[39m \u001b[39m \u001b[39m \u001b[39m \u001b[39m \u001b[39m \u001b[39m \u001b[39m \u001b[39m \u001b[39m \n",
       "  \u001b[39m█\u001b[39m█\u001b[39m▇\u001b[39m▆\u001b[39m▆\u001b[39m▆\u001b[39m▆\u001b[39m▆\u001b[34m█\u001b[39m\u001b[39m▄\u001b[39m▃\u001b[39m▄\u001b[39m▄\u001b[39m▃\u001b[39m▃\u001b[39m▃\u001b[39m▁\u001b[39m▃\u001b[39m▃\u001b[39m▁\u001b[32m▁\u001b[39m\u001b[39m▁\u001b[39m▁\u001b[39m▁\u001b[39m▁\u001b[39m▁\u001b[39m▁\u001b[39m▁\u001b[39m▁\u001b[39m▁\u001b[39m▃\u001b[39m▁\u001b[39m▁\u001b[39m▁\u001b[39m▁\u001b[39m▁\u001b[39m▃\u001b[39m▃\u001b[39m▆\u001b[39m▁\u001b[39m▃\u001b[39m▆\u001b[39m▄\u001b[39m▃\u001b[39m▄\u001b[39m▆\u001b[39m▇\u001b[39m▃\u001b[39m▃\u001b[39m▃\u001b[39m▄\u001b[39m▃\u001b[39m▃\u001b[39m▃\u001b[39m▁\u001b[39m▃\u001b[39m▁\u001b[39m▁\u001b[39m▄\u001b[39m \u001b[39m▃\n",
       "  31.1 ms\u001b[90m         Histogram: frequency by time\u001b[39m        37.3 ms \u001b[0m\u001b[1m<\u001b[22m\n",
       "\n",
       " Memory estimate\u001b[90m: \u001b[39m\u001b[33m30.52 MiB\u001b[39m, allocs estimate\u001b[90m: \u001b[39m\u001b[33m1999999\u001b[39m."
      ]
     },
     "execution_count": 35,
     "metadata": {},
     "output_type": "execute_result"
    }
   ],
   "source": [
    "#| code-fold: true\n",
    "\n",
    "@show typeof(sorted_shapes_shape)\n",
    "@benchmark main1($sorted_shapes_shape)"
   ]
  },
  {
   "cell_type": "code",
   "execution_count": 36,
   "id": "87d39970-fb7e-4951-a2ba-e2564c72f183",
   "metadata": {
    "execution": {
     "iopub.execute_input": "2024-04-21T00:39:21.242",
     "iopub.status.busy": "2024-04-21T00:39:21.242",
     "iopub.status.idle": "2024-04-21T00:39:31.868",
     "shell.execute_reply": "2024-04-21T00:39:31.868"
    }
   },
   "outputs": [
    {
     "name": "stdout",
     "output_type": "stream",
     "text": [
      "typeof(sorted_shapes_any) = Vector{Any}\n"
     ]
    },
    {
     "data": {
      "text/plain": [
       "BenchmarkTools.Trial: 151 samples with 1 evaluation.\n",
       " Range \u001b[90m(\u001b[39m\u001b[36m\u001b[1mmin\u001b[22m\u001b[39m … \u001b[35mmax\u001b[39m\u001b[90m):  \u001b[39m\u001b[36m\u001b[1m31.087 ms\u001b[22m\u001b[39m … \u001b[35m37.602 ms\u001b[39m  \u001b[90m┊\u001b[39m GC \u001b[90m(\u001b[39mmin … max\u001b[90m): \u001b[39m0.00% … 10.10%\n",
       " Time  \u001b[90m(\u001b[39m\u001b[34m\u001b[1mmedian\u001b[22m\u001b[39m\u001b[90m):     \u001b[39m\u001b[34m\u001b[1m32.221 ms              \u001b[22m\u001b[39m\u001b[90m┊\u001b[39m GC \u001b[90m(\u001b[39mmedian\u001b[90m):    \u001b[39m0.00%\n",
       " Time  \u001b[90m(\u001b[39m\u001b[32m\u001b[1mmean\u001b[22m\u001b[39m ± \u001b[32mσ\u001b[39m\u001b[90m):   \u001b[39m\u001b[32m\u001b[1m33.200 ms\u001b[22m\u001b[39m ± \u001b[32m 2.068 ms\u001b[39m  \u001b[90m┊\u001b[39m GC \u001b[90m(\u001b[39mmean ± σ\u001b[90m):  \u001b[39m3.74% ±  4.73%\n",
       "\n",
       "  \u001b[39m█\u001b[39m█\u001b[39m \u001b[39m \u001b[39m \u001b[39m \u001b[39m \u001b[39m \u001b[39m \u001b[39m \u001b[39m \u001b[34m \u001b[39m\u001b[39m \u001b[39m \u001b[39m \u001b[39m \u001b[39m \u001b[39m \u001b[39m \u001b[39m \u001b[32m \u001b[39m\u001b[39m \u001b[39m \u001b[39m \u001b[39m \u001b[39m \u001b[39m \u001b[39m \u001b[39m \u001b[39m \u001b[39m \u001b[39m \u001b[39m \u001b[39m \u001b[39m \u001b[39m \u001b[39m \u001b[39m \u001b[39m \u001b[39m \u001b[39m \u001b[39m \u001b[39m \u001b[39m \u001b[39m \u001b[39m \u001b[39m \u001b[39m \u001b[39m \u001b[39m \u001b[39m \u001b[39m \u001b[39m \u001b[39m \u001b[39m \u001b[39m \u001b[39m \u001b[39m \u001b[39m \u001b[39m \u001b[39m \n",
       "  \u001b[39m█\u001b[39m█\u001b[39m▆\u001b[39m▆\u001b[39m▄\u001b[39m▅\u001b[39m▆\u001b[39m▅\u001b[39m▅\u001b[39m▃\u001b[39m▆\u001b[34m▄\u001b[39m\u001b[39m▅\u001b[39m▄\u001b[39m▃\u001b[39m▃\u001b[39m▃\u001b[39m▃\u001b[39m▁\u001b[39m▃\u001b[32m▁\u001b[39m\u001b[39m▁\u001b[39m▃\u001b[39m▁\u001b[39m▃\u001b[39m▃\u001b[39m▁\u001b[39m▃\u001b[39m▁\u001b[39m▁\u001b[39m▁\u001b[39m▁\u001b[39m▃\u001b[39m▃\u001b[39m▁\u001b[39m▄\u001b[39m▃\u001b[39m▄\u001b[39m▄\u001b[39m▄\u001b[39m▃\u001b[39m▄\u001b[39m▅\u001b[39m▃\u001b[39m▆\u001b[39m▄\u001b[39m▃\u001b[39m▃\u001b[39m▁\u001b[39m▃\u001b[39m▃\u001b[39m▁\u001b[39m▃\u001b[39m▁\u001b[39m▃\u001b[39m▃\u001b[39m▃\u001b[39m▃\u001b[39m▃\u001b[39m \u001b[39m▃\n",
       "  31.1 ms\u001b[90m         Histogram: frequency by time\u001b[39m        37.4 ms \u001b[0m\u001b[1m<\u001b[22m\n",
       "\n",
       " Memory estimate\u001b[90m: \u001b[39m\u001b[33m30.52 MiB\u001b[39m, allocs estimate\u001b[90m: \u001b[39m\u001b[33m1999999\u001b[39m."
      ]
     },
     "execution_count": 36,
     "metadata": {},
     "output_type": "execute_result"
    }
   ],
   "source": [
    "#| code-fold: true\n",
    "\n",
    "@show typeof(sorted_shapes_any)\n",
    "@benchmark main1($sorted_shapes_any)"
   ]
  },
  {
   "cell_type": "markdown",
   "id": "ef2310e2-781d-4bc2-a1c3-8d121edebdf2",
   "metadata": {},
   "source": [
    "Both benchmarks for `Vector{Shape}` and `Vector{Any}` are similar in performance to each other. \n",
    "\n",
    "The Julia manual has the following to say:\n",
    "\n",
    "> If you cannot avoid containers with abstract value types, it is sometimes better to parametrize with `Any` to avoid runtime type checking. E.g. `IdDict{Any, Any}` performs better than `IdDict{Type, Vector}`"
   ]
  },
  {
   "cell_type": "markdown",
   "id": "e8239ce2-0caa-41aa-9754-952ed54543f1",
   "metadata": {},
   "source": [
    "What is interesting is that `Union{Circle, Rectangle, Square, Triangle}` can perform better than `Shape` or `Any` when used as a concrete type parameter."
   ]
  },
  {
   "cell_type": "markdown",
   "id": "d9f57c52-af5c-4550-a5ec-fae93cb39b5e",
   "metadata": {},
   "source": [
    "You can see difference show up clearly in the performance benchmark:"
   ]
  },
  {
   "cell_type": "code",
   "execution_count": 57,
   "id": "9fb14edb-9ea2-4de3-ac7e-784476f220c0",
   "metadata": {
    "execution": {
     "iopub.execute_input": "2024-04-21T01:49:01.680",
     "iopub.status.busy": "2024-04-21T01:49:01.679",
     "iopub.status.idle": "2024-04-21T01:49:12.330",
     "shell.execute_reply": "2024-04-21T01:49:12.330"
    }
   },
   "outputs": [
    {
     "name": "stdout",
     "output_type": "stream",
     "text": [
      "typeof(sorted_shapes_union) = Vector{Union{Circle, Rectangle, Square, Triangle}}\n"
     ]
    },
    {
     "data": {
      "text/plain": [
       "BenchmarkTools.Trial: 5163 samples with 1 evaluation.\n",
       " Range \u001b[90m(\u001b[39m\u001b[36m\u001b[1mmin\u001b[22m\u001b[39m … \u001b[35mmax\u001b[39m\u001b[90m):  \u001b[39m\u001b[36m\u001b[1m927.333 μs\u001b[22m\u001b[39m … \u001b[35m 1.200 ms\u001b[39m  \u001b[90m┊\u001b[39m GC \u001b[90m(\u001b[39mmin … max\u001b[90m): \u001b[39m0.00% … 0.00%\n",
       " Time  \u001b[90m(\u001b[39m\u001b[34m\u001b[1mmedian\u001b[22m\u001b[39m\u001b[90m):     \u001b[39m\u001b[34m\u001b[1m949.000 μs              \u001b[22m\u001b[39m\u001b[90m┊\u001b[39m GC \u001b[90m(\u001b[39mmedian\u001b[90m):    \u001b[39m0.00%\n",
       " Time  \u001b[90m(\u001b[39m\u001b[32m\u001b[1mmean\u001b[22m\u001b[39m ± \u001b[32mσ\u001b[39m\u001b[90m):   \u001b[39m\u001b[32m\u001b[1m963.889 μs\u001b[22m\u001b[39m ± \u001b[32m37.731 μs\u001b[39m  \u001b[90m┊\u001b[39m GC \u001b[90m(\u001b[39mmean ± σ\u001b[90m):  \u001b[39m0.00% ± 0.00%\n",
       "\n",
       "  \u001b[39m \u001b[39m \u001b[39m█\u001b[39m▄\u001b[39m \u001b[39m \u001b[39m \u001b[39m \u001b[34m \u001b[39m\u001b[39m \u001b[39m \u001b[39m \u001b[39m \u001b[39m \u001b[32m \u001b[39m\u001b[39m \u001b[39m \u001b[39m \u001b[39m \u001b[39m \u001b[39m \u001b[39m \u001b[39m \u001b[39m \u001b[39m \u001b[39m \u001b[39m \u001b[39m \u001b[39m \u001b[39m \u001b[39m \u001b[39m \u001b[39m \u001b[39m \u001b[39m \u001b[39m \u001b[39m \u001b[39m \u001b[39m \u001b[39m \u001b[39m \u001b[39m \u001b[39m \u001b[39m \u001b[39m \u001b[39m \u001b[39m \u001b[39m \u001b[39m \u001b[39m \u001b[39m \u001b[39m \u001b[39m \u001b[39m \u001b[39m \u001b[39m \u001b[39m \u001b[39m \u001b[39m \u001b[39m \u001b[39m \u001b[39m \n",
       "  \u001b[39m▃\u001b[39m▆\u001b[39m█\u001b[39m█\u001b[39m▄\u001b[39m▃\u001b[39m▃\u001b[39m▂\u001b[34m▂\u001b[39m\u001b[39m▂\u001b[39m▃\u001b[39m▃\u001b[39m▂\u001b[39m▂\u001b[32m▂\u001b[39m\u001b[39m▂\u001b[39m▂\u001b[39m▂\u001b[39m▂\u001b[39m▂\u001b[39m▂\u001b[39m▂\u001b[39m▃\u001b[39m▂\u001b[39m▂\u001b[39m▂\u001b[39m▂\u001b[39m▂\u001b[39m▂\u001b[39m▂\u001b[39m▂\u001b[39m▂\u001b[39m▂\u001b[39m▂\u001b[39m▂\u001b[39m▂\u001b[39m▁\u001b[39m▁\u001b[39m▂\u001b[39m▁\u001b[39m▁\u001b[39m▁\u001b[39m▁\u001b[39m▁\u001b[39m▁\u001b[39m▁\u001b[39m▁\u001b[39m▁\u001b[39m▁\u001b[39m▁\u001b[39m▁\u001b[39m▁\u001b[39m▁\u001b[39m▁\u001b[39m▁\u001b[39m▁\u001b[39m▁\u001b[39m▁\u001b[39m▁\u001b[39m▁\u001b[39m \u001b[39m▂\n",
       "  927 μs\u001b[90m          Histogram: frequency by time\u001b[39m         1.08 ms \u001b[0m\u001b[1m<\u001b[22m\n",
       "\n",
       " Memory estimate\u001b[90m: \u001b[39m\u001b[33m0 bytes\u001b[39m, allocs estimate\u001b[90m: \u001b[39m\u001b[33m0\u001b[39m."
      ]
     },
     "execution_count": 57,
     "metadata": {},
     "output_type": "execute_result"
    }
   ],
   "source": [
    "#| code-fold: true\n",
    "\n",
    "@show typeof(sorted_shapes_union)\n",
    "@benchmark main1($sorted_shapes_union)"
   ]
  },
  {
   "cell_type": "code",
   "execution_count": 64,
   "id": "b7258cd1-da7a-4c03-ae1b-9b433d877b0c",
   "metadata": {
    "execution": {
     "iopub.execute_input": "2024-04-21T02:55:09.655",
     "iopub.status.busy": "2024-04-21T02:55:09.654",
     "iopub.status.idle": "2024-04-21T02:55:09.660",
     "shell.execute_reply": "2024-04-21T02:55:09.660"
    }
   },
   "outputs": [
    {
     "data": {
      "text/latex": [
       "\\texttt{Vector\\{Union\\{Circle, Rectangle, Square, Triangle\\}\\}} is faster than \\texttt{Vector\\{Shape\\}} by roughly a factor of 36 times.\n",
       "\n"
      ],
      "text/markdown": [
       "`Vector{Union{Circle, Rectangle, Square, Triangle}}` is faster than `Vector{Shape}` by roughly a factor of 36 times.\n"
      ],
      "text/plain": [
       "  \u001b[36mVector{Union{Circle, Rectangle, Square, Triangle}}\u001b[39m is faster than\n",
       "  \u001b[36mVector{Shape}\u001b[39m by roughly a factor of 36 times."
      ]
     },
     "execution_count": 64,
     "metadata": {},
     "output_type": "execute_result"
    }
   ],
   "source": [
    "#| echo: false\n",
    "using Format\n",
    "f = cfmt(\"%'d\", 33.877 * 1e3 / 939)\n",
    "Markdown.md\"`Vector{Union{Circle, Rectangle, Square, Triangle}}` is faster than `Vector{Shape}` by roughly a factor of $f times.\""
   ]
  },
  {
   "cell_type": "markdown",
   "id": "6f828e8e-a6c5-4d45-9c22-e3795a622978",
   "metadata": {},
   "source": [
    "It's possible to get even better performance by calculating the `sum`s for the individual arrays and summing them up at the end."
   ]
  },
  {
   "cell_type": "code",
   "execution_count": 40,
   "id": "852e4dc2-fb51-4727-9f3b-1330c3972631",
   "metadata": {
    "execution": {
     "iopub.execute_input": "2024-04-21T00:39:57.041",
     "iopub.status.busy": "2024-04-21T00:39:57.041",
     "iopub.status.idle": "2024-04-21T00:39:57.046",
     "shell.execute_reply": "2024-04-21T00:39:57.044"
    }
   },
   "outputs": [
    {
     "data": {
      "text/plain": [
       "main2 (generic function with 1 method)"
      ]
     },
     "execution_count": 40,
     "metadata": {},
     "output_type": "execute_result"
    }
   ],
   "source": [
    "main2(arrs...) = sum(main1, arrs)"
   ]
  },
  {
   "cell_type": "code",
   "execution_count": 41,
   "id": "f2f78446-5522-42f1-a254-8dbe18eb07db",
   "metadata": {
    "execution": {
     "iopub.execute_input": "2024-04-21T00:39:57.764",
     "iopub.status.busy": "2024-04-21T00:39:57.763",
     "iopub.status.idle": "2024-04-21T00:39:57.797",
     "shell.execute_reply": "2024-04-21T00:39:57.797"
    }
   },
   "outputs": [
    {
     "name": "stdout",
     "output_type": "stream",
     "text": [
      "  0.002709 seconds (406 allocations: 27.609 KiB, 85.41% compilation time)\n"
     ]
    }
   ],
   "source": [
    "@time main2(square_arr, rectangle_arr, triangle_arr, circle_arr);"
   ]
  },
  {
   "cell_type": "code",
   "execution_count": 56,
   "id": "b2f5e136-872b-4149-ac66-cb64a8553fa5",
   "metadata": {
    "execution": {
     "iopub.execute_input": "2024-04-21T01:47:30.986",
     "iopub.status.busy": "2024-04-21T01:47:30.986",
     "iopub.status.idle": "2024-04-21T01:47:39.418",
     "shell.execute_reply": "2024-04-21T01:47:39.418"
    }
   },
   "outputs": [
    {
     "data": {
      "text/plain": [
       "BenchmarkTools.Trial: 10000 samples with 1 evaluation.\n",
       " Range \u001b[90m(\u001b[39m\u001b[36m\u001b[1mmin\u001b[22m\u001b[39m … \u001b[35mmax\u001b[39m\u001b[90m):  \u001b[39m\u001b[36m\u001b[1m273.084 μs\u001b[22m\u001b[39m … \u001b[35m442.542 μs\u001b[39m  \u001b[90m┊\u001b[39m GC \u001b[90m(\u001b[39mmin … max\u001b[90m): \u001b[39m0.00% … 0.00%\n",
       " Time  \u001b[90m(\u001b[39m\u001b[34m\u001b[1mmedian\u001b[22m\u001b[39m\u001b[90m):     \u001b[39m\u001b[34m\u001b[1m280.666 μs               \u001b[22m\u001b[39m\u001b[90m┊\u001b[39m GC \u001b[90m(\u001b[39mmedian\u001b[90m):    \u001b[39m0.00%\n",
       " Time  \u001b[90m(\u001b[39m\u001b[32m\u001b[1mmean\u001b[22m\u001b[39m ± \u001b[32mσ\u001b[39m\u001b[90m):   \u001b[39m\u001b[32m\u001b[1m283.081 μs\u001b[22m\u001b[39m ± \u001b[32m  7.170 μs\u001b[39m  \u001b[90m┊\u001b[39m GC \u001b[90m(\u001b[39mmean ± σ\u001b[90m):  \u001b[39m0.00% ± 0.00%\n",
       "\n",
       "  \u001b[39m \u001b[39m \u001b[39m \u001b[39m \u001b[39m \u001b[39m \u001b[39m \u001b[39m▂\u001b[39m▅\u001b[39m▇\u001b[39m█\u001b[39m█\u001b[34m▇\u001b[39m\u001b[39m▅\u001b[39m▅\u001b[39m▅\u001b[32m▄\u001b[39m\u001b[39m▃\u001b[39m▂\u001b[39m▂\u001b[39m▂\u001b[39m▁\u001b[39m▁\u001b[39m▁\u001b[39m \u001b[39m \u001b[39m \u001b[39m▁\u001b[39m \u001b[39m \u001b[39m▁\u001b[39m \u001b[39m \u001b[39m▁\u001b[39m▁\u001b[39m▁\u001b[39m▁\u001b[39m \u001b[39m▁\u001b[39m▁\u001b[39m \u001b[39m▁\u001b[39m▁\u001b[39m \u001b[39m \u001b[39m \u001b[39m \u001b[39m \u001b[39m \u001b[39m \u001b[39m \u001b[39m \u001b[39m \u001b[39m \u001b[39m \u001b[39m \u001b[39m \u001b[39m \u001b[39m \u001b[39m \u001b[39m \u001b[39m \u001b[39m▂\n",
       "  \u001b[39m▃\u001b[39m▁\u001b[39m▃\u001b[39m▆\u001b[39m▆\u001b[39m▆\u001b[39m█\u001b[39m█\u001b[39m█\u001b[39m█\u001b[39m█\u001b[39m█\u001b[34m█\u001b[39m\u001b[39m█\u001b[39m█\u001b[39m█\u001b[32m█\u001b[39m\u001b[39m█\u001b[39m█\u001b[39m█\u001b[39m█\u001b[39m█\u001b[39m█\u001b[39m█\u001b[39m█\u001b[39m█\u001b[39m█\u001b[39m█\u001b[39m█\u001b[39m█\u001b[39m█\u001b[39m█\u001b[39m█\u001b[39m█\u001b[39m█\u001b[39m█\u001b[39m█\u001b[39m█\u001b[39m█\u001b[39m█\u001b[39m█\u001b[39m█\u001b[39m█\u001b[39m█\u001b[39m█\u001b[39m█\u001b[39m█\u001b[39m█\u001b[39m█\u001b[39m▇\u001b[39m█\u001b[39m█\u001b[39m█\u001b[39m▇\u001b[39m▇\u001b[39m▇\u001b[39m▇\u001b[39m▇\u001b[39m▆\u001b[39m▆\u001b[39m▇\u001b[39m \u001b[39m█\n",
       "  273 μs\u001b[90m        \u001b[39m\u001b[90mHistogram: \u001b[39m\u001b[90m\u001b[1mlog(\u001b[22m\u001b[39m\u001b[90mfrequency\u001b[39m\u001b[90m\u001b[1m)\u001b[22m\u001b[39m\u001b[90m by time\u001b[39m        312 μs \u001b[0m\u001b[1m<\u001b[22m\n",
       "\n",
       " Memory estimate\u001b[90m: \u001b[39m\u001b[33m0 bytes\u001b[39m, allocs estimate\u001b[90m: \u001b[39m\u001b[33m0\u001b[39m."
      ]
     },
     "execution_count": 56,
     "metadata": {},
     "output_type": "execute_result"
    }
   ],
   "source": [
    "@benchmark main2($square_arr, $rectangle_arr, $triangle_arr, $circle_arr)"
   ]
  },
  {
   "cell_type": "markdown",
   "id": "e2ec0343-c1a6-4f69-8952-52ff3d150c2a",
   "metadata": {},
   "source": [
    "This performance is equivalent to having a uniform type (e.g. just `Square`s)."
   ]
  },
  {
   "cell_type": "code",
   "execution_count": 55,
   "id": "913b0b44-d4a9-4c4f-9b4b-a83d56fcbe23",
   "metadata": {
    "execution": {
     "iopub.execute_input": "2024-04-21T01:47:19.049",
     "iopub.status.busy": "2024-04-21T01:47:19.048",
     "iopub.status.idle": "2024-04-21T01:47:27.067",
     "shell.execute_reply": "2024-04-21T01:47:27.067"
    }
   },
   "outputs": [
    {
     "data": {
      "text/plain": [
       "BenchmarkTools.Trial: 10000 samples with 1 evaluation.\n",
       " Range \u001b[90m(\u001b[39m\u001b[36m\u001b[1mmin\u001b[22m\u001b[39m … \u001b[35mmax\u001b[39m\u001b[90m):  \u001b[39m\u001b[36m\u001b[1m236.042 μs\u001b[22m\u001b[39m … \u001b[35m322.708 μs\u001b[39m  \u001b[90m┊\u001b[39m GC \u001b[90m(\u001b[39mmin … max\u001b[90m): \u001b[39m0.00% … 0.00%\n",
       " Time  \u001b[90m(\u001b[39m\u001b[34m\u001b[1mmedian\u001b[22m\u001b[39m\u001b[90m):     \u001b[39m\u001b[34m\u001b[1m236.625 μs               \u001b[22m\u001b[39m\u001b[90m┊\u001b[39m GC \u001b[90m(\u001b[39mmedian\u001b[90m):    \u001b[39m0.00%\n",
       " Time  \u001b[90m(\u001b[39m\u001b[32m\u001b[1mmean\u001b[22m\u001b[39m ± \u001b[32mσ\u001b[39m\u001b[90m):   \u001b[39m\u001b[32m\u001b[1m238.788 μs\u001b[22m\u001b[39m ± \u001b[32m  5.499 μs\u001b[39m  \u001b[90m┊\u001b[39m GC \u001b[90m(\u001b[39mmean ± σ\u001b[90m):  \u001b[39m0.00% ± 0.00%\n",
       "\n",
       "  \u001b[39m▅\u001b[34m█\u001b[39m\u001b[39m▂\u001b[39m▁\u001b[39m▁\u001b[39m \u001b[32m▁\u001b[39m\u001b[39m▅\u001b[39m \u001b[39m \u001b[39m \u001b[39m \u001b[39m▁\u001b[39m \u001b[39m \u001b[39m \u001b[39m \u001b[39m \u001b[39m \u001b[39m \u001b[39m \u001b[39m \u001b[39m \u001b[39m \u001b[39m \u001b[39m \u001b[39m \u001b[39m \u001b[39m \u001b[39m \u001b[39m \u001b[39m \u001b[39m \u001b[39m \u001b[39m \u001b[39m \u001b[39m \u001b[39m \u001b[39m \u001b[39m \u001b[39m \u001b[39m \u001b[39m \u001b[39m \u001b[39m \u001b[39m \u001b[39m \u001b[39m \u001b[39m \u001b[39m \u001b[39m \u001b[39m \u001b[39m \u001b[39m \u001b[39m \u001b[39m \u001b[39m \u001b[39m \u001b[39m \u001b[39m \u001b[39m \u001b[39m \u001b[39m▁\n",
       "  \u001b[39m█\u001b[34m█\u001b[39m\u001b[39m█\u001b[39m█\u001b[39m█\u001b[39m█\u001b[32m█\u001b[39m\u001b[39m█\u001b[39m█\u001b[39m█\u001b[39m▇\u001b[39m█\u001b[39m█\u001b[39m█\u001b[39m▇\u001b[39m█\u001b[39m█\u001b[39m█\u001b[39m█\u001b[39m▇\u001b[39m█\u001b[39m█\u001b[39m▇\u001b[39m▇\u001b[39m▇\u001b[39m▇\u001b[39m▇\u001b[39m█\u001b[39m▇\u001b[39m▇\u001b[39m▆\u001b[39m▆\u001b[39m▆\u001b[39m▆\u001b[39m▆\u001b[39m▆\u001b[39m▇\u001b[39m▆\u001b[39m▆\u001b[39m▆\u001b[39m▆\u001b[39m▆\u001b[39m▅\u001b[39m▅\u001b[39m▅\u001b[39m▅\u001b[39m▅\u001b[39m▅\u001b[39m▅\u001b[39m▆\u001b[39m▅\u001b[39m▄\u001b[39m▅\u001b[39m▅\u001b[39m▄\u001b[39m▅\u001b[39m▄\u001b[39m▃\u001b[39m▅\u001b[39m▃\u001b[39m▆\u001b[39m \u001b[39m█\n",
       "  236 μs\u001b[90m        \u001b[39m\u001b[90mHistogram: \u001b[39m\u001b[90m\u001b[1mlog(\u001b[22m\u001b[39m\u001b[90mfrequency\u001b[39m\u001b[90m\u001b[1m)\u001b[22m\u001b[39m\u001b[90m by time\u001b[39m        263 μs \u001b[0m\u001b[1m<\u001b[22m\n",
       "\n",
       " Memory estimate\u001b[90m: \u001b[39m\u001b[33m0 bytes\u001b[39m, allocs estimate\u001b[90m: \u001b[39m\u001b[33m0\u001b[39m."
      ]
     },
     "execution_count": 55,
     "metadata": {},
     "output_type": "execute_result"
    }
   ],
   "source": [
    "squares = [Square() for _ in 1:COUNT]\n",
    "\n",
    "@benchmark main1($squares)"
   ]
  },
  {
   "cell_type": "markdown",
   "id": "7c8051b8-fbec-4230-aa45-15508e8e8ddc",
   "metadata": {},
   "source": [
    "# Conclusion"
   ]
  },
  {
   "cell_type": "markdown",
   "id": "a9153da0-3d99-40dd-bd38-9a1d6411896c",
   "metadata": {},
   "source": [
    "The key takeaway is that if you care about performance in Julia, you have to be mindful of types and type inference! Keeping types as concrete as possible is important because when type inference fails, it can propogate through your program. Even small changes to your code can improve performance significantly."
   ]
  },
  {
   "cell_type": "markdown",
   "id": "978cf738-3fbf-48e5-b1bb-729da7075173",
   "metadata": {},
   "source": [
    "Many thanks to the helpful [Julia community on Discourse](https://discourse.julialang.org/t/unusual-non-deterministic-benchmark-results/113273/) for always offering insightful comments and advice."
   ]
  }
 ],
 "metadata": {
  "kernelspec": {
   "display_name": "Julia 1.10.2",
   "language": "julia",
   "name": "julia-1.10"
  },
  "language_info": {
   "file_extension": ".jl",
   "mimetype": "application/julia",
   "name": "julia",
   "version": "1.10.2"
  },
  "widgets": {
   "application/vnd.jupyter.widget-state+json": {
    "state": {},
    "version_major": 2,
    "version_minor": 0
   }
  }
 },
 "nbformat": 4,
 "nbformat_minor": 5
}
