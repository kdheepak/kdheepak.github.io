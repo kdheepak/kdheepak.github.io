{
 "cells": [
  {
   "cell_type": "raw",
   "id": "aaa69d60-433e-4721-82be-bc648b59dc95",
   "metadata": {},
   "source": [
    "---\n",
    "title: Effect of type inference on performance in Julia\n",
    "categories:\n",
    "  - julia\n",
    "  - visualization\n",
    "keywords: julia\n",
    "date: '2023-04-29T12:38:41-0400'\n",
    "draft: true\n",
    "---"
   ]
  },
  {
   "cell_type": "code",
   "execution_count": 1,
   "id": "5f4bcdc1-37f3-4724-bd36-64d6b1517e66",
   "metadata": {
    "execution": {
     "iopub.execute_input": "2024-04-20T10:00:23.499",
     "iopub.status.busy": "2024-04-20T10:00:23.246",
     "iopub.status.idle": "2024-04-20T10:00:26.258",
     "shell.execute_reply": "2024-04-20T10:00:26.235"
    }
   },
   "outputs": [
    {
     "name": "stderr",
     "output_type": "stream",
     "text": [
      "\u001b[32m\u001b[1m  Activating\u001b[22m\u001b[39m project at `~/gitrepos/kdheepak.github.io/blog/effect-of-type-inference-on-performance-in-julia`\n"
     ]
    }
   ],
   "source": [
    "#| include: false\n",
    "using Pkg\n",
    "Pkg.activate(@__DIR__)\n",
    "Pkg.instantiate()\n",
    "cd(@__DIR__)"
   ]
  },
  {
   "cell_type": "code",
   "execution_count": 58,
   "id": "b3a8fbdd-6b28-4a20-a055-bb95ac990072",
   "metadata": {
    "execution": {
     "iopub.execute_input": "2024-04-20T10:09:56.766",
     "iopub.status.busy": "2024-04-20T10:09:56.766",
     "iopub.status.idle": "2024-04-20T10:09:57.072",
     "shell.execute_reply": "2024-04-20T10:09:57.072"
    }
   },
   "outputs": [
    {
     "name": "stdout",
     "output_type": "stream",
     "text": [
      "Julia Version 1.10.2\n",
      "Commit bd47eca2c8a (2024-03-01 10:14 UTC)\n",
      "Build Info:\n",
      "  Official https://julialang.org/ release\n",
      "Platform Info:\n",
      "  OS: macOS (arm64-apple-darwin22.4.0)\n",
      "  CPU: 10 × Apple M1 Pro\n",
      "  WORD_SIZE: 64\n",
      "  LIBM: libopenlibm\n",
      "  LLVM: libLLVM-15.0.7 (ORCJIT, apple-m1)\n",
      "Threads: 1 default, 0 interactive, 1 GC (on 8 virtual cores)\n",
      "Environment:\n",
      "  JULIA_PROJECT = @.\n"
     ]
    }
   ],
   "source": [
    "versioninfo()"
   ]
  },
  {
   "cell_type": "code",
   "execution_count": 2,
   "id": "b1e5ad21-3024-4076-9b16-f5d4c4ca4663",
   "metadata": {
    "execution": {
     "iopub.execute_input": "2024-04-20T10:00:27.378",
     "iopub.status.busy": "2024-04-20T10:00:27.378",
     "iopub.status.idle": "2024-04-20T10:00:27.613",
     "shell.execute_reply": "2024-04-20T10:00:27.612"
    }
   },
   "outputs": [
    {
     "data": {
      "text/plain": [
       "area (generic function with 5 methods)"
      ]
     },
     "execution_count": 2,
     "metadata": {},
     "output_type": "execute_result"
    }
   ],
   "source": [
    "abstract type Shape end\n",
    "area(::Shape) = 0.0\n",
    "\n",
    "struct Square <: Shape\n",
    "    side::Float64\n",
    "end\n",
    "area(s::Square) = s.side * s.side\n",
    "    \n",
    "struct Rectangle <: Shape\n",
    "    width::Float64\n",
    "    height::Float64\n",
    "end\n",
    "area(r::Rectangle) = r.width * r.height\n",
    "    \n",
    "struct Triangle <: Shape\n",
    "    base::Float64\n",
    "    height::Float64\n",
    "end\n",
    "area(t::Triangle) = 1.0/2.0 * t.base * t.height\n",
    "\n",
    "struct Circle <: Shape\n",
    "    radius::Float64\n",
    "end\n",
    "area(c::Circle) = π * c.radius^2"
   ]
  },
  {
   "cell_type": "code",
   "execution_count": 3,
   "id": "31a5cc81-a7e4-401c-ad44-c91ab139d0f9",
   "metadata": {
    "execution": {
     "iopub.execute_input": "2024-04-20T10:00:30.677",
     "iopub.status.busy": "2024-04-20T10:00:30.676",
     "iopub.status.idle": "2024-04-20T10:00:31.013",
     "shell.execute_reply": "2024-04-20T10:00:31.013"
    }
   },
   "outputs": [
    {
     "name": "stdout",
     "output_type": "stream",
     "text": [
      "\u001b[0m\u001b[1mTest Summary: | \u001b[22m\u001b[32m\u001b[1mPass  \u001b[22m\u001b[39m\u001b[36m\u001b[1mTotal  \u001b[22m\u001b[39m\u001b[0m\u001b[1mTime\u001b[22m\n",
      "Areas         | \u001b[32m   4  \u001b[39m\u001b[36m    4  \u001b[39m\u001b[0m0.2s\n"
     ]
    }
   ],
   "source": [
    "using Test\n",
    "@testset \"Areas\" begin\n",
    "    @test area(Square(2)) == 4\n",
    "    @test area(Rectangle(2,3)) == 6\n",
    "    @test area(Triangle(2,3)) == 3\n",
    "    @test area(Circle(2)) ≈ 4π\n",
    "end;"
   ]
  },
  {
   "cell_type": "code",
   "execution_count": 4,
   "id": "89712b98-7612-43da-bc3e-f667abd7e2ee",
   "metadata": {
    "execution": {
     "iopub.execute_input": "2024-04-20T10:00:31.512",
     "iopub.status.busy": "2024-04-20T10:00:31.512",
     "iopub.status.idle": "2024-04-20T10:00:31.717",
     "shell.execute_reply": "2024-04-20T10:00:31.716"
    }
   },
   "outputs": [],
   "source": [
    "using Random\n",
    "\n",
    "Random.seed!(42)\n",
    "\n",
    "function shape_builder(choice::Integer)\n",
    "    if choice == 1\n",
    "        Square(rand())\n",
    "    elseif choice == 2\n",
    "        Rectangle(rand(), rand())\n",
    "    elseif choice == 3\n",
    "        Triangle(rand(), rand())\n",
    "    elseif choice == 4\n",
    "        Circle(rand())\n",
    "    end\n",
    "end\n",
    "\n",
    "count = 1_000_000\n",
    "shapes = [shape_builder(rand((1,2,3,4))) for _ in 1:count];"
   ]
  },
  {
   "cell_type": "code",
   "execution_count": 5,
   "id": "6cb04f19-d92e-401a-a475-746266921ac0",
   "metadata": {
    "execution": {
     "iopub.execute_input": "2024-04-20T10:00:32.415",
     "iopub.status.busy": "2024-04-20T10:00:32.415",
     "iopub.status.idle": "2024-04-20T10:00:32.727",
     "shell.execute_reply": "2024-04-20T10:00:32.726"
    }
   },
   "outputs": [
    {
     "data": {
      "text/latex": [
       "The total number of shapes we have is 1,000,000.\n",
       "\n"
      ],
      "text/markdown": [
       "The total number of shapes we have is 1,000,000.\n"
      ],
      "text/plain": [
       "  The total number of shapes we have is 1,000,000."
      ]
     },
     "execution_count": 5,
     "metadata": {},
     "output_type": "execute_result"
    }
   ],
   "source": [
    "#| echo: false\n",
    "using Format\n",
    "using Markdown\n",
    "l = cfmt(\"%'d\", length(shapes))\n",
    "Markdown.md\"The total number of shapes we have is $l.\""
   ]
  },
  {
   "cell_type": "code",
   "execution_count": 6,
   "id": "98c07e22-d931-4e91-92c4-3844100c72f0",
   "metadata": {
    "execution": {
     "iopub.execute_input": "2024-04-20T10:00:33.648",
     "iopub.status.busy": "2024-04-20T10:00:33.647",
     "iopub.status.idle": "2024-04-20T10:00:33.873",
     "shell.execute_reply": "2024-04-20T10:00:33.873"
    }
   },
   "outputs": [
    {
     "data": {
      "text/plain": [
       "Vector{Shape}\u001b[90m (alias for \u001b[39m\u001b[90mArray{Shape, 1}\u001b[39m\u001b[90m)\u001b[39m"
      ]
     },
     "execution_count": 6,
     "metadata": {},
     "output_type": "execute_result"
    }
   ],
   "source": [
    "typeof(shapes)"
   ]
  },
  {
   "cell_type": "code",
   "execution_count": 101,
   "id": "c91b5a9d-ca77-4cf8-893b-f64a9feaea1f",
   "metadata": {
    "execution": {
     "iopub.execute_input": "2024-04-20T22:07:27.877",
     "iopub.status.busy": "2024-04-20T22:07:27.877",
     "iopub.status.idle": "2024-04-20T22:07:27.882",
     "shell.execute_reply": "2024-04-20T22:07:27.882"
    }
   },
   "outputs": [
    {
     "data": {
      "text/plain": [
       "main1 (generic function with 1 method)"
      ]
     },
     "execution_count": 101,
     "metadata": {},
     "output_type": "execute_result"
    }
   ],
   "source": [
    "main1(shapes) = sum(area, shapes)"
   ]
  },
  {
   "cell_type": "code",
   "execution_count": 102,
   "id": "add2506f-2afb-4cb0-831c-11d5ee223341",
   "metadata": {
    "execution": {
     "iopub.execute_input": "2024-04-20T22:07:28.443",
     "iopub.status.busy": "2024-04-20T22:07:28.443",
     "iopub.status.idle": "2024-04-20T22:07:28.551",
     "shell.execute_reply": "2024-04-20T22:07:28.551"
    }
   },
   "outputs": [
    {
     "name": "stdout",
     "output_type": "stream",
     "text": [
      "  0.078527 seconds (2.00 M allocations: 30.552 MiB, 2.96% compilation time)\n"
     ]
    }
   ],
   "source": [
    "@time main1(shapes);"
   ]
  },
  {
   "cell_type": "code",
   "execution_count": 103,
   "id": "f7396454-84a3-49dc-b959-e562bbfe3260",
   "metadata": {
    "execution": {
     "iopub.execute_input": "2024-04-20T22:07:28.913",
     "iopub.status.busy": "2024-04-20T22:07:28.913",
     "iopub.status.idle": "2024-04-20T22:07:28.915",
     "shell.execute_reply": "2024-04-20T22:07:28.915"
    }
   },
   "outputs": [],
   "source": [
    "using BenchmarkTools"
   ]
  },
  {
   "cell_type": "code",
   "execution_count": 104,
   "id": "e66b8854-d3d9-4fae-b777-98e0d3266f49",
   "metadata": {
    "execution": {
     "iopub.execute_input": "2024-04-20T22:07:29.333",
     "iopub.status.busy": "2024-04-20T22:07:29.333",
     "iopub.status.idle": "2024-04-20T22:07:40.908",
     "shell.execute_reply": "2024-04-20T22:07:40.908"
    }
   },
   "outputs": [
    {
     "data": {
      "text/plain": [
       "BenchmarkTools.Trial: 80 samples with 1 evaluation.\n",
       " Range \u001b[90m(\u001b[39m\u001b[36m\u001b[1mmin\u001b[22m\u001b[39m … \u001b[35mmax\u001b[39m\u001b[90m):  \u001b[39m\u001b[36m\u001b[1m60.275 ms\u001b[22m\u001b[39m … \u001b[35m68.606 ms\u001b[39m  \u001b[90m┊\u001b[39m GC \u001b[90m(\u001b[39mmin … max\u001b[90m): \u001b[39m0.00% … 8.34%\n",
       " Time  \u001b[90m(\u001b[39m\u001b[34m\u001b[1mmedian\u001b[22m\u001b[39m\u001b[90m):     \u001b[39m\u001b[34m\u001b[1m61.301 ms              \u001b[22m\u001b[39m\u001b[90m┊\u001b[39m GC \u001b[90m(\u001b[39mmedian\u001b[90m):    \u001b[39m0.00%\n",
       " Time  \u001b[90m(\u001b[39m\u001b[32m\u001b[1mmean\u001b[22m\u001b[39m ± \u001b[32mσ\u001b[39m\u001b[90m):   \u001b[39m\u001b[32m\u001b[1m63.028 ms\u001b[22m\u001b[39m ± \u001b[32m 2.966 ms\u001b[39m  \u001b[90m┊\u001b[39m GC \u001b[90m(\u001b[39mmean ± σ\u001b[90m):  \u001b[39m2.59% ± 3.72%\n",
       "\n",
       "  \u001b[39m \u001b[39m \u001b[39m \u001b[39m▅\u001b[39m▅\u001b[39m \u001b[39m▄\u001b[34m█\u001b[39m\u001b[39m \u001b[39m \u001b[39m \u001b[39m \u001b[39m \u001b[39m \u001b[39m \u001b[39m \u001b[39m \u001b[39m \u001b[39m \u001b[39m \u001b[32m \u001b[39m\u001b[39m \u001b[39m \u001b[39m \u001b[39m \u001b[39m \u001b[39m \u001b[39m \u001b[39m \u001b[39m \u001b[39m \u001b[39m \u001b[39m \u001b[39m \u001b[39m \u001b[39m \u001b[39m \u001b[39m \u001b[39m \u001b[39m \u001b[39m \u001b[39m \u001b[39m \u001b[39m \u001b[39m \u001b[39m \u001b[39m \u001b[39m \u001b[39m \u001b[39m \u001b[39m \u001b[39m \u001b[39m \u001b[39m \u001b[39m \u001b[39m \u001b[39m \u001b[39m \u001b[39m \u001b[39m \u001b[39m \n",
       "  \u001b[39m▅\u001b[39m█\u001b[39m▆\u001b[39m█\u001b[39m█\u001b[39m█\u001b[39m█\u001b[34m█\u001b[39m\u001b[39m▃\u001b[39m▅\u001b[39m▁\u001b[39m▅\u001b[39m▆\u001b[39m▁\u001b[39m▁\u001b[39m▁\u001b[39m▃\u001b[39m▁\u001b[39m▁\u001b[39m▃\u001b[32m▁\u001b[39m\u001b[39m▁\u001b[39m▁\u001b[39m▁\u001b[39m▁\u001b[39m▁\u001b[39m▁\u001b[39m▁\u001b[39m▁\u001b[39m▁\u001b[39m▁\u001b[39m▁\u001b[39m▁\u001b[39m▁\u001b[39m▁\u001b[39m▁\u001b[39m▁\u001b[39m▁\u001b[39m▁\u001b[39m▁\u001b[39m▁\u001b[39m▁\u001b[39m▁\u001b[39m▁\u001b[39m▁\u001b[39m▁\u001b[39m▃\u001b[39m▃\u001b[39m▅\u001b[39m▆\u001b[39m▆\u001b[39m█\u001b[39m█\u001b[39m▃\u001b[39m▅\u001b[39m▁\u001b[39m▁\u001b[39m▁\u001b[39m▅\u001b[39m \u001b[39m▁\n",
       "  60.3 ms\u001b[90m         Histogram: frequency by time\u001b[39m        68.4 ms \u001b[0m\u001b[1m<\u001b[22m\n",
       "\n",
       " Memory estimate\u001b[90m: \u001b[39m\u001b[33m30.52 MiB\u001b[39m, allocs estimate\u001b[90m: \u001b[39m\u001b[33m1999999\u001b[39m."
      ]
     },
     "execution_count": 104,
     "metadata": {},
     "output_type": "execute_result"
    }
   ],
   "source": [
    "@benchmark main1(shapes)"
   ]
  },
  {
   "cell_type": "code",
   "execution_count": 105,
   "id": "a38a033a-8caa-43a3-b965-0374cc6438c0",
   "metadata": {
    "execution": {
     "iopub.execute_input": "2024-04-20T22:07:40.908",
     "iopub.status.busy": "2024-04-20T22:07:40.908",
     "iopub.status.idle": "2024-04-20T22:07:41.007",
     "shell.execute_reply": "2024-04-20T22:07:41.007"
    }
   },
   "outputs": [],
   "source": [
    "shapes_by_type(::Type{T}, shapes) where T = [shape for shape in shapes if isa(shape, T)]\n",
    "\n",
    "square_arr = shapes_by_type(Square, shapes)\n",
    "rectangle_arr = shapes_by_type(Rectangle, shapes)\n",
    "triangle_arr = shapes_by_type(Triangle, shapes)\n",
    "circle_arr = shapes_by_type(Circle, shapes)\n",
    "\n",
    "nothing"
   ]
  },
  {
   "cell_type": "code",
   "execution_count": 106,
   "id": "66c963f9-61ed-4afb-aacd-2395788f3699",
   "metadata": {
    "execution": {
     "iopub.execute_input": "2024-04-20T22:07:41.008",
     "iopub.status.busy": "2024-04-20T22:07:41.007",
     "iopub.status.idle": "2024-04-20T22:07:41.009",
     "shell.execute_reply": "2024-04-20T22:07:41.009"
    }
   },
   "outputs": [
    {
     "data": {
      "text/plain": [
       "Vector{Square}\u001b[90m (alias for \u001b[39m\u001b[90mArray{Square, 1}\u001b[39m\u001b[90m)\u001b[39m"
      ]
     },
     "execution_count": 106,
     "metadata": {},
     "output_type": "execute_result"
    }
   ],
   "source": [
    "typeof(square_arr)"
   ]
  },
  {
   "cell_type": "code",
   "execution_count": 107,
   "id": "8822d87a-f1d2-488d-b754-9817f244e031",
   "metadata": {
    "execution": {
     "iopub.execute_input": "2024-04-20T22:07:41.009",
     "iopub.status.busy": "2024-04-20T22:07:41.009",
     "iopub.status.idle": "2024-04-20T22:07:41.010",
     "shell.execute_reply": "2024-04-20T22:07:41.010"
    }
   },
   "outputs": [
    {
     "data": {
      "text/plain": [
       "Vector{Rectangle}\u001b[90m (alias for \u001b[39m\u001b[90mArray{Rectangle, 1}\u001b[39m\u001b[90m)\u001b[39m"
      ]
     },
     "execution_count": 107,
     "metadata": {},
     "output_type": "execute_result"
    }
   ],
   "source": [
    "typeof(rectangle_arr)"
   ]
  },
  {
   "cell_type": "code",
   "execution_count": 108,
   "id": "df34eda2-b783-44d5-8113-dda335e5790f",
   "metadata": {
    "execution": {
     "iopub.execute_input": "2024-04-20T22:07:41.011",
     "iopub.status.busy": "2024-04-20T22:07:41.011",
     "iopub.status.idle": "2024-04-20T22:07:41.012",
     "shell.execute_reply": "2024-04-20T22:07:41.012"
    }
   },
   "outputs": [
    {
     "data": {
      "text/plain": [
       "Vector{Triangle}\u001b[90m (alias for \u001b[39m\u001b[90mArray{Triangle, 1}\u001b[39m\u001b[90m)\u001b[39m"
      ]
     },
     "execution_count": 108,
     "metadata": {},
     "output_type": "execute_result"
    }
   ],
   "source": [
    "typeof(triangle_arr)"
   ]
  },
  {
   "cell_type": "code",
   "execution_count": 109,
   "id": "866d6426-dc4d-4aa7-9847-7bece7790dd3",
   "metadata": {
    "execution": {
     "iopub.execute_input": "2024-04-20T22:07:41.012",
     "iopub.status.busy": "2024-04-20T22:07:41.012",
     "iopub.status.idle": "2024-04-20T22:07:41.013",
     "shell.execute_reply": "2024-04-20T22:07:41.013"
    }
   },
   "outputs": [
    {
     "data": {
      "text/plain": [
       "Vector{Circle}\u001b[90m (alias for \u001b[39m\u001b[90mArray{Circle, 1}\u001b[39m\u001b[90m)\u001b[39m"
      ]
     },
     "execution_count": 109,
     "metadata": {},
     "output_type": "execute_result"
    }
   ],
   "source": [
    "typeof(circle_arr)"
   ]
  },
  {
   "cell_type": "code",
   "execution_count": 110,
   "id": "663e79c1-c9b6-4685-b8c7-1c5599351040",
   "metadata": {
    "execution": {
     "iopub.execute_input": "2024-04-20T22:07:41.013",
     "iopub.status.busy": "2024-04-20T22:07:41.013",
     "iopub.status.idle": "2024-04-20T22:07:41.061",
     "shell.execute_reply": "2024-04-20T22:07:41.060"
    }
   },
   "outputs": [],
   "source": [
    "filter_shapes_by_type(::Type{T}, shapes) where T = filter(s -> isa(s, T), shapes)\n",
    "\n",
    "shape_arr1 = filter_shapes_by_type(Square, shapes)\n",
    "shape_arr2 = filter_shapes_by_type(Rectangle, shapes)\n",
    "shape_arr3 = filter_shapes_by_type(Triangle, shapes)\n",
    "shape_arr4 = filter_shapes_by_type(Circle, shapes)\n",
    "\n",
    "nothing"
   ]
  },
  {
   "cell_type": "code",
   "execution_count": 111,
   "id": "07b3b675-e048-4508-8d04-9c5c31f74334",
   "metadata": {
    "execution": {
     "iopub.execute_input": "2024-04-20T22:07:41.061",
     "iopub.status.busy": "2024-04-20T22:07:41.061",
     "iopub.status.idle": "2024-04-20T22:07:41.062",
     "shell.execute_reply": "2024-04-20T22:07:41.062"
    }
   },
   "outputs": [
    {
     "data": {
      "text/plain": [
       "Vector{Shape}\u001b[90m (alias for \u001b[39m\u001b[90mArray{Shape, 1}\u001b[39m\u001b[90m)\u001b[39m"
      ]
     },
     "execution_count": 111,
     "metadata": {},
     "output_type": "execute_result"
    }
   ],
   "source": [
    "typeof(shape_arr1)"
   ]
  },
  {
   "cell_type": "code",
   "execution_count": 112,
   "id": "88d400ab-fd23-4fef-93ba-54c1ee4119c9",
   "metadata": {
    "execution": {
     "iopub.execute_input": "2024-04-20T22:07:41.062",
     "iopub.status.busy": "2024-04-20T22:07:41.062",
     "iopub.status.idle": "2024-04-20T22:07:41.064",
     "shell.execute_reply": "2024-04-20T22:07:41.063"
    }
   },
   "outputs": [
    {
     "data": {
      "text/plain": [
       "Vector{Shape}\u001b[90m (alias for \u001b[39m\u001b[90mArray{Shape, 1}\u001b[39m\u001b[90m)\u001b[39m"
      ]
     },
     "execution_count": 112,
     "metadata": {},
     "output_type": "execute_result"
    }
   ],
   "source": [
    "typeof(shape_arr2)"
   ]
  },
  {
   "cell_type": "code",
   "execution_count": 113,
   "id": "a251571a-142a-472c-81ce-95f90c4235c4",
   "metadata": {
    "execution": {
     "iopub.execute_input": "2024-04-20T22:07:41.064",
     "iopub.status.busy": "2024-04-20T22:07:41.064",
     "iopub.status.idle": "2024-04-20T22:07:41.065",
     "shell.execute_reply": "2024-04-20T22:07:41.065"
    }
   },
   "outputs": [
    {
     "data": {
      "text/plain": [
       "Vector{Shape}\u001b[90m (alias for \u001b[39m\u001b[90mArray{Shape, 1}\u001b[39m\u001b[90m)\u001b[39m"
      ]
     },
     "execution_count": 113,
     "metadata": {},
     "output_type": "execute_result"
    }
   ],
   "source": [
    "typeof(shape_arr3)"
   ]
  },
  {
   "cell_type": "code",
   "execution_count": 114,
   "id": "0ebb4f42-61c6-49be-8178-98ad4da528e9",
   "metadata": {
    "execution": {
     "iopub.execute_input": "2024-04-20T22:07:41.065",
     "iopub.status.busy": "2024-04-20T22:07:41.065",
     "iopub.status.idle": "2024-04-20T22:07:41.066",
     "shell.execute_reply": "2024-04-20T22:07:41.066"
    }
   },
   "outputs": [
    {
     "data": {
      "text/plain": [
       "Vector{Shape}\u001b[90m (alias for \u001b[39m\u001b[90mArray{Shape, 1}\u001b[39m\u001b[90m)\u001b[39m"
      ]
     },
     "execution_count": 114,
     "metadata": {},
     "output_type": "execute_result"
    }
   ],
   "source": [
    "typeof(shape_arr4)"
   ]
  },
  {
   "cell_type": "code",
   "execution_count": 115,
   "id": "88bed1fb-5da1-4c41-97cf-328baa5c8a52",
   "metadata": {
    "execution": {
     "iopub.execute_input": "2024-04-20T22:07:41.067",
     "iopub.status.busy": "2024-04-20T22:07:41.067",
     "iopub.status.idle": "2024-04-20T22:07:41.275",
     "shell.execute_reply": "2024-04-20T22:07:41.275"
    }
   },
   "outputs": [],
   "source": [
    "sorted_shapes_shape = vcat(square_arr, rectangle_arr, triangle_arr, circle_arr);\n",
    "sorted_shapes_any = Any[s for s in sorted_shapes_shape];"
   ]
  },
  {
   "cell_type": "code",
   "execution_count": 116,
   "id": "79d993a9-556c-45d7-9010-3c0313b0b478",
   "metadata": {
    "execution": {
     "iopub.execute_input": "2024-04-20T22:07:41.276",
     "iopub.status.busy": "2024-04-20T22:07:41.276",
     "iopub.status.idle": "2024-04-20T22:07:41.277",
     "shell.execute_reply": "2024-04-20T22:07:41.277"
    }
   },
   "outputs": [
    {
     "data": {
      "text/plain": [
       "Vector{Shape}\u001b[90m (alias for \u001b[39m\u001b[90mArray{Shape, 1}\u001b[39m\u001b[90m)\u001b[39m"
      ]
     },
     "execution_count": 116,
     "metadata": {},
     "output_type": "execute_result"
    }
   ],
   "source": [
    "typeof(sorted_shapes_shape)"
   ]
  },
  {
   "cell_type": "code",
   "execution_count": 117,
   "id": "6608a0dd-158d-45c0-9cf0-e15203e81afb",
   "metadata": {
    "execution": {
     "iopub.execute_input": "2024-04-20T22:07:41.277",
     "iopub.status.busy": "2024-04-20T22:07:41.277",
     "iopub.status.idle": "2024-04-20T22:07:52.036",
     "shell.execute_reply": "2024-04-20T22:07:52.036"
    }
   },
   "outputs": [
    {
     "data": {
      "text/plain": [
       "BenchmarkTools.Trial: 91 samples with 1 evaluation.\n",
       " Range \u001b[90m(\u001b[39m\u001b[36m\u001b[1mmin\u001b[22m\u001b[39m … \u001b[35mmax\u001b[39m\u001b[90m):  \u001b[39m\u001b[36m\u001b[1m52.558 ms\u001b[22m\u001b[39m … \u001b[35m61.063 ms\u001b[39m  \u001b[90m┊\u001b[39m GC \u001b[90m(\u001b[39mmin … max\u001b[90m): \u001b[39m0.00% … 8.98%\n",
       " Time  \u001b[90m(\u001b[39m\u001b[34m\u001b[1mmedian\u001b[22m\u001b[39m\u001b[90m):     \u001b[39m\u001b[34m\u001b[1m53.446 ms              \u001b[22m\u001b[39m\u001b[90m┊\u001b[39m GC \u001b[90m(\u001b[39mmedian\u001b[90m):    \u001b[39m0.00%\n",
       " Time  \u001b[90m(\u001b[39m\u001b[32m\u001b[1mmean\u001b[22m\u001b[39m ± \u001b[32mσ\u001b[39m\u001b[90m):   \u001b[39m\u001b[32m\u001b[1m55.196 ms\u001b[22m\u001b[39m ± \u001b[32m 2.960 ms\u001b[39m  \u001b[90m┊\u001b[39m GC \u001b[90m(\u001b[39mmean ± σ\u001b[90m):  \u001b[39m3.14% ± 4.39%\n",
       "\n",
       "  \u001b[39m \u001b[39m▁\u001b[39m█\u001b[39m \u001b[39m \u001b[39m▁\u001b[34m \u001b[39m\u001b[39m \u001b[39m \u001b[39m \u001b[39m \u001b[39m \u001b[39m \u001b[39m \u001b[39m \u001b[39m \u001b[39m \u001b[39m \u001b[39m \u001b[32m \u001b[39m\u001b[39m \u001b[39m \u001b[39m \u001b[39m \u001b[39m \u001b[39m \u001b[39m \u001b[39m \u001b[39m \u001b[39m \u001b[39m \u001b[39m \u001b[39m \u001b[39m \u001b[39m \u001b[39m \u001b[39m \u001b[39m \u001b[39m \u001b[39m \u001b[39m \u001b[39m \u001b[39m \u001b[39m \u001b[39m \u001b[39m \u001b[39m \u001b[39m \u001b[39m \u001b[39m \u001b[39m \u001b[39m \u001b[39m \u001b[39m \u001b[39m \u001b[39m \u001b[39m \u001b[39m \u001b[39m \u001b[39m \u001b[39m \n",
       "  \u001b[39m▅\u001b[39m█\u001b[39m█\u001b[39m█\u001b[39m█\u001b[39m█\u001b[34m▇\u001b[39m\u001b[39m▆\u001b[39m▃\u001b[39m▆\u001b[39m▃\u001b[39m▄\u001b[39m▅\u001b[39m▁\u001b[39m▁\u001b[39m▁\u001b[39m▁\u001b[39m▁\u001b[39m▁\u001b[32m▁\u001b[39m\u001b[39m▁\u001b[39m▁\u001b[39m▁\u001b[39m▁\u001b[39m▁\u001b[39m▁\u001b[39m▁\u001b[39m▁\u001b[39m▁\u001b[39m▁\u001b[39m▁\u001b[39m▁\u001b[39m▁\u001b[39m▁\u001b[39m▁\u001b[39m▁\u001b[39m▁\u001b[39m▁\u001b[39m▁\u001b[39m▁\u001b[39m▁\u001b[39m▁\u001b[39m▁\u001b[39m▁\u001b[39m▅\u001b[39m▃\u001b[39m▇\u001b[39m▅\u001b[39m▃\u001b[39m▇\u001b[39m▅\u001b[39m▃\u001b[39m▄\u001b[39m▃\u001b[39m▁\u001b[39m▁\u001b[39m▁\u001b[39m▃\u001b[39m▃\u001b[39m \u001b[39m▁\n",
       "  52.6 ms\u001b[90m         Histogram: frequency by time\u001b[39m        60.9 ms \u001b[0m\u001b[1m<\u001b[22m\n",
       "\n",
       " Memory estimate\u001b[90m: \u001b[39m\u001b[33m30.52 MiB\u001b[39m, allocs estimate\u001b[90m: \u001b[39m\u001b[33m1999999\u001b[39m."
      ]
     },
     "execution_count": 117,
     "metadata": {},
     "output_type": "execute_result"
    }
   ],
   "source": [
    "@benchmark main1(sorted_shapes_shape)"
   ]
  },
  {
   "cell_type": "code",
   "execution_count": 118,
   "id": "2f22474c-0bfe-4c71-baa5-a0cfd165158a",
   "metadata": {
    "execution": {
     "iopub.execute_input": "2024-04-20T22:07:52.036",
     "iopub.status.busy": "2024-04-20T22:07:52.036",
     "iopub.status.idle": "2024-04-20T22:07:52.037",
     "shell.execute_reply": "2024-04-20T22:07:52.037"
    }
   },
   "outputs": [
    {
     "data": {
      "text/plain": [
       "Vector{Any}\u001b[90m (alias for \u001b[39m\u001b[90mArray{Any, 1}\u001b[39m\u001b[90m)\u001b[39m"
      ]
     },
     "execution_count": 118,
     "metadata": {},
     "output_type": "execute_result"
    }
   ],
   "source": [
    "typeof(sorted_shapes_any)"
   ]
  },
  {
   "cell_type": "code",
   "execution_count": 119,
   "id": "87d39970-fb7e-4951-a2ba-e2564c72f183",
   "metadata": {
    "execution": {
     "iopub.execute_input": "2024-04-20T22:07:52.037",
     "iopub.status.busy": "2024-04-20T22:07:52.037",
     "iopub.status.idle": "2024-04-20T22:08:02.878",
     "shell.execute_reply": "2024-04-20T22:08:02.878"
    }
   },
   "outputs": [
    {
     "data": {
      "text/plain": [
       "BenchmarkTools.Trial: 90 samples with 1 evaluation.\n",
       " Range \u001b[90m(\u001b[39m\u001b[36m\u001b[1mmin\u001b[22m\u001b[39m … \u001b[35mmax\u001b[39m\u001b[90m):  \u001b[39m\u001b[36m\u001b[1m53.054 ms\u001b[22m\u001b[39m … \u001b[35m61.621 ms\u001b[39m  \u001b[90m┊\u001b[39m GC \u001b[90m(\u001b[39mmin … max\u001b[90m): \u001b[39m0.00% … 9.07%\n",
       " Time  \u001b[90m(\u001b[39m\u001b[34m\u001b[1mmedian\u001b[22m\u001b[39m\u001b[90m):     \u001b[39m\u001b[34m\u001b[1m54.299 ms              \u001b[22m\u001b[39m\u001b[90m┊\u001b[39m GC \u001b[90m(\u001b[39mmedian\u001b[90m):    \u001b[39m0.00%\n",
       " Time  \u001b[90m(\u001b[39m\u001b[32m\u001b[1mmean\u001b[22m\u001b[39m ± \u001b[32mσ\u001b[39m\u001b[90m):   \u001b[39m\u001b[32m\u001b[1m55.898 ms\u001b[22m\u001b[39m ± \u001b[32m 3.042 ms\u001b[39m  \u001b[90m┊\u001b[39m GC \u001b[90m(\u001b[39mmean ± σ\u001b[90m):  \u001b[39m3.07% ± 4.37%\n",
       "\n",
       "  \u001b[39m▁\u001b[39m▄\u001b[39m█\u001b[39m█\u001b[39m▄\u001b[39m▁\u001b[39m▃\u001b[39m \u001b[34m \u001b[39m\u001b[39m \u001b[39m▁\u001b[39m \u001b[39m \u001b[39m \u001b[39m \u001b[39m \u001b[39m \u001b[39m \u001b[39m \u001b[39m \u001b[39m \u001b[32m \u001b[39m\u001b[39m \u001b[39m \u001b[39m \u001b[39m \u001b[39m \u001b[39m \u001b[39m \u001b[39m \u001b[39m \u001b[39m \u001b[39m \u001b[39m \u001b[39m \u001b[39m \u001b[39m \u001b[39m \u001b[39m \u001b[39m \u001b[39m \u001b[39m \u001b[39m \u001b[39m \u001b[39m \u001b[39m \u001b[39m \u001b[39m \u001b[39m \u001b[39m \u001b[39m \u001b[39m \u001b[39m \u001b[39m \u001b[39m \u001b[39m▆\u001b[39m \u001b[39m \u001b[39m▁\u001b[39m \u001b[39m \n",
       "  \u001b[39m█\u001b[39m█\u001b[39m█\u001b[39m█\u001b[39m█\u001b[39m█\u001b[39m█\u001b[39m▇\u001b[34m▄\u001b[39m\u001b[39m▄\u001b[39m█\u001b[39m▆\u001b[39m▇\u001b[39m▆\u001b[39m▄\u001b[39m▁\u001b[39m▄\u001b[39m▆\u001b[39m▄\u001b[39m▄\u001b[39m▁\u001b[32m▁\u001b[39m\u001b[39m▁\u001b[39m▁\u001b[39m▁\u001b[39m▁\u001b[39m▁\u001b[39m▁\u001b[39m▁\u001b[39m▁\u001b[39m▁\u001b[39m▁\u001b[39m▁\u001b[39m▁\u001b[39m▁\u001b[39m▁\u001b[39m▁\u001b[39m▁\u001b[39m▁\u001b[39m▁\u001b[39m▁\u001b[39m▄\u001b[39m▁\u001b[39m▁\u001b[39m▁\u001b[39m▄\u001b[39m▄\u001b[39m▄\u001b[39m▆\u001b[39m▆\u001b[39m▄\u001b[39m▄\u001b[39m▄\u001b[39m▆\u001b[39m▁\u001b[39m█\u001b[39m▁\u001b[39m▆\u001b[39m█\u001b[39m \u001b[39m▁\n",
       "  53.1 ms\u001b[90m         Histogram: frequency by time\u001b[39m        61.2 ms \u001b[0m\u001b[1m<\u001b[22m\n",
       "\n",
       " Memory estimate\u001b[90m: \u001b[39m\u001b[33m30.52 MiB\u001b[39m, allocs estimate\u001b[90m: \u001b[39m\u001b[33m1999999\u001b[39m."
      ]
     },
     "execution_count": 119,
     "metadata": {},
     "output_type": "execute_result"
    }
   ],
   "source": [
    "@benchmark main1(sorted_shapes_any)"
   ]
  },
  {
   "cell_type": "code",
   "execution_count": null,
   "id": "ec4b210e-10fb-48ac-a670-ccddb10a13b5",
   "metadata": {},
   "outputs": [],
   "source": []
  },
  {
   "cell_type": "code",
   "execution_count": 120,
   "id": "852e4dc2-fb51-4727-9f3b-1330c3972631",
   "metadata": {
    "execution": {
     "iopub.execute_input": "2024-04-20T22:08:02.879",
     "iopub.status.busy": "2024-04-20T22:08:02.878",
     "iopub.status.idle": "2024-04-20T22:08:02.879",
     "shell.execute_reply": "2024-04-20T22:08:02.879"
    }
   },
   "outputs": [
    {
     "data": {
      "text/plain": [
       "main2 (generic function with 1 method)"
      ]
     },
     "execution_count": 120,
     "metadata": {},
     "output_type": "execute_result"
    }
   ],
   "source": [
    "main2(arrs...) = sum(main1, arrs)"
   ]
  },
  {
   "cell_type": "code",
   "execution_count": 121,
   "id": "8d9fb3ea-498b-4b24-8ee7-f9300a0071c4",
   "metadata": {
    "execution": {
     "iopub.execute_input": "2024-04-20T22:08:02.879",
     "iopub.status.busy": "2024-04-20T22:08:02.879",
     "iopub.status.idle": "2024-04-20T22:08:02.963",
     "shell.execute_reply": "2024-04-20T22:08:02.963"
    }
   },
   "outputs": [
    {
     "name": "stdout",
     "output_type": "stream",
     "text": [
      "  0.072885 seconds (2.01 M allocations: 31.174 MiB, 8.57% gc time, 15.24% compilation time: 79% of which was recompilation)\n"
     ]
    }
   ],
   "source": [
    "@time main2(shape_arr1, shape_arr2, shape_arr3, shape_arr4);"
   ]
  },
  {
   "cell_type": "code",
   "execution_count": 122,
   "id": "5c46b62f-f3ee-420f-b925-1d32a6b79fdf",
   "metadata": {
    "execution": {
     "iopub.execute_input": "2024-04-20T22:08:02.963",
     "iopub.status.busy": "2024-04-20T22:08:02.963",
     "iopub.status.idle": "2024-04-20T22:08:13.708",
     "shell.execute_reply": "2024-04-20T22:08:13.707"
    }
   },
   "outputs": [
    {
     "data": {
      "text/plain": [
       "BenchmarkTools.Trial: 91 samples with 1 evaluation.\n",
       " Range \u001b[90m(\u001b[39m\u001b[36m\u001b[1mmin\u001b[22m\u001b[39m … \u001b[35mmax\u001b[39m\u001b[90m):  \u001b[39m\u001b[36m\u001b[1m52.684 ms\u001b[22m\u001b[39m … \u001b[35m60.947 ms\u001b[39m  \u001b[90m┊\u001b[39m GC \u001b[90m(\u001b[39mmin … max\u001b[90m): \u001b[39m0.00% … 9.20%\n",
       " Time  \u001b[90m(\u001b[39m\u001b[34m\u001b[1mmedian\u001b[22m\u001b[39m\u001b[90m):     \u001b[39m\u001b[34m\u001b[1m53.460 ms              \u001b[22m\u001b[39m\u001b[90m┊\u001b[39m GC \u001b[90m(\u001b[39mmedian\u001b[90m):    \u001b[39m0.00%\n",
       " Time  \u001b[90m(\u001b[39m\u001b[32m\u001b[1mmean\u001b[22m\u001b[39m ± \u001b[32mσ\u001b[39m\u001b[90m):   \u001b[39m\u001b[32m\u001b[1m55.288 ms\u001b[22m\u001b[39m ± \u001b[32m 2.943 ms\u001b[39m  \u001b[90m┊\u001b[39m GC \u001b[90m(\u001b[39mmean ± σ\u001b[90m):  \u001b[39m3.14% ± 4.39%\n",
       "\n",
       "  \u001b[39m \u001b[39m \u001b[39m▃\u001b[39m▇\u001b[39m▇\u001b[39m█\u001b[34m \u001b[39m\u001b[39m \u001b[39m \u001b[39m \u001b[39m \u001b[39m \u001b[39m \u001b[39m \u001b[39m \u001b[39m \u001b[39m \u001b[39m \u001b[39m \u001b[39m \u001b[39m \u001b[32m \u001b[39m\u001b[39m \u001b[39m \u001b[39m \u001b[39m \u001b[39m \u001b[39m \u001b[39m \u001b[39m \u001b[39m \u001b[39m \u001b[39m \u001b[39m \u001b[39m \u001b[39m \u001b[39m \u001b[39m \u001b[39m \u001b[39m \u001b[39m \u001b[39m \u001b[39m \u001b[39m \u001b[39m \u001b[39m \u001b[39m \u001b[39m \u001b[39m \u001b[39m \u001b[39m \u001b[39m \u001b[39m \u001b[39m \u001b[39m \u001b[39m \u001b[39m \u001b[39m▃\u001b[39m \u001b[39m \u001b[39m \n",
       "  \u001b[39m▅\u001b[39m█\u001b[39m█\u001b[39m█\u001b[39m█\u001b[39m█\u001b[34m▆\u001b[39m\u001b[39m▇\u001b[39m▅\u001b[39m▆\u001b[39m▃\u001b[39m▅\u001b[39m▁\u001b[39m▅\u001b[39m▁\u001b[39m▃\u001b[39m▁\u001b[39m▁\u001b[39m▁\u001b[39m▁\u001b[39m▁\u001b[32m▁\u001b[39m\u001b[39m▁\u001b[39m▁\u001b[39m▁\u001b[39m▁\u001b[39m▁\u001b[39m▁\u001b[39m▁\u001b[39m▁\u001b[39m▁\u001b[39m▁\u001b[39m▁\u001b[39m▁\u001b[39m▁\u001b[39m▁\u001b[39m▁\u001b[39m▁\u001b[39m▁\u001b[39m▁\u001b[39m▁\u001b[39m▁\u001b[39m▁\u001b[39m▁\u001b[39m▁\u001b[39m▁\u001b[39m▁\u001b[39m▁\u001b[39m▁\u001b[39m▃\u001b[39m▃\u001b[39m▅\u001b[39m▅\u001b[39m▃\u001b[39m▅\u001b[39m▇\u001b[39m▆\u001b[39m█\u001b[39m▇\u001b[39m \u001b[39m▁\n",
       "  52.7 ms\u001b[90m         Histogram: frequency by time\u001b[39m          60 ms \u001b[0m\u001b[1m<\u001b[22m\n",
       "\n",
       " Memory estimate\u001b[90m: \u001b[39m\u001b[33m30.52 MiB\u001b[39m, allocs estimate\u001b[90m: \u001b[39m\u001b[33m2000005\u001b[39m."
      ]
     },
     "execution_count": 122,
     "metadata": {},
     "output_type": "execute_result"
    }
   ],
   "source": [
    "@benchmark main2(shape_arr1, shape_arr2, shape_arr3, shape_arr4)"
   ]
  },
  {
   "cell_type": "code",
   "execution_count": 123,
   "id": "d99f75d3-9982-481a-a616-6cd5f2642c74",
   "metadata": {
    "execution": {
     "iopub.execute_input": "2024-04-20T22:08:13.708",
     "iopub.status.busy": "2024-04-20T22:08:13.708",
     "iopub.status.idle": "2024-04-20T22:08:13.757",
     "shell.execute_reply": "2024-04-20T22:08:13.756"
    }
   },
   "outputs": [
    {
     "name": "stdout",
     "output_type": "stream",
     "text": [
      "\u001b[90m;  @ In[120]:1 within `main2`\u001b[39m\n",
      "\u001b[95mdefine\u001b[39m \u001b[95mnonnull\u001b[39m \u001b[33m{\u001b[39m\u001b[33m}\u001b[39m\u001b[0m* \u001b[93m@japi1_main2_3639\u001b[39m\u001b[33m(\u001b[39m\u001b[33m{\u001b[39m\u001b[33m}\u001b[39m\u001b[0m* \u001b[0m%function\u001b[0m, \u001b[33m{\u001b[39m\u001b[33m}\u001b[39m\u001b[0m** \u001b[95mnoalias\u001b[39m \u001b[95mnocapture\u001b[39m \u001b[95mnoundef\u001b[39m \u001b[95mreadonly\u001b[39m \u001b[0m%args\u001b[0m, \u001b[36mi32\u001b[39m \u001b[0m%nargs\u001b[33m)\u001b[39m \u001b[0m#0 \u001b[33m{\u001b[39m\n",
      "\u001b[91mtop:\u001b[39m\n",
      "  \u001b[0m%0 \u001b[0m= \u001b[96m\u001b[1malloca\u001b[22m\u001b[39m \u001b[33m[\u001b[39m\u001b[33m6\u001b[39m \u001b[0mx \u001b[33m{\u001b[39m\u001b[33m}\u001b[39m\u001b[0m*\u001b[33m]\u001b[39m\u001b[0m, \u001b[95malign\u001b[39m \u001b[33m8\u001b[39m\n",
      "  \u001b[0m%stackargs \u001b[0m= \u001b[96m\u001b[1malloca\u001b[22m\u001b[39m \u001b[33m{\u001b[39m\u001b[33m}\u001b[39m\u001b[0m**\u001b[0m, \u001b[95malign\u001b[39m \u001b[33m8\u001b[39m\n",
      "  \u001b[0m%.sub \u001b[0m= \u001b[96m\u001b[1mgetelementptr\u001b[22m\u001b[39m \u001b[95minbounds\u001b[39m \u001b[33m[\u001b[39m\u001b[33m6\u001b[39m \u001b[0mx \u001b[33m{\u001b[39m\u001b[33m}\u001b[39m\u001b[0m*\u001b[33m]\u001b[39m\u001b[0m, \u001b[33m[\u001b[39m\u001b[33m6\u001b[39m \u001b[0mx \u001b[33m{\u001b[39m\u001b[33m}\u001b[39m\u001b[0m*\u001b[33m]\u001b[39m\u001b[0m* \u001b[0m%0\u001b[0m, \u001b[36mi64\u001b[39m \u001b[33m0\u001b[39m\u001b[0m, \u001b[36mi64\u001b[39m \u001b[33m0\u001b[39m\n",
      "  \u001b[96m\u001b[1mstore\u001b[22m\u001b[39m \u001b[95mvolatile\u001b[39m \u001b[33m{\u001b[39m\u001b[33m}\u001b[39m\u001b[0m** \u001b[0m%args\u001b[0m, \u001b[33m{\u001b[39m\u001b[33m}\u001b[39m\u001b[0m*** \u001b[0m%stackargs\u001b[0m, \u001b[95malign\u001b[39m \u001b[33m8\u001b[39m\n",
      "\u001b[90m; ┌ @ reduce.jl:535 within `sum`\u001b[39m\n",
      "\u001b[90m; │┌ @ reduce.jl:535 within `#sum#305`\u001b[39m\n",
      "\u001b[90m; ││┌ @ reduce.jl:307 within `mapreduce`\u001b[39m\n",
      "\u001b[90m; │││┌ @ reduce.jl:307 within `#mapreduce#302`\u001b[39m\n",
      "\u001b[90m; ││││┌ @ reduce.jl:175 within `mapfoldl`\u001b[39m\n",
      "\u001b[90m; │││││┌ @ reduce.jl:175 within `#mapfoldl#298`\u001b[39m\n",
      "\u001b[90m; ││││││┌ @ reduce.jl:44 within `mapfoldl_impl`\u001b[39m\n",
      "\u001b[90m; │││││││┌ @ reduce.jl:48 within `foldl_impl`\u001b[39m\n",
      "\u001b[90m; ││││││││┌ @ reduce.jl:68 within `_foldl_impl`\u001b[39m\n",
      "           \u001b[0m%boundscheck.not \u001b[0m= \u001b[96m\u001b[1micmp\u001b[22m\u001b[39m \u001b[96m\u001b[1meq\u001b[22m\u001b[39m \u001b[36mi32\u001b[39m \u001b[0m%nargs\u001b[0m, \u001b[33m0\u001b[39m\n",
      "           \u001b[96m\u001b[1mbr\u001b[22m\u001b[39m \u001b[36mi1\u001b[39m \u001b[0m%boundscheck.not\u001b[0m, \u001b[36mlabel\u001b[39m \u001b[91m%fail\u001b[39m\u001b[0m, \u001b[36mlabel\u001b[39m \u001b[91m%pass\u001b[39m\n",
      "\n",
      "\u001b[91mL8:\u001b[39m                                               \u001b[90m; preds = %pass11\u001b[39m\n",
      "\u001b[90m; ││││││││└\u001b[39m\n",
      "\u001b[90m; ││││││││ @ reduce.jl:49 within `foldl_impl`\u001b[39m\n",
      "\u001b[90m; ││││││││┌ @ reduce.jl:383 within `reduce_empty_iter` @ reduce.jl:384\u001b[39m\n",
      "           \u001b[96m\u001b[1mcall\u001b[22m\u001b[39m \u001b[36mvoid\u001b[39m \u001b[93m@j_reduce_empty_3641\u001b[39m\u001b[33m(\u001b[39m\u001b[33m)\u001b[39m \u001b[0m#1\n",
      "           \u001b[96m\u001b[1munreachable\u001b[22m\u001b[39m\n",
      "\n",
      "\u001b[91mL22:\u001b[39m                                              \u001b[90m; preds = %pass11\u001b[39m\n",
      "\u001b[90m; │└└└└└└└└\u001b[39m\n",
      "   \u001b[96m\u001b[1mret\u001b[22m\u001b[39m \u001b[33m{\u001b[39m\u001b[33m}\u001b[39m\u001b[0m* \u001b[0m%10\n",
      "\n",
      "\u001b[91mfail:\u001b[39m                                             \u001b[90m; preds = %top\u001b[39m\n",
      "\u001b[90m; │┌ @ reduce.jl:535 within `#sum#305`\u001b[39m\n",
      "\u001b[90m; ││┌ @ reduce.jl:307 within `mapreduce`\u001b[39m\n",
      "\u001b[90m; │││┌ @ reduce.jl:307 within `#mapreduce#302`\u001b[39m\n",
      "\u001b[90m; ││││┌ @ reduce.jl:175 within `mapfoldl`\u001b[39m\n",
      "\u001b[90m; │││││┌ @ reduce.jl:175 within `#mapfoldl#298`\u001b[39m\n",
      "\u001b[90m; ││││││┌ @ reduce.jl:44 within `mapfoldl_impl`\u001b[39m\n",
      "\u001b[90m; │││││││┌ @ reduce.jl:48 within `foldl_impl`\u001b[39m\n",
      "\u001b[90m; ││││││││┌ @ reduce.jl:68 within `_foldl_impl`\u001b[39m\n",
      "           \u001b[96m\u001b[1mcall\u001b[22m\u001b[39m \u001b[36mvoid\u001b[39m \u001b[93m@ijl_bounds_error_tuple_int\u001b[39m\u001b[33m(\u001b[39m\u001b[33m{\u001b[39m\u001b[33m}\u001b[39m\u001b[0m** \u001b[0m%args\u001b[0m, \u001b[36mi64\u001b[39m \u001b[33m0\u001b[39m\u001b[0m, \u001b[36mi64\u001b[39m \u001b[33m1\u001b[39m\u001b[33m)\u001b[39m\n",
      "           \u001b[96m\u001b[1munreachable\u001b[22m\u001b[39m\n",
      "\n",
      "\u001b[91mpass:\u001b[39m                                             \u001b[90m; preds = %top\u001b[39m\n",
      "           \u001b[0m%getfield \u001b[0m= \u001b[96m\u001b[1mload\u001b[22m\u001b[39m \u001b[33m{\u001b[39m\u001b[33m}\u001b[39m\u001b[0m*\u001b[0m, \u001b[33m{\u001b[39m\u001b[33m}\u001b[39m\u001b[0m** \u001b[0m%args\u001b[0m, \u001b[95malign\u001b[39m \u001b[33m8\u001b[39m\n",
      "           \u001b[0m%boundscheck1.not \u001b[0m= \u001b[96m\u001b[1micmp\u001b[22m\u001b[39m \u001b[96m\u001b[1meq\u001b[22m\u001b[39m \u001b[36mi32\u001b[39m \u001b[0m%nargs\u001b[0m, \u001b[33m1\u001b[39m\n",
      "           \u001b[96m\u001b[1mbr\u001b[22m\u001b[39m \u001b[36mi1\u001b[39m \u001b[0m%boundscheck1.not\u001b[0m, \u001b[36mlabel\u001b[39m \u001b[91m%fail2\u001b[39m\u001b[0m, \u001b[36mlabel\u001b[39m \u001b[91m%pass3\u001b[39m\n",
      "\n",
      "\u001b[91mfail2:\u001b[39m                                            \u001b[90m; preds = %pass\u001b[39m\n",
      "           \u001b[96m\u001b[1mcall\u001b[22m\u001b[39m \u001b[36mvoid\u001b[39m \u001b[93m@ijl_bounds_error_tuple_int\u001b[39m\u001b[33m(\u001b[39m\u001b[33m{\u001b[39m\u001b[33m}\u001b[39m\u001b[0m** \u001b[95mnonnull\u001b[39m \u001b[0m%args\u001b[0m, \u001b[36mi64\u001b[39m \u001b[33m1\u001b[39m\u001b[0m, \u001b[36mi64\u001b[39m \u001b[33m2\u001b[39m\u001b[33m)\u001b[39m\n",
      "           \u001b[96m\u001b[1munreachable\u001b[22m\u001b[39m\n",
      "\n",
      "\u001b[91mpass3:\u001b[39m                                            \u001b[90m; preds = %pass\u001b[39m\n",
      "           \u001b[0m%1 \u001b[0m= \u001b[96m\u001b[1mgetelementptr\u001b[22m\u001b[39m \u001b[95minbounds\u001b[39m \u001b[33m{\u001b[39m\u001b[33m}\u001b[39m\u001b[0m*\u001b[0m, \u001b[33m{\u001b[39m\u001b[33m}\u001b[39m\u001b[0m** \u001b[0m%args\u001b[0m, \u001b[36mi64\u001b[39m \u001b[33m1\u001b[39m\n",
      "           \u001b[0m%getfield4 \u001b[0m= \u001b[96m\u001b[1mload\u001b[22m\u001b[39m \u001b[33m{\u001b[39m\u001b[33m}\u001b[39m\u001b[0m*\u001b[0m, \u001b[33m{\u001b[39m\u001b[33m}\u001b[39m\u001b[0m** \u001b[0m%1\u001b[0m, \u001b[95malign\u001b[39m \u001b[33m8\u001b[39m\n",
      "           \u001b[0m%boundscheck5 \u001b[0m= \u001b[96m\u001b[1micmp\u001b[22m\u001b[39m \u001b[96m\u001b[1mugt\u001b[22m\u001b[39m \u001b[36mi32\u001b[39m \u001b[0m%nargs\u001b[0m, \u001b[33m2\u001b[39m\n",
      "           \u001b[96m\u001b[1mbr\u001b[22m\u001b[39m \u001b[36mi1\u001b[39m \u001b[0m%boundscheck5\u001b[0m, \u001b[36mlabel\u001b[39m \u001b[91m%pass7\u001b[39m\u001b[0m, \u001b[36mlabel\u001b[39m \u001b[91m%fail6\u001b[39m\n",
      "\n",
      "\u001b[91mfail6:\u001b[39m                                            \u001b[90m; preds = %pass3\u001b[39m\n",
      "           \u001b[0m%2 \u001b[0m= \u001b[96m\u001b[1mzext\u001b[22m\u001b[39m \u001b[36mi32\u001b[39m \u001b[0m%nargs \u001b[95mto\u001b[39m \u001b[36mi64\u001b[39m\n",
      "           \u001b[96m\u001b[1mcall\u001b[22m\u001b[39m \u001b[36mvoid\u001b[39m \u001b[93m@ijl_bounds_error_tuple_int\u001b[39m\u001b[33m(\u001b[39m\u001b[33m{\u001b[39m\u001b[33m}\u001b[39m\u001b[0m** \u001b[95mnonnull\u001b[39m \u001b[0m%args\u001b[0m, \u001b[36mi64\u001b[39m \u001b[0m%2\u001b[0m, \u001b[36mi64\u001b[39m \u001b[33m3\u001b[39m\u001b[33m)\u001b[39m\n",
      "           \u001b[96m\u001b[1munreachable\u001b[22m\u001b[39m\n",
      "\n",
      "\u001b[91mpass7:\u001b[39m                                            \u001b[90m; preds = %pass3\u001b[39m\n",
      "           \u001b[0m%boundscheck9.not \u001b[0m= \u001b[96m\u001b[1micmp\u001b[22m\u001b[39m \u001b[96m\u001b[1meq\u001b[22m\u001b[39m \u001b[36mi32\u001b[39m \u001b[0m%nargs\u001b[0m, \u001b[33m3\u001b[39m\n",
      "           \u001b[96m\u001b[1mbr\u001b[22m\u001b[39m \u001b[36mi1\u001b[39m \u001b[0m%boundscheck9.not\u001b[0m, \u001b[36mlabel\u001b[39m \u001b[91m%fail10\u001b[39m\u001b[0m, \u001b[36mlabel\u001b[39m \u001b[91m%pass11\u001b[39m\n",
      "\n",
      "\u001b[91mfail10:\u001b[39m                                           \u001b[90m; preds = %pass7\u001b[39m\n",
      "           \u001b[96m\u001b[1mcall\u001b[22m\u001b[39m \u001b[36mvoid\u001b[39m \u001b[93m@ijl_bounds_error_tuple_int\u001b[39m\u001b[33m(\u001b[39m\u001b[33m{\u001b[39m\u001b[33m}\u001b[39m\u001b[0m** \u001b[95mnonnull\u001b[39m \u001b[0m%args\u001b[0m, \u001b[36mi64\u001b[39m \u001b[33m3\u001b[39m\u001b[0m, \u001b[36mi64\u001b[39m \u001b[33m4\u001b[39m\u001b[33m)\u001b[39m\n",
      "           \u001b[96m\u001b[1munreachable\u001b[22m\u001b[39m\n",
      "\n",
      "\u001b[91mpass11:\u001b[39m                                           \u001b[90m; preds = %pass7\u001b[39m\n",
      "           \u001b[0m%3 \u001b[0m= \u001b[96m\u001b[1mgetelementptr\u001b[22m\u001b[39m \u001b[95minbounds\u001b[39m \u001b[33m{\u001b[39m\u001b[33m}\u001b[39m\u001b[0m*\u001b[0m, \u001b[33m{\u001b[39m\u001b[33m}\u001b[39m\u001b[0m** \u001b[0m%args\u001b[0m, \u001b[36mi64\u001b[39m \u001b[33m2\u001b[39m\n",
      "           \u001b[0m%getfield8 \u001b[0m= \u001b[96m\u001b[1mload\u001b[22m\u001b[39m \u001b[33m{\u001b[39m\u001b[33m}\u001b[39m\u001b[0m*\u001b[0m, \u001b[33m{\u001b[39m\u001b[33m}\u001b[39m\u001b[0m** \u001b[0m%3\u001b[0m, \u001b[95malign\u001b[39m \u001b[33m8\u001b[39m\n",
      "           \u001b[0m%4 \u001b[0m= \u001b[96m\u001b[1mgetelementptr\u001b[22m\u001b[39m \u001b[95minbounds\u001b[39m \u001b[33m{\u001b[39m\u001b[33m}\u001b[39m\u001b[0m*\u001b[0m, \u001b[33m{\u001b[39m\u001b[33m}\u001b[39m\u001b[0m** \u001b[0m%args\u001b[0m, \u001b[36mi64\u001b[39m \u001b[33m3\u001b[39m\n",
      "           \u001b[0m%getfield12 \u001b[0m= \u001b[96m\u001b[1mload\u001b[22m\u001b[39m \u001b[33m{\u001b[39m\u001b[33m}\u001b[39m\u001b[0m*\u001b[0m, \u001b[33m{\u001b[39m\u001b[33m}\u001b[39m\u001b[0m** \u001b[0m%4\u001b[0m, \u001b[95malign\u001b[39m \u001b[33m8\u001b[39m\n",
      "           \u001b[96m\u001b[1mstore\u001b[22m\u001b[39m \u001b[33m{\u001b[39m\u001b[33m}\u001b[39m\u001b[0m* \u001b[95minttoptr\u001b[39m \u001b[33m(\u001b[39m\u001b[36mi64\u001b[39m \u001b[33m5872470384\u001b[39m \u001b[95mto\u001b[39m \u001b[33m{\u001b[39m\u001b[33m}\u001b[39m\u001b[0m*\u001b[33m)\u001b[39m\u001b[0m, \u001b[33m{\u001b[39m\u001b[33m}\u001b[39m\u001b[0m** \u001b[0m%.sub\u001b[0m, \u001b[95malign\u001b[39m \u001b[33m8\u001b[39m\n",
      "           \u001b[0m%5 \u001b[0m= \u001b[96m\u001b[1mgetelementptr\u001b[22m\u001b[39m \u001b[95minbounds\u001b[39m \u001b[33m[\u001b[39m\u001b[33m6\u001b[39m \u001b[0mx \u001b[33m{\u001b[39m\u001b[33m}\u001b[39m\u001b[0m*\u001b[33m]\u001b[39m\u001b[0m, \u001b[33m[\u001b[39m\u001b[33m6\u001b[39m \u001b[0mx \u001b[33m{\u001b[39m\u001b[33m}\u001b[39m\u001b[0m*\u001b[33m]\u001b[39m\u001b[0m* \u001b[0m%0\u001b[0m, \u001b[36mi64\u001b[39m \u001b[33m0\u001b[39m\u001b[0m, \u001b[36mi64\u001b[39m \u001b[33m1\u001b[39m\n",
      "           \u001b[96m\u001b[1mstore\u001b[22m\u001b[39m \u001b[33m{\u001b[39m\u001b[33m}\u001b[39m\u001b[0m* \u001b[95minttoptr\u001b[39m \u001b[33m(\u001b[39m\u001b[36mi64\u001b[39m \u001b[33m4754858896\u001b[39m \u001b[95mto\u001b[39m \u001b[33m{\u001b[39m\u001b[33m}\u001b[39m\u001b[0m*\u001b[33m)\u001b[39m\u001b[0m, \u001b[33m{\u001b[39m\u001b[33m}\u001b[39m\u001b[0m** \u001b[0m%5\u001b[0m, \u001b[95malign\u001b[39m \u001b[33m8\u001b[39m\n",
      "           \u001b[0m%6 \u001b[0m= \u001b[96m\u001b[1mgetelementptr\u001b[22m\u001b[39m \u001b[95minbounds\u001b[39m \u001b[33m[\u001b[39m\u001b[33m6\u001b[39m \u001b[0mx \u001b[33m{\u001b[39m\u001b[33m}\u001b[39m\u001b[0m*\u001b[33m]\u001b[39m\u001b[0m, \u001b[33m[\u001b[39m\u001b[33m6\u001b[39m \u001b[0mx \u001b[33m{\u001b[39m\u001b[33m}\u001b[39m\u001b[0m*\u001b[33m]\u001b[39m\u001b[0m* \u001b[0m%0\u001b[0m, \u001b[36mi64\u001b[39m \u001b[33m0\u001b[39m\u001b[0m, \u001b[36mi64\u001b[39m \u001b[33m2\u001b[39m\n",
      "           \u001b[96m\u001b[1mstore\u001b[22m\u001b[39m \u001b[33m{\u001b[39m\u001b[33m}\u001b[39m\u001b[0m* \u001b[0m%getfield\u001b[0m, \u001b[33m{\u001b[39m\u001b[33m}\u001b[39m\u001b[0m** \u001b[0m%6\u001b[0m, \u001b[95malign\u001b[39m \u001b[33m8\u001b[39m\n",
      "           \u001b[0m%7 \u001b[0m= \u001b[96m\u001b[1mgetelementptr\u001b[22m\u001b[39m \u001b[95minbounds\u001b[39m \u001b[33m[\u001b[39m\u001b[33m6\u001b[39m \u001b[0mx \u001b[33m{\u001b[39m\u001b[33m}\u001b[39m\u001b[0m*\u001b[33m]\u001b[39m\u001b[0m, \u001b[33m[\u001b[39m\u001b[33m6\u001b[39m \u001b[0mx \u001b[33m{\u001b[39m\u001b[33m}\u001b[39m\u001b[0m*\u001b[33m]\u001b[39m\u001b[0m* \u001b[0m%0\u001b[0m, \u001b[36mi64\u001b[39m \u001b[33m0\u001b[39m\u001b[0m, \u001b[36mi64\u001b[39m \u001b[33m3\u001b[39m\n",
      "           \u001b[96m\u001b[1mstore\u001b[22m\u001b[39m \u001b[33m{\u001b[39m\u001b[33m}\u001b[39m\u001b[0m* \u001b[0m%getfield4\u001b[0m, \u001b[33m{\u001b[39m\u001b[33m}\u001b[39m\u001b[0m** \u001b[0m%7\u001b[0m, \u001b[95malign\u001b[39m \u001b[33m8\u001b[39m\n",
      "           \u001b[0m%8 \u001b[0m= \u001b[96m\u001b[1mgetelementptr\u001b[22m\u001b[39m \u001b[95minbounds\u001b[39m \u001b[33m[\u001b[39m\u001b[33m6\u001b[39m \u001b[0mx \u001b[33m{\u001b[39m\u001b[33m}\u001b[39m\u001b[0m*\u001b[33m]\u001b[39m\u001b[0m, \u001b[33m[\u001b[39m\u001b[33m6\u001b[39m \u001b[0mx \u001b[33m{\u001b[39m\u001b[33m}\u001b[39m\u001b[0m*\u001b[33m]\u001b[39m\u001b[0m* \u001b[0m%0\u001b[0m, \u001b[36mi64\u001b[39m \u001b[33m0\u001b[39m\u001b[0m, \u001b[36mi64\u001b[39m \u001b[33m4\u001b[39m\n",
      "           \u001b[96m\u001b[1mstore\u001b[22m\u001b[39m \u001b[33m{\u001b[39m\u001b[33m}\u001b[39m\u001b[0m* \u001b[0m%getfield8\u001b[0m, \u001b[33m{\u001b[39m\u001b[33m}\u001b[39m\u001b[0m** \u001b[0m%8\u001b[0m, \u001b[95malign\u001b[39m \u001b[33m8\u001b[39m\n",
      "           \u001b[0m%9 \u001b[0m= \u001b[96m\u001b[1mgetelementptr\u001b[22m\u001b[39m \u001b[95minbounds\u001b[39m \u001b[33m[\u001b[39m\u001b[33m6\u001b[39m \u001b[0mx \u001b[33m{\u001b[39m\u001b[33m}\u001b[39m\u001b[0m*\u001b[33m]\u001b[39m\u001b[0m, \u001b[33m[\u001b[39m\u001b[33m6\u001b[39m \u001b[0mx \u001b[33m{\u001b[39m\u001b[33m}\u001b[39m\u001b[0m*\u001b[33m]\u001b[39m\u001b[0m* \u001b[0m%0\u001b[0m, \u001b[36mi64\u001b[39m \u001b[33m0\u001b[39m\u001b[0m, \u001b[36mi64\u001b[39m \u001b[33m5\u001b[39m\n",
      "           \u001b[96m\u001b[1mstore\u001b[22m\u001b[39m \u001b[33m{\u001b[39m\u001b[33m}\u001b[39m\u001b[0m* \u001b[0m%getfield12\u001b[0m, \u001b[33m{\u001b[39m\u001b[33m}\u001b[39m\u001b[0m** \u001b[0m%9\u001b[0m, \u001b[95malign\u001b[39m \u001b[33m8\u001b[39m\n",
      "           \u001b[0m%10 \u001b[0m= \u001b[96m\u001b[1mcall\u001b[22m\u001b[39m \u001b[95mnonnull\u001b[39m \u001b[33m{\u001b[39m\u001b[33m}\u001b[39m\u001b[0m* \u001b[93m@j1_afoldl_3640\u001b[39m\u001b[33m(\u001b[39m\u001b[33m{\u001b[39m\u001b[33m}\u001b[39m\u001b[0m* \u001b[95minttoptr\u001b[39m \u001b[33m(\u001b[39m\u001b[36mi64\u001b[39m \u001b[33m4754859328\u001b[39m \u001b[95mto\u001b[39m \u001b[33m{\u001b[39m\u001b[33m}\u001b[39m\u001b[0m*\u001b[33m)\u001b[39m\u001b[0m, \u001b[33m{\u001b[39m\u001b[33m}\u001b[39m\u001b[0m** \u001b[95mnonnull\u001b[39m \u001b[0m%.sub\u001b[0m, \u001b[36mi32\u001b[39m \u001b[33m6\u001b[39m\u001b[33m)\u001b[39m\n",
      "\u001b[90m; ││││││││└\u001b[39m\n",
      "\u001b[90m; ││││││││ @ reduce.jl:49 within `foldl_impl`\u001b[39m\n",
      "          \u001b[0m%11 \u001b[0m= \u001b[96m\u001b[1mbitcast\u001b[22m\u001b[39m \u001b[33m{\u001b[39m\u001b[33m}\u001b[39m\u001b[0m* \u001b[0m%10 \u001b[95mto\u001b[39m \u001b[36mi64\u001b[39m\u001b[0m*\n",
      "          \u001b[0m%12 \u001b[0m= \u001b[96m\u001b[1mgetelementptr\u001b[22m\u001b[39m \u001b[95minbounds\u001b[39m \u001b[36mi64\u001b[39m\u001b[0m, \u001b[36mi64\u001b[39m\u001b[0m* \u001b[0m%11\u001b[0m, \u001b[36mi64\u001b[39m \u001b[33m-1\u001b[39m\n",
      "          \u001b[0m%13 \u001b[0m= \u001b[96m\u001b[1mload\u001b[22m\u001b[39m \u001b[95matomic\u001b[39m \u001b[36mi64\u001b[39m\u001b[0m, \u001b[36mi64\u001b[39m\u001b[0m* \u001b[0m%12 \u001b[95munordered\u001b[39m\u001b[0m, \u001b[95malign\u001b[39m \u001b[33m8\u001b[39m\n",
      "          \u001b[0m%14 \u001b[0m= \u001b[96m\u001b[1mand\u001b[22m\u001b[39m \u001b[36mi64\u001b[39m \u001b[0m%13\u001b[0m, \u001b[33m-16\u001b[39m\n",
      "          \u001b[0m%15 \u001b[0m= \u001b[96m\u001b[1minttoptr\u001b[22m\u001b[39m \u001b[36mi64\u001b[39m \u001b[0m%14 \u001b[95mto\u001b[39m \u001b[33m{\u001b[39m\u001b[33m}\u001b[39m\u001b[0m*\n",
      "          \u001b[0m%exactly_isa.not \u001b[0m= \u001b[96m\u001b[1micmp\u001b[22m\u001b[39m \u001b[96m\u001b[1meq\u001b[22m\u001b[39m \u001b[33m{\u001b[39m\u001b[33m}\u001b[39m\u001b[0m* \u001b[0m%15\u001b[0m, \u001b[95minttoptr\u001b[39m \u001b[33m(\u001b[39m\u001b[36mi64\u001b[39m \u001b[33m4754858832\u001b[39m \u001b[95mto\u001b[39m \u001b[33m{\u001b[39m\u001b[33m}\u001b[39m\u001b[0m*\u001b[33m)\u001b[39m\n",
      "          \u001b[96m\u001b[1mbr\u001b[22m\u001b[39m \u001b[36mi1\u001b[39m \u001b[0m%exactly_isa.not\u001b[0m, \u001b[36mlabel\u001b[39m \u001b[91m%L8\u001b[39m\u001b[0m, \u001b[36mlabel\u001b[39m \u001b[91m%L22\u001b[39m\n",
      "\u001b[90m; └└└└└└└└\u001b[39m\n",
      "\u001b[33m}\u001b[39m\n"
     ]
    }
   ],
   "source": [
    "@code_llvm main2(shape_arr1, shape_arr2, shape_arr3, shape_arr4)"
   ]
  },
  {
   "cell_type": "code",
   "execution_count": 124,
   "id": "fde924cc-b4c6-46a9-9dd0-917995728a3f",
   "metadata": {
    "execution": {
     "iopub.execute_input": "2024-04-20T22:08:13.757",
     "iopub.status.busy": "2024-04-20T22:08:13.757",
     "iopub.status.idle": "2024-04-20T22:08:13.760",
     "shell.execute_reply": "2024-04-20T22:08:13.760"
    }
   },
   "outputs": [
    {
     "name": "stdout",
     "output_type": "stream",
     "text": [
      "MethodInstance for main2(::Vector{Shape}, ::Vector{Shape}, ::Vector{Shape}, ::Vector{Shape})\n",
      "  from main2(\u001b[90marrs...\u001b[39m)\u001b[90m @\u001b[39m \u001b[90mMain\u001b[39m \u001b[90m\u001b[4mIn[120]:1\u001b[24m\u001b[39m\n",
      "Arguments\n",
      "  #self#\u001b[36m::Core.Const(main2)\u001b[39m\n",
      "  arrs\u001b[36m::NTuple{4, Vector{Shape}}\u001b[39m\n",
      "Body\u001b[91m\u001b[1m::Any\u001b[22m\u001b[39m\n",
      "\u001b[90m1 ─\u001b[39m %1 = Main.sum(Main.main1, arrs)\u001b[91m\u001b[1m::Any\u001b[22m\u001b[39m\n",
      "\u001b[90m└──\u001b[39m      return %1\n",
      "\n"
     ]
    }
   ],
   "source": [
    "@code_warntype main2(shape_arr1, shape_arr2, shape_arr3, shape_arr4)"
   ]
  },
  {
   "cell_type": "code",
   "execution_count": 126,
   "id": "f2f78446-5522-42f1-a254-8dbe18eb07db",
   "metadata": {
    "execution": {
     "iopub.execute_input": "2024-04-20T22:08:13.762",
     "iopub.status.busy": "2024-04-20T22:08:13.762",
     "iopub.status.idle": "2024-04-20T22:08:13.780",
     "shell.execute_reply": "2024-04-20T22:08:13.780"
    }
   },
   "outputs": [
    {
     "name": "stdout",
     "output_type": "stream",
     "text": [
      "  0.006807 seconds (13.87 k allocations: 931.625 KiB, 94.34% compilation time: 67% of which was recompilation)\n"
     ]
    }
   ],
   "source": [
    "@time main2(square_arr, rectangle_arr, triangle_arr, circle_arr);"
   ]
  },
  {
   "cell_type": "code",
   "execution_count": 127,
   "id": "b2f5e136-872b-4149-ac66-cb64a8553fa5",
   "metadata": {
    "execution": {
     "iopub.execute_input": "2024-04-20T22:08:13.780",
     "iopub.status.busy": "2024-04-20T22:08:13.780",
     "iopub.status.idle": "2024-04-20T22:08:22.239",
     "shell.execute_reply": "2024-04-20T22:08:22.239"
    }
   },
   "outputs": [
    {
     "data": {
      "text/plain": [
       "BenchmarkTools.Trial: 10000 samples with 1 evaluation.\n",
       " Range \u001b[90m(\u001b[39m\u001b[36m\u001b[1mmin\u001b[22m\u001b[39m … \u001b[35mmax\u001b[39m\u001b[90m):  \u001b[39m\u001b[36m\u001b[1m274.709 μs\u001b[22m\u001b[39m … \u001b[35m388.708 μs\u001b[39m  \u001b[90m┊\u001b[39m GC \u001b[90m(\u001b[39mmin … max\u001b[90m): \u001b[39m0.00% … 0.00%\n",
       " Time  \u001b[90m(\u001b[39m\u001b[34m\u001b[1mmedian\u001b[22m\u001b[39m\u001b[90m):     \u001b[39m\u001b[34m\u001b[1m280.250 μs               \u001b[22m\u001b[39m\u001b[90m┊\u001b[39m GC \u001b[90m(\u001b[39mmedian\u001b[90m):    \u001b[39m0.00%\n",
       " Time  \u001b[90m(\u001b[39m\u001b[32m\u001b[1mmean\u001b[22m\u001b[39m ± \u001b[32mσ\u001b[39m\u001b[90m):   \u001b[39m\u001b[32m\u001b[1m281.906 μs\u001b[22m\u001b[39m ± \u001b[32m  5.157 μs\u001b[39m  \u001b[90m┊\u001b[39m GC \u001b[90m(\u001b[39mmean ± σ\u001b[90m):  \u001b[39m0.00% ± 0.00%\n",
       "\n",
       "  \u001b[39m \u001b[39m \u001b[39m \u001b[39m \u001b[39m \u001b[39m \u001b[39m \u001b[39m \u001b[39m▃\u001b[39m▇\u001b[39m█\u001b[34m▇\u001b[39m\u001b[39m▆\u001b[39m▃\u001b[32m▄\u001b[39m\u001b[39m▅\u001b[39m▄\u001b[39m▃\u001b[39m▁\u001b[39m▁\u001b[39m▁\u001b[39m \u001b[39m \u001b[39m \u001b[39m \u001b[39m \u001b[39m \u001b[39m \u001b[39m \u001b[39m \u001b[39m \u001b[39m \u001b[39m \u001b[39m \u001b[39m \u001b[39m \u001b[39m \u001b[39m \u001b[39m \u001b[39m \u001b[39m \u001b[39m \u001b[39m \u001b[39m \u001b[39m \u001b[39m \u001b[39m \u001b[39m \u001b[39m \u001b[39m \u001b[39m \u001b[39m \u001b[39m \u001b[39m \u001b[39m \u001b[39m \u001b[39m \u001b[39m \u001b[39m \u001b[39m \u001b[39m \u001b[39m \u001b[39m▂\n",
       "  \u001b[39m▂\u001b[39m▂\u001b[39m▃\u001b[39m▄\u001b[39m▅\u001b[39m▄\u001b[39m▇\u001b[39m▇\u001b[39m█\u001b[39m█\u001b[39m█\u001b[34m█\u001b[39m\u001b[39m█\u001b[39m█\u001b[32m█\u001b[39m\u001b[39m█\u001b[39m█\u001b[39m█\u001b[39m█\u001b[39m█\u001b[39m█\u001b[39m█\u001b[39m█\u001b[39m█\u001b[39m█\u001b[39m▇\u001b[39m█\u001b[39m▇\u001b[39m█\u001b[39m█\u001b[39m▇\u001b[39m█\u001b[39m▆\u001b[39m▇\u001b[39m▇\u001b[39m▇\u001b[39m█\u001b[39m▇\u001b[39m▆\u001b[39m█\u001b[39m▇\u001b[39m▇\u001b[39m▇\u001b[39m▇\u001b[39m▇\u001b[39m▇\u001b[39m▆\u001b[39m▇\u001b[39m▅\u001b[39m▇\u001b[39m▅\u001b[39m▆\u001b[39m▅\u001b[39m▅\u001b[39m▅\u001b[39m▅\u001b[39m▄\u001b[39m▆\u001b[39m▄\u001b[39m▅\u001b[39m▅\u001b[39m \u001b[39m█\n",
       "  275 μs\u001b[90m        \u001b[39m\u001b[90mHistogram: \u001b[39m\u001b[90m\u001b[1mlog(\u001b[22m\u001b[39m\u001b[90mfrequency\u001b[39m\u001b[90m\u001b[1m)\u001b[22m\u001b[39m\u001b[90m by time\u001b[39m        305 μs \u001b[0m\u001b[1m<\u001b[22m\n",
       "\n",
       " Memory estimate\u001b[90m: \u001b[39m\u001b[33m160 bytes\u001b[39m, allocs estimate\u001b[90m: \u001b[39m\u001b[33m4\u001b[39m."
      ]
     },
     "execution_count": 127,
     "metadata": {},
     "output_type": "execute_result"
    }
   ],
   "source": [
    "@benchmark main2(square_arr, rectangle_arr, triangle_arr, circle_arr)"
   ]
  },
  {
   "cell_type": "code",
   "execution_count": 128,
   "id": "1e0f816a-0e02-40e1-8d21-282a7189e092",
   "metadata": {
    "execution": {
     "iopub.execute_input": "2024-04-20T22:08:22.239",
     "iopub.status.busy": "2024-04-20T22:08:22.239",
     "iopub.status.idle": "2024-04-20T22:08:22.259",
     "shell.execute_reply": "2024-04-20T22:08:22.259"
    }
   },
   "outputs": [
    {
     "name": "stdout",
     "output_type": "stream",
     "text": [
      "\u001b[90m;  @ In[120]:1 within `main2`\u001b[39m\n",
      "\u001b[95mdefine\u001b[39m \u001b[36mdouble\u001b[39m \u001b[93m@julia_main2_3651\u001b[39m\u001b[33m(\u001b[39m\u001b[33m{\u001b[39m\u001b[33m}\u001b[39m\u001b[0m* \u001b[95mnoundef\u001b[39m \u001b[95mnonnull\u001b[39m \u001b[95malign\u001b[39m \u001b[33m16\u001b[39m \u001b[95mdereferenceable\u001b[39m\u001b[33m(\u001b[39m\u001b[33m40\u001b[39m\u001b[33m)\u001b[39m \u001b[0m%0\u001b[0m, \u001b[33m{\u001b[39m\u001b[33m}\u001b[39m\u001b[0m* \u001b[95mnoundef\u001b[39m \u001b[95mnonnull\u001b[39m \u001b[95malign\u001b[39m \u001b[33m16\u001b[39m \u001b[95mdereferenceable\u001b[39m\u001b[33m(\u001b[39m\u001b[33m40\u001b[39m\u001b[33m)\u001b[39m \u001b[0m%1\u001b[0m, \u001b[33m{\u001b[39m\u001b[33m}\u001b[39m\u001b[0m* \u001b[95mnoundef\u001b[39m \u001b[95mnonnull\u001b[39m \u001b[95malign\u001b[39m \u001b[33m16\u001b[39m \u001b[95mdereferenceable\u001b[39m\u001b[33m(\u001b[39m\u001b[33m40\u001b[39m\u001b[33m)\u001b[39m \u001b[0m%2\u001b[0m, \u001b[33m{\u001b[39m\u001b[33m}\u001b[39m\u001b[0m* \u001b[95mnoundef\u001b[39m \u001b[95mnonnull\u001b[39m \u001b[95malign\u001b[39m \u001b[33m16\u001b[39m \u001b[95mdereferenceable\u001b[39m\u001b[33m(\u001b[39m\u001b[33m40\u001b[39m\u001b[33m)\u001b[39m \u001b[0m%3\u001b[33m)\u001b[39m \u001b[0m#0 \u001b[33m{\u001b[39m\n",
      "\u001b[91mtop:\u001b[39m\n",
      "\u001b[90m; ┌ @ reduce.jl:535 within `sum`\u001b[39m\n",
      "\u001b[90m; │┌ @ reduce.jl:535 within `#sum#305`\u001b[39m\n",
      "\u001b[90m; ││┌ @ reduce.jl:307 within `mapreduce`\u001b[39m\n",
      "\u001b[90m; │││┌ @ reduce.jl:307 within `#mapreduce#302`\u001b[39m\n",
      "\u001b[90m; ││││┌ @ reduce.jl:175 within `mapfoldl`\u001b[39m\n",
      "\u001b[90m; │││││┌ @ reduce.jl:175 within `#mapfoldl#298`\u001b[39m\n",
      "\u001b[90m; ││││││┌ @ reduce.jl:44 within `mapfoldl_impl`\u001b[39m\n",
      "\u001b[90m; │││││││┌ @ reduce.jl:48 within `foldl_impl`\u001b[39m\n",
      "\u001b[90m; ││││││││┌ @ reduce.jl:68 within `_foldl_impl`\u001b[39m\n",
      "\u001b[90m; │││││││││┌ @ operators.jl:544 within `afoldl`\u001b[39m\n",
      "\u001b[90m; ││││││││││┌ @ reduce.jl:100 within `MappingRF`\u001b[39m\n",
      "\u001b[90m; │││││││││││┌ @ In[101]:1 within `main1`\u001b[39m\n",
      "\u001b[90m; ││││││││││││┌ @ reducedim.jl:1011 within `sum`\u001b[39m\n",
      "\u001b[90m; │││││││││││││┌ @ reducedim.jl:1011 within `#sum#829`\u001b[39m\n",
      "\u001b[90m; ││││││││││││││┌ @ reducedim.jl:1015 within `_sum`\u001b[39m\n",
      "\u001b[90m; │││││││││││││││┌ @ reducedim.jl:1015 within `#_sum#831`\u001b[39m\n",
      "\u001b[90m; ││││││││││││││││┌ @ reducedim.jl:357 within `mapreduce`\u001b[39m\n",
      "\u001b[90m; │││││││││││││││││┌ @ reducedim.jl:357 within `#mapreduce#821`\u001b[39m\n",
      "\u001b[90m; ││││││││││││││││││┌ @ reducedim.jl:365 within `_mapreduce_dim`\u001b[39m\n",
      "                     \u001b[0m%4 \u001b[0m= \u001b[96m\u001b[1mcall\u001b[22m\u001b[39m \u001b[36mdouble\u001b[39m \u001b[93m@j__mapreduce_3653\u001b[39m\u001b[33m(\u001b[39m\u001b[33m{\u001b[39m\u001b[33m}\u001b[39m\u001b[0m* \u001b[95mnonnull\u001b[39m \u001b[0m%0\u001b[33m)\u001b[39m\n",
      "\u001b[90m; ││││││││││└└└└└└└└└\u001b[39m\n",
      "\u001b[90m; ││││││││││ @ operators.jl:545 within `afoldl`\u001b[39m\n",
      "\u001b[90m; ││││││││││┌ @ reduce.jl:100 within `MappingRF`\u001b[39m\n",
      "\u001b[90m; │││││││││││┌ @ In[101]:1 within `main1`\u001b[39m\n",
      "\u001b[90m; ││││││││││││┌ @ reducedim.jl:1011 within `sum`\u001b[39m\n",
      "\u001b[90m; │││││││││││││┌ @ reducedim.jl:1011 within `#sum#829`\u001b[39m\n",
      "\u001b[90m; ││││││││││││││┌ @ reducedim.jl:1015 within `_sum`\u001b[39m\n",
      "\u001b[90m; │││││││││││││││┌ @ reducedim.jl:1015 within `#_sum#831`\u001b[39m\n",
      "\u001b[90m; ││││││││││││││││┌ @ reducedim.jl:357 within `mapreduce`\u001b[39m\n",
      "\u001b[90m; │││││││││││││││││┌ @ reducedim.jl:357 within `#mapreduce#821`\u001b[39m\n",
      "\u001b[90m; ││││││││││││││││││┌ @ reducedim.jl:365 within `_mapreduce_dim`\u001b[39m\n",
      "                     \u001b[0m%5 \u001b[0m= \u001b[96m\u001b[1mcall\u001b[22m\u001b[39m \u001b[36mdouble\u001b[39m \u001b[93m@j__mapreduce_3654\u001b[39m\u001b[33m(\u001b[39m\u001b[33m{\u001b[39m\u001b[33m}\u001b[39m\u001b[0m* \u001b[95mnonnull\u001b[39m \u001b[0m%1\u001b[33m)\u001b[39m\n",
      "\u001b[90m; │││││││││││└└└└└└└└\u001b[39m\n",
      "\u001b[90m; │││││││││││┌ @ reduce.jl:86 within `BottomRF`\u001b[39m\n",
      "\u001b[90m; ││││││││││││┌ @ reduce.jl:27 within `add_sum`\u001b[39m\n",
      "\u001b[90m; │││││││││││││┌ @ float.jl:409 within `+`\u001b[39m\n",
      "                \u001b[0m%6 \u001b[0m= \u001b[96m\u001b[1mfadd\u001b[22m\u001b[39m \u001b[36mdouble\u001b[39m \u001b[0m%4\u001b[0m, \u001b[0m%5\n",
      "\u001b[90m; ││││││││││└└└└\u001b[39m\n",
      "\u001b[90m; ││││││││││ @ operators.jl:546 within `afoldl`\u001b[39m\n",
      "\u001b[90m; ││││││││││┌ @ reduce.jl:100 within `MappingRF`\u001b[39m\n",
      "\u001b[90m; │││││││││││┌ @ In[101]:1 within `main1`\u001b[39m\n",
      "\u001b[90m; ││││││││││││┌ @ reducedim.jl:1011 within `sum`\u001b[39m\n",
      "\u001b[90m; │││││││││││││┌ @ reducedim.jl:1011 within `#sum#829`\u001b[39m\n",
      "\u001b[90m; ││││││││││││││┌ @ reducedim.jl:1015 within `_sum`\u001b[39m\n",
      "\u001b[90m; │││││││││││││││┌ @ reducedim.jl:1015 within `#_sum#831`\u001b[39m\n",
      "\u001b[90m; ││││││││││││││││┌ @ reducedim.jl:357 within `mapreduce`\u001b[39m\n",
      "\u001b[90m; │││││││││││││││││┌ @ reducedim.jl:357 within `#mapreduce#821`\u001b[39m\n",
      "\u001b[90m; ││││││││││││││││││┌ @ reducedim.jl:365 within `_mapreduce_dim`\u001b[39m\n",
      "                     \u001b[0m%7 \u001b[0m= \u001b[96m\u001b[1mcall\u001b[22m\u001b[39m \u001b[36mdouble\u001b[39m \u001b[93m@j__mapreduce_3655\u001b[39m\u001b[33m(\u001b[39m\u001b[33m{\u001b[39m\u001b[33m}\u001b[39m\u001b[0m* \u001b[95mnonnull\u001b[39m \u001b[0m%2\u001b[33m)\u001b[39m\n",
      "\u001b[90m; │││││││││││└└└└└└└└\u001b[39m\n",
      "\u001b[90m; │││││││││││┌ @ reduce.jl:86 within `BottomRF`\u001b[39m\n",
      "\u001b[90m; ││││││││││││┌ @ reduce.jl:27 within `add_sum`\u001b[39m\n",
      "\u001b[90m; │││││││││││││┌ @ float.jl:409 within `+`\u001b[39m\n",
      "                \u001b[0m%8 \u001b[0m= \u001b[96m\u001b[1mfadd\u001b[22m\u001b[39m \u001b[36mdouble\u001b[39m \u001b[0m%6\u001b[0m, \u001b[0m%7\n",
      "\u001b[90m; ││││││││││└└└└\u001b[39m\n",
      "\u001b[90m; ││││││││││ @ operators.jl:547 within `afoldl`\u001b[39m\n",
      "\u001b[90m; ││││││││││┌ @ reduce.jl:100 within `MappingRF`\u001b[39m\n",
      "\u001b[90m; │││││││││││┌ @ In[101]:1 within `main1`\u001b[39m\n",
      "\u001b[90m; ││││││││││││┌ @ reducedim.jl:1011 within `sum`\u001b[39m\n",
      "\u001b[90m; │││││││││││││┌ @ reducedim.jl:1011 within `#sum#829`\u001b[39m\n",
      "\u001b[90m; ││││││││││││││┌ @ reducedim.jl:1015 within `_sum`\u001b[39m\n",
      "\u001b[90m; │││││││││││││││┌ @ reducedim.jl:1015 within `#_sum#831`\u001b[39m\n",
      "\u001b[90m; ││││││││││││││││┌ @ reducedim.jl:357 within `mapreduce`\u001b[39m\n",
      "\u001b[90m; │││││││││││││││││┌ @ reducedim.jl:357 within `#mapreduce#821`\u001b[39m\n",
      "\u001b[90m; ││││││││││││││││││┌ @ reducedim.jl:365 within `_mapreduce_dim`\u001b[39m\n",
      "                     \u001b[0m%9 \u001b[0m= \u001b[96m\u001b[1mcall\u001b[22m\u001b[39m \u001b[36mdouble\u001b[39m \u001b[93m@j__mapreduce_3656\u001b[39m\u001b[33m(\u001b[39m\u001b[33m{\u001b[39m\u001b[33m}\u001b[39m\u001b[0m* \u001b[95mnonnull\u001b[39m \u001b[0m%3\u001b[33m)\u001b[39m\n",
      "\u001b[90m; │││││││││││└└└└└└└└\u001b[39m\n",
      "\u001b[90m; │││││││││││┌ @ reduce.jl:86 within `BottomRF`\u001b[39m\n",
      "\u001b[90m; ││││││││││││┌ @ reduce.jl:27 within `add_sum`\u001b[39m\n",
      "\u001b[90m; │││││││││││││┌ @ float.jl:409 within `+`\u001b[39m\n",
      "                \u001b[0m%10 \u001b[0m= \u001b[96m\u001b[1mfadd\u001b[22m\u001b[39m \u001b[36mdouble\u001b[39m \u001b[0m%8\u001b[0m, \u001b[0m%9\n",
      "                \u001b[96m\u001b[1mret\u001b[22m\u001b[39m \u001b[36mdouble\u001b[39m \u001b[0m%10\n",
      "\u001b[90m; └└└└└└└└└└└└└└\u001b[39m\n",
      "\u001b[33m}\u001b[39m\n"
     ]
    }
   ],
   "source": [
    "@code_llvm main2(square_arr, rectangle_arr, triangle_arr, circle_arr)"
   ]
  },
  {
   "cell_type": "code",
   "execution_count": 129,
   "id": "aeda52cc-627b-4d2a-a2d3-c47147870dcf",
   "metadata": {
    "execution": {
     "iopub.execute_input": "2024-04-20T22:08:22.259",
     "iopub.status.busy": "2024-04-20T22:08:22.259",
     "iopub.status.idle": "2024-04-20T22:08:22.264",
     "shell.execute_reply": "2024-04-20T22:08:22.263"
    }
   },
   "outputs": [
    {
     "name": "stdout",
     "output_type": "stream",
     "text": [
      "MethodInstance for main2(::Vector{Square}, ::Vector{Rectangle}, ::Vector{Triangle}, ::Vector{Circle})\n",
      "  from main2(\u001b[90marrs...\u001b[39m)\u001b[90m @\u001b[39m \u001b[90mMain\u001b[39m \u001b[90m\u001b[4mIn[120]:1\u001b[24m\u001b[39m\n",
      "Arguments\n",
      "  #self#\u001b[36m::Core.Const(main2)\u001b[39m\n",
      "  arrs\u001b[36m::Tuple{Vector{Square}, Vector{Rectangle}, Vector{Triangle}, Vector{Circle}}\u001b[39m\n",
      "Body\u001b[36m::Float64\u001b[39m\n",
      "\u001b[90m1 ─\u001b[39m %1 = Main.sum(Main.main1, arrs)\u001b[36m::Float64\u001b[39m\n",
      "\u001b[90m└──\u001b[39m      return %1\n",
      "\n"
     ]
    }
   ],
   "source": [
    "@code_warntype main2(square_arr, rectangle_arr, triangle_arr, circle_arr)"
   ]
  },
  {
   "cell_type": "code",
   "execution_count": null,
   "id": "f9892cba-7e8c-43b5-bc5a-96804ff8410d",
   "metadata": {},
   "outputs": [],
   "source": []
  }
 ],
 "metadata": {
  "kernelspec": {
   "display_name": "Julia 1.10.2",
   "language": "julia",
   "name": "julia-1.10"
  },
  "language_info": {
   "file_extension": ".jl",
   "mimetype": "application/julia",
   "name": "julia",
   "version": "1.10.2"
  },
  "widgets": {
   "application/vnd.jupyter.widget-state+json": {
    "state": {},
    "version_major": 2,
    "version_minor": 0
   }
  }
 },
 "nbformat": 4,
 "nbformat_minor": 5
}
