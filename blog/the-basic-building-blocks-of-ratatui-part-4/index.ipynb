{
 "cells": [
  {
   "cell_type": "raw",
   "id": "bf830a38-e568-4150-97b9-de5dc6172a32",
   "metadata": {
    "execution": {
     "iopub.execute_input": "2024-05-15T02:03:24.769199+00:00",
     "iopub.status.busy": "2024-05-15T02:03:24.768989+00:00",
     "iopub.status.idle": "2024-05-15T02:03:24.769163+00:00",
     "shell.execute_reply": "2024-05-15T02:03:24.910732+00:00"
    }
   },
   "source": [
    "---\n",
    "title: The Basic Building blocks of Ratatui - Part 4\n",
    "date: 2024-05-17T22:03:04-0400\n",
    "categories: [rust]\n",
    "keywords: rust, ratatui\n",
    "summary: Showcase of using widgets\n",
    "---"
   ]
  },
  {
   "cell_type": "markdown",
   "id": "7e98f2e5-d4f5-4fc0-84e3-c9920e267bed",
   "metadata": {},
   "source": [
    "Ratatui is a crate for building terminal user interfaces in Rust.\n",
    "\n",
    "In this post we'll show some simple widgets that come built-in with `ratatui`."
   ]
  },
  {
   "cell_type": "code",
   "execution_count": 2,
   "id": "73c1a207-8f25-467a-b3ed-2a5d6ac25461",
   "metadata": {
    "execution": {
     "iopub.execute_input": "2024-05-16T13:42:41.934173+00:00",
     "iopub.status.busy": "2024-05-16T13:42:41.934065+00:00",
     "iopub.status.idle": "2024-05-16T13:42:41.934149+00:00",
     "shell.execute_reply": "2024-05-16T13:42:42.123539+00:00"
    }
   },
   "outputs": [],
   "source": [
    "//| code-fold: true\n",
    "\n",
    ":dep ratatui = \"0.26.2\"\n",
    ":dep ratatui-macros = \"0.4.0\"\n",
    "    \n",
    "fn show_html<D>(content: D) where D: std::fmt::Display {\n",
    "    println!(r#\"EVCXR_BEGIN_CONTENT text/html\n",
    "<div style=\"display: flex; justify-content:start; gap: 1em; margin: 1em\">\n",
    "{}\n",
    "</div>\n",
    "EVCXR_END_CONTENT\"#, content);\n",
    "}\n"
   ]
  },
  {
   "cell_type": "markdown",
   "id": "46e4a561-133f-40a7-9d64-8c70024b63fc",
   "metadata": {},
   "source": [
    "## Widget primitives"
   ]
  },
  {
   "cell_type": "markdown",
   "id": "1bb11dbf-859f-4016-883f-2a7fed96c0fa",
   "metadata": {},
   "source": [
    "### Block"
   ]
  },
  {
   "cell_type": "markdown",
   "id": "8d31bb39-dc3a-4ae9-9e6f-80f95bd15a93",
   "metadata": {},
   "source": [
    "The simplest widget is the `Block` widget, which is essentially just borders."
   ]
  },
  {
   "cell_type": "code",
   "execution_count": 64,
   "id": "2a0837b2-dd94-4a10-b9a2-52a0fd431cc3",
   "metadata": {
    "execution": {
     "iopub.execute_input": "2024-05-15T20:59:24.330436+00:00",
     "iopub.status.busy": "2024-05-15T20:59:24.330406+00:00",
     "iopub.status.idle": "2024-05-15T20:59:24.330428+00:00",
     "shell.execute_reply": "2024-05-15T20:59:25.201017+00:00"
    }
   },
   "outputs": [
    {
     "data": {
      "text/plain": [
       "Buffer {\n",
       "    area: Rect { x: 0, y: 0, width: 50, height: 5 },\n",
       "    content: [\n",
       "        \"┌────────────────────────────────────────────────┐\",\n",
       "        \"│                                                │\",\n",
       "        \"│                                                │\",\n",
       "        \"│                                                │\",\n",
       "        \"└────────────────────────────────────────────────┘\",\n",
       "    ],\n",
       "    styles: [\n",
       "        x: 0, y: 0, fg: Reset, bg: Reset, underline: Reset, modifier: NONE,\n",
       "    ]\n",
       "}"
      ]
     },
     "execution_count": 64,
     "metadata": {},
     "output_type": "execute_result"
    }
   ],
   "source": [
    "let (x, y, width, height) = (0, 0, 50, 5); \n",
    "let area = Rect::new(x, y, width, height);\n",
    "let mut buf = Buffer::empty(area);\n",
    "Block::bordered().render(area, &mut buf);\n",
    "buf"
   ]
  },
  {
   "cell_type": "markdown",
   "id": "d9dfa632-a2ff-4432-8ac3-f6450115d033",
   "metadata": {},
   "source": [
    "Most widgets accept a `Block` as a fluent setter. We saw from earlier that the `Paragraph` has a `.block()` method that accepts a `Block`."
   ]
  },
  {
   "cell_type": "markdown",
   "id": "0d4ecb04-59b6-475e-a773-1f5fdc1d97e7",
   "metadata": {
    "execution": {
     "iopub.execute_input": "2024-05-15T04:20:07.111508+00:00",
     "iopub.status.busy": "2024-05-15T04:20:07.111316+00:00",
     "iopub.status.idle": "2024-05-15T04:20:07.111463+00:00",
     "shell.execute_reply": "2024-05-15T04:20:08.244484+00:00"
    }
   },
   "source": [
    "```rust\n",
    "let paragraph = Paragraph::new(text).block(block).centered();\n",
    "```"
   ]
  },
  {
   "cell_type": "markdown",
   "id": "5c117708-beb3-46b8-ab38-fce61d95c5ec",
   "metadata": {},
   "source": [
    "Blocks can have different kinds of borders:"
   ]
  },
  {
   "cell_type": "code",
   "execution_count": 65,
   "id": "1d8cdc0e-9f43-41f3-aab7-d94bcc3946da",
   "metadata": {
    "execution": {
     "iopub.execute_input": "2024-05-15T20:59:25.201324+00:00",
     "iopub.status.busy": "2024-05-15T20:59:25.201258+00:00",
     "iopub.status.idle": "2024-05-15T20:59:25.201310+00:00",
     "shell.execute_reply": "2024-05-15T20:59:25.913145+00:00"
    }
   },
   "outputs": [
    {
     "data": {
      "text/plain": [
       "Buffer {\n",
       "    area: Rect { x: 0, y: 0, width: 50, height: 5 },\n",
       "    content: [\n",
       "        \"──────────────────────────────────────────────────\",\n",
       "        \"  ╔════════════════════════════════════════════╗  \",\n",
       "        \"  ║                                            ║  \",\n",
       "        \"  ╚════════════════════════════════════════════╝  \",\n",
       "        \"──────────────────────────────────────────────────\",\n",
       "    ],\n",
       "    styles: [\n",
       "        x: 0, y: 0, fg: Reset, bg: Reset, underline: Reset, modifier: NONE,\n",
       "    ]\n",
       "}"
      ]
     },
     "execution_count": 65,
     "metadata": {},
     "output_type": "execute_result"
    }
   ],
   "source": [
    "\n",
    "\n",
    "let (x, y, width, height) = (0, 0, 50, 5); \n",
    "let area = Rect::new(x, y, width, height);\n",
    "let mut buf = Buffer::empty(area);\n",
    "\n",
    "Block::bordered().border_type(ratatui::widgets::BorderType::Double).render(area.inner(&ratatui::layout::Margin::new(2, 1)), &mut buf);\n",
    "Block::bordered().borders(ratatui::widgets::Borders::TOP | ratatui::widgets::Borders::BOTTOM).render(area, &mut buf);\n",
    "\n",
    "buf"
   ]
  },
  {
   "cell_type": "markdown",
   "id": "5bb94495-9187-468d-9a41-6c9eb1cb42ab",
   "metadata": {},
   "source": [
    "And `Block` can have multiple titles in different locations:"
   ]
  },
  {
   "cell_type": "code",
   "execution_count": 66,
   "id": "d0218e8c-2034-4df1-8b17-7166ca8487f6",
   "metadata": {
    "execution": {
     "iopub.execute_input": "2024-05-15T20:59:25.913224+00:00",
     "iopub.status.busy": "2024-05-15T20:59:25.913202+00:00",
     "iopub.status.idle": "2024-05-15T20:59:25.913220+00:00",
     "shell.execute_reply": "2024-05-15T20:59:26.814907+00:00"
    }
   },
   "outputs": [
    {
     "data": {
      "text/plain": [
       "Buffer {\n",
       "    area: Rect { x: 0, y: 0, width: 50, height: 5 },\n",
       "    content: [\n",
       "        \"┌Top Left───────────Top Center──────────Top Right┐\",\n",
       "        \"│                                                │\",\n",
       "        \"│                                                │\",\n",
       "        \"│                                                │\",\n",
       "        \"└Bottom Left──────Bottom Center──────Bottom Right┘\",\n",
       "    ],\n",
       "    styles: [\n",
       "        x: 0, y: 0, fg: Reset, bg: Reset, underline: Reset, modifier: NONE,\n",
       "    ]\n",
       "}"
      ]
     },
     "execution_count": 66,
     "metadata": {},
     "output_type": "execute_result"
    }
   ],
   "source": [
    "let (x, y, width, height) = (0, 0, 50, 5); \n",
    "let area = Rect::new(x, y, width, height);\n",
    "let mut buf = Buffer::empty(area);\n",
    "\n",
    "let block = Block::bordered()\n",
    "                .title(\"Top Left\") // accepts anything that can be converted to a `Title` or a `Line`\n",
    "                .title(Line::from(\"Top Center\").centered()) // explicitly need to use `Line` if you want alignment\n",
    "                .title(line![\"Top Right\"].right_aligned()) // you can use the `line!` macro to make it shorter\n",
    "                .title(ratatui::widgets::block::Title::from(\"Bottom Right\") // explicitly using `Title` gives you most control\n",
    "                       .alignment(ratatui::layout::Alignment::Right)\n",
    "                       .position(ratatui::widgets::block::title::Position::Bottom)\n",
    "                )\n",
    "                .title_bottom(Line::from(\"Bottom Center\").centered()) // shorthand functions for bottom position\n",
    "                .title_bottom(\"Bottom Left\"); // aligned to the left by default\n",
    "\n",
    "block.render(area, &mut buf);\n",
    "\n",
    "buf"
   ]
  },
  {
   "cell_type": "markdown",
   "id": "4670d851-89f6-41b5-8ab1-934da1ba1a95",
   "metadata": {},
   "source": [
    "## Conclusion"
   ]
  },
  {
   "cell_type": "markdown",
   "id": "4983556c-34e6-4ebf-93f1-29d09f881aaf",
   "metadata": {},
   "source": [
    "In the next post, we'll examine how Ratatui works under the hood in more detail."
   ]
  },
  {
   "cell_type": "code",
   "execution_count": null,
   "id": "b6011123-57ba-444c-ad7b-d21f554a9739",
   "metadata": {},
   "outputs": [],
   "source": []
  },
  {
   "cell_type": "code",
   "execution_count": null,
   "id": "b3a7ccbc-e90a-459f-ba40-62977bb7648d",
   "metadata": {},
   "outputs": [],
   "source": []
  },
  {
   "cell_type": "code",
   "execution_count": null,
   "id": "3ddda790-b913-4641-9180-8bd1cc38734e",
   "metadata": {},
   "outputs": [],
   "source": []
  },
  {
   "cell_type": "code",
   "execution_count": null,
   "id": "b1965eb0-43a1-4701-b3ae-757ff66ab8fa",
   "metadata": {},
   "outputs": [],
   "source": []
  },
  {
   "cell_type": "code",
   "execution_count": null,
   "id": "ca4a46f6-013f-4ed7-9dd1-6f1b54ab4f74",
   "metadata": {},
   "outputs": [],
   "source": []
  }
 ],
 "metadata": {
  "kernelspec": {
   "display_name": "Rust",
   "language": "rust",
   "name": "rust"
  },
  "language_info": {
   "codemirror_mode": "rust",
   "file_extension": ".rs",
   "mimetype": "text/rust",
   "name": "Rust",
   "pygment_lexer": "rust",
   "version": ""
  },
  "widgets": {
   "application/vnd.jupyter.widget-state+json": {
    "state": {},
    "version_major": 2,
    "version_minor": 0
   }
  }
 },
 "nbformat": 4,
 "nbformat_minor": 5
}
