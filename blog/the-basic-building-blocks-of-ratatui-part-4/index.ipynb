{
 "cells": [
  {
   "cell_type": "raw",
   "id": "bf830a38-e568-4150-97b9-de5dc6172a32",
   "metadata": {
    "execution": {
     "iopub.execute_input": "2024-05-15T02:03:24.769199+00:00",
     "iopub.status.busy": "2024-05-15T02:03:24.768989+00:00",
     "iopub.status.idle": "2024-05-15T02:03:24.769163+00:00",
     "shell.execute_reply": "2024-05-15T02:03:24.910732+00:00"
    }
   },
   "source": [
    "---\n",
    "title: The Basic Building blocks of Ratatui - Part 4\n",
    "date: 2024-05-17T22:03:04-0400\n",
    "categories: [rust]\n",
    "keywords: rust, ratatui\n",
    "summary: Showcase of using widgets\n",
    "---"
   ]
  },
  {
   "cell_type": "markdown",
   "id": "7e98f2e5-d4f5-4fc0-84e3-c9920e267bed",
   "metadata": {},
   "source": [
    "Ratatui is a crate for building terminal user interfaces in Rust.\n",
    "\n",
    "In this post we'll show some simple widgets that come built-in with `ratatui`."
   ]
  },
  {
   "cell_type": "code",
   "execution_count": 4,
   "id": "73c1a207-8f25-467a-b3ed-2a5d6ac25461",
   "metadata": {
    "execution": {
     "iopub.execute_input": "2024-05-17T16:29:54.245741+00:00",
     "iopub.status.busy": "2024-05-17T16:29:54.245489+00:00",
     "iopub.status.idle": "2024-05-17T16:29:54.245692+00:00",
     "shell.execute_reply": "2024-05-17T16:30:06.442168+00:00"
    }
   },
   "outputs": [],
   "source": [
    "//| code-fold: true\n",
    "\n",
    ":dep ratatui = \"0.26.2\"\n",
    ":dep ratatui-macros = \"0.4.0\"\n",
    "    \n",
    "fn span_to_html(s: ratatui::text::Span) -> String{\n",
    "    let mut html = String::new();\n",
    "    html.push_str(\"<span style=\\\"\");\n",
    "\n",
    "    // Set foreground color\n",
    "    if let Some(color) = &s.style.fg {\n",
    "        html.push_str(&format!(\"color: {};\", color));\n",
    "    }\n",
    "\n",
    "    // Set background color\n",
    "    if let Some(color) = &s.style.bg {\n",
    "        html.push_str(&format!(\"background-color: {};\", color));\n",
    "    }\n",
    "\n",
    "    // Add modifiers\n",
    "    match s.style.add_modifier {\n",
    "        ratatui::style::Modifier::BOLD => html.push_str(\"font-weight: bold;\"),\n",
    "        ratatui::style::Modifier::ITALIC => html.push_str(\"font-style: italic;\"),\n",
    "        ratatui::style::Modifier::UNDERLINED => html.push_str(\"text-decoration: underline;\"),\n",
    "        _ => {}\n",
    "    }\n",
    "    html.push_str(\"\\\">\");\n",
    "    html.push_str(&s.content);\n",
    "    html.push_str(\"</span>\");\n",
    "    html\n",
    "}\n",
    "\n",
    "fn buffer_to_html(buf: &ratatui::buffer::Buffer) -> String {\n",
    "    fn escape_special_html_characters(text: &str) -> String {\n",
    "        text.replace(\"&\", \"&amp;\")\n",
    "            .replace(\"<\", \"&lt;\")\n",
    "            .replace(\">\", \"&gt;\")\n",
    "            .replace(\"\\\"\", \"&quot;\")\n",
    "            .replace(\"'\", \"&#39;\")\n",
    "    }\n",
    "\n",
    "    let mut html = String::from(\"<pre><code>\");\n",
    "\n",
    "    let w = buf.area.width;\n",
    "    let h = buf.area.height;\n",
    "\n",
    "    for y in 0..h {\n",
    "        for x in 0..w {\n",
    "            let s = buf.get(x, y).symbol();\n",
    "            \n",
    "            let escaped = escape_special_html_characters(s); \n",
    "\n",
    "            let style = buf.get(x, y).style();\n",
    "\n",
    "            let span = ratatui::text::Span::styled(s, style);\n",
    "            \n",
    "            html.push_str(&span_to_html(span));\n",
    "        }\n",
    "        html.push('\\n');\n",
    "    }\n",
    "\n",
    "    html.push_str(\"</code></pre>\");\n",
    "\n",
    "    html \n",
    "}\n",
    "    \n",
    "fn show_html<D>(content: D) where D: std::fmt::Display {\n",
    "    println!(r#\"EVCXR_BEGIN_CONTENT text/html\n",
    "<div style=\"display: flex; justify-content:start; gap: 1em; margin: 1em\">\n",
    "{}\n",
    "</div>\n",
    "EVCXR_END_CONTENT\"#, content);\n",
    "}\n"
   ]
  },
  {
   "cell_type": "markdown",
   "id": "46e4a561-133f-40a7-9d64-8c70024b63fc",
   "metadata": {},
   "source": [
    "## Widget primitives"
   ]
  },
  {
   "cell_type": "markdown",
   "id": "1bb11dbf-859f-4016-883f-2a7fed96c0fa",
   "metadata": {},
   "source": [
    "### Block"
   ]
  },
  {
   "cell_type": "markdown",
   "id": "8d31bb39-dc3a-4ae9-9e6f-80f95bd15a93",
   "metadata": {},
   "source": [
    "The simplest widget is the `Block` widget, which is essentially just borders."
   ]
  },
  {
   "cell_type": "code",
   "execution_count": 10,
   "id": "2a0837b2-dd94-4a10-b9a2-52a0fd431cc3",
   "metadata": {
    "execution": {
     "iopub.execute_input": "2024-05-17T16:31:09.038054+00:00",
     "iopub.status.busy": "2024-05-17T16:31:09.037897+00:00",
     "iopub.status.idle": "2024-05-17T16:31:09.038016+00:00",
     "shell.execute_reply": "2024-05-17T16:31:09.643884+00:00"
    }
   },
   "outputs": [
    {
     "data": {
      "text/html": [
       "<div style=\"display: flex; justify-content:start; gap: 1em; margin: 1em\">\n",
       "<pre><code><span style=\"color: Reset;background-color: Reset;\">┌</span><span style=\"color: Reset;background-color: Reset;\">─</span><span style=\"color: Reset;background-color: Reset;\">─</span><span style=\"color: Reset;background-color: Reset;\">─</span><span style=\"color: Reset;background-color: Reset;\">─</span><span style=\"color: Reset;background-color: Reset;\">─</span><span style=\"color: Reset;background-color: Reset;\">─</span><span style=\"color: Reset;background-color: Reset;\">─</span><span style=\"color: Reset;background-color: Reset;\">─</span><span style=\"color: Reset;background-color: Reset;\">─</span><span style=\"color: Reset;background-color: Reset;\">─</span><span style=\"color: Reset;background-color: Reset;\">─</span><span style=\"color: Reset;background-color: Reset;\">─</span><span style=\"color: Reset;background-color: Reset;\">─</span><span style=\"color: Reset;background-color: Reset;\">─</span><span style=\"color: Reset;background-color: Reset;\">─</span><span style=\"color: Reset;background-color: Reset;\">─</span><span style=\"color: Reset;background-color: Reset;\">─</span><span style=\"color: Reset;background-color: Reset;\">─</span><span style=\"color: Reset;background-color: Reset;\">─</span><span style=\"color: Reset;background-color: Reset;\">─</span><span style=\"color: Reset;background-color: Reset;\">─</span><span style=\"color: Reset;background-color: Reset;\">─</span><span style=\"color: Reset;background-color: Reset;\">─</span><span style=\"color: Reset;background-color: Reset;\">─</span><span style=\"color: Reset;background-color: Reset;\">─</span><span style=\"color: Reset;background-color: Reset;\">─</span><span style=\"color: Reset;background-color: Reset;\">─</span><span style=\"color: Reset;background-color: Reset;\">─</span><span style=\"color: Reset;background-color: Reset;\">─</span><span style=\"color: Reset;background-color: Reset;\">─</span><span style=\"color: Reset;background-color: Reset;\">─</span><span style=\"color: Reset;background-color: Reset;\">─</span><span style=\"color: Reset;background-color: Reset;\">─</span><span style=\"color: Reset;background-color: Reset;\">─</span><span style=\"color: Reset;background-color: Reset;\">─</span><span style=\"color: Reset;background-color: Reset;\">─</span><span style=\"color: Reset;background-color: Reset;\">─</span><span style=\"color: Reset;background-color: Reset;\">─</span><span style=\"color: Reset;background-color: Reset;\">─</span><span style=\"color: Reset;background-color: Reset;\">─</span><span style=\"color: Reset;background-color: Reset;\">─</span><span style=\"color: Reset;background-color: Reset;\">─</span><span style=\"color: Reset;background-color: Reset;\">─</span><span style=\"color: Reset;background-color: Reset;\">─</span><span style=\"color: Reset;background-color: Reset;\">─</span><span style=\"color: Reset;background-color: Reset;\">─</span><span style=\"color: Reset;background-color: Reset;\">─</span><span style=\"color: Reset;background-color: Reset;\">─</span><span style=\"color: Reset;background-color: Reset;\">┐</span>\n",
       "<span style=\"color: Reset;background-color: Reset;\">│</span><span style=\"color: Reset;background-color: Reset;\"> </span><span style=\"color: Reset;background-color: Reset;\"> </span><span style=\"color: Reset;background-color: Reset;\"> </span><span style=\"color: Reset;background-color: Reset;\"> </span><span style=\"color: Reset;background-color: Reset;\"> </span><span style=\"color: Reset;background-color: Reset;\"> </span><span style=\"color: Reset;background-color: Reset;\"> </span><span style=\"color: Reset;background-color: Reset;\"> </span><span style=\"color: Reset;background-color: Reset;\"> </span><span style=\"color: Reset;background-color: Reset;\"> </span><span style=\"color: Reset;background-color: Reset;\"> </span><span style=\"color: Reset;background-color: Reset;\"> </span><span style=\"color: Reset;background-color: Reset;\"> </span><span style=\"color: Reset;background-color: Reset;\"> </span><span style=\"color: Reset;background-color: Reset;\"> </span><span style=\"color: Reset;background-color: Reset;\"> </span><span style=\"color: Reset;background-color: Reset;\"> </span><span style=\"color: Reset;background-color: Reset;\"> </span><span style=\"color: Reset;background-color: Reset;\"> </span><span style=\"color: Reset;background-color: Reset;\"> </span><span style=\"color: Reset;background-color: Reset;\"> </span><span style=\"color: Reset;background-color: Reset;\"> </span><span style=\"color: Reset;background-color: Reset;\"> </span><span style=\"color: Reset;background-color: Reset;\"> </span><span style=\"color: Reset;background-color: Reset;\"> </span><span style=\"color: Reset;background-color: Reset;\"> </span><span style=\"color: Reset;background-color: Reset;\"> </span><span style=\"color: Reset;background-color: Reset;\"> </span><span style=\"color: Reset;background-color: Reset;\"> </span><span style=\"color: Reset;background-color: Reset;\"> </span><span style=\"color: Reset;background-color: Reset;\"> </span><span style=\"color: Reset;background-color: Reset;\"> </span><span style=\"color: Reset;background-color: Reset;\"> </span><span style=\"color: Reset;background-color: Reset;\"> </span><span style=\"color: Reset;background-color: Reset;\"> </span><span style=\"color: Reset;background-color: Reset;\"> </span><span style=\"color: Reset;background-color: Reset;\"> </span><span style=\"color: Reset;background-color: Reset;\"> </span><span style=\"color: Reset;background-color: Reset;\"> </span><span style=\"color: Reset;background-color: Reset;\"> </span><span style=\"color: Reset;background-color: Reset;\"> </span><span style=\"color: Reset;background-color: Reset;\"> </span><span style=\"color: Reset;background-color: Reset;\"> </span><span style=\"color: Reset;background-color: Reset;\"> </span><span style=\"color: Reset;background-color: Reset;\"> </span><span style=\"color: Reset;background-color: Reset;\"> </span><span style=\"color: Reset;background-color: Reset;\"> </span><span style=\"color: Reset;background-color: Reset;\"> </span><span style=\"color: Reset;background-color: Reset;\">│</span>\n",
       "<span style=\"color: Reset;background-color: Reset;\">│</span><span style=\"color: Reset;background-color: Reset;\"> </span><span style=\"color: Reset;background-color: Reset;\"> </span><span style=\"color: Reset;background-color: Reset;\"> </span><span style=\"color: Reset;background-color: Reset;\"> </span><span style=\"color: Reset;background-color: Reset;\"> </span><span style=\"color: Reset;background-color: Reset;\"> </span><span style=\"color: Reset;background-color: Reset;\"> </span><span style=\"color: Reset;background-color: Reset;\"> </span><span style=\"color: Reset;background-color: Reset;\"> </span><span style=\"color: Reset;background-color: Reset;\"> </span><span style=\"color: Reset;background-color: Reset;\"> </span><span style=\"color: Reset;background-color: Reset;\"> </span><span style=\"color: Reset;background-color: Reset;\"> </span><span style=\"color: Reset;background-color: Reset;\"> </span><span style=\"color: Reset;background-color: Reset;\"> </span><span style=\"color: Reset;background-color: Reset;\"> </span><span style=\"color: Reset;background-color: Reset;\"> </span><span style=\"color: Reset;background-color: Reset;\"> </span><span style=\"color: Reset;background-color: Reset;\"> </span><span style=\"color: Reset;background-color: Reset;\"> </span><span style=\"color: Reset;background-color: Reset;\"> </span><span style=\"color: Reset;background-color: Reset;\"> </span><span style=\"color: Reset;background-color: Reset;\"> </span><span style=\"color: Reset;background-color: Reset;\"> </span><span style=\"color: Reset;background-color: Reset;\"> </span><span style=\"color: Reset;background-color: Reset;\"> </span><span style=\"color: Reset;background-color: Reset;\"> </span><span style=\"color: Reset;background-color: Reset;\"> </span><span style=\"color: Reset;background-color: Reset;\"> </span><span style=\"color: Reset;background-color: Reset;\"> </span><span style=\"color: Reset;background-color: Reset;\"> </span><span style=\"color: Reset;background-color: Reset;\"> </span><span style=\"color: Reset;background-color: Reset;\"> </span><span style=\"color: Reset;background-color: Reset;\"> </span><span style=\"color: Reset;background-color: Reset;\"> </span><span style=\"color: Reset;background-color: Reset;\"> </span><span style=\"color: Reset;background-color: Reset;\"> </span><span style=\"color: Reset;background-color: Reset;\"> </span><span style=\"color: Reset;background-color: Reset;\"> </span><span style=\"color: Reset;background-color: Reset;\"> </span><span style=\"color: Reset;background-color: Reset;\"> </span><span style=\"color: Reset;background-color: Reset;\"> </span><span style=\"color: Reset;background-color: Reset;\"> </span><span style=\"color: Reset;background-color: Reset;\"> </span><span style=\"color: Reset;background-color: Reset;\"> </span><span style=\"color: Reset;background-color: Reset;\"> </span><span style=\"color: Reset;background-color: Reset;\"> </span><span style=\"color: Reset;background-color: Reset;\"> </span><span style=\"color: Reset;background-color: Reset;\">│</span>\n",
       "<span style=\"color: Reset;background-color: Reset;\">│</span><span style=\"color: Reset;background-color: Reset;\"> </span><span style=\"color: Reset;background-color: Reset;\"> </span><span style=\"color: Reset;background-color: Reset;\"> </span><span style=\"color: Reset;background-color: Reset;\"> </span><span style=\"color: Reset;background-color: Reset;\"> </span><span style=\"color: Reset;background-color: Reset;\"> </span><span style=\"color: Reset;background-color: Reset;\"> </span><span style=\"color: Reset;background-color: Reset;\"> </span><span style=\"color: Reset;background-color: Reset;\"> </span><span style=\"color: Reset;background-color: Reset;\"> </span><span style=\"color: Reset;background-color: Reset;\"> </span><span style=\"color: Reset;background-color: Reset;\"> </span><span style=\"color: Reset;background-color: Reset;\"> </span><span style=\"color: Reset;background-color: Reset;\"> </span><span style=\"color: Reset;background-color: Reset;\"> </span><span style=\"color: Reset;background-color: Reset;\"> </span><span style=\"color: Reset;background-color: Reset;\"> </span><span style=\"color: Reset;background-color: Reset;\"> </span><span style=\"color: Reset;background-color: Reset;\"> </span><span style=\"color: Reset;background-color: Reset;\"> </span><span style=\"color: Reset;background-color: Reset;\"> </span><span style=\"color: Reset;background-color: Reset;\"> </span><span style=\"color: Reset;background-color: Reset;\"> </span><span style=\"color: Reset;background-color: Reset;\"> </span><span style=\"color: Reset;background-color: Reset;\"> </span><span style=\"color: Reset;background-color: Reset;\"> </span><span style=\"color: Reset;background-color: Reset;\"> </span><span style=\"color: Reset;background-color: Reset;\"> </span><span style=\"color: Reset;background-color: Reset;\"> </span><span style=\"color: Reset;background-color: Reset;\"> </span><span style=\"color: Reset;background-color: Reset;\"> </span><span style=\"color: Reset;background-color: Reset;\"> </span><span style=\"color: Reset;background-color: Reset;\"> </span><span style=\"color: Reset;background-color: Reset;\"> </span><span style=\"color: Reset;background-color: Reset;\"> </span><span style=\"color: Reset;background-color: Reset;\"> </span><span style=\"color: Reset;background-color: Reset;\"> </span><span style=\"color: Reset;background-color: Reset;\"> </span><span style=\"color: Reset;background-color: Reset;\"> </span><span style=\"color: Reset;background-color: Reset;\"> </span><span style=\"color: Reset;background-color: Reset;\"> </span><span style=\"color: Reset;background-color: Reset;\"> </span><span style=\"color: Reset;background-color: Reset;\"> </span><span style=\"color: Reset;background-color: Reset;\"> </span><span style=\"color: Reset;background-color: Reset;\"> </span><span style=\"color: Reset;background-color: Reset;\"> </span><span style=\"color: Reset;background-color: Reset;\"> </span><span style=\"color: Reset;background-color: Reset;\"> </span><span style=\"color: Reset;background-color: Reset;\">│</span>\n",
       "<span style=\"color: Reset;background-color: Reset;\">└</span><span style=\"color: Reset;background-color: Reset;\">─</span><span style=\"color: Reset;background-color: Reset;\">─</span><span style=\"color: Reset;background-color: Reset;\">─</span><span style=\"color: Reset;background-color: Reset;\">─</span><span style=\"color: Reset;background-color: Reset;\">─</span><span style=\"color: Reset;background-color: Reset;\">─</span><span style=\"color: Reset;background-color: Reset;\">─</span><span style=\"color: Reset;background-color: Reset;\">─</span><span style=\"color: Reset;background-color: Reset;\">─</span><span style=\"color: Reset;background-color: Reset;\">─</span><span style=\"color: Reset;background-color: Reset;\">─</span><span style=\"color: Reset;background-color: Reset;\">─</span><span style=\"color: Reset;background-color: Reset;\">─</span><span style=\"color: Reset;background-color: Reset;\">─</span><span style=\"color: Reset;background-color: Reset;\">─</span><span style=\"color: Reset;background-color: Reset;\">─</span><span style=\"color: Reset;background-color: Reset;\">─</span><span style=\"color: Reset;background-color: Reset;\">─</span><span style=\"color: Reset;background-color: Reset;\">─</span><span style=\"color: Reset;background-color: Reset;\">─</span><span style=\"color: Reset;background-color: Reset;\">─</span><span style=\"color: Reset;background-color: Reset;\">─</span><span style=\"color: Reset;background-color: Reset;\">─</span><span style=\"color: Reset;background-color: Reset;\">─</span><span style=\"color: Reset;background-color: Reset;\">─</span><span style=\"color: Reset;background-color: Reset;\">─</span><span style=\"color: Reset;background-color: Reset;\">─</span><span style=\"color: Reset;background-color: Reset;\">─</span><span style=\"color: Reset;background-color: Reset;\">─</span><span style=\"color: Reset;background-color: Reset;\">─</span><span style=\"color: Reset;background-color: Reset;\">─</span><span style=\"color: Reset;background-color: Reset;\">─</span><span style=\"color: Reset;background-color: Reset;\">─</span><span style=\"color: Reset;background-color: Reset;\">─</span><span style=\"color: Reset;background-color: Reset;\">─</span><span style=\"color: Reset;background-color: Reset;\">─</span><span style=\"color: Reset;background-color: Reset;\">─</span><span style=\"color: Reset;background-color: Reset;\">─</span><span style=\"color: Reset;background-color: Reset;\">─</span><span style=\"color: Reset;background-color: Reset;\">─</span><span style=\"color: Reset;background-color: Reset;\">─</span><span style=\"color: Reset;background-color: Reset;\">─</span><span style=\"color: Reset;background-color: Reset;\">─</span><span style=\"color: Reset;background-color: Reset;\">─</span><span style=\"color: Reset;background-color: Reset;\">─</span><span style=\"color: Reset;background-color: Reset;\">─</span><span style=\"color: Reset;background-color: Reset;\">─</span><span style=\"color: Reset;background-color: Reset;\">─</span><span style=\"color: Reset;background-color: Reset;\">┘</span>\n",
       "</code></pre>\n",
       "</div>"
      ],
      "text/plain": [
       "()"
      ]
     },
     "execution_count": 10,
     "metadata": {},
     "output_type": "execute_result"
    }
   ],
   "source": [
    "use ratatui::widgets::Widget;\n",
    "\n",
    "let (x, y, width, height) = (0, 0, 50, 5); \n",
    "let area = ratatui::layout::Rect::new(x, y, width, height);\n",
    "let mut buf = ratatui::buffer::Buffer::empty(area);\n",
    "ratatui::widgets::Block::bordered().render(area, &mut buf);\n",
    "\n",
    "show_html(buffer_to_html(&buf))"
   ]
  },
  {
   "cell_type": "markdown",
   "id": "d9dfa632-a2ff-4432-8ac3-f6450115d033",
   "metadata": {},
   "source": [
    "Most widgets accept a `Block` as a fluent setter. We saw from earlier that the `Paragraph` has a `.block()` method that accepts a `Block`."
   ]
  },
  {
   "cell_type": "markdown",
   "id": "0d4ecb04-59b6-475e-a773-1f5fdc1d97e7",
   "metadata": {
    "execution": {
     "iopub.execute_input": "2024-05-15T04:20:07.111508+00:00",
     "iopub.status.busy": "2024-05-15T04:20:07.111316+00:00",
     "iopub.status.idle": "2024-05-15T04:20:07.111463+00:00",
     "shell.execute_reply": "2024-05-15T04:20:08.244484+00:00"
    }
   },
   "source": [
    "```rust\n",
    "let paragraph = Paragraph::new(text).block(block).centered();\n",
    "```"
   ]
  },
  {
   "cell_type": "markdown",
   "id": "5c117708-beb3-46b8-ab38-fce61d95c5ec",
   "metadata": {},
   "source": [
    "Blocks can have different kinds of borders:"
   ]
  },
  {
   "cell_type": "code",
   "execution_count": 11,
   "id": "1d8cdc0e-9f43-41f3-aab7-d94bcc3946da",
   "metadata": {
    "execution": {
     "iopub.execute_input": "2024-05-17T16:31:34.597008+00:00",
     "iopub.status.busy": "2024-05-17T16:31:34.596825+00:00",
     "iopub.status.idle": "2024-05-17T16:31:34.596967+00:00",
     "shell.execute_reply": "2024-05-17T16:31:35.180101+00:00"
    }
   },
   "outputs": [
    {
     "data": {
      "text/html": [
       "<div style=\"display: flex; justify-content:start; gap: 1em; margin: 1em\">\n",
       "<pre><code><span style=\"color: Reset;background-color: Reset;\">─</span><span style=\"color: Reset;background-color: Reset;\">─</span><span style=\"color: Reset;background-color: Reset;\">─</span><span style=\"color: Reset;background-color: Reset;\">─</span><span style=\"color: Reset;background-color: Reset;\">─</span><span style=\"color: Reset;background-color: Reset;\">─</span><span style=\"color: Reset;background-color: Reset;\">─</span><span style=\"color: Reset;background-color: Reset;\">─</span><span style=\"color: Reset;background-color: Reset;\">─</span><span style=\"color: Reset;background-color: Reset;\">─</span><span style=\"color: Reset;background-color: Reset;\">─</span><span style=\"color: Reset;background-color: Reset;\">─</span><span style=\"color: Reset;background-color: Reset;\">─</span><span style=\"color: Reset;background-color: Reset;\">─</span><span style=\"color: Reset;background-color: Reset;\">─</span><span style=\"color: Reset;background-color: Reset;\">─</span><span style=\"color: Reset;background-color: Reset;\">─</span><span style=\"color: Reset;background-color: Reset;\">─</span><span style=\"color: Reset;background-color: Reset;\">─</span><span style=\"color: Reset;background-color: Reset;\">─</span><span style=\"color: Reset;background-color: Reset;\">─</span><span style=\"color: Reset;background-color: Reset;\">─</span><span style=\"color: Reset;background-color: Reset;\">─</span><span style=\"color: Reset;background-color: Reset;\">─</span><span style=\"color: Reset;background-color: Reset;\">─</span><span style=\"color: Reset;background-color: Reset;\">─</span><span style=\"color: Reset;background-color: Reset;\">─</span><span style=\"color: Reset;background-color: Reset;\">─</span><span style=\"color: Reset;background-color: Reset;\">─</span><span style=\"color: Reset;background-color: Reset;\">─</span><span style=\"color: Reset;background-color: Reset;\">─</span><span style=\"color: Reset;background-color: Reset;\">─</span><span style=\"color: Reset;background-color: Reset;\">─</span><span style=\"color: Reset;background-color: Reset;\">─</span><span style=\"color: Reset;background-color: Reset;\">─</span><span style=\"color: Reset;background-color: Reset;\">─</span><span style=\"color: Reset;background-color: Reset;\">─</span><span style=\"color: Reset;background-color: Reset;\">─</span><span style=\"color: Reset;background-color: Reset;\">─</span><span style=\"color: Reset;background-color: Reset;\">─</span><span style=\"color: Reset;background-color: Reset;\">─</span><span style=\"color: Reset;background-color: Reset;\">─</span><span style=\"color: Reset;background-color: Reset;\">─</span><span style=\"color: Reset;background-color: Reset;\">─</span><span style=\"color: Reset;background-color: Reset;\">─</span><span style=\"color: Reset;background-color: Reset;\">─</span><span style=\"color: Reset;background-color: Reset;\">─</span><span style=\"color: Reset;background-color: Reset;\">─</span><span style=\"color: Reset;background-color: Reset;\">─</span><span style=\"color: Reset;background-color: Reset;\">─</span>\n",
       "<span style=\"color: Reset;background-color: Reset;\"> </span><span style=\"color: Reset;background-color: Reset;\"> </span><span style=\"color: Reset;background-color: Reset;\">╔</span><span style=\"color: Reset;background-color: Reset;\">═</span><span style=\"color: Reset;background-color: Reset;\">═</span><span style=\"color: Reset;background-color: Reset;\">═</span><span style=\"color: Reset;background-color: Reset;\">═</span><span style=\"color: Reset;background-color: Reset;\">═</span><span style=\"color: Reset;background-color: Reset;\">═</span><span style=\"color: Reset;background-color: Reset;\">═</span><span style=\"color: Reset;background-color: Reset;\">═</span><span style=\"color: Reset;background-color: Reset;\">═</span><span style=\"color: Reset;background-color: Reset;\">═</span><span style=\"color: Reset;background-color: Reset;\">═</span><span style=\"color: Reset;background-color: Reset;\">═</span><span style=\"color: Reset;background-color: Reset;\">═</span><span style=\"color: Reset;background-color: Reset;\">═</span><span style=\"color: Reset;background-color: Reset;\">═</span><span style=\"color: Reset;background-color: Reset;\">═</span><span style=\"color: Reset;background-color: Reset;\">═</span><span style=\"color: Reset;background-color: Reset;\">═</span><span style=\"color: Reset;background-color: Reset;\">═</span><span style=\"color: Reset;background-color: Reset;\">═</span><span style=\"color: Reset;background-color: Reset;\">═</span><span style=\"color: Reset;background-color: Reset;\">═</span><span style=\"color: Reset;background-color: Reset;\">═</span><span style=\"color: Reset;background-color: Reset;\">═</span><span style=\"color: Reset;background-color: Reset;\">═</span><span style=\"color: Reset;background-color: Reset;\">═</span><span style=\"color: Reset;background-color: Reset;\">═</span><span style=\"color: Reset;background-color: Reset;\">═</span><span style=\"color: Reset;background-color: Reset;\">═</span><span style=\"color: Reset;background-color: Reset;\">═</span><span style=\"color: Reset;background-color: Reset;\">═</span><span style=\"color: Reset;background-color: Reset;\">═</span><span style=\"color: Reset;background-color: Reset;\">═</span><span style=\"color: Reset;background-color: Reset;\">═</span><span style=\"color: Reset;background-color: Reset;\">═</span><span style=\"color: Reset;background-color: Reset;\">═</span><span style=\"color: Reset;background-color: Reset;\">═</span><span style=\"color: Reset;background-color: Reset;\">═</span><span style=\"color: Reset;background-color: Reset;\">═</span><span style=\"color: Reset;background-color: Reset;\">═</span><span style=\"color: Reset;background-color: Reset;\">═</span><span style=\"color: Reset;background-color: Reset;\">═</span><span style=\"color: Reset;background-color: Reset;\">═</span><span style=\"color: Reset;background-color: Reset;\">═</span><span style=\"color: Reset;background-color: Reset;\">╗</span><span style=\"color: Reset;background-color: Reset;\"> </span><span style=\"color: Reset;background-color: Reset;\"> </span>\n",
       "<span style=\"color: Reset;background-color: Reset;\"> </span><span style=\"color: Reset;background-color: Reset;\"> </span><span style=\"color: Reset;background-color: Reset;\">║</span><span style=\"color: Reset;background-color: Reset;\"> </span><span style=\"color: Reset;background-color: Reset;\"> </span><span style=\"color: Reset;background-color: Reset;\"> </span><span style=\"color: Reset;background-color: Reset;\"> </span><span style=\"color: Reset;background-color: Reset;\"> </span><span style=\"color: Reset;background-color: Reset;\"> </span><span style=\"color: Reset;background-color: Reset;\"> </span><span style=\"color: Reset;background-color: Reset;\"> </span><span style=\"color: Reset;background-color: Reset;\"> </span><span style=\"color: Reset;background-color: Reset;\"> </span><span style=\"color: Reset;background-color: Reset;\"> </span><span style=\"color: Reset;background-color: Reset;\"> </span><span style=\"color: Reset;background-color: Reset;\"> </span><span style=\"color: Reset;background-color: Reset;\"> </span><span style=\"color: Reset;background-color: Reset;\"> </span><span style=\"color: Reset;background-color: Reset;\"> </span><span style=\"color: Reset;background-color: Reset;\"> </span><span style=\"color: Reset;background-color: Reset;\"> </span><span style=\"color: Reset;background-color: Reset;\"> </span><span style=\"color: Reset;background-color: Reset;\"> </span><span style=\"color: Reset;background-color: Reset;\"> </span><span style=\"color: Reset;background-color: Reset;\"> </span><span style=\"color: Reset;background-color: Reset;\"> </span><span style=\"color: Reset;background-color: Reset;\"> </span><span style=\"color: Reset;background-color: Reset;\"> </span><span style=\"color: Reset;background-color: Reset;\"> </span><span style=\"color: Reset;background-color: Reset;\"> </span><span style=\"color: Reset;background-color: Reset;\"> </span><span style=\"color: Reset;background-color: Reset;\"> </span><span style=\"color: Reset;background-color: Reset;\"> </span><span style=\"color: Reset;background-color: Reset;\"> </span><span style=\"color: Reset;background-color: Reset;\"> </span><span style=\"color: Reset;background-color: Reset;\"> </span><span style=\"color: Reset;background-color: Reset;\"> </span><span style=\"color: Reset;background-color: Reset;\"> </span><span style=\"color: Reset;background-color: Reset;\"> </span><span style=\"color: Reset;background-color: Reset;\"> </span><span style=\"color: Reset;background-color: Reset;\"> </span><span style=\"color: Reset;background-color: Reset;\"> </span><span style=\"color: Reset;background-color: Reset;\"> </span><span style=\"color: Reset;background-color: Reset;\"> </span><span style=\"color: Reset;background-color: Reset;\"> </span><span style=\"color: Reset;background-color: Reset;\"> </span><span style=\"color: Reset;background-color: Reset;\"> </span><span style=\"color: Reset;background-color: Reset;\">║</span><span style=\"color: Reset;background-color: Reset;\"> </span><span style=\"color: Reset;background-color: Reset;\"> </span>\n",
       "<span style=\"color: Reset;background-color: Reset;\"> </span><span style=\"color: Reset;background-color: Reset;\"> </span><span style=\"color: Reset;background-color: Reset;\">╚</span><span style=\"color: Reset;background-color: Reset;\">═</span><span style=\"color: Reset;background-color: Reset;\">═</span><span style=\"color: Reset;background-color: Reset;\">═</span><span style=\"color: Reset;background-color: Reset;\">═</span><span style=\"color: Reset;background-color: Reset;\">═</span><span style=\"color: Reset;background-color: Reset;\">═</span><span style=\"color: Reset;background-color: Reset;\">═</span><span style=\"color: Reset;background-color: Reset;\">═</span><span style=\"color: Reset;background-color: Reset;\">═</span><span style=\"color: Reset;background-color: Reset;\">═</span><span style=\"color: Reset;background-color: Reset;\">═</span><span style=\"color: Reset;background-color: Reset;\">═</span><span style=\"color: Reset;background-color: Reset;\">═</span><span style=\"color: Reset;background-color: Reset;\">═</span><span style=\"color: Reset;background-color: Reset;\">═</span><span style=\"color: Reset;background-color: Reset;\">═</span><span style=\"color: Reset;background-color: Reset;\">═</span><span style=\"color: Reset;background-color: Reset;\">═</span><span style=\"color: Reset;background-color: Reset;\">═</span><span style=\"color: Reset;background-color: Reset;\">═</span><span style=\"color: Reset;background-color: Reset;\">═</span><span style=\"color: Reset;background-color: Reset;\">═</span><span style=\"color: Reset;background-color: Reset;\">═</span><span style=\"color: Reset;background-color: Reset;\">═</span><span style=\"color: Reset;background-color: Reset;\">═</span><span style=\"color: Reset;background-color: Reset;\">═</span><span style=\"color: Reset;background-color: Reset;\">═</span><span style=\"color: Reset;background-color: Reset;\">═</span><span style=\"color: Reset;background-color: Reset;\">═</span><span style=\"color: Reset;background-color: Reset;\">═</span><span style=\"color: Reset;background-color: Reset;\">═</span><span style=\"color: Reset;background-color: Reset;\">═</span><span style=\"color: Reset;background-color: Reset;\">═</span><span style=\"color: Reset;background-color: Reset;\">═</span><span style=\"color: Reset;background-color: Reset;\">═</span><span style=\"color: Reset;background-color: Reset;\">═</span><span style=\"color: Reset;background-color: Reset;\">═</span><span style=\"color: Reset;background-color: Reset;\">═</span><span style=\"color: Reset;background-color: Reset;\">═</span><span style=\"color: Reset;background-color: Reset;\">═</span><span style=\"color: Reset;background-color: Reset;\">═</span><span style=\"color: Reset;background-color: Reset;\">═</span><span style=\"color: Reset;background-color: Reset;\">═</span><span style=\"color: Reset;background-color: Reset;\">═</span><span style=\"color: Reset;background-color: Reset;\">╝</span><span style=\"color: Reset;background-color: Reset;\"> </span><span style=\"color: Reset;background-color: Reset;\"> </span>\n",
       "<span style=\"color: Reset;background-color: Reset;\">─</span><span style=\"color: Reset;background-color: Reset;\">─</span><span style=\"color: Reset;background-color: Reset;\">─</span><span style=\"color: Reset;background-color: Reset;\">─</span><span style=\"color: Reset;background-color: Reset;\">─</span><span style=\"color: Reset;background-color: Reset;\">─</span><span style=\"color: Reset;background-color: Reset;\">─</span><span style=\"color: Reset;background-color: Reset;\">─</span><span style=\"color: Reset;background-color: Reset;\">─</span><span style=\"color: Reset;background-color: Reset;\">─</span><span style=\"color: Reset;background-color: Reset;\">─</span><span style=\"color: Reset;background-color: Reset;\">─</span><span style=\"color: Reset;background-color: Reset;\">─</span><span style=\"color: Reset;background-color: Reset;\">─</span><span style=\"color: Reset;background-color: Reset;\">─</span><span style=\"color: Reset;background-color: Reset;\">─</span><span style=\"color: Reset;background-color: Reset;\">─</span><span style=\"color: Reset;background-color: Reset;\">─</span><span style=\"color: Reset;background-color: Reset;\">─</span><span style=\"color: Reset;background-color: Reset;\">─</span><span style=\"color: Reset;background-color: Reset;\">─</span><span style=\"color: Reset;background-color: Reset;\">─</span><span style=\"color: Reset;background-color: Reset;\">─</span><span style=\"color: Reset;background-color: Reset;\">─</span><span style=\"color: Reset;background-color: Reset;\">─</span><span style=\"color: Reset;background-color: Reset;\">─</span><span style=\"color: Reset;background-color: Reset;\">─</span><span style=\"color: Reset;background-color: Reset;\">─</span><span style=\"color: Reset;background-color: Reset;\">─</span><span style=\"color: Reset;background-color: Reset;\">─</span><span style=\"color: Reset;background-color: Reset;\">─</span><span style=\"color: Reset;background-color: Reset;\">─</span><span style=\"color: Reset;background-color: Reset;\">─</span><span style=\"color: Reset;background-color: Reset;\">─</span><span style=\"color: Reset;background-color: Reset;\">─</span><span style=\"color: Reset;background-color: Reset;\">─</span><span style=\"color: Reset;background-color: Reset;\">─</span><span style=\"color: Reset;background-color: Reset;\">─</span><span style=\"color: Reset;background-color: Reset;\">─</span><span style=\"color: Reset;background-color: Reset;\">─</span><span style=\"color: Reset;background-color: Reset;\">─</span><span style=\"color: Reset;background-color: Reset;\">─</span><span style=\"color: Reset;background-color: Reset;\">─</span><span style=\"color: Reset;background-color: Reset;\">─</span><span style=\"color: Reset;background-color: Reset;\">─</span><span style=\"color: Reset;background-color: Reset;\">─</span><span style=\"color: Reset;background-color: Reset;\">─</span><span style=\"color: Reset;background-color: Reset;\">─</span><span style=\"color: Reset;background-color: Reset;\">─</span><span style=\"color: Reset;background-color: Reset;\">─</span>\n",
       "</code></pre>\n",
       "</div>"
      ],
      "text/plain": [
       "()"
      ]
     },
     "execution_count": 11,
     "metadata": {},
     "output_type": "execute_result"
    }
   ],
   "source": [
    "let (x, y, width, height) = (0, 0, 50, 5); \n",
    "let area = ratatui::layout::Rect::new(x, y, width, height);\n",
    "let mut buf = ratatui::buffer::Buffer::empty(area);\n",
    "\n",
    "ratatui::widgets::Block::bordered().border_type(\n",
    "    ratatui::widgets::BorderType::Double\n",
    ").render(area.inner(&ratatui::layout::Margin::new(2, 1)), &mut buf);\n",
    "\n",
    "ratatui::widgets::Block::bordered().borders(\n",
    "    ratatui::widgets::Borders::TOP | ratatui::widgets::Borders::BOTTOM\n",
    ").render(area, &mut buf);\n",
    "\n",
    "show_html(buffer_to_html(&buf))"
   ]
  },
  {
   "cell_type": "markdown",
   "id": "5bb94495-9187-468d-9a41-6c9eb1cb42ab",
   "metadata": {},
   "source": [
    "And `Block` can have multiple titles in different locations:"
   ]
  },
  {
   "cell_type": "code",
   "execution_count": 16,
   "id": "d0218e8c-2034-4df1-8b17-7166ca8487f6",
   "metadata": {
    "execution": {
     "iopub.execute_input": "2024-05-17T16:32:36.797571+00:00",
     "iopub.status.busy": "2024-05-17T16:32:36.797317+00:00",
     "iopub.status.idle": "2024-05-17T16:32:36.797521+00:00",
     "shell.execute_reply": "2024-05-17T16:32:37.507869+00:00"
    }
   },
   "outputs": [
    {
     "data": {
      "text/html": [
       "<div style=\"display: flex; justify-content:start; gap: 1em; margin: 1em\">\n",
       "<pre><code><span style=\"color: Reset;background-color: Reset;\">┌</span><span style=\"color: Reset;background-color: Reset;\">T</span><span style=\"color: Reset;background-color: Reset;\">o</span><span style=\"color: Reset;background-color: Reset;\">p</span><span style=\"color: Reset;background-color: Reset;\"> </span><span style=\"color: Reset;background-color: Reset;\">L</span><span style=\"color: Reset;background-color: Reset;\">e</span><span style=\"color: Reset;background-color: Reset;\">f</span><span style=\"color: Reset;background-color: Reset;\">t</span><span style=\"color: Reset;background-color: Reset;\">─</span><span style=\"color: Reset;background-color: Reset;\">─</span><span style=\"color: Reset;background-color: Reset;\">─</span><span style=\"color: Reset;background-color: Reset;\">─</span><span style=\"color: Reset;background-color: Reset;\">─</span><span style=\"color: Reset;background-color: Reset;\">─</span><span style=\"color: Reset;background-color: Reset;\">─</span><span style=\"color: Reset;background-color: Reset;\">─</span><span style=\"color: Reset;background-color: Reset;\">─</span><span style=\"color: Reset;background-color: Reset;\">─</span><span style=\"color: Reset;background-color: Reset;\">─</span><span style=\"color: Reset;background-color: Reset;\">T</span><span style=\"color: Reset;background-color: Reset;\">o</span><span style=\"color: Reset;background-color: Reset;\">p</span><span style=\"color: Reset;background-color: Reset;\"> </span><span style=\"color: Reset;background-color: Reset;\">C</span><span style=\"color: Reset;background-color: Reset;\">e</span><span style=\"color: Reset;background-color: Reset;\">n</span><span style=\"color: Reset;background-color: Reset;\">t</span><span style=\"color: Reset;background-color: Reset;\">e</span><span style=\"color: Reset;background-color: Reset;\">r</span><span style=\"color: Reset;background-color: Reset;\">─</span><span style=\"color: Reset;background-color: Reset;\">─</span><span style=\"color: Reset;background-color: Reset;\">─</span><span style=\"color: Reset;background-color: Reset;\">─</span><span style=\"color: Reset;background-color: Reset;\">─</span><span style=\"color: Reset;background-color: Reset;\">─</span><span style=\"color: Reset;background-color: Reset;\">─</span><span style=\"color: Reset;background-color: Reset;\">─</span><span style=\"color: Reset;background-color: Reset;\">─</span><span style=\"color: Reset;background-color: Reset;\">─</span><span style=\"color: Reset;background-color: Reset;\">T</span><span style=\"color: Reset;background-color: Reset;\">o</span><span style=\"color: Reset;background-color: Reset;\">p</span><span style=\"color: Reset;background-color: Reset;\"> </span><span style=\"color: Reset;background-color: Reset;\">R</span><span style=\"color: Reset;background-color: Reset;\">i</span><span style=\"color: Reset;background-color: Reset;\">g</span><span style=\"color: Reset;background-color: Reset;\">h</span><span style=\"color: Reset;background-color: Reset;\">t</span><span style=\"color: Reset;background-color: Reset;\">┐</span>\n",
       "<span style=\"color: Reset;background-color: Reset;\">│</span><span style=\"color: Reset;background-color: Reset;\"> </span><span style=\"color: Reset;background-color: Reset;\"> </span><span style=\"color: Reset;background-color: Reset;\"> </span><span style=\"color: Reset;background-color: Reset;\"> </span><span style=\"color: Reset;background-color: Reset;\"> </span><span style=\"color: Reset;background-color: Reset;\"> </span><span style=\"color: Reset;background-color: Reset;\"> </span><span style=\"color: Reset;background-color: Reset;\"> </span><span style=\"color: Reset;background-color: Reset;\"> </span><span style=\"color: Reset;background-color: Reset;\"> </span><span style=\"color: Reset;background-color: Reset;\"> </span><span style=\"color: Reset;background-color: Reset;\"> </span><span style=\"color: Reset;background-color: Reset;\"> </span><span style=\"color: Reset;background-color: Reset;\"> </span><span style=\"color: Reset;background-color: Reset;\"> </span><span style=\"color: Reset;background-color: Reset;\"> </span><span style=\"color: Reset;background-color: Reset;\"> </span><span style=\"color: Reset;background-color: Reset;\"> </span><span style=\"color: Reset;background-color: Reset;\"> </span><span style=\"color: Reset;background-color: Reset;\"> </span><span style=\"color: Reset;background-color: Reset;\"> </span><span style=\"color: Reset;background-color: Reset;\"> </span><span style=\"color: Reset;background-color: Reset;\"> </span><span style=\"color: Reset;background-color: Reset;\"> </span><span style=\"color: Reset;background-color: Reset;\"> </span><span style=\"color: Reset;background-color: Reset;\"> </span><span style=\"color: Reset;background-color: Reset;\"> </span><span style=\"color: Reset;background-color: Reset;\"> </span><span style=\"color: Reset;background-color: Reset;\"> </span><span style=\"color: Reset;background-color: Reset;\"> </span><span style=\"color: Reset;background-color: Reset;\"> </span><span style=\"color: Reset;background-color: Reset;\"> </span><span style=\"color: Reset;background-color: Reset;\"> </span><span style=\"color: Reset;background-color: Reset;\"> </span><span style=\"color: Reset;background-color: Reset;\"> </span><span style=\"color: Reset;background-color: Reset;\"> </span><span style=\"color: Reset;background-color: Reset;\"> </span><span style=\"color: Reset;background-color: Reset;\"> </span><span style=\"color: Reset;background-color: Reset;\"> </span><span style=\"color: Reset;background-color: Reset;\"> </span><span style=\"color: Reset;background-color: Reset;\"> </span><span style=\"color: Reset;background-color: Reset;\"> </span><span style=\"color: Reset;background-color: Reset;\"> </span><span style=\"color: Reset;background-color: Reset;\"> </span><span style=\"color: Reset;background-color: Reset;\"> </span><span style=\"color: Reset;background-color: Reset;\"> </span><span style=\"color: Reset;background-color: Reset;\"> </span><span style=\"color: Reset;background-color: Reset;\"> </span><span style=\"color: Reset;background-color: Reset;\">│</span>\n",
       "<span style=\"color: Reset;background-color: Reset;\">│</span><span style=\"color: Reset;background-color: Reset;\"> </span><span style=\"color: Reset;background-color: Reset;\"> </span><span style=\"color: Reset;background-color: Reset;\"> </span><span style=\"color: Reset;background-color: Reset;\"> </span><span style=\"color: Reset;background-color: Reset;\"> </span><span style=\"color: Reset;background-color: Reset;\"> </span><span style=\"color: Reset;background-color: Reset;\"> </span><span style=\"color: Reset;background-color: Reset;\"> </span><span style=\"color: Reset;background-color: Reset;\"> </span><span style=\"color: Reset;background-color: Reset;\"> </span><span style=\"color: Reset;background-color: Reset;\"> </span><span style=\"color: Reset;background-color: Reset;\"> </span><span style=\"color: Reset;background-color: Reset;\"> </span><span style=\"color: Reset;background-color: Reset;\"> </span><span style=\"color: Reset;background-color: Reset;\"> </span><span style=\"color: Reset;background-color: Reset;\"> </span><span style=\"color: Reset;background-color: Reset;\"> </span><span style=\"color: Reset;background-color: Reset;\"> </span><span style=\"color: Reset;background-color: Reset;\"> </span><span style=\"color: Reset;background-color: Reset;\"> </span><span style=\"color: Reset;background-color: Reset;\"> </span><span style=\"color: Reset;background-color: Reset;\"> </span><span style=\"color: Reset;background-color: Reset;\"> </span><span style=\"color: Reset;background-color: Reset;\"> </span><span style=\"color: Reset;background-color: Reset;\"> </span><span style=\"color: Reset;background-color: Reset;\"> </span><span style=\"color: Reset;background-color: Reset;\"> </span><span style=\"color: Reset;background-color: Reset;\"> </span><span style=\"color: Reset;background-color: Reset;\"> </span><span style=\"color: Reset;background-color: Reset;\"> </span><span style=\"color: Reset;background-color: Reset;\"> </span><span style=\"color: Reset;background-color: Reset;\"> </span><span style=\"color: Reset;background-color: Reset;\"> </span><span style=\"color: Reset;background-color: Reset;\"> </span><span style=\"color: Reset;background-color: Reset;\"> </span><span style=\"color: Reset;background-color: Reset;\"> </span><span style=\"color: Reset;background-color: Reset;\"> </span><span style=\"color: Reset;background-color: Reset;\"> </span><span style=\"color: Reset;background-color: Reset;\"> </span><span style=\"color: Reset;background-color: Reset;\"> </span><span style=\"color: Reset;background-color: Reset;\"> </span><span style=\"color: Reset;background-color: Reset;\"> </span><span style=\"color: Reset;background-color: Reset;\"> </span><span style=\"color: Reset;background-color: Reset;\"> </span><span style=\"color: Reset;background-color: Reset;\"> </span><span style=\"color: Reset;background-color: Reset;\"> </span><span style=\"color: Reset;background-color: Reset;\"> </span><span style=\"color: Reset;background-color: Reset;\"> </span><span style=\"color: Reset;background-color: Reset;\">│</span>\n",
       "<span style=\"color: Reset;background-color: Reset;\">│</span><span style=\"color: Reset;background-color: Reset;\"> </span><span style=\"color: Reset;background-color: Reset;\"> </span><span style=\"color: Reset;background-color: Reset;\"> </span><span style=\"color: Reset;background-color: Reset;\"> </span><span style=\"color: Reset;background-color: Reset;\"> </span><span style=\"color: Reset;background-color: Reset;\"> </span><span style=\"color: Reset;background-color: Reset;\"> </span><span style=\"color: Reset;background-color: Reset;\"> </span><span style=\"color: Reset;background-color: Reset;\"> </span><span style=\"color: Reset;background-color: Reset;\"> </span><span style=\"color: Reset;background-color: Reset;\"> </span><span style=\"color: Reset;background-color: Reset;\"> </span><span style=\"color: Reset;background-color: Reset;\"> </span><span style=\"color: Reset;background-color: Reset;\"> </span><span style=\"color: Reset;background-color: Reset;\"> </span><span style=\"color: Reset;background-color: Reset;\"> </span><span style=\"color: Reset;background-color: Reset;\"> </span><span style=\"color: Reset;background-color: Reset;\"> </span><span style=\"color: Reset;background-color: Reset;\"> </span><span style=\"color: Reset;background-color: Reset;\"> </span><span style=\"color: Reset;background-color: Reset;\"> </span><span style=\"color: Reset;background-color: Reset;\"> </span><span style=\"color: Reset;background-color: Reset;\"> </span><span style=\"color: Reset;background-color: Reset;\"> </span><span style=\"color: Reset;background-color: Reset;\"> </span><span style=\"color: Reset;background-color: Reset;\"> </span><span style=\"color: Reset;background-color: Reset;\"> </span><span style=\"color: Reset;background-color: Reset;\"> </span><span style=\"color: Reset;background-color: Reset;\"> </span><span style=\"color: Reset;background-color: Reset;\"> </span><span style=\"color: Reset;background-color: Reset;\"> </span><span style=\"color: Reset;background-color: Reset;\"> </span><span style=\"color: Reset;background-color: Reset;\"> </span><span style=\"color: Reset;background-color: Reset;\"> </span><span style=\"color: Reset;background-color: Reset;\"> </span><span style=\"color: Reset;background-color: Reset;\"> </span><span style=\"color: Reset;background-color: Reset;\"> </span><span style=\"color: Reset;background-color: Reset;\"> </span><span style=\"color: Reset;background-color: Reset;\"> </span><span style=\"color: Reset;background-color: Reset;\"> </span><span style=\"color: Reset;background-color: Reset;\"> </span><span style=\"color: Reset;background-color: Reset;\"> </span><span style=\"color: Reset;background-color: Reset;\"> </span><span style=\"color: Reset;background-color: Reset;\"> </span><span style=\"color: Reset;background-color: Reset;\"> </span><span style=\"color: Reset;background-color: Reset;\"> </span><span style=\"color: Reset;background-color: Reset;\"> </span><span style=\"color: Reset;background-color: Reset;\"> </span><span style=\"color: Reset;background-color: Reset;\">│</span>\n",
       "<span style=\"color: Reset;background-color: Reset;\">└</span><span style=\"color: Reset;background-color: Reset;\">B</span><span style=\"color: Reset;background-color: Reset;\">o</span><span style=\"color: Reset;background-color: Reset;\">t</span><span style=\"color: Reset;background-color: Reset;\">t</span><span style=\"color: Reset;background-color: Reset;\">o</span><span style=\"color: Reset;background-color: Reset;\">m</span><span style=\"color: Reset;background-color: Reset;\"> </span><span style=\"color: Reset;background-color: Reset;\">L</span><span style=\"color: Reset;background-color: Reset;\">e</span><span style=\"color: Reset;background-color: Reset;\">f</span><span style=\"color: Reset;background-color: Reset;\">t</span><span style=\"color: Reset;background-color: Reset;\">─</span><span style=\"color: Reset;background-color: Reset;\">─</span><span style=\"color: Reset;background-color: Reset;\">─</span><span style=\"color: Reset;background-color: Reset;\">─</span><span style=\"color: Reset;background-color: Reset;\">─</span><span style=\"color: Reset;background-color: Reset;\">─</span><span style=\"color: Reset;background-color: Reset;\">B</span><span style=\"color: Reset;background-color: Reset;\">o</span><span style=\"color: Reset;background-color: Reset;\">t</span><span style=\"color: Reset;background-color: Reset;\">t</span><span style=\"color: Reset;background-color: Reset;\">o</span><span style=\"color: Reset;background-color: Reset;\">m</span><span style=\"color: Reset;background-color: Reset;\"> </span><span style=\"color: Reset;background-color: Reset;\">C</span><span style=\"color: Reset;background-color: Reset;\">e</span><span style=\"color: Reset;background-color: Reset;\">n</span><span style=\"color: Reset;background-color: Reset;\">t</span><span style=\"color: Reset;background-color: Reset;\">e</span><span style=\"color: Reset;background-color: Reset;\">r</span><span style=\"color: Reset;background-color: Reset;\">─</span><span style=\"color: Reset;background-color: Reset;\">─</span><span style=\"color: Reset;background-color: Reset;\">─</span><span style=\"color: Reset;background-color: Reset;\">─</span><span style=\"color: Reset;background-color: Reset;\">─</span><span style=\"color: Reset;background-color: Reset;\">─</span><span style=\"color: Reset;background-color: Reset;\">B</span><span style=\"color: Reset;background-color: Reset;\">o</span><span style=\"color: Reset;background-color: Reset;\">t</span><span style=\"color: Reset;background-color: Reset;\">t</span><span style=\"color: Reset;background-color: Reset;\">o</span><span style=\"color: Reset;background-color: Reset;\">m</span><span style=\"color: Reset;background-color: Reset;\"> </span><span style=\"color: Reset;background-color: Reset;\">R</span><span style=\"color: Reset;background-color: Reset;\">i</span><span style=\"color: Reset;background-color: Reset;\">g</span><span style=\"color: Reset;background-color: Reset;\">h</span><span style=\"color: Reset;background-color: Reset;\">t</span><span style=\"color: Reset;background-color: Reset;\">┘</span>\n",
       "</code></pre>\n",
       "</div>"
      ],
      "text/plain": [
       "()"
      ]
     },
     "execution_count": 16,
     "metadata": {},
     "output_type": "execute_result"
    }
   ],
   "source": [
    "use ratatui_macros::line;\n",
    "\n",
    "let (x, y, width, height) = (0, 0, 50, 5); \n",
    "let area = ratatui::layout::Rect::new(x, y, width, height);\n",
    "let mut buf = ratatui::buffer::Buffer::empty(area);\n",
    "\n",
    "let block = ratatui::widgets::Block::bordered()\n",
    "                .title(\"Top Left\") // accepts anything that can be converted to a `Title` or a `Line`\n",
    "                .title(ratatui::text::Line::from(\"Top Center\").centered()) // explicitly need to use `Line` if you want alignment\n",
    "                .title(line![\"Top Right\"].right_aligned()) // you can use the `line!` macro to make it shorter\n",
    "                .title(ratatui::widgets::block::Title::from(\"Bottom Right\") // explicitly using `Title` gives you most control\n",
    "                       .alignment(ratatui::layout::Alignment::Right)\n",
    "                       .position(ratatui::widgets::block::title::Position::Bottom)\n",
    "                )\n",
    "                .title_bottom(ratatui::text::Line::from(\"Bottom Center\").centered()) // shorthand functions for bottom position\n",
    "                .title_bottom(\"Bottom Left\"); // aligned to the left by default\n",
    "\n",
    "block.render(area, &mut buf);\n",
    "\n",
    "show_html(buffer_to_html(&buf))"
   ]
  },
  {
   "cell_type": "markdown",
   "id": "4670d851-89f6-41b5-8ab1-934da1ba1a95",
   "metadata": {},
   "source": [
    "## Conclusion"
   ]
  },
  {
   "cell_type": "markdown",
   "id": "4983556c-34e6-4ebf-93f1-29d09f881aaf",
   "metadata": {},
   "source": [
    "In the next post, we'll examine how Ratatui works under the hood in more detail."
   ]
  },
  {
   "cell_type": "code",
   "execution_count": null,
   "id": "b6011123-57ba-444c-ad7b-d21f554a9739",
   "metadata": {},
   "outputs": [],
   "source": []
  },
  {
   "cell_type": "code",
   "execution_count": null,
   "id": "b3a7ccbc-e90a-459f-ba40-62977bb7648d",
   "metadata": {},
   "outputs": [],
   "source": []
  },
  {
   "cell_type": "code",
   "execution_count": null,
   "id": "3ddda790-b913-4641-9180-8bd1cc38734e",
   "metadata": {},
   "outputs": [],
   "source": []
  },
  {
   "cell_type": "code",
   "execution_count": null,
   "id": "b1965eb0-43a1-4701-b3ae-757ff66ab8fa",
   "metadata": {},
   "outputs": [],
   "source": []
  },
  {
   "cell_type": "code",
   "execution_count": null,
   "id": "ca4a46f6-013f-4ed7-9dd1-6f1b54ab4f74",
   "metadata": {},
   "outputs": [],
   "source": []
  }
 ],
 "metadata": {
  "kernelspec": {
   "display_name": "Rust",
   "language": "rust",
   "name": "rust"
  },
  "language_info": {
   "codemirror_mode": "rust",
   "file_extension": ".rs",
   "mimetype": "text/rust",
   "name": "Rust",
   "pygment_lexer": "rust",
   "version": ""
  },
  "widgets": {
   "application/vnd.jupyter.widget-state+json": {
    "state": {},
    "version_major": 2,
    "version_minor": 0
   }
  }
 },
 "nbformat": 4,
 "nbformat_minor": 5
}
