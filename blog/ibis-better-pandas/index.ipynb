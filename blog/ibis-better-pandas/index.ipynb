{
 "cells": [
  {
   "cell_type": "raw",
   "id": "9b31fd58-e7cc-45eb-8f3a-509eb18686aa",
   "metadata": {
    "vscode": {
     "languageId": "raw"
    }
   },
   "source": [
    "---\n",
    "title: \"ibis - a better pandas\"\n",
    "date: 2025-06-07T14:22:45-0400\n",
    "categories: [python]\n",
    "keywords: [pandas, ibis, method chaining, data analysis]\n",
    "summary: \"A short showcase of ibis with method chaining\"\n",
    "---"
   ]
  },
  {
   "cell_type": "code",
   "execution_count": null,
   "id": "605ad19e",
   "metadata": {
    "execution": {
     "iopub.execute_input": "2025-06-07T18:44:53.058591Z",
     "iopub.status.busy": "2025-06-07T18:44:53.058521Z",
     "iopub.status.idle": "2025-06-07T18:44:53.060903Z",
     "shell.execute_reply": "2025-06-07T18:44:53.060603Z",
     "shell.execute_reply.started": "2025-06-07T18:44:53.058582Z"
    }
   },
   "outputs": [],
   "source": [
    "#| code-fold: true\n",
    "from IPython.core.interactiveshell import InteractiveShell\n",
    "\n",
    "# `ast_node_interactivity` is a setting that determines how the return value of the last line in a cell is displayed\n",
    "# with `last_expr_or_assign`, the return value of the last expression is displayed unless it is assigned to a variable\n",
    "InteractiveShell.ast_node_interactivity = \"last_expr_or_assign\""
   ]
  },
  {
   "cell_type": "markdown",
   "id": "5834cad3",
   "metadata": {},
   "source": [
    "There's an excellent blog post on why Pandas feels clunky for those coming from R:\n",
    "\n",
    "<https://www.sumsar.net/blog/pandas-feels-clunky-when-coming-from-r/>"
   ]
  },
  {
   "cell_type": "markdown",
   "id": "7f535a45",
   "metadata": {},
   "source": [
    "However in Python, I've found `ibis` as an alternative to `pandas` to be a much more natural fit for those coming from `R`. \n",
    "\n",
    "[`ibis`](https://ibis-project.org/) uses duckdb as a backend by default, and its API is a mix between duckdb and dplyr."
   ]
  },
  {
   "cell_type": "code",
   "execution_count": 3,
   "id": "5a279e32-cd41-4993-9a05-ee506877408c",
   "metadata": {
    "execution": {
     "iopub.execute_input": "2025-06-07T18:44:53.062679Z",
     "iopub.status.busy": "2025-06-07T18:44:53.062543Z",
     "iopub.status.idle": "2025-06-07T18:44:53.190677Z",
     "shell.execute_reply": "2025-06-07T18:44:53.190395Z",
     "shell.execute_reply.started": "2025-06-07T18:44:53.062671Z"
    }
   },
   "outputs": [],
   "source": [
    "import ibis"
   ]
  },
  {
   "cell_type": "markdown",
   "id": "47913ca8-fcb0-43ad-923a-5ce6107d3913",
   "metadata": {},
   "source": [
    "`_` in ibis is a special variable that refers to the last expression evaluated\n",
    "this is useful for chaining operations or for using the result of the last expression in subsequent operations\n"
   ]
  },
  {
   "cell_type": "code",
   "execution_count": 4,
   "id": "5dfba77e-d6dd-4ee1-b0a8-60b7a71172b3",
   "metadata": {
    "execution": {
     "iopub.execute_input": "2025-06-07T18:44:53.192008Z",
     "iopub.status.busy": "2025-06-07T18:44:53.191928Z",
     "iopub.status.idle": "2025-06-07T18:44:53.193800Z",
     "shell.execute_reply": "2025-06-07T18:44:53.193516Z",
     "shell.execute_reply.started": "2025-06-07T18:44:53.192000Z"
    }
   },
   "outputs": [],
   "source": [
    "from ibis import _"
   ]
  },
  {
   "cell_type": "markdown",
   "id": "14de30c0",
   "metadata": {},
   "source": [
    "By default, `ibis` defers execution until you call `execute()`. Using `ibis.options.interactive = True` will make it so that expressions are immediately executed when displayed. This is useful for interactive exploration."
   ]
  },
  {
   "cell_type": "code",
   "execution_count": null,
   "id": "e306b299",
   "metadata": {},
   "outputs": [],
   "source": [
    "\n",
    "ibis.options.interactive = True"
   ]
  },
  {
   "cell_type": "markdown",
   "id": "f82b4939",
   "metadata": {},
   "source": [
    "Let's also import `pandas` to compare the two libraries."
   ]
  },
  {
   "cell_type": "code",
   "execution_count": 11,
   "id": "968ec2b1",
   "metadata": {},
   "outputs": [],
   "source": [
    "import pandas as pd"
   ]
  },
  {
   "cell_type": "markdown",
   "id": "5adb3444",
   "metadata": {},
   "source": [
    "Here's the equivalent code in `pandas` and `ibis` for the example provided in the blog post:\n",
    "\n"
   ]
  },
  {
   "cell_type": "code",
   "execution_count": 12,
   "id": "4c936670",
   "metadata": {},
   "outputs": [
    {
     "data": {
      "text/html": [
       "<div>\n",
       "<style scoped>\n",
       "    .dataframe tbody tr th:only-of-type {\n",
       "        vertical-align: middle;\n",
       "    }\n",
       "\n",
       "    .dataframe tbody tr th {\n",
       "        vertical-align: top;\n",
       "    }\n",
       "\n",
       "    .dataframe thead th {\n",
       "        text-align: right;\n",
       "    }\n",
       "</style>\n",
       "<table border=\"1\" class=\"dataframe\">\n",
       "  <thead>\n",
       "    <tr style=\"text-align: right;\">\n",
       "      <th></th>\n",
       "      <th>country</th>\n",
       "      <th>amount</th>\n",
       "      <th>discount</th>\n",
       "    </tr>\n",
       "  </thead>\n",
       "  <tbody>\n",
       "    <tr>\n",
       "      <th>0</th>\n",
       "      <td>USA</td>\n",
       "      <td>2000</td>\n",
       "      <td>10</td>\n",
       "    </tr>\n",
       "    <tr>\n",
       "      <th>1</th>\n",
       "      <td>USA</td>\n",
       "      <td>3500</td>\n",
       "      <td>15</td>\n",
       "    </tr>\n",
       "    <tr>\n",
       "      <th>2</th>\n",
       "      <td>USA</td>\n",
       "      <td>3000</td>\n",
       "      <td>20</td>\n",
       "    </tr>\n",
       "    <tr>\n",
       "      <th>3</th>\n",
       "      <td>Canada</td>\n",
       "      <td>120</td>\n",
       "      <td>12</td>\n",
       "    </tr>\n",
       "    <tr>\n",
       "      <th>4</th>\n",
       "      <td>Canada</td>\n",
       "      <td>180</td>\n",
       "      <td>18</td>\n",
       "    </tr>\n",
       "  </tbody>\n",
       "</table>\n",
       "</div>"
      ],
      "text/plain": [
       "  country  amount  discount\n",
       "0     USA    2000        10\n",
       "1     USA    3500        15\n",
       "2     USA    3000        20\n",
       "3  Canada     120        12\n",
       "4  Canada     180        18"
      ]
     },
     "execution_count": 12,
     "metadata": {},
     "output_type": "execute_result"
    }
   ],
   "source": [
    "pandas_df = pd.read_csv(\"purchases.csv\")\n",
    "pandas_df.head()"
   ]
  },
  {
   "cell_type": "code",
   "execution_count": 7,
   "id": "a5ee2eb2",
   "metadata": {
    "execution": {
     "iopub.execute_input": "2025-06-07T18:44:53.194268Z",
     "iopub.status.busy": "2025-06-07T18:44:53.194165Z",
     "iopub.status.idle": "2025-06-07T18:44:53.636733Z",
     "shell.execute_reply": "2025-06-07T18:44:53.636423Z",
     "shell.execute_reply.started": "2025-06-07T18:44:53.194260Z"
    }
   },
   "outputs": [
    {
     "data": {
      "text/html": [
       "<pre style=\"white-space:pre;overflow-x:auto;line-height:normal;font-family:Menlo,'DejaVu Sans Mono',consolas,'Courier New',monospace\">┏━━━━━━━━━┳━━━━━━━━┳━━━━━━━━━━┓\n",
       "┃<span style=\"font-weight: bold\"> country </span>┃<span style=\"font-weight: bold\"> amount </span>┃<span style=\"font-weight: bold\"> discount </span>┃\n",
       "┡━━━━━━━━━╇━━━━━━━━╇━━━━━━━━━━┩\n",
       "│ <span style=\"color: #7f7f7f; text-decoration-color: #7f7f7f\">string</span>  │ <span style=\"color: #7f7f7f; text-decoration-color: #7f7f7f\">int64</span>  │ <span style=\"color: #7f7f7f; text-decoration-color: #7f7f7f\">int64</span>    │\n",
       "├─────────┼────────┼──────────┤\n",
       "│ <span style=\"color: #008000; text-decoration-color: #008000\">USA    </span> │   <span style=\"color: #008080; text-decoration-color: #008080; font-weight: bold\">2000</span> │       <span style=\"color: #008080; text-decoration-color: #008080; font-weight: bold\">10</span> │\n",
       "│ <span style=\"color: #008000; text-decoration-color: #008000\">USA    </span> │   <span style=\"color: #008080; text-decoration-color: #008080; font-weight: bold\">3500</span> │       <span style=\"color: #008080; text-decoration-color: #008080; font-weight: bold\">15</span> │\n",
       "│ <span style=\"color: #008000; text-decoration-color: #008000\">USA    </span> │   <span style=\"color: #008080; text-decoration-color: #008080; font-weight: bold\">3000</span> │       <span style=\"color: #008080; text-decoration-color: #008080; font-weight: bold\">20</span> │\n",
       "│ <span style=\"color: #008000; text-decoration-color: #008000\">Canada </span> │    <span style=\"color: #008080; text-decoration-color: #008080; font-weight: bold\">120</span> │       <span style=\"color: #008080; text-decoration-color: #008080; font-weight: bold\">12</span> │\n",
       "│ <span style=\"color: #008000; text-decoration-color: #008000\">Canada </span> │    <span style=\"color: #008080; text-decoration-color: #008080; font-weight: bold\">180</span> │       <span style=\"color: #008080; text-decoration-color: #008080; font-weight: bold\">18</span> │\n",
       "└─────────┴────────┴──────────┘\n",
       "</pre>\n"
      ],
      "text/plain": [
       "┏━━━━━━━━━┳━━━━━━━━┳━━━━━━━━━━┓\n",
       "┃\u001b[1m \u001b[0m\u001b[1mcountry\u001b[0m\u001b[1m \u001b[0m┃\u001b[1m \u001b[0m\u001b[1mamount\u001b[0m\u001b[1m \u001b[0m┃\u001b[1m \u001b[0m\u001b[1mdiscount\u001b[0m\u001b[1m \u001b[0m┃\n",
       "┡━━━━━━━━━╇━━━━━━━━╇━━━━━━━━━━┩\n",
       "│ \u001b[2mstring\u001b[0m  │ \u001b[2mint64\u001b[0m  │ \u001b[2mint64\u001b[0m    │\n",
       "├─────────┼────────┼──────────┤\n",
       "│ \u001b[32mUSA    \u001b[0m │   \u001b[1;36m2000\u001b[0m │       \u001b[1;36m10\u001b[0m │\n",
       "│ \u001b[32mUSA    \u001b[0m │   \u001b[1;36m3500\u001b[0m │       \u001b[1;36m15\u001b[0m │\n",
       "│ \u001b[32mUSA    \u001b[0m │   \u001b[1;36m3000\u001b[0m │       \u001b[1;36m20\u001b[0m │\n",
       "│ \u001b[32mCanada \u001b[0m │    \u001b[1;36m120\u001b[0m │       \u001b[1;36m12\u001b[0m │\n",
       "│ \u001b[32mCanada \u001b[0m │    \u001b[1;36m180\u001b[0m │       \u001b[1;36m18\u001b[0m │\n",
       "└─────────┴────────┴──────────┘"
      ]
     },
     "execution_count": 7,
     "metadata": {},
     "output_type": "execute_result"
    }
   ],
   "source": [
    "df = ibis.read_csv(\"purchases.csv\")\n",
    "df.head()"
   ]
  },
  {
   "cell_type": "markdown",
   "id": "bd1b3d5a-72af-45fe-9402-9d68777a3eb7",
   "metadata": {},
   "source": [
    "## “How much do we sell..? Let’s take the total sum!”"
   ]
  },
  {
   "cell_type": "markdown",
   "id": "0b83767a",
   "metadata": {},
   "source": [
    "### pandas"
   ]
  },
  {
   "cell_type": "code",
   "execution_count": 13,
   "id": "25d0f9b9",
   "metadata": {},
   "outputs": [
    {
     "data": {
      "text/plain": [
       "np.int64(17210)"
      ]
     },
     "execution_count": 13,
     "metadata": {},
     "output_type": "execute_result"
    }
   ],
   "source": [
    "pandas_df.amount.sum()"
   ]
  },
  {
   "cell_type": "markdown",
   "id": "e623cf10",
   "metadata": {},
   "source": [
    "### ibis"
   ]
  },
  {
   "cell_type": "code",
   "execution_count": 14,
   "id": "d7eac960",
   "metadata": {
    "execution": {
     "iopub.execute_input": "2025-06-07T18:45:02.463012Z",
     "iopub.status.busy": "2025-06-07T18:45:02.462444Z",
     "iopub.status.idle": "2025-06-07T18:45:02.492825Z",
     "shell.execute_reply": "2025-06-07T18:45:02.492098Z",
     "shell.execute_reply.started": "2025-06-07T18:45:02.462971Z"
    }
   },
   "outputs": [
    {
     "data": {
      "text/plain": [
       "17210"
      ]
     },
     "execution_count": 14,
     "metadata": {},
     "output_type": "execute_result"
    }
   ],
   "source": [
    "df.amount.sum().execute()"
   ]
  },
  {
   "cell_type": "markdown",
   "id": "911d6110-5046-4756-84df-7cbbe1b383b3",
   "metadata": {},
   "source": [
    "## “Ah, they wanted it by country…”"
   ]
  },
  {
   "cell_type": "markdown",
   "id": "9f54702b",
   "metadata": {},
   "source": [
    "### pandas"
   ]
  },
  {
   "cell_type": "code",
   "execution_count": 16,
   "id": "13c34296",
   "metadata": {},
   "outputs": [
    {
     "data": {
      "text/html": [
       "<div>\n",
       "<style scoped>\n",
       "    .dataframe tbody tr th:only-of-type {\n",
       "        vertical-align: middle;\n",
       "    }\n",
       "\n",
       "    .dataframe tbody tr th {\n",
       "        vertical-align: top;\n",
       "    }\n",
       "\n",
       "    .dataframe thead th {\n",
       "        text-align: right;\n",
       "    }\n",
       "</style>\n",
       "<table border=\"1\" class=\"dataframe\">\n",
       "  <thead>\n",
       "    <tr style=\"text-align: right;\">\n",
       "      <th></th>\n",
       "      <th>country</th>\n",
       "      <th>total</th>\n",
       "    </tr>\n",
       "  </thead>\n",
       "  <tbody>\n",
       "    <tr>\n",
       "      <th>0</th>\n",
       "      <td>Australia</td>\n",
       "      <td>600</td>\n",
       "    </tr>\n",
       "    <tr>\n",
       "      <th>1</th>\n",
       "      <td>Brazil</td>\n",
       "      <td>460</td>\n",
       "    </tr>\n",
       "    <tr>\n",
       "      <th>2</th>\n",
       "      <td>Canada</td>\n",
       "      <td>3400</td>\n",
       "    </tr>\n",
       "    <tr>\n",
       "      <th>3</th>\n",
       "      <td>France</td>\n",
       "      <td>500</td>\n",
       "    </tr>\n",
       "    <tr>\n",
       "      <th>4</th>\n",
       "      <td>Germany</td>\n",
       "      <td>570</td>\n",
       "    </tr>\n",
       "    <tr>\n",
       "      <th>5</th>\n",
       "      <td>India</td>\n",
       "      <td>720</td>\n",
       "    </tr>\n",
       "    <tr>\n",
       "      <th>6</th>\n",
       "      <td>Italy</td>\n",
       "      <td>630</td>\n",
       "    </tr>\n",
       "    <tr>\n",
       "      <th>7</th>\n",
       "      <td>Japan</td>\n",
       "      <td>690</td>\n",
       "    </tr>\n",
       "    <tr>\n",
       "      <th>8</th>\n",
       "      <td>Spain</td>\n",
       "      <td>660</td>\n",
       "    </tr>\n",
       "    <tr>\n",
       "      <th>9</th>\n",
       "      <td>UK</td>\n",
       "      <td>480</td>\n",
       "    </tr>\n",
       "    <tr>\n",
       "      <th>10</th>\n",
       "      <td>USA</td>\n",
       "      <td>8500</td>\n",
       "    </tr>\n",
       "  </tbody>\n",
       "</table>\n",
       "</div>"
      ],
      "text/plain": [
       "      country  total\n",
       "0   Australia    600\n",
       "1      Brazil    460\n",
       "2      Canada   3400\n",
       "3      France    500\n",
       "4     Germany    570\n",
       "5       India    720\n",
       "6       Italy    630\n",
       "7       Japan    690\n",
       "8       Spain    660\n",
       "9          UK    480\n",
       "10        USA   8500"
      ]
     },
     "execution_count": 16,
     "metadata": {},
     "output_type": "execute_result"
    }
   ],
   "source": [
    "(\n",
    "    pandas_df\n",
    "    .groupby(\"country\")\n",
    "    .agg(total=(\"amount\", \"sum\"))\n",
    "    .reset_index()\n",
    ")\n"
   ]
  },
  {
   "cell_type": "markdown",
   "id": "079ad244",
   "metadata": {},
   "source": [
    "### ibis"
   ]
  },
  {
   "cell_type": "code",
   "execution_count": null,
   "id": "24dfbee7",
   "metadata": {
    "execution": {
     "iopub.execute_input": "2025-06-07T18:44:53.645271Z",
     "iopub.status.busy": "2025-06-07T18:44:53.645153Z",
     "iopub.status.idle": "2025-06-07T18:44:53.654406Z",
     "shell.execute_reply": "2025-06-07T18:44:53.654137Z",
     "shell.execute_reply.started": "2025-06-07T18:44:53.645263Z"
    }
   },
   "outputs": [
    {
     "data": {
      "text/html": [
       "<pre style=\"white-space:pre;overflow-x:auto;line-height:normal;font-family:Menlo,'DejaVu Sans Mono',consolas,'Courier New',monospace\">┏━━━━━━━━━━━┳━━━━━━━┓\n",
       "┃<span style=\"font-weight: bold\"> country   </span>┃<span style=\"font-weight: bold\"> total </span>┃\n",
       "┡━━━━━━━━━━━╇━━━━━━━┩\n",
       "│ <span style=\"color: #7f7f7f; text-decoration-color: #7f7f7f\">string</span>    │ <span style=\"color: #7f7f7f; text-decoration-color: #7f7f7f\">int64</span> │\n",
       "├───────────┼───────┤\n",
       "│ <span style=\"color: #008000; text-decoration-color: #008000\">Australia</span> │   <span style=\"color: #008080; text-decoration-color: #008080; font-weight: bold\">600</span> │\n",
       "│ <span style=\"color: #008000; text-decoration-color: #008000\">Brazil   </span> │   <span style=\"color: #008080; text-decoration-color: #008080; font-weight: bold\">460</span> │\n",
       "│ <span style=\"color: #008000; text-decoration-color: #008000\">Canada   </span> │  <span style=\"color: #008080; text-decoration-color: #008080; font-weight: bold\">3400</span> │\n",
       "│ <span style=\"color: #008000; text-decoration-color: #008000\">France   </span> │   <span style=\"color: #008080; text-decoration-color: #008080; font-weight: bold\">500</span> │\n",
       "│ <span style=\"color: #008000; text-decoration-color: #008000\">Germany  </span> │   <span style=\"color: #008080; text-decoration-color: #008080; font-weight: bold\">570</span> │\n",
       "│ <span style=\"color: #008000; text-decoration-color: #008000\">India    </span> │   <span style=\"color: #008080; text-decoration-color: #008080; font-weight: bold\">720</span> │\n",
       "│ <span style=\"color: #008000; text-decoration-color: #008000\">Italy    </span> │   <span style=\"color: #008080; text-decoration-color: #008080; font-weight: bold\">630</span> │\n",
       "│ <span style=\"color: #008000; text-decoration-color: #008000\">Japan    </span> │   <span style=\"color: #008080; text-decoration-color: #008080; font-weight: bold\">690</span> │\n",
       "│ <span style=\"color: #008000; text-decoration-color: #008000\">Spain    </span> │   <span style=\"color: #008080; text-decoration-color: #008080; font-weight: bold\">660</span> │\n",
       "│ <span style=\"color: #008000; text-decoration-color: #008000\">UK       </span> │   <span style=\"color: #008080; text-decoration-color: #008080; font-weight: bold\">480</span> │\n",
       "│ <span style=\"color: #7f7f7f; text-decoration-color: #7f7f7f\">…</span>         │     <span style=\"color: #7f7f7f; text-decoration-color: #7f7f7f\">…</span> │\n",
       "└───────────┴───────┘\n",
       "</pre>\n"
      ],
      "text/plain": [
       "┏━━━━━━━━━━━┳━━━━━━━┓\n",
       "┃\u001b[1m \u001b[0m\u001b[1mcountry\u001b[0m\u001b[1m  \u001b[0m\u001b[1m \u001b[0m┃\u001b[1m \u001b[0m\u001b[1mtotal\u001b[0m\u001b[1m \u001b[0m┃\n",
       "┡━━━━━━━━━━━╇━━━━━━━┩\n",
       "│ \u001b[2mstring\u001b[0m    │ \u001b[2mint64\u001b[0m │\n",
       "├───────────┼───────┤\n",
       "│ \u001b[32mAustralia\u001b[0m │   \u001b[1;36m600\u001b[0m │\n",
       "│ \u001b[32mBrazil   \u001b[0m │   \u001b[1;36m460\u001b[0m │\n",
       "│ \u001b[32mCanada   \u001b[0m │  \u001b[1;36m3400\u001b[0m │\n",
       "│ \u001b[32mFrance   \u001b[0m │   \u001b[1;36m500\u001b[0m │\n",
       "│ \u001b[32mGermany  \u001b[0m │   \u001b[1;36m570\u001b[0m │\n",
       "│ \u001b[32mIndia    \u001b[0m │   \u001b[1;36m720\u001b[0m │\n",
       "│ \u001b[32mItaly    \u001b[0m │   \u001b[1;36m630\u001b[0m │\n",
       "│ \u001b[32mJapan    \u001b[0m │   \u001b[1;36m690\u001b[0m │\n",
       "│ \u001b[32mSpain    \u001b[0m │   \u001b[1;36m660\u001b[0m │\n",
       "│ \u001b[32mUK       \u001b[0m │   \u001b[1;36m480\u001b[0m │\n",
       "│ \u001b[2m…\u001b[0m         │     \u001b[2m…\u001b[0m │\n",
       "└───────────┴───────┘"
      ]
     },
     "execution_count": 23,
     "metadata": {},
     "output_type": "execute_result"
    }
   ],
   "source": [
    "(\n",
    "    df\n",
    "    .group_by(\"country\")\n",
    "    .aggregate(total=_.amount.sum())\n",
    "    .order_by(\"country\") # optional, to align with the pandas output\n",
    ")"
   ]
  },
  {
   "cell_type": "markdown",
   "id": "9d4493a3",
   "metadata": {},
   "source": [
    "Calling `.execute()` will run the query and return the result as a pandas DataFrame."
   ]
  },
  {
   "cell_type": "code",
   "execution_count": 28,
   "id": "2034db50",
   "metadata": {},
   "outputs": [
    {
     "data": {
      "text/plain": [
       "pandas.core.frame.DataFrame"
      ]
     },
     "execution_count": 28,
     "metadata": {},
     "output_type": "execute_result"
    }
   ],
   "source": [
    "type(\n",
    "  (\n",
    "    df\n",
    "    .group_by(\"country\")\n",
    "    .aggregate(total=_.amount.sum())\n",
    "    .order_by(\"country\") # optional, to align with the pandas output\n",
    "  ).execute()\n",
    ")"
   ]
  },
  {
   "cell_type": "markdown",
   "id": "c689fae0-420b-469b-867f-7f7b00deb984",
   "metadata": {},
   "source": [
    "## “And I guess I should deduct the discount.”"
   ]
  },
  {
   "cell_type": "markdown",
   "id": "e4ee959a",
   "metadata": {},
   "source": [
    "### pandas"
   ]
  },
  {
   "cell_type": "code",
   "execution_count": 19,
   "id": "806b3f59",
   "metadata": {},
   "outputs": [
    {
     "data": {
      "text/html": [
       "<div>\n",
       "<style scoped>\n",
       "    .dataframe tbody tr th:only-of-type {\n",
       "        vertical-align: middle;\n",
       "    }\n",
       "\n",
       "    .dataframe tbody tr th {\n",
       "        vertical-align: top;\n",
       "    }\n",
       "\n",
       "    .dataframe thead th {\n",
       "        text-align: right;\n",
       "    }\n",
       "</style>\n",
       "<table border=\"1\" class=\"dataframe\">\n",
       "  <thead>\n",
       "    <tr style=\"text-align: right;\">\n",
       "      <th></th>\n",
       "      <th>country</th>\n",
       "      <th>total</th>\n",
       "    </tr>\n",
       "  </thead>\n",
       "  <tbody>\n",
       "    <tr>\n",
       "      <th>0</th>\n",
       "      <td>Australia</td>\n",
       "      <td>540</td>\n",
       "    </tr>\n",
       "    <tr>\n",
       "      <th>1</th>\n",
       "      <td>Brazil</td>\n",
       "      <td>414</td>\n",
       "    </tr>\n",
       "    <tr>\n",
       "      <th>2</th>\n",
       "      <td>Canada</td>\n",
       "      <td>3349</td>\n",
       "    </tr>\n",
       "    <tr>\n",
       "      <th>3</th>\n",
       "      <td>France</td>\n",
       "      <td>450</td>\n",
       "    </tr>\n",
       "    <tr>\n",
       "      <th>4</th>\n",
       "      <td>Germany</td>\n",
       "      <td>513</td>\n",
       "    </tr>\n",
       "    <tr>\n",
       "      <th>5</th>\n",
       "      <td>India</td>\n",
       "      <td>648</td>\n",
       "    </tr>\n",
       "    <tr>\n",
       "      <th>6</th>\n",
       "      <td>Italy</td>\n",
       "      <td>567</td>\n",
       "    </tr>\n",
       "    <tr>\n",
       "      <th>7</th>\n",
       "      <td>Japan</td>\n",
       "      <td>621</td>\n",
       "    </tr>\n",
       "    <tr>\n",
       "      <th>8</th>\n",
       "      <td>Spain</td>\n",
       "      <td>594</td>\n",
       "    </tr>\n",
       "    <tr>\n",
       "      <th>9</th>\n",
       "      <td>UK</td>\n",
       "      <td>432</td>\n",
       "    </tr>\n",
       "    <tr>\n",
       "      <th>10</th>\n",
       "      <td>USA</td>\n",
       "      <td>8455</td>\n",
       "    </tr>\n",
       "  </tbody>\n",
       "</table>\n",
       "</div>"
      ],
      "text/plain": [
       "      country  total\n",
       "0   Australia    540\n",
       "1      Brazil    414\n",
       "2      Canada   3349\n",
       "3      France    450\n",
       "4     Germany    513\n",
       "5       India    648\n",
       "6       Italy    567\n",
       "7       Japan    621\n",
       "8       Spain    594\n",
       "9          UK    432\n",
       "10        USA   8455"
      ]
     },
     "execution_count": 19,
     "metadata": {},
     "output_type": "execute_result"
    }
   ],
   "source": [
    "(\n",
    "    pandas_df\n",
    "    .groupby(\"country\")[[\"amount\", \"discount\"]]\n",
    "    .apply(lambda df: (df[\"amount\"] - df[\"discount\"]).sum())\n",
    "    .reset_index()\n",
    "    .rename(columns={0: \"total\"})\n",
    ")"
   ]
  },
  {
   "cell_type": "markdown",
   "id": "00d768b7",
   "metadata": {},
   "source": [
    "### ibis"
   ]
  },
  {
   "cell_type": "code",
   "execution_count": null,
   "id": "2edd80f6",
   "metadata": {
    "execution": {
     "iopub.execute_input": "2025-06-07T18:44:53.655040Z",
     "iopub.status.busy": "2025-06-07T18:44:53.654860Z",
     "iopub.status.idle": "2025-06-07T18:44:53.662879Z",
     "shell.execute_reply": "2025-06-07T18:44:53.662545Z",
     "shell.execute_reply.started": "2025-06-07T18:44:53.655029Z"
    }
   },
   "outputs": [
    {
     "data": {
      "text/html": [
       "<div>\n",
       "<style scoped>\n",
       "    .dataframe tbody tr th:only-of-type {\n",
       "        vertical-align: middle;\n",
       "    }\n",
       "\n",
       "    .dataframe tbody tr th {\n",
       "        vertical-align: top;\n",
       "    }\n",
       "\n",
       "    .dataframe thead th {\n",
       "        text-align: right;\n",
       "    }\n",
       "</style>\n",
       "<table border=\"1\" class=\"dataframe\">\n",
       "  <thead>\n",
       "    <tr style=\"text-align: right;\">\n",
       "      <th></th>\n",
       "      <th>country</th>\n",
       "      <th>total</th>\n",
       "    </tr>\n",
       "  </thead>\n",
       "  <tbody>\n",
       "    <tr>\n",
       "      <th>0</th>\n",
       "      <td>Italy</td>\n",
       "      <td>567</td>\n",
       "    </tr>\n",
       "    <tr>\n",
       "      <th>1</th>\n",
       "      <td>Brazil</td>\n",
       "      <td>414</td>\n",
       "    </tr>\n",
       "    <tr>\n",
       "      <th>2</th>\n",
       "      <td>Germany</td>\n",
       "      <td>513</td>\n",
       "    </tr>\n",
       "    <tr>\n",
       "      <th>3</th>\n",
       "      <td>India</td>\n",
       "      <td>648</td>\n",
       "    </tr>\n",
       "    <tr>\n",
       "      <th>4</th>\n",
       "      <td>Canada</td>\n",
       "      <td>3349</td>\n",
       "    </tr>\n",
       "    <tr>\n",
       "      <th>5</th>\n",
       "      <td>France</td>\n",
       "      <td>450</td>\n",
       "    </tr>\n",
       "    <tr>\n",
       "      <th>6</th>\n",
       "      <td>UK</td>\n",
       "      <td>432</td>\n",
       "    </tr>\n",
       "    <tr>\n",
       "      <th>7</th>\n",
       "      <td>USA</td>\n",
       "      <td>8455</td>\n",
       "    </tr>\n",
       "    <tr>\n",
       "      <th>8</th>\n",
       "      <td>Australia</td>\n",
       "      <td>540</td>\n",
       "    </tr>\n",
       "    <tr>\n",
       "      <th>9</th>\n",
       "      <td>Spain</td>\n",
       "      <td>594</td>\n",
       "    </tr>\n",
       "    <tr>\n",
       "      <th>10</th>\n",
       "      <td>Japan</td>\n",
       "      <td>621</td>\n",
       "    </tr>\n",
       "  </tbody>\n",
       "</table>\n",
       "</div>"
      ],
      "text/plain": [
       "      country  total\n",
       "0       Italy    567\n",
       "1      Brazil    414\n",
       "2     Germany    513\n",
       "3       India    648\n",
       "4      Canada   3349\n",
       "5      France    450\n",
       "6          UK    432\n",
       "7         USA   8455\n",
       "8   Australia    540\n",
       "9       Spain    594\n",
       "10      Japan    621"
      ]
     },
     "execution_count": 27,
     "metadata": {},
     "output_type": "execute_result"
    }
   ],
   "source": [
    "(\n",
    "    df\n",
    "    .group_by(\"country\")\n",
    "    .aggregate(total=(_.amount - _.discount).sum())\n",
    "    .order_by(\"country\")\n",
    ")"
   ]
  },
  {
   "cell_type": "markdown",
   "id": "33e3d0f8",
   "metadata": {},
   "source": [
    "## “Oh, and Maria asked me to remove any outliers.”"
   ]
  },
  {
   "cell_type": "markdown",
   "id": "84be0763",
   "metadata": {},
   "source": [
    "### pandas"
   ]
  },
  {
   "cell_type": "code",
   "execution_count": 20,
   "id": "60622502",
   "metadata": {},
   "outputs": [
    {
     "data": {
      "text/html": [
       "<div>\n",
       "<style scoped>\n",
       "    .dataframe tbody tr th:only-of-type {\n",
       "        vertical-align: middle;\n",
       "    }\n",
       "\n",
       "    .dataframe tbody tr th {\n",
       "        vertical-align: top;\n",
       "    }\n",
       "\n",
       "    .dataframe thead th {\n",
       "        text-align: right;\n",
       "    }\n",
       "</style>\n",
       "<table border=\"1\" class=\"dataframe\">\n",
       "  <thead>\n",
       "    <tr style=\"text-align: right;\">\n",
       "      <th></th>\n",
       "      <th>country</th>\n",
       "      <th>total</th>\n",
       "    </tr>\n",
       "  </thead>\n",
       "  <tbody>\n",
       "    <tr>\n",
       "      <th>0</th>\n",
       "      <td>Australia</td>\n",
       "      <td>540</td>\n",
       "    </tr>\n",
       "    <tr>\n",
       "      <th>1</th>\n",
       "      <td>Brazil</td>\n",
       "      <td>414</td>\n",
       "    </tr>\n",
       "    <tr>\n",
       "      <th>2</th>\n",
       "      <td>Canada</td>\n",
       "      <td>270</td>\n",
       "    </tr>\n",
       "    <tr>\n",
       "      <th>3</th>\n",
       "      <td>France</td>\n",
       "      <td>450</td>\n",
       "    </tr>\n",
       "    <tr>\n",
       "      <th>4</th>\n",
       "      <td>Germany</td>\n",
       "      <td>513</td>\n",
       "    </tr>\n",
       "    <tr>\n",
       "      <th>5</th>\n",
       "      <td>India</td>\n",
       "      <td>648</td>\n",
       "    </tr>\n",
       "    <tr>\n",
       "      <th>6</th>\n",
       "      <td>Italy</td>\n",
       "      <td>567</td>\n",
       "    </tr>\n",
       "    <tr>\n",
       "      <th>7</th>\n",
       "      <td>Japan</td>\n",
       "      <td>621</td>\n",
       "    </tr>\n",
       "    <tr>\n",
       "      <th>8</th>\n",
       "      <td>Spain</td>\n",
       "      <td>594</td>\n",
       "    </tr>\n",
       "    <tr>\n",
       "      <th>9</th>\n",
       "      <td>UK</td>\n",
       "      <td>432</td>\n",
       "    </tr>\n",
       "    <tr>\n",
       "      <th>10</th>\n",
       "      <td>USA</td>\n",
       "      <td>1990</td>\n",
       "    </tr>\n",
       "  </tbody>\n",
       "</table>\n",
       "</div>"
      ],
      "text/plain": [
       "      country  total\n",
       "0   Australia    540\n",
       "1      Brazil    414\n",
       "2      Canada    270\n",
       "3      France    450\n",
       "4     Germany    513\n",
       "5       India    648\n",
       "6       Italy    567\n",
       "7       Japan    621\n",
       "8       Spain    594\n",
       "9          UK    432\n",
       "10        USA   1990"
      ]
     },
     "execution_count": 20,
     "metadata": {},
     "output_type": "execute_result"
    }
   ],
   "source": [
    "(\n",
    "    pandas_df\n",
    "    .query(\"amount <= amount.median() * 10\")\n",
    "    .groupby(\"country\")[[\"amount\", \"discount\"]]\n",
    "    .apply(lambda df: (df[\"amount\"] - df[\"discount\"]).sum())\n",
    "    .reset_index()\n",
    "    .rename(columns={0: \"total\"})\n",
    ")"
   ]
  },
  {
   "cell_type": "markdown",
   "id": "0586f968",
   "metadata": {},
   "source": [
    "### ibis"
   ]
  },
  {
   "cell_type": "code",
   "execution_count": 21,
   "id": "2e04090e",
   "metadata": {
    "execution": {
     "iopub.execute_input": "2025-06-07T18:44:53.663427Z",
     "iopub.status.busy": "2025-06-07T18:44:53.663341Z",
     "iopub.status.idle": "2025-06-07T18:44:53.674399Z",
     "shell.execute_reply": "2025-06-07T18:44:53.673670Z",
     "shell.execute_reply.started": "2025-06-07T18:44:53.663419Z"
    }
   },
   "outputs": [
    {
     "data": {
      "text/html": [
       "<pre style=\"white-space:pre;overflow-x:auto;line-height:normal;font-family:Menlo,'DejaVu Sans Mono',consolas,'Courier New',monospace\">┏━━━━━━━━━━━┳━━━━━━━┓\n",
       "┃<span style=\"font-weight: bold\"> country   </span>┃<span style=\"font-weight: bold\"> total </span>┃\n",
       "┡━━━━━━━━━━━╇━━━━━━━┩\n",
       "│ <span style=\"color: #7f7f7f; text-decoration-color: #7f7f7f\">string</span>    │ <span style=\"color: #7f7f7f; text-decoration-color: #7f7f7f\">int64</span> │\n",
       "├───────────┼───────┤\n",
       "│ <span style=\"color: #008000; text-decoration-color: #008000\">Australia</span> │   <span style=\"color: #008080; text-decoration-color: #008080; font-weight: bold\">540</span> │\n",
       "│ <span style=\"color: #008000; text-decoration-color: #008000\">Brazil   </span> │   <span style=\"color: #008080; text-decoration-color: #008080; font-weight: bold\">414</span> │\n",
       "│ <span style=\"color: #008000; text-decoration-color: #008000\">Canada   </span> │   <span style=\"color: #008080; text-decoration-color: #008080; font-weight: bold\">270</span> │\n",
       "│ <span style=\"color: #008000; text-decoration-color: #008000\">France   </span> │   <span style=\"color: #008080; text-decoration-color: #008080; font-weight: bold\">450</span> │\n",
       "│ <span style=\"color: #008000; text-decoration-color: #008000\">Germany  </span> │   <span style=\"color: #008080; text-decoration-color: #008080; font-weight: bold\">513</span> │\n",
       "│ <span style=\"color: #008000; text-decoration-color: #008000\">India    </span> │   <span style=\"color: #008080; text-decoration-color: #008080; font-weight: bold\">648</span> │\n",
       "│ <span style=\"color: #008000; text-decoration-color: #008000\">Italy    </span> │   <span style=\"color: #008080; text-decoration-color: #008080; font-weight: bold\">567</span> │\n",
       "│ <span style=\"color: #008000; text-decoration-color: #008000\">Japan    </span> │   <span style=\"color: #008080; text-decoration-color: #008080; font-weight: bold\">621</span> │\n",
       "│ <span style=\"color: #008000; text-decoration-color: #008000\">Spain    </span> │   <span style=\"color: #008080; text-decoration-color: #008080; font-weight: bold\">594</span> │\n",
       "│ <span style=\"color: #008000; text-decoration-color: #008000\">UK       </span> │   <span style=\"color: #008080; text-decoration-color: #008080; font-weight: bold\">432</span> │\n",
       "│ <span style=\"color: #7f7f7f; text-decoration-color: #7f7f7f\">…</span>         │     <span style=\"color: #7f7f7f; text-decoration-color: #7f7f7f\">…</span> │\n",
       "└───────────┴───────┘\n",
       "</pre>\n"
      ],
      "text/plain": [
       "┏━━━━━━━━━━━┳━━━━━━━┓\n",
       "┃\u001b[1m \u001b[0m\u001b[1mcountry\u001b[0m\u001b[1m  \u001b[0m\u001b[1m \u001b[0m┃\u001b[1m \u001b[0m\u001b[1mtotal\u001b[0m\u001b[1m \u001b[0m┃\n",
       "┡━━━━━━━━━━━╇━━━━━━━┩\n",
       "│ \u001b[2mstring\u001b[0m    │ \u001b[2mint64\u001b[0m │\n",
       "├───────────┼───────┤\n",
       "│ \u001b[32mAustralia\u001b[0m │   \u001b[1;36m540\u001b[0m │\n",
       "│ \u001b[32mBrazil   \u001b[0m │   \u001b[1;36m414\u001b[0m │\n",
       "│ \u001b[32mCanada   \u001b[0m │   \u001b[1;36m270\u001b[0m │\n",
       "│ \u001b[32mFrance   \u001b[0m │   \u001b[1;36m450\u001b[0m │\n",
       "│ \u001b[32mGermany  \u001b[0m │   \u001b[1;36m513\u001b[0m │\n",
       "│ \u001b[32mIndia    \u001b[0m │   \u001b[1;36m648\u001b[0m │\n",
       "│ \u001b[32mItaly    \u001b[0m │   \u001b[1;36m567\u001b[0m │\n",
       "│ \u001b[32mJapan    \u001b[0m │   \u001b[1;36m621\u001b[0m │\n",
       "│ \u001b[32mSpain    \u001b[0m │   \u001b[1;36m594\u001b[0m │\n",
       "│ \u001b[32mUK       \u001b[0m │   \u001b[1;36m432\u001b[0m │\n",
       "│ \u001b[2m…\u001b[0m         │     \u001b[2m…\u001b[0m │\n",
       "└───────────┴───────┘"
      ]
     },
     "execution_count": 21,
     "metadata": {},
     "output_type": "execute_result"
    }
   ],
   "source": [
    "(\n",
    "    df\n",
    "    .mutate(median=_.amount.median())\n",
    "    .filter(_.amount <= _.median * 10)\n",
    "    .group_by(\"country\")\n",
    "    .aggregate(total=(_.amount - _.discount).sum())\n",
    "    .order_by(\"country\")\n",
    ")"
   ]
  },
  {
   "cell_type": "markdown",
   "id": "6e3d4a28",
   "metadata": {},
   "source": [
    "## “I probably should use the median within each country”"
   ]
  },
  {
   "cell_type": "markdown",
   "id": "c7f3f39a",
   "metadata": {},
   "source": [
    "### pandas"
   ]
  },
  {
   "cell_type": "code",
   "execution_count": null,
   "id": "04649a31",
   "metadata": {},
   "outputs": [
    {
     "data": {
      "text/html": [
       "<div>\n",
       "<style scoped>\n",
       "    .dataframe tbody tr th:only-of-type {\n",
       "        vertical-align: middle;\n",
       "    }\n",
       "\n",
       "    .dataframe tbody tr th {\n",
       "        vertical-align: top;\n",
       "    }\n",
       "\n",
       "    .dataframe thead th {\n",
       "        text-align: right;\n",
       "    }\n",
       "</style>\n",
       "<table border=\"1\" class=\"dataframe\">\n",
       "  <thead>\n",
       "    <tr style=\"text-align: right;\">\n",
       "      <th></th>\n",
       "      <th>country</th>\n",
       "      <th>total</th>\n",
       "    </tr>\n",
       "  </thead>\n",
       "  <tbody>\n",
       "    <tr>\n",
       "      <th>0</th>\n",
       "      <td>Australia</td>\n",
       "      <td>540</td>\n",
       "    </tr>\n",
       "    <tr>\n",
       "      <th>1</th>\n",
       "      <td>Brazil</td>\n",
       "      <td>414</td>\n",
       "    </tr>\n",
       "    <tr>\n",
       "      <th>2</th>\n",
       "      <td>Canada</td>\n",
       "      <td>270</td>\n",
       "    </tr>\n",
       "    <tr>\n",
       "      <th>3</th>\n",
       "      <td>France</td>\n",
       "      <td>450</td>\n",
       "    </tr>\n",
       "    <tr>\n",
       "      <th>4</th>\n",
       "      <td>Germany</td>\n",
       "      <td>513</td>\n",
       "    </tr>\n",
       "    <tr>\n",
       "      <th>5</th>\n",
       "      <td>India</td>\n",
       "      <td>648</td>\n",
       "    </tr>\n",
       "    <tr>\n",
       "      <th>6</th>\n",
       "      <td>Italy</td>\n",
       "      <td>567</td>\n",
       "    </tr>\n",
       "    <tr>\n",
       "      <th>7</th>\n",
       "      <td>Japan</td>\n",
       "      <td>621</td>\n",
       "    </tr>\n",
       "    <tr>\n",
       "      <th>8</th>\n",
       "      <td>Spain</td>\n",
       "      <td>594</td>\n",
       "    </tr>\n",
       "    <tr>\n",
       "      <th>9</th>\n",
       "      <td>UK</td>\n",
       "      <td>432</td>\n",
       "    </tr>\n",
       "    <tr>\n",
       "      <th>10</th>\n",
       "      <td>USA</td>\n",
       "      <td>8455</td>\n",
       "    </tr>\n",
       "  </tbody>\n",
       "</table>\n",
       "</div>"
      ],
      "text/plain": [
       "      country  total\n",
       "0   Australia    540\n",
       "1      Brazil    414\n",
       "2      Canada    270\n",
       "3      France    450\n",
       "4     Germany    513\n",
       "5       India    648\n",
       "6       Italy    567\n",
       "7       Japan    621\n",
       "8       Spain    594\n",
       "9          UK    432\n",
       "10        USA   8455"
      ]
     },
     "execution_count": 25,
     "metadata": {},
     "output_type": "execute_result"
    }
   ],
   "source": [
    "(\n",
    "    pandas_df\n",
    "    .assign(country_median=lambda df:\n",
    "        df.groupby(\"country\")[\"amount\"].transform(\"median\")\n",
    "    )\n",
    "    .query(\"amount <= country_median * 10\")\n",
    "    .groupby(\"country\")[[\"amount\", \"discount\"]]\n",
    "    .apply(lambda df: (df[\"amount\"] - df[\"discount\"]).sum())\n",
    "    .reset_index()\n",
    "    .rename(columns={0: \"total\"})\n",
    ")"
   ]
  },
  {
   "cell_type": "markdown",
   "id": "6cbe8c15",
   "metadata": {},
   "source": [
    "### ibis"
   ]
  },
  {
   "cell_type": "markdown",
   "id": "b5a2d118",
   "metadata": {},
   "source": [
    "For this last example, we have to resort to calculating the median after a group by operation over each country and then join it back to the original DataFrame to replace the outliers. This is similar to the pandas approach."
   ]
  },
  {
   "cell_type": "code",
   "execution_count": 29,
   "id": "7f170d2e",
   "metadata": {},
   "outputs": [
    {
     "data": {
      "text/html": [
       "<pre style=\"white-space:pre;overflow-x:auto;line-height:normal;font-family:Menlo,'DejaVu Sans Mono',consolas,'Courier New',monospace\">┏━━━━━━━━━━━┳━━━━━━━━━┓\n",
       "┃<span style=\"font-weight: bold\"> country   </span>┃<span style=\"font-weight: bold\"> median  </span>┃\n",
       "┡━━━━━━━━━━━╇━━━━━━━━━┩\n",
       "│ <span style=\"color: #7f7f7f; text-decoration-color: #7f7f7f\">string</span>    │ <span style=\"color: #7f7f7f; text-decoration-color: #7f7f7f\">float64</span> │\n",
       "├───────────┼─────────┤\n",
       "│ <span style=\"color: #008000; text-decoration-color: #008000\">Germany  </span> │   <span style=\"color: #008080; text-decoration-color: #008080; font-weight: bold\">200.0</span> │\n",
       "│ <span style=\"color: #008000; text-decoration-color: #008000\">India    </span> │   <span style=\"color: #008080; text-decoration-color: #008080; font-weight: bold\">250.0</span> │\n",
       "│ <span style=\"color: #008000; text-decoration-color: #008000\">Australia</span> │   <span style=\"color: #008080; text-decoration-color: #008080; font-weight: bold\">210.0</span> │\n",
       "│ <span style=\"color: #008000; text-decoration-color: #008000\">USA      </span> │  <span style=\"color: #008080; text-decoration-color: #008080; font-weight: bold\">3000.0</span> │\n",
       "│ <span style=\"color: #008000; text-decoration-color: #008000\">Italy    </span> │   <span style=\"color: #008080; text-decoration-color: #008080; font-weight: bold\">220.0</span> │\n",
       "│ <span style=\"color: #008000; text-decoration-color: #008000\">Brazil   </span> │   <span style=\"color: #008080; text-decoration-color: #008080; font-weight: bold\">230.0</span> │\n",
       "│ <span style=\"color: #008000; text-decoration-color: #008000\">Spain    </span> │   <span style=\"color: #008080; text-decoration-color: #008080; font-weight: bold\">230.0</span> │\n",
       "│ <span style=\"color: #008000; text-decoration-color: #008000\">Japan    </span> │   <span style=\"color: #008080; text-decoration-color: #008080; font-weight: bold\">240.0</span> │\n",
       "│ <span style=\"color: #008000; text-decoration-color: #008000\">Canada   </span> │   <span style=\"color: #008080; text-decoration-color: #008080; font-weight: bold\">180.0</span> │\n",
       "│ <span style=\"color: #008000; text-decoration-color: #008000\">France   </span> │   <span style=\"color: #008080; text-decoration-color: #008080; font-weight: bold\">170.0</span> │\n",
       "│ <span style=\"color: #7f7f7f; text-decoration-color: #7f7f7f\">…</span>         │       <span style=\"color: #7f7f7f; text-decoration-color: #7f7f7f\">…</span> │\n",
       "└───────────┴─────────┘\n",
       "</pre>\n"
      ],
      "text/plain": [
       "┏━━━━━━━━━━━┳━━━━━━━━━┓\n",
       "┃\u001b[1m \u001b[0m\u001b[1mcountry\u001b[0m\u001b[1m  \u001b[0m\u001b[1m \u001b[0m┃\u001b[1m \u001b[0m\u001b[1mmedian\u001b[0m\u001b[1m \u001b[0m\u001b[1m \u001b[0m┃\n",
       "┡━━━━━━━━━━━╇━━━━━━━━━┩\n",
       "│ \u001b[2mstring\u001b[0m    │ \u001b[2mfloat64\u001b[0m │\n",
       "├───────────┼─────────┤\n",
       "│ \u001b[32mGermany  \u001b[0m │   \u001b[1;36m200.0\u001b[0m │\n",
       "│ \u001b[32mIndia    \u001b[0m │   \u001b[1;36m250.0\u001b[0m │\n",
       "│ \u001b[32mAustralia\u001b[0m │   \u001b[1;36m210.0\u001b[0m │\n",
       "│ \u001b[32mUSA      \u001b[0m │  \u001b[1;36m3000.0\u001b[0m │\n",
       "│ \u001b[32mItaly    \u001b[0m │   \u001b[1;36m220.0\u001b[0m │\n",
       "│ \u001b[32mBrazil   \u001b[0m │   \u001b[1;36m230.0\u001b[0m │\n",
       "│ \u001b[32mSpain    \u001b[0m │   \u001b[1;36m230.0\u001b[0m │\n",
       "│ \u001b[32mJapan    \u001b[0m │   \u001b[1;36m240.0\u001b[0m │\n",
       "│ \u001b[32mCanada   \u001b[0m │   \u001b[1;36m180.0\u001b[0m │\n",
       "│ \u001b[32mFrance   \u001b[0m │   \u001b[1;36m170.0\u001b[0m │\n",
       "│ \u001b[2m…\u001b[0m         │       \u001b[2m…\u001b[0m │\n",
       "└───────────┴─────────┘"
      ]
     },
     "execution_count": 29,
     "metadata": {},
     "output_type": "execute_result"
    }
   ],
   "source": [
    "df.group_by(\"country\").aggregate(median=_.amount.median())"
   ]
  },
  {
   "cell_type": "markdown",
   "id": "41414659",
   "metadata": {},
   "source": [
    "Here's how you can do it in a single expression in `ibis`:"
   ]
  },
  {
   "cell_type": "code",
   "execution_count": null,
   "id": "66dc9796",
   "metadata": {
    "execution": {
     "iopub.execute_input": "2025-06-07T18:44:53.674993Z",
     "iopub.status.busy": "2025-06-07T18:44:53.674874Z",
     "iopub.status.idle": "2025-06-07T18:44:53.688628Z",
     "shell.execute_reply": "2025-06-07T18:44:53.687848Z",
     "shell.execute_reply.started": "2025-06-07T18:44:53.674984Z"
    }
   },
   "outputs": [
    {
     "ename": "IntegrityError",
     "evalue": "Cannot add <ibis.expr.operations.relations.Field object at 0x12816f850> to projection, they belong to another relation",
     "output_type": "error",
     "traceback": [
      "\u001b[31m---------------------------------------------------------------------------\u001b[39m",
      "\u001b[31mIntegrityError\u001b[39m                            Traceback (most recent call last)",
      "\u001b[36mCell\u001b[39m\u001b[36m \u001b[39m\u001b[32mIn[33]\u001b[39m\u001b[32m, line 3\u001b[39m\n\u001b[32m      1\u001b[39m (\n\u001b[32m      2\u001b[39m     \u001b[43mdf\u001b[49m\n\u001b[32m----> \u001b[39m\u001b[32m3\u001b[39m \u001b[43m    \u001b[49m\u001b[43m.\u001b[49m\u001b[43mmutate\u001b[49m\u001b[43m(\u001b[49m\n\u001b[32m      4\u001b[39m \u001b[43m        \u001b[49m\u001b[43mdf\u001b[49m\u001b[43m.\u001b[49m\u001b[43mgroup_by\u001b[49m\u001b[43m(\u001b[49m\u001b[33;43m\"\u001b[39;49m\u001b[33;43mcountry\u001b[39;49m\u001b[33;43m\"\u001b[39;49m\u001b[43m)\u001b[49m\u001b[43m.\u001b[49m\u001b[43maggregate\u001b[49m\u001b[43m(\u001b[49m\u001b[43mmedian\u001b[49m\u001b[43m=\u001b[49m\u001b[43m_\u001b[49m\u001b[43m.\u001b[49m\u001b[43mamount\u001b[49m\u001b[43m.\u001b[49m\u001b[43mmedian\u001b[49m\u001b[43m(\u001b[49m\u001b[43m)\u001b[49m\u001b[43m)\u001b[49m\u001b[43m,\u001b[49m\n\u001b[32m      5\u001b[39m \u001b[43m    \u001b[49m\u001b[43m)\u001b[49m\n\u001b[32m      6\u001b[39m     .filter(_.amount <= _.median * \u001b[32m10\u001b[39m)\n\u001b[32m      7\u001b[39m     .group_by(\u001b[33m\"\u001b[39m\u001b[33mcountry\u001b[39m\u001b[33m\"\u001b[39m)\n\u001b[32m      8\u001b[39m     .aggregate(total=(_.amount - _.discount).sum())\n\u001b[32m      9\u001b[39m     .order_by(\u001b[33m\"\u001b[39m\u001b[33mcountry\u001b[39m\u001b[33m\"\u001b[39m)\n\u001b[32m     10\u001b[39m )\n",
      "\u001b[36mFile \u001b[39m\u001b[32m~/gitrepos/kdheepak.github.io/blog/ibis-better-pandas/.venv/lib/python3.12/site-packages/ibis/expr/types/relations.py:1959\u001b[39m, in \u001b[36mTable.mutate\u001b[39m\u001b[34m(self, *exprs, **mutations)\u001b[39m\n\u001b[32m   1957\u001b[39m \u001b[38;5;66;03m# allow overriding of fields, hence the mutation behavior\u001b[39;00m\n\u001b[32m   1958\u001b[39m values = {**node.fields, **values}\n\u001b[32m-> \u001b[39m\u001b[32m1959\u001b[39m \u001b[38;5;28;01mreturn\u001b[39;00m \u001b[38;5;28;43mself\u001b[39;49m\u001b[43m.\u001b[49m\u001b[43mselect\u001b[49m\u001b[43m(\u001b[49m\u001b[43m*\u001b[49m\u001b[43m*\u001b[49m\u001b[43mvalues\u001b[49m\u001b[43m)\u001b[49m\n",
      "\u001b[36mFile \u001b[39m\u001b[32m~/gitrepos/kdheepak.github.io/blog/ibis-better-pandas/.venv/lib/python3.12/site-packages/ibis/expr/types/relations.py:2152\u001b[39m, in \u001b[36mTable.select\u001b[39m\u001b[34m(self, *exprs, **named_exprs)\u001b[39m\n\u001b[32m   2147\u001b[39m \u001b[38;5;66;03m# we need to detect reductions which are either turned into window functions\u001b[39;00m\n\u001b[32m   2148\u001b[39m \u001b[38;5;66;03m# or scalar subqueries depending on whether they are originating from self\u001b[39;00m\n\u001b[32m   2149\u001b[39m values = {\n\u001b[32m   2150\u001b[39m     k: rewrite_project_input(v, relation=\u001b[38;5;28mself\u001b[39m.op()) \u001b[38;5;28;01mfor\u001b[39;00m k, v \u001b[38;5;129;01min\u001b[39;00m values.items()\n\u001b[32m   2151\u001b[39m }\n\u001b[32m-> \u001b[39m\u001b[32m2152\u001b[39m \u001b[38;5;28;01mreturn\u001b[39;00m \u001b[43mops\u001b[49m\u001b[43m.\u001b[49m\u001b[43mProject\u001b[49m\u001b[43m(\u001b[49m\u001b[38;5;28;43mself\u001b[39;49m\u001b[43m,\u001b[49m\u001b[43m \u001b[49m\u001b[43mvalues\u001b[49m\u001b[43m)\u001b[49m.to_expr()\n",
      "\u001b[36mFile \u001b[39m\u001b[32m~/gitrepos/kdheepak.github.io/blog/ibis-better-pandas/.venv/lib/python3.12/site-packages/ibis/common/bases.py:72\u001b[39m, in \u001b[36mAbstractMeta.__call__\u001b[39m\u001b[34m(cls, *args, **kwargs)\u001b[39m\n\u001b[32m     52\u001b[39m \u001b[38;5;28;01mdef\u001b[39;00m\u001b[38;5;250m \u001b[39m\u001b[34m__call__\u001b[39m(\u001b[38;5;28mcls\u001b[39m, *args, **kwargs):\n\u001b[32m     53\u001b[39m \u001b[38;5;250m    \u001b[39m\u001b[33;03m\"\"\"Create a new instance of the class.\u001b[39;00m\n\u001b[32m     54\u001b[39m \n\u001b[32m     55\u001b[39m \u001b[33;03m    The subclass may override the `__create__` classmethod to change the\u001b[39;00m\n\u001b[32m   (...)\u001b[39m\u001b[32m     70\u001b[39m \n\u001b[32m     71\u001b[39m \u001b[33;03m    \"\"\"\u001b[39;00m\n\u001b[32m---> \u001b[39m\u001b[32m72\u001b[39m     \u001b[38;5;28;01mreturn\u001b[39;00m \u001b[38;5;28;43mcls\u001b[39;49m\u001b[43m.\u001b[49m\u001b[43m__create__\u001b[49m\u001b[43m(\u001b[49m\u001b[43m*\u001b[49m\u001b[43margs\u001b[49m\u001b[43m,\u001b[49m\u001b[43m \u001b[49m\u001b[43m*\u001b[49m\u001b[43m*\u001b[49m\u001b[43mkwargs\u001b[49m\u001b[43m)\u001b[49m\n",
      "\u001b[36mFile \u001b[39m\u001b[32m~/gitrepos/kdheepak.github.io/blog/ibis-better-pandas/.venv/lib/python3.12/site-packages/ibis/common/grounds.py:120\u001b[39m, in \u001b[36mAnnotable.__create__\u001b[39m\u001b[34m(cls, *args, **kwargs)\u001b[39m\n\u001b[32m    116\u001b[39m \u001b[38;5;129m@classmethod\u001b[39m\n\u001b[32m    117\u001b[39m \u001b[38;5;28;01mdef\u001b[39;00m\u001b[38;5;250m \u001b[39m\u001b[34m__create__\u001b[39m(\u001b[38;5;28mcls\u001b[39m, *args: Any, **kwargs: Any) -> Self:\n\u001b[32m    118\u001b[39m     \u001b[38;5;66;03m# construct the instance by passing only validated keyword arguments\u001b[39;00m\n\u001b[32m    119\u001b[39m     kwargs = \u001b[38;5;28mcls\u001b[39m.__signature__.validate(\u001b[38;5;28mcls\u001b[39m, args, kwargs)\n\u001b[32m--> \u001b[39m\u001b[32m120\u001b[39m     \u001b[38;5;28;01mreturn\u001b[39;00m \u001b[38;5;28;43msuper\u001b[39;49m\u001b[43m(\u001b[49m\u001b[43m)\u001b[49m\u001b[43m.\u001b[49m\u001b[43m__create__\u001b[49m\u001b[43m(\u001b[49m\u001b[43m*\u001b[49m\u001b[43m*\u001b[49m\u001b[43mkwargs\u001b[49m\u001b[43m)\u001b[49m\n",
      "\u001b[36mFile \u001b[39m\u001b[32m~/gitrepos/kdheepak.github.io/blog/ibis-better-pandas/.venv/lib/python3.12/site-packages/ibis/expr/operations/relations.py:128\u001b[39m, in \u001b[36mProject.__init__\u001b[39m\u001b[34m(self, parent, values)\u001b[39m\n\u001b[32m    127\u001b[39m \u001b[38;5;28;01mdef\u001b[39;00m\u001b[38;5;250m \u001b[39m\u001b[34m__init__\u001b[39m(\u001b[38;5;28mself\u001b[39m, parent, values):\n\u001b[32m--> \u001b[39m\u001b[32m128\u001b[39m     \u001b[43m_check_integrity\u001b[49m\u001b[43m(\u001b[49m\u001b[43mvalues\u001b[49m\u001b[43m.\u001b[49m\u001b[43mvalues\u001b[49m\u001b[43m(\u001b[49m\u001b[43m)\u001b[49m\u001b[43m,\u001b[49m\u001b[43m \u001b[49m\u001b[43m{\u001b[49m\u001b[43mparent\u001b[49m\u001b[43m}\u001b[49m\u001b[43m)\u001b[49m\n\u001b[32m    129\u001b[39m     \u001b[38;5;28msuper\u001b[39m().\u001b[34m__init__\u001b[39m(parent=parent, values=values)\n",
      "\u001b[36mFile \u001b[39m\u001b[32m~/gitrepos/kdheepak.github.io/blog/ibis-better-pandas/.venv/lib/python3.12/site-packages/ibis/expr/operations/relations.py:115\u001b[39m, in \u001b[36m_check_integrity\u001b[39m\u001b[34m(values, allowed_parents)\u001b[39m\n\u001b[32m    113\u001b[39m \u001b[38;5;28;01mfor\u001b[39;00m rel \u001b[38;5;129;01min\u001b[39;00m value.relations:\n\u001b[32m    114\u001b[39m     \u001b[38;5;28;01mif\u001b[39;00m rel \u001b[38;5;129;01mnot\u001b[39;00m \u001b[38;5;129;01min\u001b[39;00m allowed_parents:\n\u001b[32m--> \u001b[39m\u001b[32m115\u001b[39m         \u001b[38;5;28;01mraise\u001b[39;00m IntegrityError(\n\u001b[32m    116\u001b[39m             \u001b[33mf\u001b[39m\u001b[33m\"\u001b[39m\u001b[33mCannot add \u001b[39m\u001b[38;5;132;01m{\u001b[39;00mvalue\u001b[38;5;132;01m!r}\u001b[39;00m\u001b[33m to projection, they belong to another relation\u001b[39m\u001b[33m\"\u001b[39m\n\u001b[32m    117\u001b[39m         )\n",
      "\u001b[31mIntegrityError\u001b[39m: Cannot add <ibis.expr.operations.relations.Field object at 0x12816f850> to projection, they belong to another relation"
     ]
    }
   ],
   "source": [
    "(\n",
    "    df\n",
    "    .join(\n",
    "        df.group_by(\"country\").aggregate(median=_.amount.median()),\n",
    "        predicates=[\"country\"],\n",
    "    )\n",
    "    .filter(_.amount <= _.median * 10)\n",
    "    .group_by(\"country\")\n",
    "    .aggregate(total=(_.amount - _.discount).sum())\n",
    "    .order_by(\"country\")\n",
    ")"
   ]
  },
  {
   "cell_type": "code",
   "execution_count": null,
   "id": "a79766a6",
   "metadata": {},
   "outputs": [],
   "source": []
  }
 ],
 "metadata": {
  "kernelspec": {
   "display_name": ".venv",
   "language": "python",
   "name": "python3"
  },
  "language_info": {
   "codemirror_mode": {
    "name": "ipython",
    "version": 3
   },
   "file_extension": ".py",
   "mimetype": "text/x-python",
   "name": "python",
   "nbconvert_exporter": "python",
   "pygments_lexer": "ipython3",
   "version": "3.12.5"
  },
  "widgets": {
   "application/vnd.jupyter.widget-state+json": {
    "state": {},
    "version_major": 2,
    "version_minor": 0
   }
  }
 },
 "nbformat": 4,
 "nbformat_minor": 5
}
