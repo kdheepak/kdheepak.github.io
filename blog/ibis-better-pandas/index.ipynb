{
 "cells": [
  {
   "cell_type": "raw",
   "id": "9b31fd58-e7cc-45eb-8f3a-509eb18686aa",
   "metadata": {
    "vscode": {
     "languageId": "raw"
    }
   },
   "source": [
    "---\n",
    "title: \"ibis - a better pandas\"\n",
    "date: 2025-06-07T14:22:45-0400\n",
    "categories: [python]\n",
    "keywords: [pandas, ibis, method chaining, data analysis]\n",
    "summary: \"A short showcase of ibis with method chaining\"\n",
    "---"
   ]
  },
  {
   "cell_type": "code",
   "execution_count": 2,
   "id": "605ad19e",
   "metadata": {
    "execution": {
     "iopub.execute_input": "2025-06-07T18:44:53.058591Z",
     "iopub.status.busy": "2025-06-07T18:44:53.058521Z",
     "iopub.status.idle": "2025-06-07T18:44:53.060903Z",
     "shell.execute_reply": "2025-06-07T18:44:53.060603Z",
     "shell.execute_reply.started": "2025-06-07T18:44:53.058582Z"
    }
   },
   "outputs": [],
   "source": [
    "#| code-fold: true\n",
    "from IPython.core.interactiveshell import InteractiveShell\n",
    "\n",
    "# `ast_node_interactivity` is a setting that determines how the return value of the last line in a cell is displayed\n",
    "# with `last_expr_or_assign`, the return value of the last expression is displayed unless it is assigned to a variable\n",
    "InteractiveShell.ast_node_interactivity = \"last_expr_or_assign\""
   ]
  },
  {
   "cell_type": "markdown",
   "id": "5834cad3",
   "metadata": {},
   "source": [
    "There's an excellent blog post on why Pandas feels clunky for those coming from R:\n",
    "\n",
    "<https://www.sumsar.net/blog/pandas-feels-clunky-when-coming-from-r/>"
   ]
  },
  {
   "cell_type": "markdown",
   "id": "7f535a45",
   "metadata": {},
   "source": [
    "However in Python, I've found `ibis` as an alternative to `pandas` to be a much more natural fit for those coming from `R`. \n",
    "\n",
    "[`ibis`](https://ibis-project.org/) uses duckdb as a backend by default."
   ]
  },
  {
   "cell_type": "code",
   "execution_count": 3,
   "id": "5a279e32-cd41-4993-9a05-ee506877408c",
   "metadata": {
    "execution": {
     "iopub.execute_input": "2025-06-07T18:44:53.062679Z",
     "iopub.status.busy": "2025-06-07T18:44:53.062543Z",
     "iopub.status.idle": "2025-06-07T18:44:53.190677Z",
     "shell.execute_reply": "2025-06-07T18:44:53.190395Z",
     "shell.execute_reply.started": "2025-06-07T18:44:53.062671Z"
    }
   },
   "outputs": [],
   "source": [
    "import ibis"
   ]
  },
  {
   "cell_type": "markdown",
   "id": "47913ca8-fcb0-43ad-923a-5ce6107d3913",
   "metadata": {},
   "source": [
    "`_` in ibis is a special variable that refers to the last expression evaluated\n",
    "this is useful for chaining operations or for using the result of the last expression in subsequent operations\n"
   ]
  },
  {
   "cell_type": "code",
   "execution_count": 4,
   "id": "5dfba77e-d6dd-4ee1-b0a8-60b7a71172b3",
   "metadata": {
    "execution": {
     "iopub.execute_input": "2025-06-07T18:44:53.192008Z",
     "iopub.status.busy": "2025-06-07T18:44:53.191928Z",
     "iopub.status.idle": "2025-06-07T18:44:53.193800Z",
     "shell.execute_reply": "2025-06-07T18:44:53.193516Z",
     "shell.execute_reply.started": "2025-06-07T18:44:53.192000Z"
    }
   },
   "outputs": [],
   "source": [
    "from ibis import _"
   ]
  },
  {
   "cell_type": "markdown",
   "id": "14de30c0",
   "metadata": {},
   "source": [
    "By default, `ibis` defers execution until you call `execute()`. Using `ibis.options.interactive = True` will make it so that expressions are immediately executed when displayed. This is useful for interactive exploration."
   ]
  },
  {
   "cell_type": "code",
   "execution_count": 5,
   "id": "e306b299",
   "metadata": {},
   "outputs": [],
   "source": [
    "\n",
    "ibis.options.interactive = True"
   ]
  },
  {
   "cell_type": "markdown",
   "id": "5adb3444",
   "metadata": {},
   "source": [
    "Here's the equivalent code in `ibis` for the example provided in the blog post:\n",
    "\n"
   ]
  },
  {
   "cell_type": "code",
   "execution_count": 6,
   "id": "a5ee2eb2",
   "metadata": {
    "execution": {
     "iopub.execute_input": "2025-06-07T18:44:53.194268Z",
     "iopub.status.busy": "2025-06-07T18:44:53.194165Z",
     "iopub.status.idle": "2025-06-07T18:44:53.636733Z",
     "shell.execute_reply": "2025-06-07T18:44:53.636423Z",
     "shell.execute_reply.started": "2025-06-07T18:44:53.194260Z"
    }
   },
   "outputs": [
    {
     "data": {
      "text/html": [
       "<pre style=\"white-space:pre;overflow-x:auto;line-height:normal;font-family:Menlo,'DejaVu Sans Mono',consolas,'Courier New',monospace\">┏━━━━━━━━━┳━━━━━━━━┳━━━━━━━━━━┓\n",
       "┃<span style=\"font-weight: bold\"> country </span>┃<span style=\"font-weight: bold\"> amount </span>┃<span style=\"font-weight: bold\"> discount </span>┃\n",
       "┡━━━━━━━━━╇━━━━━━━━╇━━━━━━━━━━┩\n",
       "│ <span style=\"color: #7f7f7f; text-decoration-color: #7f7f7f\">string</span>  │ <span style=\"color: #7f7f7f; text-decoration-color: #7f7f7f\">int64</span>  │ <span style=\"color: #7f7f7f; text-decoration-color: #7f7f7f\">int64</span>    │\n",
       "├─────────┼────────┼──────────┤\n",
       "│ <span style=\"color: #008000; text-decoration-color: #008000\">USA    </span> │   <span style=\"color: #008080; text-decoration-color: #008080; font-weight: bold\">2000</span> │       <span style=\"color: #008080; text-decoration-color: #008080; font-weight: bold\">10</span> │\n",
       "│ <span style=\"color: #008000; text-decoration-color: #008000\">USA    </span> │   <span style=\"color: #008080; text-decoration-color: #008080; font-weight: bold\">3500</span> │       <span style=\"color: #008080; text-decoration-color: #008080; font-weight: bold\">15</span> │\n",
       "│ <span style=\"color: #008000; text-decoration-color: #008000\">USA    </span> │   <span style=\"color: #008080; text-decoration-color: #008080; font-weight: bold\">3000</span> │       <span style=\"color: #008080; text-decoration-color: #008080; font-weight: bold\">20</span> │\n",
       "│ <span style=\"color: #008000; text-decoration-color: #008000\">Canada </span> │    <span style=\"color: #008080; text-decoration-color: #008080; font-weight: bold\">120</span> │       <span style=\"color: #008080; text-decoration-color: #008080; font-weight: bold\">12</span> │\n",
       "│ <span style=\"color: #008000; text-decoration-color: #008000\">Canada </span> │    <span style=\"color: #008080; text-decoration-color: #008080; font-weight: bold\">180</span> │       <span style=\"color: #008080; text-decoration-color: #008080; font-weight: bold\">18</span> │\n",
       "│ <span style=\"color: #008000; text-decoration-color: #008000\">Canada </span> │   <span style=\"color: #008080; text-decoration-color: #008080; font-weight: bold\">3100</span> │       <span style=\"color: #008080; text-decoration-color: #008080; font-weight: bold\">21</span> │\n",
       "│ <span style=\"color: #008000; text-decoration-color: #008000\">UK     </span> │    <span style=\"color: #008080; text-decoration-color: #008080; font-weight: bold\">130</span> │       <span style=\"color: #008080; text-decoration-color: #008080; font-weight: bold\">13</span> │\n",
       "│ <span style=\"color: #008000; text-decoration-color: #008000\">UK     </span> │    <span style=\"color: #008080; text-decoration-color: #008080; font-weight: bold\">160</span> │       <span style=\"color: #008080; text-decoration-color: #008080; font-weight: bold\">16</span> │\n",
       "│ <span style=\"color: #008000; text-decoration-color: #008000\">UK     </span> │    <span style=\"color: #008080; text-decoration-color: #008080; font-weight: bold\">190</span> │       <span style=\"color: #008080; text-decoration-color: #008080; font-weight: bold\">19</span> │\n",
       "│ <span style=\"color: #008000; text-decoration-color: #008000\">France </span> │    <span style=\"color: #008080; text-decoration-color: #008080; font-weight: bold\">110</span> │       <span style=\"color: #008080; text-decoration-color: #008080; font-weight: bold\">11</span> │\n",
       "│ <span style=\"color: #7f7f7f; text-decoration-color: #7f7f7f\">…</span>       │      <span style=\"color: #7f7f7f; text-decoration-color: #7f7f7f\">…</span> │        <span style=\"color: #7f7f7f; text-decoration-color: #7f7f7f\">…</span> │\n",
       "└─────────┴────────┴──────────┘\n",
       "</pre>\n"
      ],
      "text/plain": [
       "┏━━━━━━━━━┳━━━━━━━━┳━━━━━━━━━━┓\n",
       "┃\u001b[1m \u001b[0m\u001b[1mcountry\u001b[0m\u001b[1m \u001b[0m┃\u001b[1m \u001b[0m\u001b[1mamount\u001b[0m\u001b[1m \u001b[0m┃\u001b[1m \u001b[0m\u001b[1mdiscount\u001b[0m\u001b[1m \u001b[0m┃\n",
       "┡━━━━━━━━━╇━━━━━━━━╇━━━━━━━━━━┩\n",
       "│ \u001b[2mstring\u001b[0m  │ \u001b[2mint64\u001b[0m  │ \u001b[2mint64\u001b[0m    │\n",
       "├─────────┼────────┼──────────┤\n",
       "│ \u001b[32mUSA    \u001b[0m │   \u001b[1;36m2000\u001b[0m │       \u001b[1;36m10\u001b[0m │\n",
       "│ \u001b[32mUSA    \u001b[0m │   \u001b[1;36m3500\u001b[0m │       \u001b[1;36m15\u001b[0m │\n",
       "│ \u001b[32mUSA    \u001b[0m │   \u001b[1;36m3000\u001b[0m │       \u001b[1;36m20\u001b[0m │\n",
       "│ \u001b[32mCanada \u001b[0m │    \u001b[1;36m120\u001b[0m │       \u001b[1;36m12\u001b[0m │\n",
       "│ \u001b[32mCanada \u001b[0m │    \u001b[1;36m180\u001b[0m │       \u001b[1;36m18\u001b[0m │\n",
       "│ \u001b[32mCanada \u001b[0m │   \u001b[1;36m3100\u001b[0m │       \u001b[1;36m21\u001b[0m │\n",
       "│ \u001b[32mUK     \u001b[0m │    \u001b[1;36m130\u001b[0m │       \u001b[1;36m13\u001b[0m │\n",
       "│ \u001b[32mUK     \u001b[0m │    \u001b[1;36m160\u001b[0m │       \u001b[1;36m16\u001b[0m │\n",
       "│ \u001b[32mUK     \u001b[0m │    \u001b[1;36m190\u001b[0m │       \u001b[1;36m19\u001b[0m │\n",
       "│ \u001b[32mFrance \u001b[0m │    \u001b[1;36m110\u001b[0m │       \u001b[1;36m11\u001b[0m │\n",
       "│ \u001b[2m…\u001b[0m       │      \u001b[2m…\u001b[0m │        \u001b[2m…\u001b[0m │\n",
       "└─────────┴────────┴──────────┘"
      ]
     },
     "execution_count": 6,
     "metadata": {},
     "output_type": "execute_result"
    }
   ],
   "source": [
    "df = ibis.read_csv(\"purchases.csv\")"
   ]
  },
  {
   "cell_type": "markdown",
   "id": "bd1b3d5a-72af-45fe-9402-9d68777a3eb7",
   "metadata": {},
   "source": [
    "> “How much do we sell..? Let’s take the total sum!”"
   ]
  },
  {
   "cell_type": "code",
   "execution_count": 7,
   "id": "d7eac960",
   "metadata": {
    "execution": {
     "iopub.execute_input": "2025-06-07T18:45:02.463012Z",
     "iopub.status.busy": "2025-06-07T18:45:02.462444Z",
     "iopub.status.idle": "2025-06-07T18:45:02.492825Z",
     "shell.execute_reply": "2025-06-07T18:45:02.492098Z",
     "shell.execute_reply.started": "2025-06-07T18:45:02.462971Z"
    }
   },
   "outputs": [
    {
     "data": {
      "text/plain": [
       "17210"
      ]
     },
     "execution_count": 7,
     "metadata": {},
     "output_type": "execute_result"
    }
   ],
   "source": [
    "df.amount.sum().execute()"
   ]
  },
  {
   "cell_type": "markdown",
   "id": "911d6110-5046-4756-84df-7cbbe1b383b3",
   "metadata": {},
   "source": [
    "> “Ah, they wanted it by country…”"
   ]
  },
  {
   "cell_type": "code",
   "execution_count": 8,
   "id": "24dfbee7",
   "metadata": {
    "execution": {
     "iopub.execute_input": "2025-06-07T18:44:53.645271Z",
     "iopub.status.busy": "2025-06-07T18:44:53.645153Z",
     "iopub.status.idle": "2025-06-07T18:44:53.654406Z",
     "shell.execute_reply": "2025-06-07T18:44:53.654137Z",
     "shell.execute_reply.started": "2025-06-07T18:44:53.645263Z"
    }
   },
   "outputs": [
    {
     "data": {
      "text/html": [
       "<pre style=\"white-space:pre;overflow-x:auto;line-height:normal;font-family:Menlo,'DejaVu Sans Mono',consolas,'Courier New',monospace\">┏━━━━━━━━━━━┳━━━━━━━┓\n",
       "┃<span style=\"font-weight: bold\"> country   </span>┃<span style=\"font-weight: bold\"> total </span>┃\n",
       "┡━━━━━━━━━━━╇━━━━━━━┩\n",
       "│ <span style=\"color: #7f7f7f; text-decoration-color: #7f7f7f\">string</span>    │ <span style=\"color: #7f7f7f; text-decoration-color: #7f7f7f\">int64</span> │\n",
       "├───────────┼───────┤\n",
       "│ <span style=\"color: #008000; text-decoration-color: #008000\">Spain    </span> │   <span style=\"color: #008080; text-decoration-color: #008080; font-weight: bold\">660</span> │\n",
       "│ <span style=\"color: #008000; text-decoration-color: #008000\">Japan    </span> │   <span style=\"color: #008080; text-decoration-color: #008080; font-weight: bold\">690</span> │\n",
       "│ <span style=\"color: #008000; text-decoration-color: #008000\">Germany  </span> │   <span style=\"color: #008080; text-decoration-color: #008080; font-weight: bold\">570</span> │\n",
       "│ <span style=\"color: #008000; text-decoration-color: #008000\">India    </span> │   <span style=\"color: #008080; text-decoration-color: #008080; font-weight: bold\">720</span> │\n",
       "│ <span style=\"color: #008000; text-decoration-color: #008000\">USA      </span> │  <span style=\"color: #008080; text-decoration-color: #008080; font-weight: bold\">8500</span> │\n",
       "│ <span style=\"color: #008000; text-decoration-color: #008000\">Canada   </span> │  <span style=\"color: #008080; text-decoration-color: #008080; font-weight: bold\">3400</span> │\n",
       "│ <span style=\"color: #008000; text-decoration-color: #008000\">France   </span> │   <span style=\"color: #008080; text-decoration-color: #008080; font-weight: bold\">500</span> │\n",
       "│ <span style=\"color: #008000; text-decoration-color: #008000\">Australia</span> │   <span style=\"color: #008080; text-decoration-color: #008080; font-weight: bold\">600</span> │\n",
       "│ <span style=\"color: #008000; text-decoration-color: #008000\">UK       </span> │   <span style=\"color: #008080; text-decoration-color: #008080; font-weight: bold\">480</span> │\n",
       "│ <span style=\"color: #008000; text-decoration-color: #008000\">Italy    </span> │   <span style=\"color: #008080; text-decoration-color: #008080; font-weight: bold\">630</span> │\n",
       "│ <span style=\"color: #7f7f7f; text-decoration-color: #7f7f7f\">…</span>         │     <span style=\"color: #7f7f7f; text-decoration-color: #7f7f7f\">…</span> │\n",
       "└───────────┴───────┘\n",
       "</pre>\n"
      ],
      "text/plain": [
       "┏━━━━━━━━━━━┳━━━━━━━┓\n",
       "┃\u001b[1m \u001b[0m\u001b[1mcountry\u001b[0m\u001b[1m  \u001b[0m\u001b[1m \u001b[0m┃\u001b[1m \u001b[0m\u001b[1mtotal\u001b[0m\u001b[1m \u001b[0m┃\n",
       "┡━━━━━━━━━━━╇━━━━━━━┩\n",
       "│ \u001b[2mstring\u001b[0m    │ \u001b[2mint64\u001b[0m │\n",
       "├───────────┼───────┤\n",
       "│ \u001b[32mSpain    \u001b[0m │   \u001b[1;36m660\u001b[0m │\n",
       "│ \u001b[32mJapan    \u001b[0m │   \u001b[1;36m690\u001b[0m │\n",
       "│ \u001b[32mGermany  \u001b[0m │   \u001b[1;36m570\u001b[0m │\n",
       "│ \u001b[32mIndia    \u001b[0m │   \u001b[1;36m720\u001b[0m │\n",
       "│ \u001b[32mUSA      \u001b[0m │  \u001b[1;36m8500\u001b[0m │\n",
       "│ \u001b[32mCanada   \u001b[0m │  \u001b[1;36m3400\u001b[0m │\n",
       "│ \u001b[32mFrance   \u001b[0m │   \u001b[1;36m500\u001b[0m │\n",
       "│ \u001b[32mAustralia\u001b[0m │   \u001b[1;36m600\u001b[0m │\n",
       "│ \u001b[32mUK       \u001b[0m │   \u001b[1;36m480\u001b[0m │\n",
       "│ \u001b[32mItaly    \u001b[0m │   \u001b[1;36m630\u001b[0m │\n",
       "│ \u001b[2m…\u001b[0m         │     \u001b[2m…\u001b[0m │\n",
       "└───────────┴───────┘"
      ]
     },
     "execution_count": 8,
     "metadata": {},
     "output_type": "execute_result"
    }
   ],
   "source": [
    "(\n",
    "    df\n",
    "    .group_by(\"country\")\n",
    "    .aggregate(total=_.amount.sum())\n",
    ")"
   ]
  },
  {
   "cell_type": "markdown",
   "id": "c689fae0-420b-469b-867f-7f7b00deb984",
   "metadata": {},
   "source": [
    "> “And I guess I should deduct the discount.”"
   ]
  },
  {
   "cell_type": "code",
   "execution_count": 9,
   "id": "2edd80f6",
   "metadata": {
    "execution": {
     "iopub.execute_input": "2025-06-07T18:44:53.655040Z",
     "iopub.status.busy": "2025-06-07T18:44:53.654860Z",
     "iopub.status.idle": "2025-06-07T18:44:53.662879Z",
     "shell.execute_reply": "2025-06-07T18:44:53.662545Z",
     "shell.execute_reply.started": "2025-06-07T18:44:53.655029Z"
    }
   },
   "outputs": [
    {
     "data": {
      "text/html": [
       "<pre style=\"white-space:pre;overflow-x:auto;line-height:normal;font-family:Menlo,'DejaVu Sans Mono',consolas,'Courier New',monospace\">┏━━━━━━━━━┳━━━━━━━┓\n",
       "┃<span style=\"font-weight: bold\"> country </span>┃<span style=\"font-weight: bold\"> total </span>┃\n",
       "┡━━━━━━━━━╇━━━━━━━┩\n",
       "│ <span style=\"color: #7f7f7f; text-decoration-color: #7f7f7f\">string</span>  │ <span style=\"color: #7f7f7f; text-decoration-color: #7f7f7f\">int64</span> │\n",
       "├─────────┼───────┤\n",
       "│ <span style=\"color: #008000; text-decoration-color: #008000\">Germany</span> │   <span style=\"color: #008080; text-decoration-color: #008080; font-weight: bold\">513</span> │\n",
       "│ <span style=\"color: #008000; text-decoration-color: #008000\">India  </span> │   <span style=\"color: #008080; text-decoration-color: #008080; font-weight: bold\">648</span> │\n",
       "│ <span style=\"color: #008000; text-decoration-color: #008000\">USA    </span> │  <span style=\"color: #008080; text-decoration-color: #008080; font-weight: bold\">8455</span> │\n",
       "│ <span style=\"color: #008000; text-decoration-color: #008000\">Italy  </span> │   <span style=\"color: #008080; text-decoration-color: #008080; font-weight: bold\">567</span> │\n",
       "│ <span style=\"color: #008000; text-decoration-color: #008000\">Brazil </span> │   <span style=\"color: #008080; text-decoration-color: #008080; font-weight: bold\">414</span> │\n",
       "│ <span style=\"color: #008000; text-decoration-color: #008000\">Canada </span> │  <span style=\"color: #008080; text-decoration-color: #008080; font-weight: bold\">3349</span> │\n",
       "│ <span style=\"color: #008000; text-decoration-color: #008000\">France </span> │   <span style=\"color: #008080; text-decoration-color: #008080; font-weight: bold\">450</span> │\n",
       "│ <span style=\"color: #008000; text-decoration-color: #008000\">Spain  </span> │   <span style=\"color: #008080; text-decoration-color: #008080; font-weight: bold\">594</span> │\n",
       "│ <span style=\"color: #008000; text-decoration-color: #008000\">Japan  </span> │   <span style=\"color: #008080; text-decoration-color: #008080; font-weight: bold\">621</span> │\n",
       "│ <span style=\"color: #008000; text-decoration-color: #008000\">UK     </span> │   <span style=\"color: #008080; text-decoration-color: #008080; font-weight: bold\">432</span> │\n",
       "│ <span style=\"color: #7f7f7f; text-decoration-color: #7f7f7f\">…</span>       │     <span style=\"color: #7f7f7f; text-decoration-color: #7f7f7f\">…</span> │\n",
       "└─────────┴───────┘\n",
       "</pre>\n"
      ],
      "text/plain": [
       "┏━━━━━━━━━┳━━━━━━━┓\n",
       "┃\u001b[1m \u001b[0m\u001b[1mcountry\u001b[0m\u001b[1m \u001b[0m┃\u001b[1m \u001b[0m\u001b[1mtotal\u001b[0m\u001b[1m \u001b[0m┃\n",
       "┡━━━━━━━━━╇━━━━━━━┩\n",
       "│ \u001b[2mstring\u001b[0m  │ \u001b[2mint64\u001b[0m │\n",
       "├─────────┼───────┤\n",
       "│ \u001b[32mGermany\u001b[0m │   \u001b[1;36m513\u001b[0m │\n",
       "│ \u001b[32mIndia  \u001b[0m │   \u001b[1;36m648\u001b[0m │\n",
       "│ \u001b[32mUSA    \u001b[0m │  \u001b[1;36m8455\u001b[0m │\n",
       "│ \u001b[32mItaly  \u001b[0m │   \u001b[1;36m567\u001b[0m │\n",
       "│ \u001b[32mBrazil \u001b[0m │   \u001b[1;36m414\u001b[0m │\n",
       "│ \u001b[32mCanada \u001b[0m │  \u001b[1;36m3349\u001b[0m │\n",
       "│ \u001b[32mFrance \u001b[0m │   \u001b[1;36m450\u001b[0m │\n",
       "│ \u001b[32mSpain  \u001b[0m │   \u001b[1;36m594\u001b[0m │\n",
       "│ \u001b[32mJapan  \u001b[0m │   \u001b[1;36m621\u001b[0m │\n",
       "│ \u001b[32mUK     \u001b[0m │   \u001b[1;36m432\u001b[0m │\n",
       "│ \u001b[2m…\u001b[0m       │     \u001b[2m…\u001b[0m │\n",
       "└─────────┴───────┘"
      ]
     },
     "execution_count": 9,
     "metadata": {},
     "output_type": "execute_result"
    }
   ],
   "source": [
    "(\n",
    "    df\n",
    "    .group_by(\"country\")\n",
    "    .aggregate(total=(_.amount - _.discount).sum())\n",
    ")"
   ]
  },
  {
   "cell_type": "code",
   "execution_count": 10,
   "id": "2e04090e",
   "metadata": {
    "execution": {
     "iopub.execute_input": "2025-06-07T18:44:53.663427Z",
     "iopub.status.busy": "2025-06-07T18:44:53.663341Z",
     "iopub.status.idle": "2025-06-07T18:44:53.674399Z",
     "shell.execute_reply": "2025-06-07T18:44:53.673670Z",
     "shell.execute_reply.started": "2025-06-07T18:44:53.663419Z"
    }
   },
   "outputs": [
    {
     "data": {
      "text/html": [
       "<pre style=\"white-space:pre;overflow-x:auto;line-height:normal;font-family:Menlo,'DejaVu Sans Mono',consolas,'Courier New',monospace\">┏━━━━━━━━━━━┳━━━━━━━┓\n",
       "┃<span style=\"font-weight: bold\"> country   </span>┃<span style=\"font-weight: bold\"> total </span>┃\n",
       "┡━━━━━━━━━━━╇━━━━━━━┩\n",
       "│ <span style=\"color: #7f7f7f; text-decoration-color: #7f7f7f\">string</span>    │ <span style=\"color: #7f7f7f; text-decoration-color: #7f7f7f\">int64</span> │\n",
       "├───────────┼───────┤\n",
       "│ <span style=\"color: #008000; text-decoration-color: #008000\">Canada   </span> │   <span style=\"color: #008080; text-decoration-color: #008080; font-weight: bold\">270</span> │\n",
       "│ <span style=\"color: #008000; text-decoration-color: #008000\">France   </span> │   <span style=\"color: #008080; text-decoration-color: #008080; font-weight: bold\">450</span> │\n",
       "│ <span style=\"color: #008000; text-decoration-color: #008000\">Italy    </span> │   <span style=\"color: #008080; text-decoration-color: #008080; font-weight: bold\">567</span> │\n",
       "│ <span style=\"color: #008000; text-decoration-color: #008000\">Brazil   </span> │   <span style=\"color: #008080; text-decoration-color: #008080; font-weight: bold\">414</span> │\n",
       "│ <span style=\"color: #008000; text-decoration-color: #008000\">UK       </span> │   <span style=\"color: #008080; text-decoration-color: #008080; font-weight: bold\">432</span> │\n",
       "│ <span style=\"color: #008000; text-decoration-color: #008000\">Germany  </span> │   <span style=\"color: #008080; text-decoration-color: #008080; font-weight: bold\">513</span> │\n",
       "│ <span style=\"color: #008000; text-decoration-color: #008000\">India    </span> │   <span style=\"color: #008080; text-decoration-color: #008080; font-weight: bold\">648</span> │\n",
       "│ <span style=\"color: #008000; text-decoration-color: #008000\">Australia</span> │   <span style=\"color: #008080; text-decoration-color: #008080; font-weight: bold\">540</span> │\n",
       "│ <span style=\"color: #008000; text-decoration-color: #008000\">USA      </span> │  <span style=\"color: #008080; text-decoration-color: #008080; font-weight: bold\">1990</span> │\n",
       "│ <span style=\"color: #008000; text-decoration-color: #008000\">Spain    </span> │   <span style=\"color: #008080; text-decoration-color: #008080; font-weight: bold\">594</span> │\n",
       "│ <span style=\"color: #7f7f7f; text-decoration-color: #7f7f7f\">…</span>         │     <span style=\"color: #7f7f7f; text-decoration-color: #7f7f7f\">…</span> │\n",
       "└───────────┴───────┘\n",
       "</pre>\n"
      ],
      "text/plain": [
       "┏━━━━━━━━━━━┳━━━━━━━┓\n",
       "┃\u001b[1m \u001b[0m\u001b[1mcountry\u001b[0m\u001b[1m  \u001b[0m\u001b[1m \u001b[0m┃\u001b[1m \u001b[0m\u001b[1mtotal\u001b[0m\u001b[1m \u001b[0m┃\n",
       "┡━━━━━━━━━━━╇━━━━━━━┩\n",
       "│ \u001b[2mstring\u001b[0m    │ \u001b[2mint64\u001b[0m │\n",
       "├───────────┼───────┤\n",
       "│ \u001b[32mCanada   \u001b[0m │   \u001b[1;36m270\u001b[0m │\n",
       "│ \u001b[32mFrance   \u001b[0m │   \u001b[1;36m450\u001b[0m │\n",
       "│ \u001b[32mItaly    \u001b[0m │   \u001b[1;36m567\u001b[0m │\n",
       "│ \u001b[32mBrazil   \u001b[0m │   \u001b[1;36m414\u001b[0m │\n",
       "│ \u001b[32mUK       \u001b[0m │   \u001b[1;36m432\u001b[0m │\n",
       "│ \u001b[32mGermany  \u001b[0m │   \u001b[1;36m513\u001b[0m │\n",
       "│ \u001b[32mIndia    \u001b[0m │   \u001b[1;36m648\u001b[0m │\n",
       "│ \u001b[32mAustralia\u001b[0m │   \u001b[1;36m540\u001b[0m │\n",
       "│ \u001b[32mUSA      \u001b[0m │  \u001b[1;36m1990\u001b[0m │\n",
       "│ \u001b[32mSpain    \u001b[0m │   \u001b[1;36m594\u001b[0m │\n",
       "│ \u001b[2m…\u001b[0m         │     \u001b[2m…\u001b[0m │\n",
       "└───────────┴───────┘"
      ]
     },
     "execution_count": 10,
     "metadata": {},
     "output_type": "execute_result"
    }
   ],
   "source": [
    "(\n",
    "    df\n",
    "    .mutate(median=_.amount.median())\n",
    "    .filter(_.amount <= _.median * 10)\n",
    "    .group_by(\"country\")\n",
    "    .aggregate(total=(_.amount - _.discount).sum())\n",
    ")"
   ]
  },
  {
   "cell_type": "code",
   "execution_count": 11,
   "id": "66dc9796",
   "metadata": {
    "execution": {
     "iopub.execute_input": "2025-06-07T18:44:53.674993Z",
     "iopub.status.busy": "2025-06-07T18:44:53.674874Z",
     "iopub.status.idle": "2025-06-07T18:44:53.688628Z",
     "shell.execute_reply": "2025-06-07T18:44:53.687848Z",
     "shell.execute_reply.started": "2025-06-07T18:44:53.674984Z"
    }
   },
   "outputs": [
    {
     "data": {
      "text/html": [
       "<pre style=\"white-space:pre;overflow-x:auto;line-height:normal;font-family:Menlo,'DejaVu Sans Mono',consolas,'Courier New',monospace\">┏━━━━━━━━━━━┳━━━━━━━┓\n",
       "┃<span style=\"font-weight: bold\"> country   </span>┃<span style=\"font-weight: bold\"> total </span>┃\n",
       "┡━━━━━━━━━━━╇━━━━━━━┩\n",
       "│ <span style=\"color: #7f7f7f; text-decoration-color: #7f7f7f\">string</span>    │ <span style=\"color: #7f7f7f; text-decoration-color: #7f7f7f\">int64</span> │\n",
       "├───────────┼───────┤\n",
       "│ <span style=\"color: #008000; text-decoration-color: #008000\">Australia</span> │   <span style=\"color: #008080; text-decoration-color: #008080; font-weight: bold\">540</span> │\n",
       "│ <span style=\"color: #008000; text-decoration-color: #008000\">Brazil   </span> │   <span style=\"color: #008080; text-decoration-color: #008080; font-weight: bold\">414</span> │\n",
       "│ <span style=\"color: #008000; text-decoration-color: #008000\">Canada   </span> │   <span style=\"color: #008080; text-decoration-color: #008080; font-weight: bold\">270</span> │\n",
       "│ <span style=\"color: #008000; text-decoration-color: #008000\">France   </span> │   <span style=\"color: #008080; text-decoration-color: #008080; font-weight: bold\">450</span> │\n",
       "│ <span style=\"color: #008000; text-decoration-color: #008000\">Germany  </span> │   <span style=\"color: #008080; text-decoration-color: #008080; font-weight: bold\">513</span> │\n",
       "│ <span style=\"color: #008000; text-decoration-color: #008000\">India    </span> │   <span style=\"color: #008080; text-decoration-color: #008080; font-weight: bold\">648</span> │\n",
       "│ <span style=\"color: #008000; text-decoration-color: #008000\">Italy    </span> │   <span style=\"color: #008080; text-decoration-color: #008080; font-weight: bold\">567</span> │\n",
       "│ <span style=\"color: #008000; text-decoration-color: #008000\">Japan    </span> │   <span style=\"color: #008080; text-decoration-color: #008080; font-weight: bold\">621</span> │\n",
       "│ <span style=\"color: #008000; text-decoration-color: #008000\">Spain    </span> │   <span style=\"color: #008080; text-decoration-color: #008080; font-weight: bold\">594</span> │\n",
       "│ <span style=\"color: #008000; text-decoration-color: #008000\">UK       </span> │   <span style=\"color: #008080; text-decoration-color: #008080; font-weight: bold\">432</span> │\n",
       "│ <span style=\"color: #7f7f7f; text-decoration-color: #7f7f7f\">…</span>         │     <span style=\"color: #7f7f7f; text-decoration-color: #7f7f7f\">…</span> │\n",
       "└───────────┴───────┘\n",
       "</pre>\n"
      ],
      "text/plain": [
       "┏━━━━━━━━━━━┳━━━━━━━┓\n",
       "┃\u001b[1m \u001b[0m\u001b[1mcountry\u001b[0m\u001b[1m  \u001b[0m\u001b[1m \u001b[0m┃\u001b[1m \u001b[0m\u001b[1mtotal\u001b[0m\u001b[1m \u001b[0m┃\n",
       "┡━━━━━━━━━━━╇━━━━━━━┩\n",
       "│ \u001b[2mstring\u001b[0m    │ \u001b[2mint64\u001b[0m │\n",
       "├───────────┼───────┤\n",
       "│ \u001b[32mAustralia\u001b[0m │   \u001b[1;36m540\u001b[0m │\n",
       "│ \u001b[32mBrazil   \u001b[0m │   \u001b[1;36m414\u001b[0m │\n",
       "│ \u001b[32mCanada   \u001b[0m │   \u001b[1;36m270\u001b[0m │\n",
       "│ \u001b[32mFrance   \u001b[0m │   \u001b[1;36m450\u001b[0m │\n",
       "│ \u001b[32mGermany  \u001b[0m │   \u001b[1;36m513\u001b[0m │\n",
       "│ \u001b[32mIndia    \u001b[0m │   \u001b[1;36m648\u001b[0m │\n",
       "│ \u001b[32mItaly    \u001b[0m │   \u001b[1;36m567\u001b[0m │\n",
       "│ \u001b[32mJapan    \u001b[0m │   \u001b[1;36m621\u001b[0m │\n",
       "│ \u001b[32mSpain    \u001b[0m │   \u001b[1;36m594\u001b[0m │\n",
       "│ \u001b[32mUK       \u001b[0m │   \u001b[1;36m432\u001b[0m │\n",
       "│ \u001b[2m…\u001b[0m         │     \u001b[2m…\u001b[0m │\n",
       "└───────────┴───────┘"
      ]
     },
     "execution_count": 11,
     "metadata": {},
     "output_type": "execute_result"
    }
   ],
   "source": [
    "(\n",
    "    df\n",
    "    .join(\n",
    "        df.group_by(\"country\").aggregate(median=_.amount.median()),\n",
    "        predicates=[\"country\"]\n",
    "    )\n",
    "    .filter(_.amount <= _.median * 10)\n",
    "    .group_by(\"country\")\n",
    "    .aggregate(total=(_.amount - _.discount).sum())\n",
    "    .order_by(\"country\")\n",
    ")"
   ]
  },
  {
   "cell_type": "code",
   "execution_count": null,
   "id": "a79766a6",
   "metadata": {},
   "outputs": [],
   "source": []
  }
 ],
 "metadata": {
  "kernelspec": {
   "display_name": ".venv",
   "language": "python",
   "name": "python3"
  },
  "language_info": {
   "codemirror_mode": {
    "name": "ipython",
    "version": 3
   },
   "file_extension": ".py",
   "mimetype": "text/x-python",
   "name": "python",
   "nbconvert_exporter": "python",
   "pygments_lexer": "ipython3",
   "version": "3.12.5"
  },
  "widgets": {
   "application/vnd.jupyter.widget-state+json": {
    "state": {},
    "version_major": 2,
    "version_minor": 0
   }
  }
 },
 "nbformat": 4,
 "nbformat_minor": 5
}
