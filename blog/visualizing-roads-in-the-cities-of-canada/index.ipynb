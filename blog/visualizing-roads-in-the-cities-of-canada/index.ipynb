{
  "cells": [
    {
      "cell_type": "raw",
      "metadata": {},
      "source": [
        "---\n",
        "title: Visualizing roads in the cities of Canada\n",
        "categories:\n",
        "  - julia\n",
        "  - visualization\n",
        "keywords: julia\n",
        "date: '2023-04-29T12:38:41-0400'\n",
        "---"
      ]
    },
    {
      "cell_type": "code",
      "metadata": {},
      "source": [
        "#| include: false\n",
        "using Pkg\n",
        "Pkg.activate(@__DIR__)\n",
        "Pkg.instantiate()\n",
        "cd(@__DIR__)"
      ],
      "execution_count": null,
      "outputs": []
    },
    {
      "cell_type": "markdown",
      "metadata": {},
      "source": [
        "Let's import some packages first."
      ]
    },
    {
      "cell_type": "code",
      "metadata": {},
      "source": [
        "#| output: false\n",
        "using GeoMakie\n",
        "using GeoInterfaceMakie\n",
        "using GeoInterface\n",
        "using CairoMakie\n",
        "using Shapefile\n",
        "using DataFrames\n",
        "using DataFramesMeta\n",
        "using StringEncodings\n",
        "using Pkg.Artifacts"
      ],
      "execution_count": null,
      "outputs": []
    },
    {
      "cell_type": "markdown",
      "metadata": {},
      "source": [
        "If you want to run this interactively, you can replace `CairoMakie` with `GLMakie`, i.e.\n",
        "\n",
        "```diff\n",
        "- import CairoMakie\n",
        "+ import GLMakie\n",
        "```\n",
        "\n",
        "## Data\n",
        "\n",
        "Representations of Canada's national road network are available from [Statistics Canada](https://www12.statcan.gc.ca/census-recensement/2011/geo/RNF-FRR/index-eng.cfm)."
      ]
    },
    {
      "cell_type": "code",
      "metadata": {},
      "source": [
        "artifact_roadnetwork = Pkg.Artifacts.ensure_artifact_installed(\"roadnetwork\", joinpath(@__DIR__, \"Artifacts.toml\"))\n",
        "path = joinpath(artifact_roadnetwork, \"lrnf000r21a_e.shp\")\n",
        "@time gdf = DataFrame(Shapefile.Table(path));\n",
        "@show size(gdf)\n",
        "first(gdf, 1)"
      ],
      "execution_count": null,
      "outputs": []
    },
    {
      "cell_type": "markdown",
      "metadata": {},
      "source": [
        "The documentation says `CSDNAME` is the \"Census subdivision name\", which seems to map to cities.\n",
        "\n",
        "Let's convert it to a proper encoding first:"
      ]
    },
    {
      "cell_type": "code",
      "metadata": {},
      "source": [
        "latin1_to_utf8(s) = decode(Vector{UInt8}(String(coalesce(s, \"\"))), \"Windows-1252\")\n",
        "@time @rtransform! gdf begin\n",
        "  :CSDNAME_L_UTF8 = latin1_to_utf8(:CSDNAME_L)\n",
        "  :CSDNAME_R_UTF8 = latin1_to_utf8(:CSDNAME_R)\n",
        "end\n",
        "nothing #| hide_line"
      ],
      "execution_count": null,
      "outputs": []
    },
    {
      "cell_type": "markdown",
      "metadata": {},
      "source": [
        "## Visualizations\n",
        "\n",
        "We can now create a plot for each city using Makie:"
      ]
    },
    {
      "cell_type": "code",
      "metadata": {},
      "source": [
        "#| code-fold: true\n",
        "function plot_city(gdf, city_name)\n",
        "  df = @rsubset gdf (:CSDNAME_L_UTF8 == city_name || :CSDNAME_R_UTF8 == city_name)\n",
        "  empty_theme = Theme(\n",
        "    fonts=(; weird=\"Blackchancery\"),\n",
        "    fontsize=32,\n",
        "    Axis=(\n",
        "      backgroundcolor=:transparent,\n",
        "      leftspinevisible=false,\n",
        "      rightspinevisible=false,\n",
        "      bottomspinevisible=false,\n",
        "      topspinevisible=false,\n",
        "      xticklabelsvisible=false,\n",
        "      yticklabelsvisible=false,\n",
        "      xgridcolor=:transparent,\n",
        "      ygridcolor=:transparent,\n",
        "      xminorticksvisible=false,\n",
        "      yminorticksvisible=false,\n",
        "      xticksvisible=false,\n",
        "      yticksvisible=false,\n",
        "      xautolimitmargin=(0.0, 0.0),\n",
        "      yautolimitmargin=(0.0, 0.0),\n",
        "      titlefont=:weird,\n",
        "    ),\n",
        "  )\n",
        "  with_theme(empty_theme) do\n",
        "    fig = Figure()\n",
        "    ax = Axis(fig[1, 1])\n",
        "    poly!.(GeoInterface.convert.(Ref(CairoMakie.GeometryBasics), df[:, :geometry]); strokecolor=:black, color=:black)\n",
        "    ax.title = city_name\n",
        "    fig\n",
        "  end\n",
        "end;"
      ],
      "execution_count": null,
      "outputs": []
    },
    {
      "cell_type": "code",
      "metadata": {},
      "source": [
        "plot_city(gdf, \"Toronto\")"
      ],
      "execution_count": null,
      "outputs": []
    },
    {
      "cell_type": "code",
      "metadata": {},
      "source": [
        "plot_city(gdf, \"Montréal\")"
      ],
      "execution_count": null,
      "outputs": []
    },
    {
      "cell_type": "code",
      "metadata": {},
      "source": [
        "plot_city(gdf, \"Vancouver\")"
      ],
      "execution_count": null,
      "outputs": []
    },
    {
      "cell_type": "code",
      "metadata": {},
      "source": [
        "plot_city(gdf, \"Ottawa\")"
      ],
      "execution_count": null,
      "outputs": []
    },
    {
      "cell_type": "code",
      "metadata": {},
      "source": [
        "plot_city(gdf, \"Calgary\")"
      ],
      "execution_count": null,
      "outputs": []
    },
    {
      "cell_type": "code",
      "metadata": {},
      "source": [
        "plot_city(gdf, \"Edmonton\")"
      ],
      "execution_count": null,
      "outputs": []
    },
    {
      "cell_type": "code",
      "metadata": {},
      "source": [
        "plot_city(gdf, \"Winnipeg\")"
      ],
      "execution_count": null,
      "outputs": []
    }
  ],
  "metadata": {
    "kernelspec": {
      "name": "julia-1.10",
      "language": "julia",
      "display_name": "Julia 1.10.1",
      "path": "/Users/kd/Library/Jupyter/kernels/julia-1.10"
    }
  },
  "nbformat": 4,
  "nbformat_minor": 4
}