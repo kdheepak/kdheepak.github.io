{
 "cells": [
  {
   "cell_type": "raw",
   "metadata": {},
   "source": [
    "---\n",
    "title: Visualizing roads in the cities of Canada\n",
    "categories:\n",
    "  - julia\n",
    "  - visualization\n",
    "keywords: julia\n",
    "date: '2023-04-29T12:38:41-0400'\n",
    "---"
   ]
  },
  {
   "cell_type": "code",
   "execution_count": 1,
   "metadata": {
    "execution": {
     "iopub.execute_input": "2024-04-19T19:36:36.545",
     "iopub.status.busy": "2024-04-19T19:36:36.338",
     "iopub.status.idle": "2024-04-19T19:37:12.098",
     "shell.execute_reply": "2024-04-19T19:37:12.066"
    }
   },
   "outputs": [
    {
     "name": "stderr",
     "output_type": "stream",
     "text": [
      "\u001b[32m\u001b[1m  Activating\u001b[22m\u001b[39m project at `~/gitrepos/kdheepak.github.io/blog/visualizing-roads-in-the-cities-of-canada`\n",
      "\u001b[32m\u001b[1mPrecompiling\u001b[22m\u001b[39m project...\n",
      "\u001b[32m  ✓ \u001b[39m\u001b[90mZstd_jll\u001b[39m\n",
      "\u001b[32m  ✓ \u001b[39mStringEncodings\n",
      "\u001b[32m  ✓ \u001b[39m\u001b[90mLERC_jll\u001b[39m\n",
      "\u001b[32m  ✓ \u001b[39m\u001b[90mSQLite_jll\u001b[39m\n",
      "\u001b[32m  ✓ \u001b[39m\u001b[90mGit_jll\u001b[39m\n",
      "\u001b[32m  ✓ \u001b[39m\u001b[90mXZ_jll\u001b[39m\n",
      "\u001b[32m  ✓ \u001b[39m\u001b[90mFFMPEG\u001b[39m\n",
      "\u001b[32m  ✓ \u001b[39m\u001b[90mQt6Base_jll\u001b[39m\n",
      "\u001b[32m  ✓ \u001b[39m\u001b[90mOpenSSL\u001b[39m\n",
      "\u001b[32m  ✓ \u001b[39m\u001b[90mLatexify → DataFramesExt\u001b[39m\n",
      "\u001b[32m  ✓ \u001b[39m\u001b[90mGeodesy\u001b[39m\n",
      "\u001b[32m  ✓ \u001b[39m\u001b[90mGit\u001b[39m\n",
      "\u001b[32m  ✓ \u001b[39m\u001b[90mStatsModels\u001b[39m\n",
      "\u001b[32m  ✓ \u001b[39m\u001b[90mMeshIO\u001b[39m\n",
      "\u001b[32m  ✓ \u001b[39m\u001b[90mLibtiff_jll\u001b[39m\n",
      "\u001b[32m  ✓ \u001b[39m\u001b[90mPlotThemes\u001b[39m\n",
      "\u001b[32m  ✓ \u001b[39m\u001b[90mPROJ_jll\u001b[39m\n",
      "\u001b[32m  ✓ \u001b[39m\u001b[90mGLM\u001b[39m\n",
      "\u001b[32m  ✓ \u001b[39m\u001b[90mGR_jll\u001b[39m\n",
      "\u001b[32m  ✓ \u001b[39m\u001b[90mRecipesPipeline\u001b[39m\n",
      "\u001b[32m  ✓ \u001b[39m\u001b[90mHTTP\u001b[39m\n",
      "\u001b[32m  ✓ \u001b[39m\u001b[90mProj\u001b[39m\n",
      "\u001b[32m  ✓ \u001b[39mArtifactUtils\n",
      "\u001b[32m  ✓ \u001b[39m\u001b[90mGR\u001b[39m\n",
      "\u001b[32m  ✓ \u001b[39mGeoMakie\n",
      "\u001b[32m  ✓ \u001b[39mAlgebraOfGraphics\n",
      "\u001b[32m  ✓ \u001b[39mGLMakie\n",
      "\u001b[32m  ✓ \u001b[39mPlots\n",
      "\u001b[32m  ✓ \u001b[39m\u001b[90mPlots → FileIOExt\u001b[39m\n",
      "\u001b[32m  ✓ \u001b[39m\u001b[90mPlots → UnitfulExt\u001b[39m\n",
      "\u001b[32m  ✓ \u001b[39m\u001b[90mPlots → GeometryBasicsExt\u001b[39m\n",
      "  31 dependencies successfully precompiled in 33 seconds. 335 already precompiled.\n"
     ]
    }
   ],
   "source": [
    "#| include: false\n",
    "using Pkg\n",
    "Pkg.activate(@__DIR__)\n",
    "Pkg.instantiate()\n",
    "cd(@__DIR__)"
   ]
  },
  {
   "cell_type": "markdown",
   "metadata": {},
   "source": [
    "Let's import some packages first."
   ]
  },
  {
   "cell_type": "code",
   "execution_count": 2,
   "metadata": {
    "execution": {
     "iopub.execute_input": "2024-04-19T19:37:16.664",
     "iopub.status.busy": "2024-04-19T19:37:16.663",
     "iopub.status.idle": "2024-04-19T19:37:20.914",
     "shell.execute_reply": "2024-04-19T19:37:20.914"
    }
   },
   "outputs": [],
   "source": [
    "#| output: false\n",
    "using GeoMakie\n",
    "using GeoInterfaceMakie\n",
    "using GeoInterface\n",
    "using CairoMakie\n",
    "using Shapefile\n",
    "using DataFrames\n",
    "using DataFramesMeta\n",
    "using StringEncodings\n",
    "using Pkg.Artifacts"
   ]
  },
  {
   "cell_type": "markdown",
   "metadata": {},
   "source": [
    "If you want to run this interactively, you can replace `CairoMakie` with `GLMakie`, i.e.\n",
    "\n",
    "```diff\n",
    "- import CairoMakie\n",
    "+ import GLMakie\n",
    "```\n",
    "\n",
    "## Data\n",
    "\n",
    "Representations of Canada's national road network are available from [Statistics Canada](https://www12.statcan.gc.ca/census-recensement/2011/geo/RNF-FRR/index-eng.cfm)."
   ]
  },
  {
   "cell_type": "code",
   "execution_count": 3,
   "metadata": {
    "execution": {
     "iopub.execute_input": "2024-04-19T19:37:31.435",
     "iopub.status.busy": "2024-04-19T19:37:31.131",
     "iopub.status.idle": "2024-04-19T19:38:12.404",
     "shell.execute_reply": "2024-04-19T19:38:12.404"
    }
   },
   "outputs": [
    {
     "name": "stdout",
     "output_type": "stream",
     "text": [
      " 38.145360 seconds (169.74 M allocations: 8.115 GiB, 19.21% gc time, 1.30% compilation time)\n",
      "size(gdf) = (2242117, 26)\n"
     ]
    },
    {
     "data": {
      "text/html": [
       "<div><div style = \"float: left;\"><span>1×26 DataFrame</span></div><div style = \"clear: both;\"></div></div><div class = \"data-frame\" style = \"overflow-x: scroll;\"><table class = \"data-frame\" style = \"margin-bottom: 6px;\"><thead><tr class = \"header\"><th class = \"rowNumber\" style = \"font-weight: bold; text-align: right;\">Row</th><th style = \"text-align: left;\">geometry</th><th style = \"text-align: left;\">OBJECTID</th><th style = \"text-align: left;\">NGD_UID</th><th style = \"text-align: left;\">NAME</th><th style = \"text-align: left;\">TYPE</th><th style = \"text-align: left;\">DIR</th><th style = \"text-align: left;\">AFL_VAL</th><th style = \"text-align: left;\">ATL_VAL</th><th style = \"text-align: left;\">AFR_VAL</th><th style = \"text-align: left;\">ATR_VAL</th><th style = \"text-align: left;\">CSDDGUID_L</th><th style = \"text-align: left;\">CSDUID_L</th><th style = \"text-align: left;\">CSDNAME_L</th><th style = \"text-align: left;\">CSDTYPE_L</th><th style = \"text-align: left;\">CSDDGUID_R</th><th style = \"text-align: left;\">CSDUID_R</th><th style = \"text-align: left;\">CSDNAME_R</th><th style = \"text-align: left;\">CSDTYPE_R</th><th style = \"text-align: left;\">PRDGUID_L</th><th style = \"text-align: left;\">PRUID_L</th><th style = \"text-align: left;\">PRNAME_L</th><th style = \"text-align: left;\">PRDGUID_R</th><th style = \"text-align: left;\">PRUID_R</th><th style = \"text-align: left;\">PRNAME_R</th><th style = \"text-align: left;\">RANK</th><th style = \"text-align: left;\">CLASS</th></tr><tr class = \"subheader headerLastRow\"><th class = \"rowNumber\" style = \"font-weight: bold; text-align: right;\"></th><th title = \"Union{Missing, Shapefile.Polyline}\" style = \"text-align: left;\">Polyline</th><th title = \"Union{Missing, Int64}\" style = \"text-align: left;\">Int64?</th><th title = \"Union{Missing, String}\" style = \"text-align: left;\">String?</th><th title = \"Union{Missing, String}\" style = \"text-align: left;\">String?</th><th title = \"Union{Missing, String}\" style = \"text-align: left;\">String?</th><th title = \"Union{Missing, String}\" style = \"text-align: left;\">String?</th><th title = \"Union{Missing, String}\" style = \"text-align: left;\">String?</th><th title = \"Union{Missing, String}\" style = \"text-align: left;\">String?</th><th title = \"Union{Missing, String}\" style = \"text-align: left;\">String?</th><th title = \"Union{Missing, String}\" style = \"text-align: left;\">String?</th><th title = \"Union{Missing, String}\" style = \"text-align: left;\">String?</th><th title = \"Union{Missing, String}\" style = \"text-align: left;\">String?</th><th title = \"Union{Missing, String}\" style = \"text-align: left;\">String?</th><th title = \"Union{Missing, String}\" style = \"text-align: left;\">String?</th><th title = \"Union{Missing, String}\" style = \"text-align: left;\">String?</th><th title = \"Union{Missing, String}\" style = \"text-align: left;\">String?</th><th title = \"Union{Missing, String}\" style = \"text-align: left;\">String?</th><th title = \"Union{Missing, String}\" style = \"text-align: left;\">String?</th><th title = \"Union{Missing, String}\" style = \"text-align: left;\">String?</th><th title = \"Union{Missing, String}\" style = \"text-align: left;\">String?</th><th title = \"Union{Missing, String}\" style = \"text-align: left;\">String?</th><th title = \"Union{Missing, String}\" style = \"text-align: left;\">String?</th><th title = \"Union{Missing, String}\" style = \"text-align: left;\">String?</th><th title = \"Union{Missing, String}\" style = \"text-align: left;\">String?</th><th title = \"Union{Missing, String}\" style = \"text-align: left;\">String?</th><th title = \"Union{Missing, String}\" style = \"text-align: left;\">String?</th></tr></thead><tbody><tr><td class = \"rowNumber\" style = \"font-weight: bold; text-align: right;\">1</td><td style = \"text-align: left;\">Polyline(Rect(7.65014e6, 1.27149e6, 7.65038e6, 1.2717e6), Int32[0], Point[Point(7.65014e6, 1.27149e6), Point(7.65017e6, 1.2715e6), Point(7.6502e6, 1.27152e6), Point(7.65023e6, 1.27153e6), Point(7.65024e6, 1.27154e6), Point(7.65027e6, 1.27156e6), Point(7.6503e6, 1.27158e6), Point(7.65031e6, 1.27159e6), Point(7.65033e6, 1.27162e6), Point(7.65035e6, 1.27164e6), Point(7.65036e6, 1.27166e6), Point(7.65037e6, 1.27169e6), Point(7.65038e6, 1.2717e6)])</td><td style = \"text-align: right;\">1</td><td style = \"text-align: left;\">5792582</td><td style = \"text-align: left;\">des 60</td><td style = \"text-align: left;\">RANG</td><td style = \"font-style: italic; text-align: left;\">missing</td><td style = \"text-align: left;\">195</td><td style = \"text-align: left;\">195</td><td style = \"text-align: left;\">182</td><td style = \"text-align: left;\">194</td><td style = \"text-align: left;\">2021A00052457050</td><td style = \"text-align: left;\">2457050</td><td style = \"text-align: left;\">Saint-Marc-sur-Richelieu</td><td style = \"text-align: left;\">M\\xc9</td><td style = \"text-align: left;\">2021A00052457050</td><td style = \"text-align: left;\">2457050</td><td style = \"text-align: left;\">Saint-Marc-sur-Richelieu</td><td style = \"text-align: left;\">M\\xc9</td><td style = \"text-align: left;\">2021A000224</td><td style = \"text-align: left;\">24</td><td style = \"text-align: left;\">Quebec / Qu\\xe9bec</td><td style = \"text-align: left;\">2021A000224</td><td style = \"text-align: left;\">24</td><td style = \"text-align: left;\">Quebec / Qu\\xe9bec</td><td style = \"text-align: left;\">4</td><td style = \"text-align: left;\">23</td></tr></tbody></table></div>"
      ],
      "text/latex": [
       "\\begin{tabular}{r|cc}\n",
       "\t& geometry & \\\\\n",
       "\t\\hline\n",
       "\t& Polyline & \\\\\n",
       "\t\\hline\n",
       "\t1 & Polyline(Rect(7.65014e6, 1.27149e6, 7.65038e6, 1.2717e6), Int32[0], Point[Point(7.65014e6, 1.27149e6), Point(7.65017e6, 1.2715e6), Point(7.6502e6, 1.27152e6), Point(7.65023e6, 1.27153e6), Point(7.65024e6, 1.27154e6), Point(7.65027e6, 1.27156e6), Point(7.6503e6, 1.27158e6), Point(7.65031e6, 1.27159e6), Point(7.65033e6, 1.27162e6), Point(7.65035e6, 1.27164e6), Point(7.65036e6, 1.27166e6), Point(7.65037e6, 1.27169e6), Point(7.65038e6, 1.2717e6)]) & $\\dots$ \\\\\n",
       "\\end{tabular}\n"
      ],
      "text/plain": [
       "\u001b[1m1×26 DataFrame\u001b[0m\n",
       "\u001b[1m Row \u001b[0m│\u001b[1m geometry                          \u001b[0m\u001b[1m OBJECTID \u001b[0m\u001b[1m NGD_UID \u001b[0m\u001b[1m NAME    \u001b[0m\u001b[1m TYPE    \u001b[0m\u001b[1m\u001b[0m ⋯\n",
       "     │\u001b[90m Polyline                          \u001b[0m\u001b[90m Int64?   \u001b[0m\u001b[90m String? \u001b[0m\u001b[90m String? \u001b[0m\u001b[90m String? \u001b[0m\u001b[90m\u001b[0m ⋯\n",
       "─────┼──────────────────────────────────────────────────────────────────────────\n",
       "   1 │ Polyline(Rect(7.65014e6, 1.27149…         1  5792582  des 60   RANG    \u001b[90m\u001b[0m ⋯\n",
       "\u001b[36m                                                              21 columns omitted\u001b[0m"
      ]
     },
     "execution_count": 3,
     "metadata": {},
     "output_type": "execute_result"
    }
   ],
   "source": [
    "artifact_roadnetwork = Pkg.Artifacts.ensure_artifact_installed(\"roadnetwork\", joinpath(@__DIR__, \"Artifacts.toml\"))\n",
    "path = joinpath(artifact_roadnetwork, \"lrnf000r21a_e.shp\")\n",
    "@time gdf = DataFrame(Shapefile.Table(path));\n",
    "@show size(gdf)\n",
    "first(gdf, 1)"
   ]
  },
  {
   "cell_type": "markdown",
   "metadata": {},
   "source": [
    "The documentation says `CSDNAME` is the \"Census subdivision name\", which seems to map to cities.\n",
    "\n",
    "Let's convert it to a proper encoding first:"
   ]
  },
  {
   "cell_type": "code",
   "execution_count": 4,
   "metadata": {
    "execution": {
     "iopub.execute_input": "2024-04-19T19:38:12.405",
     "iopub.status.busy": "2024-04-19T19:38:12.404",
     "iopub.status.idle": "2024-04-19T19:38:29.585",
     "shell.execute_reply": "2024-04-19T19:38:29.585"
    }
   },
   "outputs": [
    {
     "name": "stdout",
     "output_type": "stream",
     "text": [
      " 16.805160 seconds (107.98 M allocations: 9.264 GiB, 31.19% gc time, 1.20% compilation time: 7% of which was recompilation)\n"
     ]
    }
   ],
   "source": [
    "latin1_to_utf8(s) = decode(Vector{UInt8}(String(coalesce(s, \"\"))), \"Windows-1252\")\n",
    "@time @rtransform! gdf begin\n",
    "  :CSDNAME_L_UTF8 = latin1_to_utf8(:CSDNAME_L)\n",
    "  :CSDNAME_R_UTF8 = latin1_to_utf8(:CSDNAME_R)\n",
    "end\n",
    "nothing #| hide_line"
   ]
  },
  {
   "cell_type": "markdown",
   "metadata": {},
   "source": [
    "## Visualizations\n",
    "\n",
    "We can now create a plot for each city using Makie:"
   ]
  },
  {
   "cell_type": "code",
   "execution_count": 15,
   "metadata": {
    "execution": {
     "iopub.execute_input": "2024-04-19T19:47:41.058",
     "iopub.status.busy": "2024-04-19T19:47:41.057",
     "iopub.status.idle": "2024-04-19T19:47:41.073",
     "shell.execute_reply": "2024-04-19T19:47:41.073"
    }
   },
   "outputs": [],
   "source": [
    "#| code-fold: true\n",
    "function plot_city(gdf, city_name)\n",
    "  df = @rsubset gdf (:CSDNAME_L_UTF8 == city_name || :CSDNAME_R_UTF8 == city_name)\n",
    "  empty_theme = Theme(\n",
    "    fonts=(; weird=\"Blackchancery\"),\n",
    "    fontsize=32,\n",
    "    Axis=(\n",
    "      backgroundcolor=:transparent,\n",
    "      leftspinevisible=false,\n",
    "      rightspinevisible=false,\n",
    "      bottomspinevisible=false,\n",
    "      topspinevisible=false,\n",
    "      xticklabelsvisible=false,\n",
    "      yticklabelsvisible=false,\n",
    "      xgridcolor=:transparent,\n",
    "      ygridcolor=:transparent,\n",
    "      xminorticksvisible=false,\n",
    "      yminorticksvisible=false,\n",
    "      xticksvisible=false,\n",
    "      yticksvisible=false,\n",
    "      xautolimitmargin=(0.0, 0.0),\n",
    "      yautolimitmargin=(0.0, 0.0),\n",
    "      titlefont=:weird,\n",
    "    ),\n",
    "  )\n",
    "  with_theme(empty_theme) do\n",
    "    fig = Figure()\n",
    "    ax = Axis(fig[1, 1])\n",
    "    poly!.(GeoInterface.convert.(Ref(CairoMakie.GeometryBasics), df[:, :geometry]); strokecolor=:black, color=:black)\n",
    "    ax.title = city_name\n",
    "    fig\n",
    "  end\n",
    "end;"
   ]
  },
  {
   "cell_type": "markdown",
   "metadata": {
    "execution": {
     "iopub.execute_input": "2024-04-19T19:47:41.384",
     "iopub.status.busy": "2024-04-19T19:47:41.384",
     "iopub.status.idle": "2024-04-19T19:50:52.093",
     "shell.execute_reply": "2024-04-19T19:50:52.092"
    }
   },
   "source": [
    "```julia\n",
    "plot_city(gdf, \"Toronto\")\n",
    "```"
   ]
  },
  {
   "cell_type": "markdown",
   "metadata": {
    "execution": {
     "iopub.execute_input": "2024-04-19T19:55:27.830",
     "iopub.status.busy": "2024-04-19T19:55:27.829",
     "iopub.status.idle": "2024-04-19T19:55:28.026",
     "shell.execute_reply": "2024-04-19T19:55:28.026"
    }
   },
   "source": [
    "![](./images/cell-7-output-1.svg)"
   ]
  },
  {
   "cell_type": "markdown",
   "metadata": {
    "execution": {
     "iopub.execute_input": "2024-04-19T19:57:27.816",
     "iopub.status.busy": "2024-04-19T19:57:27.816",
     "iopub.status.idle": "2024-04-19T19:57:27.885",
     "shell.execute_reply": "2024-04-19T19:57:27.885"
    }
   },
   "source": [
    "```julia\n",
    "plot_city(gdf, \"Montréal\")\n",
    "```"
   ]
  },
  {
   "cell_type": "markdown",
   "metadata": {
    "execution": {
     "iopub.execute_input": "2024-04-19T19:57:27.816",
     "iopub.status.busy": "2024-04-19T19:57:27.816",
     "iopub.status.idle": "2024-04-19T19:57:27.885",
     "shell.execute_reply": "2024-04-19T19:57:27.885"
    }
   },
   "source": [
    "![](./images/cell-8-output-1.svg)"
   ]
  },
  {
   "cell_type": "markdown",
   "metadata": {
    "execution": {
     "iopub.execute_input": "2024-04-19T19:39:29.697",
     "iopub.status.busy": "2024-04-19T19:39:29.697",
     "iopub.status.idle": "2024-04-19T19:39:44.217",
     "shell.execute_reply": "2024-04-19T19:39:44.217"
    }
   },
   "source": [
    "```julia\n",
    "plot_city(gdf, \"Vancouver\")\n",
    "```\n",
    "\n",
    "![](./images/cell-9-output-1.svg)"
   ]
  },
  {
   "cell_type": "markdown",
   "metadata": {
    "execution": {
     "iopub.execute_input": "2024-04-19T19:39:44.218",
     "iopub.status.busy": "2024-04-19T19:39:44.217",
     "iopub.status.idle": "2024-04-19T19:40:14.047",
     "shell.execute_reply": "2024-04-19T19:40:14.047"
    }
   },
   "source": [
    "```julia\n",
    "plot_city(gdf, \"Ottawa\")\n",
    "```\n",
    "\n",
    "![](./images/cell-10-output-1.svg)"
   ]
  },
  {
   "cell_type": "markdown",
   "metadata": {
    "execution": {
     "iopub.execute_input": "2024-04-19T19:40:14.048",
     "iopub.status.busy": "2024-04-19T19:40:14.047",
     "iopub.status.idle": "2024-04-19T19:41:20.350",
     "shell.execute_reply": "2024-04-19T19:41:20.349"
    }
   },
   "source": [
    "```julia\n",
    "plot_city(gdf, \"Calgary\")\n",
    "```\n",
    "\n",
    "![](./images/cell-11-output-1.svg)"
   ]
  },
  {
   "cell_type": "markdown",
   "metadata": {
    "execution": {
     "iopub.execute_input": "2024-04-19T19:41:20.350",
     "iopub.status.busy": "2024-04-19T19:41:20.350",
     "iopub.status.idle": "2024-04-19T19:42:32.584",
     "shell.execute_reply": "2024-04-19T19:42:32.583"
    }
   },
   "source": [
    "```julia\n",
    "plot_city(gdf, \"Edmonton\")\n",
    "```\n",
    "\n",
    "![](./images/cell-12-output-1.svg)"
   ]
  },
  {
   "cell_type": "markdown",
   "metadata": {
    "execution": {
     "iopub.execute_input": "2024-04-19T19:42:32.584",
     "iopub.status.busy": "2024-04-19T19:42:32.584",
     "iopub.status.idle": "2024-04-19T19:43:29.613",
     "shell.execute_reply": "2024-04-19T19:43:29.613"
    }
   },
   "source": [
    "```julia\n",
    "plot_city(gdf, \"Winnipeg\")\n",
    "```\n",
    "\n",
    "![](./images/cell-13-output-1.svg)"
   ]
  },
  {
   "cell_type": "code",
   "execution_count": null,
   "metadata": {},
   "outputs": [],
   "source": []
  }
 ],
 "metadata": {
  "kernelspec": {
   "display_name": "Julia 1.10.2",
   "language": "julia",
   "name": "julia-1.10"
  },
  "language_info": {
   "file_extension": ".jl",
   "mimetype": "application/julia",
   "name": "julia",
   "version": "1.10.2"
  },
  "widgets": {
   "application/vnd.jupyter.widget-state+json": {
    "state": {},
    "version_major": 2,
    "version_minor": 0
   }
  }
 },
 "nbformat": 4,
 "nbformat_minor": 4
}
