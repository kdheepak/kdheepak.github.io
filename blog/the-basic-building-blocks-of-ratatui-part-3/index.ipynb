{
 "cells": [
  {
   "cell_type": "raw",
   "id": "bf830a38-e568-4150-97b9-de5dc6172a32",
   "metadata": {
    "execution": {
     "iopub.execute_input": "2024-05-15T02:03:24.769199+00:00",
     "iopub.status.busy": "2024-05-15T02:03:24.768989+00:00",
     "iopub.status.idle": "2024-05-15T02:03:24.769163+00:00",
     "shell.execute_reply": "2024-05-15T02:03:24.910732+00:00"
    }
   },
   "source": [
    "---\n",
    "title: The Basic Building blocks of Ratatui - Part 3\n",
    "date: 2024-05-16T22:03:04-0400\n",
    "categories: [rust]\n",
    "keywords: rust, ratatui\n",
    "summary: Showcase of using span, line, text\n",
    "---"
   ]
  },
  {
   "cell_type": "markdown",
   "id": "7e98f2e5-d4f5-4fc0-84e3-c9920e267bed",
   "metadata": {},
   "source": [
    "Ratatui is a crate for building terminal user interfaces in Rust.\n",
    "\n",
    "In this post, we'll explore the text primitives of `ratatui`."
   ]
  },
  {
   "cell_type": "code",
   "execution_count": 98,
   "id": "73c1a207-8f25-467a-b3ed-2a5d6ac25461",
   "metadata": {
    "execution": {
     "iopub.execute_input": "2024-05-17T16:28:53.594792+00:00",
     "iopub.status.busy": "2024-05-17T16:28:53.594654+00:00",
     "iopub.status.idle": "2024-05-17T16:28:53.594760+00:00",
     "shell.execute_reply": "2024-05-17T16:28:54.161+00:00"
    }
   },
   "outputs": [],
   "source": [
    "//| code-fold: true\n",
    ":dep ratatui = \"0.26.2\"\n",
    ":dep ratatui-macros = \"0.4.0\"\n",
    "\n",
    "fn span_to_html(s: ratatui::text::Span) -> String{\n",
    "    let mut html = String::new();\n",
    "    html.push_str(\"<span style=\\\"\");\n",
    "\n",
    "    // Set foreground color\n",
    "    if let Some(color) = &s.style.fg {\n",
    "        html.push_str(&format!(\"color: {};\", color));\n",
    "    }\n",
    "\n",
    "    // Set background color\n",
    "    if let Some(color) = &s.style.bg {\n",
    "        html.push_str(&format!(\"background-color: {};\", color));\n",
    "    }\n",
    "\n",
    "    // Add modifiers\n",
    "    match s.style.add_modifier {\n",
    "        ratatui::style::Modifier::BOLD => html.push_str(\"font-weight: bold;\"),\n",
    "        ratatui::style::Modifier::ITALIC => html.push_str(\"font-style: italic;\"),\n",
    "        ratatui::style::Modifier::UNDERLINED => html.push_str(\"text-decoration: underline;\"),\n",
    "        _ => {}\n",
    "    }\n",
    "    html.push_str(\"\\\">\");\n",
    "    html.push_str(&s.content);\n",
    "    html.push_str(\"</span>\");\n",
    "    html\n",
    "}\n",
    "\n",
    "fn buffer_to_html(buf: &ratatui::buffer::Buffer) -> String {\n",
    "    fn escape_special_html_characters(text: &str) -> String {\n",
    "        text.replace(\"&\", \"&amp;\")\n",
    "            .replace(\"<\", \"&lt;\")\n",
    "            .replace(\">\", \"&gt;\")\n",
    "            .replace(\"\\\"\", \"&quot;\")\n",
    "            .replace(\"'\", \"&#39;\")\n",
    "    }\n",
    "\n",
    "    // Start with the opening <pre> and <code> tags.\n",
    "    let mut html = String::from(\"<pre><code>\");\n",
    "\n",
    "    // Get the dimensions of the buffer, not strictly necessary in plaintext representation.\n",
    "    let w = buf.area.width;\n",
    "    let h = buf.area.height;\n",
    "\n",
    "    // Presumably, the buffer has a method to iterate through its contents\n",
    "    // that preserves line breaks; pseudocode is used here since the actual\n",
    "    // Buffer implementation is not provided.\n",
    "    for y in 0..h {\n",
    "        for x in 0..w {\n",
    "            // Get each character from the buffer and convert it to HTML.\n",
    "            // May need to consider correctly escaping special HTML characters: &, <, >, \", and '.\n",
    "            let s = buf.get(x, y).symbol();\n",
    "            \n",
    "            let escaped = escape_special_html_characters(s); // This is a placeholder for an actual escaping function.\n",
    "\n",
    "            let style = buf.get(x, y).style();\n",
    "\n",
    "            let span = ratatui::text::Span::styled(s, style);\n",
    "            \n",
    "            html.push_str(&span_to_html(span));\n",
    "        }\n",
    "        // After each line, add a newline if Buffer doesn't inherently support it.\n",
    "        html.push('\\n');\n",
    "    }\n",
    "\n",
    "    // Close the <code> and <pre> tags.\n",
    "    html.push_str(\"</code></pre>\");\n",
    "\n",
    "    html // Return the raw HTML code block.\n",
    "}\n",
    "    \n",
    "fn show_html<D>(content: D) where D: std::fmt::Display {\n",
    "    println!(r#\"EVCXR_BEGIN_CONTENT text/html\n",
    "<div style=\"display: flex; justify-content:start; gap: 1em; margin: 1em\">\n",
    "{}\n",
    "</div>\n",
    "EVCXR_END_CONTENT\"#, content);\n",
    "}\n"
   ]
  },
  {
   "cell_type": "markdown",
   "id": "2cbba4d0-5085-486c-92e6-608880ee72af",
   "metadata": {},
   "source": [
    "\n",
    "## Text primitives"
   ]
  },
  {
   "cell_type": "markdown",
   "id": "4b43025a-6998-403b-bfc4-795bf68f4450",
   "metadata": {},
   "source": [
    "In Ratatui, there are 3 fundamental text primitives that you should be aware of."
   ]
  },
  {
   "cell_type": "markdown",
   "id": "d00ffded-9ab5-4846-8d08-c3f3b11e9fa0",
   "metadata": {},
   "source": [
    "### Span"
   ]
  },
  {
   "cell_type": "markdown",
   "id": "713601e9-7f89-443f-871c-5534bfc2f9b5",
   "metadata": {},
   "source": [
    "The first is a `Span`."
   ]
  },
  {
   "cell_type": "code",
   "execution_count": 99,
   "id": "4352a49f-2b40-4bd8-a37c-7f020879a4a6",
   "metadata": {
    "execution": {
     "iopub.execute_input": "2024-05-17T16:28:55.025174+00:00",
     "iopub.status.busy": "2024-05-17T16:28:55.025056+00:00",
     "iopub.status.idle": "2024-05-17T16:28:55.025149+00:00",
     "shell.execute_reply": "2024-05-17T16:28:55.788737+00:00"
    }
   },
   "outputs": [
    {
     "data": {
      "text/plain": [
       "Span { content: \"hello world\", style: Style { fg: None, bg: None, underline_color: None, add_modifier: NONE, sub_modifier: NONE } }"
      ]
     },
     "execution_count": 99,
     "metadata": {},
     "output_type": "execute_result"
    }
   ],
   "source": [
    "use ratatui::text::Span;\n",
    "\n",
    "let span = Span::raw(\"hello world\");\n",
    "span"
   ]
  },
  {
   "cell_type": "markdown",
   "id": "d10fc3ea-4044-4140-8dce-8f08ab15f7ff",
   "metadata": {},
   "source": [
    "A `Span` contains two fields. "
   ]
  },
  {
   "cell_type": "code",
   "execution_count": 100,
   "id": "e244e525-83f6-4319-9c26-e12bf745084f",
   "metadata": {
    "execution": {
     "iopub.execute_input": "2024-05-17T16:28:55.788803+00:00",
     "iopub.status.busy": "2024-05-17T16:28:55.788786+00:00",
     "iopub.status.idle": "2024-05-17T16:28:55.788800+00:00",
     "shell.execute_reply": "2024-05-17T16:28:56.416515+00:00"
    }
   },
   "outputs": [
    {
     "data": {
      "text/plain": [
       "\"hello world\""
      ]
     },
     "execution_count": 100,
     "metadata": {},
     "output_type": "execute_result"
    }
   ],
   "source": [
    "span.content"
   ]
  },
  {
   "cell_type": "code",
   "execution_count": 101,
   "id": "32bc98a5-da0c-425d-8d7b-fde5530a2edf",
   "metadata": {
    "execution": {
     "iopub.execute_input": "2024-05-17T16:28:56.416575+00:00",
     "iopub.status.busy": "2024-05-17T16:28:56.416556+00:00",
     "iopub.status.idle": "2024-05-17T16:28:56.416571+00:00",
     "shell.execute_reply": "2024-05-17T16:28:57.051353+00:00"
    }
   },
   "outputs": [
    {
     "data": {
      "text/plain": [
       "Style { fg: None, bg: None, underline_color: None, add_modifier: NONE, sub_modifier: NONE }"
      ]
     },
     "execution_count": 101,
     "metadata": {},
     "output_type": "execute_result"
    }
   ],
   "source": [
    "span.style"
   ]
  },
  {
   "cell_type": "markdown",
   "id": "e4ebc9b0-fd77-45ac-9edb-9a0d865a8c8c",
   "metadata": {},
   "source": [
    "A `Style` object contains foreground color, background color, and modifiers for whether the style being applied is **bold**, _italics_, etc"
   ]
  },
  {
   "cell_type": "markdown",
   "id": "c7b7bce3-76a3-491c-bf70-c064c2bb3e89",
   "metadata": {},
   "source": [
    "There are a number of constructors for `Span` that you may use, but `ratatui` exposes a `Stylize` trait that makes it easy to style content which I find very useful."
   ]
  },
  {
   "cell_type": "code",
   "execution_count": 102,
   "id": "e6a3b553-6720-4fd7-8954-65ebbb49a04f",
   "metadata": {
    "execution": {
     "iopub.execute_input": "2024-05-17T16:28:57.051419+00:00",
     "iopub.status.busy": "2024-05-17T16:28:57.051401+00:00",
     "iopub.status.idle": "2024-05-17T16:28:57.051416+00:00",
     "shell.execute_reply": "2024-05-17T16:28:57.706060+00:00"
    }
   },
   "outputs": [
    {
     "data": {
      "text/plain": [
       "Span { content: \"hello world\", style: Style { fg: None, bg: None, underline_color: None, add_modifier: BOLD, sub_modifier: NONE } }"
      ]
     },
     "execution_count": 102,
     "metadata": {},
     "output_type": "execute_result"
    }
   ],
   "source": [
    "use ratatui::style::Stylize; // required trait to use style methods\n",
    "\n",
    "\"hello world\".bold()"
   ]
  },
  {
   "cell_type": "markdown",
   "id": "cd786269-de20-4338-9f98-7bb468c5fc26",
   "metadata": {},
   "source": [
    "You can even chain these trait methods to add more styles:"
   ]
  },
  {
   "cell_type": "code",
   "execution_count": 103,
   "id": "c00050c6-fa55-4a82-817a-5c563e8708fe",
   "metadata": {
    "execution": {
     "iopub.execute_input": "2024-05-17T16:28:57.706121+00:00",
     "iopub.status.busy": "2024-05-17T16:28:57.706104+00:00",
     "iopub.status.idle": "2024-05-17T16:28:57.706118+00:00",
     "shell.execute_reply": "2024-05-17T16:28:58.344394+00:00"
    }
   },
   "outputs": [
    {
     "data": {
      "text/plain": [
       "Span { content: \"hello world\", style: Style { fg: Some(Yellow), bg: Some(Black), underline_color: None, add_modifier: BOLD, sub_modifier: NONE } }"
      ]
     },
     "execution_count": 103,
     "metadata": {},
     "output_type": "execute_result"
    }
   ],
   "source": [
    "\"hello world\".bold().yellow().on_black()"
   ]
  },
  {
   "cell_type": "code",
   "execution_count": 104,
   "id": "253de6ed-ea89-4d11-be95-0fae4c33914a",
   "metadata": {
    "execution": {
     "iopub.execute_input": "2024-05-17T16:28:58.344453+00:00",
     "iopub.status.busy": "2024-05-17T16:28:58.344435+00:00",
     "iopub.status.idle": "2024-05-17T16:28:58.344450+00:00",
     "shell.execute_reply": "2024-05-17T16:28:58.981086+00:00"
    }
   },
   "outputs": [
    {
     "data": {
      "text/html": [
       "<div style=\"display: flex; justify-content:start; gap: 1em; margin: 1em\">\n",
       "<span style=\"font-weight: bold;\">hello world</span>\n",
       "</div>"
      ],
      "text/plain": [
       "()"
      ]
     },
     "execution_count": 104,
     "metadata": {},
     "output_type": "execute_result"
    }
   ],
   "source": [
    "show_html(span_to_html(\"hello world\".bold()))"
   ]
  },
  {
   "cell_type": "code",
   "execution_count": 105,
   "id": "1438f4a8-3e43-43a2-bbb9-0ac34351762c",
   "metadata": {
    "execution": {
     "iopub.execute_input": "2024-05-17T16:28:58.981151+00:00",
     "iopub.status.busy": "2024-05-17T16:28:58.981134+00:00",
     "iopub.status.idle": "2024-05-17T16:28:58.981148+00:00",
     "shell.execute_reply": "2024-05-17T16:28:59.684837+00:00"
    }
   },
   "outputs": [
    {
     "data": {
      "text/html": [
       "<div style=\"display: flex; justify-content:start; gap: 1em; margin: 1em\">\n",
       "<span style=\"color: Yellow;background-color: Black;font-weight: bold;\">hello world</span>\n",
       "</div>"
      ],
      "text/plain": [
       "()"
      ]
     },
     "execution_count": 105,
     "metadata": {},
     "output_type": "execute_result"
    }
   ],
   "source": [
    "show_html(span_to_html(\"hello world\".yellow().bold().on_black()))"
   ]
  },
  {
   "cell_type": "markdown",
   "id": "6721a2a4-9d1b-49b1-9c4f-cd7412a1f6a6",
   "metadata": {},
   "source": [
    "With `ratatui-macros`, you can even use a `format!` style macro to create a `Span`"
   ]
  },
  {
   "cell_type": "code",
   "execution_count": 106,
   "id": "572ceda9-2651-4b89-9d1d-425117e3f656",
   "metadata": {
    "execution": {
     "iopub.execute_input": "2024-05-17T16:28:59.684904+00:00",
     "iopub.status.busy": "2024-05-17T16:28:59.684885+00:00",
     "iopub.status.idle": "2024-05-17T16:28:59.684901+00:00",
     "shell.execute_reply": "2024-05-17T16:29:00.393258+00:00"
    }
   },
   "outputs": [
    {
     "data": {
      "text/plain": [
       "Span { content: \"hello world\", style: Style { fg: None, bg: None, underline_color: None, add_modifier: NONE, sub_modifier: NONE } }"
      ]
     },
     "execution_count": 106,
     "metadata": {},
     "output_type": "execute_result"
    }
   ],
   "source": [
    "use ratatui_macros::span;\n",
    "\n",
    "let world = \"world\";\n",
    "span!(\"hello {}\", world)"
   ]
  },
  {
   "cell_type": "markdown",
   "id": "0222fe5c-7de6-4ce1-9669-07e5d2cf0eab",
   "metadata": {},
   "source": [
    "### Line"
   ]
  },
  {
   "cell_type": "markdown",
   "id": "aae046dc-231f-44d2-bff7-1cf4a37816a7",
   "metadata": {
    "execution": {
     "iopub.execute_input": "2024-05-15T03:45:01.964531+00:00",
     "iopub.status.busy": "2024-05-15T03:45:01.964351+00:00",
     "iopub.status.idle": "2024-05-15T03:45:01.964490+00:00",
     "shell.execute_reply": "2024-05-15T03:45:02.334822+00:00"
    }
   },
   "source": [
    "The second primitive to be aware of is a `Line`."
   ]
  },
  {
   "cell_type": "markdown",
   "id": "3ae53fc4-c64e-4d35-9c53-d8d1342b2771",
   "metadata": {
    "execution": {
     "iopub.execute_input": "2024-05-15T03:45:29.832076+00:00",
     "iopub.status.busy": "2024-05-15T03:45:29.831942+00:00",
     "iopub.status.idle": "2024-05-15T03:45:29.832049+00:00",
     "shell.execute_reply": "2024-05-15T03:45:30.360267+00:00"
    }
   },
   "source": [
    "A line consists of one or more spans."
   ]
  },
  {
   "cell_type": "code",
   "execution_count": 107,
   "id": "e70835fd-f437-49b9-9837-754ef710310a",
   "metadata": {
    "execution": {
     "iopub.execute_input": "2024-05-17T16:29:00.393321+00:00",
     "iopub.status.busy": "2024-05-17T16:29:00.393303+00:00",
     "iopub.status.idle": "2024-05-17T16:29:00.393317+00:00",
     "shell.execute_reply": "2024-05-17T16:29:01.133279+00:00"
    }
   },
   "outputs": [
    {
     "data": {
      "text/plain": [
       "Line { spans: [Span { content: \"hello world\", style: Style { fg: None, bg: None, underline_color: None, add_modifier: NONE, sub_modifier: NONE } }], style: Style { fg: None, bg: None, underline_color: None, add_modifier: NONE, sub_modifier: NONE }, alignment: None }"
      ]
     },
     "execution_count": 107,
     "metadata": {},
     "output_type": "execute_result"
    }
   ],
   "source": [
    "use ratatui::text::Line;\n",
    "\n",
    "let line = Line::raw(\"hello world\");\n",
    "line"
   ]
  },
  {
   "cell_type": "code",
   "execution_count": 108,
   "id": "4bd65ed0-d0d7-4486-82b0-da22e72aecdd",
   "metadata": {
    "execution": {
     "iopub.execute_input": "2024-05-17T16:29:01.133341+00:00",
     "iopub.status.busy": "2024-05-17T16:29:01.133320+00:00",
     "iopub.status.idle": "2024-05-17T16:29:01.133337+00:00",
     "shell.execute_reply": "2024-05-17T16:29:01.789814+00:00"
    }
   },
   "outputs": [
    {
     "data": {
      "text/plain": [
       "[Span { content: \"hello world\", style: Style { fg: None, bg: None, underline_color: None, add_modifier: NONE, sub_modifier: NONE } }]"
      ]
     },
     "execution_count": 108,
     "metadata": {},
     "output_type": "execute_result"
    }
   ],
   "source": [
    "line.spans"
   ]
  },
  {
   "cell_type": "code",
   "execution_count": 109,
   "id": "6390f239-e2c4-4c6e-901d-c5b660dc388c",
   "metadata": {
    "execution": {
     "iopub.execute_input": "2024-05-17T16:29:01.789895+00:00",
     "iopub.status.busy": "2024-05-17T16:29:01.789854+00:00",
     "iopub.status.idle": "2024-05-17T16:29:01.789889+00:00",
     "shell.execute_reply": "2024-05-17T16:29:02.442938+00:00"
    }
   },
   "outputs": [
    {
     "data": {
      "text/plain": [
       "1"
      ]
     },
     "execution_count": 109,
     "metadata": {},
     "output_type": "execute_result"
    }
   ],
   "source": [
    "line.spans.len()"
   ]
  },
  {
   "cell_type": "markdown",
   "id": "eab56eba-76e7-494a-a8fa-213e4037745e",
   "metadata": {},
   "source": [
    "A unique feature of lines is that new lines are removed but the content is split into multiple spans. "
   ]
  },
  {
   "cell_type": "code",
   "execution_count": 110,
   "id": "ef6d2a85-b97b-40a6-b543-f8092d585906",
   "metadata": {
    "execution": {
     "iopub.execute_input": "2024-05-17T16:29:02.443002+00:00",
     "iopub.status.busy": "2024-05-17T16:29:02.442985+00:00",
     "iopub.status.idle": "2024-05-17T16:29:02.442998+00:00",
     "shell.execute_reply": "2024-05-17T16:29:02.947015+00:00"
    }
   },
   "outputs": [],
   "source": [
    "let line = Line::raw(\"hello world\\ngoodbye world\");"
   ]
  },
  {
   "cell_type": "code",
   "execution_count": 111,
   "id": "7046bc44-1ad3-4484-b1ce-f0391b6fd747",
   "metadata": {
    "execution": {
     "iopub.execute_input": "2024-05-17T16:29:02.947114+00:00",
     "iopub.status.busy": "2024-05-17T16:29:02.947097+00:00",
     "iopub.status.idle": "2024-05-17T16:29:02.947110+00:00",
     "shell.execute_reply": "2024-05-17T16:29:03.858048+00:00"
    }
   },
   "outputs": [
    {
     "data": {
      "text/plain": [
       "Span { content: \"hello world\", style: Style { fg: None, bg: None, underline_color: None, add_modifier: NONE, sub_modifier: NONE } }"
      ]
     },
     "execution_count": 111,
     "metadata": {},
     "output_type": "execute_result"
    }
   ],
   "source": [
    "line.spans[0]"
   ]
  },
  {
   "cell_type": "code",
   "execution_count": 112,
   "id": "7cd65ce3-c807-42a4-84be-e5886647fed9",
   "metadata": {
    "execution": {
     "iopub.execute_input": "2024-05-17T16:29:03.858318+00:00",
     "iopub.status.busy": "2024-05-17T16:29:03.858192+00:00",
     "iopub.status.idle": "2024-05-17T16:29:03.858309+00:00",
     "shell.execute_reply": "2024-05-17T16:29:04.466914+00:00"
    }
   },
   "outputs": [
    {
     "data": {
      "text/plain": [
       "Span { content: \"goodbye world\", style: Style { fg: None, bg: None, underline_color: None, add_modifier: NONE, sub_modifier: NONE } }"
      ]
     },
     "execution_count": 112,
     "metadata": {},
     "output_type": "execute_result"
    }
   ],
   "source": [
    "line.spans[1]"
   ]
  },
  {
   "cell_type": "markdown",
   "id": "8044bddd-19ac-40d9-9219-269108519ba2",
   "metadata": {},
   "source": [
    "A line can also be styled with methods from the `Stylize` trait:"
   ]
  },
  {
   "cell_type": "code",
   "execution_count": 113,
   "id": "606d46e5-ba7e-4829-89cc-8b15c0a234d3",
   "metadata": {
    "execution": {
     "iopub.execute_input": "2024-05-17T16:29:04.466984+00:00",
     "iopub.status.busy": "2024-05-17T16:29:04.466962+00:00",
     "iopub.status.idle": "2024-05-17T16:29:04.466980+00:00",
     "shell.execute_reply": "2024-05-17T16:29:05.117803+00:00"
    }
   },
   "outputs": [
    {
     "data": {
      "text/plain": [
       "Line { spans: [Span { content: \"hello world\", style: Style { fg: None, bg: None, underline_color: None, add_modifier: NONE, sub_modifier: NONE } }], style: Style { fg: None, bg: None, underline_color: None, add_modifier: BOLD, sub_modifier: NONE }, alignment: None }"
      ]
     },
     "execution_count": 113,
     "metadata": {},
     "output_type": "execute_result"
    }
   ],
   "source": [
    "Line::raw(\"hello world\").bold()"
   ]
  },
  {
   "cell_type": "markdown",
   "id": "4c8972cf-33e4-4fa6-9301-62b675572fbe",
   "metadata": {},
   "source": [
    "In this case, the individual span's styles are left untouched but the `Line`'s style is updated."
   ]
  },
  {
   "cell_type": "markdown",
   "id": "96e11288-5835-42c2-b916-8bede2580339",
   "metadata": {},
   "source": [
    "Another unique feature about `Line` is that they can be aligned."
   ]
  },
  {
   "cell_type": "code",
   "execution_count": 114,
   "id": "e1567286-4f47-412e-b118-cfbd3e4d2ee9",
   "metadata": {
    "execution": {
     "iopub.execute_input": "2024-05-17T16:29:05.117919+00:00",
     "iopub.status.busy": "2024-05-17T16:29:05.117886+00:00",
     "iopub.status.idle": "2024-05-17T16:29:05.117912+00:00",
     "shell.execute_reply": "2024-05-17T16:29:06.052605+00:00"
    }
   },
   "outputs": [
    {
     "data": {
      "text/plain": [
       "Line { spans: [Span { content: \"hello world\", style: Style { fg: None, bg: None, underline_color: None, add_modifier: NONE, sub_modifier: NONE } }, Span { content: \"goodbye world\", style: Style { fg: None, bg: None, underline_color: None, add_modifier: NONE, sub_modifier: NONE } }], style: Style { fg: None, bg: None, underline_color: None, add_modifier: NONE, sub_modifier: NONE }, alignment: Some(Center) }"
      ]
     },
     "execution_count": 114,
     "metadata": {},
     "output_type": "execute_result"
    }
   ],
   "source": [
    "let centered_line = line.centered();\n",
    "centered_line"
   ]
  },
  {
   "cell_type": "markdown",
   "id": "ec02bbb6-ad86-4fbc-a2f8-648600f0d80b",
   "metadata": {
    "execution": {
     "iopub.execute_input": "2024-05-15T03:53:56.877256+00:00",
     "iopub.status.busy": "2024-05-15T03:53:56.877087+00:00",
     "iopub.status.idle": "2024-05-15T03:53:56.877224+00:00",
     "shell.execute_reply": "2024-05-15T03:53:57.051205+00:00"
    }
   },
   "source": [
    "With `ratatui-macros`, you can create a `Line` using the `line!` macro using a `vec!`-like syntax."
   ]
  },
  {
   "cell_type": "code",
   "execution_count": 115,
   "id": "e938287b-10f9-4bf2-b96c-c2f35b4fb1e3",
   "metadata": {
    "execution": {
     "iopub.execute_input": "2024-05-17T16:29:06.052681+00:00",
     "iopub.status.busy": "2024-05-17T16:29:06.052659+00:00",
     "iopub.status.idle": "2024-05-17T16:29:06.052676+00:00",
     "shell.execute_reply": "2024-05-17T16:29:06.574026+00:00"
    }
   },
   "outputs": [],
   "source": [
    "use ratatui_macros::line;\n",
    "\n",
    "line![\"hello\", \" \", \"world\"].yellow().bold().centered();"
   ]
  },
  {
   "cell_type": "markdown",
   "id": "3c9d0fec-749e-438a-814f-d4eb9dfdbe14",
   "metadata": {},
   "source": [
    "Every element in the `line!` macro is converted to a `Span`."
   ]
  },
  {
   "cell_type": "markdown",
   "id": "d9c0ee6b-95a8-40f3-81ae-cc2081168cbe",
   "metadata": {},
   "source": [
    "### Text"
   ]
  },
  {
   "cell_type": "markdown",
   "id": "5cf02327-bcdf-40cb-a176-043838d9af59",
   "metadata": {
    "execution": {
     "iopub.execute_input": "2024-05-15T03:55:11.381331+00:00",
     "iopub.status.busy": "2024-05-15T03:55:11.381126+00:00",
     "iopub.status.idle": "2024-05-15T03:55:11.381301+00:00",
     "shell.execute_reply": "2024-05-15T03:55:11.958123+00:00"
    }
   },
   "source": [
    "Finally there is `Text`, which is a collection of `Line`s."
   ]
  },
  {
   "cell_type": "code",
   "execution_count": 116,
   "id": "d5419388-ff32-4f24-9f90-da167c726761",
   "metadata": {
    "execution": {
     "iopub.execute_input": "2024-05-17T16:29:06.574182+00:00",
     "iopub.status.busy": "2024-05-17T16:29:06.574155+00:00",
     "iopub.status.idle": "2024-05-17T16:29:06.574176+00:00",
     "shell.execute_reply": "2024-05-17T16:29:07.096999+00:00"
    }
   },
   "outputs": [],
   "source": [
    "use ratatui::text::Text;\n",
    "\n",
    "Text::from(vec![Line::raw(\"hello world\"), Line::raw(\"goodbye world\")]);"
   ]
  },
  {
   "cell_type": "markdown",
   "id": "81a5dc53-6579-4220-a56f-350a6004e34e",
   "metadata": {},
   "source": [
    "With ratatui-macros, you can create a `Text` using `text!` macro using a `vec!`-like syntax."
   ]
  },
  {
   "cell_type": "code",
   "execution_count": 117,
   "id": "8d530c4e-6bfd-4623-9cac-f50291a4cfce",
   "metadata": {
    "execution": {
     "iopub.execute_input": "2024-05-17T16:29:07.097122+00:00",
     "iopub.status.busy": "2024-05-17T16:29:07.097101+00:00",
     "iopub.status.idle": "2024-05-17T16:29:07.097118+00:00",
     "shell.execute_reply": "2024-05-17T16:29:07.624492+00:00"
    }
   },
   "outputs": [],
   "source": [
    "use ratatui_macros::text;\n",
    "\n",
    "text![\"hello world\", \"goodbye world\"];"
   ]
  },
  {
   "cell_type": "markdown",
   "id": "bcc530d3-6577-40c3-ad03-f559f624fd11",
   "metadata": {},
   "source": [
    "Here, every element in the `text!` macro is converted to a `Line`."
   ]
  },
  {
   "cell_type": "markdown",
   "id": "dda2f60f-6637-4263-8161-fb2f31877a12",
   "metadata": {},
   "source": [
    "Like `Line`, `Text` can also be aligned. In this case, the alignment occurs on every `Line` inside the `Text`."
   ]
  },
  {
   "cell_type": "code",
   "execution_count": 118,
   "id": "ea805003-1ea1-4e48-ba5e-d4e62950aa0d",
   "metadata": {
    "execution": {
     "iopub.execute_input": "2024-05-17T16:29:07.624607+00:00",
     "iopub.status.busy": "2024-05-17T16:29:07.624585+00:00",
     "iopub.status.idle": "2024-05-17T16:29:07.624603+00:00",
     "shell.execute_reply": "2024-05-17T16:29:08.298840+00:00"
    }
   },
   "outputs": [
    {
     "data": {
      "text/plain": [
       "Some(Right)"
      ]
     },
     "execution_count": 118,
     "metadata": {},
     "output_type": "execute_result"
    }
   ],
   "source": [
    "let t = text![\"hello world\", \"goodbye world\"].right_aligned();\n",
    "t.alignment"
   ]
  },
  {
   "cell_type": "code",
   "execution_count": 119,
   "id": "65c41960-e14a-418f-8c92-28979e2d7537",
   "metadata": {
    "execution": {
     "iopub.execute_input": "2024-05-17T16:29:08.298917+00:00",
     "iopub.status.busy": "2024-05-17T16:29:08.298894+00:00",
     "iopub.status.idle": "2024-05-17T16:29:08.298912+00:00",
     "shell.execute_reply": "2024-05-17T16:29:09.212212+00:00"
    }
   },
   "outputs": [
    {
     "data": {
      "text/html": [
       "<div style=\"display: flex; justify-content:start; gap: 1em; margin: 1em\">\n",
       "<pre><code><span style=\"color: Reset;background-color: Reset;font-weight: bold;\">l</span><span style=\"color: Reset;background-color: Reset;font-weight: bold;\">e</span><span style=\"color: Reset;background-color: Reset;font-weight: bold;\">f</span><span style=\"color: Reset;background-color: Reset;font-weight: bold;\">t</span><span style=\"color: Reset;background-color: Reset;font-weight: bold;\"> </span><span style=\"color: Reset;background-color: Reset;font-weight: bold;\">a</span><span style=\"color: Reset;background-color: Reset;font-weight: bold;\">l</span><span style=\"color: Reset;background-color: Reset;font-weight: bold;\">i</span><span style=\"color: Reset;background-color: Reset;font-weight: bold;\">g</span><span style=\"color: Reset;background-color: Reset;font-weight: bold;\">n</span><span style=\"color: Reset;background-color: Reset;font-weight: bold;\">e</span><span style=\"color: Reset;background-color: Reset;font-weight: bold;\">d</span><span style=\"color: Reset;background-color: Reset;font-weight: bold;\"> </span><span style=\"color: Reset;background-color: Reset;font-weight: bold;\">b</span><span style=\"color: Reset;background-color: Reset;font-weight: bold;\">o</span><span style=\"color: Reset;background-color: Reset;font-weight: bold;\">l</span><span style=\"color: Reset;background-color: Reset;font-weight: bold;\">d</span><span style=\"color: Reset;background-color: Reset;font-weight: bold;\"> </span><span style=\"color: Reset;background-color: Reset;font-weight: bold;\">t</span><span style=\"color: Reset;background-color: Reset;font-weight: bold;\">e</span><span style=\"color: Reset;background-color: Reset;font-weight: bold;\">x</span><span style=\"color: Reset;background-color: Reset;font-weight: bold;\">t</span><span style=\"color: Reset;background-color: Reset;\"> </span><span style=\"color: Reset;background-color: Reset;\"> </span><span style=\"color: Reset;background-color: Reset;\"> </span><span style=\"color: Reset;background-color: Reset;\"> </span><span style=\"color: Reset;background-color: Reset;\"> </span><span style=\"color: Reset;background-color: Reset;\"> </span><span style=\"color: Reset;background-color: Reset;\"> </span><span style=\"color: Reset;background-color: Reset;\"> </span><span style=\"color: Reset;background-color: Reset;\"> </span><span style=\"color: Reset;background-color: Reset;\"> </span><span style=\"color: Reset;background-color: Reset;\"> </span><span style=\"color: Reset;background-color: Reset;\"> </span><span style=\"color: Reset;background-color: Reset;\"> </span><span style=\"color: Reset;background-color: Reset;\"> </span><span style=\"color: Reset;background-color: Reset;\"> </span><span style=\"color: Reset;background-color: Reset;\"> </span><span style=\"color: Reset;background-color: Reset;\"> </span><span style=\"color: Reset;background-color: Reset;\"> </span><span style=\"color: Reset;background-color: Reset;\"> </span><span style=\"color: Reset;background-color: Reset;\"> </span><span style=\"color: Reset;background-color: Reset;\"> </span><span style=\"color: Reset;background-color: Reset;\"> </span><span style=\"color: Reset;background-color: Reset;\"> </span><span style=\"color: Reset;background-color: Reset;\"> </span><span style=\"color: Reset;background-color: Reset;\"> </span><span style=\"color: Reset;background-color: Reset;\"> </span><span style=\"color: Reset;background-color: Reset;\"> </span><span style=\"color: Reset;background-color: Reset;\"> </span>\n",
       "<span style=\"color: Reset;background-color: Reset;\"> </span><span style=\"color: Reset;background-color: Reset;\"> </span><span style=\"color: Reset;background-color: Reset;\"> </span><span style=\"color: Reset;background-color: Reset;\"> </span><span style=\"color: Reset;background-color: Reset;\"> </span><span style=\"color: Reset;background-color: Reset;\"> </span><span style=\"color: Reset;background-color: Reset;\"> </span><span style=\"color: Reset;background-color: Reset;\"> </span><span style=\"color: Reset;background-color: Reset;\"> </span><span style=\"color: Reset;background-color: Reset;\"> </span><span style=\"color: Reset;background-color: Reset;\"> </span><span style=\"color: Reset;background-color: Reset;\"> </span><span style=\"color: Reset;background-color: Reset;font-style: italic;\">c</span><span style=\"color: Reset;background-color: Reset;font-style: italic;\">e</span><span style=\"color: Reset;background-color: Reset;font-style: italic;\">n</span><span style=\"color: Reset;background-color: Reset;font-style: italic;\">t</span><span style=\"color: Reset;background-color: Reset;font-style: italic;\">e</span><span style=\"color: Reset;background-color: Reset;font-style: italic;\">r</span><span style=\"color: Reset;background-color: Reset;font-style: italic;\"> </span><span style=\"color: Reset;background-color: Reset;font-style: italic;\">a</span><span style=\"color: Reset;background-color: Reset;font-style: italic;\">l</span><span style=\"color: Reset;background-color: Reset;font-style: italic;\">i</span><span style=\"color: Reset;background-color: Reset;font-style: italic;\">g</span><span style=\"color: Reset;background-color: Reset;font-style: italic;\">n</span><span style=\"color: Reset;background-color: Reset;font-style: italic;\">e</span><span style=\"color: Reset;background-color: Reset;font-style: italic;\">d</span><span style=\"color: Reset;background-color: Reset;font-style: italic;\"> </span><span style=\"color: Reset;background-color: Reset;font-style: italic;\">i</span><span style=\"color: Reset;background-color: Reset;font-style: italic;\">t</span><span style=\"color: Reset;background-color: Reset;font-style: italic;\">a</span><span style=\"color: Reset;background-color: Reset;font-style: italic;\">l</span><span style=\"color: Reset;background-color: Reset;font-style: italic;\">i</span><span style=\"color: Reset;background-color: Reset;font-style: italic;\">c</span><span style=\"color: Reset;background-color: Reset;font-style: italic;\"> </span><span style=\"color: Reset;background-color: Reset;font-style: italic;\">t</span><span style=\"color: Reset;background-color: Reset;font-style: italic;\">e</span><span style=\"color: Reset;background-color: Reset;font-style: italic;\">x</span><span style=\"color: Reset;background-color: Reset;font-style: italic;\">t</span><span style=\"color: Reset;background-color: Reset;\"> </span><span style=\"color: Reset;background-color: Reset;\"> </span><span style=\"color: Reset;background-color: Reset;\"> </span><span style=\"color: Reset;background-color: Reset;\"> </span><span style=\"color: Reset;background-color: Reset;\"> </span><span style=\"color: Reset;background-color: Reset;\"> </span><span style=\"color: Reset;background-color: Reset;\"> </span><span style=\"color: Reset;background-color: Reset;\"> </span><span style=\"color: Reset;background-color: Reset;\"> </span><span style=\"color: Reset;background-color: Reset;\"> </span><span style=\"color: Reset;background-color: Reset;\"> </span><span style=\"color: Reset;background-color: Reset;\"> </span>\n",
       "<span style=\"color: Reset;background-color: Reset;\"> </span><span style=\"color: Reset;background-color: Reset;\"> </span><span style=\"color: Reset;background-color: Reset;\"> </span><span style=\"color: Reset;background-color: Reset;\"> </span><span style=\"color: Reset;background-color: Reset;\"> </span><span style=\"color: Reset;background-color: Reset;\"> </span><span style=\"color: Reset;background-color: Reset;\"> </span><span style=\"color: Reset;background-color: Reset;\"> </span><span style=\"color: Reset;background-color: Reset;\"> </span><span style=\"color: Reset;background-color: Reset;\"> </span><span style=\"color: Reset;background-color: Reset;\"> </span><span style=\"color: Reset;background-color: Reset;\"> </span><span style=\"color: Reset;background-color: Reset;\"> </span><span style=\"color: Reset;background-color: Reset;\"> </span><span style=\"color: Reset;background-color: Reset;\"> </span><span style=\"color: Reset;background-color: Reset;\"> </span><span style=\"color: Yellow;background-color: Black;\">r</span><span style=\"color: Yellow;background-color: Black;\">i</span><span style=\"color: Yellow;background-color: Black;\">g</span><span style=\"color: Yellow;background-color: Black;\">h</span><span style=\"color: Yellow;background-color: Black;\">t</span><span style=\"color: Yellow;background-color: Black;\"> </span><span style=\"color: Yellow;background-color: Black;\">a</span><span style=\"color: Yellow;background-color: Black;\">l</span><span style=\"color: Yellow;background-color: Black;\">i</span><span style=\"color: Yellow;background-color: Black;\">g</span><span style=\"color: Yellow;background-color: Black;\">n</span><span style=\"color: Yellow;background-color: Black;\">e</span><span style=\"color: Yellow;background-color: Black;\">d</span><span style=\"color: Yellow;background-color: Black;\"> </span><span style=\"color: Yellow;background-color: Black;\">w</span><span style=\"color: Yellow;background-color: Black;\">i</span><span style=\"color: Yellow;background-color: Black;\">t</span><span style=\"color: Yellow;background-color: Black;\">h</span><span style=\"color: Yellow;background-color: Black;\"> </span><span style=\"color: Yellow;background-color: Black;\">y</span><span style=\"color: Yellow;background-color: Black;\">e</span><span style=\"color: Yellow;background-color: Black;\">l</span><span style=\"color: Yellow;background-color: Black;\">l</span><span style=\"color: Yellow;background-color: Black;\">o</span><span style=\"color: Yellow;background-color: Black;\">w</span><span style=\"color: Yellow;background-color: Black;\"> </span><span style=\"color: Yellow;background-color: Black;\">o</span><span style=\"color: Yellow;background-color: Black;\">n</span><span style=\"color: Yellow;background-color: Black;\"> </span><span style=\"color: Yellow;background-color: Black;\">b</span><span style=\"color: Yellow;background-color: Black;\">l</span><span style=\"color: Yellow;background-color: Black;\">a</span><span style=\"color: Yellow;background-color: Black;\">c</span><span style=\"color: Yellow;background-color: Black;\">k</span>\n",
       "<span style=\"color: Reset;background-color: Reset;\"> </span><span style=\"color: Reset;background-color: Reset;\"> </span><span style=\"color: Reset;background-color: Reset;\"> </span><span style=\"color: Reset;background-color: Reset;\"> </span><span style=\"color: Reset;background-color: Reset;\"> </span><span style=\"color: Reset;background-color: Reset;\"> </span><span style=\"color: Reset;background-color: Reset;\"> </span><span style=\"color: Reset;background-color: Reset;\"> </span><span style=\"color: Reset;background-color: Reset;\"> </span><span style=\"color: Reset;background-color: Reset;\"> </span><span style=\"color: Reset;background-color: Reset;\"> </span><span style=\"color: Reset;background-color: Reset;\"> </span><span style=\"color: Reset;background-color: Reset;\"> </span><span style=\"color: Reset;background-color: Reset;\"> </span><span style=\"color: Reset;background-color: Reset;\"> </span><span style=\"color: Reset;background-color: Reset;\"> </span><span style=\"color: Reset;background-color: Reset;\"> </span><span style=\"color: Reset;background-color: Reset;\"> </span><span style=\"color: Reset;background-color: Reset;\"> </span><span style=\"color: Reset;background-color: Reset;\"> </span><span style=\"color: Reset;background-color: Reset;\"> </span><span style=\"color: Reset;background-color: Reset;\"> </span><span style=\"color: Reset;background-color: Reset;\"> </span><span style=\"color: Reset;background-color: Reset;\"> </span><span style=\"color: Reset;background-color: Reset;\"> </span><span style=\"color: Reset;background-color: Reset;\"> </span><span style=\"color: Reset;background-color: Reset;\"> </span><span style=\"color: Reset;background-color: Reset;\"> </span><span style=\"color: Reset;background-color: Reset;\"> </span><span style=\"color: Reset;background-color: Reset;\"> </span><span style=\"color: Reset;background-color: Reset;\"> </span><span style=\"color: Reset;background-color: Reset;\"> </span><span style=\"color: Reset;background-color: Reset;\"> </span><span style=\"color: Reset;background-color: Reset;\"> </span><span style=\"color: Reset;background-color: Reset;\"> </span><span style=\"color: Reset;background-color: Reset;\"> </span><span style=\"color: Reset;background-color: Reset;\"> </span><span style=\"color: Reset;background-color: Reset;\"> </span><span style=\"color: Reset;background-color: Reset;\"> </span><span style=\"color: Reset;background-color: Reset;\"> </span><span style=\"color: Reset;background-color: Reset;\"> </span><span style=\"color: Reset;background-color: Reset;\"> </span><span style=\"color: Reset;background-color: Reset;\"> </span><span style=\"color: Reset;background-color: Reset;\"> </span><span style=\"color: Reset;background-color: Reset;\"> </span><span style=\"color: Reset;background-color: Reset;\"> </span><span style=\"color: Reset;background-color: Reset;\"> </span><span style=\"color: Reset;background-color: Reset;\"> </span><span style=\"color: Reset;background-color: Reset;\"> </span><span style=\"color: Reset;background-color: Reset;\"> </span>\n",
       "<span style=\"color: Reset;background-color: Reset;\"> </span><span style=\"color: Reset;background-color: Reset;\"> </span><span style=\"color: Reset;background-color: Reset;\"> </span><span style=\"color: Reset;background-color: Reset;\"> </span><span style=\"color: Reset;background-color: Reset;\"> </span><span style=\"color: Reset;background-color: Reset;\"> </span><span style=\"color: Reset;background-color: Reset;\"> </span><span style=\"color: Reset;background-color: Reset;\"> </span><span style=\"color: Reset;background-color: Reset;\"> </span><span style=\"color: Reset;background-color: Reset;\"> </span><span style=\"color: Reset;background-color: Reset;\"> </span><span style=\"color: Reset;background-color: Reset;\"> </span><span style=\"color: Reset;background-color: Reset;\"> </span><span style=\"color: Reset;background-color: Reset;\"> </span><span style=\"color: Reset;background-color: Reset;\"> </span><span style=\"color: Reset;background-color: Reset;\"> </span><span style=\"color: Reset;background-color: Reset;\"> </span><span style=\"color: Reset;background-color: Reset;\"> </span><span style=\"color: Reset;background-color: Reset;\"> </span><span style=\"color: Reset;background-color: Reset;\"> </span><span style=\"color: Reset;background-color: Reset;\"> </span><span style=\"color: Reset;background-color: Reset;\"> </span><span style=\"color: Reset;background-color: Reset;\"> </span><span style=\"color: Reset;background-color: Reset;\"> </span><span style=\"color: Reset;background-color: Reset;\"> </span><span style=\"color: Reset;background-color: Reset;\"> </span><span style=\"color: Reset;background-color: Reset;\"> </span><span style=\"color: Reset;background-color: Reset;\"> </span><span style=\"color: Reset;background-color: Reset;\"> </span><span style=\"color: Reset;background-color: Reset;\"> </span><span style=\"color: Reset;background-color: Reset;\"> </span><span style=\"color: Reset;background-color: Reset;\"> </span><span style=\"color: Reset;background-color: Reset;\"> </span><span style=\"color: Reset;background-color: Reset;\"> </span><span style=\"color: Reset;background-color: Reset;\"> </span><span style=\"color: Reset;background-color: Reset;\"> </span><span style=\"color: Reset;background-color: Reset;\"> </span><span style=\"color: Reset;background-color: Reset;\"> </span><span style=\"color: Reset;background-color: Reset;\"> </span><span style=\"color: Reset;background-color: Reset;\"> </span><span style=\"color: Reset;background-color: Reset;\"> </span><span style=\"color: Reset;background-color: Reset;\"> </span><span style=\"color: Reset;background-color: Reset;\"> </span><span style=\"color: Reset;background-color: Reset;\"> </span><span style=\"color: Reset;background-color: Reset;\"> </span><span style=\"color: Reset;background-color: Reset;\"> </span><span style=\"color: Reset;background-color: Reset;\"> </span><span style=\"color: Reset;background-color: Reset;\"> </span><span style=\"color: Reset;background-color: Reset;\"> </span><span style=\"color: Reset;background-color: Reset;\"> </span>\n",
       "</code></pre>\n",
       "</div>"
      ],
      "text/plain": [
       "()"
      ]
     },
     "execution_count": 119,
     "metadata": {},
     "output_type": "execute_result"
    }
   ],
   "source": [
    "use ratatui::widgets::Widget;\n",
    "\n",
    "let (x, y, width, height) = (0, 0, 50, 5); \n",
    "let area = ratatui::layout::Rect::new(x, y, width, height);\n",
    "let mut buf = ratatui::buffer::Buffer::empty(area);\n",
    "\n",
    "text![\n",
    "    \"left aligned bold text\".bold(), \n",
    "    \"center aligned italic text\".italic().into_centered_line(),\n",
    "    \"right aligned with yellow on black\".yellow().on_black().into_right_aligned_line(),\n",
    "].render(area, &mut buf);\n",
    "\n",
    "show_html(buffer_to_html(&buf))"
   ]
  },
  {
   "cell_type": "markdown",
   "id": "4670d851-89f6-41b5-8ab1-934da1ba1a95",
   "metadata": {},
   "source": [
    "## Conclusion"
   ]
  },
  {
   "cell_type": "markdown",
   "id": "4983556c-34e6-4ebf-93f1-29d09f881aaf",
   "metadata": {},
   "source": [
    "In the next post, we'll examine the a few commonly used widgets."
   ]
  },
  {
   "cell_type": "code",
   "execution_count": null,
   "id": "b6011123-57ba-444c-ad7b-d21f554a9739",
   "metadata": {},
   "outputs": [],
   "source": []
  },
  {
   "cell_type": "code",
   "execution_count": null,
   "id": "b3a7ccbc-e90a-459f-ba40-62977bb7648d",
   "metadata": {},
   "outputs": [],
   "source": []
  },
  {
   "cell_type": "code",
   "execution_count": null,
   "id": "3ddda790-b913-4641-9180-8bd1cc38734e",
   "metadata": {},
   "outputs": [],
   "source": []
  },
  {
   "cell_type": "code",
   "execution_count": null,
   "id": "b1965eb0-43a1-4701-b3ae-757ff66ab8fa",
   "metadata": {},
   "outputs": [],
   "source": []
  },
  {
   "cell_type": "code",
   "execution_count": null,
   "id": "ca4a46f6-013f-4ed7-9dd1-6f1b54ab4f74",
   "metadata": {},
   "outputs": [],
   "source": []
  }
 ],
 "metadata": {
  "kernelspec": {
   "display_name": "Rust",
   "language": "rust",
   "name": "rust"
  },
  "language_info": {
   "codemirror_mode": "rust",
   "file_extension": ".rs",
   "mimetype": "text/rust",
   "name": "Rust",
   "pygment_lexer": "rust",
   "version": ""
  },
  "widgets": {
   "application/vnd.jupyter.widget-state+json": {
    "state": {},
    "version_major": 2,
    "version_minor": 0
   }
  }
 },
 "nbformat": 4,
 "nbformat_minor": 5
}
