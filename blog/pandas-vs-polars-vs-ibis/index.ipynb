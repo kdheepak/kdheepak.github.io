{
 "cells": [
  {
   "cell_type": "raw",
   "id": "3a4eaf03-065d-4953-9389-27b0bbfd9a07",
   "metadata": {},
   "source": [
    "---\n",
    "title: \"Pandas vs Polars vs ibis\"\n",
    "date: 2024-08-25T10:22:45-0400\n",
    "categories: [python]\n",
    "summary: \"A short comparison of idiomatic pandas vs polars vs ibis with method chaining\"\n",
    "---"
   ]
  },
  {
   "cell_type": "markdown",
   "id": "86f28f6e-7299-4902-bf0e-c3a5950fdc67",
   "metadata": {},
   "source": [
    "This is a short comparison of idiomatic `pandas`, `polars` and `ibis`, all using method chaining."
   ]
  },
  {
   "cell_type": "code",
   "execution_count": 1,
   "id": "74cba5fa-f5a7-45e5-be52-77fedb3b7f94",
   "metadata": {
    "execution": {
     "iopub.execute_input": "2024-09-06T11:16:00.474454Z",
     "iopub.status.busy": "2024-09-06T11:16:00.474100Z",
     "iopub.status.idle": "2024-09-06T11:16:00.480088Z",
     "shell.execute_reply": "2024-09-06T11:16:00.479543Z",
     "shell.execute_reply.started": "2024-09-06T11:16:00.474433Z"
    }
   },
   "outputs": [
    {
     "data": {
      "text/plain": [
       "sys.version_info(major=3, minor=12, micro=5, releaselevel='final', serial=0)"
      ]
     },
     "execution_count": 1,
     "metadata": {},
     "output_type": "execute_result"
    }
   ],
   "source": [
    "import sys\n",
    "\n",
    "sys.version_info"
   ]
  },
  {
   "cell_type": "code",
   "execution_count": 2,
   "id": "e31fe4a9-6232-41ed-9bdb-ce77b60cb1f8",
   "metadata": {
    "execution": {
     "iopub.execute_input": "2024-09-06T11:16:01.976600Z",
     "iopub.status.busy": "2024-09-06T11:16:01.975759Z",
     "iopub.status.idle": "2024-09-06T11:16:02.507318Z",
     "shell.execute_reply": "2024-09-06T11:16:02.507055Z",
     "shell.execute_reply.started": "2024-09-06T11:16:01.976541Z"
    }
   },
   "outputs": [],
   "source": [
    "import ibis\n",
    "from ibis import _\n",
    "ibis.options.interactive = True"
   ]
  },
  {
   "cell_type": "code",
   "execution_count": 3,
   "id": "04bfebcc-d822-4840-9186-87a491fdf4f2",
   "metadata": {
    "execution": {
     "iopub.execute_input": "2024-09-06T11:16:02.508115Z",
     "iopub.status.busy": "2024-09-06T11:16:02.508020Z",
     "iopub.status.idle": "2024-09-06T11:16:02.510235Z",
     "shell.execute_reply": "2024-09-06T11:16:02.509987Z",
     "shell.execute_reply.started": "2024-09-06T11:16:02.508107Z"
    }
   },
   "outputs": [
    {
     "data": {
      "text/plain": [
       "'9.4.0'"
      ]
     },
     "execution_count": 3,
     "metadata": {},
     "output_type": "execute_result"
    }
   ],
   "source": [
    "ibis.__version__"
   ]
  },
  {
   "cell_type": "code",
   "execution_count": 4,
   "id": "5d8bd52f-cfac-4267-8a78-a2efc0d8dd21",
   "metadata": {
    "execution": {
     "iopub.execute_input": "2024-09-06T11:16:03.715477Z",
     "iopub.status.busy": "2024-09-06T11:16:03.714785Z",
     "iopub.status.idle": "2024-09-06T11:16:18.923529Z",
     "shell.execute_reply": "2024-09-06T11:16:18.923236Z",
     "shell.execute_reply.started": "2024-09-06T11:16:03.715430Z"
    }
   },
   "outputs": [
    {
     "data": {
      "text/html": [
       "<pre style=\"white-space:pre;overflow-x:auto;line-height:normal;font-family:Menlo,'DejaVu Sans Mono',consolas,'Courier New',monospace\">┏━━━━━━━━━━━━━━━━━━━━┳━━━━━━━━┳━━━━━━━━━┳━━━━━━━━━━━━━━━┳━━━━━━━━━━━━━┳━━━━━━━━━━━┳━━━━━━━━━━━━┳━━━━━━━━┳━━━━━━━━━━━┳━━━━━━━━━━━┳━━━━━━━━━┳━━━━━━━━┳━━━━━━━━━━┳━━━━━━━━━━━┓\n",
       "┃<span style=\"font-weight: bold\"> name               </span>┃<span style=\"font-weight: bold\"> height </span>┃<span style=\"font-weight: bold\"> mass    </span>┃<span style=\"font-weight: bold\"> hair_color    </span>┃<span style=\"font-weight: bold\"> skin_color  </span>┃<span style=\"font-weight: bold\"> eye_color </span>┃<span style=\"font-weight: bold\"> birth_year </span>┃<span style=\"font-weight: bold\"> sex    </span>┃<span style=\"font-weight: bold\"> gender    </span>┃<span style=\"font-weight: bold\"> homeworld </span>┃<span style=\"font-weight: bold\"> species </span>┃<span style=\"font-weight: bold\"> films  </span>┃<span style=\"font-weight: bold\"> vehicles </span>┃<span style=\"font-weight: bold\"> starships </span>┃\n",
       "┡━━━━━━━━━━━━━━━━━━━━╇━━━━━━━━╇━━━━━━━━━╇━━━━━━━━━━━━━━━╇━━━━━━━━━━━━━╇━━━━━━━━━━━╇━━━━━━━━━━━━╇━━━━━━━━╇━━━━━━━━━━━╇━━━━━━━━━━━╇━━━━━━━━━╇━━━━━━━━╇━━━━━━━━━━╇━━━━━━━━━━━┩\n",
       "│ <span style=\"color: #7f7f7f; text-decoration-color: #7f7f7f\">string</span>             │ <span style=\"color: #7f7f7f; text-decoration-color: #7f7f7f\">int64</span>  │ <span style=\"color: #7f7f7f; text-decoration-color: #7f7f7f\">float64</span> │ <span style=\"color: #7f7f7f; text-decoration-color: #7f7f7f\">string</span>        │ <span style=\"color: #7f7f7f; text-decoration-color: #7f7f7f\">string</span>      │ <span style=\"color: #7f7f7f; text-decoration-color: #7f7f7f\">string</span>    │ <span style=\"color: #7f7f7f; text-decoration-color: #7f7f7f\">float64</span>    │ <span style=\"color: #7f7f7f; text-decoration-color: #7f7f7f\">string</span> │ <span style=\"color: #7f7f7f; text-decoration-color: #7f7f7f\">string</span>    │ <span style=\"color: #7f7f7f; text-decoration-color: #7f7f7f\">string</span>    │ <span style=\"color: #7f7f7f; text-decoration-color: #7f7f7f\">string</span>  │ <span style=\"color: #7f7f7f; text-decoration-color: #7f7f7f\">string</span> │ <span style=\"color: #7f7f7f; text-decoration-color: #7f7f7f\">string</span>   │ <span style=\"color: #7f7f7f; text-decoration-color: #7f7f7f\">string</span>    │\n",
       "├────────────────────┼────────┼─────────┼───────────────┼─────────────┼───────────┼────────────┼────────┼───────────┼───────────┼─────────┼────────┼──────────┼───────────┤\n",
       "│ <span style=\"color: #008000; text-decoration-color: #008000\">Luke Skywalker    </span> │    <span style=\"color: #008080; text-decoration-color: #008080; font-weight: bold\">172</span> │    <span style=\"color: #008080; text-decoration-color: #008080; font-weight: bold\">77.0</span> │ <span style=\"color: #008000; text-decoration-color: #008000\">blond        </span> │ <span style=\"color: #008000; text-decoration-color: #008000\">fair       </span> │ <span style=\"color: #008000; text-decoration-color: #008000\">blue     </span> │       <span style=\"color: #008080; text-decoration-color: #008080; font-weight: bold\">19.0</span> │ <span style=\"color: #008000; text-decoration-color: #008000\">male  </span> │ <span style=\"color: #008000; text-decoration-color: #008000\">masculine</span> │ <span style=\"color: #008000; text-decoration-color: #008000\">Tatooine </span> │ <span style=\"color: #008000; text-decoration-color: #008000\">Human  </span> │ <span style=\"color: #7f7f7f; text-decoration-color: #7f7f7f\">NULL</span>   │ <span style=\"color: #7f7f7f; text-decoration-color: #7f7f7f\">NULL</span>     │ <span style=\"color: #7f7f7f; text-decoration-color: #7f7f7f\">NULL</span>      │\n",
       "│ <span style=\"color: #008000; text-decoration-color: #008000\">C-3PO             </span> │    <span style=\"color: #008080; text-decoration-color: #008080; font-weight: bold\">167</span> │    <span style=\"color: #008080; text-decoration-color: #008080; font-weight: bold\">75.0</span> │ <span style=\"color: #7f7f7f; text-decoration-color: #7f7f7f\">NULL</span>          │ <span style=\"color: #008000; text-decoration-color: #008000\">gold       </span> │ <span style=\"color: #008000; text-decoration-color: #008000\">yellow   </span> │      <span style=\"color: #008080; text-decoration-color: #008080; font-weight: bold\">112.0</span> │ <span style=\"color: #008000; text-decoration-color: #008000\">none  </span> │ <span style=\"color: #008000; text-decoration-color: #008000\">masculine</span> │ <span style=\"color: #008000; text-decoration-color: #008000\">Tatooine </span> │ <span style=\"color: #008000; text-decoration-color: #008000\">Droid  </span> │ <span style=\"color: #7f7f7f; text-decoration-color: #7f7f7f\">NULL</span>   │ <span style=\"color: #7f7f7f; text-decoration-color: #7f7f7f\">NULL</span>     │ <span style=\"color: #7f7f7f; text-decoration-color: #7f7f7f\">NULL</span>      │\n",
       "│ <span style=\"color: #008000; text-decoration-color: #008000\">R2-D2             </span> │     <span style=\"color: #008080; text-decoration-color: #008080; font-weight: bold\">96</span> │    <span style=\"color: #008080; text-decoration-color: #008080; font-weight: bold\">32.0</span> │ <span style=\"color: #7f7f7f; text-decoration-color: #7f7f7f\">NULL</span>          │ <span style=\"color: #008000; text-decoration-color: #008000\">white, blue</span> │ <span style=\"color: #008000; text-decoration-color: #008000\">red      </span> │       <span style=\"color: #008080; text-decoration-color: #008080; font-weight: bold\">33.0</span> │ <span style=\"color: #008000; text-decoration-color: #008000\">none  </span> │ <span style=\"color: #008000; text-decoration-color: #008000\">masculine</span> │ <span style=\"color: #008000; text-decoration-color: #008000\">Naboo    </span> │ <span style=\"color: #008000; text-decoration-color: #008000\">Droid  </span> │ <span style=\"color: #7f7f7f; text-decoration-color: #7f7f7f\">NULL</span>   │ <span style=\"color: #7f7f7f; text-decoration-color: #7f7f7f\">NULL</span>     │ <span style=\"color: #7f7f7f; text-decoration-color: #7f7f7f\">NULL</span>      │\n",
       "│ <span style=\"color: #008000; text-decoration-color: #008000\">Darth Vader       </span> │    <span style=\"color: #008080; text-decoration-color: #008080; font-weight: bold\">202</span> │   <span style=\"color: #008080; text-decoration-color: #008080; font-weight: bold\">136.0</span> │ <span style=\"color: #008000; text-decoration-color: #008000\">none         </span> │ <span style=\"color: #008000; text-decoration-color: #008000\">white      </span> │ <span style=\"color: #008000; text-decoration-color: #008000\">yellow   </span> │       <span style=\"color: #008080; text-decoration-color: #008080; font-weight: bold\">41.9</span> │ <span style=\"color: #008000; text-decoration-color: #008000\">male  </span> │ <span style=\"color: #008000; text-decoration-color: #008000\">masculine</span> │ <span style=\"color: #008000; text-decoration-color: #008000\">Tatooine </span> │ <span style=\"color: #008000; text-decoration-color: #008000\">Human  </span> │ <span style=\"color: #7f7f7f; text-decoration-color: #7f7f7f\">NULL</span>   │ <span style=\"color: #7f7f7f; text-decoration-color: #7f7f7f\">NULL</span>     │ <span style=\"color: #7f7f7f; text-decoration-color: #7f7f7f\">NULL</span>      │\n",
       "│ <span style=\"color: #008000; text-decoration-color: #008000\">Leia Organa       </span> │    <span style=\"color: #008080; text-decoration-color: #008080; font-weight: bold\">150</span> │    <span style=\"color: #008080; text-decoration-color: #008080; font-weight: bold\">49.0</span> │ <span style=\"color: #008000; text-decoration-color: #008000\">brown        </span> │ <span style=\"color: #008000; text-decoration-color: #008000\">light      </span> │ <span style=\"color: #008000; text-decoration-color: #008000\">brown    </span> │       <span style=\"color: #008080; text-decoration-color: #008080; font-weight: bold\">19.0</span> │ <span style=\"color: #008000; text-decoration-color: #008000\">female</span> │ <span style=\"color: #008000; text-decoration-color: #008000\">feminine </span> │ <span style=\"color: #008000; text-decoration-color: #008000\">Alderaan </span> │ <span style=\"color: #008000; text-decoration-color: #008000\">Human  </span> │ <span style=\"color: #7f7f7f; text-decoration-color: #7f7f7f\">NULL</span>   │ <span style=\"color: #7f7f7f; text-decoration-color: #7f7f7f\">NULL</span>     │ <span style=\"color: #7f7f7f; text-decoration-color: #7f7f7f\">NULL</span>      │\n",
       "│ <span style=\"color: #008000; text-decoration-color: #008000\">Owen Lars         </span> │    <span style=\"color: #008080; text-decoration-color: #008080; font-weight: bold\">178</span> │   <span style=\"color: #008080; text-decoration-color: #008080; font-weight: bold\">120.0</span> │ <span style=\"color: #008000; text-decoration-color: #008000\">brown, grey  </span> │ <span style=\"color: #008000; text-decoration-color: #008000\">light      </span> │ <span style=\"color: #008000; text-decoration-color: #008000\">blue     </span> │       <span style=\"color: #008080; text-decoration-color: #008080; font-weight: bold\">52.0</span> │ <span style=\"color: #008000; text-decoration-color: #008000\">male  </span> │ <span style=\"color: #008000; text-decoration-color: #008000\">masculine</span> │ <span style=\"color: #008000; text-decoration-color: #008000\">Tatooine </span> │ <span style=\"color: #008000; text-decoration-color: #008000\">Human  </span> │ <span style=\"color: #7f7f7f; text-decoration-color: #7f7f7f\">NULL</span>   │ <span style=\"color: #7f7f7f; text-decoration-color: #7f7f7f\">NULL</span>     │ <span style=\"color: #7f7f7f; text-decoration-color: #7f7f7f\">NULL</span>      │\n",
       "│ <span style=\"color: #008000; text-decoration-color: #008000\">Beru Whitesun Lars</span> │    <span style=\"color: #008080; text-decoration-color: #008080; font-weight: bold\">165</span> │    <span style=\"color: #008080; text-decoration-color: #008080; font-weight: bold\">75.0</span> │ <span style=\"color: #008000; text-decoration-color: #008000\">brown        </span> │ <span style=\"color: #008000; text-decoration-color: #008000\">light      </span> │ <span style=\"color: #008000; text-decoration-color: #008000\">blue     </span> │       <span style=\"color: #008080; text-decoration-color: #008080; font-weight: bold\">47.0</span> │ <span style=\"color: #008000; text-decoration-color: #008000\">female</span> │ <span style=\"color: #008000; text-decoration-color: #008000\">feminine </span> │ <span style=\"color: #008000; text-decoration-color: #008000\">Tatooine </span> │ <span style=\"color: #008000; text-decoration-color: #008000\">Human  </span> │ <span style=\"color: #7f7f7f; text-decoration-color: #7f7f7f\">NULL</span>   │ <span style=\"color: #7f7f7f; text-decoration-color: #7f7f7f\">NULL</span>     │ <span style=\"color: #7f7f7f; text-decoration-color: #7f7f7f\">NULL</span>      │\n",
       "│ <span style=\"color: #008000; text-decoration-color: #008000\">R5-D4             </span> │     <span style=\"color: #008080; text-decoration-color: #008080; font-weight: bold\">97</span> │    <span style=\"color: #008080; text-decoration-color: #008080; font-weight: bold\">32.0</span> │ <span style=\"color: #7f7f7f; text-decoration-color: #7f7f7f\">NULL</span>          │ <span style=\"color: #008000; text-decoration-color: #008000\">white, red </span> │ <span style=\"color: #008000; text-decoration-color: #008000\">red      </span> │       <span style=\"color: #7f7f7f; text-decoration-color: #7f7f7f\">NULL</span> │ <span style=\"color: #008000; text-decoration-color: #008000\">none  </span> │ <span style=\"color: #008000; text-decoration-color: #008000\">masculine</span> │ <span style=\"color: #008000; text-decoration-color: #008000\">Tatooine </span> │ <span style=\"color: #008000; text-decoration-color: #008000\">Droid  </span> │ <span style=\"color: #7f7f7f; text-decoration-color: #7f7f7f\">NULL</span>   │ <span style=\"color: #7f7f7f; text-decoration-color: #7f7f7f\">NULL</span>     │ <span style=\"color: #7f7f7f; text-decoration-color: #7f7f7f\">NULL</span>      │\n",
       "│ <span style=\"color: #008000; text-decoration-color: #008000\">Biggs Darklighter </span> │    <span style=\"color: #008080; text-decoration-color: #008080; font-weight: bold\">183</span> │    <span style=\"color: #008080; text-decoration-color: #008080; font-weight: bold\">84.0</span> │ <span style=\"color: #008000; text-decoration-color: #008000\">black        </span> │ <span style=\"color: #008000; text-decoration-color: #008000\">light      </span> │ <span style=\"color: #008000; text-decoration-color: #008000\">brown    </span> │       <span style=\"color: #008080; text-decoration-color: #008080; font-weight: bold\">24.0</span> │ <span style=\"color: #008000; text-decoration-color: #008000\">male  </span> │ <span style=\"color: #008000; text-decoration-color: #008000\">masculine</span> │ <span style=\"color: #008000; text-decoration-color: #008000\">Tatooine </span> │ <span style=\"color: #008000; text-decoration-color: #008000\">Human  </span> │ <span style=\"color: #7f7f7f; text-decoration-color: #7f7f7f\">NULL</span>   │ <span style=\"color: #7f7f7f; text-decoration-color: #7f7f7f\">NULL</span>     │ <span style=\"color: #7f7f7f; text-decoration-color: #7f7f7f\">NULL</span>      │\n",
       "│ <span style=\"color: #008000; text-decoration-color: #008000\">Obi-Wan Kenobi    </span> │    <span style=\"color: #008080; text-decoration-color: #008080; font-weight: bold\">182</span> │    <span style=\"color: #008080; text-decoration-color: #008080; font-weight: bold\">77.0</span> │ <span style=\"color: #008000; text-decoration-color: #008000\">auburn, white</span> │ <span style=\"color: #008000; text-decoration-color: #008000\">fair       </span> │ <span style=\"color: #008000; text-decoration-color: #008000\">blue-gray</span> │       <span style=\"color: #008080; text-decoration-color: #008080; font-weight: bold\">57.0</span> │ <span style=\"color: #008000; text-decoration-color: #008000\">male  </span> │ <span style=\"color: #008000; text-decoration-color: #008000\">masculine</span> │ <span style=\"color: #008000; text-decoration-color: #008000\">Stewjon  </span> │ <span style=\"color: #008000; text-decoration-color: #008000\">Human  </span> │ <span style=\"color: #7f7f7f; text-decoration-color: #7f7f7f\">NULL</span>   │ <span style=\"color: #7f7f7f; text-decoration-color: #7f7f7f\">NULL</span>     │ <span style=\"color: #7f7f7f; text-decoration-color: #7f7f7f\">NULL</span>      │\n",
       "│ <span style=\"color: #7f7f7f; text-decoration-color: #7f7f7f\">…</span>                  │      <span style=\"color: #7f7f7f; text-decoration-color: #7f7f7f\">…</span> │       <span style=\"color: #7f7f7f; text-decoration-color: #7f7f7f\">…</span> │ <span style=\"color: #7f7f7f; text-decoration-color: #7f7f7f\">…</span>             │ <span style=\"color: #7f7f7f; text-decoration-color: #7f7f7f\">…</span>           │ <span style=\"color: #7f7f7f; text-decoration-color: #7f7f7f\">…</span>         │          <span style=\"color: #7f7f7f; text-decoration-color: #7f7f7f\">…</span> │ <span style=\"color: #7f7f7f; text-decoration-color: #7f7f7f\">…</span>      │ <span style=\"color: #7f7f7f; text-decoration-color: #7f7f7f\">…</span>         │ <span style=\"color: #7f7f7f; text-decoration-color: #7f7f7f\">…</span>         │ <span style=\"color: #7f7f7f; text-decoration-color: #7f7f7f\">…</span>       │ <span style=\"color: #7f7f7f; text-decoration-color: #7f7f7f\">…</span>      │ <span style=\"color: #7f7f7f; text-decoration-color: #7f7f7f\">…</span>        │ <span style=\"color: #7f7f7f; text-decoration-color: #7f7f7f\">…</span>         │\n",
       "└────────────────────┴────────┴─────────┴───────────────┴─────────────┴───────────┴────────────┴────────┴───────────┴───────────┴─────────┴────────┴──────────┴───────────┘\n",
       "</pre>\n"
      ],
      "text/plain": [
       "┏━━━━━━━━━━━━━━━━━━━━┳━━━━━━━━┳━━━━━━━━━┳━━━━━━━━━━━━━━━┳━━━━━━━━━━━━━┳━━━━━━━━━━━┳━━━━━━━━━━━━┳━━━━━━━━┳━━━━━━━━━━━┳━━━━━━━━━━━┳━━━━━━━━━┳━━━━━━━━┳━━━━━━━━━━┳━━━━━━━━━━━┓\n",
       "┃\u001b[1m \u001b[0m\u001b[1mname\u001b[0m\u001b[1m              \u001b[0m\u001b[1m \u001b[0m┃\u001b[1m \u001b[0m\u001b[1mheight\u001b[0m\u001b[1m \u001b[0m┃\u001b[1m \u001b[0m\u001b[1mmass\u001b[0m\u001b[1m   \u001b[0m\u001b[1m \u001b[0m┃\u001b[1m \u001b[0m\u001b[1mhair_color\u001b[0m\u001b[1m   \u001b[0m\u001b[1m \u001b[0m┃\u001b[1m \u001b[0m\u001b[1mskin_color\u001b[0m\u001b[1m \u001b[0m\u001b[1m \u001b[0m┃\u001b[1m \u001b[0m\u001b[1meye_color\u001b[0m\u001b[1m \u001b[0m┃\u001b[1m \u001b[0m\u001b[1mbirth_year\u001b[0m\u001b[1m \u001b[0m┃\u001b[1m \u001b[0m\u001b[1msex\u001b[0m\u001b[1m   \u001b[0m\u001b[1m \u001b[0m┃\u001b[1m \u001b[0m\u001b[1mgender\u001b[0m\u001b[1m   \u001b[0m\u001b[1m \u001b[0m┃\u001b[1m \u001b[0m\u001b[1mhomeworld\u001b[0m\u001b[1m \u001b[0m┃\u001b[1m \u001b[0m\u001b[1mspecies\u001b[0m\u001b[1m \u001b[0m┃\u001b[1m \u001b[0m\u001b[1mfilms\u001b[0m\u001b[1m \u001b[0m\u001b[1m \u001b[0m┃\u001b[1m \u001b[0m\u001b[1mvehicles\u001b[0m\u001b[1m \u001b[0m┃\u001b[1m \u001b[0m\u001b[1mstarships\u001b[0m\u001b[1m \u001b[0m┃\n",
       "┡━━━━━━━━━━━━━━━━━━━━╇━━━━━━━━╇━━━━━━━━━╇━━━━━━━━━━━━━━━╇━━━━━━━━━━━━━╇━━━━━━━━━━━╇━━━━━━━━━━━━╇━━━━━━━━╇━━━━━━━━━━━╇━━━━━━━━━━━╇━━━━━━━━━╇━━━━━━━━╇━━━━━━━━━━╇━━━━━━━━━━━┩\n",
       "│ \u001b[2mstring\u001b[0m             │ \u001b[2mint64\u001b[0m  │ \u001b[2mfloat64\u001b[0m │ \u001b[2mstring\u001b[0m        │ \u001b[2mstring\u001b[0m      │ \u001b[2mstring\u001b[0m    │ \u001b[2mfloat64\u001b[0m    │ \u001b[2mstring\u001b[0m │ \u001b[2mstring\u001b[0m    │ \u001b[2mstring\u001b[0m    │ \u001b[2mstring\u001b[0m  │ \u001b[2mstring\u001b[0m │ \u001b[2mstring\u001b[0m   │ \u001b[2mstring\u001b[0m    │\n",
       "├────────────────────┼────────┼─────────┼───────────────┼─────────────┼───────────┼────────────┼────────┼───────────┼───────────┼─────────┼────────┼──────────┼───────────┤\n",
       "│ \u001b[32mLuke Skywalker    \u001b[0m │    \u001b[1;36m172\u001b[0m │    \u001b[1;36m77.0\u001b[0m │ \u001b[32mblond        \u001b[0m │ \u001b[32mfair       \u001b[0m │ \u001b[32mblue     \u001b[0m │       \u001b[1;36m19.0\u001b[0m │ \u001b[32mmale  \u001b[0m │ \u001b[32mmasculine\u001b[0m │ \u001b[32mTatooine \u001b[0m │ \u001b[32mHuman  \u001b[0m │ \u001b[2mNULL\u001b[0m   │ \u001b[2mNULL\u001b[0m     │ \u001b[2mNULL\u001b[0m      │\n",
       "│ \u001b[32mC-3PO             \u001b[0m │    \u001b[1;36m167\u001b[0m │    \u001b[1;36m75.0\u001b[0m │ \u001b[2mNULL\u001b[0m          │ \u001b[32mgold       \u001b[0m │ \u001b[32myellow   \u001b[0m │      \u001b[1;36m112.0\u001b[0m │ \u001b[32mnone  \u001b[0m │ \u001b[32mmasculine\u001b[0m │ \u001b[32mTatooine \u001b[0m │ \u001b[32mDroid  \u001b[0m │ \u001b[2mNULL\u001b[0m   │ \u001b[2mNULL\u001b[0m     │ \u001b[2mNULL\u001b[0m      │\n",
       "│ \u001b[32mR2-D2             \u001b[0m │     \u001b[1;36m96\u001b[0m │    \u001b[1;36m32.0\u001b[0m │ \u001b[2mNULL\u001b[0m          │ \u001b[32mwhite, blue\u001b[0m │ \u001b[32mred      \u001b[0m │       \u001b[1;36m33.0\u001b[0m │ \u001b[32mnone  \u001b[0m │ \u001b[32mmasculine\u001b[0m │ \u001b[32mNaboo    \u001b[0m │ \u001b[32mDroid  \u001b[0m │ \u001b[2mNULL\u001b[0m   │ \u001b[2mNULL\u001b[0m     │ \u001b[2mNULL\u001b[0m      │\n",
       "│ \u001b[32mDarth Vader       \u001b[0m │    \u001b[1;36m202\u001b[0m │   \u001b[1;36m136.0\u001b[0m │ \u001b[32mnone         \u001b[0m │ \u001b[32mwhite      \u001b[0m │ \u001b[32myellow   \u001b[0m │       \u001b[1;36m41.9\u001b[0m │ \u001b[32mmale  \u001b[0m │ \u001b[32mmasculine\u001b[0m │ \u001b[32mTatooine \u001b[0m │ \u001b[32mHuman  \u001b[0m │ \u001b[2mNULL\u001b[0m   │ \u001b[2mNULL\u001b[0m     │ \u001b[2mNULL\u001b[0m      │\n",
       "│ \u001b[32mLeia Organa       \u001b[0m │    \u001b[1;36m150\u001b[0m │    \u001b[1;36m49.0\u001b[0m │ \u001b[32mbrown        \u001b[0m │ \u001b[32mlight      \u001b[0m │ \u001b[32mbrown    \u001b[0m │       \u001b[1;36m19.0\u001b[0m │ \u001b[32mfemale\u001b[0m │ \u001b[32mfeminine \u001b[0m │ \u001b[32mAlderaan \u001b[0m │ \u001b[32mHuman  \u001b[0m │ \u001b[2mNULL\u001b[0m   │ \u001b[2mNULL\u001b[0m     │ \u001b[2mNULL\u001b[0m      │\n",
       "│ \u001b[32mOwen Lars         \u001b[0m │    \u001b[1;36m178\u001b[0m │   \u001b[1;36m120.0\u001b[0m │ \u001b[32mbrown, grey  \u001b[0m │ \u001b[32mlight      \u001b[0m │ \u001b[32mblue     \u001b[0m │       \u001b[1;36m52.0\u001b[0m │ \u001b[32mmale  \u001b[0m │ \u001b[32mmasculine\u001b[0m │ \u001b[32mTatooine \u001b[0m │ \u001b[32mHuman  \u001b[0m │ \u001b[2mNULL\u001b[0m   │ \u001b[2mNULL\u001b[0m     │ \u001b[2mNULL\u001b[0m      │\n",
       "│ \u001b[32mBeru Whitesun Lars\u001b[0m │    \u001b[1;36m165\u001b[0m │    \u001b[1;36m75.0\u001b[0m │ \u001b[32mbrown        \u001b[0m │ \u001b[32mlight      \u001b[0m │ \u001b[32mblue     \u001b[0m │       \u001b[1;36m47.0\u001b[0m │ \u001b[32mfemale\u001b[0m │ \u001b[32mfeminine \u001b[0m │ \u001b[32mTatooine \u001b[0m │ \u001b[32mHuman  \u001b[0m │ \u001b[2mNULL\u001b[0m   │ \u001b[2mNULL\u001b[0m     │ \u001b[2mNULL\u001b[0m      │\n",
       "│ \u001b[32mR5-D4             \u001b[0m │     \u001b[1;36m97\u001b[0m │    \u001b[1;36m32.0\u001b[0m │ \u001b[2mNULL\u001b[0m          │ \u001b[32mwhite, red \u001b[0m │ \u001b[32mred      \u001b[0m │       \u001b[2mNULL\u001b[0m │ \u001b[32mnone  \u001b[0m │ \u001b[32mmasculine\u001b[0m │ \u001b[32mTatooine \u001b[0m │ \u001b[32mDroid  \u001b[0m │ \u001b[2mNULL\u001b[0m   │ \u001b[2mNULL\u001b[0m     │ \u001b[2mNULL\u001b[0m      │\n",
       "│ \u001b[32mBiggs Darklighter \u001b[0m │    \u001b[1;36m183\u001b[0m │    \u001b[1;36m84.0\u001b[0m │ \u001b[32mblack        \u001b[0m │ \u001b[32mlight      \u001b[0m │ \u001b[32mbrown    \u001b[0m │       \u001b[1;36m24.0\u001b[0m │ \u001b[32mmale  \u001b[0m │ \u001b[32mmasculine\u001b[0m │ \u001b[32mTatooine \u001b[0m │ \u001b[32mHuman  \u001b[0m │ \u001b[2mNULL\u001b[0m   │ \u001b[2mNULL\u001b[0m     │ \u001b[2mNULL\u001b[0m      │\n",
       "│ \u001b[32mObi-Wan Kenobi    \u001b[0m │    \u001b[1;36m182\u001b[0m │    \u001b[1;36m77.0\u001b[0m │ \u001b[32mauburn, white\u001b[0m │ \u001b[32mfair       \u001b[0m │ \u001b[32mblue-gray\u001b[0m │       \u001b[1;36m57.0\u001b[0m │ \u001b[32mmale  \u001b[0m │ \u001b[32mmasculine\u001b[0m │ \u001b[32mStewjon  \u001b[0m │ \u001b[32mHuman  \u001b[0m │ \u001b[2mNULL\u001b[0m   │ \u001b[2mNULL\u001b[0m     │ \u001b[2mNULL\u001b[0m      │\n",
       "│ \u001b[2m…\u001b[0m                  │      \u001b[2m…\u001b[0m │       \u001b[2m…\u001b[0m │ \u001b[2m…\u001b[0m             │ \u001b[2m…\u001b[0m           │ \u001b[2m…\u001b[0m         │          \u001b[2m…\u001b[0m │ \u001b[2m…\u001b[0m      │ \u001b[2m…\u001b[0m         │ \u001b[2m…\u001b[0m         │ \u001b[2m…\u001b[0m       │ \u001b[2m…\u001b[0m      │ \u001b[2m…\u001b[0m        │ \u001b[2m…\u001b[0m         │\n",
       "└────────────────────┴────────┴─────────┴───────────────┴─────────────┴───────────┴────────────┴────────┴───────────┴───────────┴─────────┴────────┴──────────┴───────────┘"
      ]
     },
     "execution_count": 4,
     "metadata": {},
     "output_type": "execute_result"
    }
   ],
   "source": [
    "df = ibis.examples.starwars.fetch()\n",
    "df"
   ]
  },
  {
   "cell_type": "markdown",
   "id": "01a1574c-4746-4f93-8916-9a4784bd8854",
   "metadata": {
    "execution": {
     "iopub.execute_input": "2024-08-25T15:18:40.060622Z",
     "iopub.status.busy": "2024-08-25T15:18:40.060533Z",
     "iopub.status.idle": "2024-08-25T15:18:40.133782Z",
     "shell.execute_reply": "2024-08-25T15:18:40.133504Z",
     "shell.execute_reply.started": "2024-08-25T15:18:40.060614Z"
    }
   },
   "source": [
    "## Pandas"
   ]
  },
  {
   "cell_type": "code",
   "execution_count": 5,
   "id": "cf4d19b0-dd9e-46fc-938f-eea064387bbd",
   "metadata": {
    "execution": {
     "iopub.execute_input": "2024-09-06T11:16:18.924581Z",
     "iopub.status.busy": "2024-09-06T11:16:18.924393Z",
     "iopub.status.idle": "2024-09-06T11:16:18.973087Z",
     "shell.execute_reply": "2024-09-06T11:16:18.972700Z",
     "shell.execute_reply.started": "2024-09-06T11:16:18.924569Z"
    }
   },
   "outputs": [
    {
     "data": {
      "text/html": [
       "<pre style=\"white-space:pre;overflow-x:auto;line-height:normal;font-family:Menlo,'DejaVu Sans Mono',consolas,'Courier New',monospace\">┏━━━━━━━━━━━┳━━━━━━━━━┳━━━━━━━━━┳━━━━━━━━━━━━┳━━━━━━━━━━━━┳━━━━━━━━━━━┳━━━━━━━━━━━━┳━━━━━━━━┳━━━━━━━━━━━┳━━━━━━━━━━━┳━━━━━━━━━┳━━━━━━━┳━━━━━━━━━━┳━━━━━━━━━━━┓\n",
       "┃<span style=\"font-weight: bold\"> name      </span>┃<span style=\"font-weight: bold\"> height  </span>┃<span style=\"font-weight: bold\"> mass    </span>┃<span style=\"font-weight: bold\"> hair_color </span>┃<span style=\"font-weight: bold\"> skin_color </span>┃<span style=\"font-weight: bold\"> eye_color </span>┃<span style=\"font-weight: bold\"> birth_year </span>┃<span style=\"font-weight: bold\"> sex    </span>┃<span style=\"font-weight: bold\"> gender    </span>┃<span style=\"font-weight: bold\"> homeworld </span>┃<span style=\"font-weight: bold\"> species </span>┃<span style=\"font-weight: bold\"> films </span>┃<span style=\"font-weight: bold\"> vehicles </span>┃<span style=\"font-weight: bold\"> starships </span>┃\n",
       "┡━━━━━━━━━━━╇━━━━━━━━━╇━━━━━━━━━╇━━━━━━━━━━━━╇━━━━━━━━━━━━╇━━━━━━━━━━━╇━━━━━━━━━━━━╇━━━━━━━━╇━━━━━━━━━━━╇━━━━━━━━━━━╇━━━━━━━━━╇━━━━━━━╇━━━━━━━━━━╇━━━━━━━━━━━┩\n",
       "│ <span style=\"color: #7f7f7f; text-decoration-color: #7f7f7f\">string</span>    │ <span style=\"color: #7f7f7f; text-decoration-color: #7f7f7f\">float64</span> │ <span style=\"color: #7f7f7f; text-decoration-color: #7f7f7f\">float64</span> │ <span style=\"color: #7f7f7f; text-decoration-color: #7f7f7f\">string</span>     │ <span style=\"color: #7f7f7f; text-decoration-color: #7f7f7f\">string</span>     │ <span style=\"color: #7f7f7f; text-decoration-color: #7f7f7f\">string</span>    │ <span style=\"color: #7f7f7f; text-decoration-color: #7f7f7f\">float64</span>    │ <span style=\"color: #7f7f7f; text-decoration-color: #7f7f7f\">string</span> │ <span style=\"color: #7f7f7f; text-decoration-color: #7f7f7f\">string</span>    │ <span style=\"color: #7f7f7f; text-decoration-color: #7f7f7f\">string</span>    │ <span style=\"color: #7f7f7f; text-decoration-color: #7f7f7f\">string</span>  │ <span style=\"color: #7f7f7f; text-decoration-color: #7f7f7f\">null</span>  │ <span style=\"color: #7f7f7f; text-decoration-color: #7f7f7f\">null</span>     │ <span style=\"color: #7f7f7f; text-decoration-color: #7f7f7f\">null</span>      │\n",
       "├───────────┼─────────┼─────────┼────────────┼────────────┼───────────┼────────────┼────────┼───────────┼───────────┼─────────┼───────┼──────────┼───────────┤\n",
       "│ <span style=\"color: #008000; text-decoration-color: #008000\">Owen Lars</span> │   <span style=\"color: #008080; text-decoration-color: #008080; font-weight: bold\">178.0</span> │   <span style=\"color: #008080; text-decoration-color: #008080; font-weight: bold\">120.0</span> │ <span style=\"color: #008000; text-decoration-color: #008000\">brown     </span> │ <span style=\"color: #008000; text-decoration-color: #008000\">light     </span> │ <span style=\"color: #008000; text-decoration-color: #008000\">blue     </span> │       <span style=\"color: #008080; text-decoration-color: #008080; font-weight: bold\">52.0</span> │ <span style=\"color: #008000; text-decoration-color: #008000\">male  </span> │ <span style=\"color: #008000; text-decoration-color: #008000\">masculine</span> │ <span style=\"color: #008000; text-decoration-color: #008000\">Tatooine </span> │ <span style=\"color: #008000; text-decoration-color: #008000\">Human  </span> │ <span style=\"color: #7f7f7f; text-decoration-color: #7f7f7f\">NULL</span>  │ <span style=\"color: #7f7f7f; text-decoration-color: #7f7f7f\">NULL</span>     │ <span style=\"color: #7f7f7f; text-decoration-color: #7f7f7f\">NULL</span>      │\n",
       "│ <span style=\"color: #008000; text-decoration-color: #008000\">Owen Lars</span> │   <span style=\"color: #008080; text-decoration-color: #008080; font-weight: bold\">178.0</span> │   <span style=\"color: #008080; text-decoration-color: #008080; font-weight: bold\">120.0</span> │ <span style=\"color: #008000; text-decoration-color: #008000\"> grey     </span> │ <span style=\"color: #008000; text-decoration-color: #008000\">light     </span> │ <span style=\"color: #008000; text-decoration-color: #008000\">blue     </span> │       <span style=\"color: #008080; text-decoration-color: #008080; font-weight: bold\">52.0</span> │ <span style=\"color: #008000; text-decoration-color: #008000\">male  </span> │ <span style=\"color: #008000; text-decoration-color: #008000\">masculine</span> │ <span style=\"color: #008000; text-decoration-color: #008000\">Tatooine </span> │ <span style=\"color: #008000; text-decoration-color: #008000\">Human  </span> │ <span style=\"color: #7f7f7f; text-decoration-color: #7f7f7f\">NULL</span>  │ <span style=\"color: #7f7f7f; text-decoration-color: #7f7f7f\">NULL</span>     │ <span style=\"color: #7f7f7f; text-decoration-color: #7f7f7f\">NULL</span>      │\n",
       "│ <span style=\"color: #008000; text-decoration-color: #008000\">Chewbacca</span> │   <span style=\"color: #008080; text-decoration-color: #008080; font-weight: bold\">228.0</span> │   <span style=\"color: #008080; text-decoration-color: #008080; font-weight: bold\">112.0</span> │ <span style=\"color: #008000; text-decoration-color: #008000\">brown     </span> │ <span style=\"color: #008000; text-decoration-color: #008000\">unknown   </span> │ <span style=\"color: #008000; text-decoration-color: #008000\">blue     </span> │      <span style=\"color: #008080; text-decoration-color: #008080; font-weight: bold\">200.0</span> │ <span style=\"color: #008000; text-decoration-color: #008000\">male  </span> │ <span style=\"color: #008000; text-decoration-color: #008000\">masculine</span> │ <span style=\"color: #008000; text-decoration-color: #008000\">Kashyyyk </span> │ <span style=\"color: #008000; text-decoration-color: #008000\">Wookiee</span> │ <span style=\"color: #7f7f7f; text-decoration-color: #7f7f7f\">NULL</span>  │ <span style=\"color: #7f7f7f; text-decoration-color: #7f7f7f\">NULL</span>     │ <span style=\"color: #7f7f7f; text-decoration-color: #7f7f7f\">NULL</span>      │\n",
       "└───────────┴─────────┴─────────┴────────────┴────────────┴───────────┴────────────┴────────┴───────────┴───────────┴─────────┴───────┴──────────┴───────────┘\n",
       "</pre>\n"
      ],
      "text/plain": [
       "┏━━━━━━━━━━━┳━━━━━━━━━┳━━━━━━━━━┳━━━━━━━━━━━━┳━━━━━━━━━━━━┳━━━━━━━━━━━┳━━━━━━━━━━━━┳━━━━━━━━┳━━━━━━━━━━━┳━━━━━━━━━━━┳━━━━━━━━━┳━━━━━━━┳━━━━━━━━━━┳━━━━━━━━━━━┓\n",
       "┃\u001b[1m \u001b[0m\u001b[1mname\u001b[0m\u001b[1m     \u001b[0m\u001b[1m \u001b[0m┃\u001b[1m \u001b[0m\u001b[1mheight\u001b[0m\u001b[1m \u001b[0m\u001b[1m \u001b[0m┃\u001b[1m \u001b[0m\u001b[1mmass\u001b[0m\u001b[1m   \u001b[0m\u001b[1m \u001b[0m┃\u001b[1m \u001b[0m\u001b[1mhair_color\u001b[0m\u001b[1m \u001b[0m┃\u001b[1m \u001b[0m\u001b[1mskin_color\u001b[0m\u001b[1m \u001b[0m┃\u001b[1m \u001b[0m\u001b[1meye_color\u001b[0m\u001b[1m \u001b[0m┃\u001b[1m \u001b[0m\u001b[1mbirth_year\u001b[0m\u001b[1m \u001b[0m┃\u001b[1m \u001b[0m\u001b[1msex\u001b[0m\u001b[1m   \u001b[0m\u001b[1m \u001b[0m┃\u001b[1m \u001b[0m\u001b[1mgender\u001b[0m\u001b[1m   \u001b[0m\u001b[1m \u001b[0m┃\u001b[1m \u001b[0m\u001b[1mhomeworld\u001b[0m\u001b[1m \u001b[0m┃\u001b[1m \u001b[0m\u001b[1mspecies\u001b[0m\u001b[1m \u001b[0m┃\u001b[1m \u001b[0m\u001b[1mfilms\u001b[0m\u001b[1m \u001b[0m┃\u001b[1m \u001b[0m\u001b[1mvehicles\u001b[0m\u001b[1m \u001b[0m┃\u001b[1m \u001b[0m\u001b[1mstarships\u001b[0m\u001b[1m \u001b[0m┃\n",
       "┡━━━━━━━━━━━╇━━━━━━━━━╇━━━━━━━━━╇━━━━━━━━━━━━╇━━━━━━━━━━━━╇━━━━━━━━━━━╇━━━━━━━━━━━━╇━━━━━━━━╇━━━━━━━━━━━╇━━━━━━━━━━━╇━━━━━━━━━╇━━━━━━━╇━━━━━━━━━━╇━━━━━━━━━━━┩\n",
       "│ \u001b[2mstring\u001b[0m    │ \u001b[2mfloat64\u001b[0m │ \u001b[2mfloat64\u001b[0m │ \u001b[2mstring\u001b[0m     │ \u001b[2mstring\u001b[0m     │ \u001b[2mstring\u001b[0m    │ \u001b[2mfloat64\u001b[0m    │ \u001b[2mstring\u001b[0m │ \u001b[2mstring\u001b[0m    │ \u001b[2mstring\u001b[0m    │ \u001b[2mstring\u001b[0m  │ \u001b[2mnull\u001b[0m  │ \u001b[2mnull\u001b[0m     │ \u001b[2mnull\u001b[0m      │\n",
       "├───────────┼─────────┼─────────┼────────────┼────────────┼───────────┼────────────┼────────┼───────────┼───────────┼─────────┼───────┼──────────┼───────────┤\n",
       "│ \u001b[32mOwen Lars\u001b[0m │   \u001b[1;36m178.0\u001b[0m │   \u001b[1;36m120.0\u001b[0m │ \u001b[32mbrown     \u001b[0m │ \u001b[32mlight     \u001b[0m │ \u001b[32mblue     \u001b[0m │       \u001b[1;36m52.0\u001b[0m │ \u001b[32mmale  \u001b[0m │ \u001b[32mmasculine\u001b[0m │ \u001b[32mTatooine \u001b[0m │ \u001b[32mHuman  \u001b[0m │ \u001b[2mNULL\u001b[0m  │ \u001b[2mNULL\u001b[0m     │ \u001b[2mNULL\u001b[0m      │\n",
       "│ \u001b[32mOwen Lars\u001b[0m │   \u001b[1;36m178.0\u001b[0m │   \u001b[1;36m120.0\u001b[0m │ \u001b[32m grey     \u001b[0m │ \u001b[32mlight     \u001b[0m │ \u001b[32mblue     \u001b[0m │       \u001b[1;36m52.0\u001b[0m │ \u001b[32mmale  \u001b[0m │ \u001b[32mmasculine\u001b[0m │ \u001b[32mTatooine \u001b[0m │ \u001b[32mHuman  \u001b[0m │ \u001b[2mNULL\u001b[0m  │ \u001b[2mNULL\u001b[0m     │ \u001b[2mNULL\u001b[0m      │\n",
       "│ \u001b[32mChewbacca\u001b[0m │   \u001b[1;36m228.0\u001b[0m │   \u001b[1;36m112.0\u001b[0m │ \u001b[32mbrown     \u001b[0m │ \u001b[32munknown   \u001b[0m │ \u001b[32mblue     \u001b[0m │      \u001b[1;36m200.0\u001b[0m │ \u001b[32mmale  \u001b[0m │ \u001b[32mmasculine\u001b[0m │ \u001b[32mKashyyyk \u001b[0m │ \u001b[32mWookiee\u001b[0m │ \u001b[2mNULL\u001b[0m  │ \u001b[2mNULL\u001b[0m     │ \u001b[2mNULL\u001b[0m      │\n",
       "└───────────┴─────────┴─────────┴────────────┴────────────┴───────────┴────────────┴────────┴───────────┴───────────┴─────────┴───────┴──────────┴───────────┘"
      ]
     },
     "execution_count": 5,
     "metadata": {},
     "output_type": "execute_result"
    }
   ],
   "source": [
    "import re\n",
    "\n",
    "M = 100\n",
    "\n",
    "_df = (\n",
    "    df\n",
    "    .to_pandas()\n",
    "    .rename(lambda col: re.sub(r'(?<!^)(?=[A-Z])', '_', col).lower(), axis=1)\n",
    "    .query(\"height > 100\")\n",
    "    .query(\"mass > @M\")\n",
    "    .query('hair_color.str.contains(\"brown\") == True') # some values can be `None` so explicit True required\n",
    "    .query(\"sex.notna()\")\n",
    "    .assign(hair_color = lambda c: c.hair_color.str.split(','))\n",
    "    .explode(\"hair_color\")\n",
    "    .query(\"birth_year.notna()\")\n",
    ")\n",
    "\n",
    "ibis.pandas.connect({'_df': _df}).table('_df')"
   ]
  },
  {
   "cell_type": "markdown",
   "id": "19548c23-9b72-4918-b906-af5346fed6ca",
   "metadata": {},
   "source": [
    "## Polars"
   ]
  },
  {
   "cell_type": "code",
   "execution_count": 6,
   "id": "6a5996f1-dfd8-4ac8-8b89-6af5dbccfe66",
   "metadata": {
    "execution": {
     "iopub.execute_input": "2024-09-06T11:16:18.973778Z",
     "iopub.status.busy": "2024-09-06T11:16:18.973672Z",
     "iopub.status.idle": "2024-09-06T11:16:20.177802Z",
     "shell.execute_reply": "2024-09-06T11:16:20.177559Z",
     "shell.execute_reply.started": "2024-09-06T11:16:18.973770Z"
    }
   },
   "outputs": [
    {
     "data": {
      "text/html": [
       "<pre style=\"white-space:pre;overflow-x:auto;line-height:normal;font-family:Menlo,'DejaVu Sans Mono',consolas,'Courier New',monospace\">┏━━━━━━━━━━━┳━━━━━━━━┳━━━━━━━━━┳━━━━━━━━━━━━┳━━━━━━━━━━━━┳━━━━━━━━━━━┳━━━━━━━━━━━━┳━━━━━━━━┳━━━━━━━━━━━┳━━━━━━━━━━━┳━━━━━━━━━┳━━━━━━━━┳━━━━━━━━━━┳━━━━━━━━━━━┓\n",
       "┃<span style=\"font-weight: bold\"> name      </span>┃<span style=\"font-weight: bold\"> height </span>┃<span style=\"font-weight: bold\"> mass    </span>┃<span style=\"font-weight: bold\"> hair_color </span>┃<span style=\"font-weight: bold\"> skin_color </span>┃<span style=\"font-weight: bold\"> eye_color </span>┃<span style=\"font-weight: bold\"> birth_year </span>┃<span style=\"font-weight: bold\"> sex    </span>┃<span style=\"font-weight: bold\"> gender    </span>┃<span style=\"font-weight: bold\"> homeworld </span>┃<span style=\"font-weight: bold\"> species </span>┃<span style=\"font-weight: bold\"> films  </span>┃<span style=\"font-weight: bold\"> vehicles </span>┃<span style=\"font-weight: bold\"> starships </span>┃\n",
       "┡━━━━━━━━━━━╇━━━━━━━━╇━━━━━━━━━╇━━━━━━━━━━━━╇━━━━━━━━━━━━╇━━━━━━━━━━━╇━━━━━━━━━━━━╇━━━━━━━━╇━━━━━━━━━━━╇━━━━━━━━━━━╇━━━━━━━━━╇━━━━━━━━╇━━━━━━━━━━╇━━━━━━━━━━━┩\n",
       "│ <span style=\"color: #7f7f7f; text-decoration-color: #7f7f7f\">string</span>    │ <span style=\"color: #7f7f7f; text-decoration-color: #7f7f7f\">int64</span>  │ <span style=\"color: #7f7f7f; text-decoration-color: #7f7f7f\">float64</span> │ <span style=\"color: #7f7f7f; text-decoration-color: #7f7f7f\">string</span>     │ <span style=\"color: #7f7f7f; text-decoration-color: #7f7f7f\">string</span>     │ <span style=\"color: #7f7f7f; text-decoration-color: #7f7f7f\">string</span>    │ <span style=\"color: #7f7f7f; text-decoration-color: #7f7f7f\">float64</span>    │ <span style=\"color: #7f7f7f; text-decoration-color: #7f7f7f\">string</span> │ <span style=\"color: #7f7f7f; text-decoration-color: #7f7f7f\">string</span>    │ <span style=\"color: #7f7f7f; text-decoration-color: #7f7f7f\">string</span>    │ <span style=\"color: #7f7f7f; text-decoration-color: #7f7f7f\">string</span>  │ <span style=\"color: #7f7f7f; text-decoration-color: #7f7f7f\">string</span> │ <span style=\"color: #7f7f7f; text-decoration-color: #7f7f7f\">string</span>   │ <span style=\"color: #7f7f7f; text-decoration-color: #7f7f7f\">string</span>    │\n",
       "├───────────┼────────┼─────────┼────────────┼────────────┼───────────┼────────────┼────────┼───────────┼───────────┼─────────┼────────┼──────────┼───────────┤\n",
       "│ <span style=\"color: #008000; text-decoration-color: #008000\">Owen Lars</span> │    <span style=\"color: #008080; text-decoration-color: #008080; font-weight: bold\">178</span> │   <span style=\"color: #008080; text-decoration-color: #008080; font-weight: bold\">120.0</span> │ <span style=\"color: #008000; text-decoration-color: #008000\">brown     </span> │ <span style=\"color: #008000; text-decoration-color: #008000\">light     </span> │ <span style=\"color: #008000; text-decoration-color: #008000\">blue     </span> │       <span style=\"color: #008080; text-decoration-color: #008080; font-weight: bold\">52.0</span> │ <span style=\"color: #008000; text-decoration-color: #008000\">male  </span> │ <span style=\"color: #008000; text-decoration-color: #008000\">masculine</span> │ <span style=\"color: #008000; text-decoration-color: #008000\">Tatooine </span> │ <span style=\"color: #008000; text-decoration-color: #008000\">Human  </span> │ <span style=\"color: #7f7f7f; text-decoration-color: #7f7f7f\">NULL</span>   │ <span style=\"color: #7f7f7f; text-decoration-color: #7f7f7f\">NULL</span>     │ <span style=\"color: #7f7f7f; text-decoration-color: #7f7f7f\">NULL</span>      │\n",
       "│ <span style=\"color: #008000; text-decoration-color: #008000\">Owen Lars</span> │    <span style=\"color: #008080; text-decoration-color: #008080; font-weight: bold\">178</span> │   <span style=\"color: #008080; text-decoration-color: #008080; font-weight: bold\">120.0</span> │ <span style=\"color: #008000; text-decoration-color: #008000\"> grey     </span> │ <span style=\"color: #008000; text-decoration-color: #008000\">light     </span> │ <span style=\"color: #008000; text-decoration-color: #008000\">blue     </span> │       <span style=\"color: #008080; text-decoration-color: #008080; font-weight: bold\">52.0</span> │ <span style=\"color: #008000; text-decoration-color: #008000\">male  </span> │ <span style=\"color: #008000; text-decoration-color: #008000\">masculine</span> │ <span style=\"color: #008000; text-decoration-color: #008000\">Tatooine </span> │ <span style=\"color: #008000; text-decoration-color: #008000\">Human  </span> │ <span style=\"color: #7f7f7f; text-decoration-color: #7f7f7f\">NULL</span>   │ <span style=\"color: #7f7f7f; text-decoration-color: #7f7f7f\">NULL</span>     │ <span style=\"color: #7f7f7f; text-decoration-color: #7f7f7f\">NULL</span>      │\n",
       "│ <span style=\"color: #008000; text-decoration-color: #008000\">Chewbacca</span> │    <span style=\"color: #008080; text-decoration-color: #008080; font-weight: bold\">228</span> │   <span style=\"color: #008080; text-decoration-color: #008080; font-weight: bold\">112.0</span> │ <span style=\"color: #008000; text-decoration-color: #008000\">brown     </span> │ <span style=\"color: #008000; text-decoration-color: #008000\">unknown   </span> │ <span style=\"color: #008000; text-decoration-color: #008000\">blue     </span> │      <span style=\"color: #008080; text-decoration-color: #008080; font-weight: bold\">200.0</span> │ <span style=\"color: #008000; text-decoration-color: #008000\">male  </span> │ <span style=\"color: #008000; text-decoration-color: #008000\">masculine</span> │ <span style=\"color: #008000; text-decoration-color: #008000\">Kashyyyk </span> │ <span style=\"color: #008000; text-decoration-color: #008000\">Wookiee</span> │ <span style=\"color: #7f7f7f; text-decoration-color: #7f7f7f\">NULL</span>   │ <span style=\"color: #7f7f7f; text-decoration-color: #7f7f7f\">NULL</span>     │ <span style=\"color: #7f7f7f; text-decoration-color: #7f7f7f\">NULL</span>      │\n",
       "└───────────┴────────┴─────────┴────────────┴────────────┴───────────┴────────────┴────────┴───────────┴───────────┴─────────┴────────┴──────────┴───────────┘\n",
       "</pre>\n"
      ],
      "text/plain": [
       "┏━━━━━━━━━━━┳━━━━━━━━┳━━━━━━━━━┳━━━━━━━━━━━━┳━━━━━━━━━━━━┳━━━━━━━━━━━┳━━━━━━━━━━━━┳━━━━━━━━┳━━━━━━━━━━━┳━━━━━━━━━━━┳━━━━━━━━━┳━━━━━━━━┳━━━━━━━━━━┳━━━━━━━━━━━┓\n",
       "┃\u001b[1m \u001b[0m\u001b[1mname\u001b[0m\u001b[1m     \u001b[0m\u001b[1m \u001b[0m┃\u001b[1m \u001b[0m\u001b[1mheight\u001b[0m\u001b[1m \u001b[0m┃\u001b[1m \u001b[0m\u001b[1mmass\u001b[0m\u001b[1m   \u001b[0m\u001b[1m \u001b[0m┃\u001b[1m \u001b[0m\u001b[1mhair_color\u001b[0m\u001b[1m \u001b[0m┃\u001b[1m \u001b[0m\u001b[1mskin_color\u001b[0m\u001b[1m \u001b[0m┃\u001b[1m \u001b[0m\u001b[1meye_color\u001b[0m\u001b[1m \u001b[0m┃\u001b[1m \u001b[0m\u001b[1mbirth_year\u001b[0m\u001b[1m \u001b[0m┃\u001b[1m \u001b[0m\u001b[1msex\u001b[0m\u001b[1m   \u001b[0m\u001b[1m \u001b[0m┃\u001b[1m \u001b[0m\u001b[1mgender\u001b[0m\u001b[1m   \u001b[0m\u001b[1m \u001b[0m┃\u001b[1m \u001b[0m\u001b[1mhomeworld\u001b[0m\u001b[1m \u001b[0m┃\u001b[1m \u001b[0m\u001b[1mspecies\u001b[0m\u001b[1m \u001b[0m┃\u001b[1m \u001b[0m\u001b[1mfilms\u001b[0m\u001b[1m \u001b[0m\u001b[1m \u001b[0m┃\u001b[1m \u001b[0m\u001b[1mvehicles\u001b[0m\u001b[1m \u001b[0m┃\u001b[1m \u001b[0m\u001b[1mstarships\u001b[0m\u001b[1m \u001b[0m┃\n",
       "┡━━━━━━━━━━━╇━━━━━━━━╇━━━━━━━━━╇━━━━━━━━━━━━╇━━━━━━━━━━━━╇━━━━━━━━━━━╇━━━━━━━━━━━━╇━━━━━━━━╇━━━━━━━━━━━╇━━━━━━━━━━━╇━━━━━━━━━╇━━━━━━━━╇━━━━━━━━━━╇━━━━━━━━━━━┩\n",
       "│ \u001b[2mstring\u001b[0m    │ \u001b[2mint64\u001b[0m  │ \u001b[2mfloat64\u001b[0m │ \u001b[2mstring\u001b[0m     │ \u001b[2mstring\u001b[0m     │ \u001b[2mstring\u001b[0m    │ \u001b[2mfloat64\u001b[0m    │ \u001b[2mstring\u001b[0m │ \u001b[2mstring\u001b[0m    │ \u001b[2mstring\u001b[0m    │ \u001b[2mstring\u001b[0m  │ \u001b[2mstring\u001b[0m │ \u001b[2mstring\u001b[0m   │ \u001b[2mstring\u001b[0m    │\n",
       "├───────────┼────────┼─────────┼────────────┼────────────┼───────────┼────────────┼────────┼───────────┼───────────┼─────────┼────────┼──────────┼───────────┤\n",
       "│ \u001b[32mOwen Lars\u001b[0m │    \u001b[1;36m178\u001b[0m │   \u001b[1;36m120.0\u001b[0m │ \u001b[32mbrown     \u001b[0m │ \u001b[32mlight     \u001b[0m │ \u001b[32mblue     \u001b[0m │       \u001b[1;36m52.0\u001b[0m │ \u001b[32mmale  \u001b[0m │ \u001b[32mmasculine\u001b[0m │ \u001b[32mTatooine \u001b[0m │ \u001b[32mHuman  \u001b[0m │ \u001b[2mNULL\u001b[0m   │ \u001b[2mNULL\u001b[0m     │ \u001b[2mNULL\u001b[0m      │\n",
       "│ \u001b[32mOwen Lars\u001b[0m │    \u001b[1;36m178\u001b[0m │   \u001b[1;36m120.0\u001b[0m │ \u001b[32m grey     \u001b[0m │ \u001b[32mlight     \u001b[0m │ \u001b[32mblue     \u001b[0m │       \u001b[1;36m52.0\u001b[0m │ \u001b[32mmale  \u001b[0m │ \u001b[32mmasculine\u001b[0m │ \u001b[32mTatooine \u001b[0m │ \u001b[32mHuman  \u001b[0m │ \u001b[2mNULL\u001b[0m   │ \u001b[2mNULL\u001b[0m     │ \u001b[2mNULL\u001b[0m      │\n",
       "│ \u001b[32mChewbacca\u001b[0m │    \u001b[1;36m228\u001b[0m │   \u001b[1;36m112.0\u001b[0m │ \u001b[32mbrown     \u001b[0m │ \u001b[32munknown   \u001b[0m │ \u001b[32mblue     \u001b[0m │      \u001b[1;36m200.0\u001b[0m │ \u001b[32mmale  \u001b[0m │ \u001b[32mmasculine\u001b[0m │ \u001b[32mKashyyyk \u001b[0m │ \u001b[32mWookiee\u001b[0m │ \u001b[2mNULL\u001b[0m   │ \u001b[2mNULL\u001b[0m     │ \u001b[2mNULL\u001b[0m      │\n",
       "└───────────┴────────┴─────────┴────────────┴────────────┴───────────┴────────────┴────────┴───────────┴───────────┴─────────┴────────┴──────────┴───────────┘"
      ]
     },
     "execution_count": 6,
     "metadata": {},
     "output_type": "execute_result"
    }
   ],
   "source": [
    "import re\n",
    "import polars as pl\n",
    "\n",
    "M = 100\n",
    "\n",
    "_df = (\n",
    "    df\n",
    "    .to_polars()\n",
    "    .rename(lambda col: re.sub(r'(?<!^)(?=[A-Z])', '_', col).lower())\n",
    "    .filter(pl.col(\"height\") > 100)\n",
    "    .filter(pl.col(\"mass\") > M)\n",
    "    .filter(pl.col(\"hair_color\").str.contains(\"brown\"))\n",
    "    .filter(pl.col(\"sex\").is_not_null())\n",
    "    .with_columns(pl.col(\"hair_color\").str.split(\",\").alias(\"hair_color\"))\n",
    "    .explode(pl.col(\"hair_color\"))\n",
    "    .filter(pl.col(\"birth_year\").is_not_null())\n",
    ")\n",
    "\n",
    "ibis.polars.connect({'_df': _df}).table('_df')"
   ]
  },
  {
   "cell_type": "markdown",
   "id": "839b6859-950e-4e71-9031-4514bc5a003e",
   "metadata": {},
   "source": [
    "## ibis"
   ]
  },
  {
   "cell_type": "code",
   "execution_count": 7,
   "id": "c1611af7-18ae-44a1-b584-ce86887428eb",
   "metadata": {
    "execution": {
     "iopub.execute_input": "2024-09-06T11:16:20.178716Z",
     "iopub.status.busy": "2024-09-06T11:16:20.178619Z",
     "iopub.status.idle": "2024-09-06T11:16:20.204789Z",
     "shell.execute_reply": "2024-09-06T11:16:20.204461Z",
     "shell.execute_reply.started": "2024-09-06T11:16:20.178709Z"
    }
   },
   "outputs": [
    {
     "data": {
      "text/html": [
       "<pre style=\"white-space:pre;overflow-x:auto;line-height:normal;font-family:Menlo,'DejaVu Sans Mono',consolas,'Courier New',monospace\">┏━━━━━━━━━━━┳━━━━━━━━┳━━━━━━━━━┳━━━━━━━━━━━━┳━━━━━━━━━━━━┳━━━━━━━━━━━┳━━━━━━━━━━━━┳━━━━━━━━┳━━━━━━━━━━━┳━━━━━━━━━━━┳━━━━━━━━━┳━━━━━━━━┳━━━━━━━━━━┳━━━━━━━━━━━┓\n",
       "┃<span style=\"font-weight: bold\"> name      </span>┃<span style=\"font-weight: bold\"> height </span>┃<span style=\"font-weight: bold\"> mass    </span>┃<span style=\"font-weight: bold\"> hair_color </span>┃<span style=\"font-weight: bold\"> skin_color </span>┃<span style=\"font-weight: bold\"> eye_color </span>┃<span style=\"font-weight: bold\"> birth_year </span>┃<span style=\"font-weight: bold\"> sex    </span>┃<span style=\"font-weight: bold\"> gender    </span>┃<span style=\"font-weight: bold\"> homeworld </span>┃<span style=\"font-weight: bold\"> species </span>┃<span style=\"font-weight: bold\"> films  </span>┃<span style=\"font-weight: bold\"> vehicles </span>┃<span style=\"font-weight: bold\"> starships </span>┃\n",
       "┡━━━━━━━━━━━╇━━━━━━━━╇━━━━━━━━━╇━━━━━━━━━━━━╇━━━━━━━━━━━━╇━━━━━━━━━━━╇━━━━━━━━━━━━╇━━━━━━━━╇━━━━━━━━━━━╇━━━━━━━━━━━╇━━━━━━━━━╇━━━━━━━━╇━━━━━━━━━━╇━━━━━━━━━━━┩\n",
       "│ <span style=\"color: #7f7f7f; text-decoration-color: #7f7f7f\">string</span>    │ <span style=\"color: #7f7f7f; text-decoration-color: #7f7f7f\">int64</span>  │ <span style=\"color: #7f7f7f; text-decoration-color: #7f7f7f\">float64</span> │ <span style=\"color: #7f7f7f; text-decoration-color: #7f7f7f\">string</span>     │ <span style=\"color: #7f7f7f; text-decoration-color: #7f7f7f\">string</span>     │ <span style=\"color: #7f7f7f; text-decoration-color: #7f7f7f\">string</span>    │ <span style=\"color: #7f7f7f; text-decoration-color: #7f7f7f\">float64</span>    │ <span style=\"color: #7f7f7f; text-decoration-color: #7f7f7f\">string</span> │ <span style=\"color: #7f7f7f; text-decoration-color: #7f7f7f\">string</span>    │ <span style=\"color: #7f7f7f; text-decoration-color: #7f7f7f\">string</span>    │ <span style=\"color: #7f7f7f; text-decoration-color: #7f7f7f\">string</span>  │ <span style=\"color: #7f7f7f; text-decoration-color: #7f7f7f\">string</span> │ <span style=\"color: #7f7f7f; text-decoration-color: #7f7f7f\">string</span>   │ <span style=\"color: #7f7f7f; text-decoration-color: #7f7f7f\">string</span>    │\n",
       "├───────────┼────────┼─────────┼────────────┼────────────┼───────────┼────────────┼────────┼───────────┼───────────┼─────────┼────────┼──────────┼───────────┤\n",
       "│ <span style=\"color: #008000; text-decoration-color: #008000\">Owen Lars</span> │    <span style=\"color: #008080; text-decoration-color: #008080; font-weight: bold\">178</span> │   <span style=\"color: #008080; text-decoration-color: #008080; font-weight: bold\">120.0</span> │ <span style=\"color: #008000; text-decoration-color: #008000\">brown     </span> │ <span style=\"color: #008000; text-decoration-color: #008000\">light     </span> │ <span style=\"color: #008000; text-decoration-color: #008000\">blue     </span> │       <span style=\"color: #008080; text-decoration-color: #008080; font-weight: bold\">52.0</span> │ <span style=\"color: #008000; text-decoration-color: #008000\">male  </span> │ <span style=\"color: #008000; text-decoration-color: #008000\">masculine</span> │ <span style=\"color: #008000; text-decoration-color: #008000\">Tatooine </span> │ <span style=\"color: #008000; text-decoration-color: #008000\">Human  </span> │ <span style=\"color: #7f7f7f; text-decoration-color: #7f7f7f\">NULL</span>   │ <span style=\"color: #7f7f7f; text-decoration-color: #7f7f7f\">NULL</span>     │ <span style=\"color: #7f7f7f; text-decoration-color: #7f7f7f\">NULL</span>      │\n",
       "│ <span style=\"color: #008000; text-decoration-color: #008000\">Owen Lars</span> │    <span style=\"color: #008080; text-decoration-color: #008080; font-weight: bold\">178</span> │   <span style=\"color: #008080; text-decoration-color: #008080; font-weight: bold\">120.0</span> │ <span style=\"color: #008000; text-decoration-color: #008000\"> grey     </span> │ <span style=\"color: #008000; text-decoration-color: #008000\">light     </span> │ <span style=\"color: #008000; text-decoration-color: #008000\">blue     </span> │       <span style=\"color: #008080; text-decoration-color: #008080; font-weight: bold\">52.0</span> │ <span style=\"color: #008000; text-decoration-color: #008000\">male  </span> │ <span style=\"color: #008000; text-decoration-color: #008000\">masculine</span> │ <span style=\"color: #008000; text-decoration-color: #008000\">Tatooine </span> │ <span style=\"color: #008000; text-decoration-color: #008000\">Human  </span> │ <span style=\"color: #7f7f7f; text-decoration-color: #7f7f7f\">NULL</span>   │ <span style=\"color: #7f7f7f; text-decoration-color: #7f7f7f\">NULL</span>     │ <span style=\"color: #7f7f7f; text-decoration-color: #7f7f7f\">NULL</span>      │\n",
       "│ <span style=\"color: #008000; text-decoration-color: #008000\">Chewbacca</span> │    <span style=\"color: #008080; text-decoration-color: #008080; font-weight: bold\">228</span> │   <span style=\"color: #008080; text-decoration-color: #008080; font-weight: bold\">112.0</span> │ <span style=\"color: #008000; text-decoration-color: #008000\">brown     </span> │ <span style=\"color: #008000; text-decoration-color: #008000\">unknown   </span> │ <span style=\"color: #008000; text-decoration-color: #008000\">blue     </span> │      <span style=\"color: #008080; text-decoration-color: #008080; font-weight: bold\">200.0</span> │ <span style=\"color: #008000; text-decoration-color: #008000\">male  </span> │ <span style=\"color: #008000; text-decoration-color: #008000\">masculine</span> │ <span style=\"color: #008000; text-decoration-color: #008000\">Kashyyyk </span> │ <span style=\"color: #008000; text-decoration-color: #008000\">Wookiee</span> │ <span style=\"color: #7f7f7f; text-decoration-color: #7f7f7f\">NULL</span>   │ <span style=\"color: #7f7f7f; text-decoration-color: #7f7f7f\">NULL</span>     │ <span style=\"color: #7f7f7f; text-decoration-color: #7f7f7f\">NULL</span>      │\n",
       "└───────────┴────────┴─────────┴────────────┴────────────┴───────────┴────────────┴────────┴───────────┴───────────┴─────────┴────────┴──────────┴───────────┘\n",
       "</pre>\n"
      ],
      "text/plain": [
       "┏━━━━━━━━━━━┳━━━━━━━━┳━━━━━━━━━┳━━━━━━━━━━━━┳━━━━━━━━━━━━┳━━━━━━━━━━━┳━━━━━━━━━━━━┳━━━━━━━━┳━━━━━━━━━━━┳━━━━━━━━━━━┳━━━━━━━━━┳━━━━━━━━┳━━━━━━━━━━┳━━━━━━━━━━━┓\n",
       "┃\u001b[1m \u001b[0m\u001b[1mname\u001b[0m\u001b[1m     \u001b[0m\u001b[1m \u001b[0m┃\u001b[1m \u001b[0m\u001b[1mheight\u001b[0m\u001b[1m \u001b[0m┃\u001b[1m \u001b[0m\u001b[1mmass\u001b[0m\u001b[1m   \u001b[0m\u001b[1m \u001b[0m┃\u001b[1m \u001b[0m\u001b[1mhair_color\u001b[0m\u001b[1m \u001b[0m┃\u001b[1m \u001b[0m\u001b[1mskin_color\u001b[0m\u001b[1m \u001b[0m┃\u001b[1m \u001b[0m\u001b[1meye_color\u001b[0m\u001b[1m \u001b[0m┃\u001b[1m \u001b[0m\u001b[1mbirth_year\u001b[0m\u001b[1m \u001b[0m┃\u001b[1m \u001b[0m\u001b[1msex\u001b[0m\u001b[1m   \u001b[0m\u001b[1m \u001b[0m┃\u001b[1m \u001b[0m\u001b[1mgender\u001b[0m\u001b[1m   \u001b[0m\u001b[1m \u001b[0m┃\u001b[1m \u001b[0m\u001b[1mhomeworld\u001b[0m\u001b[1m \u001b[0m┃\u001b[1m \u001b[0m\u001b[1mspecies\u001b[0m\u001b[1m \u001b[0m┃\u001b[1m \u001b[0m\u001b[1mfilms\u001b[0m\u001b[1m \u001b[0m\u001b[1m \u001b[0m┃\u001b[1m \u001b[0m\u001b[1mvehicles\u001b[0m\u001b[1m \u001b[0m┃\u001b[1m \u001b[0m\u001b[1mstarships\u001b[0m\u001b[1m \u001b[0m┃\n",
       "┡━━━━━━━━━━━╇━━━━━━━━╇━━━━━━━━━╇━━━━━━━━━━━━╇━━━━━━━━━━━━╇━━━━━━━━━━━╇━━━━━━━━━━━━╇━━━━━━━━╇━━━━━━━━━━━╇━━━━━━━━━━━╇━━━━━━━━━╇━━━━━━━━╇━━━━━━━━━━╇━━━━━━━━━━━┩\n",
       "│ \u001b[2mstring\u001b[0m    │ \u001b[2mint64\u001b[0m  │ \u001b[2mfloat64\u001b[0m │ \u001b[2mstring\u001b[0m     │ \u001b[2mstring\u001b[0m     │ \u001b[2mstring\u001b[0m    │ \u001b[2mfloat64\u001b[0m    │ \u001b[2mstring\u001b[0m │ \u001b[2mstring\u001b[0m    │ \u001b[2mstring\u001b[0m    │ \u001b[2mstring\u001b[0m  │ \u001b[2mstring\u001b[0m │ \u001b[2mstring\u001b[0m   │ \u001b[2mstring\u001b[0m    │\n",
       "├───────────┼────────┼─────────┼────────────┼────────────┼───────────┼────────────┼────────┼───────────┼───────────┼─────────┼────────┼──────────┼───────────┤\n",
       "│ \u001b[32mOwen Lars\u001b[0m │    \u001b[1;36m178\u001b[0m │   \u001b[1;36m120.0\u001b[0m │ \u001b[32mbrown     \u001b[0m │ \u001b[32mlight     \u001b[0m │ \u001b[32mblue     \u001b[0m │       \u001b[1;36m52.0\u001b[0m │ \u001b[32mmale  \u001b[0m │ \u001b[32mmasculine\u001b[0m │ \u001b[32mTatooine \u001b[0m │ \u001b[32mHuman  \u001b[0m │ \u001b[2mNULL\u001b[0m   │ \u001b[2mNULL\u001b[0m     │ \u001b[2mNULL\u001b[0m      │\n",
       "│ \u001b[32mOwen Lars\u001b[0m │    \u001b[1;36m178\u001b[0m │   \u001b[1;36m120.0\u001b[0m │ \u001b[32m grey     \u001b[0m │ \u001b[32mlight     \u001b[0m │ \u001b[32mblue     \u001b[0m │       \u001b[1;36m52.0\u001b[0m │ \u001b[32mmale  \u001b[0m │ \u001b[32mmasculine\u001b[0m │ \u001b[32mTatooine \u001b[0m │ \u001b[32mHuman  \u001b[0m │ \u001b[2mNULL\u001b[0m   │ \u001b[2mNULL\u001b[0m     │ \u001b[2mNULL\u001b[0m      │\n",
       "│ \u001b[32mChewbacca\u001b[0m │    \u001b[1;36m228\u001b[0m │   \u001b[1;36m112.0\u001b[0m │ \u001b[32mbrown     \u001b[0m │ \u001b[32munknown   \u001b[0m │ \u001b[32mblue     \u001b[0m │      \u001b[1;36m200.0\u001b[0m │ \u001b[32mmale  \u001b[0m │ \u001b[32mmasculine\u001b[0m │ \u001b[32mKashyyyk \u001b[0m │ \u001b[32mWookiee\u001b[0m │ \u001b[2mNULL\u001b[0m   │ \u001b[2mNULL\u001b[0m     │ \u001b[2mNULL\u001b[0m      │\n",
       "└───────────┴────────┴─────────┴────────────┴────────────┴───────────┴────────────┴────────┴───────────┴───────────┴─────────┴────────┴──────────┴───────────┘"
      ]
     },
     "execution_count": 7,
     "metadata": {},
     "output_type": "execute_result"
    }
   ],
   "source": [
    "M = 100\n",
    "_df = (\n",
    "    df\n",
    "    .rename(\"snake_case\")\n",
    "    .filter(_.height > 100)\n",
    "    .filter(_.mass > M)\n",
    "    .filter(_.hair_color.contains(\"brown\"))\n",
    "    .filter(_.sex.notnull())\n",
    "    .mutate(hair_color = _.hair_color.split(\",\"))\n",
    "    .unnest(_.hair_color)\n",
    "    .drop_null(_.birth_year)\n",
    ")\n",
    "\n",
    "_df"
   ]
  },
  {
   "cell_type": "code",
   "execution_count": null,
   "id": "e4267377-75bb-4f99-a678-43cb4b58dc5f",
   "metadata": {},
   "outputs": [],
   "source": []
  }
 ],
 "metadata": {
  "kernelspec": {
   "display_name": "Python (local .venv)",
   "language": "python",
   "name": "python-localvenv"
  },
  "language_info": {
   "codemirror_mode": {
    "name": "ipython",
    "version": 3
   },
   "file_extension": ".py",
   "mimetype": "text/x-python",
   "name": "python",
   "nbconvert_exporter": "python",
   "pygments_lexer": "ipython3",
   "version": "3.12.5"
  },
  "widgets": {
   "application/vnd.jupyter.widget-state+json": {
    "state": {},
    "version_major": 2,
    "version_minor": 0
   }
  }
 },
 "nbformat": 4,
 "nbformat_minor": 5
}
