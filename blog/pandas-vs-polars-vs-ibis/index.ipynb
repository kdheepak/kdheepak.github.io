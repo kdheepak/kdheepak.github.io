{
 "cells": [
  {
   "cell_type": "raw",
   "id": "3a4eaf03-065d-4953-9389-27b0bbfd9a07",
   "metadata": {},
   "source": [
    "---\n",
    "title: \"Pandas vs Polars vs ibis\"\n",
    "date: 2024-08-25T10:22:45-0400\n",
    "categories: [python]\n",
    "summary: \"A short comparison of idiomatic pandas vs polars vs ibis with method chaining\"\n",
    "---"
   ]
  },
  {
   "cell_type": "markdown",
   "id": "86f28f6e-7299-4902-bf0e-c3a5950fdc67",
   "metadata": {},
   "source": [
    "This is a short comparison of idiomatic `pandas`, `polars` and `ibis`, all using method chaining."
   ]
  },
  {
   "cell_type": "code",
   "execution_count": 1,
   "id": "74cba5fa-f5a7-45e5-be52-77fedb3b7f94",
   "metadata": {
    "execution": {
     "iopub.execute_input": "2024-08-25T14:58:41.437830Z",
     "iopub.status.busy": "2024-08-25T14:58:41.437054Z",
     "iopub.status.idle": "2024-08-25T14:58:41.450419Z",
     "shell.execute_reply": "2024-08-25T14:58:41.449767Z",
     "shell.execute_reply.started": "2024-08-25T14:58:41.437786Z"
    }
   },
   "outputs": [
    {
     "data": {
      "text/plain": [
       "sys.version_info(major=3, minor=12, micro=5, releaselevel='final', serial=0)"
      ]
     },
     "execution_count": 1,
     "metadata": {},
     "output_type": "execute_result"
    }
   ],
   "source": [
    "import sys\n",
    "\n",
    "sys.version_info"
   ]
  },
  {
   "cell_type": "code",
   "execution_count": 2,
   "id": "e31fe4a9-6232-41ed-9bdb-ce77b60cb1f8",
   "metadata": {
    "execution": {
     "iopub.execute_input": "2024-08-25T14:58:48.443075Z",
     "iopub.status.busy": "2024-08-25T14:58:48.442565Z",
     "iopub.status.idle": "2024-08-25T14:58:48.614759Z",
     "shell.execute_reply": "2024-08-25T14:58:48.614403Z",
     "shell.execute_reply.started": "2024-08-25T14:58:48.443046Z"
    }
   },
   "outputs": [],
   "source": [
    "import ibis\n",
    "from ibis import _"
   ]
  },
  {
   "cell_type": "code",
   "execution_count": 3,
   "id": "04bfebcc-d822-4840-9186-87a491fdf4f2",
   "metadata": {
    "execution": {
     "iopub.execute_input": "2024-08-25T14:58:49.396254Z",
     "iopub.status.busy": "2024-08-25T14:58:49.395533Z",
     "iopub.status.idle": "2024-08-25T14:58:49.405447Z",
     "shell.execute_reply": "2024-08-25T14:58:49.404760Z",
     "shell.execute_reply.started": "2024-08-25T14:58:49.396223Z"
    }
   },
   "outputs": [
    {
     "data": {
      "text/plain": [
       "'9.3.0'"
      ]
     },
     "execution_count": 3,
     "metadata": {},
     "output_type": "execute_result"
    }
   ],
   "source": [
    "ibis.__version__"
   ]
  },
  {
   "cell_type": "code",
   "execution_count": 4,
   "id": "7adfa779-85b3-4b22-ba54-df4ffdb516c7",
   "metadata": {
    "execution": {
     "iopub.execute_input": "2024-08-25T14:58:50.273847Z",
     "iopub.status.busy": "2024-08-25T14:58:50.272375Z",
     "iopub.status.idle": "2024-08-25T14:58:50.279621Z",
     "shell.execute_reply": "2024-08-25T14:58:50.278976Z",
     "shell.execute_reply.started": "2024-08-25T14:58:50.273795Z"
    }
   },
   "outputs": [],
   "source": [
    "ibis.options.interactive = True"
   ]
  },
  {
   "cell_type": "code",
   "execution_count": 5,
   "id": "5b71ec6e-dc74-48be-918f-ca10a74f4c4a",
   "metadata": {
    "execution": {
     "iopub.execute_input": "2024-08-25T14:58:50.850297Z",
     "iopub.status.busy": "2024-08-25T14:58:50.849673Z",
     "iopub.status.idle": "2024-08-25T14:58:51.729494Z",
     "shell.execute_reply": "2024-08-25T14:58:51.728408Z",
     "shell.execute_reply.started": "2024-08-25T14:58:50.850265Z"
    }
   },
   "outputs": [],
   "source": [
    "df = ibis.examples.starwars.fetch()"
   ]
  },
  {
   "cell_type": "code",
   "execution_count": 6,
   "id": "33a17361-1073-401b-ada2-4b56690a983b",
   "metadata": {
    "execution": {
     "iopub.execute_input": "2024-08-25T14:58:52.131627Z",
     "iopub.status.busy": "2024-08-25T14:58:52.130640Z",
     "iopub.status.idle": "2024-08-25T14:58:52.186023Z",
     "shell.execute_reply": "2024-08-25T14:58:52.185485Z",
     "shell.execute_reply.started": "2024-08-25T14:58:52.131587Z"
    }
   },
   "outputs": [
    {
     "data": {
      "text/html": [
       "<pre style=\"white-space:pre;overflow-x:auto;line-height:normal;font-family:Menlo,'DejaVu Sans Mono',consolas,'Courier New',monospace\">┏━━━━━━━━━━━━━━━━━━━━┳━━━━━━━━┳━━━━━━━━━┳━━━━━━━━━━━━━━━┳━━━━━━━━━━━━━┳━━━━━━━━━━━┳━━━━━━━━━━━━┳━━━━━━━━┳━━━━━━━━━━━┳━━━━━━━━━━━┳━━━━━━━━━┳━━━━━━━━┳━━━━━━━━━━┳━━━━━━━━━━━┓\n",
       "┃<span style=\"font-weight: bold\"> name               </span>┃<span style=\"font-weight: bold\"> height </span>┃<span style=\"font-weight: bold\"> mass    </span>┃<span style=\"font-weight: bold\"> hair_color    </span>┃<span style=\"font-weight: bold\"> skin_color  </span>┃<span style=\"font-weight: bold\"> eye_color </span>┃<span style=\"font-weight: bold\"> birth_year </span>┃<span style=\"font-weight: bold\"> sex    </span>┃<span style=\"font-weight: bold\"> gender    </span>┃<span style=\"font-weight: bold\"> homeworld </span>┃<span style=\"font-weight: bold\"> species </span>┃<span style=\"font-weight: bold\"> films  </span>┃<span style=\"font-weight: bold\"> vehicles </span>┃<span style=\"font-weight: bold\"> starships </span>┃\n",
       "┡━━━━━━━━━━━━━━━━━━━━╇━━━━━━━━╇━━━━━━━━━╇━━━━━━━━━━━━━━━╇━━━━━━━━━━━━━╇━━━━━━━━━━━╇━━━━━━━━━━━━╇━━━━━━━━╇━━━━━━━━━━━╇━━━━━━━━━━━╇━━━━━━━━━╇━━━━━━━━╇━━━━━━━━━━╇━━━━━━━━━━━┩\n",
       "│ <span style=\"color: #7f7f7f; text-decoration-color: #7f7f7f\">string</span>             │ <span style=\"color: #7f7f7f; text-decoration-color: #7f7f7f\">int64</span>  │ <span style=\"color: #7f7f7f; text-decoration-color: #7f7f7f\">float64</span> │ <span style=\"color: #7f7f7f; text-decoration-color: #7f7f7f\">string</span>        │ <span style=\"color: #7f7f7f; text-decoration-color: #7f7f7f\">string</span>      │ <span style=\"color: #7f7f7f; text-decoration-color: #7f7f7f\">string</span>    │ <span style=\"color: #7f7f7f; text-decoration-color: #7f7f7f\">float64</span>    │ <span style=\"color: #7f7f7f; text-decoration-color: #7f7f7f\">string</span> │ <span style=\"color: #7f7f7f; text-decoration-color: #7f7f7f\">string</span>    │ <span style=\"color: #7f7f7f; text-decoration-color: #7f7f7f\">string</span>    │ <span style=\"color: #7f7f7f; text-decoration-color: #7f7f7f\">string</span>  │ <span style=\"color: #7f7f7f; text-decoration-color: #7f7f7f\">string</span> │ <span style=\"color: #7f7f7f; text-decoration-color: #7f7f7f\">string</span>   │ <span style=\"color: #7f7f7f; text-decoration-color: #7f7f7f\">string</span>    │\n",
       "├────────────────────┼────────┼─────────┼───────────────┼─────────────┼───────────┼────────────┼────────┼───────────┼───────────┼─────────┼────────┼──────────┼───────────┤\n",
       "│ <span style=\"color: #008000; text-decoration-color: #008000\">Luke Skywalker    </span> │    <span style=\"color: #008080; text-decoration-color: #008080; font-weight: bold\">172</span> │    <span style=\"color: #008080; text-decoration-color: #008080; font-weight: bold\">77.0</span> │ <span style=\"color: #008000; text-decoration-color: #008000\">blond        </span> │ <span style=\"color: #008000; text-decoration-color: #008000\">fair       </span> │ <span style=\"color: #008000; text-decoration-color: #008000\">blue     </span> │       <span style=\"color: #008080; text-decoration-color: #008080; font-weight: bold\">19.0</span> │ <span style=\"color: #008000; text-decoration-color: #008000\">male  </span> │ <span style=\"color: #008000; text-decoration-color: #008000\">masculine</span> │ <span style=\"color: #008000; text-decoration-color: #008000\">Tatooine </span> │ <span style=\"color: #008000; text-decoration-color: #008000\">Human  </span> │ <span style=\"color: #7f7f7f; text-decoration-color: #7f7f7f\">NULL</span>   │ <span style=\"color: #7f7f7f; text-decoration-color: #7f7f7f\">NULL</span>     │ <span style=\"color: #7f7f7f; text-decoration-color: #7f7f7f\">NULL</span>      │\n",
       "│ <span style=\"color: #008000; text-decoration-color: #008000\">C-3PO             </span> │    <span style=\"color: #008080; text-decoration-color: #008080; font-weight: bold\">167</span> │    <span style=\"color: #008080; text-decoration-color: #008080; font-weight: bold\">75.0</span> │ <span style=\"color: #7f7f7f; text-decoration-color: #7f7f7f\">NULL</span>          │ <span style=\"color: #008000; text-decoration-color: #008000\">gold       </span> │ <span style=\"color: #008000; text-decoration-color: #008000\">yellow   </span> │      <span style=\"color: #008080; text-decoration-color: #008080; font-weight: bold\">112.0</span> │ <span style=\"color: #008000; text-decoration-color: #008000\">none  </span> │ <span style=\"color: #008000; text-decoration-color: #008000\">masculine</span> │ <span style=\"color: #008000; text-decoration-color: #008000\">Tatooine </span> │ <span style=\"color: #008000; text-decoration-color: #008000\">Droid  </span> │ <span style=\"color: #7f7f7f; text-decoration-color: #7f7f7f\">NULL</span>   │ <span style=\"color: #7f7f7f; text-decoration-color: #7f7f7f\">NULL</span>     │ <span style=\"color: #7f7f7f; text-decoration-color: #7f7f7f\">NULL</span>      │\n",
       "│ <span style=\"color: #008000; text-decoration-color: #008000\">R2-D2             </span> │     <span style=\"color: #008080; text-decoration-color: #008080; font-weight: bold\">96</span> │    <span style=\"color: #008080; text-decoration-color: #008080; font-weight: bold\">32.0</span> │ <span style=\"color: #7f7f7f; text-decoration-color: #7f7f7f\">NULL</span>          │ <span style=\"color: #008000; text-decoration-color: #008000\">white, blue</span> │ <span style=\"color: #008000; text-decoration-color: #008000\">red      </span> │       <span style=\"color: #008080; text-decoration-color: #008080; font-weight: bold\">33.0</span> │ <span style=\"color: #008000; text-decoration-color: #008000\">none  </span> │ <span style=\"color: #008000; text-decoration-color: #008000\">masculine</span> │ <span style=\"color: #008000; text-decoration-color: #008000\">Naboo    </span> │ <span style=\"color: #008000; text-decoration-color: #008000\">Droid  </span> │ <span style=\"color: #7f7f7f; text-decoration-color: #7f7f7f\">NULL</span>   │ <span style=\"color: #7f7f7f; text-decoration-color: #7f7f7f\">NULL</span>     │ <span style=\"color: #7f7f7f; text-decoration-color: #7f7f7f\">NULL</span>      │\n",
       "│ <span style=\"color: #008000; text-decoration-color: #008000\">Darth Vader       </span> │    <span style=\"color: #008080; text-decoration-color: #008080; font-weight: bold\">202</span> │   <span style=\"color: #008080; text-decoration-color: #008080; font-weight: bold\">136.0</span> │ <span style=\"color: #008000; text-decoration-color: #008000\">none         </span> │ <span style=\"color: #008000; text-decoration-color: #008000\">white      </span> │ <span style=\"color: #008000; text-decoration-color: #008000\">yellow   </span> │       <span style=\"color: #008080; text-decoration-color: #008080; font-weight: bold\">41.9</span> │ <span style=\"color: #008000; text-decoration-color: #008000\">male  </span> │ <span style=\"color: #008000; text-decoration-color: #008000\">masculine</span> │ <span style=\"color: #008000; text-decoration-color: #008000\">Tatooine </span> │ <span style=\"color: #008000; text-decoration-color: #008000\">Human  </span> │ <span style=\"color: #7f7f7f; text-decoration-color: #7f7f7f\">NULL</span>   │ <span style=\"color: #7f7f7f; text-decoration-color: #7f7f7f\">NULL</span>     │ <span style=\"color: #7f7f7f; text-decoration-color: #7f7f7f\">NULL</span>      │\n",
       "│ <span style=\"color: #008000; text-decoration-color: #008000\">Leia Organa       </span> │    <span style=\"color: #008080; text-decoration-color: #008080; font-weight: bold\">150</span> │    <span style=\"color: #008080; text-decoration-color: #008080; font-weight: bold\">49.0</span> │ <span style=\"color: #008000; text-decoration-color: #008000\">brown        </span> │ <span style=\"color: #008000; text-decoration-color: #008000\">light      </span> │ <span style=\"color: #008000; text-decoration-color: #008000\">brown    </span> │       <span style=\"color: #008080; text-decoration-color: #008080; font-weight: bold\">19.0</span> │ <span style=\"color: #008000; text-decoration-color: #008000\">female</span> │ <span style=\"color: #008000; text-decoration-color: #008000\">feminine </span> │ <span style=\"color: #008000; text-decoration-color: #008000\">Alderaan </span> │ <span style=\"color: #008000; text-decoration-color: #008000\">Human  </span> │ <span style=\"color: #7f7f7f; text-decoration-color: #7f7f7f\">NULL</span>   │ <span style=\"color: #7f7f7f; text-decoration-color: #7f7f7f\">NULL</span>     │ <span style=\"color: #7f7f7f; text-decoration-color: #7f7f7f\">NULL</span>      │\n",
       "│ <span style=\"color: #008000; text-decoration-color: #008000\">Owen Lars         </span> │    <span style=\"color: #008080; text-decoration-color: #008080; font-weight: bold\">178</span> │   <span style=\"color: #008080; text-decoration-color: #008080; font-weight: bold\">120.0</span> │ <span style=\"color: #008000; text-decoration-color: #008000\">brown, grey  </span> │ <span style=\"color: #008000; text-decoration-color: #008000\">light      </span> │ <span style=\"color: #008000; text-decoration-color: #008000\">blue     </span> │       <span style=\"color: #008080; text-decoration-color: #008080; font-weight: bold\">52.0</span> │ <span style=\"color: #008000; text-decoration-color: #008000\">male  </span> │ <span style=\"color: #008000; text-decoration-color: #008000\">masculine</span> │ <span style=\"color: #008000; text-decoration-color: #008000\">Tatooine </span> │ <span style=\"color: #008000; text-decoration-color: #008000\">Human  </span> │ <span style=\"color: #7f7f7f; text-decoration-color: #7f7f7f\">NULL</span>   │ <span style=\"color: #7f7f7f; text-decoration-color: #7f7f7f\">NULL</span>     │ <span style=\"color: #7f7f7f; text-decoration-color: #7f7f7f\">NULL</span>      │\n",
       "│ <span style=\"color: #008000; text-decoration-color: #008000\">Beru Whitesun Lars</span> │    <span style=\"color: #008080; text-decoration-color: #008080; font-weight: bold\">165</span> │    <span style=\"color: #008080; text-decoration-color: #008080; font-weight: bold\">75.0</span> │ <span style=\"color: #008000; text-decoration-color: #008000\">brown        </span> │ <span style=\"color: #008000; text-decoration-color: #008000\">light      </span> │ <span style=\"color: #008000; text-decoration-color: #008000\">blue     </span> │       <span style=\"color: #008080; text-decoration-color: #008080; font-weight: bold\">47.0</span> │ <span style=\"color: #008000; text-decoration-color: #008000\">female</span> │ <span style=\"color: #008000; text-decoration-color: #008000\">feminine </span> │ <span style=\"color: #008000; text-decoration-color: #008000\">Tatooine </span> │ <span style=\"color: #008000; text-decoration-color: #008000\">Human  </span> │ <span style=\"color: #7f7f7f; text-decoration-color: #7f7f7f\">NULL</span>   │ <span style=\"color: #7f7f7f; text-decoration-color: #7f7f7f\">NULL</span>     │ <span style=\"color: #7f7f7f; text-decoration-color: #7f7f7f\">NULL</span>      │\n",
       "│ <span style=\"color: #008000; text-decoration-color: #008000\">R5-D4             </span> │     <span style=\"color: #008080; text-decoration-color: #008080; font-weight: bold\">97</span> │    <span style=\"color: #008080; text-decoration-color: #008080; font-weight: bold\">32.0</span> │ <span style=\"color: #7f7f7f; text-decoration-color: #7f7f7f\">NULL</span>          │ <span style=\"color: #008000; text-decoration-color: #008000\">white, red </span> │ <span style=\"color: #008000; text-decoration-color: #008000\">red      </span> │       <span style=\"color: #7f7f7f; text-decoration-color: #7f7f7f\">NULL</span> │ <span style=\"color: #008000; text-decoration-color: #008000\">none  </span> │ <span style=\"color: #008000; text-decoration-color: #008000\">masculine</span> │ <span style=\"color: #008000; text-decoration-color: #008000\">Tatooine </span> │ <span style=\"color: #008000; text-decoration-color: #008000\">Droid  </span> │ <span style=\"color: #7f7f7f; text-decoration-color: #7f7f7f\">NULL</span>   │ <span style=\"color: #7f7f7f; text-decoration-color: #7f7f7f\">NULL</span>     │ <span style=\"color: #7f7f7f; text-decoration-color: #7f7f7f\">NULL</span>      │\n",
       "│ <span style=\"color: #008000; text-decoration-color: #008000\">Biggs Darklighter </span> │    <span style=\"color: #008080; text-decoration-color: #008080; font-weight: bold\">183</span> │    <span style=\"color: #008080; text-decoration-color: #008080; font-weight: bold\">84.0</span> │ <span style=\"color: #008000; text-decoration-color: #008000\">black        </span> │ <span style=\"color: #008000; text-decoration-color: #008000\">light      </span> │ <span style=\"color: #008000; text-decoration-color: #008000\">brown    </span> │       <span style=\"color: #008080; text-decoration-color: #008080; font-weight: bold\">24.0</span> │ <span style=\"color: #008000; text-decoration-color: #008000\">male  </span> │ <span style=\"color: #008000; text-decoration-color: #008000\">masculine</span> │ <span style=\"color: #008000; text-decoration-color: #008000\">Tatooine </span> │ <span style=\"color: #008000; text-decoration-color: #008000\">Human  </span> │ <span style=\"color: #7f7f7f; text-decoration-color: #7f7f7f\">NULL</span>   │ <span style=\"color: #7f7f7f; text-decoration-color: #7f7f7f\">NULL</span>     │ <span style=\"color: #7f7f7f; text-decoration-color: #7f7f7f\">NULL</span>      │\n",
       "│ <span style=\"color: #008000; text-decoration-color: #008000\">Obi-Wan Kenobi    </span> │    <span style=\"color: #008080; text-decoration-color: #008080; font-weight: bold\">182</span> │    <span style=\"color: #008080; text-decoration-color: #008080; font-weight: bold\">77.0</span> │ <span style=\"color: #008000; text-decoration-color: #008000\">auburn, white</span> │ <span style=\"color: #008000; text-decoration-color: #008000\">fair       </span> │ <span style=\"color: #008000; text-decoration-color: #008000\">blue-gray</span> │       <span style=\"color: #008080; text-decoration-color: #008080; font-weight: bold\">57.0</span> │ <span style=\"color: #008000; text-decoration-color: #008000\">male  </span> │ <span style=\"color: #008000; text-decoration-color: #008000\">masculine</span> │ <span style=\"color: #008000; text-decoration-color: #008000\">Stewjon  </span> │ <span style=\"color: #008000; text-decoration-color: #008000\">Human  </span> │ <span style=\"color: #7f7f7f; text-decoration-color: #7f7f7f\">NULL</span>   │ <span style=\"color: #7f7f7f; text-decoration-color: #7f7f7f\">NULL</span>     │ <span style=\"color: #7f7f7f; text-decoration-color: #7f7f7f\">NULL</span>      │\n",
       "│ <span style=\"color: #7f7f7f; text-decoration-color: #7f7f7f\">…</span>                  │      <span style=\"color: #7f7f7f; text-decoration-color: #7f7f7f\">…</span> │       <span style=\"color: #7f7f7f; text-decoration-color: #7f7f7f\">…</span> │ <span style=\"color: #7f7f7f; text-decoration-color: #7f7f7f\">…</span>             │ <span style=\"color: #7f7f7f; text-decoration-color: #7f7f7f\">…</span>           │ <span style=\"color: #7f7f7f; text-decoration-color: #7f7f7f\">…</span>         │          <span style=\"color: #7f7f7f; text-decoration-color: #7f7f7f\">…</span> │ <span style=\"color: #7f7f7f; text-decoration-color: #7f7f7f\">…</span>      │ <span style=\"color: #7f7f7f; text-decoration-color: #7f7f7f\">…</span>         │ <span style=\"color: #7f7f7f; text-decoration-color: #7f7f7f\">…</span>         │ <span style=\"color: #7f7f7f; text-decoration-color: #7f7f7f\">…</span>       │ <span style=\"color: #7f7f7f; text-decoration-color: #7f7f7f\">…</span>      │ <span style=\"color: #7f7f7f; text-decoration-color: #7f7f7f\">…</span>        │ <span style=\"color: #7f7f7f; text-decoration-color: #7f7f7f\">…</span>         │\n",
       "└────────────────────┴────────┴─────────┴───────────────┴─────────────┴───────────┴────────────┴────────┴───────────┴───────────┴─────────┴────────┴──────────┴───────────┘\n",
       "</pre>\n"
      ],
      "text/plain": [
       "┏━━━━━━━━━━━━━━━━━━━━┳━━━━━━━━┳━━━━━━━━━┳━━━━━━━━━━━━━━━┳━━━━━━━━━━━━━┳━━━━━━━━━━━┳━━━━━━━━━━━━┳━━━━━━━━┳━━━━━━━━━━━┳━━━━━━━━━━━┳━━━━━━━━━┳━━━━━━━━┳━━━━━━━━━━┳━━━━━━━━━━━┓\n",
       "┃\u001b[1m \u001b[0m\u001b[1mname\u001b[0m\u001b[1m              \u001b[0m\u001b[1m \u001b[0m┃\u001b[1m \u001b[0m\u001b[1mheight\u001b[0m\u001b[1m \u001b[0m┃\u001b[1m \u001b[0m\u001b[1mmass\u001b[0m\u001b[1m   \u001b[0m\u001b[1m \u001b[0m┃\u001b[1m \u001b[0m\u001b[1mhair_color\u001b[0m\u001b[1m   \u001b[0m\u001b[1m \u001b[0m┃\u001b[1m \u001b[0m\u001b[1mskin_color\u001b[0m\u001b[1m \u001b[0m\u001b[1m \u001b[0m┃\u001b[1m \u001b[0m\u001b[1meye_color\u001b[0m\u001b[1m \u001b[0m┃\u001b[1m \u001b[0m\u001b[1mbirth_year\u001b[0m\u001b[1m \u001b[0m┃\u001b[1m \u001b[0m\u001b[1msex\u001b[0m\u001b[1m   \u001b[0m\u001b[1m \u001b[0m┃\u001b[1m \u001b[0m\u001b[1mgender\u001b[0m\u001b[1m   \u001b[0m\u001b[1m \u001b[0m┃\u001b[1m \u001b[0m\u001b[1mhomeworld\u001b[0m\u001b[1m \u001b[0m┃\u001b[1m \u001b[0m\u001b[1mspecies\u001b[0m\u001b[1m \u001b[0m┃\u001b[1m \u001b[0m\u001b[1mfilms\u001b[0m\u001b[1m \u001b[0m\u001b[1m \u001b[0m┃\u001b[1m \u001b[0m\u001b[1mvehicles\u001b[0m\u001b[1m \u001b[0m┃\u001b[1m \u001b[0m\u001b[1mstarships\u001b[0m\u001b[1m \u001b[0m┃\n",
       "┡━━━━━━━━━━━━━━━━━━━━╇━━━━━━━━╇━━━━━━━━━╇━━━━━━━━━━━━━━━╇━━━━━━━━━━━━━╇━━━━━━━━━━━╇━━━━━━━━━━━━╇━━━━━━━━╇━━━━━━━━━━━╇━━━━━━━━━━━╇━━━━━━━━━╇━━━━━━━━╇━━━━━━━━━━╇━━━━━━━━━━━┩\n",
       "│ \u001b[2mstring\u001b[0m             │ \u001b[2mint64\u001b[0m  │ \u001b[2mfloat64\u001b[0m │ \u001b[2mstring\u001b[0m        │ \u001b[2mstring\u001b[0m      │ \u001b[2mstring\u001b[0m    │ \u001b[2mfloat64\u001b[0m    │ \u001b[2mstring\u001b[0m │ \u001b[2mstring\u001b[0m    │ \u001b[2mstring\u001b[0m    │ \u001b[2mstring\u001b[0m  │ \u001b[2mstring\u001b[0m │ \u001b[2mstring\u001b[0m   │ \u001b[2mstring\u001b[0m    │\n",
       "├────────────────────┼────────┼─────────┼───────────────┼─────────────┼───────────┼────────────┼────────┼───────────┼───────────┼─────────┼────────┼──────────┼───────────┤\n",
       "│ \u001b[32mLuke Skywalker    \u001b[0m │    \u001b[1;36m172\u001b[0m │    \u001b[1;36m77.0\u001b[0m │ \u001b[32mblond        \u001b[0m │ \u001b[32mfair       \u001b[0m │ \u001b[32mblue     \u001b[0m │       \u001b[1;36m19.0\u001b[0m │ \u001b[32mmale  \u001b[0m │ \u001b[32mmasculine\u001b[0m │ \u001b[32mTatooine \u001b[0m │ \u001b[32mHuman  \u001b[0m │ \u001b[2mNULL\u001b[0m   │ \u001b[2mNULL\u001b[0m     │ \u001b[2mNULL\u001b[0m      │\n",
       "│ \u001b[32mC-3PO             \u001b[0m │    \u001b[1;36m167\u001b[0m │    \u001b[1;36m75.0\u001b[0m │ \u001b[2mNULL\u001b[0m          │ \u001b[32mgold       \u001b[0m │ \u001b[32myellow   \u001b[0m │      \u001b[1;36m112.0\u001b[0m │ \u001b[32mnone  \u001b[0m │ \u001b[32mmasculine\u001b[0m │ \u001b[32mTatooine \u001b[0m │ \u001b[32mDroid  \u001b[0m │ \u001b[2mNULL\u001b[0m   │ \u001b[2mNULL\u001b[0m     │ \u001b[2mNULL\u001b[0m      │\n",
       "│ \u001b[32mR2-D2             \u001b[0m │     \u001b[1;36m96\u001b[0m │    \u001b[1;36m32.0\u001b[0m │ \u001b[2mNULL\u001b[0m          │ \u001b[32mwhite, blue\u001b[0m │ \u001b[32mred      \u001b[0m │       \u001b[1;36m33.0\u001b[0m │ \u001b[32mnone  \u001b[0m │ \u001b[32mmasculine\u001b[0m │ \u001b[32mNaboo    \u001b[0m │ \u001b[32mDroid  \u001b[0m │ \u001b[2mNULL\u001b[0m   │ \u001b[2mNULL\u001b[0m     │ \u001b[2mNULL\u001b[0m      │\n",
       "│ \u001b[32mDarth Vader       \u001b[0m │    \u001b[1;36m202\u001b[0m │   \u001b[1;36m136.0\u001b[0m │ \u001b[32mnone         \u001b[0m │ \u001b[32mwhite      \u001b[0m │ \u001b[32myellow   \u001b[0m │       \u001b[1;36m41.9\u001b[0m │ \u001b[32mmale  \u001b[0m │ \u001b[32mmasculine\u001b[0m │ \u001b[32mTatooine \u001b[0m │ \u001b[32mHuman  \u001b[0m │ \u001b[2mNULL\u001b[0m   │ \u001b[2mNULL\u001b[0m     │ \u001b[2mNULL\u001b[0m      │\n",
       "│ \u001b[32mLeia Organa       \u001b[0m │    \u001b[1;36m150\u001b[0m │    \u001b[1;36m49.0\u001b[0m │ \u001b[32mbrown        \u001b[0m │ \u001b[32mlight      \u001b[0m │ \u001b[32mbrown    \u001b[0m │       \u001b[1;36m19.0\u001b[0m │ \u001b[32mfemale\u001b[0m │ \u001b[32mfeminine \u001b[0m │ \u001b[32mAlderaan \u001b[0m │ \u001b[32mHuman  \u001b[0m │ \u001b[2mNULL\u001b[0m   │ \u001b[2mNULL\u001b[0m     │ \u001b[2mNULL\u001b[0m      │\n",
       "│ \u001b[32mOwen Lars         \u001b[0m │    \u001b[1;36m178\u001b[0m │   \u001b[1;36m120.0\u001b[0m │ \u001b[32mbrown, grey  \u001b[0m │ \u001b[32mlight      \u001b[0m │ \u001b[32mblue     \u001b[0m │       \u001b[1;36m52.0\u001b[0m │ \u001b[32mmale  \u001b[0m │ \u001b[32mmasculine\u001b[0m │ \u001b[32mTatooine \u001b[0m │ \u001b[32mHuman  \u001b[0m │ \u001b[2mNULL\u001b[0m   │ \u001b[2mNULL\u001b[0m     │ \u001b[2mNULL\u001b[0m      │\n",
       "│ \u001b[32mBeru Whitesun Lars\u001b[0m │    \u001b[1;36m165\u001b[0m │    \u001b[1;36m75.0\u001b[0m │ \u001b[32mbrown        \u001b[0m │ \u001b[32mlight      \u001b[0m │ \u001b[32mblue     \u001b[0m │       \u001b[1;36m47.0\u001b[0m │ \u001b[32mfemale\u001b[0m │ \u001b[32mfeminine \u001b[0m │ \u001b[32mTatooine \u001b[0m │ \u001b[32mHuman  \u001b[0m │ \u001b[2mNULL\u001b[0m   │ \u001b[2mNULL\u001b[0m     │ \u001b[2mNULL\u001b[0m      │\n",
       "│ \u001b[32mR5-D4             \u001b[0m │     \u001b[1;36m97\u001b[0m │    \u001b[1;36m32.0\u001b[0m │ \u001b[2mNULL\u001b[0m          │ \u001b[32mwhite, red \u001b[0m │ \u001b[32mred      \u001b[0m │       \u001b[2mNULL\u001b[0m │ \u001b[32mnone  \u001b[0m │ \u001b[32mmasculine\u001b[0m │ \u001b[32mTatooine \u001b[0m │ \u001b[32mDroid  \u001b[0m │ \u001b[2mNULL\u001b[0m   │ \u001b[2mNULL\u001b[0m     │ \u001b[2mNULL\u001b[0m      │\n",
       "│ \u001b[32mBiggs Darklighter \u001b[0m │    \u001b[1;36m183\u001b[0m │    \u001b[1;36m84.0\u001b[0m │ \u001b[32mblack        \u001b[0m │ \u001b[32mlight      \u001b[0m │ \u001b[32mbrown    \u001b[0m │       \u001b[1;36m24.0\u001b[0m │ \u001b[32mmale  \u001b[0m │ \u001b[32mmasculine\u001b[0m │ \u001b[32mTatooine \u001b[0m │ \u001b[32mHuman  \u001b[0m │ \u001b[2mNULL\u001b[0m   │ \u001b[2mNULL\u001b[0m     │ \u001b[2mNULL\u001b[0m      │\n",
       "│ \u001b[32mObi-Wan Kenobi    \u001b[0m │    \u001b[1;36m182\u001b[0m │    \u001b[1;36m77.0\u001b[0m │ \u001b[32mauburn, white\u001b[0m │ \u001b[32mfair       \u001b[0m │ \u001b[32mblue-gray\u001b[0m │       \u001b[1;36m57.0\u001b[0m │ \u001b[32mmale  \u001b[0m │ \u001b[32mmasculine\u001b[0m │ \u001b[32mStewjon  \u001b[0m │ \u001b[32mHuman  \u001b[0m │ \u001b[2mNULL\u001b[0m   │ \u001b[2mNULL\u001b[0m     │ \u001b[2mNULL\u001b[0m      │\n",
       "│ \u001b[2m…\u001b[0m                  │      \u001b[2m…\u001b[0m │       \u001b[2m…\u001b[0m │ \u001b[2m…\u001b[0m             │ \u001b[2m…\u001b[0m           │ \u001b[2m…\u001b[0m         │          \u001b[2m…\u001b[0m │ \u001b[2m…\u001b[0m      │ \u001b[2m…\u001b[0m         │ \u001b[2m…\u001b[0m         │ \u001b[2m…\u001b[0m       │ \u001b[2m…\u001b[0m      │ \u001b[2m…\u001b[0m        │ \u001b[2m…\u001b[0m         │\n",
       "└────────────────────┴────────┴─────────┴───────────────┴─────────────┴───────────┴────────────┴────────┴───────────┴───────────┴─────────┴────────┴──────────┴───────────┘"
      ]
     },
     "execution_count": 6,
     "metadata": {},
     "output_type": "execute_result"
    }
   ],
   "source": [
    "df"
   ]
  },
  {
   "cell_type": "code",
   "execution_count": 7,
   "id": "c1611af7-18ae-44a1-b584-ce86887428eb",
   "metadata": {
    "execution": {
     "iopub.execute_input": "2024-08-25T14:58:52.882136Z",
     "iopub.status.busy": "2024-08-25T14:58:52.881816Z",
     "iopub.status.idle": "2024-08-25T14:58:52.924622Z",
     "shell.execute_reply": "2024-08-25T14:58:52.924332Z",
     "shell.execute_reply.started": "2024-08-25T14:58:52.882115Z"
    }
   },
   "outputs": [
    {
     "data": {
      "text/html": [
       "<pre style=\"white-space:pre;overflow-x:auto;line-height:normal;font-family:Menlo,'DejaVu Sans Mono',consolas,'Courier New',monospace\">┏━━━━━━━━━━━┳━━━━━━━━┳━━━━━━━━━┳━━━━━━━━━━━━┳━━━━━━━━━━━━┳━━━━━━━━━━━┳━━━━━━━━━━━━┳━━━━━━━━┳━━━━━━━━━━━┳━━━━━━━━━━━┳━━━━━━━━━┳━━━━━━━━┳━━━━━━━━━━┳━━━━━━━━━━━┓\n",
       "┃<span style=\"font-weight: bold\"> name      </span>┃<span style=\"font-weight: bold\"> height </span>┃<span style=\"font-weight: bold\"> mass    </span>┃<span style=\"font-weight: bold\"> hair_color </span>┃<span style=\"font-weight: bold\"> skin_color </span>┃<span style=\"font-weight: bold\"> eye_color </span>┃<span style=\"font-weight: bold\"> birth_year </span>┃<span style=\"font-weight: bold\"> sex    </span>┃<span style=\"font-weight: bold\"> gender    </span>┃<span style=\"font-weight: bold\"> homeworld </span>┃<span style=\"font-weight: bold\"> species </span>┃<span style=\"font-weight: bold\"> films  </span>┃<span style=\"font-weight: bold\"> vehicles </span>┃<span style=\"font-weight: bold\"> starships </span>┃\n",
       "┡━━━━━━━━━━━╇━━━━━━━━╇━━━━━━━━━╇━━━━━━━━━━━━╇━━━━━━━━━━━━╇━━━━━━━━━━━╇━━━━━━━━━━━━╇━━━━━━━━╇━━━━━━━━━━━╇━━━━━━━━━━━╇━━━━━━━━━╇━━━━━━━━╇━━━━━━━━━━╇━━━━━━━━━━━┩\n",
       "│ <span style=\"color: #7f7f7f; text-decoration-color: #7f7f7f\">string</span>    │ <span style=\"color: #7f7f7f; text-decoration-color: #7f7f7f\">int64</span>  │ <span style=\"color: #7f7f7f; text-decoration-color: #7f7f7f\">float64</span> │ <span style=\"color: #7f7f7f; text-decoration-color: #7f7f7f\">string</span>     │ <span style=\"color: #7f7f7f; text-decoration-color: #7f7f7f\">string</span>     │ <span style=\"color: #7f7f7f; text-decoration-color: #7f7f7f\">string</span>    │ <span style=\"color: #7f7f7f; text-decoration-color: #7f7f7f\">float64</span>    │ <span style=\"color: #7f7f7f; text-decoration-color: #7f7f7f\">string</span> │ <span style=\"color: #7f7f7f; text-decoration-color: #7f7f7f\">string</span>    │ <span style=\"color: #7f7f7f; text-decoration-color: #7f7f7f\">string</span>    │ <span style=\"color: #7f7f7f; text-decoration-color: #7f7f7f\">string</span>  │ <span style=\"color: #7f7f7f; text-decoration-color: #7f7f7f\">string</span> │ <span style=\"color: #7f7f7f; text-decoration-color: #7f7f7f\">string</span>   │ <span style=\"color: #7f7f7f; text-decoration-color: #7f7f7f\">string</span>    │\n",
       "├───────────┼────────┼─────────┼────────────┼────────────┼───────────┼────────────┼────────┼───────────┼───────────┼─────────┼────────┼──────────┼───────────┤\n",
       "│ <span style=\"color: #008000; text-decoration-color: #008000\">Owen Lars</span> │    <span style=\"color: #008080; text-decoration-color: #008080; font-weight: bold\">178</span> │   <span style=\"color: #008080; text-decoration-color: #008080; font-weight: bold\">120.0</span> │ <span style=\"color: #008000; text-decoration-color: #008000\">brown     </span> │ <span style=\"color: #008000; text-decoration-color: #008000\">light     </span> │ <span style=\"color: #008000; text-decoration-color: #008000\">blue     </span> │       <span style=\"color: #008080; text-decoration-color: #008080; font-weight: bold\">52.0</span> │ <span style=\"color: #008000; text-decoration-color: #008000\">male  </span> │ <span style=\"color: #008000; text-decoration-color: #008000\">masculine</span> │ <span style=\"color: #008000; text-decoration-color: #008000\">Tatooine </span> │ <span style=\"color: #008000; text-decoration-color: #008000\">Human  </span> │ <span style=\"color: #7f7f7f; text-decoration-color: #7f7f7f\">NULL</span>   │ <span style=\"color: #7f7f7f; text-decoration-color: #7f7f7f\">NULL</span>     │ <span style=\"color: #7f7f7f; text-decoration-color: #7f7f7f\">NULL</span>      │\n",
       "│ <span style=\"color: #008000; text-decoration-color: #008000\">Owen Lars</span> │    <span style=\"color: #008080; text-decoration-color: #008080; font-weight: bold\">178</span> │   <span style=\"color: #008080; text-decoration-color: #008080; font-weight: bold\">120.0</span> │ <span style=\"color: #008000; text-decoration-color: #008000\"> grey     </span> │ <span style=\"color: #008000; text-decoration-color: #008000\">light     </span> │ <span style=\"color: #008000; text-decoration-color: #008000\">blue     </span> │       <span style=\"color: #008080; text-decoration-color: #008080; font-weight: bold\">52.0</span> │ <span style=\"color: #008000; text-decoration-color: #008000\">male  </span> │ <span style=\"color: #008000; text-decoration-color: #008000\">masculine</span> │ <span style=\"color: #008000; text-decoration-color: #008000\">Tatooine </span> │ <span style=\"color: #008000; text-decoration-color: #008000\">Human  </span> │ <span style=\"color: #7f7f7f; text-decoration-color: #7f7f7f\">NULL</span>   │ <span style=\"color: #7f7f7f; text-decoration-color: #7f7f7f\">NULL</span>     │ <span style=\"color: #7f7f7f; text-decoration-color: #7f7f7f\">NULL</span>      │\n",
       "│ <span style=\"color: #008000; text-decoration-color: #008000\">Chewbacca</span> │    <span style=\"color: #008080; text-decoration-color: #008080; font-weight: bold\">228</span> │   <span style=\"color: #008080; text-decoration-color: #008080; font-weight: bold\">112.0</span> │ <span style=\"color: #008000; text-decoration-color: #008000\">brown     </span> │ <span style=\"color: #008000; text-decoration-color: #008000\">unknown   </span> │ <span style=\"color: #008000; text-decoration-color: #008000\">blue     </span> │      <span style=\"color: #008080; text-decoration-color: #008080; font-weight: bold\">200.0</span> │ <span style=\"color: #008000; text-decoration-color: #008000\">male  </span> │ <span style=\"color: #008000; text-decoration-color: #008000\">masculine</span> │ <span style=\"color: #008000; text-decoration-color: #008000\">Kashyyyk </span> │ <span style=\"color: #008000; text-decoration-color: #008000\">Wookiee</span> │ <span style=\"color: #7f7f7f; text-decoration-color: #7f7f7f\">NULL</span>   │ <span style=\"color: #7f7f7f; text-decoration-color: #7f7f7f\">NULL</span>     │ <span style=\"color: #7f7f7f; text-decoration-color: #7f7f7f\">NULL</span>      │\n",
       "└───────────┴────────┴─────────┴────────────┴────────────┴───────────┴────────────┴────────┴───────────┴───────────┴─────────┴────────┴──────────┴───────────┘\n",
       "</pre>\n"
      ],
      "text/plain": [
       "┏━━━━━━━━━━━┳━━━━━━━━┳━━━━━━━━━┳━━━━━━━━━━━━┳━━━━━━━━━━━━┳━━━━━━━━━━━┳━━━━━━━━━━━━┳━━━━━━━━┳━━━━━━━━━━━┳━━━━━━━━━━━┳━━━━━━━━━┳━━━━━━━━┳━━━━━━━━━━┳━━━━━━━━━━━┓\n",
       "┃\u001b[1m \u001b[0m\u001b[1mname\u001b[0m\u001b[1m     \u001b[0m\u001b[1m \u001b[0m┃\u001b[1m \u001b[0m\u001b[1mheight\u001b[0m\u001b[1m \u001b[0m┃\u001b[1m \u001b[0m\u001b[1mmass\u001b[0m\u001b[1m   \u001b[0m\u001b[1m \u001b[0m┃\u001b[1m \u001b[0m\u001b[1mhair_color\u001b[0m\u001b[1m \u001b[0m┃\u001b[1m \u001b[0m\u001b[1mskin_color\u001b[0m\u001b[1m \u001b[0m┃\u001b[1m \u001b[0m\u001b[1meye_color\u001b[0m\u001b[1m \u001b[0m┃\u001b[1m \u001b[0m\u001b[1mbirth_year\u001b[0m\u001b[1m \u001b[0m┃\u001b[1m \u001b[0m\u001b[1msex\u001b[0m\u001b[1m   \u001b[0m\u001b[1m \u001b[0m┃\u001b[1m \u001b[0m\u001b[1mgender\u001b[0m\u001b[1m   \u001b[0m\u001b[1m \u001b[0m┃\u001b[1m \u001b[0m\u001b[1mhomeworld\u001b[0m\u001b[1m \u001b[0m┃\u001b[1m \u001b[0m\u001b[1mspecies\u001b[0m\u001b[1m \u001b[0m┃\u001b[1m \u001b[0m\u001b[1mfilms\u001b[0m\u001b[1m \u001b[0m\u001b[1m \u001b[0m┃\u001b[1m \u001b[0m\u001b[1mvehicles\u001b[0m\u001b[1m \u001b[0m┃\u001b[1m \u001b[0m\u001b[1mstarships\u001b[0m\u001b[1m \u001b[0m┃\n",
       "┡━━━━━━━━━━━╇━━━━━━━━╇━━━━━━━━━╇━━━━━━━━━━━━╇━━━━━━━━━━━━╇━━━━━━━━━━━╇━━━━━━━━━━━━╇━━━━━━━━╇━━━━━━━━━━━╇━━━━━━━━━━━╇━━━━━━━━━╇━━━━━━━━╇━━━━━━━━━━╇━━━━━━━━━━━┩\n",
       "│ \u001b[2mstring\u001b[0m    │ \u001b[2mint64\u001b[0m  │ \u001b[2mfloat64\u001b[0m │ \u001b[2mstring\u001b[0m     │ \u001b[2mstring\u001b[0m     │ \u001b[2mstring\u001b[0m    │ \u001b[2mfloat64\u001b[0m    │ \u001b[2mstring\u001b[0m │ \u001b[2mstring\u001b[0m    │ \u001b[2mstring\u001b[0m    │ \u001b[2mstring\u001b[0m  │ \u001b[2mstring\u001b[0m │ \u001b[2mstring\u001b[0m   │ \u001b[2mstring\u001b[0m    │\n",
       "├───────────┼────────┼─────────┼────────────┼────────────┼───────────┼────────────┼────────┼───────────┼───────────┼─────────┼────────┼──────────┼───────────┤\n",
       "│ \u001b[32mOwen Lars\u001b[0m │    \u001b[1;36m178\u001b[0m │   \u001b[1;36m120.0\u001b[0m │ \u001b[32mbrown     \u001b[0m │ \u001b[32mlight     \u001b[0m │ \u001b[32mblue     \u001b[0m │       \u001b[1;36m52.0\u001b[0m │ \u001b[32mmale  \u001b[0m │ \u001b[32mmasculine\u001b[0m │ \u001b[32mTatooine \u001b[0m │ \u001b[32mHuman  \u001b[0m │ \u001b[2mNULL\u001b[0m   │ \u001b[2mNULL\u001b[0m     │ \u001b[2mNULL\u001b[0m      │\n",
       "│ \u001b[32mOwen Lars\u001b[0m │    \u001b[1;36m178\u001b[0m │   \u001b[1;36m120.0\u001b[0m │ \u001b[32m grey     \u001b[0m │ \u001b[32mlight     \u001b[0m │ \u001b[32mblue     \u001b[0m │       \u001b[1;36m52.0\u001b[0m │ \u001b[32mmale  \u001b[0m │ \u001b[32mmasculine\u001b[0m │ \u001b[32mTatooine \u001b[0m │ \u001b[32mHuman  \u001b[0m │ \u001b[2mNULL\u001b[0m   │ \u001b[2mNULL\u001b[0m     │ \u001b[2mNULL\u001b[0m      │\n",
       "│ \u001b[32mChewbacca\u001b[0m │    \u001b[1;36m228\u001b[0m │   \u001b[1;36m112.0\u001b[0m │ \u001b[32mbrown     \u001b[0m │ \u001b[32munknown   \u001b[0m │ \u001b[32mblue     \u001b[0m │      \u001b[1;36m200.0\u001b[0m │ \u001b[32mmale  \u001b[0m │ \u001b[32mmasculine\u001b[0m │ \u001b[32mKashyyyk \u001b[0m │ \u001b[32mWookiee\u001b[0m │ \u001b[2mNULL\u001b[0m   │ \u001b[2mNULL\u001b[0m     │ \u001b[2mNULL\u001b[0m      │\n",
       "└───────────┴────────┴─────────┴────────────┴────────────┴───────────┴────────────┴────────┴───────────┴───────────┴─────────┴────────┴──────────┴───────────┘"
      ]
     },
     "execution_count": 7,
     "metadata": {},
     "output_type": "execute_result"
    }
   ],
   "source": [
    "M = 100\n",
    "(\n",
    "    df\n",
    "    .rename(\"snake_case\")\n",
    "    .filter(_.height > 100)\n",
    "    .filter(_.mass > M)\n",
    "    .filter(_.hair_color.contains(\"brown\"))\n",
    "    .filter(_.sex.notnull())\n",
    "    .mutate(hair_color = _.hair_color.split(\",\"))\n",
    "    .unnest(_.hair_color)\n",
    "    .drop_null(_.birth_year)\n",
    ")"
   ]
  },
  {
   "cell_type": "code",
   "execution_count": 8,
   "id": "cf4d19b0-dd9e-46fc-938f-eea064387bbd",
   "metadata": {
    "execution": {
     "iopub.execute_input": "2024-08-25T14:58:53.363764Z",
     "iopub.status.busy": "2024-08-25T14:58:53.362934Z",
     "iopub.status.idle": "2024-08-25T14:58:53.458606Z",
     "shell.execute_reply": "2024-08-25T14:58:53.458364Z",
     "shell.execute_reply.started": "2024-08-25T14:58:53.363718Z"
    }
   },
   "outputs": [
    {
     "data": {
      "text/html": [
       "<div>\n",
       "<style scoped>\n",
       "    .dataframe tbody tr th:only-of-type {\n",
       "        vertical-align: middle;\n",
       "    }\n",
       "\n",
       "    .dataframe tbody tr th {\n",
       "        vertical-align: top;\n",
       "    }\n",
       "\n",
       "    .dataframe thead th {\n",
       "        text-align: right;\n",
       "    }\n",
       "</style>\n",
       "<table border=\"1\" class=\"dataframe\">\n",
       "  <thead>\n",
       "    <tr style=\"text-align: right;\">\n",
       "      <th></th>\n",
       "      <th>name</th>\n",
       "      <th>height</th>\n",
       "      <th>mass</th>\n",
       "      <th>hair_color</th>\n",
       "      <th>skin_color</th>\n",
       "      <th>eye_color</th>\n",
       "      <th>birth_year</th>\n",
       "      <th>sex</th>\n",
       "      <th>gender</th>\n",
       "      <th>homeworld</th>\n",
       "      <th>species</th>\n",
       "      <th>films</th>\n",
       "      <th>vehicles</th>\n",
       "      <th>starships</th>\n",
       "    </tr>\n",
       "  </thead>\n",
       "  <tbody>\n",
       "    <tr>\n",
       "      <th>5</th>\n",
       "      <td>Owen Lars</td>\n",
       "      <td>178.0</td>\n",
       "      <td>120.0</td>\n",
       "      <td>brown</td>\n",
       "      <td>light</td>\n",
       "      <td>blue</td>\n",
       "      <td>52.0</td>\n",
       "      <td>male</td>\n",
       "      <td>masculine</td>\n",
       "      <td>Tatooine</td>\n",
       "      <td>Human</td>\n",
       "      <td>None</td>\n",
       "      <td>None</td>\n",
       "      <td>None</td>\n",
       "    </tr>\n",
       "    <tr>\n",
       "      <th>5</th>\n",
       "      <td>Owen Lars</td>\n",
       "      <td>178.0</td>\n",
       "      <td>120.0</td>\n",
       "      <td>grey</td>\n",
       "      <td>light</td>\n",
       "      <td>blue</td>\n",
       "      <td>52.0</td>\n",
       "      <td>male</td>\n",
       "      <td>masculine</td>\n",
       "      <td>Tatooine</td>\n",
       "      <td>Human</td>\n",
       "      <td>None</td>\n",
       "      <td>None</td>\n",
       "      <td>None</td>\n",
       "    </tr>\n",
       "    <tr>\n",
       "      <th>12</th>\n",
       "      <td>Chewbacca</td>\n",
       "      <td>228.0</td>\n",
       "      <td>112.0</td>\n",
       "      <td>brown</td>\n",
       "      <td>unknown</td>\n",
       "      <td>blue</td>\n",
       "      <td>200.0</td>\n",
       "      <td>male</td>\n",
       "      <td>masculine</td>\n",
       "      <td>Kashyyyk</td>\n",
       "      <td>Wookiee</td>\n",
       "      <td>None</td>\n",
       "      <td>None</td>\n",
       "      <td>None</td>\n",
       "    </tr>\n",
       "  </tbody>\n",
       "</table>\n",
       "</div>"
      ],
      "text/plain": [
       "         name  height   mass hair_color skin_color eye_color  birth_year  \\\n",
       "5   Owen Lars   178.0  120.0      brown      light      blue        52.0   \n",
       "5   Owen Lars   178.0  120.0       grey      light      blue        52.0   \n",
       "12  Chewbacca   228.0  112.0      brown    unknown      blue       200.0   \n",
       "\n",
       "     sex     gender homeworld  species films vehicles starships  \n",
       "5   male  masculine  Tatooine    Human  None     None      None  \n",
       "5   male  masculine  Tatooine    Human  None     None      None  \n",
       "12  male  masculine  Kashyyyk  Wookiee  None     None      None  "
      ]
     },
     "execution_count": 8,
     "metadata": {},
     "output_type": "execute_result"
    }
   ],
   "source": [
    "import re\n",
    "M = 100\n",
    "(\n",
    "    df\n",
    "    .to_pandas()\n",
    "    .rename(lambda col: re.sub(r'(?<!^)(?=[A-Z])', '_', col).lower(), axis=1)\n",
    "    .query(\"height > 100\")\n",
    "    .query(\"mass > @M\")\n",
    "    .query('hair_color.str.contains(\"brown\") == True') # some values can be `None` so explicit True required\n",
    "    .query(\"sex.notna()\")\n",
    "    .assign(hair_color = lambda c: c.hair_color.str.split(','))\n",
    "    .explode(\"hair_color\")\n",
    "    .query(\"birth_year.notna()\")\n",
    ")"
   ]
  },
  {
   "cell_type": "code",
   "execution_count": 9,
   "id": "6a5996f1-dfd8-4ac8-8b89-6af5dbccfe66",
   "metadata": {
    "execution": {
     "iopub.execute_input": "2024-08-25T14:58:54.047909Z",
     "iopub.status.busy": "2024-08-25T14:58:54.047044Z",
     "iopub.status.idle": "2024-08-25T14:58:54.129873Z",
     "shell.execute_reply": "2024-08-25T14:58:54.129409Z",
     "shell.execute_reply.started": "2024-08-25T14:58:54.047866Z"
    }
   },
   "outputs": [
    {
     "data": {
      "text/html": [
       "<div><style>\n",
       ".dataframe > thead > tr,\n",
       ".dataframe > tbody > tr {\n",
       "  text-align: right;\n",
       "  white-space: pre-wrap;\n",
       "}\n",
       "</style>\n",
       "<small>shape: (3, 14)</small><table border=\"1\" class=\"dataframe\"><thead><tr><th>name</th><th>height</th><th>mass</th><th>hair_color</th><th>skin_color</th><th>eye_color</th><th>birth_year</th><th>sex</th><th>gender</th><th>homeworld</th><th>species</th><th>films</th><th>vehicles</th><th>starships</th></tr><tr><td>str</td><td>i64</td><td>f64</td><td>str</td><td>str</td><td>str</td><td>f64</td><td>str</td><td>str</td><td>str</td><td>str</td><td>str</td><td>str</td><td>str</td></tr></thead><tbody><tr><td>&quot;Owen Lars&quot;</td><td>178</td><td>120.0</td><td>&quot;brown&quot;</td><td>&quot;light&quot;</td><td>&quot;blue&quot;</td><td>52.0</td><td>&quot;male&quot;</td><td>&quot;masculine&quot;</td><td>&quot;Tatooine&quot;</td><td>&quot;Human&quot;</td><td>null</td><td>null</td><td>null</td></tr><tr><td>&quot;Owen Lars&quot;</td><td>178</td><td>120.0</td><td>&quot; grey&quot;</td><td>&quot;light&quot;</td><td>&quot;blue&quot;</td><td>52.0</td><td>&quot;male&quot;</td><td>&quot;masculine&quot;</td><td>&quot;Tatooine&quot;</td><td>&quot;Human&quot;</td><td>null</td><td>null</td><td>null</td></tr><tr><td>&quot;Chewbacca&quot;</td><td>228</td><td>112.0</td><td>&quot;brown&quot;</td><td>&quot;unknown&quot;</td><td>&quot;blue&quot;</td><td>200.0</td><td>&quot;male&quot;</td><td>&quot;masculine&quot;</td><td>&quot;Kashyyyk&quot;</td><td>&quot;Wookiee&quot;</td><td>null</td><td>null</td><td>null</td></tr></tbody></table></div>"
      ],
      "text/plain": [
       "shape: (3, 14)\n",
       "┌───────────┬────────┬───────┬────────────┬───┬─────────┬───────┬──────────┬───────────┐\n",
       "│ name      ┆ height ┆ mass  ┆ hair_color ┆ … ┆ species ┆ films ┆ vehicles ┆ starships │\n",
       "│ ---       ┆ ---    ┆ ---   ┆ ---        ┆   ┆ ---     ┆ ---   ┆ ---      ┆ ---       │\n",
       "│ str       ┆ i64    ┆ f64   ┆ str        ┆   ┆ str     ┆ str   ┆ str      ┆ str       │\n",
       "╞═══════════╪════════╪═══════╪════════════╪═══╪═════════╪═══════╪══════════╪═══════════╡\n",
       "│ Owen Lars ┆ 178    ┆ 120.0 ┆ brown      ┆ … ┆ Human   ┆ null  ┆ null     ┆ null      │\n",
       "│ Owen Lars ┆ 178    ┆ 120.0 ┆  grey      ┆ … ┆ Human   ┆ null  ┆ null     ┆ null      │\n",
       "│ Chewbacca ┆ 228    ┆ 112.0 ┆ brown      ┆ … ┆ Wookiee ┆ null  ┆ null     ┆ null      │\n",
       "└───────────┴────────┴───────┴────────────┴───┴─────────┴───────┴──────────┴───────────┘"
      ]
     },
     "execution_count": 9,
     "metadata": {},
     "output_type": "execute_result"
    }
   ],
   "source": [
    "import re\n",
    "M = 100\n",
    "import polars as pl\n",
    "(\n",
    "    df\n",
    "    .to_polars()\n",
    "    .rename(lambda col: re.sub(r'(?<!^)(?=[A-Z])', '_', col).lower())\n",
    "    .filter(pl.col(\"height\") > 100)\n",
    "    .filter(pl.col(\"mass\") > M)\n",
    "    .filter(pl.col(\"hair_color\").str.contains(\"brown\"))\n",
    "    .filter(pl.col(\"sex\").is_not_null())\n",
    "    .with_columns(pl.col(\"hair_color\").str.split(\",\").alias(\"hair_color\"))\n",
    "    .explode(pl.col(\"hair_color\"))\n",
    "    .filter(pl.col(\"birth_year\").is_not_null())\n",
    ")"
   ]
  },
  {
   "cell_type": "code",
   "execution_count": null,
   "id": "693d3acb-cef5-49cc-9cb2-94e691532e80",
   "metadata": {},
   "outputs": [],
   "source": []
  },
  {
   "cell_type": "code",
   "execution_count": null,
   "id": "107fbdc6-64b8-4d19-bbfa-02ea90baea23",
   "metadata": {},
   "outputs": [],
   "source": []
  }
 ],
 "metadata": {
  "kernelspec": {
   "display_name": "test-panel",
   "language": "python",
   "name": "test-panel"
  },
  "language_info": {
   "codemirror_mode": {
    "name": "ipython",
    "version": 3
   },
   "file_extension": ".py",
   "mimetype": "text/x-python",
   "name": "python",
   "nbconvert_exporter": "python",
   "pygments_lexer": "ipython3",
   "version": "3.12.5"
  },
  "widgets": {
   "application/vnd.jupyter.widget-state+json": {
    "state": {},
    "version_major": 2,
    "version_minor": 0
   }
  }
 },
 "nbformat": 4,
 "nbformat_minor": 5
}
