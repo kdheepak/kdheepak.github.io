{
 "cells": [
  {
   "cell_type": "raw",
   "id": "3a4eaf03-065d-4953-9389-27b0bbfd9a07",
   "metadata": {},
   "source": [
    "---\n",
    "title: \"Pandas vs Polars vs ibis\"\n",
    "date: 2024-08-25T10:22:45-0400\n",
    "categories: [python]\n",
    "summary: \"A short comparison of idiomatic pandas vs polars vs ibis with method chaining\"\n",
    "---"
   ]
  },
  {
   "cell_type": "markdown",
   "id": "86f28f6e-7299-4902-bf0e-c3a5950fdc67",
   "metadata": {},
   "source": [
    "This is a short comparison of idiomatic `pandas`, `polars` and `ibis`, all using method chaining."
   ]
  },
  {
   "cell_type": "code",
   "execution_count": 1,
   "id": "74cba5fa-f5a7-45e5-be52-77fedb3b7f94",
   "metadata": {
    "execution": {
     "iopub.execute_input": "2024-09-06T11:16:00.474454Z",
     "iopub.status.busy": "2024-09-06T11:16:00.474100Z",
     "iopub.status.idle": "2024-09-06T11:16:00.480088Z",
     "shell.execute_reply": "2024-09-06T11:16:00.479543Z",
     "shell.execute_reply.started": "2024-09-06T11:16:00.474433Z"
    }
   },
   "outputs": [
    {
     "data": {
      "text/plain": [
       "sys.version_info(major=3, minor=12, micro=5, releaselevel='final', serial=0)"
      ]
     },
     "execution_count": 1,
     "metadata": {},
     "output_type": "execute_result"
    }
   ],
   "source": [
    "import sys\n",
    "\n",
    "sys.version_info"
   ]
  },
  {
   "cell_type": "code",
   "execution_count": 2,
   "id": "e31fe4a9-6232-41ed-9bdb-ce77b60cb1f8",
   "metadata": {
    "execution": {
     "iopub.execute_input": "2024-09-06T11:16:01.976600Z",
     "iopub.status.busy": "2024-09-06T11:16:01.975759Z",
     "iopub.status.idle": "2024-09-06T11:16:02.507318Z",
     "shell.execute_reply": "2024-09-06T11:16:02.507055Z",
     "shell.execute_reply.started": "2024-09-06T11:16:01.976541Z"
    }
   },
   "outputs": [],
   "source": [
    "import ibis\n",
    "from ibis import _\n",
    "ibis.options.interactive = True"
   ]
  },
  {
   "cell_type": "code",
   "execution_count": 3,
   "id": "04bfebcc-d822-4840-9186-87a491fdf4f2",
   "metadata": {
    "execution": {
     "iopub.execute_input": "2024-09-06T11:16:02.508115Z",
     "iopub.status.busy": "2024-09-06T11:16:02.508020Z",
     "iopub.status.idle": "2024-09-06T11:16:02.510235Z",
     "shell.execute_reply": "2024-09-06T11:16:02.509987Z",
     "shell.execute_reply.started": "2024-09-06T11:16:02.508107Z"
    }
   },
   "outputs": [
    {
     "data": {
      "text/plain": [
       "'9.4.0'"
      ]
     },
     "execution_count": 3,
     "metadata": {},
     "output_type": "execute_result"
    }
   ],
   "source": [
    "ibis.__version__"
   ]
  },
  {
   "cell_type": "code",
   "execution_count": null,
   "id": "5d8bd52f-cfac-4267-8a78-a2efc0d8dd21",
   "metadata": {
    "execution": {
     "iopub.execute_input": "2024-09-06T11:16:03.715477Z",
     "iopub.status.busy": "2024-09-06T11:16:03.714785Z"
    }
   },
   "outputs": [],
   "source": [
    "df = ibis.examples.starwars.fetch()\n",
    "df"
   ]
  },
  {
   "cell_type": "markdown",
   "id": "01a1574c-4746-4f93-8916-9a4784bd8854",
   "metadata": {
    "execution": {
     "iopub.execute_input": "2024-08-25T15:18:40.060622Z",
     "iopub.status.busy": "2024-08-25T15:18:40.060533Z",
     "iopub.status.idle": "2024-08-25T15:18:40.133782Z",
     "shell.execute_reply": "2024-08-25T15:18:40.133504Z",
     "shell.execute_reply.started": "2024-08-25T15:18:40.060614Z"
    }
   },
   "source": [
    "## Pandas"
   ]
  },
  {
   "cell_type": "code",
   "execution_count": null,
   "id": "cf4d19b0-dd9e-46fc-938f-eea064387bbd",
   "metadata": {},
   "outputs": [],
   "source": [
    "import re\n",
    "\n",
    "M = 100\n",
    "\n",
    "_df = (\n",
    "    df\n",
    "    .to_pandas()\n",
    "    .rename(lambda col: re.sub(r'(?<!^)(?=[A-Z])', '_', col).lower(), axis=1)\n",
    "    .query(\"height > 100\")\n",
    "    .query(\"mass > @M\")\n",
    "    .query('hair_color.str.contains(\"brown\") == True') # some values can be `None` so explicit True required\n",
    "    .query(\"sex.notna()\")\n",
    "    .assign(hair_color = lambda c: c.hair_color.str.split(','))\n",
    "    .explode(\"hair_color\")\n",
    "    .query(\"birth_year.notna()\")\n",
    ")\n",
    "\n",
    "ibis.pandas.connect({'_df': _df}).table('_df')"
   ]
  },
  {
   "cell_type": "markdown",
   "id": "19548c23-9b72-4918-b906-af5346fed6ca",
   "metadata": {},
   "source": [
    "## Polars"
   ]
  },
  {
   "cell_type": "code",
   "execution_count": null,
   "id": "6a5996f1-dfd8-4ac8-8b89-6af5dbccfe66",
   "metadata": {},
   "outputs": [],
   "source": [
    "import re\n",
    "import polars as pl\n",
    "\n",
    "M = 100\n",
    "\n",
    "_df = (\n",
    "    df\n",
    "    .to_polars()\n",
    "    .rename(lambda col: re.sub(r'(?<!^)(?=[A-Z])', '_', col).lower())\n",
    "    .filter(pl.col(\"height\") > 100)\n",
    "    .filter(pl.col(\"mass\") > M)\n",
    "    .filter(pl.col(\"hair_color\").str.contains(\"brown\"))\n",
    "    .filter(pl.col(\"sex\").is_not_null())\n",
    "    .with_columns(pl.col(\"hair_color\").str.split(\",\").alias(\"hair_color\"))\n",
    "    .explode(pl.col(\"hair_color\"))\n",
    "    .filter(pl.col(\"birth_year\").is_not_null())\n",
    ")\n",
    "\n",
    "ibis.polars.connect({'_df': _df}).table('_df')"
   ]
  },
  {
   "cell_type": "markdown",
   "id": "839b6859-950e-4e71-9031-4514bc5a003e",
   "metadata": {},
   "source": [
    "## ibis"
   ]
  },
  {
   "cell_type": "code",
   "execution_count": null,
   "id": "c1611af7-18ae-44a1-b584-ce86887428eb",
   "metadata": {},
   "outputs": [],
   "source": [
    "M = 100\n",
    "_df = (\n",
    "    df\n",
    "    .rename(\"snake_case\")\n",
    "    .filter(_.height > 100)\n",
    "    .filter(_.mass > M)\n",
    "    .filter(_.hair_color.contains(\"brown\"))\n",
    "    .filter(_.sex.notnull())\n",
    "    .mutate(hair_color = _.hair_color.split(\",\"))\n",
    "    .unnest(_.hair_color)\n",
    "    .drop_null(_.birth_year)\n",
    ")\n",
    "\n",
    "_df"
   ]
  },
  {
   "cell_type": "code",
   "execution_count": null,
   "id": "e4267377-75bb-4f99-a678-43cb4b58dc5f",
   "metadata": {},
   "outputs": [],
   "source": []
  }
 ],
 "metadata": {
  "kernelspec": {
   "display_name": "Python (local .venv)",
   "language": "python",
   "name": "python-localvenv"
  },
  "language_info": {
   "codemirror_mode": {
    "name": "ipython",
    "version": 3
   },
   "file_extension": ".py",
   "mimetype": "text/x-python",
   "name": "python",
   "nbconvert_exporter": "python",
   "pygments_lexer": "ipython3",
   "version": "3.12.5"
  },
  "widgets": {
   "application/vnd.jupyter.widget-state+json": {
    "state": {},
    "version_major": 2,
    "version_minor": 0
   }
  }
 },
 "nbformat": 4,
 "nbformat_minor": 5
}
