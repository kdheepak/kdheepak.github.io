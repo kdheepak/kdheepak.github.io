{
 "cells": [
  {
   "cell_type": "raw",
   "metadata": {},
   "source": [
    "---\n",
    "title: Jupyter prelude\n",
    "date: 2024-12-15T21:03:04-0500\n",
    "categories: [python]\n",
    "keywords: python, ibis, pandas, matplotlib, jupyter\n",
    "summary: This is common code I add to all jupyter notebooks\n",
    "---"
   ]
  },
  {
   "cell_type": "markdown",
   "metadata": {},
   "source": [
    "### uv"
   ]
  },
  {
   "cell_type": "raw",
   "metadata": {
    "vscode": {
     "languageId": "raw"
    }
   },
   "source": [
    "```bash\n",
    "# This will create a new Python environment in the current directory\n",
    "uv init --app\n",
    "\n",
    "# This will add the specified packages to the environment\n",
    "uv add \"ibis-framework[duckdb,geospatial]\" ipykernel panel hvplot holoviews matplotlib pandas param lonboard folium\n",
    "```"
   ]
  },
  {
   "cell_type": "markdown",
   "metadata": {},
   "source": [
    "### prelude"
   ]
  },
  {
   "cell_type": "code",
   "execution_count": 4,
   "metadata": {
    "execution": {
     "iopub.execute_input": "2024-12-16T12:05:25.544583Z",
     "iopub.status.busy": "2024-12-16T12:05:25.543858Z",
     "iopub.status.idle": "2024-12-16T12:05:25.581239Z",
     "shell.execute_reply": "2024-12-16T12:05:25.580921Z",
     "shell.execute_reply.started": "2024-12-16T12:05:25.544550Z"
    }
   },
   "outputs": [],
   "source": [
    "################################################################################\n",
    "\n",
    "# autoreload all modules every time before executing the Python code\n",
    "%reload_ext autoreload\n",
    "%autoreload 2\n",
    "\n",
    "################################################################################\n",
    "\n",
    "from IPython.core.interactiveshell import InteractiveShell\n",
    "\n",
    "# `ast_node_interactivity` is a setting that determines how the return value of the last line in a cell is displayed\n",
    "# with `last_expr_or_assign`, the return value of the last expression is displayed unless it is assigned to a variable\n",
    "InteractiveShell.ast_node_interactivity = \"last_expr_or_assign\"\n",
    "\n",
    "################################################################################\n",
    "\n",
    "import pandas as pd\n",
    "\n",
    "# `copy_on_write` is a performance improvement\n",
    "# This will be the default in a future version of pandas\n",
    "# Refer to https://pandas.pydata.org/pandas-docs/stable/user_guide/copy_on_write.html\n",
    "pd.options.mode.copy_on_write = True\n",
    "\n",
    "################################################################################\n",
    "\n",
    "%matplotlib inline\n",
    "\n",
    "import matplotlib as mpl\n",
    "\n",
    "# `constrained_layout` helps avoid overlapping elements\n",
    "# Refer to https://matplotlib.org/stable/tutorials/intermediate/constrainedlayout_guide.html\n",
    "mpl.pyplot.rcParams['figure.constrained_layout.use'] = True"
   ]
  },
  {
   "cell_type": "code",
   "execution_count": null,
   "metadata": {},
   "outputs": [],
   "source": []
  }
 ],
 "metadata": {
  "kernelspec": {
   "display_name": "Python (local .venv)",
   "language": "python",
   "name": "python-localvenv"
  },
  "language_info": {
   "codemirror_mode": {
    "name": "ipython",
    "version": 3
   },
   "file_extension": ".py",
   "mimetype": "text/x-python",
   "name": "python",
   "nbconvert_exporter": "python",
   "pygments_lexer": "ipython3",
   "version": "3.12.5"
  },
  "widgets": {
   "application/vnd.jupyter.widget-state+json": {
    "state": {},
    "version_major": 2,
    "version_minor": 0
   }
  }
 },
 "nbformat": 4,
 "nbformat_minor": 4
}
