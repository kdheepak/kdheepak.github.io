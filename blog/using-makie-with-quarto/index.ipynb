{
  "cells": [
    {
      "cell_type": "raw",
      "metadata": {},
      "source": [
        "---\n",
        "title: \"Using Makie with Quarto\"\n",
        "date: 2023-04-26T20:22:45-0400\n",
        "categories: [julia]\n",
        "summary: Use Makie with Quarto using CairoMakie\n",
        "---"
      ]
    },
    {
      "cell_type": "code",
      "metadata": {},
      "source": [
        "#| include: false\n",
        "using Pkg\n",
        "Pkg.activate(@__DIR__)"
      ],
      "execution_count": null,
      "outputs": []
    },
    {
      "cell_type": "markdown",
      "metadata": {},
      "source": [
        "Here's an example of a static image generated using `CairoMakie`:"
      ]
    },
    {
      "cell_type": "code",
      "metadata": {},
      "source": [
        "#| code-fold: true\n",
        "using CairoMakie, Random\n",
        "\n",
        "Random.seed!(123)\n",
        "n = 200\n",
        "x, y, color = randn(n) / 2, randn(n), randn(n)\n",
        "fig = Figure(resolution=(600, 400))\n",
        "ax1 = Axis(fig[1, 1])\n",
        "ax2 = Axis(fig[2, 1])\n",
        "ax3 = Axis(fig[2, 2])\n",
        "hist!(ax1, x; color=(:orangered, 0.5), strokewidth=0.5)\n",
        "scatter!(ax2, x, y; color=color, markersize=10, strokewidth=0)\n",
        "hist!(ax3, y; direction=:x, color=(:dodgerblue, 0.5),\n",
        "  strokewidth=0.5)\n",
        "xlims!(ax1, -4, 4)\n",
        "limits!(ax2, -4, 4, -3, 3)\n",
        "ylims!(ax3, -3, 3)\n",
        "hideydecorations!(ax3, ticks=false, grid=false)\n",
        "hidexdecorations!(ax1, ticks=false, grid=false)\n",
        "colsize!(fig.layout, 1, Relative(2 / 3))\n",
        "rowsize!(fig.layout, 1, Relative(1 / 3))\n",
        "colgap!(fig.layout, 10)\n",
        "rowgap!(fig.layout, 10)\n",
        "current_figure()"
      ],
      "execution_count": null,
      "outputs": []
    }
  ],
  "metadata": {
    "kernelspec": {
      "name": "julia-1.10",
      "language": "julia",
      "display_name": "Julia 1.10.1",
      "path": "/Users/kd/Library/Jupyter/kernels/julia-1.10"
    }
  },
  "nbformat": 4,
  "nbformat_minor": 4
}