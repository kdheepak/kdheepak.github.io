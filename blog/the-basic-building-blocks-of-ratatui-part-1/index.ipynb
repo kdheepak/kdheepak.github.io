{
 "cells": [
  {
   "cell_type": "raw",
   "id": "bf830a38-e568-4150-97b9-de5dc6172a32",
   "metadata": {
    "execution": {
     "iopub.execute_input": "2024-05-15T02:03:24.769199+00:00",
     "iopub.status.busy": "2024-05-15T02:03:24.768989+00:00",
     "iopub.status.idle": "2024-05-15T02:03:24.769163+00:00",
     "shell.execute_reply": "2024-05-15T02:03:24.910732+00:00"
    }
   },
   "source": [
    "---\n",
    "title: The Basic Building blocks of Ratatui - Part 1\n",
    "date: 2024-05-14T22:03:04-0400\n",
    "categories: [rust]\n",
    "keywords: rust, ratatui\n",
    "summary: Showcase of using span, line, text\n",
    "---"
   ]
  },
  {
   "cell_type": "markdown",
   "id": "7e98f2e5-d4f5-4fc0-84e3-c9920e267bed",
   "metadata": {},
   "source": [
    "Ratatui is a crate for building terminal user interfaces in Rust."
   ]
  },
  {
   "cell_type": "markdown",
   "id": "95efed16-984f-42e7-b44f-a79437e56ce5",
   "metadata": {},
   "source": [
    "One of the unique features of Ratatui is that it is an immediate mode rendering library.\n",
    "In this post, I'm going to describe some of the primitives of Ratatui.\n",
    "I rely on the concepts described in this post in every Ratatui application I build."
   ]
  },
  {
   "cell_type": "markdown",
   "id": "25e755d9-ec34-426a-9905-88ed41fb575e",
   "metadata": {},
   "source": [
    "## Immediate Mode Rendering"
   ]
  },
  {
   "cell_type": "markdown",
   "id": "a8656c9d-18ff-4843-9088-efb76fe4d9ae",
   "metadata": {},
   "source": [
    "User interfaces can broadly be classified into two kinds:\n",
    "\n",
    "- immediate mode GUIs,\n",
    "- retained mode GUIs.\n",
    "\n",
    "Casey Muratori has a great video on immediate mode rendering. \n",
    "\n",
    "{{< video https://www.youtube.com/watch?v=Z1qyvQsjK5Y >}}\n",
    "\n",
    "At a very high level, in retained mode GUIs, you create UI elements and pass it to a framework and the framework is in charge of displaying them. For example, you can create a text field and input field, and then the browser will render them. The browser is in charge of handling events, and as a developer you have to define how these events interact with these widgets."
   ]
  },
  {
   "cell_type": "markdown",
   "id": "a06d6ac4-f78b-4ea3-81bb-b5437f925186",
   "metadata": {},
   "source": [
    "For example, in a simple counter example in a browser, we have to set up an `incrementCounter` and `decrementCounter` callbacks that update the relevant element's state. The browser is responsible for displaying these elements, receiving user inputs, calling the appropriate `onclick` callback, etc."
   ]
  },
  {
   "cell_type": "code",
   "execution_count": 2,
   "id": "73c1a207-8f25-467a-b3ed-2a5d6ac25461",
   "metadata": {
    "execution": {
     "iopub.execute_input": "2024-05-15T20:51:17.954859+00:00",
     "iopub.status.busy": "2024-05-15T20:51:17.954683+00:00",
     "iopub.status.idle": "2024-05-15T20:51:17.954833+00:00",
     "shell.execute_reply": "2024-05-15T20:51:18.284249+00:00"
    }
   },
   "outputs": [
    {
     "data": {
      "text/html": [
       "<div style=\"display: flex; justify-content:start; gap: 1em; margin: 1em\">\n",
       "\n",
       "<text> Counter: </text>\n",
       "<text id=\"counter\">0</text>\n",
       "\n",
       "<button onclick=\"incrementCounter()\">Increment</button>\n",
       "<button onclick=\"decrementCounter()\">Decrement</button>\n",
       "\n",
       "<script>\n",
       "    var counterElement = document.getElementById(\"counter\");\n",
       "\n",
       "    var counterValue = 0;\n",
       "    counterElement.textContent = counterValue;\n",
       "\n",
       "    function incrementCounter() {\n",
       "        counterValue++;\n",
       "        counterElement.textContent = counterValue;\n",
       "    }\n",
       "\n",
       "    function decrementCounter() {\n",
       "        counterValue--;\n",
       "        counterElement.textContent = counterValue;\n",
       "    }\n",
       "</script>\n",
       "\n",
       "</div>"
      ],
      "text/plain": [
       "()"
      ]
     },
     "execution_count": 2,
     "metadata": {},
     "output_type": "execute_result"
    }
   ],
   "source": [
    "//| code-fold: true\n",
    "\n",
    "fn show_html<D>(content: D) where D: std::fmt::Display {\n",
    "    println!(r#\"EVCXR_BEGIN_CONTENT text/html\n",
    "<div style=\"display: flex; justify-content:start; gap: 1em; margin: 1em\">\n",
    "{}\n",
    "</div>\n",
    "EVCXR_END_CONTENT\"#, content);\n",
    "}\n",
    "\n",
    "show_html(r#\"\n",
    "<text> Counter: </text>\n",
    "<text id=\"counter\">0</text>\n",
    "\n",
    "<button onclick=\"incrementCounter()\">Increment</button>\n",
    "<button onclick=\"decrementCounter()\">Decrement</button>\n",
    "\n",
    "<script>\n",
    "    var counterElement = document.getElementById(\"counter\");\n",
    "\n",
    "    var counterValue = 0;\n",
    "    counterElement.textContent = counterValue;\n",
    "\n",
    "    function incrementCounter() {\n",
    "        counterValue++;\n",
    "        counterElement.textContent = counterValue;\n",
    "    }\n",
    "\n",
    "    function decrementCounter() {\n",
    "        counterValue--;\n",
    "        counterElement.textContent = counterValue;\n",
    "    }\n",
    "</script>\n",
    "\"#)"
   ]
  },
  {
   "cell_type": "markdown",
   "id": "8b67f1f5-76f8-40c1-bbf8-2460e0ec9487",
   "metadata": {},
   "source": [
    "In immediate mode rendering, however, _you_ are responsible for rendering the UI every \"frame\".\n",
    "This is typically done in a `for` loop or a `while true` loop in your application; and you use an immediate mode rendering library (in our case `ratatui`) to render the elements.\n",
    "This means you as the developer of the application using immediate mode rendering are responsible for a lot more things but it also gives you more control and freedom."
   ]
  },
  {
   "cell_type": "markdown",
   "id": "debc8cb1-8056-4351-8524-6be3bd198f28",
   "metadata": {},
   "source": [
    "## Buffer Primitives"
   ]
  },
  {
   "cell_type": "markdown",
   "id": "aaf854b1-0993-44e1-8e80-a332cf35c5cc",
   "metadata": {},
   "source": [
    "For this post, we are going to use 2 dependencies, `ratatui` and `ratatui-macros`."
   ]
  },
  {
   "cell_type": "code",
   "execution_count": 5,
   "id": "7864dad5-68b0-41c7-a5a1-3127e70776fe",
   "metadata": {
    "execution": {
     "iopub.execute_input": "2024-05-16T13:30:36.149183+00:00",
     "iopub.status.busy": "2024-05-16T13:30:36.149085+00:00",
     "iopub.status.idle": "2024-05-16T13:30:36.149167+00:00",
     "shell.execute_reply": "2024-05-16T13:30:38.331569+00:00"
    }
   },
   "outputs": [],
   "source": [
    "//| code-fold: true\n",
    ":dep ratatui = \"0.26.2\"\n",
    ":dep ratatui-macros = \"0.4.0\""
   ]
  },
  {
   "cell_type": "markdown",
   "id": "2a9acb18-a92e-4d1c-b0a3-8937ef6d078a",
   "metadata": {},
   "source": [
    "One of Ratatui's core primitives is a `Rect` struct. Let's create one:"
   ]
  },
  {
   "cell_type": "code",
   "execution_count": 17,
   "id": "e6fea32c-bd84-4374-b308-6cb2f1300228",
   "metadata": {
    "execution": {
     "iopub.execute_input": "2024-05-15T20:53:19.886486+00:00",
     "iopub.status.busy": "2024-05-15T20:53:19.886308+00:00",
     "iopub.status.idle": "2024-05-15T20:53:19.886456+00:00",
     "shell.execute_reply": "2024-05-15T20:53:20.431227+00:00"
    }
   },
   "outputs": [
    {
     "data": {
      "text/plain": [
       "Rect { x: 0, y: 0, width: 80, height: 5 }"
      ]
     },
     "execution_count": 17,
     "metadata": {},
     "output_type": "execute_result"
    }
   ],
   "source": [
    "use ratatui::layout::Rect;\n",
    "\n",
    "let (x, y, width, height) = (0, 0, 80, 5);\n",
    "let area = Rect::new(x, y, width, height);\n",
    "area"
   ]
  },
  {
   "cell_type": "markdown",
   "id": "bc089119-66a8-4e4e-9659-32e827643ec2",
   "metadata": {
    "execution": {
     "iopub.execute_input": "2024-05-15T05:32:51.199315+00:00",
     "iopub.status.busy": "2024-05-15T05:32:51.199121+00:00",
     "iopub.status.idle": "2024-05-15T05:32:51.199273+00:00",
     "shell.execute_reply": "2024-05-15T05:32:51.501025+00:00"
    }
   },
   "source": [
    "In Ratatui, every \"widget\" renders into a `Buffer` of a fixed size that is equal to the terminal dimensions. \n",
    "Let create an empty buffer:"
   ]
  },
  {
   "cell_type": "code",
   "execution_count": 19,
   "id": "638f7269-d51c-43bd-8e25-079968d07e5a",
   "metadata": {
    "execution": {
     "iopub.execute_input": "2024-05-15T20:53:45.762611+00:00",
     "iopub.status.busy": "2024-05-15T20:53:45.762494+00:00",
     "iopub.status.idle": "2024-05-15T20:53:45.762588+00:00",
     "shell.execute_reply": "2024-05-15T20:53:46.327427+00:00"
    }
   },
   "outputs": [
    {
     "data": {
      "text/plain": [
       "Buffer {\n",
       "    area: Rect { x: 0, y: 0, width: 80, height: 5 },\n",
       "    content: [\n",
       "        \"                                                                                \",\n",
       "        \"                                                                                \",\n",
       "        \"                                                                                \",\n",
       "        \"                                                                                \",\n",
       "        \"                                                                                \",\n",
       "    ],\n",
       "    styles: [\n",
       "        x: 0, y: 0, fg: Reset, bg: Reset, underline: Reset, modifier: NONE,\n",
       "    ]\n",
       "}"
      ]
     },
     "execution_count": 19,
     "metadata": {},
     "output_type": "execute_result"
    }
   ],
   "source": [
    "use ratatui::buffer::Buffer;\n",
    "\n",
    "let mut buf = Buffer::empty(area);\n",
    "buf"
   ]
  },
  {
   "cell_type": "markdown",
   "id": "12e54d72-8038-4d0c-b160-50f5adf95e0d",
   "metadata": {},
   "source": [
    "We can render into the buffer once by using the `Block` widget with a border."
   ]
  },
  {
   "cell_type": "code",
   "execution_count": 20,
   "id": "35aaaccb-8645-42eb-9071-728553b1974f",
   "metadata": {
    "execution": {
     "iopub.execute_input": "2024-05-15T20:53:46.327524+00:00",
     "iopub.status.busy": "2024-05-15T20:53:46.327489+00:00",
     "iopub.status.idle": "2024-05-15T20:53:46.327518+00:00",
     "shell.execute_reply": "2024-05-15T20:53:46.806922+00:00"
    }
   },
   "outputs": [],
   "source": [
    "use ratatui::widgets::Block;\n",
    "use ratatui::widgets::Widget; // required trait for `.render` method\n",
    "\n",
    "let block = Block::bordered();\n",
    "block.render(area, &mut buf);"
   ]
  },
  {
   "cell_type": "code",
   "execution_count": 21,
   "id": "ae80a81f-61a9-4e17-979a-5043e64ce386",
   "metadata": {
    "execution": {
     "iopub.execute_input": "2024-05-15T20:53:46.807057+00:00",
     "iopub.status.busy": "2024-05-15T20:53:46.807033+00:00",
     "iopub.status.idle": "2024-05-15T20:53:46.807052+00:00",
     "shell.execute_reply": "2024-05-15T20:53:47.280108+00:00"
    }
   },
   "outputs": [
    {
     "data": {
      "text/plain": [
       "Buffer {\n",
       "    area: Rect { x: 0, y: 0, width: 80, height: 5 },\n",
       "    content: [\n",
       "        \"┌──────────────────────────────────────────────────────────────────────────────┐\",\n",
       "        \"│                                                                              │\",\n",
       "        \"│                                                                              │\",\n",
       "        \"│                                                                              │\",\n",
       "        \"└──────────────────────────────────────────────────────────────────────────────┘\",\n",
       "    ],\n",
       "    styles: [\n",
       "        x: 0, y: 0, fg: Reset, bg: Reset, underline: Reset, modifier: NONE,\n",
       "    ]\n",
       "}"
      ]
     },
     "execution_count": 21,
     "metadata": {},
     "output_type": "execute_result"
    }
   ],
   "source": [
    "buf"
   ]
  },
  {
   "cell_type": "markdown",
   "id": "c0491da0-e497-47a1-b4b7-4f42e4a8a4d0",
   "metadata": {},
   "source": [
    "Let's also add a title."
   ]
  },
  {
   "cell_type": "code",
   "execution_count": 22,
   "id": "5f044cb5-4b8a-48ee-ace8-4e0e88c8c436",
   "metadata": {
    "execution": {
     "iopub.execute_input": "2024-05-15T20:53:47.280191+00:00",
     "iopub.status.busy": "2024-05-15T20:53:47.280169+00:00",
     "iopub.status.idle": "2024-05-15T20:53:47.280186+00:00",
     "shell.execute_reply": "2024-05-15T20:53:47.749049+00:00"
    }
   },
   "outputs": [],
   "source": [
    "let block = Block::bordered().title(\"Counter Example\");\n",
    "block.render(area, &mut buf);"
   ]
  },
  {
   "cell_type": "code",
   "execution_count": 23,
   "id": "29b616a3-e064-47ab-9467-99a54d419f99",
   "metadata": {
    "execution": {
     "iopub.execute_input": "2024-05-15T20:53:47.749170+00:00",
     "iopub.status.busy": "2024-05-15T20:53:47.749145+00:00",
     "iopub.status.idle": "2024-05-15T20:53:47.749165+00:00",
     "shell.execute_reply": "2024-05-15T20:53:48.219135+00:00"
    }
   },
   "outputs": [
    {
     "data": {
      "text/plain": [
       "Buffer {\n",
       "    area: Rect { x: 0, y: 0, width: 80, height: 5 },\n",
       "    content: [\n",
       "        \"┌Counter Example───────────────────────────────────────────────────────────────┐\",\n",
       "        \"│                                                                              │\",\n",
       "        \"│                                                                              │\",\n",
       "        \"│                                                                              │\",\n",
       "        \"└──────────────────────────────────────────────────────────────────────────────┘\",\n",
       "    ],\n",
       "    styles: [\n",
       "        x: 0, y: 0, fg: Reset, bg: Reset, underline: Reset, modifier: NONE,\n",
       "    ]\n",
       "}"
      ]
     },
     "execution_count": 23,
     "metadata": {},
     "output_type": "execute_result"
    }
   ],
   "source": [
    "buf"
   ]
  },
  {
   "cell_type": "markdown",
   "id": "41811e98-f3dd-43e2-8aaa-030d83415e35",
   "metadata": {},
   "source": [
    "Now let's render put text into the center of the buffer."
   ]
  },
  {
   "cell_type": "markdown",
   "id": "71b033b1-98c8-4b60-8c33-7a5c6854ae0d",
   "metadata": {},
   "source": [
    "Let's say you have the following `App`:"
   ]
  },
  {
   "cell_type": "code",
   "execution_count": 24,
   "id": "2db673b4-7459-4638-917f-c3ac32389272",
   "metadata": {
    "execution": {
     "iopub.execute_input": "2024-05-15T20:53:48.219213+00:00",
     "iopub.status.busy": "2024-05-15T20:53:48.219192+00:00",
     "iopub.status.idle": "2024-05-15T20:53:48.219208+00:00",
     "shell.execute_reply": "2024-05-15T20:53:48.745631+00:00"
    }
   },
   "outputs": [
    {
     "data": {
      "text/plain": [
       "App { counter: 0 }"
      ]
     },
     "execution_count": 24,
     "metadata": {},
     "output_type": "execute_result"
    }
   ],
   "source": [
    "#[derive(Debug, Default)]\n",
    "pub struct App {\n",
    "    counter: u8,\n",
    "}\n",
    "let mut app = App::default();\n",
    "app"
   ]
  },
  {
   "cell_type": "markdown",
   "id": "01802758-c390-4905-8769-8909d9793f43",
   "metadata": {},
   "source": [
    "And you want to render the `App`'s `counter` in the center of the buffer."
   ]
  },
  {
   "cell_type": "code",
   "execution_count": 25,
   "id": "79d8b2b6-986c-4ee6-89de-ddcfb5cabad1",
   "metadata": {
    "execution": {
     "iopub.execute_input": "2024-05-15T20:53:48.745713+00:00",
     "iopub.status.busy": "2024-05-15T20:53:48.745693+00:00",
     "iopub.status.idle": "2024-05-15T20:53:48.745709+00:00",
     "shell.execute_reply": "2024-05-15T20:53:49.426559+00:00"
    }
   },
   "outputs": [
    {
     "data": {
      "text/plain": [
       "Buffer {\n",
       "    area: Rect { x: 0, y: 0, width: 80, height: 5 },\n",
       "    content: [\n",
       "        \"┌Counter Example───────────────────────────────────────────────────────────────┐\",\n",
       "        \"│                                                                              │\",\n",
       "        \"│                                  Counter: 0                                  │\",\n",
       "        \"│                                                                              │\",\n",
       "        \"└──────────────────────────────────────────────────────────────────────────────┘\",\n",
       "    ],\n",
       "    styles: [\n",
       "        x: 0, y: 0, fg: Reset, bg: Reset, underline: Reset, modifier: NONE,\n",
       "    ]\n",
       "}"
      ]
     },
     "execution_count": 25,
     "metadata": {},
     "output_type": "execute_result"
    }
   ],
   "source": [
    "use ratatui::widgets::Paragraph;\n",
    "\n",
    "let inner_area = area.inner(&ratatui::layout::Margin { horizontal: 0, vertical: 2 });\n",
    "\n",
    "let paragraph = Paragraph::new(format!(\"Counter: {}\", app.counter)).centered();\n",
    "paragraph.render(inner_area, &mut buf);\n",
    "\n",
    "buf"
   ]
  },
  {
   "cell_type": "markdown",
   "id": "9b6baf39-c568-4f58-9033-3aaf0485c8bd",
   "metadata": {
    "execution": {
     "iopub.execute_input": "2024-05-15T03:15:51.794866+00:00",
     "iopub.status.busy": "2024-05-15T03:15:51.794846+00:00",
     "iopub.status.idle": "2024-05-15T03:15:51.794862+00:00",
     "shell.execute_reply": "2024-05-15T03:15:52.422169+00:00"
    }
   },
   "source": [
    "This is one frame of our UI!"
   ]
  },
  {
   "cell_type": "markdown",
   "id": "99b46b01-2c30-4534-9955-d794ca7ff3d4",
   "metadata": {
    "execution": {
     "iopub.execute_input": "2024-05-15T03:18:23.882207+00:00",
     "iopub.status.busy": "2024-05-15T03:18:23.882047+00:00",
     "iopub.status.idle": "2024-05-15T03:18:23.882168+00:00",
     "shell.execute_reply": "2024-05-15T03:18:24.335416+00:00"
    }
   },
   "source": [
    "Let's put our UI code into a function."
   ]
  },
  {
   "cell_type": "code",
   "execution_count": 26,
   "id": "2063bcc6-95c7-4454-9e4f-f35fbc2a0c0e",
   "metadata": {
    "execution": {
     "iopub.execute_input": "2024-05-15T20:53:49.974111+00:00",
     "iopub.status.busy": "2024-05-15T20:53:49.974014+00:00",
     "iopub.status.idle": "2024-05-15T20:53:49.974097+00:00",
     "shell.execute_reply": "2024-05-15T20:53:50.274536+00:00"
    }
   },
   "outputs": [],
   "source": [
    "fn draw_ui(app: &App, area: Rect, buf: &mut Buffer) {\n",
    "    let block = Block::bordered().title(\"Counter Example\");\n",
    "    block.render(area, buf);\n",
    "    \n",
    "    let inner_area = area.inner(&ratatui::layout::Margin { horizontal: 0, vertical: 2 });    \n",
    "    let paragraph = Paragraph::new(format!(\"Counter: {}\", app.counter)).centered();\n",
    "    paragraph.render(inner_area, buf);\n",
    "}"
   ]
  },
  {
   "cell_type": "markdown",
   "id": "e3ace62a-1467-4392-ae1e-53d688373304",
   "metadata": {
    "execution": {
     "iopub.execute_input": "2024-05-15T03:17:42.686861+00:00",
     "iopub.status.busy": "2024-05-15T03:17:42.686627+00:00",
     "iopub.status.idle": "2024-05-15T03:17:42.686825+00:00",
     "shell.execute_reply": "2024-05-15T03:17:43.159421+00:00"
    }
   },
   "source": [
    "For the next frame, we can increment the counter and render into the buffer again."
   ]
  },
  {
   "cell_type": "code",
   "execution_count": 27,
   "id": "45716320-dede-4245-9f11-ca5afae81596",
   "metadata": {
    "execution": {
     "iopub.execute_input": "2024-05-15T20:53:50.608517+00:00",
     "iopub.status.busy": "2024-05-15T20:53:50.608226+00:00",
     "iopub.status.idle": "2024-05-15T20:53:50.608499+00:00",
     "shell.execute_reply": "2024-05-15T20:53:51.161761+00:00"
    }
   },
   "outputs": [
    {
     "data": {
      "text/plain": [
       "Buffer {\n",
       "    area: Rect { x: 0, y: 0, width: 80, height: 5 },\n",
       "    content: [\n",
       "        \"┌Counter Example───────────────────────────────────────────────────────────────┐\",\n",
       "        \"│                                                                              │\",\n",
       "        \"│                                  Counter: 1                                  │\",\n",
       "        \"│                                                                              │\",\n",
       "        \"└──────────────────────────────────────────────────────────────────────────────┘\",\n",
       "    ],\n",
       "    styles: [\n",
       "        x: 0, y: 0, fg: Reset, bg: Reset, underline: Reset, modifier: NONE,\n",
       "    ]\n",
       "}"
      ]
     },
     "execution_count": 27,
     "metadata": {},
     "output_type": "execute_result"
    }
   ],
   "source": [
    "app.counter += 1;\n",
    "\n",
    "draw_ui(&app, area, &mut buf);\n",
    "\n",
    "buf"
   ]
  },
  {
   "cell_type": "code",
   "execution_count": 28,
   "id": "d9e1b856-ba65-4183-9bc1-1544804a0852",
   "metadata": {
    "execution": {
     "iopub.execute_input": "2024-05-15T20:53:51.161839+00:00",
     "iopub.status.busy": "2024-05-15T20:53:51.161818+00:00",
     "iopub.status.idle": "2024-05-15T20:53:51.161835+00:00",
     "shell.execute_reply": "2024-05-15T20:53:51.629862+00:00"
    }
   },
   "outputs": [
    {
     "data": {
      "text/plain": [
       "Buffer {\n",
       "    area: Rect { x: 0, y: 0, width: 80, height: 5 },\n",
       "    content: [\n",
       "        \"┌Counter Example───────────────────────────────────────────────────────────────┐\",\n",
       "        \"│                                                                              │\",\n",
       "        \"│                                  Counter: 2                                  │\",\n",
       "        \"│                                                                              │\",\n",
       "        \"└──────────────────────────────────────────────────────────────────────────────┘\",\n",
       "    ],\n",
       "    styles: [\n",
       "        x: 0, y: 0, fg: Reset, bg: Reset, underline: Reset, modifier: NONE,\n",
       "    ]\n",
       "}"
      ]
     },
     "execution_count": 28,
     "metadata": {},
     "output_type": "execute_result"
    }
   ],
   "source": [
    "app.counter += 1;\n",
    "\n",
    "draw_ui(&app, area, &mut buf);\n",
    "\n",
    "buf"
   ]
  },
  {
   "cell_type": "code",
   "execution_count": 29,
   "id": "09a7a902-4c26-49d6-98d1-d6801169fe01",
   "metadata": {
    "execution": {
     "iopub.execute_input": "2024-05-15T20:53:51.629938+00:00",
     "iopub.status.busy": "2024-05-15T20:53:51.629916+00:00",
     "iopub.status.idle": "2024-05-15T20:53:51.629933+00:00",
     "shell.execute_reply": "2024-05-15T20:53:52.087905+00:00"
    }
   },
   "outputs": [
    {
     "data": {
      "text/plain": [
       "Buffer {\n",
       "    area: Rect { x: 0, y: 0, width: 80, height: 5 },\n",
       "    content: [\n",
       "        \"┌Counter Example───────────────────────────────────────────────────────────────┐\",\n",
       "        \"│                                                                              │\",\n",
       "        \"│                                  Counter: 3                                  │\",\n",
       "        \"│                                                                              │\",\n",
       "        \"└──────────────────────────────────────────────────────────────────────────────┘\",\n",
       "    ],\n",
       "    styles: [\n",
       "        x: 0, y: 0, fg: Reset, bg: Reset, underline: Reset, modifier: NONE,\n",
       "    ]\n",
       "}"
      ]
     },
     "execution_count": 29,
     "metadata": {},
     "output_type": "execute_result"
    }
   ],
   "source": [
    "app.counter += 1;\n",
    "\n",
    "draw_ui(&app, area, &mut buf);\n",
    "\n",
    "buf"
   ]
  },
  {
   "cell_type": "markdown",
   "id": "f3cf1c6d-0105-48d6-9e8c-301e09905337",
   "metadata": {},
   "source": [
    "If we repeat this process of \"updating state\" and \"drawing UI\" in a loop, we get an immediate mode rendered UI.\n",
    "\n",
    "Here's what a more complete counter application might look like with keyboard events."
   ]
  },
  {
   "cell_type": "markdown",
   "id": "2f8bcf15-262d-4afe-9676-3500ce2d1f40",
   "metadata": {
    "execution": {
     "iopub.execute_input": "2024-05-15T03:22:39.211662+00:00",
     "iopub.status.busy": "2024-05-15T03:22:39.211509+00:00",
     "iopub.status.idle": "2024-05-15T03:22:39.211635+00:00",
     "shell.execute_reply": "2024-05-15T03:22:39.545076+00:00"
    }
   },
   "source": [
    "![](./basic-app.webp)"
   ]
  },
  {
   "cell_type": "markdown",
   "id": "8e5b0adc-84fb-4c90-858e-432de82e44c8",
   "metadata": {},
   "source": [
    "If you are interested in seeing the full code regarding this, you can check out the [`basic-app`] tutorial on the Ratatui website.\n",
    "\n",
    "[`basic-app`]: https://ratatui.rs/tutorials/counter-app/basic-app/"
   ]
  },
  {
   "cell_type": "markdown",
   "id": "6e15667d-e74a-400e-a540-39b7cf3e0480",
   "metadata": {},
   "source": [
    "Ratatui uses a double buffer rendering technique that you can read about [here].\n",
    "\n",
    "[here]: https://ratatui.rs/concepts/rendering/under-the-hood/"
   ]
  },
  {
   "cell_type": "markdown",
   "id": "4670d851-89f6-41b5-8ab1-934da1ba1a95",
   "metadata": {},
   "source": [
    "## Conclusion"
   ]
  },
  {
   "cell_type": "markdown",
   "id": "4983556c-34e6-4ebf-93f1-29d09f881aaf",
   "metadata": {},
   "source": [
    "In the next post, we'll discuss layout primitives."
   ]
  },
  {
   "cell_type": "code",
   "execution_count": null,
   "id": "b6011123-57ba-444c-ad7b-d21f554a9739",
   "metadata": {},
   "outputs": [],
   "source": []
  },
  {
   "cell_type": "code",
   "execution_count": null,
   "id": "b3a7ccbc-e90a-459f-ba40-62977bb7648d",
   "metadata": {},
   "outputs": [],
   "source": []
  },
  {
   "cell_type": "code",
   "execution_count": null,
   "id": "3ddda790-b913-4641-9180-8bd1cc38734e",
   "metadata": {},
   "outputs": [],
   "source": []
  },
  {
   "cell_type": "code",
   "execution_count": null,
   "id": "b1965eb0-43a1-4701-b3ae-757ff66ab8fa",
   "metadata": {},
   "outputs": [],
   "source": []
  },
  {
   "cell_type": "code",
   "execution_count": null,
   "id": "ca4a46f6-013f-4ed7-9dd1-6f1b54ab4f74",
   "metadata": {},
   "outputs": [],
   "source": []
  }
 ],
 "metadata": {
  "kernelspec": {
   "display_name": "Rust",
   "language": "rust",
   "name": "rust"
  },
  "language_info": {
   "codemirror_mode": "rust",
   "file_extension": ".rs",
   "mimetype": "text/rust",
   "name": "Rust",
   "pygment_lexer": "rust",
   "version": ""
  },
  "widgets": {
   "application/vnd.jupyter.widget-state+json": {
    "state": {},
    "version_major": 2,
    "version_minor": 0
   }
  }
 },
 "nbformat": 4,
 "nbformat_minor": 5
}
