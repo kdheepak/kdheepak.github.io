{
 "cells": [
  {
   "cell_type": "raw",
   "id": "bf830a38-e568-4150-97b9-de5dc6172a32",
   "metadata": {
    "execution": {
     "iopub.execute_input": "2024-05-15T02:03:24.769199+00:00",
     "iopub.status.busy": "2024-05-15T02:03:24.768989+00:00",
     "iopub.status.idle": "2024-05-15T02:03:24.769163+00:00",
     "shell.execute_reply": "2024-05-15T02:03:24.910732+00:00"
    }
   },
   "source": [
    "---\n",
    "title: The Basic Building blocks of Ratatui - Part 1\n",
    "date: 2024-05-14T20:03:04-0400\n",
    "categories: [rust]\n",
    "keywords: rust, ratatui\n",
    "summary: Showcase of using Ratatui buffer and rect primitives\n",
    "---"
   ]
  },
  {
   "cell_type": "markdown",
   "id": "7e98f2e5-d4f5-4fc0-84e3-c9920e267bed",
   "metadata": {},
   "source": [
    "Ratatui is a crate for building terminal user interfaces in Rust."
   ]
  },
  {
   "cell_type": "markdown",
   "id": "95efed16-984f-42e7-b44f-a79437e56ce5",
   "metadata": {},
   "source": [
    "One of the unique features of Ratatui is that it is an immediate mode rendering library.\n",
    "In these series post, I'm going to describe some of the primitives of Ratatui.\n",
    "In every Ratatui application I build, I rely on theses concepts described in this post."
   ]
  },
  {
   "cell_type": "markdown",
   "id": "25e755d9-ec34-426a-9905-88ed41fb575e",
   "metadata": {},
   "source": [
    "## Immediate Mode Rendering"
   ]
  },
  {
   "cell_type": "markdown",
   "id": "a8656c9d-18ff-4843-9088-efb76fe4d9ae",
   "metadata": {},
   "source": [
    "User interfaces can broadly be classified into two kinds:\n",
    "\n",
    "- immediate mode GUIs,\n",
    "- retained mode GUIs.\n",
    "\n",
    "Casey Muratori has a great video on immediate mode rendering. \n",
    "\n",
    "{{< video https://www.youtube.com/watch?v=Z1qyvQsjK5Y >}}\n",
    "\n",
    "At a very high level, in retained mode GUIs, you create UI elements and pass it to a framework and the framework is in charge of displaying them. For example, you can create a text field and input field, and then the browser will render them. The browser is in charge of handling events, and as a developer you have to define how these events interact with these widgets."
   ]
  },
  {
   "cell_type": "markdown",
   "id": "a06d6ac4-f78b-4ea3-81bb-b5437f925186",
   "metadata": {},
   "source": [
    "For example, in a simple counter example in a browser, we have to set up an `incrementCounter` and `decrementCounter` callbacks that update the relevant element's state. The browser is responsible for displaying these elements, receiving user inputs, calling the appropriate `onclick` callback, etc."
   ]
  },
  {
   "cell_type": "code",
   "execution_count": 2,
   "id": "73c1a207-8f25-467a-b3ed-2a5d6ac25461",
   "metadata": {
    "execution": {
     "iopub.execute_input": "2024-05-22T00:47:55.511542+00:00",
     "iopub.status.busy": "2024-05-22T00:47:55.511382+00:00",
     "iopub.status.idle": "2024-05-22T00:47:55.511513+00:00",
     "shell.execute_reply": "2024-05-22T00:48:07.671086+00:00"
    }
   },
   "outputs": [
    {
     "data": {
      "text/html": [
       "<div style=\"display: flex; justify-content:start; gap: 1em; margin: 1em\">\n",
       "\n",
       "\n",
       "<button onclick=\"decrementCounter()\">Decrement</button>\n",
       "\n",
       "<text> Counter: </text>\n",
       "<text id=\"counter\">0</text>\n",
       "\n",
       "<button onclick=\"incrementCounter()\">Increment</button>\n",
       "\n",
       "<script>\n",
       "    var counterElement = document.getElementById(\"counter\");\n",
       "\n",
       "    var counterValue = 0;\n",
       "    counterElement.textContent = counterValue;\n",
       "\n",
       "    function incrementCounter() {\n",
       "        counterValue++;\n",
       "        counterElement.textContent = counterValue;\n",
       "    }\n",
       "\n",
       "    function decrementCounter() {\n",
       "        counterValue--;\n",
       "        counterElement.textContent = counterValue;\n",
       "    }\n",
       "</script>\n",
       "\n",
       "</div>"
      ],
      "text/plain": [
       "()"
      ]
     },
     "execution_count": 2,
     "metadata": {},
     "output_type": "execute_result"
    }
   ],
   "source": [
    "//| code-fold: true\n",
    ":dep ratatui = \"0.26.2\"\n",
    ":dep ratatui-macros = \"0.4.0\"\n",
    "    \n",
    "fn span_to_html(s: ratatui::text::Span) -> String{\n",
    "    let mut html = String::new();\n",
    "    html.push_str(\"<span style=\\\"\");\n",
    "\n",
    "    // Set foreground color\n",
    "    if let Some(color) = &s.style.fg {\n",
    "        html.push_str(&format!(\"color: {};\", color));\n",
    "    }\n",
    "\n",
    "    // Set background color\n",
    "    if let Some(color) = &s.style.bg {\n",
    "        html.push_str(&format!(\"background-color: {};\", color));\n",
    "    }\n",
    "\n",
    "    // Add modifiers\n",
    "    match s.style.add_modifier {\n",
    "        ratatui::style::Modifier::BOLD => html.push_str(\"font-weight: bold;\"),\n",
    "        ratatui::style::Modifier::ITALIC => html.push_str(\"font-style: italic;\"),\n",
    "        ratatui::style::Modifier::UNDERLINED => html.push_str(\"text-decoration: underline;\"),\n",
    "        _ => {}\n",
    "    }\n",
    "    html.push_str(\"\\\">\");\n",
    "    html.push_str(&s.content);\n",
    "    html.push_str(\"</span>\");\n",
    "    html\n",
    "}\n",
    "\n",
    "fn buffer_to_html(buf: &ratatui::buffer::Buffer) -> String {\n",
    "    fn escape_special_html_characters(text: &str) -> String {\n",
    "        text.replace(\"&\", \"&amp;\")\n",
    "            .replace(\"<\", \"&lt;\")\n",
    "            .replace(\">\", \"&gt;\")\n",
    "            .replace(\"\\\"\", \"&quot;\")\n",
    "            .replace(\"'\", \"&#39;\")\n",
    "    }\n",
    "\n",
    "    let mut html = String::from(\"<pre><code>\");\n",
    "\n",
    "    let w = buf.area.width;\n",
    "    let h = buf.area.height;\n",
    "\n",
    "    for y in 0..h {\n",
    "        for x in 0..w {\n",
    "            let s = buf.get(x, y).symbol();\n",
    "            \n",
    "            let escaped = escape_special_html_characters(s); \n",
    "\n",
    "            let style = buf.get(x, y).style();\n",
    "\n",
    "            let span = ratatui::text::Span::styled(s, style);\n",
    "            \n",
    "            html.push_str(&span_to_html(span));\n",
    "        }\n",
    "        html.push('\\n');\n",
    "    }\n",
    "\n",
    "    html.push_str(\"</code></pre>\");\n",
    "\n",
    "    html \n",
    "}\n",
    "    \n",
    "fn show_html<D>(content: D) where D: std::fmt::Display {\n",
    "    println!(r#\"EVCXR_BEGIN_CONTENT text/html\n",
    "<div style=\"display: flex; justify-content:start; gap: 1em; margin: 1em\">\n",
    "{}\n",
    "</div>\n",
    "EVCXR_END_CONTENT\"#, content);\n",
    "}\n",
    "\n",
    "\n",
    "show_html(r#\"\n",
    "\n",
    "<button onclick=\"decrementCounter()\">Decrement</button>\n",
    "\n",
    "<text> Counter: </text>\n",
    "<text id=\"counter\">0</text>\n",
    "\n",
    "<button onclick=\"incrementCounter()\">Increment</button>\n",
    "\n",
    "<script>\n",
    "    var counterElement = document.getElementById(\"counter\");\n",
    "\n",
    "    var counterValue = 0;\n",
    "    counterElement.textContent = counterValue;\n",
    "\n",
    "    function incrementCounter() {\n",
    "        counterValue++;\n",
    "        counterElement.textContent = counterValue;\n",
    "    }\n",
    "\n",
    "    function decrementCounter() {\n",
    "        counterValue--;\n",
    "        counterElement.textContent = counterValue;\n",
    "    }\n",
    "</script>\n",
    "\"#)"
   ]
  },
  {
   "cell_type": "markdown",
   "id": "8b67f1f5-76f8-40c1-bbf8-2460e0ec9487",
   "metadata": {},
   "source": [
    "In immediate mode rendering, however, _you_ are responsible for rendering the UI every \"frame\".\n",
    "This is typically done in a `for` loop or a `while true` loop in your application; and you use an immediate mode rendering library (in our case `ratatui`) to render the elements.\n",
    "This means you as the developer of the application using immediate mode rendering are responsible for a lot more things but it also gives you more control and freedom."
   ]
  },
  {
   "cell_type": "markdown",
   "id": "debc8cb1-8056-4351-8524-6be3bd198f28",
   "metadata": {},
   "source": [
    "## `Rect` Primitives"
   ]
  },
  {
   "cell_type": "code",
   "execution_count": 3,
   "id": "7864dad5-68b0-41c7-a5a1-3127e70776fe",
   "metadata": {
    "execution": {
     "iopub.execute_input": "2024-05-22T00:48:07.671158+00:00",
     "iopub.status.busy": "2024-05-22T00:48:07.671139+00:00",
     "iopub.status.idle": "2024-05-22T00:48:07.671154+00:00",
     "shell.execute_reply": "2024-05-22T00:48:07.671262+00:00"
    }
   },
   "outputs": [],
   "source": [
    "//| code-fold: true\n",
    ":dep ratatui = \"0.26.2\"\n",
    ":dep ratatui-macros = \"0.4.0\""
   ]
  },
  {
   "cell_type": "markdown",
   "id": "2a9acb18-a92e-4d1c-b0a3-8937ef6d078a",
   "metadata": {},
   "source": [
    "One of Ratatui's core primitives is a `Rect` struct. Let's create one:"
   ]
  },
  {
   "cell_type": "code",
   "execution_count": 4,
   "id": "e6fea32c-bd84-4374-b308-6cb2f1300228",
   "metadata": {
    "execution": {
     "iopub.execute_input": "2024-05-22T00:48:07.671451+00:00",
     "iopub.status.busy": "2024-05-22T00:48:07.671393+00:00",
     "iopub.status.idle": "2024-05-22T00:48:07.671442+00:00",
     "shell.execute_reply": "2024-05-22T00:48:09.303585+00:00"
    }
   },
   "outputs": [
    {
     "data": {
      "text/plain": [
       "Rect { x: 0, y: 0, width: 80, height: 5 }"
      ]
     },
     "execution_count": 4,
     "metadata": {},
     "output_type": "execute_result"
    }
   ],
   "source": [
    "let (x, y, width, height) = (0, 0, 80, 5);\n",
    "let area = ratatui::layout::Rect::new(x, y, width, height);\n",
    "area"
   ]
  },
  {
   "cell_type": "markdown",
   "id": "b6ea5368-b132-4a17-a0e9-58d47f10157c",
   "metadata": {},
   "source": [
    "We can also create an inner `Rect` by using the `inner()` method and a `Margin` struct:"
   ]
  },
  {
   "cell_type": "code",
   "execution_count": 5,
   "id": "0ff47681-5b9b-4fee-90a1-65f2b3192872",
   "metadata": {
    "execution": {
     "iopub.execute_input": "2024-05-22T00:48:09.303654+00:00",
     "iopub.status.busy": "2024-05-22T00:48:09.303638+00:00",
     "iopub.status.idle": "2024-05-22T00:48:09.303651+00:00",
     "shell.execute_reply": "2024-05-22T00:48:09.854229+00:00"
    }
   },
   "outputs": [
    {
     "data": {
      "text/plain": [
       "Rect { x: 2, y: 1, width: 76, height: 3 }"
      ]
     },
     "execution_count": 5,
     "metadata": {},
     "output_type": "execute_result"
    }
   ],
   "source": [
    "let (horizontal, vertical) = (2, 1);\n",
    "area.inner(&ratatui::layout::Margin::new(horizontal, vertical))"
   ]
  },
  {
   "cell_type": "markdown",
   "id": "608f915d-cc5a-495e-874e-c093f6d128fd",
   "metadata": {},
   "source": [
    "`Rect` has 4 public fields,\n",
    "\n",
    "- `x`,\n",
    "- `y`,\n",
    "- `width` and\n",
    "- `height`\n"
   ]
  },
  {
   "cell_type": "markdown",
   "id": "d97cd6b8-c5fe-47b0-b46b-96217c437297",
   "metadata": {},
   "source": [
    "::: callout-note\n",
    "\n",
    "In `ratatui` (and terminals in general), the origin is at the top left and increases horizontally left to right, and increases vertically top to bottom.\n",
    "\n",
    "```plain\n",
    "\"(0,0)\" -------------> x \"(columns)\"\n",
    "\n",
    "   |\n",
    "   |\n",
    "   |\n",
    "   |\n",
    "   v\n",
    "\n",
    "   y \"(rows)\"\n",
    "```\n",
    "\n",
    ":::"
   ]
  },
  {
   "cell_type": "markdown",
   "id": "b9c2a43a-af20-46e5-8d7c-b57eb26ccf50",
   "metadata": {},
   "source": [
    "If we want to loop though all elements in a `Rect`, we can use the following pattern:"
   ]
  },
  {
   "cell_type": "code",
   "execution_count": 6,
   "id": "0e7b47d4-3bad-449d-83eb-ba1a703a9a41",
   "metadata": {
    "execution": {
     "iopub.execute_input": "2024-05-22T00:48:09.854292+00:00",
     "iopub.status.busy": "2024-05-22T00:48:09.854273+00:00",
     "iopub.status.idle": "2024-05-22T00:48:09.854288+00:00",
     "shell.execute_reply": "2024-05-22T00:48:10.212586+00:00"
    }
   },
   "outputs": [],
   "source": [
    "for x in area.left()..area.right() {\n",
    "    for y in area.top()..area.bottom() {\n",
    "        // ...\n",
    "    }\n",
    "};"
   ]
  },
  {
   "cell_type": "markdown",
   "id": "ab5e52ee-e2c7-4e5e-ba8b-22b481845329",
   "metadata": {},
   "source": [
    "## `Buffer` Primitives"
   ]
  },
  {
   "cell_type": "markdown",
   "id": "bc089119-66a8-4e4e-9659-32e827643ec2",
   "metadata": {
    "execution": {
     "iopub.execute_input": "2024-05-15T05:32:51.199315+00:00",
     "iopub.status.busy": "2024-05-15T05:32:51.199121+00:00",
     "iopub.status.idle": "2024-05-15T05:32:51.199273+00:00",
     "shell.execute_reply": "2024-05-15T05:32:51.501025+00:00"
    }
   },
   "source": [
    "In Ratatui, every \"widget\" renders into a `Buffer` of a fixed size that is equal to the terminal dimensions. \n",
    "Let create an empty buffer:"
   ]
  },
  {
   "cell_type": "code",
   "execution_count": 7,
   "id": "638f7269-d51c-43bd-8e25-079968d07e5a",
   "metadata": {
    "execution": {
     "iopub.execute_input": "2024-05-22T00:48:10.212716+00:00",
     "iopub.status.busy": "2024-05-22T00:48:10.212692+00:00",
     "iopub.status.idle": "2024-05-22T00:48:10.212711+00:00",
     "shell.execute_reply": "2024-05-22T00:48:10.601324+00:00"
    }
   },
   "outputs": [],
   "source": [
    "// create a `Rect`\n",
    "let (x, y, width, height) = (0, 0, 80, 5);\n",
    "let area = ratatui::layout::Rect::new(x, y, width, height);\n",
    "\n",
    "// create a `Buffer` that is of size of `area`\n",
    "let mut buf = ratatui::buffer::Buffer::empty(area);"
   ]
  },
  {
   "cell_type": "markdown",
   "id": "eb5df89a-4d5d-4957-9f43-e39ecb76f0e7",
   "metadata": {},
   "source": [
    "We can print the `buf` here as HTML using this function:"
   ]
  },
  {
   "cell_type": "code",
   "execution_count": 8,
   "id": "56b41ec5-209a-4f74-ae44-6d24b3882f9d",
   "metadata": {
    "execution": {
     "iopub.execute_input": "2024-05-22T00:48:10.601444+00:00",
     "iopub.status.busy": "2024-05-22T00:48:10.601422+00:00",
     "iopub.status.idle": "2024-05-22T00:48:10.601439+00:00",
     "shell.execute_reply": "2024-05-22T00:48:11.104904+00:00"
    }
   },
   "outputs": [
    {
     "data": {
      "text/html": [
       "<div style=\"display: flex; justify-content:start; gap: 1em; margin: 1em\">\n",
       "<pre><code><span style=\"color: Reset;background-color: Reset;\"> </span><span style=\"color: Reset;background-color: Reset;\"> </span><span style=\"color: Reset;background-color: Reset;\"> </span><span style=\"color: Reset;background-color: Reset;\"> </span><span style=\"color: Reset;background-color: Reset;\"> </span><span style=\"color: Reset;background-color: Reset;\"> </span><span style=\"color: Reset;background-color: Reset;\"> </span><span style=\"color: Reset;background-color: Reset;\"> </span><span style=\"color: Reset;background-color: Reset;\"> </span><span style=\"color: Reset;background-color: Reset;\"> </span><span style=\"color: Reset;background-color: Reset;\"> </span><span style=\"color: Reset;background-color: Reset;\"> </span><span style=\"color: Reset;background-color: Reset;\"> </span><span style=\"color: Reset;background-color: Reset;\"> </span><span style=\"color: Reset;background-color: Reset;\"> </span><span style=\"color: Reset;background-color: Reset;\"> </span><span style=\"color: Reset;background-color: Reset;\"> </span><span style=\"color: Reset;background-color: Reset;\"> </span><span style=\"color: Reset;background-color: Reset;\"> </span><span style=\"color: Reset;background-color: Reset;\"> </span><span style=\"color: Reset;background-color: Reset;\"> </span><span style=\"color: Reset;background-color: Reset;\"> </span><span style=\"color: Reset;background-color: Reset;\"> </span><span style=\"color: Reset;background-color: Reset;\"> </span><span style=\"color: Reset;background-color: Reset;\"> </span><span style=\"color: Reset;background-color: Reset;\"> </span><span style=\"color: Reset;background-color: Reset;\"> </span><span style=\"color: Reset;background-color: Reset;\"> </span><span style=\"color: Reset;background-color: Reset;\"> </span><span style=\"color: Reset;background-color: Reset;\"> </span><span style=\"color: Reset;background-color: Reset;\"> </span><span style=\"color: Reset;background-color: Reset;\"> </span><span style=\"color: Reset;background-color: Reset;\"> </span><span style=\"color: Reset;background-color: Reset;\"> </span><span style=\"color: Reset;background-color: Reset;\"> </span><span style=\"color: Reset;background-color: Reset;\"> </span><span style=\"color: Reset;background-color: Reset;\"> </span><span style=\"color: Reset;background-color: Reset;\"> </span><span style=\"color: Reset;background-color: Reset;\"> </span><span style=\"color: Reset;background-color: Reset;\"> </span><span style=\"color: Reset;background-color: Reset;\"> </span><span style=\"color: Reset;background-color: Reset;\"> </span><span style=\"color: Reset;background-color: Reset;\"> </span><span style=\"color: Reset;background-color: Reset;\"> </span><span style=\"color: Reset;background-color: Reset;\"> </span><span style=\"color: Reset;background-color: Reset;\"> </span><span style=\"color: Reset;background-color: Reset;\"> </span><span style=\"color: Reset;background-color: Reset;\"> </span><span style=\"color: Reset;background-color: Reset;\"> </span><span style=\"color: Reset;background-color: Reset;\"> </span><span style=\"color: Reset;background-color: Reset;\"> </span><span style=\"color: Reset;background-color: Reset;\"> </span><span style=\"color: Reset;background-color: Reset;\"> </span><span style=\"color: Reset;background-color: Reset;\"> </span><span style=\"color: Reset;background-color: Reset;\"> </span><span style=\"color: Reset;background-color: Reset;\"> </span><span style=\"color: Reset;background-color: Reset;\"> </span><span style=\"color: Reset;background-color: Reset;\"> </span><span style=\"color: Reset;background-color: Reset;\"> </span><span style=\"color: Reset;background-color: Reset;\"> </span><span style=\"color: Reset;background-color: Reset;\"> </span><span style=\"color: Reset;background-color: Reset;\"> </span><span style=\"color: Reset;background-color: Reset;\"> </span><span style=\"color: Reset;background-color: Reset;\"> </span><span style=\"color: Reset;background-color: Reset;\"> </span><span style=\"color: Reset;background-color: Reset;\"> </span><span style=\"color: Reset;background-color: Reset;\"> </span><span style=\"color: Reset;background-color: Reset;\"> </span><span style=\"color: Reset;background-color: Reset;\"> </span><span style=\"color: Reset;background-color: Reset;\"> </span><span style=\"color: Reset;background-color: Reset;\"> </span><span style=\"color: Reset;background-color: Reset;\"> </span><span style=\"color: Reset;background-color: Reset;\"> </span><span style=\"color: Reset;background-color: Reset;\"> </span><span style=\"color: Reset;background-color: Reset;\"> </span><span style=\"color: Reset;background-color: Reset;\"> </span><span style=\"color: Reset;background-color: Reset;\"> </span><span style=\"color: Reset;background-color: Reset;\"> </span><span style=\"color: Reset;background-color: Reset;\"> </span><span style=\"color: Reset;background-color: Reset;\"> </span>\n",
       "<span style=\"color: Reset;background-color: Reset;\"> </span><span style=\"color: Reset;background-color: Reset;\"> </span><span style=\"color: Reset;background-color: Reset;\"> </span><span style=\"color: Reset;background-color: Reset;\"> </span><span style=\"color: Reset;background-color: Reset;\"> </span><span style=\"color: Reset;background-color: Reset;\"> </span><span style=\"color: Reset;background-color: Reset;\"> </span><span style=\"color: Reset;background-color: Reset;\"> </span><span style=\"color: Reset;background-color: Reset;\"> </span><span style=\"color: Reset;background-color: Reset;\"> </span><span style=\"color: Reset;background-color: Reset;\"> </span><span style=\"color: Reset;background-color: Reset;\"> </span><span style=\"color: Reset;background-color: Reset;\"> </span><span style=\"color: Reset;background-color: Reset;\"> </span><span style=\"color: Reset;background-color: Reset;\"> </span><span style=\"color: Reset;background-color: Reset;\"> </span><span style=\"color: Reset;background-color: Reset;\"> </span><span style=\"color: Reset;background-color: Reset;\"> </span><span style=\"color: Reset;background-color: Reset;\"> </span><span style=\"color: Reset;background-color: Reset;\"> </span><span style=\"color: Reset;background-color: Reset;\"> </span><span style=\"color: Reset;background-color: Reset;\"> </span><span style=\"color: Reset;background-color: Reset;\"> </span><span style=\"color: Reset;background-color: Reset;\"> </span><span style=\"color: Reset;background-color: Reset;\"> </span><span style=\"color: Reset;background-color: Reset;\"> </span><span style=\"color: Reset;background-color: Reset;\"> </span><span style=\"color: Reset;background-color: Reset;\"> </span><span style=\"color: Reset;background-color: Reset;\"> </span><span style=\"color: Reset;background-color: Reset;\"> </span><span style=\"color: Reset;background-color: Reset;\"> </span><span style=\"color: Reset;background-color: Reset;\"> </span><span style=\"color: Reset;background-color: Reset;\"> </span><span style=\"color: Reset;background-color: Reset;\"> </span><span style=\"color: Reset;background-color: Reset;\"> </span><span style=\"color: Reset;background-color: Reset;\"> </span><span style=\"color: Reset;background-color: Reset;\"> </span><span style=\"color: Reset;background-color: Reset;\"> </span><span style=\"color: Reset;background-color: Reset;\"> </span><span style=\"color: Reset;background-color: Reset;\"> </span><span style=\"color: Reset;background-color: Reset;\"> </span><span style=\"color: Reset;background-color: Reset;\"> </span><span style=\"color: Reset;background-color: Reset;\"> </span><span style=\"color: Reset;background-color: Reset;\"> </span><span style=\"color: Reset;background-color: Reset;\"> </span><span style=\"color: Reset;background-color: Reset;\"> </span><span style=\"color: Reset;background-color: Reset;\"> </span><span style=\"color: Reset;background-color: Reset;\"> </span><span style=\"color: Reset;background-color: Reset;\"> </span><span style=\"color: Reset;background-color: Reset;\"> </span><span style=\"color: Reset;background-color: Reset;\"> </span><span style=\"color: Reset;background-color: Reset;\"> </span><span style=\"color: Reset;background-color: Reset;\"> </span><span style=\"color: Reset;background-color: Reset;\"> </span><span style=\"color: Reset;background-color: Reset;\"> </span><span style=\"color: Reset;background-color: Reset;\"> </span><span style=\"color: Reset;background-color: Reset;\"> </span><span style=\"color: Reset;background-color: Reset;\"> </span><span style=\"color: Reset;background-color: Reset;\"> </span><span style=\"color: Reset;background-color: Reset;\"> </span><span style=\"color: Reset;background-color: Reset;\"> </span><span style=\"color: Reset;background-color: Reset;\"> </span><span style=\"color: Reset;background-color: Reset;\"> </span><span style=\"color: Reset;background-color: Reset;\"> </span><span style=\"color: Reset;background-color: Reset;\"> </span><span style=\"color: Reset;background-color: Reset;\"> </span><span style=\"color: Reset;background-color: Reset;\"> </span><span style=\"color: Reset;background-color: Reset;\"> </span><span style=\"color: Reset;background-color: Reset;\"> </span><span style=\"color: Reset;background-color: Reset;\"> </span><span style=\"color: Reset;background-color: Reset;\"> </span><span style=\"color: Reset;background-color: Reset;\"> </span><span style=\"color: Reset;background-color: Reset;\"> </span><span style=\"color: Reset;background-color: Reset;\"> </span><span style=\"color: Reset;background-color: Reset;\"> </span><span style=\"color: Reset;background-color: Reset;\"> </span><span style=\"color: Reset;background-color: Reset;\"> </span><span style=\"color: Reset;background-color: Reset;\"> </span><span style=\"color: Reset;background-color: Reset;\"> </span><span style=\"color: Reset;background-color: Reset;\"> </span>\n",
       "<span style=\"color: Reset;background-color: Reset;\"> </span><span style=\"color: Reset;background-color: Reset;\"> </span><span style=\"color: Reset;background-color: Reset;\"> </span><span style=\"color: Reset;background-color: Reset;\"> </span><span style=\"color: Reset;background-color: Reset;\"> </span><span style=\"color: Reset;background-color: Reset;\"> </span><span style=\"color: Reset;background-color: Reset;\"> </span><span style=\"color: Reset;background-color: Reset;\"> </span><span style=\"color: Reset;background-color: Reset;\"> </span><span style=\"color: Reset;background-color: Reset;\"> </span><span style=\"color: Reset;background-color: Reset;\"> </span><span style=\"color: Reset;background-color: Reset;\"> </span><span style=\"color: Reset;background-color: Reset;\"> </span><span style=\"color: Reset;background-color: Reset;\"> </span><span style=\"color: Reset;background-color: Reset;\"> </span><span style=\"color: Reset;background-color: Reset;\"> </span><span style=\"color: Reset;background-color: Reset;\"> </span><span style=\"color: Reset;background-color: Reset;\"> </span><span style=\"color: Reset;background-color: Reset;\"> </span><span style=\"color: Reset;background-color: Reset;\"> </span><span style=\"color: Reset;background-color: Reset;\"> </span><span style=\"color: Reset;background-color: Reset;\"> </span><span style=\"color: Reset;background-color: Reset;\"> </span><span style=\"color: Reset;background-color: Reset;\"> </span><span style=\"color: Reset;background-color: Reset;\"> </span><span style=\"color: Reset;background-color: Reset;\"> </span><span style=\"color: Reset;background-color: Reset;\"> </span><span style=\"color: Reset;background-color: Reset;\"> </span><span style=\"color: Reset;background-color: Reset;\"> </span><span style=\"color: Reset;background-color: Reset;\"> </span><span style=\"color: Reset;background-color: Reset;\"> </span><span style=\"color: Reset;background-color: Reset;\"> </span><span style=\"color: Reset;background-color: Reset;\"> </span><span style=\"color: Reset;background-color: Reset;\"> </span><span style=\"color: Reset;background-color: Reset;\"> </span><span style=\"color: Reset;background-color: Reset;\"> </span><span style=\"color: Reset;background-color: Reset;\"> </span><span style=\"color: Reset;background-color: Reset;\"> </span><span style=\"color: Reset;background-color: Reset;\"> </span><span style=\"color: Reset;background-color: Reset;\"> </span><span style=\"color: Reset;background-color: Reset;\"> </span><span style=\"color: Reset;background-color: Reset;\"> </span><span style=\"color: Reset;background-color: Reset;\"> </span><span style=\"color: Reset;background-color: Reset;\"> </span><span style=\"color: Reset;background-color: Reset;\"> </span><span style=\"color: Reset;background-color: Reset;\"> </span><span style=\"color: Reset;background-color: Reset;\"> </span><span style=\"color: Reset;background-color: Reset;\"> </span><span style=\"color: Reset;background-color: Reset;\"> </span><span style=\"color: Reset;background-color: Reset;\"> </span><span style=\"color: Reset;background-color: Reset;\"> </span><span style=\"color: Reset;background-color: Reset;\"> </span><span style=\"color: Reset;background-color: Reset;\"> </span><span style=\"color: Reset;background-color: Reset;\"> </span><span style=\"color: Reset;background-color: Reset;\"> </span><span style=\"color: Reset;background-color: Reset;\"> </span><span style=\"color: Reset;background-color: Reset;\"> </span><span style=\"color: Reset;background-color: Reset;\"> </span><span style=\"color: Reset;background-color: Reset;\"> </span><span style=\"color: Reset;background-color: Reset;\"> </span><span style=\"color: Reset;background-color: Reset;\"> </span><span style=\"color: Reset;background-color: Reset;\"> </span><span style=\"color: Reset;background-color: Reset;\"> </span><span style=\"color: Reset;background-color: Reset;\"> </span><span style=\"color: Reset;background-color: Reset;\"> </span><span style=\"color: Reset;background-color: Reset;\"> </span><span style=\"color: Reset;background-color: Reset;\"> </span><span style=\"color: Reset;background-color: Reset;\"> </span><span style=\"color: Reset;background-color: Reset;\"> </span><span style=\"color: Reset;background-color: Reset;\"> </span><span style=\"color: Reset;background-color: Reset;\"> </span><span style=\"color: Reset;background-color: Reset;\"> </span><span style=\"color: Reset;background-color: Reset;\"> </span><span style=\"color: Reset;background-color: Reset;\"> </span><span style=\"color: Reset;background-color: Reset;\"> </span><span style=\"color: Reset;background-color: Reset;\"> </span><span style=\"color: Reset;background-color: Reset;\"> </span><span style=\"color: Reset;background-color: Reset;\"> </span><span style=\"color: Reset;background-color: Reset;\"> </span><span style=\"color: Reset;background-color: Reset;\"> </span>\n",
       "<span style=\"color: Reset;background-color: Reset;\"> </span><span style=\"color: Reset;background-color: Reset;\"> </span><span style=\"color: Reset;background-color: Reset;\"> </span><span style=\"color: Reset;background-color: Reset;\"> </span><span style=\"color: Reset;background-color: Reset;\"> </span><span style=\"color: Reset;background-color: Reset;\"> </span><span style=\"color: Reset;background-color: Reset;\"> </span><span style=\"color: Reset;background-color: Reset;\"> </span><span style=\"color: Reset;background-color: Reset;\"> </span><span style=\"color: Reset;background-color: Reset;\"> </span><span style=\"color: Reset;background-color: Reset;\"> </span><span style=\"color: Reset;background-color: Reset;\"> </span><span style=\"color: Reset;background-color: Reset;\"> </span><span style=\"color: Reset;background-color: Reset;\"> </span><span style=\"color: Reset;background-color: Reset;\"> </span><span style=\"color: Reset;background-color: Reset;\"> </span><span style=\"color: Reset;background-color: Reset;\"> </span><span style=\"color: Reset;background-color: Reset;\"> </span><span style=\"color: Reset;background-color: Reset;\"> </span><span style=\"color: Reset;background-color: Reset;\"> </span><span style=\"color: Reset;background-color: Reset;\"> </span><span style=\"color: Reset;background-color: Reset;\"> </span><span style=\"color: Reset;background-color: Reset;\"> </span><span style=\"color: Reset;background-color: Reset;\"> </span><span style=\"color: Reset;background-color: Reset;\"> </span><span style=\"color: Reset;background-color: Reset;\"> </span><span style=\"color: Reset;background-color: Reset;\"> </span><span style=\"color: Reset;background-color: Reset;\"> </span><span style=\"color: Reset;background-color: Reset;\"> </span><span style=\"color: Reset;background-color: Reset;\"> </span><span style=\"color: Reset;background-color: Reset;\"> </span><span style=\"color: Reset;background-color: Reset;\"> </span><span style=\"color: Reset;background-color: Reset;\"> </span><span style=\"color: Reset;background-color: Reset;\"> </span><span style=\"color: Reset;background-color: Reset;\"> </span><span style=\"color: Reset;background-color: Reset;\"> </span><span style=\"color: Reset;background-color: Reset;\"> </span><span style=\"color: Reset;background-color: Reset;\"> </span><span style=\"color: Reset;background-color: Reset;\"> </span><span style=\"color: Reset;background-color: Reset;\"> </span><span style=\"color: Reset;background-color: Reset;\"> </span><span style=\"color: Reset;background-color: Reset;\"> </span><span style=\"color: Reset;background-color: Reset;\"> </span><span style=\"color: Reset;background-color: Reset;\"> </span><span style=\"color: Reset;background-color: Reset;\"> </span><span style=\"color: Reset;background-color: Reset;\"> </span><span style=\"color: Reset;background-color: Reset;\"> </span><span style=\"color: Reset;background-color: Reset;\"> </span><span style=\"color: Reset;background-color: Reset;\"> </span><span style=\"color: Reset;background-color: Reset;\"> </span><span style=\"color: Reset;background-color: Reset;\"> </span><span style=\"color: Reset;background-color: Reset;\"> </span><span style=\"color: Reset;background-color: Reset;\"> </span><span style=\"color: Reset;background-color: Reset;\"> </span><span style=\"color: Reset;background-color: Reset;\"> </span><span style=\"color: Reset;background-color: Reset;\"> </span><span style=\"color: Reset;background-color: Reset;\"> </span><span style=\"color: Reset;background-color: Reset;\"> </span><span style=\"color: Reset;background-color: Reset;\"> </span><span style=\"color: Reset;background-color: Reset;\"> </span><span style=\"color: Reset;background-color: Reset;\"> </span><span style=\"color: Reset;background-color: Reset;\"> </span><span style=\"color: Reset;background-color: Reset;\"> </span><span style=\"color: Reset;background-color: Reset;\"> </span><span style=\"color: Reset;background-color: Reset;\"> </span><span style=\"color: Reset;background-color: Reset;\"> </span><span style=\"color: Reset;background-color: Reset;\"> </span><span style=\"color: Reset;background-color: Reset;\"> </span><span style=\"color: Reset;background-color: Reset;\"> </span><span style=\"color: Reset;background-color: Reset;\"> </span><span style=\"color: Reset;background-color: Reset;\"> </span><span style=\"color: Reset;background-color: Reset;\"> </span><span style=\"color: Reset;background-color: Reset;\"> </span><span style=\"color: Reset;background-color: Reset;\"> </span><span style=\"color: Reset;background-color: Reset;\"> </span><span style=\"color: Reset;background-color: Reset;\"> </span><span style=\"color: Reset;background-color: Reset;\"> </span><span style=\"color: Reset;background-color: Reset;\"> </span><span style=\"color: Reset;background-color: Reset;\"> </span><span style=\"color: Reset;background-color: Reset;\"> </span>\n",
       "<span style=\"color: Reset;background-color: Reset;\"> </span><span style=\"color: Reset;background-color: Reset;\"> </span><span style=\"color: Reset;background-color: Reset;\"> </span><span style=\"color: Reset;background-color: Reset;\"> </span><span style=\"color: Reset;background-color: Reset;\"> </span><span style=\"color: Reset;background-color: Reset;\"> </span><span style=\"color: Reset;background-color: Reset;\"> </span><span style=\"color: Reset;background-color: Reset;\"> </span><span style=\"color: Reset;background-color: Reset;\"> </span><span style=\"color: Reset;background-color: Reset;\"> </span><span style=\"color: Reset;background-color: Reset;\"> </span><span style=\"color: Reset;background-color: Reset;\"> </span><span style=\"color: Reset;background-color: Reset;\"> </span><span style=\"color: Reset;background-color: Reset;\"> </span><span style=\"color: Reset;background-color: Reset;\"> </span><span style=\"color: Reset;background-color: Reset;\"> </span><span style=\"color: Reset;background-color: Reset;\"> </span><span style=\"color: Reset;background-color: Reset;\"> </span><span style=\"color: Reset;background-color: Reset;\"> </span><span style=\"color: Reset;background-color: Reset;\"> </span><span style=\"color: Reset;background-color: Reset;\"> </span><span style=\"color: Reset;background-color: Reset;\"> </span><span style=\"color: Reset;background-color: Reset;\"> </span><span style=\"color: Reset;background-color: Reset;\"> </span><span style=\"color: Reset;background-color: Reset;\"> </span><span style=\"color: Reset;background-color: Reset;\"> </span><span style=\"color: Reset;background-color: Reset;\"> </span><span style=\"color: Reset;background-color: Reset;\"> </span><span style=\"color: Reset;background-color: Reset;\"> </span><span style=\"color: Reset;background-color: Reset;\"> </span><span style=\"color: Reset;background-color: Reset;\"> </span><span style=\"color: Reset;background-color: Reset;\"> </span><span style=\"color: Reset;background-color: Reset;\"> </span><span style=\"color: Reset;background-color: Reset;\"> </span><span style=\"color: Reset;background-color: Reset;\"> </span><span style=\"color: Reset;background-color: Reset;\"> </span><span style=\"color: Reset;background-color: Reset;\"> </span><span style=\"color: Reset;background-color: Reset;\"> </span><span style=\"color: Reset;background-color: Reset;\"> </span><span style=\"color: Reset;background-color: Reset;\"> </span><span style=\"color: Reset;background-color: Reset;\"> </span><span style=\"color: Reset;background-color: Reset;\"> </span><span style=\"color: Reset;background-color: Reset;\"> </span><span style=\"color: Reset;background-color: Reset;\"> </span><span style=\"color: Reset;background-color: Reset;\"> </span><span style=\"color: Reset;background-color: Reset;\"> </span><span style=\"color: Reset;background-color: Reset;\"> </span><span style=\"color: Reset;background-color: Reset;\"> </span><span style=\"color: Reset;background-color: Reset;\"> </span><span style=\"color: Reset;background-color: Reset;\"> </span><span style=\"color: Reset;background-color: Reset;\"> </span><span style=\"color: Reset;background-color: Reset;\"> </span><span style=\"color: Reset;background-color: Reset;\"> </span><span style=\"color: Reset;background-color: Reset;\"> </span><span style=\"color: Reset;background-color: Reset;\"> </span><span style=\"color: Reset;background-color: Reset;\"> </span><span style=\"color: Reset;background-color: Reset;\"> </span><span style=\"color: Reset;background-color: Reset;\"> </span><span style=\"color: Reset;background-color: Reset;\"> </span><span style=\"color: Reset;background-color: Reset;\"> </span><span style=\"color: Reset;background-color: Reset;\"> </span><span style=\"color: Reset;background-color: Reset;\"> </span><span style=\"color: Reset;background-color: Reset;\"> </span><span style=\"color: Reset;background-color: Reset;\"> </span><span style=\"color: Reset;background-color: Reset;\"> </span><span style=\"color: Reset;background-color: Reset;\"> </span><span style=\"color: Reset;background-color: Reset;\"> </span><span style=\"color: Reset;background-color: Reset;\"> </span><span style=\"color: Reset;background-color: Reset;\"> </span><span style=\"color: Reset;background-color: Reset;\"> </span><span style=\"color: Reset;background-color: Reset;\"> </span><span style=\"color: Reset;background-color: Reset;\"> </span><span style=\"color: Reset;background-color: Reset;\"> </span><span style=\"color: Reset;background-color: Reset;\"> </span><span style=\"color: Reset;background-color: Reset;\"> </span><span style=\"color: Reset;background-color: Reset;\"> </span><span style=\"color: Reset;background-color: Reset;\"> </span><span style=\"color: Reset;background-color: Reset;\"> </span><span style=\"color: Reset;background-color: Reset;\"> </span><span style=\"color: Reset;background-color: Reset;\"> </span>\n",
       "</code></pre>\n",
       "</div>"
      ],
      "text/plain": [
       "()"
      ]
     },
     "execution_count": 8,
     "metadata": {},
     "output_type": "execute_result"
    }
   ],
   "source": [
    "show_html(buffer_to_html(&buf))"
   ]
  },
  {
   "cell_type": "markdown",
   "id": "a0360bfd-9fa9-404d-9243-169c6868d5d5",
   "metadata": {},
   "source": [
    "Currently the `buf` is empty.\n",
    "Let's render into the buffer by using the [`Block`] widget with a border. We will discuss `Block` in more detail in a future blog post.\n",
    "\n",
    "[`Block`]: https://docs.rs/ratatui/latest/ratatui/widgets/block/struct.Block.html"
   ]
  },
  {
   "cell_type": "code",
   "execution_count": 9,
   "id": "3a759389-9447-4dc9-b840-d6878f8ba10a",
   "metadata": {
    "execution": {
     "iopub.execute_input": "2024-05-22T00:48:11.104975+00:00",
     "iopub.status.busy": "2024-05-22T00:48:11.104954+00:00",
     "iopub.status.idle": "2024-05-22T00:48:11.104970+00:00",
     "shell.execute_reply": "2024-05-22T00:48:11.367192+00:00"
    }
   },
   "outputs": [
    {
     "ename": "Error",
     "evalue": "no method named `render` found for struct `ratatui::widgets::Block` in the current scope",
     "output_type": "error",
     "traceback": [
      "\u001b[31m[E0599] Error:\u001b[0m no method named `render` found for struct `ratatui::widgets::Block` in the current scope",
      "   \u001b[38;5;246m╭\u001b[0m\u001b[38;5;246m─\u001b[0m\u001b[38;5;246m[\u001b[0mcommand_9:1:1\u001b[38;5;246m]\u001b[0m",
      "   \u001b[38;5;246m│\u001b[0m",
      " \u001b[38;5;246m2 │\u001b[0m \u001b[38;5;249mb\u001b[0m\u001b[38;5;249ml\u001b[0m\u001b[38;5;249mo\u001b[0m\u001b[38;5;249mc\u001b[0m\u001b[38;5;249mk\u001b[0m\u001b[38;5;249m.\u001b[0m\u001b[38;5;54mr\u001b[0m\u001b[38;5;54me\u001b[0m\u001b[38;5;54mn\u001b[0m\u001b[38;5;54md\u001b[0m\u001b[38;5;54me\u001b[0m\u001b[38;5;54mr\u001b[0m\u001b[38;5;249m(\u001b[0m\u001b[38;5;249ma\u001b[0m\u001b[38;5;249mr\u001b[0m\u001b[38;5;249me\u001b[0m\u001b[38;5;249ma\u001b[0m\u001b[38;5;249m,\u001b[0m\u001b[38;5;249m \u001b[0m\u001b[38;5;249m&\u001b[0m\u001b[38;5;249mm\u001b[0m\u001b[38;5;249mu\u001b[0m\u001b[38;5;249mt\u001b[0m\u001b[38;5;249m \u001b[0m\u001b[38;5;249mb\u001b[0m\u001b[38;5;249mu\u001b[0m\u001b[38;5;249mf\u001b[0m\u001b[38;5;249m)\u001b[0m\u001b[38;5;249m;\u001b[0m",
      " \u001b[38;5;240m  │\u001b[0m       \u001b[38;5;54m─\u001b[0m\u001b[38;5;54m─\u001b[0m\u001b[38;5;54m─\u001b[0m\u001b[38;5;54m┬\u001b[0m\u001b[38;5;54m─\u001b[0m\u001b[38;5;54m─\u001b[0m  ",
      " \u001b[38;5;240m  │\u001b[0m          \u001b[38;5;54m╰\u001b[0m\u001b[38;5;54m─\u001b[0m\u001b[38;5;54m─\u001b[0m\u001b[38;5;54m─\u001b[0m\u001b[38;5;54m─\u001b[0m error: no method named `render` found for struct `ratatui::widgets::Block` in the current scope",
      " \u001b[38;5;240m  │\u001b[0m ",
      " \u001b[38;5;240m  │\u001b[0m \u001b[38;5;115mNote\u001b[0m: help: there is a method `red` with a similar name, but with different argumentshelp: trait `Widget` which provides `render` is implemented but not in scope; perhaps you want to import it: `use ratatui::widgets::Widget;",
      "`",
      "\u001b[38;5;246m───╯\u001b[0m"
     ]
    },
    {
     "ename": "Error",
     "evalue": "unused variable: `escaped`",
     "output_type": "error",
     "traceback": [
      "\u001b[31m[unused_variables] Error:\u001b[0m unused variable: `escaped`"
     ]
    }
   ],
   "source": [
    "let block = ratatui::widgets::Block::bordered();\n",
    "block.render(area, &mut buf);"
   ]
  },
  {
   "cell_type": "markdown",
   "id": "bcec8c4b-b1ef-4a84-92e1-5a4afb10c581",
   "metadata": {},
   "source": [
    "The `render` method requires importing the `Widget` trait:"
   ]
  },
  {
   "cell_type": "code",
   "execution_count": 10,
   "id": "61dc40bc-3b7f-4387-bc8a-7c0b291537e7",
   "metadata": {
    "execution": {
     "iopub.execute_input": "2024-05-22T00:48:46.362305+00:00",
     "iopub.status.busy": "2024-05-22T00:48:46.362015+00:00",
     "iopub.status.idle": "2024-05-22T00:48:46.362256+00:00",
     "shell.execute_reply": "2024-05-22T00:48:46.661621+00:00"
    }
   },
   "outputs": [],
   "source": [
    "use ratatui::widgets::Widget; // required trait for `.render()` method"
   ]
  },
  {
   "cell_type": "markdown",
   "id": "66c202b1-0771-469c-88a9-bae042b91c8b",
   "metadata": {},
   "source": [
    "Now we can render a widget into a `Buffer`:"
   ]
  },
  {
   "cell_type": "code",
   "execution_count": 11,
   "id": "01d552bc-6df4-4f9e-a73e-07b608e56052",
   "metadata": {
    "execution": {
     "iopub.execute_input": "2024-05-22T00:49:08.494048+00:00",
     "iopub.status.busy": "2024-05-22T00:49:08.493872+00:00",
     "iopub.status.idle": "2024-05-22T00:49:08.494010+00:00",
     "shell.execute_reply": "2024-05-22T00:49:09.020513+00:00"
    }
   },
   "outputs": [],
   "source": [
    "let block = ratatui::widgets::Block::bordered();\n",
    "block.render(area, &mut buf);"
   ]
  },
  {
   "cell_type": "markdown",
   "id": "fe480ebd-9c28-4dc2-b5ec-3d256fe1ccb2",
   "metadata": {},
   "source": [
    "We rendered a \"bordered block\" into the `area` of the `buf`. This is what it looks like when displayed in the browser. "
   ]
  },
  {
   "cell_type": "code",
   "execution_count": 12,
   "id": "ae80a81f-61a9-4e17-979a-5043e64ce386",
   "metadata": {
    "execution": {
     "iopub.execute_input": "2024-05-22T00:49:14.530256+00:00",
     "iopub.status.busy": "2024-05-22T00:49:14.530071+00:00",
     "iopub.status.idle": "2024-05-22T00:49:14.530220+00:00",
     "shell.execute_reply": "2024-05-22T00:49:15.089182+00:00"
    }
   },
   "outputs": [
    {
     "data": {
      "text/html": [
       "<div style=\"display: flex; justify-content:start; gap: 1em; margin: 1em\">\n",
       "<pre><code><span style=\"color: Reset;background-color: Reset;\">┌</span><span style=\"color: Reset;background-color: Reset;\">─</span><span style=\"color: Reset;background-color: Reset;\">─</span><span style=\"color: Reset;background-color: Reset;\">─</span><span style=\"color: Reset;background-color: Reset;\">─</span><span style=\"color: Reset;background-color: Reset;\">─</span><span style=\"color: Reset;background-color: Reset;\">─</span><span style=\"color: Reset;background-color: Reset;\">─</span><span style=\"color: Reset;background-color: Reset;\">─</span><span style=\"color: Reset;background-color: Reset;\">─</span><span style=\"color: Reset;background-color: Reset;\">─</span><span style=\"color: Reset;background-color: Reset;\">─</span><span style=\"color: Reset;background-color: Reset;\">─</span><span style=\"color: Reset;background-color: Reset;\">─</span><span style=\"color: Reset;background-color: Reset;\">─</span><span style=\"color: Reset;background-color: Reset;\">─</span><span style=\"color: Reset;background-color: Reset;\">─</span><span style=\"color: Reset;background-color: Reset;\">─</span><span style=\"color: Reset;background-color: Reset;\">─</span><span style=\"color: Reset;background-color: Reset;\">─</span><span style=\"color: Reset;background-color: Reset;\">─</span><span style=\"color: Reset;background-color: Reset;\">─</span><span style=\"color: Reset;background-color: Reset;\">─</span><span style=\"color: Reset;background-color: Reset;\">─</span><span style=\"color: Reset;background-color: Reset;\">─</span><span style=\"color: Reset;background-color: Reset;\">─</span><span style=\"color: Reset;background-color: Reset;\">─</span><span style=\"color: Reset;background-color: Reset;\">─</span><span style=\"color: Reset;background-color: Reset;\">─</span><span style=\"color: Reset;background-color: Reset;\">─</span><span style=\"color: Reset;background-color: Reset;\">─</span><span style=\"color: Reset;background-color: Reset;\">─</span><span style=\"color: Reset;background-color: Reset;\">─</span><span style=\"color: Reset;background-color: Reset;\">─</span><span style=\"color: Reset;background-color: Reset;\">─</span><span style=\"color: Reset;background-color: Reset;\">─</span><span style=\"color: Reset;background-color: Reset;\">─</span><span style=\"color: Reset;background-color: Reset;\">─</span><span style=\"color: Reset;background-color: Reset;\">─</span><span style=\"color: Reset;background-color: Reset;\">─</span><span style=\"color: Reset;background-color: Reset;\">─</span><span style=\"color: Reset;background-color: Reset;\">─</span><span style=\"color: Reset;background-color: Reset;\">─</span><span style=\"color: Reset;background-color: Reset;\">─</span><span style=\"color: Reset;background-color: Reset;\">─</span><span style=\"color: Reset;background-color: Reset;\">─</span><span style=\"color: Reset;background-color: Reset;\">─</span><span style=\"color: Reset;background-color: Reset;\">─</span><span style=\"color: Reset;background-color: Reset;\">─</span><span style=\"color: Reset;background-color: Reset;\">─</span><span style=\"color: Reset;background-color: Reset;\">─</span><span style=\"color: Reset;background-color: Reset;\">─</span><span style=\"color: Reset;background-color: Reset;\">─</span><span style=\"color: Reset;background-color: Reset;\">─</span><span style=\"color: Reset;background-color: Reset;\">─</span><span style=\"color: Reset;background-color: Reset;\">─</span><span style=\"color: Reset;background-color: Reset;\">─</span><span style=\"color: Reset;background-color: Reset;\">─</span><span style=\"color: Reset;background-color: Reset;\">─</span><span style=\"color: Reset;background-color: Reset;\">─</span><span style=\"color: Reset;background-color: Reset;\">─</span><span style=\"color: Reset;background-color: Reset;\">─</span><span style=\"color: Reset;background-color: Reset;\">─</span><span style=\"color: Reset;background-color: Reset;\">─</span><span style=\"color: Reset;background-color: Reset;\">─</span><span style=\"color: Reset;background-color: Reset;\">─</span><span style=\"color: Reset;background-color: Reset;\">─</span><span style=\"color: Reset;background-color: Reset;\">─</span><span style=\"color: Reset;background-color: Reset;\">─</span><span style=\"color: Reset;background-color: Reset;\">─</span><span style=\"color: Reset;background-color: Reset;\">─</span><span style=\"color: Reset;background-color: Reset;\">─</span><span style=\"color: Reset;background-color: Reset;\">─</span><span style=\"color: Reset;background-color: Reset;\">─</span><span style=\"color: Reset;background-color: Reset;\">─</span><span style=\"color: Reset;background-color: Reset;\">─</span><span style=\"color: Reset;background-color: Reset;\">─</span><span style=\"color: Reset;background-color: Reset;\">─</span><span style=\"color: Reset;background-color: Reset;\">─</span><span style=\"color: Reset;background-color: Reset;\">┐</span>\n",
       "<span style=\"color: Reset;background-color: Reset;\">│</span><span style=\"color: Reset;background-color: Reset;\"> </span><span style=\"color: Reset;background-color: Reset;\"> </span><span style=\"color: Reset;background-color: Reset;\"> </span><span style=\"color: Reset;background-color: Reset;\"> </span><span style=\"color: Reset;background-color: Reset;\"> </span><span style=\"color: Reset;background-color: Reset;\"> </span><span style=\"color: Reset;background-color: Reset;\"> </span><span style=\"color: Reset;background-color: Reset;\"> </span><span style=\"color: Reset;background-color: Reset;\"> </span><span style=\"color: Reset;background-color: Reset;\"> </span><span style=\"color: Reset;background-color: Reset;\"> </span><span style=\"color: Reset;background-color: Reset;\"> </span><span style=\"color: Reset;background-color: Reset;\"> </span><span style=\"color: Reset;background-color: Reset;\"> </span><span style=\"color: Reset;background-color: Reset;\"> </span><span style=\"color: Reset;background-color: Reset;\"> </span><span style=\"color: Reset;background-color: Reset;\"> </span><span style=\"color: Reset;background-color: Reset;\"> </span><span style=\"color: Reset;background-color: Reset;\"> </span><span style=\"color: Reset;background-color: Reset;\"> </span><span style=\"color: Reset;background-color: Reset;\"> </span><span style=\"color: Reset;background-color: Reset;\"> </span><span style=\"color: Reset;background-color: Reset;\"> </span><span style=\"color: Reset;background-color: Reset;\"> </span><span style=\"color: Reset;background-color: Reset;\"> </span><span style=\"color: Reset;background-color: Reset;\"> </span><span style=\"color: Reset;background-color: Reset;\"> </span><span style=\"color: Reset;background-color: Reset;\"> </span><span style=\"color: Reset;background-color: Reset;\"> </span><span style=\"color: Reset;background-color: Reset;\"> </span><span style=\"color: Reset;background-color: Reset;\"> </span><span style=\"color: Reset;background-color: Reset;\"> </span><span style=\"color: Reset;background-color: Reset;\"> </span><span style=\"color: Reset;background-color: Reset;\"> </span><span style=\"color: Reset;background-color: Reset;\"> </span><span style=\"color: Reset;background-color: Reset;\"> </span><span style=\"color: Reset;background-color: Reset;\"> </span><span style=\"color: Reset;background-color: Reset;\"> </span><span style=\"color: Reset;background-color: Reset;\"> </span><span style=\"color: Reset;background-color: Reset;\"> </span><span style=\"color: Reset;background-color: Reset;\"> </span><span style=\"color: Reset;background-color: Reset;\"> </span><span style=\"color: Reset;background-color: Reset;\"> </span><span style=\"color: Reset;background-color: Reset;\"> </span><span style=\"color: Reset;background-color: Reset;\"> </span><span style=\"color: Reset;background-color: Reset;\"> </span><span style=\"color: Reset;background-color: Reset;\"> </span><span style=\"color: Reset;background-color: Reset;\"> </span><span style=\"color: Reset;background-color: Reset;\"> </span><span style=\"color: Reset;background-color: Reset;\"> </span><span style=\"color: Reset;background-color: Reset;\"> </span><span style=\"color: Reset;background-color: Reset;\"> </span><span style=\"color: Reset;background-color: Reset;\"> </span><span style=\"color: Reset;background-color: Reset;\"> </span><span style=\"color: Reset;background-color: Reset;\"> </span><span style=\"color: Reset;background-color: Reset;\"> </span><span style=\"color: Reset;background-color: Reset;\"> </span><span style=\"color: Reset;background-color: Reset;\"> </span><span style=\"color: Reset;background-color: Reset;\"> </span><span style=\"color: Reset;background-color: Reset;\"> </span><span style=\"color: Reset;background-color: Reset;\"> </span><span style=\"color: Reset;background-color: Reset;\"> </span><span style=\"color: Reset;background-color: Reset;\"> </span><span style=\"color: Reset;background-color: Reset;\"> </span><span style=\"color: Reset;background-color: Reset;\"> </span><span style=\"color: Reset;background-color: Reset;\"> </span><span style=\"color: Reset;background-color: Reset;\"> </span><span style=\"color: Reset;background-color: Reset;\"> </span><span style=\"color: Reset;background-color: Reset;\"> </span><span style=\"color: Reset;background-color: Reset;\"> </span><span style=\"color: Reset;background-color: Reset;\"> </span><span style=\"color: Reset;background-color: Reset;\"> </span><span style=\"color: Reset;background-color: Reset;\"> </span><span style=\"color: Reset;background-color: Reset;\"> </span><span style=\"color: Reset;background-color: Reset;\"> </span><span style=\"color: Reset;background-color: Reset;\"> </span><span style=\"color: Reset;background-color: Reset;\"> </span><span style=\"color: Reset;background-color: Reset;\"> </span><span style=\"color: Reset;background-color: Reset;\">│</span>\n",
       "<span style=\"color: Reset;background-color: Reset;\">│</span><span style=\"color: Reset;background-color: Reset;\"> </span><span style=\"color: Reset;background-color: Reset;\"> </span><span style=\"color: Reset;background-color: Reset;\"> </span><span style=\"color: Reset;background-color: Reset;\"> </span><span style=\"color: Reset;background-color: Reset;\"> </span><span style=\"color: Reset;background-color: Reset;\"> </span><span style=\"color: Reset;background-color: Reset;\"> </span><span style=\"color: Reset;background-color: Reset;\"> </span><span style=\"color: Reset;background-color: Reset;\"> </span><span style=\"color: Reset;background-color: Reset;\"> </span><span style=\"color: Reset;background-color: Reset;\"> </span><span style=\"color: Reset;background-color: Reset;\"> </span><span style=\"color: Reset;background-color: Reset;\"> </span><span style=\"color: Reset;background-color: Reset;\"> </span><span style=\"color: Reset;background-color: Reset;\"> </span><span style=\"color: Reset;background-color: Reset;\"> </span><span style=\"color: Reset;background-color: Reset;\"> </span><span style=\"color: Reset;background-color: Reset;\"> </span><span style=\"color: Reset;background-color: Reset;\"> </span><span style=\"color: Reset;background-color: Reset;\"> </span><span style=\"color: Reset;background-color: Reset;\"> </span><span style=\"color: Reset;background-color: Reset;\"> </span><span style=\"color: Reset;background-color: Reset;\"> </span><span style=\"color: Reset;background-color: Reset;\"> </span><span style=\"color: Reset;background-color: Reset;\"> </span><span style=\"color: Reset;background-color: Reset;\"> </span><span style=\"color: Reset;background-color: Reset;\"> </span><span style=\"color: Reset;background-color: Reset;\"> </span><span style=\"color: Reset;background-color: Reset;\"> </span><span style=\"color: Reset;background-color: Reset;\"> </span><span style=\"color: Reset;background-color: Reset;\"> </span><span style=\"color: Reset;background-color: Reset;\"> </span><span style=\"color: Reset;background-color: Reset;\"> </span><span style=\"color: Reset;background-color: Reset;\"> </span><span style=\"color: Reset;background-color: Reset;\"> </span><span style=\"color: Reset;background-color: Reset;\"> </span><span style=\"color: Reset;background-color: Reset;\"> </span><span style=\"color: Reset;background-color: Reset;\"> </span><span style=\"color: Reset;background-color: Reset;\"> </span><span style=\"color: Reset;background-color: Reset;\"> </span><span style=\"color: Reset;background-color: Reset;\"> </span><span style=\"color: Reset;background-color: Reset;\"> </span><span style=\"color: Reset;background-color: Reset;\"> </span><span style=\"color: Reset;background-color: Reset;\"> </span><span style=\"color: Reset;background-color: Reset;\"> </span><span style=\"color: Reset;background-color: Reset;\"> </span><span style=\"color: Reset;background-color: Reset;\"> </span><span style=\"color: Reset;background-color: Reset;\"> </span><span style=\"color: Reset;background-color: Reset;\"> </span><span style=\"color: Reset;background-color: Reset;\"> </span><span style=\"color: Reset;background-color: Reset;\"> </span><span style=\"color: Reset;background-color: Reset;\"> </span><span style=\"color: Reset;background-color: Reset;\"> </span><span style=\"color: Reset;background-color: Reset;\"> </span><span style=\"color: Reset;background-color: Reset;\"> </span><span style=\"color: Reset;background-color: Reset;\"> </span><span style=\"color: Reset;background-color: Reset;\"> </span><span style=\"color: Reset;background-color: Reset;\"> </span><span style=\"color: Reset;background-color: Reset;\"> </span><span style=\"color: Reset;background-color: Reset;\"> </span><span style=\"color: Reset;background-color: Reset;\"> </span><span style=\"color: Reset;background-color: Reset;\"> </span><span style=\"color: Reset;background-color: Reset;\"> </span><span style=\"color: Reset;background-color: Reset;\"> </span><span style=\"color: Reset;background-color: Reset;\"> </span><span style=\"color: Reset;background-color: Reset;\"> </span><span style=\"color: Reset;background-color: Reset;\"> </span><span style=\"color: Reset;background-color: Reset;\"> </span><span style=\"color: Reset;background-color: Reset;\"> </span><span style=\"color: Reset;background-color: Reset;\"> </span><span style=\"color: Reset;background-color: Reset;\"> </span><span style=\"color: Reset;background-color: Reset;\"> </span><span style=\"color: Reset;background-color: Reset;\"> </span><span style=\"color: Reset;background-color: Reset;\"> </span><span style=\"color: Reset;background-color: Reset;\"> </span><span style=\"color: Reset;background-color: Reset;\"> </span><span style=\"color: Reset;background-color: Reset;\"> </span><span style=\"color: Reset;background-color: Reset;\"> </span><span style=\"color: Reset;background-color: Reset;\">│</span>\n",
       "<span style=\"color: Reset;background-color: Reset;\">│</span><span style=\"color: Reset;background-color: Reset;\"> </span><span style=\"color: Reset;background-color: Reset;\"> </span><span style=\"color: Reset;background-color: Reset;\"> </span><span style=\"color: Reset;background-color: Reset;\"> </span><span style=\"color: Reset;background-color: Reset;\"> </span><span style=\"color: Reset;background-color: Reset;\"> </span><span style=\"color: Reset;background-color: Reset;\"> </span><span style=\"color: Reset;background-color: Reset;\"> </span><span style=\"color: Reset;background-color: Reset;\"> </span><span style=\"color: Reset;background-color: Reset;\"> </span><span style=\"color: Reset;background-color: Reset;\"> </span><span style=\"color: Reset;background-color: Reset;\"> </span><span style=\"color: Reset;background-color: Reset;\"> </span><span style=\"color: Reset;background-color: Reset;\"> </span><span style=\"color: Reset;background-color: Reset;\"> </span><span style=\"color: Reset;background-color: Reset;\"> </span><span style=\"color: Reset;background-color: Reset;\"> </span><span style=\"color: Reset;background-color: Reset;\"> </span><span style=\"color: Reset;background-color: Reset;\"> </span><span style=\"color: Reset;background-color: Reset;\"> </span><span style=\"color: Reset;background-color: Reset;\"> </span><span style=\"color: Reset;background-color: Reset;\"> </span><span style=\"color: Reset;background-color: Reset;\"> </span><span style=\"color: Reset;background-color: Reset;\"> </span><span style=\"color: Reset;background-color: Reset;\"> </span><span style=\"color: Reset;background-color: Reset;\"> </span><span style=\"color: Reset;background-color: Reset;\"> </span><span style=\"color: Reset;background-color: Reset;\"> </span><span style=\"color: Reset;background-color: Reset;\"> </span><span style=\"color: Reset;background-color: Reset;\"> </span><span style=\"color: Reset;background-color: Reset;\"> </span><span style=\"color: Reset;background-color: Reset;\"> </span><span style=\"color: Reset;background-color: Reset;\"> </span><span style=\"color: Reset;background-color: Reset;\"> </span><span style=\"color: Reset;background-color: Reset;\"> </span><span style=\"color: Reset;background-color: Reset;\"> </span><span style=\"color: Reset;background-color: Reset;\"> </span><span style=\"color: Reset;background-color: Reset;\"> </span><span style=\"color: Reset;background-color: Reset;\"> </span><span style=\"color: Reset;background-color: Reset;\"> </span><span style=\"color: Reset;background-color: Reset;\"> </span><span style=\"color: Reset;background-color: Reset;\"> </span><span style=\"color: Reset;background-color: Reset;\"> </span><span style=\"color: Reset;background-color: Reset;\"> </span><span style=\"color: Reset;background-color: Reset;\"> </span><span style=\"color: Reset;background-color: Reset;\"> </span><span style=\"color: Reset;background-color: Reset;\"> </span><span style=\"color: Reset;background-color: Reset;\"> </span><span style=\"color: Reset;background-color: Reset;\"> </span><span style=\"color: Reset;background-color: Reset;\"> </span><span style=\"color: Reset;background-color: Reset;\"> </span><span style=\"color: Reset;background-color: Reset;\"> </span><span style=\"color: Reset;background-color: Reset;\"> </span><span style=\"color: Reset;background-color: Reset;\"> </span><span style=\"color: Reset;background-color: Reset;\"> </span><span style=\"color: Reset;background-color: Reset;\"> </span><span style=\"color: Reset;background-color: Reset;\"> </span><span style=\"color: Reset;background-color: Reset;\"> </span><span style=\"color: Reset;background-color: Reset;\"> </span><span style=\"color: Reset;background-color: Reset;\"> </span><span style=\"color: Reset;background-color: Reset;\"> </span><span style=\"color: Reset;background-color: Reset;\"> </span><span style=\"color: Reset;background-color: Reset;\"> </span><span style=\"color: Reset;background-color: Reset;\"> </span><span style=\"color: Reset;background-color: Reset;\"> </span><span style=\"color: Reset;background-color: Reset;\"> </span><span style=\"color: Reset;background-color: Reset;\"> </span><span style=\"color: Reset;background-color: Reset;\"> </span><span style=\"color: Reset;background-color: Reset;\"> </span><span style=\"color: Reset;background-color: Reset;\"> </span><span style=\"color: Reset;background-color: Reset;\"> </span><span style=\"color: Reset;background-color: Reset;\"> </span><span style=\"color: Reset;background-color: Reset;\"> </span><span style=\"color: Reset;background-color: Reset;\"> </span><span style=\"color: Reset;background-color: Reset;\"> </span><span style=\"color: Reset;background-color: Reset;\"> </span><span style=\"color: Reset;background-color: Reset;\"> </span><span style=\"color: Reset;background-color: Reset;\"> </span><span style=\"color: Reset;background-color: Reset;\">│</span>\n",
       "<span style=\"color: Reset;background-color: Reset;\">└</span><span style=\"color: Reset;background-color: Reset;\">─</span><span style=\"color: Reset;background-color: Reset;\">─</span><span style=\"color: Reset;background-color: Reset;\">─</span><span style=\"color: Reset;background-color: Reset;\">─</span><span style=\"color: Reset;background-color: Reset;\">─</span><span style=\"color: Reset;background-color: Reset;\">─</span><span style=\"color: Reset;background-color: Reset;\">─</span><span style=\"color: Reset;background-color: Reset;\">─</span><span style=\"color: Reset;background-color: Reset;\">─</span><span style=\"color: Reset;background-color: Reset;\">─</span><span style=\"color: Reset;background-color: Reset;\">─</span><span style=\"color: Reset;background-color: Reset;\">─</span><span style=\"color: Reset;background-color: Reset;\">─</span><span style=\"color: Reset;background-color: Reset;\">─</span><span style=\"color: Reset;background-color: Reset;\">─</span><span style=\"color: Reset;background-color: Reset;\">─</span><span style=\"color: Reset;background-color: Reset;\">─</span><span style=\"color: Reset;background-color: Reset;\">─</span><span style=\"color: Reset;background-color: Reset;\">─</span><span style=\"color: Reset;background-color: Reset;\">─</span><span style=\"color: Reset;background-color: Reset;\">─</span><span style=\"color: Reset;background-color: Reset;\">─</span><span style=\"color: Reset;background-color: Reset;\">─</span><span style=\"color: Reset;background-color: Reset;\">─</span><span style=\"color: Reset;background-color: Reset;\">─</span><span style=\"color: Reset;background-color: Reset;\">─</span><span style=\"color: Reset;background-color: Reset;\">─</span><span style=\"color: Reset;background-color: Reset;\">─</span><span style=\"color: Reset;background-color: Reset;\">─</span><span style=\"color: Reset;background-color: Reset;\">─</span><span style=\"color: Reset;background-color: Reset;\">─</span><span style=\"color: Reset;background-color: Reset;\">─</span><span style=\"color: Reset;background-color: Reset;\">─</span><span style=\"color: Reset;background-color: Reset;\">─</span><span style=\"color: Reset;background-color: Reset;\">─</span><span style=\"color: Reset;background-color: Reset;\">─</span><span style=\"color: Reset;background-color: Reset;\">─</span><span style=\"color: Reset;background-color: Reset;\">─</span><span style=\"color: Reset;background-color: Reset;\">─</span><span style=\"color: Reset;background-color: Reset;\">─</span><span style=\"color: Reset;background-color: Reset;\">─</span><span style=\"color: Reset;background-color: Reset;\">─</span><span style=\"color: Reset;background-color: Reset;\">─</span><span style=\"color: Reset;background-color: Reset;\">─</span><span style=\"color: Reset;background-color: Reset;\">─</span><span style=\"color: Reset;background-color: Reset;\">─</span><span style=\"color: Reset;background-color: Reset;\">─</span><span style=\"color: Reset;background-color: Reset;\">─</span><span style=\"color: Reset;background-color: Reset;\">─</span><span style=\"color: Reset;background-color: Reset;\">─</span><span style=\"color: Reset;background-color: Reset;\">─</span><span style=\"color: Reset;background-color: Reset;\">─</span><span style=\"color: Reset;background-color: Reset;\">─</span><span style=\"color: Reset;background-color: Reset;\">─</span><span style=\"color: Reset;background-color: Reset;\">─</span><span style=\"color: Reset;background-color: Reset;\">─</span><span style=\"color: Reset;background-color: Reset;\">─</span><span style=\"color: Reset;background-color: Reset;\">─</span><span style=\"color: Reset;background-color: Reset;\">─</span><span style=\"color: Reset;background-color: Reset;\">─</span><span style=\"color: Reset;background-color: Reset;\">─</span><span style=\"color: Reset;background-color: Reset;\">─</span><span style=\"color: Reset;background-color: Reset;\">─</span><span style=\"color: Reset;background-color: Reset;\">─</span><span style=\"color: Reset;background-color: Reset;\">─</span><span style=\"color: Reset;background-color: Reset;\">─</span><span style=\"color: Reset;background-color: Reset;\">─</span><span style=\"color: Reset;background-color: Reset;\">─</span><span style=\"color: Reset;background-color: Reset;\">─</span><span style=\"color: Reset;background-color: Reset;\">─</span><span style=\"color: Reset;background-color: Reset;\">─</span><span style=\"color: Reset;background-color: Reset;\">─</span><span style=\"color: Reset;background-color: Reset;\">─</span><span style=\"color: Reset;background-color: Reset;\">─</span><span style=\"color: Reset;background-color: Reset;\">─</span><span style=\"color: Reset;background-color: Reset;\">─</span><span style=\"color: Reset;background-color: Reset;\">─</span><span style=\"color: Reset;background-color: Reset;\">─</span><span style=\"color: Reset;background-color: Reset;\">┘</span>\n",
       "</code></pre>\n",
       "</div>"
      ],
      "text/plain": [
       "()"
      ]
     },
     "execution_count": 12,
     "metadata": {},
     "output_type": "execute_result"
    }
   ],
   "source": [
    "show_html(buffer_to_html(&buf)) //| hide_line"
   ]
  },
  {
   "cell_type": "markdown",
   "id": "c0491da0-e497-47a1-b4b7-4f42e4a8a4d0",
   "metadata": {},
   "source": [
    "Let's also add a title."
   ]
  },
  {
   "cell_type": "code",
   "execution_count": 11,
   "id": "5f044cb5-4b8a-48ee-ace8-4e0e88c8c436",
   "metadata": {
    "execution": {
     "iopub.execute_input": "2024-05-19T13:08:51.232663+00:00",
     "iopub.status.busy": "2024-05-19T13:08:51.232634+00:00",
     "iopub.status.idle": "2024-05-19T13:08:51.232658+00:00",
     "shell.execute_reply": "2024-05-19T13:08:51.881833+00:00"
    }
   },
   "outputs": [
    {
     "data": {
      "text/html": [
       "<div style=\"display: flex; justify-content:start; gap: 1em; margin: 1em\">\n",
       "<pre><code><span style=\"color: Reset;background-color: Reset;\">┌</span><span style=\"color: Reset;background-color: Reset;\">C</span><span style=\"color: Reset;background-color: Reset;\">o</span><span style=\"color: Reset;background-color: Reset;\">u</span><span style=\"color: Reset;background-color: Reset;\">n</span><span style=\"color: Reset;background-color: Reset;\">t</span><span style=\"color: Reset;background-color: Reset;\">e</span><span style=\"color: Reset;background-color: Reset;\">r</span><span style=\"color: Reset;background-color: Reset;\"> </span><span style=\"color: Reset;background-color: Reset;\">E</span><span style=\"color: Reset;background-color: Reset;\">x</span><span style=\"color: Reset;background-color: Reset;\">a</span><span style=\"color: Reset;background-color: Reset;\">m</span><span style=\"color: Reset;background-color: Reset;\">p</span><span style=\"color: Reset;background-color: Reset;\">l</span><span style=\"color: Reset;background-color: Reset;\">e</span><span style=\"color: Reset;background-color: Reset;\">─</span><span style=\"color: Reset;background-color: Reset;\">─</span><span style=\"color: Reset;background-color: Reset;\">─</span><span style=\"color: Reset;background-color: Reset;\">─</span><span style=\"color: Reset;background-color: Reset;\">─</span><span style=\"color: Reset;background-color: Reset;\">─</span><span style=\"color: Reset;background-color: Reset;\">─</span><span style=\"color: Reset;background-color: Reset;\">─</span><span style=\"color: Reset;background-color: Reset;\">─</span><span style=\"color: Reset;background-color: Reset;\">─</span><span style=\"color: Reset;background-color: Reset;\">─</span><span style=\"color: Reset;background-color: Reset;\">─</span><span style=\"color: Reset;background-color: Reset;\">─</span><span style=\"color: Reset;background-color: Reset;\">─</span><span style=\"color: Reset;background-color: Reset;\">─</span><span style=\"color: Reset;background-color: Reset;\">─</span><span style=\"color: Reset;background-color: Reset;\">─</span><span style=\"color: Reset;background-color: Reset;\">─</span><span style=\"color: Reset;background-color: Reset;\">─</span><span style=\"color: Reset;background-color: Reset;\">─</span><span style=\"color: Reset;background-color: Reset;\">─</span><span style=\"color: Reset;background-color: Reset;\">─</span><span style=\"color: Reset;background-color: Reset;\">─</span><span style=\"color: Reset;background-color: Reset;\">─</span><span style=\"color: Reset;background-color: Reset;\">─</span><span style=\"color: Reset;background-color: Reset;\">─</span><span style=\"color: Reset;background-color: Reset;\">─</span><span style=\"color: Reset;background-color: Reset;\">─</span><span style=\"color: Reset;background-color: Reset;\">─</span><span style=\"color: Reset;background-color: Reset;\">─</span><span style=\"color: Reset;background-color: Reset;\">─</span><span style=\"color: Reset;background-color: Reset;\">─</span><span style=\"color: Reset;background-color: Reset;\">─</span><span style=\"color: Reset;background-color: Reset;\">─</span><span style=\"color: Reset;background-color: Reset;\">─</span><span style=\"color: Reset;background-color: Reset;\">─</span><span style=\"color: Reset;background-color: Reset;\">─</span><span style=\"color: Reset;background-color: Reset;\">─</span><span style=\"color: Reset;background-color: Reset;\">─</span><span style=\"color: Reset;background-color: Reset;\">─</span><span style=\"color: Reset;background-color: Reset;\">─</span><span style=\"color: Reset;background-color: Reset;\">─</span><span style=\"color: Reset;background-color: Reset;\">─</span><span style=\"color: Reset;background-color: Reset;\">─</span><span style=\"color: Reset;background-color: Reset;\">─</span><span style=\"color: Reset;background-color: Reset;\">─</span><span style=\"color: Reset;background-color: Reset;\">─</span><span style=\"color: Reset;background-color: Reset;\">─</span><span style=\"color: Reset;background-color: Reset;\">─</span><span style=\"color: Reset;background-color: Reset;\">─</span><span style=\"color: Reset;background-color: Reset;\">─</span><span style=\"color: Reset;background-color: Reset;\">─</span><span style=\"color: Reset;background-color: Reset;\">─</span><span style=\"color: Reset;background-color: Reset;\">─</span><span style=\"color: Reset;background-color: Reset;\">─</span><span style=\"color: Reset;background-color: Reset;\">─</span><span style=\"color: Reset;background-color: Reset;\">─</span><span style=\"color: Reset;background-color: Reset;\">─</span><span style=\"color: Reset;background-color: Reset;\">─</span><span style=\"color: Reset;background-color: Reset;\">─</span><span style=\"color: Reset;background-color: Reset;\">─</span><span style=\"color: Reset;background-color: Reset;\">─</span><span style=\"color: Reset;background-color: Reset;\">─</span><span style=\"color: Reset;background-color: Reset;\">┐</span>\n",
       "<span style=\"color: Reset;background-color: Reset;\">│</span><span style=\"color: Reset;background-color: Reset;\"> </span><span style=\"color: Reset;background-color: Reset;\"> </span><span style=\"color: Reset;background-color: Reset;\"> </span><span style=\"color: Reset;background-color: Reset;\"> </span><span style=\"color: Reset;background-color: Reset;\"> </span><span style=\"color: Reset;background-color: Reset;\"> </span><span style=\"color: Reset;background-color: Reset;\"> </span><span style=\"color: Reset;background-color: Reset;\"> </span><span style=\"color: Reset;background-color: Reset;\"> </span><span style=\"color: Reset;background-color: Reset;\"> </span><span style=\"color: Reset;background-color: Reset;\"> </span><span style=\"color: Reset;background-color: Reset;\"> </span><span style=\"color: Reset;background-color: Reset;\"> </span><span style=\"color: Reset;background-color: Reset;\"> </span><span style=\"color: Reset;background-color: Reset;\"> </span><span style=\"color: Reset;background-color: Reset;\"> </span><span style=\"color: Reset;background-color: Reset;\"> </span><span style=\"color: Reset;background-color: Reset;\"> </span><span style=\"color: Reset;background-color: Reset;\"> </span><span style=\"color: Reset;background-color: Reset;\"> </span><span style=\"color: Reset;background-color: Reset;\"> </span><span style=\"color: Reset;background-color: Reset;\"> </span><span style=\"color: Reset;background-color: Reset;\"> </span><span style=\"color: Reset;background-color: Reset;\"> </span><span style=\"color: Reset;background-color: Reset;\"> </span><span style=\"color: Reset;background-color: Reset;\"> </span><span style=\"color: Reset;background-color: Reset;\"> </span><span style=\"color: Reset;background-color: Reset;\"> </span><span style=\"color: Reset;background-color: Reset;\"> </span><span style=\"color: Reset;background-color: Reset;\"> </span><span style=\"color: Reset;background-color: Reset;\"> </span><span style=\"color: Reset;background-color: Reset;\"> </span><span style=\"color: Reset;background-color: Reset;\"> </span><span style=\"color: Reset;background-color: Reset;\"> </span><span style=\"color: Reset;background-color: Reset;\"> </span><span style=\"color: Reset;background-color: Reset;\"> </span><span style=\"color: Reset;background-color: Reset;\"> </span><span style=\"color: Reset;background-color: Reset;\"> </span><span style=\"color: Reset;background-color: Reset;\"> </span><span style=\"color: Reset;background-color: Reset;\"> </span><span style=\"color: Reset;background-color: Reset;\"> </span><span style=\"color: Reset;background-color: Reset;\"> </span><span style=\"color: Reset;background-color: Reset;\"> </span><span style=\"color: Reset;background-color: Reset;\"> </span><span style=\"color: Reset;background-color: Reset;\"> </span><span style=\"color: Reset;background-color: Reset;\"> </span><span style=\"color: Reset;background-color: Reset;\"> </span><span style=\"color: Reset;background-color: Reset;\"> </span><span style=\"color: Reset;background-color: Reset;\"> </span><span style=\"color: Reset;background-color: Reset;\"> </span><span style=\"color: Reset;background-color: Reset;\"> </span><span style=\"color: Reset;background-color: Reset;\"> </span><span style=\"color: Reset;background-color: Reset;\"> </span><span style=\"color: Reset;background-color: Reset;\"> </span><span style=\"color: Reset;background-color: Reset;\"> </span><span style=\"color: Reset;background-color: Reset;\"> </span><span style=\"color: Reset;background-color: Reset;\"> </span><span style=\"color: Reset;background-color: Reset;\"> </span><span style=\"color: Reset;background-color: Reset;\"> </span><span style=\"color: Reset;background-color: Reset;\"> </span><span style=\"color: Reset;background-color: Reset;\"> </span><span style=\"color: Reset;background-color: Reset;\"> </span><span style=\"color: Reset;background-color: Reset;\"> </span><span style=\"color: Reset;background-color: Reset;\"> </span><span style=\"color: Reset;background-color: Reset;\"> </span><span style=\"color: Reset;background-color: Reset;\"> </span><span style=\"color: Reset;background-color: Reset;\"> </span><span style=\"color: Reset;background-color: Reset;\"> </span><span style=\"color: Reset;background-color: Reset;\"> </span><span style=\"color: Reset;background-color: Reset;\"> </span><span style=\"color: Reset;background-color: Reset;\"> </span><span style=\"color: Reset;background-color: Reset;\"> </span><span style=\"color: Reset;background-color: Reset;\"> </span><span style=\"color: Reset;background-color: Reset;\"> </span><span style=\"color: Reset;background-color: Reset;\"> </span><span style=\"color: Reset;background-color: Reset;\"> </span><span style=\"color: Reset;background-color: Reset;\"> </span><span style=\"color: Reset;background-color: Reset;\"> </span><span style=\"color: Reset;background-color: Reset;\">│</span>\n",
       "<span style=\"color: Reset;background-color: Reset;\">│</span><span style=\"color: Reset;background-color: Reset;\"> </span><span style=\"color: Reset;background-color: Reset;\"> </span><span style=\"color: Reset;background-color: Reset;\"> </span><span style=\"color: Reset;background-color: Reset;\"> </span><span style=\"color: Reset;background-color: Reset;\"> </span><span style=\"color: Reset;background-color: Reset;\"> </span><span style=\"color: Reset;background-color: Reset;\"> </span><span style=\"color: Reset;background-color: Reset;\"> </span><span style=\"color: Reset;background-color: Reset;\"> </span><span style=\"color: Reset;background-color: Reset;\"> </span><span style=\"color: Reset;background-color: Reset;\"> </span><span style=\"color: Reset;background-color: Reset;\"> </span><span style=\"color: Reset;background-color: Reset;\"> </span><span style=\"color: Reset;background-color: Reset;\"> </span><span style=\"color: Reset;background-color: Reset;\"> </span><span style=\"color: Reset;background-color: Reset;\"> </span><span style=\"color: Reset;background-color: Reset;\"> </span><span style=\"color: Reset;background-color: Reset;\"> </span><span style=\"color: Reset;background-color: Reset;\"> </span><span style=\"color: Reset;background-color: Reset;\"> </span><span style=\"color: Reset;background-color: Reset;\"> </span><span style=\"color: Reset;background-color: Reset;\"> </span><span style=\"color: Reset;background-color: Reset;\"> </span><span style=\"color: Reset;background-color: Reset;\"> </span><span style=\"color: Reset;background-color: Reset;\"> </span><span style=\"color: Reset;background-color: Reset;\"> </span><span style=\"color: Reset;background-color: Reset;\"> </span><span style=\"color: Reset;background-color: Reset;\"> </span><span style=\"color: Reset;background-color: Reset;\"> </span><span style=\"color: Reset;background-color: Reset;\"> </span><span style=\"color: Reset;background-color: Reset;\"> </span><span style=\"color: Reset;background-color: Reset;\"> </span><span style=\"color: Reset;background-color: Reset;\"> </span><span style=\"color: Reset;background-color: Reset;\"> </span><span style=\"color: Reset;background-color: Reset;\"> </span><span style=\"color: Reset;background-color: Reset;\"> </span><span style=\"color: Reset;background-color: Reset;\"> </span><span style=\"color: Reset;background-color: Reset;\"> </span><span style=\"color: Reset;background-color: Reset;\"> </span><span style=\"color: Reset;background-color: Reset;\"> </span><span style=\"color: Reset;background-color: Reset;\"> </span><span style=\"color: Reset;background-color: Reset;\"> </span><span style=\"color: Reset;background-color: Reset;\"> </span><span style=\"color: Reset;background-color: Reset;\"> </span><span style=\"color: Reset;background-color: Reset;\"> </span><span style=\"color: Reset;background-color: Reset;\"> </span><span style=\"color: Reset;background-color: Reset;\"> </span><span style=\"color: Reset;background-color: Reset;\"> </span><span style=\"color: Reset;background-color: Reset;\"> </span><span style=\"color: Reset;background-color: Reset;\"> </span><span style=\"color: Reset;background-color: Reset;\"> </span><span style=\"color: Reset;background-color: Reset;\"> </span><span style=\"color: Reset;background-color: Reset;\"> </span><span style=\"color: Reset;background-color: Reset;\"> </span><span style=\"color: Reset;background-color: Reset;\"> </span><span style=\"color: Reset;background-color: Reset;\"> </span><span style=\"color: Reset;background-color: Reset;\"> </span><span style=\"color: Reset;background-color: Reset;\"> </span><span style=\"color: Reset;background-color: Reset;\"> </span><span style=\"color: Reset;background-color: Reset;\"> </span><span style=\"color: Reset;background-color: Reset;\"> </span><span style=\"color: Reset;background-color: Reset;\"> </span><span style=\"color: Reset;background-color: Reset;\"> </span><span style=\"color: Reset;background-color: Reset;\"> </span><span style=\"color: Reset;background-color: Reset;\"> </span><span style=\"color: Reset;background-color: Reset;\"> </span><span style=\"color: Reset;background-color: Reset;\"> </span><span style=\"color: Reset;background-color: Reset;\"> </span><span style=\"color: Reset;background-color: Reset;\"> </span><span style=\"color: Reset;background-color: Reset;\"> </span><span style=\"color: Reset;background-color: Reset;\"> </span><span style=\"color: Reset;background-color: Reset;\"> </span><span style=\"color: Reset;background-color: Reset;\"> </span><span style=\"color: Reset;background-color: Reset;\"> </span><span style=\"color: Reset;background-color: Reset;\"> </span><span style=\"color: Reset;background-color: Reset;\"> </span><span style=\"color: Reset;background-color: Reset;\"> </span><span style=\"color: Reset;background-color: Reset;\"> </span><span style=\"color: Reset;background-color: Reset;\">│</span>\n",
       "<span style=\"color: Reset;background-color: Reset;\">│</span><span style=\"color: Reset;background-color: Reset;\"> </span><span style=\"color: Reset;background-color: Reset;\"> </span><span style=\"color: Reset;background-color: Reset;\"> </span><span style=\"color: Reset;background-color: Reset;\"> </span><span style=\"color: Reset;background-color: Reset;\"> </span><span style=\"color: Reset;background-color: Reset;\"> </span><span style=\"color: Reset;background-color: Reset;\"> </span><span style=\"color: Reset;background-color: Reset;\"> </span><span style=\"color: Reset;background-color: Reset;\"> </span><span style=\"color: Reset;background-color: Reset;\"> </span><span style=\"color: Reset;background-color: Reset;\"> </span><span style=\"color: Reset;background-color: Reset;\"> </span><span style=\"color: Reset;background-color: Reset;\"> </span><span style=\"color: Reset;background-color: Reset;\"> </span><span style=\"color: Reset;background-color: Reset;\"> </span><span style=\"color: Reset;background-color: Reset;\"> </span><span style=\"color: Reset;background-color: Reset;\"> </span><span style=\"color: Reset;background-color: Reset;\"> </span><span style=\"color: Reset;background-color: Reset;\"> </span><span style=\"color: Reset;background-color: Reset;\"> </span><span style=\"color: Reset;background-color: Reset;\"> </span><span style=\"color: Reset;background-color: Reset;\"> </span><span style=\"color: Reset;background-color: Reset;\"> </span><span style=\"color: Reset;background-color: Reset;\"> </span><span style=\"color: Reset;background-color: Reset;\"> </span><span style=\"color: Reset;background-color: Reset;\"> </span><span style=\"color: Reset;background-color: Reset;\"> </span><span style=\"color: Reset;background-color: Reset;\"> </span><span style=\"color: Reset;background-color: Reset;\"> </span><span style=\"color: Reset;background-color: Reset;\"> </span><span style=\"color: Reset;background-color: Reset;\"> </span><span style=\"color: Reset;background-color: Reset;\"> </span><span style=\"color: Reset;background-color: Reset;\"> </span><span style=\"color: Reset;background-color: Reset;\"> </span><span style=\"color: Reset;background-color: Reset;\"> </span><span style=\"color: Reset;background-color: Reset;\"> </span><span style=\"color: Reset;background-color: Reset;\"> </span><span style=\"color: Reset;background-color: Reset;\"> </span><span style=\"color: Reset;background-color: Reset;\"> </span><span style=\"color: Reset;background-color: Reset;\"> </span><span style=\"color: Reset;background-color: Reset;\"> </span><span style=\"color: Reset;background-color: Reset;\"> </span><span style=\"color: Reset;background-color: Reset;\"> </span><span style=\"color: Reset;background-color: Reset;\"> </span><span style=\"color: Reset;background-color: Reset;\"> </span><span style=\"color: Reset;background-color: Reset;\"> </span><span style=\"color: Reset;background-color: Reset;\"> </span><span style=\"color: Reset;background-color: Reset;\"> </span><span style=\"color: Reset;background-color: Reset;\"> </span><span style=\"color: Reset;background-color: Reset;\"> </span><span style=\"color: Reset;background-color: Reset;\"> </span><span style=\"color: Reset;background-color: Reset;\"> </span><span style=\"color: Reset;background-color: Reset;\"> </span><span style=\"color: Reset;background-color: Reset;\"> </span><span style=\"color: Reset;background-color: Reset;\"> </span><span style=\"color: Reset;background-color: Reset;\"> </span><span style=\"color: Reset;background-color: Reset;\"> </span><span style=\"color: Reset;background-color: Reset;\"> </span><span style=\"color: Reset;background-color: Reset;\"> </span><span style=\"color: Reset;background-color: Reset;\"> </span><span style=\"color: Reset;background-color: Reset;\"> </span><span style=\"color: Reset;background-color: Reset;\"> </span><span style=\"color: Reset;background-color: Reset;\"> </span><span style=\"color: Reset;background-color: Reset;\"> </span><span style=\"color: Reset;background-color: Reset;\"> </span><span style=\"color: Reset;background-color: Reset;\"> </span><span style=\"color: Reset;background-color: Reset;\"> </span><span style=\"color: Reset;background-color: Reset;\"> </span><span style=\"color: Reset;background-color: Reset;\"> </span><span style=\"color: Reset;background-color: Reset;\"> </span><span style=\"color: Reset;background-color: Reset;\"> </span><span style=\"color: Reset;background-color: Reset;\"> </span><span style=\"color: Reset;background-color: Reset;\"> </span><span style=\"color: Reset;background-color: Reset;\"> </span><span style=\"color: Reset;background-color: Reset;\"> </span><span style=\"color: Reset;background-color: Reset;\"> </span><span style=\"color: Reset;background-color: Reset;\"> </span><span style=\"color: Reset;background-color: Reset;\"> </span><span style=\"color: Reset;background-color: Reset;\">│</span>\n",
       "<span style=\"color: Reset;background-color: Reset;\">└</span><span style=\"color: Reset;background-color: Reset;\">─</span><span style=\"color: Reset;background-color: Reset;\">─</span><span style=\"color: Reset;background-color: Reset;\">─</span><span style=\"color: Reset;background-color: Reset;\">─</span><span style=\"color: Reset;background-color: Reset;\">─</span><span style=\"color: Reset;background-color: Reset;\">─</span><span style=\"color: Reset;background-color: Reset;\">─</span><span style=\"color: Reset;background-color: Reset;\">─</span><span style=\"color: Reset;background-color: Reset;\">─</span><span style=\"color: Reset;background-color: Reset;\">─</span><span style=\"color: Reset;background-color: Reset;\">─</span><span style=\"color: Reset;background-color: Reset;\">─</span><span style=\"color: Reset;background-color: Reset;\">─</span><span style=\"color: Reset;background-color: Reset;\">─</span><span style=\"color: Reset;background-color: Reset;\">─</span><span style=\"color: Reset;background-color: Reset;\">─</span><span style=\"color: Reset;background-color: Reset;\">─</span><span style=\"color: Reset;background-color: Reset;\">─</span><span style=\"color: Reset;background-color: Reset;\">─</span><span style=\"color: Reset;background-color: Reset;\">─</span><span style=\"color: Reset;background-color: Reset;\">─</span><span style=\"color: Reset;background-color: Reset;\">─</span><span style=\"color: Reset;background-color: Reset;\">─</span><span style=\"color: Reset;background-color: Reset;\">─</span><span style=\"color: Reset;background-color: Reset;\">─</span><span style=\"color: Reset;background-color: Reset;\">─</span><span style=\"color: Reset;background-color: Reset;\">─</span><span style=\"color: Reset;background-color: Reset;\">─</span><span style=\"color: Reset;background-color: Reset;\">─</span><span style=\"color: Reset;background-color: Reset;\">─</span><span style=\"color: Reset;background-color: Reset;\">─</span><span style=\"color: Reset;background-color: Reset;\">─</span><span style=\"color: Reset;background-color: Reset;\">─</span><span style=\"color: Reset;background-color: Reset;\">─</span><span style=\"color: Reset;background-color: Reset;\">─</span><span style=\"color: Reset;background-color: Reset;\">─</span><span style=\"color: Reset;background-color: Reset;\">─</span><span style=\"color: Reset;background-color: Reset;\">─</span><span style=\"color: Reset;background-color: Reset;\">─</span><span style=\"color: Reset;background-color: Reset;\">─</span><span style=\"color: Reset;background-color: Reset;\">─</span><span style=\"color: Reset;background-color: Reset;\">─</span><span style=\"color: Reset;background-color: Reset;\">─</span><span style=\"color: Reset;background-color: Reset;\">─</span><span style=\"color: Reset;background-color: Reset;\">─</span><span style=\"color: Reset;background-color: Reset;\">─</span><span style=\"color: Reset;background-color: Reset;\">─</span><span style=\"color: Reset;background-color: Reset;\">─</span><span style=\"color: Reset;background-color: Reset;\">─</span><span style=\"color: Reset;background-color: Reset;\">─</span><span style=\"color: Reset;background-color: Reset;\">─</span><span style=\"color: Reset;background-color: Reset;\">─</span><span style=\"color: Reset;background-color: Reset;\">─</span><span style=\"color: Reset;background-color: Reset;\">─</span><span style=\"color: Reset;background-color: Reset;\">─</span><span style=\"color: Reset;background-color: Reset;\">─</span><span style=\"color: Reset;background-color: Reset;\">─</span><span style=\"color: Reset;background-color: Reset;\">─</span><span style=\"color: Reset;background-color: Reset;\">─</span><span style=\"color: Reset;background-color: Reset;\">─</span><span style=\"color: Reset;background-color: Reset;\">─</span><span style=\"color: Reset;background-color: Reset;\">─</span><span style=\"color: Reset;background-color: Reset;\">─</span><span style=\"color: Reset;background-color: Reset;\">─</span><span style=\"color: Reset;background-color: Reset;\">─</span><span style=\"color: Reset;background-color: Reset;\">─</span><span style=\"color: Reset;background-color: Reset;\">─</span><span style=\"color: Reset;background-color: Reset;\">─</span><span style=\"color: Reset;background-color: Reset;\">─</span><span style=\"color: Reset;background-color: Reset;\">─</span><span style=\"color: Reset;background-color: Reset;\">─</span><span style=\"color: Reset;background-color: Reset;\">─</span><span style=\"color: Reset;background-color: Reset;\">─</span><span style=\"color: Reset;background-color: Reset;\">─</span><span style=\"color: Reset;background-color: Reset;\">─</span><span style=\"color: Reset;background-color: Reset;\">─</span><span style=\"color: Reset;background-color: Reset;\">─</span><span style=\"color: Reset;background-color: Reset;\">─</span><span style=\"color: Reset;background-color: Reset;\">┘</span>\n",
       "</code></pre>\n",
       "</div>"
      ],
      "text/plain": [
       "()"
      ]
     },
     "execution_count": 11,
     "metadata": {},
     "output_type": "execute_result"
    }
   ],
   "source": [
    "let block = ratatui::widgets::Block::bordered().title(\"Counter Example\");\n",
    "block.render(area, &mut buf);\n",
    "\n",
    "show_html(buffer_to_html(&buf)) //| hide_line"
   ]
  },
  {
   "cell_type": "markdown",
   "id": "41811e98-f3dd-43e2-8aaa-030d83415e35",
   "metadata": {},
   "source": [
    "Now, let's put some text into the center of the buffer."
   ]
  },
  {
   "cell_type": "markdown",
   "id": "71b033b1-98c8-4b60-8c33-7a5c6854ae0d",
   "metadata": {},
   "source": [
    "Let's say we have the following `App`:"
   ]
  },
  {
   "cell_type": "code",
   "execution_count": 12,
   "id": "2db673b4-7459-4638-917f-c3ac32389272",
   "metadata": {
    "execution": {
     "iopub.execute_input": "2024-05-19T13:08:51.881921+00:00",
     "iopub.status.busy": "2024-05-19T13:08:51.881899+00:00",
     "iopub.status.idle": "2024-05-19T13:08:51.881917+00:00",
     "shell.execute_reply": "2024-05-19T13:08:52.425786+00:00"
    }
   },
   "outputs": [
    {
     "data": {
      "text/plain": [
       "App { counter: 0 }"
      ]
     },
     "execution_count": 12,
     "metadata": {},
     "output_type": "execute_result"
    }
   ],
   "source": [
    "#[derive(Debug, Default)]\n",
    "pub struct App {\n",
    "    counter: u8,\n",
    "}\n",
    "let mut app = App::default();\n",
    "app"
   ]
  },
  {
   "cell_type": "markdown",
   "id": "01802758-c390-4905-8769-8909d9793f43",
   "metadata": {},
   "source": [
    "And we want to render the `App`'s `counter` in the center of the buffer."
   ]
  },
  {
   "cell_type": "code",
   "execution_count": 13,
   "id": "79d8b2b6-986c-4ee6-89de-ddcfb5cabad1",
   "metadata": {
    "execution": {
     "iopub.execute_input": "2024-05-19T13:08:52.425863+00:00",
     "iopub.status.busy": "2024-05-19T13:08:52.425840+00:00",
     "iopub.status.idle": "2024-05-19T13:08:52.425859+00:00",
     "shell.execute_reply": "2024-05-19T13:08:53.266215+00:00"
    }
   },
   "outputs": [
    {
     "data": {
      "text/html": [
       "<div style=\"display: flex; justify-content:start; gap: 1em; margin: 1em\">\n",
       "<pre><code><span style=\"color: Reset;background-color: Reset;\">┌</span><span style=\"color: Reset;background-color: Reset;\">C</span><span style=\"color: Reset;background-color: Reset;\">o</span><span style=\"color: Reset;background-color: Reset;\">u</span><span style=\"color: Reset;background-color: Reset;\">n</span><span style=\"color: Reset;background-color: Reset;\">t</span><span style=\"color: Reset;background-color: Reset;\">e</span><span style=\"color: Reset;background-color: Reset;\">r</span><span style=\"color: Reset;background-color: Reset;\"> </span><span style=\"color: Reset;background-color: Reset;\">E</span><span style=\"color: Reset;background-color: Reset;\">x</span><span style=\"color: Reset;background-color: Reset;\">a</span><span style=\"color: Reset;background-color: Reset;\">m</span><span style=\"color: Reset;background-color: Reset;\">p</span><span style=\"color: Reset;background-color: Reset;\">l</span><span style=\"color: Reset;background-color: Reset;\">e</span><span style=\"color: Reset;background-color: Reset;\">─</span><span style=\"color: Reset;background-color: Reset;\">─</span><span style=\"color: Reset;background-color: Reset;\">─</span><span style=\"color: Reset;background-color: Reset;\">─</span><span style=\"color: Reset;background-color: Reset;\">─</span><span style=\"color: Reset;background-color: Reset;\">─</span><span style=\"color: Reset;background-color: Reset;\">─</span><span style=\"color: Reset;background-color: Reset;\">─</span><span style=\"color: Reset;background-color: Reset;\">─</span><span style=\"color: Reset;background-color: Reset;\">─</span><span style=\"color: Reset;background-color: Reset;\">─</span><span style=\"color: Reset;background-color: Reset;\">─</span><span style=\"color: Reset;background-color: Reset;\">─</span><span style=\"color: Reset;background-color: Reset;\">─</span><span style=\"color: Reset;background-color: Reset;\">─</span><span style=\"color: Reset;background-color: Reset;\">─</span><span style=\"color: Reset;background-color: Reset;\">─</span><span style=\"color: Reset;background-color: Reset;\">─</span><span style=\"color: Reset;background-color: Reset;\">─</span><span style=\"color: Reset;background-color: Reset;\">─</span><span style=\"color: Reset;background-color: Reset;\">─</span><span style=\"color: Reset;background-color: Reset;\">─</span><span style=\"color: Reset;background-color: Reset;\">─</span><span style=\"color: Reset;background-color: Reset;\">─</span><span style=\"color: Reset;background-color: Reset;\">─</span><span style=\"color: Reset;background-color: Reset;\">─</span><span style=\"color: Reset;background-color: Reset;\">─</span><span style=\"color: Reset;background-color: Reset;\">─</span><span style=\"color: Reset;background-color: Reset;\">─</span><span style=\"color: Reset;background-color: Reset;\">─</span><span style=\"color: Reset;background-color: Reset;\">─</span><span style=\"color: Reset;background-color: Reset;\">─</span><span style=\"color: Reset;background-color: Reset;\">─</span><span style=\"color: Reset;background-color: Reset;\">─</span><span style=\"color: Reset;background-color: Reset;\">─</span><span style=\"color: Reset;background-color: Reset;\">─</span><span style=\"color: Reset;background-color: Reset;\">─</span><span style=\"color: Reset;background-color: Reset;\">─</span><span style=\"color: Reset;background-color: Reset;\">─</span><span style=\"color: Reset;background-color: Reset;\">─</span><span style=\"color: Reset;background-color: Reset;\">─</span><span style=\"color: Reset;background-color: Reset;\">─</span><span style=\"color: Reset;background-color: Reset;\">─</span><span style=\"color: Reset;background-color: Reset;\">─</span><span style=\"color: Reset;background-color: Reset;\">─</span><span style=\"color: Reset;background-color: Reset;\">─</span><span style=\"color: Reset;background-color: Reset;\">─</span><span style=\"color: Reset;background-color: Reset;\">─</span><span style=\"color: Reset;background-color: Reset;\">─</span><span style=\"color: Reset;background-color: Reset;\">─</span><span style=\"color: Reset;background-color: Reset;\">─</span><span style=\"color: Reset;background-color: Reset;\">─</span><span style=\"color: Reset;background-color: Reset;\">─</span><span style=\"color: Reset;background-color: Reset;\">─</span><span style=\"color: Reset;background-color: Reset;\">─</span><span style=\"color: Reset;background-color: Reset;\">─</span><span style=\"color: Reset;background-color: Reset;\">─</span><span style=\"color: Reset;background-color: Reset;\">─</span><span style=\"color: Reset;background-color: Reset;\">─</span><span style=\"color: Reset;background-color: Reset;\">─</span><span style=\"color: Reset;background-color: Reset;\">─</span><span style=\"color: Reset;background-color: Reset;\">─</span><span style=\"color: Reset;background-color: Reset;\">─</span><span style=\"color: Reset;background-color: Reset;\">┐</span>\n",
       "<span style=\"color: Reset;background-color: Reset;\">│</span><span style=\"color: Reset;background-color: Reset;\"> </span><span style=\"color: Reset;background-color: Reset;\"> </span><span style=\"color: Reset;background-color: Reset;\"> </span><span style=\"color: Reset;background-color: Reset;\"> </span><span style=\"color: Reset;background-color: Reset;\"> </span><span style=\"color: Reset;background-color: Reset;\"> </span><span style=\"color: Reset;background-color: Reset;\"> </span><span style=\"color: Reset;background-color: Reset;\"> </span><span style=\"color: Reset;background-color: Reset;\"> </span><span style=\"color: Reset;background-color: Reset;\"> </span><span style=\"color: Reset;background-color: Reset;\"> </span><span style=\"color: Reset;background-color: Reset;\"> </span><span style=\"color: Reset;background-color: Reset;\"> </span><span style=\"color: Reset;background-color: Reset;\"> </span><span style=\"color: Reset;background-color: Reset;\"> </span><span style=\"color: Reset;background-color: Reset;\"> </span><span style=\"color: Reset;background-color: Reset;\"> </span><span style=\"color: Reset;background-color: Reset;\"> </span><span style=\"color: Reset;background-color: Reset;\"> </span><span style=\"color: Reset;background-color: Reset;\"> </span><span style=\"color: Reset;background-color: Reset;\"> </span><span style=\"color: Reset;background-color: Reset;\"> </span><span style=\"color: Reset;background-color: Reset;\"> </span><span style=\"color: Reset;background-color: Reset;\"> </span><span style=\"color: Reset;background-color: Reset;\"> </span><span style=\"color: Reset;background-color: Reset;\"> </span><span style=\"color: Reset;background-color: Reset;\"> </span><span style=\"color: Reset;background-color: Reset;\"> </span><span style=\"color: Reset;background-color: Reset;\"> </span><span style=\"color: Reset;background-color: Reset;\"> </span><span style=\"color: Reset;background-color: Reset;\"> </span><span style=\"color: Reset;background-color: Reset;\"> </span><span style=\"color: Reset;background-color: Reset;\"> </span><span style=\"color: Reset;background-color: Reset;\"> </span><span style=\"color: Reset;background-color: Reset;\"> </span><span style=\"color: Reset;background-color: Reset;\"> </span><span style=\"color: Reset;background-color: Reset;\"> </span><span style=\"color: Reset;background-color: Reset;\"> </span><span style=\"color: Reset;background-color: Reset;\"> </span><span style=\"color: Reset;background-color: Reset;\"> </span><span style=\"color: Reset;background-color: Reset;\"> </span><span style=\"color: Reset;background-color: Reset;\"> </span><span style=\"color: Reset;background-color: Reset;\"> </span><span style=\"color: Reset;background-color: Reset;\"> </span><span style=\"color: Reset;background-color: Reset;\"> </span><span style=\"color: Reset;background-color: Reset;\"> </span><span style=\"color: Reset;background-color: Reset;\"> </span><span style=\"color: Reset;background-color: Reset;\"> </span><span style=\"color: Reset;background-color: Reset;\"> </span><span style=\"color: Reset;background-color: Reset;\"> </span><span style=\"color: Reset;background-color: Reset;\"> </span><span style=\"color: Reset;background-color: Reset;\"> </span><span style=\"color: Reset;background-color: Reset;\"> </span><span style=\"color: Reset;background-color: Reset;\"> </span><span style=\"color: Reset;background-color: Reset;\"> </span><span style=\"color: Reset;background-color: Reset;\"> </span><span style=\"color: Reset;background-color: Reset;\"> </span><span style=\"color: Reset;background-color: Reset;\"> </span><span style=\"color: Reset;background-color: Reset;\"> </span><span style=\"color: Reset;background-color: Reset;\"> </span><span style=\"color: Reset;background-color: Reset;\"> </span><span style=\"color: Reset;background-color: Reset;\"> </span><span style=\"color: Reset;background-color: Reset;\"> </span><span style=\"color: Reset;background-color: Reset;\"> </span><span style=\"color: Reset;background-color: Reset;\"> </span><span style=\"color: Reset;background-color: Reset;\"> </span><span style=\"color: Reset;background-color: Reset;\"> </span><span style=\"color: Reset;background-color: Reset;\"> </span><span style=\"color: Reset;background-color: Reset;\"> </span><span style=\"color: Reset;background-color: Reset;\"> </span><span style=\"color: Reset;background-color: Reset;\"> </span><span style=\"color: Reset;background-color: Reset;\"> </span><span style=\"color: Reset;background-color: Reset;\"> </span><span style=\"color: Reset;background-color: Reset;\"> </span><span style=\"color: Reset;background-color: Reset;\"> </span><span style=\"color: Reset;background-color: Reset;\"> </span><span style=\"color: Reset;background-color: Reset;\"> </span><span style=\"color: Reset;background-color: Reset;\"> </span><span style=\"color: Reset;background-color: Reset;\">│</span>\n",
       "<span style=\"color: Reset;background-color: Reset;\">│</span><span style=\"color: Reset;background-color: Reset;\"> </span><span style=\"color: Reset;background-color: Reset;\"> </span><span style=\"color: Reset;background-color: Reset;\"> </span><span style=\"color: Reset;background-color: Reset;\"> </span><span style=\"color: Reset;background-color: Reset;\"> </span><span style=\"color: Reset;background-color: Reset;\"> </span><span style=\"color: Reset;background-color: Reset;\"> </span><span style=\"color: Reset;background-color: Reset;\"> </span><span style=\"color: Reset;background-color: Reset;\"> </span><span style=\"color: Reset;background-color: Reset;\"> </span><span style=\"color: Reset;background-color: Reset;\"> </span><span style=\"color: Reset;background-color: Reset;\"> </span><span style=\"color: Reset;background-color: Reset;\"> </span><span style=\"color: Reset;background-color: Reset;\"> </span><span style=\"color: Reset;background-color: Reset;\"> </span><span style=\"color: Reset;background-color: Reset;\"> </span><span style=\"color: Reset;background-color: Reset;\"> </span><span style=\"color: Reset;background-color: Reset;\"> </span><span style=\"color: Reset;background-color: Reset;\"> </span><span style=\"color: Reset;background-color: Reset;\"> </span><span style=\"color: Reset;background-color: Reset;\"> </span><span style=\"color: Reset;background-color: Reset;\"> </span><span style=\"color: Reset;background-color: Reset;\"> </span><span style=\"color: Reset;background-color: Reset;\"> </span><span style=\"color: Reset;background-color: Reset;\"> </span><span style=\"color: Reset;background-color: Reset;\"> </span><span style=\"color: Reset;background-color: Reset;\"> </span><span style=\"color: Reset;background-color: Reset;\"> </span><span style=\"color: Reset;background-color: Reset;\"> </span><span style=\"color: Reset;background-color: Reset;\"> </span><span style=\"color: Reset;background-color: Reset;\"> </span><span style=\"color: Reset;background-color: Reset;\"> </span><span style=\"color: Reset;background-color: Reset;\"> </span><span style=\"color: Reset;background-color: Reset;\"> </span><span style=\"color: Reset;background-color: Reset;\">C</span><span style=\"color: Reset;background-color: Reset;\">o</span><span style=\"color: Reset;background-color: Reset;\">u</span><span style=\"color: Reset;background-color: Reset;\">n</span><span style=\"color: Reset;background-color: Reset;\">t</span><span style=\"color: Reset;background-color: Reset;\">e</span><span style=\"color: Reset;background-color: Reset;\">r</span><span style=\"color: Reset;background-color: Reset;\">:</span><span style=\"color: Reset;background-color: Reset;\"> </span><span style=\"color: Reset;background-color: Reset;\">0</span><span style=\"color: Reset;background-color: Reset;\"> </span><span style=\"color: Reset;background-color: Reset;\"> </span><span style=\"color: Reset;background-color: Reset;\"> </span><span style=\"color: Reset;background-color: Reset;\"> </span><span style=\"color: Reset;background-color: Reset;\"> </span><span style=\"color: Reset;background-color: Reset;\"> </span><span style=\"color: Reset;background-color: Reset;\"> </span><span style=\"color: Reset;background-color: Reset;\"> </span><span style=\"color: Reset;background-color: Reset;\"> </span><span style=\"color: Reset;background-color: Reset;\"> </span><span style=\"color: Reset;background-color: Reset;\"> </span><span style=\"color: Reset;background-color: Reset;\"> </span><span style=\"color: Reset;background-color: Reset;\"> </span><span style=\"color: Reset;background-color: Reset;\"> </span><span style=\"color: Reset;background-color: Reset;\"> </span><span style=\"color: Reset;background-color: Reset;\"> </span><span style=\"color: Reset;background-color: Reset;\"> </span><span style=\"color: Reset;background-color: Reset;\"> </span><span style=\"color: Reset;background-color: Reset;\"> </span><span style=\"color: Reset;background-color: Reset;\"> </span><span style=\"color: Reset;background-color: Reset;\"> </span><span style=\"color: Reset;background-color: Reset;\"> </span><span style=\"color: Reset;background-color: Reset;\"> </span><span style=\"color: Reset;background-color: Reset;\"> </span><span style=\"color: Reset;background-color: Reset;\"> </span><span style=\"color: Reset;background-color: Reset;\"> </span><span style=\"color: Reset;background-color: Reset;\"> </span><span style=\"color: Reset;background-color: Reset;\"> </span><span style=\"color: Reset;background-color: Reset;\"> </span><span style=\"color: Reset;background-color: Reset;\"> </span><span style=\"color: Reset;background-color: Reset;\"> </span><span style=\"color: Reset;background-color: Reset;\"> </span><span style=\"color: Reset;background-color: Reset;\"> </span><span style=\"color: Reset;background-color: Reset;\"> </span><span style=\"color: Reset;background-color: Reset;\">│</span>\n",
       "<span style=\"color: Reset;background-color: Reset;\">│</span><span style=\"color: Reset;background-color: Reset;\"> </span><span style=\"color: Reset;background-color: Reset;\"> </span><span style=\"color: Reset;background-color: Reset;\"> </span><span style=\"color: Reset;background-color: Reset;\"> </span><span style=\"color: Reset;background-color: Reset;\"> </span><span style=\"color: Reset;background-color: Reset;\"> </span><span style=\"color: Reset;background-color: Reset;\"> </span><span style=\"color: Reset;background-color: Reset;\"> </span><span style=\"color: Reset;background-color: Reset;\"> </span><span style=\"color: Reset;background-color: Reset;\"> </span><span style=\"color: Reset;background-color: Reset;\"> </span><span style=\"color: Reset;background-color: Reset;\"> </span><span style=\"color: Reset;background-color: Reset;\"> </span><span style=\"color: Reset;background-color: Reset;\"> </span><span style=\"color: Reset;background-color: Reset;\"> </span><span style=\"color: Reset;background-color: Reset;\"> </span><span style=\"color: Reset;background-color: Reset;\"> </span><span style=\"color: Reset;background-color: Reset;\"> </span><span style=\"color: Reset;background-color: Reset;\"> </span><span style=\"color: Reset;background-color: Reset;\"> </span><span style=\"color: Reset;background-color: Reset;\"> </span><span style=\"color: Reset;background-color: Reset;\"> </span><span style=\"color: Reset;background-color: Reset;\"> </span><span style=\"color: Reset;background-color: Reset;\"> </span><span style=\"color: Reset;background-color: Reset;\"> </span><span style=\"color: Reset;background-color: Reset;\"> </span><span style=\"color: Reset;background-color: Reset;\"> </span><span style=\"color: Reset;background-color: Reset;\"> </span><span style=\"color: Reset;background-color: Reset;\"> </span><span style=\"color: Reset;background-color: Reset;\"> </span><span style=\"color: Reset;background-color: Reset;\"> </span><span style=\"color: Reset;background-color: Reset;\"> </span><span style=\"color: Reset;background-color: Reset;\"> </span><span style=\"color: Reset;background-color: Reset;\"> </span><span style=\"color: Reset;background-color: Reset;\"> </span><span style=\"color: Reset;background-color: Reset;\"> </span><span style=\"color: Reset;background-color: Reset;\"> </span><span style=\"color: Reset;background-color: Reset;\"> </span><span style=\"color: Reset;background-color: Reset;\"> </span><span style=\"color: Reset;background-color: Reset;\"> </span><span style=\"color: Reset;background-color: Reset;\"> </span><span style=\"color: Reset;background-color: Reset;\"> </span><span style=\"color: Reset;background-color: Reset;\"> </span><span style=\"color: Reset;background-color: Reset;\"> </span><span style=\"color: Reset;background-color: Reset;\"> </span><span style=\"color: Reset;background-color: Reset;\"> </span><span style=\"color: Reset;background-color: Reset;\"> </span><span style=\"color: Reset;background-color: Reset;\"> </span><span style=\"color: Reset;background-color: Reset;\"> </span><span style=\"color: Reset;background-color: Reset;\"> </span><span style=\"color: Reset;background-color: Reset;\"> </span><span style=\"color: Reset;background-color: Reset;\"> </span><span style=\"color: Reset;background-color: Reset;\"> </span><span style=\"color: Reset;background-color: Reset;\"> </span><span style=\"color: Reset;background-color: Reset;\"> </span><span style=\"color: Reset;background-color: Reset;\"> </span><span style=\"color: Reset;background-color: Reset;\"> </span><span style=\"color: Reset;background-color: Reset;\"> </span><span style=\"color: Reset;background-color: Reset;\"> </span><span style=\"color: Reset;background-color: Reset;\"> </span><span style=\"color: Reset;background-color: Reset;\"> </span><span style=\"color: Reset;background-color: Reset;\"> </span><span style=\"color: Reset;background-color: Reset;\"> </span><span style=\"color: Reset;background-color: Reset;\"> </span><span style=\"color: Reset;background-color: Reset;\"> </span><span style=\"color: Reset;background-color: Reset;\"> </span><span style=\"color: Reset;background-color: Reset;\"> </span><span style=\"color: Reset;background-color: Reset;\"> </span><span style=\"color: Reset;background-color: Reset;\"> </span><span style=\"color: Reset;background-color: Reset;\"> </span><span style=\"color: Reset;background-color: Reset;\"> </span><span style=\"color: Reset;background-color: Reset;\"> </span><span style=\"color: Reset;background-color: Reset;\"> </span><span style=\"color: Reset;background-color: Reset;\"> </span><span style=\"color: Reset;background-color: Reset;\"> </span><span style=\"color: Reset;background-color: Reset;\"> </span><span style=\"color: Reset;background-color: Reset;\"> </span><span style=\"color: Reset;background-color: Reset;\"> </span><span style=\"color: Reset;background-color: Reset;\">│</span>\n",
       "<span style=\"color: Reset;background-color: Reset;\">└</span><span style=\"color: Reset;background-color: Reset;\">─</span><span style=\"color: Reset;background-color: Reset;\">─</span><span style=\"color: Reset;background-color: Reset;\">─</span><span style=\"color: Reset;background-color: Reset;\">─</span><span style=\"color: Reset;background-color: Reset;\">─</span><span style=\"color: Reset;background-color: Reset;\">─</span><span style=\"color: Reset;background-color: Reset;\">─</span><span style=\"color: Reset;background-color: Reset;\">─</span><span style=\"color: Reset;background-color: Reset;\">─</span><span style=\"color: Reset;background-color: Reset;\">─</span><span style=\"color: Reset;background-color: Reset;\">─</span><span style=\"color: Reset;background-color: Reset;\">─</span><span style=\"color: Reset;background-color: Reset;\">─</span><span style=\"color: Reset;background-color: Reset;\">─</span><span style=\"color: Reset;background-color: Reset;\">─</span><span style=\"color: Reset;background-color: Reset;\">─</span><span style=\"color: Reset;background-color: Reset;\">─</span><span style=\"color: Reset;background-color: Reset;\">─</span><span style=\"color: Reset;background-color: Reset;\">─</span><span style=\"color: Reset;background-color: Reset;\">─</span><span style=\"color: Reset;background-color: Reset;\">─</span><span style=\"color: Reset;background-color: Reset;\">─</span><span style=\"color: Reset;background-color: Reset;\">─</span><span style=\"color: Reset;background-color: Reset;\">─</span><span style=\"color: Reset;background-color: Reset;\">─</span><span style=\"color: Reset;background-color: Reset;\">─</span><span style=\"color: Reset;background-color: Reset;\">─</span><span style=\"color: Reset;background-color: Reset;\">─</span><span style=\"color: Reset;background-color: Reset;\">─</span><span style=\"color: Reset;background-color: Reset;\">─</span><span style=\"color: Reset;background-color: Reset;\">─</span><span style=\"color: Reset;background-color: Reset;\">─</span><span style=\"color: Reset;background-color: Reset;\">─</span><span style=\"color: Reset;background-color: Reset;\">─</span><span style=\"color: Reset;background-color: Reset;\">─</span><span style=\"color: Reset;background-color: Reset;\">─</span><span style=\"color: Reset;background-color: Reset;\">─</span><span style=\"color: Reset;background-color: Reset;\">─</span><span style=\"color: Reset;background-color: Reset;\">─</span><span style=\"color: Reset;background-color: Reset;\">─</span><span style=\"color: Reset;background-color: Reset;\">─</span><span style=\"color: Reset;background-color: Reset;\">─</span><span style=\"color: Reset;background-color: Reset;\">─</span><span style=\"color: Reset;background-color: Reset;\">─</span><span style=\"color: Reset;background-color: Reset;\">─</span><span style=\"color: Reset;background-color: Reset;\">─</span><span style=\"color: Reset;background-color: Reset;\">─</span><span style=\"color: Reset;background-color: Reset;\">─</span><span style=\"color: Reset;background-color: Reset;\">─</span><span style=\"color: Reset;background-color: Reset;\">─</span><span style=\"color: Reset;background-color: Reset;\">─</span><span style=\"color: Reset;background-color: Reset;\">─</span><span style=\"color: Reset;background-color: Reset;\">─</span><span style=\"color: Reset;background-color: Reset;\">─</span><span style=\"color: Reset;background-color: Reset;\">─</span><span style=\"color: Reset;background-color: Reset;\">─</span><span style=\"color: Reset;background-color: Reset;\">─</span><span style=\"color: Reset;background-color: Reset;\">─</span><span style=\"color: Reset;background-color: Reset;\">─</span><span style=\"color: Reset;background-color: Reset;\">─</span><span style=\"color: Reset;background-color: Reset;\">─</span><span style=\"color: Reset;background-color: Reset;\">─</span><span style=\"color: Reset;background-color: Reset;\">─</span><span style=\"color: Reset;background-color: Reset;\">─</span><span style=\"color: Reset;background-color: Reset;\">─</span><span style=\"color: Reset;background-color: Reset;\">─</span><span style=\"color: Reset;background-color: Reset;\">─</span><span style=\"color: Reset;background-color: Reset;\">─</span><span style=\"color: Reset;background-color: Reset;\">─</span><span style=\"color: Reset;background-color: Reset;\">─</span><span style=\"color: Reset;background-color: Reset;\">─</span><span style=\"color: Reset;background-color: Reset;\">─</span><span style=\"color: Reset;background-color: Reset;\">─</span><span style=\"color: Reset;background-color: Reset;\">─</span><span style=\"color: Reset;background-color: Reset;\">─</span><span style=\"color: Reset;background-color: Reset;\">─</span><span style=\"color: Reset;background-color: Reset;\">─</span><span style=\"color: Reset;background-color: Reset;\">─</span><span style=\"color: Reset;background-color: Reset;\">┘</span>\n",
       "</code></pre>\n",
       "</div>"
      ],
      "text/plain": [
       "()"
      ]
     },
     "execution_count": 13,
     "metadata": {},
     "output_type": "execute_result"
    }
   ],
   "source": [
    "use ratatui::widgets::Paragraph;\n",
    "\n",
    "let inner_area = area.inner(&ratatui::layout::Margin { horizontal: 0, vertical: 2 });\n",
    "\n",
    "let paragraph = ratatui::widgets::Paragraph::new(format!(\"Counter: {}\", app.counter)).centered();\n",
    "paragraph.render(inner_area, &mut buf);\n",
    "\n",
    "show_html(buffer_to_html(&buf)) //| hide_line"
   ]
  },
  {
   "cell_type": "markdown",
   "id": "9b6baf39-c568-4f58-9033-3aaf0485c8bd",
   "metadata": {
    "execution": {
     "iopub.execute_input": "2024-05-15T03:15:51.794866+00:00",
     "iopub.status.busy": "2024-05-15T03:15:51.794846+00:00",
     "iopub.status.idle": "2024-05-15T03:15:51.794862+00:00",
     "shell.execute_reply": "2024-05-15T03:15:52.422169+00:00"
    }
   },
   "source": [
    "In immediate mode rendering, this is one frame of our UI!"
   ]
  },
  {
   "cell_type": "markdown",
   "id": "99b46b01-2c30-4534-9955-d794ca7ff3d4",
   "metadata": {
    "execution": {
     "iopub.execute_input": "2024-05-15T03:18:23.882207+00:00",
     "iopub.status.busy": "2024-05-15T03:18:23.882047+00:00",
     "iopub.status.idle": "2024-05-15T03:18:23.882168+00:00",
     "shell.execute_reply": "2024-05-15T03:18:24.335416+00:00"
    }
   },
   "source": [
    "Let's put our UI code into a function."
   ]
  },
  {
   "cell_type": "code",
   "execution_count": 14,
   "id": "2063bcc6-95c7-4454-9e4f-f35fbc2a0c0e",
   "metadata": {
    "execution": {
     "iopub.execute_input": "2024-05-19T13:08:53.266682+00:00",
     "iopub.status.busy": "2024-05-19T13:08:53.266441+00:00",
     "iopub.status.idle": "2024-05-19T13:08:53.266656+00:00",
     "shell.execute_reply": "2024-05-19T13:08:53.727001+00:00"
    }
   },
   "outputs": [],
   "source": [
    "fn draw_ui(app: &App, area: ratatui::layout::Rect, buf: &mut ratatui::buffer::Buffer) {\n",
    "    let block = ratatui::widgets::Block::bordered().title(\"Counter Example\");\n",
    "    block.render(area, buf);\n",
    "    \n",
    "    let inner_area = area.inner(&ratatui::layout::Margin { horizontal: 0, vertical: 2 });    \n",
    "    let paragraph = ratatui::widgets::Paragraph::new(format!(\"Counter: {}\", app.counter)).centered();\n",
    "    paragraph.render(inner_area, buf);\n",
    "}"
   ]
  },
  {
   "cell_type": "markdown",
   "id": "e3ace62a-1467-4392-ae1e-53d688373304",
   "metadata": {
    "execution": {
     "iopub.execute_input": "2024-05-15T03:17:42.686861+00:00",
     "iopub.status.busy": "2024-05-15T03:17:42.686627+00:00",
     "iopub.status.idle": "2024-05-15T03:17:42.686825+00:00",
     "shell.execute_reply": "2024-05-15T03:17:43.159421+00:00"
    }
   },
   "source": [
    "For the next frame, we can increment the counter and render into the buffer again."
   ]
  },
  {
   "cell_type": "code",
   "execution_count": 15,
   "id": "45716320-dede-4245-9f11-ca5afae81596",
   "metadata": {
    "execution": {
     "iopub.execute_input": "2024-05-19T13:08:53.727417+00:00",
     "iopub.status.busy": "2024-05-19T13:08:53.727329+00:00",
     "iopub.status.idle": "2024-05-19T13:08:53.727400+00:00",
     "shell.execute_reply": "2024-05-19T13:08:54.317494+00:00"
    }
   },
   "outputs": [
    {
     "data": {
      "text/html": [
       "<div style=\"display: flex; justify-content:start; gap: 1em; margin: 1em\">\n",
       "<pre><code><span style=\"color: Reset;background-color: Reset;\">┌</span><span style=\"color: Reset;background-color: Reset;\">C</span><span style=\"color: Reset;background-color: Reset;\">o</span><span style=\"color: Reset;background-color: Reset;\">u</span><span style=\"color: Reset;background-color: Reset;\">n</span><span style=\"color: Reset;background-color: Reset;\">t</span><span style=\"color: Reset;background-color: Reset;\">e</span><span style=\"color: Reset;background-color: Reset;\">r</span><span style=\"color: Reset;background-color: Reset;\"> </span><span style=\"color: Reset;background-color: Reset;\">E</span><span style=\"color: Reset;background-color: Reset;\">x</span><span style=\"color: Reset;background-color: Reset;\">a</span><span style=\"color: Reset;background-color: Reset;\">m</span><span style=\"color: Reset;background-color: Reset;\">p</span><span style=\"color: Reset;background-color: Reset;\">l</span><span style=\"color: Reset;background-color: Reset;\">e</span><span style=\"color: Reset;background-color: Reset;\">─</span><span style=\"color: Reset;background-color: Reset;\">─</span><span style=\"color: Reset;background-color: Reset;\">─</span><span style=\"color: Reset;background-color: Reset;\">─</span><span style=\"color: Reset;background-color: Reset;\">─</span><span style=\"color: Reset;background-color: Reset;\">─</span><span style=\"color: Reset;background-color: Reset;\">─</span><span style=\"color: Reset;background-color: Reset;\">─</span><span style=\"color: Reset;background-color: Reset;\">─</span><span style=\"color: Reset;background-color: Reset;\">─</span><span style=\"color: Reset;background-color: Reset;\">─</span><span style=\"color: Reset;background-color: Reset;\">─</span><span style=\"color: Reset;background-color: Reset;\">─</span><span style=\"color: Reset;background-color: Reset;\">─</span><span style=\"color: Reset;background-color: Reset;\">─</span><span style=\"color: Reset;background-color: Reset;\">─</span><span style=\"color: Reset;background-color: Reset;\">─</span><span style=\"color: Reset;background-color: Reset;\">─</span><span style=\"color: Reset;background-color: Reset;\">─</span><span style=\"color: Reset;background-color: Reset;\">─</span><span style=\"color: Reset;background-color: Reset;\">─</span><span style=\"color: Reset;background-color: Reset;\">─</span><span style=\"color: Reset;background-color: Reset;\">─</span><span style=\"color: Reset;background-color: Reset;\">─</span><span style=\"color: Reset;background-color: Reset;\">─</span><span style=\"color: Reset;background-color: Reset;\">─</span><span style=\"color: Reset;background-color: Reset;\">─</span><span style=\"color: Reset;background-color: Reset;\">─</span><span style=\"color: Reset;background-color: Reset;\">─</span><span style=\"color: Reset;background-color: Reset;\">─</span><span style=\"color: Reset;background-color: Reset;\">─</span><span style=\"color: Reset;background-color: Reset;\">─</span><span style=\"color: Reset;background-color: Reset;\">─</span><span style=\"color: Reset;background-color: Reset;\">─</span><span style=\"color: Reset;background-color: Reset;\">─</span><span style=\"color: Reset;background-color: Reset;\">─</span><span style=\"color: Reset;background-color: Reset;\">─</span><span style=\"color: Reset;background-color: Reset;\">─</span><span style=\"color: Reset;background-color: Reset;\">─</span><span style=\"color: Reset;background-color: Reset;\">─</span><span style=\"color: Reset;background-color: Reset;\">─</span><span style=\"color: Reset;background-color: Reset;\">─</span><span style=\"color: Reset;background-color: Reset;\">─</span><span style=\"color: Reset;background-color: Reset;\">─</span><span style=\"color: Reset;background-color: Reset;\">─</span><span style=\"color: Reset;background-color: Reset;\">─</span><span style=\"color: Reset;background-color: Reset;\">─</span><span style=\"color: Reset;background-color: Reset;\">─</span><span style=\"color: Reset;background-color: Reset;\">─</span><span style=\"color: Reset;background-color: Reset;\">─</span><span style=\"color: Reset;background-color: Reset;\">─</span><span style=\"color: Reset;background-color: Reset;\">─</span><span style=\"color: Reset;background-color: Reset;\">─</span><span style=\"color: Reset;background-color: Reset;\">─</span><span style=\"color: Reset;background-color: Reset;\">─</span><span style=\"color: Reset;background-color: Reset;\">─</span><span style=\"color: Reset;background-color: Reset;\">─</span><span style=\"color: Reset;background-color: Reset;\">─</span><span style=\"color: Reset;background-color: Reset;\">─</span><span style=\"color: Reset;background-color: Reset;\">─</span><span style=\"color: Reset;background-color: Reset;\">─</span><span style=\"color: Reset;background-color: Reset;\">─</span><span style=\"color: Reset;background-color: Reset;\">─</span><span style=\"color: Reset;background-color: Reset;\">┐</span>\n",
       "<span style=\"color: Reset;background-color: Reset;\">│</span><span style=\"color: Reset;background-color: Reset;\"> </span><span style=\"color: Reset;background-color: Reset;\"> </span><span style=\"color: Reset;background-color: Reset;\"> </span><span style=\"color: Reset;background-color: Reset;\"> </span><span style=\"color: Reset;background-color: Reset;\"> </span><span style=\"color: Reset;background-color: Reset;\"> </span><span style=\"color: Reset;background-color: Reset;\"> </span><span style=\"color: Reset;background-color: Reset;\"> </span><span style=\"color: Reset;background-color: Reset;\"> </span><span style=\"color: Reset;background-color: Reset;\"> </span><span style=\"color: Reset;background-color: Reset;\"> </span><span style=\"color: Reset;background-color: Reset;\"> </span><span style=\"color: Reset;background-color: Reset;\"> </span><span style=\"color: Reset;background-color: Reset;\"> </span><span style=\"color: Reset;background-color: Reset;\"> </span><span style=\"color: Reset;background-color: Reset;\"> </span><span style=\"color: Reset;background-color: Reset;\"> </span><span style=\"color: Reset;background-color: Reset;\"> </span><span style=\"color: Reset;background-color: Reset;\"> </span><span style=\"color: Reset;background-color: Reset;\"> </span><span style=\"color: Reset;background-color: Reset;\"> </span><span style=\"color: Reset;background-color: Reset;\"> </span><span style=\"color: Reset;background-color: Reset;\"> </span><span style=\"color: Reset;background-color: Reset;\"> </span><span style=\"color: Reset;background-color: Reset;\"> </span><span style=\"color: Reset;background-color: Reset;\"> </span><span style=\"color: Reset;background-color: Reset;\"> </span><span style=\"color: Reset;background-color: Reset;\"> </span><span style=\"color: Reset;background-color: Reset;\"> </span><span style=\"color: Reset;background-color: Reset;\"> </span><span style=\"color: Reset;background-color: Reset;\"> </span><span style=\"color: Reset;background-color: Reset;\"> </span><span style=\"color: Reset;background-color: Reset;\"> </span><span style=\"color: Reset;background-color: Reset;\"> </span><span style=\"color: Reset;background-color: Reset;\"> </span><span style=\"color: Reset;background-color: Reset;\"> </span><span style=\"color: Reset;background-color: Reset;\"> </span><span style=\"color: Reset;background-color: Reset;\"> </span><span style=\"color: Reset;background-color: Reset;\"> </span><span style=\"color: Reset;background-color: Reset;\"> </span><span style=\"color: Reset;background-color: Reset;\"> </span><span style=\"color: Reset;background-color: Reset;\"> </span><span style=\"color: Reset;background-color: Reset;\"> </span><span style=\"color: Reset;background-color: Reset;\"> </span><span style=\"color: Reset;background-color: Reset;\"> </span><span style=\"color: Reset;background-color: Reset;\"> </span><span style=\"color: Reset;background-color: Reset;\"> </span><span style=\"color: Reset;background-color: Reset;\"> </span><span style=\"color: Reset;background-color: Reset;\"> </span><span style=\"color: Reset;background-color: Reset;\"> </span><span style=\"color: Reset;background-color: Reset;\"> </span><span style=\"color: Reset;background-color: Reset;\"> </span><span style=\"color: Reset;background-color: Reset;\"> </span><span style=\"color: Reset;background-color: Reset;\"> </span><span style=\"color: Reset;background-color: Reset;\"> </span><span style=\"color: Reset;background-color: Reset;\"> </span><span style=\"color: Reset;background-color: Reset;\"> </span><span style=\"color: Reset;background-color: Reset;\"> </span><span style=\"color: Reset;background-color: Reset;\"> </span><span style=\"color: Reset;background-color: Reset;\"> </span><span style=\"color: Reset;background-color: Reset;\"> </span><span style=\"color: Reset;background-color: Reset;\"> </span><span style=\"color: Reset;background-color: Reset;\"> </span><span style=\"color: Reset;background-color: Reset;\"> </span><span style=\"color: Reset;background-color: Reset;\"> </span><span style=\"color: Reset;background-color: Reset;\"> </span><span style=\"color: Reset;background-color: Reset;\"> </span><span style=\"color: Reset;background-color: Reset;\"> </span><span style=\"color: Reset;background-color: Reset;\"> </span><span style=\"color: Reset;background-color: Reset;\"> </span><span style=\"color: Reset;background-color: Reset;\"> </span><span style=\"color: Reset;background-color: Reset;\"> </span><span style=\"color: Reset;background-color: Reset;\"> </span><span style=\"color: Reset;background-color: Reset;\"> </span><span style=\"color: Reset;background-color: Reset;\"> </span><span style=\"color: Reset;background-color: Reset;\"> </span><span style=\"color: Reset;background-color: Reset;\"> </span><span style=\"color: Reset;background-color: Reset;\"> </span><span style=\"color: Reset;background-color: Reset;\">│</span>\n",
       "<span style=\"color: Reset;background-color: Reset;\">│</span><span style=\"color: Reset;background-color: Reset;\"> </span><span style=\"color: Reset;background-color: Reset;\"> </span><span style=\"color: Reset;background-color: Reset;\"> </span><span style=\"color: Reset;background-color: Reset;\"> </span><span style=\"color: Reset;background-color: Reset;\"> </span><span style=\"color: Reset;background-color: Reset;\"> </span><span style=\"color: Reset;background-color: Reset;\"> </span><span style=\"color: Reset;background-color: Reset;\"> </span><span style=\"color: Reset;background-color: Reset;\"> </span><span style=\"color: Reset;background-color: Reset;\"> </span><span style=\"color: Reset;background-color: Reset;\"> </span><span style=\"color: Reset;background-color: Reset;\"> </span><span style=\"color: Reset;background-color: Reset;\"> </span><span style=\"color: Reset;background-color: Reset;\"> </span><span style=\"color: Reset;background-color: Reset;\"> </span><span style=\"color: Reset;background-color: Reset;\"> </span><span style=\"color: Reset;background-color: Reset;\"> </span><span style=\"color: Reset;background-color: Reset;\"> </span><span style=\"color: Reset;background-color: Reset;\"> </span><span style=\"color: Reset;background-color: Reset;\"> </span><span style=\"color: Reset;background-color: Reset;\"> </span><span style=\"color: Reset;background-color: Reset;\"> </span><span style=\"color: Reset;background-color: Reset;\"> </span><span style=\"color: Reset;background-color: Reset;\"> </span><span style=\"color: Reset;background-color: Reset;\"> </span><span style=\"color: Reset;background-color: Reset;\"> </span><span style=\"color: Reset;background-color: Reset;\"> </span><span style=\"color: Reset;background-color: Reset;\"> </span><span style=\"color: Reset;background-color: Reset;\"> </span><span style=\"color: Reset;background-color: Reset;\"> </span><span style=\"color: Reset;background-color: Reset;\"> </span><span style=\"color: Reset;background-color: Reset;\"> </span><span style=\"color: Reset;background-color: Reset;\"> </span><span style=\"color: Reset;background-color: Reset;\"> </span><span style=\"color: Reset;background-color: Reset;\">C</span><span style=\"color: Reset;background-color: Reset;\">o</span><span style=\"color: Reset;background-color: Reset;\">u</span><span style=\"color: Reset;background-color: Reset;\">n</span><span style=\"color: Reset;background-color: Reset;\">t</span><span style=\"color: Reset;background-color: Reset;\">e</span><span style=\"color: Reset;background-color: Reset;\">r</span><span style=\"color: Reset;background-color: Reset;\">:</span><span style=\"color: Reset;background-color: Reset;\"> </span><span style=\"color: Reset;background-color: Reset;\">1</span><span style=\"color: Reset;background-color: Reset;\"> </span><span style=\"color: Reset;background-color: Reset;\"> </span><span style=\"color: Reset;background-color: Reset;\"> </span><span style=\"color: Reset;background-color: Reset;\"> </span><span style=\"color: Reset;background-color: Reset;\"> </span><span style=\"color: Reset;background-color: Reset;\"> </span><span style=\"color: Reset;background-color: Reset;\"> </span><span style=\"color: Reset;background-color: Reset;\"> </span><span style=\"color: Reset;background-color: Reset;\"> </span><span style=\"color: Reset;background-color: Reset;\"> </span><span style=\"color: Reset;background-color: Reset;\"> </span><span style=\"color: Reset;background-color: Reset;\"> </span><span style=\"color: Reset;background-color: Reset;\"> </span><span style=\"color: Reset;background-color: Reset;\"> </span><span style=\"color: Reset;background-color: Reset;\"> </span><span style=\"color: Reset;background-color: Reset;\"> </span><span style=\"color: Reset;background-color: Reset;\"> </span><span style=\"color: Reset;background-color: Reset;\"> </span><span style=\"color: Reset;background-color: Reset;\"> </span><span style=\"color: Reset;background-color: Reset;\"> </span><span style=\"color: Reset;background-color: Reset;\"> </span><span style=\"color: Reset;background-color: Reset;\"> </span><span style=\"color: Reset;background-color: Reset;\"> </span><span style=\"color: Reset;background-color: Reset;\"> </span><span style=\"color: Reset;background-color: Reset;\"> </span><span style=\"color: Reset;background-color: Reset;\"> </span><span style=\"color: Reset;background-color: Reset;\"> </span><span style=\"color: Reset;background-color: Reset;\"> </span><span style=\"color: Reset;background-color: Reset;\"> </span><span style=\"color: Reset;background-color: Reset;\"> </span><span style=\"color: Reset;background-color: Reset;\"> </span><span style=\"color: Reset;background-color: Reset;\"> </span><span style=\"color: Reset;background-color: Reset;\"> </span><span style=\"color: Reset;background-color: Reset;\"> </span><span style=\"color: Reset;background-color: Reset;\">│</span>\n",
       "<span style=\"color: Reset;background-color: Reset;\">│</span><span style=\"color: Reset;background-color: Reset;\"> </span><span style=\"color: Reset;background-color: Reset;\"> </span><span style=\"color: Reset;background-color: Reset;\"> </span><span style=\"color: Reset;background-color: Reset;\"> </span><span style=\"color: Reset;background-color: Reset;\"> </span><span style=\"color: Reset;background-color: Reset;\"> </span><span style=\"color: Reset;background-color: Reset;\"> </span><span style=\"color: Reset;background-color: Reset;\"> </span><span style=\"color: Reset;background-color: Reset;\"> </span><span style=\"color: Reset;background-color: Reset;\"> </span><span style=\"color: Reset;background-color: Reset;\"> </span><span style=\"color: Reset;background-color: Reset;\"> </span><span style=\"color: Reset;background-color: Reset;\"> </span><span style=\"color: Reset;background-color: Reset;\"> </span><span style=\"color: Reset;background-color: Reset;\"> </span><span style=\"color: Reset;background-color: Reset;\"> </span><span style=\"color: Reset;background-color: Reset;\"> </span><span style=\"color: Reset;background-color: Reset;\"> </span><span style=\"color: Reset;background-color: Reset;\"> </span><span style=\"color: Reset;background-color: Reset;\"> </span><span style=\"color: Reset;background-color: Reset;\"> </span><span style=\"color: Reset;background-color: Reset;\"> </span><span style=\"color: Reset;background-color: Reset;\"> </span><span style=\"color: Reset;background-color: Reset;\"> </span><span style=\"color: Reset;background-color: Reset;\"> </span><span style=\"color: Reset;background-color: Reset;\"> </span><span style=\"color: Reset;background-color: Reset;\"> </span><span style=\"color: Reset;background-color: Reset;\"> </span><span style=\"color: Reset;background-color: Reset;\"> </span><span style=\"color: Reset;background-color: Reset;\"> </span><span style=\"color: Reset;background-color: Reset;\"> </span><span style=\"color: Reset;background-color: Reset;\"> </span><span style=\"color: Reset;background-color: Reset;\"> </span><span style=\"color: Reset;background-color: Reset;\"> </span><span style=\"color: Reset;background-color: Reset;\"> </span><span style=\"color: Reset;background-color: Reset;\"> </span><span style=\"color: Reset;background-color: Reset;\"> </span><span style=\"color: Reset;background-color: Reset;\"> </span><span style=\"color: Reset;background-color: Reset;\"> </span><span style=\"color: Reset;background-color: Reset;\"> </span><span style=\"color: Reset;background-color: Reset;\"> </span><span style=\"color: Reset;background-color: Reset;\"> </span><span style=\"color: Reset;background-color: Reset;\"> </span><span style=\"color: Reset;background-color: Reset;\"> </span><span style=\"color: Reset;background-color: Reset;\"> </span><span style=\"color: Reset;background-color: Reset;\"> </span><span style=\"color: Reset;background-color: Reset;\"> </span><span style=\"color: Reset;background-color: Reset;\"> </span><span style=\"color: Reset;background-color: Reset;\"> </span><span style=\"color: Reset;background-color: Reset;\"> </span><span style=\"color: Reset;background-color: Reset;\"> </span><span style=\"color: Reset;background-color: Reset;\"> </span><span style=\"color: Reset;background-color: Reset;\"> </span><span style=\"color: Reset;background-color: Reset;\"> </span><span style=\"color: Reset;background-color: Reset;\"> </span><span style=\"color: Reset;background-color: Reset;\"> </span><span style=\"color: Reset;background-color: Reset;\"> </span><span style=\"color: Reset;background-color: Reset;\"> </span><span style=\"color: Reset;background-color: Reset;\"> </span><span style=\"color: Reset;background-color: Reset;\"> </span><span style=\"color: Reset;background-color: Reset;\"> </span><span style=\"color: Reset;background-color: Reset;\"> </span><span style=\"color: Reset;background-color: Reset;\"> </span><span style=\"color: Reset;background-color: Reset;\"> </span><span style=\"color: Reset;background-color: Reset;\"> </span><span style=\"color: Reset;background-color: Reset;\"> </span><span style=\"color: Reset;background-color: Reset;\"> </span><span style=\"color: Reset;background-color: Reset;\"> </span><span style=\"color: Reset;background-color: Reset;\"> </span><span style=\"color: Reset;background-color: Reset;\"> </span><span style=\"color: Reset;background-color: Reset;\"> </span><span style=\"color: Reset;background-color: Reset;\"> </span><span style=\"color: Reset;background-color: Reset;\"> </span><span style=\"color: Reset;background-color: Reset;\"> </span><span style=\"color: Reset;background-color: Reset;\"> </span><span style=\"color: Reset;background-color: Reset;\"> </span><span style=\"color: Reset;background-color: Reset;\"> </span><span style=\"color: Reset;background-color: Reset;\"> </span><span style=\"color: Reset;background-color: Reset;\">│</span>\n",
       "<span style=\"color: Reset;background-color: Reset;\">└</span><span style=\"color: Reset;background-color: Reset;\">─</span><span style=\"color: Reset;background-color: Reset;\">─</span><span style=\"color: Reset;background-color: Reset;\">─</span><span style=\"color: Reset;background-color: Reset;\">─</span><span style=\"color: Reset;background-color: Reset;\">─</span><span style=\"color: Reset;background-color: Reset;\">─</span><span style=\"color: Reset;background-color: Reset;\">─</span><span style=\"color: Reset;background-color: Reset;\">─</span><span style=\"color: Reset;background-color: Reset;\">─</span><span style=\"color: Reset;background-color: Reset;\">─</span><span style=\"color: Reset;background-color: Reset;\">─</span><span style=\"color: Reset;background-color: Reset;\">─</span><span style=\"color: Reset;background-color: Reset;\">─</span><span style=\"color: Reset;background-color: Reset;\">─</span><span style=\"color: Reset;background-color: Reset;\">─</span><span style=\"color: Reset;background-color: Reset;\">─</span><span style=\"color: Reset;background-color: Reset;\">─</span><span style=\"color: Reset;background-color: Reset;\">─</span><span style=\"color: Reset;background-color: Reset;\">─</span><span style=\"color: Reset;background-color: Reset;\">─</span><span style=\"color: Reset;background-color: Reset;\">─</span><span style=\"color: Reset;background-color: Reset;\">─</span><span style=\"color: Reset;background-color: Reset;\">─</span><span style=\"color: Reset;background-color: Reset;\">─</span><span style=\"color: Reset;background-color: Reset;\">─</span><span style=\"color: Reset;background-color: Reset;\">─</span><span style=\"color: Reset;background-color: Reset;\">─</span><span style=\"color: Reset;background-color: Reset;\">─</span><span style=\"color: Reset;background-color: Reset;\">─</span><span style=\"color: Reset;background-color: Reset;\">─</span><span style=\"color: Reset;background-color: Reset;\">─</span><span style=\"color: Reset;background-color: Reset;\">─</span><span style=\"color: Reset;background-color: Reset;\">─</span><span style=\"color: Reset;background-color: Reset;\">─</span><span style=\"color: Reset;background-color: Reset;\">─</span><span style=\"color: Reset;background-color: Reset;\">─</span><span style=\"color: Reset;background-color: Reset;\">─</span><span style=\"color: Reset;background-color: Reset;\">─</span><span style=\"color: Reset;background-color: Reset;\">─</span><span style=\"color: Reset;background-color: Reset;\">─</span><span style=\"color: Reset;background-color: Reset;\">─</span><span style=\"color: Reset;background-color: Reset;\">─</span><span style=\"color: Reset;background-color: Reset;\">─</span><span style=\"color: Reset;background-color: Reset;\">─</span><span style=\"color: Reset;background-color: Reset;\">─</span><span style=\"color: Reset;background-color: Reset;\">─</span><span style=\"color: Reset;background-color: Reset;\">─</span><span style=\"color: Reset;background-color: Reset;\">─</span><span style=\"color: Reset;background-color: Reset;\">─</span><span style=\"color: Reset;background-color: Reset;\">─</span><span style=\"color: Reset;background-color: Reset;\">─</span><span style=\"color: Reset;background-color: Reset;\">─</span><span style=\"color: Reset;background-color: Reset;\">─</span><span style=\"color: Reset;background-color: Reset;\">─</span><span style=\"color: Reset;background-color: Reset;\">─</span><span style=\"color: Reset;background-color: Reset;\">─</span><span style=\"color: Reset;background-color: Reset;\">─</span><span style=\"color: Reset;background-color: Reset;\">─</span><span style=\"color: Reset;background-color: Reset;\">─</span><span style=\"color: Reset;background-color: Reset;\">─</span><span style=\"color: Reset;background-color: Reset;\">─</span><span style=\"color: Reset;background-color: Reset;\">─</span><span style=\"color: Reset;background-color: Reset;\">─</span><span style=\"color: Reset;background-color: Reset;\">─</span><span style=\"color: Reset;background-color: Reset;\">─</span><span style=\"color: Reset;background-color: Reset;\">─</span><span style=\"color: Reset;background-color: Reset;\">─</span><span style=\"color: Reset;background-color: Reset;\">─</span><span style=\"color: Reset;background-color: Reset;\">─</span><span style=\"color: Reset;background-color: Reset;\">─</span><span style=\"color: Reset;background-color: Reset;\">─</span><span style=\"color: Reset;background-color: Reset;\">─</span><span style=\"color: Reset;background-color: Reset;\">─</span><span style=\"color: Reset;background-color: Reset;\">─</span><span style=\"color: Reset;background-color: Reset;\">─</span><span style=\"color: Reset;background-color: Reset;\">─</span><span style=\"color: Reset;background-color: Reset;\">─</span><span style=\"color: Reset;background-color: Reset;\">─</span><span style=\"color: Reset;background-color: Reset;\">┘</span>\n",
       "</code></pre>\n",
       "</div>"
      ],
      "text/plain": [
       "()"
      ]
     },
     "execution_count": 15,
     "metadata": {},
     "output_type": "execute_result"
    }
   ],
   "source": [
    "app.counter += 1;\n",
    "\n",
    "draw_ui(&app, area, &mut buf);\n",
    "\n",
    "show_html(buffer_to_html(&buf)) //| hide_line"
   ]
  },
  {
   "cell_type": "code",
   "execution_count": 16,
   "id": "d9e1b856-ba65-4183-9bc1-1544804a0852",
   "metadata": {
    "execution": {
     "iopub.execute_input": "2024-05-19T13:08:54.317576+00:00",
     "iopub.status.busy": "2024-05-19T13:08:54.317550+00:00",
     "iopub.status.idle": "2024-05-19T13:08:54.317571+00:00",
     "shell.execute_reply": "2024-05-19T13:08:54.896621+00:00"
    }
   },
   "outputs": [
    {
     "data": {
      "text/html": [
       "<div style=\"display: flex; justify-content:start; gap: 1em; margin: 1em\">\n",
       "<pre><code><span style=\"color: Reset;background-color: Reset;\">┌</span><span style=\"color: Reset;background-color: Reset;\">C</span><span style=\"color: Reset;background-color: Reset;\">o</span><span style=\"color: Reset;background-color: Reset;\">u</span><span style=\"color: Reset;background-color: Reset;\">n</span><span style=\"color: Reset;background-color: Reset;\">t</span><span style=\"color: Reset;background-color: Reset;\">e</span><span style=\"color: Reset;background-color: Reset;\">r</span><span style=\"color: Reset;background-color: Reset;\"> </span><span style=\"color: Reset;background-color: Reset;\">E</span><span style=\"color: Reset;background-color: Reset;\">x</span><span style=\"color: Reset;background-color: Reset;\">a</span><span style=\"color: Reset;background-color: Reset;\">m</span><span style=\"color: Reset;background-color: Reset;\">p</span><span style=\"color: Reset;background-color: Reset;\">l</span><span style=\"color: Reset;background-color: Reset;\">e</span><span style=\"color: Reset;background-color: Reset;\">─</span><span style=\"color: Reset;background-color: Reset;\">─</span><span style=\"color: Reset;background-color: Reset;\">─</span><span style=\"color: Reset;background-color: Reset;\">─</span><span style=\"color: Reset;background-color: Reset;\">─</span><span style=\"color: Reset;background-color: Reset;\">─</span><span style=\"color: Reset;background-color: Reset;\">─</span><span style=\"color: Reset;background-color: Reset;\">─</span><span style=\"color: Reset;background-color: Reset;\">─</span><span style=\"color: Reset;background-color: Reset;\">─</span><span style=\"color: Reset;background-color: Reset;\">─</span><span style=\"color: Reset;background-color: Reset;\">─</span><span style=\"color: Reset;background-color: Reset;\">─</span><span style=\"color: Reset;background-color: Reset;\">─</span><span style=\"color: Reset;background-color: Reset;\">─</span><span style=\"color: Reset;background-color: Reset;\">─</span><span style=\"color: Reset;background-color: Reset;\">─</span><span style=\"color: Reset;background-color: Reset;\">─</span><span style=\"color: Reset;background-color: Reset;\">─</span><span style=\"color: Reset;background-color: Reset;\">─</span><span style=\"color: Reset;background-color: Reset;\">─</span><span style=\"color: Reset;background-color: Reset;\">─</span><span style=\"color: Reset;background-color: Reset;\">─</span><span style=\"color: Reset;background-color: Reset;\">─</span><span style=\"color: Reset;background-color: Reset;\">─</span><span style=\"color: Reset;background-color: Reset;\">─</span><span style=\"color: Reset;background-color: Reset;\">─</span><span style=\"color: Reset;background-color: Reset;\">─</span><span style=\"color: Reset;background-color: Reset;\">─</span><span style=\"color: Reset;background-color: Reset;\">─</span><span style=\"color: Reset;background-color: Reset;\">─</span><span style=\"color: Reset;background-color: Reset;\">─</span><span style=\"color: Reset;background-color: Reset;\">─</span><span style=\"color: Reset;background-color: Reset;\">─</span><span style=\"color: Reset;background-color: Reset;\">─</span><span style=\"color: Reset;background-color: Reset;\">─</span><span style=\"color: Reset;background-color: Reset;\">─</span><span style=\"color: Reset;background-color: Reset;\">─</span><span style=\"color: Reset;background-color: Reset;\">─</span><span style=\"color: Reset;background-color: Reset;\">─</span><span style=\"color: Reset;background-color: Reset;\">─</span><span style=\"color: Reset;background-color: Reset;\">─</span><span style=\"color: Reset;background-color: Reset;\">─</span><span style=\"color: Reset;background-color: Reset;\">─</span><span style=\"color: Reset;background-color: Reset;\">─</span><span style=\"color: Reset;background-color: Reset;\">─</span><span style=\"color: Reset;background-color: Reset;\">─</span><span style=\"color: Reset;background-color: Reset;\">─</span><span style=\"color: Reset;background-color: Reset;\">─</span><span style=\"color: Reset;background-color: Reset;\">─</span><span style=\"color: Reset;background-color: Reset;\">─</span><span style=\"color: Reset;background-color: Reset;\">─</span><span style=\"color: Reset;background-color: Reset;\">─</span><span style=\"color: Reset;background-color: Reset;\">─</span><span style=\"color: Reset;background-color: Reset;\">─</span><span style=\"color: Reset;background-color: Reset;\">─</span><span style=\"color: Reset;background-color: Reset;\">─</span><span style=\"color: Reset;background-color: Reset;\">─</span><span style=\"color: Reset;background-color: Reset;\">─</span><span style=\"color: Reset;background-color: Reset;\">─</span><span style=\"color: Reset;background-color: Reset;\">─</span><span style=\"color: Reset;background-color: Reset;\">─</span><span style=\"color: Reset;background-color: Reset;\">─</span><span style=\"color: Reset;background-color: Reset;\">┐</span>\n",
       "<span style=\"color: Reset;background-color: Reset;\">│</span><span style=\"color: Reset;background-color: Reset;\"> </span><span style=\"color: Reset;background-color: Reset;\"> </span><span style=\"color: Reset;background-color: Reset;\"> </span><span style=\"color: Reset;background-color: Reset;\"> </span><span style=\"color: Reset;background-color: Reset;\"> </span><span style=\"color: Reset;background-color: Reset;\"> </span><span style=\"color: Reset;background-color: Reset;\"> </span><span style=\"color: Reset;background-color: Reset;\"> </span><span style=\"color: Reset;background-color: Reset;\"> </span><span style=\"color: Reset;background-color: Reset;\"> </span><span style=\"color: Reset;background-color: Reset;\"> </span><span style=\"color: Reset;background-color: Reset;\"> </span><span style=\"color: Reset;background-color: Reset;\"> </span><span style=\"color: Reset;background-color: Reset;\"> </span><span style=\"color: Reset;background-color: Reset;\"> </span><span style=\"color: Reset;background-color: Reset;\"> </span><span style=\"color: Reset;background-color: Reset;\"> </span><span style=\"color: Reset;background-color: Reset;\"> </span><span style=\"color: Reset;background-color: Reset;\"> </span><span style=\"color: Reset;background-color: Reset;\"> </span><span style=\"color: Reset;background-color: Reset;\"> </span><span style=\"color: Reset;background-color: Reset;\"> </span><span style=\"color: Reset;background-color: Reset;\"> </span><span style=\"color: Reset;background-color: Reset;\"> </span><span style=\"color: Reset;background-color: Reset;\"> </span><span style=\"color: Reset;background-color: Reset;\"> </span><span style=\"color: Reset;background-color: Reset;\"> </span><span style=\"color: Reset;background-color: Reset;\"> </span><span style=\"color: Reset;background-color: Reset;\"> </span><span style=\"color: Reset;background-color: Reset;\"> </span><span style=\"color: Reset;background-color: Reset;\"> </span><span style=\"color: Reset;background-color: Reset;\"> </span><span style=\"color: Reset;background-color: Reset;\"> </span><span style=\"color: Reset;background-color: Reset;\"> </span><span style=\"color: Reset;background-color: Reset;\"> </span><span style=\"color: Reset;background-color: Reset;\"> </span><span style=\"color: Reset;background-color: Reset;\"> </span><span style=\"color: Reset;background-color: Reset;\"> </span><span style=\"color: Reset;background-color: Reset;\"> </span><span style=\"color: Reset;background-color: Reset;\"> </span><span style=\"color: Reset;background-color: Reset;\"> </span><span style=\"color: Reset;background-color: Reset;\"> </span><span style=\"color: Reset;background-color: Reset;\"> </span><span style=\"color: Reset;background-color: Reset;\"> </span><span style=\"color: Reset;background-color: Reset;\"> </span><span style=\"color: Reset;background-color: Reset;\"> </span><span style=\"color: Reset;background-color: Reset;\"> </span><span style=\"color: Reset;background-color: Reset;\"> </span><span style=\"color: Reset;background-color: Reset;\"> </span><span style=\"color: Reset;background-color: Reset;\"> </span><span style=\"color: Reset;background-color: Reset;\"> </span><span style=\"color: Reset;background-color: Reset;\"> </span><span style=\"color: Reset;background-color: Reset;\"> </span><span style=\"color: Reset;background-color: Reset;\"> </span><span style=\"color: Reset;background-color: Reset;\"> </span><span style=\"color: Reset;background-color: Reset;\"> </span><span style=\"color: Reset;background-color: Reset;\"> </span><span style=\"color: Reset;background-color: Reset;\"> </span><span style=\"color: Reset;background-color: Reset;\"> </span><span style=\"color: Reset;background-color: Reset;\"> </span><span style=\"color: Reset;background-color: Reset;\"> </span><span style=\"color: Reset;background-color: Reset;\"> </span><span style=\"color: Reset;background-color: Reset;\"> </span><span style=\"color: Reset;background-color: Reset;\"> </span><span style=\"color: Reset;background-color: Reset;\"> </span><span style=\"color: Reset;background-color: Reset;\"> </span><span style=\"color: Reset;background-color: Reset;\"> </span><span style=\"color: Reset;background-color: Reset;\"> </span><span style=\"color: Reset;background-color: Reset;\"> </span><span style=\"color: Reset;background-color: Reset;\"> </span><span style=\"color: Reset;background-color: Reset;\"> </span><span style=\"color: Reset;background-color: Reset;\"> </span><span style=\"color: Reset;background-color: Reset;\"> </span><span style=\"color: Reset;background-color: Reset;\"> </span><span style=\"color: Reset;background-color: Reset;\"> </span><span style=\"color: Reset;background-color: Reset;\"> </span><span style=\"color: Reset;background-color: Reset;\"> </span><span style=\"color: Reset;background-color: Reset;\"> </span><span style=\"color: Reset;background-color: Reset;\">│</span>\n",
       "<span style=\"color: Reset;background-color: Reset;\">│</span><span style=\"color: Reset;background-color: Reset;\"> </span><span style=\"color: Reset;background-color: Reset;\"> </span><span style=\"color: Reset;background-color: Reset;\"> </span><span style=\"color: Reset;background-color: Reset;\"> </span><span style=\"color: Reset;background-color: Reset;\"> </span><span style=\"color: Reset;background-color: Reset;\"> </span><span style=\"color: Reset;background-color: Reset;\"> </span><span style=\"color: Reset;background-color: Reset;\"> </span><span style=\"color: Reset;background-color: Reset;\"> </span><span style=\"color: Reset;background-color: Reset;\"> </span><span style=\"color: Reset;background-color: Reset;\"> </span><span style=\"color: Reset;background-color: Reset;\"> </span><span style=\"color: Reset;background-color: Reset;\"> </span><span style=\"color: Reset;background-color: Reset;\"> </span><span style=\"color: Reset;background-color: Reset;\"> </span><span style=\"color: Reset;background-color: Reset;\"> </span><span style=\"color: Reset;background-color: Reset;\"> </span><span style=\"color: Reset;background-color: Reset;\"> </span><span style=\"color: Reset;background-color: Reset;\"> </span><span style=\"color: Reset;background-color: Reset;\"> </span><span style=\"color: Reset;background-color: Reset;\"> </span><span style=\"color: Reset;background-color: Reset;\"> </span><span style=\"color: Reset;background-color: Reset;\"> </span><span style=\"color: Reset;background-color: Reset;\"> </span><span style=\"color: Reset;background-color: Reset;\"> </span><span style=\"color: Reset;background-color: Reset;\"> </span><span style=\"color: Reset;background-color: Reset;\"> </span><span style=\"color: Reset;background-color: Reset;\"> </span><span style=\"color: Reset;background-color: Reset;\"> </span><span style=\"color: Reset;background-color: Reset;\"> </span><span style=\"color: Reset;background-color: Reset;\"> </span><span style=\"color: Reset;background-color: Reset;\"> </span><span style=\"color: Reset;background-color: Reset;\"> </span><span style=\"color: Reset;background-color: Reset;\"> </span><span style=\"color: Reset;background-color: Reset;\">C</span><span style=\"color: Reset;background-color: Reset;\">o</span><span style=\"color: Reset;background-color: Reset;\">u</span><span style=\"color: Reset;background-color: Reset;\">n</span><span style=\"color: Reset;background-color: Reset;\">t</span><span style=\"color: Reset;background-color: Reset;\">e</span><span style=\"color: Reset;background-color: Reset;\">r</span><span style=\"color: Reset;background-color: Reset;\">:</span><span style=\"color: Reset;background-color: Reset;\"> </span><span style=\"color: Reset;background-color: Reset;\">2</span><span style=\"color: Reset;background-color: Reset;\"> </span><span style=\"color: Reset;background-color: Reset;\"> </span><span style=\"color: Reset;background-color: Reset;\"> </span><span style=\"color: Reset;background-color: Reset;\"> </span><span style=\"color: Reset;background-color: Reset;\"> </span><span style=\"color: Reset;background-color: Reset;\"> </span><span style=\"color: Reset;background-color: Reset;\"> </span><span style=\"color: Reset;background-color: Reset;\"> </span><span style=\"color: Reset;background-color: Reset;\"> </span><span style=\"color: Reset;background-color: Reset;\"> </span><span style=\"color: Reset;background-color: Reset;\"> </span><span style=\"color: Reset;background-color: Reset;\"> </span><span style=\"color: Reset;background-color: Reset;\"> </span><span style=\"color: Reset;background-color: Reset;\"> </span><span style=\"color: Reset;background-color: Reset;\"> </span><span style=\"color: Reset;background-color: Reset;\"> </span><span style=\"color: Reset;background-color: Reset;\"> </span><span style=\"color: Reset;background-color: Reset;\"> </span><span style=\"color: Reset;background-color: Reset;\"> </span><span style=\"color: Reset;background-color: Reset;\"> </span><span style=\"color: Reset;background-color: Reset;\"> </span><span style=\"color: Reset;background-color: Reset;\"> </span><span style=\"color: Reset;background-color: Reset;\"> </span><span style=\"color: Reset;background-color: Reset;\"> </span><span style=\"color: Reset;background-color: Reset;\"> </span><span style=\"color: Reset;background-color: Reset;\"> </span><span style=\"color: Reset;background-color: Reset;\"> </span><span style=\"color: Reset;background-color: Reset;\"> </span><span style=\"color: Reset;background-color: Reset;\"> </span><span style=\"color: Reset;background-color: Reset;\"> </span><span style=\"color: Reset;background-color: Reset;\"> </span><span style=\"color: Reset;background-color: Reset;\"> </span><span style=\"color: Reset;background-color: Reset;\"> </span><span style=\"color: Reset;background-color: Reset;\"> </span><span style=\"color: Reset;background-color: Reset;\">│</span>\n",
       "<span style=\"color: Reset;background-color: Reset;\">│</span><span style=\"color: Reset;background-color: Reset;\"> </span><span style=\"color: Reset;background-color: Reset;\"> </span><span style=\"color: Reset;background-color: Reset;\"> </span><span style=\"color: Reset;background-color: Reset;\"> </span><span style=\"color: Reset;background-color: Reset;\"> </span><span style=\"color: Reset;background-color: Reset;\"> </span><span style=\"color: Reset;background-color: Reset;\"> </span><span style=\"color: Reset;background-color: Reset;\"> </span><span style=\"color: Reset;background-color: Reset;\"> </span><span style=\"color: Reset;background-color: Reset;\"> </span><span style=\"color: Reset;background-color: Reset;\"> </span><span style=\"color: Reset;background-color: Reset;\"> </span><span style=\"color: Reset;background-color: Reset;\"> </span><span style=\"color: Reset;background-color: Reset;\"> </span><span style=\"color: Reset;background-color: Reset;\"> </span><span style=\"color: Reset;background-color: Reset;\"> </span><span style=\"color: Reset;background-color: Reset;\"> </span><span style=\"color: Reset;background-color: Reset;\"> </span><span style=\"color: Reset;background-color: Reset;\"> </span><span style=\"color: Reset;background-color: Reset;\"> </span><span style=\"color: Reset;background-color: Reset;\"> </span><span style=\"color: Reset;background-color: Reset;\"> </span><span style=\"color: Reset;background-color: Reset;\"> </span><span style=\"color: Reset;background-color: Reset;\"> </span><span style=\"color: Reset;background-color: Reset;\"> </span><span style=\"color: Reset;background-color: Reset;\"> </span><span style=\"color: Reset;background-color: Reset;\"> </span><span style=\"color: Reset;background-color: Reset;\"> </span><span style=\"color: Reset;background-color: Reset;\"> </span><span style=\"color: Reset;background-color: Reset;\"> </span><span style=\"color: Reset;background-color: Reset;\"> </span><span style=\"color: Reset;background-color: Reset;\"> </span><span style=\"color: Reset;background-color: Reset;\"> </span><span style=\"color: Reset;background-color: Reset;\"> </span><span style=\"color: Reset;background-color: Reset;\"> </span><span style=\"color: Reset;background-color: Reset;\"> </span><span style=\"color: Reset;background-color: Reset;\"> </span><span style=\"color: Reset;background-color: Reset;\"> </span><span style=\"color: Reset;background-color: Reset;\"> </span><span style=\"color: Reset;background-color: Reset;\"> </span><span style=\"color: Reset;background-color: Reset;\"> </span><span style=\"color: Reset;background-color: Reset;\"> </span><span style=\"color: Reset;background-color: Reset;\"> </span><span style=\"color: Reset;background-color: Reset;\"> </span><span style=\"color: Reset;background-color: Reset;\"> </span><span style=\"color: Reset;background-color: Reset;\"> </span><span style=\"color: Reset;background-color: Reset;\"> </span><span style=\"color: Reset;background-color: Reset;\"> </span><span style=\"color: Reset;background-color: Reset;\"> </span><span style=\"color: Reset;background-color: Reset;\"> </span><span style=\"color: Reset;background-color: Reset;\"> </span><span style=\"color: Reset;background-color: Reset;\"> </span><span style=\"color: Reset;background-color: Reset;\"> </span><span style=\"color: Reset;background-color: Reset;\"> </span><span style=\"color: Reset;background-color: Reset;\"> </span><span style=\"color: Reset;background-color: Reset;\"> </span><span style=\"color: Reset;background-color: Reset;\"> </span><span style=\"color: Reset;background-color: Reset;\"> </span><span style=\"color: Reset;background-color: Reset;\"> </span><span style=\"color: Reset;background-color: Reset;\"> </span><span style=\"color: Reset;background-color: Reset;\"> </span><span style=\"color: Reset;background-color: Reset;\"> </span><span style=\"color: Reset;background-color: Reset;\"> </span><span style=\"color: Reset;background-color: Reset;\"> </span><span style=\"color: Reset;background-color: Reset;\"> </span><span style=\"color: Reset;background-color: Reset;\"> </span><span style=\"color: Reset;background-color: Reset;\"> </span><span style=\"color: Reset;background-color: Reset;\"> </span><span style=\"color: Reset;background-color: Reset;\"> </span><span style=\"color: Reset;background-color: Reset;\"> </span><span style=\"color: Reset;background-color: Reset;\"> </span><span style=\"color: Reset;background-color: Reset;\"> </span><span style=\"color: Reset;background-color: Reset;\"> </span><span style=\"color: Reset;background-color: Reset;\"> </span><span style=\"color: Reset;background-color: Reset;\"> </span><span style=\"color: Reset;background-color: Reset;\"> </span><span style=\"color: Reset;background-color: Reset;\"> </span><span style=\"color: Reset;background-color: Reset;\"> </span><span style=\"color: Reset;background-color: Reset;\">│</span>\n",
       "<span style=\"color: Reset;background-color: Reset;\">└</span><span style=\"color: Reset;background-color: Reset;\">─</span><span style=\"color: Reset;background-color: Reset;\">─</span><span style=\"color: Reset;background-color: Reset;\">─</span><span style=\"color: Reset;background-color: Reset;\">─</span><span style=\"color: Reset;background-color: Reset;\">─</span><span style=\"color: Reset;background-color: Reset;\">─</span><span style=\"color: Reset;background-color: Reset;\">─</span><span style=\"color: Reset;background-color: Reset;\">─</span><span style=\"color: Reset;background-color: Reset;\">─</span><span style=\"color: Reset;background-color: Reset;\">─</span><span style=\"color: Reset;background-color: Reset;\">─</span><span style=\"color: Reset;background-color: Reset;\">─</span><span style=\"color: Reset;background-color: Reset;\">─</span><span style=\"color: Reset;background-color: Reset;\">─</span><span style=\"color: Reset;background-color: Reset;\">─</span><span style=\"color: Reset;background-color: Reset;\">─</span><span style=\"color: Reset;background-color: Reset;\">─</span><span style=\"color: Reset;background-color: Reset;\">─</span><span style=\"color: Reset;background-color: Reset;\">─</span><span style=\"color: Reset;background-color: Reset;\">─</span><span style=\"color: Reset;background-color: Reset;\">─</span><span style=\"color: Reset;background-color: Reset;\">─</span><span style=\"color: Reset;background-color: Reset;\">─</span><span style=\"color: Reset;background-color: Reset;\">─</span><span style=\"color: Reset;background-color: Reset;\">─</span><span style=\"color: Reset;background-color: Reset;\">─</span><span style=\"color: Reset;background-color: Reset;\">─</span><span style=\"color: Reset;background-color: Reset;\">─</span><span style=\"color: Reset;background-color: Reset;\">─</span><span style=\"color: Reset;background-color: Reset;\">─</span><span style=\"color: Reset;background-color: Reset;\">─</span><span style=\"color: Reset;background-color: Reset;\">─</span><span style=\"color: Reset;background-color: Reset;\">─</span><span style=\"color: Reset;background-color: Reset;\">─</span><span style=\"color: Reset;background-color: Reset;\">─</span><span style=\"color: Reset;background-color: Reset;\">─</span><span style=\"color: Reset;background-color: Reset;\">─</span><span style=\"color: Reset;background-color: Reset;\">─</span><span style=\"color: Reset;background-color: Reset;\">─</span><span style=\"color: Reset;background-color: Reset;\">─</span><span style=\"color: Reset;background-color: Reset;\">─</span><span style=\"color: Reset;background-color: Reset;\">─</span><span style=\"color: Reset;background-color: Reset;\">─</span><span style=\"color: Reset;background-color: Reset;\">─</span><span style=\"color: Reset;background-color: Reset;\">─</span><span style=\"color: Reset;background-color: Reset;\">─</span><span style=\"color: Reset;background-color: Reset;\">─</span><span style=\"color: Reset;background-color: Reset;\">─</span><span style=\"color: Reset;background-color: Reset;\">─</span><span style=\"color: Reset;background-color: Reset;\">─</span><span style=\"color: Reset;background-color: Reset;\">─</span><span style=\"color: Reset;background-color: Reset;\">─</span><span style=\"color: Reset;background-color: Reset;\">─</span><span style=\"color: Reset;background-color: Reset;\">─</span><span style=\"color: Reset;background-color: Reset;\">─</span><span style=\"color: Reset;background-color: Reset;\">─</span><span style=\"color: Reset;background-color: Reset;\">─</span><span style=\"color: Reset;background-color: Reset;\">─</span><span style=\"color: Reset;background-color: Reset;\">─</span><span style=\"color: Reset;background-color: Reset;\">─</span><span style=\"color: Reset;background-color: Reset;\">─</span><span style=\"color: Reset;background-color: Reset;\">─</span><span style=\"color: Reset;background-color: Reset;\">─</span><span style=\"color: Reset;background-color: Reset;\">─</span><span style=\"color: Reset;background-color: Reset;\">─</span><span style=\"color: Reset;background-color: Reset;\">─</span><span style=\"color: Reset;background-color: Reset;\">─</span><span style=\"color: Reset;background-color: Reset;\">─</span><span style=\"color: Reset;background-color: Reset;\">─</span><span style=\"color: Reset;background-color: Reset;\">─</span><span style=\"color: Reset;background-color: Reset;\">─</span><span style=\"color: Reset;background-color: Reset;\">─</span><span style=\"color: Reset;background-color: Reset;\">─</span><span style=\"color: Reset;background-color: Reset;\">─</span><span style=\"color: Reset;background-color: Reset;\">─</span><span style=\"color: Reset;background-color: Reset;\">─</span><span style=\"color: Reset;background-color: Reset;\">─</span><span style=\"color: Reset;background-color: Reset;\">─</span><span style=\"color: Reset;background-color: Reset;\">┘</span>\n",
       "</code></pre>\n",
       "</div>"
      ],
      "text/plain": [
       "()"
      ]
     },
     "execution_count": 16,
     "metadata": {},
     "output_type": "execute_result"
    }
   ],
   "source": [
    "app.counter += 1;\n",
    "\n",
    "draw_ui(&app, area, &mut buf);\n",
    "\n",
    "show_html(buffer_to_html(&buf)) //| hide_line"
   ]
  },
  {
   "cell_type": "code",
   "execution_count": 17,
   "id": "09a7a902-4c26-49d6-98d1-d6801169fe01",
   "metadata": {
    "execution": {
     "iopub.execute_input": "2024-05-19T13:08:54.896696+00:00",
     "iopub.status.busy": "2024-05-19T13:08:54.896670+00:00",
     "iopub.status.idle": "2024-05-19T13:08:54.896692+00:00",
     "shell.execute_reply": "2024-05-19T13:08:55.444577+00:00"
    }
   },
   "outputs": [
    {
     "data": {
      "text/html": [
       "<div style=\"display: flex; justify-content:start; gap: 1em; margin: 1em\">\n",
       "<pre><code><span style=\"color: Reset;background-color: Reset;\">┌</span><span style=\"color: Reset;background-color: Reset;\">C</span><span style=\"color: Reset;background-color: Reset;\">o</span><span style=\"color: Reset;background-color: Reset;\">u</span><span style=\"color: Reset;background-color: Reset;\">n</span><span style=\"color: Reset;background-color: Reset;\">t</span><span style=\"color: Reset;background-color: Reset;\">e</span><span style=\"color: Reset;background-color: Reset;\">r</span><span style=\"color: Reset;background-color: Reset;\"> </span><span style=\"color: Reset;background-color: Reset;\">E</span><span style=\"color: Reset;background-color: Reset;\">x</span><span style=\"color: Reset;background-color: Reset;\">a</span><span style=\"color: Reset;background-color: Reset;\">m</span><span style=\"color: Reset;background-color: Reset;\">p</span><span style=\"color: Reset;background-color: Reset;\">l</span><span style=\"color: Reset;background-color: Reset;\">e</span><span style=\"color: Reset;background-color: Reset;\">─</span><span style=\"color: Reset;background-color: Reset;\">─</span><span style=\"color: Reset;background-color: Reset;\">─</span><span style=\"color: Reset;background-color: Reset;\">─</span><span style=\"color: Reset;background-color: Reset;\">─</span><span style=\"color: Reset;background-color: Reset;\">─</span><span style=\"color: Reset;background-color: Reset;\">─</span><span style=\"color: Reset;background-color: Reset;\">─</span><span style=\"color: Reset;background-color: Reset;\">─</span><span style=\"color: Reset;background-color: Reset;\">─</span><span style=\"color: Reset;background-color: Reset;\">─</span><span style=\"color: Reset;background-color: Reset;\">─</span><span style=\"color: Reset;background-color: Reset;\">─</span><span style=\"color: Reset;background-color: Reset;\">─</span><span style=\"color: Reset;background-color: Reset;\">─</span><span style=\"color: Reset;background-color: Reset;\">─</span><span style=\"color: Reset;background-color: Reset;\">─</span><span style=\"color: Reset;background-color: Reset;\">─</span><span style=\"color: Reset;background-color: Reset;\">─</span><span style=\"color: Reset;background-color: Reset;\">─</span><span style=\"color: Reset;background-color: Reset;\">─</span><span style=\"color: Reset;background-color: Reset;\">─</span><span style=\"color: Reset;background-color: Reset;\">─</span><span style=\"color: Reset;background-color: Reset;\">─</span><span style=\"color: Reset;background-color: Reset;\">─</span><span style=\"color: Reset;background-color: Reset;\">─</span><span style=\"color: Reset;background-color: Reset;\">─</span><span style=\"color: Reset;background-color: Reset;\">─</span><span style=\"color: Reset;background-color: Reset;\">─</span><span style=\"color: Reset;background-color: Reset;\">─</span><span style=\"color: Reset;background-color: Reset;\">─</span><span style=\"color: Reset;background-color: Reset;\">─</span><span style=\"color: Reset;background-color: Reset;\">─</span><span style=\"color: Reset;background-color: Reset;\">─</span><span style=\"color: Reset;background-color: Reset;\">─</span><span style=\"color: Reset;background-color: Reset;\">─</span><span style=\"color: Reset;background-color: Reset;\">─</span><span style=\"color: Reset;background-color: Reset;\">─</span><span style=\"color: Reset;background-color: Reset;\">─</span><span style=\"color: Reset;background-color: Reset;\">─</span><span style=\"color: Reset;background-color: Reset;\">─</span><span style=\"color: Reset;background-color: Reset;\">─</span><span style=\"color: Reset;background-color: Reset;\">─</span><span style=\"color: Reset;background-color: Reset;\">─</span><span style=\"color: Reset;background-color: Reset;\">─</span><span style=\"color: Reset;background-color: Reset;\">─</span><span style=\"color: Reset;background-color: Reset;\">─</span><span style=\"color: Reset;background-color: Reset;\">─</span><span style=\"color: Reset;background-color: Reset;\">─</span><span style=\"color: Reset;background-color: Reset;\">─</span><span style=\"color: Reset;background-color: Reset;\">─</span><span style=\"color: Reset;background-color: Reset;\">─</span><span style=\"color: Reset;background-color: Reset;\">─</span><span style=\"color: Reset;background-color: Reset;\">─</span><span style=\"color: Reset;background-color: Reset;\">─</span><span style=\"color: Reset;background-color: Reset;\">─</span><span style=\"color: Reset;background-color: Reset;\">─</span><span style=\"color: Reset;background-color: Reset;\">─</span><span style=\"color: Reset;background-color: Reset;\">─</span><span style=\"color: Reset;background-color: Reset;\">─</span><span style=\"color: Reset;background-color: Reset;\">─</span><span style=\"color: Reset;background-color: Reset;\">─</span><span style=\"color: Reset;background-color: Reset;\">─</span><span style=\"color: Reset;background-color: Reset;\">┐</span>\n",
       "<span style=\"color: Reset;background-color: Reset;\">│</span><span style=\"color: Reset;background-color: Reset;\"> </span><span style=\"color: Reset;background-color: Reset;\"> </span><span style=\"color: Reset;background-color: Reset;\"> </span><span style=\"color: Reset;background-color: Reset;\"> </span><span style=\"color: Reset;background-color: Reset;\"> </span><span style=\"color: Reset;background-color: Reset;\"> </span><span style=\"color: Reset;background-color: Reset;\"> </span><span style=\"color: Reset;background-color: Reset;\"> </span><span style=\"color: Reset;background-color: Reset;\"> </span><span style=\"color: Reset;background-color: Reset;\"> </span><span style=\"color: Reset;background-color: Reset;\"> </span><span style=\"color: Reset;background-color: Reset;\"> </span><span style=\"color: Reset;background-color: Reset;\"> </span><span style=\"color: Reset;background-color: Reset;\"> </span><span style=\"color: Reset;background-color: Reset;\"> </span><span style=\"color: Reset;background-color: Reset;\"> </span><span style=\"color: Reset;background-color: Reset;\"> </span><span style=\"color: Reset;background-color: Reset;\"> </span><span style=\"color: Reset;background-color: Reset;\"> </span><span style=\"color: Reset;background-color: Reset;\"> </span><span style=\"color: Reset;background-color: Reset;\"> </span><span style=\"color: Reset;background-color: Reset;\"> </span><span style=\"color: Reset;background-color: Reset;\"> </span><span style=\"color: Reset;background-color: Reset;\"> </span><span style=\"color: Reset;background-color: Reset;\"> </span><span style=\"color: Reset;background-color: Reset;\"> </span><span style=\"color: Reset;background-color: Reset;\"> </span><span style=\"color: Reset;background-color: Reset;\"> </span><span style=\"color: Reset;background-color: Reset;\"> </span><span style=\"color: Reset;background-color: Reset;\"> </span><span style=\"color: Reset;background-color: Reset;\"> </span><span style=\"color: Reset;background-color: Reset;\"> </span><span style=\"color: Reset;background-color: Reset;\"> </span><span style=\"color: Reset;background-color: Reset;\"> </span><span style=\"color: Reset;background-color: Reset;\"> </span><span style=\"color: Reset;background-color: Reset;\"> </span><span style=\"color: Reset;background-color: Reset;\"> </span><span style=\"color: Reset;background-color: Reset;\"> </span><span style=\"color: Reset;background-color: Reset;\"> </span><span style=\"color: Reset;background-color: Reset;\"> </span><span style=\"color: Reset;background-color: Reset;\"> </span><span style=\"color: Reset;background-color: Reset;\"> </span><span style=\"color: Reset;background-color: Reset;\"> </span><span style=\"color: Reset;background-color: Reset;\"> </span><span style=\"color: Reset;background-color: Reset;\"> </span><span style=\"color: Reset;background-color: Reset;\"> </span><span style=\"color: Reset;background-color: Reset;\"> </span><span style=\"color: Reset;background-color: Reset;\"> </span><span style=\"color: Reset;background-color: Reset;\"> </span><span style=\"color: Reset;background-color: Reset;\"> </span><span style=\"color: Reset;background-color: Reset;\"> </span><span style=\"color: Reset;background-color: Reset;\"> </span><span style=\"color: Reset;background-color: Reset;\"> </span><span style=\"color: Reset;background-color: Reset;\"> </span><span style=\"color: Reset;background-color: Reset;\"> </span><span style=\"color: Reset;background-color: Reset;\"> </span><span style=\"color: Reset;background-color: Reset;\"> </span><span style=\"color: Reset;background-color: Reset;\"> </span><span style=\"color: Reset;background-color: Reset;\"> </span><span style=\"color: Reset;background-color: Reset;\"> </span><span style=\"color: Reset;background-color: Reset;\"> </span><span style=\"color: Reset;background-color: Reset;\"> </span><span style=\"color: Reset;background-color: Reset;\"> </span><span style=\"color: Reset;background-color: Reset;\"> </span><span style=\"color: Reset;background-color: Reset;\"> </span><span style=\"color: Reset;background-color: Reset;\"> </span><span style=\"color: Reset;background-color: Reset;\"> </span><span style=\"color: Reset;background-color: Reset;\"> </span><span style=\"color: Reset;background-color: Reset;\"> </span><span style=\"color: Reset;background-color: Reset;\"> </span><span style=\"color: Reset;background-color: Reset;\"> </span><span style=\"color: Reset;background-color: Reset;\"> </span><span style=\"color: Reset;background-color: Reset;\"> </span><span style=\"color: Reset;background-color: Reset;\"> </span><span style=\"color: Reset;background-color: Reset;\"> </span><span style=\"color: Reset;background-color: Reset;\"> </span><span style=\"color: Reset;background-color: Reset;\"> </span><span style=\"color: Reset;background-color: Reset;\"> </span><span style=\"color: Reset;background-color: Reset;\">│</span>\n",
       "<span style=\"color: Reset;background-color: Reset;\">│</span><span style=\"color: Reset;background-color: Reset;\"> </span><span style=\"color: Reset;background-color: Reset;\"> </span><span style=\"color: Reset;background-color: Reset;\"> </span><span style=\"color: Reset;background-color: Reset;\"> </span><span style=\"color: Reset;background-color: Reset;\"> </span><span style=\"color: Reset;background-color: Reset;\"> </span><span style=\"color: Reset;background-color: Reset;\"> </span><span style=\"color: Reset;background-color: Reset;\"> </span><span style=\"color: Reset;background-color: Reset;\"> </span><span style=\"color: Reset;background-color: Reset;\"> </span><span style=\"color: Reset;background-color: Reset;\"> </span><span style=\"color: Reset;background-color: Reset;\"> </span><span style=\"color: Reset;background-color: Reset;\"> </span><span style=\"color: Reset;background-color: Reset;\"> </span><span style=\"color: Reset;background-color: Reset;\"> </span><span style=\"color: Reset;background-color: Reset;\"> </span><span style=\"color: Reset;background-color: Reset;\"> </span><span style=\"color: Reset;background-color: Reset;\"> </span><span style=\"color: Reset;background-color: Reset;\"> </span><span style=\"color: Reset;background-color: Reset;\"> </span><span style=\"color: Reset;background-color: Reset;\"> </span><span style=\"color: Reset;background-color: Reset;\"> </span><span style=\"color: Reset;background-color: Reset;\"> </span><span style=\"color: Reset;background-color: Reset;\"> </span><span style=\"color: Reset;background-color: Reset;\"> </span><span style=\"color: Reset;background-color: Reset;\"> </span><span style=\"color: Reset;background-color: Reset;\"> </span><span style=\"color: Reset;background-color: Reset;\"> </span><span style=\"color: Reset;background-color: Reset;\"> </span><span style=\"color: Reset;background-color: Reset;\"> </span><span style=\"color: Reset;background-color: Reset;\"> </span><span style=\"color: Reset;background-color: Reset;\"> </span><span style=\"color: Reset;background-color: Reset;\"> </span><span style=\"color: Reset;background-color: Reset;\"> </span><span style=\"color: Reset;background-color: Reset;\">C</span><span style=\"color: Reset;background-color: Reset;\">o</span><span style=\"color: Reset;background-color: Reset;\">u</span><span style=\"color: Reset;background-color: Reset;\">n</span><span style=\"color: Reset;background-color: Reset;\">t</span><span style=\"color: Reset;background-color: Reset;\">e</span><span style=\"color: Reset;background-color: Reset;\">r</span><span style=\"color: Reset;background-color: Reset;\">:</span><span style=\"color: Reset;background-color: Reset;\"> </span><span style=\"color: Reset;background-color: Reset;\">3</span><span style=\"color: Reset;background-color: Reset;\"> </span><span style=\"color: Reset;background-color: Reset;\"> </span><span style=\"color: Reset;background-color: Reset;\"> </span><span style=\"color: Reset;background-color: Reset;\"> </span><span style=\"color: Reset;background-color: Reset;\"> </span><span style=\"color: Reset;background-color: Reset;\"> </span><span style=\"color: Reset;background-color: Reset;\"> </span><span style=\"color: Reset;background-color: Reset;\"> </span><span style=\"color: Reset;background-color: Reset;\"> </span><span style=\"color: Reset;background-color: Reset;\"> </span><span style=\"color: Reset;background-color: Reset;\"> </span><span style=\"color: Reset;background-color: Reset;\"> </span><span style=\"color: Reset;background-color: Reset;\"> </span><span style=\"color: Reset;background-color: Reset;\"> </span><span style=\"color: Reset;background-color: Reset;\"> </span><span style=\"color: Reset;background-color: Reset;\"> </span><span style=\"color: Reset;background-color: Reset;\"> </span><span style=\"color: Reset;background-color: Reset;\"> </span><span style=\"color: Reset;background-color: Reset;\"> </span><span style=\"color: Reset;background-color: Reset;\"> </span><span style=\"color: Reset;background-color: Reset;\"> </span><span style=\"color: Reset;background-color: Reset;\"> </span><span style=\"color: Reset;background-color: Reset;\"> </span><span style=\"color: Reset;background-color: Reset;\"> </span><span style=\"color: Reset;background-color: Reset;\"> </span><span style=\"color: Reset;background-color: Reset;\"> </span><span style=\"color: Reset;background-color: Reset;\"> </span><span style=\"color: Reset;background-color: Reset;\"> </span><span style=\"color: Reset;background-color: Reset;\"> </span><span style=\"color: Reset;background-color: Reset;\"> </span><span style=\"color: Reset;background-color: Reset;\"> </span><span style=\"color: Reset;background-color: Reset;\"> </span><span style=\"color: Reset;background-color: Reset;\"> </span><span style=\"color: Reset;background-color: Reset;\"> </span><span style=\"color: Reset;background-color: Reset;\">│</span>\n",
       "<span style=\"color: Reset;background-color: Reset;\">│</span><span style=\"color: Reset;background-color: Reset;\"> </span><span style=\"color: Reset;background-color: Reset;\"> </span><span style=\"color: Reset;background-color: Reset;\"> </span><span style=\"color: Reset;background-color: Reset;\"> </span><span style=\"color: Reset;background-color: Reset;\"> </span><span style=\"color: Reset;background-color: Reset;\"> </span><span style=\"color: Reset;background-color: Reset;\"> </span><span style=\"color: Reset;background-color: Reset;\"> </span><span style=\"color: Reset;background-color: Reset;\"> </span><span style=\"color: Reset;background-color: Reset;\"> </span><span style=\"color: Reset;background-color: Reset;\"> </span><span style=\"color: Reset;background-color: Reset;\"> </span><span style=\"color: Reset;background-color: Reset;\"> </span><span style=\"color: Reset;background-color: Reset;\"> </span><span style=\"color: Reset;background-color: Reset;\"> </span><span style=\"color: Reset;background-color: Reset;\"> </span><span style=\"color: Reset;background-color: Reset;\"> </span><span style=\"color: Reset;background-color: Reset;\"> </span><span style=\"color: Reset;background-color: Reset;\"> </span><span style=\"color: Reset;background-color: Reset;\"> </span><span style=\"color: Reset;background-color: Reset;\"> </span><span style=\"color: Reset;background-color: Reset;\"> </span><span style=\"color: Reset;background-color: Reset;\"> </span><span style=\"color: Reset;background-color: Reset;\"> </span><span style=\"color: Reset;background-color: Reset;\"> </span><span style=\"color: Reset;background-color: Reset;\"> </span><span style=\"color: Reset;background-color: Reset;\"> </span><span style=\"color: Reset;background-color: Reset;\"> </span><span style=\"color: Reset;background-color: Reset;\"> </span><span style=\"color: Reset;background-color: Reset;\"> </span><span style=\"color: Reset;background-color: Reset;\"> </span><span style=\"color: Reset;background-color: Reset;\"> </span><span style=\"color: Reset;background-color: Reset;\"> </span><span style=\"color: Reset;background-color: Reset;\"> </span><span style=\"color: Reset;background-color: Reset;\"> </span><span style=\"color: Reset;background-color: Reset;\"> </span><span style=\"color: Reset;background-color: Reset;\"> </span><span style=\"color: Reset;background-color: Reset;\"> </span><span style=\"color: Reset;background-color: Reset;\"> </span><span style=\"color: Reset;background-color: Reset;\"> </span><span style=\"color: Reset;background-color: Reset;\"> </span><span style=\"color: Reset;background-color: Reset;\"> </span><span style=\"color: Reset;background-color: Reset;\"> </span><span style=\"color: Reset;background-color: Reset;\"> </span><span style=\"color: Reset;background-color: Reset;\"> </span><span style=\"color: Reset;background-color: Reset;\"> </span><span style=\"color: Reset;background-color: Reset;\"> </span><span style=\"color: Reset;background-color: Reset;\"> </span><span style=\"color: Reset;background-color: Reset;\"> </span><span style=\"color: Reset;background-color: Reset;\"> </span><span style=\"color: Reset;background-color: Reset;\"> </span><span style=\"color: Reset;background-color: Reset;\"> </span><span style=\"color: Reset;background-color: Reset;\"> </span><span style=\"color: Reset;background-color: Reset;\"> </span><span style=\"color: Reset;background-color: Reset;\"> </span><span style=\"color: Reset;background-color: Reset;\"> </span><span style=\"color: Reset;background-color: Reset;\"> </span><span style=\"color: Reset;background-color: Reset;\"> </span><span style=\"color: Reset;background-color: Reset;\"> </span><span style=\"color: Reset;background-color: Reset;\"> </span><span style=\"color: Reset;background-color: Reset;\"> </span><span style=\"color: Reset;background-color: Reset;\"> </span><span style=\"color: Reset;background-color: Reset;\"> </span><span style=\"color: Reset;background-color: Reset;\"> </span><span style=\"color: Reset;background-color: Reset;\"> </span><span style=\"color: Reset;background-color: Reset;\"> </span><span style=\"color: Reset;background-color: Reset;\"> </span><span style=\"color: Reset;background-color: Reset;\"> </span><span style=\"color: Reset;background-color: Reset;\"> </span><span style=\"color: Reset;background-color: Reset;\"> </span><span style=\"color: Reset;background-color: Reset;\"> </span><span style=\"color: Reset;background-color: Reset;\"> </span><span style=\"color: Reset;background-color: Reset;\"> </span><span style=\"color: Reset;background-color: Reset;\"> </span><span style=\"color: Reset;background-color: Reset;\"> </span><span style=\"color: Reset;background-color: Reset;\"> </span><span style=\"color: Reset;background-color: Reset;\"> </span><span style=\"color: Reset;background-color: Reset;\"> </span><span style=\"color: Reset;background-color: Reset;\">│</span>\n",
       "<span style=\"color: Reset;background-color: Reset;\">└</span><span style=\"color: Reset;background-color: Reset;\">─</span><span style=\"color: Reset;background-color: Reset;\">─</span><span style=\"color: Reset;background-color: Reset;\">─</span><span style=\"color: Reset;background-color: Reset;\">─</span><span style=\"color: Reset;background-color: Reset;\">─</span><span style=\"color: Reset;background-color: Reset;\">─</span><span style=\"color: Reset;background-color: Reset;\">─</span><span style=\"color: Reset;background-color: Reset;\">─</span><span style=\"color: Reset;background-color: Reset;\">─</span><span style=\"color: Reset;background-color: Reset;\">─</span><span style=\"color: Reset;background-color: Reset;\">─</span><span style=\"color: Reset;background-color: Reset;\">─</span><span style=\"color: Reset;background-color: Reset;\">─</span><span style=\"color: Reset;background-color: Reset;\">─</span><span style=\"color: Reset;background-color: Reset;\">─</span><span style=\"color: Reset;background-color: Reset;\">─</span><span style=\"color: Reset;background-color: Reset;\">─</span><span style=\"color: Reset;background-color: Reset;\">─</span><span style=\"color: Reset;background-color: Reset;\">─</span><span style=\"color: Reset;background-color: Reset;\">─</span><span style=\"color: Reset;background-color: Reset;\">─</span><span style=\"color: Reset;background-color: Reset;\">─</span><span style=\"color: Reset;background-color: Reset;\">─</span><span style=\"color: Reset;background-color: Reset;\">─</span><span style=\"color: Reset;background-color: Reset;\">─</span><span style=\"color: Reset;background-color: Reset;\">─</span><span style=\"color: Reset;background-color: Reset;\">─</span><span style=\"color: Reset;background-color: Reset;\">─</span><span style=\"color: Reset;background-color: Reset;\">─</span><span style=\"color: Reset;background-color: Reset;\">─</span><span style=\"color: Reset;background-color: Reset;\">─</span><span style=\"color: Reset;background-color: Reset;\">─</span><span style=\"color: Reset;background-color: Reset;\">─</span><span style=\"color: Reset;background-color: Reset;\">─</span><span style=\"color: Reset;background-color: Reset;\">─</span><span style=\"color: Reset;background-color: Reset;\">─</span><span style=\"color: Reset;background-color: Reset;\">─</span><span style=\"color: Reset;background-color: Reset;\">─</span><span style=\"color: Reset;background-color: Reset;\">─</span><span style=\"color: Reset;background-color: Reset;\">─</span><span style=\"color: Reset;background-color: Reset;\">─</span><span style=\"color: Reset;background-color: Reset;\">─</span><span style=\"color: Reset;background-color: Reset;\">─</span><span style=\"color: Reset;background-color: Reset;\">─</span><span style=\"color: Reset;background-color: Reset;\">─</span><span style=\"color: Reset;background-color: Reset;\">─</span><span style=\"color: Reset;background-color: Reset;\">─</span><span style=\"color: Reset;background-color: Reset;\">─</span><span style=\"color: Reset;background-color: Reset;\">─</span><span style=\"color: Reset;background-color: Reset;\">─</span><span style=\"color: Reset;background-color: Reset;\">─</span><span style=\"color: Reset;background-color: Reset;\">─</span><span style=\"color: Reset;background-color: Reset;\">─</span><span style=\"color: Reset;background-color: Reset;\">─</span><span style=\"color: Reset;background-color: Reset;\">─</span><span style=\"color: Reset;background-color: Reset;\">─</span><span style=\"color: Reset;background-color: Reset;\">─</span><span style=\"color: Reset;background-color: Reset;\">─</span><span style=\"color: Reset;background-color: Reset;\">─</span><span style=\"color: Reset;background-color: Reset;\">─</span><span style=\"color: Reset;background-color: Reset;\">─</span><span style=\"color: Reset;background-color: Reset;\">─</span><span style=\"color: Reset;background-color: Reset;\">─</span><span style=\"color: Reset;background-color: Reset;\">─</span><span style=\"color: Reset;background-color: Reset;\">─</span><span style=\"color: Reset;background-color: Reset;\">─</span><span style=\"color: Reset;background-color: Reset;\">─</span><span style=\"color: Reset;background-color: Reset;\">─</span><span style=\"color: Reset;background-color: Reset;\">─</span><span style=\"color: Reset;background-color: Reset;\">─</span><span style=\"color: Reset;background-color: Reset;\">─</span><span style=\"color: Reset;background-color: Reset;\">─</span><span style=\"color: Reset;background-color: Reset;\">─</span><span style=\"color: Reset;background-color: Reset;\">─</span><span style=\"color: Reset;background-color: Reset;\">─</span><span style=\"color: Reset;background-color: Reset;\">─</span><span style=\"color: Reset;background-color: Reset;\">─</span><span style=\"color: Reset;background-color: Reset;\">─</span><span style=\"color: Reset;background-color: Reset;\">┘</span>\n",
       "</code></pre>\n",
       "</div>"
      ],
      "text/plain": [
       "()"
      ]
     },
     "execution_count": 17,
     "metadata": {},
     "output_type": "execute_result"
    }
   ],
   "source": [
    "app.counter += 1;\n",
    "\n",
    "draw_ui(&app, area, &mut buf);\n",
    "\n",
    "show_html(buffer_to_html(&buf)) //| hide_line"
   ]
  },
  {
   "cell_type": "markdown",
   "id": "40929f06-af13-4ddb-a017-b60abae9bd9a",
   "metadata": {},
   "source": [
    "A `Buffer` contains a `ratatui::layout::Rect` indicating its size and `Vec<ratatui::buffer::Cell>` storing its content."
   ]
  },
  {
   "cell_type": "markdown",
   "id": "39e4df1e-4f9a-41cb-94c0-1e1c3bc8e1a7",
   "metadata": {},
   "source": [
    "A `ratatui::buffer::Cell` contains the symbol that represents the content at a specific `(x,y)` location on the terminal as well as the style of the content."
   ]
  },
  {
   "cell_type": "code",
   "execution_count": 50,
   "id": "06b34b17-ac65-4842-8b0b-5d749faf33ff",
   "metadata": {
    "execution": {
     "iopub.execute_input": "2024-05-19T13:17:56.543995+00:00",
     "iopub.status.busy": "2024-05-19T13:17:56.543563+00:00",
     "iopub.status.idle": "2024-05-19T13:17:56.543950+00:00",
     "shell.execute_reply": "2024-05-19T13:17:57.177843+00:00"
    }
   },
   "outputs": [
    {
     "data": {
      "text/plain": [
       "Cell { symbol: \"┌\", fg: Reset, bg: Reset, underline_color: Reset, modifier: NONE, skip: false }"
      ]
     },
     "execution_count": 50,
     "metadata": {},
     "output_type": "execute_result"
    }
   ],
   "source": [
    "let cell = buf.get(0, 0).clone();\n",
    "cell"
   ]
  },
  {
   "cell_type": "code",
   "execution_count": 51,
   "id": "1b3fd961-fb43-4003-b210-ee6430f3b161",
   "metadata": {
    "execution": {
     "iopub.execute_input": "2024-05-19T13:18:04.770476+00:00",
     "iopub.status.busy": "2024-05-19T13:18:04.770398+00:00",
     "iopub.status.idle": "2024-05-19T13:18:04.770462+00:00",
     "shell.execute_reply": "2024-05-19T13:18:05.341630+00:00"
    }
   },
   "outputs": [
    {
     "data": {
      "text/plain": [
       "400"
      ]
     },
     "execution_count": 51,
     "metadata": {},
     "output_type": "execute_result"
    }
   ],
   "source": [
    "buf.content.len()"
   ]
  },
  {
   "cell_type": "code",
   "execution_count": 52,
   "id": "2d3e52ab-286e-44c5-a864-10b657cdf031",
   "metadata": {
    "execution": {
     "iopub.execute_input": "2024-05-19T13:18:18.096148+00:00",
     "iopub.status.busy": "2024-05-19T13:18:18.095852+00:00",
     "iopub.status.idle": "2024-05-19T13:18:18.096100+00:00",
     "shell.execute_reply": "2024-05-19T13:18:18.676369+00:00"
    }
   },
   "outputs": [
    {
     "data": {
      "text/plain": [
       "400"
      ]
     },
     "execution_count": 52,
     "metadata": {},
     "output_type": "execute_result"
    }
   ],
   "source": [
    "buf.area.width * buf.area.height"
   ]
  },
  {
   "cell_type": "markdown",
   "id": "a330e202-4252-4e43-92fd-56bced41b22f",
   "metadata": {},
   "source": [
    "We will learn more about `ratatui::style::Style`s and how a widget draws into a `ratatui::buffer::Buffer` in a future post."
   ]
  },
  {
   "cell_type": "markdown",
   "id": "a2e8e075-c476-4446-bbed-33a232a83729",
   "metadata": {},
   "source": [
    "## Frame primitive"
   ]
  },
  {
   "cell_type": "markdown",
   "id": "0dbb47c0-450a-460a-9248-5979c1138e66",
   "metadata": {},
   "source": [
    "`ratatui` exposes just one function as the API for drawing to the terminal, the [`Terminal::draw`] method.\n",
    "\n",
    "[`Terminal::draw`]: https://docs.rs/ratatui/latest/ratatui/terminal/struct.Terminal.html#method.draw\n",
    "\n",
    "Let's create a `TestBackend` based `Terminal` to illustrate this. "
   ]
  },
  {
   "cell_type": "code",
   "execution_count": 18,
   "id": "11682b7a-fc4b-460c-98a4-591a1608e018",
   "metadata": {
    "execution": {
     "iopub.execute_input": "2024-05-19T13:08:55.444705+00:00",
     "iopub.status.busy": "2024-05-19T13:08:55.444679+00:00",
     "iopub.status.idle": "2024-05-19T13:08:55.444699+00:00",
     "shell.execute_reply": "2024-05-19T13:08:55.971338+00:00"
    }
   },
   "outputs": [
    {
     "name": "stderr",
     "output_type": "stream",
     "text": [
      "[src/lib.rs:202:5] frame = Frame {\n",
      "    cursor_position: None,\n",
      "    viewport_area: Rect {\n",
      "        x: 0,\n",
      "        y: 0,\n",
      "        width: 80,\n",
      "        height: 5,\n",
      "    },\n",
      "    buffer: Buffer {\n",
      "        area: Rect { x: 0, y: 0, width: 80, height: 5 },\n",
      "        content: [\n",
      "            \"                                                                                \",\n",
      "            \"                                                                                \",\n",
      "            \"                                                                                \",\n",
      "            \"                                                                                \",\n",
      "            \"                                                                                \",\n",
      "        ],\n",
      "        styles: [\n",
      "            x: 0, y: 0, fg: Reset, bg: Reset, underline: Reset, modifier: NONE,\n",
      "        ]\n",
      "    },\n",
      "    count: 0,\n",
      "}\n"
     ]
    }
   ],
   "source": [
    "let backend = ratatui::backend::TestBackend::new(80, 5);\n",
    "let mut terminal = ratatui::terminal::Terminal::new(backend).unwrap();\n",
    "terminal.draw(|frame| {\n",
    "    dbg!(frame);\n",
    "});"
   ]
  },
  {
   "cell_type": "markdown",
   "id": "a187de30-b945-474c-9af5-2918a3a3f4a3",
   "metadata": {},
   "source": [
    "We can see that when called `terminal.draw(|f| ...)`, the callback passed into the `draw` method is called immediately. The callback receives an argument that is a [`Frame`].\n",
    "\n",
    "[`Frame`]: https://docs.rs/ratatui/latest/ratatui/terminal/struct.Frame.html"
   ]
  },
  {
   "cell_type": "markdown",
   "id": "22111e31-cf1f-4188-827b-4c29471ef084",
   "metadata": {},
   "source": [
    "Calling `terminal.draw` again increases the `f.count` value"
   ]
  },
  {
   "cell_type": "code",
   "execution_count": 19,
   "id": "da1b42ff-23d7-4e8a-b0e8-c5fda6b6d398",
   "metadata": {
    "execution": {
     "iopub.execute_input": "2024-05-19T13:08:55.971571+00:00",
     "iopub.status.busy": "2024-05-19T13:08:55.971451+00:00",
     "iopub.status.idle": "2024-05-19T13:08:55.971566+00:00",
     "shell.execute_reply": "2024-05-19T13:08:56.400496+00:00"
    }
   },
   "outputs": [
    {
     "name": "stderr",
     "output_type": "stream",
     "text": [
      "[src/lib.rs:202:5] frame.count() = 1\n"
     ]
    }
   ],
   "source": [
    "terminal.draw(|frame| {\n",
    "    dbg!(frame.count());\n",
    "});"
   ]
  },
  {
   "cell_type": "code",
   "execution_count": 20,
   "id": "25c4c79b-be7d-49f0-ae64-a8f25e4219e0",
   "metadata": {
    "execution": {
     "iopub.execute_input": "2024-05-19T13:08:56.400606+00:00",
     "iopub.status.busy": "2024-05-19T13:08:56.400580+00:00",
     "iopub.status.idle": "2024-05-19T13:08:56.400601+00:00",
     "shell.execute_reply": "2024-05-19T13:08:56.869907+00:00"
    }
   },
   "outputs": [
    {
     "name": "stderr",
     "output_type": "stream",
     "text": [
      "[src/lib.rs:202:5] frame.count() = 2\n"
     ]
    }
   ],
   "source": [
    "terminal.draw(|frame| {\n",
    "    dbg!(frame.count());\n",
    "});"
   ]
  },
  {
   "cell_type": "code",
   "execution_count": 21,
   "id": "978c0984-bfeb-4b02-b956-24e4a82984aa",
   "metadata": {
    "execution": {
     "iopub.execute_input": "2024-05-19T13:08:56.870293+00:00",
     "iopub.status.busy": "2024-05-19T13:08:56.870224+00:00",
     "iopub.status.idle": "2024-05-19T13:08:56.870275+00:00",
     "shell.execute_reply": "2024-05-19T13:08:57.390426+00:00"
    }
   },
   "outputs": [
    {
     "name": "stderr",
     "output_type": "stream",
     "text": [
      "[src/lib.rs:202:5] frame.count() = 3\n"
     ]
    }
   ],
   "source": [
    "terminal.draw(|frame| {\n",
    "    dbg!(frame.count());\n",
    "});"
   ]
  },
  {
   "cell_type": "markdown",
   "id": "1b239169-3a17-4917-a0d3-9a9402579b2c",
   "metadata": {
    "execution": {
     "iopub.execute_input": "2024-05-18T08:51:45.757145+00:00",
     "iopub.status.busy": "2024-05-18T08:51:45.756978+00:00",
     "iopub.status.idle": "2024-05-18T08:51:45.757113+00:00",
     "shell.execute_reply": "2024-05-18T08:51:46.067089+00:00"
    }
   },
   "source": [
    "`Frame` also has access to the current `Buffer`."
   ]
  },
  {
   "cell_type": "code",
   "execution_count": 22,
   "id": "e51ed4d2-fcde-419b-8f88-23c60b379aff",
   "metadata": {
    "execution": {
     "iopub.execute_input": "2024-05-19T13:08:57.390640+00:00",
     "iopub.status.busy": "2024-05-19T13:08:57.390593+00:00",
     "iopub.status.idle": "2024-05-19T13:08:57.390631+00:00",
     "shell.execute_reply": "2024-05-19T13:08:57.922986+00:00"
    }
   },
   "outputs": [
    {
     "name": "stderr",
     "output_type": "stream",
     "text": [
      "[src/lib.rs:202:5] frame.buffer_mut() = Buffer {\n",
      "    area: Rect { x: 0, y: 0, width: 80, height: 5 },\n",
      "    content: [\n",
      "        \"                                                                                \",\n",
      "        \"                                                                                \",\n",
      "        \"                                                                                \",\n",
      "        \"                                                                                \",\n",
      "        \"                                                                                \",\n",
      "    ],\n",
      "    styles: [\n",
      "        x: 0, y: 0, fg: Reset, bg: Reset, underline: Reset, modifier: NONE,\n",
      "    ]\n",
      "}\n"
     ]
    }
   ],
   "source": [
    "terminal.draw(|frame| {\n",
    "    dbg!(frame.buffer_mut());\n",
    "});"
   ]
  },
  {
   "cell_type": "markdown",
   "id": "49080d8c-b9fb-441c-8740-8be821996bca",
   "metadata": {},
   "source": [
    "All of `ratatui` functionality is to be used to draw into this `Buffer` of the `Frame` passed into the callback. `ratatui` then figures out how to print the `Buffer` to a terminal to display a UI.\n",
    "\n",
    "Let's draw our app from earlier into the `Buffer` of the frame."
   ]
  },
  {
   "cell_type": "code",
   "execution_count": 23,
   "id": "877df936-2b15-424a-a505-eb9b908b5df8",
   "metadata": {
    "execution": {
     "iopub.execute_input": "2024-05-19T13:08:57.923278+00:00",
     "iopub.status.busy": "2024-05-19T13:08:57.923220+00:00",
     "iopub.status.idle": "2024-05-19T13:08:57.923262+00:00",
     "shell.execute_reply": "2024-05-19T13:08:58.499532+00:00"
    }
   },
   "outputs": [
    {
     "data": {
      "text/plain": [
       "Buffer {\n",
       "    area: Rect { x: 0, y: 0, width: 80, height: 5 },\n",
       "    content: [\n",
       "        \"                                                                                \",\n",
       "        \"                                                                                \",\n",
       "        \"                                                                                \",\n",
       "        \"                                                                                \",\n",
       "        \"                                                                                \",\n",
       "    ],\n",
       "    styles: [\n",
       "        x: 0, y: 0, fg: Reset, bg: Reset, underline: Reset, modifier: NONE,\n",
       "    ]\n",
       "}"
      ]
     },
     "execution_count": 23,
     "metadata": {},
     "output_type": "execute_result"
    }
   ],
   "source": [
    "terminal.backend().buffer()"
   ]
  },
  {
   "cell_type": "code",
   "execution_count": 24,
   "id": "ee4cc942-b1c0-409a-b76e-83f316f7b044",
   "metadata": {
    "execution": {
     "iopub.execute_input": "2024-05-19T13:08:58.499612+00:00",
     "iopub.status.busy": "2024-05-19T13:08:58.499587+00:00",
     "iopub.status.idle": "2024-05-19T13:08:58.499608+00:00",
     "shell.execute_reply": "2024-05-19T13:08:59.023424+00:00"
    }
   },
   "outputs": [],
   "source": [
    "terminal.draw(|frame| {\n",
    "    let mut buf = frame.buffer_mut();\n",
    "    draw_ui(&app, area, &mut buf)\n",
    "});"
   ]
  },
  {
   "cell_type": "code",
   "execution_count": 25,
   "id": "405a2e3c-869e-4f64-b467-07ae0f265721",
   "metadata": {
    "execution": {
     "iopub.execute_input": "2024-05-19T13:08:59.023893+00:00",
     "iopub.status.busy": "2024-05-19T13:08:59.023817+00:00",
     "iopub.status.idle": "2024-05-19T13:08:59.023877+00:00",
     "shell.execute_reply": "2024-05-19T13:08:59.592139+00:00"
    }
   },
   "outputs": [
    {
     "data": {
      "text/plain": [
       "Buffer {\n",
       "    area: Rect { x: 0, y: 0, width: 80, height: 5 },\n",
       "    content: [\n",
       "        \"┌Counter Example───────────────────────────────────────────────────────────────┐\",\n",
       "        \"│                                                                              │\",\n",
       "        \"│                                  Counter: 3                                  │\",\n",
       "        \"│                                                                              │\",\n",
       "        \"└──────────────────────────────────────────────────────────────────────────────┘\",\n",
       "    ],\n",
       "    styles: [\n",
       "        x: 0, y: 0, fg: Reset, bg: Reset, underline: Reset, modifier: NONE,\n",
       "    ]\n",
       "}"
      ]
     },
     "execution_count": 25,
     "metadata": {},
     "output_type": "execute_result"
    }
   ],
   "source": [
    "terminal.backend().buffer()"
   ]
  },
  {
   "cell_type": "markdown",
   "id": "f3cf1c6d-0105-48d6-9e8c-301e09905337",
   "metadata": {},
   "source": [
    "If we repeat this process of \"updating state\" and \"drawing UI\" in a loop, we get an immediate mode rendered UI.\n",
    "\n",
    "```rust\n",
    "while true {\n",
    "    // update app state\n",
    "    app.counter += 1;\n",
    "\n",
    "    // draw app state\n",
    "    terminal.draw(|frame| {\n",
    "        let mut buf = frame.buffer_mut();\n",
    "        draw_ui(&app, area, &mut buf)\n",
    "    });\n",
    "}\n",
    "```\n",
    "\n",
    "Here's what a more complete counter application might look like with keyboard events."
   ]
  },
  {
   "cell_type": "markdown",
   "id": "2f8bcf15-262d-4afe-9676-3500ce2d1f40",
   "metadata": {
    "execution": {
     "iopub.execute_input": "2024-05-15T03:22:39.211662+00:00",
     "iopub.status.busy": "2024-05-15T03:22:39.211509+00:00",
     "iopub.status.idle": "2024-05-15T03:22:39.211635+00:00",
     "shell.execute_reply": "2024-05-15T03:22:39.545076+00:00"
    }
   },
   "source": [
    "![](./basic-app.webp)"
   ]
  },
  {
   "cell_type": "markdown",
   "id": "8e5b0adc-84fb-4c90-858e-432de82e44c8",
   "metadata": {},
   "source": [
    "If you are interested in seeing the full code regarding this, you can check out the [`basic-app`] tutorial on the Ratatui website.\n",
    "\n",
    "[`basic-app`]: https://ratatui.rs/tutorials/counter-app/basic-app/"
   ]
  },
  {
   "cell_type": "markdown",
   "id": "6e15667d-e74a-400e-a540-39b7cf3e0480",
   "metadata": {},
   "source": [
    "Ratatui uses a double buffer rendering technique that you can read about [here].\n",
    "\n",
    "[here]: https://ratatui.rs/concepts/rendering/under-the-hood/"
   ]
  },
  {
   "cell_type": "markdown",
   "id": "4670d851-89f6-41b5-8ab1-934da1ba1a95",
   "metadata": {},
   "source": [
    "## Conclusion"
   ]
  },
  {
   "cell_type": "markdown",
   "id": "4983556c-34e6-4ebf-93f1-29d09f881aaf",
   "metadata": {},
   "source": [
    "We will discuss more about how this works under the hood in a future blog post.\n",
    "\n",
    "In the next post, we'll discuss ratatui's layout primitives."
   ]
  },
  {
   "cell_type": "code",
   "execution_count": null,
   "id": "b6011123-57ba-444c-ad7b-d21f554a9739",
   "metadata": {},
   "outputs": [],
   "source": []
  },
  {
   "cell_type": "code",
   "execution_count": null,
   "id": "b3a7ccbc-e90a-459f-ba40-62977bb7648d",
   "metadata": {},
   "outputs": [],
   "source": []
  },
  {
   "cell_type": "code",
   "execution_count": null,
   "id": "3ddda790-b913-4641-9180-8bd1cc38734e",
   "metadata": {},
   "outputs": [],
   "source": []
  },
  {
   "cell_type": "code",
   "execution_count": null,
   "id": "b1965eb0-43a1-4701-b3ae-757ff66ab8fa",
   "metadata": {},
   "outputs": [],
   "source": []
  },
  {
   "cell_type": "code",
   "execution_count": null,
   "id": "ca4a46f6-013f-4ed7-9dd1-6f1b54ab4f74",
   "metadata": {},
   "outputs": [],
   "source": []
  }
 ],
 "metadata": {
  "kernelspec": {
   "display_name": "Rust",
   "language": "rust",
   "name": "rust"
  },
  "language_info": {
   "codemirror_mode": "rust",
   "file_extension": ".rs",
   "mimetype": "text/rust",
   "name": "Rust",
   "pygment_lexer": "rust",
   "version": ""
  },
  "widgets": {
   "application/vnd.jupyter.widget-state+json": {
    "state": {},
    "version_major": 2,
    "version_minor": 0
   }
  }
 },
 "nbformat": 4,
 "nbformat_minor": 5
}
