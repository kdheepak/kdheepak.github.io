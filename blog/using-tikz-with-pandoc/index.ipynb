{
 "cells": [
  {
   "cell_type": "raw",
   "metadata": {},
   "source": [
    "---\n",
    "title: Using Tikz with Pandoc\n",
    "date: 2022-02-18T20:03:31-06:00\n",
    "categories: [pandoc]\n",
    "keywords: tikz, latex, pandoc, lua, filter\n",
    "summary: Showcase of using integrating Tikz with Pandoc lua filters\n",
    "---"
   ]
  },
  {
   "cell_type": "markdown",
   "metadata": {},
   "source": [
    "This is a demo of integrating Tikz as part of the blog.\n",
    "\n",
    "```tikz\n",
    "\\begin{tikzpicture}\n",
    "\n",
    "\\def \\n {5}\n",
    "\\def \\radius {3cm}\n",
    "\\def \\margin {8} % margin in angles, depends on the radius\n",
    "\n",
    "\\foreach \\s in {1,...,\\n}\n",
    "{\n",
    "  \\node[draw, circle] at ({360/\\n * (\\s - 1)}:\\radius) {$\\s$};\n",
    "  \\draw[->, >=latex] ({360/\\n * (\\s - 1)+\\margin}:\\radius)\n",
    "    arc ({360/\\n * (\\s - 1)+\\margin}:{360/\\n * (\\s)-\\margin}:\\radius);\n",
    "}\n",
    "\\end{tikzpicture}\n",
    "```"
   ]
  },
  {
   "cell_type": "code",
   "execution_count": 2,
   "metadata": {
    "execution": {
     "iopub.execute_input": "2024-04-19T20:34:54.796",
     "iopub.status.busy": "2024-04-19T20:34:54.796",
     "iopub.status.idle": "2024-04-19T20:34:54.870",
     "shell.execute_reply": "2024-04-19T20:34:54.870"
    }
   },
   "outputs": [
    {
     "name": "stderr",
     "output_type": "stream",
     "text": [
      "\u001b[32m\u001b[1m  Activating\u001b[22m\u001b[39m project at `~/gitrepos/kdheepak.github.io/blog/using-tikz-with-pandoc`\n"
     ]
    }
   ],
   "source": [
    "#| include: false\n",
    "using Pkg\n",
    "Pkg.activate(@__DIR__)\n",
    "Pkg.instantiate()"
   ]
  },
  {
   "cell_type": "code",
   "execution_count": 3,
   "metadata": {
    "execution": {
     "iopub.execute_input": "2024-04-19T20:34:56.778",
     "iopub.status.busy": "2024-04-19T20:34:56.777",
     "iopub.status.idle": "2024-04-19T20:35:30.903",
     "shell.execute_reply": "2024-04-19T20:35:30.903"
    }
   },
   "outputs": [
    {
     "name": "stderr",
     "output_type": "stream",
     "text": [
      "\u001b[36m\u001b[1m[ \u001b[22m\u001b[39m\u001b[36m\u001b[1mInfo: \u001b[22m\u001b[39mPrecompiling TikzPictures [37f6aa50-8035-52d0-81c2-5a1d08754b2d]\n",
      "\u001b[36m\u001b[1m[ \u001b[22m\u001b[39m\u001b[36m\u001b[1mInfo: \u001b[22m\u001b[39mPrecompiling Poppler_jll [9c32591e-4766-534b-9725-b71a8799265b]\n",
      "\u001b[33m\u001b[1m┌ \u001b[22m\u001b[39m\u001b[33m\u001b[1mWarning: \u001b[22m\u001b[39mtest.svg already exists, overwriting!\n",
      "\u001b[33m\u001b[1m└ \u001b[22m\u001b[39m\u001b[90m@ TikzPictures ~/.julia/packages/TikzPictures/9WzZq/src/TikzPictures.jl:432\u001b[39m\n"
     ]
    },
    {
     "data": {
      "text/latex": [
       "\\begin{figure}\n",
       "\\centering\n",
       "\\includegraphics{./test.svg}\n",
       "\\caption{}\n",
       "\\end{figure}\n",
       "\n",
       "\n"
      ],
      "text/markdown": [
       "![](./test.svg)\n"
      ],
      "text/plain": [
       "  (Image: )"
      ]
     },
     "execution_count": 3,
     "metadata": {},
     "output_type": "execute_result"
    }
   ],
   "source": [
    "#| code-fold: true\n",
    "#| error: true\n",
    "using Markdown\n",
    "using TikzPictures\n",
    "tp = TikzPicture(L\"\"\"\n",
    "\\def \\n {5}\n",
    "\\def \\radius {3cm}\n",
    "\\def \\margin {8} % margin in angles, depends on the radius\n",
    "\n",
    "\\foreach \\s in {1,...,\\n}\n",
    "{\n",
    "  \\node[draw, circle] at ({360/\\n * (\\s - 1)}:\\radius) {$\\s$};\n",
    "  \\draw[->, >=latex] ({360/\\n * (\\s - 1)+\\margin}:\\radius)\n",
    "    arc ({360/\\n * (\\s - 1)+\\margin}:{360/\\n * (\\s)-\\margin}:\\radius);\n",
    "}\n",
    "\"\"\")\n",
    "save(SVG(\"test\"), tp)\n",
    "md\"\"\"![](./test.svg)\"\"\""
   ]
  },
  {
   "cell_type": "code",
   "execution_count": null,
   "metadata": {},
   "outputs": [],
   "source": []
  }
 ],
 "metadata": {
  "kernelspec": {
   "display_name": "Julia 1.10.2",
   "language": "julia",
   "name": "julia-1.10"
  },
  "language_info": {
   "file_extension": ".jl",
   "mimetype": "application/julia",
   "name": "julia",
   "version": "1.10.2"
  },
  "widgets": {
   "application/vnd.jupyter.widget-state+json": {
    "state": {},
    "version_major": 2,
    "version_minor": 0
   }
  }
 },
 "nbformat": 4,
 "nbformat_minor": 4
}
