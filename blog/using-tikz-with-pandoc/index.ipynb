{
  "cells": [
    {
      "cell_type": "raw",
      "metadata": {},
      "source": [
        "---\n",
        "title: Using Tikz with Pandoc\n",
        "date: 2022-02-18T20:03:31-06:00\n",
        "categories: [pandoc]\n",
        "keywords: tikz, latex, pandoc, lua, filter\n",
        "summary: Showcase of using integrating Tikz with Pandoc lua filters\n",
        "---"
      ]
    },
    {
      "cell_type": "markdown",
      "metadata": {},
      "source": [
        "This is a demo of integrating Tikz as part of the blog.\n",
        "\n",
        "```tikz\n",
        "\\begin{tikzpicture}\n",
        "\n",
        "\\def \\n {5}\n",
        "\\def \\radius {3cm}\n",
        "\\def \\margin {8} % margin in angles, depends on the radius\n",
        "\n",
        "\\foreach \\s in {1,...,\\n}\n",
        "{\n",
        "  \\node[draw, circle] at ({360/\\n * (\\s - 1)}:\\radius) {$\\s$};\n",
        "  \\draw[->, >=latex] ({360/\\n * (\\s - 1)+\\margin}:\\radius)\n",
        "    arc ({360/\\n * (\\s - 1)+\\margin}:{360/\\n * (\\s)-\\margin}:\\radius);\n",
        "}\n",
        "\\end{tikzpicture}\n",
        "```"
      ]
    },
    {
      "cell_type": "code",
      "metadata": {},
      "source": [
        "#| include: false\n",
        "using Pkg\n",
        "Pkg.activate(@__DIR__)\n",
        "Pkg.instantiate()"
      ],
      "execution_count": null,
      "outputs": []
    },
    {
      "cell_type": "code",
      "metadata": {},
      "source": [
        "#| code-fold: true\n",
        "#| error: true\n",
        "using Markdown\n",
        "using TikzPictures\n",
        "tp = TikzPicture(L\"\"\"\n",
        "\\def \\n {5}\n",
        "\\def \\radius {3cm}\n",
        "\\def \\margin {8} % margin in angles, depends on the radius\n",
        "\n",
        "\\foreach \\s in {1,...,\\n}\n",
        "{\n",
        "  \\node[draw, circle] at ({360/\\n * (\\s - 1)}:\\radius) {$\\s$};\n",
        "  \\draw[->, >=latex] ({360/\\n * (\\s - 1)+\\margin}:\\radius)\n",
        "    arc ({360/\\n * (\\s - 1)+\\margin}:{360/\\n * (\\s)-\\margin}:\\radius);\n",
        "}\n",
        "\"\"\")\n",
        "save(SVG(\"test\"), tp)\n",
        "md\"\"\"![](./test.svg)\"\"\""
      ],
      "execution_count": null,
      "outputs": []
    }
  ],
  "metadata": {
    "kernelspec": {
      "name": "julia-1.10",
      "language": "julia",
      "display_name": "Julia 1.10.1",
      "path": "/Users/kd/Library/Jupyter/kernels/julia-1.10"
    }
  },
  "nbformat": 4,
  "nbformat_minor": 4
}