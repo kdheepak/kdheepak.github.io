{
 "cells": [
  {
   "cell_type": "raw",
   "id": "bf830a38-e568-4150-97b9-de5dc6172a32",
   "metadata": {
    "execution": {
     "iopub.execute_input": "2024-05-15T02:03:24.769199+00:00",
     "iopub.status.busy": "2024-05-15T02:03:24.768989+00:00",
     "iopub.status.idle": "2024-05-15T02:03:24.769163+00:00",
     "shell.execute_reply": "2024-05-15T02:03:24.910732+00:00"
    }
   },
   "source": [
    "---\n",
    "title: Building blocks of Ratatui\n",
    "date: 2024-05-14T22:03:04-0400\n",
    "categories: [rust]\n",
    "keywords: rust, ratatui\n",
    "summary: Showcase of using span, line, text\n",
    "---"
   ]
  },
  {
   "cell_type": "code",
   "execution_count": 279,
   "id": "7864dad5-68b0-41c7-a5a1-3127e70776fe",
   "metadata": {
    "execution": {
     "iopub.execute_input": "2024-05-15T04:09:25.852811+00:00",
     "iopub.status.busy": "2024-05-15T04:09:25.852637+00:00",
     "iopub.status.idle": "2024-05-15T04:09:25.852769+00:00",
     "shell.execute_reply": "2024-05-15T04:09:25.854742+00:00"
    }
   },
   "outputs": [],
   "source": [
    ":dep ratatui\n",
    ":dep ratatui-macros"
   ]
  },
  {
   "cell_type": "markdown",
   "id": "7e98f2e5-d4f5-4fc0-84e3-c9920e267bed",
   "metadata": {},
   "source": [
    "Ratatui is a crate for building terminal user interfaces in Rust."
   ]
  },
  {
   "cell_type": "markdown",
   "id": "95efed16-984f-42e7-b44f-a79437e56ce5",
   "metadata": {},
   "source": [
    "One of the unique features of Ratatui is that it is an immediate mode rendering library.\n",
    "In this post, I'm going to describe some of the primitives of Ratatui.\n",
    "I rely on the concepts described in this post in every Ratatui application I build."
   ]
  },
  {
   "cell_type": "markdown",
   "id": "25e755d9-ec34-426a-9905-88ed41fb575e",
   "metadata": {},
   "source": [
    "## Immediate Mode Rendering"
   ]
  },
  {
   "cell_type": "markdown",
   "id": "a8656c9d-18ff-4843-9088-efb76fe4d9ae",
   "metadata": {},
   "source": [
    "User interfaces can broadly be classified into two kinds:\n",
    "\n",
    "- immediate mode GUIs,\n",
    "- retained mode GUIs.\n",
    "\n",
    "Casey Muratori has a great video on immediate mode rendering. \n",
    "\n",
    "{{< video https://www.youtube.com/watch?v=Z1qyvQsjK5Y }}\n",
    "\n",
    "At a very high level, in retained mode GUIs, you create UI elements and pass it to a framework and the framework is in charge of displaying them. For example, you can create a text field and input field, and then the browser will render them. The browser is in charge of handling events, and as a developer you have to define how these events interact with these widgets."
   ]
  },
  {
   "cell_type": "code",
   "execution_count": 280,
   "id": "2e01fe8d-608a-4ff1-a281-b464ce2edc93",
   "metadata": {
    "execution": {
     "iopub.execute_input": "2024-05-15T04:09:26.682332+00:00",
     "iopub.status.busy": "2024-05-15T04:09:26.682263+00:00",
     "iopub.status.idle": "2024-05-15T04:09:26.682317+00:00",
     "shell.execute_reply": "2024-05-15T04:09:27.111885+00:00"
    }
   },
   "outputs": [],
   "source": [
    "fn show_html<D>(content: D) where D: std::fmt::Display {\n",
    "    println!(r#\"EVCXR_BEGIN_CONTENT text/html\n",
    "<div style=\"display: flex; justify-content:start; gap: 1em\">\n",
    "{}\n",
    "</div>\n",
    "EVCXR_END_CONTENT\"#, content);\n",
    "}"
   ]
  },
  {
   "cell_type": "markdown",
   "id": "a06d6ac4-f78b-4ea3-81bb-b5437f925186",
   "metadata": {},
   "source": [
    "For example, in a simple counter example in a browser, we have to set up an `incrementCounter` and `decrementCounter` callbacks that update the relevant element's state."
   ]
  },
  {
   "cell_type": "code",
   "execution_count": 281,
   "id": "73c1a207-8f25-467a-b3ed-2a5d6ac25461",
   "metadata": {
    "execution": {
     "iopub.execute_input": "2024-05-15T04:09:27.112007+00:00",
     "iopub.status.busy": "2024-05-15T04:09:27.111987+00:00",
     "iopub.status.idle": "2024-05-15T04:09:27.112003+00:00",
     "shell.execute_reply": "2024-05-15T04:09:28.022790+00:00"
    }
   },
   "outputs": [
    {
     "data": {
      "text/html": [
       "<div style=\"display: flex; justify-content:start; gap: 1em\">\n",
       "\n",
       "<text> Counter: </text>\n",
       "<text id=\"counter\">0</text>\n",
       "\n",
       "<button onclick=\"incrementCounter()\">Increment</button>\n",
       "<button onclick=\"decrementCounter()\">Decrement</button>\n",
       "\n",
       "<script>\n",
       "    var counterElement = document.getElementById(\"counter\");\n",
       "\n",
       "    var counterValue = 0;\n",
       "    counterElement.textContent = counterValue;\n",
       "\n",
       "    function incrementCounter() {\n",
       "        counterValue++;\n",
       "        counterElement.textContent = counterValue;\n",
       "    }\n",
       "\n",
       "    function decrementCounter() {\n",
       "        counterValue--;\n",
       "        counterElement.textContent = counterValue;\n",
       "    }\n",
       "</script>\n",
       "\n",
       "</div>"
      ],
      "text/plain": [
       "()"
      ]
     },
     "execution_count": 281,
     "metadata": {},
     "output_type": "execute_result"
    }
   ],
   "source": [
    "show_html(r#\"\n",
    "<text> Counter: </text>\n",
    "<text id=\"counter\">0</text>\n",
    "\n",
    "<button onclick=\"incrementCounter()\">Increment</button>\n",
    "<button onclick=\"decrementCounter()\">Decrement</button>\n",
    "\n",
    "<script>\n",
    "    var counterElement = document.getElementById(\"counter\");\n",
    "\n",
    "    var counterValue = 0;\n",
    "    counterElement.textContent = counterValue;\n",
    "\n",
    "    function incrementCounter() {\n",
    "        counterValue++;\n",
    "        counterElement.textContent = counterValue;\n",
    "    }\n",
    "\n",
    "    function decrementCounter() {\n",
    "        counterValue--;\n",
    "        counterElement.textContent = counterValue;\n",
    "    }\n",
    "</script>\n",
    "\"#)"
   ]
  },
  {
   "cell_type": "markdown",
   "id": "553ef4aa-1e31-4df5-bc85-3aa77556755c",
   "metadata": {},
   "source": [
    "In immediate mode rendering, you are drawing the UI every \"frame\" in a for loop.\n",
    "Let's say you have the following `App`:"
   ]
  },
  {
   "cell_type": "code",
   "execution_count": 282,
   "id": "2db673b4-7459-4638-917f-c3ac32389272",
   "metadata": {
    "execution": {
     "iopub.execute_input": "2024-05-15T04:09:28.022916+00:00",
     "iopub.status.busy": "2024-05-15T04:09:28.022889+00:00",
     "iopub.status.idle": "2024-05-15T04:09:28.022909+00:00",
     "shell.execute_reply": "2024-05-15T04:09:28.914298+00:00"
    }
   },
   "outputs": [
    {
     "data": {
      "text/plain": [
       "App { counter: 0 }"
      ]
     },
     "execution_count": 282,
     "metadata": {},
     "output_type": "execute_result"
    }
   ],
   "source": [
    "#[derive(Debug, Default)]\n",
    "pub struct App {\n",
    "    counter: u8,\n",
    "}\n",
    "let mut app = App::default();\n",
    "app"
   ]
  },
  {
   "cell_type": "markdown",
   "id": "2a9acb18-a92e-4d1c-b0a3-8937ef6d078a",
   "metadata": {},
   "source": [
    "And you are rendering into an 80 wide, 5 tall terminal: "
   ]
  },
  {
   "cell_type": "code",
   "execution_count": 283,
   "id": "638f7269-d51c-43bd-8e25-079968d07e5a",
   "metadata": {
    "execution": {
     "iopub.execute_input": "2024-05-15T04:09:28.914373+00:00",
     "iopub.status.busy": "2024-05-15T04:09:28.914352+00:00",
     "iopub.status.idle": "2024-05-15T04:09:28.914368+00:00",
     "shell.execute_reply": "2024-05-15T04:09:29.814212+00:00"
    }
   },
   "outputs": [
    {
     "data": {
      "text/plain": [
       "Buffer {\n",
       "    area: Rect { x: 0, y: 0, width: 80, height: 5 },\n",
       "    content: [\n",
       "        \"                                                                                \",\n",
       "        \"                                                                                \",\n",
       "        \"                                                                                \",\n",
       "        \"                                                                                \",\n",
       "        \"                                                                                \",\n",
       "    ],\n",
       "    styles: [\n",
       "        x: 0, y: 0, fg: Reset, bg: Reset, underline: Reset, modifier: NONE,\n",
       "    ]\n",
       "}"
      ]
     },
     "execution_count": 283,
     "metadata": {},
     "output_type": "execute_result"
    }
   ],
   "source": [
    "let area = Rect::new(0, 0, 80, 5);\n",
    "let mut buf = Buffer::empty(area);\n",
    "buf"
   ]
  },
  {
   "cell_type": "markdown",
   "id": "1b644751-83af-4a52-904e-acff7ae17b1a",
   "metadata": {},
   "source": [
    "Let's import some useful widgets and building blocks:"
   ]
  },
  {
   "cell_type": "code",
   "execution_count": 284,
   "id": "c2838809-ae77-4d91-b026-3f084a5f1fb9",
   "metadata": {
    "execution": {
     "iopub.execute_input": "2024-05-15T04:09:29.814280+00:00",
     "iopub.status.busy": "2024-05-15T04:09:29.814259+00:00",
     "iopub.status.idle": "2024-05-15T04:09:29.814276+00:00",
     "shell.execute_reply": "2024-05-15T04:09:30.228187+00:00"
    }
   },
   "outputs": [],
   "source": [
    "use ratatui::widgets::Block;"
   ]
  },
  {
   "cell_type": "markdown",
   "id": "12e54d72-8038-4d0c-b160-50f5adf95e0d",
   "metadata": {},
   "source": [
    "We can render into the buffer once by creating a `Block` with a border and rendering into an area that is a subset of the buffer."
   ]
  },
  {
   "cell_type": "code",
   "execution_count": 285,
   "id": "35aaaccb-8645-42eb-9071-728553b1974f",
   "metadata": {
    "execution": {
     "iopub.execute_input": "2024-05-15T04:09:30.228291+00:00",
     "iopub.status.busy": "2024-05-15T04:09:30.228272+00:00",
     "iopub.status.idle": "2024-05-15T04:09:30.228287+00:00",
     "shell.execute_reply": "2024-05-15T04:09:31.159778+00:00"
    }
   },
   "outputs": [],
   "source": [
    "let block = Block::bordered();\n",
    "block.render(area, &mut buf);"
   ]
  },
  {
   "cell_type": "code",
   "execution_count": 286,
   "id": "ae80a81f-61a9-4e17-979a-5043e64ce386",
   "metadata": {
    "execution": {
     "iopub.execute_input": "2024-05-15T04:09:31.159912+00:00",
     "iopub.status.busy": "2024-05-15T04:09:31.159886+00:00",
     "iopub.status.idle": "2024-05-15T04:09:31.159907+00:00",
     "shell.execute_reply": "2024-05-15T04:09:32.028152+00:00"
    }
   },
   "outputs": [
    {
     "data": {
      "text/plain": [
       "Buffer {\n",
       "    area: Rect { x: 0, y: 0, width: 80, height: 5 },\n",
       "    content: [\n",
       "        \"┌──────────────────────────────────────────────────────────────────────────────┐\",\n",
       "        \"│                                                                              │\",\n",
       "        \"│                                                                              │\",\n",
       "        \"│                                                                              │\",\n",
       "        \"└──────────────────────────────────────────────────────────────────────────────┘\",\n",
       "    ],\n",
       "    styles: [\n",
       "        x: 0, y: 0, fg: Reset, bg: Reset, underline: Reset, modifier: NONE,\n",
       "    ]\n",
       "}"
      ]
     },
     "execution_count": 286,
     "metadata": {},
     "output_type": "execute_result"
    }
   ],
   "source": [
    "buf"
   ]
  },
  {
   "cell_type": "code",
   "execution_count": 287,
   "id": "5f044cb5-4b8a-48ee-ace8-4e0e88c8c436",
   "metadata": {
    "execution": {
     "iopub.execute_input": "2024-05-15T04:09:32.028234+00:00",
     "iopub.status.busy": "2024-05-15T04:09:32.028210+00:00",
     "iopub.status.idle": "2024-05-15T04:09:32.028228+00:00",
     "shell.execute_reply": "2024-05-15T04:09:32.900849+00:00"
    }
   },
   "outputs": [],
   "source": [
    "let block = Block::bordered().title(\"Counter Example\");\n",
    "block.render(area, &mut buf);"
   ]
  },
  {
   "cell_type": "code",
   "execution_count": 288,
   "id": "29b616a3-e064-47ab-9467-99a54d419f99",
   "metadata": {
    "execution": {
     "iopub.execute_input": "2024-05-15T04:09:32.900965+00:00",
     "iopub.status.busy": "2024-05-15T04:09:32.900944+00:00",
     "iopub.status.idle": "2024-05-15T04:09:32.900961+00:00",
     "shell.execute_reply": "2024-05-15T04:09:33.773657+00:00"
    }
   },
   "outputs": [
    {
     "data": {
      "text/plain": [
       "Buffer {\n",
       "    area: Rect { x: 0, y: 0, width: 80, height: 5 },\n",
       "    content: [\n",
       "        \"┌Counter Example───────────────────────────────────────────────────────────────┐\",\n",
       "        \"│                                                                              │\",\n",
       "        \"│                                                                              │\",\n",
       "        \"│                                                                              │\",\n",
       "        \"└──────────────────────────────────────────────────────────────────────────────┘\",\n",
       "    ],\n",
       "    styles: [\n",
       "        x: 0, y: 0, fg: Reset, bg: Reset, underline: Reset, modifier: NONE,\n",
       "    ]\n",
       "}"
      ]
     },
     "execution_count": 288,
     "metadata": {},
     "output_type": "execute_result"
    }
   ],
   "source": [
    "buf"
   ]
  },
  {
   "cell_type": "markdown",
   "id": "41811e98-f3dd-43e2-8aaa-030d83415e35",
   "metadata": {},
   "source": [
    "Now let's render put text into a `Paragraph` widget and render that into the `Buffer`."
   ]
  },
  {
   "cell_type": "code",
   "execution_count": 289,
   "id": "79d8b2b6-986c-4ee6-89de-ddcfb5cabad1",
   "metadata": {
    "execution": {
     "iopub.execute_input": "2024-05-15T04:09:33.773731+00:00",
     "iopub.status.busy": "2024-05-15T04:09:33.773712+00:00",
     "iopub.status.idle": "2024-05-15T04:09:33.773727+00:00",
     "shell.execute_reply": "2024-05-15T04:09:34.938127+00:00"
    }
   },
   "outputs": [
    {
     "data": {
      "text/plain": [
       "Buffer {\n",
       "    area: Rect { x: 0, y: 0, width: 80, height: 5 },\n",
       "    content: [\n",
       "        \"┌Counter Example───────────────────────────────────────────────────────────────┐\",\n",
       "        \"│                                                                              │\",\n",
       "        \"│                                  Counter: 0                                  │\",\n",
       "        \"│                                                                              │\",\n",
       "        \"└──────────────────────────────────────────────────────────────────────────────┘\",\n",
       "    ],\n",
       "    styles: [\n",
       "        x: 0, y: 0, fg: Reset, bg: Reset, underline: Reset, modifier: NONE,\n",
       "    ]\n",
       "}"
      ]
     },
     "execution_count": 289,
     "metadata": {},
     "output_type": "execute_result"
    }
   ],
   "source": [
    "let text = Text::from(vec![\n",
    "    \"\".into(),\n",
    "    format!(\"Counter: {}\", app.counter).into(),\n",
    "]);\n",
    "let block = Block::bordered().title(\"Counter Example\");\n",
    "\n",
    "let paragraph = Paragraph::new(text).block(block).centered();\n",
    "paragraph.render(area, &mut buf);\n",
    "\n",
    "buf"
   ]
  },
  {
   "cell_type": "markdown",
   "id": "9b6baf39-c568-4f58-9033-3aaf0485c8bd",
   "metadata": {
    "execution": {
     "iopub.execute_input": "2024-05-15T03:15:51.794866+00:00",
     "iopub.status.busy": "2024-05-15T03:15:51.794846+00:00",
     "iopub.status.idle": "2024-05-15T03:15:51.794862+00:00",
     "shell.execute_reply": "2024-05-15T03:15:52.422169+00:00"
    }
   },
   "source": [
    "This is one frame of our UI!"
   ]
  },
  {
   "cell_type": "markdown",
   "id": "99b46b01-2c30-4534-9955-d794ca7ff3d4",
   "metadata": {
    "execution": {
     "iopub.execute_input": "2024-05-15T03:18:23.882207+00:00",
     "iopub.status.busy": "2024-05-15T03:18:23.882047+00:00",
     "iopub.status.idle": "2024-05-15T03:18:23.882168+00:00",
     "shell.execute_reply": "2024-05-15T03:18:24.335416+00:00"
    }
   },
   "source": [
    "Let's put our UI code into a function."
   ]
  },
  {
   "cell_type": "code",
   "execution_count": 290,
   "id": "2063bcc6-95c7-4454-9e4f-f35fbc2a0c0e",
   "metadata": {
    "execution": {
     "iopub.execute_input": "2024-05-15T04:09:34.938199+00:00",
     "iopub.status.busy": "2024-05-15T04:09:34.938180+00:00",
     "iopub.status.idle": "2024-05-15T04:09:34.938195+00:00",
     "shell.execute_reply": "2024-05-15T04:09:35.348083+00:00"
    }
   },
   "outputs": [],
   "source": [
    "fn draw_ui(app: &App, area: Rect, buf: &mut Buffer) {\n",
    "    let text = Text::from(vec![\n",
    "        \"\".into(),\n",
    "        format!(\"Counter: {}\", app.counter).into(),\n",
    "    ]);\n",
    "    let block = Block::bordered().title(\"Counter Example\");\n",
    "    \n",
    "    let paragraph = Paragraph::new(text).block(block).centered();\n",
    "    paragraph.render(area, buf);\n",
    "}"
   ]
  },
  {
   "cell_type": "markdown",
   "id": "e3ace62a-1467-4392-ae1e-53d688373304",
   "metadata": {
    "execution": {
     "iopub.execute_input": "2024-05-15T03:17:42.686861+00:00",
     "iopub.status.busy": "2024-05-15T03:17:42.686627+00:00",
     "iopub.status.idle": "2024-05-15T03:17:42.686825+00:00",
     "shell.execute_reply": "2024-05-15T03:17:43.159421+00:00"
    }
   },
   "source": [
    "For the next frame, we can increment the counter and render into the buffer again."
   ]
  },
  {
   "cell_type": "code",
   "execution_count": 291,
   "id": "45716320-dede-4245-9f11-ca5afae81596",
   "metadata": {
    "execution": {
     "iopub.execute_input": "2024-05-15T04:09:35.348204+00:00",
     "iopub.status.busy": "2024-05-15T04:09:35.348182+00:00",
     "iopub.status.idle": "2024-05-15T04:09:35.348200+00:00",
     "shell.execute_reply": "2024-05-15T04:09:36.297169+00:00"
    }
   },
   "outputs": [
    {
     "data": {
      "text/plain": [
       "Buffer {\n",
       "    area: Rect { x: 0, y: 0, width: 80, height: 5 },\n",
       "    content: [\n",
       "        \"┌Counter Example───────────────────────────────────────────────────────────────┐\",\n",
       "        \"│                                                                              │\",\n",
       "        \"│                                  Counter: 1                                  │\",\n",
       "        \"│                                                                              │\",\n",
       "        \"└──────────────────────────────────────────────────────────────────────────────┘\",\n",
       "    ],\n",
       "    styles: [\n",
       "        x: 0, y: 0, fg: Reset, bg: Reset, underline: Reset, modifier: NONE,\n",
       "    ]\n",
       "}"
      ]
     },
     "execution_count": 291,
     "metadata": {},
     "output_type": "execute_result"
    }
   ],
   "source": [
    "app.counter += 1;\n",
    "\n",
    "draw_ui(&app, area, &mut buf);\n",
    "\n",
    "buf"
   ]
  },
  {
   "cell_type": "markdown",
   "id": "f3cf1c6d-0105-48d6-9e8c-301e09905337",
   "metadata": {},
   "source": [
    "If we repeat this process of \"updating state\" and \"drawing UI\" in a loop, we get an immediate mode rendered UI.\n",
    "\n",
    "Here's what a more complete counter application might look like with keyboard events."
   ]
  },
  {
   "cell_type": "markdown",
   "id": "2f8bcf15-262d-4afe-9676-3500ce2d1f40",
   "metadata": {
    "execution": {
     "iopub.execute_input": "2024-05-15T03:22:39.211662+00:00",
     "iopub.status.busy": "2024-05-15T03:22:39.211509+00:00",
     "iopub.status.idle": "2024-05-15T03:22:39.211635+00:00",
     "shell.execute_reply": "2024-05-15T03:22:39.545076+00:00"
    }
   },
   "source": [
    "![](./basic-app.webp)"
   ]
  },
  {
   "cell_type": "markdown",
   "id": "8e5b0adc-84fb-4c90-858e-432de82e44c8",
   "metadata": {},
   "source": [
    "If you are interested in seeing the full code regarding this, you can check out the [`basic-app`] tutorial on the Ratatui website.\n",
    "\n",
    "[`basic-app`]: https://ratatui.rs/tutorials/counter-app/basic-app/"
   ]
  },
  {
   "cell_type": "markdown",
   "id": "2cbba4d0-5085-486c-92e6-608880ee72af",
   "metadata": {},
   "source": [
    "\n",
    "## Text primitives"
   ]
  },
  {
   "cell_type": "markdown",
   "id": "4b43025a-6998-403b-bfc4-795bf68f4450",
   "metadata": {},
   "source": [
    "In Ratatui, there are 3 fundamental text primitives that you should be aware of."
   ]
  },
  {
   "cell_type": "markdown",
   "id": "d00ffded-9ab5-4846-8d08-c3f3b11e9fa0",
   "metadata": {},
   "source": [
    "### Span"
   ]
  },
  {
   "cell_type": "markdown",
   "id": "713601e9-7f89-443f-871c-5534bfc2f9b5",
   "metadata": {},
   "source": [
    "The first is a `Span`."
   ]
  },
  {
   "cell_type": "code",
   "execution_count": 292,
   "id": "4352a49f-2b40-4bd8-a37c-7f020879a4a6",
   "metadata": {
    "execution": {
     "iopub.execute_input": "2024-05-15T04:09:36.297256+00:00",
     "iopub.status.busy": "2024-05-15T04:09:36.297234+00:00",
     "iopub.status.idle": "2024-05-15T04:09:36.297250+00:00",
     "shell.execute_reply": "2024-05-15T04:09:37.220496+00:00"
    }
   },
   "outputs": [
    {
     "data": {
      "text/plain": [
       "Span { content: \"hello world\", style: Style { fg: None, bg: None, underline_color: None, add_modifier: NONE, sub_modifier: NONE } }"
      ]
     },
     "execution_count": 292,
     "metadata": {},
     "output_type": "execute_result"
    }
   ],
   "source": [
    "use ratatui::text::Span;\n",
    "let span = Span::raw(\"hello world\");\n",
    "span"
   ]
  },
  {
   "cell_type": "markdown",
   "id": "d10fc3ea-4044-4140-8dce-8f08ab15f7ff",
   "metadata": {},
   "source": [
    "A `Span` contains two fields. \n",
    "\n",
    "1. `content`"
   ]
  },
  {
   "cell_type": "code",
   "execution_count": 293,
   "id": "e244e525-83f6-4319-9c26-e12bf745084f",
   "metadata": {
    "execution": {
     "iopub.execute_input": "2024-05-15T04:09:37.220567+00:00",
     "iopub.status.busy": "2024-05-15T04:09:37.220548+00:00",
     "iopub.status.idle": "2024-05-15T04:09:37.220563+00:00",
     "shell.execute_reply": "2024-05-15T04:09:38.094226+00:00"
    }
   },
   "outputs": [
    {
     "data": {
      "text/plain": [
       "\"hello world\""
      ]
     },
     "execution_count": 293,
     "metadata": {},
     "output_type": "execute_result"
    }
   ],
   "source": [
    "span.content"
   ]
  },
  {
   "cell_type": "markdown",
   "id": "fbbf25e3-2317-439e-8446-b7b5d50f7c64",
   "metadata": {},
   "source": [
    "2. `style`"
   ]
  },
  {
   "cell_type": "code",
   "execution_count": 294,
   "id": "32bc98a5-da0c-425d-8d7b-fde5530a2edf",
   "metadata": {
    "execution": {
     "iopub.execute_input": "2024-05-15T04:09:38.094302+00:00",
     "iopub.status.busy": "2024-05-15T04:09:38.094281+00:00",
     "iopub.status.idle": "2024-05-15T04:09:38.094297+00:00",
     "shell.execute_reply": "2024-05-15T04:09:38.968772+00:00"
    }
   },
   "outputs": [
    {
     "data": {
      "text/plain": [
       "Style { fg: None, bg: None, underline_color: None, add_modifier: NONE, sub_modifier: NONE }"
      ]
     },
     "execution_count": 294,
     "metadata": {},
     "output_type": "execute_result"
    }
   ],
   "source": [
    "span.style"
   ]
  },
  {
   "cell_type": "markdown",
   "id": "e4ebc9b0-fd77-45ac-9edb-9a0d865a8c8c",
   "metadata": {},
   "source": [
    "A `Style` object contains foreground color, background color, and modifiers for whether the style being applied is **bold**, _italics_, etc"
   ]
  },
  {
   "cell_type": "markdown",
   "id": "c7b7bce3-76a3-491c-bf70-c064c2bb3e89",
   "metadata": {},
   "source": [
    "There are a number of constructors for `Span`, but `ratatui` exposes a trait that makes it easy to convert any String into a styled span."
   ]
  },
  {
   "cell_type": "code",
   "execution_count": 295,
   "id": "e6a3b553-6720-4fd7-8954-65ebbb49a04f",
   "metadata": {
    "execution": {
     "iopub.execute_input": "2024-05-15T04:09:38.968851+00:00",
     "iopub.status.busy": "2024-05-15T04:09:38.968827+00:00",
     "iopub.status.idle": "2024-05-15T04:09:38.968846+00:00",
     "shell.execute_reply": "2024-05-15T04:09:39.871338+00:00"
    }
   },
   "outputs": [
    {
     "data": {
      "text/plain": [
       "Span { content: \"hello world\", style: Style { fg: None, bg: None, underline_color: None, add_modifier: BOLD, sub_modifier: NONE } }"
      ]
     },
     "execution_count": 295,
     "metadata": {},
     "output_type": "execute_result"
    }
   ],
   "source": [
    "use ratatui::style::Stylize;\n",
    "\"hello world\".bold()"
   ]
  },
  {
   "cell_type": "markdown",
   "id": "cd786269-de20-4338-9f98-7bb468c5fc26",
   "metadata": {},
   "source": [
    "You can even chain these trait methods to add more styles:"
   ]
  },
  {
   "cell_type": "code",
   "execution_count": 296,
   "id": "c00050c6-fa55-4a82-817a-5c563e8708fe",
   "metadata": {
    "execution": {
     "iopub.execute_input": "2024-05-15T04:09:39.871411+00:00",
     "iopub.status.busy": "2024-05-15T04:09:39.871391+00:00",
     "iopub.status.idle": "2024-05-15T04:09:39.871407+00:00",
     "shell.execute_reply": "2024-05-15T04:09:40.759423+00:00"
    }
   },
   "outputs": [
    {
     "data": {
      "text/plain": [
       "Span { content: \"hello world\", style: Style { fg: Some(Yellow), bg: Some(Black), underline_color: None, add_modifier: BOLD, sub_modifier: NONE } }"
      ]
     },
     "execution_count": 296,
     "metadata": {},
     "output_type": "execute_result"
    }
   ],
   "source": [
    "\"hello world\".bold().yellow().on_black()"
   ]
  },
  {
   "cell_type": "code",
   "execution_count": 297,
   "id": "7a538856-9b07-4e9d-83be-f2780c74ac17",
   "metadata": {
    "execution": {
     "iopub.execute_input": "2024-05-15T04:09:40.759499+00:00",
     "iopub.status.busy": "2024-05-15T04:09:40.759480+00:00",
     "iopub.status.idle": "2024-05-15T04:09:40.759495+00:00",
     "shell.execute_reply": "2024-05-15T04:09:41.183760+00:00"
    }
   },
   "outputs": [],
   "source": [
    "fn show_span(s: Span) {\n",
    "    let mut html = String::new();\n",
    "    html.push_str(\"<span style=\\\"\");\n",
    "\n",
    "    // Set foreground color\n",
    "    if let Some(color) = &s.style.fg {\n",
    "        html.push_str(&format!(\"color: {};\", color));\n",
    "    }\n",
    "\n",
    "    // Set background color\n",
    "    if let Some(color) = &s.style.bg {\n",
    "        html.push_str(&format!(\"background-color: {};\", color));\n",
    "    }\n",
    "\n",
    "    // Add modifiers\n",
    "    match s.style.add_modifier {\n",
    "        Modifier::BOLD => html.push_str(\"font-weight: bold;\"),\n",
    "        Modifier::UNDERLINED => html.push_str(\"text-decoration: underline;\"),\n",
    "        _ => {}\n",
    "    }\n",
    "    html.push_str(\"\\\">\");\n",
    "    html.push_str(&s.content);\n",
    "    html.push_str(\"</span>\");\n",
    "    show_html(html)\n",
    "}"
   ]
  },
  {
   "cell_type": "code",
   "execution_count": 298,
   "id": "253de6ed-ea89-4d11-be95-0fae4c33914a",
   "metadata": {
    "execution": {
     "iopub.execute_input": "2024-05-15T04:09:41.183890+00:00",
     "iopub.status.busy": "2024-05-15T04:09:41.183867+00:00",
     "iopub.status.idle": "2024-05-15T04:09:41.183886+00:00",
     "shell.execute_reply": "2024-05-15T04:09:42.405806+00:00"
    }
   },
   "outputs": [
    {
     "data": {
      "text/html": [
       "<div style=\"display: flex; justify-content:start; gap: 1em\">\n",
       "<span style=\"font-weight: bold;\">hello world</span>\n",
       "</div>"
      ],
      "text/plain": [
       "()"
      ]
     },
     "execution_count": 298,
     "metadata": {},
     "output_type": "execute_result"
    }
   ],
   "source": [
    "show_span(\"hello world\".bold())"
   ]
  },
  {
   "cell_type": "code",
   "execution_count": 299,
   "id": "1438f4a8-3e43-43a2-bbb9-0ac34351762c",
   "metadata": {
    "execution": {
     "iopub.execute_input": "2024-05-15T04:09:42.405954+00:00",
     "iopub.status.busy": "2024-05-15T04:09:42.405911+00:00",
     "iopub.status.idle": "2024-05-15T04:09:42.405945+00:00",
     "shell.execute_reply": "2024-05-15T04:09:43.529528+00:00"
    }
   },
   "outputs": [
    {
     "data": {
      "text/html": [
       "<div style=\"display: flex; justify-content:start; gap: 1em\">\n",
       "<span style=\"color: Yellow;background-color: Black;font-weight: bold;\">hello world</span>\n",
       "</div>"
      ],
      "text/plain": [
       "()"
      ]
     },
     "execution_count": 299,
     "metadata": {},
     "output_type": "execute_result"
    }
   ],
   "source": [
    "show_span(\"hello world\".yellow().bold().on_black())"
   ]
  },
  {
   "cell_type": "markdown",
   "id": "6721a2a4-9d1b-49b1-9c4f-cd7412a1f6a6",
   "metadata": {},
   "source": [
    "With `ratatui-macros`, you can even use a `format!` style macro to create a `Span`"
   ]
  },
  {
   "cell_type": "code",
   "execution_count": 300,
   "id": "572ceda9-2651-4b89-9d1d-425117e3f656",
   "metadata": {
    "execution": {
     "iopub.execute_input": "2024-05-15T04:09:43.529787+00:00",
     "iopub.status.busy": "2024-05-15T04:09:43.529724+00:00",
     "iopub.status.idle": "2024-05-15T04:09:43.529771+00:00",
     "shell.execute_reply": "2024-05-15T04:09:44.552420+00:00"
    }
   },
   "outputs": [
    {
     "data": {
      "text/plain": [
       "Span { content: \"hello world\", style: Style { fg: None, bg: None, underline_color: None, add_modifier: NONE, sub_modifier: NONE } }"
      ]
     },
     "execution_count": 300,
     "metadata": {},
     "output_type": "execute_result"
    }
   ],
   "source": [
    "use ratatui_macros::span;\n",
    "\n",
    "let world = \"world\";\n",
    "span!(\"hello {}\", world)"
   ]
  },
  {
   "cell_type": "markdown",
   "id": "0222fe5c-7de6-4ce1-9669-07e5d2cf0eab",
   "metadata": {},
   "source": [
    "### Line"
   ]
  },
  {
   "cell_type": "markdown",
   "id": "aae046dc-231f-44d2-bff7-1cf4a37816a7",
   "metadata": {
    "execution": {
     "iopub.execute_input": "2024-05-15T03:45:01.964531+00:00",
     "iopub.status.busy": "2024-05-15T03:45:01.964351+00:00",
     "iopub.status.idle": "2024-05-15T03:45:01.964490+00:00",
     "shell.execute_reply": "2024-05-15T03:45:02.334822+00:00"
    }
   },
   "source": [
    "The second primitive to be aware of is a `Line`."
   ]
  },
  {
   "cell_type": "markdown",
   "id": "3ae53fc4-c64e-4d35-9c53-d8d1342b2771",
   "metadata": {
    "execution": {
     "iopub.execute_input": "2024-05-15T03:45:29.832076+00:00",
     "iopub.status.busy": "2024-05-15T03:45:29.831942+00:00",
     "iopub.status.idle": "2024-05-15T03:45:29.832049+00:00",
     "shell.execute_reply": "2024-05-15T03:45:30.360267+00:00"
    }
   },
   "source": [
    "A line consists of one or more spans."
   ]
  },
  {
   "cell_type": "code",
   "execution_count": 301,
   "id": "e70835fd-f437-49b9-9837-754ef710310a",
   "metadata": {
    "execution": {
     "iopub.execute_input": "2024-05-15T04:09:44.552517+00:00",
     "iopub.status.busy": "2024-05-15T04:09:44.552495+00:00",
     "iopub.status.idle": "2024-05-15T04:09:44.552513+00:00",
     "shell.execute_reply": "2024-05-15T04:09:45.534424+00:00"
    }
   },
   "outputs": [
    {
     "data": {
      "text/plain": [
       "Line { spans: [Span { content: \"hello world\", style: Style { fg: None, bg: None, underline_color: None, add_modifier: NONE, sub_modifier: NONE } }], style: Style { fg: None, bg: None, underline_color: None, add_modifier: NONE, sub_modifier: NONE }, alignment: None }"
      ]
     },
     "execution_count": 301,
     "metadata": {},
     "output_type": "execute_result"
    }
   ],
   "source": [
    "let line = Line::raw(\"hello world\");\n",
    "line"
   ]
  },
  {
   "cell_type": "markdown",
   "id": "eab56eba-76e7-494a-a8fa-213e4037745e",
   "metadata": {},
   "source": [
    "A unique feature of lines is that new lines are removed but the content is split into multiple spans. "
   ]
  },
  {
   "cell_type": "code",
   "execution_count": 302,
   "id": "ef6d2a85-b97b-40a6-b543-f8092d585906",
   "metadata": {
    "execution": {
     "iopub.execute_input": "2024-05-15T04:09:45.534531+00:00",
     "iopub.status.busy": "2024-05-15T04:09:45.534507+00:00",
     "iopub.status.idle": "2024-05-15T04:09:45.534524+00:00",
     "shell.execute_reply": "2024-05-15T04:09:46.603075+00:00"
    }
   },
   "outputs": [
    {
     "data": {
      "text/plain": [
       "2"
      ]
     },
     "execution_count": 302,
     "metadata": {},
     "output_type": "execute_result"
    }
   ],
   "source": [
    "let line = Line::raw(\"hello world\\ngoodbye world\");\n",
    "line.spans.len()"
   ]
  },
  {
   "cell_type": "markdown",
   "id": "0f69c5b3-6945-456a-9167-85f348ff01b4",
   "metadata": {},
   "source": [
    "Using a newline is equivalent to doing the following:"
   ]
  },
  {
   "cell_type": "code",
   "execution_count": 303,
   "id": "e3ca2fd8-0d4b-4ba6-87a1-3315909a1ebb",
   "metadata": {
    "execution": {
     "iopub.execute_input": "2024-05-15T04:09:46.603380+00:00",
     "iopub.status.busy": "2024-05-15T04:09:46.603304+00:00",
     "iopub.status.idle": "2024-05-15T04:09:46.603365+00:00",
     "shell.execute_reply": "2024-05-15T04:09:47.657763+00:00"
    },
    "scrolled": true
   },
   "outputs": [
    {
     "data": {
      "text/plain": [
       "2"
      ]
     },
     "execution_count": 303,
     "metadata": {},
     "output_type": "execute_result"
    }
   ],
   "source": [
    "let line = Line::default().spans(vec![Span::raw(\"hello world\"), Span::raw(\"goodbye world\")]);\n",
    "line.spans.len()"
   ]
  },
  {
   "cell_type": "markdown",
   "id": "8044bddd-19ac-40d9-9219-269108519ba2",
   "metadata": {},
   "source": [
    "A line can also be styled with methods from the `Stylize` trait:"
   ]
  },
  {
   "cell_type": "markdown",
   "id": "4c8972cf-33e4-4fa6-9301-62b675572fbe",
   "metadata": {},
   "source": [
    "In this case, the individual span's styles are left untouched but the `Line`'s style is updated."
   ]
  },
  {
   "cell_type": "markdown",
   "id": "96e11288-5835-42c2-b916-8bede2580339",
   "metadata": {},
   "source": [
    "Another unique feature about `Line` is that they can be aligned."
   ]
  },
  {
   "cell_type": "code",
   "execution_count": 304,
   "id": "e1567286-4f47-412e-b118-cfbd3e4d2ee9",
   "metadata": {
    "execution": {
     "iopub.execute_input": "2024-05-15T04:09:47.657864+00:00",
     "iopub.status.busy": "2024-05-15T04:09:47.657839+00:00",
     "iopub.status.idle": "2024-05-15T04:09:47.657857+00:00",
     "shell.execute_reply": "2024-05-15T04:09:48.846478+00:00"
    }
   },
   "outputs": [
    {
     "data": {
      "text/plain": [
       "Some(Center)"
      ]
     },
     "execution_count": 304,
     "metadata": {},
     "output_type": "execute_result"
    }
   ],
   "source": [
    "let centered_line = line.centered();\n",
    "centered_line.alignment"
   ]
  },
  {
   "cell_type": "markdown",
   "id": "ec02bbb6-ad86-4fbc-a2f8-648600f0d80b",
   "metadata": {
    "execution": {
     "iopub.execute_input": "2024-05-15T03:53:56.877256+00:00",
     "iopub.status.busy": "2024-05-15T03:53:56.877087+00:00",
     "iopub.status.idle": "2024-05-15T03:53:56.877224+00:00",
     "shell.execute_reply": "2024-05-15T03:53:57.051205+00:00"
    }
   },
   "source": [
    "With `ratatui-macros`, you can create a `Line` using the `line!` macro using a `vec!`-like syntax."
   ]
  },
  {
   "cell_type": "code",
   "execution_count": 305,
   "id": "e938287b-10f9-4bf2-b96c-c2f35b4fb1e3",
   "metadata": {
    "execution": {
     "iopub.execute_input": "2024-05-15T04:09:48.846547+00:00",
     "iopub.status.busy": "2024-05-15T04:09:48.846527+00:00",
     "iopub.status.idle": "2024-05-15T04:09:48.846543+00:00",
     "shell.execute_reply": "2024-05-15T04:09:49.685526+00:00"
    }
   },
   "outputs": [],
   "source": [
    "use ratatui_macros::line;\n",
    "\n",
    "line![\"hello\", \" \", \"world\"].yellow().bold().centered();"
   ]
  },
  {
   "cell_type": "code",
   "execution_count": null,
   "id": "7d5f9420-56d8-424c-99d9-1c8c81481865",
   "metadata": {},
   "outputs": [],
   "source": []
  },
  {
   "cell_type": "markdown",
   "id": "d9c0ee6b-95a8-40f3-81ae-cc2081168cbe",
   "metadata": {},
   "source": [
    "### Text"
   ]
  },
  {
   "cell_type": "markdown",
   "id": "5cf02327-bcdf-40cb-a176-043838d9af59",
   "metadata": {
    "execution": {
     "iopub.execute_input": "2024-05-15T03:55:11.381331+00:00",
     "iopub.status.busy": "2024-05-15T03:55:11.381126+00:00",
     "iopub.status.idle": "2024-05-15T03:55:11.381301+00:00",
     "shell.execute_reply": "2024-05-15T03:55:11.958123+00:00"
    }
   },
   "source": [
    "Finally there is `Text`, which is a collection of `Line`s."
   ]
  },
  {
   "cell_type": "code",
   "execution_count": 306,
   "id": "d5419388-ff32-4f24-9f90-da167c726761",
   "metadata": {
    "execution": {
     "iopub.execute_input": "2024-05-15T04:09:49.686255+00:00",
     "iopub.status.busy": "2024-05-15T04:09:49.685979+00:00",
     "iopub.status.idle": "2024-05-15T04:09:49.686232+00:00",
     "shell.execute_reply": "2024-05-15T04:09:50.356850+00:00"
    }
   },
   "outputs": [],
   "source": [
    "Text::from(vec![Line::raw(\"hello world\"), Line::raw(\"goodbye world\")]);"
   ]
  },
  {
   "cell_type": "markdown",
   "id": "81a5dc53-6579-4220-a56f-350a6004e34e",
   "metadata": {},
   "source": [
    "With ratatui-macros, you can create a `Text` using `text!` macro using a `vec!`-like syntax."
   ]
  },
  {
   "cell_type": "code",
   "execution_count": 307,
   "id": "8d530c4e-6bfd-4623-9cac-f50291a4cfce",
   "metadata": {
    "execution": {
     "iopub.execute_input": "2024-05-15T04:09:50.356963+00:00",
     "iopub.status.busy": "2024-05-15T04:09:50.356943+00:00",
     "iopub.status.idle": "2024-05-15T04:09:50.356959+00:00",
     "shell.execute_reply": "2024-05-15T04:09:50.954684+00:00"
    }
   },
   "outputs": [],
   "source": [
    "text![\"hello world\", \"goodbye world\"];"
   ]
  },
  {
   "cell_type": "markdown",
   "id": "dda2f60f-6637-4263-8161-fb2f31877a12",
   "metadata": {},
   "source": [
    "Like `Line`, `Text` can also be aligned. In this case, the alignment occurs on every `Line` inside the `Text`."
   ]
  },
  {
   "cell_type": "code",
   "execution_count": 308,
   "id": "ea805003-1ea1-4e48-ba5e-d4e62950aa0d",
   "metadata": {
    "execution": {
     "iopub.execute_input": "2024-05-15T04:09:50.954814+00:00",
     "iopub.status.busy": "2024-05-15T04:09:50.954791+00:00",
     "iopub.status.idle": "2024-05-15T04:09:50.954809+00:00",
     "shell.execute_reply": "2024-05-15T04:09:51.907698+00:00"
    }
   },
   "outputs": [
    {
     "data": {
      "text/plain": [
       "Some(Right)"
      ]
     },
     "execution_count": 308,
     "metadata": {},
     "output_type": "execute_result"
    }
   ],
   "source": [
    "let t = text![\"hello world\", \"goodbye world\"].right_aligned();\n",
    "t.alignment"
   ]
  },
  {
   "cell_type": "markdown",
   "id": "e5f0343e-07f4-4241-8f4e-91203d537a84",
   "metadata": {},
   "source": [
    "Earlier, we created a `Text` element like this:"
   ]
  },
  {
   "cell_type": "code",
   "execution_count": 310,
   "id": "980abe62-e7d2-4b13-b3ec-f1457a0b5020",
   "metadata": {
    "execution": {
     "iopub.execute_input": "2024-05-15T04:09:56.404139+00:00",
     "iopub.status.busy": "2024-05-15T04:09:56.403989+00:00",
     "iopub.status.idle": "2024-05-15T04:09:56.404103+00:00",
     "shell.execute_reply": "2024-05-15T04:09:57.117411+00:00"
    }
   },
   "outputs": [],
   "source": [
    "let text = Text::from(vec![\n",
    "    \"\".into(),\n",
    "    format!(\"Counter: {}\", app.counter).into(),\n",
    "]);"
   ]
  },
  {
   "cell_type": "markdown",
   "id": "d48ce5f8-d5a7-411a-b706-a4ddde264a62",
   "metadata": {},
   "source": [
    "This can be simplified like this:"
   ]
  },
  {
   "cell_type": "code",
   "execution_count": 311,
   "id": "7c196c99-7482-4f03-8a83-85d79bfabaa8",
   "metadata": {
    "execution": {
     "iopub.execute_input": "2024-05-15T04:09:57.434774+00:00",
     "iopub.status.busy": "2024-05-15T04:09:57.434648+00:00",
     "iopub.status.idle": "2024-05-15T04:09:57.434745+00:00",
     "shell.execute_reply": "2024-05-15T04:09:58.073666+00:00"
    }
   },
   "outputs": [],
   "source": [
    "text![\"\", format!(\"Counter: {}\", app.counter)];"
   ]
  },
  {
   "cell_type": "markdown",
   "id": "46e4a561-133f-40a7-9d64-8c70024b63fc",
   "metadata": {},
   "source": [
    "## Widget primitives"
   ]
  },
  {
   "cell_type": "markdown",
   "id": "1bb11dbf-859f-4016-883f-2a7fed96c0fa",
   "metadata": {},
   "source": [
    "## Block"
   ]
  },
  {
   "cell_type": "markdown",
   "id": "8d31bb39-dc3a-4ae9-9e6f-80f95bd15a93",
   "metadata": {},
   "source": [
    "The simplest widget is the `Block` widget, which is essentially just borders."
   ]
  },
  {
   "cell_type": "code",
   "execution_count": 321,
   "id": "2a0837b2-dd94-4a10-b9a2-52a0fd431cc3",
   "metadata": {
    "execution": {
     "iopub.execute_input": "2024-05-15T04:14:18.848216+00:00",
     "iopub.status.busy": "2024-05-15T04:14:18.848064+00:00",
     "iopub.status.idle": "2024-05-15T04:14:18.848183+00:00",
     "shell.execute_reply": "2024-05-15T04:14:19.864627+00:00"
    }
   },
   "outputs": [
    {
     "data": {
      "text/plain": [
       "Buffer {\n",
       "    area: Rect { x: 0, y: 0, width: 50, height: 5 },\n",
       "    content: [\n",
       "        \"┌────────────────────────────────────────────────┐\",\n",
       "        \"│                                                │\",\n",
       "        \"│                                                │\",\n",
       "        \"│                                                │\",\n",
       "        \"└────────────────────────────────────────────────┘\",\n",
       "    ],\n",
       "    styles: [\n",
       "        x: 0, y: 0, fg: Reset, bg: Reset, underline: Reset, modifier: NONE,\n",
       "    ]\n",
       "}"
      ]
     },
     "execution_count": 321,
     "metadata": {},
     "output_type": "execute_result"
    }
   ],
   "source": [
    "let (x, y, width, height) = (0, 0, 50, 5); \n",
    "let area = Rect::new(x, y, width, height);\n",
    "let mut buf = Buffer::empty(area);\n",
    "Block::bordered().render(area, &mut buf);\n",
    "buf"
   ]
  },
  {
   "cell_type": "markdown",
   "id": "d9dfa632-a2ff-4432-8ac3-f6450115d033",
   "metadata": {},
   "source": [
    "Most widgets accept a `Block` as a fluent setter. We saw from earlier that the `Paragraph` has a `.block()` method that accepts a `Block`."
   ]
  },
  {
   "cell_type": "markdown",
   "id": "0d4ecb04-59b6-475e-a773-1f5fdc1d97e7",
   "metadata": {
    "execution": {
     "iopub.execute_input": "2024-05-15T04:20:07.111508+00:00",
     "iopub.status.busy": "2024-05-15T04:20:07.111316+00:00",
     "iopub.status.idle": "2024-05-15T04:20:07.111463+00:00",
     "shell.execute_reply": "2024-05-15T04:20:08.244484+00:00"
    }
   },
   "source": [
    "```rust\n",
    "let paragraph = Paragraph::new(text).block(block).centered();\n",
    "```"
   ]
  },
  {
   "cell_type": "markdown",
   "id": "5c117708-beb3-46b8-ab38-fce61d95c5ec",
   "metadata": {},
   "source": [
    "Blocks can have different kinds of borders:"
   ]
  },
  {
   "cell_type": "code",
   "execution_count": 333,
   "id": "1d8cdc0e-9f43-41f3-aab7-d94bcc3946da",
   "metadata": {
    "execution": {
     "iopub.execute_input": "2024-05-15T04:19:05.065079+00:00",
     "iopub.status.busy": "2024-05-15T04:19:05.064897+00:00",
     "iopub.status.idle": "2024-05-15T04:19:05.065035+00:00",
     "shell.execute_reply": "2024-05-15T04:19:06.092077+00:00"
    }
   },
   "outputs": [
    {
     "data": {
      "text/plain": [
       "Buffer {\n",
       "    area: Rect { x: 0, y: 0, width: 50, height: 5 },\n",
       "    content: [\n",
       "        \"──────────────────────────────────────────────────\",\n",
       "        \"  ╔════════════════════════════════════════════╗  \",\n",
       "        \"  ║                                            ║  \",\n",
       "        \"  ╚════════════════════════════════════════════╝  \",\n",
       "        \"──────────────────────────────────────────────────\",\n",
       "    ],\n",
       "    styles: [\n",
       "        x: 0, y: 0, fg: Reset, bg: Reset, underline: Reset, modifier: NONE,\n",
       "    ]\n",
       "}"
      ]
     },
     "execution_count": 333,
     "metadata": {},
     "output_type": "execute_result"
    }
   ],
   "source": [
    "let (x, y, width, height) = (0, 0, 50, 5); \n",
    "let area = Rect::new(x, y, width, height);\n",
    "let mut buf = Buffer::empty(area);\n",
    "\n",
    "Block::bordered().border_type(ratatui::widgets::BorderType::Double).render(area.inner(&Margin::new(2, 1)), &mut buf);\n",
    "Block::bordered().borders(ratatui::widgets::Borders::TOP | ratatui::widgets::Borders::BOTTOM).render(area, &mut buf);\n",
    "\n",
    "buf"
   ]
  },
  {
   "cell_type": "markdown",
   "id": "5bb94495-9187-468d-9a41-6c9eb1cb42ab",
   "metadata": {},
   "source": [
    "And `Block` can have multiple titles in different locations:"
   ]
  },
  {
   "cell_type": "code",
   "execution_count": 347,
   "id": "d0218e8c-2034-4df1-8b17-7166ca8487f6",
   "metadata": {
    "execution": {
     "iopub.execute_input": "2024-05-15T04:31:44.191152+00:00",
     "iopub.status.busy": "2024-05-15T04:31:44.190967+00:00",
     "iopub.status.idle": "2024-05-15T04:31:44.191114+00:00",
     "shell.execute_reply": "2024-05-15T04:31:45.594294+00:00"
    }
   },
   "outputs": [
    {
     "data": {
      "text/plain": [
       "Buffer {\n",
       "    area: Rect { x: 0, y: 0, width: 50, height: 5 },\n",
       "    content: [\n",
       "        \"┌Top Left───────────Top Center──────────Top Right┐\",\n",
       "        \"│                                                │\",\n",
       "        \"│                                                │\",\n",
       "        \"│                                                │\",\n",
       "        \"└Bottom Left──────Bottom Center──────Bottom Right┘\",\n",
       "    ],\n",
       "    styles: [\n",
       "        x: 0, y: 0, fg: Reset, bg: Reset, underline: Reset, modifier: NONE,\n",
       "    ]\n",
       "}"
      ]
     },
     "execution_count": 347,
     "metadata": {},
     "output_type": "execute_result"
    }
   ],
   "source": [
    "let (x, y, width, height) = (0, 0, 50, 5); \n",
    "let area = Rect::new(x, y, width, height);\n",
    "let mut buf = Buffer::empty(area);\n",
    "\n",
    "let block = Block::bordered()\n",
    "                .title(\"Top Left\") // accepts anything that can be converted to a `Title` or a `Line`\n",
    "                .title(Line::from(\"Top Center\").centered()) // explicitly need to use `Line` if you want alignment\n",
    "                .title(line![\"Top Right\"].right_aligned()) // you can use the `line!` macro to make it shorter\n",
    "                .title(ratatui::widgets::block::Title::from(\"Bottom Right\") // explicitly using `Title` gives you most control\n",
    "                       .alignment(ratatui::layout::Alignment::Right)\n",
    "                       .position(ratatui::widgets::block::title::Position::Bottom)\n",
    "                )\n",
    "                .title_bottom(Line::from(\"Bottom Center\").centered()) // shorthand functions for bottom position\n",
    "                .title_bottom(\"Bottom Left\"); // aligned to the left by default\n",
    "\n",
    "block.render(area, &mut buf);\n",
    "\n",
    "buf"
   ]
  },
  {
   "cell_type": "markdown",
   "id": "4670d851-89f6-41b5-8ab1-934da1ba1a95",
   "metadata": {},
   "source": [
    "## Conclusion"
   ]
  },
  {
   "cell_type": "markdown",
   "id": "4983556c-34e6-4ebf-93f1-29d09f881aaf",
   "metadata": {},
   "source": [
    "In the next post, we'll examine the other widgets and how Ratatui works under the hood in more detail."
   ]
  },
  {
   "cell_type": "code",
   "execution_count": null,
   "id": "b6011123-57ba-444c-ad7b-d21f554a9739",
   "metadata": {},
   "outputs": [],
   "source": []
  },
  {
   "cell_type": "code",
   "execution_count": null,
   "id": "b3a7ccbc-e90a-459f-ba40-62977bb7648d",
   "metadata": {},
   "outputs": [],
   "source": []
  },
  {
   "cell_type": "code",
   "execution_count": null,
   "id": "3ddda790-b913-4641-9180-8bd1cc38734e",
   "metadata": {},
   "outputs": [],
   "source": []
  },
  {
   "cell_type": "code",
   "execution_count": null,
   "id": "b1965eb0-43a1-4701-b3ae-757ff66ab8fa",
   "metadata": {},
   "outputs": [],
   "source": []
  },
  {
   "cell_type": "code",
   "execution_count": null,
   "id": "ca4a46f6-013f-4ed7-9dd1-6f1b54ab4f74",
   "metadata": {},
   "outputs": [],
   "source": []
  }
 ],
 "metadata": {
  "kernelspec": {
   "display_name": "Rust",
   "language": "rust",
   "name": "rust"
  },
  "language_info": {
   "codemirror_mode": "rust",
   "file_extension": ".rs",
   "mimetype": "text/rust",
   "name": "Rust",
   "pygment_lexer": "rust",
   "version": ""
  },
  "widgets": {
   "application/vnd.jupyter.widget-state+json": {
    "state": {},
    "version_major": 2,
    "version_minor": 0
   }
  }
 },
 "nbformat": 4,
 "nbformat_minor": 5
}
