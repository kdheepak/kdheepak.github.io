{
 "cells": [
  {
   "cell_type": "raw",
   "id": "bf830a38-e568-4150-97b9-de5dc6172a32",
   "metadata": {
    "execution": {
     "iopub.execute_input": "2024-05-15T02:03:24.769199+00:00",
     "iopub.status.busy": "2024-05-15T02:03:24.768989+00:00",
     "iopub.status.idle": "2024-05-15T02:03:24.769163+00:00",
     "shell.execute_reply": "2024-05-15T02:03:24.910732+00:00"
    }
   },
   "source": [
    "---\n",
    "title: Building blocks of Ratatui\n",
    "date: 2024-05-14T22:03:04-0400\n",
    "categories: [rust]\n",
    "keywords: rust, ratatui\n",
    "summary: Showcase of using span, line, text\n",
    "---"
   ]
  },
  {
   "cell_type": "code",
   "execution_count": 3,
   "id": "7864dad5-68b0-41c7-a5a1-3127e70776fe",
   "metadata": {
    "execution": {
     "iopub.execute_input": "2024-05-15T05:31:23.599600+00:00",
     "iopub.status.busy": "2024-05-15T05:31:23.599441+00:00",
     "iopub.status.idle": "2024-05-15T05:31:23.599569+00:00",
     "shell.execute_reply": "2024-05-15T05:31:35.027210+00:00"
    }
   },
   "outputs": [],
   "source": [
    ":dep ratatui\n",
    ":dep ratatui-macros"
   ]
  },
  {
   "cell_type": "markdown",
   "id": "7e98f2e5-d4f5-4fc0-84e3-c9920e267bed",
   "metadata": {},
   "source": [
    "Ratatui is a crate for building terminal user interfaces in Rust."
   ]
  },
  {
   "cell_type": "markdown",
   "id": "95efed16-984f-42e7-b44f-a79437e56ce5",
   "metadata": {},
   "source": [
    "One of the unique features of Ratatui is that it is an immediate mode rendering library.\n",
    "In this post, I'm going to describe some of the primitives of Ratatui.\n",
    "I rely on the concepts described in this post in every Ratatui application I build."
   ]
  },
  {
   "cell_type": "markdown",
   "id": "25e755d9-ec34-426a-9905-88ed41fb575e",
   "metadata": {},
   "source": [
    "## Immediate Mode Rendering"
   ]
  },
  {
   "cell_type": "markdown",
   "id": "a8656c9d-18ff-4843-9088-efb76fe4d9ae",
   "metadata": {},
   "source": [
    "User interfaces can broadly be classified into two kinds:\n",
    "\n",
    "- immediate mode GUIs,\n",
    "- retained mode GUIs.\n",
    "\n",
    "Casey Muratori has a great video on immediate mode rendering. \n",
    "\n",
    "{{< video https://www.youtube.com/watch?v=Z1qyvQsjK5Y >}}\n",
    "\n",
    "At a very high level, in retained mode GUIs, you create UI elements and pass it to a framework and the framework is in charge of displaying them. For example, you can create a text field and input field, and then the browser will render them. The browser is in charge of handling events, and as a developer you have to define how these events interact with these widgets."
   ]
  },
  {
   "cell_type": "markdown",
   "id": "a06d6ac4-f78b-4ea3-81bb-b5437f925186",
   "metadata": {},
   "source": [
    "For example, in a simple counter example in a browser, we have to set up an `incrementCounter` and `decrementCounter` callbacks that update the relevant element's state. The browser is responsible for displaying these elements, receiving user inputs, calling the appropriate `onclick` callback, etc."
   ]
  },
  {
   "cell_type": "code",
   "execution_count": 5,
   "id": "73c1a207-8f25-467a-b3ed-2a5d6ac25461",
   "metadata": {
    "execution": {
     "iopub.execute_input": "2024-05-15T05:31:35.259142+00:00",
     "iopub.status.busy": "2024-05-15T05:31:35.259119+00:00",
     "iopub.status.idle": "2024-05-15T05:31:35.259138+00:00",
     "shell.execute_reply": "2024-05-15T05:31:35.635158+00:00"
    }
   },
   "outputs": [
    {
     "data": {
      "text/html": [
       "<div style=\"display: flex; justify-content:start; gap: 1em\">\n",
       "\n",
       "<text> Counter: </text>\n",
       "<text id=\"counter\">0</text>\n",
       "\n",
       "<button onclick=\"incrementCounter()\">Increment</button>\n",
       "<button onclick=\"decrementCounter()\">Decrement</button>\n",
       "\n",
       "<script>\n",
       "    var counterElement = document.getElementById(\"counter\");\n",
       "\n",
       "    var counterValue = 0;\n",
       "    counterElement.textContent = counterValue;\n",
       "\n",
       "    function incrementCounter() {\n",
       "        counterValue++;\n",
       "        counterElement.textContent = counterValue;\n",
       "    }\n",
       "\n",
       "    function decrementCounter() {\n",
       "        counterValue--;\n",
       "        counterElement.textContent = counterValue;\n",
       "    }\n",
       "</script>\n",
       "\n",
       "</div>"
      ],
      "text/plain": [
       "()"
      ]
     },
     "execution_count": 5,
     "metadata": {},
     "output_type": "execute_result"
    }
   ],
   "source": [
    "//| code-fold: true\n",
    "\n",
    "fn show_html<D>(content: D) where D: std::fmt::Display {\n",
    "    println!(r#\"EVCXR_BEGIN_CONTENT text/html\n",
    "<div style=\"display: flex; justify-content:start; gap: 1em\">\n",
    "{}\n",
    "</div>\n",
    "EVCXR_END_CONTENT\"#, content);\n",
    "}\n",
    "\n",
    "show_html(r#\"\n",
    "<text> Counter: </text>\n",
    "<text id=\"counter\">0</text>\n",
    "\n",
    "<button onclick=\"incrementCounter()\">Increment</button>\n",
    "<button onclick=\"decrementCounter()\">Decrement</button>\n",
    "\n",
    "<script>\n",
    "    var counterElement = document.getElementById(\"counter\");\n",
    "\n",
    "    var counterValue = 0;\n",
    "    counterElement.textContent = counterValue;\n",
    "\n",
    "    function incrementCounter() {\n",
    "        counterValue++;\n",
    "        counterElement.textContent = counterValue;\n",
    "    }\n",
    "\n",
    "    function decrementCounter() {\n",
    "        counterValue--;\n",
    "        counterElement.textContent = counterValue;\n",
    "    }\n",
    "</script>\n",
    "\"#)"
   ]
  },
  {
   "cell_type": "markdown",
   "id": "8b67f1f5-76f8-40c1-bbf8-2460e0ec9487",
   "metadata": {},
   "source": [
    "In immediate mode rendering, however, _you_ are responsible for rendering the UI every \"frame\".\n",
    "This is typically done in a `for` loop or a `while true` loop in your application. \n",
    "And you use an immediate mode rendering library to render the elements.\n",
    "This means you are responsible for a lot more things but it also gives you more control and freedom."
   ]
  },
  {
   "cell_type": "markdown",
   "id": "debc8cb1-8056-4351-8524-6be3bd198f28",
   "metadata": {},
   "source": [
    "## Buffer Primitives"
   ]
  },
  {
   "cell_type": "markdown",
   "id": "2a9acb18-a92e-4d1c-b0a3-8937ef6d078a",
   "metadata": {},
   "source": [
    "One of Ratatui's core primitives is a `Rect` struct. Let's create one.\n",
    "\n",
    "Let's say you are rendering into an 80 wide, 5 tall terminal using Ratatui. "
   ]
  },
  {
   "cell_type": "code",
   "execution_count": 8,
   "id": "e6fea32c-bd84-4374-b308-6cb2f1300228",
   "metadata": {
    "execution": {
     "iopub.execute_input": "2024-05-15T05:31:52.017243+00:00",
     "iopub.status.busy": "2024-05-15T05:31:52.017105+00:00",
     "iopub.status.idle": "2024-05-15T05:31:52.017219+00:00",
     "shell.execute_reply": "2024-05-15T05:31:56.336348+00:00"
    }
   },
   "outputs": [
    {
     "data": {
      "text/plain": [
       "Rect { x: 0, y: 0, width: 80, height: 5 }"
      ]
     },
     "execution_count": 8,
     "metadata": {},
     "output_type": "execute_result"
    }
   ],
   "source": [
    "use ratatui::layout::Rect;\n",
    "\n",
    "let (x, y, width, height) = (0, 0, 80, 5);\n",
    "let area = Rect::new(x, y, width, height);\n",
    "area"
   ]
  },
  {
   "cell_type": "markdown",
   "id": "bc089119-66a8-4e4e-9659-32e827643ec2",
   "metadata": {
    "execution": {
     "iopub.execute_input": "2024-05-15T05:32:51.199315+00:00",
     "iopub.status.busy": "2024-05-15T05:32:51.199121+00:00",
     "iopub.status.idle": "2024-05-15T05:32:51.199273+00:00",
     "shell.execute_reply": "2024-05-15T05:32:51.501025+00:00"
    }
   },
   "source": [
    "In Ratatui, every \"widget\" renders into a `Buffer` of a fixed size that is equal to the terminal dimensions. \n",
    "Let create an empty buffer:"
   ]
  },
  {
   "cell_type": "code",
   "execution_count": 22,
   "id": "638f7269-d51c-43bd-8e25-079968d07e5a",
   "metadata": {
    "execution": {
     "iopub.execute_input": "2024-05-15T05:38:44.422866+00:00",
     "iopub.status.busy": "2024-05-15T05:38:44.422700+00:00",
     "iopub.status.idle": "2024-05-15T05:38:44.422841+00:00",
     "shell.execute_reply": "2024-05-15T05:38:45.074761+00:00"
    }
   },
   "outputs": [
    {
     "data": {
      "text/plain": [
       "Buffer {\n",
       "    area: Rect { x: 0, y: 0, width: 80, height: 5 },\n",
       "    content: [\n",
       "        \"                                                                                \",\n",
       "        \"                                                                                \",\n",
       "        \"                                                                                \",\n",
       "        \"                                                                                \",\n",
       "        \"                                                                                \",\n",
       "    ],\n",
       "    styles: [\n",
       "        x: 0, y: 0, fg: Reset, bg: Reset, underline: Reset, modifier: NONE,\n",
       "    ]\n",
       "}"
      ]
     },
     "execution_count": 22,
     "metadata": {},
     "output_type": "execute_result"
    }
   ],
   "source": [
    "use ratatui::buffer::Buffer;\n",
    "\n",
    "let mut buf = Buffer::empty(area);\n",
    "buf"
   ]
  },
  {
   "cell_type": "markdown",
   "id": "12e54d72-8038-4d0c-b160-50f5adf95e0d",
   "metadata": {},
   "source": [
    "We can render into the buffer once by using the `Block` widget with a border."
   ]
  },
  {
   "cell_type": "code",
   "execution_count": 23,
   "id": "35aaaccb-8645-42eb-9071-728553b1974f",
   "metadata": {
    "execution": {
     "iopub.execute_input": "2024-05-15T05:38:45.074841+00:00",
     "iopub.status.busy": "2024-05-15T05:38:45.074816+00:00",
     "iopub.status.idle": "2024-05-15T05:38:45.074836+00:00",
     "shell.execute_reply": "2024-05-15T05:38:45.643263+00:00"
    }
   },
   "outputs": [],
   "source": [
    "use ratatui::widgets::Block;\n",
    "use ratatui::widgets::Widget; // required trait for `.render` method\n",
    "\n",
    "let block = Block::bordered();\n",
    "block.render(area, &mut buf);"
   ]
  },
  {
   "cell_type": "code",
   "execution_count": 24,
   "id": "ae80a81f-61a9-4e17-979a-5043e64ce386",
   "metadata": {
    "execution": {
     "iopub.execute_input": "2024-05-15T05:38:45.643387+00:00",
     "iopub.status.busy": "2024-05-15T05:38:45.643367+00:00",
     "iopub.status.idle": "2024-05-15T05:38:45.643383+00:00",
     "shell.execute_reply": "2024-05-15T05:38:46.247959+00:00"
    }
   },
   "outputs": [
    {
     "data": {
      "text/plain": [
       "Buffer {\n",
       "    area: Rect { x: 0, y: 0, width: 80, height: 5 },\n",
       "    content: [\n",
       "        \"┌──────────────────────────────────────────────────────────────────────────────┐\",\n",
       "        \"│                                                                              │\",\n",
       "        \"│                                                                              │\",\n",
       "        \"│                                                                              │\",\n",
       "        \"└──────────────────────────────────────────────────────────────────────────────┘\",\n",
       "    ],\n",
       "    styles: [\n",
       "        x: 0, y: 0, fg: Reset, bg: Reset, underline: Reset, modifier: NONE,\n",
       "    ]\n",
       "}"
      ]
     },
     "execution_count": 24,
     "metadata": {},
     "output_type": "execute_result"
    }
   ],
   "source": [
    "buf"
   ]
  },
  {
   "cell_type": "markdown",
   "id": "c0491da0-e497-47a1-b4b7-4f42e4a8a4d0",
   "metadata": {},
   "source": [
    "Let's also add a title."
   ]
  },
  {
   "cell_type": "code",
   "execution_count": 25,
   "id": "5f044cb5-4b8a-48ee-ace8-4e0e88c8c436",
   "metadata": {
    "execution": {
     "iopub.execute_input": "2024-05-15T05:38:46.248058+00:00",
     "iopub.status.busy": "2024-05-15T05:38:46.248031+00:00",
     "iopub.status.idle": "2024-05-15T05:38:46.248054+00:00",
     "shell.execute_reply": "2024-05-15T05:38:46.820916+00:00"
    }
   },
   "outputs": [],
   "source": [
    "let block = Block::bordered().title(\"Counter Example\");\n",
    "block.render(area, &mut buf);"
   ]
  },
  {
   "cell_type": "code",
   "execution_count": 26,
   "id": "29b616a3-e064-47ab-9467-99a54d419f99",
   "metadata": {
    "execution": {
     "iopub.execute_input": "2024-05-15T05:38:46.821031+00:00",
     "iopub.status.busy": "2024-05-15T05:38:46.821007+00:00",
     "iopub.status.idle": "2024-05-15T05:38:46.821027+00:00",
     "shell.execute_reply": "2024-05-15T05:38:47.617609+00:00"
    }
   },
   "outputs": [
    {
     "data": {
      "text/plain": [
       "Buffer {\n",
       "    area: Rect { x: 0, y: 0, width: 80, height: 5 },\n",
       "    content: [\n",
       "        \"┌Counter Example───────────────────────────────────────────────────────────────┐\",\n",
       "        \"│                                                                              │\",\n",
       "        \"│                                                                              │\",\n",
       "        \"│                                                                              │\",\n",
       "        \"└──────────────────────────────────────────────────────────────────────────────┘\",\n",
       "    ],\n",
       "    styles: [\n",
       "        x: 0, y: 0, fg: Reset, bg: Reset, underline: Reset, modifier: NONE,\n",
       "    ]\n",
       "}"
      ]
     },
     "execution_count": 26,
     "metadata": {},
     "output_type": "execute_result"
    }
   ],
   "source": [
    "buf"
   ]
  },
  {
   "cell_type": "markdown",
   "id": "41811e98-f3dd-43e2-8aaa-030d83415e35",
   "metadata": {},
   "source": [
    "Now let's render put text into the center of the buffer."
   ]
  },
  {
   "cell_type": "markdown",
   "id": "71b033b1-98c8-4b60-8c33-7a5c6854ae0d",
   "metadata": {},
   "source": [
    "Let's say you have the following `App`:"
   ]
  },
  {
   "cell_type": "code",
   "execution_count": 6,
   "id": "2db673b4-7459-4638-917f-c3ac32389272",
   "metadata": {
    "execution": {
     "iopub.execute_input": "2024-05-15T05:31:35.635243+00:00",
     "iopub.status.busy": "2024-05-15T05:31:35.635215+00:00",
     "iopub.status.idle": "2024-05-15T05:31:35.635238+00:00",
     "shell.execute_reply": "2024-05-15T05:31:37.570324+00:00"
    }
   },
   "outputs": [
    {
     "data": {
      "text/plain": [
       "App { counter: 0 }"
      ]
     },
     "execution_count": 6,
     "metadata": {},
     "output_type": "execute_result"
    }
   ],
   "source": [
    "#[derive(Debug, Default)]\n",
    "pub struct App {\n",
    "    counter: u8,\n",
    "}\n",
    "let mut app = App::default();\n",
    "app"
   ]
  },
  {
   "cell_type": "markdown",
   "id": "01802758-c390-4905-8769-8909d9793f43",
   "metadata": {},
   "source": [
    "And you want to render the `App`'s `counter` in the center of the buffer."
   ]
  },
  {
   "cell_type": "code",
   "execution_count": 31,
   "id": "79d8b2b6-986c-4ee6-89de-ddcfb5cabad1",
   "metadata": {
    "execution": {
     "iopub.execute_input": "2024-05-15T05:40:32.618605+00:00",
     "iopub.status.busy": "2024-05-15T05:40:32.618488+00:00",
     "iopub.status.idle": "2024-05-15T05:40:32.618582+00:00",
     "shell.execute_reply": "2024-05-15T05:40:33.532561+00:00"
    }
   },
   "outputs": [
    {
     "data": {
      "text/plain": [
       "Buffer {\n",
       "    area: Rect { x: 0, y: 0, width: 80, height: 5 },\n",
       "    content: [\n",
       "        \"┌Counter Example───────────────────────────────────────────────────────────────┐\",\n",
       "        \"│                                                                              │\",\n",
       "        \"│                                  Counter: 0                                  │\",\n",
       "        \"│                                                                              │\",\n",
       "        \"└──────────────────────────────────────────────────────────────────────────────┘\",\n",
       "    ],\n",
       "    styles: [\n",
       "        x: 0, y: 0, fg: Reset, bg: Reset, underline: Reset, modifier: NONE,\n",
       "    ]\n",
       "}"
      ]
     },
     "execution_count": 31,
     "metadata": {},
     "output_type": "execute_result"
    }
   ],
   "source": [
    "use ratatui::widgets::Paragraph;\n",
    "\n",
    "let inner_area = area.inner(&ratatui::layout::Margin { horizontal: 0, vertical: 2 });\n",
    "\n",
    "let paragraph = Paragraph::new(format!(\"Counter: {}\", app.counter)).centered();\n",
    "paragraph.render(inner_area, &mut buf);\n",
    "\n",
    "buf"
   ]
  },
  {
   "cell_type": "markdown",
   "id": "9b6baf39-c568-4f58-9033-3aaf0485c8bd",
   "metadata": {
    "execution": {
     "iopub.execute_input": "2024-05-15T03:15:51.794866+00:00",
     "iopub.status.busy": "2024-05-15T03:15:51.794846+00:00",
     "iopub.status.idle": "2024-05-15T03:15:51.794862+00:00",
     "shell.execute_reply": "2024-05-15T03:15:52.422169+00:00"
    }
   },
   "source": [
    "This is one frame of our UI!"
   ]
  },
  {
   "cell_type": "markdown",
   "id": "99b46b01-2c30-4534-9955-d794ca7ff3d4",
   "metadata": {
    "execution": {
     "iopub.execute_input": "2024-05-15T03:18:23.882207+00:00",
     "iopub.status.busy": "2024-05-15T03:18:23.882047+00:00",
     "iopub.status.idle": "2024-05-15T03:18:23.882168+00:00",
     "shell.execute_reply": "2024-05-15T03:18:24.335416+00:00"
    }
   },
   "source": [
    "Let's put our UI code into a function."
   ]
  },
  {
   "cell_type": "code",
   "execution_count": 32,
   "id": "2063bcc6-95c7-4454-9e4f-f35fbc2a0c0e",
   "metadata": {
    "execution": {
     "iopub.execute_input": "2024-05-15T05:41:40.971651+00:00",
     "iopub.status.busy": "2024-05-15T05:41:40.971581+00:00",
     "iopub.status.idle": "2024-05-15T05:41:40.971637+00:00",
     "shell.execute_reply": "2024-05-15T05:41:41.378595+00:00"
    }
   },
   "outputs": [],
   "source": [
    "fn draw_ui(app: &App, area: Rect, buf: &mut Buffer) {\n",
    "    let block = Block::bordered().title(\"Counter Example\");\n",
    "    block.render(area, buf);\n",
    "    \n",
    "    let inner_area = area.inner(&ratatui::layout::Margin { horizontal: 0, vertical: 2 });    \n",
    "    let paragraph = Paragraph::new(format!(\"Counter: {}\", app.counter)).centered();\n",
    "    paragraph.render(inner_area, buf);\n",
    "}"
   ]
  },
  {
   "cell_type": "markdown",
   "id": "e3ace62a-1467-4392-ae1e-53d688373304",
   "metadata": {
    "execution": {
     "iopub.execute_input": "2024-05-15T03:17:42.686861+00:00",
     "iopub.status.busy": "2024-05-15T03:17:42.686627+00:00",
     "iopub.status.idle": "2024-05-15T03:17:42.686825+00:00",
     "shell.execute_reply": "2024-05-15T03:17:43.159421+00:00"
    }
   },
   "source": [
    "For the next frame, we can increment the counter and render into the buffer again."
   ]
  },
  {
   "cell_type": "code",
   "execution_count": 33,
   "id": "45716320-dede-4245-9f11-ca5afae81596",
   "metadata": {
    "execution": {
     "iopub.execute_input": "2024-05-15T05:41:42.700802+00:00",
     "iopub.status.busy": "2024-05-15T05:41:42.700530+00:00",
     "iopub.status.idle": "2024-05-15T05:41:42.700756+00:00",
     "shell.execute_reply": "2024-05-15T05:41:43.365282+00:00"
    }
   },
   "outputs": [
    {
     "data": {
      "text/plain": [
       "Buffer {\n",
       "    area: Rect { x: 0, y: 0, width: 80, height: 5 },\n",
       "    content: [\n",
       "        \"┌Counter Example───────────────────────────────────────────────────────────────┐\",\n",
       "        \"│                                                                              │\",\n",
       "        \"│                                  Counter: 1                                  │\",\n",
       "        \"│                                                                              │\",\n",
       "        \"└──────────────────────────────────────────────────────────────────────────────┘\",\n",
       "    ],\n",
       "    styles: [\n",
       "        x: 0, y: 0, fg: Reset, bg: Reset, underline: Reset, modifier: NONE,\n",
       "    ]\n",
       "}"
      ]
     },
     "execution_count": 33,
     "metadata": {},
     "output_type": "execute_result"
    }
   ],
   "source": [
    "app.counter += 1;\n",
    "\n",
    "draw_ui(&app, area, &mut buf);\n",
    "\n",
    "buf"
   ]
  },
  {
   "cell_type": "code",
   "execution_count": 34,
   "id": "d9e1b856-ba65-4183-9bc1-1544804a0852",
   "metadata": {
    "execution": {
     "iopub.execute_input": "2024-05-15T05:41:57.646979+00:00",
     "iopub.status.busy": "2024-05-15T05:41:57.646735+00:00",
     "iopub.status.idle": "2024-05-15T05:41:57.646934+00:00",
     "shell.execute_reply": "2024-05-15T05:41:58.240701+00:00"
    }
   },
   "outputs": [
    {
     "data": {
      "text/plain": [
       "Buffer {\n",
       "    area: Rect { x: 0, y: 0, width: 80, height: 5 },\n",
       "    content: [\n",
       "        \"┌Counter Example───────────────────────────────────────────────────────────────┐\",\n",
       "        \"│                                                                              │\",\n",
       "        \"│                                  Counter: 2                                  │\",\n",
       "        \"│                                                                              │\",\n",
       "        \"└──────────────────────────────────────────────────────────────────────────────┘\",\n",
       "    ],\n",
       "    styles: [\n",
       "        x: 0, y: 0, fg: Reset, bg: Reset, underline: Reset, modifier: NONE,\n",
       "    ]\n",
       "}"
      ]
     },
     "execution_count": 34,
     "metadata": {},
     "output_type": "execute_result"
    }
   ],
   "source": [
    "app.counter += 1;\n",
    "\n",
    "draw_ui(&app, area, &mut buf);\n",
    "\n",
    "buf"
   ]
  },
  {
   "cell_type": "code",
   "execution_count": 35,
   "id": "09a7a902-4c26-49d6-98d1-d6801169fe01",
   "metadata": {
    "execution": {
     "iopub.execute_input": "2024-05-15T05:42:01.884762+00:00",
     "iopub.status.busy": "2024-05-15T05:42:01.884607+00:00",
     "iopub.status.idle": "2024-05-15T05:42:01.884728+00:00",
     "shell.execute_reply": "2024-05-15T05:42:02.532578+00:00"
    }
   },
   "outputs": [
    {
     "data": {
      "text/plain": [
       "Buffer {\n",
       "    area: Rect { x: 0, y: 0, width: 80, height: 5 },\n",
       "    content: [\n",
       "        \"┌Counter Example───────────────────────────────────────────────────────────────┐\",\n",
       "        \"│                                                                              │\",\n",
       "        \"│                                  Counter: 3                                  │\",\n",
       "        \"│                                                                              │\",\n",
       "        \"└──────────────────────────────────────────────────────────────────────────────┘\",\n",
       "    ],\n",
       "    styles: [\n",
       "        x: 0, y: 0, fg: Reset, bg: Reset, underline: Reset, modifier: NONE,\n",
       "    ]\n",
       "}"
      ]
     },
     "execution_count": 35,
     "metadata": {},
     "output_type": "execute_result"
    }
   ],
   "source": [
    "app.counter += 1;\n",
    "\n",
    "draw_ui(&app, area, &mut buf);\n",
    "\n",
    "buf"
   ]
  },
  {
   "cell_type": "markdown",
   "id": "f3cf1c6d-0105-48d6-9e8c-301e09905337",
   "metadata": {},
   "source": [
    "If we repeat this process of \"updating state\" and \"drawing UI\" in a loop, we get an immediate mode rendered UI.\n",
    "\n",
    "Here's what a more complete counter application might look like with keyboard events."
   ]
  },
  {
   "cell_type": "markdown",
   "id": "2f8bcf15-262d-4afe-9676-3500ce2d1f40",
   "metadata": {
    "execution": {
     "iopub.execute_input": "2024-05-15T03:22:39.211662+00:00",
     "iopub.status.busy": "2024-05-15T03:22:39.211509+00:00",
     "iopub.status.idle": "2024-05-15T03:22:39.211635+00:00",
     "shell.execute_reply": "2024-05-15T03:22:39.545076+00:00"
    }
   },
   "source": [
    "![](./basic-app.webp)"
   ]
  },
  {
   "cell_type": "markdown",
   "id": "8e5b0adc-84fb-4c90-858e-432de82e44c8",
   "metadata": {},
   "source": [
    "If you are interested in seeing the full code regarding this, you can check out the [`basic-app`] tutorial on the Ratatui website.\n",
    "\n",
    "[`basic-app`]: https://ratatui.rs/tutorials/counter-app/basic-app/"
   ]
  },
  {
   "cell_type": "markdown",
   "id": "6e15667d-e74a-400e-a540-39b7cf3e0480",
   "metadata": {},
   "source": [
    "Ratatui uses a double buffer rendering technique that you can read about [here].\n",
    "\n",
    "[here]: https://ratatui.rs/concepts/rendering/under-the-hood/"
   ]
  },
  {
   "cell_type": "markdown",
   "id": "20505bc4-d398-4e9a-b5ae-d223490d4d79",
   "metadata": {},
   "source": [
    "## Layout primitives"
   ]
  },
  {
   "cell_type": "markdown",
   "id": "3dfa65ae-348e-49c8-bce9-752d8e36d20b",
   "metadata": {},
   "source": [
    "We already saw that `Rect` is one of the primitives for rendering a widget.\n"
   ]
  },
  {
   "cell_type": "code",
   "execution_count": 78,
   "id": "a8c2eb81-3cef-45ac-b256-ffe606b39054",
   "metadata": {
    "execution": {
     "iopub.execute_input": "2024-05-15T06:37:12.885353+00:00",
     "iopub.status.busy": "2024-05-15T06:37:12.885074+00:00",
     "iopub.status.idle": "2024-05-15T06:37:12.885286+00:00",
     "shell.execute_reply": "2024-05-15T06:37:13.573379+00:00"
    }
   },
   "outputs": [
    {
     "data": {
      "text/plain": [
       "Rect { x: 0, y: 0, width: 50, height: 5 }"
      ]
     },
     "execution_count": 78,
     "metadata": {},
     "output_type": "execute_result"
    }
   ],
   "source": [
    "let (x, y, width, height) = (0, 0, 50, 5); \n",
    "let area = Rect::new(x, y, width, height);\n",
    "area"
   ]
  },
  {
   "cell_type": "markdown",
   "id": "8ac6f062-aeda-4780-90d3-fbc59f765e31",
   "metadata": {},
   "source": [
    "You can create inner `Rect`s by using the `Rect::inner` method:"
   ]
  },
  {
   "cell_type": "code",
   "execution_count": 79,
   "id": "8c86072e-9f59-4224-9d6a-c3bc929543a2",
   "metadata": {
    "execution": {
     "iopub.execute_input": "2024-05-15T06:37:13.573451+00:00",
     "iopub.status.busy": "2024-05-15T06:37:13.573430+00:00",
     "iopub.status.idle": "2024-05-15T06:37:13.573447+00:00",
     "shell.execute_reply": "2024-05-15T06:37:14.180525+00:00"
    }
   },
   "outputs": [
    {
     "data": {
      "text/plain": [
       "Rect { x: 5, y: 1, width: 40, height: 3 }"
      ]
     },
     "execution_count": 79,
     "metadata": {},
     "output_type": "execute_result"
    }
   ],
   "source": [
    "let (horizontal, vertical) = (5, 1);\n",
    "area.inner(&ratatui::layout::Margin::new(horizontal, vertical))"
   ]
  },
  {
   "cell_type": "markdown",
   "id": "9b3e6a2a-03fb-478e-9715-1af0810150c5",
   "metadata": {},
   "source": [
    "Ratatui also has a layout solver using [the cassowary algorithm](https://en.wikipedia.org/wiki/Cassowary_(software)?useskin=vector).\n",
    "\n"
   ]
  },
  {
   "cell_type": "code",
   "execution_count": 81,
   "id": "b8981456-0f54-4aa3-bba1-f16903c32f17",
   "metadata": {
    "execution": {
     "iopub.execute_input": "2024-05-15T06:37:17.333914+00:00",
     "iopub.status.busy": "2024-05-15T06:37:17.333770+00:00",
     "iopub.status.idle": "2024-05-15T06:37:17.333879+00:00",
     "shell.execute_reply": "2024-05-15T06:37:17.785544+00:00"
    }
   },
   "outputs": [],
   "source": [
    "use ratatui::layout::{Layout, Constraint};\n",
    "\n",
    "let [first, second] = Layout::horizontal([Constraint::Length(10), Constraint::Fill(1)]).areas(area);"
   ]
  },
  {
   "cell_type": "code",
   "execution_count": 82,
   "id": "cea50d48-4635-420f-b05a-2111c14a4b9d",
   "metadata": {
    "execution": {
     "iopub.execute_input": "2024-05-15T06:37:17.785646+00:00",
     "iopub.status.busy": "2024-05-15T06:37:17.785627+00:00",
     "iopub.status.idle": "2024-05-15T06:37:17.785642+00:00",
     "shell.execute_reply": "2024-05-15T06:37:18.379667+00:00"
    }
   },
   "outputs": [
    {
     "data": {
      "text/plain": [
       "(Rect { x: 0, y: 0, width: 10, height: 5 }, Rect { x: 10, y: 0, width: 40, height: 5 })"
      ]
     },
     "execution_count": 82,
     "metadata": {},
     "output_type": "execute_result"
    }
   ],
   "source": [
    "(first, second)"
   ]
  },
  {
   "cell_type": "code",
   "execution_count": 83,
   "id": "6ea9a836-9d66-45b0-b663-ad5ab987bff2",
   "metadata": {
    "execution": {
     "iopub.execute_input": "2024-05-15T06:37:18.874207+00:00",
     "iopub.status.busy": "2024-05-15T06:37:18.874029+00:00",
     "iopub.status.idle": "2024-05-15T06:37:18.874161+00:00",
     "shell.execute_reply": "2024-05-15T06:37:19.536442+00:00"
    }
   },
   "outputs": [
    {
     "data": {
      "text/plain": [
       "Buffer {\n",
       "    area: Rect { x: 0, y: 0, width: 50, height: 5 },\n",
       "    content: [\n",
       "        \"┌────────┐┌──────────────────────────────────────┐\",\n",
       "        \"│        ││                                      │\",\n",
       "        \"│        ││                                      │\",\n",
       "        \"│        ││                                      │\",\n",
       "        \"└────────┘└──────────────────────────────────────┘\",\n",
       "    ],\n",
       "    styles: [\n",
       "        x: 0, y: 0, fg: Reset, bg: Reset, underline: Reset, modifier: NONE,\n",
       "    ]\n",
       "}"
      ]
     },
     "execution_count": 83,
     "metadata": {},
     "output_type": "execute_result"
    }
   ],
   "source": [
    "let mut buf = Buffer::empty(rect);\n",
    "Block::bordered().render(first, &mut buf);\n",
    "Block::bordered().render(second, &mut buf);\n",
    "buf"
   ]
  },
  {
   "cell_type": "markdown",
   "id": "a60b7371-faf3-459b-ad5c-2e82d4c28cb9",
   "metadata": {},
   "source": [
    "`ratatui-macros` has a macro to make this boilerplate simpler."
   ]
  },
  {
   "cell_type": "code",
   "execution_count": 85,
   "id": "f62b8bd3-04e8-4c35-ae93-6d627f2594b3",
   "metadata": {
    "execution": {
     "iopub.execute_input": "2024-05-15T06:37:28.690084+00:00",
     "iopub.status.busy": "2024-05-15T06:37:28.689894+00:00",
     "iopub.status.idle": "2024-05-15T06:37:28.690043+00:00",
     "shell.execute_reply": "2024-05-15T06:37:29.211104+00:00"
    }
   },
   "outputs": [],
   "source": [
    "use ratatui_macros::horizontal;\n",
    "\n",
    "let [first, second] = horizontal![==10, *=1].areas(area);"
   ]
  },
  {
   "cell_type": "markdown",
   "id": "2cbba4d0-5085-486c-92e6-608880ee72af",
   "metadata": {},
   "source": [
    "\n",
    "## Text primitives"
   ]
  },
  {
   "cell_type": "markdown",
   "id": "4b43025a-6998-403b-bfc4-795bf68f4450",
   "metadata": {},
   "source": [
    "In Ratatui, there are 3 fundamental text primitives that you should be aware of."
   ]
  },
  {
   "cell_type": "markdown",
   "id": "d00ffded-9ab5-4846-8d08-c3f3b11e9fa0",
   "metadata": {},
   "source": [
    "### Span"
   ]
  },
  {
   "cell_type": "markdown",
   "id": "713601e9-7f89-443f-871c-5534bfc2f9b5",
   "metadata": {},
   "source": [
    "The first is a `Span`."
   ]
  },
  {
   "cell_type": "code",
   "execution_count": 292,
   "id": "4352a49f-2b40-4bd8-a37c-7f020879a4a6",
   "metadata": {
    "execution": {
     "iopub.execute_input": "2024-05-15T04:09:36.297256+00:00",
     "iopub.status.busy": "2024-05-15T04:09:36.297234+00:00",
     "iopub.status.idle": "2024-05-15T04:09:36.297250+00:00",
     "shell.execute_reply": "2024-05-15T04:09:37.220496+00:00"
    }
   },
   "outputs": [
    {
     "data": {
      "text/plain": [
       "Span { content: \"hello world\", style: Style { fg: None, bg: None, underline_color: None, add_modifier: NONE, sub_modifier: NONE } }"
      ]
     },
     "execution_count": 292,
     "metadata": {},
     "output_type": "execute_result"
    }
   ],
   "source": [
    "use ratatui::text::Span;\n",
    "let span = Span::raw(\"hello world\");\n",
    "span"
   ]
  },
  {
   "cell_type": "markdown",
   "id": "d10fc3ea-4044-4140-8dce-8f08ab15f7ff",
   "metadata": {},
   "source": [
    "A `Span` contains two fields. \n",
    "\n",
    "1. `content`"
   ]
  },
  {
   "cell_type": "code",
   "execution_count": 293,
   "id": "e244e525-83f6-4319-9c26-e12bf745084f",
   "metadata": {
    "execution": {
     "iopub.execute_input": "2024-05-15T04:09:37.220567+00:00",
     "iopub.status.busy": "2024-05-15T04:09:37.220548+00:00",
     "iopub.status.idle": "2024-05-15T04:09:37.220563+00:00",
     "shell.execute_reply": "2024-05-15T04:09:38.094226+00:00"
    }
   },
   "outputs": [
    {
     "data": {
      "text/plain": [
       "\"hello world\""
      ]
     },
     "execution_count": 293,
     "metadata": {},
     "output_type": "execute_result"
    }
   ],
   "source": [
    "span.content"
   ]
  },
  {
   "cell_type": "markdown",
   "id": "fbbf25e3-2317-439e-8446-b7b5d50f7c64",
   "metadata": {},
   "source": [
    "2. `style`"
   ]
  },
  {
   "cell_type": "code",
   "execution_count": 294,
   "id": "32bc98a5-da0c-425d-8d7b-fde5530a2edf",
   "metadata": {
    "execution": {
     "iopub.execute_input": "2024-05-15T04:09:38.094302+00:00",
     "iopub.status.busy": "2024-05-15T04:09:38.094281+00:00",
     "iopub.status.idle": "2024-05-15T04:09:38.094297+00:00",
     "shell.execute_reply": "2024-05-15T04:09:38.968772+00:00"
    }
   },
   "outputs": [
    {
     "data": {
      "text/plain": [
       "Style { fg: None, bg: None, underline_color: None, add_modifier: NONE, sub_modifier: NONE }"
      ]
     },
     "execution_count": 294,
     "metadata": {},
     "output_type": "execute_result"
    }
   ],
   "source": [
    "span.style"
   ]
  },
  {
   "cell_type": "markdown",
   "id": "e4ebc9b0-fd77-45ac-9edb-9a0d865a8c8c",
   "metadata": {},
   "source": [
    "A `Style` object contains foreground color, background color, and modifiers for whether the style being applied is **bold**, _italics_, etc"
   ]
  },
  {
   "cell_type": "markdown",
   "id": "c7b7bce3-76a3-491c-bf70-c064c2bb3e89",
   "metadata": {},
   "source": [
    "There are a number of constructors for `Span`, but `ratatui` exposes a trait that makes it easy to convert any String into a styled span."
   ]
  },
  {
   "cell_type": "code",
   "execution_count": 295,
   "id": "e6a3b553-6720-4fd7-8954-65ebbb49a04f",
   "metadata": {
    "execution": {
     "iopub.execute_input": "2024-05-15T04:09:38.968851+00:00",
     "iopub.status.busy": "2024-05-15T04:09:38.968827+00:00",
     "iopub.status.idle": "2024-05-15T04:09:38.968846+00:00",
     "shell.execute_reply": "2024-05-15T04:09:39.871338+00:00"
    }
   },
   "outputs": [
    {
     "data": {
      "text/plain": [
       "Span { content: \"hello world\", style: Style { fg: None, bg: None, underline_color: None, add_modifier: BOLD, sub_modifier: NONE } }"
      ]
     },
     "execution_count": 295,
     "metadata": {},
     "output_type": "execute_result"
    }
   ],
   "source": [
    "use ratatui::style::Stylize;\n",
    "\"hello world\".bold()"
   ]
  },
  {
   "cell_type": "markdown",
   "id": "cd786269-de20-4338-9f98-7bb468c5fc26",
   "metadata": {},
   "source": [
    "You can even chain these trait methods to add more styles:"
   ]
  },
  {
   "cell_type": "code",
   "execution_count": 296,
   "id": "c00050c6-fa55-4a82-817a-5c563e8708fe",
   "metadata": {
    "execution": {
     "iopub.execute_input": "2024-05-15T04:09:39.871411+00:00",
     "iopub.status.busy": "2024-05-15T04:09:39.871391+00:00",
     "iopub.status.idle": "2024-05-15T04:09:39.871407+00:00",
     "shell.execute_reply": "2024-05-15T04:09:40.759423+00:00"
    }
   },
   "outputs": [
    {
     "data": {
      "text/plain": [
       "Span { content: \"hello world\", style: Style { fg: Some(Yellow), bg: Some(Black), underline_color: None, add_modifier: BOLD, sub_modifier: NONE } }"
      ]
     },
     "execution_count": 296,
     "metadata": {},
     "output_type": "execute_result"
    }
   ],
   "source": [
    "\"hello world\".bold().yellow().on_black()"
   ]
  },
  {
   "cell_type": "code",
   "execution_count": 297,
   "id": "7a538856-9b07-4e9d-83be-f2780c74ac17",
   "metadata": {
    "execution": {
     "iopub.execute_input": "2024-05-15T04:09:40.759499+00:00",
     "iopub.status.busy": "2024-05-15T04:09:40.759480+00:00",
     "iopub.status.idle": "2024-05-15T04:09:40.759495+00:00",
     "shell.execute_reply": "2024-05-15T04:09:41.183760+00:00"
    }
   },
   "outputs": [],
   "source": [
    "fn show_span(s: Span) {\n",
    "    let mut html = String::new();\n",
    "    html.push_str(\"<span style=\\\"\");\n",
    "\n",
    "    // Set foreground color\n",
    "    if let Some(color) = &s.style.fg {\n",
    "        html.push_str(&format!(\"color: {};\", color));\n",
    "    }\n",
    "\n",
    "    // Set background color\n",
    "    if let Some(color) = &s.style.bg {\n",
    "        html.push_str(&format!(\"background-color: {};\", color));\n",
    "    }\n",
    "\n",
    "    // Add modifiers\n",
    "    match s.style.add_modifier {\n",
    "        Modifier::BOLD => html.push_str(\"font-weight: bold;\"),\n",
    "        Modifier::UNDERLINED => html.push_str(\"text-decoration: underline;\"),\n",
    "        _ => {}\n",
    "    }\n",
    "    html.push_str(\"\\\">\");\n",
    "    html.push_str(&s.content);\n",
    "    html.push_str(\"</span>\");\n",
    "    show_html(html)\n",
    "}"
   ]
  },
  {
   "cell_type": "code",
   "execution_count": 298,
   "id": "253de6ed-ea89-4d11-be95-0fae4c33914a",
   "metadata": {
    "execution": {
     "iopub.execute_input": "2024-05-15T04:09:41.183890+00:00",
     "iopub.status.busy": "2024-05-15T04:09:41.183867+00:00",
     "iopub.status.idle": "2024-05-15T04:09:41.183886+00:00",
     "shell.execute_reply": "2024-05-15T04:09:42.405806+00:00"
    }
   },
   "outputs": [
    {
     "data": {
      "text/html": [
       "<div style=\"display: flex; justify-content:start; gap: 1em\">\n",
       "<span style=\"font-weight: bold;\">hello world</span>\n",
       "</div>"
      ],
      "text/plain": [
       "()"
      ]
     },
     "execution_count": 298,
     "metadata": {},
     "output_type": "execute_result"
    }
   ],
   "source": [
    "show_span(\"hello world\".bold())"
   ]
  },
  {
   "cell_type": "code",
   "execution_count": 299,
   "id": "1438f4a8-3e43-43a2-bbb9-0ac34351762c",
   "metadata": {
    "execution": {
     "iopub.execute_input": "2024-05-15T04:09:42.405954+00:00",
     "iopub.status.busy": "2024-05-15T04:09:42.405911+00:00",
     "iopub.status.idle": "2024-05-15T04:09:42.405945+00:00",
     "shell.execute_reply": "2024-05-15T04:09:43.529528+00:00"
    }
   },
   "outputs": [
    {
     "data": {
      "text/html": [
       "<div style=\"display: flex; justify-content:start; gap: 1em\">\n",
       "<span style=\"color: Yellow;background-color: Black;font-weight: bold;\">hello world</span>\n",
       "</div>"
      ],
      "text/plain": [
       "()"
      ]
     },
     "execution_count": 299,
     "metadata": {},
     "output_type": "execute_result"
    }
   ],
   "source": [
    "show_span(\"hello world\".yellow().bold().on_black())"
   ]
  },
  {
   "cell_type": "markdown",
   "id": "6721a2a4-9d1b-49b1-9c4f-cd7412a1f6a6",
   "metadata": {},
   "source": [
    "With `ratatui-macros`, you can even use a `format!` style macro to create a `Span`"
   ]
  },
  {
   "cell_type": "code",
   "execution_count": 300,
   "id": "572ceda9-2651-4b89-9d1d-425117e3f656",
   "metadata": {
    "execution": {
     "iopub.execute_input": "2024-05-15T04:09:43.529787+00:00",
     "iopub.status.busy": "2024-05-15T04:09:43.529724+00:00",
     "iopub.status.idle": "2024-05-15T04:09:43.529771+00:00",
     "shell.execute_reply": "2024-05-15T04:09:44.552420+00:00"
    }
   },
   "outputs": [
    {
     "data": {
      "text/plain": [
       "Span { content: \"hello world\", style: Style { fg: None, bg: None, underline_color: None, add_modifier: NONE, sub_modifier: NONE } }"
      ]
     },
     "execution_count": 300,
     "metadata": {},
     "output_type": "execute_result"
    }
   ],
   "source": [
    "use ratatui_macros::span;\n",
    "\n",
    "let world = \"world\";\n",
    "span!(\"hello {}\", world)"
   ]
  },
  {
   "cell_type": "markdown",
   "id": "0222fe5c-7de6-4ce1-9669-07e5d2cf0eab",
   "metadata": {},
   "source": [
    "### Line"
   ]
  },
  {
   "cell_type": "markdown",
   "id": "aae046dc-231f-44d2-bff7-1cf4a37816a7",
   "metadata": {
    "execution": {
     "iopub.execute_input": "2024-05-15T03:45:01.964531+00:00",
     "iopub.status.busy": "2024-05-15T03:45:01.964351+00:00",
     "iopub.status.idle": "2024-05-15T03:45:01.964490+00:00",
     "shell.execute_reply": "2024-05-15T03:45:02.334822+00:00"
    }
   },
   "source": [
    "The second primitive to be aware of is a `Line`."
   ]
  },
  {
   "cell_type": "markdown",
   "id": "3ae53fc4-c64e-4d35-9c53-d8d1342b2771",
   "metadata": {
    "execution": {
     "iopub.execute_input": "2024-05-15T03:45:29.832076+00:00",
     "iopub.status.busy": "2024-05-15T03:45:29.831942+00:00",
     "iopub.status.idle": "2024-05-15T03:45:29.832049+00:00",
     "shell.execute_reply": "2024-05-15T03:45:30.360267+00:00"
    }
   },
   "source": [
    "A line consists of one or more spans."
   ]
  },
  {
   "cell_type": "code",
   "execution_count": 301,
   "id": "e70835fd-f437-49b9-9837-754ef710310a",
   "metadata": {
    "execution": {
     "iopub.execute_input": "2024-05-15T04:09:44.552517+00:00",
     "iopub.status.busy": "2024-05-15T04:09:44.552495+00:00",
     "iopub.status.idle": "2024-05-15T04:09:44.552513+00:00",
     "shell.execute_reply": "2024-05-15T04:09:45.534424+00:00"
    }
   },
   "outputs": [
    {
     "data": {
      "text/plain": [
       "Line { spans: [Span { content: \"hello world\", style: Style { fg: None, bg: None, underline_color: None, add_modifier: NONE, sub_modifier: NONE } }], style: Style { fg: None, bg: None, underline_color: None, add_modifier: NONE, sub_modifier: NONE }, alignment: None }"
      ]
     },
     "execution_count": 301,
     "metadata": {},
     "output_type": "execute_result"
    }
   ],
   "source": [
    "let line = Line::raw(\"hello world\");\n",
    "line"
   ]
  },
  {
   "cell_type": "markdown",
   "id": "eab56eba-76e7-494a-a8fa-213e4037745e",
   "metadata": {},
   "source": [
    "A unique feature of lines is that new lines are removed but the content is split into multiple spans. "
   ]
  },
  {
   "cell_type": "code",
   "execution_count": 302,
   "id": "ef6d2a85-b97b-40a6-b543-f8092d585906",
   "metadata": {
    "execution": {
     "iopub.execute_input": "2024-05-15T04:09:45.534531+00:00",
     "iopub.status.busy": "2024-05-15T04:09:45.534507+00:00",
     "iopub.status.idle": "2024-05-15T04:09:45.534524+00:00",
     "shell.execute_reply": "2024-05-15T04:09:46.603075+00:00"
    }
   },
   "outputs": [
    {
     "data": {
      "text/plain": [
       "2"
      ]
     },
     "execution_count": 302,
     "metadata": {},
     "output_type": "execute_result"
    }
   ],
   "source": [
    "let line = Line::raw(\"hello world\\ngoodbye world\");\n",
    "line.spans.len()"
   ]
  },
  {
   "cell_type": "markdown",
   "id": "0f69c5b3-6945-456a-9167-85f348ff01b4",
   "metadata": {},
   "source": [
    "Using a newline is equivalent to doing the following:"
   ]
  },
  {
   "cell_type": "code",
   "execution_count": 303,
   "id": "e3ca2fd8-0d4b-4ba6-87a1-3315909a1ebb",
   "metadata": {
    "execution": {
     "iopub.execute_input": "2024-05-15T04:09:46.603380+00:00",
     "iopub.status.busy": "2024-05-15T04:09:46.603304+00:00",
     "iopub.status.idle": "2024-05-15T04:09:46.603365+00:00",
     "shell.execute_reply": "2024-05-15T04:09:47.657763+00:00"
    }
   },
   "outputs": [
    {
     "data": {
      "text/plain": [
       "2"
      ]
     },
     "execution_count": 303,
     "metadata": {},
     "output_type": "execute_result"
    }
   ],
   "source": [
    "let line = Line::default().spans(vec![Span::raw(\"hello world\"), Span::raw(\"goodbye world\")]);\n",
    "line.spans.len()"
   ]
  },
  {
   "cell_type": "markdown",
   "id": "8044bddd-19ac-40d9-9219-269108519ba2",
   "metadata": {},
   "source": [
    "A line can also be styled with methods from the `Stylize` trait:"
   ]
  },
  {
   "cell_type": "markdown",
   "id": "4c8972cf-33e4-4fa6-9301-62b675572fbe",
   "metadata": {},
   "source": [
    "In this case, the individual span's styles are left untouched but the `Line`'s style is updated."
   ]
  },
  {
   "cell_type": "markdown",
   "id": "96e11288-5835-42c2-b916-8bede2580339",
   "metadata": {},
   "source": [
    "Another unique feature about `Line` is that they can be aligned."
   ]
  },
  {
   "cell_type": "code",
   "execution_count": 304,
   "id": "e1567286-4f47-412e-b118-cfbd3e4d2ee9",
   "metadata": {
    "execution": {
     "iopub.execute_input": "2024-05-15T04:09:47.657864+00:00",
     "iopub.status.busy": "2024-05-15T04:09:47.657839+00:00",
     "iopub.status.idle": "2024-05-15T04:09:47.657857+00:00",
     "shell.execute_reply": "2024-05-15T04:09:48.846478+00:00"
    }
   },
   "outputs": [
    {
     "data": {
      "text/plain": [
       "Some(Center)"
      ]
     },
     "execution_count": 304,
     "metadata": {},
     "output_type": "execute_result"
    }
   ],
   "source": [
    "let centered_line = line.centered();\n",
    "centered_line.alignment"
   ]
  },
  {
   "cell_type": "markdown",
   "id": "ec02bbb6-ad86-4fbc-a2f8-648600f0d80b",
   "metadata": {
    "execution": {
     "iopub.execute_input": "2024-05-15T03:53:56.877256+00:00",
     "iopub.status.busy": "2024-05-15T03:53:56.877087+00:00",
     "iopub.status.idle": "2024-05-15T03:53:56.877224+00:00",
     "shell.execute_reply": "2024-05-15T03:53:57.051205+00:00"
    }
   },
   "source": [
    "With `ratatui-macros`, you can create a `Line` using the `line!` macro using a `vec!`-like syntax."
   ]
  },
  {
   "cell_type": "code",
   "execution_count": 305,
   "id": "e938287b-10f9-4bf2-b96c-c2f35b4fb1e3",
   "metadata": {
    "execution": {
     "iopub.execute_input": "2024-05-15T04:09:48.846547+00:00",
     "iopub.status.busy": "2024-05-15T04:09:48.846527+00:00",
     "iopub.status.idle": "2024-05-15T04:09:48.846543+00:00",
     "shell.execute_reply": "2024-05-15T04:09:49.685526+00:00"
    }
   },
   "outputs": [],
   "source": [
    "use ratatui_macros::line;\n",
    "\n",
    "line![\"hello\", \" \", \"world\"].yellow().bold().centered();"
   ]
  },
  {
   "cell_type": "code",
   "execution_count": null,
   "id": "7d5f9420-56d8-424c-99d9-1c8c81481865",
   "metadata": {},
   "outputs": [],
   "source": []
  },
  {
   "cell_type": "markdown",
   "id": "d9c0ee6b-95a8-40f3-81ae-cc2081168cbe",
   "metadata": {},
   "source": [
    "### Text"
   ]
  },
  {
   "cell_type": "markdown",
   "id": "5cf02327-bcdf-40cb-a176-043838d9af59",
   "metadata": {
    "execution": {
     "iopub.execute_input": "2024-05-15T03:55:11.381331+00:00",
     "iopub.status.busy": "2024-05-15T03:55:11.381126+00:00",
     "iopub.status.idle": "2024-05-15T03:55:11.381301+00:00",
     "shell.execute_reply": "2024-05-15T03:55:11.958123+00:00"
    }
   },
   "source": [
    "Finally there is `Text`, which is a collection of `Line`s."
   ]
  },
  {
   "cell_type": "code",
   "execution_count": 306,
   "id": "d5419388-ff32-4f24-9f90-da167c726761",
   "metadata": {
    "execution": {
     "iopub.execute_input": "2024-05-15T04:09:49.686255+00:00",
     "iopub.status.busy": "2024-05-15T04:09:49.685979+00:00",
     "iopub.status.idle": "2024-05-15T04:09:49.686232+00:00",
     "shell.execute_reply": "2024-05-15T04:09:50.356850+00:00"
    }
   },
   "outputs": [],
   "source": [
    "Text::from(vec![Line::raw(\"hello world\"), Line::raw(\"goodbye world\")]);"
   ]
  },
  {
   "cell_type": "markdown",
   "id": "81a5dc53-6579-4220-a56f-350a6004e34e",
   "metadata": {},
   "source": [
    "With ratatui-macros, you can create a `Text` using `text!` macro using a `vec!`-like syntax."
   ]
  },
  {
   "cell_type": "code",
   "execution_count": 307,
   "id": "8d530c4e-6bfd-4623-9cac-f50291a4cfce",
   "metadata": {
    "execution": {
     "iopub.execute_input": "2024-05-15T04:09:50.356963+00:00",
     "iopub.status.busy": "2024-05-15T04:09:50.356943+00:00",
     "iopub.status.idle": "2024-05-15T04:09:50.356959+00:00",
     "shell.execute_reply": "2024-05-15T04:09:50.954684+00:00"
    }
   },
   "outputs": [],
   "source": [
    "text![\"hello world\", \"goodbye world\"];"
   ]
  },
  {
   "cell_type": "markdown",
   "id": "dda2f60f-6637-4263-8161-fb2f31877a12",
   "metadata": {},
   "source": [
    "Like `Line`, `Text` can also be aligned. In this case, the alignment occurs on every `Line` inside the `Text`."
   ]
  },
  {
   "cell_type": "code",
   "execution_count": 308,
   "id": "ea805003-1ea1-4e48-ba5e-d4e62950aa0d",
   "metadata": {
    "execution": {
     "iopub.execute_input": "2024-05-15T04:09:50.954814+00:00",
     "iopub.status.busy": "2024-05-15T04:09:50.954791+00:00",
     "iopub.status.idle": "2024-05-15T04:09:50.954809+00:00",
     "shell.execute_reply": "2024-05-15T04:09:51.907698+00:00"
    }
   },
   "outputs": [
    {
     "data": {
      "text/plain": [
       "Some(Right)"
      ]
     },
     "execution_count": 308,
     "metadata": {},
     "output_type": "execute_result"
    }
   ],
   "source": [
    "let t = text![\"hello world\", \"goodbye world\"].right_aligned();\n",
    "t.alignment"
   ]
  },
  {
   "cell_type": "markdown",
   "id": "e5f0343e-07f4-4241-8f4e-91203d537a84",
   "metadata": {},
   "source": [
    "Earlier, we created a `Text` element like this:"
   ]
  },
  {
   "cell_type": "code",
   "execution_count": 310,
   "id": "980abe62-e7d2-4b13-b3ec-f1457a0b5020",
   "metadata": {
    "execution": {
     "iopub.execute_input": "2024-05-15T04:09:56.404139+00:00",
     "iopub.status.busy": "2024-05-15T04:09:56.403989+00:00",
     "iopub.status.idle": "2024-05-15T04:09:56.404103+00:00",
     "shell.execute_reply": "2024-05-15T04:09:57.117411+00:00"
    }
   },
   "outputs": [],
   "source": [
    "let text = Text::from(vec![\n",
    "    \"\".into(),\n",
    "    format!(\"Counter: {}\", app.counter).into(),\n",
    "]);"
   ]
  },
  {
   "cell_type": "markdown",
   "id": "d48ce5f8-d5a7-411a-b706-a4ddde264a62",
   "metadata": {},
   "source": [
    "This can be simplified like this:"
   ]
  },
  {
   "cell_type": "code",
   "execution_count": 311,
   "id": "7c196c99-7482-4f03-8a83-85d79bfabaa8",
   "metadata": {
    "execution": {
     "iopub.execute_input": "2024-05-15T04:09:57.434774+00:00",
     "iopub.status.busy": "2024-05-15T04:09:57.434648+00:00",
     "iopub.status.idle": "2024-05-15T04:09:57.434745+00:00",
     "shell.execute_reply": "2024-05-15T04:09:58.073666+00:00"
    }
   },
   "outputs": [],
   "source": [
    "text![\"\", format!(\"Counter: {}\", app.counter)];"
   ]
  },
  {
   "cell_type": "markdown",
   "id": "46e4a561-133f-40a7-9d64-8c70024b63fc",
   "metadata": {},
   "source": [
    "## Widget primitives"
   ]
  },
  {
   "cell_type": "markdown",
   "id": "1bb11dbf-859f-4016-883f-2a7fed96c0fa",
   "metadata": {},
   "source": [
    "## Block"
   ]
  },
  {
   "cell_type": "markdown",
   "id": "8d31bb39-dc3a-4ae9-9e6f-80f95bd15a93",
   "metadata": {},
   "source": [
    "The simplest widget is the `Block` widget, which is essentially just borders."
   ]
  },
  {
   "cell_type": "code",
   "execution_count": 321,
   "id": "2a0837b2-dd94-4a10-b9a2-52a0fd431cc3",
   "metadata": {
    "execution": {
     "iopub.execute_input": "2024-05-15T04:14:18.848216+00:00",
     "iopub.status.busy": "2024-05-15T04:14:18.848064+00:00",
     "iopub.status.idle": "2024-05-15T04:14:18.848183+00:00",
     "shell.execute_reply": "2024-05-15T04:14:19.864627+00:00"
    }
   },
   "outputs": [
    {
     "data": {
      "text/plain": [
       "Buffer {\n",
       "    area: Rect { x: 0, y: 0, width: 50, height: 5 },\n",
       "    content: [\n",
       "        \"┌────────────────────────────────────────────────┐\",\n",
       "        \"│                                                │\",\n",
       "        \"│                                                │\",\n",
       "        \"│                                                │\",\n",
       "        \"└────────────────────────────────────────────────┘\",\n",
       "    ],\n",
       "    styles: [\n",
       "        x: 0, y: 0, fg: Reset, bg: Reset, underline: Reset, modifier: NONE,\n",
       "    ]\n",
       "}"
      ]
     },
     "execution_count": 321,
     "metadata": {},
     "output_type": "execute_result"
    }
   ],
   "source": [
    "let (x, y, width, height) = (0, 0, 50, 5); \n",
    "let area = Rect::new(x, y, width, height);\n",
    "let mut buf = Buffer::empty(area);\n",
    "Block::bordered().render(area, &mut buf);\n",
    "buf"
   ]
  },
  {
   "cell_type": "markdown",
   "id": "d9dfa632-a2ff-4432-8ac3-f6450115d033",
   "metadata": {},
   "source": [
    "Most widgets accept a `Block` as a fluent setter. We saw from earlier that the `Paragraph` has a `.block()` method that accepts a `Block`."
   ]
  },
  {
   "cell_type": "markdown",
   "id": "0d4ecb04-59b6-475e-a773-1f5fdc1d97e7",
   "metadata": {
    "execution": {
     "iopub.execute_input": "2024-05-15T04:20:07.111508+00:00",
     "iopub.status.busy": "2024-05-15T04:20:07.111316+00:00",
     "iopub.status.idle": "2024-05-15T04:20:07.111463+00:00",
     "shell.execute_reply": "2024-05-15T04:20:08.244484+00:00"
    }
   },
   "source": [
    "```rust\n",
    "let paragraph = Paragraph::new(text).block(block).centered();\n",
    "```"
   ]
  },
  {
   "cell_type": "markdown",
   "id": "5c117708-beb3-46b8-ab38-fce61d95c5ec",
   "metadata": {},
   "source": [
    "Blocks can have different kinds of borders:"
   ]
  },
  {
   "cell_type": "code",
   "execution_count": 333,
   "id": "1d8cdc0e-9f43-41f3-aab7-d94bcc3946da",
   "metadata": {
    "execution": {
     "iopub.execute_input": "2024-05-15T04:19:05.065079+00:00",
     "iopub.status.busy": "2024-05-15T04:19:05.064897+00:00",
     "iopub.status.idle": "2024-05-15T04:19:05.065035+00:00",
     "shell.execute_reply": "2024-05-15T04:19:06.092077+00:00"
    }
   },
   "outputs": [
    {
     "data": {
      "text/plain": [
       "Buffer {\n",
       "    area: Rect { x: 0, y: 0, width: 50, height: 5 },\n",
       "    content: [\n",
       "        \"──────────────────────────────────────────────────\",\n",
       "        \"  ╔════════════════════════════════════════════╗  \",\n",
       "        \"  ║                                            ║  \",\n",
       "        \"  ╚════════════════════════════════════════════╝  \",\n",
       "        \"──────────────────────────────────────────────────\",\n",
       "    ],\n",
       "    styles: [\n",
       "        x: 0, y: 0, fg: Reset, bg: Reset, underline: Reset, modifier: NONE,\n",
       "    ]\n",
       "}"
      ]
     },
     "execution_count": 333,
     "metadata": {},
     "output_type": "execute_result"
    }
   ],
   "source": [
    "let (x, y, width, height) = (0, 0, 50, 5); \n",
    "let area = Rect::new(x, y, width, height);\n",
    "let mut buf = Buffer::empty(area);\n",
    "\n",
    "Block::bordered().border_type(ratatui::widgets::BorderType::Double).render(area.inner(&Margin::new(2, 1)), &mut buf);\n",
    "Block::bordered().borders(ratatui::widgets::Borders::TOP | ratatui::widgets::Borders::BOTTOM).render(area, &mut buf);\n",
    "\n",
    "buf"
   ]
  },
  {
   "cell_type": "markdown",
   "id": "5bb94495-9187-468d-9a41-6c9eb1cb42ab",
   "metadata": {},
   "source": [
    "And `Block` can have multiple titles in different locations:"
   ]
  },
  {
   "cell_type": "code",
   "execution_count": 347,
   "id": "d0218e8c-2034-4df1-8b17-7166ca8487f6",
   "metadata": {
    "execution": {
     "iopub.execute_input": "2024-05-15T04:31:44.191152+00:00",
     "iopub.status.busy": "2024-05-15T04:31:44.190967+00:00",
     "iopub.status.idle": "2024-05-15T04:31:44.191114+00:00",
     "shell.execute_reply": "2024-05-15T04:31:45.594294+00:00"
    }
   },
   "outputs": [
    {
     "data": {
      "text/plain": [
       "Buffer {\n",
       "    area: Rect { x: 0, y: 0, width: 50, height: 5 },\n",
       "    content: [\n",
       "        \"┌Top Left───────────Top Center──────────Top Right┐\",\n",
       "        \"│                                                │\",\n",
       "        \"│                                                │\",\n",
       "        \"│                                                │\",\n",
       "        \"└Bottom Left──────Bottom Center──────Bottom Right┘\",\n",
       "    ],\n",
       "    styles: [\n",
       "        x: 0, y: 0, fg: Reset, bg: Reset, underline: Reset, modifier: NONE,\n",
       "    ]\n",
       "}"
      ]
     },
     "execution_count": 347,
     "metadata": {},
     "output_type": "execute_result"
    }
   ],
   "source": [
    "let (x, y, width, height) = (0, 0, 50, 5); \n",
    "let area = Rect::new(x, y, width, height);\n",
    "let mut buf = Buffer::empty(area);\n",
    "\n",
    "let block = Block::bordered()\n",
    "                .title(\"Top Left\") // accepts anything that can be converted to a `Title` or a `Line`\n",
    "                .title(Line::from(\"Top Center\").centered()) // explicitly need to use `Line` if you want alignment\n",
    "                .title(line![\"Top Right\"].right_aligned()) // you can use the `line!` macro to make it shorter\n",
    "                .title(ratatui::widgets::block::Title::from(\"Bottom Right\") // explicitly using `Title` gives you most control\n",
    "                       .alignment(ratatui::layout::Alignment::Right)\n",
    "                       .position(ratatui::widgets::block::title::Position::Bottom)\n",
    "                )\n",
    "                .title_bottom(Line::from(\"Bottom Center\").centered()) // shorthand functions for bottom position\n",
    "                .title_bottom(\"Bottom Left\"); // aligned to the left by default\n",
    "\n",
    "block.render(area, &mut buf);\n",
    "\n",
    "buf"
   ]
  },
  {
   "cell_type": "markdown",
   "id": "4670d851-89f6-41b5-8ab1-934da1ba1a95",
   "metadata": {},
   "source": [
    "## Conclusion"
   ]
  },
  {
   "cell_type": "markdown",
   "id": "4983556c-34e6-4ebf-93f1-29d09f881aaf",
   "metadata": {},
   "source": [
    "In the next post, we'll examine the other widgets and how Ratatui works under the hood in more detail."
   ]
  },
  {
   "cell_type": "code",
   "execution_count": null,
   "id": "b6011123-57ba-444c-ad7b-d21f554a9739",
   "metadata": {},
   "outputs": [],
   "source": []
  },
  {
   "cell_type": "code",
   "execution_count": null,
   "id": "b3a7ccbc-e90a-459f-ba40-62977bb7648d",
   "metadata": {},
   "outputs": [],
   "source": []
  },
  {
   "cell_type": "code",
   "execution_count": null,
   "id": "3ddda790-b913-4641-9180-8bd1cc38734e",
   "metadata": {},
   "outputs": [],
   "source": []
  },
  {
   "cell_type": "code",
   "execution_count": null,
   "id": "b1965eb0-43a1-4701-b3ae-757ff66ab8fa",
   "metadata": {},
   "outputs": [],
   "source": []
  },
  {
   "cell_type": "code",
   "execution_count": null,
   "id": "ca4a46f6-013f-4ed7-9dd1-6f1b54ab4f74",
   "metadata": {},
   "outputs": [],
   "source": []
  }
 ],
 "metadata": {
  "kernelspec": {
   "display_name": "Rust",
   "language": "rust",
   "name": "rust"
  },
  "language_info": {
   "codemirror_mode": "rust",
   "file_extension": ".rs",
   "mimetype": "text/rust",
   "name": "Rust",
   "pygment_lexer": "rust",
   "version": ""
  },
  "widgets": {
   "application/vnd.jupyter.widget-state+json": {
    "state": {},
    "version_major": 2,
    "version_minor": 0
   }
  }
 },
 "nbformat": 4,
 "nbformat_minor": 5
}
