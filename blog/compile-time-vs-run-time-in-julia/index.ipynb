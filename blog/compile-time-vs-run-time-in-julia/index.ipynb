{
 "cells": [
  {
   "cell_type": "raw",
   "id": "aaa69d60-433e-4721-82be-bc648b59dc95",
   "metadata": {},
   "source": [
    "---\n",
    "title: Compile time versus run time in Julia\n",
    "categories:\n",
    "  - julia\n",
    "  - visualization\n",
    "keywords: julia\n",
    "date: '2023-04-29T12:38:41-0400'\n",
    "draft: true\n",
    "---"
   ]
  },
  {
   "cell_type": "code",
   "execution_count": 1,
   "id": "5f4bcdc1-37f3-4724-bd36-64d6b1517e66",
   "metadata": {
    "execution": {
     "iopub.execute_input": "2024-04-20T03:53:28.922",
     "iopub.status.busy": "2024-04-20T03:53:28.705",
     "iopub.status.idle": "2024-04-20T03:53:31.744",
     "shell.execute_reply": "2024-04-20T03:53:31.721"
    }
   },
   "outputs": [
    {
     "name": "stderr",
     "output_type": "stream",
     "text": [
      "\u001b[32m\u001b[1m  Activating\u001b[22m\u001b[39m project at `~/gitrepos/kdheepak.github.io/blog/compile-time-vs-run-time-in-julia`\n"
     ]
    }
   ],
   "source": [
    "#| include: false\n",
    "using Pkg\n",
    "Pkg.activate(@__DIR__)\n",
    "Pkg.instantiate()\n",
    "cd(@__DIR__)"
   ]
  },
  {
   "cell_type": "code",
   "execution_count": 48,
   "id": "b1e5ad21-3024-4076-9b16-f5d4c4ca4663",
   "metadata": {
    "execution": {
     "iopub.execute_input": "2024-04-20T04:04:42.096",
     "iopub.status.busy": "2024-04-20T04:04:42.095",
     "iopub.status.idle": "2024-04-20T04:04:42.119",
     "shell.execute_reply": "2024-04-20T04:04:42.119"
    }
   },
   "outputs": [
    {
     "data": {
      "text/plain": [
       "area (generic function with 4 methods)"
      ]
     },
     "execution_count": 48,
     "metadata": {},
     "output_type": "execute_result"
    }
   ],
   "source": [
    "struct Square\n",
    "    side::Float64\n",
    "end\n",
    "area(s::Square) = s.side * s.side\n",
    "    \n",
    "struct Rectangle\n",
    "    width::Float64\n",
    "    height::Float64\n",
    "end\n",
    "area(r::Rectangle) = r.width * r.height\n",
    "    \n",
    "struct Triangle\n",
    "    base::Float64\n",
    "    height::Float64\n",
    "end\n",
    "area(t::Triangle) = 1.0/2.0 * t.base * t.height\n",
    "\n",
    "struct Circle\n",
    "    radius::Float64\n",
    "end\n",
    "area(c::Circle) = π * c.radius^2"
   ]
  },
  {
   "cell_type": "code",
   "execution_count": 49,
   "id": "89712b98-7612-43da-bc3e-f667abd7e2ee",
   "metadata": {
    "execution": {
     "iopub.execute_input": "2024-04-20T04:04:42.261",
     "iopub.status.busy": "2024-04-20T04:04:42.261",
     "iopub.status.idle": "2024-04-20T04:04:42.264",
     "shell.execute_reply": "2024-04-20T04:04:42.264"
    }
   },
   "outputs": [
    {
     "data": {
      "text/plain": [
       "shape_builder (generic function with 1 method)"
      ]
     },
     "execution_count": 49,
     "metadata": {},
     "output_type": "execute_result"
    }
   ],
   "source": [
    "function shape_builder(choice::Integer)\n",
    "    if choice == 1\n",
    "        Square(rand())\n",
    "    elseif choice == 2\n",
    "        Rectangle(rand(), rand())\n",
    "    elseif choice == 3\n",
    "        Triangle(rand(), rand())\n",
    "    elseif choice == 4\n",
    "        Circle(rand())\n",
    "    end\n",
    "end"
   ]
  },
  {
   "cell_type": "code",
   "execution_count": 50,
   "id": "53840392-4fe3-4591-8f31-6d763bc51fb6",
   "metadata": {
    "execution": {
     "iopub.execute_input": "2024-04-20T04:04:42.441",
     "iopub.status.busy": "2024-04-20T04:04:42.441",
     "iopub.status.idle": "2024-04-20T04:04:42.522",
     "shell.execute_reply": "2024-04-20T04:04:42.521"
    }
   },
   "outputs": [],
   "source": [
    "using Random\n",
    "using BenchmarkTools\n",
    "\n",
    "Random.seed!(42)\n",
    "count = 1_000_000\n",
    "shapes = [shape_builder(rand((1,2,3,4))) for _ in 1:count];"
   ]
  },
  {
   "cell_type": "code",
   "execution_count": 75,
   "id": "6cb04f19-d92e-401a-a475-746266921ac0",
   "metadata": {
    "execution": {
     "iopub.execute_input": "2024-04-20T04:14:47.586",
     "iopub.status.busy": "2024-04-20T04:14:47.585",
     "iopub.status.idle": "2024-04-20T04:14:47.592",
     "shell.execute_reply": "2024-04-20T04:14:47.592"
    }
   },
   "outputs": [
    {
     "data": {
      "text/latex": [
       "The total number of shapes we have is 1,000,000\n",
       "\n"
      ],
      "text/markdown": [
       "The total number of shapes we have is 1,000,000\n"
      ],
      "text/plain": [
       "  The total number of shapes we have is 1,000,000"
      ]
     },
     "execution_count": 75,
     "metadata": {},
     "output_type": "execute_result"
    }
   ],
   "source": [
    "#| echo: false\n",
    "using Format\n",
    "using Markdown\n",
    "l = cfmt(\"%'d\", length(shapes))\n",
    "Markdown.md\"The total number of shapes we have is $l.\""
   ]
  },
  {
   "cell_type": "code",
   "execution_count": 51,
   "id": "c91b5a9d-ca77-4cf8-893b-f64a9feaea1f",
   "metadata": {
    "execution": {
     "iopub.execute_input": "2024-04-20T04:04:42.589",
     "iopub.status.busy": "2024-04-20T04:04:42.589",
     "iopub.status.idle": "2024-04-20T04:04:42.590",
     "shell.execute_reply": "2024-04-20T04:04:42.590"
    }
   },
   "outputs": [
    {
     "data": {
      "text/plain": [
       "main1 (generic function with 1 method)"
      ]
     },
     "execution_count": 51,
     "metadata": {},
     "output_type": "execute_result"
    }
   ],
   "source": [
    "function main1(shapes)\n",
    "    sum(area.(shapes))\n",
    "end"
   ]
  },
  {
   "cell_type": "code",
   "execution_count": 52,
   "id": "add2506f-2afb-4cb0-831c-11d5ee223341",
   "metadata": {
    "execution": {
     "iopub.execute_input": "2024-04-20T04:04:42.764",
     "iopub.status.busy": "2024-04-20T04:04:42.764",
     "iopub.status.idle": "2024-04-20T04:04:42.877",
     "shell.execute_reply": "2024-04-20T04:04:42.877"
    }
   },
   "outputs": [
    {
     "name": "stdout",
     "output_type": "stream",
     "text": [
      "  0.084440 seconds (2.01 M allocations: 39.038 MiB, 13.30% gc time, 25.07% compilation time)\n"
     ]
    }
   ],
   "source": [
    "@time main1(shapes);"
   ]
  },
  {
   "cell_type": "code",
   "execution_count": 53,
   "id": "e66b8854-d3d9-4fae-b777-98e0d3266f49",
   "metadata": {
    "execution": {
     "iopub.execute_input": "2024-04-20T04:04:42.933",
     "iopub.status.busy": "2024-04-20T04:04:42.933",
     "iopub.status.idle": "2024-04-20T04:04:53.528",
     "shell.execute_reply": "2024-04-20T04:04:53.528"
    }
   },
   "outputs": [
    {
     "data": {
      "text/plain": [
       "BenchmarkTools.Trial: 117 samples with 1 evaluation.\n",
       " Range \u001b[90m(\u001b[39m\u001b[36m\u001b[1mmin\u001b[22m\u001b[39m … \u001b[35mmax\u001b[39m\u001b[90m):  \u001b[39m\u001b[36m\u001b[1m41.874 ms\u001b[22m\u001b[39m … \u001b[35m 44.243 ms\u001b[39m  \u001b[90m┊\u001b[39m GC \u001b[90m(\u001b[39mmin … max\u001b[90m): \u001b[39m0.00% … 2.69%\n",
       " Time  \u001b[90m(\u001b[39m\u001b[34m\u001b[1mmedian\u001b[22m\u001b[39m\u001b[90m):     \u001b[39m\u001b[34m\u001b[1m42.828 ms               \u001b[22m\u001b[39m\u001b[90m┊\u001b[39m GC \u001b[90m(\u001b[39mmedian\u001b[90m):    \u001b[39m1.10%\n",
       " Time  \u001b[90m(\u001b[39m\u001b[32m\u001b[1mmean\u001b[22m\u001b[39m ± \u001b[32mσ\u001b[39m\u001b[90m):   \u001b[39m\u001b[32m\u001b[1m42.832 ms\u001b[22m\u001b[39m ± \u001b[32m489.585 μs\u001b[39m  \u001b[90m┊\u001b[39m GC \u001b[90m(\u001b[39mmean ± σ\u001b[90m):  \u001b[39m1.04% ± 0.80%\n",
       "\n",
       "  \u001b[39m \u001b[39m \u001b[39m \u001b[39m \u001b[39m \u001b[39m \u001b[39m \u001b[39m \u001b[39m \u001b[39m \u001b[39m \u001b[39m \u001b[39m \u001b[39m \u001b[39m \u001b[39m \u001b[39m \u001b[39m \u001b[39m▇\u001b[39m \u001b[39m \u001b[39m▂\u001b[39m \u001b[39m \u001b[34m▁\u001b[39m\u001b[39m█\u001b[39m \u001b[39m▁\u001b[39m \u001b[39m \u001b[39m \u001b[39m \u001b[39m \u001b[39m \u001b[39m \u001b[39m \u001b[39m \u001b[39m \u001b[39m \u001b[39m \u001b[39m \u001b[39m \u001b[39m \u001b[39m \u001b[39m \u001b[39m \u001b[39m \u001b[39m \u001b[39m \u001b[39m \u001b[39m \u001b[39m \u001b[39m \u001b[39m \u001b[39m \u001b[39m \u001b[39m \u001b[39m \u001b[39m \u001b[39m \u001b[39m \u001b[39m \n",
       "  \u001b[39m▃\u001b[39m▃\u001b[39m▁\u001b[39m▃\u001b[39m▃\u001b[39m▆\u001b[39m█\u001b[39m▁\u001b[39m▆\u001b[39m▆\u001b[39m▁\u001b[39m█\u001b[39m▁\u001b[39m▅\u001b[39m▅\u001b[39m▅\u001b[39m▁\u001b[39m█\u001b[39m█\u001b[39m▆\u001b[39m▅\u001b[39m█\u001b[39m▅\u001b[39m▆\u001b[34m█\u001b[39m\u001b[39m█\u001b[39m█\u001b[39m█\u001b[39m▅\u001b[39m▃\u001b[39m█\u001b[39m█\u001b[39m▆\u001b[39m▅\u001b[39m▃\u001b[39m▅\u001b[39m▅\u001b[39m█\u001b[39m▅\u001b[39m▁\u001b[39m▁\u001b[39m▅\u001b[39m▁\u001b[39m▁\u001b[39m▁\u001b[39m▁\u001b[39m▃\u001b[39m▁\u001b[39m▁\u001b[39m▁\u001b[39m▃\u001b[39m▅\u001b[39m▁\u001b[39m▁\u001b[39m▁\u001b[39m▃\u001b[39m▃\u001b[39m▁\u001b[39m▁\u001b[39m▃\u001b[39m \u001b[39m▃\n",
       "  41.9 ms\u001b[90m         Histogram: frequency by time\u001b[39m         44.2 ms \u001b[0m\u001b[1m<\u001b[22m\n",
       "\n",
       " Memory estimate\u001b[90m: \u001b[39m\u001b[33m38.14 MiB\u001b[39m, allocs estimate\u001b[90m: \u001b[39m\u001b[33m1999492\u001b[39m."
      ]
     },
     "execution_count": 53,
     "metadata": {},
     "output_type": "execute_result"
    }
   ],
   "source": [
    "@benchmark main1(shapes)"
   ]
  },
  {
   "cell_type": "code",
   "execution_count": 54,
   "id": "852e4dc2-fb51-4727-9f3b-1330c3972631",
   "metadata": {
    "execution": {
     "iopub.execute_input": "2024-04-20T04:04:53.529",
     "iopub.status.busy": "2024-04-20T04:04:53.529",
     "iopub.status.idle": "2024-04-20T04:04:53.580",
     "shell.execute_reply": "2024-04-20T04:04:53.580"
    }
   },
   "outputs": [
    {
     "data": {
      "text/plain": [
       "main2 (generic function with 3 methods)"
      ]
     },
     "execution_count": 54,
     "metadata": {},
     "output_type": "execute_result"
    }
   ],
   "source": [
    "filter_shapes(T, shapes) = Any[shape for shape in filter(x -> isa(x, T), shapes)]\n",
    "arr1 = filter_shapes(Square, shapes)\n",
    "arr2 = filter_shapes(Rectangle, shapes)\n",
    "arr3 = filter_shapes(Triangle, shapes)\n",
    "arr4 = filter_shapes(Circle, shapes)\n",
    "function main2(arr1, arr2, arr3, arr4)\n",
    "    sum(area.(arr1)) + sum(area.(arr2)) + sum(area.(arr3)) + sum(area.(arr4))\n",
    "end"
   ]
  },
  {
   "cell_type": "code",
   "execution_count": 55,
   "id": "f2f78446-5522-42f1-a254-8dbe18eb07db",
   "metadata": {
    "execution": {
     "iopub.execute_input": "2024-04-20T04:04:53.580",
     "iopub.status.busy": "2024-04-20T04:04:53.580",
     "iopub.status.idle": "2024-04-20T04:04:53.657",
     "shell.execute_reply": "2024-04-20T04:04:53.657"
    }
   },
   "outputs": [
    {
     "name": "stdout",
     "output_type": "stream",
     "text": [
      "  0.039215 seconds (2.00 M allocations: 38.116 MiB, 9.11% gc time)\n"
     ]
    }
   ],
   "source": [
    "@time main2(arr1, arr2, arr3, arr4);"
   ]
  },
  {
   "cell_type": "code",
   "execution_count": 56,
   "id": "b2f5e136-872b-4149-ac66-cb64a8553fa5",
   "metadata": {
    "execution": {
     "iopub.execute_input": "2024-04-20T04:04:53.657",
     "iopub.status.busy": "2024-04-20T04:04:53.657",
     "iopub.status.idle": "2024-04-20T04:05:04.457",
     "shell.execute_reply": "2024-04-20T04:05:04.457"
    }
   },
   "outputs": [
    {
     "data": {
      "text/plain": [
       "BenchmarkTools.Trial: 146 samples with 1 evaluation.\n",
       " Range \u001b[90m(\u001b[39m\u001b[36m\u001b[1mmin\u001b[22m\u001b[39m … \u001b[35mmax\u001b[39m\u001b[90m):  \u001b[39m\u001b[36m\u001b[1m33.388 ms\u001b[22m\u001b[39m … \u001b[35m 36.605 ms\u001b[39m  \u001b[90m┊\u001b[39m GC \u001b[90m(\u001b[39mmin … max\u001b[90m): \u001b[39m0.00% … 4.67%\n",
       " Time  \u001b[90m(\u001b[39m\u001b[34m\u001b[1mmedian\u001b[22m\u001b[39m\u001b[90m):     \u001b[39m\u001b[34m\u001b[1m34.319 ms               \u001b[22m\u001b[39m\u001b[90m┊\u001b[39m GC \u001b[90m(\u001b[39mmedian\u001b[90m):    \u001b[39m1.16%\n",
       " Time  \u001b[90m(\u001b[39m\u001b[32m\u001b[1mmean\u001b[22m\u001b[39m ± \u001b[32mσ\u001b[39m\u001b[90m):   \u001b[39m\u001b[32m\u001b[1m34.444 ms\u001b[22m\u001b[39m ± \u001b[32m644.855 μs\u001b[39m  \u001b[90m┊\u001b[39m GC \u001b[90m(\u001b[39mmean ± σ\u001b[90m):  \u001b[39m1.36% ± 1.14%\n",
       "\n",
       "  \u001b[39m \u001b[39m \u001b[39m \u001b[39m \u001b[39m \u001b[39m \u001b[39m \u001b[39m \u001b[39m▁\u001b[39m \u001b[39m \u001b[39m \u001b[39m▂\u001b[39m \u001b[39m \u001b[39m▄\u001b[39m▇\u001b[39m \u001b[39m▄\u001b[39m▂\u001b[34m \u001b[39m\u001b[39m▄\u001b[39m▂\u001b[32m█\u001b[39m\u001b[39m \u001b[39m \u001b[39m \u001b[39m \u001b[39m \u001b[39m \u001b[39m \u001b[39m \u001b[39m \u001b[39m \u001b[39m \u001b[39m \u001b[39m \u001b[39m \u001b[39m \u001b[39m \u001b[39m \u001b[39m \u001b[39m \u001b[39m \u001b[39m \u001b[39m \u001b[39m \u001b[39m \u001b[39m \u001b[39m \u001b[39m \u001b[39m \u001b[39m \u001b[39m \u001b[39m \u001b[39m \u001b[39m \u001b[39m \u001b[39m \u001b[39m \u001b[39m \u001b[39m \n",
       "  \u001b[39m▅\u001b[39m▅\u001b[39m▆\u001b[39m▁\u001b[39m▃\u001b[39m▅\u001b[39m▃\u001b[39m▆\u001b[39m█\u001b[39m▅\u001b[39m█\u001b[39m█\u001b[39m█\u001b[39m▅\u001b[39m█\u001b[39m█\u001b[39m█\u001b[39m▁\u001b[39m█\u001b[39m█\u001b[34m█\u001b[39m\u001b[39m█\u001b[39m█\u001b[32m█\u001b[39m\u001b[39m█\u001b[39m▃\u001b[39m▆\u001b[39m▆\u001b[39m▅\u001b[39m▃\u001b[39m▃\u001b[39m▃\u001b[39m▃\u001b[39m▃\u001b[39m▆\u001b[39m▃\u001b[39m▅\u001b[39m▆\u001b[39m▅\u001b[39m▆\u001b[39m▅\u001b[39m▃\u001b[39m▁\u001b[39m▁\u001b[39m▅\u001b[39m▁\u001b[39m▁\u001b[39m▁\u001b[39m▅\u001b[39m▁\u001b[39m▁\u001b[39m▃\u001b[39m▁\u001b[39m▃\u001b[39m▃\u001b[39m▃\u001b[39m▁\u001b[39m▃\u001b[39m▃\u001b[39m▆\u001b[39m \u001b[39m▃\n",
       "  33.4 ms\u001b[90m         Histogram: frequency by time\u001b[39m         36.1 ms \u001b[0m\u001b[1m<\u001b[22m\n",
       "\n",
       " Memory estimate\u001b[90m: \u001b[39m\u001b[33m38.12 MiB\u001b[39m, allocs estimate\u001b[90m: \u001b[39m\u001b[33m1997965\u001b[39m."
      ]
     },
     "execution_count": 56,
     "metadata": {},
     "output_type": "execute_result"
    }
   ],
   "source": [
    "@benchmark main2(arr1, arr2, arr3, arr4)"
   ]
  },
  {
   "cell_type": "code",
   "execution_count": 60,
   "id": "67b18464-5946-4b27-ac4b-afbf4cc4113a",
   "metadata": {
    "execution": {
     "iopub.execute_input": "2024-04-20T04:05:27.822",
     "iopub.status.busy": "2024-04-20T04:05:27.822",
     "iopub.status.idle": "2024-04-20T04:05:27.928",
     "shell.execute_reply": "2024-04-20T04:05:27.928"
    }
   },
   "outputs": [],
   "source": [
    "filter_shapes(T, shapes) = T[shape for shape in filter(x -> isa(x, T), shapes)]\n",
    "arr1 = filter_shapes(Square, shapes)\n",
    "arr2 = filter_shapes(Rectangle, shapes)\n",
    "arr3 = filter_shapes(Triangle, shapes)\n",
    "arr4 = filter_shapes(Circle, shapes)\n",
    "nothing # hide"
   ]
  },
  {
   "cell_type": "code",
   "execution_count": 58,
   "id": "8d9fb3ea-498b-4b24-8ee7-f9300a0071c4",
   "metadata": {
    "execution": {
     "iopub.execute_input": "2024-04-20T04:05:05.077",
     "iopub.status.busy": "2024-04-20T04:05:05.077",
     "iopub.status.idle": "2024-04-20T04:05:05.127",
     "shell.execute_reply": "2024-04-20T04:05:05.127"
    }
   },
   "outputs": [
    {
     "name": "stdout",
     "output_type": "stream",
     "text": [
      "  0.037636 seconds (127.94 k allocations: 16.146 MiB, 97.72% compilation time)\n"
     ]
    }
   ],
   "source": [
    "@time main2(arr1, arr2, arr3, arr4);"
   ]
  },
  {
   "cell_type": "code",
   "execution_count": 59,
   "id": "5c46b62f-f3ee-420f-b925-1d32a6b79fdf",
   "metadata": {
    "execution": {
     "iopub.execute_input": "2024-04-20T04:05:05.127",
     "iopub.status.busy": "2024-04-20T04:05:05.127",
     "iopub.status.idle": "2024-04-20T04:05:15.547",
     "shell.execute_reply": "2024-04-20T04:05:15.547"
    }
   },
   "outputs": [
    {
     "data": {
      "text/plain": [
       "BenchmarkTools.Trial: 4293 samples with 1 evaluation.\n",
       " Range \u001b[90m(\u001b[39m\u001b[36m\u001b[1mmin\u001b[22m\u001b[39m … \u001b[35mmax\u001b[39m\u001b[90m):  \u001b[39m\u001b[36m\u001b[1m482.083 μs\u001b[22m\u001b[39m … \u001b[35m  5.092 ms\u001b[39m  \u001b[90m┊\u001b[39m GC \u001b[90m(\u001b[39mmin … max\u001b[90m): \u001b[39m 0.00% … 79.04%\n",
       " Time  \u001b[90m(\u001b[39m\u001b[34m\u001b[1mmedian\u001b[22m\u001b[39m\u001b[90m):     \u001b[39m\u001b[34m\u001b[1m936.542 μs               \u001b[22m\u001b[39m\u001b[90m┊\u001b[39m GC \u001b[90m(\u001b[39mmedian\u001b[90m):    \u001b[39m 0.00%\n",
       " Time  \u001b[90m(\u001b[39m\u001b[32m\u001b[1mmean\u001b[22m\u001b[39m ± \u001b[32mσ\u001b[39m\u001b[90m):   \u001b[39m\u001b[32m\u001b[1m  1.159 ms\u001b[22m\u001b[39m ± \u001b[32m625.098 μs\u001b[39m  \u001b[90m┊\u001b[39m GC \u001b[90m(\u001b[39mmean ± σ\u001b[90m):  \u001b[39m20.15% ± 22.12%\n",
       "\n",
       "  \u001b[39m \u001b[39m \u001b[39m \u001b[39m▃\u001b[39m▄\u001b[39m▄\u001b[39m█\u001b[39m█\u001b[39m▇\u001b[34m▇\u001b[39m\u001b[39m▆\u001b[39m▅\u001b[39m▅\u001b[32m▄\u001b[39m\u001b[39m▁\u001b[39m \u001b[39m \u001b[39m \u001b[39m \u001b[39m \u001b[39m \u001b[39m \u001b[39m \u001b[39m \u001b[39m▁\u001b[39m▁\u001b[39m▁\u001b[39m▁\u001b[39m▁\u001b[39m \u001b[39m▁\u001b[39m▁\u001b[39m▁\u001b[39m▂\u001b[39m▁\u001b[39m \u001b[39m \u001b[39m▁\u001b[39m \u001b[39m \u001b[39m \u001b[39m \u001b[39m \u001b[39m \u001b[39m \u001b[39m \u001b[39m \u001b[39m \u001b[39m \u001b[39m \u001b[39m \u001b[39m \u001b[39m \u001b[39m \u001b[39m \u001b[39m \u001b[39m \u001b[39m \u001b[39m \u001b[39m \u001b[39m \u001b[39m \u001b[39m▂\n",
       "  \u001b[39m▇\u001b[39m▅\u001b[39m█\u001b[39m█\u001b[39m█\u001b[39m█\u001b[39m█\u001b[39m█\u001b[39m█\u001b[34m█\u001b[39m\u001b[39m█\u001b[39m█\u001b[39m█\u001b[32m█\u001b[39m\u001b[39m█\u001b[39m▆\u001b[39m▁\u001b[39m▃\u001b[39m▁\u001b[39m▁\u001b[39m▃\u001b[39m▁\u001b[39m▄\u001b[39m▇\u001b[39m█\u001b[39m█\u001b[39m█\u001b[39m█\u001b[39m█\u001b[39m█\u001b[39m█\u001b[39m█\u001b[39m█\u001b[39m█\u001b[39m█\u001b[39m█\u001b[39m█\u001b[39m█\u001b[39m█\u001b[39m█\u001b[39m▇\u001b[39m▇\u001b[39m▇\u001b[39m▆\u001b[39m▇\u001b[39m▇\u001b[39m█\u001b[39m▇\u001b[39m▆\u001b[39m▆\u001b[39m█\u001b[39m▄\u001b[39m▇\u001b[39m▆\u001b[39m▆\u001b[39m▇\u001b[39m▅\u001b[39m▆\u001b[39m▅\u001b[39m▆\u001b[39m▅\u001b[39m \u001b[39m█\n",
       "  482 μs\u001b[90m        \u001b[39m\u001b[90mHistogram: \u001b[39m\u001b[90m\u001b[1mlog(\u001b[22m\u001b[39m\u001b[90mfrequency\u001b[39m\u001b[90m\u001b[1m)\u001b[22m\u001b[39m\u001b[90m by time\u001b[39m       3.73 ms \u001b[0m\u001b[1m<\u001b[22m\n",
       "\n",
       " Memory estimate\u001b[90m: \u001b[39m\u001b[33m7.63 MiB\u001b[39m, allocs estimate\u001b[90m: \u001b[39m\u001b[33m9\u001b[39m."
      ]
     },
     "execution_count": 59,
     "metadata": {},
     "output_type": "execute_result"
    }
   ],
   "source": [
    "@benchmark main2(arr1, arr2, arr3, arr4)"
   ]
  },
  {
   "cell_type": "code",
   "execution_count": null,
   "id": "dd73cce7-ab85-43c7-9bc3-9d7f329de929",
   "metadata": {},
   "outputs": [],
   "source": []
  },
  {
   "cell_type": "code",
   "execution_count": null,
   "id": "ecb2bb04-3959-4304-9045-ea6e4c325ce6",
   "metadata": {},
   "outputs": [],
   "source": []
  },
  {
   "cell_type": "code",
   "execution_count": null,
   "id": "d9378f75-1e68-4098-a30d-9eff513d13fb",
   "metadata": {},
   "outputs": [],
   "source": []
  },
  {
   "cell_type": "code",
   "execution_count": null,
   "id": "43f272b5-ec79-40e6-84dc-a6a64c7cad44",
   "metadata": {},
   "outputs": [],
   "source": []
  }
 ],
 "metadata": {
  "kernelspec": {
   "display_name": "Julia 1.10.2",
   "language": "julia",
   "name": "julia-1.10"
  },
  "language_info": {
   "file_extension": ".jl",
   "mimetype": "application/julia",
   "name": "julia",
   "version": "1.10.2"
  },
  "widgets": {
   "application/vnd.jupyter.widget-state+json": {
    "state": {},
    "version_major": 2,
    "version_minor": 0
   }
  }
 },
 "nbformat": 4,
 "nbformat_minor": 5
}
