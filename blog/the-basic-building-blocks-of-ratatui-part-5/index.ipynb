{
 "cells": [
  {
   "cell_type": "raw",
   "id": "bf830a38-e568-4150-97b9-de5dc6172a32",
   "metadata": {
    "execution": {
     "iopub.execute_input": "2024-05-15T02:03:24.769199+00:00",
     "iopub.status.busy": "2024-05-15T02:03:24.768989+00:00",
     "iopub.status.idle": "2024-05-15T02:03:24.769163+00:00",
     "shell.execute_reply": "2024-05-15T02:03:24.910732+00:00"
    }
   },
   "source": [
    "---\n",
    "title: The Basic Building blocks of Ratatui - Part 5\n",
    "date: 2024-05-18T22:03:04-0400\n",
    "categories: [rust]\n",
    "keywords: rust, ratatui\n",
    "summary: Custom Widgets\n",
    "---"
   ]
  },
  {
   "cell_type": "markdown",
   "id": "7e98f2e5-d4f5-4fc0-84e3-c9920e267bed",
   "metadata": {},
   "source": [
    "Ratatui is a crate for building terminal user interfaces in Rust.\n",
    "\n",
    "In this post we'll show how to build custom widgets."
   ]
  },
  {
   "cell_type": "code",
   "execution_count": 3,
   "id": "73c1a207-8f25-467a-b3ed-2a5d6ac25461",
   "metadata": {
    "execution": {
     "iopub.execute_input": "2024-05-23T05:01:42.238666+00:00",
     "iopub.status.busy": "2024-05-23T05:01:42.238513+00:00",
     "iopub.status.idle": "2024-05-23T05:01:42.238623+00:00",
     "shell.execute_reply": "2024-05-23T05:01:55.232587+00:00"
    }
   },
   "outputs": [],
   "source": [
    "//| code-fold: true\n",
    "\n",
    ":dep ratatui = \"0.26.2\"\n",
    ":dep ratatui-macros = \"0.4.0\"\n",
    "    \n",
    "fn span_to_html(s: ratatui::text::Span) -> String{\n",
    "    let mut html = String::new();\n",
    "    html.push_str(\"<span style=\\\"\");\n",
    "\n",
    "    // Set foreground color\n",
    "    if let Some(color) = &s.style.fg {\n",
    "        html.push_str(&format!(\"color: {};\", color));\n",
    "    }\n",
    "\n",
    "    // Set background color\n",
    "    if let Some(color) = &s.style.bg {\n",
    "        html.push_str(&format!(\"background-color: {};\", color));\n",
    "    }\n",
    "\n",
    "    // Add modifiers\n",
    "    match s.style.add_modifier {\n",
    "        ratatui::style::Modifier::BOLD => html.push_str(\"font-weight: bold;\"),\n",
    "        ratatui::style::Modifier::ITALIC => html.push_str(\"font-style: italic;\"),\n",
    "        ratatui::style::Modifier::UNDERLINED => html.push_str(\"text-decoration: underline;\"),\n",
    "        _ => {}\n",
    "    }\n",
    "    html.push_str(\"\\\">\");\n",
    "    html.push_str(&s.content);\n",
    "    html.push_str(\"</span>\");\n",
    "    html\n",
    "}\n",
    "\n",
    "fn buffer_to_html(buf: &ratatui::buffer::Buffer) -> String {\n",
    "    fn escape_special_html_characters(text: &str) -> String {\n",
    "        text.replace(\"&\", \"&amp;\")\n",
    "            .replace(\"<\", \"&lt;\")\n",
    "            .replace(\">\", \"&gt;\")\n",
    "            .replace(\"\\\"\", \"&quot;\")\n",
    "            .replace(\"'\", \"&#39;\")\n",
    "    }\n",
    "\n",
    "    let mut html = String::from(\"<pre><code>\");\n",
    "\n",
    "    let w = buf.area.width;\n",
    "    let h = buf.area.height;\n",
    "\n",
    "    for y in 0..h {\n",
    "        for x in 0..w {\n",
    "            let s = buf.get(x, y).symbol();\n",
    "            \n",
    "            let escaped = escape_special_html_characters(s); \n",
    "\n",
    "            let style = buf.get(x, y).style();\n",
    "\n",
    "            let span = ratatui::text::Span::styled(s, style);\n",
    "            \n",
    "            html.push_str(&span_to_html(span));\n",
    "        }\n",
    "        html.push('\\n');\n",
    "    }\n",
    "\n",
    "    html.push_str(\"</code></pre>\");\n",
    "\n",
    "    html \n",
    "}\n",
    "    \n",
    "fn show_html<D>(content: D) where D: std::fmt::Display {\n",
    "    println!(r#\"EVCXR_BEGIN_CONTENT text/html\n",
    "<div style=\"display: flex; justify-content:start; gap: 1em; margin: 1em\">\n",
    "{}\n",
    "</div>\n",
    "EVCXR_END_CONTENT\"#, content);\n",
    "}\n"
   ]
  },
  {
   "cell_type": "markdown",
   "id": "46e4a561-133f-40a7-9d64-8c70024b63fc",
   "metadata": {},
   "source": [
    "## Buffer"
   ]
  },
  {
   "cell_type": "markdown",
   "id": "ac699197-b9e3-42b3-861a-eb322dc02125",
   "metadata": {},
   "source": [
    "We saw from an earlier part that `frame` has a `buffer_mut()` method:"
   ]
  },
  {
   "cell_type": "code",
   "execution_count": 8,
   "id": "92153cda-8adc-4789-be34-2a320fa4d090",
   "metadata": {
    "execution": {
     "iopub.execute_input": "2024-05-23T05:03:00.203062+00:00",
     "iopub.status.busy": "2024-05-23T05:03:00.202817+00:00",
     "iopub.status.idle": "2024-05-23T05:03:00.203022+00:00",
     "shell.execute_reply": "2024-05-23T05:03:00.730688+00:00"
    }
   },
   "outputs": [
    {
     "name": "stderr",
     "output_type": "stream",
     "text": [
      "[src/lib.rs:169:5] buffer = Buffer {\n",
      "    area: Rect { x: 0, y: 0, width: 80, height: 5 },\n",
      "    content: [\n",
      "        \"                                                                                \",\n",
      "        \"                                                                                \",\n",
      "        \"                                                                                \",\n",
      "        \"                                                                                \",\n",
      "        \"                                                                                \",\n",
      "    ],\n",
      "    styles: [\n",
      "        x: 0, y: 0, fg: Reset, bg: Reset, underline: Reset, modifier: NONE,\n",
      "    ]\n",
      "}\n"
     ]
    }
   ],
   "source": [
    "let backend = ratatui::backend::TestBackend::new(80, 5);\n",
    "let mut terminal = ratatui::terminal::Terminal::new(backend).unwrap();\n",
    "terminal.draw(|frame| {\n",
    "    let mut buffer = frame.buffer_mut();\n",
    "    dbg!(buffer);\n",
    "});"
   ]
  },
  {
   "cell_type": "markdown",
   "id": "c2eba39f-15fd-4a18-919f-317b80b14567",
   "metadata": {},
   "source": [
    "We saw how to draw to the `Buffer` using predefined widgets."
   ]
  },
  {
   "cell_type": "code",
   "execution_count": 12,
   "id": "d4be740e-fd73-4054-a6e3-89071e2ff957",
   "metadata": {
    "execution": {
     "iopub.execute_input": "2024-05-23T05:04:41.914310+00:00",
     "iopub.status.busy": "2024-05-23T05:04:41.914174+00:00",
     "iopub.status.idle": "2024-05-23T05:04:41.914277+00:00",
     "shell.execute_reply": "2024-05-23T05:04:42.441546+00:00"
    }
   },
   "outputs": [
    {
     "name": "stderr",
     "output_type": "stream",
     "text": [
      "[src/lib.rs:172:5] buffer = Buffer {\n",
      "    area: Rect { x: 0, y: 0, width: 80, height: 5 },\n",
      "    content: [\n",
      "        \"┌──────────────────────────────────────────────────────────────────────────────┐\",\n",
      "        \"│                                                                              │\",\n",
      "        \"│                                                                              │\",\n",
      "        \"│                                                                              │\",\n",
      "        \"└──────────────────────────────────────────────────────────────────────────────┘\",\n",
      "    ],\n",
      "    styles: [\n",
      "        x: 0, y: 0, fg: Reset, bg: Reset, underline: Reset, modifier: NONE,\n",
      "    ]\n",
      "}\n"
     ]
    }
   ],
   "source": [
    "use ratatui::widgets::Widget;\n",
    "\n",
    "let backend = ratatui::backend::TestBackend::new(80, 5);\n",
    "let mut terminal = ratatui::terminal::Terminal::new(backend).unwrap();\n",
    "terminal.draw(|frame| {\n",
    "    let area = frame.size();\n",
    "    let mut buffer = frame.buffer_mut();\n",
    "    ratatui::widgets::Block::bordered().render(area, &mut buffer);\n",
    "    dbg!(buffer);\n",
    "});"
   ]
  },
  {
   "cell_type": "markdown",
   "id": "16a5e0c2-b60d-474d-95a2-e383e5de99ca",
   "metadata": {},
   "source": [
    "But it is also possible to draw to the `Buffer` manually:"
   ]
  },
  {
   "cell_type": "code",
   "execution_count": 24,
   "id": "51b3dfdb-bfba-40d0-8101-6878f263b0a0",
   "metadata": {
    "execution": {
     "iopub.execute_input": "2024-05-23T05:08:30.702111+00:00",
     "iopub.status.busy": "2024-05-23T05:08:30.701997+00:00",
     "iopub.status.idle": "2024-05-23T05:08:30.702088+00:00",
     "shell.execute_reply": "2024-05-23T05:08:31.397401+00:00"
    }
   },
   "outputs": [
    {
     "data": {
      "text/html": [
       "<div style=\"display: flex; justify-content:start; gap: 1em; margin: 1em\">\n",
       "<pre><code><span style=\"color: Reset;background-color: Reset;\">┌</span><span style=\"color: Reset;background-color: Reset;\">─</span><span style=\"color: Reset;background-color: Reset;\">─</span><span style=\"color: Reset;background-color: Reset;\">─</span><span style=\"color: Reset;background-color: Reset;\">─</span><span style=\"color: Reset;background-color: Reset;\">─</span><span style=\"color: Reset;background-color: Reset;\">─</span><span style=\"color: Reset;background-color: Reset;\">─</span><span style=\"color: Reset;background-color: Reset;\">─</span><span style=\"color: Reset;background-color: Reset;\">─</span><span style=\"color: Reset;background-color: Reset;\">─</span><span style=\"color: Reset;background-color: Reset;\">─</span><span style=\"color: Reset;background-color: Reset;\">─</span><span style=\"color: Reset;background-color: Reset;\">─</span><span style=\"color: Reset;background-color: Reset;\">─</span><span style=\"color: Reset;background-color: Reset;\">─</span><span style=\"color: Reset;background-color: Reset;\">─</span><span style=\"color: Reset;background-color: Reset;\">─</span><span style=\"color: Reset;background-color: Reset;\">─</span><span style=\"color: Reset;background-color: Reset;\">─</span><span style=\"color: Reset;background-color: Reset;\">─</span><span style=\"color: Reset;background-color: Reset;\">─</span><span style=\"color: Reset;background-color: Reset;\">─</span><span style=\"color: Reset;background-color: Reset;\">─</span><span style=\"color: Reset;background-color: Reset;\">─</span><span style=\"color: Reset;background-color: Reset;\">─</span><span style=\"color: Reset;background-color: Reset;\">─</span><span style=\"color: Reset;background-color: Reset;\">─</span><span style=\"color: Reset;background-color: Reset;\">─</span><span style=\"color: Reset;background-color: Reset;\">─</span><span style=\"color: Reset;background-color: Reset;\">─</span><span style=\"color: Reset;background-color: Reset;\">─</span><span style=\"color: Reset;background-color: Reset;\">─</span><span style=\"color: Reset;background-color: Reset;\">─</span><span style=\"color: Reset;background-color: Reset;\">─</span><span style=\"color: Reset;background-color: Reset;\">─</span><span style=\"color: Reset;background-color: Reset;\">─</span><span style=\"color: Reset;background-color: Reset;\">─</span><span style=\"color: Reset;background-color: Reset;\">─</span><span style=\"color: Reset;background-color: Reset;\">─</span><span style=\"color: Reset;background-color: Reset;\">─</span><span style=\"color: Reset;background-color: Reset;\">─</span><span style=\"color: Reset;background-color: Reset;\">─</span><span style=\"color: Reset;background-color: Reset;\">─</span><span style=\"color: Reset;background-color: Reset;\">─</span><span style=\"color: Reset;background-color: Reset;\">─</span><span style=\"color: Reset;background-color: Reset;\">─</span><span style=\"color: Reset;background-color: Reset;\">─</span><span style=\"color: Reset;background-color: Reset;\">─</span><span style=\"color: Reset;background-color: Reset;\">─</span><span style=\"color: Reset;background-color: Reset;\">─</span><span style=\"color: Reset;background-color: Reset;\">─</span><span style=\"color: Reset;background-color: Reset;\">─</span><span style=\"color: Reset;background-color: Reset;\">─</span><span style=\"color: Reset;background-color: Reset;\">─</span><span style=\"color: Reset;background-color: Reset;\">─</span><span style=\"color: Reset;background-color: Reset;\">─</span><span style=\"color: Reset;background-color: Reset;\">─</span><span style=\"color: Reset;background-color: Reset;\">─</span><span style=\"color: Reset;background-color: Reset;\">─</span><span style=\"color: Reset;background-color: Reset;\">─</span><span style=\"color: Reset;background-color: Reset;\">─</span><span style=\"color: Reset;background-color: Reset;\">─</span><span style=\"color: Reset;background-color: Reset;\">─</span><span style=\"color: Reset;background-color: Reset;\">─</span><span style=\"color: Reset;background-color: Reset;\">─</span><span style=\"color: Reset;background-color: Reset;\">─</span><span style=\"color: Reset;background-color: Reset;\">─</span><span style=\"color: Reset;background-color: Reset;\">─</span><span style=\"color: Reset;background-color: Reset;\">─</span><span style=\"color: Reset;background-color: Reset;\">─</span><span style=\"color: Reset;background-color: Reset;\">─</span><span style=\"color: Reset;background-color: Reset;\">─</span><span style=\"color: Reset;background-color: Reset;\">─</span><span style=\"color: Reset;background-color: Reset;\">─</span><span style=\"color: Reset;background-color: Reset;\">─</span><span style=\"color: Reset;background-color: Reset;\">─</span><span style=\"color: Reset;background-color: Reset;\">─</span><span style=\"color: Reset;background-color: Reset;\">─</span><span style=\"color: Reset;background-color: Reset;\">┐</span>\n",
       "<span style=\"color: Reset;background-color: Reset;\">│</span><span style=\"color: Reset;background-color: Reset;\"> </span><span style=\"color: Reset;background-color: Reset;\"> </span><span style=\"color: Reset;background-color: Reset;\"> </span><span style=\"color: Reset;background-color: Reset;\"> </span><span style=\"color: Reset;background-color: Reset;\"> </span><span style=\"color: Reset;background-color: Reset;\"> </span><span style=\"color: Reset;background-color: Reset;\"> </span><span style=\"color: Reset;background-color: Reset;\"> </span><span style=\"color: Reset;background-color: Reset;\"> </span><span style=\"color: Reset;background-color: Reset;\"> </span><span style=\"color: Reset;background-color: Reset;\"> </span><span style=\"color: Reset;background-color: Reset;\"> </span><span style=\"color: Reset;background-color: Reset;\"> </span><span style=\"color: Reset;background-color: Reset;\"> </span><span style=\"color: Reset;background-color: Reset;\"> </span><span style=\"color: Reset;background-color: Reset;\"> </span><span style=\"color: Reset;background-color: Reset;\"> </span><span style=\"color: Reset;background-color: Reset;\"> </span><span style=\"color: Reset;background-color: Reset;\"> </span><span style=\"color: Reset;background-color: Reset;\"> </span><span style=\"color: Reset;background-color: Reset;\"> </span><span style=\"color: Reset;background-color: Reset;\"> </span><span style=\"color: Reset;background-color: Reset;\"> </span><span style=\"color: Reset;background-color: Reset;\"> </span><span style=\"color: Reset;background-color: Reset;\"> </span><span style=\"color: Reset;background-color: Reset;\"> </span><span style=\"color: Reset;background-color: Reset;\"> </span><span style=\"color: Reset;background-color: Reset;\"> </span><span style=\"color: Reset;background-color: Reset;\"> </span><span style=\"color: Reset;background-color: Reset;\"> </span><span style=\"color: Reset;background-color: Reset;\"> </span><span style=\"color: Reset;background-color: Reset;\"> </span><span style=\"color: Reset;background-color: Reset;\"> </span><span style=\"color: Reset;background-color: Reset;\"> </span><span style=\"color: Reset;background-color: Reset;\"> </span><span style=\"color: Reset;background-color: Reset;\"> </span><span style=\"color: Reset;background-color: Reset;\"> </span><span style=\"color: Reset;background-color: Reset;\"> </span><span style=\"color: Reset;background-color: Reset;\"> </span><span style=\"color: Reset;background-color: Reset;\"> </span><span style=\"color: Reset;background-color: Reset;\"> </span><span style=\"color: Reset;background-color: Reset;\"> </span><span style=\"color: Reset;background-color: Reset;\"> </span><span style=\"color: Reset;background-color: Reset;\"> </span><span style=\"color: Reset;background-color: Reset;\"> </span><span style=\"color: Reset;background-color: Reset;\"> </span><span style=\"color: Reset;background-color: Reset;\"> </span><span style=\"color: Reset;background-color: Reset;\"> </span><span style=\"color: Reset;background-color: Reset;\"> </span><span style=\"color: Reset;background-color: Reset;\"> </span><span style=\"color: Reset;background-color: Reset;\"> </span><span style=\"color: Reset;background-color: Reset;\"> </span><span style=\"color: Reset;background-color: Reset;\"> </span><span style=\"color: Reset;background-color: Reset;\"> </span><span style=\"color: Reset;background-color: Reset;\"> </span><span style=\"color: Reset;background-color: Reset;\"> </span><span style=\"color: Reset;background-color: Reset;\"> </span><span style=\"color: Reset;background-color: Reset;\"> </span><span style=\"color: Reset;background-color: Reset;\"> </span><span style=\"color: Reset;background-color: Reset;\"> </span><span style=\"color: Reset;background-color: Reset;\"> </span><span style=\"color: Reset;background-color: Reset;\"> </span><span style=\"color: Reset;background-color: Reset;\"> </span><span style=\"color: Reset;background-color: Reset;\"> </span><span style=\"color: Reset;background-color: Reset;\"> </span><span style=\"color: Reset;background-color: Reset;\"> </span><span style=\"color: Reset;background-color: Reset;\"> </span><span style=\"color: Reset;background-color: Reset;\"> </span><span style=\"color: Reset;background-color: Reset;\"> </span><span style=\"color: Reset;background-color: Reset;\"> </span><span style=\"color: Reset;background-color: Reset;\"> </span><span style=\"color: Reset;background-color: Reset;\"> </span><span style=\"color: Reset;background-color: Reset;\"> </span><span style=\"color: Reset;background-color: Reset;\"> </span><span style=\"color: Reset;background-color: Reset;\"> </span><span style=\"color: Reset;background-color: Reset;\"> </span><span style=\"color: Reset;background-color: Reset;\"> </span><span style=\"color: Reset;background-color: Reset;\"> </span><span style=\"color: Reset;background-color: Reset;\">│</span>\n",
       "<span style=\"color: Reset;background-color: Reset;\">│</span><span style=\"color: Reset;background-color: Reset;\"> </span><span style=\"color: Reset;background-color: Reset;\"> </span><span style=\"color: Reset;background-color: Reset;\"> </span><span style=\"color: Reset;background-color: Reset;\"> </span><span style=\"color: Reset;background-color: Reset;\"> </span><span style=\"color: Reset;background-color: Reset;\"> </span><span style=\"color: Reset;background-color: Reset;\"> </span><span style=\"color: Reset;background-color: Reset;\"> </span><span style=\"color: Reset;background-color: Reset;\"> </span><span style=\"color: Reset;background-color: Reset;\"> </span><span style=\"color: Reset;background-color: Reset;\"> </span><span style=\"color: Reset;background-color: Reset;\"> </span><span style=\"color: Reset;background-color: Reset;\"> </span><span style=\"color: Reset;background-color: Reset;\"> </span><span style=\"color: Reset;background-color: Reset;\">T</span><span style=\"color: Reset;background-color: Reset;\">h</span><span style=\"color: Reset;background-color: Reset;\">e</span><span style=\"color: Reset;background-color: Reset;\"> </span><span style=\"color: Reset;background-color: Reset;\">q</span><span style=\"color: Reset;background-color: Reset;\">u</span><span style=\"color: Reset;background-color: Reset;\">i</span><span style=\"color: Reset;background-color: Reset;\">c</span><span style=\"color: Reset;background-color: Reset;\">k</span><span style=\"color: Reset;background-color: Reset;\"> </span><span style=\"color: Reset;background-color: Reset;\">b</span><span style=\"color: Reset;background-color: Reset;\">r</span><span style=\"color: Reset;background-color: Reset;\">o</span><span style=\"color: Reset;background-color: Reset;\">w</span><span style=\"color: Reset;background-color: Reset;\">n</span><span style=\"color: Reset;background-color: Reset;\"> </span><span style=\"color: Reset;background-color: Reset;\">f</span><span style=\"color: Reset;background-color: Reset;\">o</span><span style=\"color: Reset;background-color: Reset;\">x</span><span style=\"color: Reset;background-color: Reset;\"> </span><span style=\"color: Reset;background-color: Reset;\">j</span><span style=\"color: Reset;background-color: Reset;\">u</span><span style=\"color: Reset;background-color: Reset;\">m</span><span style=\"color: Reset;background-color: Reset;\">p</span><span style=\"color: Reset;background-color: Reset;\">s</span><span style=\"color: Reset;background-color: Reset;\"> </span><span style=\"color: Reset;background-color: Reset;\">o</span><span style=\"color: Reset;background-color: Reset;\">v</span><span style=\"color: Reset;background-color: Reset;\">e</span><span style=\"color: Reset;background-color: Reset;\">r</span><span style=\"color: Reset;background-color: Reset;\"> </span><span style=\"color: Reset;background-color: Reset;\">t</span><span style=\"color: Reset;background-color: Reset;\">h</span><span style=\"color: Reset;background-color: Reset;\">e</span><span style=\"color: Reset;background-color: Reset;\"> </span><span style=\"color: Reset;background-color: Reset;\">l</span><span style=\"color: Reset;background-color: Reset;\">a</span><span style=\"color: Reset;background-color: Reset;\">z</span><span style=\"color: Reset;background-color: Reset;\">y</span><span style=\"color: Reset;background-color: Reset;\"> </span><span style=\"color: Reset;background-color: Reset;\">d</span><span style=\"color: Reset;background-color: Reset;\">o</span><span style=\"color: Reset;background-color: Reset;\">g</span><span style=\"color: Reset;background-color: Reset;\">.</span><span style=\"color: Reset;background-color: Reset;\"> </span><span style=\"color: Reset;background-color: Reset;\"> </span><span style=\"color: Reset;background-color: Reset;\"> </span><span style=\"color: Reset;background-color: Reset;\"> </span><span style=\"color: Reset;background-color: Reset;\"> </span><span style=\"color: Reset;background-color: Reset;\"> </span><span style=\"color: Reset;background-color: Reset;\"> </span><span style=\"color: Reset;background-color: Reset;\"> </span><span style=\"color: Reset;background-color: Reset;\"> </span><span style=\"color: Reset;background-color: Reset;\"> </span><span style=\"color: Reset;background-color: Reset;\"> </span><span style=\"color: Reset;background-color: Reset;\"> </span><span style=\"color: Reset;background-color: Reset;\"> </span><span style=\"color: Reset;background-color: Reset;\"> </span><span style=\"color: Reset;background-color: Reset;\"> </span><span style=\"color: Reset;background-color: Reset;\"> </span><span style=\"color: Reset;background-color: Reset;\"> </span><span style=\"color: Reset;background-color: Reset;\"> </span><span style=\"color: Reset;background-color: Reset;\"> </span><span style=\"color: Reset;background-color: Reset;\"> </span><span style=\"color: Reset;background-color: Reset;\">│</span>\n",
       "<span style=\"color: Reset;background-color: Reset;\">│</span><span style=\"color: Reset;background-color: Reset;\"> </span><span style=\"color: Reset;background-color: Reset;\"> </span><span style=\"color: Reset;background-color: Reset;\"> </span><span style=\"color: Reset;background-color: Reset;\"> </span><span style=\"color: Reset;background-color: Reset;\"> </span><span style=\"color: Reset;background-color: Reset;\"> </span><span style=\"color: Reset;background-color: Reset;\"> </span><span style=\"color: Reset;background-color: Reset;\"> </span><span style=\"color: Reset;background-color: Reset;\"> </span><span style=\"color: Reset;background-color: Reset;\"> </span><span style=\"color: Reset;background-color: Reset;\"> </span><span style=\"color: Reset;background-color: Reset;\"> </span><span style=\"color: Reset;background-color: Reset;\"> </span><span style=\"color: Reset;background-color: Reset;\"> </span><span style=\"color: Reset;background-color: Reset;\"> </span><span style=\"color: Reset;background-color: Reset;\"> </span><span style=\"color: Reset;background-color: Reset;\"> </span><span style=\"color: Reset;background-color: Reset;\"> </span><span style=\"color: Reset;background-color: Reset;\"> </span><span style=\"color: Reset;background-color: Reset;\"> </span><span style=\"color: Reset;background-color: Reset;\"> </span><span style=\"color: Reset;background-color: Reset;\"> </span><span style=\"color: Reset;background-color: Reset;\"> </span><span style=\"color: Reset;background-color: Reset;\"> </span><span style=\"color: Reset;background-color: Reset;\"> </span><span style=\"color: Reset;background-color: Reset;\"> </span><span style=\"color: Reset;background-color: Reset;\"> </span><span style=\"color: Reset;background-color: Reset;\"> </span><span style=\"color: Reset;background-color: Reset;\"> </span><span style=\"color: Reset;background-color: Reset;\"> </span><span style=\"color: Reset;background-color: Reset;\"> </span><span style=\"color: Reset;background-color: Reset;\"> </span><span style=\"color: Reset;background-color: Reset;\"> </span><span style=\"color: Reset;background-color: Reset;\"> </span><span style=\"color: Reset;background-color: Reset;\"> </span><span style=\"color: Reset;background-color: Reset;\"> </span><span style=\"color: Reset;background-color: Reset;\"> </span><span style=\"color: Reset;background-color: Reset;\"> </span><span style=\"color: Reset;background-color: Reset;\"> </span><span style=\"color: Reset;background-color: Reset;\"> </span><span style=\"color: Reset;background-color: Reset;\"> </span><span style=\"color: Reset;background-color: Reset;\"> </span><span style=\"color: Reset;background-color: Reset;\"> </span><span style=\"color: Reset;background-color: Reset;\"> </span><span style=\"color: Reset;background-color: Reset;\"> </span><span style=\"color: Reset;background-color: Reset;\"> </span><span style=\"color: Reset;background-color: Reset;\"> </span><span style=\"color: Reset;background-color: Reset;\"> </span><span style=\"color: Reset;background-color: Reset;\"> </span><span style=\"color: Reset;background-color: Reset;\"> </span><span style=\"color: Reset;background-color: Reset;\"> </span><span style=\"color: Reset;background-color: Reset;\"> </span><span style=\"color: Reset;background-color: Reset;\"> </span><span style=\"color: Reset;background-color: Reset;\"> </span><span style=\"color: Reset;background-color: Reset;\"> </span><span style=\"color: Reset;background-color: Reset;\"> </span><span style=\"color: Reset;background-color: Reset;\"> </span><span style=\"color: Reset;background-color: Reset;\"> </span><span style=\"color: Reset;background-color: Reset;\"> </span><span style=\"color: Reset;background-color: Reset;\"> </span><span style=\"color: Reset;background-color: Reset;\"> </span><span style=\"color: Reset;background-color: Reset;\"> </span><span style=\"color: Reset;background-color: Reset;\"> </span><span style=\"color: Reset;background-color: Reset;\"> </span><span style=\"color: Reset;background-color: Reset;\"> </span><span style=\"color: Reset;background-color: Reset;\"> </span><span style=\"color: Reset;background-color: Reset;\"> </span><span style=\"color: Reset;background-color: Reset;\"> </span><span style=\"color: Reset;background-color: Reset;\"> </span><span style=\"color: Reset;background-color: Reset;\"> </span><span style=\"color: Reset;background-color: Reset;\"> </span><span style=\"color: Reset;background-color: Reset;\"> </span><span style=\"color: Reset;background-color: Reset;\"> </span><span style=\"color: Reset;background-color: Reset;\"> </span><span style=\"color: Reset;background-color: Reset;\"> </span><span style=\"color: Reset;background-color: Reset;\"> </span><span style=\"color: Reset;background-color: Reset;\"> </span><span style=\"color: Reset;background-color: Reset;\"> </span><span style=\"color: Reset;background-color: Reset;\">│</span>\n",
       "<span style=\"color: Reset;background-color: Reset;\">└</span><span style=\"color: Reset;background-color: Reset;\">─</span><span style=\"color: Reset;background-color: Reset;\">─</span><span style=\"color: Reset;background-color: Reset;\">─</span><span style=\"color: Reset;background-color: Reset;\">─</span><span style=\"color: Reset;background-color: Reset;\">─</span><span style=\"color: Reset;background-color: Reset;\">─</span><span style=\"color: Reset;background-color: Reset;\">─</span><span style=\"color: Reset;background-color: Reset;\">─</span><span style=\"color: Reset;background-color: Reset;\">─</span><span style=\"color: Reset;background-color: Reset;\">─</span><span style=\"color: Reset;background-color: Reset;\">─</span><span style=\"color: Reset;background-color: Reset;\">─</span><span style=\"color: Reset;background-color: Reset;\">─</span><span style=\"color: Reset;background-color: Reset;\">─</span><span style=\"color: Reset;background-color: Reset;\">─</span><span style=\"color: Reset;background-color: Reset;\">─</span><span style=\"color: Reset;background-color: Reset;\">─</span><span style=\"color: Reset;background-color: Reset;\">─</span><span style=\"color: Reset;background-color: Reset;\">─</span><span style=\"color: Reset;background-color: Reset;\">─</span><span style=\"color: Reset;background-color: Reset;\">─</span><span style=\"color: Reset;background-color: Reset;\">─</span><span style=\"color: Reset;background-color: Reset;\">─</span><span style=\"color: Reset;background-color: Reset;\">─</span><span style=\"color: Reset;background-color: Reset;\">─</span><span style=\"color: Reset;background-color: Reset;\">─</span><span style=\"color: Reset;background-color: Reset;\">─</span><span style=\"color: Reset;background-color: Reset;\">─</span><span style=\"color: Reset;background-color: Reset;\">─</span><span style=\"color: Reset;background-color: Reset;\">─</span><span style=\"color: Reset;background-color: Reset;\">─</span><span style=\"color: Reset;background-color: Reset;\">─</span><span style=\"color: Reset;background-color: Reset;\">─</span><span style=\"color: Reset;background-color: Reset;\">─</span><span style=\"color: Reset;background-color: Reset;\">─</span><span style=\"color: Reset;background-color: Reset;\">─</span><span style=\"color: Reset;background-color: Reset;\">─</span><span style=\"color: Reset;background-color: Reset;\">─</span><span style=\"color: Reset;background-color: Reset;\">─</span><span style=\"color: Reset;background-color: Reset;\">─</span><span style=\"color: Reset;background-color: Reset;\">─</span><span style=\"color: Reset;background-color: Reset;\">─</span><span style=\"color: Reset;background-color: Reset;\">─</span><span style=\"color: Reset;background-color: Reset;\">─</span><span style=\"color: Reset;background-color: Reset;\">─</span><span style=\"color: Reset;background-color: Reset;\">─</span><span style=\"color: Reset;background-color: Reset;\">─</span><span style=\"color: Reset;background-color: Reset;\">─</span><span style=\"color: Reset;background-color: Reset;\">─</span><span style=\"color: Reset;background-color: Reset;\">─</span><span style=\"color: Reset;background-color: Reset;\">─</span><span style=\"color: Reset;background-color: Reset;\">─</span><span style=\"color: Reset;background-color: Reset;\">─</span><span style=\"color: Reset;background-color: Reset;\">─</span><span style=\"color: Reset;background-color: Reset;\">─</span><span style=\"color: Reset;background-color: Reset;\">─</span><span style=\"color: Reset;background-color: Reset;\">─</span><span style=\"color: Reset;background-color: Reset;\">─</span><span style=\"color: Reset;background-color: Reset;\">─</span><span style=\"color: Reset;background-color: Reset;\">─</span><span style=\"color: Reset;background-color: Reset;\">─</span><span style=\"color: Reset;background-color: Reset;\">─</span><span style=\"color: Reset;background-color: Reset;\">─</span><span style=\"color: Reset;background-color: Reset;\">─</span><span style=\"color: Reset;background-color: Reset;\">─</span><span style=\"color: Reset;background-color: Reset;\">─</span><span style=\"color: Reset;background-color: Reset;\">─</span><span style=\"color: Reset;background-color: Reset;\">─</span><span style=\"color: Reset;background-color: Reset;\">─</span><span style=\"color: Reset;background-color: Reset;\">─</span><span style=\"color: Reset;background-color: Reset;\">─</span><span style=\"color: Reset;background-color: Reset;\">─</span><span style=\"color: Reset;background-color: Reset;\">─</span><span style=\"color: Reset;background-color: Reset;\">─</span><span style=\"color: Reset;background-color: Reset;\">─</span><span style=\"color: Reset;background-color: Reset;\">─</span><span style=\"color: Reset;background-color: Reset;\">─</span><span style=\"color: Reset;background-color: Reset;\">─</span><span style=\"color: Reset;background-color: Reset;\">┘</span>\n",
       "</code></pre>\n",
       "</div>"
      ]
     },
     "execution_count": 24,
     "metadata": {},
     "output_type": "execute_result"
    }
   ],
   "source": [
    "\n",
    "let backend = ratatui::backend::TestBackend::new(80, 5);\n",
    "let mut terminal = ratatui::terminal::Terminal::new(backend).unwrap();\n",
    "terminal.draw(|frame| {\n",
    "    let area = frame.size();\n",
    "    let mut buffer = frame.buffer_mut();\n",
    "\n",
    "    ratatui::widgets::Block::bordered().render(area, &mut buffer);\n",
    "\n",
    "    let x = 15;\n",
    "    let y = 2;\n",
    "    let string = \"The quick brown fox jumps over the lazy dog.\";\n",
    "    let style = ratatui::style::Style::default();\n",
    "    buffer.set_string(x, y, string, style);\n",
    "    \n",
    "    show_html(buffer_to_html(buffer));\n",
    "});"
   ]
  },
  {
   "cell_type": "markdown",
   "id": "bfa496f6-656f-4d74-83fc-825c7bbfb45b",
   "metadata": {},
   "source": [
    "## Widget"
   ]
  },
  {
   "cell_type": "markdown",
   "id": "2f4dae9a-993c-46bc-b793-f605cac2dd82",
   "metadata": {},
   "source": [
    "The `Widget` trait in ratatui allows you to define what you want to draw to a `Buffer`:"
   ]
  },
  {
   "cell_type": "code",
   "execution_count": 29,
   "id": "f60e3fbc-c37c-47b2-9655-a42d8f690c37",
   "metadata": {
    "execution": {
     "iopub.execute_input": "2024-05-23T05:11:16.849462+00:00",
     "iopub.status.busy": "2024-05-23T05:11:16.849313+00:00",
     "iopub.status.idle": "2024-05-23T05:11:16.849431+00:00",
     "shell.execute_reply": "2024-05-23T05:11:17.368392+00:00"
    }
   },
   "outputs": [],
   "source": [
    "struct MyCustomWidget {\n",
    "    counter: usize\n",
    "}\n",
    "\n",
    "impl Widget for MyCustomWidget {\n",
    "\n",
    "    fn render(self, area: ratatui::prelude::Rect, buf: &mut ratatui::prelude::Buffer) {\n",
    "            let x = 15;\n",
    "            let y = 2;\n",
    "            let string = format!(\"The quick brown fox jumps over the lazy dog - {}\", self.counter);\n",
    "            let style = ratatui::style::Style::default();\n",
    "            buf.set_string(x, y, string, style);\n",
    "    }\n",
    "    \n",
    "}"
   ]
  },
  {
   "cell_type": "code",
   "execution_count": 31,
   "id": "4d04bc52-7284-4b89-ad6e-344c6879a590",
   "metadata": {
    "execution": {
     "iopub.execute_input": "2024-05-23T05:11:39.618073+00:00",
     "iopub.status.busy": "2024-05-23T05:11:39.618007+00:00",
     "iopub.status.idle": "2024-05-23T05:11:39.618060+00:00",
     "shell.execute_reply": "2024-05-23T05:11:40.190853+00:00"
    }
   },
   "outputs": [
    {
     "data": {
      "text/html": [
       "<div style=\"display: flex; justify-content:start; gap: 1em; margin: 1em\">\n",
       "<pre><code><span style=\"color: Reset;background-color: Reset;\">┌</span><span style=\"color: Reset;background-color: Reset;\">─</span><span style=\"color: Reset;background-color: Reset;\">─</span><span style=\"color: Reset;background-color: Reset;\">─</span><span style=\"color: Reset;background-color: Reset;\">─</span><span style=\"color: Reset;background-color: Reset;\">─</span><span style=\"color: Reset;background-color: Reset;\">─</span><span style=\"color: Reset;background-color: Reset;\">─</span><span style=\"color: Reset;background-color: Reset;\">─</span><span style=\"color: Reset;background-color: Reset;\">─</span><span style=\"color: Reset;background-color: Reset;\">─</span><span style=\"color: Reset;background-color: Reset;\">─</span><span style=\"color: Reset;background-color: Reset;\">─</span><span style=\"color: Reset;background-color: Reset;\">─</span><span style=\"color: Reset;background-color: Reset;\">─</span><span style=\"color: Reset;background-color: Reset;\">─</span><span style=\"color: Reset;background-color: Reset;\">─</span><span style=\"color: Reset;background-color: Reset;\">─</span><span style=\"color: Reset;background-color: Reset;\">─</span><span style=\"color: Reset;background-color: Reset;\">─</span><span style=\"color: Reset;background-color: Reset;\">─</span><span style=\"color: Reset;background-color: Reset;\">─</span><span style=\"color: Reset;background-color: Reset;\">─</span><span style=\"color: Reset;background-color: Reset;\">─</span><span style=\"color: Reset;background-color: Reset;\">─</span><span style=\"color: Reset;background-color: Reset;\">─</span><span style=\"color: Reset;background-color: Reset;\">─</span><span style=\"color: Reset;background-color: Reset;\">─</span><span style=\"color: Reset;background-color: Reset;\">─</span><span style=\"color: Reset;background-color: Reset;\">─</span><span style=\"color: Reset;background-color: Reset;\">─</span><span style=\"color: Reset;background-color: Reset;\">─</span><span style=\"color: Reset;background-color: Reset;\">─</span><span style=\"color: Reset;background-color: Reset;\">─</span><span style=\"color: Reset;background-color: Reset;\">─</span><span style=\"color: Reset;background-color: Reset;\">─</span><span style=\"color: Reset;background-color: Reset;\">─</span><span style=\"color: Reset;background-color: Reset;\">─</span><span style=\"color: Reset;background-color: Reset;\">─</span><span style=\"color: Reset;background-color: Reset;\">─</span><span style=\"color: Reset;background-color: Reset;\">─</span><span style=\"color: Reset;background-color: Reset;\">─</span><span style=\"color: Reset;background-color: Reset;\">─</span><span style=\"color: Reset;background-color: Reset;\">─</span><span style=\"color: Reset;background-color: Reset;\">─</span><span style=\"color: Reset;background-color: Reset;\">─</span><span style=\"color: Reset;background-color: Reset;\">─</span><span style=\"color: Reset;background-color: Reset;\">─</span><span style=\"color: Reset;background-color: Reset;\">─</span><span style=\"color: Reset;background-color: Reset;\">─</span><span style=\"color: Reset;background-color: Reset;\">─</span><span style=\"color: Reset;background-color: Reset;\">─</span><span style=\"color: Reset;background-color: Reset;\">─</span><span style=\"color: Reset;background-color: Reset;\">─</span><span style=\"color: Reset;background-color: Reset;\">─</span><span style=\"color: Reset;background-color: Reset;\">─</span><span style=\"color: Reset;background-color: Reset;\">─</span><span style=\"color: Reset;background-color: Reset;\">─</span><span style=\"color: Reset;background-color: Reset;\">─</span><span style=\"color: Reset;background-color: Reset;\">─</span><span style=\"color: Reset;background-color: Reset;\">─</span><span style=\"color: Reset;background-color: Reset;\">─</span><span style=\"color: Reset;background-color: Reset;\">─</span><span style=\"color: Reset;background-color: Reset;\">─</span><span style=\"color: Reset;background-color: Reset;\">─</span><span style=\"color: Reset;background-color: Reset;\">─</span><span style=\"color: Reset;background-color: Reset;\">─</span><span style=\"color: Reset;background-color: Reset;\">─</span><span style=\"color: Reset;background-color: Reset;\">─</span><span style=\"color: Reset;background-color: Reset;\">─</span><span style=\"color: Reset;background-color: Reset;\">─</span><span style=\"color: Reset;background-color: Reset;\">─</span><span style=\"color: Reset;background-color: Reset;\">─</span><span style=\"color: Reset;background-color: Reset;\">─</span><span style=\"color: Reset;background-color: Reset;\">─</span><span style=\"color: Reset;background-color: Reset;\">─</span><span style=\"color: Reset;background-color: Reset;\">─</span><span style=\"color: Reset;background-color: Reset;\">─</span><span style=\"color: Reset;background-color: Reset;\">─</span><span style=\"color: Reset;background-color: Reset;\">┐</span>\n",
       "<span style=\"color: Reset;background-color: Reset;\">│</span><span style=\"color: Reset;background-color: Reset;\"> </span><span style=\"color: Reset;background-color: Reset;\"> </span><span style=\"color: Reset;background-color: Reset;\"> </span><span style=\"color: Reset;background-color: Reset;\"> </span><span style=\"color: Reset;background-color: Reset;\"> </span><span style=\"color: Reset;background-color: Reset;\"> </span><span style=\"color: Reset;background-color: Reset;\"> </span><span style=\"color: Reset;background-color: Reset;\"> </span><span style=\"color: Reset;background-color: Reset;\"> </span><span style=\"color: Reset;background-color: Reset;\"> </span><span style=\"color: Reset;background-color: Reset;\"> </span><span style=\"color: Reset;background-color: Reset;\"> </span><span style=\"color: Reset;background-color: Reset;\"> </span><span style=\"color: Reset;background-color: Reset;\"> </span><span style=\"color: Reset;background-color: Reset;\"> </span><span style=\"color: Reset;background-color: Reset;\"> </span><span style=\"color: Reset;background-color: Reset;\"> </span><span style=\"color: Reset;background-color: Reset;\"> </span><span style=\"color: Reset;background-color: Reset;\"> </span><span style=\"color: Reset;background-color: Reset;\"> </span><span style=\"color: Reset;background-color: Reset;\"> </span><span style=\"color: Reset;background-color: Reset;\"> </span><span style=\"color: Reset;background-color: Reset;\"> </span><span style=\"color: Reset;background-color: Reset;\"> </span><span style=\"color: Reset;background-color: Reset;\"> </span><span style=\"color: Reset;background-color: Reset;\"> </span><span style=\"color: Reset;background-color: Reset;\"> </span><span style=\"color: Reset;background-color: Reset;\"> </span><span style=\"color: Reset;background-color: Reset;\"> </span><span style=\"color: Reset;background-color: Reset;\"> </span><span style=\"color: Reset;background-color: Reset;\"> </span><span style=\"color: Reset;background-color: Reset;\"> </span><span style=\"color: Reset;background-color: Reset;\"> </span><span style=\"color: Reset;background-color: Reset;\"> </span><span style=\"color: Reset;background-color: Reset;\"> </span><span style=\"color: Reset;background-color: Reset;\"> </span><span style=\"color: Reset;background-color: Reset;\"> </span><span style=\"color: Reset;background-color: Reset;\"> </span><span style=\"color: Reset;background-color: Reset;\"> </span><span style=\"color: Reset;background-color: Reset;\"> </span><span style=\"color: Reset;background-color: Reset;\"> </span><span style=\"color: Reset;background-color: Reset;\"> </span><span style=\"color: Reset;background-color: Reset;\"> </span><span style=\"color: Reset;background-color: Reset;\"> </span><span style=\"color: Reset;background-color: Reset;\"> </span><span style=\"color: Reset;background-color: Reset;\"> </span><span style=\"color: Reset;background-color: Reset;\"> </span><span style=\"color: Reset;background-color: Reset;\"> </span><span style=\"color: Reset;background-color: Reset;\"> </span><span style=\"color: Reset;background-color: Reset;\"> </span><span style=\"color: Reset;background-color: Reset;\"> </span><span style=\"color: Reset;background-color: Reset;\"> </span><span style=\"color: Reset;background-color: Reset;\"> </span><span style=\"color: Reset;background-color: Reset;\"> </span><span style=\"color: Reset;background-color: Reset;\"> </span><span style=\"color: Reset;background-color: Reset;\"> </span><span style=\"color: Reset;background-color: Reset;\"> </span><span style=\"color: Reset;background-color: Reset;\"> </span><span style=\"color: Reset;background-color: Reset;\"> </span><span style=\"color: Reset;background-color: Reset;\"> </span><span style=\"color: Reset;background-color: Reset;\"> </span><span style=\"color: Reset;background-color: Reset;\"> </span><span style=\"color: Reset;background-color: Reset;\"> </span><span style=\"color: Reset;background-color: Reset;\"> </span><span style=\"color: Reset;background-color: Reset;\"> </span><span style=\"color: Reset;background-color: Reset;\"> </span><span style=\"color: Reset;background-color: Reset;\"> </span><span style=\"color: Reset;background-color: Reset;\"> </span><span style=\"color: Reset;background-color: Reset;\"> </span><span style=\"color: Reset;background-color: Reset;\"> </span><span style=\"color: Reset;background-color: Reset;\"> </span><span style=\"color: Reset;background-color: Reset;\"> </span><span style=\"color: Reset;background-color: Reset;\"> </span><span style=\"color: Reset;background-color: Reset;\"> </span><span style=\"color: Reset;background-color: Reset;\"> </span><span style=\"color: Reset;background-color: Reset;\"> </span><span style=\"color: Reset;background-color: Reset;\"> </span><span style=\"color: Reset;background-color: Reset;\"> </span><span style=\"color: Reset;background-color: Reset;\">│</span>\n",
       "<span style=\"color: Reset;background-color: Reset;\">│</span><span style=\"color: Reset;background-color: Reset;\"> </span><span style=\"color: Reset;background-color: Reset;\"> </span><span style=\"color: Reset;background-color: Reset;\"> </span><span style=\"color: Reset;background-color: Reset;\"> </span><span style=\"color: Reset;background-color: Reset;\"> </span><span style=\"color: Reset;background-color: Reset;\"> </span><span style=\"color: Reset;background-color: Reset;\"> </span><span style=\"color: Reset;background-color: Reset;\"> </span><span style=\"color: Reset;background-color: Reset;\"> </span><span style=\"color: Reset;background-color: Reset;\"> </span><span style=\"color: Reset;background-color: Reset;\"> </span><span style=\"color: Reset;background-color: Reset;\"> </span><span style=\"color: Reset;background-color: Reset;\"> </span><span style=\"color: Reset;background-color: Reset;\"> </span><span style=\"color: Reset;background-color: Reset;\">T</span><span style=\"color: Reset;background-color: Reset;\">h</span><span style=\"color: Reset;background-color: Reset;\">e</span><span style=\"color: Reset;background-color: Reset;\"> </span><span style=\"color: Reset;background-color: Reset;\">q</span><span style=\"color: Reset;background-color: Reset;\">u</span><span style=\"color: Reset;background-color: Reset;\">i</span><span style=\"color: Reset;background-color: Reset;\">c</span><span style=\"color: Reset;background-color: Reset;\">k</span><span style=\"color: Reset;background-color: Reset;\"> </span><span style=\"color: Reset;background-color: Reset;\">b</span><span style=\"color: Reset;background-color: Reset;\">r</span><span style=\"color: Reset;background-color: Reset;\">o</span><span style=\"color: Reset;background-color: Reset;\">w</span><span style=\"color: Reset;background-color: Reset;\">n</span><span style=\"color: Reset;background-color: Reset;\"> </span><span style=\"color: Reset;background-color: Reset;\">f</span><span style=\"color: Reset;background-color: Reset;\">o</span><span style=\"color: Reset;background-color: Reset;\">x</span><span style=\"color: Reset;background-color: Reset;\"> </span><span style=\"color: Reset;background-color: Reset;\">j</span><span style=\"color: Reset;background-color: Reset;\">u</span><span style=\"color: Reset;background-color: Reset;\">m</span><span style=\"color: Reset;background-color: Reset;\">p</span><span style=\"color: Reset;background-color: Reset;\">s</span><span style=\"color: Reset;background-color: Reset;\"> </span><span style=\"color: Reset;background-color: Reset;\">o</span><span style=\"color: Reset;background-color: Reset;\">v</span><span style=\"color: Reset;background-color: Reset;\">e</span><span style=\"color: Reset;background-color: Reset;\">r</span><span style=\"color: Reset;background-color: Reset;\"> </span><span style=\"color: Reset;background-color: Reset;\">t</span><span style=\"color: Reset;background-color: Reset;\">h</span><span style=\"color: Reset;background-color: Reset;\">e</span><span style=\"color: Reset;background-color: Reset;\"> </span><span style=\"color: Reset;background-color: Reset;\">l</span><span style=\"color: Reset;background-color: Reset;\">a</span><span style=\"color: Reset;background-color: Reset;\">z</span><span style=\"color: Reset;background-color: Reset;\">y</span><span style=\"color: Reset;background-color: Reset;\"> </span><span style=\"color: Reset;background-color: Reset;\">d</span><span style=\"color: Reset;background-color: Reset;\">o</span><span style=\"color: Reset;background-color: Reset;\">g</span><span style=\"color: Reset;background-color: Reset;\"> </span><span style=\"color: Reset;background-color: Reset;\">-</span><span style=\"color: Reset;background-color: Reset;\"> </span><span style=\"color: Reset;background-color: Reset;\">2</span><span style=\"color: Reset;background-color: Reset;\"> </span><span style=\"color: Reset;background-color: Reset;\"> </span><span style=\"color: Reset;background-color: Reset;\"> </span><span style=\"color: Reset;background-color: Reset;\"> </span><span style=\"color: Reset;background-color: Reset;\"> </span><span style=\"color: Reset;background-color: Reset;\"> </span><span style=\"color: Reset;background-color: Reset;\"> </span><span style=\"color: Reset;background-color: Reset;\"> </span><span style=\"color: Reset;background-color: Reset;\"> </span><span style=\"color: Reset;background-color: Reset;\"> </span><span style=\"color: Reset;background-color: Reset;\"> </span><span style=\"color: Reset;background-color: Reset;\"> </span><span style=\"color: Reset;background-color: Reset;\"> </span><span style=\"color: Reset;background-color: Reset;\"> </span><span style=\"color: Reset;background-color: Reset;\"> </span><span style=\"color: Reset;background-color: Reset;\"> </span><span style=\"color: Reset;background-color: Reset;\"> </span><span style=\"color: Reset;background-color: Reset;\">│</span>\n",
       "<span style=\"color: Reset;background-color: Reset;\">│</span><span style=\"color: Reset;background-color: Reset;\"> </span><span style=\"color: Reset;background-color: Reset;\"> </span><span style=\"color: Reset;background-color: Reset;\"> </span><span style=\"color: Reset;background-color: Reset;\"> </span><span style=\"color: Reset;background-color: Reset;\"> </span><span style=\"color: Reset;background-color: Reset;\"> </span><span style=\"color: Reset;background-color: Reset;\"> </span><span style=\"color: Reset;background-color: Reset;\"> </span><span style=\"color: Reset;background-color: Reset;\"> </span><span style=\"color: Reset;background-color: Reset;\"> </span><span style=\"color: Reset;background-color: Reset;\"> </span><span style=\"color: Reset;background-color: Reset;\"> </span><span style=\"color: Reset;background-color: Reset;\"> </span><span style=\"color: Reset;background-color: Reset;\"> </span><span style=\"color: Reset;background-color: Reset;\"> </span><span style=\"color: Reset;background-color: Reset;\"> </span><span style=\"color: Reset;background-color: Reset;\"> </span><span style=\"color: Reset;background-color: Reset;\"> </span><span style=\"color: Reset;background-color: Reset;\"> </span><span style=\"color: Reset;background-color: Reset;\"> </span><span style=\"color: Reset;background-color: Reset;\"> </span><span style=\"color: Reset;background-color: Reset;\"> </span><span style=\"color: Reset;background-color: Reset;\"> </span><span style=\"color: Reset;background-color: Reset;\"> </span><span style=\"color: Reset;background-color: Reset;\"> </span><span style=\"color: Reset;background-color: Reset;\"> </span><span style=\"color: Reset;background-color: Reset;\"> </span><span style=\"color: Reset;background-color: Reset;\"> </span><span style=\"color: Reset;background-color: Reset;\"> </span><span style=\"color: Reset;background-color: Reset;\"> </span><span style=\"color: Reset;background-color: Reset;\"> </span><span style=\"color: Reset;background-color: Reset;\"> </span><span style=\"color: Reset;background-color: Reset;\"> </span><span style=\"color: Reset;background-color: Reset;\"> </span><span style=\"color: Reset;background-color: Reset;\"> </span><span style=\"color: Reset;background-color: Reset;\"> </span><span style=\"color: Reset;background-color: Reset;\"> </span><span style=\"color: Reset;background-color: Reset;\"> </span><span style=\"color: Reset;background-color: Reset;\"> </span><span style=\"color: Reset;background-color: Reset;\"> </span><span style=\"color: Reset;background-color: Reset;\"> </span><span style=\"color: Reset;background-color: Reset;\"> </span><span style=\"color: Reset;background-color: Reset;\"> </span><span style=\"color: Reset;background-color: Reset;\"> </span><span style=\"color: Reset;background-color: Reset;\"> </span><span style=\"color: Reset;background-color: Reset;\"> </span><span style=\"color: Reset;background-color: Reset;\"> </span><span style=\"color: Reset;background-color: Reset;\"> </span><span style=\"color: Reset;background-color: Reset;\"> </span><span style=\"color: Reset;background-color: Reset;\"> </span><span style=\"color: Reset;background-color: Reset;\"> </span><span style=\"color: Reset;background-color: Reset;\"> </span><span style=\"color: Reset;background-color: Reset;\"> </span><span style=\"color: Reset;background-color: Reset;\"> </span><span style=\"color: Reset;background-color: Reset;\"> </span><span style=\"color: Reset;background-color: Reset;\"> </span><span style=\"color: Reset;background-color: Reset;\"> </span><span style=\"color: Reset;background-color: Reset;\"> </span><span style=\"color: Reset;background-color: Reset;\"> </span><span style=\"color: Reset;background-color: Reset;\"> </span><span style=\"color: Reset;background-color: Reset;\"> </span><span style=\"color: Reset;background-color: Reset;\"> </span><span style=\"color: Reset;background-color: Reset;\"> </span><span style=\"color: Reset;background-color: Reset;\"> </span><span style=\"color: Reset;background-color: Reset;\"> </span><span style=\"color: Reset;background-color: Reset;\"> </span><span style=\"color: Reset;background-color: Reset;\"> </span><span style=\"color: Reset;background-color: Reset;\"> </span><span style=\"color: Reset;background-color: Reset;\"> </span><span style=\"color: Reset;background-color: Reset;\"> </span><span style=\"color: Reset;background-color: Reset;\"> </span><span style=\"color: Reset;background-color: Reset;\"> </span><span style=\"color: Reset;background-color: Reset;\"> </span><span style=\"color: Reset;background-color: Reset;\"> </span><span style=\"color: Reset;background-color: Reset;\"> </span><span style=\"color: Reset;background-color: Reset;\"> </span><span style=\"color: Reset;background-color: Reset;\"> </span><span style=\"color: Reset;background-color: Reset;\"> </span><span style=\"color: Reset;background-color: Reset;\">│</span>\n",
       "<span style=\"color: Reset;background-color: Reset;\">└</span><span style=\"color: Reset;background-color: Reset;\">─</span><span style=\"color: Reset;background-color: Reset;\">─</span><span style=\"color: Reset;background-color: Reset;\">─</span><span style=\"color: Reset;background-color: Reset;\">─</span><span style=\"color: Reset;background-color: Reset;\">─</span><span style=\"color: Reset;background-color: Reset;\">─</span><span style=\"color: Reset;background-color: Reset;\">─</span><span style=\"color: Reset;background-color: Reset;\">─</span><span style=\"color: Reset;background-color: Reset;\">─</span><span style=\"color: Reset;background-color: Reset;\">─</span><span style=\"color: Reset;background-color: Reset;\">─</span><span style=\"color: Reset;background-color: Reset;\">─</span><span style=\"color: Reset;background-color: Reset;\">─</span><span style=\"color: Reset;background-color: Reset;\">─</span><span style=\"color: Reset;background-color: Reset;\">─</span><span style=\"color: Reset;background-color: Reset;\">─</span><span style=\"color: Reset;background-color: Reset;\">─</span><span style=\"color: Reset;background-color: Reset;\">─</span><span style=\"color: Reset;background-color: Reset;\">─</span><span style=\"color: Reset;background-color: Reset;\">─</span><span style=\"color: Reset;background-color: Reset;\">─</span><span style=\"color: Reset;background-color: Reset;\">─</span><span style=\"color: Reset;background-color: Reset;\">─</span><span style=\"color: Reset;background-color: Reset;\">─</span><span style=\"color: Reset;background-color: Reset;\">─</span><span style=\"color: Reset;background-color: Reset;\">─</span><span style=\"color: Reset;background-color: Reset;\">─</span><span style=\"color: Reset;background-color: Reset;\">─</span><span style=\"color: Reset;background-color: Reset;\">─</span><span style=\"color: Reset;background-color: Reset;\">─</span><span style=\"color: Reset;background-color: Reset;\">─</span><span style=\"color: Reset;background-color: Reset;\">─</span><span style=\"color: Reset;background-color: Reset;\">─</span><span style=\"color: Reset;background-color: Reset;\">─</span><span style=\"color: Reset;background-color: Reset;\">─</span><span style=\"color: Reset;background-color: Reset;\">─</span><span style=\"color: Reset;background-color: Reset;\">─</span><span style=\"color: Reset;background-color: Reset;\">─</span><span style=\"color: Reset;background-color: Reset;\">─</span><span style=\"color: Reset;background-color: Reset;\">─</span><span style=\"color: Reset;background-color: Reset;\">─</span><span style=\"color: Reset;background-color: Reset;\">─</span><span style=\"color: Reset;background-color: Reset;\">─</span><span style=\"color: Reset;background-color: Reset;\">─</span><span style=\"color: Reset;background-color: Reset;\">─</span><span style=\"color: Reset;background-color: Reset;\">─</span><span style=\"color: Reset;background-color: Reset;\">─</span><span style=\"color: Reset;background-color: Reset;\">─</span><span style=\"color: Reset;background-color: Reset;\">─</span><span style=\"color: Reset;background-color: Reset;\">─</span><span style=\"color: Reset;background-color: Reset;\">─</span><span style=\"color: Reset;background-color: Reset;\">─</span><span style=\"color: Reset;background-color: Reset;\">─</span><span style=\"color: Reset;background-color: Reset;\">─</span><span style=\"color: Reset;background-color: Reset;\">─</span><span style=\"color: Reset;background-color: Reset;\">─</span><span style=\"color: Reset;background-color: Reset;\">─</span><span style=\"color: Reset;background-color: Reset;\">─</span><span style=\"color: Reset;background-color: Reset;\">─</span><span style=\"color: Reset;background-color: Reset;\">─</span><span style=\"color: Reset;background-color: Reset;\">─</span><span style=\"color: Reset;background-color: Reset;\">─</span><span style=\"color: Reset;background-color: Reset;\">─</span><span style=\"color: Reset;background-color: Reset;\">─</span><span style=\"color: Reset;background-color: Reset;\">─</span><span style=\"color: Reset;background-color: Reset;\">─</span><span style=\"color: Reset;background-color: Reset;\">─</span><span style=\"color: Reset;background-color: Reset;\">─</span><span style=\"color: Reset;background-color: Reset;\">─</span><span style=\"color: Reset;background-color: Reset;\">─</span><span style=\"color: Reset;background-color: Reset;\">─</span><span style=\"color: Reset;background-color: Reset;\">─</span><span style=\"color: Reset;background-color: Reset;\">─</span><span style=\"color: Reset;background-color: Reset;\">─</span><span style=\"color: Reset;background-color: Reset;\">─</span><span style=\"color: Reset;background-color: Reset;\">─</span><span style=\"color: Reset;background-color: Reset;\">─</span><span style=\"color: Reset;background-color: Reset;\">─</span><span style=\"color: Reset;background-color: Reset;\">┘</span>\n",
       "</code></pre>\n",
       "</div>"
      ]
     },
     "execution_count": 31,
     "metadata": {},
     "output_type": "execute_result"
    }
   ],
   "source": [
    "let backend = ratatui::backend::TestBackend::new(80, 5);\n",
    "let mut terminal = ratatui::terminal::Terminal::new(backend).unwrap();\n",
    "terminal.draw(|frame| {\n",
    "    let area = frame.size();\n",
    "    let mut buffer = frame.buffer_mut();\n",
    "\n",
    "    ratatui::widgets::Block::bordered().render(area, &mut buffer);\n",
    "\n",
    "    MyCustomWidget{ counter: 2 }.render(area, &mut buffer);\n",
    "    \n",
    "    show_html(buffer_to_html(buffer));\n",
    "});"
   ]
  },
  {
   "cell_type": "markdown",
   "id": "b5f4a764-93d8-436f-9ee9-e2890e9e1e38",
   "metadata": {},
   "source": [
    "Here's an example of filling the entire buffer with the symbol `▒`:"
   ]
  },
  {
   "cell_type": "code",
   "execution_count": 36,
   "id": "cf71d9bf-527b-45a3-bd00-723c8dbf10f2",
   "metadata": {
    "execution": {
     "iopub.execute_input": "2024-05-23T05:14:36.248824+00:00",
     "iopub.status.busy": "2024-05-23T05:14:36.248752+00:00",
     "iopub.status.idle": "2024-05-23T05:14:36.248811+00:00",
     "shell.execute_reply": "2024-05-23T05:14:36.539360+00:00"
    }
   },
   "outputs": [],
   "source": [
    "struct Hatcher;\n",
    "\n",
    "impl Widget for Hatcher {\n",
    "    fn render(self, area: ratatui::prelude::Rect, buf: &mut ratatui::prelude::Buffer) {\n",
    "        for x in area.left()..area.right() {\n",
    "            for y in area.top()..area.bottom() {\n",
    "                buf.set_string(x, y, \"▒\", ratatui::style::Style::default());\n",
    "            }\n",
    "        };\n",
    "    }\n",
    "    \n",
    "}"
   ]
  },
  {
   "cell_type": "markdown",
   "id": "43abd881-f755-4302-b2bc-a6b7a19fa986",
   "metadata": {},
   "source": [
    "Here's the output of a `Hatcher` being rendered:"
   ]
  },
  {
   "cell_type": "code",
   "execution_count": 40,
   "id": "4987f77b-ff71-405c-a389-0b74d9e2b351",
   "metadata": {
    "execution": {
     "iopub.execute_input": "2024-05-23T05:15:41.992199+00:00",
     "iopub.status.busy": "2024-05-23T05:15:41.992087+00:00",
     "iopub.status.idle": "2024-05-23T05:15:41.992176+00:00",
     "shell.execute_reply": "2024-05-23T05:15:42.576072+00:00"
    }
   },
   "outputs": [
    {
     "data": {
      "text/html": [
       "<div style=\"display: flex; justify-content:start; gap: 1em; margin: 1em\">\n",
       "<pre><code><span style=\"color: Reset;background-color: Reset;\">▒</span><span style=\"color: Reset;background-color: Reset;\">▒</span><span style=\"color: Reset;background-color: Reset;\">▒</span><span style=\"color: Reset;background-color: Reset;\">▒</span><span style=\"color: Reset;background-color: Reset;\">▒</span><span style=\"color: Reset;background-color: Reset;\">▒</span><span style=\"color: Reset;background-color: Reset;\">▒</span><span style=\"color: Reset;background-color: Reset;\">▒</span><span style=\"color: Reset;background-color: Reset;\">▒</span><span style=\"color: Reset;background-color: Reset;\">▒</span><span style=\"color: Reset;background-color: Reset;\">▒</span><span style=\"color: Reset;background-color: Reset;\">▒</span><span style=\"color: Reset;background-color: Reset;\">▒</span><span style=\"color: Reset;background-color: Reset;\">▒</span><span style=\"color: Reset;background-color: Reset;\">▒</span><span style=\"color: Reset;background-color: Reset;\">▒</span><span style=\"color: Reset;background-color: Reset;\">▒</span><span style=\"color: Reset;background-color: Reset;\">▒</span><span style=\"color: Reset;background-color: Reset;\">▒</span><span style=\"color: Reset;background-color: Reset;\">▒</span><span style=\"color: Reset;background-color: Reset;\">▒</span><span style=\"color: Reset;background-color: Reset;\">▒</span><span style=\"color: Reset;background-color: Reset;\">▒</span><span style=\"color: Reset;background-color: Reset;\">▒</span><span style=\"color: Reset;background-color: Reset;\">▒</span><span style=\"color: Reset;background-color: Reset;\">▒</span><span style=\"color: Reset;background-color: Reset;\">▒</span><span style=\"color: Reset;background-color: Reset;\">▒</span><span style=\"color: Reset;background-color: Reset;\">▒</span><span style=\"color: Reset;background-color: Reset;\">▒</span><span style=\"color: Reset;background-color: Reset;\">▒</span><span style=\"color: Reset;background-color: Reset;\">▒</span><span style=\"color: Reset;background-color: Reset;\">▒</span><span style=\"color: Reset;background-color: Reset;\">▒</span><span style=\"color: Reset;background-color: Reset;\">▒</span><span style=\"color: Reset;background-color: Reset;\">▒</span><span style=\"color: Reset;background-color: Reset;\">▒</span><span style=\"color: Reset;background-color: Reset;\">▒</span><span style=\"color: Reset;background-color: Reset;\">▒</span><span style=\"color: Reset;background-color: Reset;\">▒</span><span style=\"color: Reset;background-color: Reset;\">▒</span><span style=\"color: Reset;background-color: Reset;\">▒</span><span style=\"color: Reset;background-color: Reset;\">▒</span><span style=\"color: Reset;background-color: Reset;\">▒</span><span style=\"color: Reset;background-color: Reset;\">▒</span><span style=\"color: Reset;background-color: Reset;\">▒</span><span style=\"color: Reset;background-color: Reset;\">▒</span><span style=\"color: Reset;background-color: Reset;\">▒</span><span style=\"color: Reset;background-color: Reset;\">▒</span><span style=\"color: Reset;background-color: Reset;\">▒</span><span style=\"color: Reset;background-color: Reset;\">▒</span><span style=\"color: Reset;background-color: Reset;\">▒</span><span style=\"color: Reset;background-color: Reset;\">▒</span><span style=\"color: Reset;background-color: Reset;\">▒</span><span style=\"color: Reset;background-color: Reset;\">▒</span><span style=\"color: Reset;background-color: Reset;\">▒</span><span style=\"color: Reset;background-color: Reset;\">▒</span><span style=\"color: Reset;background-color: Reset;\">▒</span><span style=\"color: Reset;background-color: Reset;\">▒</span><span style=\"color: Reset;background-color: Reset;\">▒</span><span style=\"color: Reset;background-color: Reset;\">▒</span><span style=\"color: Reset;background-color: Reset;\">▒</span><span style=\"color: Reset;background-color: Reset;\">▒</span><span style=\"color: Reset;background-color: Reset;\">▒</span><span style=\"color: Reset;background-color: Reset;\">▒</span><span style=\"color: Reset;background-color: Reset;\">▒</span><span style=\"color: Reset;background-color: Reset;\">▒</span><span style=\"color: Reset;background-color: Reset;\">▒</span><span style=\"color: Reset;background-color: Reset;\">▒</span><span style=\"color: Reset;background-color: Reset;\">▒</span><span style=\"color: Reset;background-color: Reset;\">▒</span><span style=\"color: Reset;background-color: Reset;\">▒</span><span style=\"color: Reset;background-color: Reset;\">▒</span><span style=\"color: Reset;background-color: Reset;\">▒</span><span style=\"color: Reset;background-color: Reset;\">▒</span><span style=\"color: Reset;background-color: Reset;\">▒</span><span style=\"color: Reset;background-color: Reset;\">▒</span><span style=\"color: Reset;background-color: Reset;\">▒</span><span style=\"color: Reset;background-color: Reset;\">▒</span><span style=\"color: Reset;background-color: Reset;\">▒</span>\n",
       "<span style=\"color: Reset;background-color: Reset;\">▒</span><span style=\"color: Reset;background-color: Reset;\">▒</span><span style=\"color: Reset;background-color: Reset;\">▒</span><span style=\"color: Reset;background-color: Reset;\">▒</span><span style=\"color: Reset;background-color: Reset;\">▒</span><span style=\"color: Reset;background-color: Reset;\">▒</span><span style=\"color: Reset;background-color: Reset;\">▒</span><span style=\"color: Reset;background-color: Reset;\">▒</span><span style=\"color: Reset;background-color: Reset;\">▒</span><span style=\"color: Reset;background-color: Reset;\">▒</span><span style=\"color: Reset;background-color: Reset;\">▒</span><span style=\"color: Reset;background-color: Reset;\">▒</span><span style=\"color: Reset;background-color: Reset;\">▒</span><span style=\"color: Reset;background-color: Reset;\">▒</span><span style=\"color: Reset;background-color: Reset;\">▒</span><span style=\"color: Reset;background-color: Reset;\">▒</span><span style=\"color: Reset;background-color: Reset;\">▒</span><span style=\"color: Reset;background-color: Reset;\">▒</span><span style=\"color: Reset;background-color: Reset;\">▒</span><span style=\"color: Reset;background-color: Reset;\">▒</span><span style=\"color: Reset;background-color: Reset;\">▒</span><span style=\"color: Reset;background-color: Reset;\">▒</span><span style=\"color: Reset;background-color: Reset;\">▒</span><span style=\"color: Reset;background-color: Reset;\">▒</span><span style=\"color: Reset;background-color: Reset;\">▒</span><span style=\"color: Reset;background-color: Reset;\">▒</span><span style=\"color: Reset;background-color: Reset;\">▒</span><span style=\"color: Reset;background-color: Reset;\">▒</span><span style=\"color: Reset;background-color: Reset;\">▒</span><span style=\"color: Reset;background-color: Reset;\">▒</span><span style=\"color: Reset;background-color: Reset;\">▒</span><span style=\"color: Reset;background-color: Reset;\">▒</span><span style=\"color: Reset;background-color: Reset;\">▒</span><span style=\"color: Reset;background-color: Reset;\">▒</span><span style=\"color: Reset;background-color: Reset;\">▒</span><span style=\"color: Reset;background-color: Reset;\">▒</span><span style=\"color: Reset;background-color: Reset;\">▒</span><span style=\"color: Reset;background-color: Reset;\">▒</span><span style=\"color: Reset;background-color: Reset;\">▒</span><span style=\"color: Reset;background-color: Reset;\">▒</span><span style=\"color: Reset;background-color: Reset;\">▒</span><span style=\"color: Reset;background-color: Reset;\">▒</span><span style=\"color: Reset;background-color: Reset;\">▒</span><span style=\"color: Reset;background-color: Reset;\">▒</span><span style=\"color: Reset;background-color: Reset;\">▒</span><span style=\"color: Reset;background-color: Reset;\">▒</span><span style=\"color: Reset;background-color: Reset;\">▒</span><span style=\"color: Reset;background-color: Reset;\">▒</span><span style=\"color: Reset;background-color: Reset;\">▒</span><span style=\"color: Reset;background-color: Reset;\">▒</span><span style=\"color: Reset;background-color: Reset;\">▒</span><span style=\"color: Reset;background-color: Reset;\">▒</span><span style=\"color: Reset;background-color: Reset;\">▒</span><span style=\"color: Reset;background-color: Reset;\">▒</span><span style=\"color: Reset;background-color: Reset;\">▒</span><span style=\"color: Reset;background-color: Reset;\">▒</span><span style=\"color: Reset;background-color: Reset;\">▒</span><span style=\"color: Reset;background-color: Reset;\">▒</span><span style=\"color: Reset;background-color: Reset;\">▒</span><span style=\"color: Reset;background-color: Reset;\">▒</span><span style=\"color: Reset;background-color: Reset;\">▒</span><span style=\"color: Reset;background-color: Reset;\">▒</span><span style=\"color: Reset;background-color: Reset;\">▒</span><span style=\"color: Reset;background-color: Reset;\">▒</span><span style=\"color: Reset;background-color: Reset;\">▒</span><span style=\"color: Reset;background-color: Reset;\">▒</span><span style=\"color: Reset;background-color: Reset;\">▒</span><span style=\"color: Reset;background-color: Reset;\">▒</span><span style=\"color: Reset;background-color: Reset;\">▒</span><span style=\"color: Reset;background-color: Reset;\">▒</span><span style=\"color: Reset;background-color: Reset;\">▒</span><span style=\"color: Reset;background-color: Reset;\">▒</span><span style=\"color: Reset;background-color: Reset;\">▒</span><span style=\"color: Reset;background-color: Reset;\">▒</span><span style=\"color: Reset;background-color: Reset;\">▒</span><span style=\"color: Reset;background-color: Reset;\">▒</span><span style=\"color: Reset;background-color: Reset;\">▒</span><span style=\"color: Reset;background-color: Reset;\">▒</span><span style=\"color: Reset;background-color: Reset;\">▒</span><span style=\"color: Reset;background-color: Reset;\">▒</span>\n",
       "<span style=\"color: Reset;background-color: Reset;\">▒</span><span style=\"color: Reset;background-color: Reset;\">▒</span><span style=\"color: Reset;background-color: Reset;\">▒</span><span style=\"color: Reset;background-color: Reset;\">▒</span><span style=\"color: Reset;background-color: Reset;\">▒</span><span style=\"color: Reset;background-color: Reset;\">▒</span><span style=\"color: Reset;background-color: Reset;\">▒</span><span style=\"color: Reset;background-color: Reset;\">▒</span><span style=\"color: Reset;background-color: Reset;\">▒</span><span style=\"color: Reset;background-color: Reset;\">▒</span><span style=\"color: Reset;background-color: Reset;\">▒</span><span style=\"color: Reset;background-color: Reset;\">▒</span><span style=\"color: Reset;background-color: Reset;\">▒</span><span style=\"color: Reset;background-color: Reset;\">▒</span><span style=\"color: Reset;background-color: Reset;\">▒</span><span style=\"color: Reset;background-color: Reset;\">▒</span><span style=\"color: Reset;background-color: Reset;\">▒</span><span style=\"color: Reset;background-color: Reset;\">▒</span><span style=\"color: Reset;background-color: Reset;\">▒</span><span style=\"color: Reset;background-color: Reset;\">▒</span><span style=\"color: Reset;background-color: Reset;\">▒</span><span style=\"color: Reset;background-color: Reset;\">▒</span><span style=\"color: Reset;background-color: Reset;\">▒</span><span style=\"color: Reset;background-color: Reset;\">▒</span><span style=\"color: Reset;background-color: Reset;\">▒</span><span style=\"color: Reset;background-color: Reset;\">▒</span><span style=\"color: Reset;background-color: Reset;\">▒</span><span style=\"color: Reset;background-color: Reset;\">▒</span><span style=\"color: Reset;background-color: Reset;\">▒</span><span style=\"color: Reset;background-color: Reset;\">▒</span><span style=\"color: Reset;background-color: Reset;\">▒</span><span style=\"color: Reset;background-color: Reset;\">▒</span><span style=\"color: Reset;background-color: Reset;\">▒</span><span style=\"color: Reset;background-color: Reset;\">▒</span><span style=\"color: Reset;background-color: Reset;\">▒</span><span style=\"color: Reset;background-color: Reset;\">▒</span><span style=\"color: Reset;background-color: Reset;\">▒</span><span style=\"color: Reset;background-color: Reset;\">▒</span><span style=\"color: Reset;background-color: Reset;\">▒</span><span style=\"color: Reset;background-color: Reset;\">▒</span><span style=\"color: Reset;background-color: Reset;\">▒</span><span style=\"color: Reset;background-color: Reset;\">▒</span><span style=\"color: Reset;background-color: Reset;\">▒</span><span style=\"color: Reset;background-color: Reset;\">▒</span><span style=\"color: Reset;background-color: Reset;\">▒</span><span style=\"color: Reset;background-color: Reset;\">▒</span><span style=\"color: Reset;background-color: Reset;\">▒</span><span style=\"color: Reset;background-color: Reset;\">▒</span><span style=\"color: Reset;background-color: Reset;\">▒</span><span style=\"color: Reset;background-color: Reset;\">▒</span><span style=\"color: Reset;background-color: Reset;\">▒</span><span style=\"color: Reset;background-color: Reset;\">▒</span><span style=\"color: Reset;background-color: Reset;\">▒</span><span style=\"color: Reset;background-color: Reset;\">▒</span><span style=\"color: Reset;background-color: Reset;\">▒</span><span style=\"color: Reset;background-color: Reset;\">▒</span><span style=\"color: Reset;background-color: Reset;\">▒</span><span style=\"color: Reset;background-color: Reset;\">▒</span><span style=\"color: Reset;background-color: Reset;\">▒</span><span style=\"color: Reset;background-color: Reset;\">▒</span><span style=\"color: Reset;background-color: Reset;\">▒</span><span style=\"color: Reset;background-color: Reset;\">▒</span><span style=\"color: Reset;background-color: Reset;\">▒</span><span style=\"color: Reset;background-color: Reset;\">▒</span><span style=\"color: Reset;background-color: Reset;\">▒</span><span style=\"color: Reset;background-color: Reset;\">▒</span><span style=\"color: Reset;background-color: Reset;\">▒</span><span style=\"color: Reset;background-color: Reset;\">▒</span><span style=\"color: Reset;background-color: Reset;\">▒</span><span style=\"color: Reset;background-color: Reset;\">▒</span><span style=\"color: Reset;background-color: Reset;\">▒</span><span style=\"color: Reset;background-color: Reset;\">▒</span><span style=\"color: Reset;background-color: Reset;\">▒</span><span style=\"color: Reset;background-color: Reset;\">▒</span><span style=\"color: Reset;background-color: Reset;\">▒</span><span style=\"color: Reset;background-color: Reset;\">▒</span><span style=\"color: Reset;background-color: Reset;\">▒</span><span style=\"color: Reset;background-color: Reset;\">▒</span><span style=\"color: Reset;background-color: Reset;\">▒</span><span style=\"color: Reset;background-color: Reset;\">▒</span>\n",
       "<span style=\"color: Reset;background-color: Reset;\">▒</span><span style=\"color: Reset;background-color: Reset;\">▒</span><span style=\"color: Reset;background-color: Reset;\">▒</span><span style=\"color: Reset;background-color: Reset;\">▒</span><span style=\"color: Reset;background-color: Reset;\">▒</span><span style=\"color: Reset;background-color: Reset;\">▒</span><span style=\"color: Reset;background-color: Reset;\">▒</span><span style=\"color: Reset;background-color: Reset;\">▒</span><span style=\"color: Reset;background-color: Reset;\">▒</span><span style=\"color: Reset;background-color: Reset;\">▒</span><span style=\"color: Reset;background-color: Reset;\">▒</span><span style=\"color: Reset;background-color: Reset;\">▒</span><span style=\"color: Reset;background-color: Reset;\">▒</span><span style=\"color: Reset;background-color: Reset;\">▒</span><span style=\"color: Reset;background-color: Reset;\">▒</span><span style=\"color: Reset;background-color: Reset;\">▒</span><span style=\"color: Reset;background-color: Reset;\">▒</span><span style=\"color: Reset;background-color: Reset;\">▒</span><span style=\"color: Reset;background-color: Reset;\">▒</span><span style=\"color: Reset;background-color: Reset;\">▒</span><span style=\"color: Reset;background-color: Reset;\">▒</span><span style=\"color: Reset;background-color: Reset;\">▒</span><span style=\"color: Reset;background-color: Reset;\">▒</span><span style=\"color: Reset;background-color: Reset;\">▒</span><span style=\"color: Reset;background-color: Reset;\">▒</span><span style=\"color: Reset;background-color: Reset;\">▒</span><span style=\"color: Reset;background-color: Reset;\">▒</span><span style=\"color: Reset;background-color: Reset;\">▒</span><span style=\"color: Reset;background-color: Reset;\">▒</span><span style=\"color: Reset;background-color: Reset;\">▒</span><span style=\"color: Reset;background-color: Reset;\">▒</span><span style=\"color: Reset;background-color: Reset;\">▒</span><span style=\"color: Reset;background-color: Reset;\">▒</span><span style=\"color: Reset;background-color: Reset;\">▒</span><span style=\"color: Reset;background-color: Reset;\">▒</span><span style=\"color: Reset;background-color: Reset;\">▒</span><span style=\"color: Reset;background-color: Reset;\">▒</span><span style=\"color: Reset;background-color: Reset;\">▒</span><span style=\"color: Reset;background-color: Reset;\">▒</span><span style=\"color: Reset;background-color: Reset;\">▒</span><span style=\"color: Reset;background-color: Reset;\">▒</span><span style=\"color: Reset;background-color: Reset;\">▒</span><span style=\"color: Reset;background-color: Reset;\">▒</span><span style=\"color: Reset;background-color: Reset;\">▒</span><span style=\"color: Reset;background-color: Reset;\">▒</span><span style=\"color: Reset;background-color: Reset;\">▒</span><span style=\"color: Reset;background-color: Reset;\">▒</span><span style=\"color: Reset;background-color: Reset;\">▒</span><span style=\"color: Reset;background-color: Reset;\">▒</span><span style=\"color: Reset;background-color: Reset;\">▒</span><span style=\"color: Reset;background-color: Reset;\">▒</span><span style=\"color: Reset;background-color: Reset;\">▒</span><span style=\"color: Reset;background-color: Reset;\">▒</span><span style=\"color: Reset;background-color: Reset;\">▒</span><span style=\"color: Reset;background-color: Reset;\">▒</span><span style=\"color: Reset;background-color: Reset;\">▒</span><span style=\"color: Reset;background-color: Reset;\">▒</span><span style=\"color: Reset;background-color: Reset;\">▒</span><span style=\"color: Reset;background-color: Reset;\">▒</span><span style=\"color: Reset;background-color: Reset;\">▒</span><span style=\"color: Reset;background-color: Reset;\">▒</span><span style=\"color: Reset;background-color: Reset;\">▒</span><span style=\"color: Reset;background-color: Reset;\">▒</span><span style=\"color: Reset;background-color: Reset;\">▒</span><span style=\"color: Reset;background-color: Reset;\">▒</span><span style=\"color: Reset;background-color: Reset;\">▒</span><span style=\"color: Reset;background-color: Reset;\">▒</span><span style=\"color: Reset;background-color: Reset;\">▒</span><span style=\"color: Reset;background-color: Reset;\">▒</span><span style=\"color: Reset;background-color: Reset;\">▒</span><span style=\"color: Reset;background-color: Reset;\">▒</span><span style=\"color: Reset;background-color: Reset;\">▒</span><span style=\"color: Reset;background-color: Reset;\">▒</span><span style=\"color: Reset;background-color: Reset;\">▒</span><span style=\"color: Reset;background-color: Reset;\">▒</span><span style=\"color: Reset;background-color: Reset;\">▒</span><span style=\"color: Reset;background-color: Reset;\">▒</span><span style=\"color: Reset;background-color: Reset;\">▒</span><span style=\"color: Reset;background-color: Reset;\">▒</span><span style=\"color: Reset;background-color: Reset;\">▒</span>\n",
       "<span style=\"color: Reset;background-color: Reset;\">▒</span><span style=\"color: Reset;background-color: Reset;\">▒</span><span style=\"color: Reset;background-color: Reset;\">▒</span><span style=\"color: Reset;background-color: Reset;\">▒</span><span style=\"color: Reset;background-color: Reset;\">▒</span><span style=\"color: Reset;background-color: Reset;\">▒</span><span style=\"color: Reset;background-color: Reset;\">▒</span><span style=\"color: Reset;background-color: Reset;\">▒</span><span style=\"color: Reset;background-color: Reset;\">▒</span><span style=\"color: Reset;background-color: Reset;\">▒</span><span style=\"color: Reset;background-color: Reset;\">▒</span><span style=\"color: Reset;background-color: Reset;\">▒</span><span style=\"color: Reset;background-color: Reset;\">▒</span><span style=\"color: Reset;background-color: Reset;\">▒</span><span style=\"color: Reset;background-color: Reset;\">▒</span><span style=\"color: Reset;background-color: Reset;\">▒</span><span style=\"color: Reset;background-color: Reset;\">▒</span><span style=\"color: Reset;background-color: Reset;\">▒</span><span style=\"color: Reset;background-color: Reset;\">▒</span><span style=\"color: Reset;background-color: Reset;\">▒</span><span style=\"color: Reset;background-color: Reset;\">▒</span><span style=\"color: Reset;background-color: Reset;\">▒</span><span style=\"color: Reset;background-color: Reset;\">▒</span><span style=\"color: Reset;background-color: Reset;\">▒</span><span style=\"color: Reset;background-color: Reset;\">▒</span><span style=\"color: Reset;background-color: Reset;\">▒</span><span style=\"color: Reset;background-color: Reset;\">▒</span><span style=\"color: Reset;background-color: Reset;\">▒</span><span style=\"color: Reset;background-color: Reset;\">▒</span><span style=\"color: Reset;background-color: Reset;\">▒</span><span style=\"color: Reset;background-color: Reset;\">▒</span><span style=\"color: Reset;background-color: Reset;\">▒</span><span style=\"color: Reset;background-color: Reset;\">▒</span><span style=\"color: Reset;background-color: Reset;\">▒</span><span style=\"color: Reset;background-color: Reset;\">▒</span><span style=\"color: Reset;background-color: Reset;\">▒</span><span style=\"color: Reset;background-color: Reset;\">▒</span><span style=\"color: Reset;background-color: Reset;\">▒</span><span style=\"color: Reset;background-color: Reset;\">▒</span><span style=\"color: Reset;background-color: Reset;\">▒</span><span style=\"color: Reset;background-color: Reset;\">▒</span><span style=\"color: Reset;background-color: Reset;\">▒</span><span style=\"color: Reset;background-color: Reset;\">▒</span><span style=\"color: Reset;background-color: Reset;\">▒</span><span style=\"color: Reset;background-color: Reset;\">▒</span><span style=\"color: Reset;background-color: Reset;\">▒</span><span style=\"color: Reset;background-color: Reset;\">▒</span><span style=\"color: Reset;background-color: Reset;\">▒</span><span style=\"color: Reset;background-color: Reset;\">▒</span><span style=\"color: Reset;background-color: Reset;\">▒</span><span style=\"color: Reset;background-color: Reset;\">▒</span><span style=\"color: Reset;background-color: Reset;\">▒</span><span style=\"color: Reset;background-color: Reset;\">▒</span><span style=\"color: Reset;background-color: Reset;\">▒</span><span style=\"color: Reset;background-color: Reset;\">▒</span><span style=\"color: Reset;background-color: Reset;\">▒</span><span style=\"color: Reset;background-color: Reset;\">▒</span><span style=\"color: Reset;background-color: Reset;\">▒</span><span style=\"color: Reset;background-color: Reset;\">▒</span><span style=\"color: Reset;background-color: Reset;\">▒</span><span style=\"color: Reset;background-color: Reset;\">▒</span><span style=\"color: Reset;background-color: Reset;\">▒</span><span style=\"color: Reset;background-color: Reset;\">▒</span><span style=\"color: Reset;background-color: Reset;\">▒</span><span style=\"color: Reset;background-color: Reset;\">▒</span><span style=\"color: Reset;background-color: Reset;\">▒</span><span style=\"color: Reset;background-color: Reset;\">▒</span><span style=\"color: Reset;background-color: Reset;\">▒</span><span style=\"color: Reset;background-color: Reset;\">▒</span><span style=\"color: Reset;background-color: Reset;\">▒</span><span style=\"color: Reset;background-color: Reset;\">▒</span><span style=\"color: Reset;background-color: Reset;\">▒</span><span style=\"color: Reset;background-color: Reset;\">▒</span><span style=\"color: Reset;background-color: Reset;\">▒</span><span style=\"color: Reset;background-color: Reset;\">▒</span><span style=\"color: Reset;background-color: Reset;\">▒</span><span style=\"color: Reset;background-color: Reset;\">▒</span><span style=\"color: Reset;background-color: Reset;\">▒</span><span style=\"color: Reset;background-color: Reset;\">▒</span><span style=\"color: Reset;background-color: Reset;\">▒</span>\n",
       "</code></pre>\n",
       "</div>"
      ]
     },
     "execution_count": 40,
     "metadata": {},
     "output_type": "execute_result"
    }
   ],
   "source": [
    "let backend = ratatui::backend::TestBackend::new(80, 5);\n",
    "let mut terminal = ratatui::terminal::Terminal::new(backend).unwrap();\n",
    "terminal.draw(|frame| {\n",
    "    let area = frame.size();\n",
    "    let mut buffer = frame.buffer_mut();\n",
    "\n",
    "    Hatcher.render(area, &mut buffer);\n",
    "\n",
    "    show_html(buffer_to_html(buffer));\n",
    "});"
   ]
  },
  {
   "cell_type": "markdown",
   "id": "fba4107c-2079-4c67-8966-817484a46363",
   "metadata": {},
   "source": [
    "Rendering multiple widgets renders to the buffer in the order they are called, and hence latter `render` calls can overwrite earlier `render`s."
   ]
  },
  {
   "cell_type": "code",
   "execution_count": 43,
   "id": "c34a2c55-c23c-44d5-b0f5-beaaf32db8ba",
   "metadata": {
    "execution": {
     "iopub.execute_input": "2024-05-23T05:17:14.729988+00:00",
     "iopub.status.busy": "2024-05-23T05:17:14.729784+00:00",
     "iopub.status.idle": "2024-05-23T05:17:14.729939+00:00",
     "shell.execute_reply": "2024-05-23T05:17:15.299206+00:00"
    }
   },
   "outputs": [
    {
     "data": {
      "text/html": [
       "<div style=\"display: flex; justify-content:start; gap: 1em; margin: 1em\">\n",
       "<pre><code><span style=\"color: Reset;background-color: Reset;\">▒</span><span style=\"color: Reset;background-color: Reset;\">▒</span><span style=\"color: Reset;background-color: Reset;\">▒</span><span style=\"color: Reset;background-color: Reset;\">▒</span><span style=\"color: Reset;background-color: Reset;\">▒</span><span style=\"color: Reset;background-color: Reset;\">▒</span><span style=\"color: Reset;background-color: Reset;\">▒</span><span style=\"color: Reset;background-color: Reset;\">▒</span><span style=\"color: Reset;background-color: Reset;\">▒</span><span style=\"color: Reset;background-color: Reset;\">▒</span><span style=\"color: Reset;background-color: Reset;\">▒</span><span style=\"color: Reset;background-color: Reset;\">▒</span><span style=\"color: Reset;background-color: Reset;\">▒</span><span style=\"color: Reset;background-color: Reset;\">▒</span><span style=\"color: Reset;background-color: Reset;\">▒</span><span style=\"color: Reset;background-color: Reset;\">▒</span><span style=\"color: Reset;background-color: Reset;\">▒</span><span style=\"color: Reset;background-color: Reset;\">▒</span><span style=\"color: Reset;background-color: Reset;\">▒</span><span style=\"color: Reset;background-color: Reset;\">▒</span><span style=\"color: Reset;background-color: Reset;\">▒</span><span style=\"color: Reset;background-color: Reset;\">▒</span><span style=\"color: Reset;background-color: Reset;\">▒</span><span style=\"color: Reset;background-color: Reset;\">▒</span><span style=\"color: Reset;background-color: Reset;\">▒</span><span style=\"color: Reset;background-color: Reset;\">▒</span><span style=\"color: Reset;background-color: Reset;\">▒</span><span style=\"color: Reset;background-color: Reset;\">▒</span><span style=\"color: Reset;background-color: Reset;\">▒</span><span style=\"color: Reset;background-color: Reset;\">▒</span><span style=\"color: Reset;background-color: Reset;\">▒</span><span style=\"color: Reset;background-color: Reset;\">▒</span><span style=\"color: Reset;background-color: Reset;\">▒</span><span style=\"color: Reset;background-color: Reset;\">▒</span><span style=\"color: Reset;background-color: Reset;\">▒</span><span style=\"color: Reset;background-color: Reset;\">▒</span><span style=\"color: Reset;background-color: Reset;\">▒</span><span style=\"color: Reset;background-color: Reset;\">▒</span><span style=\"color: Reset;background-color: Reset;\">▒</span><span style=\"color: Reset;background-color: Reset;\">▒</span><span style=\"color: Reset;background-color: Reset;\">▒</span><span style=\"color: Reset;background-color: Reset;\">▒</span><span style=\"color: Reset;background-color: Reset;\">▒</span><span style=\"color: Reset;background-color: Reset;\">▒</span><span style=\"color: Reset;background-color: Reset;\">▒</span><span style=\"color: Reset;background-color: Reset;\">▒</span><span style=\"color: Reset;background-color: Reset;\">▒</span><span style=\"color: Reset;background-color: Reset;\">▒</span><span style=\"color: Reset;background-color: Reset;\">▒</span><span style=\"color: Reset;background-color: Reset;\">▒</span><span style=\"color: Reset;background-color: Reset;\">▒</span><span style=\"color: Reset;background-color: Reset;\">▒</span><span style=\"color: Reset;background-color: Reset;\">▒</span><span style=\"color: Reset;background-color: Reset;\">▒</span><span style=\"color: Reset;background-color: Reset;\">▒</span><span style=\"color: Reset;background-color: Reset;\">▒</span><span style=\"color: Reset;background-color: Reset;\">▒</span><span style=\"color: Reset;background-color: Reset;\">▒</span><span style=\"color: Reset;background-color: Reset;\">▒</span><span style=\"color: Reset;background-color: Reset;\">▒</span><span style=\"color: Reset;background-color: Reset;\">▒</span><span style=\"color: Reset;background-color: Reset;\">▒</span><span style=\"color: Reset;background-color: Reset;\">▒</span><span style=\"color: Reset;background-color: Reset;\">▒</span><span style=\"color: Reset;background-color: Reset;\">▒</span><span style=\"color: Reset;background-color: Reset;\">▒</span><span style=\"color: Reset;background-color: Reset;\">▒</span><span style=\"color: Reset;background-color: Reset;\">▒</span><span style=\"color: Reset;background-color: Reset;\">▒</span><span style=\"color: Reset;background-color: Reset;\">▒</span><span style=\"color: Reset;background-color: Reset;\">▒</span><span style=\"color: Reset;background-color: Reset;\">▒</span><span style=\"color: Reset;background-color: Reset;\">▒</span><span style=\"color: Reset;background-color: Reset;\">▒</span><span style=\"color: Reset;background-color: Reset;\">▒</span><span style=\"color: Reset;background-color: Reset;\">▒</span><span style=\"color: Reset;background-color: Reset;\">▒</span><span style=\"color: Reset;background-color: Reset;\">▒</span><span style=\"color: Reset;background-color: Reset;\">▒</span><span style=\"color: Reset;background-color: Reset;\">▒</span>\n",
       "<span style=\"color: Reset;background-color: Reset;\">▒</span><span style=\"color: Reset;background-color: Reset;\">▒</span><span style=\"color: Reset;background-color: Reset;\">▒</span><span style=\"color: Reset;background-color: Reset;\">▒</span><span style=\"color: Reset;background-color: Reset;\">▒</span><span style=\"color: Reset;background-color: Reset;\">▒</span><span style=\"color: Reset;background-color: Reset;\">▒</span><span style=\"color: Reset;background-color: Reset;\">▒</span><span style=\"color: Reset;background-color: Reset;\">▒</span><span style=\"color: Reset;background-color: Reset;\">▒</span><span style=\"color: Reset;background-color: Reset;\">▒</span><span style=\"color: Reset;background-color: Reset;\">▒</span><span style=\"color: Reset;background-color: Reset;\">▒</span><span style=\"color: Reset;background-color: Reset;\">▒</span><span style=\"color: Reset;background-color: Reset;\">▒</span><span style=\"color: Reset;background-color: Reset;\">▒</span><span style=\"color: Reset;background-color: Reset;\">▒</span><span style=\"color: Reset;background-color: Reset;\">▒</span><span style=\"color: Reset;background-color: Reset;\">▒</span><span style=\"color: Reset;background-color: Reset;\">▒</span><span style=\"color: Reset;background-color: Reset;\">▒</span><span style=\"color: Reset;background-color: Reset;\">▒</span><span style=\"color: Reset;background-color: Reset;\">▒</span><span style=\"color: Reset;background-color: Reset;\">▒</span><span style=\"color: Reset;background-color: Reset;\">▒</span><span style=\"color: Reset;background-color: Reset;\">▒</span><span style=\"color: Reset;background-color: Reset;\">▒</span><span style=\"color: Reset;background-color: Reset;\">▒</span><span style=\"color: Reset;background-color: Reset;\">▒</span><span style=\"color: Reset;background-color: Reset;\">▒</span><span style=\"color: Reset;background-color: Reset;\">▒</span><span style=\"color: Reset;background-color: Reset;\">▒</span><span style=\"color: Reset;background-color: Reset;\">▒</span><span style=\"color: Reset;background-color: Reset;\">▒</span><span style=\"color: Reset;background-color: Reset;\">▒</span><span style=\"color: Reset;background-color: Reset;\">▒</span><span style=\"color: Reset;background-color: Reset;\">▒</span><span style=\"color: Reset;background-color: Reset;\">▒</span><span style=\"color: Reset;background-color: Reset;\">▒</span><span style=\"color: Reset;background-color: Reset;\">▒</span><span style=\"color: Reset;background-color: Reset;\">▒</span><span style=\"color: Reset;background-color: Reset;\">▒</span><span style=\"color: Reset;background-color: Reset;\">▒</span><span style=\"color: Reset;background-color: Reset;\">▒</span><span style=\"color: Reset;background-color: Reset;\">▒</span><span style=\"color: Reset;background-color: Reset;\">▒</span><span style=\"color: Reset;background-color: Reset;\">▒</span><span style=\"color: Reset;background-color: Reset;\">▒</span><span style=\"color: Reset;background-color: Reset;\">▒</span><span style=\"color: Reset;background-color: Reset;\">▒</span><span style=\"color: Reset;background-color: Reset;\">▒</span><span style=\"color: Reset;background-color: Reset;\">▒</span><span style=\"color: Reset;background-color: Reset;\">▒</span><span style=\"color: Reset;background-color: Reset;\">▒</span><span style=\"color: Reset;background-color: Reset;\">▒</span><span style=\"color: Reset;background-color: Reset;\">▒</span><span style=\"color: Reset;background-color: Reset;\">▒</span><span style=\"color: Reset;background-color: Reset;\">▒</span><span style=\"color: Reset;background-color: Reset;\">▒</span><span style=\"color: Reset;background-color: Reset;\">▒</span><span style=\"color: Reset;background-color: Reset;\">▒</span><span style=\"color: Reset;background-color: Reset;\">▒</span><span style=\"color: Reset;background-color: Reset;\">▒</span><span style=\"color: Reset;background-color: Reset;\">▒</span><span style=\"color: Reset;background-color: Reset;\">▒</span><span style=\"color: Reset;background-color: Reset;\">▒</span><span style=\"color: Reset;background-color: Reset;\">▒</span><span style=\"color: Reset;background-color: Reset;\">▒</span><span style=\"color: Reset;background-color: Reset;\">▒</span><span style=\"color: Reset;background-color: Reset;\">▒</span><span style=\"color: Reset;background-color: Reset;\">▒</span><span style=\"color: Reset;background-color: Reset;\">▒</span><span style=\"color: Reset;background-color: Reset;\">▒</span><span style=\"color: Reset;background-color: Reset;\">▒</span><span style=\"color: Reset;background-color: Reset;\">▒</span><span style=\"color: Reset;background-color: Reset;\">▒</span><span style=\"color: Reset;background-color: Reset;\">▒</span><span style=\"color: Reset;background-color: Reset;\">▒</span><span style=\"color: Reset;background-color: Reset;\">▒</span><span style=\"color: Reset;background-color: Reset;\">▒</span>\n",
       "<span style=\"color: Reset;background-color: Reset;\">▒</span><span style=\"color: Reset;background-color: Reset;\">▒</span><span style=\"color: Reset;background-color: Reset;\">▒</span><span style=\"color: Reset;background-color: Reset;\">▒</span><span style=\"color: Reset;background-color: Reset;\">▒</span><span style=\"color: Reset;background-color: Reset;\">▒</span><span style=\"color: Reset;background-color: Reset;\">▒</span><span style=\"color: Reset;background-color: Reset;\">▒</span><span style=\"color: Reset;background-color: Reset;\">▒</span><span style=\"color: Reset;background-color: Reset;\">▒</span><span style=\"color: Reset;background-color: Reset;\">▒</span><span style=\"color: Reset;background-color: Reset;\">▒</span><span style=\"color: Reset;background-color: Reset;\">▒</span><span style=\"color: Reset;background-color: Reset;\">▒</span><span style=\"color: Reset;background-color: Reset;\">▒</span><span style=\"color: Reset;background-color: Reset;\">T</span><span style=\"color: Reset;background-color: Reset;\">h</span><span style=\"color: Reset;background-color: Reset;\">e</span><span style=\"color: Reset;background-color: Reset;\"> </span><span style=\"color: Reset;background-color: Reset;\">q</span><span style=\"color: Reset;background-color: Reset;\">u</span><span style=\"color: Reset;background-color: Reset;\">i</span><span style=\"color: Reset;background-color: Reset;\">c</span><span style=\"color: Reset;background-color: Reset;\">k</span><span style=\"color: Reset;background-color: Reset;\"> </span><span style=\"color: Reset;background-color: Reset;\">b</span><span style=\"color: Reset;background-color: Reset;\">r</span><span style=\"color: Reset;background-color: Reset;\">o</span><span style=\"color: Reset;background-color: Reset;\">w</span><span style=\"color: Reset;background-color: Reset;\">n</span><span style=\"color: Reset;background-color: Reset;\"> </span><span style=\"color: Reset;background-color: Reset;\">f</span><span style=\"color: Reset;background-color: Reset;\">o</span><span style=\"color: Reset;background-color: Reset;\">x</span><span style=\"color: Reset;background-color: Reset;\"> </span><span style=\"color: Reset;background-color: Reset;\">j</span><span style=\"color: Reset;background-color: Reset;\">u</span><span style=\"color: Reset;background-color: Reset;\">m</span><span style=\"color: Reset;background-color: Reset;\">p</span><span style=\"color: Reset;background-color: Reset;\">s</span><span style=\"color: Reset;background-color: Reset;\"> </span><span style=\"color: Reset;background-color: Reset;\">o</span><span style=\"color: Reset;background-color: Reset;\">v</span><span style=\"color: Reset;background-color: Reset;\">e</span><span style=\"color: Reset;background-color: Reset;\">r</span><span style=\"color: Reset;background-color: Reset;\"> </span><span style=\"color: Reset;background-color: Reset;\">t</span><span style=\"color: Reset;background-color: Reset;\">h</span><span style=\"color: Reset;background-color: Reset;\">e</span><span style=\"color: Reset;background-color: Reset;\"> </span><span style=\"color: Reset;background-color: Reset;\">l</span><span style=\"color: Reset;background-color: Reset;\">a</span><span style=\"color: Reset;background-color: Reset;\">z</span><span style=\"color: Reset;background-color: Reset;\">y</span><span style=\"color: Reset;background-color: Reset;\"> </span><span style=\"color: Reset;background-color: Reset;\">d</span><span style=\"color: Reset;background-color: Reset;\">o</span><span style=\"color: Reset;background-color: Reset;\">g</span><span style=\"color: Reset;background-color: Reset;\"> </span><span style=\"color: Reset;background-color: Reset;\">-</span><span style=\"color: Reset;background-color: Reset;\"> </span><span style=\"color: Reset;background-color: Reset;\">2</span><span style=\"color: Reset;background-color: Reset;\">▒</span><span style=\"color: Reset;background-color: Reset;\">▒</span><span style=\"color: Reset;background-color: Reset;\">▒</span><span style=\"color: Reset;background-color: Reset;\">▒</span><span style=\"color: Reset;background-color: Reset;\">▒</span><span style=\"color: Reset;background-color: Reset;\">▒</span><span style=\"color: Reset;background-color: Reset;\">▒</span><span style=\"color: Reset;background-color: Reset;\">▒</span><span style=\"color: Reset;background-color: Reset;\">▒</span><span style=\"color: Reset;background-color: Reset;\">▒</span><span style=\"color: Reset;background-color: Reset;\">▒</span><span style=\"color: Reset;background-color: Reset;\">▒</span><span style=\"color: Reset;background-color: Reset;\">▒</span><span style=\"color: Reset;background-color: Reset;\">▒</span><span style=\"color: Reset;background-color: Reset;\">▒</span><span style=\"color: Reset;background-color: Reset;\">▒</span><span style=\"color: Reset;background-color: Reset;\">▒</span><span style=\"color: Reset;background-color: Reset;\">▒</span>\n",
       "<span style=\"color: Reset;background-color: Reset;\">▒</span><span style=\"color: Reset;background-color: Reset;\">▒</span><span style=\"color: Reset;background-color: Reset;\">▒</span><span style=\"color: Reset;background-color: Reset;\">▒</span><span style=\"color: Reset;background-color: Reset;\">▒</span><span style=\"color: Reset;background-color: Reset;\">▒</span><span style=\"color: Reset;background-color: Reset;\">▒</span><span style=\"color: Reset;background-color: Reset;\">▒</span><span style=\"color: Reset;background-color: Reset;\">▒</span><span style=\"color: Reset;background-color: Reset;\">▒</span><span style=\"color: Reset;background-color: Reset;\">▒</span><span style=\"color: Reset;background-color: Reset;\">▒</span><span style=\"color: Reset;background-color: Reset;\">▒</span><span style=\"color: Reset;background-color: Reset;\">▒</span><span style=\"color: Reset;background-color: Reset;\">▒</span><span style=\"color: Reset;background-color: Reset;\">▒</span><span style=\"color: Reset;background-color: Reset;\">▒</span><span style=\"color: Reset;background-color: Reset;\">▒</span><span style=\"color: Reset;background-color: Reset;\">▒</span><span style=\"color: Reset;background-color: Reset;\">▒</span><span style=\"color: Reset;background-color: Reset;\">▒</span><span style=\"color: Reset;background-color: Reset;\">▒</span><span style=\"color: Reset;background-color: Reset;\">▒</span><span style=\"color: Reset;background-color: Reset;\">▒</span><span style=\"color: Reset;background-color: Reset;\">▒</span><span style=\"color: Reset;background-color: Reset;\">▒</span><span style=\"color: Reset;background-color: Reset;\">▒</span><span style=\"color: Reset;background-color: Reset;\">▒</span><span style=\"color: Reset;background-color: Reset;\">▒</span><span style=\"color: Reset;background-color: Reset;\">▒</span><span style=\"color: Reset;background-color: Reset;\">▒</span><span style=\"color: Reset;background-color: Reset;\">▒</span><span style=\"color: Reset;background-color: Reset;\">▒</span><span style=\"color: Reset;background-color: Reset;\">▒</span><span style=\"color: Reset;background-color: Reset;\">▒</span><span style=\"color: Reset;background-color: Reset;\">▒</span><span style=\"color: Reset;background-color: Reset;\">▒</span><span style=\"color: Reset;background-color: Reset;\">▒</span><span style=\"color: Reset;background-color: Reset;\">▒</span><span style=\"color: Reset;background-color: Reset;\">▒</span><span style=\"color: Reset;background-color: Reset;\">▒</span><span style=\"color: Reset;background-color: Reset;\">▒</span><span style=\"color: Reset;background-color: Reset;\">▒</span><span style=\"color: Reset;background-color: Reset;\">▒</span><span style=\"color: Reset;background-color: Reset;\">▒</span><span style=\"color: Reset;background-color: Reset;\">▒</span><span style=\"color: Reset;background-color: Reset;\">▒</span><span style=\"color: Reset;background-color: Reset;\">▒</span><span style=\"color: Reset;background-color: Reset;\">▒</span><span style=\"color: Reset;background-color: Reset;\">▒</span><span style=\"color: Reset;background-color: Reset;\">▒</span><span style=\"color: Reset;background-color: Reset;\">▒</span><span style=\"color: Reset;background-color: Reset;\">▒</span><span style=\"color: Reset;background-color: Reset;\">▒</span><span style=\"color: Reset;background-color: Reset;\">▒</span><span style=\"color: Reset;background-color: Reset;\">▒</span><span style=\"color: Reset;background-color: Reset;\">▒</span><span style=\"color: Reset;background-color: Reset;\">▒</span><span style=\"color: Reset;background-color: Reset;\">▒</span><span style=\"color: Reset;background-color: Reset;\">▒</span><span style=\"color: Reset;background-color: Reset;\">▒</span><span style=\"color: Reset;background-color: Reset;\">▒</span><span style=\"color: Reset;background-color: Reset;\">▒</span><span style=\"color: Reset;background-color: Reset;\">▒</span><span style=\"color: Reset;background-color: Reset;\">▒</span><span style=\"color: Reset;background-color: Reset;\">▒</span><span style=\"color: Reset;background-color: Reset;\">▒</span><span style=\"color: Reset;background-color: Reset;\">▒</span><span style=\"color: Reset;background-color: Reset;\">▒</span><span style=\"color: Reset;background-color: Reset;\">▒</span><span style=\"color: Reset;background-color: Reset;\">▒</span><span style=\"color: Reset;background-color: Reset;\">▒</span><span style=\"color: Reset;background-color: Reset;\">▒</span><span style=\"color: Reset;background-color: Reset;\">▒</span><span style=\"color: Reset;background-color: Reset;\">▒</span><span style=\"color: Reset;background-color: Reset;\">▒</span><span style=\"color: Reset;background-color: Reset;\">▒</span><span style=\"color: Reset;background-color: Reset;\">▒</span><span style=\"color: Reset;background-color: Reset;\">▒</span><span style=\"color: Reset;background-color: Reset;\">▒</span>\n",
       "<span style=\"color: Reset;background-color: Reset;\">▒</span><span style=\"color: Reset;background-color: Reset;\">▒</span><span style=\"color: Reset;background-color: Reset;\">▒</span><span style=\"color: Reset;background-color: Reset;\">▒</span><span style=\"color: Reset;background-color: Reset;\">▒</span><span style=\"color: Reset;background-color: Reset;\">▒</span><span style=\"color: Reset;background-color: Reset;\">▒</span><span style=\"color: Reset;background-color: Reset;\">▒</span><span style=\"color: Reset;background-color: Reset;\">▒</span><span style=\"color: Reset;background-color: Reset;\">▒</span><span style=\"color: Reset;background-color: Reset;\">▒</span><span style=\"color: Reset;background-color: Reset;\">▒</span><span style=\"color: Reset;background-color: Reset;\">▒</span><span style=\"color: Reset;background-color: Reset;\">▒</span><span style=\"color: Reset;background-color: Reset;\">▒</span><span style=\"color: Reset;background-color: Reset;\">▒</span><span style=\"color: Reset;background-color: Reset;\">▒</span><span style=\"color: Reset;background-color: Reset;\">▒</span><span style=\"color: Reset;background-color: Reset;\">▒</span><span style=\"color: Reset;background-color: Reset;\">▒</span><span style=\"color: Reset;background-color: Reset;\">▒</span><span style=\"color: Reset;background-color: Reset;\">▒</span><span style=\"color: Reset;background-color: Reset;\">▒</span><span style=\"color: Reset;background-color: Reset;\">▒</span><span style=\"color: Reset;background-color: Reset;\">▒</span><span style=\"color: Reset;background-color: Reset;\">▒</span><span style=\"color: Reset;background-color: Reset;\">▒</span><span style=\"color: Reset;background-color: Reset;\">▒</span><span style=\"color: Reset;background-color: Reset;\">▒</span><span style=\"color: Reset;background-color: Reset;\">▒</span><span style=\"color: Reset;background-color: Reset;\">▒</span><span style=\"color: Reset;background-color: Reset;\">▒</span><span style=\"color: Reset;background-color: Reset;\">▒</span><span style=\"color: Reset;background-color: Reset;\">▒</span><span style=\"color: Reset;background-color: Reset;\">▒</span><span style=\"color: Reset;background-color: Reset;\">▒</span><span style=\"color: Reset;background-color: Reset;\">▒</span><span style=\"color: Reset;background-color: Reset;\">▒</span><span style=\"color: Reset;background-color: Reset;\">▒</span><span style=\"color: Reset;background-color: Reset;\">▒</span><span style=\"color: Reset;background-color: Reset;\">▒</span><span style=\"color: Reset;background-color: Reset;\">▒</span><span style=\"color: Reset;background-color: Reset;\">▒</span><span style=\"color: Reset;background-color: Reset;\">▒</span><span style=\"color: Reset;background-color: Reset;\">▒</span><span style=\"color: Reset;background-color: Reset;\">▒</span><span style=\"color: Reset;background-color: Reset;\">▒</span><span style=\"color: Reset;background-color: Reset;\">▒</span><span style=\"color: Reset;background-color: Reset;\">▒</span><span style=\"color: Reset;background-color: Reset;\">▒</span><span style=\"color: Reset;background-color: Reset;\">▒</span><span style=\"color: Reset;background-color: Reset;\">▒</span><span style=\"color: Reset;background-color: Reset;\">▒</span><span style=\"color: Reset;background-color: Reset;\">▒</span><span style=\"color: Reset;background-color: Reset;\">▒</span><span style=\"color: Reset;background-color: Reset;\">▒</span><span style=\"color: Reset;background-color: Reset;\">▒</span><span style=\"color: Reset;background-color: Reset;\">▒</span><span style=\"color: Reset;background-color: Reset;\">▒</span><span style=\"color: Reset;background-color: Reset;\">▒</span><span style=\"color: Reset;background-color: Reset;\">▒</span><span style=\"color: Reset;background-color: Reset;\">▒</span><span style=\"color: Reset;background-color: Reset;\">▒</span><span style=\"color: Reset;background-color: Reset;\">▒</span><span style=\"color: Reset;background-color: Reset;\">▒</span><span style=\"color: Reset;background-color: Reset;\">▒</span><span style=\"color: Reset;background-color: Reset;\">▒</span><span style=\"color: Reset;background-color: Reset;\">▒</span><span style=\"color: Reset;background-color: Reset;\">▒</span><span style=\"color: Reset;background-color: Reset;\">▒</span><span style=\"color: Reset;background-color: Reset;\">▒</span><span style=\"color: Reset;background-color: Reset;\">▒</span><span style=\"color: Reset;background-color: Reset;\">▒</span><span style=\"color: Reset;background-color: Reset;\">▒</span><span style=\"color: Reset;background-color: Reset;\">▒</span><span style=\"color: Reset;background-color: Reset;\">▒</span><span style=\"color: Reset;background-color: Reset;\">▒</span><span style=\"color: Reset;background-color: Reset;\">▒</span><span style=\"color: Reset;background-color: Reset;\">▒</span><span style=\"color: Reset;background-color: Reset;\">▒</span>\n",
       "</code></pre>\n",
       "</div>"
      ]
     },
     "execution_count": 43,
     "metadata": {},
     "output_type": "execute_result"
    }
   ],
   "source": [
    "let backend = ratatui::backend::TestBackend::new(80, 5);\n",
    "let mut terminal = ratatui::terminal::Terminal::new(backend).unwrap();\n",
    "terminal.draw(|frame| {\n",
    "    let area = frame.size();\n",
    "    let mut buffer = frame.buffer_mut();\n",
    "\n",
    "    Hatcher.render(area, &mut buffer);\n",
    "\n",
    "    MyCustomWidget{ counter: 2 }.render(area, &mut buffer);\n",
    "\n",
    "    show_html(buffer_to_html(buffer));\n",
    "});"
   ]
  },
  {
   "cell_type": "markdown",
   "id": "2b4601b6-1f37-481e-8144-b8439f11bbdf",
   "metadata": {},
   "source": [
    "## StatefulWidget"
   ]
  },
  {
   "cell_type": "markdown",
   "id": "3f41e3c7-a5db-4050-a44b-419aa21665f9",
   "metadata": {},
   "source": [
    "Sometimes you want to store information that is only known during render for later use.\n",
    "For this, you can use a `StatefulWidget`:"
   ]
  },
  {
   "cell_type": "code",
   "execution_count": 56,
   "id": "767c51a3-c04c-4b64-85a5-76e705d14e4d",
   "metadata": {
    "execution": {
     "iopub.execute_input": "2024-05-23T05:23:17.057729+00:00",
     "iopub.status.busy": "2024-05-23T05:23:17.057542+00:00",
     "iopub.status.idle": "2024-05-23T05:23:17.057695+00:00",
     "shell.execute_reply": "2024-05-23T05:23:17.371707+00:00"
    }
   },
   "outputs": [],
   "source": [
    "use ratatui::widgets::StatefulWidget;\n",
    "\n",
    "#[derive(Default, Debug)]\n",
    "struct Data {\n",
    "    area: (usize, usize)\n",
    "}\n",
    "\n",
    "struct MyCustomWidgetWithState;\n",
    "\n",
    "impl StatefulWidget for MyCustomWidgetWithState {\n",
    "    type State = Data;\n",
    "    \n",
    "    fn render(self, area: ratatui::prelude::Rect, buf: &mut ratatui::prelude::Buffer, state: &mut Self::State) {\n",
    "        state.area = (area.width as usize, area.height as usize);\n",
    "    }\n",
    "}"
   ]
  },
  {
   "cell_type": "code",
   "execution_count": 66,
   "id": "4d0e1259-4e5e-43b8-99cb-47176ee13aaa",
   "metadata": {
    "execution": {
     "iopub.execute_input": "2024-05-23T05:24:32.370021+00:00",
     "iopub.status.busy": "2024-05-23T05:24:32.369919+00:00",
     "iopub.status.idle": "2024-05-23T05:24:32.369998+00:00",
     "shell.execute_reply": "2024-05-23T05:24:32.925396+00:00"
    }
   },
   "outputs": [
    {
     "name": "stdout",
     "output_type": "stream",
     "text": [
      "before: Data { area: (0, 0) }\n",
      "after: Data { area: (80, 5) }\n"
     ]
    }
   ],
   "source": [
    "let backend = ratatui::backend::TestBackend::new(80, 5);\n",
    "let mut terminal = ratatui::terminal::Terminal::new(backend).unwrap();\n",
    "\n",
    "let mut data = Data::default();\n",
    "\n",
    "println!(\"before: {:?}\", &data);\n",
    "\n",
    "terminal.draw(|frame| {\n",
    "    let area = frame.size();\n",
    "    let mut buffer = frame.buffer_mut();\n",
    "\n",
    "    MyCustomWidgetWithState.render(area, &mut buffer, &mut data);\n",
    "});\n",
    "\n",
    "println!(\"after: {:?}\", &data);"
   ]
  },
  {
   "cell_type": "code",
   "execution_count": null,
   "id": "3900fd09-d911-4cbf-b0ad-4360d180603d",
   "metadata": {},
   "outputs": [],
   "source": []
  },
  {
   "cell_type": "markdown",
   "id": "4670d851-89f6-41b5-8ab1-934da1ba1a95",
   "metadata": {},
   "source": [
    "## Conclusion"
   ]
  },
  {
   "cell_type": "markdown",
   "id": "4983556c-34e6-4ebf-93f1-29d09f881aaf",
   "metadata": {},
   "source": [
    "In these series of posts, we examined how Ratatui works under the hood. For more information, check out the official tutorials and documentation."
   ]
  },
  {
   "cell_type": "code",
   "execution_count": null,
   "id": "b6011123-57ba-444c-ad7b-d21f554a9739",
   "metadata": {},
   "outputs": [],
   "source": []
  },
  {
   "cell_type": "code",
   "execution_count": null,
   "id": "b3a7ccbc-e90a-459f-ba40-62977bb7648d",
   "metadata": {},
   "outputs": [],
   "source": []
  },
  {
   "cell_type": "code",
   "execution_count": null,
   "id": "3ddda790-b913-4641-9180-8bd1cc38734e",
   "metadata": {},
   "outputs": [],
   "source": []
  },
  {
   "cell_type": "code",
   "execution_count": null,
   "id": "b1965eb0-43a1-4701-b3ae-757ff66ab8fa",
   "metadata": {},
   "outputs": [],
   "source": []
  },
  {
   "cell_type": "code",
   "execution_count": null,
   "id": "ca4a46f6-013f-4ed7-9dd1-6f1b54ab4f74",
   "metadata": {},
   "outputs": [],
   "source": []
  }
 ],
 "metadata": {
  "kernelspec": {
   "display_name": "Rust",
   "language": "rust",
   "name": "rust"
  },
  "language_info": {
   "codemirror_mode": "rust",
   "file_extension": ".rs",
   "mimetype": "text/rust",
   "name": "Rust",
   "pygment_lexer": "rust",
   "version": ""
  },
  "widgets": {
   "application/vnd.jupyter.widget-state+json": {
    "state": {},
    "version_major": 2,
    "version_minor": 0
   }
  }
 },
 "nbformat": 4,
 "nbformat_minor": 5
}
